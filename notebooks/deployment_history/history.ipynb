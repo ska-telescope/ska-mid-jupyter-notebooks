{
 "cells": [
  {
   "cell_type": "code",
   "execution_count": 15,
   "metadata": {},
   "outputs": [],
   "source": [
    "import sys\n",
    "import time\n",
    "sys.path.append(\"../../notebook-execution-data\")\n",
    "import pathlib\n",
    "import pandas as pd\n",
    "import json\n",
    "\n",
    "\n",
    "def json_file_to_csv(json_file_path, csv_file_path):\n",
    "    # Read the JSON data from the file\n",
    "    with open(json_file_path, 'r') as json_file:\n",
    "        json_data = json.load(json_file)\n",
    "\n",
    "    # Load the JSON data into a pandas DataFrame\n",
    "    df = pd.json_normalize(json_data)\n",
    "    \n",
    "    # Write the DataFrame to a CSV file\n",
    "    df.to_csv(csv_file_path, index=False)\n",
    "\n",
    "json_path = pathlib.Path(\"/home/daveh/ska-mid-jupyter-notebooks/notebook-execution-data/configure_scan_for_commissioning/execution-20240827-1722/config-staging.json\")\n",
    "csv_path = pathlib.Path(\"/home/daveh/ska-mid-jupyter-notebooks/notebook-execution-data/configure_scan_for_commissioning/execution-20240827-1722/config-staging.csv\")\n",
    "json_file_to_csv(json_path,csv_path )\n"
   ]
  },
  {
   "cell_type": "code",
   "execution_count": 7,
   "metadata": {},
   "outputs": [],
   "source": [
    "import sys\n",
    "sys.path.append(\"../../notebook-execution-data\")"
   ]
  },
  {
   "cell_type": "code",
   "execution_count": 5,
   "metadata": {},
   "outputs": [
    {
     "name": "stdout",
     "output_type": "stream",
     "text": [
      "/home/daveh/ska-mid-jupyter-notebooks/notebooks/deployment_history\n"
     ]
    }
   ],
   "source": [
    "!pwd"
   ]
  }
 ],
 "metadata": {
  "kernelspec": {
   "display_name": ".venv",
   "language": "python",
   "name": "python3"
  },
  "language_info": {
   "codemirror_mode": {
    "name": "ipython",
    "version": 3
   },
   "file_extension": ".py",
   "mimetype": "text/x-python",
   "name": "python",
   "nbconvert_exporter": "python",
   "pygments_lexer": "ipython3",
   "version": "3.10.12"
  }
 },
 "nbformat": 4,
 "nbformat_minor": 2
}
