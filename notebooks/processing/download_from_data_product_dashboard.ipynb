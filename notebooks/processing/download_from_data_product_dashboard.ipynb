{
 "cells": [
  {
   "cell_type": "markdown",
   "metadata": {},
   "source": [
    "# This notebook is an example of downloading scan data from data product dashboards, and performing data processing to it."
   ]
  },
  {
   "cell_type": "markdown",
   "metadata": {},
   "source": [
    "### Import all essential modules."
   ]
  },
  {
   "cell_type": "code",
   "execution_count": null,
   "metadata": {
    "metadata": {}
   },
   "outputs": [],
   "source": [
    "import casacore\n",
    "import pandas as pd\n",
    "import requests"
   ]
  },
  {
   "cell_type": "markdown",
   "metadata": {},
   "source": [
    "### Request scan data product from data product dashboard."
   ]
  },
  {
   "cell_type": "code",
   "execution_count": null,
   "metadata": {},
   "outputs": [],
   "source": [
    "# Print data products execition blocks and optionally assign to pandas data frame.\n",
    "\n",
    "base_url = \"http://ska-sdp-dataproduct-dashboard-api-service.shared-ska-dataproducts:8000\"\n",
    "data = {\n",
    "    \"start_date\": \"2024-07-05\",\n",
    "    \"end_date\": \"2024-07-15\",\n",
    "    # or set a specific execution block below, instead of data ranges.\n",
    "    # \"key_value_pairs\": [\"execution_block:eb-test-20240715-00001\"],\n",
    "}\n",
    "\n",
    "response = requests.post(f\"{base_url}/dataproductsearch\", json=data)\n",
    "products = response.json()\n",
    "# Loading scan data to pandas data frame, one can use the line below:\n",
    "# df = pd.DataFrame.from_dict(products)\n",
    "for exec_block in products:\n",
    "    print(exec_block[\"execution_block\"])"
   ]
  },
  {
   "cell_type": "markdown",
   "metadata": {},
   "source": [
    "### Select one product and download it as a .tar file from the dashboard to the current local directory"
   ]
  },
  {
   "cell_type": "code",
   "execution_count": null,
   "metadata": {},
   "outputs": [],
   "source": [
    "product = products[0]\n",
    "data = {\"fileName\": product[\"dataproduct_file\"], \"relativePathName\": product[\"dataproduct_file\"]}\n",
    "response = requests.post(f\"{base_url}/download\", json=data)\n",
    "\n",
    "with open(\"product0.tar\", \"wb\") as file_data:\n",
    "    for chunk in response.iter_content(chunk_size=4096):\n",
    "        file_data.write(chunk)"
   ]
  },
  {
   "cell_type": "markdown",
   "metadata": {},
   "source": [
    "#### For more information on running this notebook. Please visit the confluence page \n",
    "https://confluence.skatelescope.org/display/SE/AT-2140+-+Jupyter+Notebook+test+data+storage+and+retrieval+using+Binderhub+instead+of+local+laptop"
   ]
  }
 ],
 "metadata": {
  "kernelspec": {
   "display_name": "venv",
   "language": "python",
   "name": "python3"
  },
  "language_info": {
   "codemirror_mode": {
    "name": "ipython",
    "version": 3
   },
   "file_extension": ".py",
   "mimetype": "text/x-python",
   "name": "python",
   "nbconvert_exporter": "python",
   "pygments_lexer": "ipython3",
   "version": "3.10.12"
  }
 },
 "nbformat": 4,
 "nbformat_minor": 2
}
