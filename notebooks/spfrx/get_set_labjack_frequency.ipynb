{
 "cells": [
  {
   "cell_type": "markdown",
   "metadata": {},
   "source": [
    "## For Getting and Setting the Labjack Frequency in the PSI\n",
    "- Leverages the MiniCircuitsSigGen.py script [from the Canadian NRC](https://gitlab.drao.nrc.ca/digital-systems/ska-spfrx/integration/spfrx-qualification-environment/-/blob/master/hal/instruments/MiniCircuitsSigGen.py?ref_type=heads)"
   ]
  },
  {
   "cell_type": "code",
   "execution_count": null,
   "metadata": {},
   "outputs": [],
   "source": [
    "\n",
    "import MiniCircuitsSigGen as MCSG\n",
    "\n",
    "LABJACK_IP = '192.168.74.2'\n",
    "\n",
    "MCSG = MCSG.MCSSG()\n",
    "MCSG.open(LABJACK_IP)"
   ]
  },
  {
   "cell_type": "markdown",
   "metadata": {},
   "source": [
    "### Get Current K Value From LabJack"
   ]
  },
  {
   "cell_type": "code",
   "execution_count": null,
   "metadata": {},
   "outputs": [],
   "source": [
    "print(f\"Current SPFRx frequency: {MCSG.getFrequency()}\")\n",
    "print(f\"Current K Value: {int((MCSG.getFrequency() - 3960000000) / 1800)}\")"
   ]
  },
  {
   "cell_type": "markdown",
   "metadata": {},
   "source": [
    "### Set New K Value"
   ]
  },
  {
   "cell_type": "code",
   "execution_count": null,
   "metadata": {},
   "outputs": [],
   "source": [
    "#Set your desired k value here\n",
    "new_k_value = 1\n",
    "\n",
    "MCSG.setFrequency(3960000000 + (1800 * new_k_value))\n",
    "\n",
    "#Double check the new value that was set\n",
    "print(f\"Current SPFRx frequency: {MCSG.getFrequency()}\")\n",
    "print(f\"Current K Value: {int((MCSG.getFrequency() - 3960000000) / 1800)}\")"
   ]
  },
  {
   "cell_type": "markdown",
   "metadata": {},
   "source": [
    "### Be a Clean Integrator and Close Your Connection Here:"
   ]
  },
  {
   "cell_type": "code",
   "execution_count": null,
   "metadata": {},
   "outputs": [],
   "source": [
    "MCSG.close()"
   ]
  }
 ],
 "metadata": {
  "kernelspec": {
   "display_name": "venv",
   "language": "python",
   "name": "python3"
  },
  "language_info": {
   "codemirror_mode": {
    "name": "ipython",
    "version": 3
   },
   "file_extension": ".py",
   "mimetype": "text/x-python",
   "name": "python",
   "nbconvert_exporter": "python",
   "pygments_lexer": "ipython3",
   "version": "3.10.14"
  }
 },
 "nbformat": 4,
 "nbformat_minor": 2
}
