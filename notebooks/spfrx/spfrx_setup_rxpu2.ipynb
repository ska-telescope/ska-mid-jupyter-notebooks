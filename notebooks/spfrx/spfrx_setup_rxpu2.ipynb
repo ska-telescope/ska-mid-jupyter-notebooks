{
 "cells": [
  {
   "cell_type": "code",
   "execution_count": null,
   "metadata": {},
   "outputs": [],
   "source": [
    "TANGO_HOST_RXPU2 = \"10.164.10.121:10000\"\n",
    "SPFRX_ADDRESS = \"10.165.3.21\"\n",
    "PATH_TO_DISH_CONSOLE_REPO = \"/home/a.joshi\"\n",
    "\n",
    "import os\n",
    "from time import sleep\n",
    "\n",
    "from tango import DeviceProxy"
   ]
  },
  {
   "cell_type": "markdown",
   "metadata": {},
   "source": [
    "## Setup SPFRx deployment"
   ]
  },
  {
   "cell_type": "markdown",
   "metadata": {},
   "source": [
    "### Verify Band"
   ]
  },
  {
   "cell_type": "code",
   "execution_count": null,
   "metadata": {},
   "outputs": [],
   "source": [
    "!make spfrx ARGS=\"--device=ska036 -vb\" SPFRX_TANGO_HOST=$TANGO_HOST_RXPU2 SPFRX_ADDRESS=10.165.3.21 -C $PATH_TO_DISH_CONSOLE_REPO/ska-mid-dish-spfrx-talondx-console/"
   ]
  },
  {
   "cell_type": "code",
   "execution_count": null,
   "metadata": {},
   "outputs": [],
   "source": [
    "os.environ[\"TANGO_HOST\"] = TANGO_HOST_RXPU2\n",
    "server = \"ska036/spfrxpu/controller\"\n",
    "dp = DeviceProxy(server)\n",
    "\n",
    "dp.SetKValue(1108)"
   ]
  },
  {
   "cell_type": "code",
   "execution_count": null,
   "metadata": {},
   "outputs": [],
   "source": [
    "!make spfrx-stop SPFRX_ADDRESS=$SPFRX_ADDRESS -C $PATH_TO_DISH_CONSOLE_REPO/ska-mid-dish-spfrx-talondx-console/"
   ]
  },
  {
   "cell_type": "code",
   "execution_count": null,
   "metadata": {},
   "outputs": [],
   "source": [
    "print(dp.kValue)"
   ]
  },
  {
   "cell_type": "markdown",
   "metadata": {},
   "source": [
    "### Set Band and Sync"
   ]
  },
  {
   "cell_type": "code",
   "execution_count": null,
   "metadata": {},
   "outputs": [],
   "source": [
    "!make spfrx ARGS=\"--device=ska036 --band=1 -sync\" SPFRX_TANGO_HOST=$TANGO_HOST_RXPU2 SPFRX_ADDRESS=$SPFRX_ADDRESS -C $PATH_TO_DISH_CONSOLE_REPO/ska-mid-dish-spfrx-talondx-console/"
   ]
  },
  {
   "cell_type": "markdown",
   "metadata": {},
   "source": [
    "### Monitor Ping"
   ]
  },
  {
   "cell_type": "code",
   "execution_count": null,
   "metadata": {},
   "outputs": [],
   "source": [
    "import os\n",
    "from time import sleep\n",
    "\n",
    "from tango import DeviceProxy\n",
    "\n",
    "os.environ[\"TANGO_HOST\"] = TANGO_HOST_RXPU2\n",
    "print(os.environ[\"TANGO_HOST\"])\n",
    "server2 = \"ska036/spfrxpu/controller\"\n",
    "dp2 = DeviceProxy(server2)\n",
    "\n",
    "while True:\n",
    "    dp2.command_inout(\"MonitorPing\")\n",
    "    print(f\"Pinging {server2}\")\n",
    "    sleep(100)"
   ]
  },
  {
   "cell_type": "code",
   "execution_count": null,
   "metadata": {},
   "outputs": [],
   "source": [
    "bp_dp = DeviceProxy('ska036/spfrxpu/bandprocessor123-0')\n",
    "print(bp_dp.ppsg_utc_mon)"
   ]
  }
 ],
 "metadata": {
  "kernelspec": {
   "display_name": "venv",
   "language": "python",
   "name": "python3"
  },
  "language_info": {
   "codemirror_mode": {
    "name": "ipython",
    "version": 3
   },
   "file_extension": ".py",
   "mimetype": "text/x-python",
   "name": "python",
   "nbconvert_exporter": "python",
   "pygments_lexer": "ipython3",
   "version": "3.10.12"
  }
 },
 "nbformat": 4,
 "nbformat_minor": 2
}
