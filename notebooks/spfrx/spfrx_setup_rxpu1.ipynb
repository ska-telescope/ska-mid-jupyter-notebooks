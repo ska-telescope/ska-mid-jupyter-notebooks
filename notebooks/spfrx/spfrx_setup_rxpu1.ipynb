{
 "cells": [
  {
   "cell_type": "code",
   "execution_count": 15,
   "metadata": {},
   "outputs": [],
   "source": [
    "TANGO_HOST_RXPU1=\"192.168.128.177:10000\"\n",
    "SPFRX_ADDRESS=\"192.168.8.200\"\n",
    "PATH_TO_DISH_CONSOLE_REPO = \"/home/ja097202_p/code\""
   ]
  },
  {
   "cell_type": "markdown",
   "metadata": {},
   "source": [
    "## Setup SPFRx deployment"
   ]
  },
  {
   "cell_type": "markdown",
   "metadata": {},
   "source": [
    "### Verify Band"
   ]
  },
  {
   "cell_type": "code",
   "execution_count": 16,
   "metadata": {},
   "outputs": [
    {
     "name": "stdout",
     "output_type": "stream",
     "text": [
      "make: Entering directory '/home/ja097202_p/code/ska-mid-dish-spfrx-talondx-console'\n",
      ".make/k8s.mk:87: Detected the SKA Tango Operator in the k8s cluster\n",
      "Setting TANGO_HOST=192.168.128.177:10000 on 192.168.8.200\n",
      "\n",
      "[spfrx.py: line 634]INFO: User: tango\n",
      "[spfrx.py: line 918]INFO: Requesting current configured band ID\n",
      "[spfrx.py: line 920]INFO: Configured BAND : 0\n",
      "[spfrx.py: line 1036]INFO: Hello from Mid DISH SPFRx Console\n",
      "Device State : ON\n",
      "Device Status: Bring up has finished successfully.\n",
      "dev_name = ska001/spfrxpu/controller\n",
      "make: Leaving directory '/home/ja097202_p/code/ska-mid-dish-spfrx-talondx-console'\n"
     ]
    }
   ],
   "source": [
    "!make spfrx ARGS=\"-vb\" SPFRX_TANGO_HOST=$TANGO_HOST_RXPU1 SPFRX_ADDRESS=$SPFRX_ADDRESS -C $PATH_TO_DISH_CONSOLE_REPO/ska-mid-dish-spfrx-talondx-console/"
   ]
  },
  {
   "cell_type": "markdown",
   "metadata": {},
   "source": [
    "### Set K Value"
   ]
  },
  {
   "cell_type": "code",
   "execution_count": null,
   "metadata": {},
   "outputs": [],
   "source": [
    "from PyTango import DeviceProxy\n",
    "import os\n",
    "from time import sleep\n",
    "\n",
    "os.environ[\"TANGO_HOST\"] = TANGO_HOST_RXPU1\n",
    "server = \"ska001/spfrxpu/controller\"\n",
    "dp = DeviceProxy(server)\n",
    "\n",
    "dp.SetKValue(1108)"
   ]
  },
  {
   "cell_type": "code",
   "execution_count": null,
   "metadata": {},
   "outputs": [],
   "source": [
    "!make spfrx-stop SPFRX_ADDRESS=$SPFRX_ADDRESS -C $PATH_TO_DISH_CONSOLE_REPO/ska-mid-dish-spfrx-talondx-console/"
   ]
  },
  {
   "cell_type": "code",
   "execution_count": null,
   "metadata": {},
   "outputs": [],
   "source": [
    "print(dp.kValue)"
   ]
  },
  {
   "cell_type": "markdown",
   "metadata": {},
   "source": [
    "### Set Band and Sync"
   ]
  },
  {
   "cell_type": "code",
   "execution_count": 17,
   "metadata": {},
   "outputs": [
    {
     "name": "stdout",
     "output_type": "stream",
     "text": [
      "make: Entering directory '/home/ja097202_p/code/ska-mid-dish-spfrx-talondx-console'\n",
      ".make/k8s.mk:87: Detected the SKA Tango Operator in the k8s cluster\n",
      "Setting TANGO_HOST=192.168.128.177:10000 on 192.168.8.200\n",
      "\n",
      "[spfrx.py: line 634]INFO: User: tango\n",
      "[spfrx.py: line 822]INFO: Initiating band configuration to BAND:1 SYNC:True\n",
      "[spfrx.py: line 833]INFO: Band configuration SUCCESSFUL\n",
      "[spfrx.py: line 1036]INFO: Hello from Mid DISH SPFRx Console\n",
      "Device State : ON\n",
      "Device Status: Bring up has finished successfully.\n",
      "dev_name = ska001/spfrxpu/controller\n",
      "Device State : ON\n",
      "Device Status: Bring up has finished successfully.\n",
      "dev_name = ska001/spfrxpu/controller\n",
      "Configuring band 1\n",
      "  Successfully configured band 1\n",
      "Device State : ON\n",
      "Device Status: Bring up has finished successfully.\n",
      "dev_name = ska001/spfrxpu/controller\n",
      "  Configured attenuation : H:10.0 V:10.0\n",
      "make: Leaving directory '/home/ja097202_p/code/ska-mid-dish-spfrx-talondx-console'\n"
     ]
    }
   ],
   "source": [
    "!make spfrx ARGS=\"--band=1 -sync\" SPFRX_TANGO_HOST=$TANGO_HOST_RXPU1 SPFRX_ADDRESS=$SPFRX_ADDRESS -C $PATH_TO_DISH_CONSOLE_REPO/ska-mid-dish-spfrx-talondx-console/"
   ]
  },
  {
   "cell_type": "markdown",
   "metadata": {},
   "source": [
    "### Monitor Ping"
   ]
  },
  {
   "cell_type": "code",
   "execution_count": 18,
   "metadata": {},
   "outputs": [
    {
     "name": "stdout",
     "output_type": "stream",
     "text": [
      "Pinging ska001/spfrxpu/controller\n",
      "Pinging ska001/spfrxpu/controller\n",
      "Pinging ska001/spfrxpu/controller\n",
      "Pinging ska001/spfrxpu/controller\n",
      "Pinging ska001/spfrxpu/controller\n",
      "Pinging ska001/spfrxpu/controller\n",
      "Pinging ska001/spfrxpu/controller\n"
     ]
    },
    {
     "ename": "KeyboardInterrupt",
     "evalue": "",
     "output_type": "error",
     "traceback": [
      "\u001b[0;31m---------------------------------------------------------------------------\u001b[0m",
      "\u001b[0;31mKeyboardInterrupt\u001b[0m                         Traceback (most recent call last)",
      "Cell \u001b[0;32mIn[18], line 12\u001b[0m\n\u001b[1;32m     10\u001b[0m dp\u001b[38;5;241m.\u001b[39mcommand_inout(\u001b[38;5;124m\"\u001b[39m\u001b[38;5;124mMonitorPing\u001b[39m\u001b[38;5;124m\"\u001b[39m)\n\u001b[1;32m     11\u001b[0m \u001b[38;5;28mprint\u001b[39m(\u001b[38;5;124mf\u001b[39m\u001b[38;5;124m\"\u001b[39m\u001b[38;5;124mPinging \u001b[39m\u001b[38;5;132;01m{\u001b[39;00mserver\u001b[38;5;132;01m}\u001b[39;00m\u001b[38;5;124m\"\u001b[39m)\n\u001b[0;32m---> 12\u001b[0m \u001b[43msleep\u001b[49m\u001b[43m(\u001b[49m\u001b[38;5;241;43m100\u001b[39;49m\u001b[43m)\u001b[49m\n",
      "\u001b[0;31mKeyboardInterrupt\u001b[0m: "
     ]
    }
   ],
   "source": [
    "from PyTango import DeviceProxy\n",
    "import os\n",
    "from time import sleep\n",
    "\n",
    "os.environ[\"TANGO_HOST\"] = TANGO_HOST_RXPU1\n",
    "server = \"ska001/spfrxpu/controller\"\n",
    "dp = DeviceProxy(server)\n",
    "\n",
    "while True:\n",
    "    dp.command_inout(\"MonitorPing\")\n",
    "    print(f\"Pinging {server}\")\n",
    "    sleep(100)"
   ]
  }
 ],
 "metadata": {
  "kernelspec": {
   "display_name": "venv",
   "language": "python",
   "name": "python3"
  },
  "language_info": {
   "codemirror_mode": {
    "name": "ipython",
    "version": 3
   },
   "file_extension": ".py",
   "mimetype": "text/x-python",
   "name": "python",
   "nbconvert_exporter": "python",
   "pygments_lexer": "ipython3",
   "version": "3.10.14"
  }
 },
 "nbformat": 4,
 "nbformat_minor": 2
}
