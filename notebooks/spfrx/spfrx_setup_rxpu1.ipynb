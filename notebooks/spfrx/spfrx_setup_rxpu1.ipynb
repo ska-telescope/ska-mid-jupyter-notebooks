{
 "cells": [
  {
   "cell_type": "code",
   "execution_count": 13,
   "metadata": {},
   "outputs": [],
   "source": [
    "TANGO_HOST_RXPU1 = \"192.168.128.205:10000\"\n",
    "SPFRX_ADDRESS = \"191.168.8.200\"\n",
    "PATH_TO_DISH_CONSOLE_REPO = \"/home/ja097202_p/code\"\n",
    "\n",
    "import os\n",
    "from time import sleep\n",
    "\n",
    "from tango import DeviceProxy"
   ]
  },
  {
   "cell_type": "markdown",
   "metadata": {},
   "source": [
    "## Setup SPFRx deployment"
   ]
  },
  {
   "cell_type": "markdown",
   "metadata": {},
   "source": [
    "### Verify Band"
   ]
  },
  {
   "cell_type": "code",
   "execution_count": 15,
   "metadata": {},
   "outputs": [
    {
     "name": "stdout",
     "output_type": "stream",
     "text": [
      "make: Entering directory '/home/ja097202_p/code/ska-mid-dish-spfrx-talondx-console'\n",
      ".make/k8s.mk:87: Detected the SKA Tango Operator in the k8s cluster\n",
      "Setting TANGO_HOST=192.168.128.205:10000 on 191.168.8.200\n",
      "ssh: connect to host 191.168.8.200 port 22: Connection refused\n",
      "make: *** [Makefile:166: config-spfrx-tango-host] Error 255\n",
      "make: Leaving directory '/home/ja097202_p/code/ska-mid-dish-spfrx-talondx-console'\n"
     ]
    }
   ],
   "source": [
    "!make spfrx ARGS=\"-vb\" SPFRX_TANGO_HOST=$TANGO_HOST_RXPU1 SPFRX_ADDRESS=$SPFRX_ADDRESS -C $PATH_TO_DISH_CONSOLE_REPO/ska-mid-dish-spfrx-talondx-console/"
   ]
  },
  {
   "cell_type": "markdown",
   "metadata": {},
   "source": [
    "### Set K Value"
   ]
  },
  {
   "cell_type": "code",
   "execution_count": 14,
   "metadata": {},
   "outputs": [
    {
     "ename": "AttributeError",
     "evalue": "SetKValue",
     "output_type": "error",
     "traceback": [
      "\u001b[0;31m---------------------------------------------------------------------------\u001b[0m",
      "\u001b[0;31mConnectionFailed\u001b[0m                          Traceback (most recent call last)",
      "File \u001b[0;32m~/venv/lib/python3.10/site-packages/tango/device_proxy.py:424\u001b[0m, in \u001b[0;36m__DeviceProxy__getattr\u001b[0;34m(self, name)\u001b[0m\n\u001b[1;32m    423\u001b[0m \u001b[38;5;28;01mtry\u001b[39;00m:\n\u001b[0;32m--> 424\u001b[0m     \u001b[38;5;28;43mself\u001b[39;49m\u001b[38;5;241;43m.\u001b[39;49m\u001b[43m__refresh_cmd_cache\u001b[49m\u001b[43m(\u001b[49m\u001b[43m)\u001b[49m\n\u001b[1;32m    425\u001b[0m \u001b[38;5;28;01mexcept\u001b[39;00m \u001b[38;5;167;01mException\u001b[39;00m \u001b[38;5;28;01mas\u001b[39;00m e:\n",
      "File \u001b[0;32m~/venv/lib/python3.10/site-packages/tango/device_proxy.py:248\u001b[0m, in \u001b[0;36m__DeviceProxy__refresh_cmd_cache\u001b[0;34m(self)\u001b[0m\n\u001b[1;32m    247\u001b[0m \u001b[38;5;28;01mdef\u001b[39;00m \u001b[38;5;21m__DeviceProxy__refresh_cmd_cache\u001b[39m(\u001b[38;5;28mself\u001b[39m):\n\u001b[0;32m--> 248\u001b[0m     cmd_list \u001b[38;5;241m=\u001b[39m \u001b[38;5;28;43mself\u001b[39;49m\u001b[38;5;241;43m.\u001b[39;49m\u001b[43mcommand_list_query\u001b[49m\u001b[43m(\u001b[49m\u001b[43m)\u001b[49m\n\u001b[1;32m    249\u001b[0m     cmd_cache \u001b[38;5;241m=\u001b[39m {}\n",
      "\u001b[0;31mConnectionFailed\u001b[0m: DevFailed[\nDevError[\n    desc = TRANSIENT CORBA system exception: TRANSIENT_CallTimedout\n  origin = void Tango::Connection::connect(const string&) at (/src/cppTango/cppapi/client/devapi_base.cpp:604)\n  reason = API_CorbaException\nseverity = ERR]\n\nDevError[\n    desc = Failed to connect to device ska001/spfrxpu/controller\n  origin = void Tango::Connection::connect(const string&) at (/src/cppTango/cppapi/client/devapi_base.cpp:604)\n  reason = API_CantConnectToDevice\nseverity = ERR]\n]",
      "\nThe above exception was the direct cause of the following exception:\n",
      "\u001b[0;31mAttributeError\u001b[0m                            Traceback (most recent call last)",
      "Cell \u001b[0;32mIn[14], line 5\u001b[0m\n\u001b[1;32m      3\u001b[0m dp \u001b[38;5;241m=\u001b[39m DeviceProxy(server)\n\u001b[1;32m      4\u001b[0m \u001b[38;5;66;03m# print(dp.kValue)\u001b[39;00m\n\u001b[0;32m----> 5\u001b[0m \u001b[43mdp\u001b[49m\u001b[38;5;241;43m.\u001b[39;49m\u001b[43mSetKValue\u001b[49m(\u001b[38;5;241m119\u001b[39m)\n",
      "File \u001b[0;32m~/venv/lib/python3.10/site-packages/tango/device_proxy.py:452\u001b[0m, in \u001b[0;36m__DeviceProxy__getattr\u001b[0;34m(self, name)\u001b[0m\n\u001b[1;32m    449\u001b[0m     \u001b[38;5;28;01mif\u001b[39;00m name_l \u001b[38;5;129;01min\u001b[39;00m \u001b[38;5;28mself\u001b[39m\u001b[38;5;241m.\u001b[39m__get_pipe_cache():\n\u001b[1;32m    450\u001b[0m         \u001b[38;5;28;01mreturn\u001b[39;00m \u001b[38;5;28mself\u001b[39m\u001b[38;5;241m.\u001b[39mread_pipe(name)\n\u001b[0;32m--> 452\u001b[0m     \u001b[38;5;28;01mraise\u001b[39;00m \u001b[38;5;167;01mAttributeError\u001b[39;00m(name) \u001b[38;5;28;01mfrom\u001b[39;00m \u001b[38;5;21;01mcause\u001b[39;00m\n\u001b[1;32m    453\u001b[0m \u001b[38;5;28;01mfinally\u001b[39;00m:\n\u001b[1;32m    454\u001b[0m     \u001b[38;5;28;01mdel\u001b[39;00m cause\n",
      "\u001b[0;31mAttributeError\u001b[0m: SetKValue"
     ]
    }
   ],
   "source": [
    "os.environ[\"TANGO_HOST\"] = TANGO_HOST_RXPU1\n",
    "server = \"ska001/spfrxpu/controller\"\n",
    "dp = DeviceProxy(server)\n",
    "# print(dp.kValue)\n",
    "dp.SetKValue(119)"
   ]
  },
  {
   "cell_type": "code",
   "execution_count": null,
   "metadata": {},
   "outputs": [],
   "source": [
    "!make spfrx-stop SPFRX_ADDRESS=$SPFRX_ADDRESS -C $PATH_TO_DISH_CONSOLE_REPO/ska-mid-dish-spfrx-talondx-console/"
   ]
  },
  {
   "cell_type": "code",
   "execution_count": 3,
   "metadata": {},
   "outputs": [
    {
     "name": "stdout",
     "output_type": "stream",
     "text": [
      "1\n"
     ]
    }
   ],
   "source": [
    "os.environ[\"TANGO_HOST\"] = TANGO_HOST_RXPU1\n",
    "server = \"ska001/spfrxpu/controller\"\n",
    "dp = DeviceProxy(server)\n",
    "print(dp.kValue)"
   ]
  },
  {
   "cell_type": "markdown",
   "metadata": {},
   "source": [
    "### Set Band and Sync"
   ]
  },
  {
   "cell_type": "code",
   "execution_count": null,
   "metadata": {},
   "outputs": [],
   "source": [
    "!make spfrx ARGS=\"--band=1 -sync\" SPFRX_TANGO_HOST=$TANGO_HOST_RXPU1 SPFRX_ADDRESS=$SPFRX_ADDRESS -C $PATH_TO_DISH_CONSOLE_REPO/ska-mid-dish-spfrx-talondx-console/"
   ]
  },
  {
   "cell_type": "markdown",
   "metadata": {},
   "source": [
    "### Monitor Ping"
   ]
  },
  {
   "cell_type": "code",
   "execution_count": null,
   "metadata": {},
   "outputs": [],
   "source": [
    "os.environ[\"TANGO_HOST\"] = TANGO_HOST_RXPU1\n",
    "server = \"ska001/spfrxpu/controller\"\n",
    "dp = DeviceProxy(server)\n",
    "\n",
    "while True:\n",
    "    dp.command_inout(\"MonitorPing\")\n",
    "    print(f\"Pinging {server}\")\n",
    "    sleep(100)"
   ]
  },
  {
   "cell_type": "code",
   "execution_count": null,
   "metadata": {},
   "outputs": [],
   "source": [
    "bp_dp = DeviceProxy(\"ska001/spfrxpu/bandprocessor123-0\")\n",
    "print(bp_dp.ppsg_utc_mon)"
   ]
  }
 ],
 "metadata": {
  "kernelspec": {
   "display_name": "venv",
   "language": "python",
   "name": "python3"
  },
  "language_info": {
   "codemirror_mode": {
    "name": "ipython",
    "version": 3
   },
   "file_extension": ".py",
   "mimetype": "text/x-python",
   "name": "python",
   "nbconvert_exporter": "python",
   "pygments_lexer": "ipython3",
   "version": "3.10.14"
  }
 },
 "nbformat": 4,
 "nbformat_minor": 2
}
