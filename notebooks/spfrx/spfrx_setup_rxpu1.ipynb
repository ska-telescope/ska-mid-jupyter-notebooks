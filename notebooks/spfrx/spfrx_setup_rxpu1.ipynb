{
 "cells": [
  {
   "cell_type": "code",
   "execution_count": 1,
   "metadata": {},
   "outputs": [],
   "source": [
    "TANGO_HOST_RXPU1=\"192.168.128.118:10000\"\n",
    "SPFRX_ADDRESS=\"192.168.8.200\"\n",
    "PATH_TO_DISH_CONSOLE_REPO = \"/home/ja097202_p/code\""
   ]
  },
  {
   "cell_type": "markdown",
   "metadata": {},
   "source": [
    "## Setup SPFRx deployment"
   ]
  },
  {
   "cell_type": "markdown",
   "metadata": {},
   "source": [
    "### Verify Band"
   ]
  },
  {
   "cell_type": "code",
   "execution_count": 7,
   "metadata": {},
   "outputs": [
    {
     "name": "stdout",
     "output_type": "stream",
     "text": [
      "make: Entering directory '/home/ja097202_p/code/ska-mid-dish-spfrx-talondx-console'\n",
      ".make/k8s.mk:87: Detected the SKA Tango Operator in the k8s cluster\n",
      "Setting TANGO_HOST=192.168.128.118:10000 on 192.168.8.200\n",
      "\n",
      "[spfrx.py: line 634]INFO: User: tango\n",
      "[spfrx.py: line 918]INFO: Requesting current configured band ID\n",
      "[spfrx.py: line 920]INFO: Configured BAND : 1\n",
      "[spfrx.py: line 1036]INFO: Hello from Mid DISH SPFRx Console\n",
      "Device State : ON\n",
      "Device Status: Bring up has finished successfully.\n",
      "dev_name = ska001/spfrxpu/controller\n",
      "make: Leaving directory '/home/ja097202_p/code/ska-mid-dish-spfrx-talondx-console'\n"
     ]
    }
   ],
   "source": [
    "!make spfrx ARGS=\"-vb\" SPFRX_TANGO_HOST=$TANGO_HOST_RXPU1 SPFRX_ADDRESS=$SPFRX_ADDRESS -C $PATH_TO_DISH_CONSOLE_REPO/ska-mid-dish-spfrx-talondx-console/"
   ]
  },
  {
   "cell_type": "markdown",
   "metadata": {},
   "source": [
    "### Set K Value"
   ]
  },
  {
   "cell_type": "code",
   "execution_count": null,
   "metadata": {},
   "outputs": [],
   "source": [
    "from PyTango import DeviceProxy\n",
    "import os\n",
    "from time import sleep\n",
    "\n",
    "os.environ[\"TANGO_HOST\"] = TANGO_HOST_RXPU1\n",
    "server = \"ska001/spfrxpu/controller\"\n",
    "dp = DeviceProxy(server)\n",
    "\n",
    "dp.SetKValue(1108)"
   ]
  },
  {
   "cell_type": "code",
   "execution_count": null,
   "metadata": {},
   "outputs": [],
   "source": [
    "!make spfrx-stop SPFRX_ADDRESS=$SPFRX_ADDRESS -C $PATH_TO_DISH_CONSOLE_REPO/ska-mid-dish-spfrx-talondx-console/"
   ]
  },
  {
   "cell_type": "code",
   "execution_count": null,
   "metadata": {},
   "outputs": [],
   "source": [
    "print(dp.kValue)"
   ]
  },
  {
   "cell_type": "markdown",
   "metadata": {},
   "source": [
    "### Set Band and Sync"
   ]
  },
  {
   "cell_type": "code",
   "execution_count": 9,
   "metadata": {},
   "outputs": [
    {
     "name": "stdout",
     "output_type": "stream",
     "text": [
      "make: Entering directory '/home/ja097202_p/code/ska-mid-dish-spfrx-talondx-console'\n",
      ".make/k8s.mk:87: Detected the SKA Tango Operator in the k8s cluster\n",
      "Setting TANGO_HOST=192.168.128.118:10000 on 192.168.8.200\n",
      "\n",
      "[spfrx.py: line 634]INFO: User: tango\n",
      "[spfrx.py: line 822]INFO: Initiating band configuration to BAND:1 SYNC:True\n",
      "[spfrx.py: line 833]INFO: Band configuration SUCCESSFUL\n",
      "[spfrx.py: line 1036]INFO: Hello from Mid DISH SPFRx Console\n",
      "Device State : ON\n",
      "Device Status: Bring up has finished successfully.\n",
      "dev_name = ska001/spfrxpu/controller\n",
      "Device State : ON\n",
      "Device Status: Bring up has finished successfully.\n",
      "dev_name = ska001/spfrxpu/controller\n",
      "Configuring band 1\n",
      "  Successfully configured band 1\n",
      "Device State : ON\n",
      "Device Status: Bring up has finished successfully.\n",
      "dev_name = ska001/spfrxpu/controller\n",
      "  Configured attenuation : H:10.0 V:10.0\n",
      "make: Leaving directory '/home/ja097202_p/code/ska-mid-dish-spfrx-talondx-console'\n"
     ]
    }
   ],
   "source": [
    "!make spfrx ARGS=\"--band=1 -sync\" SPFRX_TANGO_HOST=$TANGO_HOST_RXPU1 SPFRX_ADDRESS=$SPFRX_ADDRESS -C $PATH_TO_DISH_CONSOLE_REPO/ska-mid-dish-spfrx-talondx-console/"
   ]
  },
  {
   "cell_type": "markdown",
   "metadata": {},
   "source": [
    "### Monitor Ping"
   ]
  },
  {
   "cell_type": "code",
   "execution_count": 8,
   "metadata": {},
   "outputs": [
    {
     "name": "stdout",
     "output_type": "stream",
     "text": [
      "['AddLoggingTarget', 'AdjustPolHAttenuation', 'AdjustPolVAttenuation', 'AdjustSaturationThreshold', 'BringUpCore', 'BringUpEthernet', 'BringUpInterfaces', 'CalibrateDDR4', 'ConfigureBand1', 'ConfigureBand2', 'ConfigureBand3', 'ConfigureBand4', 'ConfigureBand5a', 'ConfigureBand5b', 'DeleteSoftwareUpdate', 'GetLoggingLevel', 'GetLoggingTarget', 'GetRegisterValue', 'GetVersionInfo', 'Init', 'InterfacesSanityCheck', 'MonitorPing', 'RemoveLoggingTarget', 'Reset', 'SetKValue', 'SetLoggingLevel', 'SetMaintenanceMode', 'SetNoiseDiodeState', 'SetPolHAttenuation', 'SetPolVAttenuation', 'SetRXS123PowerState', 'SetRXS45PowerState', 'SetRegisterValue', 'SetSATDDSParameters', 'SetSATDDSReset', 'SetStandbyMode', 'Shutdown', 'SpectrometerCtrl', 'SpectrometerEnabled', 'SpectrometerInterval', 'State', 'Status', 'SynchroniseADCPath', 'UpdateSoftware', '__class__', '__command_inout', '__command_inout_asynch_cb', '__command_inout_asynch_id', '__contains__', '__delattr__', '__dict__', '__dir__', '__doc__', '__eq__', '__format__', '__ge__', '__get_attr_cache', '__get_attr_conf_events', '__get_callback_events', '__get_cmd_cache', '__get_data_events', '__get_data_ready_events', '__get_devintr_change_events', '__get_event_map', '__get_event_map_lock', '__get_pipe_cache', '__get_pipe_events', '__getattr__', '__getattribute__', '__getinitargs__', '__getitem__', '__gt__', '__hash__', '__init__', '__init_orig__', '__init_subclass__', '__instance_size__', '__le__', '__lt__', '__module__', '__ne__', '__new__', '__read_attributes_asynch', '__read_pipe', '__reduce__', '__reduce_ex__', '__refresh_attr_cache', '__refresh_cmd_cache', '__refresh_pipe_cache', '__repr__', '__safe_for_unpickling__', '__setattr__', '__setitem__', '__sizeof__', '__str__', '__subclasshook__', '__subscribe_event', '__unsubscribe_event', '__unsubscribe_event_all', '__weakref__', '__write_attributes_asynch', '__write_pipe', '_delete_property', '_dynamic_interface_frozen', '_executors', '_get_attribute_config', '_get_attribute_config_ex', '_get_command_config', '_get_info_', '_get_pipe_config', '_get_property', '_get_property_list', '_green_mode', '_initialized', '_pending_unsubscribe', '_ping', '_put_property', '_read_attribute', '_read_attributes', '_set_attribute_config', '_set_pipe_config', '_state', '_status', '_write_attribute', '_write_attributes', '_write_read_attribute', '_write_read_attributes', 'add_logging_target', 'addloggingtarget', 'adjustpolhattenuation', 'adjustpolvattenuation', 'adjustsaturationthreshold', 'adm_name', 'adminMode', 'adminmode', 'alias', 'attenuationPolH', 'attenuationPolV', 'attenuationpolh', 'attenuationpolv', 'attribute_history', 'attribute_list_query', 'attribute_list_query_ex', 'attribute_query', 'b123ProcCntlPpsdPolarity', 'b123ProcCntlSoftwareReset', 'b123ProcCntlSpectralInversion', 'b123ProcCntlWrAlignStatus', 'b123ProcCntlWrFifoOvf', 'b123ProcParamBand', 'b123proccntlppsdpolarity', 'b123proccntlsoftwarereset', 'b123proccntlspectralinversion', 'b123proccntlwralignstatus', 'b123proccntlwrfifoovf', 'b123procparamband', 'b1CapabilityState', 'b1NoiseDiodeTransitionHoldoff', 'b1OperationalTime', 'b1PolHAttenuation', 'b1PolVAttenuation', 'b1SamplingClockFrequency', 'b1SaturationThreshold', 'b1TotOperationalTime', 'b1capabilitystate', 'b1noisediodetransitionholdoff', 'b1operationaltime', 'b1polhattenuation', 'b1polvattenuation', 'b1ppsDeviation', 'b1ppsdeviation', 'b1samplingclockfrequency', 'b1saturationthreshold', 'b1totoperationaltime', 'b2CapabilityState', 'b2NoiseDiodeTransitionHoldoff', 'b2OperationalTime', 'b2PolHAttenuation', 'b2PolVAttenuation', 'b2SamplingClockFrequency', 'b2SaturationThreshold', 'b2TotOperationalTime', 'b2capabilitystate', 'b2noisediodetransitionholdoff', 'b2operationaltime', 'b2polhattenuation', 'b2polvattenuation', 'b2ppsDeviation', 'b2ppsdeviation', 'b2samplingclockfrequency', 'b2saturationthreshold', 'b2totoperationaltime', 'b3CapabilityState', 'b3NoiseDiodeTransitionHoldoff', 'b3OperationalTime', 'b3PolHAttenuation', 'b3PolVAttenuation', 'b3SamplingClockFrequency', 'b3SaturationThreshold', 'b3TotOperationalTime', 'b3capabilitystate', 'b3noisediodetransitionholdoff', 'b3operationaltime', 'b3polhattenuation', 'b3polvattenuation', 'b3ppsDeviation', 'b3ppsdeviation', 'b3samplingclockfrequency', 'b3saturationthreshold', 'b3totoperationaltime', 'b45ProcCntlBand', 'b45ProcCntlDdc0TuneStatus', 'b45ProcCntlDdc1TuneStatus', 'b45ProcCntlPpsdPolarity', 'b45ProcCntlSoftwareReset', 'b45ProcCntlWrAlignStatus', 'b45ProcCntlWrFifoOvf', 'b45ProcParamBand', 'b45ProcParamDdcs', 'b45ProcParamDecimationRatio', 'b45ProcParamInterpolationRatio', 'b45ProcParamLutDepth', 'b45proccntlband', 'b45proccntlddc0tunestatus', 'b45proccntlddc1tunestatus', 'b45proccntlppsdpolarity', 'b45proccntlsoftwarereset', 'b45proccntlwralignstatus', 'b45proccntlwrfifoovf', 'b45procparamband', 'b45procparamddcs', 'b45procparamdecimationratio', 'b45procparaminterpolationratio', 'b45procparamlutdepth', 'b4CapabilityState', 'b4NoiseDiodeTransitionHoldoff', 'b4OperationalTime', 'b4PolHAttenuation', 'b4PolVAttenuation', 'b4SamplingClockFrequency', 'b4SaturationThreshold', 'b4TotOperationalTime', 'b4capabilitystate', 'b4noisediodetransitionholdoff', 'b4operationaltime', 'b4polhattenuation', 'b4polvattenuation', 'b4ppsDeviation', 'b4ppsdeviation', 'b4samplingclockfrequency', 'b4saturationthreshold', 'b4totoperationaltime', 'b5aCapabilityState', 'b5aNoiseDiodeTransitionHoldoff', 'b5aOperationalTime', 'b5aPolHAttenuation', 'b5aPolVAttenuation', 'b5aSamplingClockFrequency', 'b5aSaturationThreshold', 'b5aTotOperationalTime', 'b5acapabilitystate', 'b5anoisediodetransitionholdoff', 'b5aoperationaltime', 'b5apolhattenuation', 'b5apolvattenuation', 'b5appsDeviation', 'b5appsdeviation', 'b5asamplingclockfrequency', 'b5asaturationthreshold', 'b5atotoperationaltime', 'b5bCapabilityState', 'b5bNoiseDiodeTransitionHoldoff', 'b5bOperationalTime', 'b5bPolHAttenuation', 'b5bPolVAttenuation', 'b5bSamplingClockFrequency', 'b5bSaturationThreshold', 'b5bTotOperationalTime', 'b5bcapabilitystate', 'b5bnoisediodetransitionholdoff', 'b5boperationaltime', 'b5bpolhattenuation', 'b5bpolvattenuation', 'b5bppsDeviation', 'b5bppsdeviation', 'b5bsamplingclockfrequency', 'b5bsaturationthreshold', 'b5btotoperationaltime', 'bandConfigurationStatus', 'bandconfigurationstatus', 'black_box', 'bringupcore', 'bringupethernet', 'bringupinterfaces', 'buildState', 'buildstate', 'calibrateddr4', 'cancel_all_polling_asynch_request', 'cancel_asynch_request', 'capturingData', 'capturingdata', 'command_history', 'command_inout', 'command_inout_asynch', 'command_inout_raw', 'command_inout_reply', 'command_inout_reply_raw', 'command_list_query', 'command_query', 'configureband1', 'configureband2', 'configureband3', 'configureband4', 'configureband5a', 'configureband5b', 'configuredBand', 'configuredband', 'connect', 'controlMode', 'controlmode', 'dataCaptureStatus', 'dataStreamBandChangeStatus', 'dataStreamCntlSoftwareReset', 'dataStreamCurrentBand', 'datacapturestatus', 'datastreambandchangestatus', 'datastreamcntlsoftwarereset', 'datastreamcurrentband', 'defaultCommandExtractAs', 'delete_property', 'deletesoftwareupdate', 'description', 'dev_name', 'dsBuildDateTime', 'dsGitCommitHash', 'dsVersionId', 'dsbuilddatetime', 'dsgitcommithash', 'dsversionid', 'engTemperatureValues', 'engineeringModeEnabled', 'engineeringmodeenabled', 'engtemperaturevalues', 'event_queue_size', 'freeze_dynamic_interface', 'fwVersions', 'fwversions', 'get_access_control', 'get_access_right', 'get_asynch_replies', 'get_attribute_config', 'get_attribute_config_ex', 'get_attribute_list', 'get_attribute_poll_period', 'get_command_config', 'get_command_list', 'get_command_poll_period', 'get_db_host', 'get_db_port', 'get_db_port_num', 'get_dev_host', 'get_dev_port', 'get_device_db', 'get_events', 'get_fqdn', 'get_from_env_var', 'get_green_mode', 'get_idl_version', 'get_last_event_date', 'get_locker', 'get_logging_level', 'get_logging_target', 'get_pipe_config', 'get_pipe_list', 'get_property', 'get_property_list', 'get_source', 'get_tango_lib_version', 'get_timeout_millis', 'get_transparency_reconnection', 'getlogginglevel', 'getloggingtarget', 'getregistervalue', 'getversioninfo', 'healthState', 'healthstate', 'import_info', 'info', 'init', 'interfacessanitycheck', 'is_attribute_polled', 'is_command_polled', 'is_dbase_used', 'is_dynamic_interface_frozen', 'is_event_queue_empty', 'is_locked', 'is_locked_by_me', 'kValue', 'kvalue', 'lock', 'locking_status', 'loggingLevel', 'loggingTargets', 'logginglevel', 'loggingtargets', 'monitorping', 'name', 'noiseDiodeMode', 'noiseDiodeState', 'noisediodemode', 'noisediodestate', 'operatingMode', 'operatingmode', 'packetizerCntlSoftwareReset', 'packetizercntlsoftwarereset', 'pending_asynch_call', 'periodicNoiseDiodePars', 'periodicnoisediodepars', 'ping', 'poll_attribute', 'poll_command', 'polling_status', 'pseudoRandomNoiseDiodePars', 'pseudorandomnoisediodepars', 'put_property', 'read_attribute', 'read_attribute_asynch', 'read_attribute_reply', 'read_attributes', 'read_attributes_asynch', 'read_attributes_reply', 'read_pipe', 'reconnect', 'remove_logging_target', 'removeloggingtarget', 'reset', 'rxpuFanSpeed1', 'rxpuFanSpeed2', 'rxpuFanSpeed3', 'rxpuHealthState', 'rxpuHumidity', 'rxpuOperationalTime', 'rxpuPowerConsumption', 'rxpuSupplyCurrent1', 'rxpuSupplyCurrent2', 'rxpuSupplyVoltage1', 'rxpuSupplyVoltage2', 'rxpuTemperature', 'rxpuTotOperationalTime', 'rxpufanspeed1', 'rxpufanspeed2', 'rxpufanspeed3', 'rxpuhealthstate', 'rxpuhumidity', 'rxpuoperationaltime', 'rxpupowerconsumption', 'rxpusupplycurrent1', 'rxpusupplycurrent2', 'rxpusupplyvoltage1', 'rxpusupplyvoltage2', 'rxputemperature', 'rxputotoperationaltime', 'rxs123ClkPowerLevelVoltage', 'rxs123ExpectedOnline', 'rxs123HealthState', 'rxs123ODLHumidity', 'rxs123OdlB12Supply25Voltage', 'rxs123OdlB12Supply33Voltage', 'rxs123OdlB3Supply25Voltage', 'rxs123OdlB3Supply33Voltage', 'rxs123OdlPowerSupply12Voltage', 'rxs123OdlPowerSupply5Voltage', 'rxs123OdlTemperature', 'rxs123PowerConsumption', 'rxs123Powered', 'rxs123Rfof1ppsPowerLevel', 'rxs123RfofRefPowerLevel', 'rxs123SurgeArresterVoltage', 'rxs123clkpowerlevelvoltage', 'rxs123expectedonline', 'rxs123healthstate', 'rxs123odlb12supply25voltage', 'rxs123odlb12supply33voltage', 'rxs123odlb3supply25voltage', 'rxs123odlb3supply33voltage', 'rxs123odlhumidity', 'rxs123odlpowersupply12voltage', 'rxs123odlpowersupply5voltage', 'rxs123odltemperature', 'rxs123powerconsumption', 'rxs123powered', 'rxs123rfof1ppspowerlevel', 'rxs123rfofrefpowerlevel', 'rxs123surgearrestervoltage', 'rxs45ExpectedOnline', 'rxs45HealthState', 'rxs45OdlAdcCurrent_1', 'rxs45OdlAdcCurrent_2', 'rxs45OdlHumidity', 'rxs45OdlPowerInputRMS_1H', 'rxs45OdlPowerInputRMS_1V', 'rxs45OdlPowerInputRMS_2H', 'rxs45OdlPowerInputRMS_2V', 'rxs45OdlPowerSupplyVoltage_1', 'rxs45OdlPowerSupplyVoltage_2', 'rxs45OdlTemperature', 'rxs45OdlTemperature_1', 'rxs45OdlTemperature_2', 'rxs45OdlVlsb_1H', 'rxs45OdlVlsb_1V', 'rxs45OdlVlsb_2H', 'rxs45OdlVlsb_2V', 'rxs45PowerConsumption', 'rxs45Powered', 'rxs45RfHumidity', 'rxs45RfTemperature', 'rxs45expectedonline', 'rxs45healthstate', 'rxs45odladccurrent_1', 'rxs45odladccurrent_2', 'rxs45odlhumidity', 'rxs45odlpowerinputrms_1h', 'rxs45odlpowerinputrms_1v', 'rxs45odlpowerinputrms_2h', 'rxs45odlpowerinputrms_2v', 'rxs45odlpowersupplyvoltage_1', 'rxs45odlpowersupplyvoltage_2', 'rxs45odltemperature', 'rxs45odltemperature_1', 'rxs45odltemperature_2', 'rxs45odlvlsb_1h', 'rxs45odlvlsb_1v', 'rxs45odlvlsb_2h', 'rxs45odlvlsb_2v', 'rxs45powerconsumption', 'rxs45powered', 'rxs45rfhumidity', 'rxs45rftemperature', 'samplingClockFrequency', 'samplingClockSynchronised', 'samplingclockfrequency', 'samplingclocksynchronised', 'satBandgapVoltage', 'satDds1ManualRegisterCtrl', 'satDds1Parameters', 'satDds2ManualRegisterCtrl', 'satDds2Parameters', 'satDiscreteDigitalCtrl', 'satDroFrequency', 'satInputVoltages', 'satMcuDieTemp', 'satMcuSystemClockCtrl', 'satMicrowaveInputSignalPower', 'satMicrowaveMixerVoltage', 'satOcxoAgeingCompensation', 'satOcxoHeaterCurrent', 'satOcxoTuningFrequency', 'satOffsetFrequencyCounter', 'satOpticalAttenuation', 'satOpticalInputSignalCurrent', 'satPcbTemperature', 'satPllLockTimer', 'satPllOutputSignalPower', 'satPllUnlockTimer', 'satRegenDividerCtrl', 'satRegisterInvalidValueStatusFlags', 'satRegisterUnstableValueStatusFlags', 'satSystemRunTime', 'satSystemStatusFlags', 'satTempNearLdoBlock', 'satUnlockEventCounter', 'satbandgapvoltage', 'satdds1manualregisterctrl', 'satdds1parameters', 'satdds2manualregisterctrl', 'satdds2parameters', 'satdiscretedigitalctrl', 'satdrofrequency', 'satinputvoltages', 'satmcudietemp', 'satmcusystemclockctrl', 'satmicrowaveinputsignalpower', 'satmicrowavemixervoltage', 'satocxoageingcompensation', 'satocxoheatercurrent', 'satocxotuningfrequency', 'satoffsetfrequencycounter', 'satopticalattenuation', 'satopticalinputsignalcurrent', 'satpcbtemperature', 'satplllocktimer', 'satplloutputsignalpower', 'satpllunlocktimer', 'satregendividerctrl', 'satregisterinvalidvaluestatusflags', 'satregisterunstablevaluestatusflags', 'satsystemruntime', 'satsystemstatusflags', 'sattempnearldoblock', 'satunlockeventcounter', 'saturationThreshold', 'saturationthreshold', 'serialNumbers', 'serialnumbers', 'set_access_control', 'set_attribute_config', 'set_green_mode', 'set_logging_level', 'set_pipe_config', 'set_source', 'set_timeout_millis', 'set_transparency_reconnection', 'setkvalue', 'setlogginglevel', 'setmaintenancemode', 'setnoisediodestate', 'setpolhattenuation', 'setpolvattenuation', 'setregistervalue', 'setrxs123powerstate', 'setrxs45powerstate', 'setsatddsparameters', 'setsatddsreset', 'setstandbymode', 'shutdown', 'simulationMode', 'simulationmode', 'softwareUpdateInfo', 'softwareUpdateProgress', 'softwareupdateinfo', 'softwareupdateprogress', 'spectrometerctrl', 'spectrometerenabled', 'spectrometerinterval', 'spectrumSample', 'spectrumsample', 'state', 'status', 'stop_poll_attribute', 'stop_poll_command', 'subElHealthState', 'subelhealthstate', 'subscribe_event', 'swVersions', 'swversions', 'synchronisationEpoch', 'synchronisationepoch', 'synchroniseadcpath', 'testMode', 'testmode', 'unfreeze_dynamic_interface', 'unlock', 'unsubscribe_event', 'updatesoftware', 'write_attribute', 'write_attribute_asynch', 'write_attribute_reply', 'write_attributes', 'write_attributes_asynch', 'write_attributes_reply', 'write_pipe', 'write_read_attribute', 'write_read_attributes']\n",
      "Pinging ska001/spfrxpu/controller\n",
      "Pinging ska001/spfrxpu/controller\n",
      "Pinging ska001/spfrxpu/controller\n",
      "Pinging ska001/spfrxpu/controller\n",
      "Pinging ska001/spfrxpu/controller\n",
      "Pinging ska001/spfrxpu/controller\n",
      "Pinging ska001/spfrxpu/controller\n",
      "Pinging ska001/spfrxpu/controller\n",
      "Pinging ska001/spfrxpu/controller\n",
      "Pinging ska001/spfrxpu/controller\n",
      "Pinging ska001/spfrxpu/controller\n",
      "Pinging ska001/spfrxpu/controller\n",
      "Pinging ska001/spfrxpu/controller\n",
      "Pinging ska001/spfrxpu/controller\n",
      "Pinging ska001/spfrxpu/controller\n",
      "Pinging ska001/spfrxpu/controller\n",
      "Pinging ska001/spfrxpu/controller\n",
      "Pinging ska001/spfrxpu/controller\n",
      "Pinging ska001/spfrxpu/controller\n",
      "Pinging ska001/spfrxpu/controller\n",
      "Pinging ska001/spfrxpu/controller\n",
      "Pinging ska001/spfrxpu/controller\n",
      "Pinging ska001/spfrxpu/controller\n",
      "Pinging ska001/spfrxpu/controller\n",
      "Pinging ska001/spfrxpu/controller\n",
      "Pinging ska001/spfrxpu/controller\n",
      "Pinging ska001/spfrxpu/controller\n",
      "Pinging ska001/spfrxpu/controller\n",
      "Pinging ska001/spfrxpu/controller\n",
      "Pinging ska001/spfrxpu/controller\n",
      "Pinging ska001/spfrxpu/controller\n",
      "Pinging ska001/spfrxpu/controller\n",
      "Pinging ska001/spfrxpu/controller\n",
      "Pinging ska001/spfrxpu/controller\n"
     ]
    },
    {
     "ename": "ConnectionFailed",
     "evalue": "DevFailed[\nDevError[\n    desc = TRANSIENT CORBA system exception: TRANSIENT_CallTimedout\n  origin = void Tango::Connection::connect(const string&) at (/src/cppTango/cppapi/client/devapi_base.cpp:604)\n  reason = API_CorbaException\nseverity = ERR]\n\nDevError[\n    desc = Failed to connect to database on host 192.168.128.118 with port 10000\n  origin = void Tango::Connection::connect(const string&) at (/src/cppTango/cppapi/client/devapi_base.cpp:604)\n  reason = API_CantConnectToDatabase\nseverity = ERR]\n\nDevError[\n    desc = Failed to execute command_inout on device sys/database/2, command DbImportDevice\n  origin = virtual Tango::DeviceData Tango::Connection::command_inout(const string&, const Tango::DeviceData&) at (/src/cppTango/cppapi/client/devapi_base.cpp:1324)\n  reason = API_CommandFailed\nseverity = ERR]\n\nDevError[\n    desc = Failed to execute command_inout on device ska001/spfrxpu/controller, command MonitorPing\n  origin = virtual Tango::DeviceData Tango::Connection::command_inout(const string&, const Tango::DeviceData&) at (/src/cppTango/cppapi/client/devapi_base.cpp:1324)\n  reason = API_CommandFailed\nseverity = ERR]\n]",
     "output_type": "error",
     "traceback": [
      "\u001b[0;31m---------------------------------------------------------------------------\u001b[0m",
      "\u001b[0;31mConnectionFailed\u001b[0m                          Traceback (most recent call last)",
      "Cell \u001b[0;32mIn[8], line 12\u001b[0m\n\u001b[1;32m      9\u001b[0m \u001b[38;5;28mprint\u001b[39m(\u001b[38;5;28mdir\u001b[39m(dp))\n\u001b[1;32m     11\u001b[0m \u001b[38;5;28;01mwhile\u001b[39;00m \u001b[38;5;28;01mTrue\u001b[39;00m:\n\u001b[0;32m---> 12\u001b[0m     \u001b[43mdp\u001b[49m\u001b[38;5;241;43m.\u001b[39;49m\u001b[43mcommand_inout\u001b[49m\u001b[43m(\u001b[49m\u001b[38;5;124;43m\"\u001b[39;49m\u001b[38;5;124;43mMonitorPing\u001b[39;49m\u001b[38;5;124;43m\"\u001b[39;49m\u001b[43m)\u001b[49m\n\u001b[1;32m     13\u001b[0m     \u001b[38;5;28mprint\u001b[39m(\u001b[38;5;124mf\u001b[39m\u001b[38;5;124m\"\u001b[39m\u001b[38;5;124mPinging \u001b[39m\u001b[38;5;132;01m{\u001b[39;00mserver\u001b[38;5;132;01m}\u001b[39;00m\u001b[38;5;124m\"\u001b[39m)\n\u001b[1;32m     14\u001b[0m     sleep(\u001b[38;5;241m100\u001b[39m)\n",
      "File \u001b[0;32m~/venv/lib/python3.10/site-packages/tango/green.py:208\u001b[0m, in \u001b[0;36mgreen.<locals>.decorator.<locals>.greener\u001b[0;34m(obj, *args, **kwargs)\u001b[0m\n\u001b[1;32m    206\u001b[0m green_mode \u001b[38;5;241m=\u001b[39m access(\u001b[38;5;124m\"\u001b[39m\u001b[38;5;124mgreen_mode\u001b[39m\u001b[38;5;124m\"\u001b[39m, \u001b[38;5;28;01mNone\u001b[39;00m)\n\u001b[1;32m    207\u001b[0m executor \u001b[38;5;241m=\u001b[39m get_object_executor(obj, green_mode)\n\u001b[0;32m--> 208\u001b[0m \u001b[38;5;28;01mreturn\u001b[39;00m \u001b[43mexecutor\u001b[49m\u001b[38;5;241;43m.\u001b[39;49m\u001b[43mrun\u001b[49m\u001b[43m(\u001b[49m\u001b[43mfn\u001b[49m\u001b[43m,\u001b[49m\u001b[43m \u001b[49m\u001b[43margs\u001b[49m\u001b[43m,\u001b[49m\u001b[43m \u001b[49m\u001b[43mkwargs\u001b[49m\u001b[43m,\u001b[49m\u001b[43m \u001b[49m\u001b[43mwait\u001b[49m\u001b[38;5;241;43m=\u001b[39;49m\u001b[43mwait\u001b[49m\u001b[43m,\u001b[49m\u001b[43m \u001b[49m\u001b[43mtimeout\u001b[49m\u001b[38;5;241;43m=\u001b[39;49m\u001b[43mtimeout\u001b[49m\u001b[43m)\u001b[49m\n",
      "File \u001b[0;32m~/venv/lib/python3.10/site-packages/tango/green.py:116\u001b[0m, in \u001b[0;36mAbstractExecutor.run\u001b[0;34m(self, fn, args, kwargs, wait, timeout)\u001b[0m\n\u001b[1;32m    114\u001b[0m \u001b[38;5;66;03m# Synchronous (no delegation)\u001b[39;00m\n\u001b[1;32m    115\u001b[0m \u001b[38;5;28;01mif\u001b[39;00m \u001b[38;5;129;01mnot\u001b[39;00m \u001b[38;5;28mself\u001b[39m\u001b[38;5;241m.\u001b[39masynchronous \u001b[38;5;129;01mor\u001b[39;00m \u001b[38;5;129;01mnot\u001b[39;00m \u001b[38;5;28mself\u001b[39m\u001b[38;5;241m.\u001b[39min_executor_context():\n\u001b[0;32m--> 116\u001b[0m     \u001b[38;5;28;01mreturn\u001b[39;00m \u001b[43mfn\u001b[49m\u001b[43m(\u001b[49m\u001b[38;5;241;43m*\u001b[39;49m\u001b[43margs\u001b[49m\u001b[43m,\u001b[49m\u001b[43m \u001b[49m\u001b[38;5;241;43m*\u001b[39;49m\u001b[38;5;241;43m*\u001b[39;49m\u001b[43mkwargs\u001b[49m\u001b[43m)\u001b[49m\n\u001b[1;32m    117\u001b[0m \u001b[38;5;66;03m# Asynchronous delegation\u001b[39;00m\n\u001b[1;32m    118\u001b[0m accessor \u001b[38;5;241m=\u001b[39m \u001b[38;5;28mself\u001b[39m\u001b[38;5;241m.\u001b[39mdelegate(fn, \u001b[38;5;241m*\u001b[39margs, \u001b[38;5;241m*\u001b[39m\u001b[38;5;241m*\u001b[39mkwargs)\n",
      "File \u001b[0;32m~/venv/lib/python3.10/site-packages/tango/connection.py:116\u001b[0m, in \u001b[0;36m__Connection__command_inout\u001b[0;34m(self, name, *args, **kwds)\u001b[0m\n\u001b[1;32m     84\u001b[0m \u001b[38;5;28;01mdef\u001b[39;00m \u001b[38;5;21m__Connection__command_inout\u001b[39m(\u001b[38;5;28mself\u001b[39m, name, \u001b[38;5;241m*\u001b[39margs, \u001b[38;5;241m*\u001b[39m\u001b[38;5;241m*\u001b[39mkwds):\n\u001b[1;32m     85\u001b[0m \u001b[38;5;250m    \u001b[39m\u001b[38;5;124;03m\"\"\"\u001b[39;00m\n\u001b[1;32m     86\u001b[0m \u001b[38;5;124;03m    command_inout( self, cmd_name, cmd_param=None, green_mode=None, wait=True, timeout=None) -> any\u001b[39;00m\n\u001b[1;32m     87\u001b[0m \n\u001b[0;32m   (...)\u001b[0m\n\u001b[1;32m    114\u001b[0m \u001b[38;5;124;03m        *timeout* parameter.\u001b[39;00m\n\u001b[1;32m    115\u001b[0m \u001b[38;5;124;03m    \"\"\"\u001b[39;00m\n\u001b[0;32m--> 116\u001b[0m     r \u001b[38;5;241m=\u001b[39m \u001b[43mConnection\u001b[49m\u001b[38;5;241;43m.\u001b[39;49m\u001b[43mcommand_inout_raw\u001b[49m\u001b[43m(\u001b[49m\u001b[38;5;28;43mself\u001b[39;49m\u001b[43m,\u001b[49m\u001b[43m \u001b[49m\u001b[43mname\u001b[49m\u001b[43m,\u001b[49m\u001b[43m \u001b[49m\u001b[38;5;241;43m*\u001b[39;49m\u001b[43margs\u001b[49m\u001b[43m,\u001b[49m\u001b[43m \u001b[49m\u001b[38;5;241;43m*\u001b[39;49m\u001b[38;5;241;43m*\u001b[39;49m\u001b[43mkwds\u001b[49m\u001b[43m)\u001b[49m\n\u001b[1;32m    117\u001b[0m     \u001b[38;5;28;01mif\u001b[39;00m \u001b[38;5;28misinstance\u001b[39m(r, DeviceData):\n\u001b[1;32m    118\u001b[0m         \u001b[38;5;28;01mtry\u001b[39;00m:\n",
      "File \u001b[0;32m~/venv/lib/python3.10/site-packages/tango/connection.py:145\u001b[0m, in \u001b[0;36m__Connection__command_inout_raw\u001b[0;34m(self, cmd_name, cmd_param)\u001b[0m\n\u001b[1;32m    130\u001b[0m \u001b[38;5;250m\u001b[39m\u001b[38;5;124;03m\"\"\"\u001b[39;00m\n\u001b[1;32m    131\u001b[0m \u001b[38;5;124;03mcommand_inout_raw( self, cmd_name, cmd_param=None) -> DeviceData\u001b[39;00m\n\u001b[1;32m    132\u001b[0m \n\u001b[0;32m   (...)\u001b[0m\n\u001b[1;32m    142\u001b[0m \u001b[38;5;124;03m    Throws     : ConnectionFailed, CommunicationFailed, DeviceUnlocked, DevFailed from device\u001b[39;00m\n\u001b[1;32m    143\u001b[0m \u001b[38;5;124;03m\"\"\"\u001b[39;00m\n\u001b[1;32m    144\u001b[0m param \u001b[38;5;241m=\u001b[39m __get_command_inout_param(\u001b[38;5;28mself\u001b[39m, cmd_name, cmd_param)\n\u001b[0;32m--> 145\u001b[0m \u001b[38;5;28;01mreturn\u001b[39;00m \u001b[38;5;28;43mself\u001b[39;49m\u001b[38;5;241;43m.\u001b[39;49m\u001b[43m__command_inout\u001b[49m\u001b[43m(\u001b[49m\u001b[43mcmd_name\u001b[49m\u001b[43m,\u001b[49m\u001b[43m \u001b[49m\u001b[43mparam\u001b[49m\u001b[43m)\u001b[49m\n",
      "\u001b[0;31mConnectionFailed\u001b[0m: DevFailed[\nDevError[\n    desc = TRANSIENT CORBA system exception: TRANSIENT_CallTimedout\n  origin = void Tango::Connection::connect(const string&) at (/src/cppTango/cppapi/client/devapi_base.cpp:604)\n  reason = API_CorbaException\nseverity = ERR]\n\nDevError[\n    desc = Failed to connect to database on host 192.168.128.118 with port 10000\n  origin = void Tango::Connection::connect(const string&) at (/src/cppTango/cppapi/client/devapi_base.cpp:604)\n  reason = API_CantConnectToDatabase\nseverity = ERR]\n\nDevError[\n    desc = Failed to execute command_inout on device sys/database/2, command DbImportDevice\n  origin = virtual Tango::DeviceData Tango::Connection::command_inout(const string&, const Tango::DeviceData&) at (/src/cppTango/cppapi/client/devapi_base.cpp:1324)\n  reason = API_CommandFailed\nseverity = ERR]\n\nDevError[\n    desc = Failed to execute command_inout on device ska001/spfrxpu/controller, command MonitorPing\n  origin = virtual Tango::DeviceData Tango::Connection::command_inout(const string&, const Tango::DeviceData&) at (/src/cppTango/cppapi/client/devapi_base.cpp:1324)\n  reason = API_CommandFailed\nseverity = ERR]\n]"
     ]
    }
   ],
   "source": [
    "from PyTango import DeviceProxy\n",
    "import os\n",
    "from time import sleep\n",
    "\n",
    "os.environ[\"TANGO_HOST\"] = TANGO_HOST_RXPU1\n",
    "server = \"ska001/spfrxpu/controller\"\n",
    "dp = DeviceProxy(server)\n",
    "\n",
    "print(dir(dp))\n",
    "\n",
    "while True:\n",
    "    dp.command_inout(\"MonitorPing\")\n",
    "    print(f\"Pinging {server}\")\n",
    "    sleep(100)"
   ]
  }
 ],
 "metadata": {
  "kernelspec": {
   "display_name": "venv",
   "language": "python",
   "name": "python3"
  },
  "language_info": {
   "codemirror_mode": {
    "name": "ipython",
    "version": 3
   },
   "file_extension": ".py",
   "mimetype": "text/x-python",
   "name": "python",
   "nbconvert_exporter": "python",
   "pygments_lexer": "ipython3",
   "version": "3.10.14"
  }
 },
 "nbformat": 4,
 "nbformat_minor": 2
}
