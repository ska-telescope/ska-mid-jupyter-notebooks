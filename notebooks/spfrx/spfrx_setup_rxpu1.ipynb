{
 "cells": [
  {
   "cell_type": "code",
   "execution_count": null,
   "metadata": {},
   "outputs": [],
   "source": [
    "TANGO_HOST_RXPU1 = \"192.168.128.53:10000\"\n",
    "SPFRX_ADDRESS = \"192.168.8.200\"\n",
    "PATH_TO_DISH_CONSOLE_REPO = \"/home/ja097202_p/code\"\n",
    "\n",
    "import os\n",
    "from time import sleep\n",
    "\n",
    "from PyTango import DeviceProxy"
   ]
  },
  {
   "cell_type": "markdown",
   "metadata": {},
   "source": [
    "## Setup SPFRx deployment"
   ]
  },
  {
   "cell_type": "markdown",
   "metadata": {},
   "source": [
    "### Verify Band"
   ]
  },
  {
   "cell_type": "code",
   "execution_count": null,
   "metadata": {},
   "outputs": [],
   "source": [
    "!make spfrx ARGS=\"-vb\" SPFRX_TANGO_HOST=$TANGO_HOST_RXPU1 SPFRX_ADDRESS=$SPFRX_ADDRESS -C $PATH_TO_DISH_CONSOLE_REPO/ska-mid-dish-spfrx-talondx-console/"
   ]
  },
  {
   "cell_type": "markdown",
   "metadata": {},
   "source": [
    "### Set K Value"
   ]
  },
  {
   "cell_type": "code",
   "execution_count": null,
   "metadata": {},
   "outputs": [],
   "source": [
    "os.environ[\"TANGO_HOST\"] = TANGO_HOST_RXPU1\n",
    "server = \"ska001/spfrxpu/controller\"\n",
    "dp = DeviceProxy(server)\n",
    "# print(dp.kValue)\n",
    "dp.SetKValue(13)"
   ]
  },
  {
   "cell_type": "code",
   "execution_count": null,
   "metadata": {},
   "outputs": [],
   "source": [
    "!make spfrx-stop SPFRX_ADDRESS=$SPFRX_ADDRESS -C $PATH_TO_DISH_CONSOLE_REPO/ska-mid-dish-spfrx-talondx-console/"
   ]
  },
  {
   "cell_type": "code",
   "execution_count": null,
   "metadata": {},
   "outputs": [],
   "source": [
    "print(dp.kValue)"
   ]
  },
  {
   "cell_type": "markdown",
   "metadata": {},
   "source": [
    "### Set Band and Sync"
   ]
  },
  {
   "cell_type": "code",
   "execution_count": null,
   "metadata": {},
   "outputs": [],
   "source": [
    "!make spfrx ARGS=\"--band=1 -sync\" SPFRX_TANGO_HOST=$TANGO_HOST_RXPU1 SPFRX_ADDRESS=$SPFRX_ADDRESS -C $PATH_TO_DISH_CONSOLE_REPO/ska-mid-dish-spfrx-talondx-console/"
   ]
  },
  {
   "cell_type": "markdown",
   "metadata": {},
   "source": [
    "### Monitor Ping"
   ]
  },
  {
   "cell_type": "code",
   "execution_count": null,
   "metadata": {},
   "outputs": [],
   "source": [
    "os.environ[\"TANGO_HOST\"] = TANGO_HOST_RXPU1\n",
    "server = \"ska001/spfrxpu/controller\"\n",
    "dp = DeviceProxy(server)\n",
    "\n",
    "while True:\n",
    "    dp.command_inout(\"MonitorPing\")\n",
    "    print(f\"Pinging {server}\")\n",
    "    sleep(100)"
   ]
  }
 ],
 "metadata": {
  "kernelspec": {
   "display_name": "venv",
   "language": "python",
   "name": "python3"
  },
  "language_info": {
   "codemirror_mode": {
    "name": "ipython",
    "version": 3
   },
   "file_extension": ".py",
   "mimetype": "text/x-python",
   "name": "python",
   "nbconvert_exporter": "python",
   "pygments_lexer": "ipython3",
   "version": "3.10.14"
  }
 },
 "nbformat": 4,
 "nbformat_minor": 2
}
