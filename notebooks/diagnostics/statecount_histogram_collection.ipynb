{
 "cells": [
  {
   "cell_type": "markdown",
   "metadata": {},
   "source": [
    "# Wideband Statecount and Histogram Data Collection"
   ]
  },
  {
   "cell_type": "markdown",
   "metadata": {},
   "source": [
    "## Setup"
   ]
  },
  {
   "cell_type": "code",
   "execution_count": null,
   "metadata": {},
   "outputs": [],
   "source": [
    "import os\n",
    "import csv\n",
    "import pathlib\n",
    "import shutil\n",
    "import numpy as np\n",
    "from tabulate import tabulate\n",
    "from PyTango import DeviceProxy\n",
    "\n",
    "import notebook_tools.histogram_client as HistogramClient\n",
    "from notebook_tools.misc_helper import get_tango_host"
   ]
  },
  {
   "cell_type": "markdown",
   "metadata": {},
   "source": [
    "First, get the ns to check and set to be used at the tango host for future steps."
   ]
  },
  {
   "cell_type": "code",
   "execution_count": null,
   "metadata": {},
   "outputs": [],
   "source": [
    "!kubectl get ns | grep ska-mid-psi"
   ]
  },
  {
   "cell_type": "markdown",
   "metadata": {},
   "source": [
    "Set these as required, with the namespace pointing to a namespace that has completed a scan. Set VCC to to the boards used by the scan."
   ]
  },
  {
   "cell_type": "code",
   "execution_count": null,
   "metadata": {},
   "outputs": [],
   "source": [
    "namespace = \"ci-ska-mid-psi-1715911277-alexschell\"\n",
    "vccs = [2]\n",
    "lanes = [1]\n",
    "timeout_ms = 3000\n",
    "path = os.getcwd() + \"/output-data/\" + namespace"
   ]
  },
  {
   "cell_type": "markdown",
   "metadata": {},
   "source": [
    "To grab the histogram client and access devices, we set the TANGO host environment variable to point to the namespace:"
   ]
  },
  {
   "cell_type": "code",
   "execution_count": null,
   "metadata": {},
   "outputs": [],
   "source": [
    "os.environ[\"TANGO_HOST\"] = get_tango_host(namespace)"
   ]
  },
  {
   "cell_type": "code",
   "execution_count": null,
   "metadata": {},
   "outputs": [],
   "source": [
    "pre_vcc_x = []\n",
    "pre_vcc_y = []\n",
    "post_vcc_x_lanes = []\n",
    "post_vcc_y_lanes = []\n",
    "state_count_vec_1 = []\n",
    "state_count_vec_2 = []\n",
    "power_spectrum_1 = []\n",
    "power_spectrum_2 = []"
   ]
  },
  {
   "cell_type": "markdown",
   "metadata": {},
   "source": [
    "## Histogram Data Collection"
   ]
  },
  {
   "cell_type": "markdown",
   "metadata": {},
   "source": [
    "The following steps collect the histogram data from the respective stages in the signal chain:"
   ]
  },
  {
   "cell_type": "markdown",
   "metadata": {},
   "source": [
    "### Pre-VCC"
   ]
  },
  {
   "cell_type": "markdown",
   "metadata": {},
   "source": [
    "To collect the pre-VCC data, step through each of the VCCs, and collect the histogram from each:"
   ]
  },
  {
   "cell_type": "code",
   "execution_count": null,
   "metadata": {},
   "outputs": [],
   "source": [
    "for vcc in vccs:\n",
    "    device = f\"talondx-00{vcc}/histogram/e_pre_vcc\"\n",
    "    client = HistogramClient.HistogramClient(device, timeout_ms)\n",
    "\n",
    "    # data is an array of [pol_x_data, pol_y_data], or None if success is false.\n",
    "    success, data = client.capture()\n",
    "    if success:\n",
    "        print(\"Pre-VCC data capture successful, storing\")\n",
    "        pre_vcc_x = data[0]\n",
    "        pre_vcc_y = data[1]\n",
    "        print(f\"Pol-x Histogram is of dimensions {len(pre_vcc_x)}X{len(pre_vcc_x[0])}\")\n",
    "        print(f\"Pol-y Histogram is of dimensions {len(pre_vcc_y)}X{len(pre_vcc_y[0])}\")\n",
    "    else:\n",
    "        print(\"Could not get Pre-VCC data!\")"
   ]
  },
  {
   "cell_type": "markdown",
   "metadata": {},
   "source": [
    "To display the plots if desired"
   ]
  },
  {
   "cell_type": "code",
   "execution_count": null,
   "metadata": {},
   "outputs": [],
   "source": [
    "print(\"Pol X histogram data:\")\n",
    "pol_x_headers = range(len(pre_vcc_x))\n",
    "print(tabulate(pre_vcc_x, tablefmt=\"simple\", headers=pol_x_headers, showindex=\"always\"))\n",
    "print(\"Pol Y histogram data:\")\n",
    "pol_y_headers = range(len(pre_vcc_y))\n",
    "print(tabulate(pre_vcc_y, tablefmt=\"simple\", headers=pol_y_headers, showindex=\"always\"))"
   ]
  },
  {
   "cell_type": "markdown",
   "metadata": {},
   "source": [
    "### Post-VCC"
   ]
  },
  {
   "cell_type": "markdown",
   "metadata": {},
   "source": [
    "To collect the post-vcc histogram data, we check each lane"
   ]
  },
  {
   "cell_type": "code",
   "execution_count": null,
   "metadata": {},
   "outputs": [],
   "source": [
    "for vcc in vccs:\n",
    "    for lane in lanes:\n",
    "        device = f\"talondx-00{vcc}/histogram/e_post_vcc_{lane}\"\n",
    "        client = HistogramClient.HistogramClient(device, timeout_ms)\n",
    "        success, data = client.capture()\n",
    "        if success:\n",
    "            print(f\"Captured data for Board {vcc}, lane {lane}\")\n",
    "            post_vcc_x = data[0]\n",
    "            post_vcc_x_lanes.append(post_vcc_x)\n",
    "            post_vcc_y = data[1]\n",
    "            post_vcc_y_lanes.append(post_vcc_y)\n",
    "            print(f\"Pol-x Histogram is of dimensions {len(post_vcc_x)}X{len(post_vcc_x[0])}\")\n",
    "            print(f\"Pol-y Histogram is of dimensions {len(post_vcc_y)}X{len(post_vcc_y[0])}\")\n",
    "        else:\n",
    "            print(f\"Could not capture data for Board {vcc}, lane {lane}\")"
   ]
  },
  {
   "cell_type": "markdown",
   "metadata": {},
   "source": [
    "### Store Histogram Data"
   ]
  },
  {
   "cell_type": "markdown",
   "metadata": {},
   "source": [
    "Once the histograms are collected, write them to relevant CSV files:"
   ]
  },
  {
   "cell_type": "code",
   "execution_count": null,
   "metadata": {},
   "outputs": [],
   "source": [
    "histogram_folder = path + \"/histograms/\"\n",
    "folder = pathlib.Path(histogram_folder)\n",
    "folder.mkdir(parents=True, exist_ok=True)\n",
    "if pre_vcc_x.any():\n",
    "    with open(histogram_folder + \"pre_vcc_x.csv\", \"w\") as csvfile:\n",
    "        writer = csv.writer(csvfile)\n",
    "        writer.writerows(pre_vcc_x)\n",
    "        print(f\"Wrote histogram data to {histogram_folder}pre_vcc_x.csv\")\n",
    "if pre_vcc_y.any():\n",
    "    with open(histogram_folder + \"pre_vcc_y.csv\", \"w\") as csvfile:\n",
    "        writer = csv.writer(csvfile)\n",
    "        writer.writerows(pre_vcc_y)\n",
    "        print(f\"Wrote histogram data to {histogram_folder}pre_vcc_y.csv\")"
   ]
  },
  {
   "cell_type": "markdown",
   "metadata": {},
   "source": [
    "## Statecount Collection"
   ]
  },
  {
   "cell_type": "markdown",
   "metadata": {},
   "source": [
    "The wideband statecount can also be collected:"
   ]
  },
  {
   "cell_type": "code",
   "execution_count": null,
   "metadata": {},
   "outputs": [],
   "source": [
    "vcc_statecount_holder = []\n",
    "for vcc in vccs:\n",
    "    device = f\"talondx-00{vcc}/wbstatecount/state_count\"\n",
    "    talon_proxy = DeviceProxy(device)\n",
    "    talon_proxy.command_inout(\"state_count_capture\")\n",
    "    state_count_vec_1 = talon_proxy.read_attribute(\"state_count_vector_1\").value\n",
    "    lst = list(state_count_vec_1)\n",
    "    lst.insert(0, \"State Count Vector 1\")\n",
    "    state_count_vec_1 = np.asarray(lst)\n",
    "\n",
    "    state_count_vec_2 = talon_proxy.read_attribute(\"state_count_vector_2\").value\n",
    "    lst = list(state_count_vec_2)\n",
    "    lst.insert(0, \"State Count Vector 2\")\n",
    "    state_count_vec_2 = np.asarray(lst)\n",
    "\n",
    "    power_spectrum_1 = talon_proxy.read_attribute(\"psd_vector_1\").value\n",
    "    lst = list(power_spectrum_1)\n",
    "    lst.insert(0, \"Power Spectrum 1\")\n",
    "    power_spectrum_1 = np.asarray(lst)\n",
    "\n",
    "    power_spectrum_2 = talon_proxy.read_attribute(\"psd_vector_2\").value\n",
    "    lst = list(power_spectrum_2)\n",
    "    lst.insert(0, \"Power Spectrum 2\")\n",
    "    power_spectrum_2 = np.asarray(lst)\n",
    "\n",
    "    vcc_statecount_holder.append(\n",
    "        [state_count_vec_1, state_count_vec_2, power_spectrum_1, power_spectrum_2]\n",
    "    )"
   ]
  },
  {
   "cell_type": "markdown",
   "metadata": {},
   "source": [
    "Format to make these a bit easier to read when output to CSV:"
   ]
  },
  {
   "cell_type": "code",
   "execution_count": null,
   "metadata": {},
   "outputs": [],
   "source": [
    "print(tabulate(vcc_statecount_holder[0], tablefmt=\"simple\"))"
   ]
  },
  {
   "cell_type": "code",
   "execution_count": null,
   "metadata": {},
   "outputs": [],
   "source": [
    "statecount_folder = path + \"/statecounts/\"\n",
    "folder = pathlib.Path(statecount_folder)\n",
    "folder.mkdir(parents=True, exist_ok=True)\n",
    "i = 0\n",
    "for vcc in vccs:\n",
    "    with open(statecount_folder + \"vcc-\" + str(vcc) + \"_statecounts.csv\", \"w\") as csvfile:\n",
    "        writer = csv.writer(csvfile)\n",
    "        writer.writerows(vcc_statecount_holder[i])\n",
    "    i += 1"
   ]
  },
  {
   "cell_type": "markdown",
   "metadata": {},
   "source": [
    "## Package Data"
   ]
  },
  {
   "cell_type": "markdown",
   "metadata": {},
   "source": [
    "If desired, zip the archive for easier downloading/sharing."
   ]
  },
  {
   "cell_type": "code",
   "execution_count": null,
   "metadata": {},
   "outputs": [],
   "source": [
    "shutil.make_archive(namespace, \"zip\", path)"
   ]
  }
 ],
 "metadata": {
  "kernelspec": {
   "display_name": "notebook_env",
   "language": "python",
   "name": "python3"
  },
  "language_info": {
   "codemirror_mode": {
    "name": "ipython",
    "version": 3
   },
   "file_extension": ".py",
   "mimetype": "text/x-python",
   "name": "python",
   "nbconvert_exporter": "python",
   "pygments_lexer": "ipython3",
   "version": "3.10.16"
  }
 },
 "nbformat": 4,
 "nbformat_minor": 2
}
