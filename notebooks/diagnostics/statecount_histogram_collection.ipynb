{
 "cells": [
  {
   "cell_type": "markdown",
   "metadata": {},
   "source": [
    "# Wideband Statecount and Histogram Data Collection"
   ]
  },
  {
   "cell_type": "markdown",
   "metadata": {},
   "source": [
    "## 1 Setup"
   ]
  },
  {
   "cell_type": "code",
   "execution_count": null,
   "metadata": {},
   "outputs": [],
   "source": [
    "import os\n",
    "import csv\n",
    "import pathlib\n",
    "import shutil\n",
    "\n",
    "import numpy as np\n",
    "from tabulate import tabulate\n",
    "from PyTango import DeviceProxy\n",
    "\n",
    "import notebook_tools.histogram_client as HistogramClient\n",
    "from notebook_tools.misc_helper import get_tango_host"
   ]
  },
  {
   "cell_type": "markdown",
   "metadata": {},
   "source": [
    "First, get the ns to check and set to be used at the tango host for future steps."
   ]
  },
  {
   "cell_type": "code",
   "execution_count": null,
   "metadata": {},
   "outputs": [],
   "source": [
    "!kubectl get ns | grep ska-mid-psi"
   ]
  },
  {
   "cell_type": "markdown",
   "metadata": {},
   "source": [
    "Set the boards, lanes, and namespace values as required, with \"namespace\" pointing to a namespace that has completed a scan:"
   ]
  },
  {
   "cell_type": "code",
   "execution_count": null,
   "metadata": {},
   "outputs": [],
   "source": [
    "namespace = \"ci-ska-mid-psi-1720589809-alexschell\"  # The namespace to connect to\n",
    "boards = [9, 10]  # The talon boards to use when checking for data\n",
    "lanes = [0, 1]  # The lanes to check (0-3)\n",
    "\n",
    "# These values should not need to be changed\n",
    "timeout_ms = 3000  # Max time allowed for trying to access histograms\n",
    "path = os.getcwd() + \"/output-data/\" + namespace"
   ]
  },
  {
   "cell_type": "markdown",
   "metadata": {},
   "source": [
    "To grab the histogram client and access devices, we set the TANGO host environment variable to point to the namespace:"
   ]
  },
  {
   "cell_type": "code",
   "execution_count": null,
   "metadata": {},
   "outputs": [],
   "source": [
    "os.environ[\"TANGO_HOST\"] = get_tango_host(namespace)"
   ]
  },
  {
   "cell_type": "markdown",
   "metadata": {},
   "source": [
    "Set up the holders for the histogram and statecount data:"
   ]
  },
  {
   "cell_type": "code",
   "execution_count": null,
   "metadata": {},
   "outputs": [],
   "source": [
    "pre_vcc_collected = False\n",
    "pre_vcc_x = []\n",
    "pre_vcc_y = []\n",
    "\n",
    "post_vcc_collected = False\n",
    "post_vcc_x_lanes = [[] for x in range(4)]\n",
    "post_vcc_y_lanes = [[] for x in range(4)]\n",
    "\n",
    "post_16k_collected = False\n",
    "post_16k_x_lanes = [[] for x in range(4)]\n",
    "post_16k_y_lanes = [[] for x in range(4)]\n",
    "\n",
    "state_count_vec_1 = []\n",
    "state_count_vec_2 = []\n",
    "power_spectrum_1 = []\n",
    "power_spectrum_2 = []"
   ]
  },
  {
   "cell_type": "code",
   "execution_count": null,
   "metadata": {},
   "outputs": [],
   "source": [
    "# Mapping higher number boards to correct value\n",
    "if len(boards) > 1 and boards[1] == 17:\n",
    "    boards[1] = 2\n",
    "    print(\"Replacing talon17 with talon2 in the target_boards\")\n",
    "\n",
    "if boards[0] >= 5:\n",
    "    print(\"Mapping talons of higher numbers to 1-4\")\n",
    "    boards = list(map(lambda x: x - (((x - 1) // 4) * 4), boards))"
   ]
  },
  {
   "cell_type": "markdown",
   "metadata": {},
   "source": [
    "### 1.1 Setup Directories"
   ]
  },
  {
   "cell_type": "markdown",
   "metadata": {},
   "source": [
    "To store the files we will generate and for compression, generate a holder directory and subdirectories for the chosen boards:"
   ]
  },
  {
   "cell_type": "code",
   "execution_count": null,
   "metadata": {},
   "outputs": [],
   "source": [
    "# part folder for namesapce\n",
    "folder = pathlib.Path(path)\n",
    "folder.mkdir(parents=True, exist_ok=True)\n",
    "# Subfolder for each board\n",
    "for board in boards:\n",
    "    board_folder = path + f\"/talondx-00{board}/\"\n",
    "    subfolder = pathlib.Path(board_folder)\n",
    "    subfolder.mkdir(parents=True, exist_ok=True)\n",
    "    histogram_folder = board_folder + \"histograms\"\n",
    "    wb_folder = board_folder + \"statecount\""
   ]
  },
  {
   "cell_type": "markdown",
   "metadata": {},
   "source": [
    "## 2 Histogram Data Collection"
   ]
  },
  {
   "cell_type": "markdown",
   "metadata": {},
   "source": [
    "The following stages collect the histogram data from the respective stages in the signal chain, each being able to be run independently."
   ]
  },
  {
   "cell_type": "markdown",
   "metadata": {},
   "source": [
    "### 2.1 Pre-VCC"
   ]
  },
  {
   "cell_type": "markdown",
   "metadata": {},
   "source": [
    "To collect the pre-VCC data, step through each of the boards defined, and collect the histogram from each:"
   ]
  },
  {
   "cell_type": "code",
   "execution_count": null,
   "metadata": {},
   "outputs": [],
   "source": [
    "for board in boards:\n",
    "    print(f\"----Board #{board}----\")\n",
    "    device = f\"talondx-00{board}/histogram/e_pre_vcc\"\n",
    "    # Create a histogram client to the VCC device\n",
    "    client = HistogramClient.HistogramClient(device, timeout_ms)\n",
    "    # Run the capture command on the device and read the data for the histogram\n",
    "    success, data = client.capture()\n",
    "    if success:\n",
    "        pre_vcc_collected = True\n",
    "        # If we captured the data, store the x and y histograms as 2D lists\n",
    "        print(\"Pre-VCC data capture successful, storing\")\n",
    "        pre_vcc_x = data[0]\n",
    "        pre_vcc_y = data[1]\n",
    "        print(f\"Pol-x Histogram is of dimensions {len(pre_vcc_x)}X{len(pre_vcc_x[0])}\")\n",
    "        print(f\"Pol-y Histogram is of dimensions {len(pre_vcc_y)}X{len(pre_vcc_y[0])}\")\n",
    "    else:\n",
    "        print(\"Could not get Pre-VCC data!\")"
   ]
  },
  {
   "cell_type": "markdown",
   "metadata": {},
   "source": [
    "To display the histogram data if desired:"
   ]
  },
  {
   "cell_type": "code",
   "execution_count": null,
   "metadata": {},
   "outputs": [],
   "source": [
    "print(\"Pol X histogram data:\")\n",
    "pol_x_headers = range(len(pre_vcc_x))\n",
    "print(tabulate(pre_vcc_x, tablefmt=\"simple\", headers=pol_x_headers, showindex=\"always\"))\n",
    "print(\"Pol Y histogram data:\")\n",
    "pol_y_headers = range(len(pre_vcc_y))\n",
    "print(tabulate(pre_vcc_y, tablefmt=\"simple\", headers=pol_y_headers, showindex=\"always\"))"
   ]
  },
  {
   "cell_type": "markdown",
   "metadata": {},
   "source": [
    "### 2.2 Post-VCC"
   ]
  },
  {
   "cell_type": "markdown",
   "metadata": {},
   "source": [
    "To collect the post-vcc histogram data, we do a similar check as we did with the pre-vcc. However, as there are now multiple lanes of data, we also iterate through them to collect each that has been defined:"
   ]
  },
  {
   "cell_type": "code",
   "execution_count": null,
   "metadata": {},
   "outputs": [],
   "source": [
    "for board in boards:\n",
    "    print(f\"----Board #{board}----\")\n",
    "    for lane in lanes:\n",
    "        device = f\"talondx-00{board}/histogram/e_post_vcc_{lane}\"\n",
    "        client = HistogramClient.HistogramClient(device, timeout_ms)\n",
    "        success, data = client.capture()\n",
    "        if success:\n",
    "            post_vcc_collected = True\n",
    "            print(f\"Captured data for Board {board}, lane {lane}\")\n",
    "            post_vcc_x_lanes[lane] = data[0]\n",
    "            post_vcc_y_lanes[lane] = data[1]\n",
    "            print(f\"Pol-x Histogram is of dimensions {len(data[0])}X{len(data[0][0])}\")\n",
    "            print(f\"Pol-y Histogram is of dimensions {len(data[1])}X{len(data[1][0])}\")\n",
    "        else:\n",
    "            print(f\"Could not capture data for Board {board}, lane {lane}\")"
   ]
  },
  {
   "cell_type": "markdown",
   "metadata": {},
   "source": [
    "### 2.3 16K Channelizer"
   ]
  },
  {
   "cell_type": "markdown",
   "metadata": {},
   "source": [
    "To collect the 16k Channelizer histogram data, we run through as above:"
   ]
  },
  {
   "cell_type": "code",
   "execution_count": null,
   "metadata": {},
   "outputs": [],
   "source": [
    "for board in boards:\n",
    "    print(f\"----Board #{board}----\")\n",
    "    for lane in lanes:\n",
    "        device = f\"talondx-00{board}/histogram/e_post_ch16k_{lane}\"\n",
    "        client = HistogramClient.HistogramClient(device, timeout_ms)\n",
    "        success, data = client.capture()\n",
    "        if success:\n",
    "            post_16k_collected = True\n",
    "            print(f\"Captured data for Board {board}, lane {lane}\")\n",
    "            post_16k_x_lanes[lane] = data[0]\n",
    "            post_16k_y_lanes[lane] = data[1]\n",
    "            print(f\"Pol-x Histogram is of dimensions {len(data[0])}X{len(data[0][0])}\")\n",
    "            print(f\"Pol-y Histogram is of dimensions {len(data[1])}X{len(data[1][0])}\")\n",
    "        else:\n",
    "            print(f\"Could not capture data for Board {board}, lane {lane}\")"
   ]
  },
  {
   "cell_type": "markdown",
   "metadata": {},
   "source": [
    "### 2.4 Store Histogram Data"
   ]
  },
  {
   "cell_type": "markdown",
   "metadata": {},
   "source": [
    "Once the desired histograms are collected, write them to the relevant folders and csv files:"
   ]
  },
  {
   "cell_type": "code",
   "execution_count": null,
   "metadata": {},
   "outputs": [],
   "source": [
    "for board in boards:\n",
    "    print(f\"----Board #{board}----\")\n",
    "    histogram_folder = path + f\"/talondx-00{board}/\" + \"/histograms/\"\n",
    "    # Generate the folder if not present\n",
    "    folder = pathlib.Path(histogram_folder)\n",
    "    folder.mkdir(parents=True, exist_ok=True)\n",
    "    pre_vcc_folder = pathlib.Path(histogram_folder + \"/pre_vcc/\")\n",
    "    post_vcc_folder = pathlib.Path(histogram_folder + \"/post_vcc/\")\n",
    "    post_16k_channelizer_folder = pathlib.Path(histogram_folder + \"/post_16k/\")\n",
    "\n",
    "    # Write each CSV file under this folder if the data was collected\n",
    "    # Pre-vcc\n",
    "    if pre_vcc_collected:\n",
    "        pre_vcc_folder.mkdir(parents=True, exist_ok=True)\n",
    "        with open(str(pre_vcc_folder) + \"/pre_vcc_x.csv\", \"w\") as csvfile:\n",
    "            writer = csv.writer(csvfile)\n",
    "            writer.writerows(pre_vcc_x)\n",
    "            print(f\"Wrote histogram data to {histogram_folder}pre_vcc_x.csv\")\n",
    "        with open(str(pre_vcc_folder) + \"/pre_vcc_y.csv\", \"w\") as csvfile:\n",
    "            writer = csv.writer(csvfile)\n",
    "            writer.writerows(pre_vcc_y)\n",
    "            print(f\"Wrote histogram data to {histogram_folder}pre_vcc_y.csv\")\n",
    "\n",
    "    # Post-vcc\n",
    "    if post_vcc_collected:\n",
    "        post_vcc_folder.mkdir(parents=True, exist_ok=True)\n",
    "        for lane in lanes:\n",
    "            with open(str(post_vcc_folder) + f\"/post_vcc_x_lane{lane}.csv\", \"w\") as csvfile:\n",
    "                writer = csv.writer(csvfile)\n",
    "                writer.writerows(post_vcc_x_lanes[lane])\n",
    "                print(f\"Wrote histogram data to {post_vcc_folder}post_vcc_x.csv\")\n",
    "            with open(str(post_vcc_folder) + f\"/post_vcc_y_lane{lane}.csv\", \"w\") as csvfile:\n",
    "                writer = csv.writer(csvfile)\n",
    "                writer.writerows(post_vcc_y_lanes[lane])\n",
    "                print(f\"Wrote histogram data to {post_vcc_folder}post_vcc_y.csv\")\n",
    "\n",
    "    # Post-16k\n",
    "    if post_16k_collected:\n",
    "        post_16k_channelizer_folder.mkdir(parents=True, exist_ok=True)\n",
    "        for lane in lanes:\n",
    "            with open(\n",
    "                str(post_16k_channelizer_folder) + f\"/post_16k_x_lane{lane}.csv\", \"w\"\n",
    "            ) as csvfile:\n",
    "                writer = csv.writer(csvfile)\n",
    "                writer.writerows(post_16k_x_lanes[lane])\n",
    "            with open(\n",
    "                str(post_16k_channelizer_folder) + f\"/post_16k_y_lane{lane}.csv\", \"w\"\n",
    "            ) as csvfile:\n",
    "                writer = csv.writer(csvfile)\n",
    "                writer.writerows(post_16k_y_lanes[lane])"
   ]
  },
  {
   "cell_type": "markdown",
   "metadata": {},
   "source": [
    "## 3 Statecount Collection"
   ]
  },
  {
   "cell_type": "markdown",
   "metadata": {},
   "source": [
    "### 3.1 Collecting Statecount Data"
   ]
  },
  {
   "cell_type": "markdown",
   "metadata": {},
   "source": [
    "The wideband statecount can also be collected. Currently this is collected as a single CSV for each board, with each state count/power spectrum as a row. To collect it, we simply read the values of the relevant attributes for each board."
   ]
  },
  {
   "cell_type": "code",
   "execution_count": null,
   "metadata": {},
   "outputs": [],
   "source": [
    "vcc_statecount_holder = [[] for x in range(4)]\n",
    "for board in boards:\n",
    "    # For each board, link to the wbstatecount under that talon\n",
    "    device = f\"talondx-00{board}/wbstatecount/state_count\"\n",
    "    talon_proxy = DeviceProxy(device)\n",
    "    # Capture the state count\n",
    "    talon_proxy.command_inout(\"state_count_capture\")\n",
    "    # For each of the pieces of data we want to collect, grab the value from the tango device\n",
    "    # Create a list with it, along with a header text\n",
    "    state_count_vec_1 = talon_proxy.read_attribute(\"state_count_vector_1\").value\n",
    "    lst = list(state_count_vec_1)\n",
    "    lst.insert(0, \"State Count Vector 1\")\n",
    "    state_count_vec_1 = np.asarray(lst)\n",
    "\n",
    "    state_count_vec_2 = talon_proxy.read_attribute(\"state_count_vector_2\").value\n",
    "    lst = list(state_count_vec_2)\n",
    "    lst.insert(0, \"State Count Vector 2\")\n",
    "    state_count_vec_2 = np.asarray(lst)\n",
    "\n",
    "    power_spectrum_1 = talon_proxy.read_attribute(\"psd_vector_1\").value\n",
    "    lst = list(power_spectrum_1)\n",
    "    lst.insert(0, \"Power Spectrum 1\")\n",
    "    power_spectrum_1 = np.asarray(lst)\n",
    "\n",
    "    power_spectrum_2 = talon_proxy.read_attribute(\"psd_vector_2\").value\n",
    "    lst = list(power_spectrum_2)\n",
    "    lst.insert(0, \"Power Spectrum 2\")\n",
    "    power_spectrum_2 = np.asarray(lst)\n",
    "\n",
    "    # Store all these in an array\n",
    "    vcc_statecount_holder[board] = [\n",
    "        state_count_vec_1,\n",
    "        state_count_vec_2,\n",
    "        power_spectrum_1,\n",
    "        power_spectrum_2,\n",
    "    ]"
   ]
  },
  {
   "cell_type": "markdown",
   "metadata": {},
   "source": [
    "Run to check the data neatly formatted in-notebook"
   ]
  },
  {
   "cell_type": "code",
   "execution_count": null,
   "metadata": {},
   "outputs": [],
   "source": [
    "print(tabulate(vcc_statecount_holder[1], tablefmt=\"simple\"))"
   ]
  },
  {
   "cell_type": "markdown",
   "metadata": {},
   "source": [
    "### 3.2 Storing Statecount Data"
   ]
  },
  {
   "cell_type": "markdown",
   "metadata": {},
   "source": [
    "Store the statecount data in files for each board under the relevant folder:"
   ]
  },
  {
   "cell_type": "code",
   "execution_count": null,
   "metadata": {},
   "outputs": [],
   "source": [
    "# For each board, write a file with rows of the data collected for that board\n",
    "for board in boards:\n",
    "    statecount_folder = path + f\"/talondx-00{board}/statecounts/\"\n",
    "    folder = pathlib.Path(statecount_folder)\n",
    "    folder.mkdir(parents=True, exist_ok=True)\n",
    "    with open(statecount_folder + \"talon-\" + str(board) + \"_statecounts.csv\", \"w\") as csvfile:\n",
    "        writer = csv.writer(csvfile)\n",
    "        writer.writerows(vcc_statecount_holder[board])"
   ]
  },
  {
   "cell_type": "markdown",
   "metadata": {},
   "source": [
    "## 4 Compress Data"
   ]
  },
  {
   "cell_type": "markdown",
   "metadata": {},
   "source": [
    "If desired, compress the folder to a zip file for easier downloading/sharing."
   ]
  },
  {
   "cell_type": "code",
   "execution_count": null,
   "metadata": {},
   "outputs": [],
   "source": [
    "shutil.make_archive(namespace, \"zip\", path)"
   ]
  }
 ],
 "metadata": {
  "kernelspec": {
   "display_name": "notebook_env",
   "language": "python",
   "name": "python3"
  },
  "language_info": {
   "codemirror_mode": {
    "name": "ipython",
    "version": 3
   },
   "file_extension": ".py",
   "mimetype": "text/x-python",
   "name": "python",
   "nbconvert_exporter": "python",
   "pygments_lexer": "ipython3",
   "version": "3.10.16"
  }
 },
 "nbformat": 4,
 "nbformat_minor": 2
}
