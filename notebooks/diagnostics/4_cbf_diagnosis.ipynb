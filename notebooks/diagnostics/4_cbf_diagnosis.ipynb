{
 "cells": [
  {
   "cell_type": "markdown",
   "metadata": {},
   "source": [
    "### Configuration"
   ]
  },
  {
   "cell_type": "code",
   "execution_count": 2,
   "metadata": {},
   "outputs": [],
   "source": [
    "namespace = \"ci-ska-mid-psi-1459164122-jaredmda\"\n",
    "vccs = [1, 2]\n",
    "fsps = [1, 2, 3, 4]"
   ]
  },
  {
   "cell_type": "markdown",
   "metadata": {},
   "source": [
    "### Setup"
   ]
  },
  {
   "cell_type": "code",
   "execution_count": 3,
   "metadata": {},
   "outputs": [],
   "source": [
    "import os\n",
    "\n",
    "import notebook_tools.histogram_client as HistogramClient\n",
    "from notebook_tools.misc_helper import get_tango_host\n",
    "from PyTango import DeviceProxy\n",
    "\n",
    "\n",
    "os.environ[\"TANGO_HOST\"] = get_tango_host(namespace)\n",
    "\n",
    "# Set to the talon board you want to check"
   ]
  },
  {
   "cell_type": "code",
   "execution_count": 3,
   "metadata": {},
   "outputs": [],
   "source": [
    "import numpy as np\n",
    "import plotly.graph_objects as go\n",
    "from plotly.subplots import make_subplots\n",
    "\n",
    "\n",
    "def plot_histogram(device, data):\n",
    "    axis_range = np.linspace(-1, 1, 64)\n",
    "    fig = make_subplots(\n",
    "        rows=2,\n",
    "        cols=4,\n",
    "        shared_xaxes=True,\n",
    "        shared_yaxes=True,\n",
    "        column_titles=(\"Pol-X\", \"Pol-X\", \"Pol-Y\", \"Pol-Y\"),\n",
    "        column_widths=[4, 1, 4, 1],\n",
    "        row_heights=[4, 1],\n",
    "        x_title=\"Real\",\n",
    "        y_title=\"Imaginary\",\n",
    "    )\n",
    "\n",
    "    for idx, pol in {0: \"X\", 1: \"Y\"}.items():\n",
    "        # histogram contour of samples per polarization\n",
    "        pol_data = data[idx]\n",
    "        fig.add_trace(\n",
    "            go.Contour(\n",
    "                x=axis_range,\n",
    "                y=axis_range,\n",
    "                z=pol_data,\n",
    "                name=f\"Pol-{pol}\",\n",
    "            ),\n",
    "            row=1,\n",
    "            col=1 + idx * 2,\n",
    "        )\n",
    "\n",
    "        # sum all rows for real component\n",
    "        real_counts = np.sum(pol_data, axis=0)\n",
    "        fig.add_trace(\n",
    "            go.Bar(\n",
    "                x=axis_range,\n",
    "                y=real_counts,\n",
    "            ),\n",
    "            row=2,\n",
    "            col=1 + idx * 2,\n",
    "        )\n",
    "\n",
    "        # sum all columns for imaginary component\n",
    "        imag_counts = np.sum(pol_data, axis=1)\n",
    "        fig.add_trace(\n",
    "            go.Bar(\n",
    "                y=axis_range,\n",
    "                x=imag_counts,\n",
    "                orientation=\"h\",\n",
    "            ),\n",
    "            row=1,\n",
    "            col=2 + idx * 2,\n",
    "        )\n",
    "\n",
    "        # calculate power in dB\n",
    "        samples = real_counts.sum()\n",
    "        if samples > 0:\n",
    "            power = (\n",
    "                np.sum(\n",
    "                    np.asarray(pol_data)\n",
    "                    * np.power(\n",
    "                        np.abs(axis_range + 1j * axis_range),\n",
    "                        2,\n",
    "                    )\n",
    "                )\n",
    "                / samples\n",
    "            )\n",
    "            power_db = 20 * np.log10(power)\n",
    "        else:\n",
    "            power_db = np.NaN\n",
    "        print(f\"{device} pol-{pol}: {samples} samples, power = {power_db:.1f} dB\")\n",
    "\n",
    "    width = 1024\n",
    "    fig.update_layout(\n",
    "        title=f\"Histograms of complex signals from {device}, channel 0\",  # TODO add support for channel selection, default is 0\n",
    "        width=width,\n",
    "        height=width // 2,\n",
    "        showlegend=False,\n",
    "    )\n",
    "\n",
    "    fig.show()"
   ]
  },
  {
   "cell_type": "markdown",
   "metadata": {},
   "source": [
    "### Wideband State Count"
   ]
  },
  {
   "cell_type": "code",
   "execution_count": 4,
   "metadata": {},
   "outputs": [],
   "source": [
    "import math\n",
    "\n",
    "import plotly.graph_objects as go\n",
    "from plotly.subplots import make_subplots\n",
    "\n",
    "\n",
    "def read_vectors(dp):\n",
    "    state_count_vec_1 = dp.read_attribute(\"state_count_vector_1\").value\n",
    "    state_count_vec_2 = dp.read_attribute(\"state_count_vector_2\").value\n",
    "    power_spectrum_1 = dp.read_attribute(\"psd_vector_1\").value\n",
    "    power_spectrum_2 = dp.read_attribute(\"psd_vector_2\").value\n",
    "\n",
    "    # state count vector and psd vector 3/4 are not used for band 1/2\n",
    "    dp.command_inout(\"state_count_reset\")\n",
    "    return state_count_vec_1, state_count_vec_2, power_spectrum_1, power_spectrum_2\n",
    "\n",
    "\n",
    "def plot_wb_state_count(\n",
    "    device,\n",
    "    n_bins,\n",
    "    state_count_vec_1,\n",
    "    state_count_vec_2,\n",
    "    power_spectrum_1,\n",
    "    power_spectrum_2,\n",
    "):\n",
    "    x_axis = list(range(-math.ceil(n_bins / 2), math.floor(n_bins / 2) + 1))\n",
    "    psd_x = list(range(1, len(power_spectrum_1) + 1))\n",
    "    normalized_x_axis = [\n",
    "        (x - min(x_axis)) / (max(x_axis) - min(x_axis)) * (2.0) - 1.0 for x in x_axis\n",
    "    ]\n",
    "    normalized_psd_x = [(x - min(psd_x)) / (max(psd_x) - min(psd_x)) * 1.0 for x in psd_x]\n",
    "\n",
    "    fig = make_subplots(\n",
    "        rows=2,\n",
    "        cols=2,\n",
    "        vertical_spacing=0.2,\n",
    "        subplot_titles=(\n",
    "            \"State Count (pol X/A sub-band 1)\",\n",
    "            \"State Count (pol Y/B sub-band 1)\",\n",
    "            \"Power Spectrum (Pol X/A sub-band 1)\",\n",
    "            \"Power Spectrum (pol Y/B sub-band 1)\",\n",
    "        ),\n",
    "    )\n",
    "\n",
    "    fig[\"layout\"][\"plot_bgcolor\"] = \"#fafafa\"\n",
    "    fig[\"layout\"][\"showlegend\"] = False\n",
    "    fig.add_trace(\n",
    "        go.Bar(x=normalized_x_axis, y=state_count_vec_1, name=\"state count 1\"), row=1, col=1\n",
    "    )\n",
    "    fig.add_trace(\n",
    "        go.Bar(x=normalized_x_axis, y=state_count_vec_2, name=\"state count 2\"), row=1, col=2\n",
    "    )\n",
    "    fig.add_trace(\n",
    "        go.Bar(x=normalized_psd_x, y=power_spectrum_1, name=\"power spectrum 1\"), row=2, col=1\n",
    "    )\n",
    "    fig.add_trace(\n",
    "        go.Bar(x=normalized_psd_x, y=power_spectrum_2, name=\"power spectrum 2\"), row=2, col=2\n",
    "    )\n",
    "    fig.update_layout(title_text=f\"{device} sub-band 1\", height=700)\n",
    "    fig.show()"
   ]
  },
  {
   "cell_type": "code",
   "execution_count": null,
   "metadata": {},
   "outputs": [],
   "source": [
    "for vcc in vccs:\n",
    "    device = f\"talondx-00{vcc}/wbstatecount/state_count\"\n",
    "    n_bins = 4096\n",
    "    sample_accum = 100000\n",
    "\n",
    "    dp = DeviceProxy(device)\n",
    "    dp.command_inout(\"state_count_reset\")\n",
    "\n",
    "    dp.write_attribute(\"sample_accum\", sample_accum)\n",
    "    dp.write_attribute(\"bin_number_select\", n_bins)\n",
    "    dp.command_inout(\"state_count_capture\")\n",
    "    state_count_vec_1, state_count_vec_2, power_spectrum_1, power_spectrum_2 = read_vectors(dp)\n",
    "    plot_wb_state_count(\n",
    "        device,\n",
    "        n_bins,\n",
    "        state_count_vec_1,\n",
    "        state_count_vec_2,\n",
    "        power_spectrum_1,\n",
    "        power_spectrum_2,\n",
    "    )"
   ]
  },
  {
   "cell_type": "markdown",
   "metadata": {},
   "source": [
    "### Wideband Input Buffer "
   ]
  },
  {
   "cell_type": "code",
   "execution_count": null,
   "metadata": {},
   "outputs": [],
   "source": [
    "for vcc in vccs:\n",
    "    device = f\"talondx-00{vcc}/wideband-input-buffer/wideband-input-buffer\"\n",
    "    dp = DeviceProxy(device)\n",
    "\n",
    "    receptor_id = dp.read_attribute(\"DishID\").value\n",
    "    rx_sample_rate = dp.read_attribute(\"RxSampleRate\").value\n",
    "\n",
    "    meta_transport_sample_rate = dp.read_attribute(\"MetaTransportSampleRate\").value\n",
    "\n",
    "    print(f\"Receptor ID = {receptor_id}\")\n",
    "\n",
    "    # the number of sample pairs received per PPS interval\n",
    "    print(f\"Rx Sample Rate (sample pairs/pps interval) = {rx_sample_rate}\")\n",
    "\n",
    "    # The sample rate in samples per second\n",
    "    print(f\"Meta Transport Sample Rate (samples/s) = {meta_transport_sample_rate}\")\n",
    "    print(\"------------------------------------------------------------------\")"
   ]
  },
  {
   "cell_type": "markdown",
   "metadata": {},
   "source": [
    "### Pre-VCC Histogram"
   ]
  },
  {
   "cell_type": "code",
   "execution_count": null,
   "metadata": {},
   "outputs": [],
   "source": [
    "for vcc in vccs:\n",
    "    device = f\"talondx-00{vcc}/histogram/e_pre_vcc\"\n",
    "    timeout = 3000  # ms\n",
    "    client = HistogramClient(device, timeout)\n",
    "\n",
    "    # data is an array of [pol_x_data, pol_y_data], or None if success is false.\n",
    "    success, data = client.capture()\n",
    "    print(f\"Histogram capture successful: {success}\")\n",
    "\n",
    "    if success:\n",
    "        plot_histogram(device, data)"
   ]
  },
  {
   "cell_type": "markdown",
   "metadata": {},
   "source": [
    "### Packet Stream Repair"
   ]
  },
  {
   "cell_type": "code",
   "execution_count": null,
   "metadata": {},
   "outputs": [],
   "source": [
    "# Each board has 4 packet stream repair devices packet_stream_repair_[0-3]\n",
    "from time import sleep\n",
    "\n",
    "for vcc in vccs:\n",
    "    for fsp in fsps:\n",
    "        device = f\"talondx-00{fsp}/packetstreamrepair/packet_stream_repair_{vcc-1}\"\n",
    "        dp = DeviceProxy(device)\n",
    "\n",
    "        packet_rate = dp.read_attribute(\"packet_rate\").value\n",
    "        # Read the number of packets received per second.\n",
    "        # Wait 1 second to read the rx_packet_rate, in case it needs some time to start flowing\n",
    "        wait_time_s = 1\n",
    "        if dp.read_attribute(\"rx_packet_rate\").value == 0:\n",
    "            sleep(wait_time_s)\n",
    "        rx_packet_rate = dp.read_attribute(\"rx_packet_rate\").value\n",
    "        los_seconds = dp.read_attribute(\"los_seconds\").value\n",
    "        link_failure = dp.read_attribute(\"link_failure\").value\n",
    "        packet_loss_count = dp.read_attribute(\"packet_loss_count\").value\n",
    "        packet_loss = dp.read_attribute(\"packet_loss\").value\n",
    "        packet_error_count = dp.read_attribute(\"packet_error_count\").value\n",
    "        packet_error = dp.read_attribute(\"packet_error\").value\n",
    "\n",
    "        print(\n",
    "            f\"{device}:\\n\\tpacket_rate = {packet_rate}\\n\\trx_packet_rate = {rx_packet_rate}\\n\\tlos_seconds = {los_seconds}\\n\\tlink_failure = {link_failure}\\n\\tpacket_loss_count = {packet_loss_count}\\n\\tpacket_loss = {packet_loss}\\n\\tpacket_error_count = {packet_error_count}\\n\\tpacket_error = {packet_error}\\n\"\n",
    "        )"
   ]
  },
  {
   "cell_type": "markdown",
   "metadata": {},
   "source": [
    "### Post-VCC Histogram"
   ]
  },
  {
   "cell_type": "code",
   "execution_count": null,
   "metadata": {},
   "outputs": [],
   "source": [
    "# Each board has 4 Post-VCC devices e_post_vcc_[0-3]\n",
    "for vcc in vccs:\n",
    "    for fsp in fsps:\n",
    "        device = f\"talondx-00{fsp}/histogram/e_post_vcc_{vcc-1}\"\n",
    "        timeout = 3000  # ms\n",
    "        client = HistogramClient(device, timeout)\n",
    "\n",
    "        # data is an array of [pol_x_data, pol_y_data], or None if success is false.\n",
    "        success, data = client.capture()\n",
    "        print(f\"{device} histogram capture successful: {success}\")\n",
    "\n",
    "        if success:\n",
    "            plot_histogram(device, data)"
   ]
  },
  {
   "cell_type": "markdown",
   "metadata": {},
   "source": [
    "### Post-Resampler Delay Tracker (RDT) Histogram"
   ]
  },
  {
   "cell_type": "code",
   "execution_count": null,
   "metadata": {},
   "outputs": [],
   "source": [
    "# Each board has 4 Post-RDT devices e_post_rdt_[0-3]\n",
    "for vcc in vccs:\n",
    "    for fsp in fsps:\n",
    "        device = f\"talondx-00{fsp}/histogram/e_post_rdt_{vcc-1}\"\n",
    "        timeout = 3000  # ms\n",
    "        client = HistogramClient(device, timeout)\n",
    "\n",
    "        # data is an array of [pol_x_data, pol_y_data], or None if success is false.\n",
    "        success, data = client.capture()\n",
    "        print(f\"{device} histogram capture successful: {success}\")\n",
    "\n",
    "        if success:\n",
    "            plot_histogram(device, data)"
   ]
  },
  {
   "cell_type": "markdown",
   "metadata": {},
   "source": [
    "### Post-16K Channelizer Histogram"
   ]
  },
  {
   "cell_type": "code",
   "execution_count": null,
   "metadata": {},
   "outputs": [],
   "source": [
    "# Each board has 4 Post-ch16k devices e_post_ch16k_[0-3]\n",
    "\n",
    "\n",
    "for vcc in vccs:\n",
    "    for fsp in fsps:\n",
    "        device = f\"talondx-00{fsp}/histogram/e_post_ch16k_{vcc-1}\"\n",
    "        timeout = 3000  # ms\n",
    "        client = HistogramClient(device, timeout)\n",
    "        channel = 7440\n",
    "        client.set_channel(channel)\n",
    "\n",
    "        # data is an array of [pol_x_data, pol_y_data], or None if success is false.\n",
    "        success, data = client.capture()\n",
    "        print(f\"{device} histogram capture successful: {success}\")\n",
    "\n",
    "        if success:\n",
    "            plot_histogram(device, data)"
   ]
  },
  {
   "cell_type": "markdown",
   "metadata": {},
   "source": [
    "### DDR4 Corner Turner (DCT)"
   ]
  },
  {
   "cell_type": "code",
   "execution_count": null,
   "metadata": {},
   "outputs": [],
   "source": [
    "for fsp in fsps:\n",
    "    device = f\"talondx-00{fsp}/dct/dct\"\n",
    "    dp = DeviceProxy(device)\n",
    "\n",
    "    cell_channels = dp.read_attribute(\"cell_channels\").value\n",
    "    cell_size = dp.read_attribute(\"cell_size\").value\n",
    "    cell_samples = dp.read_attribute(\"cell_samples\").value\n",
    "    num_receptors = dp.read_attribute(\"num_receptors\").value\n",
    "    read_threshold = dp.read_attribute(\"read_threshold\").value\n",
    "    start_read_timestamp = dp.read_attribute(\"start_read_timestamp\").value\n",
    "\n",
    "    dp.write_attribute(\"snapshot_timestamps\", True)\n",
    "\n",
    "    read_timestamp = dp.read_attribute(\"read_timestamp\").value\n",
    "\n",
    "    first_write_timestamps = dp.read_attribute(\"first_write_timestamp\").value\n",
    "\n",
    "    write_timestamps = []\n",
    "    write_timestamps = dp.read_attribute(\"write_timestamps\").value\n",
    "\n",
    "    antenna_status = dp.read_attribute(\"antenna_status\").value\n",
    "    antenna_status_str = \"\"\n",
    "    for x in antenna_status:\n",
    "        antenna_status_str = str(int(x)) + antenna_status_str\n",
    "    under_run_status = dp.read_attribute(\"under_run_status\").value\n",
    "    under_run_status_str = \"\"\n",
    "    for x in under_run_status:\n",
    "        under_run_status_str = str(int(x)) + under_run_status_str\n",
    "\n",
    "    print(f\"Device: {device}\")\n",
    "    print(f\"Cell channels = {cell_channels}\")\n",
    "    print(f\"Cell size = {cell_size}\")\n",
    "    print(f\"Cell samples = {cell_samples}\")\n",
    "    print(f\"Number of receptors = {num_receptors}\")\n",
    "    print(f\"Read threshold = {read_threshold}\")\n",
    "    print(f\"Start read timestamp = {start_read_timestamp}\")\n",
    "    print(f\"First write timestamps = {first_write_timestamps}\")\n",
    "    print(f\"Read timestamps = {read_timestamp}\")\n",
    "    print(f\"Write timestamps = {write_timestamps}\")\n",
    "    print(f\"Antenna status = {antenna_status_str}\")\n",
    "    print(f\"under run status = {under_run_status_str}\")"
   ]
  },
  {
   "cell_type": "markdown",
   "metadata": {},
   "source": [
    "### 100gbe Ethernet "
   ]
  },
  {
   "cell_type": "code",
   "execution_count": null,
   "metadata": {},
   "outputs": [],
   "source": [
    "from notebook_tools.signal_chain_checks import Eth100gClient\n",
    "\n",
    "eth100g = Eth100gClient(vccs, fsps)\n",
    "eth100g.clear_counters()\n",
    "sleep(3)\n",
    "tx_table, rx_table = eth100g.read_counters()\n",
    "print(rx_table)\n",
    "print(tx_table)"
   ]
  }
 ],
 "metadata": {
  "kernelspec": {
   "display_name": "Python 3 (ipykernel)",
   "language": "python",
   "name": "python3"
  },
  "language_info": {
   "codemirror_mode": {
    "name": "ipython",
    "version": 3
   },
   "file_extension": ".py",
   "mimetype": "text/x-python",
   "name": "python",
   "nbconvert_exporter": "python",
   "pygments_lexer": "ipython3",
   "version": "3.10.14"
  }
 },
 "nbformat": 4,
 "nbformat_minor": 2
}
