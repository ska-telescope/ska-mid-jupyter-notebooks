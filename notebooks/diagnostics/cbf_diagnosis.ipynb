{
 "cells": [
  {
   "cell_type": "markdown",
   "metadata": {},
   "source": [
    "### Setup"
   ]
  },
  {
   "cell_type": "code",
   "execution_count": null,
   "metadata": {},
   "outputs": [],
   "source": [
    "import os\n",
    "\n",
    "from histogram_client import HistogramClient\n",
    "from tango import DeviceProxy\n",
    "\n",
    "# Look up the external IP and port for tango-databaseds in your deployed namespace\n",
    "os.environ[\"TANGO_HOST\"] = \"192.168.128.144:10000\"\n",
    "\n",
    "# Set to the talon board you want to check\n",
    "talon = \"001\""
   ]
  },
  {
   "cell_type": "code",
   "execution_count": null,
   "metadata": {},
   "outputs": [],
   "source": [
    "import math\n",
    "from time import sleep\n",
    "\n",
    "import numpy as np\n",
    "import plotly.graph_objects as go\n",
    "from plotly.subplots import make_subplots"
   ]
  },
  {
   "cell_type": "code",
   "execution_count": null,
   "metadata": {},
   "outputs": [],
   "source": [
    "def plot_histogram(plot_device, plot_data):\n",
    "    axis_range = np.linspace(-1, 1, 64)\n",
    "    plot_fig = make_subplots(\n",
    "        rows=2,\n",
    "        cols=4,\n",
    "        shared_xaxes=True,\n",
    "        shared_yaxes=True,\n",
    "        column_titles=(\"Pol-X\", \"Pol-X\", \"Pol-Y\", \"Pol-Y\"),\n",
    "        column_widths=[4, 1, 4, 1],\n",
    "        row_heights=[4, 1],\n",
    "        x_title=\"Real\",\n",
    "        y_title=\"Imaginary\",\n",
    "    )\n",
    "\n",
    "    for idx, pol in {0: \"X\", 1: \"Y\"}.items():\n",
    "        # histogram contour of samples per polarization\n",
    "        pol_data = plot_data[idx]\n",
    "        fig.add_trace(\n",
    "            go.Contour(\n",
    "                x=axis_range,\n",
    "                y=axis_range,\n",
    "                z=pol_data,\n",
    "                name=f\"Pol-{pol}\",\n",
    "            ),\n",
    "            row=1,\n",
    "            col=1 + idx * 2,\n",
    "        )\n",
    "\n",
    "        # sum all rows for real component\n",
    "        real_counts = np.sum(pol_data, axis=0)\n",
    "        plot_fig.add_trace(\n",
    "            go.Bar(\n",
    "                x=axis_range,\n",
    "                y=real_counts,\n",
    "            ),\n",
    "            row=2,\n",
    "            col=1 + idx * 2,\n",
    "        )\n",
    "\n",
    "        # sum all columns for imaginary component\n",
    "        imag_counts = np.sum(pol_data, axis=1)\n",
    "        plot_fig.add_trace(\n",
    "            go.Bar(\n",
    "                y=axis_range,\n",
    "                x=imag_counts,\n",
    "                orientation=\"h\",\n",
    "            ),\n",
    "            row=1,\n",
    "            col=2 + idx * 2,\n",
    "        )\n",
    "\n",
    "        # calculate power in dB\n",
    "        samples = real_counts.sum()\n",
    "        if samples > 0:\n",
    "            power = (\n",
    "                np.sum(\n",
    "                    np.asarray(pol_data)\n",
    "                    * np.power(\n",
    "                        np.abs(axis_range + 1j * axis_range),\n",
    "                        2,\n",
    "                    )\n",
    "                )\n",
    "                / samples\n",
    "            )\n",
    "            power_db = 20 * np.log10(power)\n",
    "        else:\n",
    "            power_db = np.NaN\n",
    "        print(f\"{plot_device} pol-{pol}: {samples} samples, power = {power_db:.1f} dB\")\n",
    "\n",
    "    width = 1024\n",
    "    plot_fig.update_layout(\n",
    "        title=f\"Histograms of complex signals from {plot_device}, channel 0\",  # TODO add support for channel selection, default is 0\n",
    "        width=width,\n",
    "        height=width // 2,\n",
    "        showlegend=False,\n",
    "    )\n",
    "\n",
    "    plot_fig.show()"
   ]
  },
  {
   "cell_type": "markdown",
   "metadata": {},
   "source": [
    "### Wideband State Count"
   ]
  },
  {
   "cell_type": "code",
   "execution_count": null,
   "metadata": {},
   "outputs": [],
   "source": [
    "# Settings\n",
    "\n",
    "\n",
    "device = f\"talondx-{talon}/wbstatecount/state_count\"\n",
    "n_bins = 4096\n",
    "sample_accum = 100000\n",
    "\n",
    "dp = DeviceProxy(device)"
   ]
  },
  {
   "cell_type": "code",
   "execution_count": null,
   "metadata": {},
   "outputs": [],
   "source": [
    "dp.command_inout(\"state_count_reset\")\n",
    "\n",
    "dp.write_attribute(\"sample_accum\", sample_accum)\n",
    "dp.write_attribute(\"bin_number_select\", n_bins)\n",
    "dp.command_inout(\"state_count_capture\")"
   ]
  },
  {
   "cell_type": "code",
   "execution_count": null,
   "metadata": {},
   "outputs": [],
   "source": [
    "def read_vectors(read_dp):\n",
    "    read_state_count_vec_1 = read_dp.read_attribute(\"state_count_vector_1\").value\n",
    "    read_state_count_vec_2 = read_dp.read_attribute(\"state_count_vector_2\").value\n",
    "    read_power_spectrum_1 = read_dp.read_attribute(\"psd_vector_1\").value\n",
    "    read_power_spectrum_2 = read_dp.read_attribute(\"psd_vector_2\").value\n",
    "\n",
    "    # state count vector and psd vector 3/4 are not used for band 1/2\n",
    "    dp.command_inout(\"state_count_reset\")\n",
    "    return (\n",
    "        read_state_count_vec_1,\n",
    "        read_state_count_vec_2,\n",
    "        read_power_spectrum_1,\n",
    "        read_power_spectrum_2,\n",
    "    )\n",
    "\n",
    "\n",
    "state_count_vec_1, state_count_vec_2, power_spectrum_1, power_spectrum_2 = read_vectors(dp)"
   ]
  },
  {
   "cell_type": "code",
   "execution_count": null,
   "metadata": {},
   "outputs": [],
   "source": [
    "x_axis = list(range(-math.ceil(n_bins / 2), math.floor(n_bins / 2) + 1))\n",
    "psd_x = list(range(1, len(power_spectrum_1) + 1))\n",
    "normalized_x_axis = [(x - min(x_axis)) / (max(x_axis) - min(x_axis)) * (2.0) - 1.0 for x in x_axis]\n",
    "normalized_psd_x = [(x - min(psd_x)) / (max(psd_x) - min(psd_x)) * 1.0 for x in psd_x]\n",
    "\n",
    "fig = make_subplots(\n",
    "    rows=2,\n",
    "    cols=2,\n",
    "    vertical_spacing=0.2,\n",
    "    subplot_titles=(\n",
    "        \"State Count (pol X/A sub-band 1)\",\n",
    "        \"State Count (pol Y/B sub-band 1)\",\n",
    "        \"Power Spectrum (Pol X/A sub-band 1)\",\n",
    "        \"Power Spectrum (pol Y/B sub-band 1)\",\n",
    "    ),\n",
    ")\n",
    "\n",
    "fig[\"layout\"][\"plot_bgcolor\"] = \"#fafafa\"\n",
    "fig[\"layout\"][\"showlegend\"] = False\n",
    "fig.add_trace(go.Bar(x=normalized_x_axis, y=state_count_vec_1, name=\"state count 1\"), row=1, col=1)\n",
    "fig.add_trace(go.Bar(x=normalized_x_axis, y=state_count_vec_2, name=\"state count 2\"), row=1, col=2)\n",
    "fig.add_trace(\n",
    "    go.Bar(x=normalized_psd_x, y=power_spectrum_1, name=\"power spectrum 1\"), row=2, col=1\n",
    ")\n",
    "fig.add_trace(\n",
    "    go.Bar(x=normalized_psd_x, y=power_spectrum_2, name=\"power spectrum 2\"), row=2, col=2\n",
    ")\n",
    "fig.update_layout(title_text=f\"{device} sub-band 1\", height=700)\n",
    "fig.show()"
   ]
  },
  {
   "cell_type": "markdown",
   "metadata": {},
   "source": [
    "### Wideband Input Buffer "
   ]
  },
  {
   "cell_type": "code",
   "execution_count": null,
   "metadata": {},
   "outputs": [],
   "source": [
    "device = f\"talondx-{talon}/wideband-input-buffer/wideband-input-buffer\"\n",
    "\n",
    "dp = DeviceProxy(device)\n",
    "\n",
    "receptor_id = dp.read_attribute(\"DishID\").value\n",
    "rx_sample_rate = dp.read_attribute(\"RxSampleRate\").value\n",
    "\n",
    "meta_transport_sample_rate = dp.read_attribute(\"MetaTransportSampleRate\").value\n",
    "\n",
    "print(f\"Receptor ID = {receptor_id}\")\n",
    "\n",
    "# the number of sample pairs received per PPS interval\n",
    "print(f\"Rx Sample Rate (sample pairs/pps interval) = {rx_sample_rate}\")\n",
    "\n",
    "# The sample rate in samples per second\n",
    "print(f\"Meta Transport Sample Rate (samples/s) = {meta_transport_sample_rate}\")"
   ]
  },
  {
   "cell_type": "markdown",
   "metadata": {},
   "source": [
    "### Pre-VCC Histogram"
   ]
  },
  {
   "cell_type": "code",
   "execution_count": null,
   "metadata": {},
   "outputs": [],
   "source": [
    "device = f\"talondx-{talon}/histogram/e_pre_vcc\"\n",
    "timeout = 3000  # ms\n",
    "client = HistogramClient(device, timeout)\n",
    "\n",
    "# data is an array of [pol_x_data, pol_y_data], or None if success is false.\n",
    "success, data = client.capture()\n",
    "print(f\"Histogram capture successful: {success}\")\n",
    "\n",
    "if success:\n",
    "    plot_histogram(device, data)"
   ]
  },
  {
   "cell_type": "markdown",
   "metadata": {},
   "source": [
    "### Packet Stream Repair"
   ]
  },
  {
   "cell_type": "code",
   "execution_count": null,
   "metadata": {},
   "outputs": [],
   "source": [
    "# Each board has 4 packet stream repair devices packet_stream_repair_[0-3]\n",
    "for i in range(4):\n",
    "    device = f\"talondx-{talon}/packetstreamrepair/packet_stream_repair_{i}\"\n",
    "    dp = DeviceProxy(device)\n",
    "\n",
    "    packet_rate = dp.read_attribute(\"packet_rate\").value\n",
    "    # Read the number of packets received per second.\n",
    "    # Wait 1 second to read the rx_packet_rate, in case it needs some time to start flowing\n",
    "    wait_time_s = 1\n",
    "    if dp.read_attribute(\"rx_packet_rate\").value == 0:\n",
    "        sleep(wait_time_s)\n",
    "    rx_packet_rate = dp.read_attribute(\"rx_packet_rate\").value\n",
    "    los_seconds = dp.read_attribute(\"los_seconds\").value\n",
    "    link_failure = dp.read_attribute(\"link_failure\").value\n",
    "    packet_loss_count = dp.read_attribute(\"packet_loss_count\").value\n",
    "    packet_loss = dp.read_attribute(\"packet_loss\").value\n",
    "    packet_error_count = dp.read_attribute(\"packet_error_count\").value\n",
    "    packet_error = dp.read_attribute(\"packet_error\").value\n",
    "\n",
    "    print(\n",
    "        f\"{device}:\\n\\tpacket_rate = {packet_rate}\\n\\trx_packet_rate = {rx_packet_rate}\\n\\tlos_seconds = {los_seconds}\\n\\tlink_failure = {link_failure}\\n\\tpacket_loss_count = {packet_loss_count}\\n\\tpacket_loss = {packet_loss}\\n\\tpacket_error_count = {packet_error_count}\\n\\tpacket_error = {packet_error}\\n\"\n",
    "    )"
   ]
  },
  {
   "cell_type": "markdown",
   "metadata": {},
   "source": [
    "### Post-VCC Histogram"
   ]
  },
  {
   "cell_type": "code",
   "execution_count": null,
   "metadata": {},
   "outputs": [],
   "source": [
    "# Each board has 4 Post-VCC devices e_post_vcc_[0-3]\n",
    "device = f\"talondx-{talon}/histogram/e_post_vcc_1\"\n",
    "timeout = 3000  # ms\n",
    "client = HistogramClient(device, timeout)\n",
    "\n",
    "# data is an array of [pol_x_data, pol_y_data], or None if success is false.\n",
    "success, data = client.capture()\n",
    "print(f\"Histogram capture successful: {success}\")\n",
    "\n",
    "if success:\n",
    "    plot_histogram(device, data)"
   ]
  },
  {
   "cell_type": "markdown",
   "metadata": {},
   "source": [
    "### Post-Resampler Delay Tracker (RDT) Histogram"
   ]
  },
  {
   "cell_type": "code",
   "execution_count": null,
   "metadata": {},
   "outputs": [],
   "source": [
    "# Each board has 4 Post-RDT devices e_post_rdt_[0-3]\n",
    "device = f\"talondx-{talon}/histogram/e_post_rdt_1\"\n",
    "timeout = 3000  # ms\n",
    "client = HistogramClient(device, timeout)\n",
    "\n",
    "# data is an array of [pol_x_data, pol_y_data], or None if success is false.\n",
    "success, data = client.capture()\n",
    "print(f\"Histogram capture successful: {success}\")\n",
    "\n",
    "if success:\n",
    "    plot_histogram(device, data)"
   ]
  },
  {
   "cell_type": "markdown",
   "metadata": {},
   "source": [
    "### Post-16K Channelizer Histogram"
   ]
  },
  {
   "cell_type": "code",
   "execution_count": null,
   "metadata": {},
   "outputs": [],
   "source": [
    "# Each board has 4 Post-ch16k devices e_post_ch16k_[0-3]\n",
    "device = f\"talondx-{talon}/histogram/e_post_ch16k_1\"\n",
    "timeout = 3000  # ms\n",
    "client = HistogramClient(device, timeout)\n",
    "\n",
    "# data is an array of [pol_x_data, pol_y_data], or None if success is false.\n",
    "success, data = client.capture()\n",
    "print(f\"Histogram capture successful: {success}\")\n",
    "\n",
    "if success:\n",
    "    plot_histogram(device, data)"
   ]
  },
  {
   "cell_type": "markdown",
   "metadata": {},
   "source": [
    "### DDR4 Corner Turner (DCT)"
   ]
  },
  {
   "cell_type": "code",
   "execution_count": null,
   "metadata": {},
   "outputs": [],
   "source": [
    "device = f\"talondx-{talon}/dct/dct\"\n",
    "dp = DeviceProxy(device)\n",
    "\n",
    "number_of_channels = dp.read_attribute(\"number_of_channels\").value\n",
    "number_of_inputs = dp.read_attribute(\"number_of_inputs\").value\n",
    "number_of_samples = dp.read_attribute(\"number_of_samples\").value\n",
    "start_read_ts_lo = dp.read_attribute(\"start_read_timestamp_lo\").value\n",
    "start_read_ts_hi = dp.read_attribute(\"start_read_timestamp_hi\").value\n",
    "start_read_timestamp = (start_read_ts_hi << 32) + start_read_ts_lo\n",
    "\n",
    "first_write_timestamps = []\n",
    "first_write_ts_lo = dp.read_attribute(\"first_write_timestamp_lo\").value\n",
    "first_write_ts_hi = dp.read_attribute(\"first_write_timestamp_hi\").value\n",
    "for lo, hi in zip(first_write_ts_lo, first_write_ts_hi):\n",
    "    ts = (hi << 32) + lo\n",
    "    # need to convert np.int64 to int for safe_dump\n",
    "    first_write_timestamps.append(int(ts))\n",
    "\n",
    "print(f\"Number of channels = {number_of_channels}\")\n",
    "print(f\"Number of inputs = {number_of_inputs}\")\n",
    "print(f\"Number of samples = {number_of_samples}\")\n",
    "print(f\"Start read timestamp = {start_read_timestamp}\")\n",
    "print(f\"First write timestamps = {first_write_timestamps}\")"
   ]
  },
  {
   "cell_type": "markdown",
   "metadata": {},
   "source": [
    "### 100gbe Ethernet "
   ]
  },
  {
   "cell_type": "code",
   "execution_count": null,
   "metadata": {},
   "outputs": [],
   "source": [
    "# 100g_eth_0 is the input from SPFRx. 100g_eth_1 is the output to the cluster where SDP is\n",
    "device = f\"talondx-{talon}/ska-talondx-100-gigabit-ethernet/100g_eth_1\"\n",
    "dp = DeviceProxy(device)\n",
    "\n",
    "# Number of transmitted bytes in frames with no FCS, undersized, oversized, or payload length errors\n",
    "# The number should continuously be incrementing when outputting visibilities\n",
    "txFrameOctetsOK = dp.read_attribute(\"TxFrameOctetsOK\").value\n",
    "print(f\"t = 0: {txFrameOctetsOK}\")\n",
    "sleep(1)\n",
    "txFrameOctetsOK = dp.read_attribute(\"TxFrameOctetsOK\").value\n",
    "print(f\"t = 1: {txFrameOctetsOK}\")\n",
    "sleep(1)\n",
    "txFrameOctetsOK = dp.read_attribute(\"TxFrameOctetsOK\").value\n",
    "print(f\"t = 2: {txFrameOctetsOK}\")"
   ]
  }
 ],
 "metadata": {
  "kernelspec": {
   "display_name": "Python 3 (ipykernel)",
   "language": "python",
   "name": "python3"
  },
  "language_info": {
   "codemirror_mode": {
    "name": "ipython",
    "version": 3
   },
   "file_extension": ".py",
   "mimetype": "text/x-python",
   "name": "python",
   "nbconvert_exporter": "python",
   "pygments_lexer": "ipython3",
   "version": "3.10.14"
  }
 },
 "nbformat": 4,
 "nbformat_minor": 2
}
