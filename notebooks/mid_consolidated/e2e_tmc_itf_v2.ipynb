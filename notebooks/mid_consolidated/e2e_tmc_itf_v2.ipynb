{
 "cells": [
  {
   "cell_type": "markdown",
   "metadata": {},
   "source": [
    "# Notebook for End to End testing in the MID ITF\n",
    "\n",
    "- Uses digitizers for the 2 inputs to the correlator\n",
    "- Uses 1 FSP (200 MHz)\n",
    "- Receives and plots the visibilities to SDP"
   ]
  },
  {
   "cell_type": "markdown",
   "metadata": {},
   "source": [
    "## Select K8S namespace"
   ]
  },
  {
   "cell_type": "code",
   "execution_count": null,
   "metadata": {},
   "outputs": [],
   "source": [
    "# Select K8S namespace\n",
    "import os\n",
    "import kubernetes\n",
    "from kubernetes.config.kube_config import KUBE_CONFIG_DEFAULT_LOCATION\n",
    "from kubernetes.config.config_exception import ConfigException\n",
    "import ipywidgets as widgets\n",
    "from IPython.display import display, JSON\n",
    "from datetime import datetime\n",
    "\n",
    "def show_textbox(box_value, box_desc, disabl=True):\n",
    "    textbox_w = widgets.Text(\n",
    "        value=box_value,\n",
    "        description=box_desc,\n",
    "        disabled=disabl,\n",
    "        layout=widgets.Layout(width='60%')\n",
    "    )\n",
    "    display(textbox_w)\n",
    "    return textbox_w\n",
    "    \n",
    "def show_errorbox(box_value, error_desc=\"Error\"):\n",
    "    errorbox_w = widgets.Textarea(\n",
    "        value=box_value,\n",
    "        placeholder='Error message',\n",
    "        description=error_desc,\n",
    "        disabled=False,\n",
    "        layout=widgets.Layout(width='75%', height='200px')\n",
    "    )\n",
    "    display(errorbox_w)\n",
    "\n",
    "def show_timebox():\n",
    "    dt_now = datetime.now()\n",
    "    dt_string = dt_now.strftime(\"%Y-%m-%d %H:%M:%S\").strip()\n",
    "    timebox_w = widgets.Textarea(\n",
    "        value=f\"{dt_string}\",\n",
    "        placeholder='Time',\n",
    "        description='Current time',\n",
    "        disabled=False,\n",
    "        layout=widgets.Layout(width='60%', height='30px')\n",
    "    )\n",
    "    display(timebox_w)\n",
    "\n",
    "ns_list = []\n",
    "ns_list.append(\"SELECT\")\n",
    "try:\n",
    "    kubernetes.config.load_kube_config()\n",
    "except ConfigException:\n",
    "    print(f\"Could not load K8S config from {KUBE_CONFIG_DEFAULT_LOCATION}\")\n",
    "\n",
    "k8s_client = kubernetes.client.CoreV1Api()\n",
    "try:\n",
    "    namespaces = k8s_client.list_namespace(_request_timeout=(1, 5))\n",
    "    for namespace in namespaces.items:\n",
    "        ns_name = namespace.metadata.name\n",
    "        ns_list.append(ns_name)\n",
    "except Exception:\n",
    "    pass\n",
    "\n",
    "ns_valid_w = widgets.Valid(\n",
    "    value=len(ns_list) > 1,\n",
    "    description=\"Namespaces\",\n",
    "    layout=widgets.Layout(width='60%'),\n",
    "    style = {'description_width': 'initial'}\n",
    ")\n",
    "display(ns_valid_w)\n",
    "\n",
    "if len(ns_list) > 1:\n",
    "    SUT_NAMESPACE = None\n",
    "    ns_w = widgets.Dropdown(\n",
    "        options=ns_list,\n",
    "        description='SUT ns',\n",
    "        disabled=False,\n",
    "        layout=widgets.Layout(width='50%')\n",
    "    )\n",
    "    display(ns_w)\n",
    "else:\n",
    "    BINDER_REQUEST = os.getenv(\"BINDER_REQUEST\", None)\n",
    "    if BINDER_REQUEST is not None:\n",
    "        git_branch = BINDER_REQUEST.split(\"/\")[-1]\n",
    "        #print(f\"Use branch {git_branch}\")\n",
    "        SUT_NAMESPACE = f\"ci-dish-lmc-ska001-{git_branch}\"\n",
    "        #print(f\"Use namespace {SUT_NAMESPACE}\")\n",
    "        ns_w = show_textbox(SUT_NAMESPACE, \"Default\", False)\n",
    "    else:\n",
    "        show_errorbox(\"Could not read BINDER_REQUEST\")\n",
    "        SUT_NAMESPACE = None\n",
    "\n",
    "hack_w = widgets.Checkbox(\n",
    "    value=True,\n",
    "    description=\"Apply hacks\",\n",
    "    disabled=False,\n",
    "    indent=False\n",
    ")\n",
    "display(hack_w)\n",
    "\n",
    "cbf_sim_w = widgets.Checkbox(\n",
    "    value=True,\n",
    "    description=\"CBF simulation mode\",\n",
    "    disabled=False,\n",
    "    indent=False\n",
    ")\n",
    "display(cbf_sim_w)\n",
    "\n",
    "tel_on_wait = widgets.IntSlider(\n",
    "    value=180,\n",
    "    min=0,\n",
    "    max=300,\n",
    "    step=1,\n",
    "    description='Wait time',\n",
    "    disabled=False,\n",
    "    continuous_update=False,\n",
    "    orientation='horizontal',\n",
    "    readout=True,\n",
    "    readout_format='d'\n",
    ")\n",
    "display(tel_on_wait)\n",
    "\n",
    "show_timebox()"
   ]
  },
  {
   "cell_type": "markdown",
   "metadata": {},
   "source": [
    "## Set dish names"
   ]
  },
  {
   "cell_type": "code",
   "execution_count": null,
   "metadata": {},
   "outputs": [],
   "source": [
    "# Set dish names\n",
    "import os\n",
    "from time import sleep\n",
    "\n",
    "SUT_NAMESPACE = ns_w.value\n",
    "if SUT_NAMESPACE == \"SELECT\":\n",
    "    SUT_NAMESPACE = None\n",
    "\n",
    "if SUT_NAMESPACE is None:\n",
    "    print(\"ERROR: namespace not set\")\n",
    "else:\n",
    "    print(\"Setting up parameters\\n\")\n",
    "\n",
    "    APPLY_HACKS = hack_w.value\n",
    "    if cbf_sim_w.value:\n",
    "        CBF_SIMULATION_MODE = 1\n",
    "    else:\n",
    "        CBF_SIMULATION_MODE = 0\n",
    "\n",
    "    # Set manually\n",
    "    CLUSTER_DOMAIN = \"miditf.internal.skao.int\"\n",
    "\n",
    "    if SUT_NAMESPACE == \"staging\":\n",
    "        SKA001_NAMESPACE = (\n",
    "            f\"staging-dish-lmc-ska001\"  # ci-dish-lmc-ska001-at-2139-tmc-0-20-1-integration\n",
    "        )\n",
    "        SKA036_NAMESPACE = (\n",
    "            f\"staging-dish-lmc-ska036\"  # ci-dish-lmc-ska036-at-2139-tmc-0-20-1-integration\n",
    "        )\n",
    "    else:\n",
    "        SKA001_NAMESPACE = f\"ci-dish-lmc-ska001-{SUT_NAMESPACE[15:]}\"\n",
    "        SKA036_NAMESPACE = f\"ci-dish-lmc-ska036-{SUT_NAMESPACE[15:]}\"\n",
    "\n",
    "\n",
    "    show_textbox(SUT_NAMESPACE, 'SUT ns')\n",
    "    show_textbox(SKA001_NAMESPACE, 'SKA001 ns')\n",
    "    show_textbox(SKA036_NAMESPACE, 'SKA036 ns')\n",
    "\n",
    "    TANGO_HOST = f\"tango-databaseds.{SUT_NAMESPACE}.svc.{CLUSTER_DOMAIN}:10000\"\n",
    "    os.environ[\"TANGO_HOST\"] = TANGO_HOST\n",
    "    show_textbox(os.getenv(\"TANGO_HOST\"), 'Tango host')\n",
    "\n",
    "    apply_hacks_w = widgets.Valid(\n",
    "        value=APPLY_HACKS,\n",
    "        description=\"Apply hacks\",\n",
    "        layout=widgets.Layout(width='60%'),\n",
    "        style = {'description_width': 'initial'}\n",
    "    )\n",
    "    display(apply_hacks_w)\n",
    "\n",
    "    apply_sim_w = widgets.Valid(\n",
    "        value=CBF_SIMULATION_MODE,\n",
    "        description=\"CBF simulation\",\n",
    "        layout=widgets.Layout(width='60%'),\n",
    "        style = {'description_width': 'initial'}\n",
    "    )\n",
    "    display(apply_sim_w)\n",
    "\n",
    "    RECEPTORS = [\"SKA001\", \"SKA036\"]\n",
    "\n",
    "    # Config files set up\n",
    "    DATA_DIR = \"../../data\"\n",
    "    TMC_CONFIGS = f\"{DATA_DIR}/mid_telescope/tmc\"\n",
    "    SCAN_FILE = f\"{TMC_CONFIGS}/scan.json\"\n",
    "    RELEASE_RESOURCES_FILE = f\"{DATA_DIR}/release_resources.json\"\n",
    "\n",
    "    ASSIGN_RESOURCES_FILE = f\"{TMC_CONFIGS}/assign_resources.json\"\n",
    "    CONFIGURE_SCAN_FILE = f\"{TMC_CONFIGS}/configure_scan.json\"\n",
    "\n",
    "    CBF_CONFIGS = f\"{DATA_DIR}/mid_telescope/cbf\"\n",
    "    DISH_CONFIG_FILE = f\"{CBF_CONFIGS}/sys_params/load_dish_config.json\"\n",
    "\n",
    "    KAFKA_PORT = 9092\n",
    "    KAFKA_SERVICE_NAME = \"ska-sdp-kafka\"\n",
    "    KAFKA_ENDPOINT = f\"{KAFKA_SERVICE_NAME}.{SUT_NAMESPACE}.svc.{CLUSTER_DOMAIN}:{KAFKA_PORT}\"\n",
    "\n",
    "    # SUT Links for Taranta and QA Display\n",
    "    links = f'<a href=\"https://k8s.{CLUSTER_DOMAIN}/{SUT_NAMESPACE}/signal/display/\">'\n",
    "    links += 'SUT signal display</a><br>'\n",
    "    links += f'<a href=\"https://k8s.{CLUSTER_DOMAIN}/{SUT_NAMESPACE}/taranta/devices\">'\n",
    "    links += 'SUT Taranta devices</a><br>'\n",
    "    # Dish LMC links for Taranta\n",
    "    links += f'<a href=\"https://k8s.{CLUSTER_DOMAIN}/{SKA001_NAMESPACE}/taranta/devices\">'\n",
    "    links += 'SKA 001 Taranta devices</a><br/>'\n",
    "    links += f'<a href=\"https://k8s.{CLUSTER_DOMAIN}/{SKA036_NAMESPACE}/taranta/devices\">'\n",
    "    links += 'SKA 036 Taranta devices</a><br/>'\n",
    "    \n",
    "    \n",
    "    links_w = widgets.HTML(\n",
    "        value=links,\n",
    "        placeholder='Links',\n",
    "        description='Links',\n",
    "    )\n",
    "    display(links_w)\n",
    "    \n",
    "show_timebox()"
   ]
  },
  {
   "cell_type": "markdown",
   "metadata": {},
   "source": [
    "# Set Up and Configure"
   ]
  },
  {
   "cell_type": "markdown",
   "metadata": {},
   "source": [
    "## Device Proxies "
   ]
  },
  {
   "cell_type": "markdown",
   "metadata": {},
   "source": [
    "### Set up proxies"
   ]
  },
  {
   "cell_type": "code",
   "execution_count": null,
   "metadata": {},
   "outputs": [],
   "source": [
    "# Set up proxies \n",
    "import json\n",
    "import tango\n",
    "\n",
    "from tango import DeviceProxy\n",
    "\n",
    "print(\"Setting up the device proxies\")\n",
    "\n",
    "proxy_w = widgets.IntProgress(\n",
    "    value=0,\n",
    "    min=0,\n",
    "    max=14,\n",
    "    description='Proxies',\n",
    "    bar_style='', # 'success', 'info', 'warning', 'danger' or ''\n",
    "    style={'bar_color': 'maroon'},\n",
    "    orientation='horizontal'\n",
    ")\n",
    "display(proxy_w)\n",
    "proxy_ok = True\n",
    "try:\n",
    "    # TMC proxies\n",
    "    proxy_w.value = 1\n",
    "    tmc_central_node = DeviceProxy(\"ska_mid/tm_central/central_node\")\n",
    "    proxy_w.value = 2\n",
    "    tmc_csp_master = DeviceProxy(\"ska_mid/tm_leaf_node/csp_master\")\n",
    "    proxy_w.value = 3\n",
    "    tmc_csp_subarray = DeviceProxy(\"ska_mid/tm_leaf_node/csp_subarray01\")\n",
    "    proxy_w.value = 4\n",
    "    tmc_subarray = DeviceProxy(\"ska_mid/tm_subarray_node/1\")\n",
    "\n",
    "    # CSP.LMC proxies\n",
    "    proxy_w.value = 5\n",
    "    csp_control = DeviceProxy(\"mid-csp/control/0\")\n",
    "    proxy_w.value = 6\n",
    "    csp_subarray = DeviceProxy(\"mid-csp/subarray/01\")\n",
    "\n",
    "    # CBF proxies\n",
    "    proxy_w.value = 6\n",
    "    cbf_controller = DeviceProxy(\"mid_csp_cbf/sub_elt/controller\")\n",
    "    proxy_w.value = 7\n",
    "    cbf_subarray = DeviceProxy(\"mid_csp_cbf/sub_elt/subarray_01\")\n",
    "\n",
    "    # Dish Leaf Proxies\n",
    "    proxy_w.value = 8\n",
    "    dish_leaf_node_ska001 = DeviceProxy(\"ska_mid/tm_leaf_node/d0001\")\n",
    "    proxy_w.value = 9\n",
    "    dish_leaf_node_ska036 = DeviceProxy(\"ska_mid/tm_leaf_node/d0036\")\n",
    "\n",
    "    # SDP Proxies\n",
    "    proxy_w.value = 10\n",
    "    sdp_subarray = DeviceProxy(\"mid-sdp/subarray/01\")\n",
    "\n",
    "    # Set devices to adminMode = ONLINE\n",
    "    csp_control.adminMode = 0\n",
    "    csp_subarray.adminMode = 0\n",
    "\n",
    "    # Leaf Nodes\n",
    "    csp_subarray_leaf_node = \"ska_mid/tm_leaf_node/csp_subarray01\"\n",
    "    sdp_subarray_leaf_node = \"ska_mid/tm_leaf_node/sdp_subarray01\"\n",
    "    csp_master_leaf_node = \"ska_mid/tm_leaf_node/csp_master\"\n",
    "    proxy_w.value = 11\n",
    "    csp_subarray_leaf_node_dp = DeviceProxy(csp_subarray_leaf_node)\n",
    "    proxy_w.value = 12\n",
    "    sdp_subarray_leaf_node_dp = DeviceProxy(sdp_subarray_leaf_node)\n",
    "    proxy_w.value = 13\n",
    "    csp_master_leaf_node_dp = DeviceProxy(csp_master_leaf_node)\n",
    "    proxy_w.value = 14\n",
    "except tango.DevFailed as terr:\n",
    "    # print(f\"ERROR: {terr.args[0].desc.strip()}\")\n",
    "    show_errorbox(terr.args[0].desc.strip())\n",
    "    tmc_central_node = None\n",
    "    tmc_csp_master = None\n",
    "    proxy_ok = False\n",
    "    \n",
    "proxy_ok_w = widgets.Valid(\n",
    "    value=proxy_ok,\n",
    "    description=\"Proxies OK\",\n",
    "    layout=widgets.Layout(width='60%'),\n",
    "    style = {'description_width': 'initial'}\n",
    ")\n",
    "display(proxy_ok_w)\n",
    "show_timebox()"
   ]
  },
  {
   "cell_type": "markdown",
   "metadata": {},
   "source": [
    "### Check proxies"
   ]
  },
  {
   "cell_type": "code",
   "execution_count": null,
   "metadata": {},
   "outputs": [],
   "source": [
    "# Check proxies¶ \n",
    "def admin_test(tango_dev, tango_desc):\n",
    "    dev_admin = tango_dev.adminMode\n",
    "    admin_w = widgets.Checkbox(\n",
    "        value=dev_admin,\n",
    "        description=f\"{tango_desc} admin\",\n",
    "        disabled=False,\n",
    "        indent=False\n",
    "    )\n",
    "    display(admin_w)\n",
    "\n",
    "sleep(2)\n",
    "print(\"\\nChecking admin mode after setting to ONLINE (0):\")\n",
    "\n",
    "admin_test(csp_control, \"CSP Control\")\n",
    "admin_test(csp_subarray, \"CSP Subarray\")\n",
    "admin_test(cbf_controller, \"CBF Controller\")\n",
    "admin_test(cbf_subarray, \"CBF Subarray\")\n",
    "\n",
    "# Set CBF Simulation mode to false and CBF timeout to 99s\n",
    "csp_control.cbfSimulationMode = CBF_SIMULATION_MODE\n",
    "csp_control.commandTimeout = 99\n",
    "\n",
    "# print(\"\\nChecking CBF Simulation Mode and CBF Timeout:\")\n",
    "sleep(2)\n",
    "sim_w = widgets.Valid(\n",
    "    value=bool(csp_control.cbfSimulationMode),\n",
    "    description=\"CBF simulation\",\n",
    "    layout=widgets.Layout(width='60%'),\n",
    "    style = {'description_width': 'initial'}\n",
    ")\n",
    "display(sim_w)\n",
    "show_textbox(f\"{csp_control.commandTimeout} sec\", \"CBF Timeout\")\n",
    "show_timebox()"
   ]
  },
  {
   "cell_type": "markdown",
   "metadata": {},
   "source": [
    "## Load the Dish Vcc Config / Init Sys Params"
   ]
  },
  {
   "cell_type": "code",
   "execution_count": null,
   "metadata": {
    "scrolled": true
   },
   "outputs": [],
   "source": [
    "# Load the Dish Vcc Config / Init Sys Params\n",
    "import tango\n",
    "\n",
    "for n in range(1, 3):\n",
    "    print(f\"Load config {n}\\n\")\n",
    "    with open(DISH_CONFIG_FILE, encoding=\"utf-8\") as f:\n",
    "        dish_config_json = json.load(f)\n",
    "\n",
    "    dish_config_json[\"tm_data_sources\"][\n",
    "        0\n",
    "    ] = \"car://gitlab.com/ska-telescope/ska-telmodel-data?0.1.0-rc-mid-itf#tmdata\"\n",
    "    dish_config_json[\"tm_data_filepath\"] = \"instrument/ska1_mid_itf/ska-mid-cbf-system-parameters.json\"\n",
    "\n",
    "    print(f'dish_config_json tm_data_filepath: \\n\\t{dish_config_json[\"tm_data_filepath\"]}')\n",
    "    try:\n",
    "        tmc_central_node.LoadDishCfg(json.dumps(dish_config_json))\n",
    "    except tango.DevFailed as terr:\n",
    "        show_errorbox(terr.args[0].desc.strip(), \"Source dish error\")\n",
    "    except Exception as tmc_err:\n",
    "        print(f\"ERROR: {str(tmc_err)}\")\n",
    "\n",
    "    sleep(2)\n",
    "    try:\n",
    "        dish_vcc_cfg = json.loads(tmc_csp_master.sourceDishVccConfig)\n",
    "        print('TMC CSP Master Source Dish Vcc Config dish parameters:')\n",
    "        for key in dish_vcc_cfg:\n",
    "            print(f\"\\t{key:20} : {dish_vcc_cfg[key]}\")\n",
    "    except tango.DevFailed as terr:\n",
    "        show_errorbox(terr.args[0].desc.strip(), \"Source dish error\")\n",
    "    print()\n",
    "show_timebox()"
   ]
  },
  {
   "cell_type": "markdown",
   "metadata": {},
   "source": [
    "## Smoke test"
   ]
  },
  {
   "cell_type": "code",
   "execution_count": null,
   "metadata": {},
   "outputs": [],
   "source": [
    "# Smoke test\n",
    "def smoke_test(tango_dev, tango_desc):\n",
    "    smoke = False\n",
    "    if tango_dev is None:\n",
    "        smoke = False\n",
    "    else:\n",
    "        try:\n",
    "            tping = tango_dev.ping()\n",
    "            # print(f\"Ping TMC central node: {tping}\")\n",
    "            smoke = True\n",
    "        except tango.ConnectionFailed as terr:\n",
    "            err_msg = terr.args[0].desc.strip()\n",
    "            # print(f\"Tango connection failed: {err_msg}\")\n",
    "            show_errorbox(err_msg)\n",
    "            smoke = False\n",
    "    smoke_w = widgets.Valid(\n",
    "        value=smoke,\n",
    "        description=f\"{tango_desc} online\",\n",
    "        layout=widgets.Layout(width='60%'),\n",
    "        style = {'description_width': 'initial'}\n",
    "    )\n",
    "    display(smoke_w)\n",
    "\n",
    "smoke_test(tmc_central_node, \"TMC Central Node\")\n",
    "smoke_test(tmc_csp_master, \"TMC CSP master\")\n",
    "smoke_test(tmc_csp_subarray, \"TMC CSP subarray\"),\n",
    "smoke_test(tmc_subarray, \"TMC subarray\"),\n",
    "smoke_test(csp_control, \"CSP control\"),\n",
    "smoke_test(csp_subarray, \"CSP subarray\"),\n",
    "smoke_test(cbf_controller, \"CBF controller\"),\n",
    "smoke_test(cbf_subarray, \"CBF subarray\")\n",
    "smoke_test(dish_leaf_node_ska001, \"Dish leaf 001\")\n",
    "smoke_test(dish_leaf_node_ska036, \"Dish leaf 036\")\n",
    "smoke_test(sdp_subarray, \"SDP subarray\")\n",
    "show_timebox()"
   ]
  },
  {
   "cell_type": "markdown",
   "metadata": {},
   "source": [
    "## Admin mode check"
   ]
  },
  {
   "cell_type": "code",
   "execution_count": null,
   "metadata": {},
   "outputs": [],
   "source": [
    "# Admin mode check\n",
    "admin_test(tmc_central_node, \"TMC Central Node\")\n",
    "admin_test(tmc_csp_master, \"TMC CSP master\")\n",
    "admin_test(tmc_csp_subarray, \"TMC CSP subarray\"),\n",
    "admin_test(tmc_subarray, \"TMC subarray\"),\n",
    "admin_test(csp_control, \"CSP control\"),\n",
    "admin_test(csp_subarray, \"CSP subarray\"),\n",
    "admin_test(cbf_controller, \"CBF controller\"),\n",
    "admin_test(cbf_subarray, \"CBF subarray\")\n",
    "admin_test(dish_leaf_node_ska001, \"Dish leaf 001\")\n",
    "admin_test(dish_leaf_node_ska036, \"Dish leaf 036\")\n",
    "admin_test(sdp_subarray, \"SDP subarray\")\n",
    "show_timebox()"
   ]
  },
  {
   "cell_type": "markdown",
   "metadata": {},
   "source": [
    "# Set up the scan"
   ]
  },
  {
   "cell_type": "markdown",
   "metadata": {},
   "source": [
    "## Turn the Telescope On\n",
    "Known issues:\n",
    "When turning on Telescope, talon DDR memory calibration can fail. An indicator of this is mid_csp_cbf/fspcoorrsubarray obsState = FAULT. To adress this:\n",
    "* Manually power off of the PDUs to the talon boards\n",
    "* Rerun of the Telescope ON command."
   ]
  },
  {
   "cell_type": "markdown",
   "metadata": {},
   "source": [
    "### Run the Telescope On command"
   ]
  },
  {
   "cell_type": "code",
   "execution_count": null,
   "metadata": {},
   "outputs": [],
   "source": [
    "# Run the Telescope On command\n",
    "import tango\n",
    "\n",
    "# TODO: Check states\n",
    "print(\"Set up device proxy for CBF FSP correlator subarray\")\n",
    "cbf_fspcorrsubarray = DeviceProxy(\"mid_csp_cbf/fspcorrsubarray/01_01\")\n",
    "print(f\"CBF FSP correlator subarray observation {str(cbf_fspcorrsubarray.obsstate)}\")\n",
    "assert cbf_fspcorrsubarray.obsstate == 2\n",
    "\n",
    "print(\"Running the TelescopeOn command\")\n",
    "try:\n",
    "    tmc_central_node.TelescopeOn()\n",
    "except tango.DevFailed as t_err:\n",
    "    if not hack_w.value:\n",
    "        err_msg: str = \"\"\n",
    "        for t_err_arg in t_err.args:\n",
    "            err_msg += f\"{t_err_arg.desc.strip()}\\n\"\n",
    "        on_error_w = widgets.Textarea(\n",
    "            value=err_msg,\n",
    "            placeholder='Error message',\n",
    "            description='Ignore',\n",
    "            disabled=False,\n",
    "            layout=widgets.Layout(width='75%', height='200px')\n",
    "        )\n",
    "        display(on_error_w)\n",
    "# print(\"Done\")\n",
    "show_timebox()"
   ]
  },
  {
   "cell_type": "markdown",
   "metadata": {},
   "source": [
    "### Wait for Telescope to come ON"
   ]
  },
  {
   "cell_type": "code",
   "execution_count": null,
   "metadata": {},
   "outputs": [],
   "source": [
    "# 3.1.2  Wait for Telescope to come ON\n",
    "try:\n",
    "    show_textbox(str(tmc_central_node.telescopeState), \"Telescope state\")\n",
    "except tango.DevFailed as terr:\n",
    "    show_errorbox(terr.args[0].desc.strip(), \"State\")\n",
    "\n",
    "wait_time = tel_on_wait.value\n",
    "\n",
    "# Check if telescope is on\n",
    "sleep_time = 5\n",
    "nmax = int(wait_time/sleep_time)\n",
    "\n",
    "prog_w = widgets.IntProgress(\n",
    "    value=0,\n",
    "    min=0,\n",
    "    max=nmax,\n",
    "    description='Loading:',\n",
    "    bar_style='', # 'success', 'info', 'warning', 'danger' or ''\n",
    "    style={'bar_color': 'maroon'},\n",
    "    orientation='horizontal'\n",
    ")\n",
    "display(prog_w)\n",
    "n = 0\n",
    "tel_state = -1\n",
    "errorbox_on = widgets.Textarea(\n",
    "    value=\"\",\n",
    "    placeholder='Error message',\n",
    "    description='State error',\n",
    "    disabled=False,\n",
    "    layout=widgets.Layout(width='75%', height='200px')\n",
    ")\n",
    "\n",
    "# while tel_state != 0:\n",
    "while n < nmax:\n",
    "    n += 1\n",
    "    prog_w.value = n\n",
    "    try:\n",
    "        tel_state = int(tmc_central_node.telescopeState)\n",
    "    except tango.DevFailed as t_err:\n",
    "        err_msg: str = \"\"\n",
    "        for t_err_arg in t_err.args:\n",
    "            err_msg += f\"{t_err_arg.desc.strip()}\\n\"\n",
    "        errorbox_on.value = err_msg\n",
    "        display(errorbox_on)\n",
    "    if tel_state == 0:\n",
    "        prog_w.value = nmax\n",
    "        break\n",
    "    try:\n",
    "        sleep(sleep_time)\n",
    "    except KeyboardInterrupt:\n",
    "        print(\"Abort\")\n",
    "        break\n",
    "\n",
    "tel_on = widgets.Valid(\n",
    "    value=not tmc_central_node.telescopeState,\n",
    "    description=\"Telescope ON\",\n",
    "    layout=widgets.Layout(width='60%'),\n",
    "    style = {'description_width': 'initial'}\n",
    ")\n",
    "display(tel_on)\n",
    "show_timebox()"
   ]
  },
  {
   "cell_type": "markdown",
   "metadata": {},
   "source": [
    "### Verify the states"
   ]
  },
  {
   "cell_type": "code",
   "execution_count": null,
   "metadata": {},
   "outputs": [],
   "source": [
    "# Verify the states\n",
    "print(\"Verify the states:\")\n",
    "print(f\"  TMC Central Node State: {tmc_central_node.State()}\")\n",
    "print(f\"  CSP Control State: {csp_control.State()}\")\n",
    "print(f\"  CBF Controller State: {cbf_controller.State()}\")\n",
    "print(f\"  TMC Subarray State: {tmc_subarray.State()}\")\n",
    "show_timebox()"
   ]
  },
  {
   "cell_type": "markdown",
   "metadata": {},
   "source": [
    "## Assign Resources\n",
    "Vis-receive pods comes up in the staging-sdp namespace \n",
    "\n",
    "Known issues:\n",
    "1. The mid_csp_cbf/sub_elt/subarray_01 device times out. To resolve:\n",
    "* Rerun the assign resources block\n",
    "\n",
    "2. eb and pb ids already exist (logs in ds-subarraynode-01-0 pod). Resolution:\n",
    "* Edit eb and pb ids in the assign_resources.json\n"
   ]
  },
  {
   "cell_type": "code",
   "execution_count": null,
   "metadata": {},
   "outputs": [],
   "source": [
    "# Assign Resources\n",
    "import uuid\n",
    "from IPython.display import display_javascript, display_html, display\n",
    "import json\n",
    "\n",
    "class RenderJSON(object):\n",
    "    def __init__(self, json_data):\n",
    "        if isinstance(json_data, dict):\n",
    "            self.json_str = json.dumps(json_data)\n",
    "        else:\n",
    "            self.json_str = json\n",
    "        self.uuid = str(uuid.uuid4())\n",
    "        \n",
    "    def _ipython_display_(self):\n",
    "        display_html('<div id=\"{}\" style=\"height: 600px; width:100%;\"></div>'.format(self.uuid),\n",
    "            raw=True\n",
    "        )\n",
    "        display_javascript(\"\"\"\n",
    "        require([\"https://rawgit.com/caldwell/renderjson/master/renderjson.js\"], function() {\n",
    "          document.getElementById('%s').appendChild(renderjson(%s))\n",
    "        });\n",
    "        \"\"\" % (self.uuid, self.json_str), raw=True)\n",
    "\n",
    "sdp_subarray_state = f\"{sdp_subarray.state()}\"\n",
    "# print(f\"sdp subarray state {sdp_subarray_state}\")\n",
    "\n",
    "sdpsub_w = widgets.Valid(\n",
    "    value=(sdp_subarray_state == \"ON\"),\n",
    "    description=\"SDP subarray on\",\n",
    "    layout=widgets.Layout(width='60%'),\n",
    "    style = {'description_width': 'initial'}\n",
    ")\n",
    "display(sdpsub_w)\n",
    "\n",
    "sleep(3)\n",
    "\n",
    "print(\n",
    "    \"Running the AssignResources command:\"\n",
    "    \" subarray obsstate should go to Idle and receptor IDs should be assigned\"\n",
    ")\n",
    "\n",
    "with open(ASSIGN_RESOURCES_FILE, encoding=\"utf-8\") as f:\n",
    "    assign_resources_json = json.load(f)\n",
    "    assign_resources_json[\"dish\"][\"receptor_ids\"] = RECEPTORS\n",
    "    assign_resources_json[\"sdp\"][\"resources\"][\"receptors\"] = RECEPTORS\n",
    "    assign_resources_json[\"sdp\"][\"processing_blocks\"][0][\"parameters\"][\n",
    "        \"queue_connector_configuration\"\n",
    "    ][\"exchanges\"][0][\"source\"][\"servers\"] = KAFKA_ENDPOINT\n",
    "    assign_resources_json[\"sdp\"][\"processing_blocks\"][0][\"parameters\"][\"extra_helm_values\"][\n",
    "        \"receiver\"\n",
    "    ][\"options\"][\"reception\"][\n",
    "        \"stats_receiver_kafka_config\"\n",
    "    ] = f\"{KAFKA_ENDPOINT}:json_workflow_state\"\n",
    "\n",
    "# print(f\"\\nassign_resources_json file contents: \\n{assign_resources_json}\")\n",
    "RenderJSON(assign_resources_json)\n",
    "\n",
    "try:\n",
    "    tmc_subarray.AssignResources(json.dumps(assign_resources_json))\n",
    "except tango.DevFailed as t_err:\n",
    "    err_msg: str = \"\"\n",
    "    for t_err_arg in t_err.args:\n",
    "        err_msg += f\"{t_err_arg.desc.strip()}\\n\"\n",
    "    show_errorbox(err_msg)\n",
    "\n",
    "sleep(2)\n",
    "print(f\"\\nCBF Subarray Observation State: {str(tmc_subarray.obsState)}\")\n",
    "print(f\"CBF Subarray Receptors : {cbf_subarray.receptors}\")\n",
    "\n",
    "recptrs_w = widgets.Valid(\n",
    "    value=(len(RECEPTORS) == len(cbf_subarray.receptors)),\n",
    "    description=\"Receptors\",\n",
    "    layout=widgets.Layout(width='60%'),\n",
    "    style = {'description_width': 'initial'}\n",
    ")\n",
    "display(recptrs_w)\n",
    "show_timebox()"
   ]
  },
  {
   "cell_type": "markdown",
   "metadata": {},
   "source": [
    "# Start scanning"
   ]
  },
  {
   "cell_type": "markdown",
   "metadata": {},
   "source": [
    "## Slew the dishes to near the start of track to avoid tracking timing errors\n",
    "\n",
    "Could take +1min"
   ]
  },
  {
   "cell_type": "code",
   "execution_count": null,
   "metadata": {},
   "outputs": [],
   "source": [
    "# Slew the dishes\n",
    "import time\n",
    "\n",
    "SKA001_TANGO_HOST = f\"tango-databaseds.{SKA001_NAMESPACE}.svc.{CLUSTER_DOMAIN}:10000\"\n",
    "dish_manager_ska001 = DeviceProxy(f\"tango://{SKA001_TANGO_HOST}/mid-dish/dish-manager/ska001\")\n",
    "SKA036_TANGO_HOST = f\"tango-databaseds.{SKA036_NAMESPACE}.svc.{CLUSTER_DOMAIN}:10000\"\n",
    "dish_manager_ska036 = DeviceProxy(f\"tango://{SKA036_TANGO_HOST}/mid-dish/dish-manager/ska036\")\n",
    "\n",
    "dish_manager_ska001.slew([181.0, 31.0])\n",
    "dish_manager_ska036.slew([181.0, 31.0])\n",
    "\n",
    "slew001_w = widgets.IntProgress(\n",
    "    value=1,\n",
    "    min=0,\n",
    "    max=wait_time,\n",
    "    description='Slew 001:',\n",
    "    bar_style='', # 'success', 'info', 'warning', 'danger' or ''\n",
    "    style={'bar_color': 'maroon'},\n",
    "    orientation='horizontal'\n",
    ")\n",
    "display(slew001_w)\n",
    "\n",
    "slew001_ok = True\n",
    "n = 0\n",
    "while (\n",
    "    dish_manager_ska001.achievedpointing[1] != 181.0\n",
    "    or dish_manager_ska001.achievedpointing[2] != 31.0\n",
    "):\n",
    "    n += 1\n",
    "    slew001_w.value = n\n",
    "    if n >= wait_time:\n",
    "        slew001_ok = False\n",
    "        break\n",
    "    try:\n",
    "        time.sleep(1)\n",
    "    except KeyboardInterrupt:\n",
    "        slew001_ok = False\n",
    "        break\n",
    "\n",
    "if slew001_ok:\n",
    "    slew001_w.value = wait_time\n",
    "    \n",
    "slew001ok_w = widgets.Valid(\n",
    "    value=slew001_ok,\n",
    "    description=f\"Slew 001\",\n",
    "    layout=widgets.Layout(width='60%'),\n",
    "    style = {'description_width': 'initial'}\n",
    ")\n",
    "display(slew001ok_w)\n",
    "\n",
    "slew036_w = widgets.IntProgress(\n",
    "    value=1,\n",
    "    min=0,\n",
    "    max=wait_time,\n",
    "    description='Slew 036:',\n",
    "    bar_style='', # 'success', 'info', 'warning', 'danger' or ''\n",
    "    style={'bar_color': 'maroon'},\n",
    "    orientation='horizontal'\n",
    ")\n",
    "display(slew036_w)\n",
    "\n",
    "slew036_ok = True\n",
    "n = 0\n",
    "while (\n",
    "    dish_manager_ska036.achievedpointing[1] != 181.0\n",
    "    or dish_manager_ska036.achievedpointing[2] != 31.0\n",
    "):\n",
    "    n += 1\n",
    "    slew036_w.value = n\n",
    "    if n >= wait_time:\n",
    "        slew036_ok = False\n",
    "        break\n",
    "    try:\n",
    "        time.sleep(1)\n",
    "    except KeyboardInterrupt:\n",
    "        slew001_ok = False\n",
    "        break\n",
    "\n",
    "if slew036_ok:\n",
    "    slew036_w.value = wait_time\n",
    "    \n",
    "slew036ok_w = widgets.Valid(\n",
    "    value=slew036_ok,\n",
    "    description=f\"Slew 036\",\n",
    "    layout=widgets.Layout(width='60%'),\n",
    "    style = {'description_width': 'initial'}\n",
    ")\n",
    "display(slew036ok_w)\n",
    "\n",
    "# print(\"Done slewing\")\n",
    "show_timebox()"
   ]
  },
  {
   "cell_type": "markdown",
   "metadata": {},
   "source": [
    "## Configure Scan"
   ]
  },
  {
   "cell_type": "code",
   "execution_count": null,
   "metadata": {},
   "outputs": [],
   "source": [
    "# Configure Scan\n",
    "# TODO: Check here whether the states are as expected first\n",
    "print(\"Running the Configure command: subarray obsstate should go to Ready\")\n",
    "\n",
    "with open(CONFIGURE_SCAN_FILE, encoding=\"utf-8\") as f:\n",
    "    configure_scan_json = json.load(f)\n",
    "\n",
    "# print(f\"\\nconfigure_scan_json file contents: \\n{configure_scan_json}\")\n",
    "\n",
    "RenderJSON(configure_scan_json)\n",
    "# print(json.dumps(configure_scan_json))\n",
    "\n",
    "try:\n",
    "    tmc_subarray.Configure(json.dumps(configure_scan_json))\n",
    "except tango.DevFailed as terr:\n",
    "    show_errorbox(terr.args[0].desc.strip())\n",
    "    \n",
    "cfg_w = widgets.IntProgress(\n",
    "    value=1,\n",
    "    min=0,\n",
    "    max=12,\n",
    "    description='Configure',\n",
    "    bar_style='', # 'success', 'info', 'warning', 'danger' or ''\n",
    "    style={'bar_color': 'maroon'},\n",
    "    orientation='horizontal'\n",
    ")\n",
    "display(cfg_w)\n",
    "\n",
    "for n in range(1, 13):\n",
    "    cfg_w.value = n\n",
    "    sleep(1)\n",
    "\n",
    "show_textbox(str(sdp_subarray_leaf_node_dp.sdpSubarrayObsState), \"SDP Subarray Observation State\")\n",
    "show_textbox(str(csp_subarray_leaf_node_dp.cspSubarrayObsState), \"CSP Subarray Observation State\")\n",
    "show_timebox()"
   ]
  },
  {
   "cell_type": "markdown",
   "metadata": {},
   "source": [
    "## Check subarray observation states"
   ]
  },
  {
   "cell_type": "code",
   "execution_count": null,
   "metadata": {},
   "outputs": [],
   "source": [
    "# Check subarray observation states\n",
    "# Wait about 5 seconds\n",
    "\n",
    "sub_chk_w = widgets.IntProgress(\n",
    "    value=0,\n",
    "    min=0,\n",
    "    max=10,\n",
    "    description='Check obs:',\n",
    "    bar_style='', # 'success', 'info', 'warning', 'danger' or ''\n",
    "    style={'bar_color': 'maroon'},\n",
    "    orientation='horizontal'\n",
    ")\n",
    "display(sub_chk_w)\n",
    "\n",
    "for n in range(1, 11):\n",
    "    sub_chk_w.value = n\n",
    "    sleep(1)\n",
    "\n",
    "cbf_chk = (\n",
    "    (cbf_subarray.obsState == 4)\n",
    "    and (sdp_subarray_leaf_node_dp.sdpSubarrayObsState == 4)\n",
    "    and (csp_subarray_leaf_node_dp.cspSubarrayObsState == 4)\n",
    ")\n",
    "\n",
    "cbf_obs_state = cbf_subarray.obsState\n",
    "cbf_chk_w1 = widgets.Valid(\n",
    "    value=(cbf_obs_state == 4),\n",
    "    description=f\"CBF Subarray Observation State ({cbf_obs_state})\",\n",
    "    layout=widgets.Layout(width='60%'),\n",
    "    style = {'description_width': 'initial'}\n",
    ")\n",
    "display(cbf_chk_w1)\n",
    "\n",
    "sdp_obs_state = sdp_subarray_leaf_node_dp.sdpSubarrayObsState\n",
    "cbf_chk_w2 = widgets.Valid(\n",
    "    value=(sdp_obs_state == 4),\n",
    "    description=f\"SDP Subarray Observation State ({sdp_obs_state})\",\n",
    "    layout=widgets.Layout(width='60%'),\n",
    "    style = {'description_width': 'initial'}\n",
    ")\n",
    "display(cbf_chk_w2)\n",
    "\n",
    "csp_obs_state = csp_subarray_leaf_node_dp.cspSubarrayObsState\n",
    "cbf_chk_w3 = widgets.Valid(\n",
    "    value=(csp_obs_state == 4),\n",
    "    description=f\"CSP Subarray Observation State ({csp_obs_state})\",\n",
    "    layout=widgets.Layout(width='60%'),\n",
    "    style = {'description_width': 'initial'}\n",
    ")\n",
    "display(cbf_chk_w3)\n",
    "show_timebox()"
   ]
  },
  {
   "cell_type": "markdown",
   "metadata": {},
   "source": [
    "## Scan"
   ]
  },
  {
   "cell_type": "code",
   "execution_count": null,
   "metadata": {},
   "outputs": [],
   "source": [
    "# Scan\n",
    "if not APPLY_HACKS:\n",
    "    # DO NOT USE FOR NOW\n",
    "    print(\"Running the Scan command: subarray obsstate should go to Scanning\")\n",
    "\n",
    "    with open(SCAN_FILE, encoding=\"utf-8\") as f:\n",
    "        scan_json = f.read()\n",
    "\n",
    "    print(f\"\\nscan_json file contents: \\n{scan_json}\")\n",
    "\n",
    "    tmc_subarray.Scan(scan_json)\n",
    "\n",
    "    sleep(2)\n",
    "    print(f\"\\nCBF Subarray Observation State: {cbf_subarray.obsState}\")\n",
    "else:\n",
    "    # TMC LEAF NODE HACK TO GET AROUND TMC SUBARRAY STUCK IN CONFIGURING\n",
    "    with open(\"../../data/mid_telescope/tmc/scan.json\", \"r\", encoding=\"utf-8\") as json_data:\n",
    "        d = json.load(json_data)\n",
    "        sdp_scan = d[\"sdp\"]\n",
    "        print(sdp_scan)\n",
    "        try:\n",
    "            sdp_subarray_leaf_node_dp.scan(json.dumps(sdp_scan))\n",
    "        except tango.DevFailed as terr:\n",
    "            show_errorbox(terr.args[0].desc.strip())\n",
    "        \n",
    "    leaf_node_w = widgets.IntProgress(\n",
    "        value=0,\n",
    "        min=0,\n",
    "        max=10,\n",
    "        description='Subarrays',\n",
    "        bar_style='', # 'success', 'info', 'warning', 'danger' or ''\n",
    "        style={'bar_color': 'maroon'},\n",
    "        orientation='horizontal'\n",
    "    )\n",
    "    display(leaf_node_w)\n",
    "\n",
    "    for n in range(1, 11):\n",
    "        leaf_node_w.value = n\n",
    "        sleep(1)\n",
    "    print(sdp_subarray_leaf_node_dp.sdpSubarrayObsState)\n",
    "\n",
    "    with open(\"../../data/mid_telescope/tmc/scan.json\", \"r\", encoding=\"utf-8\") as json_data:\n",
    "        d = json.load(json_data)\n",
    "        csp_scan = d[\"csp\"]\n",
    "        print(f\"CSP scan:\\n{csp_scan}\")\n",
    "        try:\n",
    "            csp_subarray_leaf_node_dp.scan(json.dumps(csp_scan))\n",
    "        except tango.DevFailed as terr:\n",
    "            show_errorbox(terr.args[0].desc.strip())\n",
    "\n",
    "    sleep(2)\n",
    "    print(f\"\\ncsp Subarray Obs State: {csp_subarray_leaf_node_dp.cspSubarrayObsState}\")\n",
    "show_timebox()"
   ]
  },
  {
   "cell_type": "markdown",
   "metadata": {},
   "source": [
    "# Health checks"
   ]
  },
  {
   "cell_type": "markdown",
   "metadata": {},
   "source": [
    "## Print TMC diagnostics"
   ]
  },
  {
   "cell_type": "code",
   "execution_count": null,
   "metadata": {},
   "outputs": [],
   "source": [
    "# Print TMC diagnostics \n",
    "tmc_table: str = '<style>td {border: thin blue ridge; padding: 2px}</style><table>'\n",
    "try:\n",
    "    tmc_table += f\"<tr><td>Central Node</td><td>{tmc_central_node.name()}</td></tr>\"\n",
    "    tmc_table += f\"<tr><td>Central Node state</td><td>{str(tmc_central_node.State())}</td></tr>\"\n",
    "    tmc_table += f\"<tr><td>Central Node adminMode</td><td>{str(tmc_central_node.adminmode)}</td></tr>\"\n",
    "    tmc_table += f\"<tr><td>Central Node healthState</td><td>{str(tmc_central_node.healthState)}</td></tr>\"\n",
    "    tmc_table += \\\n",
    "        f\"<tr><td>Central Node telescopeHealthState</td>\" \\\n",
    "        f\"<td>{str(tmc_central_node.telescopeHealthState)}</td></tr>\"\n",
    "    tmc_table += \\\n",
    "        f\"<tr><td>Central Node isDishVccConfig</td>\" \\\n",
    "        f\"<td>{str(tmc_central_node.isDishVccConfigSet)}</td></tr>\"\n",
    "    tmc_table += \\\n",
    "        f\"<tr><td>Central Node DishVccValidationStatus</td>\" \\\n",
    "        f\"<td>{str(tmc_central_node.DishVccValidationStatus)}</td></tr>\"\n",
    "    tmc_table += f\"<tr><td>Subarray Node state</td><td>{tmc_csp_subarray.State()}</td></tr>\"\n",
    "    tmc_table += f\"<tr><td>Subarray adminMode</td><td>{str(tmc_csp_subarray.adminMode)}</td></tr>\"\n",
    "    # print(f\"TMC Subarray Node obsState: {str(tmc_csp_subarray.obsState)}\")\n",
    "except tango.ConnectionFailed as terr:\n",
    "    print(f\"Tango connection failed: {terr.args[0].desc.strip()}\")\n",
    "tmc_table += \"</table>\"\n",
    "tmc_table_w = widgets.HTML(\n",
    "    value=tmc_table,\n",
    "    placeholder='TMC status',\n",
    "    description='TMC',\n",
    ")\n",
    "display(tmc_table_w)"
   ]
  },
  {
   "cell_type": "markdown",
   "metadata": {},
   "source": [
    "## Print CSP-LMC Diagnostics"
   ]
  },
  {
   "cell_type": "code",
   "execution_count": null,
   "metadata": {},
   "outputs": [],
   "source": [
    "# Print CSP-LMC Diagnostics\n",
    "csplmc_table: str = \"<table>\"\n",
    "try:\n",
    "    # Controller\n",
    "    csplmc_table += f\"<tr><td>Controller</td><td>{csp_control.name()}</td></tr>\"\n",
    "    csplmc_table += f\"<tr><td> Controller admin mode</td><td>{str(csp_control.adminMode)}</td></tr>\"\n",
    "    csplmc_table += f\"<tr><td>Controller State</td><td>{csp_control.State()}</td></tr>\"\n",
    "    csplmc_table += f\"<tr><td>Controller dish Vcc Config</td><td>{csp_control.dishVccConfig}</td></tr>\"\n",
    "    csplmc_table += \\\n",
    "        f\"<tr><td>Controller CBF Simulation Mode</td>\" \\\n",
    "        f\"<td>{csp_control.cbfSimulationMode:}</td></tr>\"\n",
    "    # Subarray\n",
    "    csplmc_table += f\"<tr><td>Subarray</td><td>{csp_subarray.name()}</td></tr>\"\n",
    "    csplmc_table += f\"<tr><td>Subarray admin mode</td><td>{str(csp_subarray.adminMode)}</td></tr>\"\n",
    "    csplmc_table += f\"<tr><td>Subarray State</td><td>{csp_subarray.State()}</td></tr>\"\n",
    "    csplmc_table += f\"<tr><td>Subarray observation state</td><td>{str(csp_subarray.obsState)}</td></tr>\"\n",
    "    csplmc_table += f\"<tr><td>Subarray dish Vcc Config</td><td>{csp_subarray.dishVccConfig}</td></tr>\"\n",
    "    csplmc_table += f\"<tr><td>FSP correlator subarray</td><td>{cbf_fspcorrsubarray.obsstate}</td></tr>\"\n",
    "except tango.ConnectionFailed as terr:\n",
    "    err_msg: str = \"\"\n",
    "    for t_err_arg in t_err.args:\n",
    "        err_msg += f\"{t_err_arg.desc.strip()}\\n\"\n",
    "    show_errorbox(err_msg)\n",
    "csplmc_table += \"</table>\"\n",
    "csplmc_table_w = widgets.HTML(\n",
    "    value=csplmc_table,\n",
    "    placeholder='CSP-LMC status',\n",
    "    description='CSP-LMC',\n",
    ")\n",
    "display(csplmc_table_w)"
   ]
  },
  {
   "cell_type": "markdown",
   "metadata": {},
   "source": [
    "## Print CBF Diagnostics"
   ]
  },
  {
   "cell_type": "code",
   "execution_count": null,
   "metadata": {},
   "outputs": [],
   "source": [
    "# Print CBF Diagnostics\n",
    "cbf_table: str = \"<table>\"\n",
    "try:\n",
    "    # CBF Controller\n",
    "    cbf_table += f\"<tr><td>Controller admin mode</td><td>{str(cbf_controller.adminMode)}</td></tr>\"\n",
    "    cbf_table += f\"<tr><td>Controller State</td><td>{str(cbf_controller.State())}</td></tr>\"\n",
    "    # CBF Subarray\n",
    "    cbf_table += f\"<tr><td>Subarray admin mode</td><td>{str(cbf_subarray.adminMode)}</td></tr>\"\n",
    "    cbf_table += f\"<tr><td>Subarray State</td><td>{str(cbf_subarray.State())}</td></tr>\"\n",
    "    cbf_table += f\"<tr><td>Subarray observation state</td><td>{str(cbf_subarray.obsState)}</td></tr>\"\n",
    "except tango.ConnectionFailed as terr:\n",
    "    err_msg: str = \"\"\n",
    "    for t_err_arg in t_err.args:\n",
    "        err_msg += f\"{t_err_arg.desc.strip()}\\n\"\n",
    "    show_errorbox(err_msg)\n",
    "cbf_table += \"</table>\"\n",
    "cbf_table_w = widgets.HTML(\n",
    "    value=cbf_table,\n",
    "    placeholder='CBF status',\n",
    "    description='CBF',\n",
    ")\n",
    "display(csplmc_table_w)"
   ]
  },
  {
   "cell_type": "markdown",
   "metadata": {},
   "source": [
    "## Print SDP Diagnostics"
   ]
  },
  {
   "cell_type": "code",
   "execution_count": null,
   "metadata": {},
   "outputs": [],
   "source": [
    "# Print SDP Diagnostics\n",
    "sdp_table: str = \"<table>\"\n",
    "try:\n",
    "    # SDP Subarray\n",
    "    sdp_table += f\"<tr><td>Subarray state</td><td>{str(sdp_subarray.State())}</td></tr>\"\n",
    "    sdp_table += f\"<tr><td>Subarray admin mode</td><td>{str(sdp_subarray.adminMode)}</td></tr>\"\n",
    "    sdp_table += f\"<tr><td>Subarray observation state</td><td>{str(sdp_subarray.obsState)}</td></tr>\"\n",
    "except tango.ConnectionFailed as terr:\n",
    "    err_msg: str = \"\"\n",
    "    for t_err_arg in t_err.args:\n",
    "        err_msg += f\"{t_err_arg.desc.strip()}\\n\"\n",
    "    show_errorbox(err_msg)\n",
    "sdp_table += \"</table>\"\n",
    "sdp_table_w = widgets.HTML(\n",
    "    value=cbf_table,\n",
    "    placeholder='SDP status',\n",
    "    description='SDP',\n",
    ")\n",
    "display(sdp_table_w)"
   ]
  },
  {
   "cell_type": "markdown",
   "metadata": {},
   "source": [
    "## Check subarrays"
   ]
  },
  {
   "cell_type": "code",
   "execution_count": null,
   "metadata": {},
   "outputs": [],
   "source": [
    "# Check subarrays\n",
    "# Wait about 5 seconds and show subarrays\n",
    "cbf_prog_w = widgets.IntProgress(\n",
    "    value=0,\n",
    "    min=0,\n",
    "    max=5,\n",
    "    description='Subarrays',\n",
    "    bar_style='', # 'success', 'info', 'warning', 'danger' or ''\n",
    "    style={'bar_color': 'maroon'},\n",
    "    orientation='horizontal'\n",
    ")\n",
    "display(cbf_prog_w)\n",
    "\n",
    "for n in range(1,6):\n",
    "    cbf_prog_w.value = n\n",
    "    sleep(1)\n",
    "\n",
    "show_textbox(str(cbf_subarray.obsState), \"CBF Subarray Observation\")\n",
    "cbf_sub_w1 = widgets.Valid(\n",
    "    value=(cbf_subarray.obsState == 4),\n",
    "    description=\"CSP Subarray\",\n",
    "    layout=widgets.Layout(width='60%'),\n",
    "    style = {'description_width': 'initial'}\n",
    ")\n",
    "display(cbf_sub_w1)\n",
    "\n",
    "show_textbox(str(sdp_subarray_leaf_node_dp.sdpSubarrayObsState), \"SDP Subarray Observation\")\n",
    "cbf_sub_w2 = widgets.Valid(\n",
    "    value=(sdp_subarray_leaf_node_dp.sdpSubarrayObsState == 4),\n",
    "    description=\"SDP Subarray Observation\",\n",
    "    layout=widgets.Layout(width='60%'),\n",
    "    style = {'description_width': 'initial'}\n",
    ")\n",
    "display(cbf_sub_w2)\n",
    "\n",
    "show_textbox(str(csp_subarray_leaf_node_dp.cspSubarrayObsState), \"CSP Subarray Observation\")\n",
    "cbf_sub_w3 = widgets.Valid(\n",
    "    value=(csp_subarray_leaf_node_dp.cspSubarrayObsState == 4),\n",
    "    description=\"CSP Subarray Observation\",\n",
    "    layout=widgets.Layout(width='60%'),\n",
    "    style = {'description_width': 'initial'}\n",
    ")\n",
    "display(cbf_sub_w3)"
   ]
  },
  {
   "cell_type": "markdown",
   "metadata": {},
   "source": [
    "# Shut down"
   ]
  },
  {
   "cell_type": "markdown",
   "metadata": {},
   "source": [
    "## End scan"
   ]
  },
  {
   "cell_type": "code",
   "execution_count": null,
   "metadata": {},
   "outputs": [],
   "source": [
    "# End scan\n",
    "if not APPLY_HACKS:\n",
    "    # DO NOT USE FOR NOW SINCE TMC SUBARRAY IS STUCK IN CONFIGURING\n",
    "    print(\"Run the End Scan command: subarray obsstate should go to Ready state\")\n",
    "\n",
    "    tmc_subarray.EndScan()\n",
    "\n",
    "    sleep(2)\n",
    "    print(f\"\\nTMC Subarray Observation State: {tmc_subarray.obsState}\")\n",
    "else:\n",
    "    # TMC LEAF NODE HACK TO GET AROUND TMC SUBARRAY STUCK IN CONFIGURING\n",
    "    print(\"Running the End Scan command: subarray obsstate should go to Ready state\")\n",
    "\n",
    "    try:\n",
    "        sdp_subarray_leaf_node_dp.EndScan()\n",
    "    except tango.DevFailed as terr:\n",
    "        show_errorbox(terr.args[0].desc.strip(), \"SDP end scan\")\n",
    "    sleep(2)\n",
    "    try:\n",
    "        csp_subarray_leaf_node_dp.EndScan()\n",
    "    except tango.DevFailed as terr:\n",
    "        show_errorbox(terr.args[0].desc.strip(), \"CSP end scan\")\n",
    "    show_textbox(str(sdp_subarray_leaf_node_dp.sdpSubarrayObsState), \"SDP state\")\n",
    "    show_textbox(str(csp_subarray_leaf_node_dp.cspSubarrayObsState), \"CSP state\")\n",
    "show_timebox()"
   ]
  },
  {
   "cell_type": "markdown",
   "metadata": {},
   "source": [
    "## End subarrays"
   ]
  },
  {
   "cell_type": "code",
   "execution_count": null,
   "metadata": {},
   "outputs": [],
   "source": [
    "# End subarrays \n",
    "if not APPLY_HACKS:\n",
    "    # DO NOT USE (TMC STUCK IN CONFIGURING)\n",
    "    print(\"Run the End command: subarray obsstate should go to Idle state\")\n",
    "\n",
    "    # tmc_subarray.End()\n",
    "\n",
    "    # sleep(2)\n",
    "    # print(f\"\\TMC Subarray Observation State: {cbf_subarray.obsState}\")\n",
    "else:\n",
    "    # TMC LEAF NODE HACK TO GET AROUND TMC SUBARRAY STUCK IN CONFIGURING\n",
    "    print(\"Running the End command: subarray obsstate should go to Idle state\")\n",
    "\n",
    "    sdp_subarray_leaf_node_dp.End()\n",
    "    sleep(2)\n",
    "    csp_subarray_leaf_node_dp.End()\n",
    "\n",
    "    sleep(2)\n",
    "    show_textbox(str(sdp_subarray_leaf_node_dp.sdpSubarrayObsState), \"SDP state\")\n",
    "    show_textbox(str(csp_subarray_leaf_node_dp.cspSubarrayObsState), \"CSP state\")\n",
    "show_timebox()"
   ]
  },
  {
   "cell_type": "markdown",
   "metadata": {},
   "source": [
    "## Release Resources"
   ]
  },
  {
   "cell_type": "code",
   "execution_count": null,
   "metadata": {},
   "outputs": [],
   "source": [
    "# Release Resources \n",
    "if not APPLY_HACKS:\n",
    "    # DO NOT USE (TMC STUCK IN CONFIGURING)\n",
    "    print(\n",
    "        \"Run the Release All Resources command:\"\n",
    "        \" subarray obsstate should go to Empty state and receptor IDs should be empty\"\n",
    "    )\n",
    "\n",
    "    tmc_subarray.ReleaseAllResources()\n",
    "\n",
    "    sleep(2)\n",
    "    print(f\"TMC Subarray Observation State: {tmc_subarray.obsState}\")\n",
    "else:\n",
    "    # TMC LEAF NODE HACK TO GET AROUND TMC SUBARRAY STUCK IN CONFIGURING\n",
    "    print(\n",
    "        \"Running the Release All Resources command:\"\n",
    "        \" subarray obsstate should go to Empty state and receptor IDs should be empty\"\n",
    "    )\n",
    "\n",
    "    sdp_subarray_leaf_node_dp.ReleaseAllResources()\n",
    "    sleep(2)\n",
    "    csp_subarray_leaf_node_dp.ReleaseAllResources()\n",
    "\n",
    "    sleep(2)\n",
    "    show_textbox(str(sdp_subarray_leaf_node_dp.sdpSubarrayObsState), \"SDP state\")\n",
    "    show_textbox(str(csp_subarray_leaf_node_dp.cspSubarrayObsState), \"CSP state\")\n",
    "show_timebox()"
   ]
  },
  {
   "cell_type": "markdown",
   "metadata": {},
   "source": [
    "## Telescope Off"
   ]
  },
  {
   "cell_type": "markdown",
   "metadata": {},
   "source": [
    "### Run Telescope Off command"
   ]
  },
  {
   "cell_type": "code",
   "execution_count": null,
   "metadata": {},
   "outputs": [],
   "source": [
    "# Run Telescope Off command \n",
    "print(\"Running the TelescopeOff command\")\n",
    "\n",
    "try:\n",
    "    tmc_central_node.TelescopeOff()\n",
    "except tango.CommunicationFailed as t_err:\n",
    "    print(f\"Uhoh {str(t_err)}\")\n",
    "\n",
    "off_prog_w = widgets.IntProgress(\n",
    "    value=0,\n",
    "    min=0,\n",
    "    max=5,\n",
    "    description='Turning off',\n",
    "    bar_style='', # 'success', 'info', 'warning', 'danger' or ''\n",
    "    style={'bar_color': 'maroon'},\n",
    "    orientation='horizontal'\n",
    ")\n",
    "display(off_prog_w)\n",
    "\n",
    "for n in range(1,6):\n",
    "    off_prog_w.value = n\n",
    "    sleep(1)\n",
    "# Show current telescope state\n",
    "show_textbox(str(tmc_central_node.telescopeState), \"Telescope state\")\n",
    "show_timebox()"
   ]
  },
  {
   "cell_type": "markdown",
   "metadata": {},
   "source": [
    "### Check states"
   ]
  },
  {
   "cell_type": "code",
   "execution_count": null,
   "metadata": {},
   "outputs": [],
   "source": [
    "# Check states \n",
    "show_textbox(str(tmc_central_node.State()), \"TMC central\")\n",
    "show_textbox(str(csp_control.State()), \"CSP control\")\n",
    "show_textbox(str(cbf_controller.State()), \"CBF control\")\n",
    "show_timebox()"
   ]
  },
  {
   "cell_type": "markdown",
   "metadata": {},
   "source": [
    "# Configure Test Equipment"
   ]
  },
  {
   "cell_type": "markdown",
   "metadata": {},
   "source": [
    "## Test equipment setup changes as required for some of the mid - aiv jama tests"
   ]
  },
  {
   "cell_type": "code",
   "execution_count": null,
   "metadata": {},
   "outputs": [],
   "source": [
    "\n",
    "from bokeh.io import output_notebook\n",
    "\n",
    "from ska_mid_jupyter_notebooks.test_equipment.rendering import get_test_equipment_monitor_plot\n",
    "from ska_mid_jupyter_notebooks.test_equipment.state import get_equipment_model\n",
    "from ska_mid_jupyter_notebooks.test_equipment.test_equipment import TangoTestEquipment"
   ]
  },
  {
   "cell_type": "markdown",
   "metadata": {},
   "source": [
    "## Print current status"
   ]
  },
  {
   "cell_type": "code",
   "execution_count": null,
   "metadata": {},
   "outputs": [],
   "source": [
    "\n",
    "test_equipment = TangoTestEquipment()\n",
    "print(f\"Test Equipment Configured: {test_equipment}\")\n",
    "test_equipment_state = get_equipment_model(test_equipment)\n",
    "test_equipment.devices"
   ]
  },
  {
   "cell_type": "markdown",
   "metadata": {},
   "source": [
    "## Print Test Equipment Diagnostics"
   ]
  },
  {
   "cell_type": "code",
   "execution_count": null,
   "metadata": {},
   "outputs": [],
   "source": [
    "\n",
    "test_equipment.print_diagnostics()"
   ]
  },
  {
   "cell_type": "markdown",
   "metadata": {},
   "source": [
    "## Create Test Equipment Plot"
   ]
  },
  {
   "cell_type": "code",
   "execution_count": null,
   "metadata": {},
   "outputs": [],
   "source": [
    "\n",
    "monitor_plot = get_test_equipment_monitor_plot()\n",
    "test_equipment_state.subscribe_to_test_equipment_state(monitor_plot.handle_device_state_change)\n",
    "output_notebook()\n",
    "monitor_plot.show()\n",
    "test_equipment_state.activate()"
   ]
  },
  {
   "cell_type": "markdown",
   "metadata": {},
   "source": [
    "Turn offline Test Equipment devices ONLINE"
   ]
  },
  {
   "cell_type": "code",
   "execution_count": null,
   "metadata": {},
   "outputs": [],
   "source": [
    "\n",
    "# set any offline devices to online\n",
    "test_equipment.turn_online()"
   ]
  },
  {
   "cell_type": "markdown",
   "metadata": {},
   "source": [
    "## Display Test Equipment Device States "
   ]
  },
  {
   "cell_type": "code",
   "execution_count": null,
   "metadata": {},
   "outputs": [],
   "source": [
    "\n",
    "test_equipment_state.state[\"devices_states\"]"
   ]
  },
  {
   "cell_type": "markdown",
   "metadata": {},
   "source": [
    "Band 1 setup\n",
    "\n",
    "Set CW generator to approximately 480MHz (freq1) & -30dBm (power1), and wideband noise to approximately -132dBm/Hz at the SPF Band 1 Receiver inputs. ie. Band 1 output on and attenuation approx 10dB.  \n",
    "\n",
    "Expected Result:  \n",
    "*Test equipment configured*"
   ]
  },
  {
   "cell_type": "code",
   "execution_count": null,
   "metadata": {},
   "outputs": [],
   "source": [
    "\n",
    "# test equipment setup values - band 1; use 950.000e6 for frequency for band 2\n",
    "\n",
    "import time\n",
    "\n",
    "frequency_to_set = 480.000e6\n",
    "power_level = -30.0\n",
    "attenuation = 10\n",
    "band = 1\n",
    "\n",
    "signal_generator = test_equipment.signal_generator\n",
    "SSC = test_equipment.sky_simulator_controller\n",
    "prog_atten = test_equipment.programmable_attenuator\n",
    "\n",
    "# print current\n",
    "print(f\"Current signal generator frequency: {signal_generator.frequency}\")\n",
    "print(f\"Current signal generator power level: {signal_generator.power_dbm}\")\n",
    "print(f\"Current Sky Simulator Correlated Noise Source: {SSC.Correlated_Noise_Source}\")\n",
    "print(f\"Current Sky Simulator Uncorrelated Noise Source: {SSC.Uncorrelated_Noise_Sources}\")\n",
    "print(f\"Current Sky Simulator Band: {SSC.Band}\")\n",
    "print(f\"Current Programmable attenuator current attenuation : {prog_atten.channel_1}\")\n",
    "\n",
    "# setup siggen\n",
    "signal_generator.write_attribute(\"frequency\", frequency_to_set)\n",
    "signal_generator.write_attribute(\"power_dbm\", power_level)\n",
    "# setup SSC\n",
    "SSC.write_attribute(\"Correlated_Noise_Source\", True)\n",
    "SSC.write_attribute(\"Uncorrelated_Noise_Sources\", False)\n",
    "SSC.write_attribute(\"Band\", band)\n",
    "# setup Attenuator\n",
    "prog_atten.write_attribute(\"channel_1\", attenuation)\n",
    "\n",
    "time.sleep(3)\n",
    "# print updated values and confirm updates\n",
    "print(f\"Updated signal generator frequency                  : {signal_generator.frequency}\")\n",
    "print(f\"Updated signal generator power level                : {signal_generator.power_dbm}\")\n",
    "print(f\"Updated Sky Simulator Correlated Noise Source       : {SSC.Correlated_Noise_Source}\")\n",
    "print(f\"Updated Sky Simulator Uncorrelated Noise Source     : {SSC.Uncorrelated_Noise_Sources}\")\n",
    "print(f\"Updated Sky Simulator Band                          : {SSC.Band}\")\n",
    "print(f\"Updated Programmable attenuator current attenuation : {prog_atten.channel_1}\")\n",
    "\n",
    "assert signal_generator.frequency == frequency_to_set, print(\n",
    "    f\"Frequency required is {frequency_to_set} but got {signal_generator.frequency}\"\n",
    ")\n",
    "assert signal_generator.power_dbm == power_level, print(\n",
    "    f\"Power level required is {power_level} but got {signal_generator.power_dbm}\"\n",
    ")\n",
    "assert SSC.Correlated_Noise_Source, print(\n",
    "    f\"Correlated noise source required is {True} but got {SSC.Correlated_Noise_Source}\"\n",
    ")\n",
    "assert not SSC.Uncorrelated_Noise_Sources, print(\n",
    "    f\"Uncorrelated noise source required is {False} but got {SSC.Uncorrelated_Noise_Sources}\"\n",
    ")\n",
    "assert SSC.Band == band, print(f\"Band required is {band} but got {SSC.Band}\")\n",
    "assert prog_atten.channel_1 == attenuation, print(\n",
    "    f\"Attenuation required is {attenuation} but got {prog_atten.channel_1}\"\n",
    ")"
   ]
  },
  {
   "cell_type": "markdown",
   "metadata": {},
   "source": [
    "## print current setup"
   ]
  },
  {
   "cell_type": "code",
   "execution_count": null,
   "metadata": {},
   "outputs": [],
   "source": [
    "\n",
    "# print current only\n",
    "signal_generator = test_equipment.signal_generator\n",
    "SSC = test_equipment.sky_simulator_controller\n",
    "prog_atten = test_equipment.programmable_attenuator\n",
    "\n",
    "# print current\n",
    "print(f\"Current signal generator frequency: {signal_generator.frequency}\")\n",
    "print(f\"Current signal generator power level: {signal_generator.power_dbm}\")\n",
    "print(f\"Current Sky Simulator Correlated Noise Source: {SSC.Correlated_Noise_Source}\")\n",
    "print(f\"Current Sky Simulator Uncorrelated Noise Source: {SSC.Uncorrelated_Noise_Sources}\")\n",
    "print(f\"Current Sky Simulator Band: {SSC.Band}\")\n",
    "print(f\"Current Programmable attenuator current attenuation : {prog_atten.channel_1}\")"
   ]
  },
  {
   "cell_type": "markdown",
   "metadata": {},
   "source": [
    "~10 seconds after recording has started, use Test Control Script to adjust CW generator signal level by -3dB. \n",
    "\n",
    "Expected Result:  \n",
    "*CW level changes by roughly -3dB in SDP Spectrometer Display*"
   ]
  },
  {
   "cell_type": "code",
   "execution_count": null,
   "metadata": {},
   "outputs": [],
   "source": [
    "\n",
    "time.sleep(\n",
    "    10\n",
    ")  # cell to be run in this notebook immediately after starting scn in rf-chain-and-channelisation_test_equipment notebook\n",
    "power_level_minus_3_db = power_level - 3.0\n",
    "signal_generator = test_equipment.signal_generator\n",
    "print(f\"Current signal generator power level: {signal_generator.power_dbm}\")\n",
    "signal_generator.write_attribute(\"power_dbm\", power_level_minus_3_db)\n",
    "time.sleep(3)\n",
    "print(f\"Updated signal generator power level: {signal_generator.power_dbm}\")"
   ]
  },
  {
   "cell_type": "markdown",
   "metadata": {},
   "source": [
    "After a further ~10 seconds, use Test Control Script to adjust CW generator signal level by -3dB.  \n",
    "\n",
    "Expected Result:  \n",
    "*CW level changes by roughly -3dB in SDP Spectrometer Display*"
   ]
  },
  {
   "cell_type": "code",
   "execution_count": null,
   "metadata": {},
   "outputs": [],
   "source": [
    "\n",
    "time.sleep(\n",
    "    10\n",
    ")  # cell to be run in this notebook immediately after starting scn in rf-chain-and-channelisation_test_equipment notebook\n",
    "power_level_minus_6_db = power_level - 6.0\n",
    "print(f\"Current signal generator power level: {signal_generator.power_dbm}\")\n",
    "signal_generator.write_attribute(\"power_dbm\", power_level_minus_6_db)\n",
    "time.sleep(3)\n",
    "print(f\"Updated signal generator power level: {signal_generator.power_dbm}\")"
   ]
  },
  {
   "cell_type": "markdown",
   "metadata": {},
   "source": [
    "After a further ~10seconds, use Test Control Script to increase the CW generator signal frequency by 10MHz.  \n",
    "\n",
    "Expected Result:  \n",
    "*CW frequency changes by 10MHz in SDP Spectrometer Display*"
   ]
  },
  {
   "cell_type": "code",
   "execution_count": null,
   "metadata": {},
   "outputs": [],
   "source": [
    "\n",
    "time.sleep(10)\n",
    "frequency_plus_10MHz = frequency_to_set + 10.0e6\n",
    "print(f\"Current signal generator frequency: {signal_generator.frequency}\")\n",
    "signal_generator.write_attribute(\"frequency\", frequency_plus_10MHz)\n",
    "time.sleep(3)\n",
    "print(f\"Updated signal generator frequency: {signal_generator.frequency}\")"
   ]
  }
 ],
 "metadata": {
  "celltoolbar": "Tags",
  "hide_input": false,
  "kernelspec": {
   "display_name": "Python 3 (ipykernel)",
   "language": "python",
   "name": "python3"
  },
  "language_info": {
   "codemirror_mode": {
    "name": "ipython",
    "version": 3
   },
   "file_extension": ".py",
   "mimetype": "text/x-python",
   "name": "python",
   "nbconvert_exporter": "python",
   "pygments_lexer": "ipython3",
   "version": "3.10.12"
  },
  "toc": {
   "base_numbering": 1,
   "nav_menu": {},
   "number_sections": true,
   "sideBar": true,
   "skip_h1_title": false,
   "title_cell": "Table of Contents",
   "title_sidebar": "Contents",
   "toc_cell": false,
   "toc_position": {
    "height": "calc(100% - 180px)",
    "left": "10px",
    "top": "150px",
    "width": "275.391px"
   },
   "toc_section_display": true,
   "toc_window_display": false
  },
  "widgets": {
   "application/vnd.jupyter.widget-state+json": {
    "state": {
     "02528804dd3c47679fd022d817e9341c": {
      "model_module": "@jupyter-widgets/controls",
      "model_module_version": "2.0.0",
      "model_name": "IntProgressModel",
      "state": {
       "description": "Check obs:",
       "layout": "IPY_MODEL_434d851c235641ae8cfb342767e0e397",
       "max": 10,
       "style": "IPY_MODEL_fb8d5a669e3547daa87d2b083aeaab89",
       "value": 10
      }
     },
     "02dd0c122f6d481fa05ff74307ab5af7": {
      "model_module": "@jupyter-widgets/controls",
      "model_module_version": "2.0.0",
      "model_name": "DescriptionStyleModel",
      "state": {
       "description_width": "initial"
      }
     },
     "04034900db084de995b1371a761e90d1": {
      "model_module": "@jupyter-widgets/controls",
      "model_module_version": "2.0.0",
      "model_name": "CheckboxModel",
      "state": {
       "description": "CBF controller admin",
       "disabled": false,
       "indent": false,
       "layout": "IPY_MODEL_ac19b088818c453c82d6e28214fd42a4",
       "style": "IPY_MODEL_303a0dce10fb4351a14fbb3c6d3f21f8",
       "value": true
      }
     },
     "0520cb63ce8f4dae8941ccaaeee32e97": {
      "model_module": "@jupyter-widgets/base",
      "model_module_version": "2.0.0",
      "model_name": "LayoutModel",
      "state": {}
     },
     "083d5e41fc6648a4a29a11fc024cfb42": {
      "model_module": "@jupyter-widgets/base",
      "model_module_version": "2.0.0",
      "model_name": "LayoutModel",
      "state": {
       "width": "60%"
      }
     },
     "0db2521e88f646258d0c12425038f8dd": {
      "model_module": "@jupyter-widgets/controls",
      "model_module_version": "2.0.0",
      "model_name": "DescriptionStyleModel",
      "state": {
       "description_width": "initial"
      }
     },
     "0e7033d8747545db949320ef380d3f61": {
      "model_module": "@jupyter-widgets/controls",
      "model_module_version": "2.0.0",
      "model_name": "HTMLStyleModel",
      "state": {
       "description_width": "",
       "font_size": null,
       "text_color": null
      }
     },
     "0f7c5a2736934be880db5c119a097c9f": {
      "model_module": "@jupyter-widgets/base",
      "model_module_version": "2.0.0",
      "model_name": "LayoutModel",
      "state": {
       "width": "60%"
      }
     },
     "0f8eedf815794b708f4aad0c36568466": {
      "model_module": "@jupyter-widgets/controls",
      "model_module_version": "2.0.0",
      "model_name": "DescriptionStyleModel",
      "state": {
       "description_width": "initial"
      }
     },
     "132da0fa45e948b4870d5473d3f5de11": {
      "model_module": "@jupyter-widgets/base",
      "model_module_version": "2.0.0",
      "model_name": "LayoutModel",
      "state": {}
     },
     "1368e5ef426c4e1ab38a1b28d9a8f559": {
      "model_module": "@jupyter-widgets/base",
      "model_module_version": "2.0.0",
      "model_name": "LayoutModel",
      "state": {}
     },
     "13fe77a0d2214bfeb217523f0618c647": {
      "model_module": "@jupyter-widgets/controls",
      "model_module_version": "2.0.0",
      "model_name": "TextModel",
      "state": {
       "description": "SDP Subarray Observation",
       "disabled": true,
       "layout": "IPY_MODEL_cc3731790b9a4c528b9842b47aba6a92",
       "style": "IPY_MODEL_899909efce774e3dbc76ba3f92121c32",
       "value": "sdpSubarrayObsState.SCANNING"
      }
     },
     "147ea71d14e049148daa0ffea0c4bc10": {
      "model_module": "@jupyter-widgets/controls",
      "model_module_version": "2.0.0",
      "model_name": "ValidModel",
      "state": {
       "description": "TMC CSP master online",
       "layout": "IPY_MODEL_1923060ea2b24fe89dfe5eaec4e956f9",
       "style": "IPY_MODEL_f74428ed602249948bb09675e510f522",
       "value": true
      }
     },
     "1656c0c2c1ea4beb83652aabdb254b1a": {
      "model_module": "@jupyter-widgets/base",
      "model_module_version": "2.0.0",
      "model_name": "LayoutModel",
      "state": {
       "width": "60%"
      }
     },
     "176529d1f1f748a580d531955e4413f3": {
      "model_module": "@jupyter-widgets/controls",
      "model_module_version": "2.0.0",
      "model_name": "ProgressStyleModel",
      "state": {
       "bar_color": "maroon",
       "description_width": ""
      }
     },
     "184d10f0897744238a16aa12eb147d1e": {
      "model_module": "@jupyter-widgets/controls",
      "model_module_version": "2.0.0",
      "model_name": "ValidModel",
      "state": {
       "description": "Namespaces",
       "layout": "IPY_MODEL_6b00bbe9f7c942d783ae16d391001eaa",
       "style": "IPY_MODEL_4f88be96bb9048f993dc7b6eafe38ad0",
       "value": true
      }
     },
     "1910cc59da994506af3bfb1a59397ca1": {
      "model_module": "@jupyter-widgets/controls",
      "model_module_version": "2.0.0",
      "model_name": "CheckboxModel",
      "state": {
       "description": "Dish leaf 036 admin",
       "disabled": false,
       "indent": false,
       "layout": "IPY_MODEL_68018d2c64aa4939af91f2ab4d77dc3a",
       "style": "IPY_MODEL_a5a3352a731645e8bb09f383a2318c9c",
       "value": false
      }
     },
     "19113638fed64f7dbed513110f0cec42": {
      "model_module": "@jupyter-widgets/controls",
      "model_module_version": "2.0.0",
      "model_name": "TextModel",
      "state": {
       "description": "SKA036 ns",
       "disabled": true,
       "layout": "IPY_MODEL_0f7c5a2736934be880db5c119a097c9f",
       "style": "IPY_MODEL_c70cfd1036f04e798ebdf8e11a2d711d",
       "value": "ci-dish-lmc-ska036-at-2146-consolidate-jupyter-notebooks"
      }
     },
     "1923060ea2b24fe89dfe5eaec4e956f9": {
      "model_module": "@jupyter-widgets/base",
      "model_module_version": "2.0.0",
      "model_name": "LayoutModel",
      "state": {
       "width": "60%"
      }
     },
     "1b36675984aa497bb624d7e584234137": {
      "model_module": "@jupyter-widgets/controls",
      "model_module_version": "2.0.0",
      "model_name": "DescriptionStyleModel",
      "state": {
       "description_width": "initial"
      }
     },
     "1b6fb74f9a3e4f24a286dc27218e33d0": {
      "model_module": "@jupyter-widgets/controls",
      "model_module_version": "2.0.0",
      "model_name": "ProgressStyleModel",
      "state": {
       "bar_color": "maroon",
       "description_width": ""
      }
     },
     "1ccfecbf66584cc385195c38943d6bf2": {
      "model_module": "@jupyter-widgets/controls",
      "model_module_version": "2.0.0",
      "model_name": "TextStyleModel",
      "state": {
       "description_width": "",
       "font_size": null,
       "text_color": null
      }
     },
     "1e6fe36282954cdc9baa447d90ff37c1": {
      "model_module": "@jupyter-widgets/base",
      "model_module_version": "2.0.0",
      "model_name": "LayoutModel",
      "state": {
       "width": "60%"
      }
     },
     "20b62735553342fb9ab827006c8c1d39": {
      "model_module": "@jupyter-widgets/controls",
      "model_module_version": "2.0.0",
      "model_name": "ValidModel",
      "state": {
       "description": "CSP subarray online",
       "layout": "IPY_MODEL_1e6fe36282954cdc9baa447d90ff37c1",
       "style": "IPY_MODEL_32cd062dd1da4661967661f0f473aed4",
       "value": true
      }
     },
     "21fbd10fd4b745f1a03137754a0da3dd": {
      "model_module": "@jupyter-widgets/base",
      "model_module_version": "2.0.0",
      "model_name": "LayoutModel",
      "state": {}
     },
     "22107a4246414367945e446dc01b30f5": {
      "model_module": "@jupyter-widgets/controls",
      "model_module_version": "2.0.0",
      "model_name": "CheckboxModel",
      "state": {
       "description": "CSP subarray admin",
       "disabled": false,
       "indent": false,
       "layout": "IPY_MODEL_c72b78dfd4014cc2a408103754adfef5",
       "style": "IPY_MODEL_452ef156c4224432b490fc37b6509ac4",
       "value": true
      }
     },
     "235cf36f276547b5bb411947f0bef2c0": {
      "model_module": "@jupyter-widgets/controls",
      "model_module_version": "2.0.0",
      "model_name": "DescriptionStyleModel",
      "state": {
       "description_width": "initial"
      }
     },
     "257a709c933a406c8016e43b7668ee73": {
      "model_module": "@jupyter-widgets/base",
      "model_module_version": "2.0.0",
      "model_name": "LayoutModel",
      "state": {}
     },
     "26b64b6e4b4142369df75212b31e91de": {
      "model_module": "@jupyter-widgets/controls",
      "model_module_version": "2.0.0",
      "model_name": "DescriptionStyleModel",
      "state": {
       "description_width": "initial"
      }
     },
     "26f0558cd4174f748bdd8415a3ed1717": {
      "model_module": "@jupyter-widgets/base",
      "model_module_version": "2.0.0",
      "model_name": "LayoutModel",
      "state": {}
     },
     "272a20acfa404fa3a813517343e71565": {
      "model_module": "@jupyter-widgets/controls",
      "model_module_version": "2.0.0",
      "model_name": "ProgressStyleModel",
      "state": {
       "bar_color": "maroon",
       "description_width": ""
      }
     },
     "276cbd84fdc948138c009ad7f46d24e2": {
      "model_module": "@jupyter-widgets/controls",
      "model_module_version": "2.0.0",
      "model_name": "IntProgressModel",
      "state": {
       "description": "Subarrays",
       "layout": "IPY_MODEL_7ac92b190ca14d6dbc3feda8a5fdb11b",
       "max": 10,
       "style": "IPY_MODEL_176529d1f1f748a580d531955e4413f3",
       "value": 10
      }
     },
     "290f4e37ca4b4e17858c45d304febd69": {
      "model_module": "@jupyter-widgets/controls",
      "model_module_version": "2.0.0",
      "model_name": "CheckboxStyleModel",
      "state": {
       "description_width": ""
      }
     },
     "2ca080f6ac784ac1957b1edd6b4f16ce": {
      "model_module": "@jupyter-widgets/controls",
      "model_module_version": "2.0.0",
      "model_name": "DescriptionStyleModel",
      "state": {
       "description_width": "initial"
      }
     },
     "2f089a111dc242c1a96fb89cee0e28f5": {
      "model_module": "@jupyter-widgets/base",
      "model_module_version": "2.0.0",
      "model_name": "LayoutModel",
      "state": {
       "width": "60%"
      }
     },
     "303a0dce10fb4351a14fbb3c6d3f21f8": {
      "model_module": "@jupyter-widgets/controls",
      "model_module_version": "2.0.0",
      "model_name": "CheckboxStyleModel",
      "state": {
       "description_width": ""
      }
     },
     "31bfc7bb0ea64651957ce9113271cd7c": {
      "model_module": "@jupyter-widgets/base",
      "model_module_version": "2.0.0",
      "model_name": "LayoutModel",
      "state": {
       "width": "60%"
      }
     },
     "32926cb2835c4e1ea24c3601ca34cc36": {
      "model_module": "@jupyter-widgets/base",
      "model_module_version": "2.0.0",
      "model_name": "LayoutModel",
      "state": {
       "width": "60%"
      }
     },
     "32cd062dd1da4661967661f0f473aed4": {
      "model_module": "@jupyter-widgets/controls",
      "model_module_version": "2.0.0",
      "model_name": "DescriptionStyleModel",
      "state": {
       "description_width": "initial"
      }
     },
     "3359a050c57e41f88d79dfa990061b21": {
      "model_module": "@jupyter-widgets/base",
      "model_module_version": "2.0.0",
      "model_name": "LayoutModel",
      "state": {
       "width": "60%"
      }
     },
     "34309b598a15419987becd625931b7d6": {
      "model_module": "@jupyter-widgets/base",
      "model_module_version": "2.0.0",
      "model_name": "LayoutModel",
      "state": {
       "width": "60%"
      }
     },
     "370afe6ca4e94de6996e5ba7f8773f54": {
      "model_module": "@jupyter-widgets/controls",
      "model_module_version": "2.0.0",
      "model_name": "IntSliderModel",
      "state": {
       "behavior": "drag-tap",
       "continuous_update": false,
       "description": "ON wait time",
       "layout": "IPY_MODEL_9feb39e5371e485eb90fb043559af635",
       "max": 300,
       "style": "IPY_MODEL_7e512b81a5dd4510bbbc789abc8e4e9d",
       "value": 180
      }
     },
     "3711d676f42443008d180fe0169e1b90": {
      "model_module": "@jupyter-widgets/controls",
      "model_module_version": "2.0.0",
      "model_name": "DescriptionStyleModel",
      "state": {
       "description_width": "initial"
      }
     },
     "3f621f871e1c40ae9680608057aaaa6c": {
      "model_module": "@jupyter-widgets/controls",
      "model_module_version": "2.0.0",
      "model_name": "CheckboxModel",
      "state": {
       "description": "Dish leaf 001 admin",
       "disabled": false,
       "indent": false,
       "layout": "IPY_MODEL_79a5830c6c0f47a898fd5f42573ade76",
       "style": "IPY_MODEL_ce2f99e8713f4ee2a8a6c8df1be62562",
       "value": false
      }
     },
     "433b0e7bb608495c94c2b1ae8469679b": {
      "model_module": "@jupyter-widgets/base",
      "model_module_version": "2.0.0",
      "model_name": "LayoutModel",
      "state": {
       "width": "60%"
      }
     },
     "434d851c235641ae8cfb342767e0e397": {
      "model_module": "@jupyter-widgets/base",
      "model_module_version": "2.0.0",
      "model_name": "LayoutModel",
      "state": {}
     },
     "43d6a7937d03432887776423fe664feb": {
      "model_module": "@jupyter-widgets/controls",
      "model_module_version": "2.0.0",
      "model_name": "ValidModel",
      "state": {
       "description": "CBF Subarray Observation State (4)",
       "layout": "IPY_MODEL_592fc4b4c6b244b6917980822d779c2f",
       "style": "IPY_MODEL_0db2521e88f646258d0c12425038f8dd",
       "value": true
      }
     },
     "43fe0d7baf0b401b8992083d7931be29": {
      "model_module": "@jupyter-widgets/controls",
      "model_module_version": "2.0.0",
      "model_name": "ValidModel",
      "state": {
       "description": "Telescope ON",
       "layout": "IPY_MODEL_2f089a111dc242c1a96fb89cee0e28f5",
       "style": "IPY_MODEL_f9d080a50e2c44cd990d10edd6beb4bd",
       "value": true
      }
     },
     "44e365321d1e42c38560ee37d4407540": {
      "model_module": "@jupyter-widgets/controls",
      "model_module_version": "2.0.0",
      "model_name": "ProgressStyleModel",
      "state": {
       "bar_color": "maroon",
       "description_width": ""
      }
     },
     "452ef156c4224432b490fc37b6509ac4": {
      "model_module": "@jupyter-widgets/controls",
      "model_module_version": "2.0.0",
      "model_name": "CheckboxStyleModel",
      "state": {
       "description_width": ""
      }
     },
     "46363aa5684e48e78f414a3bd9b7671a": {
      "model_module": "@jupyter-widgets/controls",
      "model_module_version": "2.0.0",
      "model_name": "ValidModel",
      "state": {
       "description": "CBF subarray online",
       "layout": "IPY_MODEL_4979d403850c4e8d8fd7f707f228b85e",
       "style": "IPY_MODEL_f895bb6c30c2414a9802b88b2e811d90",
       "value": true
      }
     },
     "4711a288ede741d59f61a79a92d38e14": {
      "model_module": "@jupyter-widgets/controls",
      "model_module_version": "2.0.0",
      "model_name": "ValidModel",
      "state": {
       "description": "CBF controller online",
       "layout": "IPY_MODEL_9fbd7ceb73fa44cfbbfe1d078d08eadf",
       "style": "IPY_MODEL_26b64b6e4b4142369df75212b31e91de",
       "value": true
      }
     },
     "4754a4a47eb64ed19df46f0ca44e23b5": {
      "model_module": "@jupyter-widgets/controls",
      "model_module_version": "2.0.0",
      "model_name": "TextStyleModel",
      "state": {
       "description_width": "",
       "font_size": null,
       "text_color": null
      }
     },
     "4979d403850c4e8d8fd7f707f228b85e": {
      "model_module": "@jupyter-widgets/base",
      "model_module_version": "2.0.0",
      "model_name": "LayoutModel",
      "state": {
       "width": "60%"
      }
     },
     "49aff5287f3745c2bbd40a7f2035d6d9": {
      "model_module": "@jupyter-widgets/controls",
      "model_module_version": "2.0.0",
      "model_name": "CheckboxStyleModel",
      "state": {
       "description_width": ""
      }
     },
     "4f88be96bb9048f993dc7b6eafe38ad0": {
      "model_module": "@jupyter-widgets/controls",
      "model_module_version": "2.0.0",
      "model_name": "DescriptionStyleModel",
      "state": {
       "description_width": "initial"
      }
     },
     "5064c58f86214cecad3e7d4ee4f39354": {
      "model_module": "@jupyter-widgets/base",
      "model_module_version": "2.0.0",
      "model_name": "LayoutModel",
      "state": {}
     },
     "532e470013234453b6da295b3ea1d6f6": {
      "model_module": "@jupyter-widgets/base",
      "model_module_version": "2.0.0",
      "model_name": "LayoutModel",
      "state": {}
     },
     "542134ce742e4147b085ff0b973d7967": {
      "model_module": "@jupyter-widgets/controls",
      "model_module_version": "2.0.0",
      "model_name": "CheckboxModel",
      "state": {
       "description": "SDP subarray admin",
       "disabled": false,
       "indent": false,
       "layout": "IPY_MODEL_6e8933fb1c2c405589c2285c9c18099a",
       "style": "IPY_MODEL_d335a004b1fe4e0b8036719c19c3d59c",
       "value": true
      }
     },
     "54c38bbdec8942539db625d48d002306": {
      "model_module": "@jupyter-widgets/base",
      "model_module_version": "2.0.0",
      "model_name": "LayoutModel",
      "state": {}
     },
     "57b2044fd2424512957147e57d852880": {
      "model_module": "@jupyter-widgets/base",
      "model_module_version": "2.0.0",
      "model_name": "LayoutModel",
      "state": {
       "width": "60%"
      }
     },
     "57c160cb760b4d8980a6eb6cd7781267": {
      "model_module": "@jupyter-widgets/controls",
      "model_module_version": "2.0.0",
      "model_name": "HTMLModel",
      "state": {
       "description": "CSP-LMC",
       "layout": "IPY_MODEL_26f0558cd4174f748bdd8415a3ed1717",
       "placeholder": "CSP-LMC status",
       "style": "IPY_MODEL_f59dbe1d2fee41bd9dd03190713838ec",
       "value": "<table><tr><td>Controller</td><td>mid-csp/control/0</td></tr><tr><td> Controller admin mode</td><td>adminMode.ONLINE</td></tr><tr><td>Controller State</td><td>ON</td></tr><tr><td>Controller dish Vcc Config</td><td>{\"interface\": \"https://schema.skao.int/ska-mid-cbf-initsysparam/1.0\", \"dish_parameters\": {\"SKA001\": {\"vcc\": 1, \"k\": 1}, \"SKA036\": {\"vcc\": 2, \"k\": 1}, \"SKA063\": {\"vcc\": 3, \"k\": 1}, \"SKA100\": {\"vcc\": 4, \"k\": 1}}}</td></tr><tr><td>Controller CBF Simulation Mode</td><td>True</td></tr><tr><td>Subarray</td><td>mid-csp/subarray/01</td></tr><tr><td>Subarray admin mode</td><td>adminMode.ONLINE</td></tr><tr><td>Subarray State</td><td>ON</td></tr><tr><td>Subarray observation state</td><td>obsState.SCANNING</td></tr><tr><td>Subarray dish Vcc Config</td><td>{\"interface\": \"https://schema.skao.int/ska-mid-cbf-initsysparam/1.0\", \"dish_parameters\": {\"SKA001\": {\"vcc\": 1, \"k\": 1}, \"SKA036\": {\"vcc\": 2, \"k\": 1}, \"SKA063\": {\"vcc\": 3, \"k\": 1}, \"SKA100\": {\"vcc\": 4, \"k\": 1}}}</td></tr><tr><td>FSP correlator subarray</td><td>5</td></tr></table>"
      }
     },
     "589220216fb94070a0c21a4bcb4b2681": {
      "model_module": "@jupyter-widgets/controls",
      "model_module_version": "2.0.0",
      "model_name": "TextStyleModel",
      "state": {
       "description_width": "",
       "font_size": null,
       "text_color": null
      }
     },
     "592fc4b4c6b244b6917980822d779c2f": {
      "model_module": "@jupyter-widgets/base",
      "model_module_version": "2.0.0",
      "model_name": "LayoutModel",
      "state": {
       "width": "60%"
      }
     },
     "5b6accfd927d47748a7e32d4c406fc09": {
      "model_module": "@jupyter-widgets/controls",
      "model_module_version": "2.0.0",
      "model_name": "HTMLStyleModel",
      "state": {
       "description_width": "",
       "font_size": null,
       "text_color": null
      }
     },
     "5d311c6e2df2439f8d6d8d78521015ac": {
      "model_module": "@jupyter-widgets/controls",
      "model_module_version": "2.0.0",
      "model_name": "CheckboxStyleModel",
      "state": {
       "description_width": ""
      }
     },
     "5d39be5ac80f49f8b06cce65510c1423": {
      "model_module": "@jupyter-widgets/controls",
      "model_module_version": "2.0.0",
      "model_name": "CheckboxStyleModel",
      "state": {
       "description_width": ""
      }
     },
     "5e79d2066dab4a93ac17332cbc6ccdf9": {
      "model_module": "@jupyter-widgets/controls",
      "model_module_version": "2.0.0",
      "model_name": "DescriptionStyleModel",
      "state": {
       "description_width": "initial"
      }
     },
     "5f12dfb04d3c498eb36c12501a634294": {
      "model_module": "@jupyter-widgets/controls",
      "model_module_version": "2.0.0",
      "model_name": "IntProgressModel",
      "state": {
       "description": "Loading:",
       "layout": "IPY_MODEL_6b8d1d42b388447885ec084a0d510cfd",
       "max": 36,
       "style": "IPY_MODEL_272a20acfa404fa3a813517343e71565",
       "value": 1
      }
     },
     "6109f209ac4f43e5aaf7c75559bba7b7": {
      "model_module": "@jupyter-widgets/controls",
      "model_module_version": "2.0.0",
      "model_name": "TextModel",
      "state": {
       "description": "SKA001 ns",
       "disabled": true,
       "layout": "IPY_MODEL_57b2044fd2424512957147e57d852880",
       "style": "IPY_MODEL_6d59d32619624a6ba295c74245412927",
       "value": "ci-dish-lmc-ska001-at-2146-consolidate-jupyter-notebooks"
      }
     },
     "64dd0de24a2045d9904505c859fc85fd": {
      "model_module": "@jupyter-widgets/controls",
      "model_module_version": "2.0.0",
      "model_name": "ProgressStyleModel",
      "state": {
       "bar_color": "maroon",
       "description_width": ""
      }
     },
     "67d5b1e11ea9444d9c23f5573489aee0": {
      "model_module": "@jupyter-widgets/base",
      "model_module_version": "2.0.0",
      "model_name": "LayoutModel",
      "state": {}
     },
     "68018d2c64aa4939af91f2ab4d77dc3a": {
      "model_module": "@jupyter-widgets/base",
      "model_module_version": "2.0.0",
      "model_name": "LayoutModel",
      "state": {}
     },
     "684473ba912f45d6ae9f2f80b4d15708": {
      "model_module": "@jupyter-widgets/controls",
      "model_module_version": "2.0.0",
      "model_name": "CheckboxStyleModel",
      "state": {
       "description_width": ""
      }
     },
     "686b3241093d42fba9c64911ea365f38": {
      "model_module": "@jupyter-widgets/controls",
      "model_module_version": "2.0.0",
      "model_name": "CheckboxModel",
      "state": {
       "description": "CSP control admin",
       "disabled": false,
       "indent": false,
       "layout": "IPY_MODEL_67d5b1e11ea9444d9c23f5573489aee0",
       "style": "IPY_MODEL_c7e60083b26b4a62b5baa97cb0ae2bd2",
       "value": true
      }
     },
     "687b3ebaf2604b798a5cb1c4d1941cab": {
      "model_module": "@jupyter-widgets/base",
      "model_module_version": "2.0.0",
      "model_name": "LayoutModel",
      "state": {
       "width": "50%"
      }
     },
     "6b00bbe9f7c942d783ae16d391001eaa": {
      "model_module": "@jupyter-widgets/base",
      "model_module_version": "2.0.0",
      "model_name": "LayoutModel",
      "state": {
       "width": "60%"
      }
     },
     "6b8d1d42b388447885ec084a0d510cfd": {
      "model_module": "@jupyter-widgets/base",
      "model_module_version": "2.0.0",
      "model_name": "LayoutModel",
      "state": {}
     },
     "6d59d32619624a6ba295c74245412927": {
      "model_module": "@jupyter-widgets/controls",
      "model_module_version": "2.0.0",
      "model_name": "TextStyleModel",
      "state": {
       "description_width": "",
       "font_size": null,
       "text_color": null
      }
     },
     "6e8933fb1c2c405589c2285c9c18099a": {
      "model_module": "@jupyter-widgets/base",
      "model_module_version": "2.0.0",
      "model_name": "LayoutModel",
      "state": {}
     },
     "70d527169afe4658b60a83f229d3b1b3": {
      "model_module": "@jupyter-widgets/base",
      "model_module_version": "2.0.0",
      "model_name": "LayoutModel",
      "state": {
       "width": "60%"
      }
     },
     "711352f536be4899b5d342ba7b310e5c": {
      "model_module": "@jupyter-widgets/base",
      "model_module_version": "2.0.0",
      "model_name": "LayoutModel",
      "state": {
       "width": "60%"
      }
     },
     "72b963f129b348e7ba5c50b4b6558758": {
      "model_module": "@jupyter-widgets/controls",
      "model_module_version": "2.0.0",
      "model_name": "ValidModel",
      "state": {
       "description": "TMC CSP subarray online",
       "layout": "IPY_MODEL_f6dec18bfb1f434b9f66e5131c7443eb",
       "style": "IPY_MODEL_0f8eedf815794b708f4aad0c36568466",
       "value": true
      }
     },
     "744a7c8ad87b41d5ad423f410a107071": {
      "model_module": "@jupyter-widgets/controls",
      "model_module_version": "2.0.0",
      "model_name": "ValidModel",
      "state": {
       "description": "CBF simulation",
       "layout": "IPY_MODEL_b834da4c786f407e8539821ddd61ea08",
       "style": "IPY_MODEL_a80ce01597aa4f9eb99697f9536287e4",
       "value": true
      }
     },
     "7696b435736142d585dec64c763dff97": {
      "model_module": "@jupyter-widgets/controls",
      "model_module_version": "2.0.0",
      "model_name": "TextModel",
      "state": {
       "description": "CBF Subarray Observation",
       "disabled": true,
       "layout": "IPY_MODEL_34309b598a15419987becd625931b7d6",
       "style": "IPY_MODEL_aa528b9de4e74814a69476ac9b4faf02",
       "value": "obsState.SCANNING"
      }
     },
     "76f3e3f48b92442bbd0dc4fa2b61f82a": {
      "model_module": "@jupyter-widgets/controls",
      "model_module_version": "2.0.0",
      "model_name": "IntProgressModel",
      "state": {
       "description": "Subarrays",
       "layout": "IPY_MODEL_eae34b2c98554c63b001ac6bac70713c",
       "max": 5,
       "style": "IPY_MODEL_1b6fb74f9a3e4f24a286dc27218e33d0",
       "value": 5
      }
     },
     "780fc68a042d428dbf35512eb26d1531": {
      "model_module": "@jupyter-widgets/controls",
      "model_module_version": "2.0.0",
      "model_name": "ValidModel",
      "state": {
       "description": "CSP control online",
       "layout": "IPY_MODEL_9f2f8009d57049a5bf6e5f4d07924a13",
       "style": "IPY_MODEL_df125be54c0f4bb9a2d849fa6d0b7101",
       "value": true
      }
     },
     "79a5830c6c0f47a898fd5f42573ade76": {
      "model_module": "@jupyter-widgets/base",
      "model_module_version": "2.0.0",
      "model_name": "LayoutModel",
      "state": {}
     },
     "79d8e0012cf1435c9dbd0ad34e1ad6ab": {
      "model_module": "@jupyter-widgets/controls",
      "model_module_version": "2.0.0",
      "model_name": "ValidModel",
      "state": {
       "description": "Proxies OK",
       "layout": "IPY_MODEL_a3402ae85cbf4cf58bb136c92ce01848",
       "style": "IPY_MODEL_5e79d2066dab4a93ac17332cbc6ccdf9",
       "value": true
      }
     },
     "7a3ecb4babc7488890c13299f6cbace9": {
      "model_module": "@jupyter-widgets/controls",
      "model_module_version": "2.0.0",
      "model_name": "DropdownModel",
      "state": {
       "_options_labels": [
        "SELECT",
        "binderhub",
        "calico-apiserver",
        "calico-operator",
        "calico-system",
        "ci-dish-lmc-ska001-at-2146-consolidate-jupyter-notebooks",
        "ci-dish-lmc-ska001-at-2172-tmc-configure-scan-test",
        "ci-dish-lmc-ska001-at-2185-automate-main-chart-upgrade",
        "ci-dish-lmc-ska001-at-2208-creds-on-demand-dish-lmc",
        "ci-dish-lmc-ska036-at-2146-consolidate-jupyter-notebooks",
        "ci-dish-lmc-ska036-at-2172-tmc-configure-scan-test",
        "ci-ska-mid-itf-3fc701a4-sdp",
        "ci-ska-mid-itf-98cd4ff3-sdp",
        "ci-ska-mid-itf-at-2146-consolidate-jupyter-notebooks",
        "ci-ska-mid-itf-at-2146-consolidate-jupyter-notebooks-sdp",
        "ci-ska-mid-itf-at-2172-tmc-configure-scan-test",
        "ci-ska-mid-itf-at-2172-tmc-configure-scan-test-sdp",
        "ci-ska-mid-itf-e931aab4-sdp",
        "cnpg-system",
        "cnpgdev",
        "default",
        "extdns",
        "file-browser",
        "flux-system",
        "gitlab",
        "infra",
        "ingress-nginx",
        "integration",
        "integration-dish-lmc-ska001",
        "integration-dish-lmc-ska036",
        "integration-sdp",
        "kube-node-lease",
        "kube-public",
        "kube-system",
        "kyverno",
        "metallb-system",
        "miditf-lmc-002-ds",
        "miditf-lmc-003-karoo-sims",
        "miditf-lmc-004-spf",
        "miditf-lmc-005-spfrx",
        "playground",
        "register-spfc",
        "rook-ceph",
        "secrets-store-csi-driver",
        "shared-ska-dataproducts",
        "ska-db-oda",
        "ska-tango-archiver",
        "ska-tango-operator",
        "ska007-dish-lmc",
        "sonobuoy",
        "spookd",
        "staging",
        "staging-dish-lmc-ska001",
        "staging-dish-lmc-ska036",
        "staging-sdp",
        "tango-tar-pvc",
        "tango-util",
        "taranta",
        "test-equipment",
        "vault"
       ],
       "description": "SUT ns",
       "index": 13,
       "layout": "IPY_MODEL_687b3ebaf2604b798a5cb1c4d1941cab",
       "style": "IPY_MODEL_8f98008074c9400ba23e6b408c0cff4e"
      }
     },
     "7aa5e986d0034f568a3b6e8ffc99edf2": {
      "model_module": "@jupyter-widgets/base",
      "model_module_version": "2.0.0",
      "model_name": "LayoutModel",
      "state": {
       "width": "60%"
      }
     },
     "7ac92b190ca14d6dbc3feda8a5fdb11b": {
      "model_module": "@jupyter-widgets/base",
      "model_module_version": "2.0.0",
      "model_name": "LayoutModel",
      "state": {}
     },
     "7caadfbeb3dc48efa72979eeccb8cdef": {
      "model_module": "@jupyter-widgets/controls",
      "model_module_version": "2.0.0",
      "model_name": "HTMLModel",
      "state": {
       "description": "TMC",
       "layout": "IPY_MODEL_21fbd10fd4b745f1a03137754a0da3dd",
       "placeholder": "TMC status",
       "style": "IPY_MODEL_84a663a8de1a4b03afd7b7a0bdf51fb7",
       "value": "<style>td {border: thin blue ridge; padding: 2px}</style><table><tr><td>Central Node</td><td>ska_mid/tm_central/central_node</td></tr><tr><td>Central Node state</td><td>ON</td></tr><tr><td>Central Node adminMode</td><td>adminMode.OFFLINE</td></tr><tr><td>Central Node healthState</td><td>healthState.OK</td></tr><tr><td>Central Node telescopeHealthState</td><td> telescopeHealthState.DEGRADED</td></tr><tr><td>Central Node isDishVccConfig</td><td>True</td></tr><tr><td>Central Node DishVccValidationStatus</td><td>{\"dish\": \"ALL DISH OK\", \"ska_mid/tm_leaf_node/csp_master\": \"TMC and CSP Master Dish Vcc Version is Same\"}</td></tr><tr><td>Subarray Node state</td><td>ON</td></tr><tr><td>Subarray adminMode</td><td>adminMode.OFFLINE</td></tr></table>"
      }
     },
     "7e512b81a5dd4510bbbc789abc8e4e9d": {
      "model_module": "@jupyter-widgets/controls",
      "model_module_version": "2.0.0",
      "model_name": "SliderStyleModel",
      "state": {
       "description_width": ""
      }
     },
     "7f762b0214714bd8853fee3bd1f84b30": {
      "model_module": "@jupyter-widgets/controls",
      "model_module_version": "2.0.0",
      "model_name": "ProgressStyleModel",
      "state": {
       "bar_color": "maroon",
       "description_width": ""
      }
     },
     "8213da9683c54384a4155148e86474c3": {
      "model_module": "@jupyter-widgets/controls",
      "model_module_version": "2.0.0",
      "model_name": "TextareaModel",
      "state": {
       "description": "State error",
       "layout": "IPY_MODEL_873ad815829a452faf0ffcfe8a77f7ca",
       "placeholder": "Error message",
       "style": "IPY_MODEL_589220216fb94070a0c21a4bcb4b2681"
      }
     },
     "836adf91298544d28c43c8c998de9008": {
      "model_module": "@jupyter-widgets/controls",
      "model_module_version": "2.0.0",
      "model_name": "DescriptionStyleModel",
      "state": {
       "description_width": "initial"
      }
     },
     "84a663a8de1a4b03afd7b7a0bdf51fb7": {
      "model_module": "@jupyter-widgets/controls",
      "model_module_version": "2.0.0",
      "model_name": "HTMLStyleModel",
      "state": {
       "description_width": "",
       "font_size": null,
       "text_color": null
      }
     },
     "873ad815829a452faf0ffcfe8a77f7ca": {
      "model_module": "@jupyter-widgets/base",
      "model_module_version": "2.0.0",
      "model_name": "LayoutModel",
      "state": {
       "height": "200px",
       "width": "75%"
      }
     },
     "87bd3e13b65d407ba8b2d7b4d245ffa7": {
      "model_module": "@jupyter-widgets/controls",
      "model_module_version": "2.0.0",
      "model_name": "ValidModel",
      "state": {
       "description": "SDP subarray online",
       "layout": "IPY_MODEL_433b0e7bb608495c94c2b1ae8469679b",
       "style": "IPY_MODEL_c6db6b3bc7664c088840b3b46541e90f",
       "value": true
      }
     },
     "899909efce774e3dbc76ba3f92121c32": {
      "model_module": "@jupyter-widgets/controls",
      "model_module_version": "2.0.0",
      "model_name": "TextStyleModel",
      "state": {
       "description_width": "",
       "font_size": null,
       "text_color": null
      }
     },
     "8e49123a49a443e1931832c15084a2ff": {
      "model_module": "@jupyter-widgets/controls",
      "model_module_version": "2.0.0",
      "model_name": "TextModel",
      "state": {
       "description": "CSP Subarray Observation",
       "disabled": true,
       "layout": "IPY_MODEL_fdb987e42a5546b190913c4fee54b0f6",
       "style": "IPY_MODEL_1ccfecbf66584cc385195c38943d6bf2",
       "value": "cspSubarrayObsState.SCANNING"
      }
     },
     "8ed49c1c86f24daaa76673f382fce2c3": {
      "model_module": "@jupyter-widgets/controls",
      "model_module_version": "2.0.0",
      "model_name": "IntProgressModel",
      "state": {
       "description": "Proxies",
       "layout": "IPY_MODEL_8f75f321dc0749d684b174f2252e0c17",
       "max": 14,
       "style": "IPY_MODEL_b0d53adae5444dc2896dd21ef012b10e",
       "value": 14
      }
     },
     "8f75f321dc0749d684b174f2252e0c17": {
      "model_module": "@jupyter-widgets/base",
      "model_module_version": "2.0.0",
      "model_name": "LayoutModel",
      "state": {}
     },
     "8f98008074c9400ba23e6b408c0cff4e": {
      "model_module": "@jupyter-widgets/controls",
      "model_module_version": "2.0.0",
      "model_name": "DescriptionStyleModel",
      "state": {
       "description_width": ""
      }
     },
     "930890df0ba64d85836fefcdee01ad5b": {
      "model_module": "@jupyter-widgets/controls",
      "model_module_version": "2.0.0",
      "model_name": "TextModel",
      "state": {
       "description": "SUT ns",
       "disabled": true,
       "layout": "IPY_MODEL_a68fdde3611446ada3cee3b69552d5b2",
       "style": "IPY_MODEL_4754a4a47eb64ed19df46f0ca44e23b5",
       "value": "ci-ska-mid-itf-at-2146-consolidate-jupyter-notebooks"
      }
     },
     "93b59d7d72db4ef3bc23335b0d66789c": {
      "model_module": "@jupyter-widgets/controls",
      "model_module_version": "2.0.0",
      "model_name": "DescriptionStyleModel",
      "state": {
       "description_width": "initial"
      }
     },
     "962cfde5ca8441fbaec4cd3b11129da7": {
      "model_module": "@jupyter-widgets/base",
      "model_module_version": "2.0.0",
      "model_name": "LayoutModel",
      "state": {
       "width": "60%"
      }
     },
     "9e8f3fc343b8438ab7caa8e08ffb2c75": {
      "model_module": "@jupyter-widgets/controls",
      "model_module_version": "2.0.0",
      "model_name": "ValidModel",
      "state": {
       "description": "CSP Subarray Observation State (4)",
       "layout": "IPY_MODEL_ba79ecfb174c483ba511374d0b0b8953",
       "style": "IPY_MODEL_d7c3fcebefc043ee91aad8ecfdaf2d83",
       "value": true
      }
     },
     "9f2f8009d57049a5bf6e5f4d07924a13": {
      "model_module": "@jupyter-widgets/base",
      "model_module_version": "2.0.0",
      "model_name": "LayoutModel",
      "state": {
       "width": "60%"
      }
     },
     "9fbd7ceb73fa44cfbbfe1d078d08eadf": {
      "model_module": "@jupyter-widgets/base",
      "model_module_version": "2.0.0",
      "model_name": "LayoutModel",
      "state": {
       "width": "60%"
      }
     },
     "9feb39e5371e485eb90fb043559af635": {
      "model_module": "@jupyter-widgets/base",
      "model_module_version": "2.0.0",
      "model_name": "LayoutModel",
      "state": {}
     },
     "a1c1baf560374c2badc20653db28a52e": {
      "model_module": "@jupyter-widgets/controls",
      "model_module_version": "2.0.0",
      "model_name": "ValidModel",
      "state": {
       "description": "SDP Subarray Observation State (4)",
       "layout": "IPY_MODEL_32926cb2835c4e1ea24c3601ca34cc36",
       "style": "IPY_MODEL_d87bec5a203641f79e8296c04170784b",
       "value": true
      }
     },
     "a3402ae85cbf4cf58bb136c92ce01848": {
      "model_module": "@jupyter-widgets/base",
      "model_module_version": "2.0.0",
      "model_name": "LayoutModel",
      "state": {
       "width": "60%"
      }
     },
     "a3421551500f464f886f98899d588e12": {
      "model_module": "@jupyter-widgets/controls",
      "model_module_version": "2.0.0",
      "model_name": "TextModel",
      "state": {
       "description": "Tango host",
       "disabled": true,
       "layout": "IPY_MODEL_70d527169afe4658b60a83f229d3b1b3",
       "style": "IPY_MODEL_ec40b631dd474180bfc7b31ff49c20a0",
       "value": "tango-databaseds.ci-ska-mid-itf-at-2146-consolidate-jupyter-notebooks.svc.miditf.internal.skao.int:10000"
      }
     },
     "a5a3352a731645e8bb09f383a2318c9c": {
      "model_module": "@jupyter-widgets/controls",
      "model_module_version": "2.0.0",
      "model_name": "CheckboxStyleModel",
      "state": {
       "description_width": ""
      }
     },
     "a68fdde3611446ada3cee3b69552d5b2": {
      "model_module": "@jupyter-widgets/base",
      "model_module_version": "2.0.0",
      "model_name": "LayoutModel",
      "state": {
       "width": "60%"
      }
     },
     "a6dad11f657f42b2bb4fd65dc3c59af2": {
      "model_module": "@jupyter-widgets/base",
      "model_module_version": "2.0.0",
      "model_name": "LayoutModel",
      "state": {}
     },
     "a80ce01597aa4f9eb99697f9536287e4": {
      "model_module": "@jupyter-widgets/controls",
      "model_module_version": "2.0.0",
      "model_name": "DescriptionStyleModel",
      "state": {
       "description_width": "initial"
      }
     },
     "a8814ff049234825a5028005ca7ac989": {
      "model_module": "@jupyter-widgets/controls",
      "model_module_version": "2.0.0",
      "model_name": "ValidModel",
      "state": {
       "description": "SDP Subarray Observation State (3)",
       "layout": "IPY_MODEL_b775ce217ba54fc4993f2c09ece6daaf",
       "style": "IPY_MODEL_235cf36f276547b5bb411947f0bef2c0"
      }
     },
     "a908d16a9eed4e398888947b96deb748": {
      "model_module": "@jupyter-widgets/controls",
      "model_module_version": "2.0.0",
      "model_name": "IntProgressModel",
      "state": {
       "description": "Slew 001:",
       "layout": "IPY_MODEL_a6dad11f657f42b2bb4fd65dc3c59af2",
       "max": 180,
       "style": "IPY_MODEL_7f762b0214714bd8853fee3bd1f84b30",
       "value": 1
      }
     },
     "aa528b9de4e74814a69476ac9b4faf02": {
      "model_module": "@jupyter-widgets/controls",
      "model_module_version": "2.0.0",
      "model_name": "TextStyleModel",
      "state": {
       "description_width": "",
       "font_size": null,
       "text_color": null
      }
     },
     "ac19b088818c453c82d6e28214fd42a4": {
      "model_module": "@jupyter-widgets/base",
      "model_module_version": "2.0.0",
      "model_name": "LayoutModel",
      "state": {}
     },
     "af18f486535e41a68ef5a98871b3c8d3": {
      "model_module": "@jupyter-widgets/controls",
      "model_module_version": "2.0.0",
      "model_name": "ValidModel",
      "state": {
       "description": "CSP Subarray Observation State (4)",
       "layout": "IPY_MODEL_31bfc7bb0ea64651957ce9113271cd7c",
       "style": "IPY_MODEL_dda332537ef94374b5a17dc7916ad672",
       "value": true
      }
     },
     "b0d53adae5444dc2896dd21ef012b10e": {
      "model_module": "@jupyter-widgets/controls",
      "model_module_version": "2.0.0",
      "model_name": "ProgressStyleModel",
      "state": {
       "bar_color": "maroon",
       "description_width": ""
      }
     },
     "b775ce217ba54fc4993f2c09ece6daaf": {
      "model_module": "@jupyter-widgets/base",
      "model_module_version": "2.0.0",
      "model_name": "LayoutModel",
      "state": {
       "width": "60%"
      }
     },
     "b834da4c786f407e8539821ddd61ea08": {
      "model_module": "@jupyter-widgets/base",
      "model_module_version": "2.0.0",
      "model_name": "LayoutModel",
      "state": {
       "width": "60%"
      }
     },
     "b8db690f59b644838d7d866e6020d9cb": {
      "model_module": "@jupyter-widgets/controls",
      "model_module_version": "2.0.0",
      "model_name": "CheckboxModel",
      "state": {
       "description": "CBF simulation mode",
       "disabled": false,
       "indent": false,
       "layout": "IPY_MODEL_e9d6dcba0e9f4f85811299d196128109",
       "style": "IPY_MODEL_5d39be5ac80f49f8b06cce65510c1423",
       "value": true
      }
     },
     "b95b0b57d821427da495e17a68ecab2f": {
      "model_module": "@jupyter-widgets/controls",
      "model_module_version": "2.0.0",
      "model_name": "CheckboxModel",
      "state": {
       "description": "CBF subarray admin",
       "disabled": false,
       "indent": false,
       "layout": "IPY_MODEL_257a709c933a406c8016e43b7668ee73",
       "style": "IPY_MODEL_fe09c3d999a049c9bc1582f3f2b31fc3",
       "value": true
      }
     },
     "ba79ecfb174c483ba511374d0b0b8953": {
      "model_module": "@jupyter-widgets/base",
      "model_module_version": "2.0.0",
      "model_name": "LayoutModel",
      "state": {
       "width": "60%"
      }
     },
     "bfa777e6dbe04a7e8fd5c9fd454ae672": {
      "model_module": "@jupyter-widgets/controls",
      "model_module_version": "2.0.0",
      "model_name": "IntProgressModel",
      "state": {
       "description": "Check obs:",
       "layout": "IPY_MODEL_5064c58f86214cecad3e7d4ee4f39354",
       "max": 10,
       "style": "IPY_MODEL_64dd0de24a2045d9904505c859fc85fd",
       "value": 10
      }
     },
     "c3eb78e5037142259ae77befb96e4121": {
      "model_module": "@jupyter-widgets/controls",
      "model_module_version": "2.0.0",
      "model_name": "CheckboxModel",
      "state": {
       "description": "TMC subarray admin",
       "disabled": false,
       "indent": false,
       "layout": "IPY_MODEL_1368e5ef426c4e1ab38a1b28d9a8f559",
       "style": "IPY_MODEL_5d311c6e2df2439f8d6d8d78521015ac",
       "value": false
      }
     },
     "c4dff007dc1e4510a7fcd01398433179": {
      "model_module": "@jupyter-widgets/controls",
      "model_module_version": "2.0.0",
      "model_name": "CheckboxModel",
      "state": {
       "description": "TMC CSP master admin",
       "disabled": false,
       "indent": false,
       "layout": "IPY_MODEL_532e470013234453b6da295b3ea1d6f6",
       "style": "IPY_MODEL_49aff5287f3745c2bbd40a7f2035d6d9",
       "value": false
      }
     },
     "c6db6b3bc7664c088840b3b46541e90f": {
      "model_module": "@jupyter-widgets/controls",
      "model_module_version": "2.0.0",
      "model_name": "DescriptionStyleModel",
      "state": {
       "description_width": "initial"
      }
     },
     "c70cfd1036f04e798ebdf8e11a2d711d": {
      "model_module": "@jupyter-widgets/controls",
      "model_module_version": "2.0.0",
      "model_name": "TextStyleModel",
      "state": {
       "description_width": "",
       "font_size": null,
       "text_color": null
      }
     },
     "c72b78dfd4014cc2a408103754adfef5": {
      "model_module": "@jupyter-widgets/base",
      "model_module_version": "2.0.0",
      "model_name": "LayoutModel",
      "state": {}
     },
     "c7e60083b26b4a62b5baa97cb0ae2bd2": {
      "model_module": "@jupyter-widgets/controls",
      "model_module_version": "2.0.0",
      "model_name": "CheckboxStyleModel",
      "state": {
       "description_width": ""
      }
     },
     "cc3731790b9a4c528b9842b47aba6a92": {
      "model_module": "@jupyter-widgets/base",
      "model_module_version": "2.0.0",
      "model_name": "LayoutModel",
      "state": {
       "width": "60%"
      }
     },
     "ce2f99e8713f4ee2a8a6c8df1be62562": {
      "model_module": "@jupyter-widgets/controls",
      "model_module_version": "2.0.0",
      "model_name": "CheckboxStyleModel",
      "state": {
       "description_width": ""
      }
     },
     "ceda6f3b2dbe4de0be21ee0016549b81": {
      "model_module": "@jupyter-widgets/controls",
      "model_module_version": "2.0.0",
      "model_name": "HTMLModel",
      "state": {
       "description": "SDP",
       "layout": "IPY_MODEL_e6945eb3245241b9919d232644d31669",
       "placeholder": "SDP status",
       "style": "IPY_MODEL_5b6accfd927d47748a7e32d4c406fc09",
       "value": "<table><tr><td>Controller admin mode</td><td>adminMode.ONLINE</td></tr><tr><td>Controller State</td><td>ON</td></tr><tr><td>Subarray admin mode</td><td>adminMode.ONLINE</td></tr><tr><td>Subarray State</td><td>ON</td></tr><tr><td>Subarray observation state</td><td>obsState.SCANNING</td></tr></table>"
      }
     },
     "d335a004b1fe4e0b8036719c19c3d59c": {
      "model_module": "@jupyter-widgets/controls",
      "model_module_version": "2.0.0",
      "model_name": "CheckboxStyleModel",
      "state": {
       "description_width": ""
      }
     },
     "d3438e1833454565b5e4d04b0e65152a": {
      "model_module": "@jupyter-widgets/controls",
      "model_module_version": "2.0.0",
      "model_name": "ValidModel",
      "state": {
       "description": "Apply hacks",
       "layout": "IPY_MODEL_962cfde5ca8441fbaec4cd3b11129da7",
       "style": "IPY_MODEL_1b36675984aa497bb624d7e584234137",
       "value": true
      }
     },
     "d7c3fcebefc043ee91aad8ecfdaf2d83": {
      "model_module": "@jupyter-widgets/controls",
      "model_module_version": "2.0.0",
      "model_name": "DescriptionStyleModel",
      "state": {
       "description_width": "initial"
      }
     },
     "d87bec5a203641f79e8296c04170784b": {
      "model_module": "@jupyter-widgets/controls",
      "model_module_version": "2.0.0",
      "model_name": "DescriptionStyleModel",
      "state": {
       "description_width": "initial"
      }
     },
     "da3edb8d1dc34d6ebea099139c98a0a9": {
      "model_module": "@jupyter-widgets/controls",
      "model_module_version": "2.0.0",
      "model_name": "CheckboxModel",
      "state": {
       "description": "Apply hacks",
       "disabled": false,
       "indent": false,
       "layout": "IPY_MODEL_132da0fa45e948b4870d5473d3f5de11",
       "style": "IPY_MODEL_684473ba912f45d6ae9f2f80b4d15708",
       "value": true
      }
     },
     "da877651abf94ef8a9351c5b3c7d18ec": {
      "model_module": "@jupyter-widgets/controls",
      "model_module_version": "2.0.0",
      "model_name": "ValidModel",
      "state": {
       "description": "Dish leaf 036 online",
       "layout": "IPY_MODEL_1656c0c2c1ea4beb83652aabdb254b1a",
       "style": "IPY_MODEL_3711d676f42443008d180fe0169e1b90",
       "value": true
      }
     },
     "dbddbf20ffba48e9a3caf9fb9c1ead54": {
      "model_module": "@jupyter-widgets/controls",
      "model_module_version": "2.0.0",
      "model_name": "ValidModel",
      "state": {
       "description": "TMC subarray online",
       "layout": "IPY_MODEL_711352f536be4899b5d342ba7b310e5c",
       "style": "IPY_MODEL_93b59d7d72db4ef3bc23335b0d66789c",
       "value": true
      }
     },
     "dda332537ef94374b5a17dc7916ad672": {
      "model_module": "@jupyter-widgets/controls",
      "model_module_version": "2.0.0",
      "model_name": "DescriptionStyleModel",
      "state": {
       "description_width": "initial"
      }
     },
     "df125be54c0f4bb9a2d849fa6d0b7101": {
      "model_module": "@jupyter-widgets/controls",
      "model_module_version": "2.0.0",
      "model_name": "DescriptionStyleModel",
      "state": {
       "description_width": "initial"
      }
     },
     "df6b2d8f01e0498fb426da8cd95fad82": {
      "model_module": "@jupyter-widgets/controls",
      "model_module_version": "2.0.0",
      "model_name": "ValidModel",
      "state": {
       "description": "CBF Subarray Observation State (4)",
       "layout": "IPY_MODEL_7aa5e986d0034f568a3b6e8ffc99edf2",
       "style": "IPY_MODEL_02dd0c122f6d481fa05ff74307ab5af7",
       "value": true
      }
     },
     "dff173107a314f94b291c4add0aaaa01": {
      "model_module": "@jupyter-widgets/controls",
      "model_module_version": "2.0.0",
      "model_name": "CheckboxStyleModel",
      "state": {
       "description_width": ""
      }
     },
     "e55a473259584f038cf0156bfba3ecd2": {
      "model_module": "@jupyter-widgets/controls",
      "model_module_version": "2.0.0",
      "model_name": "CheckboxModel",
      "state": {
       "description": "TMC Central Node admin",
       "disabled": false,
       "indent": false,
       "layout": "IPY_MODEL_0520cb63ce8f4dae8941ccaaeee32e97",
       "style": "IPY_MODEL_dff173107a314f94b291c4add0aaaa01",
       "value": false
      }
     },
     "e6945eb3245241b9919d232644d31669": {
      "model_module": "@jupyter-widgets/base",
      "model_module_version": "2.0.0",
      "model_name": "LayoutModel",
      "state": {}
     },
     "e9d6dcba0e9f4f85811299d196128109": {
      "model_module": "@jupyter-widgets/base",
      "model_module_version": "2.0.0",
      "model_name": "LayoutModel",
      "state": {}
     },
     "eae34b2c98554c63b001ac6bac70713c": {
      "model_module": "@jupyter-widgets/base",
      "model_module_version": "2.0.0",
      "model_name": "LayoutModel",
      "state": {}
     },
     "ec40b631dd474180bfc7b31ff49c20a0": {
      "model_module": "@jupyter-widgets/controls",
      "model_module_version": "2.0.0",
      "model_name": "TextStyleModel",
      "state": {
       "description_width": "",
       "font_size": null,
       "text_color": null
      }
     },
     "edb5b4da63e4410dbad33e32f7522011": {
      "model_module": "@jupyter-widgets/controls",
      "model_module_version": "2.0.0",
      "model_name": "IntProgressModel",
      "state": {
       "description": "Slew 036:",
       "layout": "IPY_MODEL_fbef2652ce0b4ff9a18dfeae02ee83a7",
       "max": 180,
       "style": "IPY_MODEL_44e365321d1e42c38560ee37d4407540",
       "value": 1
      }
     },
     "f1775896035a466993e5619bf606a7b9": {
      "model_module": "@jupyter-widgets/controls",
      "model_module_version": "2.0.0",
      "model_name": "ValidModel",
      "state": {
       "description": "Dish leaf 001 online",
       "layout": "IPY_MODEL_3359a050c57e41f88d79dfa990061b21",
       "style": "IPY_MODEL_2ca080f6ac784ac1957b1edd6b4f16ce",
       "value": true
      }
     },
     "f59dbe1d2fee41bd9dd03190713838ec": {
      "model_module": "@jupyter-widgets/controls",
      "model_module_version": "2.0.0",
      "model_name": "HTMLStyleModel",
      "state": {
       "description_width": "",
       "font_size": null,
       "text_color": null
      }
     },
     "f61fc0ccd5a04f9d8b9ab52e3d815f79": {
      "model_module": "@jupyter-widgets/controls",
      "model_module_version": "2.0.0",
      "model_name": "ValidModel",
      "state": {
       "description": "TMC Central Node online",
       "layout": "IPY_MODEL_083d5e41fc6648a4a29a11fc024cfb42",
       "style": "IPY_MODEL_836adf91298544d28c43c8c998de9008",
       "value": true
      }
     },
     "f675235f10ef4010b8f1770ac80fefa3": {
      "model_module": "@jupyter-widgets/controls",
      "model_module_version": "2.0.0",
      "model_name": "CheckboxModel",
      "state": {
       "description": "TMC CSP subarray admin",
       "disabled": false,
       "indent": false,
       "layout": "IPY_MODEL_54c38bbdec8942539db625d48d002306",
       "style": "IPY_MODEL_290f4e37ca4b4e17858c45d304febd69",
       "value": false
      }
     },
     "f6d947683a374089b7cd891642fd3122": {
      "model_module": "@jupyter-widgets/controls",
      "model_module_version": "2.0.0",
      "model_name": "DescriptionStyleModel",
      "state": {
       "description_width": "initial"
      }
     },
     "f6dec18bfb1f434b9f66e5131c7443eb": {
      "model_module": "@jupyter-widgets/base",
      "model_module_version": "2.0.0",
      "model_name": "LayoutModel",
      "state": {
       "width": "60%"
      }
     },
     "f74428ed602249948bb09675e510f522": {
      "model_module": "@jupyter-widgets/controls",
      "model_module_version": "2.0.0",
      "model_name": "DescriptionStyleModel",
      "state": {
       "description_width": "initial"
      }
     },
     "f895bb6c30c2414a9802b88b2e811d90": {
      "model_module": "@jupyter-widgets/controls",
      "model_module_version": "2.0.0",
      "model_name": "DescriptionStyleModel",
      "state": {
       "description_width": "initial"
      }
     },
     "f9d080a50e2c44cd990d10edd6beb4bd": {
      "model_module": "@jupyter-widgets/controls",
      "model_module_version": "2.0.0",
      "model_name": "DescriptionStyleModel",
      "state": {
       "description_width": "initial"
      }
     },
     "fa3c7d235f96442facb2deb552568158": {
      "model_module": "@jupyter-widgets/base",
      "model_module_version": "2.0.0",
      "model_name": "LayoutModel",
      "state": {}
     },
     "fa51a4ed5c694f92ba7941dcf2347fd5": {
      "model_module": "@jupyter-widgets/controls",
      "model_module_version": "2.0.0",
      "model_name": "ValidModel",
      "state": {
       "description": "CSP Subarray",
       "layout": "IPY_MODEL_fbc09f5cf42f422781be7478da74dbe5",
       "style": "IPY_MODEL_f6d947683a374089b7cd891642fd3122"
      }
     },
     "fb8d5a669e3547daa87d2b083aeaab89": {
      "model_module": "@jupyter-widgets/controls",
      "model_module_version": "2.0.0",
      "model_name": "ProgressStyleModel",
      "state": {
       "bar_color": "maroon",
       "description_width": ""
      }
     },
     "fbc09f5cf42f422781be7478da74dbe5": {
      "model_module": "@jupyter-widgets/base",
      "model_module_version": "2.0.0",
      "model_name": "LayoutModel",
      "state": {
       "width": "60%"
      }
     },
     "fbef2652ce0b4ff9a18dfeae02ee83a7": {
      "model_module": "@jupyter-widgets/base",
      "model_module_version": "2.0.0",
      "model_name": "LayoutModel",
      "state": {}
     },
     "fdb987e42a5546b190913c4fee54b0f6": {
      "model_module": "@jupyter-widgets/base",
      "model_module_version": "2.0.0",
      "model_name": "LayoutModel",
      "state": {
       "width": "60%"
      }
     },
     "fdd0c5c727474174ab4bfb42cfd872dc": {
      "model_module": "@jupyter-widgets/controls",
      "model_module_version": "2.0.0",
      "model_name": "HTMLModel",
      "state": {
       "description": "CBF",
       "layout": "IPY_MODEL_fa3c7d235f96442facb2deb552568158",
       "placeholder": "CBF status",
       "style": "IPY_MODEL_0e7033d8747545db949320ef380d3f61",
       "value": "<table><tr><td>Controller admin mode</td><td>adminMode.ONLINE</td></tr><tr><td>Controller State</td><td>ON</td></tr><tr><td>Subarray admin mode</td><td>adminMode.ONLINE</td></tr><tr><td>Subarray State</td><td>ON</td></tr><tr><td>Subarray observation state</td><td>obsState.SCANNING</td></tr></table>"
      }
     },
     "fe09c3d999a049c9bc1582f3f2b31fc3": {
      "model_module": "@jupyter-widgets/controls",
      "model_module_version": "2.0.0",
      "model_name": "CheckboxStyleModel",
      "state": {
       "description_width": ""
      }
     }
    },
    "version_major": 2,
    "version_minor": 0
   }
  }
 },
 "nbformat": 4,
 "nbformat_minor": 2
}
