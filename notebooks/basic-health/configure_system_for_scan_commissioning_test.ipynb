{
 "cells": [
  {
   "cell_type": "markdown",
   "id": "1d9885e1",
   "metadata": {},
   "source": [
    "## 0.1 Import dependencies"
   ]
  },
  {
   "cell_type": "code",
   "execution_count": null,
   "id": "6ea49e47",
   "metadata": {},
   "outputs": [],
   "source": [
    "# pylint: disable=W0104, W0212, E1120, E1101\n",
    "import json\n",
    "import logging\n",
    "import os\n",
    "import pathlib\n",
    "import time\n",
    "\n",
    "import ska_ser_logging\n",
    "from bokeh.io import output_notebook\n",
    "\n",
    "from ska_mid_jupyter_notebooks.dish.dish import TangoDishCluster\n",
    "from ska_mid_jupyter_notebooks.helpers.path import project_root\n",
    "from ska_mid_jupyter_notebooks.sut.configure import TangoSUTCluster, disable_qa\n",
    "from ska_mid_jupyter_notebooks.test_equipment.configure import TangoTestEquipment"
   ]
  },
  {
   "cell_type": "markdown",
   "id": "c9e6cc6d",
   "metadata": {},
   "source": [
    "### 0.2 Setup Global Variables"
   ]
  },
  {
   "cell_type": "code",
   "execution_count": null,
   "id": "0b0c3b4c",
   "metadata": {},
   "outputs": [],
   "source": [
    "dev_mode = True\n",
    "dishlmc_enabled = False\n",
    "branch_name = \"at-1981-cicd-updates\"\n",
    "test_equipment = TangoTestEquipment()\n",
    "sut = TangoSUTCluster(branch_name, dev_mode)\n",
    "dish_ids = [\"0001\", \"0036\"]\n",
    "if dishlmc_enabled:\n",
    "    dish_clusters = [\n",
    "        TangoDishCluster(f\"ska{d[1:]}\", branch_name=branch_name, dev_mode=dev_mode)\n",
    "        for d in dish_ids\n",
    "    ]\n",
    "else:\n",
    "    dish_clusters = []\n",
    "subarray_count = 1\n",
    "subarray_id = 1\n",
    "\n",
    "timestr = time.strftime(\"%Y%m%d-%H%M\")\n",
    "notebook_output_dir = pathlib.Path(\n",
    "    project_root(), f\"notebook-execution-data/configure_scan_for_commissioning/execution-{timestr}\"\n",
    ")\n",
    "os.makedirs(notebook_output_dir)"
   ]
  },
  {
   "cell_type": "markdown",
   "id": "52120d53",
   "metadata": {},
   "source": [
    "### 0.3 Export System Configuration"
   ]
  },
  {
   "cell_type": "code",
   "execution_count": null,
   "id": "8fdb3717",
   "metadata": {},
   "outputs": [],
   "source": [
    "from ska_mid_jupyter_notebooks.cia import cia\n",
    "from ska_mid_jupyter_notebooks.cluster.cluster import TangoCluster\n",
    "\n",
    "cluster: TangoCluster\n",
    "for cluster in [sut, test_equipment, *dish_clusters]:\n",
    "    cia.export_chart_configuration(namespace=cluster.namespace, output_dir=notebook_output_dir)"
   ]
  },
  {
   "cell_type": "markdown",
   "id": "68a151c2",
   "metadata": {},
   "source": [
    "## Step 1\n",
    "\n",
    "### Use the noise source at nominal levels for input to at least one SPFRx.  \n",
    "\n",
    "Expected Result:"
   ]
  },
  {
   "cell_type": "markdown",
   "id": "41db3a5d",
   "metadata": {},
   "source": [
    "### 1.1 Connect to Test Equipment "
   ]
  },
  {
   "cell_type": "code",
   "execution_count": null,
   "id": "3eacd7aa",
   "metadata": {},
   "outputs": [],
   "source": [
    "from ska_mid_jupyter_notebooks.test_equipment.state import get_equipment_model\n",
    "\n",
    "test_equipment.smoke_test()\n",
    "test_equipment.ignore(\"dserver\")\n",
    "test_equipment_state = get_equipment_model(test_equipment)\n",
    "test_equipment.devices"
   ]
  },
  {
   "cell_type": "markdown",
   "id": "6d86ab44",
   "metadata": {},
   "source": [
    "### 1.2 Create Test Equipment Plot"
   ]
  },
  {
   "cell_type": "code",
   "execution_count": null,
   "id": "43b23de6",
   "metadata": {},
   "outputs": [],
   "source": [
    "from ska_mid_jupyter_notebooks.test_equipment.rendering import get_test_equipment_monitor_plot\n",
    "\n",
    "monitor_plot = get_test_equipment_monitor_plot()\n",
    "test_equipment_state.subscribe_to_test_equipment_state(monitor_plot.handle_device_state_change)\n",
    "output_notebook()\n",
    "monitor_plot.show()\n",
    "test_equipment_state.activate()"
   ]
  },
  {
   "cell_type": "markdown",
   "id": "e0d2410e",
   "metadata": {},
   "source": [
    "### 1.3 Display Test Equipment Device States "
   ]
  },
  {
   "cell_type": "code",
   "execution_count": null,
   "id": "a3f65600",
   "metadata": {},
   "outputs": [],
   "source": [
    "test_equipment_state.state[\"devices_states\"]"
   ]
  },
  {
   "cell_type": "markdown",
   "id": "c7aa1da8",
   "metadata": {},
   "source": [
    "### 1.4 Turn offline Test Equipment devices ON"
   ]
  },
  {
   "cell_type": "code",
   "execution_count": null,
   "id": "64ab9a73",
   "metadata": {},
   "outputs": [],
   "source": [
    "# set any offline devices to online\n",
    "for dev in [\n",
    "    test_equipment.__getattr__(test_equipment._replace(device))\n",
    "    for device in test_equipment.devices\n",
    "    if not (\"dserver\" in device)\n",
    "]:\n",
    "    if hasattr(dev, \"adminMode\"):\n",
    "        if dev.adminMode != 0:\n",
    "            dev.adminMode = 0"
   ]
  },
  {
   "cell_type": "markdown",
   "id": "911d2e77",
   "metadata": {},
   "source": [
    "### 1.5 Configure Signal Generator and set noise\n",
    "#### Correlated noise to be set to -132dbm/Hz\n",
    "from skysim description: The Correlated Noise source simulated the SKY noise received by the Dishes. The amplitude of the Correlated noise at the 8 outputs are in phase and amplitude can be variable over a range of 30 dB in 0.25 dB steps. The nominal Noise power at the output is -130 dBm/Hz. The Correlated noise source can be switch ON or OFF remotely."
   ]
  },
  {
   "cell_type": "markdown",
   "id": "d7419786",
   "metadata": {},
   "source": [
    "### Signal Generator does not need to be set for the configure scan test.  don't run"
   ]
  },
  {
   "cell_type": "code",
   "execution_count": null,
   "id": "cd167d6b",
   "metadata": {},
   "outputs": [],
   "source": [
    "frequency_to_set = 800e6\n",
    "\n",
    "signal_generator = test_equipment.mid_itf_siggen_1\n",
    "signal_generator.frequency = frequency_to_set\n",
    "time.sleep(1)\n",
    "assert (\n",
    "    signal_generator.frequency == frequency_to_set\n",
    "), f\"Frequency required is {frequency_to_set} but got {signal_generator.frequency}\""
   ]
  },
  {
   "cell_type": "markdown",
   "id": "217b9754",
   "metadata": {},
   "source": [
    "## Step 2\n",
    "\n",
    "### Use OSO scripting interface to TMC to run the script for assigning resources for a single sub-array, configuring and running a  scan.  \n",
    "\n",
    "Expected Result:"
   ]
  },
  {
   "cell_type": "markdown",
   "id": "00c14e14",
   "metadata": {},
   "source": [
    "### 2.1 Import dependencies"
   ]
  },
  {
   "cell_type": "code",
   "execution_count": null,
   "id": "fefcd592",
   "metadata": {},
   "outputs": [],
   "source": [
    "from ska_oso_pdm.entities.common.target import (\n",
    "    CrossScanParameters,\n",
    "    FivePointParameters,\n",
    "    RasterParameters,\n",
    "    SinglePointParameters,\n",
    "    StarRasterParameters,\n",
    ")\n",
    "from ska_oso_pdm.entities.sdp import BeamMapping\n",
    "from ska_oso_scripting import oda_helper\n",
    "from ska_oso_scripting.objects import SubArray, Telescope\n",
    "from ska_tmc_cdm.messages.central_node.sdp import Channel\n",
    "from ska_tmc_cdm.messages.subarray_node.configure.core import ReceiverBand\n",
    "from tango import DeviceProxy\n",
    "\n",
    "from ska_mid_jupyter_notebooks.obsconfig.config import ObservationSB\n",
    "from ska_mid_jupyter_notebooks.obsconfig.target_spec import TargetSpec\n",
    "from ska_mid_jupyter_notebooks.sut.rendering import TelescopeMononitorPlot\n",
    "from ska_mid_jupyter_notebooks.sut.state import TelescopeDeviceModel, get_telescope_state"
   ]
  },
  {
   "cell_type": "markdown",
   "id": "5e7cbfcf",
   "metadata": {},
   "source": [
    "### 2.2 Initial Configuration\n",
    "Setup logging, tango DB connection, etc."
   ]
  },
  {
   "cell_type": "code",
   "execution_count": null,
   "id": "e4f94827",
   "metadata": {},
   "outputs": [],
   "source": [
    "# we disable qa as it is not been properly verified\n",
    "disable_qa()\n",
    "enable_logging = True\n",
    "\n",
    "if enable_logging:\n",
    "    ska_ser_logging.configure_logging(logging.DEBUG)\n",
    "\n",
    "sut.smoke_test()\n",
    "for dish_cluster in dish_clusters:\n",
    "    dish_cluster.smoke_test()\n",
    "os.environ[\"TANGO_HOST\"] = sut.tango_host()"
   ]
  },
  {
   "cell_type": "markdown",
   "id": "dcc952f9",
   "metadata": {},
   "source": [
    "### 2.3 Setup ODA"
   ]
  },
  {
   "cell_type": "code",
   "execution_count": null,
   "id": "750e478d",
   "metadata": {},
   "outputs": [],
   "source": [
    "os.environ[\"ODA_URI\"] = (\n",
    "    \"http://ingress-nginx-controller-lb-default.ingress-nginx.svc.miditf.internal.skao.int/ska-db-oda/api/v1/\"\n",
    ")\n",
    "eb_id = oda_helper.create_eb()\n",
    "print(f\"Execution Block ID: {eb_id}\")"
   ]
  },
  {
   "cell_type": "markdown",
   "id": "e0308adb",
   "metadata": {},
   "source": [
    "### 2.4 Setup monitoring & plot"
   ]
  },
  {
   "cell_type": "code",
   "execution_count": null,
   "id": "bff1ef18",
   "metadata": {},
   "outputs": [],
   "source": [
    "# setup monitoring\n",
    "# use telescope state object for state monitoring\n",
    "device_model = TelescopeDeviceModel(dish_ids, subarray_count)\n",
    "telescope_state = get_telescope_state(device_model, sut)\n",
    "# use monitor plot as a dashboard\n",
    "telescope_monitor_plot = TelescopeMononitorPlot(plot_width=900, plot_height=200)\n",
    "# set up events to monitor\n",
    "telescope_state.subscribe_to_on_off(telescope_monitor_plot.observe_telescope_on_off)\n",
    "telescope_state.subscribe_to_subarray_resource_state(\n",
    "    telescope_monitor_plot.observe_subarray_resources_state\n",
    ")\n",
    "telescope_state.subscribe_to_subarray_configurational_state(\n",
    "    telescope_monitor_plot.observe_subarray_configuration_state\n",
    ")\n",
    "telescope_state.subscribe_to_subarray_scanning_state(\n",
    "    telescope_monitor_plot.observe_subarray_scanning_state\n",
    ")\n",
    "output_notebook()"
   ]
  },
  {
   "cell_type": "markdown",
   "id": "5e1a83fa",
   "metadata": {},
   "source": [
    "### 2.5 Open the inline dashboard\n",
    "Start the simple inline dashboard showing current state of the Telescope and resource assignment and configuration status."
   ]
  },
  {
   "cell_type": "code",
   "execution_count": null,
   "id": "ba90fbe5",
   "metadata": {},
   "outputs": [],
   "source": [
    "telescope_monitor_plot.show()\n",
    "telescope_state.activate()\n",
    "telescope_state.wait_til_ready(2)"
   ]
  },
  {
   "cell_type": "markdown",
   "id": "c27d6ff7",
   "metadata": {},
   "source": [
    "### 2.6 Display Telescope State"
   ]
  },
  {
   "cell_type": "code",
   "execution_count": null,
   "id": "b0188657",
   "metadata": {},
   "outputs": [],
   "source": [
    "telescope_state.state"
   ]
  },
  {
   "cell_type": "markdown",
   "id": "2b598fc9",
   "metadata": {},
   "source": [
    "### 2.7 Initialise Telescope and Subarray\n",
    "Create Subarray and Telescope instances."
   ]
  },
  {
   "cell_type": "code",
   "execution_count": null,
   "id": "1b2e9941",
   "metadata": {},
   "outputs": [],
   "source": [
    "sub = SubArray(subarray_id)\n",
    "tel = Telescope()"
   ]
  },
  {
   "cell_type": "markdown",
   "id": "2271a3b8",
   "metadata": {},
   "source": [
    "### 2.9 Reset the Telescope/Subarray\n",
    "Set booleans to True to reset the system after a failed execution."
   ]
  },
  {
   "cell_type": "code",
   "execution_count": null,
   "id": "f1055b6f",
   "metadata": {},
   "outputs": [],
   "source": [
    "do_reset_subarray = False\n",
    "do_reset_csp_subarray = False\n",
    "do_reset_dish = False\n",
    "\n",
    "if do_reset_subarray:\n",
    "    sub.abort()\n",
    "    time.sleep(3)\n",
    "    sub.restart()\n",
    "\n",
    "if do_reset_csp_subarray:\n",
    "    sut.reset_csp_subarray()\n",
    "\n",
    "if do_reset_dish:\n",
    "    for dish_cluster in dish_clusters:\n",
    "        dish_cluster.reset_dish()"
   ]
  },
  {
   "cell_type": "markdown",
   "id": "3db487bd",
   "metadata": {},
   "source": [
    "### 2.10 Turn CSP ON if it is OFF"
   ]
  },
  {
   "cell_type": "code",
   "execution_count": null,
   "id": "37bc04ca",
   "metadata": {},
   "outputs": [],
   "source": [
    "# Check if the telescope is currently OFF and update monitor appropriately\n",
    "if telescope_monitor_plot.on_off_state == \"OFF\":  # e.g. purple\n",
    "    sut.turn_csp_on()"
   ]
  },
  {
   "cell_type": "markdown",
   "id": "8c243732",
   "metadata": {},
   "source": [
    "#### Print out Dish Modes and Component States"
   ]
  },
  {
   "cell_type": "code",
   "execution_count": null,
   "id": "5f5513d7",
   "metadata": {},
   "outputs": [],
   "source": [
    "for dish_cluster in dish_clusters:\n",
    "    dish_cluster.print_component_states()"
   ]
  },
  {
   "cell_type": "markdown",
   "id": "a533faaa",
   "metadata": {},
   "source": [
    "### 2.11 Turn telescope ON"
   ]
  },
  {
   "cell_type": "markdown",
   "id": "1339b67c",
   "metadata": {},
   "source": [
    "#### Load Dish-VCC Configuration in TMC"
   ]
  },
  {
   "cell_type": "code",
   "execution_count": null,
   "id": "0ee23511",
   "metadata": {},
   "outputs": [],
   "source": [
    "sut.load_dish_cfg()"
   ]
  },
  {
   "cell_type": "code",
   "execution_count": null,
   "id": "1b2b2a0f",
   "metadata": {},
   "outputs": [],
   "source": [
    "# set to ON only if OFF\n",
    "\n",
    "time.sleep(2)\n",
    "if telescope_monitor_plot.on_off_state == \"OFF\":  # e.g. purple\n",
    "    tel.on()\n",
    "else:\n",
    "    assert (\n",
    "        telescope_monitor_plot.on_off_state == \"ON\"\n",
    "    ), f\"Cant continue with telescope in {telescope_monitor_plot.on_off_state}\""
   ]
  },
  {
   "cell_type": "markdown",
   "id": "7ca4967f-5420-4a54-97e7-7605753aeb00",
   "metadata": {},
   "source": [
    "### 2.12 Observation Definition"
   ]
  },
  {
   "cell_type": "markdown",
   "id": "ec0f3398-e44a-4a4d-9513-f9fe63f2b473",
   "metadata": {},
   "source": [
    "#### 2.12.1 Define Resources to be used during Observation\n",
    "Generate Processing Block and Execution Block IDs using SKUID."
   ]
  },
  {
   "cell_type": "code",
   "execution_count": null,
   "id": "3fff823f-eed7-4693-a635-f79c3f05fa71",
   "metadata": {
    "tags": []
   },
   "outputs": [],
   "source": [
    "# External IDs (this would typically come from a database like ODA)\n",
    "# this is simulated by means of instantiate a new Observation object comping from the helper modules\n",
    "observation = ObservationSB()"
   ]
  },
  {
   "cell_type": "markdown",
   "id": "d2e666a2-7d56-4b8e-81bf-e31a98f7efaa",
   "metadata": {},
   "source": [
    "#### 2.12.2 Create the high level observation specifications in terms of target specs"
   ]
  },
  {
   "cell_type": "markdown",
   "id": "f867036b-6723-4244-918d-7553e5076890",
   "metadata": {},
   "source": [
    "Note :- Users may currently modify the values by replacing the example values as given for each field within Target specification section."
   ]
  },
  {
   "cell_type": "code",
   "execution_count": null,
   "id": "25d2c936-8078-4f2e-9bf2-0d7e2fb08134",
   "metadata": {
    "tags": []
   },
   "outputs": [],
   "source": [
    "dish_ids = [d.dish_id for d in dish_clusters]\n",
    "DEFAULT_TARGET_SPECS = {\n",
    "    \"flux calibrator\": TargetSpec(\n",
    "        target_sb_detail={\n",
    "            \"co_ordinate_type\": \"Equatorial\",\n",
    "            \"ra\": \"19:24:51.05 degrees\",\n",
    "            \"dec\": \"-29:14:30.12 degrees\",\n",
    "            \"reference_frame\": \"ICRS\",\n",
    "            \"unit\": (\"hourangle\", \"deg\"),\n",
    "            \"pointing_pattern_type\": {\n",
    "                \"single_pointing_parameters\": SinglePointParameters(\n",
    "                    offset_x_arcsec=0.0, offset_y_arcsec=0.0\n",
    "                ),\n",
    "                \"raster_parameters\": RasterParameters(\n",
    "                    row_length_arcsec=0.0,\n",
    "                    row_offset_arcsec=0.0,\n",
    "                    n_rows=1,\n",
    "                    pa=0.0,\n",
    "                    unidirectional=False,\n",
    "                ),\n",
    "                \"star_raster_parameters\": StarRasterParameters(\n",
    "                    row_length_arcsec=0.0,\n",
    "                    n_rows=1,\n",
    "                    row_offset_angle=0.0,\n",
    "                    unidirectional=False,\n",
    "                ),\n",
    "                \"five_point_parameters\": FivePointParameters(offset_arcsec=0.0),\n",
    "                \"cross_scan_parameters\": CrossScanParameters(offset_arcsec=0.0),\n",
    "                \"active_pointing_pattern_type\": \"single_pointing_parameters\",\n",
    "            },\n",
    "        },\n",
    "        scan_type=\"flux calibrator\",\n",
    "        band=ReceiverBand.BAND_2,\n",
    "        channelisation=\"vis_channels9\",\n",
    "        polarisation=\"all\",\n",
    "        processing=\"test-receive-addresses\",\n",
    "        dish_ids=dish_ids,\n",
    "        target=None,\n",
    "    ),\n",
    "    \"M87\": TargetSpec(\n",
    "        target_sb_detail={\n",
    "            \"co_ordinate_type\": \"Equatorial\",\n",
    "            \"ra\": \"19:24:51.05 degrees\",\n",
    "            \"dec\": \"-29:14:30.12 degrees\",\n",
    "            \"reference_frame\": \"ICRS\",\n",
    "            \"unit\": (\"hourangle\", \"deg\"),\n",
    "            \"pointing_pattern_type\": {\n",
    "                \"single_pointing_parameters\": SinglePointParameters(\n",
    "                    offset_x_arcsec=0.0, offset_y_arcsec=0.0\n",
    "                ),\n",
    "                \"raster_parameters\": RasterParameters(\n",
    "                    row_length_arcsec=0.0,\n",
    "                    row_offset_arcsec=0.0,\n",
    "                    n_rows=1,\n",
    "                    pa=0.0,\n",
    "                    unidirectional=False,\n",
    "                ),\n",
    "                \"star_raster_parameters\": StarRasterParameters(\n",
    "                    row_length_arcsec=0.0,\n",
    "                    n_rows=1,\n",
    "                    row_offset_angle=0.0,\n",
    "                    unidirectional=False,\n",
    "                ),\n",
    "                \"five_point_parameters\": FivePointParameters(offset_arcsec=0.0),\n",
    "                \"cross_scan_parameters\": CrossScanParameters(offset_arcsec=0.0),\n",
    "                \"active_pointing_pattern_type\": \"single_pointing_parameters\",\n",
    "            },\n",
    "        },\n",
    "        scan_type=\"M87\",\n",
    "        band=ReceiverBand.BAND_2,\n",
    "        channelisation=\"vis_channels10\",\n",
    "        polarisation=\"all\",\n",
    "        processing=\"test-receive-addresses\",\n",
    "        dish_ids=dish_ids,\n",
    "        target=None,\n",
    "    ),\n",
    "}\n",
    "\n",
    "\n",
    "channel_configuration = [\n",
    "    Channel(\n",
    "        spectral_window_id=\"fsp_1_channels\",\n",
    "        count=14880,\n",
    "        start=0,\n",
    "        stride=2,\n",
    "        freq_min=0.35e9,\n",
    "        freq_max=0.368e9,\n",
    "        link_map=[[0, 0], [200, 1], [744, 2], [944, 3]],\n",
    "    )\n",
    "]\n",
    "\n",
    "for key, value in DEFAULT_TARGET_SPECS.items():\n",
    "    observation.add_channel_configuration(value.channelisation, channel_configuration)\n",
    "\n",
    "observation.add_target_specs(DEFAULT_TARGET_SPECS)\n",
    "\n",
    "for target_id, target in DEFAULT_TARGET_SPECS.items():\n",
    "    observation.add_scan_type_configuration(\n",
    "        config_name=target_id,\n",
    "        beams={\"vis0\": BeamMapping(beam_id=\"vis0\", field_id=\"M83\")},\n",
    "        derive_from=\".default\",\n",
    "    )\n",
    "scan_sequence = [\"flux calibrator\", \"M87\"]\n",
    "observation.add_scan_sequence(scan_sequence)"
   ]
  },
  {
   "cell_type": "markdown",
   "id": "c59a8bc2-5e50-4717-9cc2-57a71509591a",
   "metadata": {},
   "source": [
    "### 2.13.1 Mid configuration schema input used by observing commands"
   ]
  },
  {
   "cell_type": "markdown",
   "id": "727e53ca-0480-42b9-bbd5-a71900b57de9",
   "metadata": {},
   "source": [
    "[Configuration Schemas-OET→TMC(Mid)](https://confluence.skatelescope.org/display/SWSI/Configuration+Schemas#ConfigurationSchemas-OET%E2%86%92TMC(Mid))"
   ]
  },
  {
   "cell_type": "code",
   "execution_count": null,
   "id": "1d2e7764-2bf3-4240-ad85-3df54361e6a1",
   "metadata": {
    "tags": []
   },
   "outputs": [],
   "source": [
    "telescope_monitor_plot.show()"
   ]
  },
  {
   "cell_type": "markdown",
   "id": "308b4669-4d24-4583-9b10-8135a96d70b6",
   "metadata": {},
   "source": [
    "### 2.13.2 Create Scheduling Block Definition(SBD) Instance and save it into the ODA"
   ]
  },
  {
   "cell_type": "code",
   "execution_count": null,
   "id": "88f276d9-90c5-4ded-ac22-de876bf2ef88",
   "metadata": {
    "tags": []
   },
   "outputs": [],
   "source": [
    "observation.eb_id = eb_id\n",
    "pdm_allocation = observation.generate_pdm_object_for_sbd_save(DEFAULT_TARGET_SPECS)\n",
    "\n",
    "print(\"\\n\\nSaving Scheduling Block Definition Instance in ODA\\n\\n\")\n",
    "sbd = oda_helper.save(pdm_allocation)\n",
    "sbd_id = sbd.sbd_id\n",
    "print(sbd_id)\n",
    "pdm_allocation.sbd_id = sbd_id"
   ]
  },
  {
   "cell_type": "code",
   "execution_count": null,
   "id": "62aeea96-d3b1-44ba-9a80-a85bde4236e3",
   "metadata": {
    "tags": []
   },
   "outputs": [],
   "source": [
    "telescope_monitor_plot.show()"
   ]
  },
  {
   "cell_type": "markdown",
   "id": "f1806aa4-2f8a-43db-84ce-e8643dd1a0dc",
   "metadata": {},
   "source": [
    "### 2.14 Assign Resources\n",
    "Assign the requested resources to a Subarray"
   ]
  },
  {
   "cell_type": "code",
   "execution_count": null,
   "id": "4541f02b",
   "metadata": {},
   "outputs": [],
   "source": [
    "assign_request = observation.generate_allocate_config_sb(pdm_allocation).as_object"
   ]
  },
  {
   "cell_type": "code",
   "execution_count": null,
   "id": "8544b14a",
   "metadata": {},
   "outputs": [],
   "source": [
    "# Print assign resources request JSON out for debugging\n",
    "from ska_oso_scripting.functions.devicecontrol.resource_control import get_request_json\n",
    "from ska_tmc_cdm.messages.central_node.assign_resources import AssignResourcesRequest\n",
    "\n",
    "print(f\"AssignResourcesRequest: {assign_request}\")\n",
    "request_json = get_request_json(assign_request, AssignResourcesRequest, True)\n",
    "print(request_json)\n",
    "print(json.dumps(json.loads(request_json), indent=2))"
   ]
  },
  {
   "cell_type": "code",
   "execution_count": null,
   "id": "85753fd4-2c91-4669-9738-69bb343acf18",
   "metadata": {
    "tags": []
   },
   "outputs": [],
   "source": [
    "sub.assign_from_cdm(assign_request)\n",
    "telescope_monitor_plot.show()"
   ]
  },
  {
   "cell_type": "markdown",
   "id": "cf6947ca-7e8b-4a1a-8a83-94c4b3647f38",
   "metadata": {},
   "source": [
    "### 2.15 Configure and Run Multi Scan\n",
    "Configure the telescope and run the scan on multiple targets"
   ]
  },
  {
   "cell_type": "code",
   "execution_count": null,
   "id": "b8df9783-06c0-4ab4-b9f6-4864c269a616",
   "metadata": {
    "tags": []
   },
   "outputs": [],
   "source": [
    "from ska_tmc_cdm.messages.subarray_node.configure import ConfigureRequest\n",
    "\n",
    "for scan_def_id in scan_sequence:\n",
    "    configure_object = observation.generate_scan_config_sb(\n",
    "        pdm_observation_request=pdm_allocation,\n",
    "        scan_definition_id=scan_def_id,\n",
    "        scan_duration=10.0,\n",
    "    ).as_object\n",
    "    cfg_json = get_request_json(configure_object, ConfigureRequest)\n",
    "    print(f\"ConfigureRequest={cfg_json}\")\n",
    "    sub.configure_from_cdm(configure_object, timeout=120)\n",
    "    time.sleep(2)\n",
    "    sub.scan(timeout=120)"
   ]
  },
  {
   "cell_type": "code",
   "execution_count": null,
   "id": "f2bce657-011c-48bd-bd34-42ffc5a566bd",
   "metadata": {
    "tags": []
   },
   "outputs": [],
   "source": [
    "telescope_monitor_plot.show()"
   ]
  },
  {
   "cell_type": "markdown",
   "id": "e24ecf17-27f7-4b39-97e0-35c604847beb",
   "metadata": {},
   "source": [
    "## 2.16 Post Observation teardown"
   ]
  },
  {
   "cell_type": "markdown",
   "id": "a6fdaf9d-745d-42af-979d-56df00be451f",
   "metadata": {},
   "source": [
    "#### 2.16.1 Clear scan configuration "
   ]
  },
  {
   "cell_type": "code",
   "execution_count": null,
   "id": "5283c8ce-aff0-4624-aee9-c256a9292e9a",
   "metadata": {
    "tags": []
   },
   "outputs": [],
   "source": [
    "sub.end()"
   ]
  },
  {
   "cell_type": "code",
   "execution_count": null,
   "id": "d4cd5b38-875d-4ae2-ba7e-95167e82cdcf",
   "metadata": {
    "tags": []
   },
   "outputs": [],
   "source": [
    "telescope_monitor_plot.show()"
   ]
  },
  {
   "cell_type": "markdown",
   "id": "2018060f-b252-4636-8ae3-1de450a8e84e",
   "metadata": {},
   "source": [
    "#### 2.16.2 Release Subarray resources"
   ]
  },
  {
   "cell_type": "code",
   "execution_count": null,
   "id": "82b3382b-c3b0-44c8-959b-2f7889e894fc",
   "metadata": {
    "tags": []
   },
   "outputs": [],
   "source": [
    "sub.release()"
   ]
  },
  {
   "cell_type": "code",
   "execution_count": null,
   "id": "d8a85bcb-6e11-4758-af7f-6107e34c2ecf",
   "metadata": {},
   "outputs": [],
   "source": [
    "telescope_monitor_plot.show()"
   ]
  },
  {
   "cell_type": "markdown",
   "id": "eef61d2d",
   "metadata": {},
   "source": [
    "**Step 3:**\n",
    "\n",
    "TMC configures Dishes (SPFRx, SPF simulator, DS simulator), CBF and SDP to the basic operational state for an imaging observational scan.  \n",
    "\n",
    "Expected Result:  \n",
    "__"
   ]
  },
  {
   "cell_type": "markdown",
   "id": "6b550429",
   "metadata": {},
   "source": [
    "**Step 4:**\n",
    "\n",
    "TMC configures the system to run the scan.  \n",
    "\n",
    "Expected Result:  \n",
    "__"
   ]
  },
  {
   "cell_type": "markdown",
   "id": "cc7b6755",
   "metadata": {},
   "source": [
    "**Step 5:**\n",
    "\n",
    "Show that each component enters and reports the correct observational state.  \n",
    "\n",
    "Expected Result:  \n",
    "__"
   ]
  },
  {
   "cell_type": "markdown",
   "id": "e4d79d38",
   "metadata": {},
   "source": [
    "**Step 6:**\n",
    "\n",
    "Run the scan.  \n",
    "\n",
    "Expected Result:  \n",
    "__"
   ]
  },
  {
   "cell_type": "markdown",
   "id": "8790c1f9",
   "metadata": {},
   "source": [
    "**Step 7:**\n",
    "\n",
    "Observe SDP signal displays for operation.  \n",
    "\n",
    "Expected Result:  \n",
    "__"
   ]
  },
  {
   "cell_type": "markdown",
   "id": "cf0e95af",
   "metadata": {},
   "source": [
    "**Step 8:**\n",
    "\n",
    "Analyse recorded data to show that the scan runs and that the CBF produces channelised auto- and cross correlation visibilities ingested by SDP and stored in MS format (refer also to visibilities data products test). Use the Data Product Dashboard to download MS data.  \n",
    "\n",
    "Expected Result:  \n",
    "__"
   ]
  }
 ],
 "metadata": {
  "kernelspec": {
   "display_name": "Python 3 (ipykernel)",
   "language": "python",
   "name": "python3"
  },
  "language_info": {
   "codemirror_mode": {
    "name": "ipython",
    "version": 3
   },
   "file_extension": ".py",
   "mimetype": "text/x-python",
   "name": "python",
   "nbconvert_exporter": "python",
   "pygments_lexer": "ipython3",
   "version": "3.10.4"
  }
 },
 "nbformat": 4,
 "nbformat_minor": 5
}
