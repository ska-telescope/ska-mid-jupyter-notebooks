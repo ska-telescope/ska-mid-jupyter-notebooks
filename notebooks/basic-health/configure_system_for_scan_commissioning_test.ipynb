{
 "cells": [
  {
   "cell_type": "markdown",
   "id": "1d9885e1",
   "metadata": {},
   "source": [
    "## 0.1 Import dependencies"
   ]
  },
  {
   "cell_type": "code",
   "execution_count": 1,
   "id": "6ea49e47",
   "metadata": {},
   "outputs": [],
   "source": [
    "# pylint: disable=W0104, W0212, E1120, E1101\n",
    "import json\n",
    "import logging\n",
    "import time\n",
    "import os\n",
    "import pathlib\n",
    "\n",
    "import ska_ser_logging\n",
    "from bokeh.io import output_notebook\n",
    "\n",
    "from ska_mid_jupyter_notebooks.sut.configure import TangoSUTCluster, disable_qa\n",
    "from ska_mid_jupyter_notebooks.dish.dish import TangoDishCluster\n",
    "from ska_mid_jupyter_notebooks.helpers.path import project_root\n",
    "from ska_mid_jupyter_notebooks.test_equipment.configure import TangoTestEquipment"
   ]
  },
  {
   "cell_type": "markdown",
   "id": "c9e6cc6d",
   "metadata": {},
   "source": [
    "### 0.2 Setup Global Variables"
   ]
  },
  {
   "cell_type": "code",
   "execution_count": 3,
   "id": "0b0c3b4c",
   "metadata": {},
   "outputs": [
    {
     "ename": "FileExistsError",
     "evalue": "[Errno 17] File exists: '/home/pieter/dev/ska-mid-jupyter-notebooks/src/ska_mid_jupyter_notebooks/helpers/../../../notebook-execution-data/configure_scan_for_commissioning/execution-20240415-1404'",
     "output_type": "error",
     "traceback": [
      "\u001b[0;31m---------------------------------------------------------------------------\u001b[0m",
      "\u001b[0;31mFileExistsError\u001b[0m                           Traceback (most recent call last)",
      "Cell \u001b[0;32mIn[3], line 15\u001b[0m\n\u001b[1;32m     13\u001b[0m timestr \u001b[38;5;241m=\u001b[39m time\u001b[38;5;241m.\u001b[39mstrftime(\u001b[38;5;124m\"\u001b[39m\u001b[38;5;124m%\u001b[39m\u001b[38;5;124mY\u001b[39m\u001b[38;5;124m%\u001b[39m\u001b[38;5;124mm\u001b[39m\u001b[38;5;132;01m%d\u001b[39;00m\u001b[38;5;124m-\u001b[39m\u001b[38;5;124m%\u001b[39m\u001b[38;5;124mH\u001b[39m\u001b[38;5;124m%\u001b[39m\u001b[38;5;124mM\u001b[39m\u001b[38;5;124m\"\u001b[39m)\n\u001b[1;32m     14\u001b[0m notebook_output_dir \u001b[38;5;241m=\u001b[39m pathlib\u001b[38;5;241m.\u001b[39mPath(project_root(), \u001b[38;5;124mf\u001b[39m\u001b[38;5;124m\"\u001b[39m\u001b[38;5;124mnotebook-execution-data/configure_scan_for_commissioning/execution-\u001b[39m\u001b[38;5;132;01m{\u001b[39;00mtimestr\u001b[38;5;132;01m}\u001b[39;00m\u001b[38;5;124m\"\u001b[39m)\n\u001b[0;32m---> 15\u001b[0m \u001b[43mos\u001b[49m\u001b[38;5;241;43m.\u001b[39;49m\u001b[43mmakedirs\u001b[49m\u001b[43m(\u001b[49m\u001b[43mnotebook_output_dir\u001b[49m\u001b[43m)\u001b[49m\n",
      "File \u001b[0;32m~/.pyenv/versions/3.10.4/lib/python3.10/os.py:225\u001b[0m, in \u001b[0;36mmakedirs\u001b[0;34m(name, mode, exist_ok)\u001b[0m\n\u001b[1;32m    223\u001b[0m         \u001b[38;5;28;01mreturn\u001b[39;00m\n\u001b[1;32m    224\u001b[0m \u001b[38;5;28;01mtry\u001b[39;00m:\n\u001b[0;32m--> 225\u001b[0m     \u001b[43mmkdir\u001b[49m\u001b[43m(\u001b[49m\u001b[43mname\u001b[49m\u001b[43m,\u001b[49m\u001b[43m \u001b[49m\u001b[43mmode\u001b[49m\u001b[43m)\u001b[49m\n\u001b[1;32m    226\u001b[0m \u001b[38;5;28;01mexcept\u001b[39;00m \u001b[38;5;167;01mOSError\u001b[39;00m:\n\u001b[1;32m    227\u001b[0m     \u001b[38;5;66;03m# Cannot rely on checking for EEXIST, since the operating system\u001b[39;00m\n\u001b[1;32m    228\u001b[0m     \u001b[38;5;66;03m# could give priority to other errors like EACCES or EROFS\u001b[39;00m\n\u001b[1;32m    229\u001b[0m     \u001b[38;5;28;01mif\u001b[39;00m \u001b[38;5;129;01mnot\u001b[39;00m exist_ok \u001b[38;5;129;01mor\u001b[39;00m \u001b[38;5;129;01mnot\u001b[39;00m path\u001b[38;5;241m.\u001b[39misdir(name):\n",
      "\u001b[0;31mFileExistsError\u001b[0m: [Errno 17] File exists: '/home/pieter/dev/ska-mid-jupyter-notebooks/src/ska_mid_jupyter_notebooks/helpers/../../../notebook-execution-data/configure_scan_for_commissioning/execution-20240415-1404'"
     ]
    }
   ],
   "source": [
    "dev_mode = True\n",
    "branch_name = \"at-2008\"\n",
    "test_equipment = TangoTestEquipment()\n",
    "sut = TangoSUTCluster(branch_name, dev_mode)\n",
    "dish_ids = [\"0001\", \"0036\"]\n",
    "dish_clusters = [\n",
    "    TangoDishCluster(f\"ska{d[1:]}\", branch_name=branch_name, dev_mode=dev_mode)\n",
    "    for d in dish_ids\n",
    "]\n",
    "subarray_count = 1\n",
    "subarray_id = 1\n",
    "\n",
    "timestr = time.strftime(\"%Y%m%d-%H%M\")\n",
    "notebook_output_dir = pathlib.Path(project_root(), f\"notebook-execution-data/configure_scan_for_commissioning/execution-{timestr}\")\n",
    "os.makedirs(notebook_output_dir)"
   ]
  },
  {
   "cell_type": "markdown",
   "id": "52120d53",
   "metadata": {},
   "source": [
    "### 0.3 Export System Configuration"
   ]
  },
  {
   "cell_type": "code",
   "execution_count": 3,
   "id": "8fdb3717",
   "metadata": {},
   "outputs": [
    {
     "name": "stdout",
     "output_type": "stream",
     "text": [
      "PingResponse (integration): {\"result\":\"ok\",\"time\":\"2024-04-15T11:43:16.225402\"}\n",
      "ReleaseResponse (integration): {\n",
      "    \"chart\": \"ska-mid-itf\",\n",
      "    \"version\": \"0.1.0\",\n",
      "    \"sub_charts\": [\n",
      "        {\n",
      "            \"chart\": \"ska-tango-base\",\n",
      "            \"version\": \"0.4.9\"\n",
      "        },\n",
      "        {\n",
      "            \"chart\": \"ska-tango-util\",\n",
      "            \"version\": \"0.4.10\"\n",
      "        },\n",
      "        {\n",
      "            \"chart\": \"ska-tmc-mid\",\n",
      "            \"version\": \"0.18.0\"\n",
      "        },\n",
      "        {\n",
      "            \"chart\": \"ska-csp-lmc-mid\",\n",
      "            \"version\": \"0.18.2\"\n",
      "        },\n",
      "        {\n",
      "            \"chart\": \"ska-mid-cbf-mcs\",\n",
      "            \"version\": \"0.13.2\"\n",
      "        },\n",
      "        {\n",
      "            \"chart\": \"ska-mid-cbf-tmleafnode\",\n",
      "            \"version\": \"0.13.2\"\n",
      "        },\n",
      "        {\n",
      "            \"chart\": \"ska-sdp\",\n",
      "            \"version\": \"0.19.1\"\n",
      "        },\n",
      "        {\n",
      "            \"chart\": \"ska-ser-config-inspector\",\n",
      "            \"version\": \"0.2.2\"\n",
      "        },\n",
      "        {\n",
      "            \"chart\": \"ska-tango-taranta\",\n",
      "            \"version\": \"2.7.3\"\n",
      "        },\n",
      "        {\n",
      "            \"chart\": \"ska-tango-tangogql\",\n",
      "            \"version\": \"1.3.10\"\n",
      "        },\n",
      "        {\n",
      "            \"chart\": \"ska-tango-alarmhandler\",\n",
      "            \"version\": \"0.4.0\"\n",
      "        },\n",
      "        {\n",
      "            \"chart\": \"ska-tango-archiver\",\n",
      "            \"version\": \"2.7.0\"\n",
      "        }\n",
      "    ]\n",
      "}\n",
      "Exported chart from integration configuration to /home/pieter/dev/ska-mid-jupyter-notebooks/src/ska_mid_jupyter_notebooks/helpers/../../../notebook-execution-data/configure_scan_for_commissioning/execution-20240415-1343/config-integration.json\n",
      "PingResponse (test-equipment): {\"result\":\"ok\",\"time\":\"2024-04-15T11:43:16.672720\"}\n",
      "ReleaseResponse (test-equipment): {\n",
      "    \"chart\": \"ska-mid-itf\",\n",
      "    \"version\": \"0.1.0-dev.c\",\n",
      "    \"sub_charts\": [\n",
      "        {\n",
      "            \"chart\": \"ska-tango-base\",\n",
      "            \"version\": \"0.4.9\"\n",
      "        },\n",
      "        {\n",
      "            \"chart\": \"ska-tango-util\",\n",
      "            \"version\": \"0.4.10\"\n",
      "        },\n",
      "        {\n",
      "            \"chart\": \"ska-ser-test-equipment\",\n",
      "            \"version\": \"0.9.1\"\n",
      "        },\n",
      "        {\n",
      "            \"chart\": \"ska-tango-taranta\",\n",
      "            \"version\": \"2.7.3\"\n",
      "        },\n",
      "        {\n",
      "            \"chart\": \"ska-tango-tangogql\",\n",
      "            \"version\": \"1.3.10\"\n",
      "        },\n",
      "        {\n",
      "            \"chart\": \"ska-ser-config-inspector\",\n",
      "            \"version\": \"0.2.2\"\n",
      "        }\n",
      "    ]\n",
      "}\n",
      "Exported chart from test-equipment configuration to /home/pieter/dev/ska-mid-jupyter-notebooks/src/ska_mid_jupyter_notebooks/helpers/../../../notebook-execution-data/configure_scan_for_commissioning/execution-20240415-1343/config-test-equipment.json\n",
      "PingResponse (ci-dish-lmc-ska001-at-2008): {\"result\":\"ok\",\"time\":\"2024-04-15T11:43:17.089916\"}\n",
      "ReleaseResponse (ci-dish-lmc-ska001-at-2008): {\n",
      "    \"chart\": \"ska-mid-itf-dish-lmc\",\n",
      "    \"version\": \"0.1.0\",\n",
      "    \"sub_charts\": [\n",
      "        {\n",
      "            \"chart\": \"ska-tango-base\",\n",
      "            \"version\": \"0.4.9\"\n",
      "        },\n",
      "        {\n",
      "            \"chart\": \"ska-tango-util\",\n",
      "            \"version\": \"0.4.10\"\n",
      "        },\n",
      "        {\n",
      "            \"chart\": \"ska-tango-taranta\",\n",
      "            \"version\": \"2.7.3\"\n",
      "        },\n",
      "        {\n",
      "            \"chart\": \"ska-tango-tangogql\",\n",
      "            \"version\": \"1.3.10\"\n",
      "        },\n",
      "        {\n",
      "            \"chart\": \"ska-dish-lmc\",\n",
      "            \"version\": \"3.2.0\"\n",
      "        },\n",
      "        {\n",
      "            \"chart\": \"ska-ser-config-inspector\",\n",
      "            \"version\": \"0.2.2\"\n",
      "        }\n",
      "    ]\n",
      "}\n",
      "Exported chart from ci-dish-lmc-ska001-at-2008 configuration to /home/pieter/dev/ska-mid-jupyter-notebooks/src/ska_mid_jupyter_notebooks/helpers/../../../notebook-execution-data/configure_scan_for_commissioning/execution-20240415-1343/config-ci-dish-lmc-ska001-at-2008.json\n",
      "PingResponse (ci-dish-lmc-ska036-at-2008): {\"result\":\"ok\",\"time\":\"2024-04-15T11:43:17.643109\"}\n",
      "ReleaseResponse (ci-dish-lmc-ska036-at-2008): {\n",
      "    \"chart\": \"ska-mid-itf-dish-lmc\",\n",
      "    \"version\": \"0.1.0\",\n",
      "    \"sub_charts\": [\n",
      "        {\n",
      "            \"chart\": \"ska-tango-base\",\n",
      "            \"version\": \"0.4.9\"\n",
      "        },\n",
      "        {\n",
      "            \"chart\": \"ska-tango-util\",\n",
      "            \"version\": \"0.4.10\"\n",
      "        },\n",
      "        {\n",
      "            \"chart\": \"ska-tango-taranta\",\n",
      "            \"version\": \"2.7.3\"\n",
      "        },\n",
      "        {\n",
      "            \"chart\": \"ska-tango-tangogql\",\n",
      "            \"version\": \"1.3.10\"\n",
      "        },\n",
      "        {\n",
      "            \"chart\": \"ska-dish-lmc\",\n",
      "            \"version\": \"3.2.0\"\n",
      "        },\n",
      "        {\n",
      "            \"chart\": \"ska-ser-config-inspector\",\n",
      "            \"version\": \"0.2.2\"\n",
      "        }\n",
      "    ]\n",
      "}\n",
      "Exported chart from ci-dish-lmc-ska036-at-2008 configuration to /home/pieter/dev/ska-mid-jupyter-notebooks/src/ska_mid_jupyter_notebooks/helpers/../../../notebook-execution-data/configure_scan_for_commissioning/execution-20240415-1343/config-ci-dish-lmc-ska036-at-2008.json\n"
     ]
    }
   ],
   "source": [
    "from ska_mid_jupyter_notebooks.cia import cia\n",
    "from ska_mid_jupyter_notebooks.cluster.cluster import TangoCluster\n",
    "\n",
    "cluster: TangoCluster\n",
    "for cluster in [sut, test_equipment, *dish_clusters]:\n",
    "    cia.export_chart_configuration(namespace=cluster.namespace, output_dir=notebook_output_dir)\n"
   ]
  },
  {
   "cell_type": "markdown",
   "id": "68a151c2",
   "metadata": {},
   "source": [
    "## Step 1\n",
    "\n",
    "### Use the noise source at nominal levels for input to at least one SPFRx.  \n",
    "\n",
    "Expected Result:"
   ]
  },
  {
   "cell_type": "markdown",
   "id": "41db3a5d",
   "metadata": {},
   "source": [
    "### 1.1 Connect to Test Equipment "
   ]
  },
  {
   "cell_type": "code",
   "execution_count": 4,
   "id": "3eacd7aa",
   "metadata": {},
   "outputs": [
    {
     "data": {
      "text/plain": [
       "['mid-itf/progattenuator/1',\n",
       " 'mid-itf/siggen/1',\n",
       " 'mid-itf/skysimctl/4',\n",
       " 'mid-itf/spectana/1',\n",
       " 'sys/database/2',\n",
       " 'sys/tg_test/1']"
      ]
     },
     "execution_count": 4,
     "metadata": {},
     "output_type": "execute_result"
    }
   ],
   "source": [
    "from ska_mid_jupyter_notebooks.test_equipment.state import get_equipment_model\n",
    "\n",
    "test_equipment.smoke_test()\n",
    "test_equipment.ignore(\"dserver\")\n",
    "test_equipment_state = get_equipment_model(test_equipment)\n",
    "test_equipment.devices"
   ]
  },
  {
   "cell_type": "markdown",
   "id": "6d86ab44",
   "metadata": {},
   "source": [
    "### 1.2 Create Test Equipment Plot"
   ]
  },
  {
   "cell_type": "code",
   "execution_count": 5,
   "id": "43b23de6",
   "metadata": {},
   "outputs": [
    {
     "data": {
      "text/html": [
       "    <style>\n",
       "        .bk-notebook-logo {\n",
       "            display: block;\n",
       "            width: 20px;\n",
       "            height: 20px;\n",
       "            background-image: url(data:image/png;base64,iVBORw0KGgoAAAANSUhEUgAAABQAAAAUCAYAAACNiR0NAAAABHNCSVQICAgIfAhkiAAAAAlwSFlzAAALEgAACxIB0t1+/AAAABx0RVh0U29mdHdhcmUAQWRvYmUgRmlyZXdvcmtzIENTNui8sowAAAOkSURBVDiNjZRtaJVlGMd/1/08zzln5zjP1LWcU9N0NkN8m2CYjpgQYQXqSs0I84OLIC0hkEKoPtiH3gmKoiJDU7QpLgoLjLIQCpEsNJ1vqUOdO7ppbuec5+V+rj4ctwzd8IIbbi6u+8f1539dt3A78eXC7QizUF7gyV1fD1Yqg4JWz84yffhm0qkFqBogB9rM8tZdtwVsPUhWhGcFJngGeWrPzHm5oaMmkfEg1usvLFyc8jLRqDOMru7AyC8saQr7GG7f5fvDeH7Ej8CM66nIF+8yngt6HWaKh7k49Soy9nXurCi1o3qUbS3zWfrYeQDTB/Qj6kX6Ybhw4B+bOYoLKCC9H3Nu/leUTZ1JdRWkkn2ldcCamzrcf47KKXdAJllSlxAOkRgyHsGC/zRday5Qld9DyoM4/q/rUoy/CXh3jzOu3bHUVZeU+DEn8FInkPBFlu3+nW3Nw0mk6vCDiWg8CeJaxEwuHS3+z5RgY+YBR6V1Z1nxSOfoaPa4LASWxxdNp+VWTk7+4vzaou8v8PN+xo+KY2xsw6une2frhw05CTYOmQvsEhjhWjn0bmXPjpE1+kplmmkP3suftwTubK9Vq22qKmrBhpY4jvd5afdRA3wGjFAgcnTK2s4hY0/GPNIb0nErGMCRxWOOX64Z8RAC4oCXdklmEvcL8o0BfkNK4lUg9HTl+oPlQxdNo3Mg4Nv175e/1LDGzZen30MEjRUtmXSfiTVu1kK8W4txyV6BMKlbgk3lMwYCiusNy9fVfvvwMxv8Ynl6vxoByANLTWplvuj/nF9m2+PDtt1eiHPBr1oIfhCChQMBw6Aw0UulqTKZdfVvfG7VcfIqLG9bcldL/+pdWTLxLUy8Qq38heUIjh4XlzZxzQm19lLFlr8vdQ97rjZVOLf8nclzckbcD4wxXMidpX30sFd37Fv/GtwwhzhxGVAprjbg0gCAEeIgwCZyTV2Z1REEW8O4py0wsjeloKoMr6iCY6dP92H6Vw/oTyICIthibxjm/DfN9lVz8IqtqKYLUXfoKVMVQVVJOElGjrnnUt9T9wbgp8AyYKaGlqingHZU/uG2NTZSVqwHQTWkx9hxjkpWDaCg6Ckj5qebgBVbT3V3NNXMSiWSDdGV3hrtzla7J+duwPOToIg42ChPQOQjspnSlp1V+Gjdged7+8UN5CRAV7a5EdFNwCjEaBR27b3W890TE7g24NAP/mMDXRWrGoFPQI9ls/MWO2dWFAar/xcOIImbbpA3zgAAAABJRU5ErkJggg==);\n",
       "        }\n",
       "    </style>\n",
       "    <div>\n",
       "        <a href=\"https://bokeh.org\" target=\"_blank\" class=\"bk-notebook-logo\"></a>\n",
       "        <span id=\"f37e6a0a-6a3c-4bf9-a20e-9e8c09b23f69\">Loading BokehJS ...</span>\n",
       "    </div>\n"
      ]
     },
     "metadata": {},
     "output_type": "display_data"
    },
    {
     "data": {
      "application/javascript": "'use strict';\n(function(root) {\n  function now() {\n    return new Date();\n  }\n\n  const force = true;\n\n  if (typeof root._bokeh_onload_callbacks === \"undefined\" || force === true) {\n    root._bokeh_onload_callbacks = [];\n    root._bokeh_is_loading = undefined;\n  }\n\nconst JS_MIME_TYPE = 'application/javascript';\n  const HTML_MIME_TYPE = 'text/html';\n  const EXEC_MIME_TYPE = 'application/vnd.bokehjs_exec.v0+json';\n  const CLASS_NAME = 'output_bokeh rendered_html';\n\n  /**\n   * Render data to the DOM node\n   */\n  function render(props, node) {\n    const script = document.createElement(\"script\");\n    node.appendChild(script);\n  }\n\n  /**\n   * Handle when an output is cleared or removed\n   */\n  function handleClearOutput(event, handle) {\n    function drop(id) {\n      const view = Bokeh.index.get_by_id(id)\n      if (view != null) {\n        view.model.document.clear()\n        Bokeh.index.delete(view)\n      }\n    }\n\n    const cell = handle.cell;\n\n    const id = cell.output_area._bokeh_element_id;\n    const server_id = cell.output_area._bokeh_server_id;\n\n    // Clean up Bokeh references\n    if (id != null) {\n      drop(id)\n    }\n\n    if (server_id !== undefined) {\n      // Clean up Bokeh references\n      const cmd_clean = \"from bokeh.io.state import curstate; print(curstate().uuid_to_server['\" + server_id + \"'].get_sessions()[0].document.roots[0]._id)\";\n      cell.notebook.kernel.execute(cmd_clean, {\n        iopub: {\n          output: function(msg) {\n            const id = msg.content.text.trim()\n            drop(id)\n          }\n        }\n      });\n      // Destroy server and session\n      const cmd_destroy = \"import bokeh.io.notebook as ion; ion.destroy_server('\" + server_id + \"')\";\n      cell.notebook.kernel.execute(cmd_destroy);\n    }\n  }\n\n  /**\n   * Handle when a new output is added\n   */\n  function handleAddOutput(event, handle) {\n    const output_area = handle.output_area;\n    const output = handle.output;\n\n    // limit handleAddOutput to display_data with EXEC_MIME_TYPE content only\n    if ((output.output_type != \"display_data\") || (!Object.prototype.hasOwnProperty.call(output.data, EXEC_MIME_TYPE))) {\n      return\n    }\n\n    const toinsert = output_area.element.find(\".\" + CLASS_NAME.split(' ')[0]);\n\n    if (output.metadata[EXEC_MIME_TYPE][\"id\"] !== undefined) {\n      toinsert[toinsert.length - 1].firstChild.textContent = output.data[JS_MIME_TYPE];\n      // store reference to embed id on output_area\n      output_area._bokeh_element_id = output.metadata[EXEC_MIME_TYPE][\"id\"];\n    }\n    if (output.metadata[EXEC_MIME_TYPE][\"server_id\"] !== undefined) {\n      const bk_div = document.createElement(\"div\");\n      bk_div.innerHTML = output.data[HTML_MIME_TYPE];\n      const script_attrs = bk_div.children[0].attributes;\n      for (let i = 0; i < script_attrs.length; i++) {\n        toinsert[toinsert.length - 1].firstChild.setAttribute(script_attrs[i].name, script_attrs[i].value);\n        toinsert[toinsert.length - 1].firstChild.textContent = bk_div.children[0].textContent\n      }\n      // store reference to server id on output_area\n      output_area._bokeh_server_id = output.metadata[EXEC_MIME_TYPE][\"server_id\"];\n    }\n  }\n\n  function register_renderer(events, OutputArea) {\n\n    function append_mime(data, metadata, element) {\n      // create a DOM node to render to\n      const toinsert = this.create_output_subarea(\n        metadata,\n        CLASS_NAME,\n        EXEC_MIME_TYPE\n      );\n      this.keyboard_manager.register_events(toinsert);\n      // Render to node\n      const props = {data: data, metadata: metadata[EXEC_MIME_TYPE]};\n      render(props, toinsert[toinsert.length - 1]);\n      element.append(toinsert);\n      return toinsert\n    }\n\n    /* Handle when an output is cleared or removed */\n    events.on('clear_output.CodeCell', handleClearOutput);\n    events.on('delete.Cell', handleClearOutput);\n\n    /* Handle when a new output is added */\n    events.on('output_added.OutputArea', handleAddOutput);\n\n    /**\n     * Register the mime type and append_mime function with output_area\n     */\n    OutputArea.prototype.register_mime_type(EXEC_MIME_TYPE, append_mime, {\n      /* Is output safe? */\n      safe: true,\n      /* Index of renderer in `output_area.display_order` */\n      index: 0\n    });\n  }\n\n  // register the mime type if in Jupyter Notebook environment and previously unregistered\n  if (root.Jupyter !== undefined) {\n    const events = require('base/js/events');\n    const OutputArea = require('notebook/js/outputarea').OutputArea;\n\n    if (OutputArea.prototype.mime_types().indexOf(EXEC_MIME_TYPE) == -1) {\n      register_renderer(events, OutputArea);\n    }\n  }\n  if (typeof (root._bokeh_timeout) === \"undefined\" || force === true) {\n    root._bokeh_timeout = Date.now() + 5000;\n    root._bokeh_failed_load = false;\n  }\n\n  const NB_LOAD_WARNING = {'data': {'text/html':\n     \"<div style='background-color: #fdd'>\\n\"+\n     \"<p>\\n\"+\n     \"BokehJS does not appear to have successfully loaded. If loading BokehJS from CDN, this \\n\"+\n     \"may be due to a slow or bad network connection. Possible fixes:\\n\"+\n     \"</p>\\n\"+\n     \"<ul>\\n\"+\n     \"<li>re-rerun `output_notebook()` to attempt to load from CDN again, or</li>\\n\"+\n     \"<li>use INLINE resources instead, as so:</li>\\n\"+\n     \"</ul>\\n\"+\n     \"<code>\\n\"+\n     \"from bokeh.resources import INLINE\\n\"+\n     \"output_notebook(resources=INLINE)\\n\"+\n     \"</code>\\n\"+\n     \"</div>\"}};\n\n  function display_loaded(error = null) {\n    const el = document.getElementById(\"f37e6a0a-6a3c-4bf9-a20e-9e8c09b23f69\");\n    if (el != null) {\n      const html = (() => {\n        if (typeof root.Bokeh === \"undefined\") {\n          if (error == null) {\n            return \"BokehJS is loading ...\";\n          } else {\n            return \"BokehJS failed to load.\";\n          }\n        } else {\n          const prefix = `BokehJS ${root.Bokeh.version}`;\n          if (error == null) {\n            return `${prefix} successfully loaded.`;\n          } else {\n            return `${prefix} <b>encountered errors</b> while loading and may not function as expected.`;\n          }\n        }\n      })();\n      el.innerHTML = html;\n\n      if (error != null) {\n        const wrapper = document.createElement(\"div\");\n        wrapper.style.overflow = \"auto\";\n        wrapper.style.height = \"5em\";\n        wrapper.style.resize = \"vertical\";\n        const content = document.createElement(\"div\");\n        content.style.fontFamily = \"monospace\";\n        content.style.whiteSpace = \"pre-wrap\";\n        content.style.backgroundColor = \"rgb(255, 221, 221)\";\n        content.textContent = error.stack ?? error.toString();\n        wrapper.append(content);\n        el.append(wrapper);\n      }\n    } else if (Date.now() < root._bokeh_timeout) {\n      setTimeout(() => display_loaded(error), 100);\n    }\n  }\n\n  function run_callbacks() {\n    try {\n      root._bokeh_onload_callbacks.forEach(function(callback) {\n        if (callback != null)\n          callback();\n      });\n    } finally {\n      delete root._bokeh_onload_callbacks\n    }\n    console.debug(\"Bokeh: all callbacks have finished\");\n  }\n\n  function load_libs(css_urls, js_urls, callback) {\n    if (css_urls == null) css_urls = [];\n    if (js_urls == null) js_urls = [];\n\n    root._bokeh_onload_callbacks.push(callback);\n    if (root._bokeh_is_loading > 0) {\n      console.debug(\"Bokeh: BokehJS is being loaded, scheduling callback at\", now());\n      return null;\n    }\n    if (js_urls == null || js_urls.length === 0) {\n      run_callbacks();\n      return null;\n    }\n    console.debug(\"Bokeh: BokehJS not loaded, scheduling load and callback at\", now());\n    root._bokeh_is_loading = css_urls.length + js_urls.length;\n\n    function on_load() {\n      root._bokeh_is_loading--;\n      if (root._bokeh_is_loading === 0) {\n        console.debug(\"Bokeh: all BokehJS libraries/stylesheets loaded\");\n        run_callbacks()\n      }\n    }\n\n    function on_error(url) {\n      console.error(\"failed to load \" + url);\n    }\n\n    for (let i = 0; i < css_urls.length; i++) {\n      const url = css_urls[i];\n      const element = document.createElement(\"link\");\n      element.onload = on_load;\n      element.onerror = on_error.bind(null, url);\n      element.rel = \"stylesheet\";\n      element.type = \"text/css\";\n      element.href = url;\n      console.debug(\"Bokeh: injecting link tag for BokehJS stylesheet: \", url);\n      document.body.appendChild(element);\n    }\n\n    for (let i = 0; i < js_urls.length; i++) {\n      const url = js_urls[i];\n      const element = document.createElement('script');\n      element.onload = on_load;\n      element.onerror = on_error.bind(null, url);\n      element.async = false;\n      element.src = url;\n      console.debug(\"Bokeh: injecting script tag for BokehJS library: \", url);\n      document.head.appendChild(element);\n    }\n  };\n\n  function inject_raw_css(css) {\n    const element = document.createElement(\"style\");\n    element.appendChild(document.createTextNode(css));\n    document.body.appendChild(element);\n  }\n\n  const js_urls = [\"https://cdn.bokeh.org/bokeh/release/bokeh-3.4.0.min.js\", \"https://cdn.bokeh.org/bokeh/release/bokeh-gl-3.4.0.min.js\", \"https://cdn.bokeh.org/bokeh/release/bokeh-widgets-3.4.0.min.js\", \"https://cdn.bokeh.org/bokeh/release/bokeh-tables-3.4.0.min.js\", \"https://cdn.bokeh.org/bokeh/release/bokeh-mathjax-3.4.0.min.js\"];\n  const css_urls = [];\n\n  const inline_js = [    function(Bokeh) {\n      Bokeh.set_log_level(\"info\");\n    },\nfunction(Bokeh) {\n    }\n  ];\n\n  function run_inline_js() {\n    if (root.Bokeh !== undefined || force === true) {\n      try {\n            for (let i = 0; i < inline_js.length; i++) {\n      inline_js[i].call(root, root.Bokeh);\n    }\n\n      } catch (error) {display_loaded(error);throw error;\n      }if (force === true) {\n        display_loaded();\n      }} else if (Date.now() < root._bokeh_timeout) {\n      setTimeout(run_inline_js, 100);\n    } else if (!root._bokeh_failed_load) {\n      console.log(\"Bokeh: BokehJS failed to load within specified timeout.\");\n      root._bokeh_failed_load = true;\n    } else if (force !== true) {\n      const cell = $(document.getElementById(\"f37e6a0a-6a3c-4bf9-a20e-9e8c09b23f69\")).parents('.cell').data().cell;\n      cell.output_area.append_execute_result(NB_LOAD_WARNING)\n    }\n  }\n\n  if (root._bokeh_is_loading === 0) {\n    console.debug(\"Bokeh: BokehJS loaded, going straight to plotting\");\n    run_inline_js();\n  } else {\n    load_libs(css_urls, js_urls, function() {\n      console.debug(\"Bokeh: BokehJS plotting callback run at\", now());\n      run_inline_js();\n    });\n  }\n}(window));",
      "application/vnd.bokehjs_load.v0+json": ""
     },
     "metadata": {},
     "output_type": "display_data"
    },
    {
     "name": "stderr",
     "output_type": "stream",
     "text": [
      "BokehDeprecationWarning: 'square() method' was deprecated in Bokeh 3.4.0 and will be removed, use \"scatter(marker='square', ...) instead\" instead.\n"
     ]
    },
    {
     "data": {
      "text/html": [
       "\n",
       "  <div id=\"db571d73-d9b2-4401-b6ff-0e8958607ecb\" data-root-id=\"p1001\" style=\"display: contents;\"></div>\n"
      ]
     },
     "metadata": {},
     "output_type": "display_data"
    },
    {
     "data": {
      "application/javascript": "(function(root) {\n  function embed_document(root) {\n  const docs_json = {\"6d29ff17-a654-438d-831e-487b0a9d2ad5\":{\"version\":\"3.4.0\",\"title\":\"Bokeh Application\",\"roots\":[{\"type\":\"object\",\"name\":\"Figure\",\"id\":\"p1001\",\"attributes\":{\"width\":900,\"height\":200,\"x_range\":{\"type\":\"object\",\"name\":\"Range1d\",\"id\":\"p1010\",\"attributes\":{\"start\":-0.5,\"end\":1.5}},\"y_range\":{\"type\":\"object\",\"name\":\"Range1d\",\"id\":\"p1011\",\"attributes\":{\"start\":-0.5,\"end\":1.5}},\"x_scale\":{\"type\":\"object\",\"name\":\"LinearScale\",\"id\":\"p1012\"},\"y_scale\":{\"type\":\"object\",\"name\":\"LinearScale\",\"id\":\"p1013\"},\"title\":{\"type\":\"object\",\"name\":\"Title\",\"id\":\"p1008\"},\"renderers\":[{\"type\":\"object\",\"name\":\"GlyphRenderer\",\"id\":\"p1048\",\"attributes\":{\"data_source\":{\"type\":\"object\",\"name\":\"ColumnDataSource\",\"id\":\"p1035\",\"attributes\":{\"selected\":{\"type\":\"object\",\"name\":\"Selection\",\"id\":\"p1036\",\"attributes\":{\"indices\":[],\"line_indices\":[]}},\"selection_policy\":{\"type\":\"object\",\"name\":\"UnionRenderers\",\"id\":\"p1037\"},\"data\":{\"type\":\"map\",\"entries\":[[\"x_position\",[0.5,0.5,0.5]],[\"y_position\",[0,0.5,1]],[\"square_labels\",[\"Programmable Attenuator\",\"Signal Generator\",\"SkySim Controller 4\"]],[\"square_colours\",[\"grey\",\"grey\",\"grey\"]]]}}},\"view\":{\"type\":\"object\",\"name\":\"CDSView\",\"id\":\"p1049\",\"attributes\":{\"filter\":{\"type\":\"object\",\"name\":\"AllIndices\",\"id\":\"p1050\"}}},\"glyph\":{\"type\":\"object\",\"name\":\"Scatter\",\"id\":\"p1045\",\"attributes\":{\"x\":{\"type\":\"field\",\"field\":\"x_position\"},\"y\":{\"type\":\"field\",\"field\":\"y_position\"},\"size\":{\"type\":\"value\",\"value\":20},\"line_color\":{\"type\":\"field\",\"field\":\"square_colours\"},\"fill_color\":{\"type\":\"field\",\"field\":\"square_colours\"},\"hatch_color\":{\"type\":\"field\",\"field\":\"square_colours\"},\"marker\":{\"type\":\"value\",\"value\":\"square\"}}},\"nonselection_glyph\":{\"type\":\"object\",\"name\":\"Scatter\",\"id\":\"p1046\",\"attributes\":{\"x\":{\"type\":\"field\",\"field\":\"x_position\"},\"y\":{\"type\":\"field\",\"field\":\"y_position\"},\"size\":{\"type\":\"value\",\"value\":20},\"line_color\":{\"type\":\"field\",\"field\":\"square_colours\"},\"line_alpha\":{\"type\":\"value\",\"value\":0.1},\"fill_color\":{\"type\":\"field\",\"field\":\"square_colours\"},\"fill_alpha\":{\"type\":\"value\",\"value\":0.1},\"hatch_color\":{\"type\":\"field\",\"field\":\"square_colours\"},\"hatch_alpha\":{\"type\":\"value\",\"value\":0.1},\"marker\":{\"type\":\"value\",\"value\":\"square\"}}},\"muted_glyph\":{\"type\":\"object\",\"name\":\"Scatter\",\"id\":\"p1047\",\"attributes\":{\"x\":{\"type\":\"field\",\"field\":\"x_position\"},\"y\":{\"type\":\"field\",\"field\":\"y_position\"},\"size\":{\"type\":\"value\",\"value\":20},\"line_color\":{\"type\":\"field\",\"field\":\"square_colours\"},\"line_alpha\":{\"type\":\"value\",\"value\":0.2},\"fill_color\":{\"type\":\"field\",\"field\":\"square_colours\"},\"fill_alpha\":{\"type\":\"value\",\"value\":0.2},\"hatch_color\":{\"type\":\"field\",\"field\":\"square_colours\"},\"hatch_alpha\":{\"type\":\"value\",\"value\":0.2},\"marker\":{\"type\":\"value\",\"value\":\"square\"}}}}}],\"toolbar\":{\"type\":\"object\",\"name\":\"Toolbar\",\"id\":\"p1009\",\"attributes\":{\"tools\":[{\"type\":\"object\",\"name\":\"PanTool\",\"id\":\"p1024\"},{\"type\":\"object\",\"name\":\"WheelZoomTool\",\"id\":\"p1025\",\"attributes\":{\"renderers\":\"auto\"}},{\"type\":\"object\",\"name\":\"BoxZoomTool\",\"id\":\"p1026\",\"attributes\":{\"overlay\":{\"type\":\"object\",\"name\":\"BoxAnnotation\",\"id\":\"p1027\",\"attributes\":{\"syncable\":false,\"level\":\"overlay\",\"visible\":false,\"left\":{\"type\":\"number\",\"value\":\"nan\"},\"right\":{\"type\":\"number\",\"value\":\"nan\"},\"top\":{\"type\":\"number\",\"value\":\"nan\"},\"bottom\":{\"type\":\"number\",\"value\":\"nan\"},\"left_units\":\"canvas\",\"right_units\":\"canvas\",\"top_units\":\"canvas\",\"bottom_units\":\"canvas\",\"line_color\":\"black\",\"line_alpha\":1.0,\"line_width\":2,\"line_dash\":[4,4],\"fill_color\":\"lightgrey\",\"fill_alpha\":0.5}}}},{\"type\":\"object\",\"name\":\"SaveTool\",\"id\":\"p1032\"},{\"type\":\"object\",\"name\":\"ResetTool\",\"id\":\"p1033\"},{\"type\":\"object\",\"name\":\"HelpTool\",\"id\":\"p1034\"}]}},\"toolbar_location\":null,\"left\":[{\"type\":\"object\",\"name\":\"LinearAxis\",\"id\":\"p1019\",\"attributes\":{\"visible\":false,\"ticker\":{\"type\":\"object\",\"name\":\"BasicTicker\",\"id\":\"p1020\",\"attributes\":{\"mantissas\":[1,2,5]}},\"formatter\":{\"type\":\"object\",\"name\":\"BasicTickFormatter\",\"id\":\"p1021\"},\"major_label_policy\":{\"type\":\"object\",\"name\":\"AllLabels\",\"id\":\"p1022\"}}}],\"below\":[{\"type\":\"object\",\"name\":\"LinearAxis\",\"id\":\"p1014\",\"attributes\":{\"visible\":false,\"ticker\":{\"type\":\"object\",\"name\":\"BasicTicker\",\"id\":\"p1015\",\"attributes\":{\"mantissas\":[1,2,5]}},\"formatter\":{\"type\":\"object\",\"name\":\"BasicTickFormatter\",\"id\":\"p1016\"},\"major_label_policy\":{\"type\":\"object\",\"name\":\"AllLabels\",\"id\":\"p1017\"}}}],\"center\":[{\"type\":\"object\",\"name\":\"Grid\",\"id\":\"p1018\",\"attributes\":{\"visible\":false,\"axis\":{\"id\":\"p1014\"}}},{\"type\":\"object\",\"name\":\"Grid\",\"id\":\"p1023\",\"attributes\":{\"visible\":false,\"dimension\":1,\"axis\":{\"id\":\"p1019\"}}},{\"type\":\"object\",\"name\":\"LabelSet\",\"id\":\"p1038\",\"attributes\":{\"source\":{\"id\":\"p1035\"},\"x\":{\"type\":\"field\",\"field\":\"x_position\"},\"y\":{\"type\":\"field\",\"field\":\"y_position\"},\"text\":{\"type\":\"field\",\"field\":\"square_labels\"},\"x_offset\":{\"type\":\"value\",\"value\":-200},\"y_offset\":{\"type\":\"value\",\"value\":-10},\"text_color\":{\"type\":\"value\",\"value\":\"black\"},\"background_fill_color\":{\"type\":\"field\",\"field\":\"canvas\"}}}]}}]}};\n  const render_items = [{\"docid\":\"6d29ff17-a654-438d-831e-487b0a9d2ad5\",\"roots\":{\"p1001\":\"db571d73-d9b2-4401-b6ff-0e8958607ecb\"},\"root_ids\":[\"p1001\"],\"notebook_comms_target\":\"p1051\"}];\n  void root.Bokeh.embed.embed_items_notebook(docs_json, render_items);\n  }\n  if (root.Bokeh !== undefined) {\n    embed_document(root);\n  } else {\n    let attempts = 0;\n    const timer = setInterval(function(root) {\n      if (root.Bokeh !== undefined) {\n        clearInterval(timer);\n        embed_document(root);\n      } else {\n        attempts++;\n        if (attempts > 100) {\n          clearInterval(timer);\n          console.log(\"Bokeh: ERROR: Unable to run BokehJS code because BokehJS library is missing\");\n        }\n      }\n    }, 10, root)\n  }\n})(window);",
      "application/vnd.bokehjs_exec.v0+json": ""
     },
     "metadata": {
      "application/vnd.bokehjs_exec.v0+json": {
       "id": "p1001"
      }
     },
     "output_type": "display_data"
    },
    {
     "name": "stderr",
     "output_type": "stream",
     "text": [
      "ERROR:root:Unable to start subscription on sys/database/2 for state\n",
      "Traceback (most recent call last):\n",
      "  File \"/home/pieter/dev/ska-mid-jupyter-notebooks/src/ska_mid_jupyter_notebooks/monitoring/statemonitoring.py\", line 656, in start\n",
      "    self._sub_id = self._device_proxy.subscribe_event(\n",
      "  File \"/home/pieter/dev/ska-mid-jupyter-notebooks/.venv/lib/python3.10/site-packages/tango/green.py\", line 204, in greener\n",
      "    return executor.run(fn, args, kwargs, wait=wait, timeout=timeout)\n",
      "  File \"/home/pieter/dev/ska-mid-jupyter-notebooks/.venv/lib/python3.10/site-packages/tango/green.py\", line 112, in run\n",
      "    return fn(*args, **kwargs)\n",
      "  File \"/home/pieter/dev/ska-mid-jupyter-notebooks/.venv/lib/python3.10/site-packages/tango/device_proxy.py\", line 1327, in __DeviceProxy__subscribe_event\n",
      "    return __DeviceProxy__subscribe_event_attrib(self, *args, **kwargs)\n",
      "  File \"/home/pieter/dev/ska-mid-jupyter-notebooks/.venv/lib/python3.10/site-packages/tango/device_proxy.py\", line 1400, in __DeviceProxy__subscribe_event_attrib\n",
      "    event_id = self.__subscribe_event(\n",
      "PyTango.DevFailed: DevFailed[\n",
      "DevError[\n",
      "    desc = The polling (necessary to send events) for the attribute state is not started\n",
      "  origin = void Tango::DServer::event_subscription(Tango::DeviceImpl&, const string&, const string&, const string&, Tango::ChannelType, int) at (/usr/src/tango/cppapi/server/eventcmds.cpp:267)\n",
      "  reason = API_AttributePollingNotStarted\n",
      "severity = ERR]\n",
      "\n",
      "DevError[\n",
      "    desc = Failed to execute command_inout on device dserver/databaseds/2, command ZmqEventSubscriptionChange\n",
      "  origin = virtual Tango::DeviceData Tango::Connection::command_inout(const string&, const Tango::DeviceData&) at (/src/cppTango/cppapi/client/devapi_base.cpp:1338)\n",
      "  reason = API_CommandFailed\n",
      "severity = ERR]\n",
      "\n",
      "DevError[\n",
      "    desc = Device server send exception while trying to register event\n",
      "  origin = int Tango::EventConsumer::connect_event(Tango::DeviceProxy*, const string&, Tango::EventType, Tango::CallBack*, Tango::EventQueue*, const std::vector<std::basic_string<char> >&, std::string&, int) at (/src/cppTango/cppapi/client/event.cpp:1528)\n",
      "  reason = API_DSFailedRegisteringEvent\n",
      "severity = ERR]\n",
      "]\n",
      "\n",
      "During handling of the above exception, another exception occurred:\n",
      "\n",
      "Traceback (most recent call last):\n",
      "  File \"/home/pieter/dev/ska-mid-jupyter-notebooks/src/ska_mid_jupyter_notebooks/monitoring/statemonitoring.py\", line 666, in start\n",
      "    self._sub_id = self._device_proxy.subscribe_event(\n",
      "  File \"/home/pieter/dev/ska-mid-jupyter-notebooks/.venv/lib/python3.10/site-packages/tango/green.py\", line 204, in greener\n",
      "    return executor.run(fn, args, kwargs, wait=wait, timeout=timeout)\n",
      "  File \"/home/pieter/dev/ska-mid-jupyter-notebooks/.venv/lib/python3.10/site-packages/tango/green.py\", line 112, in run\n",
      "    return fn(*args, **kwargs)\n",
      "  File \"/home/pieter/dev/ska-mid-jupyter-notebooks/.venv/lib/python3.10/site-packages/tango/device_proxy.py\", line 1327, in __DeviceProxy__subscribe_event\n",
      "    return __DeviceProxy__subscribe_event_attrib(self, *args, **kwargs)\n",
      "  File \"/home/pieter/dev/ska-mid-jupyter-notebooks/.venv/lib/python3.10/site-packages/tango/device_proxy.py\", line 1400, in __DeviceProxy__subscribe_event_attrib\n",
      "    event_id = self.__subscribe_event(\n",
      "PyTango.DevFailed: DevFailed[\n",
      "DevError[\n",
      "    desc = The polling (necessary to send events) for the attribute state is not started\n",
      "  origin = void Tango::DServer::event_subscription(Tango::DeviceImpl&, const string&, const string&, const string&, Tango::ChannelType, int) at (/usr/src/tango/cppapi/server/eventcmds.cpp:267)\n",
      "  reason = API_AttributePollingNotStarted\n",
      "severity = ERR]\n",
      "\n",
      "DevError[\n",
      "    desc = Failed to execute command_inout on device dserver/databaseds/2, command ZmqEventSubscriptionChange\n",
      "  origin = virtual Tango::DeviceData Tango::Connection::command_inout(const string&, const Tango::DeviceData&) at (/src/cppTango/cppapi/client/devapi_base.cpp:1338)\n",
      "  reason = API_CommandFailed\n",
      "severity = ERR]\n",
      "\n",
      "DevError[\n",
      "    desc = Device server send exception while trying to register event\n",
      "  origin = int Tango::EventConsumer::connect_event(Tango::DeviceProxy*, const string&, Tango::EventType, Tango::CallBack*, Tango::EventQueue*, const std::vector<std::basic_string<char> >&, std::string&, int) at (/src/cppTango/cppapi/client/event.cpp:1528)\n",
      "  reason = API_DSFailedRegisteringEvent\n",
      "severity = ERR]\n",
      "]\n",
      "\n",
      "The above exception was the direct cause of the following exception:\n",
      "\n",
      "Traceback (most recent call last):\n",
      "  File \"/home/pieter/dev/ska-mid-jupyter-notebooks/src/ska_mid_jupyter_notebooks/monitoring/statemonitoring.py\", line 1075, in start_subscriptions\n",
      "    subscription.start(self)\n",
      "  File \"/home/pieter/dev/ska-mid-jupyter-notebooks/src/ska_mid_jupyter_notebooks/monitoring/statemonitoring.py\", line 670, in start\n",
      "    raise UnableToStartSubscription(\n",
      "ska_mid_jupyter_notebooks.monitoring.statemonitoring.UnableToStartSubscription: (DevError(desc = 'The polling (necessary to send events) for the attribute state is not started', origin = 'void Tango::DServer::event_subscription(Tango::DeviceImpl&, const string&, const string&, const string&, Tango::ChannelType, int) at (/usr/src/tango/cppapi/server/eventcmds.cpp:267)', reason = 'API_AttributePollingNotStarted', severity = tango._tango.ErrSeverity.ERR), DevError(desc = 'Failed to execute command_inout on device dserver/databaseds/2, command ZmqEventSubscriptionChange', origin = 'virtual Tango::DeviceData Tango::Connection::command_inout(const string&, const Tango::DeviceData&) at (/src/cppTango/cppapi/client/devapi_base.cpp:1338)', reason = 'API_CommandFailed', severity = tango._tango.ErrSeverity.ERR), DevError(desc = 'Device server send exception while trying to register event', origin = 'int Tango::EventConsumer::connect_event(Tango::DeviceProxy*, const string&, Tango::EventType, Tango::CallBack*, Tango::EventQueue*, const std::vector<std::basic_string<char> >&, std::string&, int) at (/src/cppTango/cppapi/client/event.cpp:1528)', reason = 'API_DSFailedRegisteringEvent', severity = tango._tango.ErrSeverity.ERR))\n"
     ]
    },
    {
     "name": "stdout",
     "output_type": "stream",
     "text": [
      "Warning: no polling setup for subscribing to sys/database/2 on state, setting a polling of 100ms in order to implement subscription.\n"
     ]
    },
    {
     "name": "stderr",
     "output_type": "stream",
     "text": [
      "BokehDeprecationWarning: 'square() method' was deprecated in Bokeh 3.4.0 and will be removed, use \"scatter(marker='square', ...) instead\" instead.\n"
     ]
    },
    {
     "name": "stderr",
     "output_type": "stream",
     "text": [
      "BokehDeprecationWarning: 'square() method' was deprecated in Bokeh 3.4.0 and will be removed, use \"scatter(marker='square', ...) instead\" instead.\n",
      "BokehDeprecationWarning: 'square() method' was deprecated in Bokeh 3.4.0 and will be removed, use \"scatter(marker='square', ...) instead\" instead.\n",
      "BokehDeprecationWarning: 'square() method' was deprecated in Bokeh 3.4.0 and will be removed, use \"scatter(marker='square', ...) instead\" instead.\n",
      "BokehDeprecationWarning: 'square() method' was deprecated in Bokeh 3.4.0 and will be removed, use \"scatter(marker='square', ...) instead\" instead.\n",
      "BokehDeprecationWarning: 'square() method' was deprecated in Bokeh 3.4.0 and will be removed, use \"scatter(marker='square', ...) instead\" instead.\n",
      "BokehDeprecationWarning: 'square() method' was deprecated in Bokeh 3.4.0 and will be removed, use \"scatter(marker='square', ...) instead\" instead.\n",
      "BokehDeprecationWarning: 'square() method' was deprecated in Bokeh 3.4.0 and will be removed, use \"scatter(marker='square', ...) instead\" instead.\n",
      "BokehDeprecationWarning: 'square() method' was deprecated in Bokeh 3.4.0 and will be removed, use \"scatter(marker='square', ...) instead\" instead.\n"
     ]
    }
   ],
   "source": [
    "from ska_mid_jupyter_notebooks.test_equipment.rendering import get_test_equipment_monitor_plot\n",
    "\n",
    "monitor_plot = get_test_equipment_monitor_plot()\n",
    "test_equipment_state.subscribe_to_test_equipment_state(monitor_plot.handle_device_state_change)\n",
    "output_notebook()\n",
    "monitor_plot.show()\n",
    "test_equipment_state.activate()"
   ]
  },
  {
   "cell_type": "markdown",
   "id": "e0d2410e",
   "metadata": {},
   "source": [
    "### 1.3 Display Test Equipment Device States "
   ]
  },
  {
   "cell_type": "code",
   "execution_count": 6,
   "id": "a3f65600",
   "metadata": {},
   "outputs": [
    {
     "data": {
      "text/plain": [
       "{'mid-itf/progattenuator/1:state': 'DISABLE',\n",
       " 'mid-itf/siggen/1:state': 'DISABLE',\n",
       " 'mid-itf/skysimctl/4:state': 'ON',\n",
       " 'mid-itf/spectana/1:state': 'DISABLE',\n",
       " 'sys/database/2:state': 'UNKNOWN',\n",
       " 'sys/tg_test/1:state': 'RUNNING'}"
      ]
     },
     "execution_count": 6,
     "metadata": {},
     "output_type": "execute_result"
    }
   ],
   "source": [
    "test_equipment_state.state[\"devices_states\"]"
   ]
  },
  {
   "cell_type": "markdown",
   "id": "c7aa1da8",
   "metadata": {},
   "source": [
    "### 1.4 Turn offline Test Equipment devices ON"
   ]
  },
  {
   "cell_type": "code",
   "execution_count": null,
   "id": "64ab9a73",
   "metadata": {},
   "outputs": [],
   "source": [
    "# set any offline devices to online\n",
    "for dev in [\n",
    "    test_equipment.__getattr__(test_equipment._replace(device))\n",
    "    for device in test_equipment.devices\n",
    "    if not (\"dserver\" in device)\n",
    "]:\n",
    "    if hasattr(dev, \"adminMode\"):\n",
    "        if dev.adminMode != 0:\n",
    "            dev.adminMode = 0"
   ]
  },
  {
   "cell_type": "markdown",
   "id": "911d2e77",
   "metadata": {},
   "source": [
    "### 1.5 Configure Signal Generator and set noise\n",
    "#### Correlated noise to be set to -132dbm/Hz\n",
    "from skysim description: The Correlated Noise source simulated the SKY noise received by the Dishes. The amplitude of the Correlated noise at the 8 outputs are in phase and amplitude can be variable over a range of 30 dB in 0.25 dB steps. The nominal Noise power at the output is -130 dBm/Hz. The Correlated noise source can be switch ON or OFF remotely."
   ]
  },
  {
   "cell_type": "markdown",
   "id": "d7419786",
   "metadata": {},
   "source": [
    "### Signal Generator does not need to be set for the configure scan test.  don't run"
   ]
  },
  {
   "cell_type": "code",
   "execution_count": null,
   "id": "cd167d6b",
   "metadata": {},
   "outputs": [],
   "source": [
    "frequency_to_set = 800e6\n",
    "\n",
    "signal_generator = test_equipment.mid_itf_siggen_1\n",
    "signal_generator.frequency = frequency_to_set\n",
    "time.sleep(1)\n",
    "assert (\n",
    "    signal_generator.frequency == frequency_to_set\n",
    "), f\"Frequency required is {frequency_to_set} but got {signal_generator.frequency}\""
   ]
  },
  {
   "cell_type": "markdown",
   "id": "217b9754",
   "metadata": {},
   "source": [
    "## Step 2\n",
    "\n",
    "### Use OSO scripting interface to TMC to run the script for assigning resources for a single sub-array, configuring and running a  scan.  \n",
    "\n",
    "Expected Result:"
   ]
  },
  {
   "cell_type": "markdown",
   "id": "00c14e14",
   "metadata": {},
   "source": [
    "### 2.1 Import dependencies"
   ]
  },
  {
   "cell_type": "code",
   "execution_count": 7,
   "id": "fefcd592",
   "metadata": {},
   "outputs": [],
   "source": [
    "import os\n",
    "\n",
    "from ska_oso_pdm.entities.common.target import (\n",
    "    CrossScanParameters,\n",
    "    FivePointParameters,\n",
    "    RasterParameters,\n",
    "    SinglePointParameters,\n",
    "    StarRasterParameters,\n",
    ")\n",
    "from ska_oso_scripting import oda_helper\n",
    "from ska_oso_scripting.objects import SubArray, Telescope\n",
    "from ska_tmc_cdm.messages.central_node.sdp import Channel\n",
    "from ska_tmc_cdm.messages.subarray_node.configure.core import ReceiverBand\n",
    "from tango import DeviceProxy\n",
    "\n",
    "from ska_mid_jupyter_notebooks.obsconfig.config import ObservationSB\n",
    "from ska_mid_jupyter_notebooks.obsconfig.target_spec import TargetSpec\n",
    "from ska_mid_jupyter_notebooks.sut.rendering import TelescopeMononitorPlot\n",
    "from ska_mid_jupyter_notebooks.sut.state import TelescopeDeviceModel, get_telescope_state"
   ]
  },
  {
   "cell_type": "markdown",
   "id": "5e7cbfcf",
   "metadata": {},
   "source": [
    "### 2.2 Initial Configuration\n",
    "Setup logging, tango DB connection, etc."
   ]
  },
  {
   "cell_type": "code",
   "execution_count": 8,
   "id": "e4f94827",
   "metadata": {},
   "outputs": [],
   "source": [
    "# we disable qa as it is not been properly verified\n",
    "disable_qa()\n",
    "enable_logging = True\n",
    "\n",
    "if enable_logging:\n",
    "    ska_ser_logging.configure_logging(logging.DEBUG)\n",
    "\n",
    "sut.smoke_test()\n",
    "for dish_cluster in dish_clusters:\n",
    "    dish_cluster.smoke_test()\n",
    "os.environ[\"TANGO_HOST\"] = sut.tango_host()"
   ]
  },
  {
   "cell_type": "markdown",
   "id": "dcc952f9",
   "metadata": {},
   "source": [
    "### 2.3 Setup ODA"
   ]
  },
  {
   "cell_type": "code",
   "execution_count": 9,
   "id": "750e478d",
   "metadata": {},
   "outputs": [
    {
     "name": "stdout",
     "output_type": "stream",
     "text": [
      "1|2024-04-15T12:04:45.934Z|DEBUG|MainThread|_new_conn|connectionpool.py#244||Starting new HTTP connection (1): ingress-nginx-controller-lb-default.ingress-nginx.svc.miditf.internal.skao.int:80\n",
      "1|2024-04-15T12:04:45.982Z|DEBUG|MainThread|_make_request|connectionpool.py#549||http://ingress-nginx-controller-lb-default.ingress-nginx.svc.miditf.internal.skao.int:80 \"POST /ska-db-oda/api/v1/ebs HTTP/1.1\" 200 256\n",
      "Execution Block ID: eb-miditf-20240415-00005\n"
     ]
    }
   ],
   "source": [
    "os.environ[\"ODA_URI\"] = (\n",
    "    \"http://ingress-nginx-controller-lb-default.ingress-nginx.svc.miditf.internal.skao.int/ska-db-oda/api/v1/\"\n",
    ")\n",
    "eb_id = oda_helper.create_eb()\n",
    "print(f\"Execution Block ID: {eb_id}\")"
   ]
  },
  {
   "cell_type": "markdown",
   "id": "e0308adb",
   "metadata": {},
   "source": [
    "### 2.4 Setup monitoring & plot"
   ]
  },
  {
   "cell_type": "code",
   "execution_count": 10,
   "id": "bff1ef18",
   "metadata": {},
   "outputs": [
    {
     "data": {
      "text/html": [
       "    <style>\n",
       "        .bk-notebook-logo {\n",
       "            display: block;\n",
       "            width: 20px;\n",
       "            height: 20px;\n",
       "            background-image: url(data:image/png;base64,iVBORw0KGgoAAAANSUhEUgAAABQAAAAUCAYAAACNiR0NAAAABHNCSVQICAgIfAhkiAAAAAlwSFlzAAALEgAACxIB0t1+/AAAABx0RVh0U29mdHdhcmUAQWRvYmUgRmlyZXdvcmtzIENTNui8sowAAAOkSURBVDiNjZRtaJVlGMd/1/08zzln5zjP1LWcU9N0NkN8m2CYjpgQYQXqSs0I84OLIC0hkEKoPtiH3gmKoiJDU7QpLgoLjLIQCpEsNJ1vqUOdO7ppbuec5+V+rj4ctwzd8IIbbi6u+8f1539dt3A78eXC7QizUF7gyV1fD1Yqg4JWz84yffhm0qkFqBogB9rM8tZdtwVsPUhWhGcFJngGeWrPzHm5oaMmkfEg1usvLFyc8jLRqDOMru7AyC8saQr7GG7f5fvDeH7Ej8CM66nIF+8yngt6HWaKh7k49Soy9nXurCi1o3qUbS3zWfrYeQDTB/Qj6kX6Ybhw4B+bOYoLKCC9H3Nu/leUTZ1JdRWkkn2ldcCamzrcf47KKXdAJllSlxAOkRgyHsGC/zRday5Qld9DyoM4/q/rUoy/CXh3jzOu3bHUVZeU+DEn8FInkPBFlu3+nW3Nw0mk6vCDiWg8CeJaxEwuHS3+z5RgY+YBR6V1Z1nxSOfoaPa4LASWxxdNp+VWTk7+4vzaou8v8PN+xo+KY2xsw6une2frhw05CTYOmQvsEhjhWjn0bmXPjpE1+kplmmkP3suftwTubK9Vq22qKmrBhpY4jvd5afdRA3wGjFAgcnTK2s4hY0/GPNIb0nErGMCRxWOOX64Z8RAC4oCXdklmEvcL8o0BfkNK4lUg9HTl+oPlQxdNo3Mg4Nv175e/1LDGzZen30MEjRUtmXSfiTVu1kK8W4txyV6BMKlbgk3lMwYCiusNy9fVfvvwMxv8Ynl6vxoByANLTWplvuj/nF9m2+PDtt1eiHPBr1oIfhCChQMBw6Aw0UulqTKZdfVvfG7VcfIqLG9bcldL/+pdWTLxLUy8Qq38heUIjh4XlzZxzQm19lLFlr8vdQ97rjZVOLf8nclzckbcD4wxXMidpX30sFd37Fv/GtwwhzhxGVAprjbg0gCAEeIgwCZyTV2Z1REEW8O4py0wsjeloKoMr6iCY6dP92H6Vw/oTyICIthibxjm/DfN9lVz8IqtqKYLUXfoKVMVQVVJOElGjrnnUt9T9wbgp8AyYKaGlqingHZU/uG2NTZSVqwHQTWkx9hxjkpWDaCg6Ckj5qebgBVbT3V3NNXMSiWSDdGV3hrtzla7J+duwPOToIg42ChPQOQjspnSlp1V+Gjdged7+8UN5CRAV7a5EdFNwCjEaBR27b3W890TE7g24NAP/mMDXRWrGoFPQI9ls/MWO2dWFAar/xcOIImbbpA3zgAAAABJRU5ErkJggg==);\n",
       "        }\n",
       "    </style>\n",
       "    <div>\n",
       "        <a href=\"https://bokeh.org\" target=\"_blank\" class=\"bk-notebook-logo\"></a>\n",
       "        <span id=\"fbb6e8f7-5aec-4019-930b-9281d94e8f41\">Loading BokehJS ...</span>\n",
       "    </div>\n"
      ]
     },
     "metadata": {},
     "output_type": "display_data"
    },
    {
     "data": {
      "application/javascript": "'use strict';\n(function(root) {\n  function now() {\n    return new Date();\n  }\n\n  const force = true;\n\n  if (typeof root._bokeh_onload_callbacks === \"undefined\" || force === true) {\n    root._bokeh_onload_callbacks = [];\n    root._bokeh_is_loading = undefined;\n  }\n\nconst JS_MIME_TYPE = 'application/javascript';\n  const HTML_MIME_TYPE = 'text/html';\n  const EXEC_MIME_TYPE = 'application/vnd.bokehjs_exec.v0+json';\n  const CLASS_NAME = 'output_bokeh rendered_html';\n\n  /**\n   * Render data to the DOM node\n   */\n  function render(props, node) {\n    const script = document.createElement(\"script\");\n    node.appendChild(script);\n  }\n\n  /**\n   * Handle when an output is cleared or removed\n   */\n  function handleClearOutput(event, handle) {\n    function drop(id) {\n      const view = Bokeh.index.get_by_id(id)\n      if (view != null) {\n        view.model.document.clear()\n        Bokeh.index.delete(view)\n      }\n    }\n\n    const cell = handle.cell;\n\n    const id = cell.output_area._bokeh_element_id;\n    const server_id = cell.output_area._bokeh_server_id;\n\n    // Clean up Bokeh references\n    if (id != null) {\n      drop(id)\n    }\n\n    if (server_id !== undefined) {\n      // Clean up Bokeh references\n      const cmd_clean = \"from bokeh.io.state import curstate; print(curstate().uuid_to_server['\" + server_id + \"'].get_sessions()[0].document.roots[0]._id)\";\n      cell.notebook.kernel.execute(cmd_clean, {\n        iopub: {\n          output: function(msg) {\n            const id = msg.content.text.trim()\n            drop(id)\n          }\n        }\n      });\n      // Destroy server and session\n      const cmd_destroy = \"import bokeh.io.notebook as ion; ion.destroy_server('\" + server_id + \"')\";\n      cell.notebook.kernel.execute(cmd_destroy);\n    }\n  }\n\n  /**\n   * Handle when a new output is added\n   */\n  function handleAddOutput(event, handle) {\n    const output_area = handle.output_area;\n    const output = handle.output;\n\n    // limit handleAddOutput to display_data with EXEC_MIME_TYPE content only\n    if ((output.output_type != \"display_data\") || (!Object.prototype.hasOwnProperty.call(output.data, EXEC_MIME_TYPE))) {\n      return\n    }\n\n    const toinsert = output_area.element.find(\".\" + CLASS_NAME.split(' ')[0]);\n\n    if (output.metadata[EXEC_MIME_TYPE][\"id\"] !== undefined) {\n      toinsert[toinsert.length - 1].firstChild.textContent = output.data[JS_MIME_TYPE];\n      // store reference to embed id on output_area\n      output_area._bokeh_element_id = output.metadata[EXEC_MIME_TYPE][\"id\"];\n    }\n    if (output.metadata[EXEC_MIME_TYPE][\"server_id\"] !== undefined) {\n      const bk_div = document.createElement(\"div\");\n      bk_div.innerHTML = output.data[HTML_MIME_TYPE];\n      const script_attrs = bk_div.children[0].attributes;\n      for (let i = 0; i < script_attrs.length; i++) {\n        toinsert[toinsert.length - 1].firstChild.setAttribute(script_attrs[i].name, script_attrs[i].value);\n        toinsert[toinsert.length - 1].firstChild.textContent = bk_div.children[0].textContent\n      }\n      // store reference to server id on output_area\n      output_area._bokeh_server_id = output.metadata[EXEC_MIME_TYPE][\"server_id\"];\n    }\n  }\n\n  function register_renderer(events, OutputArea) {\n\n    function append_mime(data, metadata, element) {\n      // create a DOM node to render to\n      const toinsert = this.create_output_subarea(\n        metadata,\n        CLASS_NAME,\n        EXEC_MIME_TYPE\n      );\n      this.keyboard_manager.register_events(toinsert);\n      // Render to node\n      const props = {data: data, metadata: metadata[EXEC_MIME_TYPE]};\n      render(props, toinsert[toinsert.length - 1]);\n      element.append(toinsert);\n      return toinsert\n    }\n\n    /* Handle when an output is cleared or removed */\n    events.on('clear_output.CodeCell', handleClearOutput);\n    events.on('delete.Cell', handleClearOutput);\n\n    /* Handle when a new output is added */\n    events.on('output_added.OutputArea', handleAddOutput);\n\n    /**\n     * Register the mime type and append_mime function with output_area\n     */\n    OutputArea.prototype.register_mime_type(EXEC_MIME_TYPE, append_mime, {\n      /* Is output safe? */\n      safe: true,\n      /* Index of renderer in `output_area.display_order` */\n      index: 0\n    });\n  }\n\n  // register the mime type if in Jupyter Notebook environment and previously unregistered\n  if (root.Jupyter !== undefined) {\n    const events = require('base/js/events');\n    const OutputArea = require('notebook/js/outputarea').OutputArea;\n\n    if (OutputArea.prototype.mime_types().indexOf(EXEC_MIME_TYPE) == -1) {\n      register_renderer(events, OutputArea);\n    }\n  }\n  if (typeof (root._bokeh_timeout) === \"undefined\" || force === true) {\n    root._bokeh_timeout = Date.now() + 5000;\n    root._bokeh_failed_load = false;\n  }\n\n  const NB_LOAD_WARNING = {'data': {'text/html':\n     \"<div style='background-color: #fdd'>\\n\"+\n     \"<p>\\n\"+\n     \"BokehJS does not appear to have successfully loaded. If loading BokehJS from CDN, this \\n\"+\n     \"may be due to a slow or bad network connection. Possible fixes:\\n\"+\n     \"</p>\\n\"+\n     \"<ul>\\n\"+\n     \"<li>re-rerun `output_notebook()` to attempt to load from CDN again, or</li>\\n\"+\n     \"<li>use INLINE resources instead, as so:</li>\\n\"+\n     \"</ul>\\n\"+\n     \"<code>\\n\"+\n     \"from bokeh.resources import INLINE\\n\"+\n     \"output_notebook(resources=INLINE)\\n\"+\n     \"</code>\\n\"+\n     \"</div>\"}};\n\n  function display_loaded(error = null) {\n    const el = document.getElementById(\"fbb6e8f7-5aec-4019-930b-9281d94e8f41\");\n    if (el != null) {\n      const html = (() => {\n        if (typeof root.Bokeh === \"undefined\") {\n          if (error == null) {\n            return \"BokehJS is loading ...\";\n          } else {\n            return \"BokehJS failed to load.\";\n          }\n        } else {\n          const prefix = `BokehJS ${root.Bokeh.version}`;\n          if (error == null) {\n            return `${prefix} successfully loaded.`;\n          } else {\n            return `${prefix} <b>encountered errors</b> while loading and may not function as expected.`;\n          }\n        }\n      })();\n      el.innerHTML = html;\n\n      if (error != null) {\n        const wrapper = document.createElement(\"div\");\n        wrapper.style.overflow = \"auto\";\n        wrapper.style.height = \"5em\";\n        wrapper.style.resize = \"vertical\";\n        const content = document.createElement(\"div\");\n        content.style.fontFamily = \"monospace\";\n        content.style.whiteSpace = \"pre-wrap\";\n        content.style.backgroundColor = \"rgb(255, 221, 221)\";\n        content.textContent = error.stack ?? error.toString();\n        wrapper.append(content);\n        el.append(wrapper);\n      }\n    } else if (Date.now() < root._bokeh_timeout) {\n      setTimeout(() => display_loaded(error), 100);\n    }\n  }\n\n  function run_callbacks() {\n    try {\n      root._bokeh_onload_callbacks.forEach(function(callback) {\n        if (callback != null)\n          callback();\n      });\n    } finally {\n      delete root._bokeh_onload_callbacks\n    }\n    console.debug(\"Bokeh: all callbacks have finished\");\n  }\n\n  function load_libs(css_urls, js_urls, callback) {\n    if (css_urls == null) css_urls = [];\n    if (js_urls == null) js_urls = [];\n\n    root._bokeh_onload_callbacks.push(callback);\n    if (root._bokeh_is_loading > 0) {\n      console.debug(\"Bokeh: BokehJS is being loaded, scheduling callback at\", now());\n      return null;\n    }\n    if (js_urls == null || js_urls.length === 0) {\n      run_callbacks();\n      return null;\n    }\n    console.debug(\"Bokeh: BokehJS not loaded, scheduling load and callback at\", now());\n    root._bokeh_is_loading = css_urls.length + js_urls.length;\n\n    function on_load() {\n      root._bokeh_is_loading--;\n      if (root._bokeh_is_loading === 0) {\n        console.debug(\"Bokeh: all BokehJS libraries/stylesheets loaded\");\n        run_callbacks()\n      }\n    }\n\n    function on_error(url) {\n      console.error(\"failed to load \" + url);\n    }\n\n    for (let i = 0; i < css_urls.length; i++) {\n      const url = css_urls[i];\n      const element = document.createElement(\"link\");\n      element.onload = on_load;\n      element.onerror = on_error.bind(null, url);\n      element.rel = \"stylesheet\";\n      element.type = \"text/css\";\n      element.href = url;\n      console.debug(\"Bokeh: injecting link tag for BokehJS stylesheet: \", url);\n      document.body.appendChild(element);\n    }\n\n    for (let i = 0; i < js_urls.length; i++) {\n      const url = js_urls[i];\n      const element = document.createElement('script');\n      element.onload = on_load;\n      element.onerror = on_error.bind(null, url);\n      element.async = false;\n      element.src = url;\n      console.debug(\"Bokeh: injecting script tag for BokehJS library: \", url);\n      document.head.appendChild(element);\n    }\n  };\n\n  function inject_raw_css(css) {\n    const element = document.createElement(\"style\");\n    element.appendChild(document.createTextNode(css));\n    document.body.appendChild(element);\n  }\n\n  const js_urls = [\"https://cdn.bokeh.org/bokeh/release/bokeh-3.4.0.min.js\", \"https://cdn.bokeh.org/bokeh/release/bokeh-gl-3.4.0.min.js\", \"https://cdn.bokeh.org/bokeh/release/bokeh-widgets-3.4.0.min.js\", \"https://cdn.bokeh.org/bokeh/release/bokeh-tables-3.4.0.min.js\", \"https://cdn.bokeh.org/bokeh/release/bokeh-mathjax-3.4.0.min.js\"];\n  const css_urls = [];\n\n  const inline_js = [    function(Bokeh) {\n      Bokeh.set_log_level(\"info\");\n    },\nfunction(Bokeh) {\n    }\n  ];\n\n  function run_inline_js() {\n    if (root.Bokeh !== undefined || force === true) {\n      try {\n            for (let i = 0; i < inline_js.length; i++) {\n      inline_js[i].call(root, root.Bokeh);\n    }\n\n      } catch (error) {display_loaded(error);throw error;\n      }if (force === true) {\n        display_loaded();\n      }} else if (Date.now() < root._bokeh_timeout) {\n      setTimeout(run_inline_js, 100);\n    } else if (!root._bokeh_failed_load) {\n      console.log(\"Bokeh: BokehJS failed to load within specified timeout.\");\n      root._bokeh_failed_load = true;\n    } else if (force !== true) {\n      const cell = $(document.getElementById(\"fbb6e8f7-5aec-4019-930b-9281d94e8f41\")).parents('.cell').data().cell;\n      cell.output_area.append_execute_result(NB_LOAD_WARNING)\n    }\n  }\n\n  if (root._bokeh_is_loading === 0) {\n    console.debug(\"Bokeh: BokehJS loaded, going straight to plotting\");\n    run_inline_js();\n  } else {\n    load_libs(css_urls, js_urls, function() {\n      console.debug(\"Bokeh: BokehJS plotting callback run at\", now());\n      run_inline_js();\n    });\n  }\n}(window));",
      "application/vnd.bokehjs_load.v0+json": ""
     },
     "metadata": {},
     "output_type": "display_data"
    }
   ],
   "source": [
    "# setup monitoring\n",
    "# use telescope state object for state monitoring\n",
    "device_model = TelescopeDeviceModel(dish_ids, subarray_count)\n",
    "telescope_state = get_telescope_state(device_model, sut)\n",
    "# use monitor plot as a dashboard\n",
    "telescope_monitor_plot = TelescopeMononitorPlot(plot_width=900, plot_height=200)\n",
    "# set up events to monitor\n",
    "telescope_state.subscribe_to_on_off(telescope_monitor_plot.observe_telescope_on_off)\n",
    "telescope_state.subscribe_to_subarray_resource_state(\n",
    "    telescope_monitor_plot.observe_subarray_resources_state\n",
    ")\n",
    "telescope_state.subscribe_to_subarray_configurational_state(\n",
    "    telescope_monitor_plot.observe_subarray_configuration_state\n",
    ")\n",
    "telescope_state.subscribe_to_subarray_scanning_state(\n",
    "    telescope_monitor_plot.observe_subarray_scanning_state\n",
    ")\n",
    "output_notebook()"
   ]
  },
  {
   "cell_type": "markdown",
   "id": "5e1a83fa",
   "metadata": {},
   "source": [
    "### 2.5 Open the inline dashboard\n",
    "Start the simple inline dashboard showing current state of the Telescope and resource assignment and configuration status."
   ]
  },
  {
   "cell_type": "code",
   "execution_count": 11,
   "id": "ba90fbe5",
   "metadata": {},
   "outputs": [
    {
     "name": "stderr",
     "output_type": "stream",
     "text": [
      "BokehDeprecationWarning: 'square() method' was deprecated in Bokeh 3.4.0 and will be removed, use \"scatter(marker='square', ...) instead\" instead.\n"
     ]
    },
    {
     "data": {
      "text/html": [
       "\n",
       "  <div id=\"ff59133f-598a-48f6-8e8f-e2e6a50b70e3\" data-root-id=\"p1142\" style=\"display: contents;\"></div>\n"
      ]
     },
     "metadata": {},
     "output_type": "display_data"
    },
    {
     "data": {
      "application/javascript": "(function(root) {\n  function embed_document(root) {\n  const docs_json = {\"2805d511-9e70-49ef-aef8-7156f2c708c0\":{\"version\":\"3.4.0\",\"title\":\"Bokeh Application\",\"roots\":[{\"type\":\"object\",\"name\":\"Figure\",\"id\":\"p1142\",\"attributes\":{\"width\":900,\"height\":200,\"x_range\":{\"type\":\"object\",\"name\":\"Range1d\",\"id\":\"p1151\",\"attributes\":{\"start\":-0.5,\"end\":1.5}},\"y_range\":{\"type\":\"object\",\"name\":\"Range1d\",\"id\":\"p1152\",\"attributes\":{\"start\":-0.5,\"end\":1.5}},\"x_scale\":{\"type\":\"object\",\"name\":\"LinearScale\",\"id\":\"p1153\"},\"y_scale\":{\"type\":\"object\",\"name\":\"LinearScale\",\"id\":\"p1154\"},\"title\":{\"type\":\"object\",\"name\":\"Title\",\"id\":\"p1149\"},\"renderers\":[{\"type\":\"object\",\"name\":\"GlyphRenderer\",\"id\":\"p1189\",\"attributes\":{\"data_source\":{\"type\":\"object\",\"name\":\"ColumnDataSource\",\"id\":\"p1176\",\"attributes\":{\"selected\":{\"type\":\"object\",\"name\":\"Selection\",\"id\":\"p1177\",\"attributes\":{\"indices\":[],\"line_indices\":[]}},\"selection_policy\":{\"type\":\"object\",\"name\":\"UnionRenderers\",\"id\":\"p1178\"},\"data\":{\"type\":\"map\",\"entries\":[[\"x_position\",[0.5,0.5,0.5,0.5]],[\"y_position\",[0,0.33,0.67,1]],[\"square_labels\",[\"On/Off\",\"Resources Assigned?\",\"Subarray Configured?\",\"Subarray Scanning?\"]],[\"square_colours\",[\"darkmagenta\",\"darkmagenta\",\"darkmagenta\",\"darkmagenta\"]]]}}},\"view\":{\"type\":\"object\",\"name\":\"CDSView\",\"id\":\"p1190\",\"attributes\":{\"filter\":{\"type\":\"object\",\"name\":\"AllIndices\",\"id\":\"p1191\"}}},\"glyph\":{\"type\":\"object\",\"name\":\"Scatter\",\"id\":\"p1186\",\"attributes\":{\"x\":{\"type\":\"field\",\"field\":\"x_position\"},\"y\":{\"type\":\"field\",\"field\":\"y_position\"},\"size\":{\"type\":\"value\",\"value\":20},\"line_color\":{\"type\":\"field\",\"field\":\"square_colours\"},\"fill_color\":{\"type\":\"field\",\"field\":\"square_colours\"},\"hatch_color\":{\"type\":\"field\",\"field\":\"square_colours\"},\"marker\":{\"type\":\"value\",\"value\":\"square\"}}},\"nonselection_glyph\":{\"type\":\"object\",\"name\":\"Scatter\",\"id\":\"p1187\",\"attributes\":{\"x\":{\"type\":\"field\",\"field\":\"x_position\"},\"y\":{\"type\":\"field\",\"field\":\"y_position\"},\"size\":{\"type\":\"value\",\"value\":20},\"line_color\":{\"type\":\"field\",\"field\":\"square_colours\"},\"line_alpha\":{\"type\":\"value\",\"value\":0.1},\"fill_color\":{\"type\":\"field\",\"field\":\"square_colours\"},\"fill_alpha\":{\"type\":\"value\",\"value\":0.1},\"hatch_color\":{\"type\":\"field\",\"field\":\"square_colours\"},\"hatch_alpha\":{\"type\":\"value\",\"value\":0.1},\"marker\":{\"type\":\"value\",\"value\":\"square\"}}},\"muted_glyph\":{\"type\":\"object\",\"name\":\"Scatter\",\"id\":\"p1188\",\"attributes\":{\"x\":{\"type\":\"field\",\"field\":\"x_position\"},\"y\":{\"type\":\"field\",\"field\":\"y_position\"},\"size\":{\"type\":\"value\",\"value\":20},\"line_color\":{\"type\":\"field\",\"field\":\"square_colours\"},\"line_alpha\":{\"type\":\"value\",\"value\":0.2},\"fill_color\":{\"type\":\"field\",\"field\":\"square_colours\"},\"fill_alpha\":{\"type\":\"value\",\"value\":0.2},\"hatch_color\":{\"type\":\"field\",\"field\":\"square_colours\"},\"hatch_alpha\":{\"type\":\"value\",\"value\":0.2},\"marker\":{\"type\":\"value\",\"value\":\"square\"}}}}}],\"toolbar\":{\"type\":\"object\",\"name\":\"Toolbar\",\"id\":\"p1150\",\"attributes\":{\"tools\":[{\"type\":\"object\",\"name\":\"PanTool\",\"id\":\"p1165\"},{\"type\":\"object\",\"name\":\"WheelZoomTool\",\"id\":\"p1166\",\"attributes\":{\"renderers\":\"auto\"}},{\"type\":\"object\",\"name\":\"BoxZoomTool\",\"id\":\"p1167\",\"attributes\":{\"overlay\":{\"type\":\"object\",\"name\":\"BoxAnnotation\",\"id\":\"p1168\",\"attributes\":{\"syncable\":false,\"level\":\"overlay\",\"visible\":false,\"left\":{\"type\":\"number\",\"value\":\"nan\"},\"right\":{\"type\":\"number\",\"value\":\"nan\"},\"top\":{\"type\":\"number\",\"value\":\"nan\"},\"bottom\":{\"type\":\"number\",\"value\":\"nan\"},\"left_units\":\"canvas\",\"right_units\":\"canvas\",\"top_units\":\"canvas\",\"bottom_units\":\"canvas\",\"line_color\":\"black\",\"line_alpha\":1.0,\"line_width\":2,\"line_dash\":[4,4],\"fill_color\":\"lightgrey\",\"fill_alpha\":0.5}}}},{\"type\":\"object\",\"name\":\"SaveTool\",\"id\":\"p1173\"},{\"type\":\"object\",\"name\":\"ResetTool\",\"id\":\"p1174\"},{\"type\":\"object\",\"name\":\"HelpTool\",\"id\":\"p1175\"}]}},\"toolbar_location\":null,\"left\":[{\"type\":\"object\",\"name\":\"LinearAxis\",\"id\":\"p1160\",\"attributes\":{\"visible\":false,\"ticker\":{\"type\":\"object\",\"name\":\"BasicTicker\",\"id\":\"p1161\",\"attributes\":{\"mantissas\":[1,2,5]}},\"formatter\":{\"type\":\"object\",\"name\":\"BasicTickFormatter\",\"id\":\"p1162\"},\"major_label_policy\":{\"type\":\"object\",\"name\":\"AllLabels\",\"id\":\"p1163\"}}}],\"below\":[{\"type\":\"object\",\"name\":\"LinearAxis\",\"id\":\"p1155\",\"attributes\":{\"visible\":false,\"ticker\":{\"type\":\"object\",\"name\":\"BasicTicker\",\"id\":\"p1156\",\"attributes\":{\"mantissas\":[1,2,5]}},\"formatter\":{\"type\":\"object\",\"name\":\"BasicTickFormatter\",\"id\":\"p1157\"},\"major_label_policy\":{\"type\":\"object\",\"name\":\"AllLabels\",\"id\":\"p1158\"}}}],\"center\":[{\"type\":\"object\",\"name\":\"Grid\",\"id\":\"p1159\",\"attributes\":{\"visible\":false,\"axis\":{\"id\":\"p1155\"}}},{\"type\":\"object\",\"name\":\"Grid\",\"id\":\"p1164\",\"attributes\":{\"visible\":false,\"dimension\":1,\"axis\":{\"id\":\"p1160\"}}},{\"type\":\"object\",\"name\":\"LabelSet\",\"id\":\"p1179\",\"attributes\":{\"source\":{\"id\":\"p1176\"},\"x\":{\"type\":\"field\",\"field\":\"x_position\"},\"y\":{\"type\":\"field\",\"field\":\"y_position\"},\"text\":{\"type\":\"field\",\"field\":\"square_labels\"},\"x_offset\":{\"type\":\"value\",\"value\":-200},\"y_offset\":{\"type\":\"value\",\"value\":-10},\"text_color\":{\"type\":\"value\",\"value\":\"black\"},\"background_fill_color\":{\"type\":\"field\",\"field\":\"canvas\"}}}]}}]}};\n  const render_items = [{\"docid\":\"2805d511-9e70-49ef-aef8-7156f2c708c0\",\"roots\":{\"p1142\":\"ff59133f-598a-48f6-8e8f-e2e6a50b70e3\"},\"root_ids\":[\"p1142\"],\"notebook_comms_target\":\"p1192\"}];\n  void root.Bokeh.embed.embed_items_notebook(docs_json, render_items);\n  }\n  if (root.Bokeh !== undefined) {\n    embed_document(root);\n  } else {\n    let attempts = 0;\n    const timer = setInterval(function(root) {\n      if (root.Bokeh !== undefined) {\n        clearInterval(timer);\n        embed_document(root);\n      } else {\n        attempts++;\n        if (attempts > 100) {\n          clearInterval(timer);\n          console.log(\"Bokeh: ERROR: Unable to run BokehJS code because BokehJS library is missing\");\n        }\n      }\n    }, 10, root)\n  }\n})(window);",
      "application/vnd.bokehjs_exec.v0+json": ""
     },
     "metadata": {
      "application/vnd.bokehjs_exec.v0+json": {
       "id": "p1142"
      }
     },
     "output_type": "display_data"
    },
    {
     "name": "stderr",
     "output_type": "stream",
     "text": [
      "BokehDeprecationWarning: 'square() method' was deprecated in Bokeh 3.4.0 and will be removed, use \"scatter(marker='square', ...) instead\" instead.\n",
      "BokehDeprecationWarning: 'square() method' was deprecated in Bokeh 3.4.0 and will be removed, use \"scatter(marker='square', ...) instead\" instead.\n"
     ]
    },
    {
     "name": "stderr",
     "output_type": "stream",
     "text": [
      "BokehDeprecationWarning: 'square() method' was deprecated in Bokeh 3.4.0 and will be removed, use \"scatter(marker='square', ...) instead\" instead.\n"
     ]
    }
   ],
   "source": [
    "telescope_monitor_plot.show()\n",
    "telescope_state.activate()\n",
    "telescope_state.wait_til_ready(2)"
   ]
  },
  {
   "cell_type": "markdown",
   "id": "c27d6ff7",
   "metadata": {},
   "source": [
    "### 2.6 Display Telescope State"
   ]
  },
  {
   "cell_type": "code",
   "execution_count": 12,
   "id": "b0188657",
   "metadata": {},
   "outputs": [
    {
     "data": {
      "text/plain": [
       "{'devices_states': {'ska_mid/tm_central/central_node:state': 'ON',\n",
       "  'ska_mid/tm_subarray_node/1:state': 'ON',\n",
       "  'ska_mid/tm_leaf_node/csp_master:state': 'ON',\n",
       "  'ska_mid/tm_leaf_node/sdp_master:state': 'ON',\n",
       "  'ska_mid/tm_leaf_node/csp_subarray01:state': 'ON',\n",
       "  'ska_mid/tm_leaf_node/sdp_subarray01:state': 'ON',\n",
       "  'ska_mid/tm_leaf_node/d0001:state': 'ON',\n",
       "  'ska_mid/tm_leaf_node/d0036:state': 'ON',\n",
       "  'ska_mid/tm_central/central_node:telescopestate': 'UNKNOWN',\n",
       "  'mid-csp/control/0:state': 'UNKNOWN',\n",
       "  'mid-csp/subarray/01:state': 'UNKNOWN',\n",
       "  'ska_mid/tm_subarray_node/1:obsstate': 'UNKNOWN',\n",
       "  'mid-csp/subarray/01:obsstate': 'UNKNOWN',\n",
       "  'mid-sdp/control/0:state': 'UNKNOWN',\n",
       "  'mid-sdp/subarray/01:state': 'UNKNOWN'}}"
      ]
     },
     "execution_count": 12,
     "metadata": {},
     "output_type": "execute_result"
    }
   ],
   "source": [
    "telescope_state.state"
   ]
  },
  {
   "cell_type": "markdown",
   "id": "2b598fc9",
   "metadata": {},
   "source": [
    "### 2.7 Initialise Telescope and Subarray\n",
    "Create Subarray and Telescope instances."
   ]
  },
  {
   "cell_type": "code",
   "execution_count": 13,
   "id": "1b2e9941",
   "metadata": {},
   "outputs": [],
   "source": [
    "sub = SubArray(subarray_id)\n",
    "tel = Telescope()"
   ]
  },
  {
   "cell_type": "markdown",
   "id": "2271a3b8",
   "metadata": {},
   "source": [
    "### 2.9 Reset the Telescope/Subarray\n",
    "Set booleans to True to reset the system after a failed execution."
   ]
  },
  {
   "cell_type": "code",
   "execution_count": null,
   "id": "f1055b6f",
   "metadata": {},
   "outputs": [],
   "source": [
    "do_reset_subarray = False\n",
    "do_reset_csp_subarray = False\n",
    "do_reset_dish = False\n",
    "\n",
    "if do_reset_subarray:\n",
    "    sub.abort()\n",
    "    time.sleep(3)\n",
    "    sub.restart()\n",
    "\n",
    "if do_reset_csp_subarray:\n",
    "    sut.reset_csp_subarray()\n",
    "\n",
    "if do_reset_dish:\n",
    "    for dish_cluster in dish_clusters:\n",
    "        dish_cluster.reset_dish()"
   ]
  },
  {
   "cell_type": "markdown",
   "id": "3db487bd",
   "metadata": {},
   "source": [
    "### 2.10 Turn CSP ON if it is OFF"
   ]
  },
  {
   "cell_type": "code",
   "execution_count": 14,
   "id": "37bc04ca",
   "metadata": {},
   "outputs": [],
   "source": [
    "# Check if the telescope is currently OFF and update monitor appropriately\n",
    "if telescope_monitor_plot.on_off_state == \"OFF\":  # e.g. purple\n",
    "    sut.turn_csp_on()"
   ]
  },
  {
   "cell_type": "markdown",
   "id": "8c243732",
   "metadata": {},
   "source": [
    "#### Print out Dish Modes and Component States"
   ]
  },
  {
   "cell_type": "code",
   "execution_count": 15,
   "id": "5f5513d7",
   "metadata": {},
   "outputs": [
    {
     "name": "stdout",
     "output_type": "stream",
     "text": [
      "ska001 ComponentStates: \"{'SPF': {'operatingmode': <SPFOperatingMode.STANDBY_LP: 2>, 'powerstate': <SPFPowerState.LOW_POWER: 1>, 'healthstate': <HealthState.UNKNOWN: 3>, 'bandinfocus': <BandInFocus.UNKNOWN: 0>, 'b1capabilitystate': <SPFCapabilityStates.STANDBY: 1>, 'b2capabilitystate': <SPFCapabilityStates.STANDBY: 1>, 'b3capabilitystate': <SPFCapabilityStates.STANDBY: 1>, 'b4capabilitystate': <SPFCapabilityStates.STANDBY: 1>, 'b5acapabilitystate': <SPFCapabilityStates.STANDBY: 1>, 'b5bcapabilitystate': <SPFCapabilityStates.STANDBY: 1>}, 'DS': {'healthstate': <HealthState.UNKNOWN: 3>, 'operatingmode': <DSOperatingMode.STANDBY_LP: 2>, 'pointingstate': <PointingState.READY: 0>, 'achievedtargetlock': None, 'indexerposition': <IndexerPosition.B2: 2>, 'powerstate': <DSPowerState.LOW_POWER: 3>, 'desiredpointingaz': [1713181000.0, 0.0], 'desiredpointingel': [1713181000.0, 0.0], 'achievedpointing': [1713181000.0, 0.0, 85.0], 'achievedpointingaz': [1713181000.0, 0.0], 'achievedpointingel': [1713181000.0, 85.0], 'band2pointingmodelparams': [0.0, 0.0, 0.0, 0.0, 0.0, 0.0, 0.0, 0.0, 0.0, 0.0, 0.0, 0.0, 0.0, 0.0, 0.0, 0.0, 0.0, 0.0, 0.0, 0.0], 'trackinterpolationmode': <TrackInterpolationMode.SPLINE: 1>}, 'SPFRX': {'operatingmode': <SPFRxOperatingMode.STANDBY: 2>, 'configuredband': <Band.NONE: 0>, 'capturingdata': False, 'healthstate': <HealthState.UNKNOWN: 3>, 'attenuationpolh': 0.0, 'attenuationpolv': 0.0, 'kvalue': 0, 'b1capabilitystate': <SPFRxCapabilityStates.STANDBY: 2>, 'b2capabilitystate': <SPFRxCapabilityStates.STANDBY: 2>, 'b3capabilitystate': <SPFRxCapabilityStates.STANDBY: 2>, 'b4capabilitystate': <SPFRxCapabilityStates.STANDBY: 2>, 'b5acapabilitystate': <SPFRxCapabilityStates.STANDBY: 2>, 'b5bcapabilitystate': <SPFRxCapabilityStates.STANDBY: 2>}, 'DM': {'dishmode': <DishMode.STANDBY_LP: 2>, 'capturing': False, 'healthstate': <HealthState.UNKNOWN: 3>, 'pointingstate': <PointingState.READY: 0>, 'b1capabilitystate': <CapabilityStates.STANDBY: 1>, 'b2capabilitystate': <CapabilityStates.STANDBY: 1>, 'b3capabilitystate': <CapabilityStates.STANDBY: 1>, 'b4capabilitystate': <CapabilityStates.STANDBY: 1>, 'b5acapabilitystate': <CapabilityStates.STANDBY: 1>, 'b5bcapabilitystate': <CapabilityStates.STANDBY: 1>, 'achievedtargetlock': False, 'desiredpointingaz': [1713181000.0, 0.0], 'desiredpointingel': [1713181000.0, 0.0], 'achievedpointing': [1713181000.0, 0.0, 85.0], 'achievedpointingaz': [1713181000.0, 0.0], 'achievedpointingel': [1713181000.0, 85.0], 'configuredband': <Band.NONE: 0>, 'attenuationpolh': 0.0, 'attenuationpolv': 0.0, 'kvalue': 0, 'scanid': '', 'spfconnectionstate': <CommunicationStatus.ESTABLISHED: 2>, 'spfrxconnectionstate': <CommunicationStatus.ESTABLISHED: 2>, 'dsconnectionstate': <CommunicationStatus.ESTABLISHED: 2>, 'band2pointingmodelparams': [0.0, 0.0, 0.0, 0.0, 0.0, 0.0, 0.0, 0.0, 0.0, 0.0, 0.0, 0.0, 0.0, 0.0, 0.0, 0.0, 0.0, 0.0, 0.0, 0.0], 'trackinterpolationmode': None}}\"\n",
      "ska001 DishMode: 2\n",
      "ska036 ComponentStates: \"{'SPF': {'operatingmode': <SPFOperatingMode.STANDBY_LP: 2>, 'powerstate': <SPFPowerState.LOW_POWER: 1>, 'healthstate': <HealthState.UNKNOWN: 3>, 'bandinfocus': <BandInFocus.UNKNOWN: 0>, 'b1capabilitystate': <SPFCapabilityStates.STANDBY: 1>, 'b2capabilitystate': <SPFCapabilityStates.STANDBY: 1>, 'b3capabilitystate': <SPFCapabilityStates.STANDBY: 1>, 'b4capabilitystate': <SPFCapabilityStates.STANDBY: 1>, 'b5acapabilitystate': <SPFCapabilityStates.STANDBY: 1>, 'b5bcapabilitystate': <SPFCapabilityStates.STANDBY: 1>}, 'DS': {'healthstate': <HealthState.UNKNOWN: 3>, 'operatingmode': <DSOperatingMode.STANDBY_LP: 2>, 'pointingstate': <PointingState.READY: 0>, 'achievedtargetlock': None, 'indexerposition': <IndexerPosition.B2: 2>, 'powerstate': <DSPowerState.LOW_POWER: 3>, 'desiredpointingaz': [1713181200.0, 0.0], 'desiredpointingel': [1713181200.0, 0.0], 'achievedpointing': [1713181200.0, 0.0, 85.0], 'achievedpointingaz': [1713181200.0, 0.0], 'achievedpointingel': [1713181200.0, 85.0], 'band2pointingmodelparams': [0.0, 0.0, 0.0, 0.0, 0.0, 0.0, 0.0, 0.0, 0.0, 0.0, 0.0, 0.0, 0.0, 0.0, 0.0, 0.0, 0.0, 0.0, 0.0, 0.0], 'trackinterpolationmode': <TrackInterpolationMode.SPLINE: 1>}, 'SPFRX': {'operatingmode': <SPFRxOperatingMode.STANDBY: 2>, 'configuredband': <Band.NONE: 0>, 'capturingdata': False, 'healthstate': <HealthState.UNKNOWN: 3>, 'attenuationpolh': 0.0, 'attenuationpolv': 0.0, 'kvalue': 0, 'b1capabilitystate': <SPFRxCapabilityStates.STANDBY: 2>, 'b2capabilitystate': <SPFRxCapabilityStates.STANDBY: 2>, 'b3capabilitystate': <SPFRxCapabilityStates.STANDBY: 2>, 'b4capabilitystate': <SPFRxCapabilityStates.STANDBY: 2>, 'b5acapabilitystate': <SPFRxCapabilityStates.STANDBY: 2>, 'b5bcapabilitystate': <SPFRxCapabilityStates.STANDBY: 2>}, 'DM': {'dishmode': <DishMode.STANDBY_LP: 2>, 'capturing': False, 'healthstate': <HealthState.UNKNOWN: 3>, 'pointingstate': <PointingState.READY: 0>, 'b1capabilitystate': <CapabilityStates.STANDBY: 1>, 'b2capabilitystate': <CapabilityStates.STANDBY: 1>, 'b3capabilitystate': <CapabilityStates.STANDBY: 1>, 'b4capabilitystate': <CapabilityStates.STANDBY: 1>, 'b5acapabilitystate': <CapabilityStates.STANDBY: 1>, 'b5bcapabilitystate': <CapabilityStates.STANDBY: 1>, 'achievedtargetlock': False, 'desiredpointingaz': [1713181200.0, 0.0], 'desiredpointingel': [1713181200.0, 0.0], 'achievedpointing': [1713181200.0, 0.0, 85.0], 'achievedpointingaz': [1713181200.0, 0.0], 'achievedpointingel': [1713181200.0, 85.0], 'configuredband': <Band.NONE: 0>, 'attenuationpolh': 0.0, 'attenuationpolv': 0.0, 'kvalue': 0, 'scanid': '', 'spfconnectionstate': <CommunicationStatus.ESTABLISHED: 2>, 'spfrxconnectionstate': <CommunicationStatus.ESTABLISHED: 2>, 'dsconnectionstate': <CommunicationStatus.ESTABLISHED: 2>, 'band2pointingmodelparams': [0.0, 0.0, 0.0, 0.0, 0.0, 0.0, 0.0, 0.0, 0.0, 0.0, 0.0, 0.0, 0.0, 0.0, 0.0, 0.0, 0.0, 0.0, 0.0, 0.0], 'trackinterpolationmode': None}}\"\n",
      "ska036 DishMode: 2\n"
     ]
    }
   ],
   "source": [
    "for dish_cluster in dish_clusters:\n",
    "    dish_cluster.print_component_states()"
   ]
  },
  {
   "cell_type": "markdown",
   "id": "a533faaa",
   "metadata": {},
   "source": [
    "### 2.11 Turn telescope ON"
   ]
  },
  {
   "cell_type": "markdown",
   "id": "1339b67c",
   "metadata": {},
   "source": [
    "#### Load Dish-VCC Configuration in TMC"
   ]
  },
  {
   "cell_type": "code",
   "execution_count": 16,
   "id": "0ee23511",
   "metadata": {},
   "outputs": [
    {
     "name": "stdout",
     "output_type": "stream",
     "text": [
      "{\"interface\": \"https://schema.skao.int/ska-mid-cbf-initsysparam/1.0\", \"tm_data_sources\": [\"car://gitlab.com/ska-telescope/ska-telmodel-data?main#tmdata\"], \"tm_data_filepath\": \"instrument/ska1_mid_psi/ska-mid-cbf-system-parameters.json\"}\n",
      "{\"interface\": \"https://schema.skao.int/ska-mid-cbf-initsysparam/1.0\", \"dish_parameters\": {\"SKA001\": {\"vcc\": 1, \"k\": 100}, \"SKA036\": {\"vcc\": 2, \"k\": 618}, \"SKA063\": {\"vcc\": 3, \"k\": 1220}, \"SKA100\": {\"vcc\": 4, \"k\": 1815}}}\n"
     ]
    }
   ],
   "source": [
    "sut.load_dish_cfg()"
   ]
  },
  {
   "cell_type": "code",
   "execution_count": 17,
   "id": "1b2b2a0f",
   "metadata": {},
   "outputs": [
    {
     "name": "stdout",
     "output_type": "stream",
     "text": [
      "1|2024-04-15T12:05:30.808Z|DEBUG|MainThread|wrapper|oda_helper.py#244||Capturing the request function telescope_on in an ExecutionBlock\n",
      "1|2024-04-15T12:05:30.810Z|INFO|MainThread|_call_and_wait_for_transition|common.py#147||Using pub/sub to track telescopeState of ska_mid/tm_central/central_node\n",
      "1|2024-04-15T12:05:30.811Z|DEBUG|MainThread|subscribe_event|tango_executor.py#136||Observing ska_mid/tm_central/central_node/telescopeState\n",
      "1|2024-04-15T12:05:31.115Z|ERROR|MainThread|_call_and_wait_for_transition|common.py#154||Could not subscribe to telescopeState of ska_mid/tm_central/central_node. Check that LMC base class version is 0.6.1 or newer.\n",
      "1|2024-04-15T12:05:31.117Z|DEBUG|MainThread|send_request_response|oda_helper.py#218||Sending request to http://ingress-nginx-controller-lb-default.ingress-nginx.svc.miditf.internal.skao.int/ska-db-oda/api/v1/ebs/eb-miditf-20240415-00005/request_response with body {'error': {'detail': \"DevFailed(args = (DevError(desc = 'TRANSIENT CORBA \"\n",
      "                     \"system exception: TRANSIENT_CallTimedout', origin = \"\n",
      "                     \"'void Tango::Connection::connect(const string&) at \"\n",
      "                     \"(/src/cppTango/cppapi/client/devapi_base.cpp:604)', \"\n",
      "                     \"reason = 'API_CorbaException', severity = \"\n",
      "                     \"tango._tango.ErrSeverity.ERR), DevError(desc = 'Failed \"\n",
      "                     'to connect to database on host 192.168.49.99 with port '\n",
      "                     \"10000', origin = 'void Tango::Connection::connect(const \"\n",
      "                     'string&) at '\n",
      "                     \"(/src/cppTango/cppapi/client/devapi_base.cpp:604)', \"\n",
      "                     \"reason = 'API_CantConnectToDatabase', severity = \"\n",
      "                     'tango._tango.ErrSeverity.ERR)))',\n",
      "           'stacktrace': None},\n",
      " 'request': 'ska_oso_scripting.functions.devicecontrol.telescope_on',\n",
      " 'request_args': \"{'args': (), 'kwargs': {}}\",\n",
      " 'request_sent_at': datetime.datetime(2024, 4, 15, 14, 5, 30, 810628),\n",
      " 'response': None,\n",
      " 'response_received_at': None,\n",
      " 'status': 'ERROR'}\n",
      "1|2024-04-15T12:05:31.121Z|DEBUG|MainThread|_new_conn|connectionpool.py#244||Starting new HTTP connection (1): ingress-nginx-controller-lb-default.ingress-nginx.svc.miditf.internal.skao.int:80\n",
      "1|2024-04-15T12:05:31.406Z|DEBUG|MainThread|_make_request|connectionpool.py#549||http://ingress-nginx-controller-lb-default.ingress-nginx.svc.miditf.internal.skao.int:80 \"PATCH /ska-db-oda/api/v1/ebs/eb-miditf-20240415-00005/request_response HTTP/1.1\" 200 1115\n"
     ]
    },
    {
     "ename": "ConnectionFailed",
     "evalue": "DevFailed[\nDevError[\n    desc = TRANSIENT CORBA system exception: TRANSIENT_CallTimedout\n  origin = void Tango::Connection::connect(const string&) at (/src/cppTango/cppapi/client/devapi_base.cpp:604)\n  reason = API_CorbaException\nseverity = ERR]\n\nDevError[\n    desc = Failed to connect to database on host 192.168.49.99 with port 10000\n  origin = void Tango::Connection::connect(const string&) at (/src/cppTango/cppapi/client/devapi_base.cpp:604)\n  reason = API_CantConnectToDatabase\nseverity = ERR]\n]",
     "output_type": "error",
     "traceback": [
      "\u001b[0;31m---------------------------------------------------------------------------\u001b[0m",
      "\u001b[0;31mConnectionFailed\u001b[0m                          Traceback (most recent call last)",
      "Cell \u001b[0;32mIn[17], line 5\u001b[0m\n\u001b[1;32m      3\u001b[0m time\u001b[38;5;241m.\u001b[39msleep(\u001b[38;5;241m2\u001b[39m)\n\u001b[1;32m      4\u001b[0m \u001b[38;5;28;01mif\u001b[39;00m telescope_monitor_plot\u001b[38;5;241m.\u001b[39mon_off_state \u001b[38;5;241m==\u001b[39m \u001b[38;5;124m\"\u001b[39m\u001b[38;5;124mOFF\u001b[39m\u001b[38;5;124m\"\u001b[39m:  \u001b[38;5;66;03m# e.g. purple\u001b[39;00m\n\u001b[0;32m----> 5\u001b[0m     \u001b[43mtel\u001b[49m\u001b[38;5;241;43m.\u001b[39;49m\u001b[43mon\u001b[49m\u001b[43m(\u001b[49m\u001b[43m)\u001b[49m\n\u001b[1;32m      6\u001b[0m \u001b[38;5;28;01melse\u001b[39;00m:\n\u001b[1;32m      7\u001b[0m     \u001b[38;5;28;01massert\u001b[39;00m (\n\u001b[1;32m      8\u001b[0m         telescope_monitor_plot\u001b[38;5;241m.\u001b[39mon_off_state \u001b[38;5;241m==\u001b[39m \u001b[38;5;124m\"\u001b[39m\u001b[38;5;124mON\u001b[39m\u001b[38;5;124m\"\u001b[39m\n\u001b[1;32m      9\u001b[0m     ), \u001b[38;5;124mf\u001b[39m\u001b[38;5;124m\"\u001b[39m\u001b[38;5;124mCant continue with telescope in \u001b[39m\u001b[38;5;132;01m{\u001b[39;00mtelescope_monitor_plot\u001b[38;5;241m.\u001b[39mon_off_state\u001b[38;5;132;01m}\u001b[39;00m\u001b[38;5;124m\"\u001b[39m\n",
      "File \u001b[0;32m~/dev/ska-mid-jupyter-notebooks/.venv/lib/python3.10/site-packages/ska_oso_scripting/objects.py:42\u001b[0m, in \u001b[0;36mTelescope.on\u001b[0;34m()\u001b[0m\n\u001b[1;32m     37\u001b[0m \u001b[38;5;129m@staticmethod\u001b[39m\n\u001b[1;32m     38\u001b[0m \u001b[38;5;28;01mdef\u001b[39;00m \u001b[38;5;21mon\u001b[39m() \u001b[38;5;241m-\u001b[39m\u001b[38;5;241m>\u001b[39m \u001b[38;5;28;01mNone\u001b[39;00m:\n\u001b[1;32m     39\u001b[0m \u001b[38;5;250m    \u001b[39m\u001b[38;5;124;03m\"\"\"\u001b[39;00m\n\u001b[1;32m     40\u001b[0m \u001b[38;5;124;03m    Power up all telescope devices.\u001b[39;00m\n\u001b[1;32m     41\u001b[0m \u001b[38;5;124;03m    \"\"\"\u001b[39;00m\n\u001b[0;32m---> 42\u001b[0m     \u001b[43mdevicecontrol\u001b[49m\u001b[38;5;241;43m.\u001b[39;49m\u001b[43mtelescope_on\u001b[49m\u001b[43m(\u001b[49m\u001b[43m)\u001b[49m\n",
      "File \u001b[0;32m~/dev/ska-mid-jupyter-notebooks/.venv/lib/python3.10/site-packages/ska_db_oda/client/oda_helper.py:279\u001b[0m, in \u001b[0;36mcapture_request_response.<locals>.wrapper\u001b[0;34m(*args, **kwargs)\u001b[0m\n\u001b[1;32m    271\u001b[0m     request_body \u001b[38;5;241m=\u001b[39m RequestResponse(\n\u001b[1;32m    272\u001b[0m         request\u001b[38;5;241m=\u001b[39m\u001b[38;5;124mf\u001b[39m\u001b[38;5;124m\"\u001b[39m\u001b[38;5;132;01m{\u001b[39;00mfn\u001b[38;5;241m.\u001b[39m\u001b[38;5;18m__module__\u001b[39m\u001b[38;5;132;01m}\u001b[39;00m\u001b[38;5;124m.\u001b[39m\u001b[38;5;132;01m{\u001b[39;00mfn\u001b[38;5;241m.\u001b[39m\u001b[38;5;18m__name__\u001b[39m\u001b[38;5;132;01m}\u001b[39;00m\u001b[38;5;124m\"\u001b[39m,\n\u001b[1;32m    273\u001b[0m         request_args\u001b[38;5;241m=\u001b[39m\u001b[38;5;124mf\u001b[39m\u001b[38;5;124m\"\u001b[39m\u001b[38;5;130;01m{{\u001b[39;00m\u001b[38;5;124m'\u001b[39m\u001b[38;5;124margs\u001b[39m\u001b[38;5;124m'\u001b[39m\u001b[38;5;124m: \u001b[39m\u001b[38;5;132;01m{\u001b[39;00margs\u001b[38;5;132;01m}\u001b[39;00m\u001b[38;5;124m, \u001b[39m\u001b[38;5;124m'\u001b[39m\u001b[38;5;124mkwargs\u001b[39m\u001b[38;5;124m'\u001b[39m\u001b[38;5;124m: \u001b[39m\u001b[38;5;132;01m{\u001b[39;00mkwargs\u001b[38;5;132;01m}\u001b[39;00m\u001b[38;5;130;01m}}\u001b[39;00m\u001b[38;5;124m\"\u001b[39m,\n\u001b[0;32m   (...)\u001b[0m\n\u001b[1;32m    276\u001b[0m         request_sent_at\u001b[38;5;241m=\u001b[39mrequest_sent_at,\n\u001b[1;32m    277\u001b[0m     )\n\u001b[1;32m    278\u001b[0m     send_request_response(ODA_URI, EB_ID, request_body)\n\u001b[0;32m--> 279\u001b[0m     \u001b[38;5;28;01mraise\u001b[39;00m err\n\u001b[1;32m    280\u001b[0m \u001b[38;5;28;01melse\u001b[39;00m:\n\u001b[1;32m    281\u001b[0m     request_body \u001b[38;5;241m=\u001b[39m RequestResponse(\n\u001b[1;32m    282\u001b[0m         request\u001b[38;5;241m=\u001b[39m\u001b[38;5;124mf\u001b[39m\u001b[38;5;124m\"\u001b[39m\u001b[38;5;132;01m{\u001b[39;00mfn\u001b[38;5;241m.\u001b[39m\u001b[38;5;18m__module__\u001b[39m\u001b[38;5;132;01m}\u001b[39;00m\u001b[38;5;124m.\u001b[39m\u001b[38;5;132;01m{\u001b[39;00mfn\u001b[38;5;241m.\u001b[39m\u001b[38;5;18m__name__\u001b[39m\u001b[38;5;132;01m}\u001b[39;00m\u001b[38;5;124m\"\u001b[39m,\n\u001b[1;32m    283\u001b[0m         request_args\u001b[38;5;241m=\u001b[39m\u001b[38;5;124mf\u001b[39m\u001b[38;5;124m\"\u001b[39m\u001b[38;5;130;01m{{\u001b[39;00m\u001b[38;5;124m'\u001b[39m\u001b[38;5;124margs\u001b[39m\u001b[38;5;124m'\u001b[39m\u001b[38;5;124m: \u001b[39m\u001b[38;5;132;01m{\u001b[39;00margs\u001b[38;5;132;01m}\u001b[39;00m\u001b[38;5;124m, \u001b[39m\u001b[38;5;124m'\u001b[39m\u001b[38;5;124mkwargs\u001b[39m\u001b[38;5;124m'\u001b[39m\u001b[38;5;124m: \u001b[39m\u001b[38;5;132;01m{\u001b[39;00mkwargs\u001b[38;5;132;01m}\u001b[39;00m\u001b[38;5;130;01m}}\u001b[39;00m\u001b[38;5;124m\"\u001b[39m,\n\u001b[0;32m   (...)\u001b[0m\n\u001b[1;32m    287\u001b[0m         response_received_at\u001b[38;5;241m=\u001b[39mresponse_received_at,\n\u001b[1;32m    288\u001b[0m     )\n",
      "File \u001b[0;32m~/dev/ska-mid-jupyter-notebooks/.venv/lib/python3.10/site-packages/ska_db_oda/client/oda_helper.py:268\u001b[0m, in \u001b[0;36mcapture_request_response.<locals>.wrapper\u001b[0;34m(*args, **kwargs)\u001b[0m\n\u001b[1;32m    266\u001b[0m request_sent_at \u001b[38;5;241m=\u001b[39m datetime\u001b[38;5;241m.\u001b[39mnow()\n\u001b[1;32m    267\u001b[0m \u001b[38;5;28;01mtry\u001b[39;00m:\n\u001b[0;32m--> 268\u001b[0m     result \u001b[38;5;241m=\u001b[39m \u001b[43mfn\u001b[49m\u001b[43m(\u001b[49m\u001b[38;5;241;43m*\u001b[39;49m\u001b[43margs\u001b[49m\u001b[43m,\u001b[49m\u001b[43m \u001b[49m\u001b[38;5;241;43m*\u001b[39;49m\u001b[38;5;241;43m*\u001b[39;49m\u001b[43mkwargs\u001b[49m\u001b[43m)\u001b[49m\n\u001b[1;32m    269\u001b[0m     response_received_at \u001b[38;5;241m=\u001b[39m datetime\u001b[38;5;241m.\u001b[39mnow()\n\u001b[1;32m    270\u001b[0m \u001b[38;5;28;01mexcept\u001b[39;00m \u001b[38;5;167;01mException\u001b[39;00m \u001b[38;5;28;01mas\u001b[39;00m err:\n",
      "File \u001b[0;32m~/dev/ska-mid-jupyter-notebooks/.venv/lib/python3.10/site-packages/ska_oso_scripting/functions/devicecontrol/__init__.py:242\u001b[0m, in \u001b[0;36mtelescope_on\u001b[0;34m()\u001b[0m\n\u001b[1;32m    233\u001b[0m \u001b[38;5;129m@oda_helper\u001b[39m\u001b[38;5;241m.\u001b[39mcapture_request_response\n\u001b[1;32m    234\u001b[0m \u001b[38;5;28;01mdef\u001b[39;00m \u001b[38;5;21mtelescope_on\u001b[39m():\n\u001b[1;32m    235\u001b[0m \u001b[38;5;250m    \u001b[39m\u001b[38;5;124;03m\"\"\"\u001b[39;00m\n\u001b[1;32m    236\u001b[0m \u001b[38;5;124;03m    Start up the telescope.\u001b[39;00m\n\u001b[1;32m    237\u001b[0m \n\u001b[0;32m   (...)\u001b[0m\n\u001b[1;32m    240\u001b[0m \u001b[38;5;124;03m    :return:\u001b[39;00m\n\u001b[1;32m    241\u001b[0m \u001b[38;5;124;03m    \"\"\"\u001b[39;00m\n\u001b[0;32m--> 242\u001b[0m     \u001b[43mtelescope_control\u001b[49m\u001b[38;5;241;43m.\u001b[39;49m\u001b[43mtelescope_on\u001b[49m\u001b[43m(\u001b[49m\u001b[43m)\u001b[49m\n",
      "File \u001b[0;32m~/dev/ska-mid-jupyter-notebooks/.venv/lib/python3.10/site-packages/ska_oso_scripting/functions/devicecontrol/telescope_control.py:18\u001b[0m, in \u001b[0;36mtelescope_on\u001b[0;34m()\u001b[0m\n\u001b[1;32m     11\u001b[0m \u001b[38;5;250m\u001b[39m\u001b[38;5;124;03m\"\"\"\u001b[39;00m\n\u001b[1;32m     12\u001b[0m \u001b[38;5;124;03mStart up the telescope.\u001b[39;00m\n\u001b[1;32m     13\u001b[0m \n\u001b[1;32m     14\u001b[0m \u001b[38;5;124;03mThis command powers up Dishes that are currently in standby.\u001b[39;00m\n\u001b[1;32m     15\u001b[0m \u001b[38;5;124;03m\"\"\"\u001b[39;00m\n\u001b[1;32m     16\u001b[0m state_attribute \u001b[38;5;241m=\u001b[39m \u001b[38;5;124m\"\u001b[39m\u001b[38;5;124mtelescopeState\u001b[39m\u001b[38;5;124m\"\u001b[39m\n\u001b[0;32m---> 18\u001b[0m \u001b[43m_call_and_wait_for_transition\u001b[49m\u001b[43m(\u001b[49m\n\u001b[1;32m     19\u001b[0m \u001b[43m    \u001b[49m\u001b[43mget_telescope_start_up_command\u001b[49m\u001b[43m(\u001b[49m\u001b[43m)\u001b[49m\u001b[43m,\u001b[49m\n\u001b[1;32m     20\u001b[0m \u001b[43m    \u001b[49m\u001b[43m[\u001b[49m\u001b[43mtango\u001b[49m\u001b[38;5;241;43m.\u001b[39;49m\u001b[43mDevState\u001b[49m\u001b[38;5;241;43m.\u001b[39;49m\u001b[43mON\u001b[49m\u001b[43m]\u001b[49m\u001b[43m,\u001b[49m\n\u001b[1;32m     21\u001b[0m \u001b[43m    \u001b[49m\u001b[43mstate_attribute\u001b[49m\u001b[43m,\u001b[49m\n\u001b[1;32m     22\u001b[0m \u001b[43m    \u001b[49m\u001b[43moptional_transitions\u001b[49m\u001b[38;5;241;43m=\u001b[39;49m\u001b[43m[\u001b[49m\u001b[43mtango\u001b[49m\u001b[38;5;241;43m.\u001b[39;49m\u001b[43mDevState\u001b[49m\u001b[38;5;241;43m.\u001b[39;49m\u001b[43mUNKNOWN\u001b[49m\u001b[43m]\u001b[49m\u001b[43m,\u001b[49m\n\u001b[1;32m     23\u001b[0m \u001b[43m\u001b[49m\u001b[43m)\u001b[49m\n",
      "File \u001b[0;32m~/dev/ska-mid-jupyter-notebooks/.venv/lib/python3.10/site-packages/ska_oso_scripting/functions/devicecontrol/common.py:160\u001b[0m, in \u001b[0;36m_call_and_wait_for_transition\u001b[0;34m(command, target_transitions, attribute_name, device_to_monitor, optional_transitions, timeout)\u001b[0m\n\u001b[1;32m    153\u001b[0m \u001b[38;5;28;01mexcept\u001b[39;00m tango\u001b[38;5;241m.\u001b[39mDevFailed \u001b[38;5;28;01mas\u001b[39;00m dev_error:\n\u001b[1;32m    154\u001b[0m     LOGGER\u001b[38;5;241m.\u001b[39merror(\n\u001b[1;32m    155\u001b[0m         \u001b[38;5;124m\"\u001b[39m\u001b[38;5;124mCould not subscribe to \u001b[39m\u001b[38;5;132;01m%s\u001b[39;00m\u001b[38;5;124m of \u001b[39m\u001b[38;5;132;01m%s\u001b[39;00m\u001b[38;5;124m. \u001b[39m\u001b[38;5;124m\"\u001b[39m\n\u001b[1;32m    156\u001b[0m         \u001b[38;5;124m\"\u001b[39m\u001b[38;5;124mCheck that LMC base class version is 0.6.1 or newer.\u001b[39m\u001b[38;5;124m\"\u001b[39m,\n\u001b[1;32m    157\u001b[0m         attribute_name,\n\u001b[1;32m    158\u001b[0m         device_to_monitor,\n\u001b[1;32m    159\u001b[0m     )\n\u001b[0;32m--> 160\u001b[0m     \u001b[38;5;28;01mraise\u001b[39;00m dev_error\n\u001b[1;32m    162\u001b[0m \u001b[38;5;28;01mtry\u001b[39;00m:\n\u001b[1;32m    163\u001b[0m     \u001b[38;5;28;01mif\u001b[39;00m command\u001b[38;5;241m.\u001b[39mcommand_name \u001b[38;5;129;01min\u001b[39;00m [\u001b[38;5;124m\"\u001b[39m\u001b[38;5;124mAssignResources\u001b[39m\u001b[38;5;124m\"\u001b[39m, \u001b[38;5;124m\"\u001b[39m\u001b[38;5;124mConfigure\u001b[39m\u001b[38;5;124m\"\u001b[39m]:\n",
      "File \u001b[0;32m~/dev/ska-mid-jupyter-notebooks/.venv/lib/python3.10/site-packages/ska_oso_scripting/functions/devicecontrol/common.py:152\u001b[0m, in \u001b[0;36m_call_and_wait_for_transition\u001b[0;34m(command, target_transitions, attribute_name, device_to_monitor, optional_transitions, timeout)\u001b[0m\n\u001b[1;32m    146\u001b[0m \u001b[38;5;28;01mtry\u001b[39;00m:\n\u001b[1;32m    147\u001b[0m     LOGGER\u001b[38;5;241m.\u001b[39minfo(\n\u001b[1;32m    148\u001b[0m         \u001b[38;5;124m\"\u001b[39m\u001b[38;5;124mUsing pub/sub to track \u001b[39m\u001b[38;5;132;01m%s\u001b[39;00m\u001b[38;5;124m of \u001b[39m\u001b[38;5;132;01m%s\u001b[39;00m\u001b[38;5;124m\"\u001b[39m,\n\u001b[1;32m    149\u001b[0m         attribute_name,\n\u001b[1;32m    150\u001b[0m         device_to_monitor,\n\u001b[1;32m    151\u001b[0m     )\n\u001b[0;32m--> 152\u001b[0m     event_id \u001b[38;5;241m=\u001b[39m \u001b[43mEXECUTOR\u001b[49m\u001b[38;5;241;43m.\u001b[39;49m\u001b[43msubscribe_event\u001b[49m\u001b[43m(\u001b[49m\u001b[43mattribute\u001b[49m\u001b[43m)\u001b[49m\n\u001b[1;32m    153\u001b[0m \u001b[38;5;28;01mexcept\u001b[39;00m tango\u001b[38;5;241m.\u001b[39mDevFailed \u001b[38;5;28;01mas\u001b[39;00m dev_error:\n\u001b[1;32m    154\u001b[0m     LOGGER\u001b[38;5;241m.\u001b[39merror(\n\u001b[1;32m    155\u001b[0m         \u001b[38;5;124m\"\u001b[39m\u001b[38;5;124mCould not subscribe to \u001b[39m\u001b[38;5;132;01m%s\u001b[39;00m\u001b[38;5;124m of \u001b[39m\u001b[38;5;132;01m%s\u001b[39;00m\u001b[38;5;124m. \u001b[39m\u001b[38;5;124m\"\u001b[39m\n\u001b[1;32m    156\u001b[0m         \u001b[38;5;124m\"\u001b[39m\u001b[38;5;124mCheck that LMC base class version is 0.6.1 or newer.\u001b[39m\u001b[38;5;124m\"\u001b[39m,\n\u001b[1;32m    157\u001b[0m         attribute_name,\n\u001b[1;32m    158\u001b[0m         device_to_monitor,\n\u001b[1;32m    159\u001b[0m     )\n",
      "File \u001b[0;32m~/dev/ska-mid-jupyter-notebooks/.venv/lib/python3.10/site-packages/ska_oso_scripting/functions/devicecontrol/tango_executor.py:265\u001b[0m, in \u001b[0;36mTangoExecutor.subscribe_event\u001b[0;34m(self, attribute)\u001b[0m\n\u001b[1;32m    258\u001b[0m \u001b[38;5;28;01mdef\u001b[39;00m \u001b[38;5;21msubscribe_event\u001b[39m(\u001b[38;5;28mself\u001b[39m, attribute: Attribute):\n\u001b[1;32m    259\u001b[0m \u001b[38;5;250m    \u001b[39m\u001b[38;5;124;03m\"\"\"\u001b[39;00m\n\u001b[1;32m    260\u001b[0m \u001b[38;5;124;03m    Subscribe event on a Tango device.\u001b[39;00m\n\u001b[1;32m    261\u001b[0m \n\u001b[1;32m    262\u001b[0m \u001b[38;5;124;03m    :param attribute: the attribute to subscribe to\u001b[39;00m\n\u001b[1;32m    263\u001b[0m \u001b[38;5;124;03m    :return: subscription ID\u001b[39;00m\n\u001b[1;32m    264\u001b[0m \u001b[38;5;124;03m    \"\"\"\u001b[39;00m\n\u001b[0;32m--> 265\u001b[0m     \u001b[38;5;28;01mreturn\u001b[39;00m \u001b[38;5;28;43mself\u001b[39;49m\u001b[38;5;241;43m.\u001b[39;49m\u001b[43m_evt_strategy\u001b[49m\u001b[38;5;241;43m.\u001b[39;49m\u001b[43msubscribe_event\u001b[49m\u001b[43m(\u001b[49m\u001b[43mattribute\u001b[49m\u001b[43m)\u001b[49m\n",
      "File \u001b[0;32m~/dev/ska-mid-jupyter-notebooks/.venv/lib/python3.10/site-packages/ska_oso_scripting/functions/devicecontrol/tango_executor.py:137\u001b[0m, in \u001b[0;36mTangoExecutor.SingleQueueEventStrategy.subscribe_event\u001b[0;34m(self, attr)\u001b[0m\n\u001b[1;32m    134\u001b[0m     \u001b[38;5;28;01mraise\u001b[39;00m \u001b[38;5;167;01mException\u001b[39;00m(\u001b[38;5;124mf\u001b[39m\u001b[38;5;124m\"\u001b[39m\u001b[38;5;124mMultiple subscriptions not allowed: \u001b[39m\u001b[38;5;132;01m{\u001b[39;00mattr\u001b[38;5;132;01m}\u001b[39;00m\u001b[38;5;124m\"\u001b[39m)\n\u001b[1;32m    136\u001b[0m LOGGER\u001b[38;5;241m.\u001b[39mdebug(\u001b[38;5;124m\"\u001b[39m\u001b[38;5;124mObserving \u001b[39m\u001b[38;5;132;01m%s\u001b[39;00m\u001b[38;5;124m/\u001b[39m\u001b[38;5;132;01m%s\u001b[39;00m\u001b[38;5;124m\"\u001b[39m, attr\u001b[38;5;241m.\u001b[39mdevice, attr\u001b[38;5;241m.\u001b[39mname)\n\u001b[0;32m--> 137\u001b[0m \u001b[38;5;28;43mself\u001b[39;49m\u001b[38;5;241;43m.\u001b[39;49m\u001b[43m_subscription_manager\u001b[49m\u001b[38;5;241;43m.\u001b[39;49m\u001b[43mregister_observer\u001b[49m\u001b[43m(\u001b[49m\u001b[43mattr\u001b[49m\u001b[43m,\u001b[49m\u001b[43m \u001b[49m\u001b[38;5;28;43mself\u001b[39;49m\u001b[43m)\u001b[49m\n\u001b[1;32m    138\u001b[0m \u001b[38;5;28;01mreturn\u001b[39;00m \u001b[38;5;241m-\u001b[39m\u001b[38;5;241m1\u001b[39m\n",
      "File \u001b[0;32m~/dev/ska-mid-jupyter-notebooks/.venv/lib/python3.10/site-packages/ska_oso_scripting/functions/devicecontrol/tango_executor.py:417\u001b[0m, in \u001b[0;36mSubscriptionManager.register_observer\u001b[0;34m(self, attr, observer)\u001b[0m\n\u001b[1;32m    415\u001b[0m callback \u001b[38;5;241m=\u001b[39m \u001b[38;5;28mself\u001b[39m\u001b[38;5;241m.\u001b[39m_get_callback(attr)\n\u001b[1;32m    416\u001b[0m callback\u001b[38;5;241m.\u001b[39mregister_observer(observer)\n\u001b[0;32m--> 417\u001b[0m \u001b[38;5;28;43mself\u001b[39;49m\u001b[38;5;241;43m.\u001b[39;49m\u001b[43m_subscribe\u001b[49m\u001b[43m(\u001b[49m\u001b[43mcallback\u001b[49m\u001b[43m,\u001b[49m\u001b[43m \u001b[49m\u001b[43mattr\u001b[49m\u001b[43m)\u001b[49m\n",
      "File \u001b[0;32m~/dev/ska-mid-jupyter-notebooks/.venv/lib/python3.10/site-packages/ska_oso_scripting/functions/devicecontrol/tango_executor.py:422\u001b[0m, in \u001b[0;36mSubscriptionManager._subscribe\u001b[0;34m(self, callback, attr)\u001b[0m\n\u001b[1;32m    420\u001b[0m k \u001b[38;5;241m=\u001b[39m (attr\u001b[38;5;241m.\u001b[39mdevice, attr\u001b[38;5;241m.\u001b[39mname)\n\u001b[1;32m    421\u001b[0m \u001b[38;5;28;01mif\u001b[39;00m k \u001b[38;5;129;01mnot\u001b[39;00m \u001b[38;5;129;01min\u001b[39;00m \u001b[38;5;28mself\u001b[39m\u001b[38;5;241m.\u001b[39m_subscription_ids:\n\u001b[0;32m--> 422\u001b[0m     proxy \u001b[38;5;241m=\u001b[39m \u001b[38;5;28;43mself\u001b[39;49m\u001b[38;5;241;43m.\u001b[39;49m\u001b[43m_get_proxy\u001b[49m\u001b[43m(\u001b[49m\u001b[43mattr\u001b[49m\u001b[38;5;241;43m.\u001b[39;49m\u001b[43mdevice\u001b[49m\u001b[43m)\u001b[49m\n\u001b[1;32m    423\u001b[0m     LOGGER\u001b[38;5;241m.\u001b[39mdebug(\u001b[38;5;124m\"\u001b[39m\u001b[38;5;124mSubscribing to \u001b[39m\u001b[38;5;132;01m%s\u001b[39;00m\u001b[38;5;124m/\u001b[39m\u001b[38;5;132;01m%s\u001b[39;00m\u001b[38;5;124m\"\u001b[39m, attr\u001b[38;5;241m.\u001b[39mdevice, attr\u001b[38;5;241m.\u001b[39mname)\n\u001b[1;32m    424\u001b[0m     sub_id \u001b[38;5;241m=\u001b[39m proxy\u001b[38;5;241m.\u001b[39msubscribe_event(\n\u001b[1;32m    425\u001b[0m         attr\u001b[38;5;241m.\u001b[39mname, tango\u001b[38;5;241m.\u001b[39mEventType\u001b[38;5;241m.\u001b[39mCHANGE_EVENT, callback\n\u001b[1;32m    426\u001b[0m     )\n",
      "File \u001b[0;32m~/dev/ska-mid-jupyter-notebooks/.venv/lib/python3.10/site-packages/ska_oso_scripting/functions/devicecontrol/tango_executor.py:443\u001b[0m, in \u001b[0;36mSubscriptionManager._get_proxy\u001b[0;34m(self, device_name)\u001b[0m\n\u001b[1;32m    441\u001b[0m \u001b[38;5;28;01mdef\u001b[39;00m \u001b[38;5;21m_get_proxy\u001b[39m(\u001b[38;5;28mself\u001b[39m, device_name: \u001b[38;5;28mstr\u001b[39m) \u001b[38;5;241m-\u001b[39m\u001b[38;5;241m>\u001b[39m tango\u001b[38;5;241m.\u001b[39mDeviceProxy:\n\u001b[1;32m    442\u001b[0m     \u001b[38;5;28;01mif\u001b[39;00m device_name \u001b[38;5;129;01mnot\u001b[39;00m \u001b[38;5;129;01min\u001b[39;00m \u001b[38;5;28mself\u001b[39m\u001b[38;5;241m.\u001b[39m_proxies:\n\u001b[0;32m--> 443\u001b[0m         proxy \u001b[38;5;241m=\u001b[39m \u001b[38;5;28;43mself\u001b[39;49m\u001b[38;5;241;43m.\u001b[39;49m\u001b[43m_proxy_factory\u001b[49m\u001b[43m(\u001b[49m\u001b[43mdevice_name\u001b[49m\u001b[43m)\u001b[49m\n\u001b[1;32m    444\u001b[0m         \u001b[38;5;28mself\u001b[39m\u001b[38;5;241m.\u001b[39m_proxies[device_name] \u001b[38;5;241m=\u001b[39m proxy\n\u001b[1;32m    445\u001b[0m     \u001b[38;5;28;01mreturn\u001b[39;00m \u001b[38;5;28mself\u001b[39m\u001b[38;5;241m.\u001b[39m_proxies[device_name]\n",
      "File \u001b[0;32m~/dev/ska-mid-jupyter-notebooks/.venv/lib/python3.10/site-packages/ska_oso_scripting/functions/devicecontrol/tango_executor.py:90\u001b[0m, in \u001b[0;36mTangoDeviceProxyFactory.__call__\u001b[0;34m(self, device_name)\u001b[0m\n\u001b[1;32m     89\u001b[0m \u001b[38;5;28;01mdef\u001b[39;00m \u001b[38;5;21m__call__\u001b[39m(\u001b[38;5;28mself\u001b[39m, device_name: \u001b[38;5;28mstr\u001b[39m) \u001b[38;5;241m-\u001b[39m\u001b[38;5;241m>\u001b[39m tango\u001b[38;5;241m.\u001b[39mDeviceProxy:\n\u001b[0;32m---> 90\u001b[0m     proxy \u001b[38;5;241m=\u001b[39m \u001b[43mtango\u001b[49m\u001b[38;5;241;43m.\u001b[39;49m\u001b[43mDeviceProxy\u001b[49m\u001b[43m(\u001b[49m\u001b[43mdevice_name\u001b[49m\u001b[43m)\u001b[49m\n\u001b[1;32m     91\u001b[0m     proxy\u001b[38;5;241m.\u001b[39mset_timeout_millis(\u001b[38;5;241m10000\u001b[39m)\n\u001b[1;32m     92\u001b[0m     \u001b[38;5;28;01mreturn\u001b[39;00m proxy\n",
      "File \u001b[0;32m~/dev/ska-mid-jupyter-notebooks/.venv/lib/python3.10/site-packages/tango/device_proxy.py:213\u001b[0m, in \u001b[0;36m__DeviceProxy__init__\u001b[0;34m(self, *args, **kwargs)\u001b[0m\n\u001b[1;32m    209\u001b[0m bypass___setattr[\u001b[38;5;124m\"\u001b[39m\u001b[38;5;124m_executors\u001b[39m\u001b[38;5;124m\"\u001b[39m][GreenMode\u001b[38;5;241m.\u001b[39mGevent] \u001b[38;5;241m=\u001b[39m kwargs\u001b[38;5;241m.\u001b[39mpop(\u001b[38;5;124m\"\u001b[39m\u001b[38;5;124mthreadpool\u001b[39m\u001b[38;5;124m\"\u001b[39m, \u001b[38;5;28;01mNone\u001b[39;00m)\n\u001b[1;32m    210\u001b[0m bypass___setattr[\u001b[38;5;124m\"\u001b[39m\u001b[38;5;124m_executors\u001b[39m\u001b[38;5;124m\"\u001b[39m][GreenMode\u001b[38;5;241m.\u001b[39mAsyncio] \u001b[38;5;241m=\u001b[39m kwargs\u001b[38;5;241m.\u001b[39mpop(\n\u001b[1;32m    211\u001b[0m     \u001b[38;5;124m\"\u001b[39m\u001b[38;5;124masyncio_executor\u001b[39m\u001b[38;5;124m\"\u001b[39m, \u001b[38;5;28;01mNone\u001b[39;00m\n\u001b[1;32m    212\u001b[0m )\n\u001b[0;32m--> 213\u001b[0m \u001b[38;5;28;01mreturn\u001b[39;00m \u001b[43mDeviceProxy\u001b[49m\u001b[38;5;241;43m.\u001b[39;49m\u001b[43m__init_orig__\u001b[49m\u001b[43m(\u001b[49m\u001b[38;5;28;43mself\u001b[39;49m\u001b[43m,\u001b[49m\u001b[43m \u001b[49m\u001b[38;5;241;43m*\u001b[39;49m\u001b[43margs\u001b[49m\u001b[43m,\u001b[49m\u001b[43m \u001b[49m\u001b[38;5;241;43m*\u001b[39;49m\u001b[38;5;241;43m*\u001b[39;49m\u001b[43mkwargs\u001b[49m\u001b[43m)\u001b[49m\n",
      "\u001b[0;31mConnectionFailed\u001b[0m: DevFailed[\nDevError[\n    desc = TRANSIENT CORBA system exception: TRANSIENT_CallTimedout\n  origin = void Tango::Connection::connect(const string&) at (/src/cppTango/cppapi/client/devapi_base.cpp:604)\n  reason = API_CorbaException\nseverity = ERR]\n\nDevError[\n    desc = Failed to connect to database on host 192.168.49.99 with port 10000\n  origin = void Tango::Connection::connect(const string&) at (/src/cppTango/cppapi/client/devapi_base.cpp:604)\n  reason = API_CantConnectToDatabase\nseverity = ERR]\n]"
     ]
    }
   ],
   "source": [
    "# set to ON only if OFF\n",
    "\n",
    "time.sleep(2)\n",
    "if telescope_monitor_plot.on_off_state == \"OFF\":  # e.g. purple\n",
    "    tel.on()\n",
    "else:\n",
    "    assert (\n",
    "        telescope_monitor_plot.on_off_state == \"ON\"\n",
    "    ), f\"Cant continue with telescope in {telescope_monitor_plot.on_off_state}\""
   ]
  },
  {
   "cell_type": "markdown",
   "id": "7ca4967f-5420-4a54-97e7-7605753aeb00",
   "metadata": {},
   "source": [
    "### 2.12 Observation Definition"
   ]
  },
  {
   "cell_type": "markdown",
   "id": "ec0f3398-e44a-4a4d-9513-f9fe63f2b473",
   "metadata": {},
   "source": [
    "#### 2.12.1 Define Resources to be used during Observation\n",
    "Generate Processing Block and Execution Block IDs using SKUID."
   ]
  },
  {
   "cell_type": "code",
   "execution_count": null,
   "id": "3fff823f-eed7-4693-a635-f79c3f05fa71",
   "metadata": {
    "tags": []
   },
   "outputs": [],
   "source": [
    "# External IDs (this would typically come from a database like ODA)\n",
    "# this is simulated by means of instantiate a new Observation object comping from the helper modules\n",
    "observation = ObservationSB()"
   ]
  },
  {
   "cell_type": "markdown",
   "id": "d2e666a2-7d56-4b8e-81bf-e31a98f7efaa",
   "metadata": {},
   "source": [
    "#### 2.12.2 Create the high level observation specifications in terms of target specs"
   ]
  },
  {
   "cell_type": "markdown",
   "id": "f867036b-6723-4244-918d-7553e5076890",
   "metadata": {},
   "source": [
    "Note :- Users may currently modify the values by replacing the example values as given for each field within Target specification section."
   ]
  },
  {
   "cell_type": "code",
   "execution_count": null,
   "id": "25d2c936-8078-4f2e-9bf2-0d7e2fb08134",
   "metadata": {
    "tags": []
   },
   "outputs": [],
   "source": [
    "dish_ids = [d.dish_id for d in dish_clusters]\n",
    "DEFAULT_TARGET_SPECS = {\n",
    "    \"flux calibrator\": TargetSpec(\n",
    "        target_sb_detail={\n",
    "            \"co_ordinate_type\": \"Equatorial\",\n",
    "            \"ra\": \"19:24:51.05 degrees\",\n",
    "            \"dec\": \"-29:14:30.12 degrees\",\n",
    "            \"reference_frame\": \"ICRS\",\n",
    "            \"unit\": (\"hourangle\", \"deg\"),\n",
    "            \"pointing_pattern_type\": {\n",
    "                \"single_pointing_parameters\": SinglePointParameters(\n",
    "                    offset_x_arcsec=0.0, offset_y_arcsec=0.0\n",
    "                ),\n",
    "                \"raster_parameters\": RasterParameters(\n",
    "                    row_length_arcsec=0.0,\n",
    "                    row_offset_arcsec=0.0,\n",
    "                    n_rows=1,\n",
    "                    pa=0.0,\n",
    "                    unidirectional=False,\n",
    "                ),\n",
    "                \"star_raster_parameters\": StarRasterParameters(\n",
    "                    row_length_arcsec=0.0,\n",
    "                    n_rows=1,\n",
    "                    row_offset_angle=0.0,\n",
    "                    unidirectional=False,\n",
    "                ),\n",
    "                \"five_point_parameters\": FivePointParameters(offset_arcsec=0.0),\n",
    "                \"cross_scan_parameters\": CrossScanParameters(offset_arcsec=0.0),\n",
    "                \"active_pointing_pattern_type\": \"single_pointing_parameters\",\n",
    "            },\n",
    "        },\n",
    "        scan_type=\"flux calibrator\",\n",
    "        band=ReceiverBand.BAND_2,\n",
    "        channelisation=\"vis_channels9\",\n",
    "        polarisation=\"all\",\n",
    "        processing=\"test-receive-addresses\",\n",
    "        dish_ids=dish_ids,\n",
    "        target=None,\n",
    "    ),\n",
    "    \"M87\": TargetSpec(\n",
    "        target_sb_detail={\n",
    "            \"co_ordinate_type\": \"Equatorial\",\n",
    "            \"ra\": \"19:24:51.05 degrees\",\n",
    "            \"dec\": \"-29:14:30.12 degrees\",\n",
    "            \"reference_frame\": \"ICRS\",\n",
    "            \"unit\": (\"hourangle\", \"deg\"),\n",
    "            \"pointing_pattern_type\": {\n",
    "                \"single_pointing_parameters\": SinglePointParameters(\n",
    "                    offset_x_arcsec=0.0, offset_y_arcsec=0.0\n",
    "                ),\n",
    "                \"raster_parameters\": RasterParameters(\n",
    "                    row_length_arcsec=0.0,\n",
    "                    row_offset_arcsec=0.0,\n",
    "                    n_rows=1,\n",
    "                    pa=0.0,\n",
    "                    unidirectional=False,\n",
    "                ),\n",
    "                \"star_raster_parameters\": StarRasterParameters(\n",
    "                    row_length_arcsec=0.0,\n",
    "                    n_rows=1,\n",
    "                    row_offset_angle=0.0,\n",
    "                    unidirectional=False,\n",
    "                ),\n",
    "                \"five_point_parameters\": FivePointParameters(offset_arcsec=0.0),\n",
    "                \"cross_scan_parameters\": CrossScanParameters(offset_arcsec=0.0),\n",
    "                \"active_pointing_pattern_type\": \"single_pointing_parameters\",\n",
    "            },\n",
    "        },\n",
    "        scan_type=\"M87\",\n",
    "        band=ReceiverBand.BAND_2,\n",
    "        channelisation=\"vis_channels10\",\n",
    "        polarisation=\"all\",\n",
    "        processing=\"test-receive-addresses\",\n",
    "        dish_ids=dish_ids,\n",
    "        target=None,\n",
    "    ),\n",
    "}\n",
    "\n",
    "\n",
    "channel_configuration = [\n",
    "    Channel(\n",
    "        spectral_window_id=\"fsp_1_channels\",\n",
    "        count=14880,\n",
    "        start=0,\n",
    "        stride=2,\n",
    "        freq_min=0.35e9,\n",
    "        freq_max=0.368e9,\n",
    "        link_map=[[0, 0], [200, 1], [744, 2], [944, 3]],\n",
    "    )\n",
    "]\n",
    "\n",
    "for key, value in DEFAULT_TARGET_SPECS.items():\n",
    "    observation.add_channel_configuration(value.channelisation, channel_configuration)\n",
    "\n",
    "observation.add_target_specs(DEFAULT_TARGET_SPECS)\n",
    "\n",
    "for target_id, target in DEFAULT_TARGET_SPECS.items():\n",
    "    observation.add_scan_type_configuration(\n",
    "        config_name=target_id,\n",
    "        beams={\"vis0\": {\"beam_id\": \"vis0\", \"field_id\": \"M83\"}},\n",
    "        derive_from=\".default\",\n",
    "    )\n",
    "scan_sequence = [\"flux calibrator\", \"M87\"]\n",
    "observation.add_scan_sequence(scan_sequence)"
   ]
  },
  {
   "cell_type": "markdown",
   "id": "c59a8bc2-5e50-4717-9cc2-57a71509591a",
   "metadata": {},
   "source": [
    "### 2.13.1 Mid configuration schema input used by observing commands"
   ]
  },
  {
   "cell_type": "markdown",
   "id": "727e53ca-0480-42b9-bbd5-a71900b57de9",
   "metadata": {},
   "source": [
    "[Configuration Schemas-OET→TMC(Mid)](https://confluence.skatelescope.org/display/SWSI/Configuration+Schemas#ConfigurationSchemas-OET%E2%86%92TMC(Mid))"
   ]
  },
  {
   "cell_type": "code",
   "execution_count": null,
   "id": "1d2e7764-2bf3-4240-ad85-3df54361e6a1",
   "metadata": {
    "tags": []
   },
   "outputs": [],
   "source": [
    "telescope_monitor_plot.show()"
   ]
  },
  {
   "cell_type": "markdown",
   "id": "308b4669-4d24-4583-9b10-8135a96d70b6",
   "metadata": {},
   "source": [
    "### 2.13.2 Create Scheduling Block Definition(SBD) Instance and save it into the ODA"
   ]
  },
  {
   "cell_type": "code",
   "execution_count": null,
   "id": "88f276d9-90c5-4ded-ac22-de876bf2ef88",
   "metadata": {
    "tags": []
   },
   "outputs": [],
   "source": [
    "observation.eb_id = eb_id\n",
    "pdm_allocation = observation.generate_pdm_object_for_sbd_save(DEFAULT_TARGET_SPECS)\n",
    "\n",
    "print(\"\\n\\nSaving Scheduling Block Definition Instance in ODA\\n\\n\")\n",
    "sbd = oda_helper.save(pdm_allocation)\n",
    "sbd_id = sbd.sbd_id\n",
    "print(sbd_id)\n",
    "pdm_allocation.sbd_id = sbd_id"
   ]
  },
  {
   "cell_type": "code",
   "execution_count": null,
   "id": "62aeea96-d3b1-44ba-9a80-a85bde4236e3",
   "metadata": {
    "tags": []
   },
   "outputs": [],
   "source": [
    "telescope_monitor_plot.show()"
   ]
  },
  {
   "cell_type": "markdown",
   "id": "f1806aa4-2f8a-43db-84ce-e8643dd1a0dc",
   "metadata": {},
   "source": [
    "### 2.14 Assign Resources\n",
    "Assign the requested resources to a Subarray"
   ]
  },
  {
   "cell_type": "code",
   "execution_count": null,
   "id": "4541f02b",
   "metadata": {},
   "outputs": [],
   "source": [
    "assign_request = observation.generate_allocate_config_sb(pdm_allocation).as_object"
   ]
  },
  {
   "cell_type": "code",
   "execution_count": null,
   "id": "8544b14a",
   "metadata": {},
   "outputs": [],
   "source": [
    "# Print assign resources request JSON out for debugging\n",
    "from ska_oso_scripting.functions.devicecontrol.resource_control import get_request_json\n",
    "from ska_tmc_cdm.messages.central_node.assign_resources import AssignResourcesRequest\n",
    "\n",
    "print(f\"AssignResourcesRequest: {assign_request}\")\n",
    "request_json = get_request_json(assign_request, AssignResourcesRequest, True)\n",
    "print(request_json)\n",
    "print(json.dumps(json.loads(request_json), indent=2))"
   ]
  },
  {
   "cell_type": "code",
   "execution_count": null,
   "id": "85753fd4-2c91-4669-9738-69bb343acf18",
   "metadata": {
    "tags": []
   },
   "outputs": [],
   "source": [
    "sub.assign_from_cdm(assign_request)\n",
    "telescope_monitor_plot.show()"
   ]
  },
  {
   "cell_type": "markdown",
   "id": "cf6947ca-7e8b-4a1a-8a83-94c4b3647f38",
   "metadata": {},
   "source": [
    "### 2.15 Configure and Run Multi Scan\n",
    "Configure the telescope and run the scan on multiple targets"
   ]
  },
  {
   "cell_type": "code",
   "execution_count": null,
   "id": "b8df9783-06c0-4ab4-b9f6-4864c269a616",
   "metadata": {
    "tags": []
   },
   "outputs": [],
   "source": [
    "from ska_tmc_cdm.messages.subarray_node.configure import ConfigureRequest\n",
    "\n",
    "for scan_def_id in scan_sequence:\n",
    "    configure_object = observation.generate_scan_config_sb(\n",
    "        pdm_observation_request=pdm_allocation,\n",
    "        scan_definition_id=scan_def_id,\n",
    "        scan_duration=10.0,\n",
    "    ).as_object\n",
    "    cfg_json = get_request_json(configure_object, ConfigureRequest)\n",
    "    print(f\"ConfigureRequest={cfg_json}\")\n",
    "    sub.configure_from_cdm(configure_object, timeout=120)\n",
    "    time.sleep(2)\n",
    "    sub.scan(timeout=120)"
   ]
  },
  {
   "cell_type": "code",
   "execution_count": null,
   "id": "f2bce657-011c-48bd-bd34-42ffc5a566bd",
   "metadata": {
    "tags": []
   },
   "outputs": [],
   "source": [
    "telescope_monitor_plot.show()"
   ]
  },
  {
   "cell_type": "markdown",
   "id": "e24ecf17-27f7-4b39-97e0-35c604847beb",
   "metadata": {},
   "source": [
    "## 2.16 Post Observation teardown"
   ]
  },
  {
   "cell_type": "markdown",
   "id": "a6fdaf9d-745d-42af-979d-56df00be451f",
   "metadata": {},
   "source": [
    "#### 2.16.1 Clear scan configuration "
   ]
  },
  {
   "cell_type": "code",
   "execution_count": null,
   "id": "5283c8ce-aff0-4624-aee9-c256a9292e9a",
   "metadata": {
    "tags": []
   },
   "outputs": [],
   "source": [
    "sub.end()"
   ]
  },
  {
   "cell_type": "code",
   "execution_count": null,
   "id": "d4cd5b38-875d-4ae2-ba7e-95167e82cdcf",
   "metadata": {
    "tags": []
   },
   "outputs": [],
   "source": [
    "telescope_monitor_plot.show()"
   ]
  },
  {
   "cell_type": "markdown",
   "id": "2018060f-b252-4636-8ae3-1de450a8e84e",
   "metadata": {},
   "source": [
    "#### 2.16.2 Release Subarray resources"
   ]
  },
  {
   "cell_type": "code",
   "execution_count": null,
   "id": "82b3382b-c3b0-44c8-959b-2f7889e894fc",
   "metadata": {
    "tags": []
   },
   "outputs": [],
   "source": [
    "sub.release()"
   ]
  },
  {
   "cell_type": "code",
   "execution_count": null,
   "id": "d8a85bcb-6e11-4758-af7f-6107e34c2ecf",
   "metadata": {},
   "outputs": [],
   "source": [
    "telescope_monitor_plot.show()"
   ]
  },
  {
   "cell_type": "markdown",
   "id": "eef61d2d",
   "metadata": {},
   "source": [
    "**Step 3:**\n",
    "\n",
    "TMC configures Dishes (SPFRx, SPF simulator, DS simulator), CBF and SDP to the basic operational state for an imaging observational scan.  \n",
    "\n",
    "Expected Result:  \n",
    "__"
   ]
  },
  {
   "cell_type": "markdown",
   "id": "6b550429",
   "metadata": {},
   "source": [
    "**Step 4:**\n",
    "\n",
    "TMC configures the system to run the scan.  \n",
    "\n",
    "Expected Result:  \n",
    "__"
   ]
  },
  {
   "cell_type": "markdown",
   "id": "cc7b6755",
   "metadata": {},
   "source": [
    "**Step 5:**\n",
    "\n",
    "Show that each component enters and reports the correct observational state.  \n",
    "\n",
    "Expected Result:  \n",
    "__"
   ]
  },
  {
   "cell_type": "markdown",
   "id": "e4d79d38",
   "metadata": {},
   "source": [
    "**Step 6:**\n",
    "\n",
    "Run the scan.  \n",
    "\n",
    "Expected Result:  \n",
    "__"
   ]
  },
  {
   "cell_type": "markdown",
   "id": "8790c1f9",
   "metadata": {},
   "source": [
    "**Step 7:**\n",
    "\n",
    "Observe SDP signal displays for operation.  \n",
    "\n",
    "Expected Result:  \n",
    "__"
   ]
  },
  {
   "cell_type": "markdown",
   "id": "cf0e95af",
   "metadata": {},
   "source": [
    "**Step 8:**\n",
    "\n",
    "Analyse recorded data to show that the scan runs and that the CBF produces channelised auto- and cross correlation visibilities ingested by SDP and stored in MS format (refer also to visibilities data products test). Use the Data Product Dashboard to download MS data.  \n",
    "\n",
    "Expected Result:  \n",
    "__"
   ]
  }
 ],
 "metadata": {
  "kernelspec": {
   "display_name": "Python 3 (ipykernel)",
   "language": "python",
   "name": "python3"
  },
  "language_info": {
   "codemirror_mode": {
    "name": "ipython",
    "version": 3
   },
   "file_extension": ".py",
   "mimetype": "text/x-python",
   "name": "python",
   "nbconvert_exporter": "python",
   "pygments_lexer": "ipython3",
   "version": "3.10.4"
  }
 },
 "nbformat": 4,
 "nbformat_minor": 5
}
