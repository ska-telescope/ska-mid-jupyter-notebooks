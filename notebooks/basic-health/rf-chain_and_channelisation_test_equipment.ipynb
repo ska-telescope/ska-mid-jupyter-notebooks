{
 "cells": [
  {
   "cell_type": "markdown",
   "id": "9ea536d6",
   "metadata": {},
   "source": [
    "# RF Chain and Channelisation Commissioning Test"
   ]
  },
  {
   "cell_type": "markdown",
   "id": "524f1991",
   "metadata": {},
   "source": [
    "## Table of Contents\\n\n",
    "#### [0.1 - Global Configuration](#02---setup-test-equipment)\n",
    "#### [0.2 - Setup Test Equipment](#02---setup-test-equipment)\n",
    "#### [1 -> Test Steps](#1---test-steps)\n",
    "this notebook provides for indepenent control of the test equipment during the rf chain and channelisation test so that test equipment setup may be changed while the telescope is scanning.  All test step requirements are indicated but only test equipment steps are included in this notebook."
   ]
  },
  {
   "cell_type": "markdown",
   "id": "9534ae98",
   "metadata": {},
   "source": [
    "## 0.1 Global Configuration"
   ]
  },
  {
   "cell_type": "markdown",
   "id": "1d9885e1",
   "metadata": {},
   "source": [
    "### 0.1.1 Import dependencies"
   ]
  },
  {
   "cell_type": "code",
   "execution_count": 1,
   "id": "6ea49e47",
   "metadata": {},
   "outputs": [],
   "source": [
    "import sys\n",
    "\n",
    "sys.path.append(\"../../src\")\n",
    "\n",
    "import json\n",
    "import logging\n",
    "import os\n",
    "import pathlib\n",
    "import time\n",
    "from typing import List\n",
    "\n",
    "import ska_ser_logging\n",
    "from bokeh.io import output_notebook\n",
    "from ska_oso_pdm.entities.common.target import (\n",
    "    CrossScanParameters,\n",
    "    FivePointParameters,\n",
    "    RasterParameters,\n",
    "    SinglePointParameters,\n",
    "    StarRasterParameters,\n",
    ")\n",
    "from ska_oso_pdm.entities.sdp import BeamMapping\n",
    "from ska_oso_scripting import oda_helper\n",
    "from ska_oso_scripting.functions.devicecontrol.resource_control import get_request_json\n",
    "from ska_oso_scripting.objects import SubArray, Telescope\n",
    "from ska_tmc_cdm.messages.central_node.assign_resources import AssignResourcesRequest\n",
    "from ska_tmc_cdm.messages.central_node.sdp import Channel\n",
    "from ska_tmc_cdm.messages.subarray_node.configure import ConfigureRequest\n",
    "from ska_tmc_cdm.messages.subarray_node.configure.core import ReceiverBand\n",
    "\n",
    "from ska_mid_jupyter_notebooks.cluster.cluster import Environment, TangoDeployment\n",
    "from ska_mid_jupyter_notebooks.dish.dish import TangoDishDeployment\n",
    "from ska_mid_jupyter_notebooks.helpers.path import project_root\n",
    "from ska_mid_jupyter_notebooks.obsconfig.config import ObservationSB\n",
    "from ska_mid_jupyter_notebooks.obsconfig.target_spec import TargetSpec, get_default_target_specs_sb\n",
    "from ska_mid_jupyter_notebooks.sut.rendering import TelescopeMononitorPlot\n",
    "from ska_mid_jupyter_notebooks.sut.state import TelescopeDeviceModel, get_telescope_state\n",
    "from ska_mid_jupyter_notebooks.sut.sut import TangoSUTDeployment, disable_qa\n",
    "from ska_mid_jupyter_notebooks.test_equipment.rendering import get_test_equipment_monitor_plot\n",
    "from ska_mid_jupyter_notebooks.test_equipment.state import get_equipment_model\n",
    "from ska_mid_jupyter_notebooks.test_equipment.test_equipment import TangoTestEquipment"
   ]
  },
  {
   "cell_type": "markdown",
   "id": "c9e6cc6d",
   "metadata": {},
   "source": [
    "### 0.1.2 Setup Global Variables and Configuration"
   ]
  },
  {
   "cell_type": "code",
   "execution_count": 2,
   "id": "0b0c3b4c",
   "metadata": {},
   "outputs": [
    {
     "name": "stdout",
     "output_type": "stream",
     "text": [
      "Test Equipment Configured: TangoTestEquipment{namespace=test-equipment; tango_host=tango-databaseds.test-equipment.svc.miditf.internal.skao.int:10000; cluster_domain=miditf.internal.skao.int; cia_url=http://config-inspector.test-equipment.svc.miditf.internal.skao.int:8765}\n"
     ]
    }
   ],
   "source": [
    "test_equipment = TangoTestEquipment()\n",
    "print(f\"Test Equipment Configured: {test_equipment}\")\n",
    "timestr = time.strftime(\"%Y%m%d-%H%M\")\n",
    "notebook_output_dir = pathlib.Path(\n",
    "    project_root(), f\"notebook-execution-data/configure_scan_for_commissioning/execution-{timestr}\"\n",
    ")\n",
    "os.makedirs(notebook_output_dir, exist_ok=True)\n",
    "# we disable qa as it is not been properly verified\n",
    "disable_qa()"
   ]
  },
  {
   "cell_type": "markdown",
   "id": "4b7fa8f6",
   "metadata": {},
   "source": [
    "### 0.1.3 Test Connections to Namespaces"
   ]
  },
  {
   "cell_type": "code",
   "execution_count": 4,
   "id": "31882e18",
   "metadata": {},
   "outputs": [
    {
     "name": "stdout",
     "output_type": "stream",
     "text": [
      "CIA PingResponse (test-equipment): {\"result\":\"ok\",\"time\":\"2024-05-16T07:23:59.417793\"}\n",
      "mid-itf/siggen/1 is reachable\n",
      "mid-itf/progattenuator/1 is reachable\n",
      "mid-itf/spectana/1 is reachable\n",
      "mid-itf/skysimctl/4 is reachable\n"
     ]
    }
   ],
   "source": [
    "test_equipment.smoke_test()"
   ]
  },
  {
   "cell_type": "markdown",
   "id": "68a151c2",
   "metadata": {},
   "source": [
    "## 0.2 Test Equipment Setup\n",
    "\n",
    "Use the noise source at nominal levels for input to at least one SPFRx.  "
   ]
  },
  {
   "cell_type": "markdown",
   "id": "41db3a5d",
   "metadata": {},
   "source": [
    "### 0.2.1 Configure Test Equipment State "
   ]
  },
  {
   "cell_type": "code",
   "execution_count": 5,
   "id": "3eacd7aa",
   "metadata": {},
   "outputs": [
    {
     "data": {
      "text/plain": [
       "['mid-itf/progattenuator/1',\n",
       " 'mid-itf/siggen/1',\n",
       " 'mid-itf/skysimctl/4',\n",
       " 'mid-itf/spectana/1']"
      ]
     },
     "execution_count": 5,
     "metadata": {},
     "output_type": "execute_result"
    }
   ],
   "source": [
    "test_equipment_state = get_equipment_model(test_equipment)\n",
    "test_equipment.devices"
   ]
  },
  {
   "cell_type": "markdown",
   "id": "0d6f1e21",
   "metadata": {},
   "source": [
    "### 0.2.2 Print Test Equipment Diagnostics"
   ]
  },
  {
   "cell_type": "code",
   "execution_count": 6,
   "id": "b019c7ab",
   "metadata": {},
   "outputs": [
    {
     "name": "stdout",
     "output_type": "stream",
     "text": [
      "mid-itf/skysimctl/4 State: ON\n",
      "mid-itf/skysimctl/4 Band: 1\n",
      "mid-itf/skysimctl/4 Correlated_Noise_Source: True\n",
      "mid-itf/skysimctl/4 Uncorrelated_Noise_Sources: False\n",
      "mid-itf/skysimctl/4 H_Channel: False\n",
      "mid-itf/skysimctl/4 V_Channel: False\n",
      "mid-itf/skysimctl/4 temperature: 23.6\n",
      "mid-itf/skysimctl/4 humidity: 0.0\n",
      "mid-itf/siggen/1 versionId: 0.9.1\n",
      "mid-itf/siggen/1 adminMode: 0\n",
      "mid-itf/siggen/1 State: UNKNOWN\n",
      "mid-itf/siggen/1 healthState: HealthState.UNKNOWN\n",
      "mid-itf/siggen/1 frequency: 470000000.0\n",
      "mid-itf/siggen/1 power_cycled: False\n",
      "mid-itf/siggen/1 power_dbm: -25.0\n",
      "mid-itf/siggen/1 rf_output_on: True\n",
      "mid-itf/siggen/1 controlMode: 0\n",
      "mid-itf/siggen/1 simulationMode: 0\n",
      "mid-itf/siggen/1 testMode: 0\n",
      "mid-itf/siggen/1 loggingLevel: 4\n",
      "mid-itf/siggen/1 command_error: False\n",
      "mid-itf/siggen/1 device_error: False\n",
      "mid-itf/siggen/1 execution_error: False\n",
      "mid-itf/siggen/1 query_error: False\n",
      "mid-itf/progattenuator/1 versionId: 0.9.1\n",
      "mid-itf/progattenuator/1 model_name: MN=RCDAT-8000-30\n",
      "mid-itf/progattenuator/1 adminMode: 0\n",
      "mid-itf/progattenuator/1 State: ON\n",
      "mid-itf/progattenuator/1 channel_1: 10.0\n",
      "mid-itf/progattenuator/1 controlMode: 0\n",
      "mid-itf/progattenuator/1 healthState: HealthState.UNKNOWN\n",
      "mid-itf/progattenuator/1 loggingLevel: 5\n",
      "mid-itf/progattenuator/1 simulationMode: 0\n",
      "mid-itf/progattenuator/1 testMode: 0\n"
     ]
    }
   ],
   "source": [
    "test_equipment.print_diagnostics()"
   ]
  },
  {
   "cell_type": "markdown",
   "id": "6d86ab44",
   "metadata": {},
   "source": [
    "### 0.2.3 Create Test Equipment Plot"
   ]
  },
  {
   "cell_type": "code",
   "execution_count": 7,
   "id": "43b23de6",
   "metadata": {},
   "outputs": [
    {
     "data": {
      "text/html": [
       "    <style>\n",
       "        .bk-notebook-logo {\n",
       "            display: block;\n",
       "            width: 20px;\n",
       "            height: 20px;\n",
       "            background-image: url(data:image/png;base64,iVBORw0KGgoAAAANSUhEUgAAABQAAAAUCAYAAACNiR0NAAAABHNCSVQICAgIfAhkiAAAAAlwSFlzAAALEgAACxIB0t1+/AAAABx0RVh0U29mdHdhcmUAQWRvYmUgRmlyZXdvcmtzIENTNui8sowAAAOkSURBVDiNjZRtaJVlGMd/1/08zzln5zjP1LWcU9N0NkN8m2CYjpgQYQXqSs0I84OLIC0hkEKoPtiH3gmKoiJDU7QpLgoLjLIQCpEsNJ1vqUOdO7ppbuec5+V+rj4ctwzd8IIbbi6u+8f1539dt3A78eXC7QizUF7gyV1fD1Yqg4JWz84yffhm0qkFqBogB9rM8tZdtwVsPUhWhGcFJngGeWrPzHm5oaMmkfEg1usvLFyc8jLRqDOMru7AyC8saQr7GG7f5fvDeH7Ej8CM66nIF+8yngt6HWaKh7k49Soy9nXurCi1o3qUbS3zWfrYeQDTB/Qj6kX6Ybhw4B+bOYoLKCC9H3Nu/leUTZ1JdRWkkn2ldcCamzrcf47KKXdAJllSlxAOkRgyHsGC/zRday5Qld9DyoM4/q/rUoy/CXh3jzOu3bHUVZeU+DEn8FInkPBFlu3+nW3Nw0mk6vCDiWg8CeJaxEwuHS3+z5RgY+YBR6V1Z1nxSOfoaPa4LASWxxdNp+VWTk7+4vzaou8v8PN+xo+KY2xsw6une2frhw05CTYOmQvsEhjhWjn0bmXPjpE1+kplmmkP3suftwTubK9Vq22qKmrBhpY4jvd5afdRA3wGjFAgcnTK2s4hY0/GPNIb0nErGMCRxWOOX64Z8RAC4oCXdklmEvcL8o0BfkNK4lUg9HTl+oPlQxdNo3Mg4Nv175e/1LDGzZen30MEjRUtmXSfiTVu1kK8W4txyV6BMKlbgk3lMwYCiusNy9fVfvvwMxv8Ynl6vxoByANLTWplvuj/nF9m2+PDtt1eiHPBr1oIfhCChQMBw6Aw0UulqTKZdfVvfG7VcfIqLG9bcldL/+pdWTLxLUy8Qq38heUIjh4XlzZxzQm19lLFlr8vdQ97rjZVOLf8nclzckbcD4wxXMidpX30sFd37Fv/GtwwhzhxGVAprjbg0gCAEeIgwCZyTV2Z1REEW8O4py0wsjeloKoMr6iCY6dP92H6Vw/oTyICIthibxjm/DfN9lVz8IqtqKYLUXfoKVMVQVVJOElGjrnnUt9T9wbgp8AyYKaGlqingHZU/uG2NTZSVqwHQTWkx9hxjkpWDaCg6Ckj5qebgBVbT3V3NNXMSiWSDdGV3hrtzla7J+duwPOToIg42ChPQOQjspnSlp1V+Gjdged7+8UN5CRAV7a5EdFNwCjEaBR27b3W890TE7g24NAP/mMDXRWrGoFPQI9ls/MWO2dWFAar/xcOIImbbpA3zgAAAABJRU5ErkJggg==);\n",
       "        }\n",
       "    </style>\n",
       "    <div>\n",
       "        <a href=\"https://bokeh.org\" target=\"_blank\" class=\"bk-notebook-logo\"></a>\n",
       "        <span id=\"d8767bea-d0db-4d5b-8554-aced064d779d\">Loading BokehJS ...</span>\n",
       "    </div>\n"
      ]
     },
     "metadata": {},
     "output_type": "display_data"
    },
    {
     "data": {
      "application/javascript": "'use strict';\n(function(root) {\n  function now() {\n    return new Date();\n  }\n\n  const force = true;\n\n  if (typeof root._bokeh_onload_callbacks === \"undefined\" || force === true) {\n    root._bokeh_onload_callbacks = [];\n    root._bokeh_is_loading = undefined;\n  }\n\nconst JS_MIME_TYPE = 'application/javascript';\n  const HTML_MIME_TYPE = 'text/html';\n  const EXEC_MIME_TYPE = 'application/vnd.bokehjs_exec.v0+json';\n  const CLASS_NAME = 'output_bokeh rendered_html';\n\n  /**\n   * Render data to the DOM node\n   */\n  function render(props, node) {\n    const script = document.createElement(\"script\");\n    node.appendChild(script);\n  }\n\n  /**\n   * Handle when an output is cleared or removed\n   */\n  function handleClearOutput(event, handle) {\n    function drop(id) {\n      const view = Bokeh.index.get_by_id(id)\n      if (view != null) {\n        view.model.document.clear()\n        Bokeh.index.delete(view)\n      }\n    }\n\n    const cell = handle.cell;\n\n    const id = cell.output_area._bokeh_element_id;\n    const server_id = cell.output_area._bokeh_server_id;\n\n    // Clean up Bokeh references\n    if (id != null) {\n      drop(id)\n    }\n\n    if (server_id !== undefined) {\n      // Clean up Bokeh references\n      const cmd_clean = \"from bokeh.io.state import curstate; print(curstate().uuid_to_server['\" + server_id + \"'].get_sessions()[0].document.roots[0]._id)\";\n      cell.notebook.kernel.execute(cmd_clean, {\n        iopub: {\n          output: function(msg) {\n            const id = msg.content.text.trim()\n            drop(id)\n          }\n        }\n      });\n      // Destroy server and session\n      const cmd_destroy = \"import bokeh.io.notebook as ion; ion.destroy_server('\" + server_id + \"')\";\n      cell.notebook.kernel.execute(cmd_destroy);\n    }\n  }\n\n  /**\n   * Handle when a new output is added\n   */\n  function handleAddOutput(event, handle) {\n    const output_area = handle.output_area;\n    const output = handle.output;\n\n    // limit handleAddOutput to display_data with EXEC_MIME_TYPE content only\n    if ((output.output_type != \"display_data\") || (!Object.prototype.hasOwnProperty.call(output.data, EXEC_MIME_TYPE))) {\n      return\n    }\n\n    const toinsert = output_area.element.find(\".\" + CLASS_NAME.split(' ')[0]);\n\n    if (output.metadata[EXEC_MIME_TYPE][\"id\"] !== undefined) {\n      toinsert[toinsert.length - 1].firstChild.textContent = output.data[JS_MIME_TYPE];\n      // store reference to embed id on output_area\n      output_area._bokeh_element_id = output.metadata[EXEC_MIME_TYPE][\"id\"];\n    }\n    if (output.metadata[EXEC_MIME_TYPE][\"server_id\"] !== undefined) {\n      const bk_div = document.createElement(\"div\");\n      bk_div.innerHTML = output.data[HTML_MIME_TYPE];\n      const script_attrs = bk_div.children[0].attributes;\n      for (let i = 0; i < script_attrs.length; i++) {\n        toinsert[toinsert.length - 1].firstChild.setAttribute(script_attrs[i].name, script_attrs[i].value);\n        toinsert[toinsert.length - 1].firstChild.textContent = bk_div.children[0].textContent\n      }\n      // store reference to server id on output_area\n      output_area._bokeh_server_id = output.metadata[EXEC_MIME_TYPE][\"server_id\"];\n    }\n  }\n\n  function register_renderer(events, OutputArea) {\n\n    function append_mime(data, metadata, element) {\n      // create a DOM node to render to\n      const toinsert = this.create_output_subarea(\n        metadata,\n        CLASS_NAME,\n        EXEC_MIME_TYPE\n      );\n      this.keyboard_manager.register_events(toinsert);\n      // Render to node\n      const props = {data: data, metadata: metadata[EXEC_MIME_TYPE]};\n      render(props, toinsert[toinsert.length - 1]);\n      element.append(toinsert);\n      return toinsert\n    }\n\n    /* Handle when an output is cleared or removed */\n    events.on('clear_output.CodeCell', handleClearOutput);\n    events.on('delete.Cell', handleClearOutput);\n\n    /* Handle when a new output is added */\n    events.on('output_added.OutputArea', handleAddOutput);\n\n    /**\n     * Register the mime type and append_mime function with output_area\n     */\n    OutputArea.prototype.register_mime_type(EXEC_MIME_TYPE, append_mime, {\n      /* Is output safe? */\n      safe: true,\n      /* Index of renderer in `output_area.display_order` */\n      index: 0\n    });\n  }\n\n  // register the mime type if in Jupyter Notebook environment and previously unregistered\n  if (root.Jupyter !== undefined) {\n    const events = require('base/js/events');\n    const OutputArea = require('notebook/js/outputarea').OutputArea;\n\n    if (OutputArea.prototype.mime_types().indexOf(EXEC_MIME_TYPE) == -1) {\n      register_renderer(events, OutputArea);\n    }\n  }\n  if (typeof (root._bokeh_timeout) === \"undefined\" || force === true) {\n    root._bokeh_timeout = Date.now() + 5000;\n    root._bokeh_failed_load = false;\n  }\n\n  const NB_LOAD_WARNING = {'data': {'text/html':\n     \"<div style='background-color: #fdd'>\\n\"+\n     \"<p>\\n\"+\n     \"BokehJS does not appear to have successfully loaded. If loading BokehJS from CDN, this \\n\"+\n     \"may be due to a slow or bad network connection. Possible fixes:\\n\"+\n     \"</p>\\n\"+\n     \"<ul>\\n\"+\n     \"<li>re-rerun `output_notebook()` to attempt to load from CDN again, or</li>\\n\"+\n     \"<li>use INLINE resources instead, as so:</li>\\n\"+\n     \"</ul>\\n\"+\n     \"<code>\\n\"+\n     \"from bokeh.resources import INLINE\\n\"+\n     \"output_notebook(resources=INLINE)\\n\"+\n     \"</code>\\n\"+\n     \"</div>\"}};\n\n  function display_loaded(error = null) {\n    const el = document.getElementById(\"d8767bea-d0db-4d5b-8554-aced064d779d\");\n    if (el != null) {\n      const html = (() => {\n        if (typeof root.Bokeh === \"undefined\") {\n          if (error == null) {\n            return \"BokehJS is loading ...\";\n          } else {\n            return \"BokehJS failed to load.\";\n          }\n        } else {\n          const prefix = `BokehJS ${root.Bokeh.version}`;\n          if (error == null) {\n            return `${prefix} successfully loaded.`;\n          } else {\n            return `${prefix} <b>encountered errors</b> while loading and may not function as expected.`;\n          }\n        }\n      })();\n      el.innerHTML = html;\n\n      if (error != null) {\n        const wrapper = document.createElement(\"div\");\n        wrapper.style.overflow = \"auto\";\n        wrapper.style.height = \"5em\";\n        wrapper.style.resize = \"vertical\";\n        const content = document.createElement(\"div\");\n        content.style.fontFamily = \"monospace\";\n        content.style.whiteSpace = \"pre-wrap\";\n        content.style.backgroundColor = \"rgb(255, 221, 221)\";\n        content.textContent = error.stack ?? error.toString();\n        wrapper.append(content);\n        el.append(wrapper);\n      }\n    } else if (Date.now() < root._bokeh_timeout) {\n      setTimeout(() => display_loaded(error), 100);\n    }\n  }\n\n  function run_callbacks() {\n    try {\n      root._bokeh_onload_callbacks.forEach(function(callback) {\n        if (callback != null)\n          callback();\n      });\n    } finally {\n      delete root._bokeh_onload_callbacks\n    }\n    console.debug(\"Bokeh: all callbacks have finished\");\n  }\n\n  function load_libs(css_urls, js_urls, callback) {\n    if (css_urls == null) css_urls = [];\n    if (js_urls == null) js_urls = [];\n\n    root._bokeh_onload_callbacks.push(callback);\n    if (root._bokeh_is_loading > 0) {\n      console.debug(\"Bokeh: BokehJS is being loaded, scheduling callback at\", now());\n      return null;\n    }\n    if (js_urls == null || js_urls.length === 0) {\n      run_callbacks();\n      return null;\n    }\n    console.debug(\"Bokeh: BokehJS not loaded, scheduling load and callback at\", now());\n    root._bokeh_is_loading = css_urls.length + js_urls.length;\n\n    function on_load() {\n      root._bokeh_is_loading--;\n      if (root._bokeh_is_loading === 0) {\n        console.debug(\"Bokeh: all BokehJS libraries/stylesheets loaded\");\n        run_callbacks()\n      }\n    }\n\n    function on_error(url) {\n      console.error(\"failed to load \" + url);\n    }\n\n    for (let i = 0; i < css_urls.length; i++) {\n      const url = css_urls[i];\n      const element = document.createElement(\"link\");\n      element.onload = on_load;\n      element.onerror = on_error.bind(null, url);\n      element.rel = \"stylesheet\";\n      element.type = \"text/css\";\n      element.href = url;\n      console.debug(\"Bokeh: injecting link tag for BokehJS stylesheet: \", url);\n      document.body.appendChild(element);\n    }\n\n    for (let i = 0; i < js_urls.length; i++) {\n      const url = js_urls[i];\n      const element = document.createElement('script');\n      element.onload = on_load;\n      element.onerror = on_error.bind(null, url);\n      element.async = false;\n      element.src = url;\n      console.debug(\"Bokeh: injecting script tag for BokehJS library: \", url);\n      document.head.appendChild(element);\n    }\n  };\n\n  function inject_raw_css(css) {\n    const element = document.createElement(\"style\");\n    element.appendChild(document.createTextNode(css));\n    document.body.appendChild(element);\n  }\n\n  const js_urls = [\"https://cdn.bokeh.org/bokeh/release/bokeh-3.4.1.min.js\", \"https://cdn.bokeh.org/bokeh/release/bokeh-gl-3.4.1.min.js\", \"https://cdn.bokeh.org/bokeh/release/bokeh-widgets-3.4.1.min.js\", \"https://cdn.bokeh.org/bokeh/release/bokeh-tables-3.4.1.min.js\", \"https://cdn.bokeh.org/bokeh/release/bokeh-mathjax-3.4.1.min.js\"];\n  const css_urls = [];\n\n  const inline_js = [    function(Bokeh) {\n      Bokeh.set_log_level(\"info\");\n    },\nfunction(Bokeh) {\n    }\n  ];\n\n  function run_inline_js() {\n    if (root.Bokeh !== undefined || force === true) {\n      try {\n            for (let i = 0; i < inline_js.length; i++) {\n      inline_js[i].call(root, root.Bokeh);\n    }\n\n      } catch (error) {display_loaded(error);throw error;\n      }if (force === true) {\n        display_loaded();\n      }} else if (Date.now() < root._bokeh_timeout) {\n      setTimeout(run_inline_js, 100);\n    } else if (!root._bokeh_failed_load) {\n      console.log(\"Bokeh: BokehJS failed to load within specified timeout.\");\n      root._bokeh_failed_load = true;\n    } else if (force !== true) {\n      const cell = $(document.getElementById(\"d8767bea-d0db-4d5b-8554-aced064d779d\")).parents('.cell').data().cell;\n      cell.output_area.append_execute_result(NB_LOAD_WARNING)\n    }\n  }\n\n  if (root._bokeh_is_loading === 0) {\n    console.debug(\"Bokeh: BokehJS loaded, going straight to plotting\");\n    run_inline_js();\n  } else {\n    load_libs(css_urls, js_urls, function() {\n      console.debug(\"Bokeh: BokehJS plotting callback run at\", now());\n      run_inline_js();\n    });\n  }\n}(window));",
      "application/vnd.bokehjs_load.v0+json": ""
     },
     "metadata": {},
     "output_type": "display_data"
    },
    {
     "name": "stderr",
     "output_type": "stream",
     "text": [
      "BokehDeprecationWarning: 'square() method' was deprecated in Bokeh 3.4.0 and will be removed, use \"scatter(marker='square', ...) instead\" instead.\n"
     ]
    },
    {
     "data": {
      "text/html": [
       "\n",
       "  <div id=\"ab4d519f-174f-4f77-9f69-5f35f4a096fa\" data-root-id=\"p1001\" style=\"display: contents;\"></div>\n"
      ]
     },
     "metadata": {},
     "output_type": "display_data"
    },
    {
     "data": {
      "application/javascript": "(function(root) {\n  function embed_document(root) {\n  const docs_json = {\"8a3b8342-01a2-42b4-aa0f-7d7d0bccd426\":{\"version\":\"3.4.1\",\"title\":\"Bokeh Application\",\"roots\":[{\"type\":\"object\",\"name\":\"Figure\",\"id\":\"p1001\",\"attributes\":{\"width\":900,\"height\":200,\"x_range\":{\"type\":\"object\",\"name\":\"Range1d\",\"id\":\"p1010\",\"attributes\":{\"start\":-0.5,\"end\":1.5}},\"y_range\":{\"type\":\"object\",\"name\":\"Range1d\",\"id\":\"p1011\",\"attributes\":{\"start\":-0.5,\"end\":1.5}},\"x_scale\":{\"type\":\"object\",\"name\":\"LinearScale\",\"id\":\"p1012\"},\"y_scale\":{\"type\":\"object\",\"name\":\"LinearScale\",\"id\":\"p1013\"},\"title\":{\"type\":\"object\",\"name\":\"Title\",\"id\":\"p1008\"},\"renderers\":[{\"type\":\"object\",\"name\":\"GlyphRenderer\",\"id\":\"p1048\",\"attributes\":{\"data_source\":{\"type\":\"object\",\"name\":\"ColumnDataSource\",\"id\":\"p1035\",\"attributes\":{\"selected\":{\"type\":\"object\",\"name\":\"Selection\",\"id\":\"p1036\",\"attributes\":{\"indices\":[],\"line_indices\":[]}},\"selection_policy\":{\"type\":\"object\",\"name\":\"UnionRenderers\",\"id\":\"p1037\"},\"data\":{\"type\":\"map\",\"entries\":[[\"x_position\",[0.5,0.5,0.5]],[\"y_position\",[0,0.5,1]],[\"square_labels\",[\"Programmable Attenuator\",\"Signal Generator\",\"SkySim Controller 4\"]],[\"square_colours\",[\"grey\",\"grey\",\"grey\"]]]}}},\"view\":{\"type\":\"object\",\"name\":\"CDSView\",\"id\":\"p1049\",\"attributes\":{\"filter\":{\"type\":\"object\",\"name\":\"AllIndices\",\"id\":\"p1050\"}}},\"glyph\":{\"type\":\"object\",\"name\":\"Scatter\",\"id\":\"p1045\",\"attributes\":{\"x\":{\"type\":\"field\",\"field\":\"x_position\"},\"y\":{\"type\":\"field\",\"field\":\"y_position\"},\"size\":{\"type\":\"value\",\"value\":20},\"line_color\":{\"type\":\"field\",\"field\":\"square_colours\"},\"fill_color\":{\"type\":\"field\",\"field\":\"square_colours\"},\"hatch_color\":{\"type\":\"field\",\"field\":\"square_colours\"},\"marker\":{\"type\":\"value\",\"value\":\"square\"}}},\"nonselection_glyph\":{\"type\":\"object\",\"name\":\"Scatter\",\"id\":\"p1046\",\"attributes\":{\"x\":{\"type\":\"field\",\"field\":\"x_position\"},\"y\":{\"type\":\"field\",\"field\":\"y_position\"},\"size\":{\"type\":\"value\",\"value\":20},\"line_color\":{\"type\":\"field\",\"field\":\"square_colours\"},\"line_alpha\":{\"type\":\"value\",\"value\":0.1},\"fill_color\":{\"type\":\"field\",\"field\":\"square_colours\"},\"fill_alpha\":{\"type\":\"value\",\"value\":0.1},\"hatch_color\":{\"type\":\"field\",\"field\":\"square_colours\"},\"hatch_alpha\":{\"type\":\"value\",\"value\":0.1},\"marker\":{\"type\":\"value\",\"value\":\"square\"}}},\"muted_glyph\":{\"type\":\"object\",\"name\":\"Scatter\",\"id\":\"p1047\",\"attributes\":{\"x\":{\"type\":\"field\",\"field\":\"x_position\"},\"y\":{\"type\":\"field\",\"field\":\"y_position\"},\"size\":{\"type\":\"value\",\"value\":20},\"line_color\":{\"type\":\"field\",\"field\":\"square_colours\"},\"line_alpha\":{\"type\":\"value\",\"value\":0.2},\"fill_color\":{\"type\":\"field\",\"field\":\"square_colours\"},\"fill_alpha\":{\"type\":\"value\",\"value\":0.2},\"hatch_color\":{\"type\":\"field\",\"field\":\"square_colours\"},\"hatch_alpha\":{\"type\":\"value\",\"value\":0.2},\"marker\":{\"type\":\"value\",\"value\":\"square\"}}}}}],\"toolbar\":{\"type\":\"object\",\"name\":\"Toolbar\",\"id\":\"p1009\",\"attributes\":{\"tools\":[{\"type\":\"object\",\"name\":\"PanTool\",\"id\":\"p1024\"},{\"type\":\"object\",\"name\":\"WheelZoomTool\",\"id\":\"p1025\",\"attributes\":{\"renderers\":\"auto\"}},{\"type\":\"object\",\"name\":\"BoxZoomTool\",\"id\":\"p1026\",\"attributes\":{\"overlay\":{\"type\":\"object\",\"name\":\"BoxAnnotation\",\"id\":\"p1027\",\"attributes\":{\"syncable\":false,\"level\":\"overlay\",\"visible\":false,\"left\":{\"type\":\"number\",\"value\":\"nan\"},\"right\":{\"type\":\"number\",\"value\":\"nan\"},\"top\":{\"type\":\"number\",\"value\":\"nan\"},\"bottom\":{\"type\":\"number\",\"value\":\"nan\"},\"left_units\":\"canvas\",\"right_units\":\"canvas\",\"top_units\":\"canvas\",\"bottom_units\":\"canvas\",\"line_color\":\"black\",\"line_alpha\":1.0,\"line_width\":2,\"line_dash\":[4,4],\"fill_color\":\"lightgrey\",\"fill_alpha\":0.5}}}},{\"type\":\"object\",\"name\":\"SaveTool\",\"id\":\"p1032\"},{\"type\":\"object\",\"name\":\"ResetTool\",\"id\":\"p1033\"},{\"type\":\"object\",\"name\":\"HelpTool\",\"id\":\"p1034\"}]}},\"toolbar_location\":null,\"left\":[{\"type\":\"object\",\"name\":\"LinearAxis\",\"id\":\"p1019\",\"attributes\":{\"visible\":false,\"ticker\":{\"type\":\"object\",\"name\":\"BasicTicker\",\"id\":\"p1020\",\"attributes\":{\"mantissas\":[1,2,5]}},\"formatter\":{\"type\":\"object\",\"name\":\"BasicTickFormatter\",\"id\":\"p1021\"},\"major_label_policy\":{\"type\":\"object\",\"name\":\"AllLabels\",\"id\":\"p1022\"}}}],\"below\":[{\"type\":\"object\",\"name\":\"LinearAxis\",\"id\":\"p1014\",\"attributes\":{\"visible\":false,\"ticker\":{\"type\":\"object\",\"name\":\"BasicTicker\",\"id\":\"p1015\",\"attributes\":{\"mantissas\":[1,2,5]}},\"formatter\":{\"type\":\"object\",\"name\":\"BasicTickFormatter\",\"id\":\"p1016\"},\"major_label_policy\":{\"type\":\"object\",\"name\":\"AllLabels\",\"id\":\"p1017\"}}}],\"center\":[{\"type\":\"object\",\"name\":\"Grid\",\"id\":\"p1018\",\"attributes\":{\"visible\":false,\"axis\":{\"id\":\"p1014\"}}},{\"type\":\"object\",\"name\":\"Grid\",\"id\":\"p1023\",\"attributes\":{\"visible\":false,\"dimension\":1,\"axis\":{\"id\":\"p1019\"}}},{\"type\":\"object\",\"name\":\"LabelSet\",\"id\":\"p1038\",\"attributes\":{\"source\":{\"id\":\"p1035\"},\"x\":{\"type\":\"field\",\"field\":\"x_position\"},\"y\":{\"type\":\"field\",\"field\":\"y_position\"},\"text\":{\"type\":\"field\",\"field\":\"square_labels\"},\"x_offset\":{\"type\":\"value\",\"value\":-200},\"y_offset\":{\"type\":\"value\",\"value\":-10},\"text_color\":{\"type\":\"value\",\"value\":\"black\"},\"background_fill_color\":{\"type\":\"field\",\"field\":\"canvas\"}}}]}}]}};\n  const render_items = [{\"docid\":\"8a3b8342-01a2-42b4-aa0f-7d7d0bccd426\",\"roots\":{\"p1001\":\"ab4d519f-174f-4f77-9f69-5f35f4a096fa\"},\"root_ids\":[\"p1001\"],\"notebook_comms_target\":\"p1051\"}];\n  void root.Bokeh.embed.embed_items_notebook(docs_json, render_items);\n  }\n  if (root.Bokeh !== undefined) {\n    embed_document(root);\n  } else {\n    let attempts = 0;\n    const timer = setInterval(function(root) {\n      if (root.Bokeh !== undefined) {\n        clearInterval(timer);\n        embed_document(root);\n      } else {\n        attempts++;\n        if (attempts > 100) {\n          clearInterval(timer);\n          console.log(\"Bokeh: ERROR: Unable to run BokehJS code because BokehJS library is missing\");\n        }\n      }\n    }, 10, root)\n  }\n})(window);",
      "application/vnd.bokehjs_exec.v0+json": ""
     },
     "metadata": {
      "application/vnd.bokehjs_exec.v0+json": {
       "id": "p1001"
      }
     },
     "output_type": "display_data"
    },
    {
     "name": "stderr",
     "output_type": "stream",
     "text": [
      "BokehDeprecationWarning: 'square() method' was deprecated in Bokeh 3.4.0 and will be removed, use \"scatter(marker='square', ...) instead\" instead.\n"
     ]
    },
    {
     "name": "stderr",
     "output_type": "stream",
     "text": [
      "BokehDeprecationWarning: 'square() method' was deprecated in Bokeh 3.4.0 and will be removed, use \"scatter(marker='square', ...) instead\" instead.\n",
      "BokehDeprecationWarning: 'square() method' was deprecated in Bokeh 3.4.0 and will be removed, use \"scatter(marker='square', ...) instead\" instead.\n",
      "BokehDeprecationWarning: 'square() method' was deprecated in Bokeh 3.4.0 and will be removed, use \"scatter(marker='square', ...) instead\" instead.\n",
      "BokehDeprecationWarning: 'square() method' was deprecated in Bokeh 3.4.0 and will be removed, use \"scatter(marker='square', ...) instead\" instead.\n",
      "BokehDeprecationWarning: 'square() method' was deprecated in Bokeh 3.4.0 and will be removed, use \"scatter(marker='square', ...) instead\" instead.\n"
     ]
    },
    {
     "name": "stdout",
     "output_type": "stream",
     "text": [
      "1|2024-05-16T15:23:38.474Z|WARNING|Thread-6 (_listening_daemon)|_listening_daemon|statemonitoring.py#1138||exiting monitoring loop due to an unknown exception\n"
     ]
    },
    {
     "name": "stderr",
     "output_type": "stream",
     "text": [
      "Exception in thread Thread-6 (_listening_daemon):\n",
      "Traceback (most recent call last):\n",
      "  File \"/usr/lib/python3.10/threading.py\", line 1016, in _bootstrap_inner\n",
      "    self.run()\n",
      "  File \"/home/daveh/ska-mid-jupyter-notebooks/.venv/lib/python3.10/site-packages/ipykernel/ipkernel.py\", line 766, in run_closure\n",
      "    _threading_Thread_run(self)\n",
      "  File \"/usr/lib/python3.10/threading.py\", line 953, in run\n",
      "    self._target(*self._args, **self._kwargs)\n",
      "  File \"/home/daveh/ska-mid-jupyter-notebooks/src/ska_mid_jupyter_notebooks/monitoring/statemonitoring.py\", line 1139, in _listening_daemon\n",
      "    raise exception\n",
      "  File \"/home/daveh/ska-mid-jupyter-notebooks/src/ska_mid_jupyter_notebooks/monitoring/statemonitoring.py\", line 1110, in _listening_daemon\n",
      "    event_key_input = event.key\n",
      "  File \"/home/daveh/ska-mid-jupyter-notebooks/src/ska_mid_jupyter_notebooks/monitoring/statemonitoring.py\", line 75, in key\n",
      "    return event_key(self.device.name(), self.attr_name)\n",
      "PyTango.CommunicationFailed: DevFailed[\n",
      "DevError[\n",
      "    desc = TRANSIENT CORBA system exception: TRANSIENT_CallTimedout\n",
      "  origin = DeviceProxy:name\n",
      "  reason = API_CorbaException\n",
      "severity = ERR]\n",
      "\n",
      "DevError[\n",
      "    desc = Timeout (3000 mS) exceeded on device mid-itf/progattenuator/1\n",
      "  origin = DeviceProxy:name\n",
      "  reason = API_DeviceTimedOut\n",
      "severity = ERR]\n",
      "]\n"
     ]
    }
   ],
   "source": [
    "monitor_plot = get_test_equipment_monitor_plot()\n",
    "test_equipment_state.subscribe_to_test_equipment_state(monitor_plot.handle_device_state_change)\n",
    "output_notebook()\n",
    "monitor_plot.show()\n",
    "test_equipment_state.activate()"
   ]
  },
  {
   "cell_type": "markdown",
   "id": "c7aa1da8",
   "metadata": {},
   "source": [
    "### 0.2.4 Turn offline Test Equipment devices ONLINE"
   ]
  },
  {
   "cell_type": "code",
   "execution_count": 8,
   "id": "64ab9a73",
   "metadata": {},
   "outputs": [
    {
     "name": "stdout",
     "output_type": "stream",
     "text": [
      "set mid-itf/siggen/1 adminMode already ONLINE\n",
      "set mid-itf/progattenuator/1 adminMode already ONLINE\n",
      "set mid-itf/spectana/1 adminMode already ONLINE\n"
     ]
    }
   ],
   "source": [
    "# set any offline devices to online\n",
    "test_equipment.turn_online()"
   ]
  },
  {
   "cell_type": "markdown",
   "id": "e0d2410e",
   "metadata": {},
   "source": [
    "### 0.2.5 Display Test Equipment Device States "
   ]
  },
  {
   "cell_type": "code",
   "execution_count": 9,
   "id": "a3f65600",
   "metadata": {},
   "outputs": [
    {
     "data": {
      "text/plain": [
       "{'mid-itf/progattenuator/1:state': 'ON',\n",
       " 'mid-itf/siggen/1:state': 'UNKNOWN',\n",
       " 'mid-itf/skysimctl/4:state': 'ON',\n",
       " 'mid-itf/spectana/1:state': 'ON'}"
      ]
     },
     "execution_count": 9,
     "metadata": {},
     "output_type": "execute_result"
    }
   ],
   "source": [
    "test_equipment_state.state[\"devices_states\"]"
   ]
  },
  {
   "cell_type": "markdown",
   "id": "254e4151",
   "metadata": {},
   "source": [
    "**Step 1:**\n",
    "\n",
    "Set CW generator to approximately 800MHz (freq1) & -30dBm (power1), and wideband noise to approximately -132dBm/Hz at the SPF Band 1 Receiver inputs. ie. Band 1 output on and attenuation approx 10dB.  \n",
    "\n",
    "Expected Result:  \n",
    "*Test equipment configured*"
   ]
  },
  {
   "cell_type": "code",
   "execution_count": null,
   "id": "cd167d6b",
   "metadata": {},
   "outputs": [],
   "source": [
    "#test equipment setup values - band 1\n",
    "frequency_to_set = 800.0002e6\n",
    "power_level = -30.0\n",
    "attenuation = 10\n",
    "band = 1\n",
    "\n",
    "signal_generator = test_equipment.signal_generator\n",
    "SSC = test_equipment.sky_simulator_controller\n",
    "prog_atten = test_equipment.programmable_attenuator\n",
    "\n",
    "#print current \n",
    "print(f\"Current signal generator frequency: {signal_generator.frequency}\")\n",
    "print(f\"Current signal generator power level: {signal_generator.power_dbm}\")\n",
    "print(f\"Current Sky Simulator Correlated Noise Source: {SSC.Correlated_Noise_Source}\")\n",
    "print(f\"Current Sky Simulator Uncorrelated Noise Source: {SSC.Uncorrelated_Noise_Sources}\")\n",
    "print(f\"Current Sky Simulator Band: {SSC.Band}\")\n",
    "print(f\"Current Programmable attenuator current attenuation : {prog_atten.channel_1}\")   \n",
    "\n",
    "#setup siggen\n",
    "signal_generator.write_attribute('frequency', frequency_to_set)\n",
    "signal_generator.write_attribute('power_dbm', power_level)\n",
    "#setup SSC\n",
    "SSC.write_attribute('Correlated_Noise_Source', True)\n",
    "SSC.write_attribute('Uncorrelated_Noise_Sources', True)\n",
    "SSC.write_attribute('Band', band)\n",
    "#setup Attenuator\n",
    "prog_atten.write_attribute('channel_1', attenuation)\n",
    "\n",
    "time.sleep(3)\n",
    "#print updated values and confirm updates\n",
    "print(f\"Updated signal generator frequency                  : {signal_generator.frequency}\")\n",
    "print(f\"Updated signal generator power level                : {signal_generator.power_dbm}\")\n",
    "print(f\"Updated Sky Simulator Correlated Noise Source       : {SSC.Correlated_Noise_Source}\")\n",
    "print(f\"Updated Sky Simulator Uncorrelated Noise Source     : {SSC.Uncorrelated_Noise_Sources}\")\n",
    "print(f\"Updated Sky Simulator Band                          : {SSC.Band}\")\n",
    "print(f\"Updated Programmable attenuator current attenuation : {prog_atten.channel_1}\") \n",
    "\n",
    "assert (\n",
    "    signal_generator.frequency == frequency_to_set\n",
    "), print(f\"Frequency required is {frequency_to_set} but got {signal_generator.frequency}\")\n",
    "assert (\n",
    "    signal_generator.power_dbm == power_level\n",
    "), print(f\"Power level required is {power_level} but got {signal_generator.power_dbm}\")\n",
    "assert (\n",
    "    SSC.Correlated_Noise_Source == True\n",
    "), print(f\"Correlated noise source required is {power_level} but got {SSC.Correlated_Noise_Source}\")\n",
    "assert (\n",
    "    SSC.Uncorrelated_Noise_Sources == False\n",
    "), print(f\"Uncorrelated noise source required is {power_level} but got {SSC.Uncorrelated_Noise_Sources}\")\n",
    "assert (\n",
    "    SSC.Band == band\n",
    "), print(f\"Band required is {band} but got {SSC.Band}\")\n",
    "assert (\n",
    "    prog_atten.channel_1 == attenuation\n",
    "), print(f\"Attenuation required is {attenuation} but got {prog_atten.channel_1}\")"
   ]
  },
  {
   "cell_type": "code",
   "execution_count": 10,
   "id": "af8dc067",
   "metadata": {},
   "outputs": [
    {
     "name": "stdout",
     "output_type": "stream",
     "text": [
      "Current signal generator frequency: 470000000.0\n",
      "Current signal generator power level: -25.0\n",
      "Current Sky Simulator Correlated Noise Source: True\n",
      "Current Sky Simulator Uncorrelated Noise Source: False\n",
      "Current Sky Simulator Band: 1\n",
      "Current Programmable attenuator current attenuation : 10.0\n"
     ]
    }
   ],
   "source": [
    "#print current only\n",
    "signal_generator = test_equipment.signal_generator\n",
    "SSC = test_equipment.sky_simulator_controller\n",
    "prog_atten = test_equipment.programmable_attenuator\n",
    "\n",
    "#print current \n",
    "print(f\"Current signal generator frequency: {signal_generator.frequency}\")\n",
    "print(f\"Current signal generator power level: {signal_generator.power_dbm}\")\n",
    "print(f\"Current Sky Simulator Correlated Noise Source: {SSC.Correlated_Noise_Source}\")\n",
    "print(f\"Current Sky Simulator Uncorrelated Noise Source: {SSC.Uncorrelated_Noise_Sources}\")\n",
    "print(f\"Current Sky Simulator Band: {SSC.Band}\")\n",
    "print(f\"Current Programmable attenuator current attenuation : {prog_atten.channel_1}\")   "
   ]
  },
  {
   "cell_type": "markdown",
   "id": "8105e585",
   "metadata": {},
   "source": [
    "**Step 2:**\n",
    "\n",
    "Assign resources, configure the system for a subarray to run an observation scan in Band 1, with correlator averaging set to no more than 2 seconds.  \n",
    "\n",
    "Expected Result:  \n",
    "*SUT Configured*\n",
    "\n",
    "This section runs steps 3.1 to 3.8 of the Configure Scan Tests"
   ]
  },
  {
   "cell_type": "markdown",
   "id": "8941edd4",
   "metadata": {},
   "source": [
    "**Step 3:**\n",
    "\n",
    "Start scan and signal path recording and monitor the SDP Spectrometer Display.  \n",
    "\n",
    "Expected Result:  \n",
    "_CW + noise in SDP Spectrometer Display_\n",
    " \n",
    "This section runs step 3.10 of the Configure Scan Tests and provides a link to the SDP signal displays"
   ]
  },
  {
   "cell_type": "markdown",
   "id": "b4866577",
   "metadata": {},
   "source": [
    "**Step 4:**\n",
    "\n",
    "~10 seconds after recording has started, use Test Control Script to adjust CW generator signal level by -3dB. \n",
    "\n",
    "Expected Result:  \n",
    "*CW level changes by roughly -3dB in SDP Spectrometer Display*"
   ]
  },
  {
   "cell_type": "code",
   "execution_count": null,
   "id": "b27fd119",
   "metadata": {},
   "outputs": [],
   "source": [
    "time.sleep(10)     # cell to be run in this notebook immediately after starting scn in rf-chain-and-channelisation_test_equipment notebook\n",
    "power_level_minus_3_db = power_level - 3.0\n",
    "signal_generator = test_equipment.signal_generator\n",
    "print(f\"Current signal generator power level: {signal_generator.power_dbm}\")\n",
    "signal_generator.write_attribute('power_dbm', power_level_minus_3_db)\n",
    "time.sleep(3)\n",
    "print(f\"Updated signal generator power level: {signal_generator.power_dbm}\")"
   ]
  },
  {
   "cell_type": "markdown",
   "id": "c91d1773",
   "metadata": {},
   "source": [
    "**Step 5:**\n",
    "\n",
    "After a further ~10 seconds, use Test Control Script to adjust CW generator signal level by -3dB.  \n",
    "\n",
    "Expected Result:  \n",
    "*CW level changes by roughly -3dB in SDP Spectrometer Display*"
   ]
  },
  {
   "cell_type": "code",
   "execution_count": null,
   "id": "f2115597",
   "metadata": {},
   "outputs": [],
   "source": [
    "time.sleep(10)     # cell to be run in this notebook immediately after starting scn in rf-chain-and-channelisation_test_equipment notebook\n",
    "power_level_minus_6_db = power_level - 6.0\n",
    "print(f\"Current signal generator power level: {signal_generator.power_dbm}\")\n",
    "signal_generator.write_attribute('power_dbm', power_level_minus_6_db)\n",
    "time.sleep(3)\n",
    "print(f\"Updated signal generator power level: {signal_generator.power_dbm}\")"
   ]
  },
  {
   "cell_type": "markdown",
   "id": "6426c951",
   "metadata": {},
   "source": [
    "**Step 6:**\n",
    "\n",
    "After a further ~10seconds, use Test Control Script to increase the CW generator signal frequency by 10MHz.  \n",
    "\n",
    "Expected Result:  \n",
    "*CW frequency changes by 10MHz in SDP Spectrometer Display*"
   ]
  },
  {
   "cell_type": "code",
   "execution_count": null,
   "id": "318fa93c",
   "metadata": {},
   "outputs": [],
   "source": [
    "time.sleep(10)\n",
    "frequency_plus_10MHz = frequency_to_set + 10.0e6\n",
    "print(f\"Current signal generator frequency: {signal_generator.frequency}\")\n",
    "signal_generator.write_attribute('frequency', frequency_plus_10MHz)\n",
    "time.sleep(3)\n",
    "print(f\"Updated signal generator frequency: {signal_generator.frequency}\")"
   ]
  },
  {
   "cell_type": "markdown",
   "id": "8cc12c72",
   "metadata": {},
   "source": [
    "**Step 7:**\n",
    "\n",
    "AAfter a further ~10seconds, end scan and recording. Monitor feedback from SDP storage. \n",
    "\n",
    "Expected Result:  \n",
    "*SDP storage listing includes new dataset*"
   ]
  },
  {
   "cell_type": "markdown",
   "id": "3e914611",
   "metadata": {},
   "source": [
    "**Step 8:**\n",
    "\n",
    "Retrieve the dataset from the SDP storage (using Data Product Dashboard).  \n",
    "\n",
    "Expected Result:  \n",
    "_Copy of data file successfully downloaded_"
   ]
  },
  {
   "cell_type": "markdown",
   "id": "5a9251b6",
   "metadata": {},
   "source": [
    "**Step 9:** \n",
    "\n",
    "ANALYSIS:  \n",
    "\n",
    "Analysis steps not done in Notebook"
   ]
  },
  {
   "cell_type": "markdown",
   "id": "1b655277",
   "metadata": {},
   "source": [
    "**Step 10:**\n",
    "\n",
    "Determine the receiver band of the dataset.  \n",
    "\n",
    "Expected Result:  \n",
    "_Band 1_"
   ]
  },
  {
   "cell_type": "markdown",
   "id": "2cdcc928",
   "metadata": {},
   "source": [
    "**Step 11:**\n",
    "\n",
    "Determine the number of frequency channels recorded.  \n",
    "\n",
    "Expected Result:  \n",
    "_Number of frequency channels in the range [51180_"
   ]
  },
  {
   "cell_type": "markdown",
   "id": "950fd821",
   "metadata": {},
   "source": [
    "**Step 12:**\n",
    "\n",
    "Process the data file to identify the dominant CW signal at each time interval. Extract the detected frequency and power level as a time series.  \n",
    "\n",
    "Expected Result:  \n",
    "_Record of CW frequency & power for each time interval_"
   ]
  },
  {
   "cell_type": "markdown",
   "id": "8a1a9d59",
   "metadata": {},
   "source": [
    "**Step 13:**\n",
    "\n",
    "Confirm that the time series agrees with the programmed sequence of attenuation and frequency offset steps.\n",
    "Note: this test is not intended to verify accuracy of frequency & power, so rough agreement is adequate.\n",
    "\n",
    "Expected Result:  \n",
    "*1st ~10sec segment: freq1, power1*\n",
    "\n",
    "*2nd ~10sec segment: freq1, power2*\n",
    "\n",
    "*3rd ~10sec segment: freq1, power3*\n",
    "\n",
    "*4th ~10sec segment: freq1+10MHz, power3*"
   ]
  },
  {
   "cell_type": "markdown",
   "id": "d76cbe5c",
   "metadata": {},
   "source": [
    "**Step 14:**\n",
    "\n",
    "  \n",
    "\n",
    "Expected Result:  \n",
    "__"
   ]
  },
  {
   "cell_type": "markdown",
   "id": "8ee33353",
   "metadata": {},
   "source": [
    "**Step 15:**\n",
    "\n",
    "Set CW generator to approximately 1500MHz (freq2) & -30dBm, and wideband noise to approximately -132dBm/Hz at the SPF Band 2 Receiver inputs.  ie. Band 2 output on and attenuation approx 10dB.\n",
    "\n",
    "Expected Result:  \n",
    "*Test equipment configured*"
   ]
  },
  {
   "cell_type": "code",
   "execution_count": null,
   "id": "c26e4dd5",
   "metadata": {},
   "outputs": [],
   "source": [
    "#test equipment setup values - band 1\n",
    "frequency_to_set = 1500.0002e6\n",
    "power_level = -30.0\n",
    "attenuation = 10\n",
    "band = 2\n",
    "\n",
    "signal_generator = test_equipment.signal_generator\n",
    "SSC = test_equipment.sky_simulator_controller\n",
    "prog_atten = test_equipment.programmable_attenuator\n",
    "\n",
    "#print current \n",
    "print(f\"Current signal generator frequency: {signal_generator.frequency}\")\n",
    "print(f\"Current signal generator power level: {signal_generator.power_dbm}\")\n",
    "print(f\"Current Sky Simulator Correlated Noise Source: {SSC.Correlated_Noise_Source}\")\n",
    "print(f\"Current Sky Simulator Uncorrelated Noise Source: {SSC.Uncorrelated_Noise_Sources}\")\n",
    "print(f\"Current Sky Simulator Band: {SSC.Band}\")\n",
    "print(f\"Current Programmable attenuator current attenuation : {prog_atten.channel_1}\")   \n",
    "\n",
    "#setup siggen\n",
    "signal_generator.write_attribute('frequency', frequency_to_set)\n",
    "signal_generator.write_attribute('power_dbm', power_level)\n",
    "#setup SSC\n",
    "SSC.write_attribute('Correlated_Noise_Source', True)\n",
    "SSC.write_attribute('Uncorrelated_Noise_Sources', False)\n",
    "SSC.write_attribute('Band', band)\n",
    "#setup Attenuator\n",
    "prog_atten.write_attribute('channel_1', attenuation)\n",
    "\n",
    "time.sleep(3)\n",
    "#print updated values and confirm updates\n",
    "print(f\"Updated signal generator frequency                  : {signal_generator.frequency}\")\n",
    "print(f\"Updated signal generator power level                : {signal_generator.power_dbm}\")\n",
    "print(f\"Updated Sky Simulator Correlated Noise Source       : {SSC.Correlated_Noise_Source}\")\n",
    "print(f\"Updated Sky Simulator Uncorrelated Noise Source     : {SSC.Uncorrelated_Noise_Sources}\")\n",
    "print(f\"Updated Sky Simulator Band                          : {SSC.Band}\")\n",
    "print(f\"Updated Programmable attenuator current attenuation : {prog_atten.channel_1}\") \n",
    "\n",
    "assert (\n",
    "    signal_generator.frequency == frequency_to_set\n",
    "), print(f\"Frequency required is {frequency_to_set} but got {signal_generator.frequency}\")\n",
    "assert (\n",
    "    signal_generator.power_dbm == power_level\n",
    "), print(f\"Power level required is {power_level} but got {signal_generator.power_dbm}\")\n",
    "assert (\n",
    "    SSC.Correlated_Noise_Source == True\n",
    "), print(f\"Correlated noise source required is {power_level} but got {SSC.Correlated_Noise_Source}\")\n",
    "assert (\n",
    "    SSC.Uncorrelated_Noise_Sources == False\n",
    "), print(f\"Uncorrelated noise source required is {power_level} but got {SSC.Uncorrelated_Noise_Sources}\")\n",
    "assert (\n",
    "    SSC.Band == band\n",
    "), print(f\"Band required is {band} but got {SSC.Band}\")\n",
    "assert (\n",
    "    prog_atten.channel_1 == attenuation\n",
    "), print(f\"Attenuation required is {attenuation} but got {prog_atten.channel_1}\")\n",
    "signal_generator = test_equipment.signal_generator\n",
    "print(f\"Current signal generator frequency: {signal_generator.frequency}\")\n",
    "print(f\"Current signal generator power level: {signal_generator.power_dbm}\")\n",
    "signal_generator.write_attribute('frequency', frequency_to_set)\n",
    "signal_generator.write_attribute('power_dbm', power_level)\n",
    "time.sleep(3)\n",
    "print(f\"Updated signal generator frequency: {signal_generator.frequency}\")\n",
    "print(f\"Updated signal generator power level: {signal_generator.power_dbm}\")\n",
    "assert (\n",
    "    signal_generator.frequency == frequency_to_set\n",
    "), print(f\"Frequency required is {frequency_to_set} but got {signal_generator.frequency}\")\n",
    "prog_atten = test_equipment.programmable_attenuator\n",
    "print(prog_atten.get_attribute_list())\n",
    "print(f\"Current Programmable attenuator current attenuation : {prog_atten.channel_1}\")   #print current attenuationprog_atten.write_attribute('channel_1', 10)\n",
    "\n",
    "prog_atten.write_attribute('channel_1', attenuation)\n",
    "time.sleep(1)\n",
    "print(f\"Updated Programmable attenuator attenuation : {prog_atten.channel_1}\")   #print updated attenuation\"frequency_to_set = 800e6"
   ]
  },
  {
   "cell_type": "markdown",
   "id": "d401541c",
   "metadata": {},
   "source": [
    "**Step 16:**\n",
    "\n",
    "Assign resources, configure the system for a subarray to run an observation scan in Band 2, with correlator averaging set to no more than 2 seconds.\n",
    "\n",
    "Expected Result:  \n",
    "SUT configured"
   ]
  },
  {
   "cell_type": "markdown",
   "id": "4fd00c57",
   "metadata": {},
   "source": [
    "**Step 17:**\n",
    "\n",
    "Start scan and start signal path recording and monitor the Spectrometer Display.  \n",
    "\n",
    "Expected Result:  \n",
    "_CW + noise in SDP Spectrometer Display_"
   ]
  },
  {
   "cell_type": "markdown",
   "id": "24bb64d5",
   "metadata": {},
   "source": [
    "**Step 18:**\n",
    "\n",
    "After ~10seconds, end scan and recording. Monitor feedback from SDP storage .\n",
    "\n",
    "Expected Result:  \n",
    "*SDP storage listing includes new dataset*"
   ]
  },
  {
   "cell_type": "markdown",
   "id": "66f9928a",
   "metadata": {},
   "source": [
    "**Step 19:**\n",
    "\n",
    "Retrieve the dataset from the SDP storage (using Data Product Dashboard).  \n",
    "\n",
    "Expected Result:  \n",
    "_Copy of data file successfully downloaded_"
   ]
  },
  {
   "cell_type": "markdown",
   "id": "f4c8a84d",
   "metadata": {},
   "source": [
    "**Step 20:**\n",
    "\n",
    "ANALYSIS:  \n",
    "\n",
    "Expected Result:  \n",
    "__"
   ]
  },
  {
   "cell_type": "markdown",
   "id": "4609a61f",
   "metadata": {},
   "source": [
    "**Step 21:**\n",
    "\n",
    "Determine the number of frequency channels recorded.  \n",
    "\n",
    "Expected Result:  \n",
    "_Number of frequency channels in the range [51180, 65536] (inclusive). Note that only approximately 16000 channels are expected to be available prior to AA3_"
   ]
  },
  {
   "cell_type": "markdown",
   "id": "f3d8ae4a",
   "metadata": {},
   "source": [
    "**Step 22:**\n",
    "\n",
    "Determine the receiver band of the dataset.  \n",
    "\n",
    "Expected Result:  \n",
    "_Band 2_"
   ]
  },
  {
   "cell_type": "markdown",
   "id": "28b4d205",
   "metadata": {},
   "source": [
    "**Step 23:**\n",
    "\n",
    "Process the data file to identify the dominant CW signal at each time interval. Extract the detected frequency and power level as a time series.  \n",
    "\n",
    "Expected Result:  \n",
    "_Record of CW frequency & power for each time interval_"
   ]
  },
  {
   "cell_type": "markdown",
   "id": "08225735",
   "metadata": {},
   "source": [
    "**Step 24:**\n",
    "\n",
    "Confirm that the dominant CW signal frequency agrees with the programmed signal frequency.\n",
    "\n",
    "Note: this test is not intended to verify accuracy of frequency & power, so rough agreement is adequate. \n",
    "\n",
    "Expected Result:  \n",
    "_freq2_"
   ]
  }
 ],
 "metadata": {
  "kernelspec": {
   "display_name": "Python 3 (ipykernel)",
   "language": "python",
   "name": "python3"
  },
  "language_info": {
   "codemirror_mode": {
    "name": "ipython",
    "version": 3
   },
   "file_extension": ".py",
   "mimetype": "text/x-python",
   "name": "python",
   "nbconvert_exporter": "python",
   "pygments_lexer": "ipython3",
   "version": "3.10.12"
  }
 },
 "nbformat": 4,
 "nbformat_minor": 5
}
