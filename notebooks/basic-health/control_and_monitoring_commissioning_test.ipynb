{
 "cells": [
  {
   "cell_type": "markdown",
   "id": "9ea536d6",
   "metadata": {},
   "source": [
    "# Configure Scan & System Health Displays Test"
   ]
  },
  {
   "cell_type": "markdown",
   "id": "524f1991",
   "metadata": {},
   "source": [
    "## Table of Contents\n",
    "#### [1 - Global Configuration](#1-global-configuration)\n",
    "#### [2 - Telescope Setup](#2-test-equipment-setup)\n",
    "#### [3 - Observation Definition](#3-configure-scan-tests)\n",
    "#### [4 - Configure System for Scan Commissioning Test ](#4-configure-for-scan)\n",
    "#### [5 - Hyperlinks and SUT config](#5-hyperlinks-and-sut-config)"
   ]
  },
  {
   "cell_type": "markdown",
   "id": "9534ae98",
   "metadata": {},
   "source": [
    "## 1 Global Configuration"
   ]
  },
  {
   "cell_type": "markdown",
   "id": "1d9885e1",
   "metadata": {},
   "source": [
    "### 1.1 Import dependencies\n",
    "##### Importing all libraries that will be used throughout this notebook"
   ]
  },
  {
   "cell_type": "code",
   "execution_count": null,
   "id": "6ea49e47",
   "metadata": {},
   "outputs": [],
   "source": [
    "import sys\n",
    "\n",
    "sys.path.append(\"../../src\")\n",
    "\n",
    "import json\n",
    "import logging\n",
    "import os\n",
    "import pathlib\n",
    "import time\n",
    "from typing import List\n",
    "\n",
    "import ska_ser_logging\n",
    "from bokeh.io import output_notebook\n",
    "from ska_oso_pdm.entities.common.target import (\n",
    "    CrossScanParameters,\n",
    "    FivePointParameters,\n",
    "    RasterParameters,\n",
    "    SinglePointParameters,\n",
    "    StarRasterParameters,\n",
    ")\n",
    "from ska_oso_pdm.entities.sdp import BeamMapping\n",
    "from ska_oso_scripting import oda_helper\n",
    "from ska_oso_scripting.functions.devicecontrol.resource_control import get_request_json\n",
    "from ska_oso_scripting.objects import SubArray, Telescope\n",
    "from ska_tmc_cdm.messages.central_node.assign_resources import AssignResourcesRequest\n",
    "from ska_tmc_cdm.messages.central_node.sdp import Channel\n",
    "from ska_tmc_cdm.messages.subarray_node.configure import ConfigureRequest\n",
    "from ska_tmc_cdm.messages.subarray_node.configure.core import ReceiverBand\n",
    "\n",
    "from ska_mid_jupyter_notebooks.cluster.cluster import Environment, TangoDeployment\n",
    "from ska_mid_jupyter_notebooks.dish.dish import TangoDishDeployment\n",
    "from ska_mid_jupyter_notebooks.helpers.path import project_root\n",
    "from ska_mid_jupyter_notebooks.obsconfig.config import ObservationSB\n",
    "from ska_mid_jupyter_notebooks.obsconfig.target_spec import TargetSpec, get_default_target_specs_sb\n",
    "from ska_mid_jupyter_notebooks.sut.rendering import TelescopeMononitorPlot\n",
    "from ska_mid_jupyter_notebooks.sut.state import TelescopeDeviceModel, get_telescope_state\n",
    "from ska_mid_jupyter_notebooks.sut.sut import TangoSUTDeployment, disable_qa\n",
    "from ska_mid_jupyter_notebooks.test_equipment.rendering import get_test_equipment_monitor_plot\n",
    "from ska_mid_jupyter_notebooks.test_equipment.state import get_equipment_model\n",
    "from ska_mid_jupyter_notebooks.test_equipment.test_equipment import TangoTestEquipment"
   ]
  },
  {
   "cell_type": "markdown",
   "id": "c9e6cc6d",
   "metadata": {},
   "source": [
    "### 1.2 Setup Global Variables and Configuration\n",
    "##### Defining the configuration of the notebook, like git branch and logging leves"
   ]
  },
  {
   "cell_type": "code",
   "execution_count": null,
   "id": "0b0c3b4c",
   "metadata": {},
   "outputs": [],
   "source": [
    "debug_mode = True  # This setting enables printing of diagnostics\n",
    "enable_logging = False  # This enables logging and sets the global log_level to debug\n",
    "dishlmc_enabled = True  # Set this to true if you have a dish LMC deployment\n",
    "executon_environment = Environment.CI\n",
    "branch_name = \"at-2141-human-read-nb\"  # Set this if you are using an on-demand deployment (i.e. Environment.CI)\n",
    "if enable_logging:\n",
    "    ska_ser_logging.configure_logging(logging.DEBUG)\n",
    "test_equipment = TangoTestEquipment()\n",
    "print(f\"Test Equipment Configured: {test_equipment}\")\n",
    "# namespace_override parameter can be used to override auto-configured SUT namespace\n",
    "sut_namespace_override = \"\"\n",
    "subarray_count = 1\n",
    "subarray_id = 1\n",
    "sut = TangoSUTDeployment(\n",
    "    branch_name,\n",
    "    executon_environment,\n",
    "    namespace_override=sut_namespace_override,\n",
    "    subarray_index=subarray_id,\n",
    ")\n",
    "print(f\"SUT configured: {str(sut)}\")\n",
    "dish_ids = [\"001\", \"036\"]\n",
    "# namespace_override parameter can be used to override auto-configured dish namespace\n",
    "dish_namespace_overrides = [\"\", \"\"]\n",
    "dish_deployments: List[TangoDishDeployment] = []\n",
    "if dishlmc_enabled:\n",
    "    for i, d in enumerate(dish_ids):\n",
    "        dish = TangoDishDeployment(\n",
    "            f\"ska{d}\",\n",
    "            branch_name=branch_name,\n",
    "            environment=executon_environment,\n",
    "            namespace_override=dish_namespace_overrides[i],\n",
    "        )\n",
    "        print(f\"Dish {d} configured: {dish}\")\n",
    "        dish_deployments.append(dish)\n",
    "\n",
    "timestr = time.strftime(\"%Y%m%d-%H%M\")\n",
    "notebook_output_dir = pathlib.Path(\n",
    "    project_root(), f\"notebook-execution-data/configure_scan_for_commissioning/execution-{timestr}\"\n",
    ")\n",
    "os.makedirs(notebook_output_dir, exist_ok=True)\n",
    "# we disable qa as it is not been properly verified\n",
    "disable_qa()"
   ]
  },
  {
   "cell_type": "markdown",
   "id": "4b7fa8f6",
   "metadata": {},
   "source": [
    "### 1.3 Test Connections to Namespaces\n",
    "##### Runs smoke tests on all relevant namespaces of the system under test"
   ]
  },
  {
   "cell_type": "code",
   "execution_count": null,
   "id": "31882e18",
   "metadata": {},
   "outputs": [],
   "source": [
    "sut.smoke_test()\n",
    "test_equipment.smoke_test()\n",
    "for dish_deployment in dish_deployments:\n",
    "    dish_deployment.smoke_test()"
   ]
  },
  {
   "cell_type": "markdown",
   "id": "52120d53",
   "metadata": {},
   "source": [
    "### 1.4 Export System Configuration\n",
    "##### Prints the helm chart versions of all telescope components in json format"
   ]
  },
  {
   "cell_type": "code",
   "execution_count": null,
   "id": "8fdb3717",
   "metadata": {},
   "outputs": [],
   "source": [
    "deployment: TangoDeployment\n",
    "for deployment in [sut, test_equipment, *dish_deployments]:\n",
    "    deployment.export_chart_configuration(output_dir=notebook_output_dir)\n",
    "    print(notebook_output_dir)"
   ]
  },
  {
   "cell_type": "markdown",
   "id": "0f6d2326",
   "metadata": {},
   "source": [
    "## 2 Telescope Setup"
   ]
  },
  {
   "cell_type": "markdown",
   "id": "361cd18e",
   "metadata": {},
   "source": [
    "#### 2.1 Configure Telescope Monitoring\n",
    "##### Setup how the telescope to subscript to telescope events"
   ]
  },
  {
   "cell_type": "code",
   "execution_count": null,
   "id": "bff1ef18",
   "metadata": {},
   "outputs": [],
   "source": [
    "# setup monitoring\n",
    "# use telescope state object for state monitoring\n",
    "device_model = TelescopeDeviceModel(dish_ids, subarray_count)\n",
    "telescope_state = get_telescope_state(device_model, sut)\n",
    "# use monitor plot as a dashboard\n",
    "telescope_monitor_plot = TelescopeMononitorPlot(plot_width=900, plot_height=200)\n",
    "# set up events to monitor\n",
    "telescope_state.subscribe_to_on_off(telescope_monitor_plot.observe_telescope_on_off)\n",
    "telescope_state.subscribe_to_subarray_resource_state(\n",
    "    telescope_monitor_plot.observe_subarray_resources_state\n",
    ")\n",
    "telescope_state.subscribe_to_subarray_configurational_state(\n",
    "    telescope_monitor_plot.observe_subarray_configuration_state\n",
    ")\n",
    "telescope_state.subscribe_to_subarray_scanning_state(\n",
    "    telescope_monitor_plot.observe_subarray_scanning_state\n",
    ")\n",
    "output_notebook()"
   ]
  },
  {
   "cell_type": "markdown",
   "id": "5e1a83fa",
   "metadata": {},
   "source": [
    "#### 2.2 Open the inline dashboard\n",
    "Start the simple inline dashboard showing current state of the Telescope and resource assignment and configuration status."
   ]
  },
  {
   "cell_type": "code",
   "execution_count": null,
   "id": "ba90fbe5",
   "metadata": {},
   "outputs": [],
   "source": [
    "telescope_monitor_plot.show()\n",
    "telescope_state.activate()\n",
    "telescope_state.wait_til_ready(2)"
   ]
  },
  {
   "cell_type": "markdown",
   "id": "8c243732",
   "metadata": {},
   "source": [
    "### 2.3 Print System Diagnostics"
   ]
  },
  {
   "cell_type": "markdown",
   "id": "1650210a",
   "metadata": {},
   "source": [
    "#### 2.3.1 Print TMC Diagnostics"
   ]
  },
  {
   "cell_type": "code",
   "execution_count": null,
   "id": "1fe1b28a",
   "metadata": {},
   "outputs": [],
   "source": [
    "sut.print_tmc_diagnostics()"
   ]
  },
  {
   "cell_type": "markdown",
   "id": "7490e49f",
   "metadata": {},
   "source": [
    "#### 2.3.2 Print CSP-LMC Diagnostics"
   ]
  },
  {
   "cell_type": "code",
   "execution_count": null,
   "id": "2d977dbb",
   "metadata": {},
   "outputs": [],
   "source": [
    "sut.print_csp_diagnostics()"
   ]
  },
  {
   "cell_type": "markdown",
   "id": "20c32d89",
   "metadata": {},
   "source": [
    "#### 2.3.3 Print CBF Diagnostics"
   ]
  },
  {
   "cell_type": "code",
   "execution_count": null,
   "id": "2c4b84f4",
   "metadata": {},
   "outputs": [],
   "source": [
    "sut.print_cbf_diagnostics()"
   ]
  },
  {
   "cell_type": "markdown",
   "id": "2d94ccf7",
   "metadata": {},
   "source": [
    "#### 2.3.4 Print SDP Diagnostics"
   ]
  },
  {
   "cell_type": "code",
   "execution_count": null,
   "id": "45d18b6f",
   "metadata": {},
   "outputs": [],
   "source": [
    "sut.print_sdp_diagnostics()"
   ]
  },
  {
   "cell_type": "markdown",
   "id": "b8685670",
   "metadata": {},
   "source": [
    "#### 2.3.5 Print Dish-LMC Diagnostics"
   ]
  },
  {
   "cell_type": "code",
   "execution_count": null,
   "id": "00e2964a",
   "metadata": {},
   "outputs": [],
   "source": [
    "for dish_deployment in dish_deployments:\n",
    "    print(f\"Dish {dish_deployment.dish_id} - {dish_deployment.namespace}: Diagnostics\")\n",
    "\n",
    "    dish_deployment.print_diagnostics()"
   ]
  },
  {
   "cell_type": "markdown",
   "id": "93130f3b",
   "metadata": {},
   "source": [
    "#### 2.3.6 Print Full System Diagnostics"
   ]
  },
  {
   "cell_type": "code",
   "execution_count": null,
   "id": "5f5513d7",
   "metadata": {},
   "outputs": [],
   "source": [
    "print(\"SUT: Full Diagnostics\")\n",
    "sut.print_full_diagnostics()\n",
    "\n",
    "for dish_deployment in dish_deployments:\n",
    "    print(f\"Dish {dish_deployment.dish_id}: Full Diagnostics\")\n",
    "    dish_deployment.print_full_diagnostics()"
   ]
  },
  {
   "cell_type": "markdown",
   "id": "dcc952f9",
   "metadata": {},
   "source": [
    "### 2.4 Setup ODA"
   ]
  },
  {
   "cell_type": "code",
   "execution_count": null,
   "id": "750e478d",
   "metadata": {},
   "outputs": [],
   "source": [
    "os.environ[\"ODA_URI\"] = (\n",
    "    \"http://ingress-nginx-controller-lb-default.ingress-nginx.svc.miditf.internal.skao.int/ska-db-oda/api/v1/\"\n",
    ")\n",
    "eb_id = oda_helper.create_eb()\n",
    "print(f\"Execution Block ID: {eb_id}\")"
   ]
  },
  {
   "cell_type": "markdown",
   "id": "2b598fc9",
   "metadata": {},
   "source": [
    "### 2.5 Initialise Telescope and Subarray\n",
    "Create Subarray and Telescope instances."
   ]
  },
  {
   "cell_type": "code",
   "execution_count": null,
   "id": "1b2e9941",
   "metadata": {},
   "outputs": [],
   "source": [
    "sub = SubArray(subarray_id)\n",
    "tel = Telescope()"
   ]
  },
  {
   "cell_type": "markdown",
   "id": "3db487bd",
   "metadata": {},
   "source": [
    "### 2.6 Load VCC Configuration in TMC"
   ]
  },
  {
   "cell_type": "code",
   "execution_count": null,
   "id": "37bc04ca",
   "metadata": {},
   "outputs": [],
   "source": [
    "# This should only be executed for a fresh deployment (i.e. Telescope is OFF.\n",
    "# If you have restarted the subarray, you should not run this command\n",
    "sut.load_dish_vcc_config()"
   ]
  },
  {
   "cell_type": "markdown",
   "id": "a533faaa",
   "metadata": {},
   "source": [
    "### 2.7 Turn telescope ON"
   ]
  },
  {
   "cell_type": "code",
   "execution_count": null,
   "id": "1b2b2a0f",
   "metadata": {},
   "outputs": [],
   "source": [
    "# set to ON only if OFF\n",
    "# If you have restarted the subarray, you should not run this command (Telescope is already ON)\n",
    "# dish_lmc mode must be in LP_standby and before trying to turn the telescope ON\n",
    "# Takes about 1m20s\n",
    "if telescope_monitor_plot.on_off_state == \"OFF\":  # e.g. purple\n",
    "    tel.on()\n",
    "else:\n",
    "    assert (\n",
    "        telescope_monitor_plot.on_off_state == \"ON\"\n",
    "    ), f\"Cant continue with telescope in {telescope_monitor_plot.on_off_state}\""
   ]
  },
  {
   "cell_type": "markdown",
   "id": "7ca4967f-5420-4a54-97e7-7605753aeb00",
   "metadata": {},
   "source": [
    "## 3. Observation Definition"
   ]
  },
  {
   "cell_type": "markdown",
   "id": "d2e666a2-7d56-4b8e-81bf-e31a98f7efaa",
   "metadata": {},
   "source": [
    "#### 3.1 Create the high level observation specifications in terms of target specs"
   ]
  },
  {
   "cell_type": "markdown",
   "id": "f867036b-6723-4244-918d-7553e5076890",
   "metadata": {},
   "source": [
    "Note :- Users may currently modify the values by replacing the example values as given for each field within Target specification section."
   ]
  },
  {
   "cell_type": "code",
   "execution_count": null,
   "id": "25d2c936-8078-4f2e-9bf2-0d7e2fb08134",
   "metadata": {
    "tags": []
   },
   "outputs": [],
   "source": [
    "dish_ids = [d.dish_id.upper() for d in dish_deployments]\n",
    "default_target_specs = get_default_target_specs_sb(dish_ids)\n",
    "observation = ObservationSB(target_specs=default_target_specs)\n",
    "\n",
    "target_specs = {\n",
    "    \"flux calibrator\": TargetSpec(\n",
    "        target_sb_detail={\n",
    "            \"co_ordinate_type\": \"Equatorial\",\n",
    "            \"ra\": \"19:24:51.05 degrees\",\n",
    "            \"dec\": \"-29:14:30.12 degrees\",\n",
    "            \"reference_frame\": \"ICRS\",\n",
    "            \"unit\": (\"hourangle\", \"deg\"),\n",
    "            \"pointing_pattern_type\": {\n",
    "                \"single_pointing_parameters\": SinglePointParameters(\n",
    "                    offset_x_arcsec=0.0, offset_y_arcsec=0.0\n",
    "                ),\n",
    "                \"raster_parameters\": RasterParameters(\n",
    "                    row_length_arcsec=0.0,\n",
    "                    row_offset_arcsec=0.0,\n",
    "                    n_rows=1,\n",
    "                    pa=0.0,\n",
    "                    unidirectional=False,\n",
    "                ),\n",
    "                \"star_raster_parameters\": StarRasterParameters(\n",
    "                    row_length_arcsec=0.0,\n",
    "                    n_rows=1,\n",
    "                    row_offset_angle=0.0,\n",
    "                    unidirectional=False,\n",
    "                ),\n",
    "                \"five_point_parameters\": FivePointParameters(offset_arcsec=0.0),\n",
    "                \"cross_scan_parameters\": CrossScanParameters(offset_arcsec=0.0),\n",
    "                \"active_pointing_pattern_type\": \"single_pointing_parameters\",\n",
    "            },\n",
    "        },\n",
    "        scan_type=\"flux calibrator\",\n",
    "        band=ReceiverBand.BAND_2,\n",
    "        channelisation=\"vis_channels9\",\n",
    "        polarisation=\"all\",\n",
    "        processing=\"test-receive-addresses\",\n",
    "        dish_ids=dish_ids,\n",
    "        target=None,\n",
    "    ),\n",
    "    \"M87\": TargetSpec(\n",
    "        target_sb_detail={\n",
    "            \"co_ordinate_type\": \"Equatorial\",\n",
    "            \"ra\": \"19:24:51.05 degrees\",\n",
    "            \"dec\": \"-29:14:30.12 degrees\",\n",
    "            \"reference_frame\": \"ICRS\",\n",
    "            \"unit\": (\"hourangle\", \"deg\"),\n",
    "            \"pointing_pattern_type\": {\n",
    "                \"single_pointing_parameters\": SinglePointParameters(\n",
    "                    offset_x_arcsec=0.0, offset_y_arcsec=0.0\n",
    "                ),\n",
    "                \"raster_parameters\": RasterParameters(\n",
    "                    row_length_arcsec=0.0,\n",
    "                    row_offset_arcsec=0.0,\n",
    "                    n_rows=1,\n",
    "                    pa=0.0,\n",
    "                    unidirectional=False,\n",
    "                ),\n",
    "                \"star_raster_parameters\": StarRasterParameters(\n",
    "                    row_length_arcsec=0.0,\n",
    "                    n_rows=1,\n",
    "                    row_offset_angle=0.0,\n",
    "                    unidirectional=False,\n",
    "                ),\n",
    "                \"five_point_parameters\": FivePointParameters(offset_arcsec=0.0),\n",
    "                \"cross_scan_parameters\": CrossScanParameters(offset_arcsec=0.0),\n",
    "                \"active_pointing_pattern_type\": \"single_pointing_parameters\",\n",
    "            },\n",
    "        },\n",
    "        scan_type=\"M87\",\n",
    "        band=ReceiverBand.BAND_2,\n",
    "        channelisation=\"vis_channels10\",\n",
    "        polarisation=\"all\",\n",
    "        processing=\"test-receive-addresses\",\n",
    "        dish_ids=dish_ids,\n",
    "        target=None,\n",
    "    ),\n",
    "}\n",
    "\n",
    "\n",
    "channel_configuration = [\n",
    "    Channel(\n",
    "        spectral_window_id=\"fsp_1_channels\",\n",
    "        count=14880,\n",
    "        start=0,\n",
    "        stride=2,\n",
    "        freq_min=0.35e9,\n",
    "        freq_max=0.368e9,\n",
    "        link_map=[[0, 0], [200, 1], [744, 2], [944, 3]],\n",
    "    )\n",
    "]\n",
    "\n",
    "for key, value in target_specs.items():\n",
    "    observation.add_channel_configuration(value.channelisation, channel_configuration)\n",
    "\n",
    "observation.add_target_specs(target_specs)\n",
    "\n",
    "for target_id, target in target_specs.items():\n",
    "    observation.add_scan_type_configuration(\n",
    "        config_name=target_id,\n",
    "        beams={\"vis0\": BeamMapping(beam_id=\"vis0\", field_id=\"M83\")},\n",
    "        derive_from=\".default\",\n",
    "    )\n",
    "scan_def_id = \"flux calibrator\"\n",
    "observation.add_scan_sequence([scan_def_id])"
   ]
  },
  {
   "cell_type": "markdown",
   "id": "c59a8bc2-5e50-4717-9cc2-57a71509591a",
   "metadata": {},
   "source": [
    "#### 3.2 Mid configuration schema input used by observing commands"
   ]
  },
  {
   "cell_type": "markdown",
   "id": "727e53ca-0480-42b9-bbd5-a71900b57de9",
   "metadata": {},
   "source": [
    "[Configuration Schemas-OET→TMC(Mid)](https://developer.skao.int/projects/ska-telmodel/en/latest/)"
   ]
  },
  {
   "cell_type": "code",
   "execution_count": null,
   "id": "1d2e7764-2bf3-4240-ad85-3df54361e6a1",
   "metadata": {
    "tags": []
   },
   "outputs": [],
   "source": [
    "telescope_monitor_plot.show()"
   ]
  },
  {
   "cell_type": "markdown",
   "id": "308b4669-4d24-4583-9b10-8135a96d70b6",
   "metadata": {},
   "source": [
    "#### 3.3 Create Scheduling Block Definition(SBD) Instance and save it into the ODA"
   ]
  },
  {
   "cell_type": "code",
   "execution_count": null,
   "id": "88f276d9-90c5-4ded-ac22-de876bf2ef88",
   "metadata": {
    "tags": []
   },
   "outputs": [],
   "source": [
    "observation.eb_id = eb_id\n",
    "pdm_allocation = observation.generate_pdm_object_for_sbd_save(target_specs)\n",
    "\n",
    "sbd = oda_helper.save(pdm_allocation)\n",
    "sbd_id = sbd.sbd_id\n",
    "pdm_allocation.sbd_id = sbd_id\n",
    "print(f\"Saved Scheduling Block Definition Instance in ODA: SBD_ID={sbd_id}\")"
   ]
  },
  {
   "cell_type": "markdown",
   "id": "f1806aa4-2f8a-43db-84ce-e8643dd1a0dc",
   "metadata": {},
   "source": [
    "### 3.4 Assign Resources\n",
    "Assign the requested resources to a Subarray"
   ]
  },
  {
   "cell_type": "code",
   "execution_count": null,
   "id": "4541f02b",
   "metadata": {},
   "outputs": [],
   "source": [
    "assign_request = observation.generate_allocate_config_sb(pdm_allocation).as_object\n",
    "\n",
    "if debug_mode:\n",
    "    request_json = get_request_json(assign_request, AssignResourcesRequest, True)\n",
    "    print(\"AssignResourcesRequest:\", json.dumps(json.loads(request_json), indent=2))\n",
    "\n",
    "sub.assign_from_cdm(assign_request, timeout=120)"
   ]
  },
  {
   "cell_type": "markdown",
   "id": "18e80200",
   "metadata": {},
   "source": [
    "### 3.5  Show telescope status"
   ]
  },
  {
   "cell_type": "code",
   "execution_count": null,
   "id": "62aeea96-d3b1-44ba-9a80-a85bde4236e3",
   "metadata": {
    "tags": []
   },
   "outputs": [],
   "source": [
    "telescope_monitor_plot.show()"
   ]
  },
  {
   "cell_type": "markdown",
   "id": "cf6947ca-7e8b-4a1a-8a83-94c4b3647f38",
   "metadata": {},
   "source": [
    "### 3.7 Configure Scan\n",
    "Configure the telescope  on first target in sequence - may be modified to configure and run multiple targets at a later time."
   ]
  },
  {
   "cell_type": "code",
   "execution_count": null,
   "id": "b8df9783-06c0-4ab4-b9f6-4864c269a616",
   "metadata": {
    "tags": []
   },
   "outputs": [],
   "source": [
    "configure_object = observation.generate_scan_config_sb(\n",
    "    pdm_observation_request=pdm_allocation,\n",
    "    scan_definition_id=scan_def_id,\n",
    "    scan_duration=10.0,\n",
    ").as_object\n",
    "\n",
    "if debug_mode:\n",
    "    cfg_json = get_request_json(configure_object, ConfigureRequest)\n",
    "    print(f\"ConfigureRequest={cfg_json}\")\n",
    "\n",
    "sub.configure_from_cdm(configure_object, timeout=120)\n",
    "time.sleep(2)"
   ]
  },
  {
   "cell_type": "markdown",
   "id": "e24ecf17-27f7-4b39-97e0-35c604847beb",
   "metadata": {},
   "source": [
    "### 3.8 Post Observation teardown\n",
    "If the observation executed successfully, you can use the following commands to reset the telescope."
   ]
  },
  {
   "cell_type": "markdown",
   "id": "a6fdaf9d-745d-42af-979d-56df00be451f",
   "metadata": {},
   "source": [
    "#### 3.8.1 Clear scan configuration "
   ]
  },
  {
   "cell_type": "code",
   "execution_count": null,
   "id": "5283c8ce-aff0-4624-aee9-c256a9292e9a",
   "metadata": {
    "tags": []
   },
   "outputs": [],
   "source": [
    "sub.end()\n",
    "telescope_monitor_plot.show()"
   ]
  },
  {
   "cell_type": "markdown",
   "id": "2018060f-b252-4636-8ae3-1de450a8e84e",
   "metadata": {},
   "source": [
    "#### 3.8.2 Release Subarray resources"
   ]
  },
  {
   "cell_type": "code",
   "execution_count": null,
   "id": "82b3382b-c3b0-44c8-959b-2f7889e894fc",
   "metadata": {
    "tags": []
   },
   "outputs": [],
   "source": [
    "sub.release()\n",
    "telescope_monitor_plot.show()"
   ]
  },
  {
   "cell_type": "markdown",
   "id": "2271a3b8",
   "metadata": {},
   "source": [
    "### 3.9 Reset the Telescope (On Failure)\n",
    "Set booleans to True to reset the system after a failed execution."
   ]
  },
  {
   "cell_type": "markdown",
   "id": "3714b617",
   "metadata": {},
   "source": [
    "#### 3.11.1 Reset the Subarray"
   ]
  },
  {
   "cell_type": "code",
   "execution_count": null,
   "id": "c854b11d",
   "metadata": {},
   "outputs": [],
   "source": [
    "sub.abort()\n",
    "time.sleep(3)\n",
    "sub.restart()"
   ]
  },
  {
   "cell_type": "markdown",
   "id": "265c8030",
   "metadata": {},
   "source": [
    "## 4. Configure System for Scan Commissioning Test\n",
    "\n",
    "### Copied from Jama 2024-04-15"
   ]
  },
  {
   "cell_type": "markdown",
   "id": "e8ccea1f",
   "metadata": {},
   "source": [
    "### 4.1 Bring the sub-systems to STANDBY mode using Telescope ON script or command from TMC as applicable.\n",
    "\n",
    "Running steps 1-3.3 should get the telescope into a standby state which can be checked by running 2.3"
   ]
  },
  {
   "cell_type": "markdown",
   "id": "d4bd5723",
   "metadata": {},
   "source": [
    "### 4.2 Inspect the TMC API or dashboard to view the indication of connectivity status and mode of operation of the sub-systems."
   ]
  },
  {
   "cell_type": "markdown",
   "id": "8d68830b",
   "metadata": {},
   "source": [
    "### 4.3 Change the telescope state to operational\n",
    "Running steps 3.4. - 3.5 should get the telescope to operational mode which can be checked by running steps 2.3"
   ]
  },
  {
   "cell_type": "markdown",
   "id": "37b63795",
   "metadata": {},
   "source": [
    "## 5. Hyperlinks and SUT config\n",
    "\n",
    "\n",
    "### 5.1 Gitlab pipeline used for the test: \n",
    "https://gitlab.com/ska-telescope/ska-mid-itf/-/pipelines/1361824989\n",
    "\n",
    "### 5.2 SUT config:\n",
    "\n",
    "{\n",
    "  \"chart\": \"ska-mid-itf\",\n",
    "  \"version\": \"23.2.0\",\n",
    "  \"sub_charts\": [\n",
    "    {\n",
    "      \"chart\": \"ska-tango-base\",\n",
    "      \"version\": \"0.4.10\"\n",
    "    },\n",
    "    {\n",
    "      \"chart\": \"ska-tango-util\",\n",
    "      \"version\": \"0.4.11\"\n",
    "    },\n",
    "    {\n",
    "      \"chart\": \"ska-tmc-mid\",\n",
    "      \"version\": \"0.20.0\"\n",
    "    },\n",
    "    {\n",
    "      \"chart\": \"ska-csp-lmc-mid\",\n",
    "      \"version\": \"0.20.1\"\n",
    "    },\n",
    "    {\n",
    "      \"chart\": \"ska-mid-cbf-mcs\",\n",
    "      \"version\": \"0.15.1\"\n",
    "    },\n",
    "    {\n",
    "      \"chart\": \"ska-sdp\",\n",
    "      \"version\": \"0.21.0\"\n",
    "    },\n",
    "    {\n",
    "      \"chart\": \"ska-ser-config-inspector\",\n",
    "      \"version\": \"0.2.3\"\n",
    "    },\n",
    "    {\n",
    "      \"chart\": \"ska-tango-taranta\",\n",
    "      \"version\": \"2.10.2\"\n",
    "    },\n",
    "    {\n",
    "      \"chart\": \"ska-tango-tangogql\",\n",
    "      \"version\": \"1.4.3\"\n",
    "    },\n",
    "    {\n",
    "      \"chart\": \"ska-tango-alarmhandler\",\n",
    "      \"version\": \"0.4.0\"\n",
    "    },\n",
    "    {\n",
    "      \"chart\": \"ska-tango-archiver\",\n",
    "      \"version\": \"2.7.1\"\n",
    "    }\n",
    "  ]\n",
    "}"
   ]
  }
 ],
 "metadata": {
  "kernelspec": {
   "display_name": "Python 3 (ipykernel)",
   "language": "python",
   "name": "python3"
  },
  "language_info": {
   "codemirror_mode": {
    "name": "ipython",
    "version": 3
   },
   "file_extension": ".py",
   "mimetype": "text/x-python",
   "name": "python",
   "nbconvert_exporter": "python",
   "pygments_lexer": "ipython3",
   "version": "3.10.12"
  }
 },
 "nbformat": 4,
 "nbformat_minor": 5
}
