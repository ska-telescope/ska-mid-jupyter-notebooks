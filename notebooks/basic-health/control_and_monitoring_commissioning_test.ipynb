{
 "cells": [
  {
   "cell_type": "markdown",
   "id": "9ea536d6",
   "metadata": {},
   "source": [
    "# Configure Scan & System Health Displays Test"
   ]
  },
  {
   "cell_type": "markdown",
   "id": "524f1991",
   "metadata": {},
   "source": [
    "## Table of Contents\n",
    "#### [1 - Global Configuration](#1-global-configuration)\n",
    "#### [2 - Telescope Setup](#2-test-equipment-setup)\n",
    "#### [3 - Observation Definition](#3-configure-scan-tests)\n",
    "#### [4 - Configure System for Scan Commissioning Test ](#4-configure-for-scan)\n",
    "#### [5 - Hyperlinks and SUT config](#5-hyperlinks-and-sut-config)"
   ]
  },
  {
   "cell_type": "markdown",
   "id": "9534ae98",
   "metadata": {},
   "source": [
    "## 1 Global Configuration"
   ]
  },
  {
   "cell_type": "markdown",
   "id": "1d9885e1",
   "metadata": {},
   "source": [
    "### 1.1 Import dependencies"
   ]
  },
  {
   "cell_type": "code",
   "execution_count": 1,
   "id": "6ea49e47",
   "metadata": {},
   "outputs": [],
   "source": [
    "import sys\n",
    "\n",
    "sys.path.append(\"../../src\")\n",
    "\n",
    "import json\n",
    "import logging\n",
    "import os\n",
    "import pathlib\n",
    "import time\n",
    "from typing import List\n",
    "\n",
    "import ska_ser_logging\n",
    "from bokeh.io import output_notebook\n",
    "from ska_oso_pdm.entities.common.target import (\n",
    "    CrossScanParameters,\n",
    "    FivePointParameters,\n",
    "    RasterParameters,\n",
    "    SinglePointParameters,\n",
    "    StarRasterParameters,\n",
    ")\n",
    "from ska_oso_pdm.entities.sdp import BeamMapping\n",
    "from ska_oso_scripting import oda_helper\n",
    "from ska_oso_scripting.functions.devicecontrol.resource_control import get_request_json\n",
    "from ska_oso_scripting.objects import SubArray, Telescope\n",
    "from ska_tmc_cdm.messages.central_node.assign_resources import AssignResourcesRequest\n",
    "from ska_tmc_cdm.messages.central_node.sdp import Channel\n",
    "from ska_tmc_cdm.messages.subarray_node.configure import ConfigureRequest\n",
    "from ska_tmc_cdm.messages.subarray_node.configure.core import ReceiverBand\n",
    "\n",
    "from ska_mid_jupyter_notebooks.cluster.cluster import Environment, TangoDeployment\n",
    "from ska_mid_jupyter_notebooks.dish.dish import TangoDishDeployment\n",
    "from ska_mid_jupyter_notebooks.helpers.path import project_root\n",
    "from ska_mid_jupyter_notebooks.obsconfig.config import ObservationSB\n",
    "from ska_mid_jupyter_notebooks.obsconfig.target_spec import TargetSpec, get_default_target_specs_sb\n",
    "from ska_mid_jupyter_notebooks.sut.rendering import TelescopeMononitorPlot\n",
    "from ska_mid_jupyter_notebooks.sut.state import TelescopeDeviceModel, get_telescope_state\n",
    "from ska_mid_jupyter_notebooks.sut.sut import TangoSUTDeployment, disable_qa\n",
    "from ska_mid_jupyter_notebooks.test_equipment.rendering import get_test_equipment_monitor_plot\n",
    "from ska_mid_jupyter_notebooks.test_equipment.state import get_equipment_model\n",
    "from ska_mid_jupyter_notebooks.test_equipment.test_equipment import TangoTestEquipment"
   ]
  },
  {
   "cell_type": "markdown",
   "id": "c9e6cc6d",
   "metadata": {},
   "source": [
    "### 1.2 Setup Global Variables and Configuration"
   ]
  },
  {
   "cell_type": "code",
   "execution_count": 2,
   "id": "0b0c3b4c",
   "metadata": {},
   "outputs": [
    {
     "name": "stdout",
     "output_type": "stream",
     "text": [
      "Test Equipment Configured: TangoTestEquipment{namespace=test-equipment; tango_host=tango-databaseds.test-equipment.svc.miditf.internal.skao.int:10000; cluster_domain=miditf.internal.skao.int; cia_url=http://config-inspector.test-equipment.svc.miditf.internal.skao.int:8765}\n",
      "SUT configured: TangoSUTDeployment{subarray_index=1; namespace=ci-ska-mid-itf-at-2141-human-read-nb; tango_host=tango-databaseds.ci-ska-mid-itf-at-2141-human-read-nb.svc.miditf.internal.skao.int:10000; cluster_domain=miditf.internal.skao.int; cia_url=http://config-inspector.ci-ska-mid-itf-at-2141-human-read-nb.svc.miditf.internal.skao.int:8765}\n",
      "Dish 001 configured: TangoDishDeployment{dish_id=ska001; namespace=ci-dish-lmc-ska001-at-2141-human-read-nb; tango_host=tango-databaseds.ci-dish-lmc-ska001-at-2141-human-read-nb.svc.miditf.internal.skao.int:10000; cluster_domain=miditf.internal.skao.int; cia_url=http://config-inspector.ci-dish-lmc-ska001-at-2141-human-read-nb.svc.miditf.internal.skao.int:8765}\n",
      "Dish 036 configured: TangoDishDeployment{dish_id=ska036; namespace=ci-dish-lmc-ska036-at-2141-human-read-nb; tango_host=tango-databaseds.ci-dish-lmc-ska036-at-2141-human-read-nb.svc.miditf.internal.skao.int:10000; cluster_domain=miditf.internal.skao.int; cia_url=http://config-inspector.ci-dish-lmc-ska036-at-2141-human-read-nb.svc.miditf.internal.skao.int:8765}\n"
     ]
    }
   ],
   "source": [
    "debug_mode = True  # This setting enables printing of diagnostics\n",
    "enable_logging = True  # This enables logging and sets the global log_level to debug\n",
    "dishlmc_enabled = True  # Set this to true if you have a dish LMC deployment\n",
    "executon_environment = Environment.CI\n",
    "branch_name = (\n",
    "    \"at-2141-human-read-nb\"  # Set this if you are using an on-demand deployment (i.e. Environment.CI)\n",
    ")\n",
    "if enable_logging:\n",
    "    ska_ser_logging.configure_logging(logging.DEBUG)\n",
    "test_equipment = TangoTestEquipment()\n",
    "print(f\"Test Equipment Configured: {test_equipment}\")\n",
    "# namespace_override parameter can be used to override auto-configured SUT namespace\n",
    "sut_namespace_override = \"\"\n",
    "subarray_count = 1\n",
    "subarray_id = 1\n",
    "sut = TangoSUTDeployment(\n",
    "    branch_name,\n",
    "    executon_environment,\n",
    "    namespace_override=sut_namespace_override,\n",
    "    subarray_index=subarray_id,\n",
    ")\n",
    "print(f\"SUT configured: {str(sut)}\")\n",
    "dish_ids = [\"001\", \"036\"]\n",
    "# namespace_override parameter can be used to override auto-configured dish namespace\n",
    "dish_namespace_overrides = [\"\", \"\"]\n",
    "dish_deployments: List[TangoDishDeployment] = []\n",
    "if dishlmc_enabled:\n",
    "    for i, d in enumerate(dish_ids):\n",
    "        dish = TangoDishDeployment(\n",
    "            f\"ska{d}\",\n",
    "            branch_name=branch_name,\n",
    "            environment=executon_environment,\n",
    "            namespace_override=dish_namespace_overrides[i],\n",
    "        )\n",
    "        print(f\"Dish {d} configured: {dish}\")\n",
    "        dish_deployments.append(dish)\n",
    "\n",
    "timestr = time.strftime(\"%Y%m%d-%H%M\")\n",
    "notebook_output_dir = pathlib.Path(\n",
    "    project_root(), f\"notebook-execution-data/configure_scan_for_commissioning/execution-{timestr}\"\n",
    ")\n",
    "os.makedirs(notebook_output_dir, exist_ok=True)\n",
    "# we disable qa as it is not been properly verified\n",
    "disable_qa()"
   ]
  },
  {
   "cell_type": "markdown",
   "id": "4b7fa8f6",
   "metadata": {},
   "source": [
    "### 1.3 Test Connections to Namespaces"
   ]
  },
  {
   "cell_type": "code",
   "execution_count": 4,
   "id": "31882e18",
   "metadata": {},
   "outputs": [
    {
     "name": "stdout",
     "output_type": "stream",
     "text": [
      "CIA PingResponse (ci-ska-mid-itf-at-2141-human-read-nb): {\"result\":\"ok\",\"time\":\"2024-07-08T15:33:45.905326\"}\n",
      "CIA PingResponse (test-equipment): {\"result\":\"ok\",\"time\":\"2024-07-08T15:33:46.709227\"}\n",
      "mid-itf/siggen/1 is reachable\n",
      "mid-itf/progattenuator/1 is reachable\n",
      "mid-itf/spectana/1 is reachable\n",
      "mid-itf/skysimctl/4 is reachable\n",
      "CIA PingResponse (ci-dish-lmc-ska001-at-2141-human-read-nb): {\"result\":\"ok\",\"time\":\"2024-07-08T15:33:47.755859\"}\n",
      "CIA PingResponse (ci-dish-lmc-ska036-at-2141-human-read-nb): {\"result\":\"ok\",\"time\":\"2024-07-08T15:33:48.189201\"}\n"
     ]
    }
   ],
   "source": [
    "sut.smoke_test()\n",
    "test_equipment.smoke_test()\n",
    "for dish_deployment in dish_deployments:\n",
    "    dish_deployment.smoke_test()"
   ]
  },
  {
   "cell_type": "markdown",
   "id": "52120d53",
   "metadata": {},
   "source": [
    "### 1.4 Export System Configuration"
   ]
  },
  {
   "cell_type": "code",
   "execution_count": 5,
   "id": "8fdb3717",
   "metadata": {},
   "outputs": [
    {
     "name": "stdout",
     "output_type": "stream",
     "text": [
      "Exporting configuration using http://config-inspector.ci-ska-mid-itf-at-2141-human-read-nb.svc.miditf.internal.skao.int:8765\n",
      "ReleaseResponse (ci-ska-mid-itf-at-2141-human-read-nb): {\n",
      "    \"chart\": \"ska-mid-itf\",\n",
      "    \"version\": \"23.2.0\",\n",
      "    \"sub_charts\": [\n",
      "        {\n",
      "            \"chart\": \"ska-tango-base\",\n",
      "            \"version\": \"0.4.10\"\n",
      "        },\n",
      "        {\n",
      "            \"chart\": \"ska-tango-util\",\n",
      "            \"version\": \"0.4.11\"\n",
      "        },\n",
      "        {\n",
      "            \"chart\": \"ska-tmc-mid\",\n",
      "            \"version\": \"0.20.0\"\n",
      "        },\n",
      "        {\n",
      "            \"chart\": \"ska-csp-lmc-mid\",\n",
      "            \"version\": \"0.20.1\"\n",
      "        },\n",
      "        {\n",
      "            \"chart\": \"ska-mid-cbf-mcs\",\n",
      "            \"version\": \"0.15.1\"\n",
      "        },\n",
      "        {\n",
      "            \"chart\": \"ska-sdp\",\n",
      "            \"version\": \"0.21.0\"\n",
      "        },\n",
      "        {\n",
      "            \"chart\": \"ska-ser-config-inspector\",\n",
      "            \"version\": \"0.2.3\"\n",
      "        },\n",
      "        {\n",
      "            \"chart\": \"ska-tango-taranta\",\n",
      "            \"version\": \"2.10.2\"\n",
      "        },\n",
      "        {\n",
      "            \"chart\": \"ska-tango-tangogql\",\n",
      "            \"version\": \"1.4.3\"\n",
      "        },\n",
      "        {\n",
      "            \"chart\": \"ska-tango-alarmhandler\",\n",
      "            \"version\": \"0.4.0\"\n",
      "        },\n",
      "        {\n",
      "            \"chart\": \"ska-tango-archiver\",\n",
      "            \"version\": \"2.7.1\"\n",
      "        }\n",
      "    ]\n",
      "}\n",
      "Exported chart from ci-ska-mid-itf-at-2141-human-read-nb configuration to /mnt/c/python_workspace/ska-mid-jupyter-notebooks/src/ska_mid_jupyter_notebooks/helpers/../../../notebook-execution-data/configure_scan_for_commissioning/execution-20240708-1719/config-ci-ska-mid-itf-at-2141-human-read-nb.json\n",
      "/mnt/c/python_workspace/ska-mid-jupyter-notebooks/src/ska_mid_jupyter_notebooks/helpers/../../../notebook-execution-data/configure_scan_for_commissioning/execution-20240708-1719\n",
      "Exporting configuration using http://config-inspector.test-equipment.svc.miditf.internal.skao.int:8765\n",
      "ReleaseResponse (test-equipment): {\n",
      "    \"chart\": \"test-equipment\",\n",
      "    \"version\": \"22.0.1\",\n",
      "    \"sub_charts\": [\n",
      "        {\n",
      "            \"chart\": \"ska-tango-base\",\n",
      "            \"version\": \"0.4.9\"\n",
      "        },\n",
      "        {\n",
      "            \"chart\": \"ska-tango-util\",\n",
      "            \"version\": \"0.4.10\"\n",
      "        },\n",
      "        {\n",
      "            \"chart\": \"ska-ser-test-equipment\",\n",
      "            \"version\": \"0.9.1\"\n",
      "        },\n",
      "        {\n",
      "            \"chart\": \"ska-tango-taranta\",\n",
      "            \"version\": \"2.9.0\"\n",
      "        },\n",
      "        {\n",
      "            \"chart\": \"ska-tango-tangogql\",\n",
      "            \"version\": \"1.3.10\"\n",
      "        },\n",
      "        {\n",
      "            \"chart\": \"ska-ser-config-inspector\",\n",
      "            \"version\": \"0.2.3\"\n",
      "        }\n",
      "    ]\n",
      "}\n",
      "Exported chart from test-equipment configuration to /mnt/c/python_workspace/ska-mid-jupyter-notebooks/src/ska_mid_jupyter_notebooks/helpers/../../../notebook-execution-data/configure_scan_for_commissioning/execution-20240708-1719/config-test-equipment.json\n",
      "/mnt/c/python_workspace/ska-mid-jupyter-notebooks/src/ska_mid_jupyter_notebooks/helpers/../../../notebook-execution-data/configure_scan_for_commissioning/execution-20240708-1719\n",
      "Exporting configuration using http://config-inspector.ci-dish-lmc-ska001-at-2141-human-read-nb.svc.miditf.internal.skao.int:8765\n",
      "ReleaseResponse (ci-dish-lmc-ska001-at-2141-human-read-nb): {\n",
      "    \"chart\": \"ska-mid-itf-dish-lmc\",\n",
      "    \"version\": \"23.2.0\",\n",
      "    \"sub_charts\": [\n",
      "        {\n",
      "            \"chart\": \"ska-tango-base\",\n",
      "            \"version\": \"0.4.10\"\n",
      "        },\n",
      "        {\n",
      "            \"chart\": \"ska-tango-util\",\n",
      "            \"version\": \"0.4.11\"\n",
      "        },\n",
      "        {\n",
      "            \"chart\": \"ska-tango-taranta\",\n",
      "            \"version\": \"2.10.2\"\n",
      "        },\n",
      "        {\n",
      "            \"chart\": \"ska-tango-tangogql\",\n",
      "            \"version\": \"1.4.3\"\n",
      "        },\n",
      "        {\n",
      "            \"chart\": \"ska-dish-lmc\",\n",
      "            \"version\": \"3.3.0\"\n",
      "        },\n",
      "        {\n",
      "            \"chart\": \"ska-ser-config-inspector\",\n",
      "            \"version\": \"0.2.3\"\n",
      "        }\n",
      "    ]\n",
      "}\n",
      "Exported chart from ci-dish-lmc-ska001-at-2141-human-read-nb configuration to /mnt/c/python_workspace/ska-mid-jupyter-notebooks/src/ska_mid_jupyter_notebooks/helpers/../../../notebook-execution-data/configure_scan_for_commissioning/execution-20240708-1719/config-ci-dish-lmc-ska001-at-2141-human-read-nb.json\n",
      "/mnt/c/python_workspace/ska-mid-jupyter-notebooks/src/ska_mid_jupyter_notebooks/helpers/../../../notebook-execution-data/configure_scan_for_commissioning/execution-20240708-1719\n",
      "Exporting configuration using http://config-inspector.ci-dish-lmc-ska036-at-2141-human-read-nb.svc.miditf.internal.skao.int:8765\n",
      "ReleaseResponse (ci-dish-lmc-ska036-at-2141-human-read-nb): {\n",
      "    \"chart\": \"ska-mid-itf-dish-lmc\",\n",
      "    \"version\": \"23.2.0\",\n",
      "    \"sub_charts\": [\n",
      "        {\n",
      "            \"chart\": \"ska-tango-base\",\n",
      "            \"version\": \"0.4.10\"\n",
      "        },\n",
      "        {\n",
      "            \"chart\": \"ska-tango-util\",\n",
      "            \"version\": \"0.4.11\"\n",
      "        },\n",
      "        {\n",
      "            \"chart\": \"ska-tango-taranta\",\n",
      "            \"version\": \"2.10.2\"\n",
      "        },\n",
      "        {\n",
      "            \"chart\": \"ska-tango-tangogql\",\n",
      "            \"version\": \"1.4.3\"\n",
      "        },\n",
      "        {\n",
      "            \"chart\": \"ska-dish-lmc\",\n",
      "            \"version\": \"3.3.0\"\n",
      "        },\n",
      "        {\n",
      "            \"chart\": \"ska-ser-config-inspector\",\n",
      "            \"version\": \"0.2.3\"\n",
      "        }\n",
      "    ]\n",
      "}\n",
      "Exported chart from ci-dish-lmc-ska036-at-2141-human-read-nb configuration to /mnt/c/python_workspace/ska-mid-jupyter-notebooks/src/ska_mid_jupyter_notebooks/helpers/../../../notebook-execution-data/configure_scan_for_commissioning/execution-20240708-1719/config-ci-dish-lmc-ska036-at-2141-human-read-nb.json\n",
      "/mnt/c/python_workspace/ska-mid-jupyter-notebooks/src/ska_mid_jupyter_notebooks/helpers/../../../notebook-execution-data/configure_scan_for_commissioning/execution-20240708-1719\n"
     ]
    }
   ],
   "source": [
    "deployment: TangoDeployment\n",
    "for deployment in [sut, test_equipment, *dish_deployments]:\n",
    "    deployment.export_chart_configuration(output_dir=notebook_output_dir)\n",
    "    print(notebook_output_dir)"
   ]
  },
  {
   "cell_type": "markdown",
   "id": "0f6d2326",
   "metadata": {},
   "source": [
    "## 2 Telescope Setup"
   ]
  },
  {
   "cell_type": "markdown",
   "id": "361cd18e",
   "metadata": {},
   "source": [
    "#### 2.1 Configure Telescope Monitoring"
   ]
  },
  {
   "cell_type": "code",
   "execution_count": 7,
   "id": "bff1ef18",
   "metadata": {},
   "outputs": [
    {
     "data": {
      "text/html": [
       "    <style>\n",
       "        .bk-notebook-logo {\n",
       "            display: block;\n",
       "            width: 20px;\n",
       "            height: 20px;\n",
       "            background-image: url(data:image/png;base64,iVBORw0KGgoAAAANSUhEUgAAABQAAAAUCAYAAACNiR0NAAAABHNCSVQICAgIfAhkiAAAAAlwSFlzAAALEgAACxIB0t1+/AAAABx0RVh0U29mdHdhcmUAQWRvYmUgRmlyZXdvcmtzIENTNui8sowAAAOkSURBVDiNjZRtaJVlGMd/1/08zzln5zjP1LWcU9N0NkN8m2CYjpgQYQXqSs0I84OLIC0hkEKoPtiH3gmKoiJDU7QpLgoLjLIQCpEsNJ1vqUOdO7ppbuec5+V+rj4ctwzd8IIbbi6u+8f1539dt3A78eXC7QizUF7gyV1fD1Yqg4JWz84yffhm0qkFqBogB9rM8tZdtwVsPUhWhGcFJngGeWrPzHm5oaMmkfEg1usvLFyc8jLRqDOMru7AyC8saQr7GG7f5fvDeH7Ej8CM66nIF+8yngt6HWaKh7k49Soy9nXurCi1o3qUbS3zWfrYeQDTB/Qj6kX6Ybhw4B+bOYoLKCC9H3Nu/leUTZ1JdRWkkn2ldcCamzrcf47KKXdAJllSlxAOkRgyHsGC/zRday5Qld9DyoM4/q/rUoy/CXh3jzOu3bHUVZeU+DEn8FInkPBFlu3+nW3Nw0mk6vCDiWg8CeJaxEwuHS3+z5RgY+YBR6V1Z1nxSOfoaPa4LASWxxdNp+VWTk7+4vzaou8v8PN+xo+KY2xsw6une2frhw05CTYOmQvsEhjhWjn0bmXPjpE1+kplmmkP3suftwTubK9Vq22qKmrBhpY4jvd5afdRA3wGjFAgcnTK2s4hY0/GPNIb0nErGMCRxWOOX64Z8RAC4oCXdklmEvcL8o0BfkNK4lUg9HTl+oPlQxdNo3Mg4Nv175e/1LDGzZen30MEjRUtmXSfiTVu1kK8W4txyV6BMKlbgk3lMwYCiusNy9fVfvvwMxv8Ynl6vxoByANLTWplvuj/nF9m2+PDtt1eiHPBr1oIfhCChQMBw6Aw0UulqTKZdfVvfG7VcfIqLG9bcldL/+pdWTLxLUy8Qq38heUIjh4XlzZxzQm19lLFlr8vdQ97rjZVOLf8nclzckbcD4wxXMidpX30sFd37Fv/GtwwhzhxGVAprjbg0gCAEeIgwCZyTV2Z1REEW8O4py0wsjeloKoMr6iCY6dP92H6Vw/oTyICIthibxjm/DfN9lVz8IqtqKYLUXfoKVMVQVVJOElGjrnnUt9T9wbgp8AyYKaGlqingHZU/uG2NTZSVqwHQTWkx9hxjkpWDaCg6Ckj5qebgBVbT3V3NNXMSiWSDdGV3hrtzla7J+duwPOToIg42ChPQOQjspnSlp1V+Gjdged7+8UN5CRAV7a5EdFNwCjEaBR27b3W890TE7g24NAP/mMDXRWrGoFPQI9ls/MWO2dWFAar/xcOIImbbpA3zgAAAABJRU5ErkJggg==);\n",
       "        }\n",
       "    </style>\n",
       "    <div>\n",
       "        <a href=\"https://bokeh.org\" target=\"_blank\" class=\"bk-notebook-logo\"></a>\n",
       "        <span id=\"dcfafb46-46e8-44d1-9f72-dbc1266c33cd\">Loading BokehJS ...</span>\n",
       "    </div>\n"
      ]
     },
     "metadata": {},
     "output_type": "display_data"
    },
    {
     "data": {
      "application/javascript": "'use strict';\n(function(root) {\n  function now() {\n    return new Date();\n  }\n\n  const force = true;\n\n  if (typeof root._bokeh_onload_callbacks === \"undefined\" || force === true) {\n    root._bokeh_onload_callbacks = [];\n    root._bokeh_is_loading = undefined;\n  }\n\nconst JS_MIME_TYPE = 'application/javascript';\n  const HTML_MIME_TYPE = 'text/html';\n  const EXEC_MIME_TYPE = 'application/vnd.bokehjs_exec.v0+json';\n  const CLASS_NAME = 'output_bokeh rendered_html';\n\n  /**\n   * Render data to the DOM node\n   */\n  function render(props, node) {\n    const script = document.createElement(\"script\");\n    node.appendChild(script);\n  }\n\n  /**\n   * Handle when an output is cleared or removed\n   */\n  function handleClearOutput(event, handle) {\n    function drop(id) {\n      const view = Bokeh.index.get_by_id(id)\n      if (view != null) {\n        view.model.document.clear()\n        Bokeh.index.delete(view)\n      }\n    }\n\n    const cell = handle.cell;\n\n    const id = cell.output_area._bokeh_element_id;\n    const server_id = cell.output_area._bokeh_server_id;\n\n    // Clean up Bokeh references\n    if (id != null) {\n      drop(id)\n    }\n\n    if (server_id !== undefined) {\n      // Clean up Bokeh references\n      const cmd_clean = \"from bokeh.io.state import curstate; print(curstate().uuid_to_server['\" + server_id + \"'].get_sessions()[0].document.roots[0]._id)\";\n      cell.notebook.kernel.execute(cmd_clean, {\n        iopub: {\n          output: function(msg) {\n            const id = msg.content.text.trim()\n            drop(id)\n          }\n        }\n      });\n      // Destroy server and session\n      const cmd_destroy = \"import bokeh.io.notebook as ion; ion.destroy_server('\" + server_id + \"')\";\n      cell.notebook.kernel.execute(cmd_destroy);\n    }\n  }\n\n  /**\n   * Handle when a new output is added\n   */\n  function handleAddOutput(event, handle) {\n    const output_area = handle.output_area;\n    const output = handle.output;\n\n    // limit handleAddOutput to display_data with EXEC_MIME_TYPE content only\n    if ((output.output_type != \"display_data\") || (!Object.prototype.hasOwnProperty.call(output.data, EXEC_MIME_TYPE))) {\n      return\n    }\n\n    const toinsert = output_area.element.find(\".\" + CLASS_NAME.split(' ')[0]);\n\n    if (output.metadata[EXEC_MIME_TYPE][\"id\"] !== undefined) {\n      toinsert[toinsert.length - 1].firstChild.textContent = output.data[JS_MIME_TYPE];\n      // store reference to embed id on output_area\n      output_area._bokeh_element_id = output.metadata[EXEC_MIME_TYPE][\"id\"];\n    }\n    if (output.metadata[EXEC_MIME_TYPE][\"server_id\"] !== undefined) {\n      const bk_div = document.createElement(\"div\");\n      bk_div.innerHTML = output.data[HTML_MIME_TYPE];\n      const script_attrs = bk_div.children[0].attributes;\n      for (let i = 0; i < script_attrs.length; i++) {\n        toinsert[toinsert.length - 1].firstChild.setAttribute(script_attrs[i].name, script_attrs[i].value);\n        toinsert[toinsert.length - 1].firstChild.textContent = bk_div.children[0].textContent\n      }\n      // store reference to server id on output_area\n      output_area._bokeh_server_id = output.metadata[EXEC_MIME_TYPE][\"server_id\"];\n    }\n  }\n\n  function register_renderer(events, OutputArea) {\n\n    function append_mime(data, metadata, element) {\n      // create a DOM node to render to\n      const toinsert = this.create_output_subarea(\n        metadata,\n        CLASS_NAME,\n        EXEC_MIME_TYPE\n      );\n      this.keyboard_manager.register_events(toinsert);\n      // Render to node\n      const props = {data: data, metadata: metadata[EXEC_MIME_TYPE]};\n      render(props, toinsert[toinsert.length - 1]);\n      element.append(toinsert);\n      return toinsert\n    }\n\n    /* Handle when an output is cleared or removed */\n    events.on('clear_output.CodeCell', handleClearOutput);\n    events.on('delete.Cell', handleClearOutput);\n\n    /* Handle when a new output is added */\n    events.on('output_added.OutputArea', handleAddOutput);\n\n    /**\n     * Register the mime type and append_mime function with output_area\n     */\n    OutputArea.prototype.register_mime_type(EXEC_MIME_TYPE, append_mime, {\n      /* Is output safe? */\n      safe: true,\n      /* Index of renderer in `output_area.display_order` */\n      index: 0\n    });\n  }\n\n  // register the mime type if in Jupyter Notebook environment and previously unregistered\n  if (root.Jupyter !== undefined) {\n    const events = require('base/js/events');\n    const OutputArea = require('notebook/js/outputarea').OutputArea;\n\n    if (OutputArea.prototype.mime_types().indexOf(EXEC_MIME_TYPE) == -1) {\n      register_renderer(events, OutputArea);\n    }\n  }\n  if (typeof (root._bokeh_timeout) === \"undefined\" || force === true) {\n    root._bokeh_timeout = Date.now() + 5000;\n    root._bokeh_failed_load = false;\n  }\n\n  const NB_LOAD_WARNING = {'data': {'text/html':\n     \"<div style='background-color: #fdd'>\\n\"+\n     \"<p>\\n\"+\n     \"BokehJS does not appear to have successfully loaded. If loading BokehJS from CDN, this \\n\"+\n     \"may be due to a slow or bad network connection. Possible fixes:\\n\"+\n     \"</p>\\n\"+\n     \"<ul>\\n\"+\n     \"<li>re-rerun `output_notebook()` to attempt to load from CDN again, or</li>\\n\"+\n     \"<li>use INLINE resources instead, as so:</li>\\n\"+\n     \"</ul>\\n\"+\n     \"<code>\\n\"+\n     \"from bokeh.resources import INLINE\\n\"+\n     \"output_notebook(resources=INLINE)\\n\"+\n     \"</code>\\n\"+\n     \"</div>\"}};\n\n  function display_loaded(error = null) {\n    const el = document.getElementById(\"dcfafb46-46e8-44d1-9f72-dbc1266c33cd\");\n    if (el != null) {\n      const html = (() => {\n        if (typeof root.Bokeh === \"undefined\") {\n          if (error == null) {\n            return \"BokehJS is loading ...\";\n          } else {\n            return \"BokehJS failed to load.\";\n          }\n        } else {\n          const prefix = `BokehJS ${root.Bokeh.version}`;\n          if (error == null) {\n            return `${prefix} successfully loaded.`;\n          } else {\n            return `${prefix} <b>encountered errors</b> while loading and may not function as expected.`;\n          }\n        }\n      })();\n      el.innerHTML = html;\n\n      if (error != null) {\n        const wrapper = document.createElement(\"div\");\n        wrapper.style.overflow = \"auto\";\n        wrapper.style.height = \"5em\";\n        wrapper.style.resize = \"vertical\";\n        const content = document.createElement(\"div\");\n        content.style.fontFamily = \"monospace\";\n        content.style.whiteSpace = \"pre-wrap\";\n        content.style.backgroundColor = \"rgb(255, 221, 221)\";\n        content.textContent = error.stack ?? error.toString();\n        wrapper.append(content);\n        el.append(wrapper);\n      }\n    } else if (Date.now() < root._bokeh_timeout) {\n      setTimeout(() => display_loaded(error), 100);\n    }\n  }\n\n  function run_callbacks() {\n    try {\n      root._bokeh_onload_callbacks.forEach(function(callback) {\n        if (callback != null)\n          callback();\n      });\n    } finally {\n      delete root._bokeh_onload_callbacks\n    }\n    console.debug(\"Bokeh: all callbacks have finished\");\n  }\n\n  function load_libs(css_urls, js_urls, callback) {\n    if (css_urls == null) css_urls = [];\n    if (js_urls == null) js_urls = [];\n\n    root._bokeh_onload_callbacks.push(callback);\n    if (root._bokeh_is_loading > 0) {\n      console.debug(\"Bokeh: BokehJS is being loaded, scheduling callback at\", now());\n      return null;\n    }\n    if (js_urls == null || js_urls.length === 0) {\n      run_callbacks();\n      return null;\n    }\n    console.debug(\"Bokeh: BokehJS not loaded, scheduling load and callback at\", now());\n    root._bokeh_is_loading = css_urls.length + js_urls.length;\n\n    function on_load() {\n      root._bokeh_is_loading--;\n      if (root._bokeh_is_loading === 0) {\n        console.debug(\"Bokeh: all BokehJS libraries/stylesheets loaded\");\n        run_callbacks()\n      }\n    }\n\n    function on_error(url) {\n      console.error(\"failed to load \" + url);\n    }\n\n    for (let i = 0; i < css_urls.length; i++) {\n      const url = css_urls[i];\n      const element = document.createElement(\"link\");\n      element.onload = on_load;\n      element.onerror = on_error.bind(null, url);\n      element.rel = \"stylesheet\";\n      element.type = \"text/css\";\n      element.href = url;\n      console.debug(\"Bokeh: injecting link tag for BokehJS stylesheet: \", url);\n      document.body.appendChild(element);\n    }\n\n    for (let i = 0; i < js_urls.length; i++) {\n      const url = js_urls[i];\n      const element = document.createElement('script');\n      element.onload = on_load;\n      element.onerror = on_error.bind(null, url);\n      element.async = false;\n      element.src = url;\n      console.debug(\"Bokeh: injecting script tag for BokehJS library: \", url);\n      document.head.appendChild(element);\n    }\n  };\n\n  function inject_raw_css(css) {\n    const element = document.createElement(\"style\");\n    element.appendChild(document.createTextNode(css));\n    document.body.appendChild(element);\n  }\n\n  const js_urls = [\"https://cdn.bokeh.org/bokeh/release/bokeh-3.4.1.min.js\", \"https://cdn.bokeh.org/bokeh/release/bokeh-gl-3.4.1.min.js\", \"https://cdn.bokeh.org/bokeh/release/bokeh-widgets-3.4.1.min.js\", \"https://cdn.bokeh.org/bokeh/release/bokeh-tables-3.4.1.min.js\", \"https://cdn.bokeh.org/bokeh/release/bokeh-mathjax-3.4.1.min.js\"];\n  const css_urls = [];\n\n  const inline_js = [    function(Bokeh) {\n      Bokeh.set_log_level(\"info\");\n    },\nfunction(Bokeh) {\n    }\n  ];\n\n  function run_inline_js() {\n    if (root.Bokeh !== undefined || force === true) {\n      try {\n            for (let i = 0; i < inline_js.length; i++) {\n      inline_js[i].call(root, root.Bokeh);\n    }\n\n      } catch (error) {display_loaded(error);throw error;\n      }if (force === true) {\n        display_loaded();\n      }} else if (Date.now() < root._bokeh_timeout) {\n      setTimeout(run_inline_js, 100);\n    } else if (!root._bokeh_failed_load) {\n      console.log(\"Bokeh: BokehJS failed to load within specified timeout.\");\n      root._bokeh_failed_load = true;\n    } else if (force !== true) {\n      const cell = $(document.getElementById(\"dcfafb46-46e8-44d1-9f72-dbc1266c33cd\")).parents('.cell').data().cell;\n      cell.output_area.append_execute_result(NB_LOAD_WARNING)\n    }\n  }\n\n  if (root._bokeh_is_loading === 0) {\n    console.debug(\"Bokeh: BokehJS loaded, going straight to plotting\");\n    run_inline_js();\n  } else {\n    load_libs(css_urls, js_urls, function() {\n      console.debug(\"Bokeh: BokehJS plotting callback run at\", now());\n      run_inline_js();\n    });\n  }\n}(window));",
      "application/vnd.bokehjs_load.v0+json": ""
     },
     "metadata": {},
     "output_type": "display_data"
    }
   ],
   "source": [
    "# setup monitoring\n",
    "# use telescope state object for state monitoring\n",
    "device_model = TelescopeDeviceModel(dish_ids, subarray_count)\n",
    "telescope_state = get_telescope_state(device_model, sut)\n",
    "# use monitor plot as a dashboard\n",
    "telescope_monitor_plot = TelescopeMononitorPlot(plot_width=900, plot_height=200)\n",
    "# set up events to monitor\n",
    "telescope_state.subscribe_to_on_off(telescope_monitor_plot.observe_telescope_on_off)\n",
    "telescope_state.subscribe_to_subarray_resource_state(\n",
    "    telescope_monitor_plot.observe_subarray_resources_state\n",
    ")\n",
    "telescope_state.subscribe_to_subarray_configurational_state(\n",
    "    telescope_monitor_plot.observe_subarray_configuration_state\n",
    ")\n",
    "telescope_state.subscribe_to_subarray_scanning_state(\n",
    "    telescope_monitor_plot.observe_subarray_scanning_state\n",
    ")\n",
    "output_notebook()"
   ]
  },
  {
   "cell_type": "markdown",
   "id": "5e1a83fa",
   "metadata": {},
   "source": [
    "#### 2.2 Open the inline dashboard\n",
    "Start the simple inline dashboard showing current state of the Telescope and resource assignment and configuration status."
   ]
  },
  {
   "cell_type": "code",
   "execution_count": null,
   "id": "ba90fbe5",
   "metadata": {},
   "outputs": [],
   "source": [
    "telescope_monitor_plot.show()\n",
    "telescope_state.activate()\n",
    "telescope_state.wait_til_ready(2)"
   ]
  },
  {
   "cell_type": "markdown",
   "id": "8c243732",
   "metadata": {},
   "source": [
    "### 2.3 Print System Diagnostics"
   ]
  },
  {
   "cell_type": "markdown",
   "id": "1650210a",
   "metadata": {},
   "source": [
    "### 2.4 Print TMC Diagnostics"
   ]
  },
  {
   "cell_type": "code",
   "execution_count": null,
   "id": "1fe1b28a",
   "metadata": {},
   "outputs": [],
   "source": [
    "sut.print_tmc_diagnostics()"
   ]
  },
  {
   "cell_type": "markdown",
   "id": "7490e49f",
   "metadata": {},
   "source": [
    "### 2.5 Print CSP-LMC Diagnostics"
   ]
  },
  {
   "cell_type": "code",
   "execution_count": null,
   "id": "2d977dbb",
   "metadata": {},
   "outputs": [],
   "source": [
    "sut.print_csp_diagnostics()"
   ]
  },
  {
   "cell_type": "markdown",
   "id": "20c32d89",
   "metadata": {},
   "source": [
    "### 2.6 Print CBF Diagnostics"
   ]
  },
  {
   "cell_type": "code",
   "execution_count": null,
   "id": "2c4b84f4",
   "metadata": {},
   "outputs": [],
   "source": [
    "sut.print_cbf_diagnostics()"
   ]
  },
  {
   "cell_type": "markdown",
   "id": "2d94ccf7",
   "metadata": {},
   "source": [
    "### 2.7 Print SDP Diagnostics"
   ]
  },
  {
   "cell_type": "code",
   "execution_count": null,
   "id": "45d18b6f",
   "metadata": {},
   "outputs": [],
   "source": [
    "sut.print_sdp_diagnostics()"
   ]
  },
  {
   "cell_type": "markdown",
   "id": "b8685670",
   "metadata": {},
   "source": [
    "### 2.8 Print Dish-LMC Diagnostics"
   ]
  },
  {
   "cell_type": "code",
   "execution_count": null,
   "id": "00e2964a",
   "metadata": {},
   "outputs": [],
   "source": [
    "for dish_deployment in dish_deployments:\n",
    "    print(f\"Dish {dish_deployment.dish_id} - {dish_deployment.namespace}: Diagnostics\")\n",
    "\n",
    "    dish_deployment.print_diagnostics()"
   ]
  },
  {
   "cell_type": "markdown",
   "id": "93130f3b",
   "metadata": {},
   "source": [
    "### 2.9 Print Full System Diagnostics"
   ]
  },
  {
   "cell_type": "code",
   "execution_count": null,
   "id": "5f5513d7",
   "metadata": {},
   "outputs": [],
   "source": [
    "print(\"SUT: Full Diagnostics\")\n",
    "sut.print_full_diagnostics()\n",
    "\n",
    "for dish_deployment in dish_deployments:\n",
    "    print(f\"Dish {dish_deployment.dish_id}: Full Diagnostics\")\n",
    "    dish_deployment.print_full_diagnostics()\n",
    "\n",
    "print(\"Test Equipment: Full Diagnostics\")\n",
    "test_equipment.print_full_diagnostics()"
   ]
  },
  {
   "cell_type": "markdown",
   "id": "dcc952f9",
   "metadata": {},
   "source": [
    "### 2.10 Setup ODA"
   ]
  },
  {
   "cell_type": "code",
   "execution_count": null,
   "id": "750e478d",
   "metadata": {},
   "outputs": [],
   "source": [
    "os.environ[\"ODA_URI\"] = (\n",
    "    \"http://ingress-nginx-controller-lb-default.ingress-nginx.svc.miditf.internal.skao.int/ska-db-oda/api/v1/\"\n",
    ")\n",
    "eb_id = oda_helper.create_eb()\n",
    "print(f\"Execution Block ID: {eb_id}\")"
   ]
  },
  {
   "cell_type": "markdown",
   "id": "2b598fc9",
   "metadata": {},
   "source": [
    "### 2.11 Initialise Telescope and Subarray\n",
    "Create Subarray and Telescope instances."
   ]
  },
  {
   "cell_type": "code",
   "execution_count": null,
   "id": "1b2e9941",
   "metadata": {},
   "outputs": [],
   "source": [
    "sub = SubArray(subarray_id)\n",
    "tel = Telescope()"
   ]
  },
  {
   "cell_type": "markdown",
   "id": "3db487bd",
   "metadata": {},
   "source": [
    "### 2.12 Load VCC Configuration in TMC"
   ]
  },
  {
   "cell_type": "code",
   "execution_count": null,
   "id": "37bc04ca",
   "metadata": {},
   "outputs": [],
   "source": [
    "# This should only be executed for a fresh deployment (i.e. Telescope is OFF.\n",
    "# If you have restarted the subarray, you should not run this command\n",
    "sut.load_dish_vcc_config()"
   ]
  },
  {
   "cell_type": "markdown",
   "id": "a533faaa",
   "metadata": {},
   "source": [
    "### 2.13 Turn telescope ON"
   ]
  },
  {
   "cell_type": "code",
   "execution_count": null,
   "id": "1b2b2a0f",
   "metadata": {},
   "outputs": [],
   "source": [
    "# set to ON only if OFF\n",
    "# If you have restarted the subarray, you should not run this command (Telescope is already ON)\n",
    "# dish_lmc mode must be in LP_standby and before trying to turn the telescope ON\n",
    "# Takes about 1m20s\n",
    "if telescope_monitor_plot.on_off_state == \"OFF\":  # e.g. purple\n",
    "    tel.on()\n",
    "else:\n",
    "    assert (\n",
    "        telescope_monitor_plot.on_off_state == \"ON\"\n",
    "    ), f\"Cant continue with telescope in {telescope_monitor_plot.on_off_state}\""
   ]
  },
  {
   "cell_type": "markdown",
   "id": "7ca4967f-5420-4a54-97e7-7605753aeb00",
   "metadata": {},
   "source": [
    "## 3. Observation Definition"
   ]
  },
  {
   "cell_type": "markdown",
   "id": "d2e666a2-7d56-4b8e-81bf-e31a98f7efaa",
   "metadata": {},
   "source": [
    "#### 3.7.1 Create the high level observation specifications in terms of target specs"
   ]
  },
  {
   "cell_type": "markdown",
   "id": "f867036b-6723-4244-918d-7553e5076890",
   "metadata": {},
   "source": [
    "Note :- Users may currently modify the values by replacing the example values as given for each field within Target specification section."
   ]
  },
  {
   "cell_type": "code",
   "execution_count": null,
   "id": "25d2c936-8078-4f2e-9bf2-0d7e2fb08134",
   "metadata": {
    "tags": []
   },
   "outputs": [],
   "source": [
    "dish_ids = [d.dish_id.upper() for d in dish_deployments]\n",
    "default_target_specs = get_default_target_specs_sb(dish_ids)\n",
    "observation = ObservationSB(target_specs=default_target_specs)\n",
    "\n",
    "target_specs = {\n",
    "    \"flux calibrator\": TargetSpec(\n",
    "        target_sb_detail={\n",
    "            \"co_ordinate_type\": \"Equatorial\",\n",
    "            \"ra\": \"19:24:51.05 degrees\",\n",
    "            \"dec\": \"-29:14:30.12 degrees\",\n",
    "            \"reference_frame\": \"ICRS\",\n",
    "            \"unit\": (\"hourangle\", \"deg\"),\n",
    "            \"pointing_pattern_type\": {\n",
    "                \"single_pointing_parameters\": SinglePointParameters(\n",
    "                    offset_x_arcsec=0.0, offset_y_arcsec=0.0\n",
    "                ),\n",
    "                \"raster_parameters\": RasterParameters(\n",
    "                    row_length_arcsec=0.0,\n",
    "                    row_offset_arcsec=0.0,\n",
    "                    n_rows=1,\n",
    "                    pa=0.0,\n",
    "                    unidirectional=False,\n",
    "                ),\n",
    "                \"star_raster_parameters\": StarRasterParameters(\n",
    "                    row_length_arcsec=0.0,\n",
    "                    n_rows=1,\n",
    "                    row_offset_angle=0.0,\n",
    "                    unidirectional=False,\n",
    "                ),\n",
    "                \"five_point_parameters\": FivePointParameters(offset_arcsec=0.0),\n",
    "                \"cross_scan_parameters\": CrossScanParameters(offset_arcsec=0.0),\n",
    "                \"active_pointing_pattern_type\": \"single_pointing_parameters\",\n",
    "            },\n",
    "        },\n",
    "        scan_type=\"flux calibrator\",\n",
    "        band=ReceiverBand.BAND_2,\n",
    "        channelisation=\"vis_channels9\",\n",
    "        polarisation=\"all\",\n",
    "        processing=\"test-receive-addresses\",\n",
    "        dish_ids=dish_ids,\n",
    "        target=None,\n",
    "    ),\n",
    "    \"M87\": TargetSpec(\n",
    "        target_sb_detail={\n",
    "            \"co_ordinate_type\": \"Equatorial\",\n",
    "            \"ra\": \"19:24:51.05 degrees\",\n",
    "            \"dec\": \"-29:14:30.12 degrees\",\n",
    "            \"reference_frame\": \"ICRS\",\n",
    "            \"unit\": (\"hourangle\", \"deg\"),\n",
    "            \"pointing_pattern_type\": {\n",
    "                \"single_pointing_parameters\": SinglePointParameters(\n",
    "                    offset_x_arcsec=0.0, offset_y_arcsec=0.0\n",
    "                ),\n",
    "                \"raster_parameters\": RasterParameters(\n",
    "                    row_length_arcsec=0.0,\n",
    "                    row_offset_arcsec=0.0,\n",
    "                    n_rows=1,\n",
    "                    pa=0.0,\n",
    "                    unidirectional=False,\n",
    "                ),\n",
    "                \"star_raster_parameters\": StarRasterParameters(\n",
    "                    row_length_arcsec=0.0,\n",
    "                    n_rows=1,\n",
    "                    row_offset_angle=0.0,\n",
    "                    unidirectional=False,\n",
    "                ),\n",
    "                \"five_point_parameters\": FivePointParameters(offset_arcsec=0.0),\n",
    "                \"cross_scan_parameters\": CrossScanParameters(offset_arcsec=0.0),\n",
    "                \"active_pointing_pattern_type\": \"single_pointing_parameters\",\n",
    "            },\n",
    "        },\n",
    "        scan_type=\"M87\",\n",
    "        band=ReceiverBand.BAND_2,\n",
    "        channelisation=\"vis_channels10\",\n",
    "        polarisation=\"all\",\n",
    "        processing=\"test-receive-addresses\",\n",
    "        dish_ids=dish_ids,\n",
    "        target=None,\n",
    "    ),\n",
    "}\n",
    "\n",
    "\n",
    "channel_configuration = [\n",
    "    Channel(\n",
    "        spectral_window_id=\"fsp_1_channels\",\n",
    "        count=14880,\n",
    "        start=0,\n",
    "        stride=2,\n",
    "        freq_min=0.35e9,\n",
    "        freq_max=0.368e9,\n",
    "        link_map=[[0, 0], [200, 1], [744, 2], [944, 3]],\n",
    "    )\n",
    "]\n",
    "\n",
    "for key, value in target_specs.items():\n",
    "    observation.add_channel_configuration(value.channelisation, channel_configuration)\n",
    "\n",
    "observation.add_target_specs(target_specs)\n",
    "\n",
    "for target_id, target in target_specs.items():\n",
    "    observation.add_scan_type_configuration(\n",
    "        config_name=target_id,\n",
    "        beams={\"vis0\": BeamMapping(beam_id=\"vis0\", field_id=\"M83\")},\n",
    "        derive_from=\".default\",\n",
    "    )\n",
    "scan_def_id = \"flux calibrator\"\n",
    "observation.add_scan_sequence([scan_def_id])"
   ]
  },
  {
   "cell_type": "markdown",
   "id": "c59a8bc2-5e50-4717-9cc2-57a71509591a",
   "metadata": {},
   "source": [
    "#### 3.7.2 Mid configuration schema input used by observing commands"
   ]
  },
  {
   "cell_type": "markdown",
   "id": "727e53ca-0480-42b9-bbd5-a71900b57de9",
   "metadata": {},
   "source": [
    "[Configuration Schemas-OET→TMC(Mid)](https://developer.skao.int/projects/ska-telmodel/en/latest/)"
   ]
  },
  {
   "cell_type": "code",
   "execution_count": null,
   "id": "1d2e7764-2bf3-4240-ad85-3df54361e6a1",
   "metadata": {
    "tags": []
   },
   "outputs": [],
   "source": [
    "telescope_monitor_plot.show()"
   ]
  },
  {
   "cell_type": "markdown",
   "id": "308b4669-4d24-4583-9b10-8135a96d70b6",
   "metadata": {},
   "source": [
    "#### 3.7.3 Create Scheduling Block Definition(SBD) Instance and save it into the ODA"
   ]
  },
  {
   "cell_type": "code",
   "execution_count": null,
   "id": "88f276d9-90c5-4ded-ac22-de876bf2ef88",
   "metadata": {
    "tags": []
   },
   "outputs": [],
   "source": [
    "observation.eb_id = eb_id\n",
    "pdm_allocation = observation.generate_pdm_object_for_sbd_save(target_specs)\n",
    "\n",
    "sbd = oda_helper.save(pdm_allocation)\n",
    "sbd_id = sbd.sbd_id\n",
    "pdm_allocation.sbd_id = sbd_id\n",
    "print(f\"Saved Scheduling Block Definition Instance in ODA: SBD_ID={sbd_id}\")"
   ]
  },
  {
   "cell_type": "markdown",
   "id": "f1806aa4-2f8a-43db-84ce-e8643dd1a0dc",
   "metadata": {},
   "source": [
    "### 3.8 Assign Resources\n",
    "Assign the requested resources to a Subarray"
   ]
  },
  {
   "cell_type": "code",
   "execution_count": null,
   "id": "4541f02b",
   "metadata": {},
   "outputs": [],
   "source": [
    "assign_request = observation.generate_allocate_config_sb(pdm_allocation).as_object\n",
    "\n",
    "if debug_mode:\n",
    "    request_json = get_request_json(assign_request, AssignResourcesRequest, True)\n",
    "    print(\"AssignResourcesRequest:\", json.dumps(json.loads(request_json), indent=2))\n",
    "\n",
    "sub.assign_from_cdm(assign_request, timeout=120)"
   ]
  },
  {
   "cell_type": "code",
   "execution_count": null,
   "id": "62aeea96-d3b1-44ba-9a80-a85bde4236e3",
   "metadata": {
    "tags": []
   },
   "outputs": [],
   "source": [
    "telescope_monitor_plot.show()"
   ]
  },
  {
   "cell_type": "markdown",
   "id": "cf6947ca-7e8b-4a1a-8a83-94c4b3647f38",
   "metadata": {},
   "source": [
    "### 3.9 Configure Scan\n",
    "Configure the telescope  on first target in sequence - may be modified to configure and run multiple targets at a later time."
   ]
  },
  {
   "cell_type": "code",
   "execution_count": null,
   "id": "b8df9783-06c0-4ab4-b9f6-4864c269a616",
   "metadata": {
    "tags": []
   },
   "outputs": [],
   "source": [
    "configure_object = observation.generate_scan_config_sb(\n",
    "    pdm_observation_request=pdm_allocation,\n",
    "    scan_definition_id=scan_def_id,\n",
    "    scan_duration=10.0,\n",
    ").as_object\n",
    "\n",
    "if debug_mode:\n",
    "    cfg_json = get_request_json(configure_object, ConfigureRequest)\n",
    "    print(f\"ConfigureRequest={cfg_json}\")\n",
    "\n",
    "sub.configure_from_cdm(configure_object, timeout=120)\n",
    "time.sleep(2)"
   ]
  },
  {
   "cell_type": "markdown",
   "id": "e24ecf17-27f7-4b39-97e0-35c604847beb",
   "metadata": {},
   "source": [
    "### 3.10 Post Observation teardown\n",
    "If the observation executed successfully, you can use the following commands to reset the telescope."
   ]
  },
  {
   "cell_type": "markdown",
   "id": "a6fdaf9d-745d-42af-979d-56df00be451f",
   "metadata": {},
   "source": [
    "#### 3.10.1 Clear scan configuration "
   ]
  },
  {
   "cell_type": "code",
   "execution_count": null,
   "id": "5283c8ce-aff0-4624-aee9-c256a9292e9a",
   "metadata": {
    "tags": []
   },
   "outputs": [],
   "source": [
    "sub.end()\n",
    "telescope_monitor_plot.show()"
   ]
  },
  {
   "cell_type": "markdown",
   "id": "2018060f-b252-4636-8ae3-1de450a8e84e",
   "metadata": {},
   "source": [
    "#### 3.10.2 Release Subarray resources"
   ]
  },
  {
   "cell_type": "code",
   "execution_count": null,
   "id": "82b3382b-c3b0-44c8-959b-2f7889e894fc",
   "metadata": {
    "tags": []
   },
   "outputs": [],
   "source": [
    "sub.release()\n",
    "telescope_monitor_plot.show()"
   ]
  },
  {
   "cell_type": "markdown",
   "id": "2271a3b8",
   "metadata": {},
   "source": [
    "### 3.11 Reset the Telescope (On Failure)\n",
    "Set booleans to True to reset the system after a failed execution."
   ]
  },
  {
   "cell_type": "markdown",
   "id": "3714b617",
   "metadata": {},
   "source": [
    "#### 3.11.1 Reset the Subarray"
   ]
  },
  {
   "cell_type": "code",
   "execution_count": null,
   "id": "c854b11d",
   "metadata": {},
   "outputs": [],
   "source": [
    "sub.abort()\n",
    "time.sleep(3)\n",
    "sub.restart()"
   ]
  },
  {
   "cell_type": "markdown",
   "id": "265c8030",
   "metadata": {},
   "source": [
    "## 4. Configure System for Scan Commissioning Test\n",
    "\n",
    "### Copied from Jama 2024-04-15"
   ]
  },
  {
   "cell_type": "markdown",
   "id": "e8ccea1f",
   "metadata": {},
   "source": [
    "### 4.1 Bring the sub-systems to STANDBY mode using Telescope ON script or command from TMC as applicable.\n",
    "\n",
    "Running steps 1-3.6 should get the telescope into a standby state which can be checked by running 3.2.2 - 3.2.6"
   ]
  },
  {
   "cell_type": "markdown",
   "id": "d4bd5723",
   "metadata": {},
   "source": [
    "### 4.2 Inspect the TMC API or dashboard to view the indication of connectivity status and mode of operation of the sub-systems."
   ]
  },
  {
   "cell_type": "markdown",
   "id": "8d68830b",
   "metadata": {},
   "source": [
    "### 4.3 Change the telescope state to operational\n",
    "Running steps 3.3. - 3.9 should get the telescope to operational mode which can be checked by running steps 3.2.2 - 3.2.6"
   ]
  },
  {
   "cell_type": "markdown",
   "id": "37b63795",
   "metadata": {},
   "source": [
    "## 5. Hyperlinks and SUT config\n",
    "\n",
    "\n",
    "### 5.1 Gitlab pipeline used for the test: \n",
    "https://gitlab.com/ska-telescope/ska-mid-itf/-/pipelines/1344577013\n",
    "\n",
    "### 5.2 SUT config:\n",
    "\n",
    "{\n",
    "  \"chart\": \"ska-mid-itf\",\n",
    "  \"version\": \"23.2.0\",\n",
    "  \"sub_charts\": [\n",
    "    {\n",
    "      \"chart\": \"ska-tango-base\",\n",
    "      \"version\": \"0.4.10\"\n",
    "    },\n",
    "    {\n",
    "      \"chart\": \"ska-tango-util\",\n",
    "      \"version\": \"0.4.11\"\n",
    "    },\n",
    "    {\n",
    "      \"chart\": \"ska-tmc-mid\",\n",
    "      \"version\": \"0.20.0\"\n",
    "    },\n",
    "    {\n",
    "      \"chart\": \"ska-csp-lmc-mid\",\n",
    "      \"version\": \"0.20.1\"\n",
    "    },\n",
    "    {\n",
    "      \"chart\": \"ska-mid-cbf-mcs\",\n",
    "      \"version\": \"0.15.1\"\n",
    "    },\n",
    "    {\n",
    "      \"chart\": \"ska-sdp\",\n",
    "      \"version\": \"0.21.0\"\n",
    "    },\n",
    "    {\n",
    "      \"chart\": \"ska-ser-config-inspector\",\n",
    "      \"version\": \"0.2.3\"\n",
    "    },\n",
    "    {\n",
    "      \"chart\": \"ska-tango-taranta\",\n",
    "      \"version\": \"2.10.2\"\n",
    "    },\n",
    "    {\n",
    "      \"chart\": \"ska-tango-tangogql\",\n",
    "      \"version\": \"1.4.3\"\n",
    "    },\n",
    "    {\n",
    "      \"chart\": \"ska-tango-alarmhandler\",\n",
    "      \"version\": \"0.4.0\"\n",
    "    },\n",
    "    {\n",
    "      \"chart\": \"ska-tango-archiver\",\n",
    "      \"version\": \"2.7.1\"\n",
    "    }\n",
    "  ]\n",
    "}"
   ]
  }
 ],
 "metadata": {
  "kernelspec": {
   "display_name": "Python 3 (ipykernel)",
   "language": "python",
   "name": "python3"
  },
  "language_info": {
   "codemirror_mode": {
    "name": "ipython",
    "version": 3
   },
   "file_extension": ".py",
   "mimetype": "text/x-python",
   "name": "python",
   "nbconvert_exporter": "python",
   "pygments_lexer": "ipython3",
   "version": "3.10.12"
  }
 },
 "nbformat": 4,
 "nbformat_minor": 5
}
