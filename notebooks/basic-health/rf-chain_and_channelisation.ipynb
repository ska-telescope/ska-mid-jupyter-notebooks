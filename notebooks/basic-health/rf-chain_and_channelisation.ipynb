{
 "cells": [
  {
   "cell_type": "markdown",
   "id": "9ea536d6",
   "metadata": {},
   "source": [
    "# RF Chain and Channelisation Commissioning Test"
   ]
  },
  {
   "cell_type": "markdown",
   "id": "524f1991",
   "metadata": {},
   "source": [
    "## Table of Contents\\n\n",
    "#### [0.1 - Global Configuration](#01---global-configuration)\n",
    "#### [0.2 - Setup Test Equipment](#02---setup-test-equipment)\n",
    "#### [1 -> Test Steps](#1---test-steps)"
   ]
  },
  {
   "cell_type": "markdown",
   "id": "9534ae98",
   "metadata": {},
   "source": [
    "## 0.1 Global Configuration"
   ]
  },
  {
   "cell_type": "markdown",
   "id": "1d9885e1",
   "metadata": {},
   "source": [
    "### 0.1.1 Import dependencies"
   ]
  },
  {
   "cell_type": "code",
   "execution_count": 2,
   "id": "6ea49e47",
   "metadata": {},
   "outputs": [],
   "source": [
    "import sys\n",
    "\n",
    "sys.path.append(\"../../src\")\n",
    "\n",
    "import json\n",
    "import logging\n",
    "import os\n",
    "import pathlib\n",
    "import time\n",
    "from typing import List\n",
    "\n",
    "import ska_ser_logging\n",
    "from bokeh.io import output_notebook\n",
    "from ska_oso_pdm.entities.common.target import (\n",
    "    CrossScanParameters,\n",
    "    FivePointParameters,\n",
    "    RasterParameters,\n",
    "    SinglePointParameters,\n",
    "    StarRasterParameters,\n",
    ")\n",
    "from ska_oso_pdm.entities.sdp import BeamMapping\n",
    "from ska_oso_scripting import oda_helper\n",
    "from ska_oso_scripting.functions.devicecontrol.resource_control import get_request_json\n",
    "from ska_oso_scripting.objects import SubArray, Telescope\n",
    "from ska_tmc_cdm.messages.central_node.assign_resources import AssignResourcesRequest\n",
    "from ska_tmc_cdm.messages.central_node.sdp import Channel\n",
    "from ska_tmc_cdm.messages.subarray_node.configure import ConfigureRequest\n",
    "from ska_tmc_cdm.messages.subarray_node.configure.core import ReceiverBand\n",
    "\n",
    "from ska_mid_jupyter_notebooks.cluster.cluster import Environment, TangoDeployment\n",
    "from ska_mid_jupyter_notebooks.dish.dish import TangoDishDeployment\n",
    "from ska_mid_jupyter_notebooks.helpers.path import project_root\n",
    "from ska_mid_jupyter_notebooks.obsconfig.config import ObservationSB\n",
    "from ska_mid_jupyter_notebooks.obsconfig.target_spec import TargetSpec, get_default_target_specs_sb\n",
    "from ska_mid_jupyter_notebooks.sut.rendering import TelescopeMononitorPlot\n",
    "from ska_mid_jupyter_notebooks.sut.state import TelescopeDeviceModel, get_telescope_state\n",
    "from ska_mid_jupyter_notebooks.sut.sut import TangoSUTDeployment, disable_qa\n",
    "from ska_mid_jupyter_notebooks.test_equipment.rendering import get_test_equipment_monitor_plot\n",
    "from ska_mid_jupyter_notebooks.test_equipment.state import get_equipment_model\n",
    "from ska_mid_jupyter_notebooks.test_equipment.test_equipment import TangoTestEquipment"
   ]
  },
  {
   "cell_type": "markdown",
   "id": "c9e6cc6d",
   "metadata": {},
   "source": [
    "### 0.1.2 Setup Global Variables and Configuration"
   ]
  },
  {
   "cell_type": "code",
   "execution_count": 3,
   "id": "0b0c3b4c",
   "metadata": {},
   "outputs": [
    {
     "name": "stdout",
     "output_type": "stream",
     "text": [
      "Test Equipment Configured: TangoTestEquipment{namespace=test-equipment; tango_host=tango-databaseds.test-equipment.svc.miditf.internal.skao.int:10000; cluster_domain=miditf.internal.skao.int; cia_url=http://config-inspector.test-equipment.svc.miditf.internal.skao.int:8765}\n",
      "SUT configured: TangoSUTDeployment{subarray_index=1; namespace=integration; tango_host=tango-databaseds.integration.svc.miditf.internal.skao.int:10000; cluster_domain=miditf.internal.skao.int; cia_url=http://config-inspector.integration.svc.miditf.internal.skao.int:8765}\n",
      "Dish 001 configured: TangoDishDeployment{dish_id=ska001; namespace=integration-dish-lmc-ska001; tango_host=tango-databaseds.integration-dish-lmc-ska001.svc.miditf.internal.skao.int:10000; cluster_domain=miditf.internal.skao.int; cia_url=http://config-inspector.integration-dish-lmc-ska001.svc.miditf.internal.skao.int:8765}\n",
      "Dish 036 configured: TangoDishDeployment{dish_id=ska036; namespace=integration-dish-lmc-ska036; tango_host=tango-databaseds.integration-dish-lmc-ska036.svc.miditf.internal.skao.int:10000; cluster_domain=miditf.internal.skao.int; cia_url=http://config-inspector.integration-dish-lmc-ska036.svc.miditf.internal.skao.int:8765}\n"
     ]
    }
   ],
   "source": [
    "debug_mode = True  # This setting enables printing of diagnostics\n",
    "enable_logging = True  # This enables logging and sets the global log_level to debug\n",
    "dishlmc_enabled = True  # Set this to true if you have a dish LMC deployment\n",
    "executon_environment = Environment.Integration\n",
    "branch_name = \"none\"  # Set this if you are using an on-demand deployment (i.e. Environment.CI)\n",
    "if enable_logging:\n",
    "    ska_ser_logging.configure_logging(logging.DEBUG)\n",
    "test_equipment = TangoTestEquipment()\n",
    "print(f\"Test Equipment Configured: {test_equipment}\")\n",
    "# namespace_override parameter can be used to override auto-configured SUT namespace\n",
    "sut_namespace_override = \"\"\n",
    "subarray_count = 1\n",
    "subarray_id = 1\n",
    "sut = TangoSUTDeployment(\n",
    "    branch_name,\n",
    "    executon_environment,\n",
    "    namespace_override=sut_namespace_override,\n",
    "    subarray_index=subarray_id,\n",
    ")\n",
    "print(f\"SUT configured: {str(sut)}\")\n",
    "dish_ids = [\"001\", \"036\"]\n",
    "# namespace_override parameter can be used to override auto-configured dish namespace\n",
    "dish_namespace_overrides = [\"\", \"\"]\n",
    "dish_deployments: List[TangoDishDeployment] = []\n",
    "if dishlmc_enabled:\n",
    "    for i, d in enumerate(dish_ids):\n",
    "        dish = TangoDishDeployment(\n",
    "            f\"ska{d}\",\n",
    "            branch_name=branch_name,\n",
    "            environment=executon_environment,\n",
    "            namespace_override=dish_namespace_overrides[i],\n",
    "        )\n",
    "        print(f\"Dish {d} configured: {dish}\")\n",
    "        dish_deployments.append(dish)\n",
    "\n",
    "timestr = time.strftime(\"%Y%m%d-%H%M\")\n",
    "notebook_output_dir = pathlib.Path(\n",
    "    project_root(), f\"notebook-execution-data/configure_scan_for_commissioning/execution-{timestr}\"\n",
    ")\n",
    "os.makedirs(notebook_output_dir, exist_ok=True)\n",
    "# we disable qa as it is not been properly verified\n",
    "disable_qa()"
   ]
  },
  {
   "cell_type": "markdown",
   "id": "4b7fa8f6",
   "metadata": {},
   "source": [
    "### 0.1.3 Test Connections to Namespaces"
   ]
  },
  {
   "cell_type": "code",
   "execution_count": null,
   "id": "31882e18",
   "metadata": {},
   "outputs": [],
   "source": [
    "sut.smoke_test()\n",
    "test_equipment.smoke_test()\n",
    "for dish_deployment in dish_deployments:\n",
    "    dish_deployment.smoke_test()"
   ]
  },
  {
   "cell_type": "markdown",
   "id": "52120d53",
   "metadata": {},
   "source": [
    "### 0.1.4 Export System Configuration"
   ]
  },
  {
   "cell_type": "code",
   "execution_count": null,
   "id": "8fdb3717",
   "metadata": {},
   "outputs": [],
   "source": [
    "deployment: TangoDeployment\n",
    "for deployment in [sut, test_equipment, *dish_deployments]:\n",
    "    deployment.export_chart_configuration(output_dir=notebook_output_dir)"
   ]
  },
  {
   "cell_type": "markdown",
   "id": "68a151c2",
   "metadata": {},
   "source": [
    "## 0.2 Test Equipment Setup\n",
    "\n",
    "Use the noise source at nominal levels for input to at least one SPFRx.  "
   ]
  },
  {
   "cell_type": "markdown",
   "id": "41db3a5d",
   "metadata": {},
   "source": [
    "### 0.2.1 Configure Test Equipment State "
   ]
  },
  {
   "cell_type": "code",
   "execution_count": null,
   "id": "3eacd7aa",
   "metadata": {},
   "outputs": [],
   "source": [
    "test_equipment_state = get_equipment_model(test_equipment)\n",
    "test_equipment.devices"
   ]
  },
  {
   "cell_type": "markdown",
   "id": "0d6f1e21",
   "metadata": {},
   "source": [
    "### 0.2.2 Print Test Equipment Diagnostics"
   ]
  },
  {
   "cell_type": "code",
   "execution_count": null,
   "id": "b019c7ab",
   "metadata": {},
   "outputs": [],
   "source": [
    "test_equipment.print_diagnostics()"
   ]
  },
  {
   "cell_type": "markdown",
   "id": "6d86ab44",
   "metadata": {},
   "source": [
    "### 0.2.3 Create Test Equipment Plot"
   ]
  },
  {
   "cell_type": "code",
   "execution_count": null,
   "id": "43b23de6",
   "metadata": {},
   "outputs": [],
   "source": [
    "monitor_plot = get_test_equipment_monitor_plot()\n",
    "test_equipment_state.subscribe_to_test_equipment_state(monitor_plot.handle_device_state_change)\n",
    "output_notebook()\n",
    "monitor_plot.show()\n",
    "test_equipment_state.activate()"
   ]
  },
  {
   "cell_type": "markdown",
   "id": "c7aa1da8",
   "metadata": {},
   "source": [
    "### 0.2.4 Turn offline Test Equipment devices ONLINE"
   ]
  },
  {
   "cell_type": "code",
   "execution_count": null,
   "id": "64ab9a73",
   "metadata": {},
   "outputs": [],
   "source": [
    "# set any offline devices to online\n",
    "test_equipment.turn_online()"
   ]
  },
  {
   "cell_type": "markdown",
   "id": "e0d2410e",
   "metadata": {},
   "source": [
    "### 0.2.5 Display Test Equipment Device States "
   ]
  },
  {
   "cell_type": "code",
   "execution_count": null,
   "id": "a3f65600",
   "metadata": {},
   "outputs": [],
   "source": [
    "test_equipment_state.state[\"devices_states\"]"
   ]
  },
  {
   "cell_type": "markdown",
   "id": "eefdcf10",
   "metadata": {},
   "source": [
    "## 1 Test Steps "
   ]
  },
  {
   "cell_type": "markdown",
   "id": "254e4151",
   "metadata": {},
   "source": [
    "**Step 1:**\n",
    "\n",
    "Set CW generator to approximately 800MHz (freq1) & -30dBm (power1), and wideband noise to approximately -132dBm/Hz at the SPF Band 1 Receiver inputs. ie. Band 1 output on and attenuation approx 10dB.  \n",
    "\n",
    "Expected Result:  \n",
    "Test equipment configured"
   ]
  },
  {
   "cell_type": "code",
   "execution_count": null,
   "id": "cd167d6b",
   "metadata": {},
   "outputs": [],
   "source": [
    "# test equipment setup values\n",
    "frequency_to_set = 800.0002e6\n",
    "power_level = -30.0\n",
    "attenuation = 10\n",
    "band = 1\n",
    "\n",
    "signal_generator = test_equipment.signal_generator\n",
    "SSC = test_equipment.sky_simulator_controller\n",
    "prog_atten = test_equipment.programmable_attenuator\n",
    "\n",
    "# print current\n",
    "print(f\"Current signal generator frequency: {signal_generator.frequency}\")\n",
    "print(f\"Current signal generator power level: {signal_generator.power_dbm}\")\n",
    "print(f\"Current Sky Simulator Correlated Noise Source: {SSC.Correlated_Noise_Source}\")\n",
    "print(f\"Current Sky Simulator Uncorrelated Noise Source: {SSC.Uncorrelated_Noise_Sources}\")\n",
    "print(f\"Current Sky Simulator Band: {SSC.Band}\")\n",
    "print(f\"Current Programmable attenuator current attenuation : {prog_atten.channel_1}\")\n",
    "\n",
    "# setup siggen\n",
    "signal_generator.write_attribute(\"frequency\", frequency_to_set)\n",
    "signal_generator.write_attribute(\"power_dbm\", power_level)\n",
    "# setup SSC\n",
    "SSC.write_attribute(\"Correlated_Noise_Source\", True)\n",
    "SSC.write_attribute(\"Uncorrelated_Noise_Sources\", False)\n",
    "SSC.write_attribute(\"Band\", band)\n",
    "# setup Attenuator\n",
    "prog_atten.write_attribute(\"channel_1\", attenuation)\n",
    "\n",
    "time.sleep(3)\n",
    "# print updated values and confirm updates\n",
    "print(f\"Updated signal generator frequency                  : {signal_generator.frequency}\")\n",
    "print(f\"Updated signal generator power level                : {signal_generator.power_dbm}\")\n",
    "print(f\"Updated Sky Simulator Correlated Noise Source       : {SSC.Correlated_Noise_Source}\")\n",
    "print(f\"Updated Sky Simulator Uncorrelated Noise Source     : {SSC.Uncorrelated_Noise_Sources}\")\n",
    "print(f\"Updated Sky Simulator Band                          : {SSC.Band}\")\n",
    "print(f\"Updated Programmable attenuator current attenuation : {prog_atten.channel_1}\")\n",
    "\n",
    "assert signal_generator.frequency == frequency_to_set, print(\n",
    "    f\"Frequency required is {frequency_to_set} but got {signal_generator.frequency}\"\n",
    ")\n",
    "assert signal_generator.power_dbm == power_level, print(\n",
    "    f\"Power level required is {power_level} but got {signal_generator.power_dbm}\"\n",
    ")\n",
    "assert SSC.Correlated_Noise_Source, print(\n",
    "    f\"Correlated noise source required is {True} but got {SSC.Correlated_Noise_Source}\"\n",
    ")\n",
    "assert not SSC.Uncorrelated_Noise_Sources, print(\n",
    "    f\"Uncorrelated noise source required is {False} but got {SSC.Uncorrelated_Noise_Sources}\"\n",
    ")\n",
    "assert SSC.Band == band, print(f\"Band required is {band} but got {SSC.Band}\")\n",
    "assert prog_atten.channel_1 == attenuation, print(\n",
    "    f\"Attenuation required is {attenuation} but got {prog_atten.channel_1}\"\n",
    ")"
   ]
  },
  {
   "cell_type": "code",
   "execution_count": null,
   "id": "312abfd3",
   "metadata": {},
   "outputs": [],
   "source": [
    "# not directly part of test but useful lines\n",
    "SSC = test_equipment.sky_simulator_controller\n",
    "prog_atten = test_equipment.programmable_attenuator\n",
    "print(prog_atten.get_attribute_list())\n",
    "print(SSC.get_attribute_list())"
   ]
  },
  {
   "cell_type": "markdown",
   "id": "8105e585",
   "metadata": {},
   "source": [
    "**Step 2:**\n",
    "\n",
    "Assign resources, configure the system for a subarray to run an observation scan in Band 1, with correlator averaging set to no more than 2 seconds.  \n",
    "\n",
    "Expected Result:  \n",
    "SUT Configured\n",
    "\n",
    "This section runs steps 3.1 to 3.9 of the Configure Scan Tests"
   ]
  },
  {
   "cell_type": "code",
   "execution_count": null,
   "id": "f58a29cb",
   "metadata": {},
   "outputs": [],
   "source": [
    "# need to figure out where / how to set correlator averaging time - asked on Help TMC.\n",
    "# update. Apparently it is set to 0.14 seconds"
   ]
  },
  {
   "cell_type": "markdown",
   "id": "217b9754",
   "metadata": {},
   "source": [
    "Use OSO scripting interface to TMC to run the script for assigning resources for a single sub-array, configuring and running a  scan.  "
   ]
  },
  {
   "cell_type": "markdown",
   "id": "0f6d2326",
   "metadata": {},
   "source": [
    "### Setup Telescope Monitoring"
   ]
  },
  {
   "cell_type": "markdown",
   "id": "361cd18e",
   "metadata": {},
   "source": [
    "#### Configure Telescope Monitoring"
   ]
  },
  {
   "cell_type": "code",
   "execution_count": 7,
   "id": "bff1ef18",
   "metadata": {},
   "outputs": [
    {
     "ename": "ConnectionFailed",
     "evalue": "DevFailed[\nDevError[\n    desc = TRANSIENT CORBA system exception: TRANSIENT_NoUsableProfile\n  origin = void Tango::Connection::connect(const string&) at (/src/cppTango/cppapi/client/devapi_base.cpp:604)\n  reason = API_CorbaException\nseverity = ERR]\n\nDevError[\n    desc = Failed to connect to database on host tango-databaseds.integration.svc.miditf.internal.skao.int with port 10000\n  origin = void Tango::Connection::connect(const string&) at (/src/cppTango/cppapi/client/devapi_base.cpp:604)\n  reason = API_CantConnectToDatabase\nseverity = ERR]\n]",
     "output_type": "error",
     "traceback": [
      "\u001b[0;31m---------------------------------------------------------------------------\u001b[0m",
      "\u001b[0;31mConnectionFailed\u001b[0m                          Traceback (most recent call last)",
      "Cell \u001b[0;32mIn[7], line 4\u001b[0m\n\u001b[1;32m      1\u001b[0m \u001b[38;5;66;03m# setup monitoring\u001b[39;00m\n\u001b[1;32m      2\u001b[0m \u001b[38;5;66;03m# use telescope state object for state monitoring\u001b[39;00m\n\u001b[1;32m      3\u001b[0m device_model \u001b[38;5;241m=\u001b[39m TelescopeDeviceModel(dish_ids, subarray_count)\n\u001b[0;32m----> 4\u001b[0m telescope_state \u001b[38;5;241m=\u001b[39m \u001b[43mget_telescope_state\u001b[49m\u001b[43m(\u001b[49m\u001b[43mdevice_model\u001b[49m\u001b[43m,\u001b[49m\u001b[43m \u001b[49m\u001b[43msut\u001b[49m\u001b[43m)\u001b[49m\n\u001b[1;32m      5\u001b[0m \u001b[38;5;66;03m# use monitor plot as a dashboard\u001b[39;00m\n\u001b[1;32m      6\u001b[0m telescope_monitor_plot \u001b[38;5;241m=\u001b[39m TelescopeMononitorPlot(plot_width\u001b[38;5;241m=\u001b[39m\u001b[38;5;241m900\u001b[39m, plot_height\u001b[38;5;241m=\u001b[39m\u001b[38;5;241m200\u001b[39m)\n",
      "File \u001b[0;32m~/ska-mid-jupyter-notebooks/src/ska_mid_jupyter_notebooks/sut/state.py:512\u001b[0m, in \u001b[0;36mget_telescope_state\u001b[0;34m(device_model, deployment)\u001b[0m\n\u001b[1;32m    500\u001b[0m init_state \u001b[38;5;241m=\u001b[39m TelescopeState(\n\u001b[1;32m    501\u001b[0m     devices_states\u001b[38;5;241m=\u001b[39mcast(\n\u001b[1;32m    502\u001b[0m         \u001b[38;5;28mdict\u001b[39m[\u001b[38;5;28mstr\u001b[39m, DeviceState],\n\u001b[0;32m   (...)\u001b[0m\n\u001b[1;32m    509\u001b[0m     ),\n\u001b[1;32m    510\u001b[0m )\n\u001b[1;32m    511\u001b[0m monitor_state \u001b[38;5;241m=\u001b[39m MonState(init_state, deployment)\n\u001b[0;32m--> 512\u001b[0m \u001b[38;5;28;01mreturn\u001b[39;00m \u001b[43mTelescopeModel\u001b[49m\u001b[43m(\u001b[49m\u001b[43mmonitor_state\u001b[49m\u001b[43m,\u001b[49m\u001b[43m \u001b[49m\u001b[43mdevice_model\u001b[49m\u001b[43m,\u001b[49m\u001b[43m \u001b[49m\u001b[43mdeployment\u001b[49m\u001b[43m)\u001b[49m\n",
      "File \u001b[0;32m~/ska-mid-jupyter-notebooks/src/ska_mid_jupyter_notebooks/sut/state.py:131\u001b[0m, in \u001b[0;36mTelescopeModel.__init__\u001b[0;34m(self, state_monitor, device_model, deployment)\u001b[0m\n\u001b[1;32m    126\u001b[0m poller \u001b[38;5;241m=\u001b[39m DeviceAttrPoller(dev_factory)\n\u001b[1;32m    127\u001b[0m reducers \u001b[38;5;241m=\u001b[39m [\n\u001b[1;32m    128\u001b[0m     EventsReducer(device, attr, \u001b[38;5;28mself\u001b[39m\u001b[38;5;241m.\u001b[39m_reducer_set_device_attribute, dev_factory, poller)\n\u001b[1;32m    129\u001b[0m     \u001b[38;5;28;01mfor\u001b[39;00m device, attr \u001b[38;5;129;01min\u001b[39;00m [explode_from_key(key) \u001b[38;5;28;01mfor\u001b[39;00m key \u001b[38;5;129;01min\u001b[39;00m keys]\n\u001b[1;32m    130\u001b[0m ]\n\u001b[0;32m--> 131\u001b[0m \u001b[38;5;28;43mself\u001b[39;49m\u001b[38;5;241;43m.\u001b[39;49m\u001b[43mstate_monitor\u001b[49m\u001b[38;5;241;43m.\u001b[39;49m\u001b[43madd_reducers\u001b[49m\u001b[43m(\u001b[49m\u001b[43mcast\u001b[49m\u001b[43m(\u001b[49m\u001b[38;5;28;43mlist\u001b[39;49m\u001b[43m[\u001b[49m\u001b[43mReducer\u001b[49m\u001b[43m[\u001b[49m\u001b[43mTelescopeState\u001b[49m\u001b[43m]\u001b[49m\u001b[43m]\u001b[49m\u001b[43m,\u001b[49m\u001b[43m \u001b[49m\u001b[43mreducers\u001b[49m\u001b[43m)\u001b[49m\u001b[43m)\u001b[49m\n\u001b[1;32m    132\u001b[0m \u001b[38;5;28mself\u001b[39m\u001b[38;5;241m.\u001b[39m_tel_ready \u001b[38;5;241m=\u001b[39m Event()\n\u001b[1;32m    133\u001b[0m \u001b[38;5;28mself\u001b[39m\u001b[38;5;241m.\u001b[39msubscribe_to_on_off(\u001b[38;5;28mself\u001b[39m\u001b[38;5;241m.\u001b[39mmonitor_ready)\n",
      "File \u001b[0;32m~/ska-mid-jupyter-notebooks/src/ska_mid_jupyter_notebooks/monitoring/statemonitoring.py:1044\u001b[0m, in \u001b[0;36mMonState.add_reducers\u001b[0;34m(self, reducers)\u001b[0m\n\u001b[1;32m   1037\u001b[0m \u001b[38;5;250m\u001b[39m\u001b[38;5;124;03m\"\"\"Add a list of predefined reducers to the monitor.\u001b[39;00m\n\u001b[1;32m   1038\u001b[0m \u001b[38;5;124;03mThis allows for separating the stage of creating reducers from initialising the monitoring object.\u001b[39;00m\n\u001b[1;32m   1039\u001b[0m \n\u001b[1;32m   1040\u001b[0m \u001b[38;5;124;03m:param reducers: The list of reducers to be added\u001b[39;00m\n\u001b[1;32m   1041\u001b[0m \u001b[38;5;124;03m:return: None\u001b[39;00m\n\u001b[1;32m   1042\u001b[0m \u001b[38;5;124;03m\"\"\"\u001b[39;00m\n\u001b[1;32m   1043\u001b[0m \u001b[38;5;28;01mfor\u001b[39;00m reducer \u001b[38;5;129;01min\u001b[39;00m reducers:\n\u001b[0;32m-> 1044\u001b[0m     \u001b[38;5;28;43mself\u001b[39;49m\u001b[38;5;241;43m.\u001b[39;49m\u001b[43m_add_generic_reducer\u001b[49m\u001b[43m(\u001b[49m\u001b[43mreducer\u001b[49m\u001b[43m)\u001b[49m\n",
      "File \u001b[0;32m~/ska-mid-jupyter-notebooks/src/ska_mid_jupyter_notebooks/monitoring/statemonitoring.py:1001\u001b[0m, in \u001b[0;36mMonState._add_generic_reducer\u001b[0;34m(self, reducer)\u001b[0m\n\u001b[1;32m    997\u001b[0m current_reducers \u001b[38;5;241m=\u001b[39m \u001b[38;5;28mself\u001b[39m\u001b[38;5;241m.\u001b[39m_reducers[reducer\u001b[38;5;241m.\u001b[39mkey]\n\u001b[1;32m    998\u001b[0m \u001b[38;5;28;01mif\u001b[39;00m current_reducers \u001b[38;5;241m==\u001b[39m []:\n\u001b[1;32m    999\u001b[0m     \u001b[38;5;66;03m# this means we have not yet created a subscription for this event\u001b[39;00m\n\u001b[0;32m-> 1001\u001b[0m     \u001b[38;5;28mself\u001b[39m\u001b[38;5;241m.\u001b[39msubscriptions[reducer\u001b[38;5;241m.\u001b[39mkey] \u001b[38;5;241m=\u001b[39m \u001b[43mreducer\u001b[49m\u001b[38;5;241;43m.\u001b[39;49m\u001b[43mgenerate_subscription\u001b[49m\u001b[43m(\u001b[49m\u001b[43m)\u001b[49m\n\u001b[1;32m   1002\u001b[0m \u001b[38;5;28mself\u001b[39m\u001b[38;5;241m.\u001b[39m_reducers[reducer\u001b[38;5;241m.\u001b[39mkey]\u001b[38;5;241m.\u001b[39mappend(reducer)\n",
      "File \u001b[0;32m~/ska-mid-jupyter-notebooks/src/ska_mid_jupyter_notebooks/monitoring/statemonitoring.py:810\u001b[0m, in \u001b[0;36mEventsReducer.generate_subscription\u001b[0;34m(self)\u001b[0m\n\u001b[1;32m    805\u001b[0m \u001b[38;5;28;01mdef\u001b[39;00m \u001b[38;5;21mgenerate_subscription\u001b[39m(\u001b[38;5;28mself\u001b[39m) \u001b[38;5;241m-\u001b[39m\u001b[38;5;241m>\u001b[39m BaseSubscription:\n\u001b[1;32m    806\u001b[0m \u001b[38;5;250m    \u001b[39m\u001b[38;5;124;03m\"\"\"\u001b[39;00m\n\u001b[1;32m    807\u001b[0m \u001b[38;5;124;03m    Generate a running subscription based on the inherent producer.\u001b[39;00m\n\u001b[1;32m    808\u001b[0m \u001b[38;5;124;03m    :return: BaseSubscription\u001b[39;00m\n\u001b[1;32m    809\u001b[0m \u001b[38;5;124;03m    \"\"\"\u001b[39;00m\n\u001b[0;32m--> 810\u001b[0m     \u001b[38;5;28;01mreturn\u001b[39;00m \u001b[43mEventsSubscription\u001b[49m\u001b[43m(\u001b[49m\n\u001b[1;32m    811\u001b[0m \u001b[43m        \u001b[49m\u001b[38;5;28;43mself\u001b[39;49m\u001b[38;5;241;43m.\u001b[39;49m\u001b[43mdevice_name\u001b[49m\u001b[43m,\u001b[49m\u001b[43m \u001b[49m\u001b[38;5;28;43mself\u001b[39;49m\u001b[38;5;241;43m.\u001b[39;49m\u001b[43mattr_name\u001b[49m\u001b[43m,\u001b[49m\u001b[43m \u001b[49m\u001b[38;5;28;43mself\u001b[39;49m\u001b[38;5;241;43m.\u001b[39;49m\u001b[43m_dev_factory\u001b[49m\u001b[43m,\u001b[49m\u001b[43m \u001b[49m\u001b[38;5;28;43mself\u001b[39;49m\u001b[38;5;241;43m.\u001b[39;49m\u001b[43m_poller\u001b[49m\n\u001b[1;32m    812\u001b[0m \u001b[43m    \u001b[49m\u001b[43m)\u001b[49m\n",
      "File \u001b[0;32m~/ska-mid-jupyter-notebooks/src/ska_mid_jupyter_notebooks/monitoring/statemonitoring.py:639\u001b[0m, in \u001b[0;36mEventsSubscription.__init__\u001b[0;34m(self, device_name, attr, dev_factory, poller)\u001b[0m\n\u001b[1;32m    637\u001b[0m \u001b[38;5;28mself\u001b[39m\u001b[38;5;241m.\u001b[39m_sub_id: Union[\u001b[38;5;28;01mNone\u001b[39;00m, \u001b[38;5;28mint\u001b[39m] \u001b[38;5;241m=\u001b[39m \u001b[38;5;28;01mNone\u001b[39;00m\n\u001b[1;32m    638\u001b[0m \u001b[38;5;28mself\u001b[39m\u001b[38;5;241m.\u001b[39m_dev_factory \u001b[38;5;241m=\u001b[39m dev_factory\n\u001b[0;32m--> 639\u001b[0m \u001b[38;5;28mself\u001b[39m\u001b[38;5;241m.\u001b[39m_device_proxy \u001b[38;5;241m=\u001b[39m \u001b[43mdev_factory\u001b[49m\u001b[38;5;241;43m.\u001b[39;49m\u001b[43mget_device\u001b[49m\u001b[43m(\u001b[49m\u001b[38;5;28;43mself\u001b[39;49m\u001b[38;5;241;43m.\u001b[39;49m\u001b[43mdevice_name\u001b[49m\u001b[43m)\u001b[49m\n",
      "File \u001b[0;32m~/ska-mid-jupyter-notebooks/src/ska_mid_jupyter_notebooks/monitoring/statemonitoring.py:38\u001b[0m, in \u001b[0;36mRemoteDeviceFactory.get_device\u001b[0;34m(self, device_name)\u001b[0m\n\u001b[1;32m     32\u001b[0m \u001b[38;5;28;01mdef\u001b[39;00m \u001b[38;5;21mget_device\u001b[39m(\u001b[38;5;28mself\u001b[39m, device_name: \u001b[38;5;28mstr\u001b[39m) \u001b[38;5;241m-\u001b[39m\u001b[38;5;241m>\u001b[39m DeviceProxy:\n\u001b[1;32m     33\u001b[0m \u001b[38;5;250m    \u001b[39m\u001b[38;5;124;03m\"\"\"\u001b[39;00m\n\u001b[1;32m     34\u001b[0m \u001b[38;5;124;03m    Get Device\u001b[39;00m\n\u001b[1;32m     35\u001b[0m \u001b[38;5;124;03m    :param: device_name: name of the device\u001b[39;00m\n\u001b[1;32m     36\u001b[0m \u001b[38;5;124;03m    :return: Device Proxy\u001b[39;00m\n\u001b[1;32m     37\u001b[0m \u001b[38;5;124;03m    \"\"\"\u001b[39;00m\n\u001b[0;32m---> 38\u001b[0m     \u001b[38;5;28;01mreturn\u001b[39;00m \u001b[43mDeviceProxy\u001b[49m\u001b[43m(\u001b[49m\u001b[38;5;124;43mf\u001b[39;49m\u001b[38;5;124;43m\"\u001b[39;49m\u001b[38;5;124;43mtango://\u001b[39;49m\u001b[38;5;132;43;01m{\u001b[39;49;00m\u001b[38;5;28;43mself\u001b[39;49m\u001b[38;5;241;43m.\u001b[39;49m\u001b[43m_db_host\u001b[49m\u001b[38;5;132;43;01m}\u001b[39;49;00m\u001b[38;5;124;43m/\u001b[39;49m\u001b[38;5;132;43;01m{\u001b[39;49;00m\u001b[43mdevice_name\u001b[49m\u001b[38;5;132;43;01m}\u001b[39;49;00m\u001b[38;5;124;43m\"\u001b[39;49m\u001b[43m)\u001b[49m\n",
      "File \u001b[0;32m~/ska-mid-jupyter-notebooks/.venv/lib/python3.10/site-packages/tango/device_proxy.py:213\u001b[0m, in \u001b[0;36m__DeviceProxy__init__\u001b[0;34m(self, *args, **kwargs)\u001b[0m\n\u001b[1;32m    209\u001b[0m bypass___setattr[\u001b[38;5;124m\"\u001b[39m\u001b[38;5;124m_executors\u001b[39m\u001b[38;5;124m\"\u001b[39m][GreenMode\u001b[38;5;241m.\u001b[39mGevent] \u001b[38;5;241m=\u001b[39m kwargs\u001b[38;5;241m.\u001b[39mpop(\u001b[38;5;124m\"\u001b[39m\u001b[38;5;124mthreadpool\u001b[39m\u001b[38;5;124m\"\u001b[39m, \u001b[38;5;28;01mNone\u001b[39;00m)\n\u001b[1;32m    210\u001b[0m bypass___setattr[\u001b[38;5;124m\"\u001b[39m\u001b[38;5;124m_executors\u001b[39m\u001b[38;5;124m\"\u001b[39m][GreenMode\u001b[38;5;241m.\u001b[39mAsyncio] \u001b[38;5;241m=\u001b[39m kwargs\u001b[38;5;241m.\u001b[39mpop(\n\u001b[1;32m    211\u001b[0m     \u001b[38;5;124m\"\u001b[39m\u001b[38;5;124masyncio_executor\u001b[39m\u001b[38;5;124m\"\u001b[39m, \u001b[38;5;28;01mNone\u001b[39;00m\n\u001b[1;32m    212\u001b[0m )\n\u001b[0;32m--> 213\u001b[0m \u001b[38;5;28;01mreturn\u001b[39;00m \u001b[43mDeviceProxy\u001b[49m\u001b[38;5;241;43m.\u001b[39;49m\u001b[43m__init_orig__\u001b[49m\u001b[43m(\u001b[49m\u001b[38;5;28;43mself\u001b[39;49m\u001b[43m,\u001b[49m\u001b[43m \u001b[49m\u001b[38;5;241;43m*\u001b[39;49m\u001b[43margs\u001b[49m\u001b[43m,\u001b[49m\u001b[43m \u001b[49m\u001b[38;5;241;43m*\u001b[39;49m\u001b[38;5;241;43m*\u001b[39;49m\u001b[43mkwargs\u001b[49m\u001b[43m)\u001b[49m\n",
      "\u001b[0;31mConnectionFailed\u001b[0m: DevFailed[\nDevError[\n    desc = TRANSIENT CORBA system exception: TRANSIENT_NoUsableProfile\n  origin = void Tango::Connection::connect(const string&) at (/src/cppTango/cppapi/client/devapi_base.cpp:604)\n  reason = API_CorbaException\nseverity = ERR]\n\nDevError[\n    desc = Failed to connect to database on host tango-databaseds.integration.svc.miditf.internal.skao.int with port 10000\n  origin = void Tango::Connection::connect(const string&) at (/src/cppTango/cppapi/client/devapi_base.cpp:604)\n  reason = API_CantConnectToDatabase\nseverity = ERR]\n]"
     ]
    }
   ],
   "source": [
    "# setup monitoring\n",
    "# use telescope state object for state monitoring\n",
    "device_model = TelescopeDeviceModel(dish_ids, subarray_count)\n",
    "telescope_state = get_telescope_state(device_model, sut)\n",
    "# use monitor plot as a dashboard\n",
    "telescope_monitor_plot = TelescopeMononitorPlot(plot_width=900, plot_height=200)\n",
    "# set up events to monitor\n",
    "telescope_state.subscribe_to_on_off(telescope_monitor_plot.observe_telescope_on_off)\n",
    "telescope_state.subscribe_to_subarray_resource_state(\n",
    "    telescope_monitor_plot.observe_subarray_resources_state\n",
    ")\n",
    "telescope_state.subscribe_to_subarray_configurational_state(\n",
    "    telescope_monitor_plot.observe_subarray_configuration_state\n",
    ")\n",
    "telescope_state.subscribe_to_subarray_scanning_state(\n",
    "    telescope_monitor_plot.observe_subarray_scanning_state\n",
    ")\n",
    "output_notebook()"
   ]
  },
  {
   "cell_type": "markdown",
   "id": "5e1a83fa",
   "metadata": {},
   "source": [
    "#### Open the inline dashboard\n",
    "Start the simple inline dashboard showing current state of the Telescope and resource assignment and configuration status."
   ]
  },
  {
   "cell_type": "code",
   "execution_count": null,
   "id": "ba90fbe5",
   "metadata": {},
   "outputs": [],
   "source": [
    "telescope_monitor_plot.show()\n",
    "telescope_state.activate()\n",
    "telescope_state.wait_til_ready(2)"
   ]
  },
  {
   "cell_type": "markdown",
   "id": "8c243732",
   "metadata": {},
   "source": [
    "### Print System Diagnostics"
   ]
  },
  {
   "cell_type": "markdown",
   "id": "1650210a",
   "metadata": {},
   "source": [
    "#### Print TMC Diagnostics"
   ]
  },
  {
   "cell_type": "code",
   "execution_count": 5,
   "id": "1fe1b28a",
   "metadata": {},
   "outputs": [
    {
     "ename": "ConnectionFailed",
     "evalue": "DevFailed[\nDevError[\n    desc = TRANSIENT CORBA system exception: TRANSIENT_NoUsableProfile\n  origin = void Tango::Connection::connect(const string&) at (/src/cppTango/cppapi/client/devapi_base.cpp:604)\n  reason = API_CorbaException\nseverity = ERR]\n\nDevError[\n    desc = Failed to connect to database on host tango-databaseds.integration.svc.miditf.internal.skao.int with port 10000\n  origin = void Tango::Connection::connect(const string&) at (/src/cppTango/cppapi/client/devapi_base.cpp:604)\n  reason = API_CantConnectToDatabase\nseverity = ERR]\n]",
     "output_type": "error",
     "traceback": [
      "\u001b[0;31m---------------------------------------------------------------------------\u001b[0m",
      "\u001b[0;31mConnectionFailed\u001b[0m                          Traceback (most recent call last)",
      "Cell \u001b[0;32mIn[5], line 1\u001b[0m\n\u001b[0;32m----> 1\u001b[0m \u001b[43msut\u001b[49m\u001b[38;5;241;43m.\u001b[39;49m\u001b[43mprint_tmc_diagnostics\u001b[49m\u001b[43m(\u001b[49m\u001b[43m)\u001b[49m\n",
      "File \u001b[0;32m~/ska-mid-jupyter-notebooks/src/ska_mid_jupyter_notebooks/sut/sut.py:216\u001b[0m, in \u001b[0;36mTangoSUTDeployment.print_tmc_diagnostics\u001b[0;34m(self)\u001b[0m\n\u001b[1;32m    215\u001b[0m \u001b[38;5;28;01mdef\u001b[39;00m \u001b[38;5;21mprint_tmc_diagnostics\u001b[39m(\u001b[38;5;28mself\u001b[39m):\n\u001b[0;32m--> 216\u001b[0m     tmc \u001b[38;5;241m=\u001b[39m \u001b[38;5;28;43mself\u001b[39;49m\u001b[38;5;241;43m.\u001b[39;49m\u001b[43mtmc_central_node\u001b[49m\n\u001b[1;32m    217\u001b[0m     \u001b[38;5;28mprint\u001b[39m(\u001b[38;5;124mf\u001b[39m\u001b[38;5;124m\"\u001b[39m\u001b[38;5;124mTMC Central Node state: \u001b[39m\u001b[38;5;132;01m{\u001b[39;00mtmc\u001b[38;5;241m.\u001b[39mState()\u001b[38;5;132;01m}\u001b[39;00m\u001b[38;5;124m\"\u001b[39m)\n\u001b[1;32m    218\u001b[0m     \u001b[38;5;28mprint\u001b[39m(\u001b[38;5;124mf\u001b[39m\u001b[38;5;124m\"\u001b[39m\u001b[38;5;124mTMC Central Node adminMode: \u001b[39m\u001b[38;5;132;01m{\u001b[39;00m\u001b[38;5;28mstr\u001b[39m(tmc\u001b[38;5;241m.\u001b[39madmin_mode)\u001b[38;5;132;01m}\u001b[39;00m\u001b[38;5;124m\"\u001b[39m)\n",
      "File \u001b[0;32m~/ska-mid-jupyter-notebooks/src/ska_mid_jupyter_notebooks/sut/sut.py:97\u001b[0m, in \u001b[0;36mTangoSUTDeployment.tmc_central_node\u001b[0;34m(self)\u001b[0m\n\u001b[1;32m     95\u001b[0m \u001b[38;5;129m@property\u001b[39m\n\u001b[1;32m     96\u001b[0m \u001b[38;5;28;01mdef\u001b[39;00m \u001b[38;5;21mtmc_central_node\u001b[39m(\u001b[38;5;28mself\u001b[39m) \u001b[38;5;241m-\u001b[39m\u001b[38;5;241m>\u001b[39m TMCCentralNode:\n\u001b[0;32m---> 97\u001b[0m     \u001b[38;5;28;01mreturn\u001b[39;00m \u001b[43mTMCCentralNode\u001b[49m\u001b[43m(\u001b[49m\u001b[38;5;28;43mself\u001b[39;49m\u001b[43m)\u001b[49m\n",
      "File \u001b[0;32m~/ska-mid-jupyter-notebooks/src/ska_mid_jupyter_notebooks/sut/sut.py:17\u001b[0m, in \u001b[0;36mTMCCentralNode.__init__\u001b[0;34m(self, tango_deployment)\u001b[0m\n\u001b[1;32m     16\u001b[0m \u001b[38;5;28;01mdef\u001b[39;00m \u001b[38;5;21m__init__\u001b[39m(\u001b[38;5;28mself\u001b[39m, tango_deployment: TangoDeployment):\n\u001b[0;32m---> 17\u001b[0m     \u001b[38;5;28msuper\u001b[39m()\u001b[38;5;241m.\u001b[39m\u001b[38;5;21m__init__\u001b[39m(\u001b[43mtango_deployment\u001b[49m\u001b[38;5;241;43m.\u001b[39;49m\u001b[43mdp\u001b[49m\u001b[43m(\u001b[49m\u001b[38;5;124;43m\"\u001b[39;49m\u001b[38;5;124;43mska_mid/tm_central/central_node\u001b[39;49m\u001b[38;5;124;43m\"\u001b[39;49m\u001b[43m)\u001b[49m)\n",
      "File \u001b[0;32m~/ska-mid-jupyter-notebooks/src/ska_mid_jupyter_notebooks/cluster/cluster.py:86\u001b[0m, in \u001b[0;36mTangoDeployment.dp\u001b[0;34m(self, name)\u001b[0m\n\u001b[1;32m     85\u001b[0m \u001b[38;5;28;01mdef\u001b[39;00m \u001b[38;5;21mdp\u001b[39m(\u001b[38;5;28mself\u001b[39m, name: \u001b[38;5;28mstr\u001b[39m) \u001b[38;5;241m-\u001b[39m\u001b[38;5;241m>\u001b[39m Any:\n\u001b[0;32m---> 86\u001b[0m     \u001b[38;5;28;01mreturn\u001b[39;00m \u001b[43mDeviceProxy\u001b[49m\u001b[43m(\u001b[49m\u001b[38;5;28;43mself\u001b[39;49m\u001b[38;5;241;43m.\u001b[39;49m\u001b[43mtango_fqdn\u001b[49m\u001b[43m(\u001b[49m\u001b[43mname\u001b[49m\u001b[43m)\u001b[49m\u001b[43m)\u001b[49m\n",
      "File \u001b[0;32m~/ska-mid-jupyter-notebooks/.venv/lib/python3.10/site-packages/tango/device_proxy.py:213\u001b[0m, in \u001b[0;36m__DeviceProxy__init__\u001b[0;34m(self, *args, **kwargs)\u001b[0m\n\u001b[1;32m    209\u001b[0m bypass___setattr[\u001b[38;5;124m\"\u001b[39m\u001b[38;5;124m_executors\u001b[39m\u001b[38;5;124m\"\u001b[39m][GreenMode\u001b[38;5;241m.\u001b[39mGevent] \u001b[38;5;241m=\u001b[39m kwargs\u001b[38;5;241m.\u001b[39mpop(\u001b[38;5;124m\"\u001b[39m\u001b[38;5;124mthreadpool\u001b[39m\u001b[38;5;124m\"\u001b[39m, \u001b[38;5;28;01mNone\u001b[39;00m)\n\u001b[1;32m    210\u001b[0m bypass___setattr[\u001b[38;5;124m\"\u001b[39m\u001b[38;5;124m_executors\u001b[39m\u001b[38;5;124m\"\u001b[39m][GreenMode\u001b[38;5;241m.\u001b[39mAsyncio] \u001b[38;5;241m=\u001b[39m kwargs\u001b[38;5;241m.\u001b[39mpop(\n\u001b[1;32m    211\u001b[0m     \u001b[38;5;124m\"\u001b[39m\u001b[38;5;124masyncio_executor\u001b[39m\u001b[38;5;124m\"\u001b[39m, \u001b[38;5;28;01mNone\u001b[39;00m\n\u001b[1;32m    212\u001b[0m )\n\u001b[0;32m--> 213\u001b[0m \u001b[38;5;28;01mreturn\u001b[39;00m \u001b[43mDeviceProxy\u001b[49m\u001b[38;5;241;43m.\u001b[39;49m\u001b[43m__init_orig__\u001b[49m\u001b[43m(\u001b[49m\u001b[38;5;28;43mself\u001b[39;49m\u001b[43m,\u001b[49m\u001b[43m \u001b[49m\u001b[38;5;241;43m*\u001b[39;49m\u001b[43margs\u001b[49m\u001b[43m,\u001b[49m\u001b[43m \u001b[49m\u001b[38;5;241;43m*\u001b[39;49m\u001b[38;5;241;43m*\u001b[39;49m\u001b[43mkwargs\u001b[49m\u001b[43m)\u001b[49m\n",
      "\u001b[0;31mConnectionFailed\u001b[0m: DevFailed[\nDevError[\n    desc = TRANSIENT CORBA system exception: TRANSIENT_NoUsableProfile\n  origin = void Tango::Connection::connect(const string&) at (/src/cppTango/cppapi/client/devapi_base.cpp:604)\n  reason = API_CorbaException\nseverity = ERR]\n\nDevError[\n    desc = Failed to connect to database on host tango-databaseds.integration.svc.miditf.internal.skao.int with port 10000\n  origin = void Tango::Connection::connect(const string&) at (/src/cppTango/cppapi/client/devapi_base.cpp:604)\n  reason = API_CantConnectToDatabase\nseverity = ERR]\n]"
     ]
    }
   ],
   "source": [
    "sut.print_tmc_diagnostics()"
   ]
  },
  {
   "cell_type": "markdown",
   "id": "7490e49f",
   "metadata": {},
   "source": [
    "#### Print CSP-LMC Diagnostics"
   ]
  },
  {
   "cell_type": "code",
   "execution_count": null,
   "id": "2d977dbb",
   "metadata": {},
   "outputs": [],
   "source": [
    "sut.print_csp_diagnostics()"
   ]
  },
  {
   "cell_type": "markdown",
   "id": "20c32d89",
   "metadata": {},
   "source": [
    "#### Print CBF Diagnostics"
   ]
  },
  {
   "cell_type": "code",
   "execution_count": null,
   "id": "2c4b84f4",
   "metadata": {},
   "outputs": [],
   "source": [
    "sut.print_cbf_diagnostics()"
   ]
  },
  {
   "cell_type": "markdown",
   "id": "2d94ccf7",
   "metadata": {},
   "source": [
    "#### Print SDP Diagnostics"
   ]
  },
  {
   "cell_type": "code",
   "execution_count": null,
   "id": "45d18b6f",
   "metadata": {},
   "outputs": [],
   "source": [
    "sut.print_sdp_diagnostics()"
   ]
  },
  {
   "cell_type": "markdown",
   "id": "b8685670",
   "metadata": {},
   "source": [
    "#### Print Dish-LMC Diagnostics"
   ]
  },
  {
   "cell_type": "code",
   "execution_count": null,
   "id": "00e2964a",
   "metadata": {},
   "outputs": [],
   "source": [
    "for dish_deployment in dish_deployments:\n",
    "    print(f\"Dish {dish_deployment.dish_id} - {dish_deployment.namespace}: Diagnostics\")\n",
    "\n",
    "    dish_deployment.print_diagnostics()"
   ]
  },
  {
   "cell_type": "markdown",
   "id": "93130f3b",
   "metadata": {},
   "source": [
    "#### Print Full System Diagnostics"
   ]
  },
  {
   "cell_type": "code",
   "execution_count": null,
   "id": "5f5513d7",
   "metadata": {},
   "outputs": [],
   "source": [
    "print(\"SUT: Full Diagnostics\")\n",
    "sut.print_full_diagnostics()\n",
    "\n",
    "for dish_deployment in dish_deployments:\n",
    "    print(f\"Dish {dish_deployment.dish_id}: Full Diagnostics\")\n",
    "    dish_deployment.print_full_diagnostics()\n",
    "\n",
    "print(\"Test Equipment: Full Diagnostics\")\n",
    "test_equipment.print_full_diagnostics()"
   ]
  },
  {
   "cell_type": "markdown",
   "id": "dcc952f9",
   "metadata": {},
   "source": [
    "### Setup ODA"
   ]
  },
  {
   "cell_type": "code",
   "execution_count": null,
   "id": "750e478d",
   "metadata": {},
   "outputs": [],
   "source": [
    "os.environ[\"ODA_URI\"] = (\n",
    "    \"http://ingress-nginx-controller-lb-default.ingress-nginx.svc.miditf.internal.skao.int/ska-db-oda/api/v1/\"\n",
    ")\n",
    "eb_id = oda_helper.create_eb()\n",
    "print(f\"Execution Block ID: {eb_id}\")"
   ]
  },
  {
   "cell_type": "markdown",
   "id": "2b598fc9",
   "metadata": {},
   "source": [
    "### Initialise Telescope and Subarray\n",
    "Create Subarray and Telescope instances."
   ]
  },
  {
   "cell_type": "code",
   "execution_count": null,
   "id": "1b2e9941",
   "metadata": {},
   "outputs": [],
   "source": [
    "sub = SubArray(subarray_id)\n",
    "tel = Telescope()"
   ]
  },
  {
   "cell_type": "markdown",
   "id": "3db487bd",
   "metadata": {},
   "source": [
    "### Load VCC Configuration in TMC"
   ]
  },
  {
   "cell_type": "code",
   "execution_count": null,
   "id": "37bc04ca",
   "metadata": {},
   "outputs": [],
   "source": [
    "# This should only be executed for a fresh deployment (i.e. Telescope is OFF.\n",
    "# If you have restarted the subarray, you should not run this command\n",
    "sut.load_dish_vcc_config()"
   ]
  },
  {
   "cell_type": "markdown",
   "id": "a533faaa",
   "metadata": {},
   "source": [
    "### Turn telescope ON"
   ]
  },
  {
   "cell_type": "code",
   "execution_count": null,
   "id": "1b2b2a0f",
   "metadata": {},
   "outputs": [],
   "source": [
    "# set to ON only if OFF\n",
    "# If you have restarted the subarray, you should not run this command (Telescope is already ON)\n",
    "# dish_lmc mode must be in LP_standby and TMC VCC before trying to turn the telescope ON\n",
    "# Takes about 1m20s\n",
    "if telescope_monitor_plot.on_off_state == \"OFF\":  # e.g. purple\n",
    "    tel.on()\n",
    "else:\n",
    "    assert (\n",
    "        telescope_monitor_plot.on_off_state == \"ON\"\n",
    "    ), f\"Cant continue with telescope in {telescope_monitor_plot.on_off_state}\""
   ]
  },
  {
   "cell_type": "markdown",
   "id": "7ca4967f-5420-4a54-97e7-7605753aeb00",
   "metadata": {},
   "source": [
    "### 3.7 Observation Definition"
   ]
  },
  {
   "cell_type": "markdown",
   "id": "d2e666a2-7d56-4b8e-81bf-e31a98f7efaa",
   "metadata": {},
   "source": [
    "#### 3.7.1 Create the high level observation specifications in terms of target specs"
   ]
  },
  {
   "cell_type": "markdown",
   "id": "f867036b-6723-4244-918d-7553e5076890",
   "metadata": {},
   "source": [
    "Note :- Users may currently modify the values by replacing the example values as given for each field within Target specification section."
   ]
  },
  {
   "cell_type": "code",
   "execution_count": null,
   "id": "25d2c936-8078-4f2e-9bf2-0d7e2fb08134",
   "metadata": {
    "tags": []
   },
   "outputs": [],
   "source": [
    "dish_ids = [d.dish_id.upper() for d in dish_deployments]\n",
    "default_target_specs = get_default_target_specs_sb(dish_ids)\n",
    "observation = ObservationSB(target_specs=default_target_specs)\n",
    "\n",
    "target_specs = {\n",
    "    \"flux calibrator\": TargetSpec(\n",
    "        target_sb_detail={\n",
    "            \"co_ordinate_type\": \"Equatorial\",\n",
    "            \"ra\": \"19:24:51.05 degrees\",\n",
    "            \"dec\": \"-29:14:30.12 degrees\",\n",
    "            \"reference_frame\": \"ICRS\",\n",
    "            \"unit\": (\"hourangle\", \"deg\"),\n",
    "            \"pointing_pattern_type\": {\n",
    "                \"single_pointing_parameters\": SinglePointParameters(\n",
    "                    offset_x_arcsec=0.0, offset_y_arcsec=0.0\n",
    "                ),\n",
    "                \"raster_parameters\": RasterParameters(\n",
    "                    row_length_arcsec=0.0,\n",
    "                    row_offset_arcsec=0.0,\n",
    "                    n_rows=1,\n",
    "                    pa=0.0,\n",
    "                    unidirectional=False,\n",
    "                ),\n",
    "                \"star_raster_parameters\": StarRasterParameters(\n",
    "                    row_length_arcsec=0.0,\n",
    "                    n_rows=1,\n",
    "                    row_offset_angle=0.0,\n",
    "                    unidirectional=False,\n",
    "                ),\n",
    "                \"five_point_parameters\": FivePointParameters(offset_arcsec=0.0),\n",
    "                \"cross_scan_parameters\": CrossScanParameters(offset_arcsec=0.0),\n",
    "                \"active_pointing_pattern_type\": \"single_pointing_parameters\",\n",
    "            },\n",
    "        },\n",
    "        scan_type=\"flux calibrator\",\n",
    "        band=ReceiverBand.BAND_1,\n",
    "        channelisation=\"vis_channels9\",\n",
    "        polarisation=\"all\",\n",
    "        processing=\"test-receive-addresses\",\n",
    "        dish_ids=dish_ids,\n",
    "        target=None,\n",
    "    ),\n",
    "    \"M87\": TargetSpec(\n",
    "        target_sb_detail={\n",
    "            \"co_ordinate_type\": \"Equatorial\",\n",
    "            \"ra\": \"19:24:51.05 degrees\",\n",
    "            \"dec\": \"-29:14:30.12 degrees\",\n",
    "            \"reference_frame\": \"ICRS\",\n",
    "            \"unit\": (\"hourangle\", \"deg\"),\n",
    "            \"pointing_pattern_type\": {\n",
    "                \"single_pointing_parameters\": SinglePointParameters(\n",
    "                    offset_x_arcsec=0.0, offset_y_arcsec=0.0\n",
    "                ),\n",
    "                \"raster_parameters\": RasterParameters(\n",
    "                    row_length_arcsec=0.0,\n",
    "                    row_offset_arcsec=0.0,\n",
    "                    n_rows=1,\n",
    "                    pa=0.0,\n",
    "                    unidirectional=False,\n",
    "                ),\n",
    "                \"star_raster_parameters\": StarRasterParameters(\n",
    "                    row_length_arcsec=0.0,\n",
    "                    n_rows=1,\n",
    "                    row_offset_angle=0.0,\n",
    "                    unidirectional=False,\n",
    "                ),\n",
    "                \"five_point_parameters\": FivePointParameters(offset_arcsec=0.0),\n",
    "                \"cross_scan_parameters\": CrossScanParameters(offset_arcsec=0.0),\n",
    "                \"active_pointing_pattern_type\": \"single_pointing_parameters\",\n",
    "            },\n",
    "        },\n",
    "        scan_type=\"M87\",\n",
    "        band=ReceiverBand.BAND_2,\n",
    "        channelisation=\"vis_channels10\",\n",
    "        polarisation=\"all\",\n",
    "        processing=\"test-receive-addresses\",\n",
    "        dish_ids=dish_ids,\n",
    "        target=None,\n",
    "    ),\n",
    "}\n",
    "\n",
    "\n",
    "channel_configuration = [\n",
    "    Channel(\n",
    "        spectral_window_id=\"fsp_1_channels\",\n",
    "        count=14880,\n",
    "        start=0,\n",
    "        stride=2,\n",
    "        freq_min=0.35e9,\n",
    "        freq_max=0.368e9,\n",
    "        link_map=[[0, 0], [200, 1], [744, 2], [944, 3]],\n",
    "    )\n",
    "]\n",
    "\n",
    "for key, value in target_specs.items():\n",
    "    observation.add_channel_configuration(value.channelisation, channel_configuration)\n",
    "\n",
    "observation.add_target_specs(target_specs)\n",
    "\n",
    "for target_id, target in target_specs.items():\n",
    "    observation.add_scan_type_configuration(\n",
    "        config_name=target_id,\n",
    "        beams={\"vis0\": BeamMapping(beam_id=\"vis0\", field_id=\"M83\")},\n",
    "        derive_from=\".default\",\n",
    "    )\n",
    "scan_def_id = \"flux calibrator\"\n",
    "observation.add_scan_sequence([scan_def_id])"
   ]
  },
  {
   "cell_type": "markdown",
   "id": "c59a8bc2-5e50-4717-9cc2-57a71509591a",
   "metadata": {},
   "source": [
    "#### 3.7.2 Mid configuration schema input used by observing commands"
   ]
  },
  {
   "cell_type": "markdown",
   "id": "727e53ca-0480-42b9-bbd5-a71900b57de9",
   "metadata": {},
   "source": [
    "[Configuration Schemas-OET→TMC(Mid)](https://developer.skao.int/projects/ska-telmodel/en/latest/)"
   ]
  },
  {
   "cell_type": "code",
   "execution_count": null,
   "id": "1d2e7764-2bf3-4240-ad85-3df54361e6a1",
   "metadata": {
    "tags": []
   },
   "outputs": [],
   "source": [
    "telescope_monitor_plot.show()"
   ]
  },
  {
   "cell_type": "markdown",
   "id": "308b4669-4d24-4583-9b10-8135a96d70b6",
   "metadata": {},
   "source": [
    "#### 3.7.3 Create Scheduling Block Definition(SBD) Instance and save it into the ODA"
   ]
  },
  {
   "cell_type": "code",
   "execution_count": null,
   "id": "88f276d9-90c5-4ded-ac22-de876bf2ef88",
   "metadata": {
    "tags": []
   },
   "outputs": [],
   "source": [
    "observation.eb_id = eb_id\n",
    "pdm_allocation = observation.generate_pdm_object_for_sbd_save(target_specs)\n",
    "\n",
    "sbd = oda_helper.save(pdm_allocation)\n",
    "sbd_id = sbd.sbd_id\n",
    "pdm_allocation.sbd_id = sbd_id\n",
    "print(f\"Saved Scheduling Block Definition Instance in ODA: SBD_ID={sbd_id}\")"
   ]
  },
  {
   "cell_type": "markdown",
   "id": "f1806aa4-2f8a-43db-84ce-e8643dd1a0dc",
   "metadata": {},
   "source": [
    "### 3.8 Assign Resources\n",
    "Assign the requested resources to a Subarray"
   ]
  },
  {
   "cell_type": "code",
   "execution_count": null,
   "id": "4541f02b",
   "metadata": {},
   "outputs": [],
   "source": [
    "assign_request = observation.generate_allocate_config_sb(pdm_allocation).as_object\n",
    "\n",
    "if debug_mode:\n",
    "    request_json = get_request_json(assign_request, AssignResourcesRequest, True)\n",
    "    print(\"AssignResourcesRequest:\", json.dumps(json.loads(request_json), indent=2))\n",
    "\n",
    "sub.assign_from_cdm(assign_request, timeout=120)"
   ]
  },
  {
   "cell_type": "code",
   "execution_count": null,
   "id": "62aeea96-d3b1-44ba-9a80-a85bde4236e3",
   "metadata": {
    "tags": []
   },
   "outputs": [],
   "source": [
    "telescope_monitor_plot.show()"
   ]
  },
  {
   "cell_type": "markdown",
   "id": "cf6947ca-7e8b-4a1a-8a83-94c4b3647f38",
   "metadata": {},
   "source": [
    "### 3.9 Configure Scan\n",
    "Configure the telescope  on first target in sequence - may be modified to configure and run multiple targets at a later time."
   ]
  },
  {
   "cell_type": "code",
   "execution_count": null,
   "id": "b8df9783-06c0-4ab4-b9f6-4864c269a616",
   "metadata": {
    "tags": []
   },
   "outputs": [],
   "source": [
    "configure_object = observation.generate_scan_config_sb(\n",
    "    pdm_observation_request=pdm_allocation,\n",
    "    scan_definition_id=scan_def_id,\n",
    "    scan_duration=10.0,\n",
    ").as_object\n",
    "\n",
    "if debug_mode:\n",
    "    cfg_json = get_request_json(configure_object, ConfigureRequest)\n",
    "    print(f\"ConfigureRequest={cfg_json}\")\n",
    "\n",
    "sub.configure_from_cdm(configure_object, timeout=120)\n",
    "time.sleep(2)"
   ]
  },
  {
   "cell_type": "code",
   "execution_count": null,
   "id": "dbca8838",
   "metadata": {},
   "outputs": [],
   "source": [
    "telescope_monitor_plot.show()"
   ]
  },
  {
   "cell_type": "markdown",
   "id": "8941edd4",
   "metadata": {},
   "source": [
    "**Step 3:**\n",
    "\n",
    "Start scan and signal path recording and monitor the SDP Spectrometer Display.  \n",
    "\n",
    "Expected Result:  \n",
    "_CW + noise in SDP Spectrometer Display_\n",
    " \n",
    "This section runs step 3.10 of the Configure Scan Tests and provides a link to the SDP signal displays"
   ]
  },
  {
   "cell_type": "markdown",
   "id": "441273bc",
   "metadata": {},
   "source": [
    "### 3.10 Run the Scan"
   ]
  },
  {
   "cell_type": "code",
   "execution_count": null,
   "id": "587739eb",
   "metadata": {},
   "outputs": [],
   "source": [
    "sub.scan(timeout=120)\n",
    "telescope_monitor_plot.show()"
   ]
  },
  {
   "cell_type": "code",
   "execution_count": null,
   "id": "ff873026",
   "metadata": {},
   "outputs": [],
   "source": [
    "print(sut.signal_displays_endpoint)"
   ]
  },
  {
   "cell_type": "markdown",
   "id": "8bf82a3b",
   "metadata": {},
   "source": [
    "**Step 4:**\n",
    "\n",
    "~10 seconds after recording has started, use Test Control Script to adjust CW generator signal level by -3dB. \n",
    "\n",
    "Expected Result:  \n",
    "*CW level changes by roughly -3dB in SDP Spectrometer Display*\n",
    "\n",
    "**Note: This and following steps that change the test equipment settings during the SCAN are run from the rf-chain_and_channelisation_test_equipment notebook but included here for completion**"
   ]
  },
  {
   "cell_type": "markdown",
   "id": "550ba4b0",
   "metadata": {},
   "source": [
    "**Step 5:**\n",
    "\n",
    "After a further ~10 seconds, use Test Control Script to adjust CW generator signal level by -3dB.  \n",
    "\n",
    "Expected Result:  \n",
    "*CW level changes by roughly -3dB in SDP Spectrometer Display*"
   ]
  },
  {
   "cell_type": "markdown",
   "id": "d62c94b7",
   "metadata": {},
   "source": [
    "**Step 6:**\n",
    "\n",
    "After a further ~10seconds, use Test Control Script to increase the CW generator signal frequency by 10MHz.  \n",
    "\n",
    "Expected Result:  \n",
    "*CW frequency changes by 10MHz in SDP Spectrometer Display*"
   ]
  },
  {
   "cell_type": "markdown",
   "id": "5a0970cf",
   "metadata": {},
   "source": [
    "**Step 7:**\n",
    "\n",
    "AAfter a further ~10seconds, end scan and recording. Monitor feedback from SDP storage. \n",
    "\n",
    "Expected Result:  \n",
    "*SDP storage listing includes new dataset*"
   ]
  },
  {
   "cell_type": "markdown",
   "id": "a81e2096",
   "metadata": {},
   "source": [
    "**Step 8:**\n",
    "\n",
    "Retrieve the dataset from the SDP storage (using Data Product Dashboard).  \n",
    "\n",
    "Expected Result:  \n",
    "_Copy of data file successfully downloaded_"
   ]
  },
  {
   "cell_type": "markdown",
   "id": "85c80abe",
   "metadata": {},
   "source": [
    "**Step 9:** \n",
    "\n",
    "ANALYSIS:  \n",
    "\n",
    "Analysis steps not done in Notebook"
   ]
  },
  {
   "cell_type": "markdown",
   "id": "58fd4f38",
   "metadata": {},
   "source": [
    "**Step 10:**\n",
    "\n",
    "Determine the receiver band of the dataset.  \n",
    "\n",
    "Expected Result:  \n",
    "_Band 1_"
   ]
  },
  {
   "cell_type": "markdown",
   "id": "64d75bf2",
   "metadata": {},
   "source": [
    "**Step 11:**\n",
    "\n",
    "Determine the number of frequency channels recorded.  \n",
    "\n",
    "Expected Result:  \n",
    "_Number of frequency channels in the range [51180_"
   ]
  },
  {
   "cell_type": "markdown",
   "id": "29c4dd75",
   "metadata": {},
   "source": [
    "**Step 12:**\n",
    "\n",
    "Process the data file to identify the dominant CW signal at each time interval. Extract the detected frequency and power level as a time series.  \n",
    "\n",
    "Expected Result:  \n",
    "_Record of CW frequency & power for each time interval_"
   ]
  },
  {
   "cell_type": "markdown",
   "id": "259038bd",
   "metadata": {},
   "source": [
    "**Step 13:**\n",
    "\n",
    "Confirm that the time series agrees with the programmed sequence of attenuation and frequency offset steps.\n",
    "Note: this test is not intended to verify accuracy of frequency & power, so rough agreement is adequate.\n",
    "\n",
    "Expected Result:  \n",
    "*1st ~10sec segment: freq1, power1*\n",
    "\n",
    "*2nd ~10sec segment: freq1, power2*\n",
    "\n",
    "*3rd ~10sec segment: freq1, power3*\n",
    "\n",
    "*4th ~10sec segment: freq1+10MHz, power3*"
   ]
  },
  {
   "cell_type": "markdown",
   "id": "3b9895e1",
   "metadata": {},
   "source": [
    "**Step 14:**\n",
    "\n",
    "  \n",
    "\n",
    "Expected Result:  \n",
    "__"
   ]
  },
  {
   "cell_type": "markdown",
   "id": "139bb48c",
   "metadata": {},
   "source": [
    "**Step 15:**\n",
    "\n",
    "Set CW generator to approximately 1500MHz (freq2) & -30dBm, and wideband noise to approximately -132dBm/Hz at the SPF Band 2 Receiver inputs.  ie. Band 2 output on and attenuation approx 10dB.\n",
    "\n",
    "Expected Result:  \n",
    "*Test equipment configured*"
   ]
  },
  {
   "cell_type": "code",
   "execution_count": null,
   "id": "d61a520d",
   "metadata": {},
   "outputs": [],
   "source": [
    "# test equipment setup values - band 1\n",
    "frequency_to_set = 1500.0002e6\n",
    "power_level = -30.0\n",
    "attenuation = 10\n",
    "band = 2\n",
    "\n",
    "signal_generator = test_equipment.signal_generator\n",
    "SSC = test_equipment.sky_simulator_controller\n",
    "prog_atten = test_equipment.programmable_attenuator\n",
    "\n",
    "# print current\n",
    "print(f\"Current signal generator frequency: {signal_generator.frequency}\")\n",
    "print(f\"Current signal generator power level: {signal_generator.power_dbm}\")\n",
    "print(f\"Current Sky Simulator Correlated Noise Source: {SSC.Correlated_Noise_Source}\")\n",
    "print(f\"Current Sky Simulator Uncorrelated Noise Source: {SSC.Uncorrelated_Noise_Sources}\")\n",
    "print(f\"Current Sky Simulator Band: {SSC.Band}\")\n",
    "print(f\"Current Programmable attenuator current attenuation : {prog_atten.channel_1}\")\n",
    "\n",
    "# setup siggen\n",
    "signal_generator.write_attribute(\"frequency\", frequency_to_set)\n",
    "signal_generator.write_attribute(\"power_dbm\", power_level)\n",
    "# setup SSC\n",
    "SSC.write_attribute(\"Correlated_Noise_Source\", True)\n",
    "SSC.write_attribute(\"Uncorrelated_Noise_Sources\", False)\n",
    "SSC.write_attribute(\"Band\", band)\n",
    "# setup Attenuator\n",
    "prog_atten.write_attribute(\"channel_1\", attenuation)\n",
    "\n",
    "time.sleep(3)\n",
    "# print updated values and confirm updates\n",
    "print(f\"Updated signal generator frequency                  : {signal_generator.frequency}\")\n",
    "print(f\"Updated signal generator power level                : {signal_generator.power_dbm}\")\n",
    "print(f\"Updated Sky Simulator Correlated Noise Source       : {SSC.Correlated_Noise_Source}\")\n",
    "print(f\"Updated Sky Simulator Uncorrelated Noise Source     : {SSC.Uncorrelated_Noise_Sources}\")\n",
    "print(f\"Updated Sky Simulator Band                          : {SSC.Band}\")\n",
    "print(f\"Updated Programmable attenuator current attenuation : {prog_atten.channel_1}\")\n",
    "\n",
    "assert signal_generator.frequency == frequency_to_set, print(\n",
    "    f\"Frequency required is {frequency_to_set} but got {signal_generator.frequency}\"\n",
    ")\n",
    "assert signal_generator.power_dbm == power_level, print(\n",
    "    f\"Power level required is {power_level} but got {signal_generator.power_dbm}\"\n",
    ")\n",
    "assert SSC.Correlated_Noise_Source, print(\n",
    "    f\"Correlated noise source required is {True} but got {SSC.Correlated_Noise_Source}\"\n",
    ")\n",
    "assert not SSC.Uncorrelated_Noise_Sources, print(\n",
    "    f\"Uncorrelated noise source required is {False} but got {SSC.Uncorrelated_Noise_Sources}\"\n",
    ")\n",
    "assert SSC.Band == band, print(f\"Band required is {band} but got {SSC.Band}\")\n",
    "assert prog_atten.channel_1 == attenuation, print(\n",
    "    f\"Attenuation required is {attenuation} but got {prog_atten.channel_1}\"\n",
    ")\n",
    "signal_generator = test_equipment.signal_generator\n",
    "print(f\"Current signal generator frequency: {signal_generator.frequency}\")\n",
    "print(f\"Current signal generator power level: {signal_generator.power_dbm}\")\n",
    "signal_generator.write_attribute(\"frequency\", frequency_to_set)\n",
    "signal_generator.write_attribute(\"power_dbm\", power_level)\n",
    "time.sleep(3)\n",
    "print(f\"Updated signal generator frequency: {signal_generator.frequency}\")\n",
    "print(f\"Updated signal generator power level: {signal_generator.power_dbm}\")\n",
    "assert signal_generator.frequency == frequency_to_set, print(\n",
    "    f\"Frequency required is {frequency_to_set} but got {signal_generator.frequency}\"\n",
    ")\n",
    "prog_atten = test_equipment.programmable_attenuator\n",
    "print(prog_atten.get_attribute_list())\n",
    "print(\n",
    "    f\"Current Programmable attenuator current attenuation : {prog_atten.channel_1}\"\n",
    ")  # print current attenuationprog_atten.write_attribute('channel_1', 10)\n",
    "\n",
    "prog_atten.write_attribute(\"channel_1\", attenuation)\n",
    "time.sleep(1)\n",
    "print(\n",
    "    f\"Updated Programmable attenuator attenuation : {prog_atten.channel_1}\"\n",
    ")  # print updated attenuation\"frequency_to_set = 800e6"
   ]
  },
  {
   "cell_type": "markdown",
   "id": "d630aeb9",
   "metadata": {},
   "source": [
    "**Step 16:**\n",
    "\n",
    "Assign resources, configure the system for a subarray to run an observation scan in Band 2, with correlator averaging set to no more than 2 seconds.\n",
    "\n",
    "Expected Result:  \n",
    "*SUT configured*"
   ]
  },
  {
   "cell_type": "markdown",
   "id": "9b9b956e",
   "metadata": {},
   "source": [
    "Clear scan configuration "
   ]
  },
  {
   "cell_type": "code",
   "execution_count": null,
   "id": "bb66b433",
   "metadata": {},
   "outputs": [],
   "source": [
    "sub.end()\n",
    "telescope_monitor_plot.show()"
   ]
  },
  {
   "cell_type": "markdown",
   "id": "c7591af7",
   "metadata": {},
   "source": [
    "Release Subarray resources"
   ]
  },
  {
   "cell_type": "code",
   "execution_count": null,
   "id": "81f293e1",
   "metadata": {},
   "outputs": [],
   "source": [
    "sub.release()\n",
    "telescope_monitor_plot.show()"
   ]
  },
  {
   "cell_type": "markdown",
   "id": "c4c23043",
   "metadata": {},
   "source": [
    "##### Reset the Telescope (On Failure)"
   ]
  },
  {
   "cell_type": "markdown",
   "id": "55381e07",
   "metadata": {},
   "source": [
    "Reset the Subarray"
   ]
  },
  {
   "cell_type": "code",
   "execution_count": null,
   "id": "d067cc23",
   "metadata": {},
   "outputs": [],
   "source": [
    "sub.abort()\n",
    "time.sleep(3)\n",
    "sub.restart()"
   ]
  },
  {
   "cell_type": "markdown",
   "id": "2a536ce5",
   "metadata": {},
   "source": [
    "Reset the Dish"
   ]
  },
  {
   "cell_type": "code",
   "execution_count": null,
   "id": "9c428c3a",
   "metadata": {},
   "outputs": [],
   "source": [
    "dish_deployment: TangoDishDeployment\n",
    "for dish_deployment in dish_deployments:\n",
    "    dish_deployment.reset_dish()"
   ]
  },
  {
   "cell_type": "markdown",
   "id": "8a59ee20",
   "metadata": {},
   "source": [
    "Update the high level observation specifications in terms of target specs"
   ]
  },
  {
   "cell_type": "markdown",
   "id": "65b613e4",
   "metadata": {},
   "source": [
    "Note :- Users may currently modify the values by replacing the example values as given for each field within Target specification section."
   ]
  },
  {
   "cell_type": "code",
   "execution_count": null,
   "id": "170731ce",
   "metadata": {},
   "outputs": [],
   "source": [
    "dish_ids = [d.dish_id.upper() for d in dish_deployments]\n",
    "default_target_specs = get_default_target_specs_sb(dish_ids)\n",
    "observation = ObservationSB(target_specs=default_target_specs)\n",
    "\n",
    "target_specs = {\n",
    "    \"flux calibrator\": TargetSpec(\n",
    "        target_sb_detail={\n",
    "            \"co_ordinate_type\": \"Equatorial\",\n",
    "            \"ra\": \"19:24:51.05 degrees\",\n",
    "            \"dec\": \"-29:14:30.12 degrees\",\n",
    "            \"reference_frame\": \"ICRS\",\n",
    "            \"unit\": (\"hourangle\", \"deg\"),\n",
    "            \"pointing_pattern_type\": {\n",
    "                \"single_pointing_parameters\": SinglePointParameters(\n",
    "                    offset_x_arcsec=0.0, offset_y_arcsec=0.0\n",
    "                ),\n",
    "                \"raster_parameters\": RasterParameters(\n",
    "                    row_length_arcsec=0.0,\n",
    "                    row_offset_arcsec=0.0,\n",
    "                    n_rows=1,\n",
    "                    pa=0.0,\n",
    "                    unidirectional=False,\n",
    "                ),\n",
    "                \"star_raster_parameters\": StarRasterParameters(\n",
    "                    row_length_arcsec=0.0,\n",
    "                    n_rows=1,\n",
    "                    row_offset_angle=0.0,\n",
    "                    unidirectional=False,\n",
    "                ),\n",
    "                \"five_point_parameters\": FivePointParameters(offset_arcsec=0.0),\n",
    "                \"cross_scan_parameters\": CrossScanParameters(offset_arcsec=0.0),\n",
    "                \"active_pointing_pattern_type\": \"single_pointing_parameters\",\n",
    "            },\n",
    "        },\n",
    "        scan_type=\"flux calibrator\",\n",
    "        band=ReceiverBand.BAND_2,\n",
    "        channelisation=\"vis_channels9\",\n",
    "        polarisation=\"all\",\n",
    "        processing=\"test-receive-addresses\",\n",
    "        dish_ids=dish_ids,\n",
    "        target=None,\n",
    "    ),\n",
    "    \"M87\": TargetSpec(\n",
    "        target_sb_detail={\n",
    "            \"co_ordinate_type\": \"Equatorial\",\n",
    "            \"ra\": \"19:24:51.05 degrees\",\n",
    "            \"dec\": \"-29:14:30.12 degrees\",\n",
    "            \"reference_frame\": \"ICRS\",\n",
    "            \"unit\": (\"hourangle\", \"deg\"),\n",
    "            \"pointing_pattern_type\": {\n",
    "                \"single_pointing_parameters\": SinglePointParameters(\n",
    "                    offset_x_arcsec=0.0, offset_y_arcsec=0.0\n",
    "                ),\n",
    "                \"raster_parameters\": RasterParameters(\n",
    "                    row_length_arcsec=0.0,\n",
    "                    row_offset_arcsec=0.0,\n",
    "                    n_rows=1,\n",
    "                    pa=0.0,\n",
    "                    unidirectional=False,\n",
    "                ),\n",
    "                \"star_raster_parameters\": StarRasterParameters(\n",
    "                    row_length_arcsec=0.0,\n",
    "                    n_rows=1,\n",
    "                    row_offset_angle=0.0,\n",
    "                    unidirectional=False,\n",
    "                ),\n",
    "                \"five_point_parameters\": FivePointParameters(offset_arcsec=0.0),\n",
    "                \"cross_scan_parameters\": CrossScanParameters(offset_arcsec=0.0),\n",
    "                \"active_pointing_pattern_type\": \"single_pointing_parameters\",\n",
    "            },\n",
    "        },\n",
    "        scan_type=\"M87\",\n",
    "        band=ReceiverBand.BAND_2,\n",
    "        channelisation=\"vis_channels10\",\n",
    "        polarisation=\"all\",\n",
    "        processing=\"test-receive-addresses\",\n",
    "        dish_ids=dish_ids,\n",
    "        target=None,\n",
    "    ),\n",
    "}\n",
    "\n",
    "\n",
    "channel_configuration = [\n",
    "    Channel(\n",
    "        spectral_window_id=\"fsp_1_channels\",\n",
    "        count=14880,\n",
    "        start=0,\n",
    "        stride=2,\n",
    "        freq_min=0.35e9,\n",
    "        freq_max=0.368e9,\n",
    "        link_map=[[0, 0], [200, 1], [744, 2], [944, 3]],\n",
    "    )\n",
    "]\n",
    "\n",
    "for key, value in target_specs.items():\n",
    "    observation.add_channel_configuration(value.channelisation, channel_configuration)\n",
    "\n",
    "observation.add_target_specs(target_specs)\n",
    "\n",
    "for target_id, target in target_specs.items():\n",
    "    observation.add_scan_type_configuration(\n",
    "        config_name=target_id,\n",
    "        beams={\"vis0\": BeamMapping(beam_id=\"vis0\", field_id=\"M83\")},\n",
    "        derive_from=\".default\",\n",
    "    )\n",
    "scan_def_id = \"flux calibrator\"\n",
    "observation.add_scan_sequence([scan_def_id])"
   ]
  },
  {
   "cell_type": "code",
   "execution_count": null,
   "id": "dbf152de",
   "metadata": {},
   "outputs": [],
   "source": [
    "telescope_monitor_plot.show()"
   ]
  },
  {
   "cell_type": "markdown",
   "id": "6381b218",
   "metadata": {},
   "source": [
    "Create Scheduling Block Definition(SBD) Instance and save it into the ODA"
   ]
  },
  {
   "cell_type": "code",
   "execution_count": null,
   "id": "a8adcacc",
   "metadata": {},
   "outputs": [],
   "source": [
    "observation.eb_id = eb_id\n",
    "pdm_allocation = observation.generate_pdm_object_for_sbd_save(target_specs)\n",
    "\n",
    "sbd = oda_helper.save(pdm_allocation)\n",
    "sbd_id = sbd.sbd_id\n",
    "pdm_allocation.sbd_id = sbd_id\n",
    "print(f\"Saved Scheduling Block Definition Instance in ODA: SBD_ID={sbd_id}\")"
   ]
  },
  {
   "cell_type": "markdown",
   "id": "e4337a04",
   "metadata": {},
   "source": [
    "Assign the requested resources to a Subarray"
   ]
  },
  {
   "cell_type": "code",
   "execution_count": null,
   "id": "9af9f78a",
   "metadata": {},
   "outputs": [],
   "source": [
    "assign_request = observation.generate_allocate_config_sb(pdm_allocation).as_object\n",
    "\n",
    "if debug_mode:\n",
    "    request_json = get_request_json(assign_request, AssignResourcesRequest, True)\n",
    "    print(\"AssignResourcesRequest:\", json.dumps(json.loads(request_json), indent=2))\n",
    "\n",
    "sub.assign_from_cdm(assign_request, timeout=120)"
   ]
  },
  {
   "cell_type": "code",
   "execution_count": null,
   "id": "3e588265",
   "metadata": {},
   "outputs": [],
   "source": [
    "telescope_monitor_plot.show()"
   ]
  },
  {
   "cell_type": "markdown",
   "id": "8f9450be",
   "metadata": {},
   "source": [
    "Configure the telescope  on first target in sequence - may be modified to configure and run multiple targets at a later time."
   ]
  },
  {
   "cell_type": "code",
   "execution_count": null,
   "id": "ac99de75",
   "metadata": {},
   "outputs": [],
   "source": [
    "configure_object = observation.generate_scan_config_sb(\n",
    "    pdm_observation_request=pdm_allocation,\n",
    "    scan_definition_id=scan_def_id,\n",
    "    scan_duration=10.0,\n",
    ").as_object\n",
    "\n",
    "if debug_mode:\n",
    "    cfg_json = get_request_json(configure_object, ConfigureRequest)\n",
    "    print(f\"ConfigureRequest={cfg_json}\")\n",
    "\n",
    "sub.configure_from_cdm(configure_object, timeout=120)\n",
    "time.sleep(2)"
   ]
  },
  {
   "cell_type": "markdown",
   "id": "ffe65743",
   "metadata": {},
   "source": [
    "**Step 17:**\n",
    "\n",
    "Start scan and start signal path recording and monitor the Spectrometer Display.  \n",
    "\n",
    "Expected Result:  \n",
    "_CW + noise in SDP Spectrometer Display_"
   ]
  },
  {
   "cell_type": "markdown",
   "id": "bf0ed87c",
   "metadata": {},
   "source": [
    "Run the Scan"
   ]
  },
  {
   "cell_type": "code",
   "execution_count": null,
   "id": "952d8938",
   "metadata": {},
   "outputs": [],
   "source": [
    "sub.scan(timeout=120)\n",
    "telescope_monitor_plot.show()"
   ]
  },
  {
   "cell_type": "markdown",
   "id": "d978f375",
   "metadata": {},
   "source": [
    "**Step 18:**\n",
    "\n",
    "After ~10seconds, end scan and recording. Monitor feedback from SDP storage .\n",
    "\n",
    "Expected Result:  \n",
    "*SDP storage listing includes new dataset*\n",
    "\n",
    "note: configure command has 10 seconds for scan duration"
   ]
  },
  {
   "cell_type": "markdown",
   "id": "372233c1",
   "metadata": {},
   "source": [
    "**Step 19:**\n",
    "\n",
    "Retrieve the dataset from the SDP storage (using Data Product Dashboard).  \n",
    "\n",
    "Expected Result:  \n",
    "_Copy of data file successfully downloaded_"
   ]
  },
  {
   "cell_type": "markdown",
   "id": "df6cda58",
   "metadata": {},
   "source": [
    "**Step 20:**\n",
    "\n",
    "ANALYSIS:  \n",
    "\n",
    "Expected Result:  \n",
    "__"
   ]
  },
  {
   "cell_type": "markdown",
   "id": "c6a8a745",
   "metadata": {},
   "source": [
    "**Step 21:**\n",
    "\n",
    "Determine the number of frequency channels recorded.  \n",
    "\n",
    "Expected Result:  \n",
    "_Number of frequency channels in the range [51180, 65536] (inclusive). Note that only approximately 16000 channels are expected to be available prior to AA3_"
   ]
  },
  {
   "cell_type": "markdown",
   "id": "4649b730",
   "metadata": {},
   "source": [
    "**Step 22:**\n",
    "\n",
    "Determine the receiver band of the dataset.  \n",
    "\n",
    "Expected Result:  \n",
    "_Band 2_"
   ]
  },
  {
   "cell_type": "markdown",
   "id": "f454492a",
   "metadata": {},
   "source": [
    "**Step 23:**\n",
    "\n",
    "Process the data file to identify the dominant CW signal at each time interval. Extract the detected frequency and power level as a time series.  \n",
    "\n",
    "Expected Result:  \n",
    "_Record of CW frequency & power for each time interval_"
   ]
  },
  {
   "cell_type": "markdown",
   "id": "6a91b001",
   "metadata": {},
   "source": [
    "**Step 24:**\n",
    "\n",
    "Confirm that the dominant CW signal frequency agrees with the programmed signal frequency.\n",
    "\n",
    "Note: this test is not intended to verify accuracy of frequency & power, so rough agreement is adequate. \n",
    "\n",
    "Expected Result:  \n",
    "_freq2_"
   ]
  },
  {
   "cell_type": "markdown",
   "id": "e24ecf17-27f7-4b39-97e0-35c604847beb",
   "metadata": {},
   "source": [
    "### 3.11 Post Observation teardown\n",
    "If the observation executed successfully, you can use the following commands to reset the telescope."
   ]
  },
  {
   "cell_type": "markdown",
   "id": "a6fdaf9d-745d-42af-979d-56df00be451f",
   "metadata": {},
   "source": [
    "#### 3.11.1 Clear scan configuration "
   ]
  },
  {
   "cell_type": "code",
   "execution_count": null,
   "id": "5283c8ce-aff0-4624-aee9-c256a9292e9a",
   "metadata": {
    "tags": []
   },
   "outputs": [],
   "source": [
    "sub.end()\n",
    "telescope_monitor_plot.show()"
   ]
  },
  {
   "cell_type": "markdown",
   "id": "2018060f-b252-4636-8ae3-1de450a8e84e",
   "metadata": {},
   "source": [
    "#### 3.11.2 Release Subarray resources"
   ]
  },
  {
   "cell_type": "code",
   "execution_count": null,
   "id": "82b3382b-c3b0-44c8-959b-2f7889e894fc",
   "metadata": {
    "tags": []
   },
   "outputs": [],
   "source": [
    "sub.release()\n",
    "telescope_monitor_plot.show()"
   ]
  },
  {
   "cell_type": "markdown",
   "id": "2271a3b8",
   "metadata": {},
   "source": [
    "### 3.12 Reset the Telescope (On Failure)\n",
    "Set booleans to True to reset the system after a failed execution."
   ]
  },
  {
   "cell_type": "markdown",
   "id": "3714b617",
   "metadata": {},
   "source": [
    "#### 3.12.1 Reset the Subarray"
   ]
  },
  {
   "cell_type": "code",
   "execution_count": null,
   "id": "c854b11d",
   "metadata": {},
   "outputs": [],
   "source": [
    "sub.abort()\n",
    "time.sleep(3)\n",
    "sub.restart()"
   ]
  },
  {
   "cell_type": "markdown",
   "id": "0f2b3ed4",
   "metadata": {},
   "source": [
    "#### 3.12.2 Reset the Dish"
   ]
  },
  {
   "cell_type": "code",
   "execution_count": null,
   "id": "f1055b6f",
   "metadata": {},
   "outputs": [],
   "source": [
    "dish_deployment: TangoDishDeployment\n",
    "for dish_deployment in dish_deployments:\n",
    "    dish_deployment.reset_dish()"
   ]
  },
  {
   "cell_type": "markdown",
   "id": "3aa97f57",
   "metadata": {},
   "source": [
    "## 4 Debug Telescope"
   ]
  },
  {
   "cell_type": "markdown",
   "id": "928303b2",
   "metadata": {},
   "source": [
    "### 4.1 Display Telescope State"
   ]
  },
  {
   "cell_type": "code",
   "execution_count": null,
   "id": "0826fb4f",
   "metadata": {},
   "outputs": [],
   "source": [
    "telescope_state.state"
   ]
  },
  {
   "cell_type": "markdown",
   "id": "6eaab909",
   "metadata": {},
   "source": [
    "### 4.2 Display Telescope State Subscriptions"
   ]
  },
  {
   "cell_type": "code",
   "execution_count": null,
   "id": "1432e55e",
   "metadata": {},
   "outputs": [],
   "source": [
    "telescope_state.state_monitor.subscriptions"
   ]
  },
  {
   "cell_type": "markdown",
   "id": "d3f19fe0",
   "metadata": {},
   "source": [
    "### 4.3 Display Dish LMC State"
   ]
  },
  {
   "cell_type": "code",
   "execution_count": null,
   "id": "b35a75fe",
   "metadata": {},
   "outputs": [],
   "source": [
    "dishes_to_debug = [d.dish_id for d in dish_deployments]\n",
    "for dish in dish_deployments:\n",
    "    if dish.dish_id in dishes_to_debug:\n",
    "        dish.print_diagnostics()"
   ]
  },
  {
   "cell_type": "markdown",
   "id": "c85c53c7",
   "metadata": {},
   "source": [
    "### 4.4 Display CSP LMC State"
   ]
  },
  {
   "cell_type": "code",
   "execution_count": null,
   "id": "a4af7df1",
   "metadata": {},
   "outputs": [],
   "source": [
    "sut.print_csp_diagnostics()"
   ]
  },
  {
   "cell_type": "markdown",
   "id": "a41b15d4",
   "metadata": {},
   "source": [
    "### 4.5 Display TMC State"
   ]
  },
  {
   "cell_type": "code",
   "execution_count": null,
   "id": "f2349751",
   "metadata": {},
   "outputs": [],
   "source": [
    "sut.print_tmc_diagnostics()"
   ]
  },
  {
   "cell_type": "markdown",
   "id": "cef22a88",
   "metadata": {},
   "source": [
    "### 4.6 Display SDP State"
   ]
  },
  {
   "cell_type": "code",
   "execution_count": null,
   "id": "1f774d6a",
   "metadata": {},
   "outputs": [],
   "source": [
    "sut.print_sdp_diagnostics()"
   ]
  },
  {
   "cell_type": "markdown",
   "id": "ca880bc8",
   "metadata": {},
   "source": [
    "## 5 Dashboard Links"
   ]
  },
  {
   "cell_type": "markdown",
   "id": "6c15ab74",
   "metadata": {},
   "source": [
    "### 5.1 Taranta"
   ]
  },
  {
   "cell_type": "code",
   "execution_count": null,
   "id": "1b7cc02d",
   "metadata": {},
   "outputs": [],
   "source": [
    "print(f\"SUT: {sut.taranta_endpoint}\")\n",
    "print(f\"Test Equipment: {test_equipment.taranta_endpoint}\")\n",
    "for dish in dish_deployments:\n",
    "    print(f\"Dish LMC {dish.dish_id}: {dish.taranta_endpoint}\")"
   ]
  },
  {
   "cell_type": "markdown",
   "id": "442569c1",
   "metadata": {},
   "source": [
    "### 5.2 Data Product Dashboard"
   ]
  },
  {
   "cell_type": "markdown",
   "id": "6fdfa4f6",
   "metadata": {},
   "source": [
    "https://k8s.miditf.internal.skao.int/ska-dpd/dashboard/"
   ]
  },
  {
   "cell_type": "markdown",
   "id": "2154f554",
   "metadata": {},
   "source": [
    "### 5.3 SDP Signal Displays"
   ]
  },
  {
   "cell_type": "code",
   "execution_count": null,
   "id": "9b5c61b9",
   "metadata": {},
   "outputs": [],
   "source": [
    "print(sut.signal_displays_endpoint)"
   ]
  },
  {
   "cell_type": "markdown",
   "id": "c5ae56f5",
   "metadata": {},
   "source": []
  }
 ],
 "metadata": {
  "kernelspec": {
   "display_name": "Python 3 (ipykernel)",
   "language": "python",
   "name": "python3"
  },
  "language_info": {
   "codemirror_mode": {
    "name": "ipython",
    "version": 3
   },
   "file_extension": ".py",
   "mimetype": "text/x-python",
   "name": "python",
   "nbconvert_exporter": "python",
   "pygments_lexer": "ipython3",
   "version": "3.10.12"
  }
 },
 "nbformat": 4,
 "nbformat_minor": 5
}
