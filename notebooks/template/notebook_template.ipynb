{
 "cells": [
  {
   "cell_type": "markdown",
   "metadata": {},
   "source": [
    "# Jupyter Notebook Style Guide and Best Practices\n",
    "###### Last Updated: 19/04/24"
   ]
  },
  {
   "cell_type": "markdown",
   "metadata": {},
   "source": [
    "This Jupyter notebook serves as a template and guide for writing other notebooks in this repository. It is mainly based on this [simple execution notebook](../sdp/jupyter_notebook_simple_execution.ipynb).\n",
    "\n",
    "For your header/intro be sure to include:\n",
    "- A descriptive title describing what the notebook will do.\n",
    "- A date the notebook was updated, so readers can check if a notebook will break due to being outdated.\n",
    "- Any prerequisites that must be done before running the notebook, such as running pipelines/starting environments.\n",
    "- The Python version the notebook was built with (in this case, Python 3.9)\n",
    "- The author is not required, as a user can get this from GitLab."
   ]
  },
  {
   "cell_type": "markdown",
   "metadata": {},
   "source": [
    "## 1 Headings"
   ]
  },
  {
   "cell_type": "markdown",
   "metadata": {},
   "source": [
    "Headings should be a separate markdown element, to allow them to collapse the elements they head. For ease of navigation/reading, number them and ensure they describe the work done by that section."
   ]
  },
  {
   "cell_type": "markdown",
   "metadata": {},
   "source": [
    "Major steps should use H2 (```##```) and full numbers (1,2,3...), stages within steps or options for flow should use H3 (```###```) and minor numbering(1.1,1.2,1.3...)."
   ]
  },
  {
   "cell_type": "markdown",
   "metadata": {},
   "source": [
    "## 2 Sectioning off Work"
   ]
  },
  {
   "cell_type": "markdown",
   "metadata": {},
   "source": [
    "To section off work, consider what elements make sense to be split off. If a piece of work can be skipped or substituted, it should be a section of work, as it will enable troubleshooting or using the notebook for other work."
   ]
  },
  {
   "cell_type": "markdown",
   "metadata": {},
   "source": [
    "### 2.1 Running Options"
   ]
  },
  {
   "cell_type": "markdown",
   "metadata": {
    "vscode": {
     "languageId": "plaintext"
    }
   },
   "source": [
    "If there are optional steps or multiple ways work can be done, consider having it under a subheading, so a user can collapse it if not in use."
   ]
  },
  {
   "cell_type": "markdown",
   "metadata": {},
   "source": [
    "## 3 Code Blocks"
   ]
  },
  {
   "cell_type": "markdown",
   "metadata": {},
   "source": [
    "The notebook kernel will run each code block independently, but will use the vars and current environment of the overall notebook. Therefore, ensure that any vars will be set if the notebook is run normally.\n",
    "\n",
    "Consider having a starting block that allows the user of the notebook set any vars that might change (e.g. Talon board number, file directory, namespace). For cleanliness, also run any import steps at the start as well.\n"
   ]
  },
  {
   "cell_type": "code",
   "execution_count": null,
   "metadata": {},
   "outputs": [],
   "source": [
    "# These should be imported to run the example code blocks\n",
    "import random\n",
    "from time import sleep"
   ]
  },
  {
   "cell_type": "markdown",
   "metadata": {},
   "source": [
    "\n",
    "**Do not** Have infinite loops unless you have no code running after the code block, as this will block the kernel. "
   ]
  },
  {
   "cell_type": "markdown",
   "metadata": {},
   "source": [
    "### 3.1 Splitting Code Blocks"
   ]
  },
  {
   "cell_type": "markdown",
   "metadata": {},
   "source": [
    "Each code block should do a single element of work. If something might break due to user input, does some work that cannot be undone, or will need the user to monitor it, have it as a separate block. This will allow the person running the book to check before/after running the block."
   ]
  },
  {
   "cell_type": "markdown",
   "metadata": {
    "vscode": {
     "languageId": "plaintext"
    }
   },
   "source": [
    "## 4 Referencing Other Notebooks and Files"
   ]
  },
  {
   "cell_type": "markdown",
   "metadata": {},
   "source": [
    "Consider writing notebooks that handle a segment of work that can be utilized by other flows (like for starting a service/device). Link out to these notebooks by using file links [like this](../template/notebook_template.ipynb).\n",
    "\n",
    "Make sure to reference outside documentation and examples similarly. "
   ]
  },
  {
   "cell_type": "markdown",
   "metadata": {},
   "source": [
    "## 5 Easing User Flow"
   ]
  },
  {
   "cell_type": "markdown",
   "metadata": {},
   "source": [
    "When writing notebooks, consider ways to make tedious steps easier for the user.\n",
    "Since a lot of our flow uses namespaces and web-based frontends, take this as input, and use it to generate the URL links to these. \n",
    "\n",
    "For example:"
   ]
  },
  {
   "cell_type": "code",
   "execution_count": null,
   "metadata": {},
   "outputs": [],
   "source": [
    "ns = \"ci-ska-mid-psi-1259297835-alexschell\""
   ]
  },
  {
   "cell_type": "code",
   "execution_count": null,
   "metadata": {},
   "outputs": [],
   "source": [
    "url = \"https://142.73.34.170/\" + ns + \"/taranta/dashboard?id=65e7b6f7b72ec70018cdb16a&mode=run\"\n",
    "print(\n",
    "    \"You can monitor board status using: https://142.73.34.170/{}/taranta/dashboard?id=65e7b6f7b72ec70018cdb16a&mode=run\".format(\n",
    "        ns\n",
    "    )\n",
    ")"
   ]
  },
  {
   "cell_type": "markdown",
   "metadata": {},
   "source": [
    "One helpful way to simplify user flows to consider is using a combination of bash commands and piping into `grep` to print useful information."
   ]
  },
  {
   "cell_type": "markdown",
   "metadata": {},
   "source": [
    "## 6 Code Styling"
   ]
  },
  {
   "cell_type": "markdown",
   "metadata": {},
   "source": [
    "Most major code formatting will be handled by the [Black extension](https://marketplace.visualstudio.com/items?itemName=ms-python.black-formatter), but some manual steps should be observed."
   ]
  },
  {
   "cell_type": "markdown",
   "metadata": {},
   "source": [
    "### 6.1 Var Names"
   ]
  },
  {
   "cell_type": "markdown",
   "metadata": {},
   "source": [
    "For naming, use lowercase snake_case for any variables that might need to be updated during runtime by the user, such as namespace, talon board, etc.. Use UPPERCASE SNAKE_CASE for constants that will not need to be changed."
   ]
  },
  {
   "cell_type": "markdown",
   "metadata": {},
   "source": [
    "### 6.2 Waiting for Code"
   ]
  },
  {
   "cell_type": "markdown",
   "metadata": {},
   "source": [
    "If there is a step that relies on a state change, do not use a hardcoded `.sleep`, as it may be hard to estimate. Instead, we can import the helper functions to check it periodically until the desired state is reached:"
   ]
  },
  {
   "cell_type": "code",
   "execution_count": 1,
   "metadata": {},
   "outputs": [],
   "source": [
    "import sys\n",
    "sys.path.append('../../src')\n",
    "import notebook_tools.wait_for_tango as wait_for_tango"
   ]
  },
  {
   "cell_type": "markdown",
   "metadata": {},
   "source": [
    "This function can then be run as: "
   ]
  },
  {
   "cell_type": "code",
   "execution_count": null,
   "metadata": {},
   "outputs": [],
   "source": [
    "wait_for_tango.wait_for_state(device, desired_state)"
   ]
  },
  {
   "cell_type": "markdown",
   "metadata": {},
   "source": [
    "### 6.3 Executing in Bash"
   ]
  },
  {
   "cell_type": "markdown",
   "metadata": {},
   "source": [
    "To help the user, consider having bash/terminal steps executed for them. This can be achieved by using [magic commands](https://ipython.readthedocs.io/en/stable/interactive/magics.html#magic-system). \n",
    "\n",
    "For example:"
   ]
  },
  {
   "cell_type": "code",
   "execution_count": null,
   "metadata": {},
   "outputs": [],
   "source": [
    "time_format = \"'+%A %W %Y %X'\"\n",
    "\n",
    "!date $time_format"
   ]
  },
  {
   "cell_type": "markdown",
   "metadata": {},
   "source": [
    "Environment variables and paths should be set/accessed using the `os` library in Python. Use [os.environ](https://docs.python.org/3/library/os.html#os.environ) in particular to set environment vars."
   ]
  },
  {
   "cell_type": "markdown",
   "metadata": {},
   "source": [
    "## 7 Markdown Blocks"
   ]
  },
  {
   "cell_type": "markdown",
   "metadata": {},
   "source": [
    "Each part of the flow should have a small amount of text explaining what the code block does, so a user can more easily troubleshoot steps if required. If a markdown section is becoming overly long, it may be a sign that a code block should be split. If code blocks are closely related (like being split simply to allow a user to check before continuing) they do not need their own markdown block.\n",
    "\n",
    "For example:"
   ]
  },
  {
   "cell_type": "markdown",
   "metadata": {},
   "source": [
    "This section demonstrates running a code block and to show a good amount of text for a code block. If anything goes wrong here, it is a sign something is very wrong."
   ]
  },
  {
   "cell_type": "code",
   "execution_count": null,
   "metadata": {},
   "outputs": [],
   "source": [
    "print(\"SKA-MID is now scanning\")\n",
    "if random.choice([True, False]):\n",
    "    print(\"Aliens found!\")\n",
    "else:\n",
    "    print(\"Aliens not found!\")"
   ]
  },
  {
   "cell_type": "markdown",
   "metadata": {},
   "source": [
    "### 7.1 Warning Users"
   ]
  },
  {
   "cell_type": "markdown",
   "metadata": {},
   "source": [
    "Use **bold text** to highlight any important info. If a user is about to do something that might break something (like changing LRU power) use **bold text** and a horizontal line to ensure they know that a threshold is being crossed.\n",
    "\n",
    "**This is an example of a horizontal line**\n",
    "***"
   ]
  },
  {
   "cell_type": "markdown",
   "metadata": {},
   "source": [
    "## 8 File/Folder Names"
   ]
  },
  {
   "cell_type": "markdown",
   "metadata": {},
   "source": [
    "Folders should be named to group general tasks/flows together. For example, running scanning/visibility flows end to end has been classified under the `e2e` folder.\n",
    "\n",
    "Files should have descriptive names that describe what they do and what options in terms of flow they offer. Again in the `e2e` folder, running with no TMC has been named as such ([e2e_no_tmc](../mid_e2e/e2e_no_tmc.ipynb)), and running with the CSP and SDP has also been named in this method ([e2e_csp_sdp](../mid_e2e/e2e_csp_sdp.ipynb))."
   ]
  },
  {
   "cell_type": "markdown",
   "metadata": {},
   "source": [
    "## 9 Cleanup Steps"
   ]
  },
  {
   "cell_type": "markdown",
   "metadata": {},
   "source": [
    "At the end of the notebook, include a cleanup step that shuts down any talon boards, deletes any namespaces, and removes anything else that might use up resources."
   ]
  }
 ],
 "metadata": {
  "kernelspec": {
   "display_name": "al_venv",
   "language": "python",
   "name": "python3"
  },
  "language_info": {
   "codemirror_mode": {
    "name": "ipython",
    "version": 3
   },
   "file_extension": ".py",
   "mimetype": "text/x-python",
   "name": "python",
   "nbconvert_exporter": "python",
   "pygments_lexer": "ipython3",
   "version": "3.9.19"
  }
 },
 "nbformat": 4,
 "nbformat_minor": 2
}
