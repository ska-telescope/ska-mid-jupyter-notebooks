{
 "cells": [
  {
   "cell_type": "markdown",
   "metadata": {},
   "source": [
    "# SDP Configuration"
   ]
  },
  {
   "cell_type": "code",
   "execution_count": null,
   "metadata": {},
   "outputs": [],
   "source": [
    "TANGO_HOST=\"10.164.10.77:10000\"\n",
    "RECEPTORS = [\"SKA001\"]"
   ]
  },
  {
   "cell_type": "code",
   "execution_count": null,
   "metadata": {},
   "outputs": [],
   "source": [
    "from PyTango import DeviceProxy, AttributeProxy\n",
    "import os\n",
    "import json\n",
    "from time import sleep\n",
    "from datetime import datetime\n",
    "\n",
    "os.environ[\"TANGO_HOST\"] = TANGO_HOST\n",
    "\n",
    "sdp_server = \"mid-sdp/subarray/01\"\n",
    "sdp_dp = DeviceProxy(sdp_server)\n",
    "\n",
    "print(sdp_dp.State())\n"
   ]
  },
  {
   "cell_type": "code",
   "execution_count": null,
   "metadata": {},
   "outputs": [],
   "source": [
    "with open(f'../../data/mid_telescope/tmc/assign_resources.json', 'r') as json_data:\n",
    "    d = json.load(json_data)\n",
    "    sdp_assign_resources = d[\"sdp\"]\n",
    "    sdp_assign_resources[\"resources\"][\"receptors\"] = RECEPTORS\n",
    "    sdp_dp.AssignResources(json.dumps(sdp_assign_resources))\n",
    "\n",
    "sleep(3)\n",
    "print(sdp_dp.obsState)"
   ]
  },
  {
   "cell_type": "code",
   "execution_count": null,
   "metadata": {},
   "outputs": [],
   "source": [
    "with open(f'../../data/mid_telescope/tmc/configure_scan.json', 'r') as json_data:\n",
    "    d = json.load(json_data)\n",
    "    sdp_configure_Scan = d[\"sdp\"]\n",
    "    print(sdp_configure_Scan)\n",
    "    sdp_dp.configure(json.dumps(sdp_configure_Scan))\n",
    "\n",
    "sleep(3)\n",
    "print(sdp_dp.obsState)\n",
    "\n",
    "with open(f'../../data/mid_telescope/tmc/scan.json', 'r') as json_data:\n",
    "    d = json.load(json_data)\n",
    "    sdp_scan = d[\"sdp\"]\n",
    "    print(sdp_scan)\n",
    "    sdp_dp.configure(json.dumps(sdp_scan))\n",
    "\n",
    "sleep(3)\n",
    "print(sdp_dp.obsState)"
   ]
  },
  {
   "cell_type": "markdown",
   "metadata": {},
   "source": [
    "#### Copy out SDP Data"
   ]
  },
  {
   "cell_type": "code",
   "execution_count": null,
   "metadata": {},
   "outputs": [],
   "source": [
    "taql 'SELECT TIME FROM output.scan-1.ms'"
   ]
  },
  {
   "cell_type": "code",
   "execution_count": null,
   "metadata": {},
   "outputs": [],
   "source": [
    "!kubectl --kubeconfig=/home/a.joshi/KUBECONFIG cp cloud03-sdn-dynamic-vis:/app/data/visibility_capture.zip $vis_zip_file"
   ]
  }
 ],
 "metadata": {
  "kernelspec": {
   "display_name": "venv",
   "language": "python",
   "name": "python3"
  },
  "language_info": {
   "codemirror_mode": {
    "name": "ipython",
    "version": 3
   },
   "file_extension": ".py",
   "mimetype": "text/x-python",
   "name": "python",
   "nbconvert_exporter": "python",
   "pygments_lexer": "ipython3",
   "version": "3.10.12"
  }
 },
 "nbformat": 4,
 "nbformat_minor": 2
}
