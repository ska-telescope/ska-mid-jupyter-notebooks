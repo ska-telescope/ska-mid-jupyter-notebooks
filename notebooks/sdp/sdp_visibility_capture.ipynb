{
 "cells": [
  {
   "cell_type": "markdown",
   "metadata": {},
   "source": [
    "# SDP Configuration"
   ]
  },
  {
   "cell_type": "code",
   "execution_count": null,
   "metadata": {},
   "outputs": [],
   "source": [
    "TANGO_HOST = \"10.164.10.193:10000\"\n",
    "RECEPTORS = [\"SKA001\", \"SKA036\"]"
   ]
  },
  {
   "cell_type": "code",
   "execution_count": null,
   "metadata": {},
   "outputs": [],
   "source": [
    "import json\n",
    "import os\n",
    "from datetime import datetime\n",
    "from time import sleep\n",
    "\n",
    "from tango import AttributeProxy, DeviceProxy\n",
    "\n",
    "os.environ[\"TANGO_HOST\"] = TANGO_HOST\n",
    "\n",
    "sdp_server = \"mid-sdp/subarray/01\"\n",
    "sdp_dp = DeviceProxy(sdp_server)\n",
    "\n",
    "print(sdp_dp.State())"
   ]
  },
  {
   "cell_type": "code",
   "execution_count": null,
   "metadata": {},
   "outputs": [],
   "source": [
    "sdp_dp.on()"
   ]
  },
  {
   "cell_type": "code",
   "execution_count": null,
   "metadata": {},
   "outputs": [],
   "source": [
    "with open(\n",
    "    \"../../data/mid_telescope/tmc/assign_resources.json\", \"r\", encoding=\"utf-8\"\n",
    ") as json_data:\n",
    "    d = json.load(json_data)\n",
    "    sdp_assign_resources = d[\"sdp\"]\n",
    "    sdp_assign_resources[\"resources\"][\"receptors\"] = RECEPTORS\n",
    "    sdp_dp.AssignResources(json.dumps(sdp_assign_resources))\n",
    "\n",
    "sleep(3)\n",
    "print(sdp_dp.obsState)"
   ]
  },
  {
   "cell_type": "code",
   "execution_count": null,
   "metadata": {},
   "outputs": [],
   "source": [
    "with open(\"../../data/mid_telescope/tmc/configure_scan.json\", \"r\", encoding=\"utf-8\") as json_data:\n",
    "    d = json.load(json_data)\n",
    "    sdp_configure_Scan = d[\"sdp\"]\n",
    "    print(sdp_configure_Scan)\n",
    "    sdp_dp.configure(json.dumps(sdp_configure_Scan))\n",
    "\n",
    "sleep(3)\n",
    "print(sdp_dp.obsState)"
   ]
  },
  {
   "cell_type": "code",
   "execution_count": null,
   "metadata": {},
   "outputs": [],
   "source": [
    "with open(\"../../data/mid_telescope/tmc/scan.json\", \"r\", encoding=\"utf-8\") as json_data:\n",
    "    d = json.load(json_data)\n",
    "    sdp_scan = d[\"sdp\"]\n",
    "    print(sdp_scan)\n",
    "    sdp_dp.scan(json.dumps(sdp_scan))\n",
    "\n",
    "sleep(3)\n",
    "print(sdp_dp.obsState)"
   ]
  },
  {
   "cell_type": "code",
   "execution_count": null,
   "metadata": {},
   "outputs": [],
   "source": [
    "print(sdp_dp.obsState)"
   ]
  },
  {
   "cell_type": "code",
   "execution_count": null,
   "metadata": {},
   "outputs": [],
   "source": [
    "sdp_dp.EndScan()"
   ]
  },
  {
   "cell_type": "code",
   "execution_count": null,
   "metadata": {},
   "outputs": [],
   "source": [
    "sdp_dp.End()"
   ]
  },
  {
   "cell_type": "markdown",
   "metadata": {},
   "source": [
    "#### Copy out SDP Data"
   ]
  },
  {
   "cell_type": "code",
   "execution_count": null,
   "metadata": {},
   "outputs": [],
   "source": [
    "taql 'SELECT TIME FROM output.scan-1.ms'"
   ]
  },
  {
   "cell_type": "code",
   "execution_count": null,
   "metadata": {},
   "outputs": [],
   "source": [
    "!kubectl --kubeconfig=/home/a.joshi/KUBECONFIG cp cloud03-sdn-dynamic-vis:/app/data/visibility_capture.zip $vis_zip_file"
   ]
  }
 ],
 "metadata": {
  "kernelspec": {
   "display_name": "venv",
   "language": "python",
   "name": "python3"
  },
  "language_info": {
   "codemirror_mode": {
    "name": "ipython",
    "version": 3
   },
   "file_extension": ".py",
   "mimetype": "text/x-python",
   "name": "python",
   "nbconvert_exporter": "python",
   "pygments_lexer": "ipython3",
   "version": "3.10.14"
  }
 },
 "nbformat": 4,
 "nbformat_minor": 2
}
