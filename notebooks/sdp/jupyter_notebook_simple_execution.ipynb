{
 "cells": [
  {
   "cell_type": "markdown",
   "id": "9beef50d-fdf5-4c60-a0ee-0a582dc5a7bb",
   "metadata": {},
   "source": [
    "# Run a simple flow using just the SDP directly\n",
    "\n",
    "This notebook is based on the `notebooks/jupyter_notebook_simple_execution.ipynb` developed by the Naledi team. In the future, it may be prudent to modify that notebook so that it can easily run in the Mid ITF.\n",
    "\n",
    "This notebook assumes that there is an instance of the SDP running in the cluster. The SDP is deployed along with the SUT. See the following gitlab jobs:\n",
    "* deploy-sut-on-demand \n",
    "* deploy-integration"
   ]
  },
  {
   "cell_type": "markdown",
   "id": "621f2ced-7eb3-44fe-93f1-2d532598faef",
   "metadata": {},
   "source": [
    "# 1 Import required libraries and create helpers"
   ]
  },
  {
   "cell_type": "code",
   "execution_count": null,
   "id": "b01ae942-f90d-4631-846f-7de9bf03da26",
   "metadata": {
    "tags": []
   },
   "outputs": [],
   "source": [
    "import sys\n",
    "\n",
    "sys.path.append(\"../../src\")\n",
    "\n",
    "import json\n",
    "import logging\n",
    "import os\n",
    "import random\n",
    "from datetime import date\n",
    "from time import sleep, time\n",
    "\n",
    "import ska_ser_logging\n",
    "from ska_sdp_cbf_emulator import transmitters\n",
    "from ska_sdp_cbf_emulator.data_source import MeasurementSetDataSourceConfig\n",
    "from ska_sdp_cbf_emulator.packetiser import SenderConfig, packetise\n",
    "from tango import DeviceProxy\n",
    "\n",
    "from ska_mid_jupyter_scripting.cluster.configure import set_cluster\n",
    "\n",
    "\n",
    "def wait_for_state(device, desired_state):\n",
    "    print(f\"State: {device.obsState.name}\")\n",
    "    while device.obsState != desired_state:\n",
    "        print(f\"State: {device.obsState.name}\")\n",
    "        sleep(0.5)\n",
    "    print(f\"State: {device.obsState.name}\")"
   ]
  },
  {
   "cell_type": "markdown",
   "id": "4a563e35-f413-45a3-bd2b-975b2c04cec3",
   "metadata": {},
   "source": [
    "# 2 Setup base variables\n",
    "\n",
    "This section is what is used to setup the remaining sections of code, so update this as required.\n",
    "\n",
    "This section will generate random IDs, so it is possible that it might cause a conflict later when resourcing in section 7. To resolve the issue, run this section again, and then run section 7."
   ]
  },
  {
   "cell_type": "code",
   "execution_count": null,
   "id": "36b3d3db-4078-456c-9eed-4bba37558f64",
   "metadata": {
    "tags": []
   },
   "outputs": [],
   "source": [
    "MS_INPUT_NAME = \"../../data/AA05LOW.ms\"\n",
    "namespace = \"integration\"  # Edit this line to have your namespace name\n",
    "subarray_id = \"01\"  # Edit this line to select the subarray\n",
    "enable_logging = True\n",
    "use_network_attachment_definition = True\n",
    "\n",
    "today = date.today().strftime(\"%Y%m%d\")\n",
    "random_id = random.randint(0, 99999)\n",
    "\n",
    "EXECUTION_BLOCK_ID = f\"eb-test-{today}-{random_id:05d}\"\n",
    "PROCESSING_BLOCK_ID_REALTIME = f\"pb-testrealtime-{today}-{random_id:05d}\"\n",
    "KAFKA_HOST = f\"ska-sdp-kafka.{namespace}.svc:9092\"\n",
    "\n",
    "set_cluster(\n",
    "    namespace=namespace,\n",
    "    database_name=\"tango-databaseds\",\n",
    "    polling=True,\n",
    "    facility=\"itf\",\n",
    ")\n",
    "\n",
    "if enable_logging:\n",
    "    ska_ser_logging.configure_logging(logging.DEBUG)"
   ]
  },
  {
   "cell_type": "markdown",
   "id": "d1e0cfa1-4cc8-409d-a2d8-17b50c7bbd09",
   "metadata": {},
   "source": [
    "# 3 Download a sample data file\n",
    "\n",
    "You can use any valid .MS file here, however make sure that the extraction extracts only a single level deep.\n",
    "\n",
    "There is an example file already in this repo, so this section can be skipped.\n",
    "\n",
    "Other examples of data files can be found [here](https://gitlab.com/ska-telescope/sdp/ska-sdp-realtime-receive-core/-/tree/main/data?ref_type=heads)"
   ]
  },
  {
   "cell_type": "code",
   "execution_count": null,
   "id": "2a372ae1-7691-4fd8-9e72-4ce16cb1f8e5",
   "metadata": {
    "tags": []
   },
   "outputs": [],
   "source": [
    "if not os.path.isdir(MS_INPUT_NAME):\n",
    "    !curl https://gitlab.com/ska-telescope/sdp/ska-sdp-realtime-receive-core/-/raw/main/data/AA05LOW.ms.tar.gz --output AA05LOW.ms.tar.gz\n",
    "    !tar -xzf AA05LOW.ms.tar.gz"
   ]
  },
  {
   "cell_type": "markdown",
   "id": "009c9dba-eb53-457c-95b7-cd3bb4cc1c58",
   "metadata": {},
   "source": [
    "# 4 Open Helper Dashboards\n",
    "\n",
    "This is a link to the Signal Display. On which you will find links to the Grafana dashboard and Kibana logs.\n",
    "\n",
    "Documentation for the Signal Displays can be found [here](https://developer.skao.int/projects/ska-sdp-qa-display/en/latest/)"
   ]
  },
  {
   "cell_type": "code",
   "execution_count": null,
   "id": "b334b5e7-27b0-4f8d-b189-221ddcb14cfb",
   "metadata": {
    "tags": []
   },
   "outputs": [],
   "source": [
    "print(f\"https://k8s.miditf.internal.skao.int/{namespace}/signal/display/\")"
   ]
  },
  {
   "cell_type": "markdown",
   "id": "62a4d024-b448-4ba1-9804-5d4ea0f7d4ea",
   "metadata": {},
   "source": [
    "# 5 Connect to the SubArray and Turn on\n",
    "\n",
    "If the SubArray is off this will turn it on, otherwise it will stay on."
   ]
  },
  {
   "cell_type": "code",
   "execution_count": null,
   "id": "8061ff7f-8753-4e1e-a71a-b159933dd6e6",
   "metadata": {
    "tags": []
   },
   "outputs": [],
   "source": [
    "d = DeviceProxy(f\"mid-sdp/subarray/{subarray_id}\")\n",
    "d.state()\n",
    "if d.state().name == \"OFF\":\n",
    "    d.On()\n",
    "d.state()\n",
    "wait_for_state(d, 0)  # EMPTY"
   ]
  },
  {
   "cell_type": "markdown",
   "id": "1b6ee913-dcfd-4ab7-8366-58ff3dff2ea6",
   "metadata": {},
   "source": [
    "# 6 Create Assign Resources\n",
    "\n",
    "This config includes the setup to include:\n",
    "* The Signal Displays as per [this test](https://gitlab.com/ska-telescope/sdp/ska-sdp-integration/-/blob/master/tests/integration/test_qa_metric_receive.py?ref_type=heads).\n",
    "* The MS writer processor. If you do not want to write a product to disk, remove `\"mswriter\",` from the `processors` dictionary.\n",
    "\n",
    "Documentation links:\n",
    "* The config is based on the LOW setup which can be found in the [SDP Integrations repo](https://gitlab.com/ska-telescope/sdp/ska-sdp-integration/-/blob/master/tests/resources/subarray-json/low.json?ref_type=heads) (LOW is used here, as the sample data by default is a LOW object)\n",
    "* The `AssignResources` object can be found [here](https://developer.skao.int/projects/ska-telmodel/en/latest/schemas/ska-sdp-assignres.html).\n",
    "* The `processors` key can be found [here](https://developer.skao.int/projects/ska-sdp-script/en/latest/scripts/vis-receive/configuration.html#processors)"
   ]
  },
  {
   "cell_type": "code",
   "execution_count": null,
   "id": "d8e930fa-04a0-42b3-a09f-0157b4197ad8",
   "metadata": {
    "tags": []
   },
   "outputs": [],
   "source": [
    "config = json.dumps(\n",
    "    {\n",
    "        \"interface\": \"https://schema.skao.int/ska-sdp-assignres/0.4\",\n",
    "        \"resources\": {\n",
    "            \"csp_links\": [1, 2, 3, 4],\n",
    "            \"receptors\": [\"C10\", \"C136\", \"C1\", \"C217\", \"C13\", \"C42\"],\n",
    "            \"receive_nodes\": 1,\n",
    "        },\n",
    "        \"execution_block\": {\n",
    "            \"eb_id\": EXECUTION_BLOCK_ID,\n",
    "            \"context\": {},\n",
    "            \"max_length\": 21600.0,\n",
    "            \"channels\": [\n",
    "                {\n",
    "                    \"channels_id\": \"vis_channels\",\n",
    "                    \"spectral_windows\": [\n",
    "                        {\n",
    "                            \"spectral_window_id\": \"fsp_1_channels\",\n",
    "                            \"count\": 13824,\n",
    "                            \"start\": 0,\n",
    "                            \"stride\": 1,\n",
    "                            \"freq_min\": 0.35e9,\n",
    "                            \"freq_max\": 0.368e9,\n",
    "                            \"link_map\": [[0, 0], [200, 1], [744, 2], [944, 3]],\n",
    "                        }\n",
    "                    ],\n",
    "                }\n",
    "            ],\n",
    "            \"polarisations\": [\n",
    "                {\n",
    "                    \"polarisations_id\": \"all\",\n",
    "                    \"corr_type\": [\"XX\", \"XY\", \"YY\", \"YX\"],\n",
    "                }\n",
    "            ],\n",
    "            \"fields\": [\n",
    "                {\n",
    "                    \"field_id\": \"field_a\",\n",
    "                    \"phase_dir\": {\n",
    "                        \"ra\": [2.711325],\n",
    "                        \"dec\": [-0.01328889],\n",
    "                        \"reference_time\": \"...\",\n",
    "                        \"reference_frame\": \"ICRF3\",\n",
    "                    },\n",
    "                    \"pointing_fqdn\": \"low-tmc/telstate/0/pointing\",\n",
    "                },\n",
    "                {\n",
    "                    \"field_id\": \"field_b\",\n",
    "                    \"phase_dir\": {\n",
    "                        \"ra\": [12.48519],\n",
    "                        \"dec\": [2.052388],\n",
    "                        \"reference_time\": \"...\",\n",
    "                        \"reference_frame\": \"ICRF3\",\n",
    "                    },\n",
    "                    \"pointing_fqdn\": \"low-tmc/telstate/0/pointing\",\n",
    "                },\n",
    "            ],\n",
    "            \"beams\": [{\"beam_id\": \"vis0\", \"function\": \"visibilities\"}],\n",
    "            \"scan_types\": [\n",
    "                {\n",
    "                    \"scan_type_id\": \".default\",\n",
    "                    \"beams\": {\n",
    "                        \"vis0\": {\n",
    "                            \"polarisations_id\": \"all\",\n",
    "                            \"channels_id\": \"vis_channels\",\n",
    "                        }\n",
    "                    },\n",
    "                },\n",
    "                {\n",
    "                    \"scan_type_id\": \"science\",\n",
    "                    \"derive_from\": \".default\",\n",
    "                    \"beams\": {\"vis0\": {\"field_id\": \"field_a\"}},\n",
    "                },\n",
    "                {\n",
    "                    \"scan_type_id\": \"calibration\",\n",
    "                    \"derive_from\": \".default\",\n",
    "                    \"beams\": {\"vis0\": {\"field_id\": \"field_b\"}},\n",
    "                },\n",
    "            ],\n",
    "        },\n",
    "        \"processing_blocks\": [\n",
    "            {\n",
    "                \"pb_id\": PROCESSING_BLOCK_ID_REALTIME,\n",
    "                \"script\": {\n",
    "                    \"kind\": \"realtime\",\n",
    "                    \"name\": \"vis-receive\",\n",
    "                    \"version\": \"4.0.0\",\n",
    "                },\n",
    "                \"parameters\": {\n",
    "                    \"use_network_definition\": use_network_attachment_definition,\n",
    "                    \"channels_per_port\": 6912,\n",
    "                    \"queue_connector_configuration\": {\n",
    "                        \"exchanges\": [\n",
    "                            {\n",
    "                                \"dtype\": \"object\",\n",
    "                                \"shape\": [],\n",
    "                                \"source\": {\n",
    "                                    \"type\": \"KafkaConsumerSource\",\n",
    "                                    \"servers\": KAFKA_HOST,\n",
    "                                    \"topic\": f\"metrics-receive_state-{subarray_id}\",\n",
    "                                    \"encoding\": \"json\",\n",
    "                                },\n",
    "                                \"sink\": {\n",
    "                                    \"type\": \"TangoObjectScatterAttributeSink\",\n",
    "                                    \"attributes\": [\n",
    "                                        {\n",
    "                                            \"attribute_name\": \"receiver_state\",\n",
    "                                            \"filter\": \"type=='visibility_receive'\",\n",
    "                                            \"path\": \"state\",\n",
    "                                            \"dtype\": \"str\",\n",
    "                                            \"default_value\": \"unknown\",\n",
    "                                        },\n",
    "                                        {\n",
    "                                            \"attribute_name\": \"last_update\",\n",
    "                                            \"filter\": \"type=='visibility_receive'\",\n",
    "                                            \"path\": \"time\",\n",
    "                                            \"dtype\": \"float\",\n",
    "                                            \"default_value\": 0.0,\n",
    "                                        },\n",
    "                                        {\n",
    "                                            \"attribute_name\": \"processing_block_id\",\n",
    "                                            \"filter\": \"type=='visibility_receive'\",\n",
    "                                            \"path\": \"processing_block_id\",\n",
    "                                            \"dtype\": \"str\",\n",
    "                                            \"default_value\": \"\",\n",
    "                                        },\n",
    "                                        {\n",
    "                                            \"attribute_name\": \"execution_block_id\",\n",
    "                                            \"filter\": \"type=='visibility_receive'\",\n",
    "                                            \"path\": \"execution_block_id\",\n",
    "                                            \"dtype\": \"str\",\n",
    "                                            \"default_value\": \"\",\n",
    "                                        },\n",
    "                                        {\n",
    "                                            \"attribute_name\": \"subarray_id\",\n",
    "                                            \"filter\": \"type=='visibility_receive'\",\n",
    "                                            \"path\": \"subarray_id\",\n",
    "                                            \"dtype\": \"str\",\n",
    "                                            \"default_value\": \"-1\",\n",
    "                                        },\n",
    "                                        {\n",
    "                                            \"attribute_name\": \"scan_id\",\n",
    "                                            \"filter\": \"type=='visibility_receive'\",\n",
    "                                            \"path\": \"scan_id\",\n",
    "                                            \"dtype\": \"int\",\n",
    "                                            \"default_value\": 0,\n",
    "                                        },\n",
    "                                        {\n",
    "                                            \"attribute_name\": \"payloads_received\",\n",
    "                                            \"filter\": \"type=='visibility_receive'\",\n",
    "                                            \"path\": \"payloads_received\",\n",
    "                                            \"dtype\": \"int\",\n",
    "                                            \"default_value\": 0,\n",
    "                                        },\n",
    "                                        {\n",
    "                                            \"attribute_name\": \"time_slices_received\",\n",
    "                                            \"filter\": \"type=='visibility_receive'\",\n",
    "                                            \"path\": \"time_slices\",\n",
    "                                            \"dtype\": \"int\",\n",
    "                                            \"default_value\": 0,\n",
    "                                        },\n",
    "                                        {\n",
    "                                            \"attribute_name\": \"time_since_last_payload\",\n",
    "                                            \"filter\": \"type=='visibility_receive'\",\n",
    "                                            \"path\": \"time_since_last_payload\",\n",
    "                                            \"dtype\": \"float\",\n",
    "                                            \"default_value\": 0.0,\n",
    "                                        },\n",
    "                                    ],\n",
    "                                },\n",
    "                            }\n",
    "                        ]\n",
    "                    },\n",
    "                    \"transport_protocol\": \"tcp\",\n",
    "                    \"extra_helm_values\": {\n",
    "                        \"receiver\": {\n",
    "                            \"options\": {\n",
    "                                \"reception\": {\n",
    "                                    \"reset_time_indexing_after_each_scan\": True,\n",
    "                                    \"stats_receiver_kafka_config\": f\"{KAFKA_HOST}:json_workflow_state\",\n",
    "                                },\n",
    "                                \"telescope_model\": {\n",
    "                                    \"telmodel_key\": \"instrument/ska1_low/layout/low-layout.json\"\n",
    "                                },\n",
    "                            }\n",
    "                        }\n",
    "                    },\n",
    "                    \"processors\": {\n",
    "                        \"signal-display-metrics-amplitude\": {},\n",
    "                        \"signal-display-metrics-basic\": {},\n",
    "                        \"signal-display-metrics-phase\": {},\n",
    "                        \"mswriter\": {},\n",
    "                    },\n",
    "                    \"pod_settings\": [\n",
    "                        {\"securityContext\": {\"runAsUser\": 0, \"fsGroup\": 0}}\n",
    "                    ],\n",
    "                },\n",
    "            }\n",
    "        ],\n",
    "    }\n",
    ")\n",
    "d.AssignResources(config)\n",
    "\n",
    "wait_for_state(d, 2)  # IDLE"
   ]
  },
  {
   "cell_type": "markdown",
   "id": "8914ff7c-f1cd-4dfd-9d71-1692ac4ac585",
   "metadata": {},
   "source": [
    "# 7 Configure the system"
   ]
  },
  {
   "cell_type": "code",
   "execution_count": null,
   "id": "352f0e75-eba2-4356-bdf5-2b89ba5df510",
   "metadata": {
    "tags": []
   },
   "outputs": [],
   "source": [
    "d.Configure(\n",
    "    '{\"interface\": \"https://schema.skao.int/ska-sdp-configure/0.4\", \"scan_type\": \"science\"}'\n",
    ")\n",
    "\n",
    "wait_for_state(d, 4)  # READY\n",
    "\n",
    "d.Scan(\n",
    "    '{\"interface\": \"https://schema.skao.int/ska-sdp-scan/0.4\", \"scan_id\": 1}'\n",
    ")\n",
    "\n",
    "wait_for_state(d, 5)  # SCANNING"
   ]
  },
  {
   "cell_type": "markdown",
   "id": "c85cdbe1-ce23-435b-abd7-c1b505d40c5f",
   "metadata": {
    "tags": []
   },
   "source": [
    "# 8 Run a Scan\n",
    "\n",
    "This is the section that runs the actual Scan. And if desired can be run multiple times (as long as the SubArray is still in scanning state)\n",
    "\n",
    "Refer to the [CBF packetise](https://developer.skao.int/projects/ska-sdp-cbf-emulator/en/latest/api.html#ska_sdp_cbf_emulator.packetiser.packetise) documentation for sending an MS file. And refer to the [Transmitters Config](https://developer.skao.int/projects/ska-sdp-cbf-emulator/en/latest/api.html#ska-sdp-cbf-emulator-transmitters-module) for setting up the config options.\n",
    "\n",
    "If you are running with `use_network_attachment_definition=True`, you will need to retrieve the internal IP address of the vis-receive pod. You can retrieve the IP address of the newest vis-receive pod with the following command:"
   ]
  },
  {
   "cell_type": "code",
   "execution_count": null,
   "id": "7944a4ef",
   "metadata": {},
   "outputs": [],
   "source": [
    "print(\n",
    "    \"kubectl get pods -l app.kubernetes.io/name=vis-receive --namespace %s-sdp -o jsonpath='{.items[0].status.podIP}'\"\n",
    "    % namespace\n",
    ")"
   ]
  },
  {
   "cell_type": "code",
   "execution_count": null,
   "id": "523cb543-ac09-4463-b9cc-70543ead492a",
   "metadata": {},
   "outputs": [],
   "source": [
    "# Get Receive Addresses\n",
    "receiveAddresses = json.loads(d.receiveAddresses)\n",
    "if use_network_attachment_definition:\n",
    "    vis_receive_ip = \"<retrieve this from vis-receive pod>\"\n",
    "    hosts = [[0, vis_receive_ip]]\n",
    "    receiveAddresses[\"calibration\"][\"vis0\"][\"host\"] = hosts\n",
    "    receiveAddresses[\"science\"][\"vis0\"][\"host\"] = hosts"
   ]
  },
  {
   "cell_type": "code",
   "execution_count": null,
   "id": "6e82cac6-93a1-4954-8820-5dfe766cfcf7",
   "metadata": {
    "tags": []
   },
   "outputs": [],
   "source": [
    "# pylint: disable=E1142\n",
    "# Only use one scan_type_id\n",
    "scan_type_id = \"science\"\n",
    "\n",
    "# Only use the first beam_id\n",
    "beam_id = list(receiveAddresses[scan_type_id].keys())[0]\n",
    "ms = MeasurementSetDataSourceConfig(location=MS_INPUT_NAME)\n",
    "config = SenderConfig(ms=ms)\n",
    "# config.reader.num_repeats = 1  # default\n",
    "# config.transmission.method = \"spead2_transmitters\"  # default\n",
    "config.time_interval = 0\n",
    "\n",
    "config.transmission = transmitters.create_config(\n",
    "    scan_id=1,\n",
    "    target_host=receiveAddresses[scan_type_id][beam_id][\"host\"][0][1],\n",
    "    target_port_start=receiveAddresses[scan_type_id][beam_id][\"port\"][0][1],\n",
    "    num_streams=2,\n",
    "    rate=2_822_400,\n",
    "    transport_protocol=\"tcp\",\n",
    "    telescope=\"mid\",\n",
    "    channels_per_stream=6912,\n",
    ")\n",
    "\n",
    "print(\"Total packets sent:\", await packetise(config))"
   ]
  },
  {
   "cell_type": "markdown",
   "id": "7e5da617-1eee-44a6-b762-12ccd9176b71",
   "metadata": {},
   "source": [
    "# 9 QA Data\n",
    "\n",
    "Besides the aforementioned dashboards, there is also data available in the Queue Connector Tango device for in progress data:"
   ]
  },
  {
   "cell_type": "code",
   "execution_count": null,
   "id": "69bf754c-b853-4a62-a769-ef1d69868048",
   "metadata": {
    "tags": []
   },
   "outputs": [],
   "source": [
    "queue_connector = DeviceProxy(f\"mid-sdp/queueconnector/{subarray_id}\")\n",
    "\n",
    "print(f\"Current Receiver State: {queue_connector.receiver_state}\")\n",
    "print(f\"Last Update Time: {queue_connector.last_update}\")\n",
    "print(f\"Current Processing Block ID: {queue_connector.processing_block_id}\")\n",
    "print(f\"Current Execution Block ID: {queue_connector.execution_block_id}\")\n",
    "print(f\"Current SubArray ID: {queue_connector.subarray_id}\")\n",
    "print(f\"Current Scan ID: {queue_connector.scan_id}\")\n",
    "print(\n",
    "    f\"Current amount of payloads received: {queue_connector.payloads_received}\"\n",
    ")\n",
    "print(\n",
    "    f\"Current amount of time slices received: {queue_connector.time_slices_received}\"\n",
    ")\n",
    "print(\n",
    "    f\"Current time since last payloads: {queue_connector.time_since_last_payload}\"\n",
    ")"
   ]
  },
  {
   "cell_type": "markdown",
   "id": "c3591eec-ca2d-493d-894c-792b3f7d7793",
   "metadata": {},
   "source": [
    "# 10 Cleanup\n",
    "\n",
    "This section is optional but only if you plan on deleting the entire deploy. If you plan to rerun the deploy at any point please also run the section."
   ]
  },
  {
   "cell_type": "code",
   "execution_count": null,
   "id": "a3caf9ce-1ad2-4b32-8f02-36a268c884ff",
   "metadata": {
    "tags": []
   },
   "outputs": [],
   "source": [
    "print(f\"State: {d.obsState.name}\")\n",
    "d.EndScan()\n",
    "print(f\"State: {d.obsState.name}\")\n",
    "d.End()\n",
    "print(f\"State: {d.obsState.name}\")\n",
    "d.ReleaseAllResources()\n",
    "print(f\"State: {d.obsState.name}\")"
   ]
  },
  {
   "cell_type": "markdown",
   "id": "c068e006-59e0-4c67-a663-d164aadb1630",
   "metadata": {},
   "source": [
    "# 11 Get Data from Data Product Dashboard\n",
    "\n",
    "Documentation for the Data Product Dashboard can be found [here](https://developer.skao.int/projects/ska-dataproduct-dashboard/en/latest/).\n",
    "\n",
    "The Data Product Dashboard is deployed as a service in available clusters. It should be accessible at: `https://{cluster_domain}/{dpd_namespaces}/dashboard/`, and the backend API should be accessible at: `https://{cluster_domain}/{dpd_namespaces}/api/`\n",
    "\n",
    "Links to deployed Dashboards (assuming you are using the correct namespace):\n",
    "\n",
    "* [Mid ITF Cluster](https://k8s.miditf.internal.skao.int/ska-dpd/dashboard/)"
   ]
  }
 ],
 "metadata": {
  "kernelspec": {
   "display_name": "Python 3 (ipykernel)",
   "language": "python",
   "name": "python3"
  },
  "language_info": {
   "codemirror_mode": {
    "name": "ipython",
    "version": 3
   },
   "file_extension": ".py",
   "mimetype": "text/x-python",
   "name": "python",
   "nbconvert_exporter": "python",
   "pygments_lexer": "ipython3",
   "version": "3.10.12"
  }
 },
 "nbformat": 4,
 "nbformat_minor": 5
}
