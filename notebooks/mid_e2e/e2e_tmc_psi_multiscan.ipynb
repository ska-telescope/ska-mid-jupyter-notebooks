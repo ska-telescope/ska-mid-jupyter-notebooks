{
 "cells": [
  {
   "cell_type": "markdown",
   "metadata": {},
   "source": [
    "# Notebook for End to End testing in the MID PSI\n",
    "\n",
    "###### Last updated 01/08/24"
   ]
  },
  {
   "cell_type": "markdown",
   "metadata": {},
   "source": [
    "This notebook is used to execute an end-to-end scan using the following Mid Products: Dish LMC, SPFRx, TMC, CSP.LMC, CBF, and SDP. It also provides the option to run multiple offset scan to enable calibration, following the [Five Point Calibration Scan Controls notebook](https://gitlab.com/ska-telescope/ska-jupyter-scripting/-/blob/main/notebooks/observing/MID_five_point_calibration_scan_controls.ipynb?ref_type=heads).\n",
    "\n",
    "To use Dish LMC/SPFRx, ensure the namespace to use with this project is started with `DISH_LMC_ENABLED` set to `true`. Otherwise, the default setting of `false` can be used. \n",
    "\n",
    "If using SPFRx, only Talon1 can be used (as it is what the spfrx is connected to) and the rxpu must be signed out."
   ]
  },
  {
   "cell_type": "markdown",
   "metadata": {},
   "source": [
    "### For using BITE"
   ]
  },
  {
   "cell_type": "markdown",
   "metadata": {},
   "source": [
    "BITE Functionality has been spun out to the [bite_generation notebook](bite_generation.ipynb), which should be referred to when needed. These steps are labeled as BITE STEP and are:\n",
    "- Setting variables\n",
    "- Loading Config Data\n",
    "- Generating BITE Data\n",
    "- Starting LSTV Replay\n",
    "- Stopping LSTV Replay"
   ]
  },
  {
   "cell_type": "markdown",
   "metadata": {},
   "source": [
    "## 1 Setup"
   ]
  },
  {
   "cell_type": "markdown",
   "metadata": {},
   "source": [
    "### Deployment checks"
   ]
  },
  {
   "cell_type": "markdown",
   "metadata": {},
   "source": [
    "On the bootup of the namespace, once all all the pods are in the running state, check each of the dishleafnode logs for the following error:\n",
    "\n",
    "<div class=\"alert alert-block alert-danger\">\n",
    "ValueError: StationaryBody needs a location to calculate coordinates - did you specify an Antenna?\n",
    "</div>\n",
    "\n",
    "If any of the dishleafnode pods show this error then:\n",
    "1. Delete the dishleafnode pod\n",
    "2. Monitor the logs again after re-creation and ensure the same error doesn't show up again\n",
    "3. If it does then repeat steps 1 and 2, eventually it should work"
   ]
  },
  {
   "cell_type": "markdown",
   "metadata": {},
   "source": [
    "### 1.1 Environment Setup"
   ]
  },
  {
   "cell_type": "markdown",
   "metadata": {},
   "source": [
    "Start by importing all the libraries needed for this notebook"
   ]
  },
  {
   "cell_type": "code",
   "execution_count": 1,
   "metadata": {},
   "outputs": [],
   "source": [
    "import sys\n",
    "\n",
    "sys.path.append(\"../../src\")\n",
    "\n",
    "import json\n",
    "import os\n",
    "import time\n",
    "from time import localtime, sleep, strftime\n",
    "\n",
    "from IPython.display import clear_output\n",
    "from tango import Database, DevFailed, DeviceProxy\n",
    "\n",
    "import notebook_tools.generate_fsp as generate_fsp\n",
    "import notebook_tools.wait_for_tango as wait_for_tango"
   ]
  },
  {
   "cell_type": "markdown",
   "metadata": {},
   "source": [
    "### 1.2 Set Variables"
   ]
  },
  {
   "cell_type": "markdown",
   "metadata": {},
   "source": [
    "First, grab the namespace launched from the pipeline:"
   ]
  },
  {
   "cell_type": "code",
   "execution_count": null,
   "metadata": {},
   "outputs": [],
   "source": [
    "!kubectl get ns | grep ska-mid-psi"
   ]
  },
  {
   "cell_type": "markdown",
   "metadata": {},
   "source": [
    "Now, use this to set the namespace the notebook will use."
   ]
  },
  {
   "cell_type": "code",
   "execution_count": 2,
   "metadata": {},
   "outputs": [],
   "source": [
    "psi_namespace = \"\"  # Namespace to be used\n",
    "using_spfrx = False  # Set to True if using spfrx, otherwise set to False if using BITE\n",
    "simulation_mode = False\n",
    "target_boards = [\n",
    "    1, 2, 3, 4\n",
    "]  # Talon board(s) to use for the notebook. \n",
    "\n",
    "# NOTE: As of Jan 29, 2025\n",
    "# If using SPFRx, only talon 5 can be used.\n",
    "# If doing 4-receptor AA0.5 testing, use talons 1-4 or talons 9/10/15/16. \n",
    "# Talons 5-8 can be used individually for AA0.5 testing but not together for 4-receptor AA0.5 testing."
   ]
  },
  {
   "cell_type": "markdown",
   "metadata": {},
   "source": [
    "FSP calculation parameters"
   ]
  },
  {
   "cell_type": "code",
   "execution_count": null,
   "metadata": {},
   "outputs": [],
   "source": [
    "start_freq = 350000000  # Start frequency in Hz\n",
    "num_fsps_available = len(target_boards)\n",
    "print(\n",
    "    f\"Maximum end frequency based on params above: {generate_fsp.calculate_end_freq(start_freq, num_fsps_available)}\"\n",
    ")\n",
    "print(\"NOTE: MAX FREQ LIMIT for BAND 1/2 is 1760000000\")"
   ]
  },
  {
   "cell_type": "code",
   "execution_count": 4,
   "metadata": {},
   "outputs": [],
   "source": [
    "end_freq = 500000000  # Replace this number based on calculation in block above\n",
    "if end_freq > 1760000000:\n",
    "    raise Exception(\"Specified End Frequency is higher than max allowed\")"
   ]
  },
  {
   "cell_type": "markdown",
   "metadata": {},
   "source": [
    "<style>\n",
    "    .alert {\n",
    "        background-color: #1a1d21;\n",
    "        border-style: dotted;\n",
    "        border-color: #f0493e;\n",
    "        color: #d1d2d3;\n",
    "    }\n",
    "</style>\n",
    "<a id='setting bite vars'></a>\n",
    "<div class=\"alert\">\n",
    "    <h3>(BITE STEP) Set Variables in the BITE Notebook</h3>\n",
    "    <br>\n",
    "    If running the BITE notebook, at this point ensure the variables for namespace and test_id are properly set.\n",
    "</div>\n",
    "</body>"
   ]
  },
  {
   "cell_type": "markdown",
   "metadata": {},
   "source": [
    "Now, load in the other variables this notebook will use, along with config files to pass in. These vars should not need to be changed in most use cases."
   ]
  },
  {
   "cell_type": "code",
   "execution_count": null,
   "metadata": {},
   "outputs": [],
   "source": [
    "TANGO_HOST = f\"databaseds-tango-base.{psi_namespace}.svc.cluster.local:10000\"\n",
    "os.environ[\"TANGO_HOST\"] = TANGO_HOST\n",
    "\n",
    "# Config files set up\n",
    "DATA_DIR = \"../../data\"\n",
    "TMC_CONFIGS = f\"{DATA_DIR}/mid_telescope/tmc\"\n",
    "\n",
    "# TMC config files\n",
    "ASSIGN_RESOURCES_FILE = f\"{TMC_CONFIGS}/assign_resources_psi.json\"\n",
    "CONFIGURE_SCAN_FILE = f\"{TMC_CONFIGS}/configure_scan_psi.json\"\n",
    "SCAN_FILE = f\"{TMC_CONFIGS}/scan.json\"\n",
    "RELEASE_RESOURCES_FILE = f\"{TMC_CONFIGS}/release_resources.json\"\n",
    "\n",
    "# For running offset scans\n",
    "SCAN_COMBOS = [[0.0, 5.0], [0.0, -5.0], [5.0, 0.0], [-5.0, 0.0]]\n",
    "\n",
    "# CBF dish files\n",
    "CBF_CONFIGS = f\"{DATA_DIR}/mid_telescope/cbf\"\n",
    "DISH_CONFIG_FILE = f\"{CBF_CONFIGS}/sys_params/load_dish_config.json\"\n",
    "HW_CONFIG_FOLDER = os.path.join(CBF_CONFIGS, \"hw_config\")\n",
    "INIT_SYS_PARAM_FILE = os.path.join(CBF_CONFIGS, \"sys_params/initial_system_param_psi.json\")\n",
    "\n",
    "# Select HW file based on boards selected\n",
    "if target_boards[0] >= 13:\n",
    "    print(\"Using HW Config File for Talons 13-16\")\n",
    "    hw_config = \"hw_config_psi_13_16.yaml\"\n",
    "if target_boards[0] >= 9:\n",
    "    print(\"Using HW Config File for Talons 9-12\")\n",
    "    hw_config = \"hw_config_psi_9_12.yaml\"  \n",
    "elif target_boards[0] >= 5:\n",
    "    print(\"Using HW Config File for Talons 5-8\")\n",
    "    hw_config = \"hw_config_psi_5_8.yaml\"\n",
    "elif target_boards[0] >= 1:\n",
    "    print(\"Using HW Config File for Talons 1-4\")\n",
    "    hw_config = \"hw_config_psi_1_4.yaml\"\n",
    "\n",
    "if target_boards[0] >=5:\n",
    "    print(\"Mapping talons of higher numbers to 1-4\")\n",
    "    target_boards = list(map(lambda x: x - (((x - 1) // 4) * 4), target_boards))\n",
    "\n",
    "HW_CONFIG_FILE = os.path.join(HW_CONFIG_FOLDER, hw_config)\n",
    "!kubectl cp $HW_CONFIG_FILE $psi_namespace/ds-cbfcontroller-controller-0:/app/mnt/hw_config/hw_config.yaml\n",
    "\n",
    "# Check files can be reached.\n",
    "files = [\n",
    "    HW_CONFIG_FILE,\n",
    "    INIT_SYS_PARAM_FILE,\n",
    "    DISH_CONFIG_FILE,\n",
    "    ASSIGN_RESOURCES_FILE,\n",
    "    CONFIGURE_SCAN_FILE,\n",
    "    SCAN_FILE,\n",
    "    RELEASE_RESOURCES_FILE,\n",
    "]\n",
    "\n",
    "# Slim config files setup\n",
    "# Load in nothing if using 1 board as not needed, load in 4vcc 1fsp if needed\n",
    "print(\"Checking SLIM configs:\")\n",
    "if len(target_boards) == 1:\n",
    "    slim_fs_config = \"\"\n",
    "    slim_vis_config = \"\"\n",
    "elif len(target_boards) == 2:\n",
    "    slim_fs_config = \"fs_slim_2vcc_2fsp.yaml\"  # update if necessary\n",
    "    slim_vis_config = \"vis_slim_2fsp_1vis.yaml\"  # update if necessary\n",
    "elif len(target_boards) == 4:\n",
    "    slim_fs_config = \"fs_slim_4vcc_4fsp.yaml\"  # update if necessary\n",
    "    slim_vis_config = \"vis_slim_4fsp_1vis.yaml\"  # update if necessary\n",
    "\n",
    "SLIM_CONFIGS = os.path.join(CBF_CONFIGS, \"slim_config\")\n",
    "SLIM_FS_CONFIG_FILE = os.path.join(SLIM_CONFIGS, slim_fs_config)\n",
    "SLIM_VIS_CONFIG_FILE = os.path.join(SLIM_CONFIGS, slim_vis_config)\n",
    "\n",
    "if slim_fs_config != \"\":\n",
    "    print(f\"    Loading custom SLIM fs config: {slim_fs_config}\")\n",
    "    !kubectl cp $SLIM_FS_CONFIG_FILE $psi_namespace/ds-cbfcontroller-controller-0:/app/mnt/slim/fs/slim_config.yaml\n",
    "    files.append(SLIM_FS_CONFIG_FILE)\n",
    "else:\n",
    "    print(f\"    SLIM fs will use default config: {slim_fs_config}\")\n",
    "\n",
    "if slim_vis_config != \"\":\n",
    "    print(f\"    Loading custom SLIM vis config: {slim_vis_config}\")\n",
    "    !kubectl cp $SLIM_VIS_CONFIG_FILE $psi_namespace/ds-cbfcontroller-controller-0:/app/mnt/slim/vis/slim_config.yaml\n",
    "    files.append(SLIM_VIS_CONFIG_FILE)\n",
    "else:\n",
    "    print(f\"    SLIM vis will use default config: {slim_vis_config}\")\n",
    "\n",
    "# Ensure the files exist\n",
    "print(\"Checking to ensure files exist:\")\n",
    "for file in files:\n",
    "    if os.path.isfile(file):\n",
    "        print(f\"    {file} exists: ✔️\")\n",
    "    else:\n",
    "        print(f\"    {file} does not exist ❌\")\n",
    "\n",
    "# Map the talon boards to receptor IDs\n",
    "RECEPTOR_MAP = [\"SKA001\", \"SKA036\", \"SKA063\", \"SKA100\"]\n",
    "RECEPTORS = list(map(lambda x: RECEPTOR_MAP[x - 1], target_boards))\n",
    "\n",
    "# Sanity check to ensure that Receptors = talons match\n",
    "if len(RECEPTORS) == len(target_boards):\n",
    "    print(\"Receptors match number of talons:\")\n",
    "else:\n",
    "    print(\"ERROR: Receptor/talon mismatch: \")\n",
    "\n",
    "print(f\"    Receptors: {RECEPTORS}\")\n",
    "print(f\"    Talons: {target_boards}\")"
   ]
  },
  {
   "cell_type": "markdown",
   "metadata": {},
   "source": [
    "With the namespace set, the useful front ends to monitor the behaviour of the system can be accessed using the following URLs."
   ]
  },
  {
   "cell_type": "code",
   "execution_count": null,
   "metadata": {},
   "outputs": [],
   "source": [
    "print(\"For showing the signal display output:\")\n",
    "print(f\"https://142.73.34.170/{psi_namespace}/signal/display/\")\n",
    "\n",
    "print(\"\\nTaranta devices for checking all the TANGO devices currently in the namespace:\")\n",
    "print(f\"https://142.73.34.170/{psi_namespace}/taranta/devices\")\n",
    "\n",
    "print(\"\\nTelescope Monitoring Dashboard:\")\n",
    "print(\n",
    "    f\"https://142.73.34.170/{psi_namespace}/taranta/dashboard?id=669ea8d82bc4790019e64b27&mode=run\"\n",
    ")\n",
    "\n",
    "print(\"\\nMid CBF Overview Dashboard:\")\n",
    "print(\n",
    "    f\"https://142.73.34.170/{psi_namespace}/taranta/dashboard?id=666cb28b5e5d4f0012197e5f&mode=run\"\n",
    ")\n",
    "\n",
    "print(\"\\nFor using the EDA configurator (Only if SKA_TANGO_ARCHIVER=true for the namespace):\")\n",
    "print(f\"https://142.73.34.170/{psi_namespace}/configurator/\")"
   ]
  },
  {
   "cell_type": "markdown",
   "metadata": {},
   "source": [
    "### 1.3 Setup Device Proxies"
   ]
  },
  {
   "cell_type": "markdown",
   "metadata": {},
   "source": [
    "First, to interact with the devices used by this notebook, TANGO device proxies must be set up to connect to and control them."
   ]
  },
  {
   "cell_type": "code",
   "execution_count": null,
   "metadata": {},
   "outputs": [],
   "source": [
    "# TMC Proxies\n",
    "tmc_central_node = DeviceProxy(\"ska_mid/tm_central/central_node\")\n",
    "tmc_csp_master = DeviceProxy(\"ska_mid/tm_leaf_node/csp_master\")\n",
    "tmc_subarray = DeviceProxy(\"ska_mid/tm_subarray_node/1\")\n",
    "\n",
    "# CSP Proxies\n",
    "csp_control = DeviceProxy(\"mid-csp/control/0\")\n",
    "csp_subarray = DeviceProxy(\"mid-csp/subarray/01\")\n",
    "\n",
    "# CBF Proxies\n",
    "cbf_controller = DeviceProxy(\"mid_csp_cbf/sub_elt/controller\")\n",
    "cbf_subarray = DeviceProxy(\"mid_csp_cbf/sub_elt/subarray_01\")\n",
    "\n",
    "# SDP Proxies\n",
    "sdp_subarray = DeviceProxy(\"mid-sdp/subarray/01\")\n",
    "\n",
    "# Leaf Node Proxies\n",
    "csp_subarray_leaf_node = DeviceProxy(\"ska_mid/tm_leaf_node/csp_subarray01\")\n",
    "sdp_subarray_leaf_node = DeviceProxy(\"ska_mid/tm_leaf_node/sdp_subarray01\")\n",
    "\n",
    "# Deployer Proxy\n",
    "deployer = DeviceProxy(\"mid_csp_cbf/ec/deployer\")\n",
    "\n",
    "# print the states of each\n",
    "devices = [\n",
    "    tmc_central_node,\n",
    "    tmc_csp_master,\n",
    "    tmc_subarray,\n",
    "    csp_subarray_leaf_node,\n",
    "    sdp_subarray_leaf_node,\n",
    "    csp_control,\n",
    "    csp_subarray,\n",
    "    cbf_controller,\n",
    "    cbf_subarray,\n",
    "    sdp_subarray,\n",
    "]\n",
    "\n",
    "for receptor in RECEPTORS:\n",
    "    dish_leaf_node_idx = \"0\" + receptor[3:]\n",
    "    dish_leaf_node_fqdn = f\"ska_mid/tm_leaf_node/d{dish_leaf_node_idx}\"\n",
    "    dish_leaf_node_dp = DeviceProxy(dish_leaf_node_fqdn)\n",
    "    devices.append(dish_leaf_node_dp)\n",
    "    \n",
    "for device in devices:\n",
    "    padding = \"-\" * (40 - len(device.dev_name()))\n",
    "    print(f\"{device.dev_name()}'s state {padding}> {device.state()}\")"
   ]
  },
  {
   "cell_type": "markdown",
   "metadata": {},
   "source": [
    "### 1.4 MCS Deployer Setup and Download Artifacts"
   ]
  },
  {
   "cell_type": "markdown",
   "metadata": {},
   "source": [
    "To use the deployer, set the dish ID that will be deployed to."
   ]
  },
  {
   "cell_type": "code",
   "execution_count": null,
   "metadata": {},
   "outputs": [],
   "source": [
    "db = Database()\n",
    "deployer.targetTalons = target_boards\n",
    "print(\"Deployer will target the following talons:\", deployer.targetTalons)\n",
    "deployer.generate_config_jsons()"
   ]
  },
  {
   "cell_type": "markdown",
   "metadata": {},
   "source": [
    "Now the actual download step can be run, this will take some time."
   ]
  },
  {
   "cell_type": "code",
   "execution_count": 10,
   "metadata": {},
   "outputs": [],
   "source": [
    "deployer.set_timeout_millis(400000)\n",
    "try:\n",
    "    deployer.download_artifacts()\n",
    "except DevFailed as e:\n",
    "    print(e)\n",
    "    print(\n",
    "        \"Timed out, this is likely due to the download taking some time. Check the logs with the code space below after some time to see if it passes.\"\n",
    "    )\n",
    "deployer.set_timeout_millis(10000)"
   ]
  },
  {
   "cell_type": "markdown",
   "metadata": {},
   "source": [
    "Once the downloaded, the TANGO device database can be configured with the new downloads"
   ]
  },
  {
   "cell_type": "code",
   "execution_count": 11,
   "metadata": {},
   "outputs": [],
   "source": [
    "deployer.configure_db()"
   ]
  },
  {
   "cell_type": "markdown",
   "metadata": {},
   "source": [
    "If desired, the devices can be checked to ensure they have been downloaded."
   ]
  },
  {
   "cell_type": "code",
   "execution_count": null,
   "metadata": {},
   "outputs": [],
   "source": [
    "print(*db.get_device_exported(\"*\").value_string, sep=\"\\n\")"
   ]
  },
  {
   "cell_type": "markdown",
   "metadata": {},
   "source": [
    "## 2 Set Up Devices"
   ]
  },
  {
   "cell_type": "markdown",
   "metadata": {},
   "source": [
    "### 2.1 Setting up the CSP/CBF"
   ]
  },
  {
   "cell_type": "markdown",
   "metadata": {},
   "source": [
    "With the connection established to the devices, set the admin and simulation mode to both be 0. This will allow the running of commands and ensure real hardware is being used."
   ]
  },
  {
   "cell_type": "code",
   "execution_count": 12,
   "metadata": {},
   "outputs": [],
   "source": [
    "# Set CBF Simulation mode to false and CBF timeout to 99s\n",
    "csp_control.cbfSimulationMode = simulation_mode\n",
    "csp_control.commandTimeout = 99\n",
    "csp_subarray.commandTimeout = 99\n",
    "\n",
    "# Set devices to adminMode = ONLINE\n",
    "csp_control.adminMode = 0\n",
    "csp_subarray.adminMode = 0"
   ]
  },
  {
   "cell_type": "code",
   "execution_count": null,
   "metadata": {},
   "outputs": [],
   "source": [
    "print(\"\\nChecking CBF Simulation Mode and CBF Timeout:\")\n",
    "print(f\"  CBF Controller Simulation Mode: {bool(csp_control.cbfSimulationMode)}\")\n",
    "print(f\"  CBF Subarray Simulation Mode: {bool(cbf_subarray.simulationMode)}\")\n",
    "print(f\"  CBF Controller Timeout: {csp_control.commandTimeout} sec\")\n",
    "print(f\"  CSP Subarray Timeout: {csp_subarray.commandTimeout} sec\")\n",
    "\n",
    "print(\"\\nChecking admin mode after setting to ONLINE:\")\n",
    "print(f\"  CSP Control: {csp_control.adminMode.name}\")\n",
    "print(f\"  CSP Subarray: {csp_subarray.adminMode.name}\")\n",
    "print(f\"  CBF Controller: {cbf_controller.adminMode.name}\")\n",
    "print(f\"  CBF Subarray: {cbf_subarray.adminMode.name}\")"
   ]
  },
  {
   "cell_type": "markdown",
   "metadata": {},
   "source": [
    "### 2.2 Load the Dish Vcc Config / Init Sys Params"
   ]
  },
  {
   "cell_type": "markdown",
   "metadata": {},
   "source": [
    "Next, load in the dish config file to the central node:"
   ]
  },
  {
   "cell_type": "code",
   "execution_count": null,
   "metadata": {},
   "outputs": [],
   "source": [
    "with open(DISH_CONFIG_FILE, encoding=\"utf-8\") as f:\n",
    "    dish_config_json = json.load(f)\n",
    "\n",
    "# Reach out to grab the tagged Telescope model with K-value of 1\n",
    "# See: https://gitlab.com/ska-telescope/ska-telmodel-data/-/tree/0.1.0-rc-mid-itf/tmdata/instrument/ska1_mid_itf\n",
    "dish_config_json[\"tm_data_sources\"][\n",
    "    0\n",
    "] = \"car://gitlab.com/ska-telescope/ska-telmodel-data?0.1.0-rc-mid-itf#tmdata\"\n",
    "dish_config_json[\"tm_data_filepath\"] = \"instrument/ska1_mid_itf/ska-mid-cbf-system-parameters.json\"\n",
    "\n",
    "# Actually load in the dish config\n",
    "print(f\"dish_config_json file contents: \\n{dish_config_json}\")\n",
    "tmc_central_node.LoadDishCfg(json.dumps(dish_config_json))\n",
    "\n",
    "# Wait for dishvcc to be loaded...\n",
    "wait_seconds = 0\n",
    "while not tmc_central_node.isDishVccConfigSet:\n",
    "    clear_output(wait=True)\n",
    "    print(f\"Waiting for DishVCC to be set, {wait_seconds} seconds elapsed...\")\n",
    "    sleep(2)\n",
    "    wait_seconds += 2\n",
    "\n",
    "clear_output(wait=True)\n",
    "print(\"DishVCC has been set!\")"
   ]
  },
  {
   "cell_type": "code",
   "execution_count": null,
   "metadata": {},
   "outputs": [],
   "source": [
    "print(f\"TMC CSP Master's Dish Vcc Config attribute value: \\n{tmc_csp_master.dishVccConfig}\")\n",
    "print(\n",
    "    f\"\\nTMC CSP Master's Source Dish Vcc Config attribute value: \\n{tmc_csp_master.sourceDishVccConfig}\"\n",
    ")"
   ]
  },
  {
   "cell_type": "markdown",
   "metadata": {},
   "source": [
    "<style>\n",
    "    .alert {\n",
    "        background-color: #1a1d21;\n",
    "        border-style: dotted;\n",
    "        border-color: #f0493e;\n",
    "        color: #d1d2d3;\n",
    "    }\n",
    "</style>\n",
    "<div class=\"alert\">\n",
    "    <h3>(BITE STEP) Load Config Data</h3>\n",
    "    <br>\n",
    "    Now, if required, the BITE configuration data can be loaded in using the BITE notebook.\n",
    "</div>\n",
    "</body>"
   ]
  },
  {
   "cell_type": "markdown",
   "metadata": {},
   "source": [
    "### 2.3 Turn the Telescope On"
   ]
  },
  {
   "cell_type": "markdown",
   "metadata": {},
   "source": [
    "Now, turn the telescope itself on:"
   ]
  },
  {
   "cell_type": "code",
   "execution_count": null,
   "metadata": {},
   "outputs": [],
   "source": [
    "print(\"Running the TelescopeOn command\")\n",
    "tmc_central_node.set_timeout_millis(100000)\n",
    "tmc_central_node.TelescopeOn()\n",
    "\n",
    "startup_time = 0\n",
    "alert_msg = \"\"\n",
    "while int(tmc_central_node.telescopeState) != 0:\n",
    "    print(f\"\\r Telescope is starting up, {startup_time} seconds elapsed. {alert_msg}\", end=\"\")\n",
    "    sleep(5)\n",
    "    startup_time += 5\n",
    "    if startup_time > 120:\n",
    "        alert_msg = \"Startup is taking longer than expected, try running LRU power off scripts.\"\n",
    "print(f\"\\n Telescope has started after {startup_time} seconds.\")"
   ]
  },
  {
   "cell_type": "markdown",
   "metadata": {},
   "source": [
    "#### 2.3.1 Remedying Telescope on "
   ]
  },
  {
   "cell_type": "markdown",
   "metadata": {},
   "source": [
    "In some cases, the steps for powering on will not complete, due to DDR calibration failing, causing the HPS to error out. This can be checked by monitoring the CBF controller and logconsumer to see if a HPS error has occurred. If monitoring central node while running, these errors will likely surface as timeout errors when running the above step\n",
    "Check if these error messages occur: \n",
    "\n",
    "- hpsmaster (via ds-talonlogconsumer device): \n",
    "   - `DsHpsMaster::configure: Timeout waiting for Talon Status`\n",
    "\n",
    "- ds-cbfcontroller-controller device: \n",
    "   - `Configure command for talondx-.../hpsmaster/hps-2 device failed with error code 4`\n",
    "   - `Failed to configure Talon boards`\n",
    "   - `Exiting command OnCommand with return_code ResultCode.FAILED, message: 'Failed to configure Talon boards'.`\n",
    "\n",
    "If this is the case, the LRU will have to be powered down, then powered on using the scripts available through talon_power_lru.sh. **Note that this will require that both boards on each LRU (like 1 and 2) will be shut off**. See [CIP-2344](https://jira.skatelescope.org/browse/CIP-2344) for more details."
   ]
  },
  {
   "cell_type": "markdown",
   "metadata": {},
   "source": [
    "If it is required to reset the LRU, on a dev machine run the following steps:"
   ]
  },
  {
   "cell_type": "raw",
   "metadata": {
    "vscode": {
     "languageId": "raw"
    }
   },
   "source": [
    "# Navigate to the scripts folder\n",
    "cd /shared/talon-dx-utilities/bin/\n",
    "\n",
    "# Execute the power down for your LRU for your board\n",
    "./talon_power_lru.sh <LRU#> off\n",
    "\n",
    "# After the command has executed, ping the board to ensure that it is off\n",
    "ping talon<#>\n",
    "\n",
    "# Then execute the script again to power the LRU on \n",
    "./talon_power_lru.sh <LRU#> on\n",
    "\n",
    "# Finally, ping the board again to ensure it is good to go\n",
    "ping talon<#>"
   ]
  },
  {
   "cell_type": "markdown",
   "metadata": {},
   "source": [
    "***"
   ]
  },
  {
   "cell_type": "markdown",
   "metadata": {},
   "source": [
    "Once the On command has been run successfully, check that the Telescope State is 0 and that states of the other devices are ON."
   ]
  },
  {
   "cell_type": "code",
   "execution_count": null,
   "metadata": {},
   "outputs": [],
   "source": [
    "print(\"Verifying the states:\")\n",
    "print(f\"  TMC Central Node Telescope State: {int(tmc_central_node.TelescopeState)}\")\n",
    "print(f\"  CSP Control State: {csp_control.State()}\")\n",
    "print(f\"  CBF Controller State: {cbf_controller.State()}\")\n",
    "print(f\"  TMC Subarray State: {tmc_subarray.State()}\")"
   ]
  },
  {
   "cell_type": "markdown",
   "metadata": {},
   "source": [
    "<style>\n",
    "    .alert {\n",
    "        background-color: #1a1d21;\n",
    "        border-style: dotted;\n",
    "        border-color: #f0493e;\n",
    "        color: #d1d2d3;\n",
    "    }\n",
    "</style>\n",
    "<div class=\"alert\">\n",
    "    <h3>(BITE STEP) Generate BITE Data</h3>\n",
    "    <br>\n",
    "    With the telescope on, the section of the BITE generation notebook that handles the actual generation of BITE data can be run.\n",
    "</div>\n",
    "</body>"
   ]
  },
  {
   "cell_type": "markdown",
   "metadata": {},
   "source": [
    "### 2.4 Assign Resources to the Telescope"
   ]
  },
  {
   "cell_type": "markdown",
   "metadata": {},
   "source": [
    "Start assigning resources by setting up the JSON file as needed:"
   ]
  },
  {
   "cell_type": "code",
   "execution_count": null,
   "metadata": {},
   "outputs": [],
   "source": [
    "os.environ[\"TZ\"] = \"America/Vancouver\"\n",
    "time_now = localtime()\n",
    "date = strftime(\"%Y%m%d\", time_now)\n",
    "time_now = strftime(\"%H%M%S\", time_now)\n",
    "eb_id = f\"eb-test-{date}-{time_now}\"\n",
    "pb_id = f\"pb-test-{date}-{time_now}\"\n",
    "\n",
    "channel_count = generate_fsp.calculate_channel_count(start_freq, end_freq)\n",
    "\n",
    "with open(ASSIGN_RESOURCES_FILE, encoding=\"utf-8\") as f:\n",
    "    assign_resources_json = json.load(f)\n",
    "    assign_resources_json[\"dish\"][\"receptor_ids\"] = RECEPTORS\n",
    "    assign_resources_json[\"sdp\"][\"resources\"][\"receptors\"] = RECEPTORS\n",
    "    assign_resources_json[\"sdp\"][\"execution_block\"][\"eb_id\"] = eb_id\n",
    "    assign_resources_json[\"sdp\"][\"processing_blocks\"][0][\"pb_id\"] = pb_id\n",
    "\n",
    "    assign_resources_json[\"sdp\"][\"execution_block\"][\"channels\"][0][\"spectral_windows\"][0][\n",
    "        \"freq_min\"\n",
    "    ] = float(start_freq)\n",
    "    assign_resources_json[\"sdp\"][\"execution_block\"][\"channels\"][0][\"spectral_windows\"][0][\n",
    "        \"freq_max\"\n",
    "    ] = float(end_freq)\n",
    "    assign_resources_json[\"sdp\"][\"execution_block\"][\"channels\"][0][\"spectral_windows\"][0][\n",
    "        \"count\"\n",
    "    ] = channel_count\n",
    "\n",
    "print(f\"\\nassign_resources_json file contents: \\n{assign_resources_json}\")"
   ]
  },
  {
   "cell_type": "markdown",
   "metadata": {},
   "source": [
    "Now, the command to actually assign the resources can be run, and the TMC should go to idle (2)"
   ]
  },
  {
   "cell_type": "code",
   "execution_count": null,
   "metadata": {},
   "outputs": [],
   "source": [
    "tmc_subarray.AssignResources(json.dumps(assign_resources_json))\n",
    "wait_for_tango.wait_for_state(tmc_subarray, 2)"
   ]
  },
  {
   "cell_type": "markdown",
   "metadata": {},
   "source": [
    "<style>\n",
    "    .alert {\n",
    "        background-color: #1a1d21;\n",
    "        border-style: dotted;\n",
    "        border-color: #f0493e;\n",
    "        color: #d1d2d3;\n",
    "    }\n",
    "</style>\n",
    "<div class=\"alert\">\n",
    "    <h3>(BITE STEP) Start LSTV Replay</h3>\n",
    "    <br>\n",
    "    If using BITE for data stream generation, the respective step in the BITE notebook can be run at this point.\n",
    "</div>\n",
    "</body>"
   ]
  },
  {
   "cell_type": "markdown",
   "metadata": {},
   "source": [
    "## 3 Running the Scan(s)"
   ]
  },
  {
   "cell_type": "markdown",
   "metadata": {},
   "source": [
    "With everything set up, the scans can now be run:"
   ]
  },
  {
   "cell_type": "markdown",
   "metadata": {},
   "source": [
    "### 3.1 Configure Scan"
   ]
  },
  {
   "cell_type": "markdown",
   "metadata": {},
   "source": [
    "<div class=\"alert alert-block alert-danger\">\n",
    "During the configure scan there is still a possibility of TMC getting stuck in <b>CONFIGURING</b> due to a network issue in the PSI. If you see the following error in the ds-cspsubarrayleafnode-01-0 pod then you will have to redeploy your namespace and try again:\n",
    "\n",
    "AttributeError: 'NoneType' object has no attribute 'delays'\n",
    "</div>"
   ]
  },
  {
   "cell_type": "markdown",
   "metadata": {},
   "source": [
    "Before running the scan configuration, ensure that the SDP vis pod has spun up:"
   ]
  },
  {
   "cell_type": "code",
   "execution_count": null,
   "metadata": {},
   "outputs": [],
   "source": [
    "!kubectl -n $psi_namespace-sdp get pods | grep vis-receive"
   ]
  },
  {
   "cell_type": "markdown",
   "metadata": {},
   "source": [
    "Now, append the configure scan JSON file as needed before uploading it."
   ]
  },
  {
   "cell_type": "code",
   "execution_count": null,
   "metadata": {},
   "outputs": [],
   "source": [
    "with open(CONFIGURE_SCAN_FILE, encoding=\"utf-8\") as f:\n",
    "    configure_scan_json = json.load(f)\n",
    "\n",
    "# Create and Append FSPs to scan config file\n",
    "# note that channel offset will change with ADR-99\n",
    "configure_scan_json[\"csp\"][\"midcbf\"][\"correlation\"][\"processing_regions\"][0][\"fsp_ids\"] = []\n",
    "fsp_list = generate_fsp.generate_fsp_list(start_freq, end_freq, target_boards)\n",
    "configure_scan_json[\"csp\"][\"midcbf\"][\"correlation\"][\"processing_regions\"][0][\"fsp_ids\"] = fsp_list\n",
    "configure_scan_json[\"csp\"][\"midcbf\"][\"correlation\"][\"processing_regions\"][0][\n",
    "    \"start_freq\"\n",
    "] = start_freq\n",
    "configure_scan_json[\"csp\"][\"midcbf\"][\"correlation\"][\"processing_regions\"][0][\n",
    "    \"channel_count\"\n",
    "] = channel_count\n",
    "\n",
    "# Assign the config ID\n",
    "configure_scan_json[\"csp\"][\"common\"][\n",
    "    \"config_id\"\n",
    "] = f\"{len(target_boards)} receptor, band 1, {len(fsp_list)} FSP(s), no options\"\n",
    "\n",
    "print(\"Appended configure scan file:\")\n",
    "print(json.dumps(configure_scan_json, indent=2))"
   ]
  },
  {
   "cell_type": "markdown",
   "metadata": {},
   "source": [
    "Send the configuration, and wait for the TMC to go to ready:"
   ]
  },
  {
   "cell_type": "code",
   "execution_count": null,
   "metadata": {},
   "outputs": [],
   "source": [
    "tmc_subarray.Configure(json.dumps(configure_scan_json))\n",
    "wait_for_tango.wait_for_state(tmc_subarray, 4)\n",
    "print(f\"SDP Subarray Observation State: {sdp_subarray_leaf_node.sdpSubarrayObsState}\")\n",
    "print(f\"CSP Subarray Observation State: {csp_subarray_leaf_node.cspSubarrayObsState}\")"
   ]
  },
  {
   "cell_type": "markdown",
   "metadata": {},
   "source": [
    "Optional: \n",
    "\n",
    "Pointing state expected value: TRACK\n",
    "\n",
    "Dish Mode expected value: OPERATE"
   ]
  },
  {
   "cell_type": "code",
   "execution_count": null,
   "metadata": {},
   "outputs": [],
   "source": [
    "for receptor in RECEPTORS:\n",
    "    print(f\"Dish Leaf Node {dish_leaf_node_idx} Pointing State: {dish_leaf_node_dp.pointingState.name}\")\n",
    "    print(f\"Dish Leaf Node {dish_leaf_node_idx} Dish Mode: {dish_leaf_node_dp.DishMode.name}\\n\")"
   ]
  },
  {
   "cell_type": "markdown",
   "metadata": {},
   "source": [
    "### 3.2 Running a Non-Offset Scan"
   ]
  },
  {
   "cell_type": "markdown",
   "metadata": {},
   "source": [
    "Now, the scan itself can be run by sending the command to the TMC:"
   ]
  },
  {
   "cell_type": "code",
   "execution_count": null,
   "metadata": {},
   "outputs": [],
   "source": [
    "print(\"Running the Scan command: subarray obsstate should go to Scanning (5)\")\n",
    "\n",
    "with open(SCAN_FILE, encoding=\"utf-8\") as f:\n",
    "    scan_json = f.read()\n",
    "\n",
    "print(f\"\\nscan_json file contents: \\n{scan_json}\")\n",
    "\n",
    "tmc_subarray.Scan(scan_json)\n",
    "wait_for_tango.wait_for_state(cbf_subarray, 5)\n",
    "print(f\"\\nCBF Subarray Observation State: {cbf_subarray.obsState.name}\")"
   ]
  },
  {
   "cell_type": "markdown",
   "metadata": {},
   "source": [
    "Monitor the SDP vis pod and the signal display webpage to ensure the scan is underway."
   ]
  },
  {
   "cell_type": "markdown",
   "metadata": {},
   "source": [
    "### 3.3 Ending Initial Scan\n"
   ]
  },
  {
   "cell_type": "markdown",
   "metadata": {},
   "source": [
    "After allowing the scan to run for a while, end it via the appropriate command:"
   ]
  },
  {
   "cell_type": "code",
   "execution_count": null,
   "metadata": {},
   "outputs": [],
   "source": [
    "print(\"Running the End Scan command: subarray obsstate should go to Ready (4) state\")\n",
    "\n",
    "tmc_subarray.EndScan()\n",
    "wait_for_tango.wait_for_state(tmc_subarray, 4)\n",
    "print(f\"\\nTMC Subarray Observation State: {tmc_subarray.obsState.name}\")"
   ]
  },
  {
   "cell_type": "markdown",
   "metadata": {},
   "source": [
    "After the above cell, wait for the subarray to go to the Ready (4) state."
   ]
  },
  {
   "cell_type": "code",
   "execution_count": null,
   "metadata": {},
   "outputs": [],
   "source": [
    "print(f\"SDP Subarray Observation State: {sdp_subarray_leaf_node.sdpSubarrayObsState.name}\")\n",
    "print(f\"CSP Subarray Observation State: {csp_subarray_leaf_node.cspSubarrayObsState.name}\\n\")"
   ]
  },
  {
   "cell_type": "markdown",
   "metadata": {},
   "source": [
    "### 3.4 Running Offset Scans for Multi-Point Calibration (Optional)"
   ]
  },
  {
   "cell_type": "markdown",
   "metadata": {},
   "source": [
    "Now, loop through the offset scans, using the combos to set the scan json. For each, configure it by passing in JSON, then scan again, letting it run before stopping."
   ]
  },
  {
   "cell_type": "code",
   "execution_count": null,
   "metadata": {},
   "outputs": [],
   "source": [
    "scan_run = 1\n",
    "for offset in SCAN_COMBOS:\n",
    "    print(f\"setting offset to: {offset}\")\n",
    "    # Configure for this offset scan\n",
    "    partial_configure_json = {\n",
    "        \"interface\": \"https://schema.skao.int/ska-tmc-configure/2.2\",\n",
    "        \"transaction_id\": f\"txn-....-0000{scan_run}\",\n",
    "        \"scan_id\": scan_run,\n",
    "        \"pointing\": {\"target\": {\"ca_offset_arcsec\": offset[0], \"ie_offset_arcsec\": offset[1]}},\n",
    "        \"tmc\": {\"partial_configuration\": True},\n",
    "    }\n",
    "    print(\"Partial Config to load:\")\n",
    "    print(json.dumps(partial_configure_json, indent=2))\n",
    "    print(\".......\")\n",
    "    sleep(10)\n",
    "    tmc_subarray.Configure(json.dumps(partial_configure_json))\n",
    "    wait_for_tango.wait_for_state(tmc_subarray, 4)\n",
    "\n",
    "    # Send the Scan command along with relevant JSON,incrementing the scan ID and transaction ID\n",
    "    partial_scan_json = {\n",
    "        \"interface\": \"https://schema.skao.int/ska-tmc-scan/2.1\",\n",
    "        \"transaction_id\": f\"txn-....-0000{scan_run}\",\n",
    "        \"scan_id\": scan_run,\n",
    "    }\n",
    "    print(json.dumps(partial_scan_json, indent=2))\n",
    "    tmc_subarray.Scan(json.dumps(partial_scan_json))\n",
    "    wait_for_tango.wait_for_state(tmc_subarray, 5)\n",
    "    # let the scan run for a bit...\n",
    "    sleep(30)\n",
    "    # While the scan is running, refresh the signal page and monitor the vis pod logs to ensure the data is coming through.\n",
    "\n",
    "    # End the scan\n",
    "    tmc_subarray.EndScan()\n",
    "    wait_for_tango.wait_for_state(tmc_subarray, 4)\n",
    "\n",
    "    scan_run += 1\n",
    "    print(\"============================\")\n",
    "print(\"Done offsets!\")"
   ]
  },
  {
   "cell_type": "markdown",
   "metadata": {},
   "source": [
    "## 4 Cleanup"
   ]
  },
  {
   "cell_type": "markdown",
   "metadata": {},
   "source": [
    "Now that the scan(s) are complete, the namespace and devices can be shut down and cleaned up:"
   ]
  },
  {
   "cell_type": "markdown",
   "metadata": {},
   "source": [
    "<style>\n",
    "    .alert {\n",
    "        background-color: #1a1d21;\n",
    "        border-style: dotted;\n",
    "        border-color: #f0493e;\n",
    "        color: #d1d2d3;\n",
    "    }\n",
    "</style>\n",
    "<div class=\"alert\">\n",
    "    <h3>(BITE STEP) Stopping LSTV Replay</h3>\n",
    "    <br>\n",
    "    Now with the scan(s) done, if using BITE, run the LSTV replay section of the BITE generation notebook.\n",
    "</div>\n",
    "</body>"
   ]
  },
  {
   "cell_type": "markdown",
   "metadata": {},
   "source": [
    "Start by ending any running scans."
   ]
  },
  {
   "cell_type": "code",
   "execution_count": null,
   "metadata": {},
   "outputs": [],
   "source": [
    "print(\"Running the End command: subarray obsstate should go to Idle (2) state\")\n",
    "\n",
    "tmc_subarray.End()\n",
    "wait_for_tango.wait_for_state(tmc_subarray, 2)\n",
    "print(f\"\\nTMC Subarray Observation State: {cbf_subarray.obsState.name}\")"
   ]
  },
  {
   "cell_type": "markdown",
   "metadata": {},
   "source": [
    "And check that the subarray has gone to the IDLE (2) state."
   ]
  },
  {
   "cell_type": "code",
   "execution_count": null,
   "metadata": {},
   "outputs": [],
   "source": [
    "print(f\"SDP Subarray Observation State: {sdp_subarray_leaf_node.sdpSubarrayObsState.name}\")\n",
    "print(f\"CSP Subarray Observation State: {csp_subarray_leaf_node.cspSubarrayObsState.name}\")"
   ]
  },
  {
   "cell_type": "markdown",
   "metadata": {},
   "source": [
    "### 4.1 Release Resources"
   ]
  },
  {
   "cell_type": "markdown",
   "metadata": {},
   "source": [
    "Once the scans are stopped and finished, clear the resources from the appropriate devices."
   ]
  },
  {
   "cell_type": "code",
   "execution_count": null,
   "metadata": {},
   "outputs": [],
   "source": [
    "print(\n",
    "    \"Running the Release All Resources command: subarray obsstate should go to Empty state and receptor IDs should be empty\"\n",
    ")\n",
    "\n",
    "tmc_subarray.ReleaseAllResources()\n",
    "while tmc_subarray.obsState != 0:\n",
    "    sleep(5)\n",
    "    clear_output(wait=True)\n",
    "    print(f\"\\nTMC Subarray Observation State: {tmc_subarray.obsState.name}\")"
   ]
  },
  {
   "cell_type": "markdown",
   "metadata": {},
   "source": [
    "And ensure that the subarray obsstate goes to EMPTY (0). At this stage, the receptor IDs should also be empty."
   ]
  },
  {
   "cell_type": "code",
   "execution_count": null,
   "metadata": {},
   "outputs": [],
   "source": [
    "print(f\"SDP Subarray Observation State: {sdp_subarray_leaf_node.sdpSubarrayObsState.name}\")\n",
    "print(f\"CSP Subarray Observation State: {csp_subarray_leaf_node.cspSubarrayObsState.name}\")"
   ]
  },
  {
   "cell_type": "markdown",
   "metadata": {},
   "source": [
    "### 4.2 Turn the Telescope Off"
   ]
  },
  {
   "cell_type": "markdown",
   "metadata": {},
   "source": [
    "Finally, send the Off command to the TMC"
   ]
  },
  {
   "cell_type": "code",
   "execution_count": null,
   "metadata": {},
   "outputs": [],
   "source": [
    "print(\"Running the TelescopeOff command\")\n",
    "tmc_central_node.TelescopeOff()\n",
    "\n",
    "while int(tmc_central_node.TelescopeState) != 1:\n",
    "    sleep(5)\n",
    "    clear_output(wait=True)\n",
    "    print(\"These should all go to OFF\")\n",
    "    print(f\"TMC Central Node State: {int(tmc_central_node.TelescopeState)}\")\n",
    "    print(f\"CSP Control State: {csp_control.State()}\")\n",
    "    print(f\"CBF Controller State: {cbf_controller.State()}\")"
   ]
  }
 ],
 "metadata": {
  "kernelspec": {
   "display_name": ".venv",
   "language": "python",
   "name": "python3"
  },
  "language_info": {
   "codemirror_mode": {
    "name": "ipython",
    "version": 3
   },
   "file_extension": ".py",
   "mimetype": "text/x-python",
   "name": "python",
   "nbconvert_exporter": "python",
   "pygments_lexer": "ipython3",
   "version": "3.10.16"
  }
 },
 "nbformat": 4,
 "nbformat_minor": 2
}
