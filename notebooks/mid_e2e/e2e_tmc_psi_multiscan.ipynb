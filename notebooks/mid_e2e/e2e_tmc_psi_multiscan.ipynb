{
 "cells": [
  {
   "cell_type": "markdown",
   "metadata": {},
   "source": [
    "# Notebook for End to End testing in the MID PSI\n",
    "\n",
    "###### Last updated 23/07/24\n",
    "\n",
    "- DishLMC in the loop\n",
    "- SPFRx in the loop\n",
    "- TMC/SDP/CSP in the loop\n",
    "- Receives and plots the visibilities to SDP\n",
    "- Allow for running offset calibration scans."
   ]
  },
  {
   "cell_type": "markdown",
   "metadata": {},
   "source": [
    "**Currently, this notebook can only run on Talon1, due to that board being the one connected to the SPFRx ,RXPU must also be checked out**"
   ]
  },
  {
   "cell_type": "markdown",
   "metadata": {},
   "source": [
    "This notebook Uses Dish LMC, SPFRx, TMC, SDP and CSP to run an end-to-end scan. It also provides the option to run multiple offset scan to enable calibration, following the [Five Point Calibration Scan Controls notebook](https://gitlab.com/ska-telescope/ska-jupyter-scripting/-/blob/main/notebooks/observing/MID_five_point_calibration_scan_controls.ipynb?ref_type=heads)."
   ]
  },
  {
   "cell_type": "markdown",
   "metadata": {},
   "source": [
    "## 1 Setup"
   ]
  },
  {
   "cell_type": "markdown",
   "metadata": {},
   "source": [
    "### 1.1 Environment Setup"
   ]
  },
  {
   "cell_type": "markdown",
   "metadata": {},
   "source": [
    "Start by importing all the libraries needed for this notebook"
   ]
  },
  {
   "cell_type": "code",
   "execution_count": null,
   "metadata": {},
   "outputs": [],
   "source": [
    "import json\n",
    "import os\n",
    "import time\n",
    "from time import sleep\n",
    "\n",
    "from IPython.display import clear_output\n",
    "from tango import Database, DevFailed, DeviceProxy"
   ]
  },
  {
   "cell_type": "markdown",
   "metadata": {},
   "source": [
    "Until notebook clean up is merged need to use this for waiting for state"
   ]
  },
  {
   "cell_type": "code",
   "execution_count": null,
   "metadata": {},
   "outputs": [],
   "source": [
    "spinner = [\"⣾\", \"⣽\", \"⣻\", \"⢿\", \"⡿\", \"⣟\", \"⣯\", \"⣷\"]\n",
    "\n",
    "\n",
    "def wait_for_state(testDevice: DeviceProxy, desired_state, break_on_error=True) -> None:\n",
    "    \"\"\"Poll a tango device until either the given observation state is reached, or it throws an error.\n",
    "    Arguments:\n",
    "    testDevice -- Tango Device to check\n",
    "    desired_state -- The state which to break upon getting (number or state)\n",
    "    break_on_error -- If set to False, will keeping running when getting an error status.\n",
    "    \"\"\"\n",
    "    spinL = 0\n",
    "    poll = 1\n",
    "    while testDevice.obsState != desired_state:\n",
    "        if spinL < len(spinner) - 1:\n",
    "            spinL += 1\n",
    "        else:\n",
    "            spinL = 0\n",
    "        sleep(0.5)\n",
    "        print(\n",
    "            \"\\r\",\n",
    "            f\"{spinner[spinL]} Poll# {poll}: Current state is {testDevice.obsState.name}, waiting for {desired_state}...\",\n",
    "            end=\"\",\n",
    "        )\n",
    "        if testDevice.obsState == 9 and break_on_error:\n",
    "            break\n",
    "        poll += 1\n",
    "    print(f\"\\nFinished with: {testDevice.obsState.name}\")"
   ]
  },
  {
   "cell_type": "markdown",
   "metadata": {},
   "source": [
    "### 1.2 Set Variables"
   ]
  },
  {
   "cell_type": "markdown",
   "metadata": {},
   "source": [
    "First, grab the namespace launched from the pipeline:"
   ]
  },
  {
   "cell_type": "code",
   "execution_count": null,
   "metadata": {},
   "outputs": [],
   "source": [
    "!kubectl get ns | grep ska-mid-psi"
   ]
  },
  {
   "cell_type": "markdown",
   "metadata": {},
   "source": [
    "Now, use this to set the namespace the notebook will use."
   ]
  },
  {
   "cell_type": "code",
   "execution_count": null,
   "metadata": {},
   "outputs": [],
   "source": [
    "psi_namespace = \"ci-ska-mid-psi-1379504815-alexschell\"\n",
    "config = \"hw_config_psi.yaml\""
   ]
  },
  {
   "cell_type": "markdown",
   "metadata": {},
   "source": [
    "Now, load in the other variables this notebook will use, along with config files to pass in. These vars should not need to be changed in most use cases."
   ]
  },
  {
   "cell_type": "code",
   "execution_count": null,
   "metadata": {},
   "outputs": [],
   "source": [
    "TANGO_HOST = f\"databaseds-tango-base.{psi_namespace}.svc.cluster.local:10000\"\n",
    "os.environ[\"TANGO_HOST\"] = TANGO_HOST\n",
    "\n",
    "RECEPTORS = [\"SKA001\"]\n",
    "\n",
    "# For running offset scans\n",
    "SCAN_COMBOS = [[0.0, 5.0], [0.0, -5.0], [5.0, 0.0], [-5.0, 0.0]]\n",
    "\n",
    "# Only target SKA001 for now as has SPFRx connection\n",
    "TARGET_BOARD = [1]\n",
    "\n",
    "SERVER = server = \"ska-sdp-kafka.\" + psi_namespace + \".svc.cluster.local:9092\"\n",
    "\n",
    "START_CHANNEL = 0\n",
    "END_CHANNEL = 14860\n",
    "START_PORT = 21000\n",
    "\n",
    "# Config files set up\n",
    "DATA_DIR = \"../../data\"\n",
    "TMC_CONFIGS = f\"{DATA_DIR}/psi/tmc\"\n",
    "SCAN_FILE = f\"{TMC_CONFIGS}/scan.json\"\n",
    "RELEASE_RESOURCES_FILE = f\"{DATA_DIR}/release_resources.json\"\n",
    "\n",
    "ASSIGN_RESOURCES_FILE = f\"{TMC_CONFIGS}/assign_resources.json\"\n",
    "CONFIGURE_SCAN_FILE = f\"{TMC_CONFIGS}/configure_scan.json\"\n",
    "\n",
    "CBF_CONFIGS = f\"{DATA_DIR}/psi/cbf\"\n",
    "DISH_CONFIG_FILE = f\"{CBF_CONFIGS}/sys_params/load_dish_config.json\"\n",
    "\n",
    "# MCS/Talon setup\n",
    "COMMON_CONFIG_FOLDER = os.path.join(DATA_DIR, \"psi/cbf\")\n",
    "HW_CONFIG_FOLDER = os.path.join(COMMON_CONFIG_FOLDER, \"hw_config\")\n",
    "HW_CONFIG_FILE = os.path.join(HW_CONFIG_FOLDER, config)\n",
    "INIT_SYS_PARAM_FILE = os.path.join(COMMON_CONFIG_FOLDER, \"sys_params/initial_system_param.json\")\n",
    "# Check files can be reached.\n",
    "files = [\n",
    "    INIT_SYS_PARAM_FILE,\n",
    "    ASSIGN_RESOURCES_FILE,\n",
    "    CONFIGURE_SCAN_FILE,\n",
    "    DISH_CONFIG_FILE,\n",
    "    RELEASE_RESOURCES_FILE,\n",
    "    HW_CONFIG_FILE,\n",
    "]\n",
    "for file in files:\n",
    "    if os.path.isfile(file):\n",
    "        print(f\"{file} exists: ✔️\")\n",
    "    else:\n",
    "        print(f\"{file} does not exist ❌\")"
   ]
  },
  {
   "cell_type": "markdown",
   "metadata": {},
   "source": [
    "Along with these files, the hardware config can also be loaded into the pod via kubectl:"
   ]
  },
  {
   "cell_type": "code",
   "execution_count": null,
   "metadata": {},
   "outputs": [],
   "source": [
    "!kubectl cp $HW_CONFIG_FILE $psi_namespace/ds-cbfcontroller-controller-0:/app/mnt/hw_config/hw_config.yaml"
   ]
  },
  {
   "cell_type": "markdown",
   "metadata": {},
   "source": [
    "With the namespace set, the useful front ends to monitor the behaviour of the system can be accessed using the following URLs."
   ]
  },
  {
   "cell_type": "code",
   "execution_count": null,
   "metadata": {},
   "outputs": [],
   "source": [
    "print(f\"https://142.73.34.170/{psi_namespace}/signal/display/\")\n",
    "print(f\"https://142.73.34.170/{psi_namespace}/taranta/devices\")\n",
    "print(\n",
    "    f\"https://142.73.34.170/{psi_namespace}/taranta/dashboard?id=666cb28b5e5d4f0012197e5f&mode=run\"\n",
    ")"
   ]
  },
  {
   "cell_type": "markdown",
   "metadata": {},
   "source": [
    "### 1.3 Setup Device Proxies"
   ]
  },
  {
   "cell_type": "markdown",
   "metadata": {},
   "source": [
    "Now, set the TANGO FQDNs that will be used to set up device proxies:"
   ]
  },
  {
   "cell_type": "code",
   "execution_count": null,
   "metadata": {},
   "outputs": [],
   "source": [
    "# TMC proxies\n",
    "CENTRAL_NODE_FQDN = \"ska_mid/tm_central/central_node\"\n",
    "CSP_MASTER_FQDN = \"ska_mid/tm_leaf_node/csp_master\"\n",
    "LEAF_NODE_SUBARRAY_FQDN = \"ska_mid/tm_leaf_node/csp_subarray01\"\n",
    "TMC_SUBARRAY_FQDN = \"ska_mid/tm_subarray_node/1\"\n",
    "\n",
    "DEPLOYER_FQDN = \"mid_csp_cbf/ec/deployer\"\n",
    "\n",
    "# CSP.LMC proxies\n",
    "CSP_CONTROL_FQDN = \"mid-csp/control/0\"\n",
    "CSP_SUBARRAY_FQDN = \"mid-csp/subarray/01\"\n",
    "\n",
    "# CBF proxies\n",
    "CBF_CONTROLLER_FQDN = \"mid_csp_cbf/sub_elt/controller\"\n",
    "CBF_SUBARRAY_FQDN = \"mid_csp_cbf/sub_elt/subarray_01\"\n",
    "\n",
    "# Dish Leaf Proxies\n",
    "LEAF_NODE_FQDN = \"ska_mid/tm_leaf_node/d0001\"\n",
    "DISH_MANAGER_FQDN = \"mid-dish/dish-manager/ska001\"\n",
    "\n",
    "# SDP Proxies\n",
    "SDP_SUBARRAY_FQDN = \"mid-sdp/subarray/01\"\n",
    "\n",
    "# Leaf Node Proxies\n",
    "CSP_LEAF_NODE_FQDN = \"ska_mid/tm_leaf_node/csp_subarray01\"\n",
    "SDP_LEAF_NODE_FQDN = \"ska_mid/tm_leaf_node/sdp_subarray01\"\n",
    "CSP_MASTER_LEAF_NODE_FQDN = \"ska_mid/tm_leaf_node/csp_master\""
   ]
  },
  {
   "cell_type": "markdown",
   "metadata": {},
   "source": [
    "Once these have been set, they can be used to start up the devices:"
   ]
  },
  {
   "cell_type": "code",
   "execution_count": null,
   "metadata": {},
   "outputs": [],
   "source": [
    "# TMC Proxies\n",
    "tmc_central_node = DeviceProxy(CENTRAL_NODE_FQDN)\n",
    "tmc_csp_master = DeviceProxy(CSP_MASTER_FQDN)\n",
    "tmc_csp_subarray = DeviceProxy(LEAF_NODE_SUBARRAY_FQDN)\n",
    "tmc_subarray = DeviceProxy(TMC_SUBARRAY_FQDN)\n",
    "\n",
    "# CSP Proxies\n",
    "csp_control = DeviceProxy(CSP_CONTROL_FQDN)\n",
    "csp_subarray = DeviceProxy(CSP_SUBARRAY_FQDN)\n",
    "\n",
    "# CBF Proxies\n",
    "cbf_controller = DeviceProxy(CBF_CONTROLLER_FQDN)\n",
    "cbf_subarray = DeviceProxy(CBF_SUBARRAY_FQDN)\n",
    "\n",
    "# Dish Leaf Proxies\n",
    "dish_leaf_node_ska001 = DeviceProxy(LEAF_NODE_FQDN)\n",
    "\n",
    "# SDP Proxies\n",
    "sdp_subarray = DeviceProxy(SDP_SUBARRAY_FQDN)\n",
    "\n",
    "# Leaf Node Proxies\n",
    "csp_subarray_leaf_node_dp = DeviceProxy(CSP_LEAF_NODE_FQDN)\n",
    "sdp_subarray_leaf_node_dp = DeviceProxy(SDP_LEAF_NODE_FQDN)\n",
    "csp_master_leaf_node_dp = DeviceProxy(CSP_MASTER_LEAF_NODE_FQDN)\n",
    "\n",
    "# Deployer\n",
    "deployer_tango = DeviceProxy(DEPLOYER_FQDN)\n",
    "\n",
    "# print the states of each\n",
    "devices = [\n",
    "    tmc_central_node,\n",
    "    tmc_csp_master,\n",
    "    tmc_csp_subarray,\n",
    "    tmc_subarray,\n",
    "    csp_control,\n",
    "    csp_subarray,\n",
    "    cbf_controller,\n",
    "    cbf_subarray,\n",
    "    dish_leaf_node_ska001,\n",
    "    sdp_subarray,\n",
    "    csp_subarray_leaf_node_dp,\n",
    "    sdp_subarray_leaf_node_dp,\n",
    "    csp_master_leaf_node_dp,\n",
    "    deployer_tango,\n",
    "]\n",
    "\n",
    "for device in devices:\n",
    "    padding = \"-\" * (40 - len(device.dev_name()))\n",
    "    print(f\"{device.dev_name()}'s state {padding}> {device.state()}\")"
   ]
  },
  {
   "cell_type": "markdown",
   "metadata": {},
   "source": [
    "### 1.4 MCS Deployer Setup and Download Requirements"
   ]
  },
  {
   "cell_type": "markdown",
   "metadata": {},
   "source": [
    "To use the deployer, turn it on and set the board that will be deployed to (in this case SKA001)."
   ]
  },
  {
   "cell_type": "code",
   "execution_count": null,
   "metadata": {},
   "outputs": [],
   "source": [
    "db = Database()\n",
    "# Make sure the deployer device is set to ON\n",
    "deployer_tango.On()\n",
    "print(deployer_tango.state())\n",
    "\n",
    "deployer_tango.targetTalons = TARGET_BOARD\n",
    "print(deployer_tango.targetTalons)\n",
    "deployer_tango.generate_config_jsons()"
   ]
  },
  {
   "cell_type": "markdown",
   "metadata": {},
   "source": [
    "Now the actual download step can be run, this will take some time."
   ]
  },
  {
   "cell_type": "code",
   "execution_count": null,
   "metadata": {},
   "outputs": [],
   "source": [
    "deployer_tango.set_timeout_millis(400000)\n",
    "try:\n",
    "    deployer_tango.download_artifacts()\n",
    "except DevFailed as e:\n",
    "    print(e)\n",
    "    print(\n",
    "        \"Timed out, this is likely due to the download taking some time. Check the logs with the code space below after some time to see if it passes.\"\n",
    "    )\n",
    "deployer_tango.set_timeout_millis(4500)"
   ]
  },
  {
   "cell_type": "markdown",
   "metadata": {},
   "source": [
    "Once the downloaded, the TANGO device database can be configured with the new downloads"
   ]
  },
  {
   "cell_type": "code",
   "execution_count": null,
   "metadata": {},
   "outputs": [],
   "source": [
    "deployer_tango.configure_db()"
   ]
  },
  {
   "cell_type": "markdown",
   "metadata": {},
   "source": [
    "If desired, the devices can be checked to ensure they have been downloaded."
   ]
  },
  {
   "cell_type": "code",
   "execution_count": null,
   "metadata": {},
   "outputs": [],
   "source": [
    "print(*db.get_device_exported(\"*\").value_string, sep=\"\\n\")"
   ]
  },
  {
   "cell_type": "markdown",
   "metadata": {},
   "source": [
    "## 2 Set Up Devices"
   ]
  },
  {
   "cell_type": "markdown",
   "metadata": {},
   "source": [
    "### 2.1 Setting up the TMC Central Node"
   ]
  },
  {
   "cell_type": "code",
   "execution_count": null,
   "metadata": {},
   "outputs": [],
   "source": [
    "# Set devices to adminMode = ONLINE\n",
    "csp_control.adminMode = 0\n",
    "csp_subarray.adminMode = 0\n",
    "sleep(1)\n",
    "print(\"\\nChecking admin mode after setting to ONLINE (0):\")\n",
    "print(f\"  CSP Control: {csp_control.adminMode}\")\n",
    "print(f\"  CSP Subarray: {csp_subarray.adminMode}\")\n",
    "print(f\"  CBF Controller: {cbf_controller.adminMode}\")\n",
    "print(f\"  CBF Subarray: {cbf_subarray.adminMode}\")\n",
    "\n",
    "# Set CBF Simulation mode to false and CBF timeout to 99s\n",
    "csp_control.cbfSimulationMode = 0\n",
    "csp_control.commandTimeout = 99\n",
    "sleep(2)\n",
    "print(\"\\nChecking CBF Simulation Mode and CBF Timeout:\")\n",
    "print(f\"  CBF Simulation Mode: {bool(csp_control.cbfSimulationMode)}\")\n",
    "print(f\"  CBF Timeout: {csp_control.commandTimeout} sec\")"
   ]
  },
  {
   "cell_type": "markdown",
   "metadata": {},
   "source": [
    "### 2.2 Load the Dish Vcc Config / Init Sys Params"
   ]
  },
  {
   "cell_type": "markdown",
   "metadata": {},
   "source": [
    "Next, load in the dish config file to the central node:"
   ]
  },
  {
   "cell_type": "markdown",
   "metadata": {},
   "source": [
    "NOTE: RUN TWICE"
   ]
  },
  {
   "cell_type": "code",
   "execution_count": null,
   "metadata": {},
   "outputs": [],
   "source": [
    "with open(DISH_CONFIG_FILE, encoding=\"utf-8\") as f:\n",
    "    dish_config_json = json.load(f)\n",
    "\n",
    "dish_config_json[\"tm_data_sources\"][\n",
    "    0\n",
    "] = \"car://gitlab.com/ska-telescope/ska-telmodel-data?0.1.0-rc-mid-itf#tmdata\"\n",
    "dish_config_json[\"tm_data_filepath\"] = \"instrument/ska1_mid_itf/ska-mid-cbf-system-parameters.json\"\n",
    "\n",
    "print(f\"dish_config_json file contents: \\n{dish_config_json}\")\n",
    "tmc_central_node.LoadDishCfg(json.dumps(dish_config_json))\n",
    "\n",
    "sleep(5)\n",
    "print(f\"TMC CSP Master's Dish Vcc Config attribute value: \\n{tmc_csp_master.dishVccConfig}\")\n",
    "print(\n",
    "    f\"\\nTMC CSP Master's Source Dish Vcc Config attribute value: \\n{tmc_csp_master.sourceDishVccConfig}\"\n",
    ")"
   ]
  },
  {
   "cell_type": "markdown",
   "metadata": {},
   "source": [
    "Ensure the VCC configuration has been set by running the following:"
   ]
  },
  {
   "cell_type": "code",
   "execution_count": null,
   "metadata": {},
   "outputs": [],
   "source": [
    "if tmc_central_node.isDishVccConfigSet:\n",
    "    print(\"Dish VCC config set, good to proceed!\")\n",
    "else:\n",
    "    print(\"Dish VCC config not set.\")"
   ]
  },
  {
   "cell_type": "markdown",
   "metadata": {},
   "source": [
    "### 2.3 Turn the Telescope On"
   ]
  },
  {
   "cell_type": "markdown",
   "metadata": {},
   "source": [
    "Now, turn the telescope itself on (TelescopeOn may complain about VCC config, have to wait for it to resolve):"
   ]
  },
  {
   "cell_type": "code",
   "execution_count": null,
   "metadata": {},
   "outputs": [],
   "source": [
    "print(\"Running the TelescopeOn command\")\n",
    "tmc_central_node.set_timeout_millis(100000)\n",
    "tmc_central_node.TelescopeOn()\n",
    "\n",
    "startup_time = 0\n",
    "while int(tmc_central_node.telescopeState) != 0:\n",
    "    print(f\"Telescope is starting up, {startup_time} seconds elapsed.\")\n",
    "    sleep(5)\n",
    "    startup_time += 5\n",
    "    print(\"\\r\", end=\"\")\n",
    "print(f\"telescope has started after {startup_time} seconds.\")\n",
    "print(\"Verifying the states:\")\n",
    "print(f\"  TMC Central Node State: {tmc_central_node.State()}\")\n",
    "print(f\"  CSP Control State: {csp_control.State()}\")\n",
    "print(f\"  CBF Controller State: {cbf_controller.State()}\")\n",
    "print(f\"  TMC Subarray State: {tmc_subarray.State()}\")"
   ]
  },
  {
   "cell_type": "markdown",
   "metadata": {},
   "source": [
    "### 2.4 Assign Resources to the Telescope"
   ]
  },
  {
   "cell_type": "markdown",
   "metadata": {},
   "source": [
    "Start assigning resources by setting up the JSON file as needed:"
   ]
  },
  {
   "cell_type": "code",
   "execution_count": null,
   "metadata": {},
   "outputs": [],
   "source": [
    "with open(ASSIGN_RESOURCES_FILE, encoding=\"utf-8\") as f:\n",
    "    assign_resources_json = json.load(f)\n",
    "    assign_resources_json[\"dish\"][\"receptor_ids\"] = RECEPTORS\n",
    "    assign_resources_json[\"sdp\"][\"resources\"][\"receptors\"] = RECEPTORS\n",
    "\n",
    "print(f\"\\nassign_resources_json file contents: \\n{assign_resources_json}\")"
   ]
  },
  {
   "cell_type": "markdown",
   "metadata": {},
   "source": [
    "Now, the command to actually assign the resources can be run, and the TMC should go to idle"
   ]
  },
  {
   "cell_type": "code",
   "execution_count": null,
   "metadata": {},
   "outputs": [],
   "source": [
    "tmc_subarray.AssignResources(json.dumps(assign_resources_json))\n",
    "wait_for_state(tmc_subarray, 2)"
   ]
  },
  {
   "cell_type": "markdown",
   "metadata": {},
   "source": [
    "If required, the slew can be set via the dish manager:"
   ]
  },
  {
   "cell_type": "code",
   "execution_count": null,
   "metadata": {},
   "outputs": [],
   "source": [
    "dish_manager = DeviceProxy(DISH_MANAGER_FQDN)\n",
    "dish_manager.slew([181.0, 31.0])\n",
    "\n",
    "while dish_manager.achievedpointing[1] != 181.0 or dish_manager.achievedpointing[2] != 31.0:\n",
    "    time.sleep(1)\n",
    "\n",
    "print(\"Done slewing\")"
   ]
  },
  {
   "cell_type": "markdown",
   "metadata": {},
   "source": [
    "## 3 Running the Scan(s)"
   ]
  },
  {
   "cell_type": "markdown",
   "metadata": {},
   "source": [
    "With everything set up, the scans can now be run:"
   ]
  },
  {
   "cell_type": "markdown",
   "metadata": {},
   "source": [
    "### 3.1 Configure Scan"
   ]
  },
  {
   "cell_type": "markdown",
   "metadata": {},
   "source": [
    "Before running the scan configuration, ensure that the SDP vis pod has spun up:"
   ]
  },
  {
   "cell_type": "code",
   "execution_count": null,
   "metadata": {},
   "outputs": [],
   "source": [
    "!kubectl -n $namespace-sdp get pods | grep vis-receive"
   ]
  },
  {
   "cell_type": "markdown",
   "metadata": {},
   "source": [
    "Now, append the scan config JSON file as needed before uploading it."
   ]
  },
  {
   "cell_type": "code",
   "execution_count": null,
   "metadata": {},
   "outputs": [],
   "source": [
    "print(\"Running the Configure command: subarray obsstate should go to Ready\")\n",
    "\n",
    "with open(CONFIGURE_SCAN_FILE, encoding=\"utf-8\") as f:\n",
    "    configure_scan_json = json.load(f)\n",
    "\n",
    "print(f\"\\nconfigure_scan_json file contents: \\n{configure_scan_json}\")\n",
    "\n",
    "print(json.dumps(configure_scan_json))"
   ]
  },
  {
   "cell_type": "markdown",
   "metadata": {},
   "source": [
    "Send the configuration, and wait for the TMC to go to ready:"
   ]
  },
  {
   "cell_type": "code",
   "execution_count": null,
   "metadata": {},
   "outputs": [],
   "source": [
    "tmc_subarray.Configure(json.dumps(configure_scan_json))\n",
    "wait_for_state(tmc_subarray, 4)\n",
    "print(f\"SDP Subarray Observation State: {sdp_subarray_leaf_node_dp.sdpSubarrayObsState}\")\n",
    "print(f\"CSP Subarray Observation State: {csp_subarray_leaf_node_dp.cspSubarrayObsState}\")"
   ]
  },
  {
   "cell_type": "markdown",
   "metadata": {},
   "source": [
    "### 3.2 Running a Non-Offset Scan"
   ]
  },
  {
   "cell_type": "markdown",
   "metadata": {},
   "source": [
    "Now, the scan itself can be run by sending the command to the TMC:"
   ]
  },
  {
   "cell_type": "markdown",
   "metadata": {},
   "source": [
    "**Currently this method will get stuck in the configuring stage, use the following cell to get around this**\n",
    "**Pending SKB-399**"
   ]
  },
  {
   "cell_type": "code",
   "execution_count": null,
   "metadata": {},
   "outputs": [],
   "source": [
    "print(\"Running the Scan command: subarray obsstate should go to Scanning\")\n",
    "\n",
    "with open(SCAN_FILE, encoding=\"utf-8\") as f:\n",
    "    scan_json = f.read()\n",
    "\n",
    "print(f\"\\nscan_json file contents: \\n{scan_json}\")\n",
    "\n",
    "tmc_subarray.Scan(scan_json)\n",
    "\n",
    "sleep(2)\n",
    "wait_for_state(cbf_subarray, 5)\n",
    "print(f\"\\nCBF Subarray Observation State: {cbf_subarray.obsState}\")"
   ]
  },
  {
   "cell_type": "markdown",
   "metadata": {},
   "source": [
    "For the moment, run this instead to get around the configuration issue:"
   ]
  },
  {
   "cell_type": "code",
   "execution_count": null,
   "metadata": {},
   "outputs": [],
   "source": [
    "with open(\"../../data/psi/tmc/scan.json\", \"r\", encoding=\"utf-8\") as json_data:\n",
    "    d = json.load(json_data)\n",
    "    sdp_scan = d[\"sdp\"]\n",
    "    print(sdp_scan)\n",
    "    sdp_subarray_leaf_node_dp.scan(json.dumps(sdp_scan))\n",
    "\n",
    "sleep(10)\n",
    "print(sdp_subarray_leaf_node_dp.sdpSubarrayObsState)\n",
    "\n",
    "with open(\"../../data/psi/tmc/scan.json\", \"r\", encoding=\"utf-8\") as json_data:\n",
    "    d = json.load(json_data)\n",
    "    csp_scan = d[\"csp\"]\n",
    "    print(csp_scan)\n",
    "    csp_subarray_leaf_node_dp.scan(json.dumps(csp_scan))\n",
    "\n",
    "sleep(2)\n",
    "print(csp_subarray_leaf_node_dp.cspSubarrayObsState)"
   ]
  },
  {
   "cell_type": "markdown",
   "metadata": {},
   "source": [
    "### 3.3 Ending Initial Scan\n"
   ]
  },
  {
   "cell_type": "markdown",
   "metadata": {},
   "source": [
    "After allowing the scan to run for a while, end it via the appropriate command:"
   ]
  },
  {
   "cell_type": "markdown",
   "metadata": {},
   "source": [
    "**As above, this cannot be run until SKB-399 is resolved**"
   ]
  },
  {
   "cell_type": "code",
   "execution_count": null,
   "metadata": {},
   "outputs": [],
   "source": [
    "print(\"Running the End Scan command: subarray obsstate should go to Ready state\")\n",
    "\n",
    "tmc_subarray.EndScan()\n",
    "wait_for_state(tmc_subarray, 4)\n",
    "print(f\"\\nTMC Subarray Observation State: {tmc_subarray.obsState}\")"
   ]
  },
  {
   "cell_type": "markdown",
   "metadata": {},
   "source": [
    "Use this method in the meantime:"
   ]
  },
  {
   "cell_type": "code",
   "execution_count": null,
   "metadata": {},
   "outputs": [],
   "source": [
    "print(\"Running the End Scan command: subarray obsstate should go to Ready state\")\n",
    "\n",
    "sdp_subarray_leaf_node_dp.EndScan()\n",
    "sleep(2)\n",
    "csp_subarray_leaf_node_dp.EndScan()\n",
    "print(f\"SDP Subarray Observation State: {sdp_subarray_leaf_node_dp.sdpSubarrayObsState}\")\n",
    "print(f\"CSP Subarray Observation State: {csp_subarray_leaf_node_dp.cspSubarrayObsState}\")"
   ]
  },
  {
   "cell_type": "code",
   "execution_count": null,
   "metadata": {},
   "outputs": [],
   "source": [
    "print(f\"SDP Subarray Observation State: {sdp_subarray_leaf_node_dp.sdpSubarrayObsState}\")\n",
    "print(f\"CSP Subarray Observation State: {csp_subarray_leaf_node_dp.cspSubarrayObsState}\")"
   ]
  },
  {
   "cell_type": "markdown",
   "metadata": {},
   "source": [
    "### 3.4 Running Offset Scans for Multi-Point Calibration (Optional)"
   ]
  },
  {
   "cell_type": "markdown",
   "metadata": {},
   "source": [
    "**This is currently blocked as reconfiguration causes low-level TANGO memory allocation issues**"
   ]
  },
  {
   "cell_type": "markdown",
   "metadata": {},
   "source": [
    "Now, loop through the offset scans, using the combos to set the scan json. For each, configure it by passing in JSON, then scan again, letting it run before stopping."
   ]
  },
  {
   "cell_type": "code",
   "execution_count": null,
   "metadata": {},
   "outputs": [],
   "source": [
    "count = 4\n",
    "sdp_subarray_leaf_node_dp.EndScan()\n",
    "\n",
    "for offset in SCAN_COMBOS:\n",
    "    print(f\"setting offset to: {offset}\")\n",
    "\n",
    "    # Configure for this offset scan\n",
    "    partial_configure_json = {\n",
    "        \"interface\": \"https://schema.skao.int/ska-tmc-configure/2.2\",\n",
    "        \"transaction_id\": f\"txn-....-0000{count}\",\n",
    "        \"scan_id\": count,\n",
    "        \"pointing\": {\"target\": {\"ca_offset_arcsec\": offset[0], \"ie_offset_arcsec\": offset[1]}},\n",
    "        \"tmc\": {\"partial_configuration\": True},\n",
    "    }\n",
    "    print(\"Partial Config to load:\")\n",
    "    print(json.dumps(partial_configure_json, indent=1))\n",
    "    print(\".......\")\n",
    "    sdp_subarray_leaf_node_dp.Configure(json.dumps(partial_configure_json))\n",
    "    wait_for_state(cbf_subarray, 4)\n",
    "    sleep(10)\n",
    "    # Send the Scan command along with relevant JSON,incrementing the scan ID and transaction ID\n",
    "    partial_scan_json = {\n",
    "        \"interface\": \"https://schema.skao.int/ska-tmc-scan/2.1\",\n",
    "        \"transaction_id\": f\"txn-....-0000{count+4}\",\n",
    "        \"scan_id\": 2 + count,\n",
    "    }\n",
    "    sdp_subarray_leaf_node_dp.Scan(json.dumps(partial_scan_json))\n",
    "    wait_for_state(cbf_subarray, 5)\n",
    "    # let the scan run for a bit...\n",
    "    sleep(200)\n",
    "    sdp_subarray_leaf_node_dp.EndScan()\n",
    "    wait_for_state(cbf_subarray, 4)\n",
    "\n",
    "    count += 1\n",
    "    print(\"============================\")\n",
    "print(\"Done offsets!\")"
   ]
  },
  {
   "cell_type": "markdown",
   "metadata": {},
   "source": [
    "## 4 Cleanup"
   ]
  },
  {
   "cell_type": "markdown",
   "metadata": {},
   "source": [
    "Now that the scan(s) are complete, the namespace and devices can be shut down and cleaned up:"
   ]
  },
  {
   "cell_type": "markdown",
   "metadata": {},
   "source": [
    "Start by ending any running scans."
   ]
  },
  {
   "cell_type": "markdown",
   "metadata": {},
   "source": [
    "**For use when SKB-399 is resolved:**"
   ]
  },
  {
   "cell_type": "code",
   "execution_count": null,
   "metadata": {},
   "outputs": [],
   "source": [
    "print(\"Running the End command: subarray obsstate should go to Idle state\")\n",
    "\n",
    "tmc_subarray.End()\n",
    "\n",
    "sleep(2)\n",
    "print(f\"\\nTMC Subarray Observation State: {cbf_subarray.obsState}\")"
   ]
  },
  {
   "cell_type": "markdown",
   "metadata": {},
   "source": [
    "For now use:"
   ]
  },
  {
   "cell_type": "code",
   "execution_count": null,
   "metadata": {},
   "outputs": [],
   "source": [
    "print(\"Running the End command: subarray obsstate should go to Idle state\")\n",
    "\n",
    "sdp_subarray_leaf_node_dp.End()\n",
    "sleep(2)\n",
    "csp_subarray_leaf_node_dp.End()\n",
    "\n",
    "sleep(2)\n",
    "print(f\"SDP Subarray Observation State: {sdp_subarray_leaf_node_dp.sdpSubarrayObsState}\")\n",
    "print(f\"CSP Subarray Observation State: {csp_subarray_leaf_node_dp.cspSubarrayObsState}\")"
   ]
  },
  {
   "cell_type": "code",
   "execution_count": null,
   "metadata": {},
   "outputs": [],
   "source": [
    "print(f\"SDP Subarray Observation State: {sdp_subarray_leaf_node_dp.sdpSubarrayObsState}\")\n",
    "print(f\"CSP Subarray Observation State: {csp_subarray_leaf_node_dp.cspSubarrayObsState}\")"
   ]
  },
  {
   "cell_type": "markdown",
   "metadata": {},
   "source": [
    "### 4.1 Release Resources"
   ]
  },
  {
   "cell_type": "markdown",
   "metadata": {},
   "source": [
    "Once the scans are stopped and finished, clear the resources from the appropriate devices."
   ]
  },
  {
   "cell_type": "markdown",
   "metadata": {},
   "source": [
    "**For use when SKB-399 is resolved:**"
   ]
  },
  {
   "cell_type": "code",
   "execution_count": null,
   "metadata": {},
   "outputs": [],
   "source": [
    "print(\n",
    "    \"Running the Release All Resources command: subarray obsstate should go to Empty state and receptor IDs should be empty\"\n",
    ")\n",
    "\n",
    "tmc_subarray.ReleaseAllResources()\n",
    "while tmc_subarray.obsState != 0:\n",
    "    sleep(5)\n",
    "    clear_output(wait=True)\n",
    "    print(f\"\\nTMC Subarray Observation State: {tmc_subarray.obsState}\")"
   ]
  },
  {
   "cell_type": "markdown",
   "metadata": {},
   "source": [
    "For now use:"
   ]
  },
  {
   "cell_type": "code",
   "execution_count": null,
   "metadata": {},
   "outputs": [],
   "source": [
    "print(\n",
    "    \"Running the Release All Resources command: subarray obsstate should go to Empty state and receptor IDs should be empty\"\n",
    ")\n",
    "\n",
    "sdp_subarray_leaf_node_dp.ReleaseAllResources()\n",
    "sleep(2)\n",
    "csp_subarray_leaf_node_dp.ReleaseAllResources()\n",
    "\n",
    "while sdp_subarray_leaf_node_dp.obsState != 0 and csp_subarray_leaf_node_dp.obsState != 0:\n",
    "    sleep(5)\n",
    "    clear_output(wait=True)\n",
    "    print(\"These should both return to EMPTY\")\n",
    "    print(f\"SDP Subarray Observation State: {sdp_subarray_leaf_node_dp.sdpSubarrayObsState}\")\n",
    "    print(f\"CSP Subarray Observation State: {csp_subarray_leaf_node_dp.cspSubarrayObsState}\")"
   ]
  },
  {
   "cell_type": "markdown",
   "metadata": {},
   "source": [
    "### 4.2 Turn the Telescope Off"
   ]
  },
  {
   "cell_type": "markdown",
   "metadata": {},
   "source": [
    "Finally, send the Off command to the TMC"
   ]
  },
  {
   "cell_type": "code",
   "execution_count": null,
   "metadata": {},
   "outputs": [],
   "source": [
    "print(\"Running the TelescopeOff command\")\n",
    "\n",
    "tmc_central_node.TelescopeOff()\n",
    "\n",
    "while tmc_central_node.State() != 1:\n",
    "    sleep(5)\n",
    "    clear_output(wait=True)\n",
    "    print(\"These should all go to OFF\")\n",
    "    print(f\"TMC Central Node State: {tmc_central_node.State()}\")\n",
    "    print(f\"CSP Control State: {csp_control.State()}\")\n",
    "    print(f\"CBF Controller State: {cbf_controller.State()}\")"
   ]
  }
 ],
 "metadata": {
  "kernelspec": {
   "display_name": "Python 3",
   "language": "python",
   "name": "python3"
  },
  "language_info": {
   "codemirror_mode": {
    "name": "ipython",
    "version": 3
   },
   "file_extension": ".py",
   "mimetype": "text/x-python",
   "name": "python",
   "nbconvert_exporter": "python",
   "pygments_lexer": "ipython3",
   "version": "3.10.14"
  }
 },
 "nbformat": 4,
 "nbformat_minor": 2
}
