{
 "cells": [
  {
   "cell_type": "markdown",
   "metadata": {},
   "source": [
    "## 1 Setup Notebook and Load Variables"
   ]
  },
  {
   "cell_type": "code",
   "execution_count": null,
   "metadata": {},
   "outputs": [],
   "source": [
    "import json\n",
    "import os\n",
    "from time import sleep\n",
    "from tango import AttributeProxy, DeviceProxy\n",
    "from datetime import datetime, timedelta, timezone\n",
    "from astropy.time import Time"
   ]
  },
  {
   "cell_type": "code",
   "execution_count": null,
   "metadata": {
    "metadata": {}
   },
   "outputs": [],
   "source": [
    "TANGO_HOST = \"10.164.10.219:10000\"\n",
    "RECEPTORS = [\"SKA001\", \"SKA036\"]\n",
    "SKA_EPOCH = \"1999-12-31T23:59:28Z\"\n",
    "\n",
    "# Config file locations\n",
    "DATA_DIR = \"../../data/mid_telescope\"\n",
    "TMC_DIR = f\"{DATA_DIR}/tmc\"\n",
    "INITIAL_PARAM = f\"{DATA_DIR}/cbf/sys_params/initial_system_param.json\"\n",
    "CSP_ASSIGN_RESOURCES = f\"{DATA_DIR}/csp/assign_resources.json\"\n",
    "TMC_ASSIGN_RESOURCES = f\"{TMC_DIR}/assign_resources.json\"\n",
    "CONFIGURE_SCAN = f\"{TMC_DIR}/configure_scan.json\"\n",
    "DELAY_MODEL = f\"{TMC_DIR}/delay_model.json\"\n",
    "SCAN_JSON = f\"{TMC_DIR}/scan.json\"\n",
    "\n",
    "# Device FQDNs\n",
    "csp_controller = \"mid-csp/control/0\"\n",
    "csp_server = \"mid-csp/subarray/01\"\n",
    "sdp_subarray = \"mid-sdp/subarray/01\"\n",
    "csp_subarray_leaf_node = \"ska_mid/tm_leaf_node/csp_subarray01\"\n",
    "sdp_subarray_leaf_node = \"ska_mid/tm_leaf_node/sdp_subarray01\"\n",
    "csp_master_leaf_node = \"ska_mid/tm_leaf_node/csp_master\"\n",
    "tm_server = \"ska_mid/tm_leaf_node/csp_subarray_01\"\n",
    "\n",
    "SIMULATED_DELAY = False"
   ]
  },
  {
   "cell_type": "code",
   "execution_count": null,
   "metadata": {
    "metadata": {}
   },
   "outputs": [],
   "source": [
    "os.environ[\"TANGO_HOST\"] = TANGO_HOST\n",
    "\n",
    "csp_controller_dp = DeviceProxy(csp_controller)\n",
    "csp_dp = DeviceProxy(csp_server)\n",
    "sdp_subarray_dp = DeviceProxy(sdp_subarray)\n",
    "csp_subarray_leaf_node_dp = DeviceProxy(csp_subarray_leaf_node)\n",
    "sdp_subarray_leaf_node_dp = DeviceProxy(sdp_subarray_leaf_node)\n",
    "csp_master_leaf_node_dp = DeviceProxy(csp_master_leaf_node)"
   ]
  },
  {
   "cell_type": "markdown",
   "metadata": {},
   "source": [
    "## 2 Load in Initial Parameters, Start Controller and Leaf Node"
   ]
  },
  {
   "cell_type": "code",
   "execution_count": null,
   "metadata": {},
   "outputs": [],
   "source": [
    "sleep(3)\n",
    "\n",
    "csp_controller_dp.adminMode = 0\n",
    "\n",
    "sleep(6)\n",
    "\n",
    "with open(\n",
    "    INITIAL_PARAM,\n",
    "    \"r\",\n",
    "    encoding=\"utf-8\",\n",
    ") as json_data:\n",
    "    d = json.load(json_data)\n",
    "    csp_controller_dp.LoadDishCfg(json.dumps(d))\n",
    "\n",
    "sleep(3)\n",
    "print(csp_controller_dp.sourceDishVccConfig)\n",
    "sleep(3)\n",
    "csp_controller_dp.commandTimeout = 100\n",
    "\n",
    "csp_controller_dp.cbfSimulationMode = False\n",
    "sleep(3)\n",
    "csp_master_leaf_node_dp.On()\n",
    "\n",
    "# WAIT 100 Seconds"
   ]
  },
  {
   "cell_type": "markdown",
   "metadata": {},
   "source": [
    "## 3 Assign Resources"
   ]
  },
  {
   "cell_type": "markdown",
   "metadata": {},
   "source": [
    "### 3.1 CSP Assign Resources"
   ]
  },
  {
   "cell_type": "code",
   "execution_count": null,
   "metadata": {
    "metadata": {}
   },
   "outputs": [],
   "source": [
    "with open(CSP_ASSIGN_RESOURCES, \"r\", encoding=\"utf-8\") as json_data:\n",
    "    assign_resources_csp = json.load(json_data)\n",
    "    assign_resources_csp[\"dish\"][\"receptor_ids\"] = RECEPTORS\n",
    "    print(assign_resources_csp)\n",
    "    csp_subarray_leaf_node_dp.AssignResources(json.dumps(assign_resources_csp))\n",
    "\n",
    "sleep(5)\n",
    "\n",
    "print(csp_dp.obsState)"
   ]
  },
  {
   "cell_type": "markdown",
   "metadata": {},
   "source": [
    "### 3.2 SDP Assign Resources"
   ]
  },
  {
   "cell_type": "code",
   "execution_count": null,
   "metadata": {},
   "outputs": [],
   "source": [
    "sdp_subarray_leaf_node_dp.On()\n",
    "\n",
    "sleep(3)\n",
    "\n",
    "with open(TMC_ASSIGN_RESOURCES, \"r\", encoding=\"utf-8\") as json_data:\n",
    "    d = json.load(json_data)\n",
    "    sdp_assign_resources = d[\"sdp\"]\n",
    "    sdp_assign_resources[\"resources\"][\"receptors\"] = RECEPTORS\n",
    "    sdp_subarray_leaf_node_dp.AssignResources(json.dumps(sdp_assign_resources))\n",
    "\n",
    "sleep(10)\n",
    "print(sdp_subarray_dp.obsState)"
   ]
  },
  {
   "cell_type": "code",
   "execution_count": null,
   "metadata": {},
   "outputs": [],
   "source": [
    "receive_addresses = json.loads(sdp_subarray_dp.receiveAddresses)\n",
    "print(receive_addresses)\n",
    "print(receive_addresses[\"science\"][\"vis0\"][\"host\"][0][1])"
   ]
  },
  {
   "cell_type": "markdown",
   "metadata": {},
   "source": [
    "## 4 Configure Scans"
   ]
  },
  {
   "cell_type": "markdown",
   "metadata": {},
   "source": [
    "### 4.1 CSP Configure Scan"
   ]
  },
  {
   "cell_type": "code",
   "execution_count": null,
   "metadata": {
    "metadata": {}
   },
   "outputs": [],
   "source": [
    "receive_addresses = json.loads(sdp_subarray_dp.receiveAddresses)\n",
    "\n",
    "sleep(1)\n",
    "\n",
    "with open(CONFIGURE_SCAN, \"r\", encoding=\"utf-8\") as json_data:\n",
    "    d = json.load(json_data)\n",
    "    csp_configure_scan = d[\"csp\"]\n",
    "    csp_configure_scan[\"cbf\"][\"fsp\"][0][\"output_host\"] = [[]]\n",
    "    if SIMULATED_DELAY is True:\n",
    "        csp_configure_scan[\"cbf\"][\n",
    "            \"delay_model_subscription_point\"\n",
    "        ] = \"ska_mid/tm_leaf_node/csp_subarray_01/delayModel\"\n",
    "    else:\n",
    "        csp_configure_scan[\"cbf\"][\n",
    "            \"delay_model_subscription_point\"\n",
    "        ] = \"ska_mid/tm_leaf_node/csp_subarray01/delayModel\"\n",
    "    csp_configure_scan[\"cbf\"][\"fsp\"][0][\"output_host\"][0] = [\n",
    "        0,\n",
    "        receive_addresses[\"science\"][\"vis0\"][\"host\"][0][1],\n",
    "    ]\n",
    "    csp_configure_scan[\"cbf\"][\"fsp\"][0][\"output_port\"] = [[0, 21000, 1]]\n",
    "    print(csp_configure_scan)\n",
    "    csp_subarray_leaf_node_dp.Configure(json.dumps(csp_configure_scan))\n",
    "\n",
    "sleep(12)\n",
    "print(csp_dp.obsState)"
   ]
  },
  {
   "cell_type": "markdown",
   "metadata": {},
   "source": [
    "### 4.2 SIMULATE DELAY MODELS (OPTIONAL)"
   ]
  },
  {
   "cell_type": "code",
   "execution_count": null,
   "metadata": {},
   "outputs": [],
   "source": [
    "ska_epoch_utc = Time(SKA_EPOCH, scale=\"utc\")\n",
    "ska_epoch_tai = ska_epoch_utc.unix_tai\n",
    "\n",
    "start_utc_time = Time(datetime.now(timezone.utc) + timedelta(seconds=5), scale=\"utc\")\n",
    "\n",
    "target_epoch = start_utc_time.unix_tai - ska_epoch_tai\n",
    "\n",
    "with open(DELAY_MODEL, encoding=\"utf-8\") as f:\n",
    "    delay_model = json.load(f)\n",
    "delayModelProxy = DeviceProxy(\"ska_mid/tm_leaf_node/csp_subarray_01\")\n",
    "delay_model[\"start_validity_sec\"] = target_epoch\n",
    "print(json.dumps(delay_model))\n",
    "\n",
    "\n",
    "tm_dp = DeviceProxy(tm_server)\n",
    "tm_dp.delayModel = json.dumps(delay_model)"
   ]
  },
  {
   "cell_type": "markdown",
   "metadata": {},
   "source": [
    "### 4.3 SDP Configure Scan"
   ]
  },
  {
   "cell_type": "code",
   "execution_count": null,
   "metadata": {},
   "outputs": [],
   "source": [
    "with open(CONFIGURE_SCAN, \"r\", encoding=\"utf-8\") as json_data:\n",
    "    d = json.load(json_data)\n",
    "    sdp_configure_Scan = d[\"sdp\"]\n",
    "    print(sdp_configure_Scan)\n",
    "    sdp_subarray_leaf_node_dp.configure(json.dumps(sdp_configure_Scan))\n",
    "\n",
    "sleep(3)\n",
    "print(sdp_subarray_dp.obsState)"
   ]
  },
  {
   "cell_type": "markdown",
   "metadata": {},
   "source": [
    "## 5 Start Scans"
   ]
  },
  {
   "cell_type": "markdown",
   "metadata": {},
   "source": [
    "### 5.1 SDP Scan"
   ]
  },
  {
   "cell_type": "code",
   "execution_count": null,
   "metadata": {},
   "outputs": [],
   "source": [
    "with open(SCAN_JSON, \"r\", encoding=\"utf-8\") as json_data:\n",
    "    d = json.load(json_data)\n",
    "    sdp_scan = d[\"sdp\"]\n",
    "    print(sdp_scan)\n",
    "    sdp_subarray_leaf_node_dp.scan(json.dumps(sdp_scan))\n",
    "\n",
    "sleep(10)\n",
    "print(sdp_subarray_dp.obsState)"
   ]
  },
  {
   "cell_type": "markdown",
   "metadata": {},
   "source": [
    "### 5.2 CSP Scan"
   ]
  },
  {
   "cell_type": "code",
   "execution_count": null,
   "metadata": {
    "metadata": {}
   },
   "outputs": [],
   "source": [
    "with open(SCAN_JSON, \"r\", encoding=\"utf-8\") as json_data:\n",
    "    d = json.load(json_data)\n",
    "    csp_scan = d[\"csp\"]\n",
    "    print(csp_scan)\n",
    "    csp_subarray_leaf_node_dp.scan(json.dumps(csp_scan))\n",
    "\n",
    "sleep(2)\n",
    "print(csp_dp.obsState)"
   ]
  },
  {
   "cell_type": "markdown",
   "metadata": {},
   "source": [
    "## 6 Cleanup"
   ]
  },
  {
   "cell_type": "markdown",
   "metadata": {},
   "source": [
    "### 6.1 Cleanup CSP"
   ]
  },
  {
   "cell_type": "code",
   "execution_count": null,
   "metadata": {
    "metadata": {}
   },
   "outputs": [],
   "source": [
    "csp_subarray_leaf_node_dp.EndScan()\n",
    "sleep(4)\n",
    "csp_subarray_leaf_node_dp.End()\n",
    "sleep(4)\n",
    "csp_subarray_leaf_node_dp.ReleaseAllResources()"
   ]
  },
  {
   "cell_type": "markdown",
   "metadata": {},
   "source": [
    "### 6.2 Cleanup SDP"
   ]
  },
  {
   "cell_type": "code",
   "execution_count": null,
   "metadata": {
    "metadata": {}
   },
   "outputs": [],
   "source": [
    "sdp_subarray_leaf_node_dp.EndScan()\n",
    "# sdp_subarray_leaf_node_dp.End()\n",
    "# sdp_subarray_leaf_node_dp.ReleaseAllResources()"
   ]
  },
  {
   "cell_type": "markdown",
   "metadata": {},
   "source": [
    "### 6.3 Turn Off CSP"
   ]
  },
  {
   "cell_type": "code",
   "execution_count": null,
   "metadata": {},
   "outputs": [],
   "source": [
    "csp_master_leaf_node_dp.Off()"
   ]
  }
 ],
 "metadata": {
  "kernelspec": {
   "display_name": "Python 3",
   "language": "python",
   "name": "python3"
  },
  "language_info": {
   "codemirror_mode": {
    "name": "ipython",
    "version": 3
   },
   "file_extension": ".py",
   "mimetype": "text/x-python",
   "name": "python",
   "nbconvert_exporter": "python",
   "pygments_lexer": "ipython3",
   "version": "3.10.13"
  }
 },
 "nbformat": 4,
 "nbformat_minor": 2
}
