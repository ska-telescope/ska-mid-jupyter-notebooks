{
 "cells": [
  {
   "cell_type": "code",
   "execution_count": null,
   "metadata": {
    "metadata": {}
   },
   "outputs": [],
   "source": [
    "TANGO_HOST = \"10.164.10.219:10000\"\n",
    "RECEPTORS = [\"SKA001\", \"SKA036\"]"
   ]
  },
  {
   "cell_type": "code",
   "execution_count": null,
   "metadata": {
    "metadata": {}
   },
   "outputs": [],
   "source": [
    "import json\n",
    "import os\n",
    "from datetime import datetime\n",
    "from time import sleep\n",
    "\n",
    "from tango import AttributeProxy, DeviceProxy\n",
    "\n",
    "os.environ[\"TANGO_HOST\"] = TANGO_HOST\n",
    "\n",
    "csp_controller = \"mid-csp/control/0\"\n",
    "csp_server = \"mid-csp/subarray/01\"\n",
    "sdp_subarray = \"mid-sdp/subarray/01\"\n",
    "csp_subarray_leaf_node = \"ska_mid/tm_leaf_node/csp_subarray01\"\n",
    "sdp_subarray_leaf_node = \"ska_mid/tm_leaf_node/sdp_subarray01\"\n",
    "csp_master_leaf_node = \"ska_mid/tm_leaf_node/csp_master\"\n",
    "\n",
    "csp_controller_dp = DeviceProxy(csp_controller)\n",
    "csp_dp = DeviceProxy(csp_server)\n",
    "sdp_subarray_dp = DeviceProxy(sdp_subarray)\n",
    "csp_subarray_leaf_node_dp = DeviceProxy(csp_subarray_leaf_node)\n",
    "sdp_subarray_leaf_node_dp = DeviceProxy(sdp_subarray_leaf_node)\n",
    "csp_master_leaf_node_dp = DeviceProxy(csp_master_leaf_node)\n",
    "\n",
    "SIMULATED_DELAY = False\n"
   ]
  },
  {
   "cell_type": "code",
   "execution_count": null,
   "metadata": {},
   "outputs": [],
   "source": [
    "sleep(3)\n",
    "\n",
    "csp_controller_dp.adminMode = 0\n",
    "\n",
    "sleep(6)\n",
    "\n",
    "with open(\n",
    "    \"../../data/mid_telescope/cbf/sys_params/initial_system_param.json\", \"r\", encoding=\"utf-8\"\n",
    ") as json_data:\n",
    "    d = json.load(json_data)\n",
    "    csp_controller_dp.LoadDishCfg(json.dumps(d))\n",
    "\n",
    "sleep(3)\n",
    "print(csp_controller_dp.sourceDishVccConfig)\n",
    "sleep(3)\n",
    "csp_controller_dp.commandTimeout = 100\n",
    "\n",
    "csp_controller_dp.cbfSimulationMode = False\n",
    "sleep(3)\n",
    "csp_master_leaf_node_dp.On()\n",
    "\n",
    "# WAIT 100 Seconds"
   ]
  },
  {
   "cell_type": "markdown",
   "metadata": {},
   "source": [
    "### CSP Assign Resources"
   ]
  },
  {
   "cell_type": "code",
   "execution_count": null,
   "metadata": {
    "metadata": {}
   },
   "outputs": [],
   "source": [
    "with open(\n",
    "    \"../../data/mid_telescope/csp/assign_resources.json\", \"r\", encoding=\"utf-8\"\n",
    ") as json_data:\n",
    "    assign_resources_csp = json.load(json_data)\n",
    "    assign_resources_csp[\"dish\"][\"receptor_ids\"] = RECEPTORS\n",
    "    print(assign_resources_csp)\n",
    "    csp_subarray_leaf_node_dp.AssignResources(json.dumps(assign_resources_csp))\n",
    "\n",
    "sleep(5)\n",
    "\n",
    "print(csp_dp.obsState)"
   ]
  },
  {
   "cell_type": "markdown",
   "metadata": {},
   "source": [
    "### SDP Assign Resources"
   ]
  },
  {
   "cell_type": "code",
   "execution_count": null,
   "metadata": {},
   "outputs": [],
   "source": [
    "sdp_subarray_leaf_node_dp.On()\n",
    "\n",
    "sleep(3)\n",
    "\n",
    "with open(\n",
    "    \"../../data/mid_telescope/tmc/assign_resources.json\", \"r\", encoding=\"utf-8\"\n",
    ") as json_data:\n",
    "    d = json.load(json_data)\n",
    "    sdp_assign_resources = d[\"sdp\"]\n",
    "    sdp_assign_resources[\"resources\"][\"receptors\"] = RECEPTORS\n",
    "    sdp_subarray_leaf_node_dp.AssignResources(json.dumps(sdp_assign_resources))\n",
    "\n",
    "sleep(10)\n",
    "print(sdp_subarray_dp.obsState)"
   ]
  },
  {
   "cell_type": "code",
   "execution_count": null,
   "metadata": {},
   "outputs": [],
   "source": [
    "receive_addresses = json.loads(sdp_subarray_dp.receiveAddresses)\n",
    "print(receive_addresses)\n",
    "print(receive_addresses[\"science\"][\"vis0\"][\"host\"][0][1])"
   ]
  },
  {
   "cell_type": "markdown",
   "metadata": {},
   "source": [
    "### CSP Configure Scan"
   ]
  },
  {
   "cell_type": "code",
   "execution_count": null,
   "metadata": {
    "metadata": {}
   },
   "outputs": [],
   "source": [
    "receive_addresses = json.loads(sdp_subarray_dp.receiveAddresses)\n",
    "\n",
    "sleep(1)\n",
    "\n",
    "with open(\"../../data/mid_telescope/tmc/configure_scan.json\", \"r\", encoding=\"utf-8\") as json_data:\n",
    "    d = json.load(json_data)\n",
    "    csp_configure_scan = d[\"csp\"]\n",
    "    csp_configure_scan[\"cbf\"][\"fsp\"][0][\"output_host\"] = [[]]\n",
    "    if SIMULATED_DELAY == True:\n",
    "        csp_configure_scan[\"cbf\"][\"delay_model_subscription_point\"] = \"ska_mid/tm_leaf_node/csp_subarray_01/delayModel\"\n",
    "    else:\n",
    "        csp_configure_scan[\"cbf\"][\"delay_model_subscription_point\"] = \"ska_mid/tm_leaf_node/csp_subarray01/delayModel\"\n",
    "    csp_configure_scan[\"cbf\"][\"fsp\"][0][\"output_host\"][0] = [0, receive_addresses[\"science\"][\"vis0\"][\"host\"][0][1]]\n",
    "    csp_configure_scan[\"cbf\"][\"fsp\"][0][\"output_port\"] = [[0, 21000, 1]]\n",
    "    print(csp_configure_scan)\n",
    "    csp_subarray_leaf_node_dp.Configure(json.dumps(csp_configure_scan))\n",
    "\n",
    "sleep(12)\n",
    "print(csp_dp.obsState)"
   ]
  },
  {
   "cell_type": "markdown",
   "metadata": {},
   "source": [
    "### SIMULATE DELAY MODELS (OPTIONAL)"
   ]
  },
  {
   "cell_type": "code",
   "execution_count": null,
   "metadata": {},
   "outputs": [],
   "source": [
    "from astropy.time import Time\n",
    "from datetime import datetime, timedelta, timezone\n",
    "\n",
    "SKA_EPOCH = \"1999-12-31T23:59:28Z\"\n",
    "ska_epoch_utc = Time(SKA_EPOCH, scale=\"utc\")\n",
    "ska_epoch_tai = ska_epoch_utc.unix_tai\n",
    "\n",
    "start_utc_time = Time(\n",
    "        datetime.now(timezone.utc) + timedelta(seconds=5), scale=\"utc\"\n",
    "    )\n",
    "\n",
    "target_epoch = start_utc_time.unix_tai - ska_epoch_tai\n",
    "\n",
    "with open(\"../../data/mid_telescope/tmc/delay_model.json\", encoding=\"utf-8\") as f:\n",
    "    delay_model = json.load(f)\n",
    "delayModelProxy = DeviceProxy(\"ska_mid/tm_leaf_node/csp_subarray_01\")\n",
    "delay_model[\"start_validity_sec\"] = target_epoch\n",
    "print(json.dumps(delay_model))\n",
    "\n",
    "\n",
    "tm_server = \"ska_mid/tm_leaf_node/csp_subarray_01\"\n",
    "tm_dp = DeviceProxy(tm_server)\n",
    "tm_dp.delayModel = json.dumps(delay_model)"
   ]
  },
  {
   "cell_type": "markdown",
   "metadata": {},
   "source": [
    "### SDP Configure Scan"
   ]
  },
  {
   "cell_type": "code",
   "execution_count": null,
   "metadata": {},
   "outputs": [],
   "source": [
    "with open(\"../../data/mid_telescope/tmc/configure_scan.json\", \"r\", encoding=\"utf-8\") as json_data:\n",
    "    d = json.load(json_data)\n",
    "    sdp_configure_Scan = d[\"sdp\"]\n",
    "    print(sdp_configure_Scan)\n",
    "    sdp_subarray_leaf_node_dp.configure(json.dumps(sdp_configure_Scan))\n",
    "\n",
    "sleep(3)\n",
    "print(sdp_subarray_dp.obsState)"
   ]
  },
  {
   "cell_type": "markdown",
   "metadata": {},
   "source": [
    "### SDP Scan"
   ]
  },
  {
   "cell_type": "code",
   "execution_count": null,
   "metadata": {},
   "outputs": [],
   "source": [
    "with open(\"../../data/mid_telescope/tmc/scan.json\", \"r\", encoding=\"utf-8\") as json_data:\n",
    "    d = json.load(json_data)\n",
    "    sdp_scan = d[\"sdp\"]\n",
    "    print(sdp_scan)\n",
    "    sdp_subarray_leaf_node_dp.scan(json.dumps(sdp_scan))\n",
    "\n",
    "sleep(10)\n",
    "print(sdp_subarray_dp.obsState)"
   ]
  },
  {
   "cell_type": "markdown",
   "metadata": {},
   "source": [
    "### CSP Scan"
   ]
  },
  {
   "cell_type": "code",
   "execution_count": null,
   "metadata": {
    "metadata": {}
   },
   "outputs": [],
   "source": [
    "with open(\"../../data/mid_telescope/tmc/scan.json\", \"r\", encoding=\"utf-8\") as json_data:\n",
    "    d = json.load(json_data)\n",
    "    csp_scan = d[\"csp\"]\n",
    "    print(csp_scan)\n",
    "    csp_subarray_leaf_node_dp.scan(json.dumps(csp_scan))\n",
    "\n",
    "sleep(2)\n",
    "print(csp_dp.obsState)"
   ]
  },
  {
   "cell_type": "markdown",
   "metadata": {},
   "source": [
    "### Cleanup CSP"
   ]
  },
  {
   "cell_type": "code",
   "execution_count": null,
   "metadata": {
    "metadata": {}
   },
   "outputs": [],
   "source": [
    "csp_subarray_leaf_node_dp.EndScan()\n",
    "sleep(4)\n",
    "csp_subarray_leaf_node_dp.End()\n",
    "sleep(4)\n",
    "csp_subarray_leaf_node_dp.ReleaseAllResources()"
   ]
  },
  {
   "cell_type": "markdown",
   "metadata": {},
   "source": [
    "### Cleanup SDP"
   ]
  },
  {
   "cell_type": "code",
   "execution_count": null,
   "metadata": {
    "metadata": {}
   },
   "outputs": [],
   "source": [
    "sdp_subarray_leaf_node_dp.EndScan()\n",
    "#sdp_subarray_leaf_node_dp.End()\n",
    "#sdp_subarray_leaf_node_dp.ReleaseAllResources()"
   ]
  },
  {
   "cell_type": "markdown",
   "metadata": {},
   "source": [
    "### Turn Off CSP"
   ]
  },
  {
   "cell_type": "code",
   "execution_count": null,
   "metadata": {},
   "outputs": [],
   "source": [
    "csp_master_leaf_node_dp.Off()"
   ]
  }
 ],
 "metadata": {
  "kernelspec": {
   "display_name": "Python 3",
   "language": "python",
   "name": "python3"
  },
  "language_info": {
   "codemirror_mode": {
    "name": "ipython",
    "version": 3
   },
   "file_extension": ".py",
   "mimetype": "text/x-python",
   "name": "python",
   "nbconvert_exporter": "python",
   "pygments_lexer": "ipython3",
   "version": "3.10.12"
  }
 },
 "nbformat": 4,
 "nbformat_minor": 2
}
