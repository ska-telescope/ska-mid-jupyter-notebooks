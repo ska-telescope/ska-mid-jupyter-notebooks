{
 "cells": [
  {
   "cell_type": "markdown",
   "metadata": {},
   "source": [
    "# BITE Data Generation"
   ]
  },
  {
   "cell_type": "markdown",
   "metadata": {},
   "source": [
    "This notebook is intended to be used in conjunction with an E2E notebook (hereinafter referred to as the main notebook)."
   ]
  },
  {
   "cell_type": "markdown",
   "metadata": {},
   "source": [
    "### 1.1 Prerequisites"
   ]
  },
  {
   "cell_type": "markdown",
   "metadata": {},
   "source": [
    "Before running this notebook, ensure the following is met: \n",
    "* A namespace running from the [SKA-mid-psi](https://gitlab.com/ska-telescope/ska-mid-psi) pipeline deploy step, or a compatible one.\n",
    "* A virtual env with [poetry](https://python-poetry.org/docs/basic-usage/#installing-dependencies) run on it to ensure all requirements are installed.\n",
    "* Python 3.10 and the above venv selected as the interpreter for the notebook. "
   ]
  },
  {
   "cell_type": "markdown",
   "metadata": {},
   "source": [
    "### 1.2 Set Variables\n",
    "\n",
    "Update the namespace `ns` and the `test_id` if necessary and set the `TANGO_HOST` environment variable. "
   ]
  },
  {
   "cell_type": "code",
   "execution_count": null,
   "metadata": {},
   "outputs": [],
   "source": [
    "import json\n",
    "import os\n",
    "from tango import Database, DevFailed, DeviceProxy\n",
    "\n",
    "# --Required Vars--\n",
    "ns = \"ci-ska-mid-psi-1387054764-maecst\"  # UPDATE THIS FOR RUN\n",
    "\n",
    "test_id = \"talon3 basic gaussian noise\"  # UPDATE THIS if a diff dataset from the CBF Input Data is needed to generate the BITE data later\n",
    "\n",
    "TANGO_HOST = \"databaseds-tango-base.\" + ns + \".svc.cluster.local:10000\"\n",
    "print(\"TANGO DB HOST: \", TANGO_HOST)\n",
    "os.environ[\"TANGO_HOST\"] = TANGO_HOST"
   ]
  },
  {
   "cell_type": "markdown",
   "metadata": {},
   "source": [
    "### 1.3 Set Config Variables\n",
    "\n",
    "Set the locations of JSON files for configuring BITE generation. These should not need to be changed."
   ]
  },
  {
   "cell_type": "code",
   "execution_count": null,
   "metadata": {},
   "outputs": [],
   "source": [
    "print(\"Getting files...\")\n",
    "\n",
    "# Parent directory to use to grab config files.\n",
    "DATA_DIR = os.path.join(os.path.dirname(os.path.dirname(os.getcwd())), \"data\")\n",
    "\n",
    "# Config file directories\n",
    "CBF_CONFIGS = os.path.join(DATA_DIR, \"psi/cbf\")\n",
    "CBF_INPUT_DIR = os.path.join(CBF_CONFIGS, \"cbf_input_data\")\n",
    "\n",
    "# Config files needed for BITE generation\n",
    "CBF_INPUT_FILE = f\"{CBF_INPUT_DIR}/cbf_input_data.json\"\n",
    "BITE_CONFIG_FILE = f\"{CBF_INPUT_DIR}/bite_config_parameters/bite_configs.json\"\n",
    "FILTERS_FILE = f\"{CBF_INPUT_DIR}/bite_config_parameters/filters.json\"\n",
    "\n",
    "files = [\n",
    "    CBF_INPUT_FILE,\n",
    "    BITE_CONFIG_FILE,\n",
    "    FILTERS_FILE,\n",
    "]\n",
    "\n",
    "for file in files:\n",
    "    if os.path.isfile(file):\n",
    "        print(f\"{file} exists: ✔️\")\n",
    "    else:\n",
    "        print(f\"{file} does not exist ❌\")\n",
    "\n",
    "print(\"\\nDONE\")"
   ]
  },
  {
   "cell_type": "markdown",
   "metadata": {},
   "source": [
    "## 2 Load in Config Data"
   ]
  },
  {
   "cell_type": "markdown",
   "metadata": {},
   "source": [
    "NOTE: This step needs to execute after the Load Dish Config Command has been executed in the main notebook.\n",
    "\n",
    "Create a device proxy to the BITE device server and load in the necessary configuration files."
   ]
  },
  {
   "cell_type": "code",
   "execution_count": null,
   "metadata": {},
   "outputs": [],
   "source": [
    "bite = DeviceProxy(\"mid_csp_cbf/ec/bite\")\n",
    "tmc_csp_master = DeviceProxy(\"ska_mid/tm_leaf_node/csp_master\")\n",
    "\n",
    "dishVccConfig = json.loads(tmc_csp_master.dishVccConfig)\n",
    "print(f\"dishVccConfig from CSP Master: \\n{dishVccConfig}\\n\")\n",
    "\n",
    "with open(CBF_INPUT_FILE, encoding=\"utf-8\") as f:\n",
    "    cbf_input_json = json.load(f)[\"cbf_input_data\"][test_id]\n",
    "    receptors = cbf_input_json[\"receptors\"]\n",
    "\n",
    "    # ensure that the k-values in the cbf_input_json correctly match\n",
    "    # the k-values from the dishVccConfig that was loaded in earlier\n",
    "    for receptor in receptors:\n",
    "        dish_id = receptor[\"dish_id\"]\n",
    "        k_value = dishVccConfig[\"dish_parameters\"][dish_id][\"k\"]\n",
    "        receptor[\"sample_rate_k\"]=k_value\n",
    "\n",
    "    cbf_input_data = json.dumps(cbf_input_json)\n",
    "    print(\"CBF Input Data used to generate BITE data:\")\n",
    "    print(cbf_input_data)\n",
    "\n",
    "bite.load_cbf_input_data(cbf_input_data)"
   ]
  },
  {
   "cell_type": "code",
   "execution_count": null,
   "metadata": {},
   "outputs": [],
   "source": [
    "with open(BITE_CONFIG_FILE, encoding=\"utf-8\") as f:\n",
    "    bite_config_data = json.dumps(json.load(f))\n",
    "    print(\"BITE configs:\\n\")\n",
    "    print(bite_config_data)\n",
    "\n",
    "bite.load_bite_config_data(bite_config_data)"
   ]
  },
  {
   "cell_type": "code",
   "execution_count": null,
   "metadata": {},
   "outputs": [],
   "source": [
    "with open(FILTERS_FILE, encoding=\"utf-8\") as f:\n",
    "    filter_data = json.dumps(json.load(f))\n",
    "    print(\"Filters:\\n\")\n",
    "    print(filter_data)\n",
    "\n",
    "bite.load_filter_data(filter_data)"
   ]
  },
  {
   "cell_type": "markdown",
   "metadata": {},
   "source": [
    "## 3 Generate the BITE data\n",
    "\n",
    "After the TelescopeOn command is executed in the main notebook, the generate_bite_data command can be executed:"
   ]
  },
  {
   "cell_type": "code",
   "execution_count": null,
   "metadata": {},
   "outputs": [],
   "source": [
    "# monitor the kubectl logs\n",
    "# kubectl logs -n $ns ds-bite-bite-0 -f\n",
    "\n",
    "bite.set_timeout_millis(240000)\n",
    "bite.generate_bite_data()\n",
    "bite.set_timeout_millis(3000)"
   ]
  },
  {
   "cell_type": "markdown",
   "metadata": {},
   "source": [
    "PAUSE: Return to the main notebook to execute Assign Resources."
   ]
  },
  {
   "cell_type": "markdown",
   "metadata": {},
   "source": [
    "## 4 Start LSTV Replay"
   ]
  },
  {
   "cell_type": "markdown",
   "metadata": {},
   "source": [
    "When Assign Resources is completed, return to this notebook to start LSTV replay:"
   ]
  },
  {
   "cell_type": "code",
   "execution_count": null,
   "metadata": {},
   "outputs": [],
   "source": [
    "print(\"Using the bite device to start lstv replay...\")\n",
    "bite.start_lstv_replay()"
   ]
  },
  {
   "cell_type": "markdown",
   "metadata": {},
   "source": [
    "PAUSE: Return to the main notebook to execute Configure Scan and Scan."
   ]
  },
  {
   "cell_type": "markdown",
   "metadata": {},
   "source": [
    "## 5 Stop LSTV Replay"
   ]
  },
  {
   "cell_type": "markdown",
   "metadata": {},
   "source": [
    "Once Scan and End Scan are executed, return to this notebook to stop LSTV replay:"
   ]
  },
  {
   "cell_type": "code",
   "execution_count": null,
   "metadata": {},
   "outputs": [],
   "source": [
    "bite.stop_lstv_replay()"
   ]
  },
  {
   "cell_type": "markdown",
   "metadata": {},
   "source": [
    "END: Return to the main notebook to finish the clean up steps: Release Resources, Telescope Off."
   ]
  }
 ],
 "metadata": {
  "kernelspec": {
   "display_name": ".venv",
   "language": "python",
   "name": "python3"
  },
  "language_info": {
   "codemirror_mode": {
    "name": "ipython",
    "version": 3
   },
   "file_extension": ".py",
   "mimetype": "text/x-python",
   "name": "python",
   "nbconvert_exporter": "python",
   "pygments_lexer": "ipython3",
   "version": "3.10.14"
  }
 },
 "nbformat": 4,
 "nbformat_minor": 2
}
