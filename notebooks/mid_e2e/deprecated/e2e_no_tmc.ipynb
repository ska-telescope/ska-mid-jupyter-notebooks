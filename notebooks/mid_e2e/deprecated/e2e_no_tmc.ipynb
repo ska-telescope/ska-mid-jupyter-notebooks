{
 "cells": [
  {
   "cell_type": "markdown",
   "metadata": {},
   "source": [
    "# Running an End-to-End Visibility Scan Without TMC"
   ]
  },
  {
   "cell_type": "markdown",
   "metadata": {},
   "source": [
    "## 1 Setup"
   ]
  },
  {
   "cell_type": "markdown",
   "metadata": {},
   "source": [
    "First, get the libraries needed for this notebook."
   ]
  },
  {
   "cell_type": "code",
   "execution_count": null,
   "metadata": {},
   "outputs": [],
   "source": [
    "import json\n",
    "import os\n",
    "from datetime import datetime, timedelta, timezone\n",
    "from time import sleep\n",
    "\n",
    "from astropy.time import Time\n",
    "from tango import DeviceProxy"
   ]
  },
  {
   "cell_type": "markdown",
   "metadata": {},
   "source": [
    "Now, set the IP for visibilities and the DISH IDs that will be used:"
   ]
  },
  {
   "cell_type": "code",
   "execution_count": null,
   "metadata": {
    "metadata": {}
   },
   "outputs": [],
   "source": [
    "visibility_ip = \"10.165.21.2\"\n",
    "dish_ids = [\"SKA001\", \"SKA036\"]"
   ]
  },
  {
   "cell_type": "markdown",
   "metadata": {},
   "source": [
    "Also load in SKA's EPOCH, our TANGO HOST ip, the config file locations and the tango devices to be used. During normal runs these should not need to be changed."
   ]
  },
  {
   "cell_type": "code",
   "execution_count": null,
   "metadata": {},
   "outputs": [],
   "source": [
    "TANGO_HOST = \"10.164.10.193:10000\"\n",
    "SKA_EPOCH = \"1999-12-31T23:59:28Z\"\n",
    "\n",
    "# Config file locations\n",
    "DATA_DIR = \"../../data/mid_telescope\"\n",
    "TMC_DIR = f\"{DATA_DIR}/tmc\"\n",
    "INITIAL_PARAM_FILE = f\"{DATA_DIR}/cbf/sys_params/initial_system_param.json\"\n",
    "ASSIGN_RESOURCES_FILE = f\"{DATA_DIR}/csp/assign_resources.json\"\n",
    "CONFIGURE_SCAN_FILE = f\"{TMC_DIR}/configure_scan.json\"\n",
    "DELAY_MODEL_FILE = f\"{TMC_DIR}/delay_model.json\"\n",
    "SCAN_CONFIG_FILE = f\"{TMC_DIR}/scan.json\"\n",
    "\n",
    "# Device FQDNs for device proxies\n",
    "csp_controller = \"mid-csp/control/0\"\n",
    "csp_server = \"mid-csp/subarray/01\"\n",
    "tm_server = \"ska_mid/tm_leaf_node/csp_subarray_01\"\n",
    "leaf_node_server = \"ska_mid/tm_leaf_node/csp_subarray_01\""
   ]
  },
  {
   "cell_type": "markdown",
   "metadata": {},
   "source": [
    "## 2 Set up Subarray and Turn on the Controller"
   ]
  },
  {
   "cell_type": "markdown",
   "metadata": {},
   "source": [
    "With the variables and environment set up, start by using the initial parameter JSON to set up the subarray, giving it the VCCs and K-values for the dishes. Once this data is loaded in, the Controller device is turned on."
   ]
  },
  {
   "cell_type": "code",
   "execution_count": null,
   "metadata": {
    "metadata": {}
   },
   "outputs": [],
   "source": [
    "os.environ[\"TANGO_HOST\"] = TANGO_HOST\n",
    "csp_controller_dp = DeviceProxy(csp_controller)\n",
    "csp_dp = DeviceProxy(csp_server)\n",
    "\n",
    "sleep(3)\n",
    "\n",
    "with open(\n",
    "    INITIAL_PARAM_FILE,\n",
    "    \"r\",\n",
    "    encoding=\"utf-8\",\n",
    ") as json_data:\n",
    "    d = json.load(json_data)\n",
    "    csp_controller_dp.LoadDishCfg(json.dumps(d))\n",
    "\n",
    "sleep(3)\n",
    "print(csp_controller_dp.sourceDishVccConfig)\n",
    "sleep(3)\n",
    "csp_controller_dp.commandTimeout = 100\n",
    "sleep(3)\n",
    "csp_controller_dp.On([])\n",
    "\n",
    "# WAIT 100 Seconds"
   ]
  },
  {
   "cell_type": "markdown",
   "metadata": {},
   "source": [
    "## 3 Assign Resources to the Subarray"
   ]
  },
  {
   "cell_type": "code",
   "execution_count": null,
   "metadata": {
    "metadata": {}
   },
   "outputs": [],
   "source": [
    "with open(ASSIGN_RESOURCES_FILE, \"r\", encoding=\"utf-8\") as json_data:\n",
    "    assign_resources_csp = json.load(json_data)\n",
    "    assign_resources_csp[\"dish\"][\"receptor_ids\"] = dish_ids\n",
    "    print(assign_resources_csp)\n",
    "    csp_dp.AssignResources(json.dumps(assign_resources_csp))\n",
    "\n",
    "sleep(3)\n",
    "\n",
    "print(csp_dp.obsState)"
   ]
  },
  {
   "cell_type": "markdown",
   "metadata": {},
   "source": [
    "## 4 Configure the Scan"
   ]
  },
  {
   "cell_type": "markdown",
   "metadata": {},
   "source": [
    "Now, prep to run the scan itself by setting up and loading the JSON that will set up the scan. Once this is loaded, the status of the subarray should go first to the CONFIGURING observation state to the READY observation state."
   ]
  },
  {
   "cell_type": "code",
   "execution_count": null,
   "metadata": {
    "metadata": {}
   },
   "outputs": [],
   "source": [
    "with open(CONFIGURE_SCAN_FILE, \"r\", encoding=\"utf-8\") as json_data:\n",
    "    d = json.load(json_data)\n",
    "    csp_configure_scan = d[\"csp\"]\n",
    "    csp_configure_scan[\"cbf\"][\"fsp\"][0][\"output_host\"] = [[]]\n",
    "    csp_configure_scan[\"cbf\"][\n",
    "        \"delay_model_subscription_point\"\n",
    "    ] = \"ska_mid/tm_leaf_node/csp_subarray_01/delayModel\"\n",
    "    csp_configure_scan[\"cbf\"][\"fsp\"][0][\"output_host\"][0] = [0, visibility_ip]\n",
    "    csp_configure_scan[\"cbf\"][\"fsp\"][0][\"output_port\"] = [[0, 21000, 1]]\n",
    "    print(csp_configure_scan)\n",
    "    csp_dp.configure(json.dumps(csp_configure_scan))\n",
    "\n",
    "sleep(5)\n",
    "print(csp_dp.obsState)"
   ]
  },
  {
   "cell_type": "code",
   "execution_count": null,
   "metadata": {
    "metadata": {}
   },
   "outputs": [],
   "source": [
    "print(csp_dp.obsState)"
   ]
  },
  {
   "cell_type": "markdown",
   "metadata": {},
   "source": [
    "## 5 Set Epoch for Delay Model and Load"
   ]
  },
  {
   "cell_type": "markdown",
   "metadata": {},
   "source": [
    "The delay model can now be loaded in, after setting the epoch to be the difference between now and SKA's defined epoch time."
   ]
  },
  {
   "cell_type": "code",
   "execution_count": null,
   "metadata": {
    "metadata": {}
   },
   "outputs": [],
   "source": [
    "ska_epoch_utc = Time(SKA_EPOCH, scale=\"utc\")\n",
    "ska_epoch_tai = ska_epoch_utc.unix_tai\n",
    "start_utc_time = Time(datetime.now(timezone.utc) + timedelta(seconds=5), scale=\"utc\")\n",
    "target_epoch = start_utc_time.unix_tai - ska_epoch_tai\n",
    "\n",
    "with open(DELAY_MODEL_FILE, encoding=\"utf-8\") as f:\n",
    "    delay_model = json.load(f)\n",
    "delayModelProxy = DeviceProxy(leaf_node_server)\n",
    "delay_model[\"start_validity_sec\"] = target_epoch\n",
    "print(json.dumps(delay_model))\n",
    "\n",
    "tm_dp = DeviceProxy(tm_server)\n",
    "tm_dp.delayModel = json.dumps(delay_model)\n",
    "\n",
    "sleep(5)"
   ]
  },
  {
   "cell_type": "markdown",
   "metadata": {},
   "source": [
    "## 6 Start Scan"
   ]
  },
  {
   "cell_type": "markdown",
   "metadata": {},
   "source": [
    "Finally, with all devices configured and ready, start the scan by passing the scan JSON in via the scan command to the subarray."
   ]
  },
  {
   "cell_type": "code",
   "execution_count": null,
   "metadata": {
    "metadata": {}
   },
   "outputs": [],
   "source": [
    "with open(SCAN_CONFIG_FILE, \"r\", encoding=\"utf-8\") as json_data:\n",
    "    d = json.load(json_data)\n",
    "    csp_scan = d[\"csp\"]\n",
    "    print(csp_scan)\n",
    "    csp_dp.scan(json.dumps(csp_scan))\n",
    "\n",
    "sleep(2)\n",
    "print(csp_dp.obsState)"
   ]
  },
  {
   "cell_type": "markdown",
   "metadata": {},
   "source": [
    "## 7 End the Scan and Clean Up"
   ]
  },
  {
   "cell_type": "markdown",
   "metadata": {},
   "source": [
    "Once done scanning, free up the devices by stopping the scan, shutting the devices down and releasing the resources they have been assigned."
   ]
  },
  {
   "cell_type": "code",
   "execution_count": null,
   "metadata": {
    "metadata": {}
   },
   "outputs": [],
   "source": [
    "csp_dp.EndScan()"
   ]
  },
  {
   "cell_type": "code",
   "execution_count": null,
   "metadata": {
    "metadata": {}
   },
   "outputs": [],
   "source": [
    "csp_dp.GoToIdle()\n",
    "sleep(6)\n",
    "csp_dp.ReleaseAllResources()"
   ]
  },
  {
   "cell_type": "code",
   "execution_count": null,
   "metadata": {},
   "outputs": [],
   "source": [
    "csp_dp.ObsReset()"
   ]
  },
  {
   "cell_type": "code",
   "execution_count": null,
   "metadata": {},
   "outputs": [],
   "source": [
    "csp_controller_dp.Off([])"
   ]
  }
 ],
 "metadata": {
  "kernelspec": {
   "display_name": "Python 3",
   "language": "python",
   "name": "python3"
  },
  "language_info": {
   "codemirror_mode": {
    "name": "ipython",
    "version": 3
   },
   "file_extension": ".py",
   "mimetype": "text/x-python",
   "name": "python",
   "nbconvert_exporter": "python",
   "pygments_lexer": "ipython3",
   "version": "3.10.14"
  }
 },
 "nbformat": 4,
 "nbformat_minor": 2
}
