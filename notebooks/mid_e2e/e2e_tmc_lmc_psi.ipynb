{
 "cells": [
  {
   "cell_type": "markdown",
   "metadata": {},
   "source": [
    "# Notebook for End to End testing in the MID PSI\n",
    "\n",
    "- LMC DISH in the loop\n",
    "- Receives and plots the visibilities to SDP"
   ]
  },
  {
   "cell_type": "code",
   "execution_count": 1,
   "metadata": {},
   "outputs": [
    {
     "name": "stdout",
     "output_type": "stream",
     "text": [
      "Setting up parameters\n",
      "\n",
      "Links for Taranta and QA Display\n",
      "\n",
      "SUT Links\n",
      "https://142.73.34.170/ci-ska-mid-psi-1339660925-jaredmda/signal/display/\n",
      "https://142.73.34.170/ci-ska-mid-psi-1339660925-jaredmda/taranta/devices\n"
     ]
    }
   ],
   "source": [
    "import os\n",
    "import json\n",
    "from time import sleep\n",
    "import tango\n",
    "from PyTango import Database, DeviceProxy\n",
    "print(\"Setting up parameters\\n\")\n",
    "\n",
    "SUT_NAMESPACE = \"ci-ska-mid-psi-1339660925-jaredmda\"\n",
    "\n",
    "TANGO_HOST = f\"databaseds-tango-base.{SUT_NAMESPACE}.svc.cluster.local:10000\"\n",
    "os.environ[\"TANGO_HOST\"] = TANGO_HOST\n",
    "\n",
    "RECEPTORS = [\"SKA001\"]\n",
    "\n",
    "# Config files set up\n",
    "DATA_DIR = \"../../data\"\n",
    "TMC_CONFIGS = f\"{DATA_DIR}/mid_telescope/tmc\"\n",
    "SCAN_FILE = f\"{TMC_CONFIGS}/scan.json\"\n",
    "RELEASE_RESOURCES_FILE = f\"{DATA_DIR}/release_resources.json\"\n",
    "\n",
    "ASSIGN_RESOURCES_FILE = f\"{TMC_CONFIGS}/assign_resources.json\"\n",
    "CONFIGURE_SCAN_FILE = f\"{TMC_CONFIGS}/configure_scan.json\"\n",
    "\n",
    "CBF_CONFIGS = f\"{DATA_DIR}/mid_telescope/cbf\"\n",
    "DISH_CONFIG_FILE = f\"{CBF_CONFIGS}/sys_params/load_dish_config.json\"\n",
    "\n",
    "# MCS/Talon setup\n",
    "target_board = [1]\n",
    "COMMON_CONFIG_FOLDER = os.path.join(DATA_DIR, \"mid_telescope/cbf\")\n",
    "HW_CONFIG_FOLDER = os.path.join(COMMON_CONFIG_FOLDER, \"hw_config\")\n",
    "INIT_SYS_PARAM_FILE = os.path.join(COMMON_CONFIG_FOLDER, \"sys_params/initial_system_param.json\")\n",
    "\n",
    "START_CHANNEL = 0\n",
    "END_CHANNEL = 14860\n",
    "START_PORT = 21000\n",
    "\n",
    "print(\"Links for Taranta and QA Display\\n\")\n",
    "print(\"SUT Links\")\n",
    "print(f\"https://142.73.34.170/{SUT_NAMESPACE}/signal/display/\")\n",
    "print(f\"https://142.73.34.170/{SUT_NAMESPACE}/taranta/devices\")"
   ]
  },
  {
   "cell_type": "markdown",
   "metadata": {},
   "source": [
    "### MCS Deployer Setup"
   ]
  },
  {
   "cell_type": "code",
   "execution_count": 2,
   "metadata": {},
   "outputs": [
    {
     "name": "stdout",
     "output_type": "stream",
     "text": [
      "dserver/CbfController/controller\n",
      "dserver/CbfSubarray/cbfsubarray\n",
      "dserver/central_node_mid/01\n",
      "dserver/csp_master_leaf_node/01\n",
      "dserver/csp_subarray_leaf_node_mid/01\n",
      "dserver/csp_subarray_leaf_node_mid/02\n",
      "dserver/DataBaseds/2\n",
      "dserver/DishLogger/001\n",
      "dserver/DishManagerDS/001\n",
      "dserver/dish_leaf_node/001\n",
      "dserver/DSManager/001\n",
      "dserver/ECBite/bite\n",
      "dserver/ECDeployer/deployer\n",
      "dserver/FspMulti/fsp-01\n",
      "dserver/FspMulti/fsp-02\n",
      "dserver/FspMulti/fsp-03\n",
      "dserver/FspMulti/fsp-04\n",
      "dserver/MidCspCapabilityFsp/capabilityfsp\n",
      "dserver/MidCspCapabilityVcc/capabilityvcc\n",
      "dserver/MidCspController/controller\n",
      "dserver/MidCspSubarray/subarray1\n",
      "dserver/MidCspSubarray/subarray2\n",
      "dserver/MidCspSubarray/subarray3\n",
      "dserver/PowerSwitch/pdu\n",
      "dserver/SDPController/0\n",
      "dserver/SDPQueueConnector/01\n",
      "dserver/SDPSubarray/01\n",
      "dserver/sdp_master_leaf_node/01\n",
      "dserver/sdp_subarray_leaf_node/01\n",
      "dserver/sdp_subarray_leaf_node/02\n",
      "dserver/Slim/mesh\n",
      "dserver/SlimLink/fs-links\n",
      "dserver/SlimLink/vis-links\n",
      "dserver/SPFDevice/001\n",
      "dserver/SPFRxDevice/001\n",
      "dserver/subarray_node_mid/01\n",
      "dserver/subarray_node_mid/02\n",
      "dserver/TalonBoard/01\n",
      "dserver/TalonDxLogConsumer/001\n",
      "dserver/TalonLRU/01\n",
      "dserver/TangoTest/test\n",
      "dserver/tarantatestdevice/test\n",
      "dserver/TestDevice/test\n",
      "dserver/TmCspSubarrayLeafNodeTest/tm\n",
      "dserver/TmCspSubarrayLeafNodeTest/tm2\n",
      "dserver/VccMulti/vcc\n",
      "mid-csp/capability-fsp/0\n",
      "mid-csp/capability-vcc/0\n",
      "mid-csp/control/0\n",
      "mid-csp/subarray/01\n",
      "mid-csp/subarray/02\n",
      "mid-csp/subarray/03\n",
      "mid-dish/dish-logger/SKA001\n",
      "mid-dish/dish-manager/SKA001\n",
      "mid-dish/ds-manager/SKA001\n",
      "mid-dish/simulator-spfc/SKA001\n",
      "mid-dish/simulator-spfrx/SKA001\n",
      "mid-sdp/control/0\n",
      "mid-sdp/queueconnector/01\n",
      "mid-sdp/subarray/01\n",
      "mid_csp_cbf/ec/bite\n",
      "mid_csp_cbf/ec/deployer\n",
      "mid_csp_cbf/fsp/01\n",
      "mid_csp_cbf/fsp/02\n",
      "mid_csp_cbf/fsp/03\n",
      "mid_csp_cbf/fsp/04\n",
      "mid_csp_cbf/fspCorrSubarray/01_01\n",
      "mid_csp_cbf/fspCorrSubarray/01_02\n",
      "mid_csp_cbf/fspCorrSubarray/01_03\n",
      "mid_csp_cbf/fspCorrSubarray/02_01\n",
      "mid_csp_cbf/fspCorrSubarray/02_02\n",
      "mid_csp_cbf/fspCorrSubarray/02_03\n",
      "mid_csp_cbf/fspCorrSubarray/03_01\n",
      "mid_csp_cbf/fspCorrSubarray/03_02\n",
      "mid_csp_cbf/fspCorrSubarray/03_03\n",
      "mid_csp_cbf/fspCorrSubarray/04_01\n",
      "mid_csp_cbf/fspCorrSubarray/04_02\n",
      "mid_csp_cbf/fspCorrSubarray/04_03\n",
      "mid_csp_cbf/fspPssSubarray/01_01\n",
      "mid_csp_cbf/fspPssSubarray/01_02\n",
      "mid_csp_cbf/fspPssSubarray/01_03\n",
      "mid_csp_cbf/fspPssSubarray/02_01\n",
      "mid_csp_cbf/fspPssSubarray/02_02\n",
      "mid_csp_cbf/fspPssSubarray/02_03\n",
      "mid_csp_cbf/fspPssSubarray/03_01\n",
      "mid_csp_cbf/fspPssSubarray/03_02\n",
      "mid_csp_cbf/fspPssSubarray/03_03\n",
      "mid_csp_cbf/fspPssSubarray/04_01\n",
      "mid_csp_cbf/fspPssSubarray/04_02\n",
      "mid_csp_cbf/fspPssSubarray/04_03\n",
      "mid_csp_cbf/fspPstSubarray/01_01\n",
      "mid_csp_cbf/fspPstSubarray/01_02\n",
      "mid_csp_cbf/fspPstSubarray/01_03\n",
      "mid_csp_cbf/fspPstSubarray/02_01\n",
      "mid_csp_cbf/fspPstSubarray/02_02\n",
      "mid_csp_cbf/fspPstSubarray/02_03\n",
      "mid_csp_cbf/fspPstSubarray/03_01\n",
      "mid_csp_cbf/fspPstSubarray/03_02\n",
      "mid_csp_cbf/fspPstSubarray/03_03\n",
      "mid_csp_cbf/fspPstSubarray/04_01\n",
      "mid_csp_cbf/fspPstSubarray/04_02\n",
      "mid_csp_cbf/fspPstSubarray/04_03\n",
      "mid_csp_cbf/fs_links/000\n",
      "mid_csp_cbf/fs_links/001\n",
      "mid_csp_cbf/fs_links/002\n",
      "mid_csp_cbf/fs_links/003\n",
      "mid_csp_cbf/fs_links/004\n",
      "mid_csp_cbf/fs_links/005\n",
      "mid_csp_cbf/fs_links/006\n",
      "mid_csp_cbf/fs_links/007\n",
      "mid_csp_cbf/fs_links/008\n",
      "mid_csp_cbf/fs_links/009\n",
      "mid_csp_cbf/fs_links/010\n",
      "mid_csp_cbf/fs_links/011\n",
      "mid_csp_cbf/fs_links/012\n",
      "mid_csp_cbf/fs_links/013\n",
      "mid_csp_cbf/fs_links/014\n",
      "mid_csp_cbf/fs_links/015\n",
      "mid_csp_cbf/power_switch/001\n",
      "mid_csp_cbf/power_switch/002\n",
      "mid_csp_cbf/power_switch/003\n",
      "mid_csp_cbf/power_switch/004\n",
      "mid_csp_cbf/slim/slim-fs\n",
      "mid_csp_cbf/slim/slim-vis\n",
      "mid_csp_cbf/sub_elt/controller\n",
      "mid_csp_cbf/sub_elt/subarray_01\n",
      "mid_csp_cbf/sub_elt/subarray_02\n",
      "mid_csp_cbf/sub_elt/subarray_03\n",
      "mid_csp_cbf/talondx_log_consumer/001\n",
      "mid_csp_cbf/talon_board/001\n",
      "mid_csp_cbf/talon_board/002\n",
      "mid_csp_cbf/talon_board/003\n",
      "mid_csp_cbf/talon_board/004\n",
      "mid_csp_cbf/talon_board/005\n",
      "mid_csp_cbf/talon_board/006\n",
      "mid_csp_cbf/talon_board/007\n",
      "mid_csp_cbf/talon_board/008\n",
      "mid_csp_cbf/talon_lru/001\n",
      "mid_csp_cbf/talon_lru/002\n",
      "mid_csp_cbf/talon_lru/003\n",
      "mid_csp_cbf/talon_lru/004\n",
      "mid_csp_cbf/vcc/001\n",
      "mid_csp_cbf/vcc/002\n",
      "mid_csp_cbf/vcc/003\n",
      "mid_csp_cbf/vcc/004\n",
      "mid_csp_cbf/vcc/005\n",
      "mid_csp_cbf/vcc/006\n",
      "mid_csp_cbf/vcc/007\n",
      "mid_csp_cbf/vcc/008\n",
      "mid_csp_cbf/vcc_sw1/001\n",
      "mid_csp_cbf/vcc_sw1/002\n",
      "mid_csp_cbf/vcc_sw1/003\n",
      "mid_csp_cbf/vcc_sw1/004\n",
      "mid_csp_cbf/vcc_sw1/005\n",
      "mid_csp_cbf/vcc_sw1/006\n",
      "mid_csp_cbf/vcc_sw1/007\n",
      "mid_csp_cbf/vcc_sw1/008\n",
      "mid_csp_cbf/vcc_sw2/001\n",
      "mid_csp_cbf/vcc_sw2/002\n",
      "mid_csp_cbf/vcc_sw2/003\n",
      "mid_csp_cbf/vcc_sw2/004\n",
      "mid_csp_cbf/vcc_sw2/005\n",
      "mid_csp_cbf/vcc_sw2/006\n",
      "mid_csp_cbf/vcc_sw2/007\n",
      "mid_csp_cbf/vcc_sw2/008\n",
      "mid_csp_cbf/vis_links/000\n",
      "mid_csp_cbf/vis_links/001\n",
      "mid_csp_cbf/vis_links/002\n",
      "mid_csp_cbf/vis_links/003\n",
      "ska_mid/tm_central/central_node\n",
      "ska_mid/tm_leaf_node/csp_master\n",
      "ska_mid/tm_leaf_node/csp_subarray01\n",
      "ska_mid/tm_leaf_node/csp_subarray02\n",
      "ska_mid/tm_leaf_node/csp_subarray_01\n",
      "ska_mid/tm_leaf_node/csp_subarray_02\n",
      "ska_mid/tm_leaf_node/d0001\n",
      "ska_mid/tm_leaf_node/sdp_master\n",
      "ska_mid/tm_leaf_node/sdp_subarray01\n",
      "ska_mid/tm_leaf_node/sdp_subarray02\n",
      "ska_mid/tm_subarray_node/1\n",
      "ska_mid/tm_subarray_node/2\n",
      "sys/database/2\n",
      "sys/tg_test/1\n",
      "taranta/benchmark/1\n",
      "taranta/test/1\n",
      "taranta/test/2\n",
      "taranta/test/3\n",
      "test/device/1\n",
      "ON\n",
      "Using standard HW config\n",
      "HW config: ✔️\n"
     ]
    }
   ],
   "source": [
    "db = Database()\n",
    "\n",
    "deployer_tango = DeviceProxy(\"mid_csp_cbf/ec/deployer\")\n",
    "# Check the devices initially deployed to the database\n",
    "print(*db.get_device_exported(\"*\").value_string, sep=\"\\n\")\n",
    "# Make sure the deployer device is set to ON\n",
    "deployer_tango.On()\n",
    "print(deployer_tango.state())\n",
    "\n",
    "if any(i > 4 for i in target_board):\n",
    "    print(\"Using swap for higher number talons\")\n",
    "    config = \"hw_config_swap_psi.yaml\"\n",
    "    print(\"Modifying target to use lower nums to match swap file\")\n",
    "    target_board = list(map(lambda x: x - 4, target_board))\n",
    "else:\n",
    "    print(\"Using standard HW config\")\n",
    "    config = \"hw_config_psi.yaml\"\n",
    "\n",
    "HW_CONFIG_FILE = os.path.join(HW_CONFIG_FOLDER, config)\n",
    "if os.path.isfile(HW_CONFIG_FILE):\n",
    "    print(\"HW config: ✔️\")\n",
    "else:\n",
    "    print(\"hw config: ❌\")"
   ]
  },
  {
   "cell_type": "code",
   "execution_count": 3,
   "metadata": {},
   "outputs": [],
   "source": [
    "!kubectl cp $HW_CONFIG_FILE $SUT_NAMESPACE/ds-cbfcontroller-controller-0:/app/mnt/hw_config/hw_config.yaml"
   ]
  },
  {
   "cell_type": "code",
   "execution_count": 4,
   "metadata": {},
   "outputs": [
    {
     "name": "stdout",
     "output_type": "stream",
     "text": [
      "[1]\n"
     ]
    }
   ],
   "source": [
    "deployer_tango.targetTalons = target_board\n",
    "print(deployer_tango.targetTalons)"
   ]
  },
  {
   "cell_type": "code",
   "execution_count": 5,
   "metadata": {},
   "outputs": [],
   "source": [
    "deployer_tango.generate_config_jsons()"
   ]
  },
  {
   "cell_type": "code",
   "execution_count": 6,
   "metadata": {},
   "outputs": [],
   "source": [
    "deployer_tango.set_timeout_millis(200000)\n",
    "try:\n",
    "    deployer_tango.download_artifacts()\n",
    "except tango.DevFailed as e:\n",
    "    print(e)\n",
    "    print(\n",
    "        \"Timed out, this is likely due to the download taking some time. Check the logs with the code space below after some time to see if it passes.\"\n",
    "    )\n",
    "deployer_tango.set_timeout_millis(4500)"
   ]
  },
  {
   "cell_type": "code",
   "execution_count": 7,
   "metadata": {},
   "outputs": [],
   "source": [
    "deployer_tango.configure_db()"
   ]
  },
  {
   "cell_type": "markdown",
   "metadata": {},
   "source": [
    "### Set Up and Configure Device Proxies "
   ]
  },
  {
   "cell_type": "code",
   "execution_count": 8,
   "metadata": {},
   "outputs": [
    {
     "name": "stdout",
     "output_type": "stream",
     "text": [
      "Setting up the device proxies\n",
      "\n",
      "Checking admin mode after setting to ONLINE (0):\n",
      "  CSP Control: 0\n",
      "  CSP Subarray: 0\n",
      "  CBF Controller: 0\n",
      "  CBF Subarray: 0\n",
      "\n",
      "Checking CBF Simulation Mode and CBF Timeout:\n",
      "  CBF Simulation Mode: False\n",
      "  CBF Timeout: 99 sec\n"
     ]
    }
   ],
   "source": [
    "print(\"Setting up the device proxies\")\n",
    "\n",
    "# TMC proxies\n",
    "tmc_central_node = DeviceProxy(\"ska_mid/tm_central/central_node\")\n",
    "tmc_csp_master = DeviceProxy(\"ska_mid/tm_leaf_node/csp_master\")\n",
    "tmc_csp_subarray = DeviceProxy(\"ska_mid/tm_leaf_node/csp_subarray01\")\n",
    "tmc_subarray = DeviceProxy(\"ska_mid/tm_subarray_node/1\")\n",
    "\n",
    "# CSP.LMC proxies\n",
    "csp_control = DeviceProxy(\"mid-csp/control/0\")\n",
    "csp_subarray = DeviceProxy(\"mid-csp/subarray/01\")\n",
    "\n",
    "# CBF proxies\n",
    "cbf_controller = DeviceProxy(\"mid_csp_cbf/sub_elt/controller\")\n",
    "cbf_subarray = DeviceProxy(\"mid_csp_cbf/sub_elt/subarray_01\")\n",
    "\n",
    "# Dish Leaf Proxies\n",
    "dish_leaf_node_ska001 = DeviceProxy(\"ska_mid/tm_leaf_node/d0001\")\n",
    "\n",
    "# SDP Proxies\n",
    "sdp_subarray = DeviceProxy(\"mid-sdp/subarray/01\")\n",
    "\n",
    "# Set devices to adminMode = ONLINE\n",
    "csp_control.adminMode = 0\n",
    "csp_subarray.adminMode = 0\n",
    "\n",
    "# Leaf Nodes\n",
    "csp_subarray_leaf_node = \"ska_mid/tm_leaf_node/csp_subarray01\"\n",
    "sdp_subarray_leaf_node = \"ska_mid/tm_leaf_node/sdp_subarray01\"\n",
    "csp_master_leaf_node = \"ska_mid/tm_leaf_node/csp_master\"\n",
    "csp_subarray_leaf_node_dp = DeviceProxy(csp_subarray_leaf_node)\n",
    "sdp_subarray_leaf_node_dp = DeviceProxy(sdp_subarray_leaf_node)\n",
    "csp_master_leaf_node_dp = DeviceProxy(csp_master_leaf_node)\n",
    "\n",
    "sleep(2)\n",
    "print(\"\\nChecking admin mode after setting to ONLINE (0):\")\n",
    "print(f\"  CSP Control: {csp_control.adminMode}\")\n",
    "print(f\"  CSP Subarray: {csp_subarray.adminMode}\")\n",
    "print(f\"  CBF Controller: {cbf_controller.adminMode}\")\n",
    "print(f\"  CBF Subarray: {cbf_subarray.adminMode}\")\n",
    "\n",
    "# Set CBF Simulation mode to false and CBF timeout to 99s\n",
    "csp_control.cbfSimulationMode = 0\n",
    "csp_control.commandTimeout = 99\n",
    "\n",
    "sleep(2)\n",
    "print(\"\\nChecking CBF Simulation Mode and CBF Timeout:\")\n",
    "print(f\"  CBF Simulation Mode: {bool(csp_control.cbfSimulationMode)}\")\n",
    "print(f\"  CBF Timeout: {csp_control.commandTimeout} sec\")"
   ]
  },
  {
   "cell_type": "markdown",
   "metadata": {},
   "source": [
    "### Load the Dish Vcc Config / Init Sys Params"
   ]
  },
  {
   "cell_type": "code",
   "execution_count": null,
   "metadata": {},
   "outputs": [],
   "source": [
    "#MAE'S\n",
    "with open(DISH_CONFIG_FILE, encoding=\"utf-8\") as f:\n",
    "    dish_config_json = f.read()\n",
    "\n",
    "print(f\"dish_config_json file contents: \\n{dish_config_json}\")\n",
    "tmc_central_node.LoadDishCfg(dish_config_json)\n",
    "\n",
    "sleep(2)\n",
    "print(f\"TMC CSP Master's Dish Vcc Config attribute value: \\n{tmc_csp_master.dishVccConfig}\")\n",
    "print(\n",
    "    f\"\\nTMC CSP Master's Source Dish Vcc Config attribute value: \\n{tmc_csp_master.sourceDishVccConfig}\"\n",
    ")"
   ]
  },
  {
   "cell_type": "markdown",
   "metadata": {},
   "source": [
    "NOTE: RUN TWICE"
   ]
  },
  {
   "cell_type": "code",
   "execution_count": 9,
   "metadata": {},
   "outputs": [
    {
     "name": "stdout",
     "output_type": "stream",
     "text": [
      "dish_config_json file contents: \n",
      "{'interface': 'https://schema.skao.int/ska-mid-cbf-initsysparam/1.0', 'tm_data_sources': ['car://gitlab.com/ska-telescope/ska-telmodel-data?0.1.0-rc-mid-itf#tmdata'], 'tm_data_filepath': 'instrument/ska1_mid_itf/ska-mid-cbf-system-parameters.json'}\n",
      "TMC CSP Master's Dish Vcc Config attribute value: \n",
      "{\"interface\": \"https://schema.skao.int/ska-mid-cbf-initsysparam/1.0\", \"dish_parameters\": {\"SKA001\": {\"vcc\": 1, \"k\": 100}, \"SKA036\": {\"vcc\": 2, \"k\": 618}, \"SKA063\": {\"vcc\": 3, \"k\": 1220}, \"SKA100\": {\"vcc\": 4, \"k\": 1815}}}\n",
      "\n",
      "TMC CSP Master's Source Dish Vcc Config attribute value: \n",
      "{\"interface\": \"https://schema.skao.int/ska-mid-cbf-initsysparam/1.0\", \"tm_data_sources\": [\"car://gitlab.com/ska-telescope/ska-telmodel-data?main#tmdata\"], \"tm_data_filepath\": \"instrument/ska1_mid_psi/ska-mid-cbf-system-parameters.json\"}\n"
     ]
    }
   ],
   "source": [
    "with open(DISH_CONFIG_FILE, encoding=\"utf-8\") as f:\n",
    "    dish_config_json = json.load(f)\n",
    "\n",
    "dish_config_json[\"tm_data_sources\"][0] = \"car://gitlab.com/ska-telescope/ska-telmodel-data?0.1.0-rc-mid-itf#tmdata\"\n",
    "dish_config_json[\"tm_data_filepath\"] = \"instrument/ska1_mid_itf/ska-mid-cbf-system-parameters.json\"\n",
    "\n",
    "print(f\"dish_config_json file contents: \\n{dish_config_json}\")\n",
    "tmc_central_node.LoadDishCfg(json.dumps(dish_config_json))\n",
    "\n",
    "sleep(2)\n",
    "print(f\"TMC CSP Master's Dish Vcc Config attribute value: \\n{tmc_csp_master.dishVccConfig}\")\n",
    "print(\n",
    "    f\"\\nTMC CSP Master's Source Dish Vcc Config attribute value: \\n{tmc_csp_master.sourceDishVccConfig}\"\n",
    ")"
   ]
  },
  {
   "cell_type": "markdown",
   "metadata": {},
   "source": [
    "### Turn the Telescope On"
   ]
  },
  {
   "cell_type": "code",
   "execution_count": 10,
   "metadata": {},
   "outputs": [
    {
     "name": "stdout",
     "output_type": "stream",
     "text": [
      "Running the TelescopeOn command\n",
      "Waiting for Telescope to come ON\n",
      "Waiting for Telescope to come ON\n",
      "Waiting for Telescope to come ON\n",
      "Waiting for Telescope to come ON\n",
      "Waiting for Telescope to come ON\n",
      "Waiting for Telescope to come ON\n",
      "YAY Telecope is ON\n"
     ]
    }
   ],
   "source": [
    "print(\"Running the TelescopeOn command\")\n",
    "tmc_central_node.TelescopeOn()\n",
    "\n",
    "while int(tmc_central_node.telescopeState) != 0:\n",
    "    print(\"Waiting for Telescope to come ON\")\n",
    "    sleep(5)\n",
    "    \n",
    "print(\"YAY Telecope is ON\")\n"
   ]
  },
  {
   "cell_type": "code",
   "execution_count": 11,
   "metadata": {},
   "outputs": [
    {
     "name": "stdout",
     "output_type": "stream",
     "text": [
      "Verifying the states:\n",
      "  TMC Central Node State: ON\n",
      "  CSP Control State: ON\n",
      "  CBF Controller State: ON\n",
      "  TMC Subarray State: ON\n"
     ]
    }
   ],
   "source": [
    "print(\"Verifying the states:\")\n",
    "print(f\"  TMC Central Node State: {tmc_central_node.State()}\")\n",
    "print(f\"  CSP Control State: {csp_control.State()}\")\n",
    "print(f\"  CBF Controller State: {cbf_controller.State()}\")\n",
    "print(f\"  TMC Subarray State: {tmc_subarray.State()}\")"
   ]
  },
  {
   "cell_type": "markdown",
   "metadata": {},
   "source": [
    "### Assign Resources"
   ]
  },
  {
   "cell_type": "code",
   "execution_count": 12,
   "metadata": {},
   "outputs": [
    {
     "name": "stdout",
     "output_type": "stream",
     "text": [
      "ON\n",
      "Running the AssignResources command: subarray obsstate should go to Idle and receptor IDs should be assigned\n",
      "\n",
      "assign_resources_json file contents: \n",
      "{'interface': 'https://schema.skao.int/ska-tmc-assignresources/2.1', 'transaction_id': 'txn-....-00001', 'subarray_id': 1, 'dish': {'receptor_ids': ['SKA001']}, 'sdp': {'interface': 'https://schema.skao.int/ska-sdp-assignres/0.4', 'resources': {'csp_links': [1, 2, 3, 4], 'receptors': ['SKA001'], 'receive_nodes': 1}, 'execution_block': {'eb_id': 'eb-test-20210630-00059', 'context': {}, 'max_length': 21600.0, 'channels': [{'channels_id': 'vis_channels', 'spectral_windows': [{'spectral_window_id': 'fsp_1_channels', 'count': 14880, 'start': 0, 'stride': 1, 'freq_min': 296000000.0, 'freq_max': 496000000.0, 'link_map': [[0, 0], [200, 1], [744, 2], [944, 3]]}]}], 'polarisations': [{'polarisations_id': 'all', 'corr_type': ['XX', 'XY', 'YX', 'YY']}], 'fields': [{'field_id': 'field_a', 'phase_dir': {'ra': [2.711325], 'dec': [-0.01328889], 'reference_time': '...', 'reference_frame': 'ICRF3'}, 'pointing_fqdn': 'low-tmc/telstate/0/pointing'}, {'field_id': 'field_b', 'phase_dir': {'ra': [12.48519], 'dec': [2.052388], 'reference_time': '...', 'reference_frame': 'ICRF3'}, 'pointing_fqdn': 'low-tmc/telstate/0/pointing'}], 'beams': [{'beam_id': 'vis0', 'function': 'visibilities'}], 'scan_types': [{'scan_type_id': '.default', 'beams': {'vis0': {'polarisations_id': 'all', 'channels_id': 'vis_channels'}}}, {'scan_type_id': 'science', 'derive_from': '.default', 'beams': {'vis0': {'field_id': 'field_a'}}}, {'scan_type_id': 'calibration', 'derive_from': '.default', 'beams': {'vis0': {'field_id': 'field_b'}}}]}, 'processing_blocks': [{'pb_id': 'pb-test-20211111-00059', 'script': {'kind': 'realtime', 'name': 'vis-receive', 'version': '4.0.0'}, 'parameters': {'channels_per_port': 20, 'queue_connector_configuration': {}, 'transport_protocol': 'udp', 'use_network_definition': True, 'extra_helm_values': {'receiver': {'options': {'reception': {'reset_time_indexing_after_each_scan': True}, 'telescope_model': {'telmodel_key': 'instrument/ska1_mid/layout/mid-layout.json'}}}}, 'processors': {'signal-display-metrics-amplitude': {}, 'signal-display-metrics-basic': {}, 'signal-display-metrics-phase': {}, 'mswriter': {}}, 'pod_settings': [{'securityContext': {'runAsUser': 0, 'fsGroup': 0}}]}}]}}\n",
      "\n",
      "CBF Subarray Observation State: 1\n",
      "CBF Subarray Receptors : ('SKA001',)\n",
      "Assign Resource: {'interface': 'https://schema.skao.int/ska-tmc-assignresources/2.1', 'transaction_id': 'txn-....-00001', 'subarray_id': 1, 'dish': {'receptor_ids': ['SKA001']}, 'sdp': {'interface': 'https://schema.skao.int/ska-sdp-assignres/0.4', 'resources': {'csp_links': [1, 2, 3, 4], 'receptors': ['SKA001'], 'receive_nodes': 1}, 'execution_block': {'eb_id': 'eb-test-20210630-00059', 'context': {}, 'max_length': 21600.0, 'channels': [{'channels_id': 'vis_channels', 'spectral_windows': [{'spectral_window_id': 'fsp_1_channels', 'count': 14880, 'start': 0, 'stride': 1, 'freq_min': 296000000.0, 'freq_max': 496000000.0, 'link_map': [[0, 0], [200, 1], [744, 2], [944, 3]]}]}], 'polarisations': [{'polarisations_id': 'all', 'corr_type': ['XX', 'XY', 'YX', 'YY']}], 'fields': [{'field_id': 'field_a', 'phase_dir': {'ra': [2.711325], 'dec': [-0.01328889], 'reference_time': '...', 'reference_frame': 'ICRF3'}, 'pointing_fqdn': 'low-tmc/telstate/0/pointing'}, {'field_id': 'field_b', 'phase_dir': {'ra': [12.48519], 'dec': [2.052388], 'reference_time': '...', 'reference_frame': 'ICRF3'}, 'pointing_fqdn': 'low-tmc/telstate/0/pointing'}], 'beams': [{'beam_id': 'vis0', 'function': 'visibilities'}], 'scan_types': [{'scan_type_id': '.default', 'beams': {'vis0': {'polarisations_id': 'all', 'channels_id': 'vis_channels'}}}, {'scan_type_id': 'science', 'derive_from': '.default', 'beams': {'vis0': {'field_id': 'field_a'}}}, {'scan_type_id': 'calibration', 'derive_from': '.default', 'beams': {'vis0': {'field_id': 'field_b'}}}]}, 'processing_blocks': [{'pb_id': 'pb-test-20211111-00059', 'script': {'kind': 'realtime', 'name': 'vis-receive', 'version': '4.0.0'}, 'parameters': {'channels_per_port': 20, 'queue_connector_configuration': {}, 'transport_protocol': 'udp', 'use_network_definition': True, 'extra_helm_values': {'receiver': {'options': {'reception': {'reset_time_indexing_after_each_scan': True}, 'telescope_model': {'telmodel_key': 'instrument/ska1_mid/layout/mid-layout.json'}}}}, 'processors': {'signal-display-metrics-amplitude': {}, 'signal-display-metrics-basic': {}, 'signal-display-metrics-phase': {}, 'mswriter': {}}, 'pod_settings': [{'securityContext': {'runAsUser': 0, 'fsGroup': 0}}]}}]}}\n"
     ]
    }
   ],
   "source": [
    "print(sdp_subarray.state())\n",
    "\n",
    "sleep(3)\n",
    "\n",
    "print(\n",
    "    \"Running the AssignResources command: subarray obsstate should go to Idle and receptor IDs should be assigned\"\n",
    ")\n",
    "\n",
    "with open(ASSIGN_RESOURCES_FILE, encoding=\"utf-8\") as f:\n",
    "    assign_resources_json = json.load(f)\n",
    "    assign_resources_json[\"dish\"][\"receptor_ids\"] = RECEPTORS\n",
    "    assign_resources_json[\"sdp\"][\"resources\"][\"receptors\"] = RECEPTORS\n",
    "\n",
    "\n",
    "print(f\"\\nassign_resources_json file contents: \\n{assign_resources_json}\")\n",
    "\n",
    "tmc_subarray.AssignResources(json.dumps(assign_resources_json))\n",
    "\n",
    "sleep(2)\n",
    "print(f\"\\nCBF Subarray Observation State: {tmc_subarray.obsState}\")\n",
    "print(f\"CBF Subarray Receptors : {cbf_subarray.receptors}\")\n",
    "print(f\"Assign Resource: {assign_resources_json}\")"
   ]
  },
  {
   "cell_type": "code",
   "execution_count": 13,
   "metadata": {},
   "outputs": [],
   "source": [
    "from astropy.time import Time\n",
    "import time\n",
    "from tango import DeviceProxy\n",
    "\n",
    "dish_deployments = [f\"mid-dish/dish-manager/SKA001\"]\n",
    "\n",
    "\n",
    "def get_tai_from_unix_s(unix_s: float) -> float:\n",
    "    \"\"\"\n",
    "    Calculate atomic time in seconds from unix time in seconds.\n",
    "\n",
    "    :param unix_s: Unix time in seconds\n",
    "\n",
    "    :return: atomic time (tai) in seconds\n",
    "    \"\"\"\n",
    "    astropy_time_utc = Time(unix_s, format=\"unix\")\n",
    "    return astropy_time_utc.unix_tai\n",
    "\n",
    "\n",
    "for dish in dish_deployments:\n",
    "    dish_manager_proxy = DeviceProxy(\"mid-dish/dish-manager/SKA001\")\n",
    "    current_pointing = dish_manager_proxy.achievedPointing\n",
    "    current_az = current_pointing[1]\n",
    "    current_el = current_pointing[2]\n",
    "\n",
    "    current_time_tai_s = get_tai_from_unix_s(time.time() + 120)\n",
    "\n",
    "    # Directions to move values\n",
    "    az_dir = 1 if current_az < 350 else -1\n",
    "    el_dir = 1 if current_el < 80 else -1\n",
    "\n",
    "    track_table = [\n",
    "        current_time_tai_s + 3,\n",
    "        current_az + 1 * az_dir,\n",
    "        current_el + 1 * el_dir,\n",
    "        current_time_tai_s + 5,\n",
    "        current_az + 2 * az_dir,\n",
    "        current_el + 2 * el_dir,\n",
    "        current_time_tai_s + 7,\n",
    "        current_az + 3 * az_dir,\n",
    "        current_el + 3 * el_dir,\n",
    "        current_time_tai_s + 9,\n",
    "        current_az + 4 * az_dir,\n",
    "        current_el + 4 * el_dir,\n",
    "        current_time_tai_s + 11,\n",
    "        current_az + 5 * az_dir,\n",
    "        current_el + 5 * el_dir,\n",
    "    ]\n",
    "\n",
    "    dish_manager_proxy.programTrackTable = track_table"
   ]
  },
  {
   "cell_type": "code",
   "execution_count": null,
   "metadata": {},
   "outputs": [],
   "source": [
    "print(f\"\\nCBF Subarray Observation State: {tmc_subarray.obsState}\")"
   ]
  },
  {
   "cell_type": "markdown",
   "metadata": {},
   "source": [
    "### Configure Scan"
   ]
  },
  {
   "cell_type": "code",
   "execution_count": 17,
   "metadata": {},
   "outputs": [],
   "source": [
    "# Then find the IP:\n",
    "# vis_pod = \"proc-pb-test-20211111-00059-vis-receive-00-0\"\n",
    "# !kubectl -n $ns-sdp describe pod $vis_pod | grep net1 -A 3\n",
    "output_host = \"10.50.1.34\""
   ]
  },
  {
   "cell_type": "code",
   "execution_count": 19,
   "metadata": {},
   "outputs": [
    {
     "name": "stdout",
     "output_type": "stream",
     "text": [
      "Running the Configure command: subarray obsstate should go to Ready\n",
      "\n",
      "configure_scan_json file contents: \n",
      "{'interface': 'https://schema.skao.int/ska-tmc-configure/2.0', 'pointing': {'target': {'reference_frame': 'ICRS', 'target_name': 'Polaris Australis', 'ra': '21:08:47.92', 'dec': '-88:57:22.9'}}, 'sdp': {'interface': 'https://schema.skao.int/ska-sdp-configure/0.4', 'scan_type': 'science'}, 'csp': {'interface': 'https://schema.skao.int/ska-csp-configure/2.4', 'subarray': {'subarray_name': 'Single receptor'}, 'common': {'config_id': '1 receptor, band 1, 1 FSP, no options', 'frequency_band': '1', 'subarray_id': 1}, 'cbf': {'delay_model_subscription_point': 'ska_mid/tm_leaf_node/csp_subarray01/delayModel', 'rfi_flagging_mask': {}, 'fsp': [{'fsp_id': 1, 'function_mode': 'CORR', 'receptors': ['SKA001'], 'frequency_slice_id': 1, 'zoom_factor': 1, 'zoom_window_tuning': 450000, 'integration_factor': 10, 'channel_offset': 0, 'output_link_map': [[0, 1]], 'output_host': [[0, '10.50.1.34']], 'output_port': [[0, 21000], [20, 21001], [40, 21002], [60, 21003], [80, 21004], [100, 21005], [120, 21006], [140, 21007], [160, 21008], [180, 21009], [200, 21010], [220, 21011], [240, 21012], [260, 21013], [280, 21014], [300, 21015], [320, 21016], [340, 21017], [360, 21018], [380, 21019], [400, 21020], [420, 21021], [440, 21022], [460, 21023], [480, 21024], [500, 21025], [520, 21026], [540, 21027], [560, 21028], [580, 21029], [600, 21030], [620, 21031], [640, 21032], [660, 21033], [680, 21034], [700, 21035], [720, 21036], [740, 21037], [760, 21038], [780, 21039], [800, 21040], [820, 21041], [840, 21042], [860, 21043], [880, 21044], [900, 21045], [920, 21046], [940, 21047], [960, 21048], [980, 21049], [1000, 21050], [1020, 21051], [1040, 21052], [1060, 21053], [1080, 21054], [1100, 21055], [1120, 21056], [1140, 21057], [1160, 21058], [1180, 21059], [1200, 21060], [1220, 21061], [1240, 21062], [1260, 21063], [1280, 21064], [1300, 21065], [1320, 21066], [1340, 21067], [1360, 21068], [1380, 21069], [1400, 21070], [1420, 21071], [1440, 21072], [1460, 21073], [1480, 21074], [1500, 21075], [1520, 21076], [1540, 21077], [1560, 21078], [1580, 21079], [1600, 21080], [1620, 21081], [1640, 21082], [1660, 21083], [1680, 21084], [1700, 21085], [1720, 21086], [1740, 21087], [1760, 21088], [1780, 21089], [1800, 21090], [1820, 21091], [1840, 21092], [1860, 21093], [1880, 21094], [1900, 21095], [1920, 21096], [1940, 21097], [1960, 21098], [1980, 21099], [2000, 21100], [2020, 21101], [2040, 21102], [2060, 21103], [2080, 21104], [2100, 21105], [2120, 21106], [2140, 21107], [2160, 21108], [2180, 21109], [2200, 21110], [2220, 21111], [2240, 21112], [2260, 21113], [2280, 21114], [2300, 21115], [2320, 21116], [2340, 21117], [2360, 21118], [2380, 21119], [2400, 21120], [2420, 21121], [2440, 21122], [2460, 21123], [2480, 21124], [2500, 21125], [2520, 21126], [2540, 21127], [2560, 21128], [2580, 21129], [2600, 21130], [2620, 21131], [2640, 21132], [2660, 21133], [2680, 21134], [2700, 21135], [2720, 21136], [2740, 21137], [2760, 21138], [2780, 21139], [2800, 21140], [2820, 21141], [2840, 21142], [2860, 21143], [2880, 21144], [2900, 21145], [2920, 21146], [2940, 21147], [2960, 21148], [2980, 21149], [3000, 21150], [3020, 21151], [3040, 21152], [3060, 21153], [3080, 21154], [3100, 21155], [3120, 21156], [3140, 21157], [3160, 21158], [3180, 21159], [3200, 21160], [3220, 21161], [3240, 21162], [3260, 21163], [3280, 21164], [3300, 21165], [3320, 21166], [3340, 21167], [3360, 21168], [3380, 21169], [3400, 21170], [3420, 21171], [3440, 21172], [3460, 21173], [3480, 21174], [3500, 21175], [3520, 21176], [3540, 21177], [3560, 21178], [3580, 21179], [3600, 21180], [3620, 21181], [3640, 21182], [3660, 21183], [3680, 21184], [3700, 21185], [3720, 21186], [3740, 21187], [3760, 21188], [3780, 21189], [3800, 21190], [3820, 21191], [3840, 21192], [3860, 21193], [3880, 21194], [3900, 21195], [3920, 21196], [3940, 21197], [3960, 21198], [3980, 21199], [4000, 21200], [4020, 21201], [4040, 21202], [4060, 21203], [4080, 21204], [4100, 21205], [4120, 21206], [4140, 21207], [4160, 21208], [4180, 21209], [4200, 21210], [4220, 21211], [4240, 21212], [4260, 21213], [4280, 21214], [4300, 21215], [4320, 21216], [4340, 21217], [4360, 21218], [4380, 21219], [4400, 21220], [4420, 21221], [4440, 21222], [4460, 21223], [4480, 21224], [4500, 21225], [4520, 21226], [4540, 21227], [4560, 21228], [4580, 21229], [4600, 21230], [4620, 21231], [4640, 21232], [4660, 21233], [4680, 21234], [4700, 21235], [4720, 21236], [4740, 21237], [4760, 21238], [4780, 21239], [4800, 21240], [4820, 21241], [4840, 21242], [4860, 21243], [4880, 21244], [4900, 21245], [4920, 21246], [4940, 21247], [4960, 21248], [4980, 21249], [5000, 21250], [5020, 21251], [5040, 21252], [5060, 21253], [5080, 21254], [5100, 21255], [5120, 21256], [5140, 21257], [5160, 21258], [5180, 21259], [5200, 21260], [5220, 21261], [5240, 21262], [5260, 21263], [5280, 21264], [5300, 21265], [5320, 21266], [5340, 21267], [5360, 21268], [5380, 21269], [5400, 21270], [5420, 21271], [5440, 21272], [5460, 21273], [5480, 21274], [5500, 21275], [5520, 21276], [5540, 21277], [5560, 21278], [5580, 21279], [5600, 21280], [5620, 21281], [5640, 21282], [5660, 21283], [5680, 21284], [5700, 21285], [5720, 21286], [5740, 21287], [5760, 21288], [5780, 21289], [5800, 21290], [5820, 21291], [5840, 21292], [5860, 21293], [5880, 21294], [5900, 21295], [5920, 21296], [5940, 21297], [5960, 21298], [5980, 21299], [6000, 21300], [6020, 21301], [6040, 21302], [6060, 21303], [6080, 21304], [6100, 21305], [6120, 21306], [6140, 21307], [6160, 21308], [6180, 21309], [6200, 21310], [6220, 21311], [6240, 21312], [6260, 21313], [6280, 21314], [6300, 21315], [6320, 21316], [6340, 21317], [6360, 21318], [6380, 21319], [6400, 21320], [6420, 21321], [6440, 21322], [6460, 21323], [6480, 21324], [6500, 21325], [6520, 21326], [6540, 21327], [6560, 21328], [6580, 21329], [6600, 21330], [6620, 21331], [6640, 21332], [6660, 21333], [6680, 21334], [6700, 21335], [6720, 21336], [6740, 21337], [6760, 21338], [6780, 21339], [6800, 21340], [6820, 21341], [6840, 21342], [6860, 21343], [6880, 21344], [6900, 21345], [6920, 21346], [6940, 21347], [6960, 21348], [6980, 21349], [7000, 21350], [7020, 21351], [7040, 21352], [7060, 21353], [7080, 21354], [7100, 21355], [7120, 21356], [7140, 21357], [7160, 21358], [7180, 21359], [7200, 21360], [7220, 21361], [7240, 21362], [7260, 21363], [7280, 21364], [7300, 21365], [7320, 21366], [7340, 21367], [7360, 21368], [7380, 21369], [7400, 21370], [7420, 21371], [7440, 21372], [7460, 21373], [7480, 21374], [7500, 21375], [7520, 21376], [7540, 21377], [7560, 21378], [7580, 21379], [7600, 21380], [7620, 21381], [7640, 21382], [7660, 21383], [7680, 21384], [7700, 21385], [7720, 21386], [7740, 21387], [7760, 21388], [7780, 21389], [7800, 21390], [7820, 21391], [7840, 21392], [7860, 21393], [7880, 21394], [7900, 21395], [7920, 21396], [7940, 21397], [7960, 21398], [7980, 21399], [8000, 21400], [8020, 21401], [8040, 21402], [8060, 21403], [8080, 21404], [8100, 21405], [8120, 21406], [8140, 21407], [8160, 21408], [8180, 21409], [8200, 21410], [8220, 21411], [8240, 21412], [8260, 21413], [8280, 21414], [8300, 21415], [8320, 21416], [8340, 21417], [8360, 21418], [8380, 21419], [8400, 21420], [8420, 21421], [8440, 21422], [8460, 21423], [8480, 21424], [8500, 21425], [8520, 21426], [8540, 21427], [8560, 21428], [8580, 21429], [8600, 21430], [8620, 21431], [8640, 21432], [8660, 21433], [8680, 21434], [8700, 21435], [8720, 21436], [8740, 21437], [8760, 21438], [8780, 21439], [8800, 21440], [8820, 21441], [8840, 21442], [8860, 21443], [8880, 21444], [8900, 21445], [8920, 21446], [8940, 21447], [8960, 21448], [8980, 21449], [9000, 21450], [9020, 21451], [9040, 21452], [9060, 21453], [9080, 21454], [9100, 21455], [9120, 21456], [9140, 21457], [9160, 21458], [9180, 21459], [9200, 21460], [9220, 21461], [9240, 21462], [9260, 21463], [9280, 21464], [9300, 21465], [9320, 21466], [9340, 21467], [9360, 21468], [9380, 21469], [9400, 21470], [9420, 21471], [9440, 21472], [9460, 21473], [9480, 21474], [9500, 21475], [9520, 21476], [9540, 21477], [9560, 21478], [9580, 21479], [9600, 21480], [9620, 21481], [9640, 21482], [9660, 21483], [9680, 21484], [9700, 21485], [9720, 21486], [9740, 21487], [9760, 21488], [9780, 21489], [9800, 21490], [9820, 21491], [9840, 21492], [9860, 21493], [9880, 21494], [9900, 21495], [9920, 21496], [9940, 21497], [9960, 21498], [9980, 21499], [10000, 21500], [10020, 21501], [10040, 21502], [10060, 21503], [10080, 21504], [10100, 21505], [10120, 21506], [10140, 21507], [10160, 21508], [10180, 21509], [10200, 21510], [10220, 21511], [10240, 21512], [10260, 21513], [10280, 21514], [10300, 21515], [10320, 21516], [10340, 21517], [10360, 21518], [10380, 21519], [10400, 21520], [10420, 21521], [10440, 21522], [10460, 21523], [10480, 21524], [10500, 21525], [10520, 21526], [10540, 21527], [10560, 21528], [10580, 21529], [10600, 21530], [10620, 21531], [10640, 21532], [10660, 21533], [10680, 21534], [10700, 21535], [10720, 21536], [10740, 21537], [10760, 21538], [10780, 21539], [10800, 21540], [10820, 21541], [10840, 21542], [10860, 21543], [10880, 21544], [10900, 21545], [10920, 21546], [10940, 21547], [10960, 21548], [10980, 21549], [11000, 21550], [11020, 21551], [11040, 21552], [11060, 21553], [11080, 21554], [11100, 21555], [11120, 21556], [11140, 21557], [11160, 21558], [11180, 21559], [11200, 21560], [11220, 21561], [11240, 21562], [11260, 21563], [11280, 21564], [11300, 21565], [11320, 21566], [11340, 21567], [11360, 21568], [11380, 21569], [11400, 21570], [11420, 21571], [11440, 21572], [11460, 21573], [11480, 21574], [11500, 21575], [11520, 21576], [11540, 21577], [11560, 21578], [11580, 21579], [11600, 21580], [11620, 21581], [11640, 21582], [11660, 21583], [11680, 21584], [11700, 21585], [11720, 21586], [11740, 21587], [11760, 21588], [11780, 21589], [11800, 21590], [11820, 21591], [11840, 21592], [11860, 21593], [11880, 21594], [11900, 21595], [11920, 21596], [11940, 21597], [11960, 21598], [11980, 21599], [12000, 21600], [12020, 21601], [12040, 21602], [12060, 21603], [12080, 21604], [12100, 21605], [12120, 21606], [12140, 21607], [12160, 21608], [12180, 21609], [12200, 21610], [12220, 21611], [12240, 21612], [12260, 21613], [12280, 21614], [12300, 21615], [12320, 21616], [12340, 21617], [12360, 21618], [12380, 21619], [12400, 21620], [12420, 21621], [12440, 21622], [12460, 21623], [12480, 21624], [12500, 21625], [12520, 21626], [12540, 21627], [12560, 21628], [12580, 21629], [12600, 21630], [12620, 21631], [12640, 21632], [12660, 21633], [12680, 21634], [12700, 21635], [12720, 21636], [12740, 21637], [12760, 21638], [12780, 21639], [12800, 21640], [12820, 21641], [12840, 21642], [12860, 21643], [12880, 21644], [12900, 21645], [12920, 21646], [12940, 21647], [12960, 21648], [12980, 21649], [13000, 21650], [13020, 21651], [13040, 21652], [13060, 21653], [13080, 21654], [13100, 21655], [13120, 21656], [13140, 21657], [13160, 21658], [13180, 21659], [13200, 21660], [13220, 21661], [13240, 21662], [13260, 21663], [13280, 21664], [13300, 21665], [13320, 21666], [13340, 21667], [13360, 21668], [13380, 21669], [13400, 21670], [13420, 21671], [13440, 21672], [13460, 21673], [13480, 21674], [13500, 21675], [13520, 21676], [13540, 21677], [13560, 21678], [13580, 21679], [13600, 21680], [13620, 21681], [13640, 21682], [13660, 21683], [13680, 21684], [13700, 21685], [13720, 21686], [13740, 21687], [13760, 21688], [13780, 21689], [13800, 21690], [13820, 21691], [13840, 21692], [13860, 21693], [13880, 21694], [13900, 21695], [13920, 21696], [13940, 21697], [13960, 21698], [13980, 21699], [14000, 21700], [14020, 21701], [14040, 21702], [14060, 21703], [14080, 21704], [14100, 21705], [14120, 21706], [14140, 21707], [14160, 21708], [14180, 21709], [14200, 21710], [14220, 21711], [14240, 21712], [14260, 21713], [14280, 21714], [14300, 21715], [14320, 21716], [14340, 21717], [14360, 21718], [14380, 21719], [14400, 21720], [14420, 21721], [14440, 21722], [14460, 21723], [14480, 21724], [14500, 21725], [14520, 21726], [14540, 21727], [14560, 21728], [14580, 21729], [14600, 21730], [14620, 21731], [14640, 21732], [14660, 21733], [14680, 21734], [14700, 21735], [14720, 21736], [14740, 21737], [14760, 21738], [14780, 21739], [14800, 21740], [14820, 21741], [14840, 21742], [14860, 21743]]}]}}, 'tmc': {'scan_duration': 120}, 'dish': {'receiver_band': '1'}}\n",
      "{\"interface\": \"https://schema.skao.int/ska-tmc-configure/2.0\", \"pointing\": {\"target\": {\"reference_frame\": \"ICRS\", \"target_name\": \"Polaris Australis\", \"ra\": \"21:08:47.92\", \"dec\": \"-88:57:22.9\"}}, \"sdp\": {\"interface\": \"https://schema.skao.int/ska-sdp-configure/0.4\", \"scan_type\": \"science\"}, \"csp\": {\"interface\": \"https://schema.skao.int/ska-csp-configure/2.4\", \"subarray\": {\"subarray_name\": \"Single receptor\"}, \"common\": {\"config_id\": \"1 receptor, band 1, 1 FSP, no options\", \"frequency_band\": \"1\", \"subarray_id\": 1}, \"cbf\": {\"delay_model_subscription_point\": \"ska_mid/tm_leaf_node/csp_subarray01/delayModel\", \"rfi_flagging_mask\": {}, \"fsp\": [{\"fsp_id\": 1, \"function_mode\": \"CORR\", \"receptors\": [\"SKA001\"], \"frequency_slice_id\": 1, \"zoom_factor\": 1, \"zoom_window_tuning\": 450000, \"integration_factor\": 10, \"channel_offset\": 0, \"output_link_map\": [[0, 1]], \"output_host\": [[0, \"10.50.1.34\"]], \"output_port\": [[0, 21000], [20, 21001], [40, 21002], [60, 21003], [80, 21004], [100, 21005], [120, 21006], [140, 21007], [160, 21008], [180, 21009], [200, 21010], [220, 21011], [240, 21012], [260, 21013], [280, 21014], [300, 21015], [320, 21016], [340, 21017], [360, 21018], [380, 21019], [400, 21020], [420, 21021], [440, 21022], [460, 21023], [480, 21024], [500, 21025], [520, 21026], [540, 21027], [560, 21028], [580, 21029], [600, 21030], [620, 21031], [640, 21032], [660, 21033], [680, 21034], [700, 21035], [720, 21036], [740, 21037], [760, 21038], [780, 21039], [800, 21040], [820, 21041], [840, 21042], [860, 21043], [880, 21044], [900, 21045], [920, 21046], [940, 21047], [960, 21048], [980, 21049], [1000, 21050], [1020, 21051], [1040, 21052], [1060, 21053], [1080, 21054], [1100, 21055], [1120, 21056], [1140, 21057], [1160, 21058], [1180, 21059], [1200, 21060], [1220, 21061], [1240, 21062], [1260, 21063], [1280, 21064], [1300, 21065], [1320, 21066], [1340, 21067], [1360, 21068], [1380, 21069], [1400, 21070], [1420, 21071], [1440, 21072], [1460, 21073], [1480, 21074], [1500, 21075], [1520, 21076], [1540, 21077], [1560, 21078], [1580, 21079], [1600, 21080], [1620, 21081], [1640, 21082], [1660, 21083], [1680, 21084], [1700, 21085], [1720, 21086], [1740, 21087], [1760, 21088], [1780, 21089], [1800, 21090], [1820, 21091], [1840, 21092], [1860, 21093], [1880, 21094], [1900, 21095], [1920, 21096], [1940, 21097], [1960, 21098], [1980, 21099], [2000, 21100], [2020, 21101], [2040, 21102], [2060, 21103], [2080, 21104], [2100, 21105], [2120, 21106], [2140, 21107], [2160, 21108], [2180, 21109], [2200, 21110], [2220, 21111], [2240, 21112], [2260, 21113], [2280, 21114], [2300, 21115], [2320, 21116], [2340, 21117], [2360, 21118], [2380, 21119], [2400, 21120], [2420, 21121], [2440, 21122], [2460, 21123], [2480, 21124], [2500, 21125], [2520, 21126], [2540, 21127], [2560, 21128], [2580, 21129], [2600, 21130], [2620, 21131], [2640, 21132], [2660, 21133], [2680, 21134], [2700, 21135], [2720, 21136], [2740, 21137], [2760, 21138], [2780, 21139], [2800, 21140], [2820, 21141], [2840, 21142], [2860, 21143], [2880, 21144], [2900, 21145], [2920, 21146], [2940, 21147], [2960, 21148], [2980, 21149], [3000, 21150], [3020, 21151], [3040, 21152], [3060, 21153], [3080, 21154], [3100, 21155], [3120, 21156], [3140, 21157], [3160, 21158], [3180, 21159], [3200, 21160], [3220, 21161], [3240, 21162], [3260, 21163], [3280, 21164], [3300, 21165], [3320, 21166], [3340, 21167], [3360, 21168], [3380, 21169], [3400, 21170], [3420, 21171], [3440, 21172], [3460, 21173], [3480, 21174], [3500, 21175], [3520, 21176], [3540, 21177], [3560, 21178], [3580, 21179], [3600, 21180], [3620, 21181], [3640, 21182], [3660, 21183], [3680, 21184], [3700, 21185], [3720, 21186], [3740, 21187], [3760, 21188], [3780, 21189], [3800, 21190], [3820, 21191], [3840, 21192], [3860, 21193], [3880, 21194], [3900, 21195], [3920, 21196], [3940, 21197], [3960, 21198], [3980, 21199], [4000, 21200], [4020, 21201], [4040, 21202], [4060, 21203], [4080, 21204], [4100, 21205], [4120, 21206], [4140, 21207], [4160, 21208], [4180, 21209], [4200, 21210], [4220, 21211], [4240, 21212], [4260, 21213], [4280, 21214], [4300, 21215], [4320, 21216], [4340, 21217], [4360, 21218], [4380, 21219], [4400, 21220], [4420, 21221], [4440, 21222], [4460, 21223], [4480, 21224], [4500, 21225], [4520, 21226], [4540, 21227], [4560, 21228], [4580, 21229], [4600, 21230], [4620, 21231], [4640, 21232], [4660, 21233], [4680, 21234], [4700, 21235], [4720, 21236], [4740, 21237], [4760, 21238], [4780, 21239], [4800, 21240], [4820, 21241], [4840, 21242], [4860, 21243], [4880, 21244], [4900, 21245], [4920, 21246], [4940, 21247], [4960, 21248], [4980, 21249], [5000, 21250], [5020, 21251], [5040, 21252], [5060, 21253], [5080, 21254], [5100, 21255], [5120, 21256], [5140, 21257], [5160, 21258], [5180, 21259], [5200, 21260], [5220, 21261], [5240, 21262], [5260, 21263], [5280, 21264], [5300, 21265], [5320, 21266], [5340, 21267], [5360, 21268], [5380, 21269], [5400, 21270], [5420, 21271], [5440, 21272], [5460, 21273], [5480, 21274], [5500, 21275], [5520, 21276], [5540, 21277], [5560, 21278], [5580, 21279], [5600, 21280], [5620, 21281], [5640, 21282], [5660, 21283], [5680, 21284], [5700, 21285], [5720, 21286], [5740, 21287], [5760, 21288], [5780, 21289], [5800, 21290], [5820, 21291], [5840, 21292], [5860, 21293], [5880, 21294], [5900, 21295], [5920, 21296], [5940, 21297], [5960, 21298], [5980, 21299], [6000, 21300], [6020, 21301], [6040, 21302], [6060, 21303], [6080, 21304], [6100, 21305], [6120, 21306], [6140, 21307], [6160, 21308], [6180, 21309], [6200, 21310], [6220, 21311], [6240, 21312], [6260, 21313], [6280, 21314], [6300, 21315], [6320, 21316], [6340, 21317], [6360, 21318], [6380, 21319], [6400, 21320], [6420, 21321], [6440, 21322], [6460, 21323], [6480, 21324], [6500, 21325], [6520, 21326], [6540, 21327], [6560, 21328], [6580, 21329], [6600, 21330], [6620, 21331], [6640, 21332], [6660, 21333], [6680, 21334], [6700, 21335], [6720, 21336], [6740, 21337], [6760, 21338], [6780, 21339], [6800, 21340], [6820, 21341], [6840, 21342], [6860, 21343], [6880, 21344], [6900, 21345], [6920, 21346], [6940, 21347], [6960, 21348], [6980, 21349], [7000, 21350], [7020, 21351], [7040, 21352], [7060, 21353], [7080, 21354], [7100, 21355], [7120, 21356], [7140, 21357], [7160, 21358], [7180, 21359], [7200, 21360], [7220, 21361], [7240, 21362], [7260, 21363], [7280, 21364], [7300, 21365], [7320, 21366], [7340, 21367], [7360, 21368], [7380, 21369], [7400, 21370], [7420, 21371], [7440, 21372], [7460, 21373], [7480, 21374], [7500, 21375], [7520, 21376], [7540, 21377], [7560, 21378], [7580, 21379], [7600, 21380], [7620, 21381], [7640, 21382], [7660, 21383], [7680, 21384], [7700, 21385], [7720, 21386], [7740, 21387], [7760, 21388], [7780, 21389], [7800, 21390], [7820, 21391], [7840, 21392], [7860, 21393], [7880, 21394], [7900, 21395], [7920, 21396], [7940, 21397], [7960, 21398], [7980, 21399], [8000, 21400], [8020, 21401], [8040, 21402], [8060, 21403], [8080, 21404], [8100, 21405], [8120, 21406], [8140, 21407], [8160, 21408], [8180, 21409], [8200, 21410], [8220, 21411], [8240, 21412], [8260, 21413], [8280, 21414], [8300, 21415], [8320, 21416], [8340, 21417], [8360, 21418], [8380, 21419], [8400, 21420], [8420, 21421], [8440, 21422], [8460, 21423], [8480, 21424], [8500, 21425], [8520, 21426], [8540, 21427], [8560, 21428], [8580, 21429], [8600, 21430], [8620, 21431], [8640, 21432], [8660, 21433], [8680, 21434], [8700, 21435], [8720, 21436], [8740, 21437], [8760, 21438], [8780, 21439], [8800, 21440], [8820, 21441], [8840, 21442], [8860, 21443], [8880, 21444], [8900, 21445], [8920, 21446], [8940, 21447], [8960, 21448], [8980, 21449], [9000, 21450], [9020, 21451], [9040, 21452], [9060, 21453], [9080, 21454], [9100, 21455], [9120, 21456], [9140, 21457], [9160, 21458], [9180, 21459], [9200, 21460], [9220, 21461], [9240, 21462], [9260, 21463], [9280, 21464], [9300, 21465], [9320, 21466], [9340, 21467], [9360, 21468], [9380, 21469], [9400, 21470], [9420, 21471], [9440, 21472], [9460, 21473], [9480, 21474], [9500, 21475], [9520, 21476], [9540, 21477], [9560, 21478], [9580, 21479], [9600, 21480], [9620, 21481], [9640, 21482], [9660, 21483], [9680, 21484], [9700, 21485], [9720, 21486], [9740, 21487], [9760, 21488], [9780, 21489], [9800, 21490], [9820, 21491], [9840, 21492], [9860, 21493], [9880, 21494], [9900, 21495], [9920, 21496], [9940, 21497], [9960, 21498], [9980, 21499], [10000, 21500], [10020, 21501], [10040, 21502], [10060, 21503], [10080, 21504], [10100, 21505], [10120, 21506], [10140, 21507], [10160, 21508], [10180, 21509], [10200, 21510], [10220, 21511], [10240, 21512], [10260, 21513], [10280, 21514], [10300, 21515], [10320, 21516], [10340, 21517], [10360, 21518], [10380, 21519], [10400, 21520], [10420, 21521], [10440, 21522], [10460, 21523], [10480, 21524], [10500, 21525], [10520, 21526], [10540, 21527], [10560, 21528], [10580, 21529], [10600, 21530], [10620, 21531], [10640, 21532], [10660, 21533], [10680, 21534], [10700, 21535], [10720, 21536], [10740, 21537], [10760, 21538], [10780, 21539], [10800, 21540], [10820, 21541], [10840, 21542], [10860, 21543], [10880, 21544], [10900, 21545], [10920, 21546], [10940, 21547], [10960, 21548], [10980, 21549], [11000, 21550], [11020, 21551], [11040, 21552], [11060, 21553], [11080, 21554], [11100, 21555], [11120, 21556], [11140, 21557], [11160, 21558], [11180, 21559], [11200, 21560], [11220, 21561], [11240, 21562], [11260, 21563], [11280, 21564], [11300, 21565], [11320, 21566], [11340, 21567], [11360, 21568], [11380, 21569], [11400, 21570], [11420, 21571], [11440, 21572], [11460, 21573], [11480, 21574], [11500, 21575], [11520, 21576], [11540, 21577], [11560, 21578], [11580, 21579], [11600, 21580], [11620, 21581], [11640, 21582], [11660, 21583], [11680, 21584], [11700, 21585], [11720, 21586], [11740, 21587], [11760, 21588], [11780, 21589], [11800, 21590], [11820, 21591], [11840, 21592], [11860, 21593], [11880, 21594], [11900, 21595], [11920, 21596], [11940, 21597], [11960, 21598], [11980, 21599], [12000, 21600], [12020, 21601], [12040, 21602], [12060, 21603], [12080, 21604], [12100, 21605], [12120, 21606], [12140, 21607], [12160, 21608], [12180, 21609], [12200, 21610], [12220, 21611], [12240, 21612], [12260, 21613], [12280, 21614], [12300, 21615], [12320, 21616], [12340, 21617], [12360, 21618], [12380, 21619], [12400, 21620], [12420, 21621], [12440, 21622], [12460, 21623], [12480, 21624], [12500, 21625], [12520, 21626], [12540, 21627], [12560, 21628], [12580, 21629], [12600, 21630], [12620, 21631], [12640, 21632], [12660, 21633], [12680, 21634], [12700, 21635], [12720, 21636], [12740, 21637], [12760, 21638], [12780, 21639], [12800, 21640], [12820, 21641], [12840, 21642], [12860, 21643], [12880, 21644], [12900, 21645], [12920, 21646], [12940, 21647], [12960, 21648], [12980, 21649], [13000, 21650], [13020, 21651], [13040, 21652], [13060, 21653], [13080, 21654], [13100, 21655], [13120, 21656], [13140, 21657], [13160, 21658], [13180, 21659], [13200, 21660], [13220, 21661], [13240, 21662], [13260, 21663], [13280, 21664], [13300, 21665], [13320, 21666], [13340, 21667], [13360, 21668], [13380, 21669], [13400, 21670], [13420, 21671], [13440, 21672], [13460, 21673], [13480, 21674], [13500, 21675], [13520, 21676], [13540, 21677], [13560, 21678], [13580, 21679], [13600, 21680], [13620, 21681], [13640, 21682], [13660, 21683], [13680, 21684], [13700, 21685], [13720, 21686], [13740, 21687], [13760, 21688], [13780, 21689], [13800, 21690], [13820, 21691], [13840, 21692], [13860, 21693], [13880, 21694], [13900, 21695], [13920, 21696], [13940, 21697], [13960, 21698], [13980, 21699], [14000, 21700], [14020, 21701], [14040, 21702], [14060, 21703], [14080, 21704], [14100, 21705], [14120, 21706], [14140, 21707], [14160, 21708], [14180, 21709], [14200, 21710], [14220, 21711], [14240, 21712], [14260, 21713], [14280, 21714], [14300, 21715], [14320, 21716], [14340, 21717], [14360, 21718], [14380, 21719], [14400, 21720], [14420, 21721], [14440, 21722], [14460, 21723], [14480, 21724], [14500, 21725], [14520, 21726], [14540, 21727], [14560, 21728], [14580, 21729], [14600, 21730], [14620, 21731], [14640, 21732], [14660, 21733], [14680, 21734], [14700, 21735], [14720, 21736], [14740, 21737], [14760, 21738], [14780, 21739], [14800, 21740], [14820, 21741], [14840, 21742], [14860, 21743]]}]}}, \"tmc\": {\"scan_duration\": 120}, \"dish\": {\"receiver_band\": \"1\"}}\n",
      "SDP Subarray Observation State: 2\n",
      "CSP Subarray Observation State: 2\n"
     ]
    }
   ],
   "source": [
    "print(\"Running the Configure command: subarray obsstate should go to Ready\")\n",
    "port_list = []\n",
    "run = 0\n",
    "while run * 20 + START_CHANNEL <= END_CHANNEL:\n",
    "    port_list.append([run * 20 + START_CHANNEL, START_PORT + run])\n",
    "    run += 1\n",
    "\n",
    "with open(CONFIGURE_SCAN_FILE, encoding=\"utf-8\") as f:\n",
    "    configure_scan_json = json.load(f)\n",
    "\n",
    "configure_scan_json[\"csp\"][\"cbf\"][\"fsp\"][0][\"output_host\"][0][0] = 0\n",
    "configure_scan_json[\"csp\"][\"cbf\"][\"fsp\"][0][\"output_host\"][0][1] = output_host\n",
    "configure_scan_json[\"csp\"][\"cbf\"][\"fsp\"][0][\"output_port\"] = port_list\n",
    "print(f\"\\nconfigure_scan_json file contents: \\n{configure_scan_json}\")\n",
    "\n",
    "print(json.dumps(configure_scan_json))\n",
    "\n",
    "tmc_subarray.Configure(json.dumps(configure_scan_json))\n",
    "    \n",
    "sleep(12)\n",
    "print(f\"SDP Subarray Observation State: {sdp_subarray_leaf_node_dp.sdpSubarrayObsState}\")\n",
    "print(f\"CSP Subarray Observation State: {csp_subarray_leaf_node_dp.cspSubarrayObsState}\")"
   ]
  },
  {
   "cell_type": "code",
   "execution_count": 20,
   "metadata": {},
   "outputs": [
    {
     "name": "stdout",
     "output_type": "stream",
     "text": [
      "\n",
      "CBF Subarray Observation State: 2\n"
     ]
    }
   ],
   "source": [
    "print(f\"\\nCBF Subarray Observation State: {cbf_subarray.obsState}\")"
   ]
  },
  {
   "cell_type": "markdown",
   "metadata": {},
   "source": [
    "### Scan"
   ]
  },
  {
   "cell_type": "markdown",
   "metadata": {},
   "source": [
    "DO NOT USE FOR NOW"
   ]
  },
  {
   "cell_type": "code",
   "execution_count": 21,
   "metadata": {},
   "outputs": [
    {
     "name": "stdout",
     "output_type": "stream",
     "text": [
      "Running the Scan command: subarray obsstate should go to Scanning\n",
      "\n",
      "scan_json file contents: \n",
      "{\n",
      "  \"sdp\": {\n",
      "  \"interface\": \"https://schema.skao.int/ska-sdp-scan/0.4\",\n",
      "  \"scan_id\": 1\n",
      "  },\n",
      "  \"csp\": {\n",
      "  \"interface\": \"https://schema.skao.int/ska-csp-scan/2.2\",\n",
      "  \"scan_id\": 1\n",
      "  }\n",
      "}\n",
      "  \n"
     ]
    },
    {
     "ename": "DevFailed",
     "evalue": "DevFailed[\nDevError[\n    desc = ska_tango_base.faults.StateModelError: Scan command not permitted in observation state IDLE\n           \n  origin = Traceback (most recent call last):\n  File \"/usr/local/lib/python3.10/dist-packages/tango/device_server.py\", line 85, in wrapper\n    return get_worker().execute(fn, *args, **kwargs)\n  File \"/usr/local/lib/python3.10/dist-packages/tango/green.py\", line 101, in execute\n    return fn(*args, **kwargs)\n  File \"/app/src/ska_tmc_subarraynode/subarray_node.py\", line 475, in is_Scan_allowed\n    super().is_Scan_allowed()\n  File \"/usr/local/lib/python3.10/dist-packages/ska_tango_base/subarray/subarray_device.py\", line 744, in is_Scan_allowed\n    raise StateModelError(\nska_tango_base.faults.StateModelError: Scan command not permitted in observation state IDLE\n\n  reason = PyDs_PythonError\nseverity = ERR]\n\nDevError[\n    desc = Failed to execute command_inout on device ska_mid/tm_subarray_node/1, command Scan\n  origin = virtual Tango::DeviceData Tango::Connection::command_inout(const string&, const Tango::DeviceData&) at (/src/cppTango/cppapi/client/devapi_base.cpp:1338)\n  reason = API_CommandFailed\nseverity = ERR]\n]",
     "output_type": "error",
     "traceback": [
      "\u001b[0;31m---------------------------------------------------------------------------\u001b[0m",
      "\u001b[0;31mDevFailed\u001b[0m                                 Traceback (most recent call last)",
      "Cell \u001b[0;32mIn[21], line 8\u001b[0m\n\u001b[1;32m      4\u001b[0m     scan_json \u001b[38;5;241m=\u001b[39m f\u001b[38;5;241m.\u001b[39mread()\n\u001b[1;32m      6\u001b[0m \u001b[38;5;28mprint\u001b[39m(\u001b[38;5;124mf\u001b[39m\u001b[38;5;124m\"\u001b[39m\u001b[38;5;130;01m\\n\u001b[39;00m\u001b[38;5;124mscan_json file contents: \u001b[39m\u001b[38;5;130;01m\\n\u001b[39;00m\u001b[38;5;132;01m{\u001b[39;00mscan_json\u001b[38;5;132;01m}\u001b[39;00m\u001b[38;5;124m\"\u001b[39m)\n\u001b[0;32m----> 8\u001b[0m \u001b[43mtmc_subarray\u001b[49m\u001b[38;5;241;43m.\u001b[39;49m\u001b[43mScan\u001b[49m\u001b[43m(\u001b[49m\u001b[43mscan_json\u001b[49m\u001b[43m)\u001b[49m\n\u001b[1;32m     10\u001b[0m sleep(\u001b[38;5;241m2\u001b[39m)\n\u001b[1;32m     11\u001b[0m \u001b[38;5;28mprint\u001b[39m(\u001b[38;5;124mf\u001b[39m\u001b[38;5;124m\"\u001b[39m\u001b[38;5;130;01m\\n\u001b[39;00m\u001b[38;5;124mCBF Subarray Observation State: \u001b[39m\u001b[38;5;132;01m{\u001b[39;00mcbf_subarray\u001b[38;5;241m.\u001b[39mobsState\u001b[38;5;132;01m}\u001b[39;00m\u001b[38;5;124m\"\u001b[39m)\n",
      "File \u001b[0;32m~/venv/lib/python3.10/site-packages/tango/device_proxy.py:336\u001b[0m, in \u001b[0;36m__get_command_func.<locals>.f\u001b[0;34m(*args, **kwds)\u001b[0m\n\u001b[1;32m    335\u001b[0m \u001b[38;5;28;01mdef\u001b[39;00m \u001b[38;5;21mf\u001b[39m(\u001b[38;5;241m*\u001b[39margs, \u001b[38;5;241m*\u001b[39m\u001b[38;5;241m*\u001b[39mkwds):\n\u001b[0;32m--> 336\u001b[0m     \u001b[38;5;28;01mreturn\u001b[39;00m \u001b[43mdp\u001b[49m\u001b[38;5;241;43m.\u001b[39;49m\u001b[43mcommand_inout\u001b[49m\u001b[43m(\u001b[49m\u001b[43mname\u001b[49m\u001b[43m,\u001b[49m\u001b[43m \u001b[49m\u001b[38;5;241;43m*\u001b[39;49m\u001b[43margs\u001b[49m\u001b[43m,\u001b[49m\u001b[43m \u001b[49m\u001b[38;5;241;43m*\u001b[39;49m\u001b[38;5;241;43m*\u001b[39;49m\u001b[43mkwds\u001b[49m\u001b[43m)\u001b[49m\n",
      "File \u001b[0;32m~/venv/lib/python3.10/site-packages/tango/green.py:204\u001b[0m, in \u001b[0;36mgreen.<locals>.decorator.<locals>.greener\u001b[0;34m(obj, *args, **kwargs)\u001b[0m\n\u001b[1;32m    202\u001b[0m green_mode \u001b[38;5;241m=\u001b[39m access(\u001b[38;5;124m\"\u001b[39m\u001b[38;5;124mgreen_mode\u001b[39m\u001b[38;5;124m\"\u001b[39m, \u001b[38;5;28;01mNone\u001b[39;00m)\n\u001b[1;32m    203\u001b[0m executor \u001b[38;5;241m=\u001b[39m get_object_executor(obj, green_mode)\n\u001b[0;32m--> 204\u001b[0m \u001b[38;5;28;01mreturn\u001b[39;00m \u001b[43mexecutor\u001b[49m\u001b[38;5;241;43m.\u001b[39;49m\u001b[43mrun\u001b[49m\u001b[43m(\u001b[49m\u001b[43mfn\u001b[49m\u001b[43m,\u001b[49m\u001b[43m \u001b[49m\u001b[43margs\u001b[49m\u001b[43m,\u001b[49m\u001b[43m \u001b[49m\u001b[43mkwargs\u001b[49m\u001b[43m,\u001b[49m\u001b[43m \u001b[49m\u001b[43mwait\u001b[49m\u001b[38;5;241;43m=\u001b[39;49m\u001b[43mwait\u001b[49m\u001b[43m,\u001b[49m\u001b[43m \u001b[49m\u001b[43mtimeout\u001b[49m\u001b[38;5;241;43m=\u001b[39;49m\u001b[43mtimeout\u001b[49m\u001b[43m)\u001b[49m\n",
      "File \u001b[0;32m~/venv/lib/python3.10/site-packages/tango/green.py:112\u001b[0m, in \u001b[0;36mAbstractExecutor.run\u001b[0;34m(self, fn, args, kwargs, wait, timeout)\u001b[0m\n\u001b[1;32m    110\u001b[0m \u001b[38;5;66;03m# Synchronous (no delegation)\u001b[39;00m\n\u001b[1;32m    111\u001b[0m \u001b[38;5;28;01mif\u001b[39;00m \u001b[38;5;129;01mnot\u001b[39;00m \u001b[38;5;28mself\u001b[39m\u001b[38;5;241m.\u001b[39masynchronous \u001b[38;5;129;01mor\u001b[39;00m \u001b[38;5;129;01mnot\u001b[39;00m \u001b[38;5;28mself\u001b[39m\u001b[38;5;241m.\u001b[39min_executor_context():\n\u001b[0;32m--> 112\u001b[0m     \u001b[38;5;28;01mreturn\u001b[39;00m \u001b[43mfn\u001b[49m\u001b[43m(\u001b[49m\u001b[38;5;241;43m*\u001b[39;49m\u001b[43margs\u001b[49m\u001b[43m,\u001b[49m\u001b[43m \u001b[49m\u001b[38;5;241;43m*\u001b[39;49m\u001b[38;5;241;43m*\u001b[39;49m\u001b[43mkwargs\u001b[49m\u001b[43m)\u001b[49m\n\u001b[1;32m    113\u001b[0m \u001b[38;5;66;03m# Asynchronous delegation\u001b[39;00m\n\u001b[1;32m    114\u001b[0m accessor \u001b[38;5;241m=\u001b[39m \u001b[38;5;28mself\u001b[39m\u001b[38;5;241m.\u001b[39mdelegate(fn, \u001b[38;5;241m*\u001b[39margs, \u001b[38;5;241m*\u001b[39m\u001b[38;5;241m*\u001b[39mkwargs)\n",
      "File \u001b[0;32m~/venv/lib/python3.10/site-packages/tango/connection.py:116\u001b[0m, in \u001b[0;36m__Connection__command_inout\u001b[0;34m(self, name, *args, **kwds)\u001b[0m\n\u001b[1;32m     84\u001b[0m \u001b[38;5;28;01mdef\u001b[39;00m \u001b[38;5;21m__Connection__command_inout\u001b[39m(\u001b[38;5;28mself\u001b[39m, name, \u001b[38;5;241m*\u001b[39margs, \u001b[38;5;241m*\u001b[39m\u001b[38;5;241m*\u001b[39mkwds):\n\u001b[1;32m     85\u001b[0m \u001b[38;5;250m    \u001b[39m\u001b[38;5;124;03m\"\"\"\u001b[39;00m\n\u001b[1;32m     86\u001b[0m \u001b[38;5;124;03m    command_inout( self, cmd_name, cmd_param=None, green_mode=None, wait=True, timeout=None) -> any\u001b[39;00m\n\u001b[1;32m     87\u001b[0m \n\u001b[0;32m   (...)\u001b[0m\n\u001b[1;32m    114\u001b[0m \u001b[38;5;124;03m        *timeout* parameter.\u001b[39;00m\n\u001b[1;32m    115\u001b[0m \u001b[38;5;124;03m    \"\"\"\u001b[39;00m\n\u001b[0;32m--> 116\u001b[0m     r \u001b[38;5;241m=\u001b[39m \u001b[43mConnection\u001b[49m\u001b[38;5;241;43m.\u001b[39;49m\u001b[43mcommand_inout_raw\u001b[49m\u001b[43m(\u001b[49m\u001b[38;5;28;43mself\u001b[39;49m\u001b[43m,\u001b[49m\u001b[43m \u001b[49m\u001b[43mname\u001b[49m\u001b[43m,\u001b[49m\u001b[43m \u001b[49m\u001b[38;5;241;43m*\u001b[39;49m\u001b[43margs\u001b[49m\u001b[43m,\u001b[49m\u001b[43m \u001b[49m\u001b[38;5;241;43m*\u001b[39;49m\u001b[38;5;241;43m*\u001b[39;49m\u001b[43mkwds\u001b[49m\u001b[43m)\u001b[49m\n\u001b[1;32m    117\u001b[0m     \u001b[38;5;28;01mif\u001b[39;00m \u001b[38;5;28misinstance\u001b[39m(r, DeviceData):\n\u001b[1;32m    118\u001b[0m         \u001b[38;5;28;01mtry\u001b[39;00m:\n",
      "File \u001b[0;32m~/venv/lib/python3.10/site-packages/tango/connection.py:145\u001b[0m, in \u001b[0;36m__Connection__command_inout_raw\u001b[0;34m(self, cmd_name, cmd_param)\u001b[0m\n\u001b[1;32m    130\u001b[0m \u001b[38;5;250m\u001b[39m\u001b[38;5;124;03m\"\"\"\u001b[39;00m\n\u001b[1;32m    131\u001b[0m \u001b[38;5;124;03mcommand_inout_raw( self, cmd_name, cmd_param=None) -> DeviceData\u001b[39;00m\n\u001b[1;32m    132\u001b[0m \n\u001b[0;32m   (...)\u001b[0m\n\u001b[1;32m    142\u001b[0m \u001b[38;5;124;03m    Throws     : ConnectionFailed, CommunicationFailed, DeviceUnlocked, DevFailed from device\u001b[39;00m\n\u001b[1;32m    143\u001b[0m \u001b[38;5;124;03m\"\"\"\u001b[39;00m\n\u001b[1;32m    144\u001b[0m param \u001b[38;5;241m=\u001b[39m __get_command_inout_param(\u001b[38;5;28mself\u001b[39m, cmd_name, cmd_param)\n\u001b[0;32m--> 145\u001b[0m \u001b[38;5;28;01mreturn\u001b[39;00m \u001b[38;5;28;43mself\u001b[39;49m\u001b[38;5;241;43m.\u001b[39;49m\u001b[43m__command_inout\u001b[49m\u001b[43m(\u001b[49m\u001b[43mcmd_name\u001b[49m\u001b[43m,\u001b[49m\u001b[43m \u001b[49m\u001b[43mparam\u001b[49m\u001b[43m)\u001b[49m\n",
      "\u001b[0;31mDevFailed\u001b[0m: DevFailed[\nDevError[\n    desc = ska_tango_base.faults.StateModelError: Scan command not permitted in observation state IDLE\n           \n  origin = Traceback (most recent call last):\n  File \"/usr/local/lib/python3.10/dist-packages/tango/device_server.py\", line 85, in wrapper\n    return get_worker().execute(fn, *args, **kwargs)\n  File \"/usr/local/lib/python3.10/dist-packages/tango/green.py\", line 101, in execute\n    return fn(*args, **kwargs)\n  File \"/app/src/ska_tmc_subarraynode/subarray_node.py\", line 475, in is_Scan_allowed\n    super().is_Scan_allowed()\n  File \"/usr/local/lib/python3.10/dist-packages/ska_tango_base/subarray/subarray_device.py\", line 744, in is_Scan_allowed\n    raise StateModelError(\nska_tango_base.faults.StateModelError: Scan command not permitted in observation state IDLE\n\n  reason = PyDs_PythonError\nseverity = ERR]\n\nDevError[\n    desc = Failed to execute command_inout on device ska_mid/tm_subarray_node/1, command Scan\n  origin = virtual Tango::DeviceData Tango::Connection::command_inout(const string&, const Tango::DeviceData&) at (/src/cppTango/cppapi/client/devapi_base.cpp:1338)\n  reason = API_CommandFailed\nseverity = ERR]\n]"
     ]
    }
   ],
   "source": [
    "print(\"Running the Scan command: subarray obsstate should go to Scanning\")\n",
    "\n",
    "with open(SCAN_FILE, encoding=\"utf-8\") as f:\n",
    "    scan_json = f.read()\n",
    "\n",
    "print(f\"\\nscan_json file contents: \\n{scan_json}\")\n",
    "\n",
    "tmc_subarray.Scan(scan_json)\n",
    "\n",
    "sleep(2)\n",
    "print(f\"\\nCBF Subarray Observation State: {cbf_subarray.obsState}\")"
   ]
  },
  {
   "cell_type": "markdown",
   "metadata": {},
   "source": [
    "TMC LEAF NODE HACK TO GET AROUND TMC SUBARRAY STUCK IN CONFIGURING"
   ]
  },
  {
   "cell_type": "code",
   "execution_count": null,
   "metadata": {},
   "outputs": [],
   "source": [
    "with open(\"../../data/mid_telescope/tmc/scan.json\", \"r\", encoding=\"utf-8\") as json_data:\n",
    "    d = json.load(json_data)\n",
    "    sdp_scan = d[\"sdp\"]\n",
    "    print(sdp_scan)\n",
    "    sdp_subarray_leaf_node_dp.scan(json.dumps(sdp_scan))\n",
    "\n",
    "sleep(10)\n",
    "print(sdp_subarray_leaf_node_dp.sdpSubarrayObsState)\n",
    "\n",
    "with open(\"../../data/mid_telescope/tmc/scan.json\", \"r\", encoding=\"utf-8\") as json_data:\n",
    "    d = json.load(json_data)\n",
    "    csp_scan = d[\"csp\"]\n",
    "    print(csp_scan)\n",
    "    csp_subarray_leaf_node_dp.scan(json.dumps(csp_scan))\n",
    "\n",
    "sleep(2)\n",
    "print(csp_subarray_leaf_node_dp.cspSubarrayObsState)"
   ]
  },
  {
   "cell_type": "markdown",
   "metadata": {},
   "source": [
    "### END SCAN\n"
   ]
  },
  {
   "cell_type": "markdown",
   "metadata": {},
   "source": [
    "DO NOT USE FOR NOW SINCE TMC SUBARRAY IS STUCK IN CONFIGURING"
   ]
  },
  {
   "cell_type": "code",
   "execution_count": null,
   "metadata": {},
   "outputs": [],
   "source": [
    "print(\"Running the End Scan command: subarray obsstate should go to Ready state\")\n",
    "\n",
    "tmc_subarray.EndScan()\n",
    "\n",
    "sleep(2)\n",
    "print(f\"\\nTMC Subarray Observation State: {tmc_subarray.obsState}\")"
   ]
  },
  {
   "cell_type": "markdown",
   "metadata": {},
   "source": [
    "TMC LEAF NODE HACK TO GET AROUND TMC SUBARRAY STUCK IN CONFIGURING"
   ]
  },
  {
   "cell_type": "code",
   "execution_count": null,
   "metadata": {},
   "outputs": [],
   "source": [
    "print(\"Running the End Scan command: subarray obsstate should go to Ready state\")\n",
    "\n",
    "sdp_subarray_leaf_node_dp.EndScan()\n",
    "sleep(2)\n",
    "csp_subarray_leaf_node_dp.EndScan()\n",
    "print(f\"SDP Subarray Observation State: {sdp_subarray_leaf_node_dp.sdpSubarrayObsState}\")\n",
    "print(f\"CSP Subarray Observation State: {csp_subarray_leaf_node_dp.cspSubarrayObsState}\")"
   ]
  },
  {
   "cell_type": "markdown",
   "metadata": {},
   "source": [
    "### END"
   ]
  },
  {
   "cell_type": "markdown",
   "metadata": {},
   "source": [
    "DO NOT USE (TMC STUCK IN CONFIGURING)"
   ]
  },
  {
   "cell_type": "code",
   "execution_count": null,
   "metadata": {},
   "outputs": [],
   "source": [
    "print(\"Running the End command: subarray obsstate should go to Idle state\")\n",
    "\n",
    "tmc_subarray.End()\n",
    "\n",
    "sleep(2)\n",
    "print(f\"\\TMC Subarray Observation State: {cbf_subarray.obsState}\")"
   ]
  },
  {
   "cell_type": "markdown",
   "metadata": {},
   "source": [
    "TMC LEAF NODE HACK TO GET AROUND TMC SUBARRAY STUCK IN CONFIGURING"
   ]
  },
  {
   "cell_type": "code",
   "execution_count": null,
   "metadata": {},
   "outputs": [],
   "source": [
    "print(\"Running the End command: subarray obsstate should go to Idle state\")\n",
    "\n",
    "sdp_subarray_leaf_node_dp.End()\n",
    "sleep(2)\n",
    "csp_subarray_leaf_node_dp.End()\n",
    "\n",
    "sleep(2)\n",
    "print(f\"SDP Subarray Observation State: {sdp_subarray_leaf_node_dp.sdpSubarrayObsState}\")\n",
    "print(f\"CSP Subarray Observation State: {csp_subarray_leaf_node_dp.cspSubarrayObsState}\")"
   ]
  },
  {
   "cell_type": "markdown",
   "metadata": {},
   "source": [
    "### Release Resources"
   ]
  },
  {
   "cell_type": "markdown",
   "metadata": {},
   "source": [
    "DO NOT USE (TMC STUCK IN CONFIGURING)"
   ]
  },
  {
   "cell_type": "code",
   "execution_count": null,
   "metadata": {},
   "outputs": [],
   "source": [
    "print(\n",
    "    \"Running the Release All Resources command: subarray obsstate should go to Empty state and receptor IDs should be empty\"\n",
    ")\n",
    "\n",
    "tmc_subarray.ReleaseAllResources()\n",
    "\n",
    "sleep(2)\n",
    "print(f\"TMC Subarray Observation State: {tmc_subarray.obsState}\")"
   ]
  },
  {
   "cell_type": "markdown",
   "metadata": {},
   "source": [
    "TMC LEAF NODE HACK TO GET AROUND TMC SUBARRAY STUCK IN CONFIGURING"
   ]
  },
  {
   "cell_type": "code",
   "execution_count": null,
   "metadata": {},
   "outputs": [],
   "source": [
    "print(\n",
    "    \"Running the Release All Resources command: subarray obsstate should go to Empty state and receptor IDs should be empty\"\n",
    ")\n",
    "\n",
    "sdp_subarray_leaf_node_dp.ReleaseAllResources()\n",
    "sleep(2)\n",
    "csp_subarray_leaf_node_dp.ReleaseAllResources()\n",
    "\n",
    "sleep(2)\n",
    "print(f\"SDP Subarray Observation State: {sdp_subarray_leaf_node_dp.sdpSubarrayObsState}\")\n",
    "print(f\"CSP Subarray Observation State: {csp_subarray_leaf_node_dp.cspSubarrayObsState}\")"
   ]
  },
  {
   "cell_type": "markdown",
   "metadata": {},
   "source": [
    "### Telescope Off"
   ]
  },
  {
   "cell_type": "code",
   "execution_count": null,
   "metadata": {},
   "outputs": [],
   "source": [
    "print(\"Running the TelescopeOff command\")\n",
    "\n",
    "tmc_central_node.TelescopeOff()\n",
    "\n",
    "sleep(5)\n",
    "print(f\"TMC Central Node State: {tmc_central_node.State()}\")\n",
    "print(f\"CSP Control State: {csp_control.State()}\")\n",
    "print(f\"CBF Controller State: {cbf_controller.State()}\")"
   ]
  }
 ],
 "metadata": {
  "kernelspec": {
   "display_name": "Python 3",
   "language": "python",
   "name": "python3"
  },
  "language_info": {
   "codemirror_mode": {
    "name": "ipython",
    "version": 3
   },
   "file_extension": ".py",
   "mimetype": "text/x-python",
   "name": "python",
   "nbconvert_exporter": "python",
   "pygments_lexer": "ipython3",
   "version": "3.10.14"
  }
 },
 "nbformat": 4,
 "nbformat_minor": 2
}
