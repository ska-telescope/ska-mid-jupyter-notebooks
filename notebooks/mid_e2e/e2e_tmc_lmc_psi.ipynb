{
 "cells": [
  {
   "cell_type": "markdown",
   "metadata": {},
   "source": [
    "# Notebook for End to End testing in the MID PSI\n",
    "\n",
    "- LMC DISH in the loop\n",
    "- Receives and plots the visibilities to SDP"
   ]
  },
  {
   "cell_type": "code",
   "execution_count": 1,
   "metadata": {},
   "outputs": [
    {
     "name": "stdout",
     "output_type": "stream",
     "text": [
      "Setting up parameters\n",
      "\n",
      "Links for Taranta and QA Display\n",
      "\n",
      "SUT Links\n",
      "https://142.73.34.170/ci-ska-mid-psi-1339371391-jaredmda/signal/display/\n",
      "https://142.73.34.170/ci-ska-mid-psi-1339371391-jaredmda/taranta/devices\n"
     ]
    }
   ],
   "source": [
    "import os\n",
    "import json\n",
    "from time import sleep\n",
    "import tango\n",
    "from PyTango import Database, DeviceProxy\n",
    "print(\"Setting up parameters\\n\")\n",
    "\n",
    "SUT_NAMESPACE = \"ci-ska-mid-psi-1339371391-jaredmda\"\n",
    "\n",
    "TANGO_HOST = f\"databaseds-tango-base.{SUT_NAMESPACE}.svc.cluster.local:10000\"\n",
    "os.environ[\"TANGO_HOST\"] = TANGO_HOST\n",
    "\n",
    "RECEPTORS = [\"SKA001\"]\n",
    "\n",
    "# Config files set up\n",
    "DATA_DIR = \"../../data\"\n",
    "TMC_CONFIGS = f\"{DATA_DIR}/mid_telescope/tmc\"\n",
    "SCAN_FILE = f\"{TMC_CONFIGS}/scan.json\"\n",
    "RELEASE_RESOURCES_FILE = f\"{DATA_DIR}/release_resources.json\"\n",
    "\n",
    "ASSIGN_RESOURCES_FILE = f\"{TMC_CONFIGS}/assign_resources.json\"\n",
    "CONFIGURE_SCAN_FILE = f\"{TMC_CONFIGS}/configure_scan.json\"\n",
    "\n",
    "CBF_CONFIGS = f\"{DATA_DIR}/mid_telescope/cbf\"\n",
    "DISH_CONFIG_FILE = f\"{CBF_CONFIGS}/sys_params/load_dish_config.json\"\n",
    "\n",
    "# MCS/Talon setup\n",
    "target_board = [1]\n",
    "COMMON_CONFIG_FOLDER = os.path.join(DATA_DIR, \"mid_telescope/cbf\")\n",
    "HW_CONFIG_FOLDER = os.path.join(COMMON_CONFIG_FOLDER, \"hw_config\")\n",
    "INIT_SYS_PARAM_FILE = os.path.join(COMMON_CONFIG_FOLDER, \"sys_params/initial_system_param.json\")\n",
    "\n",
    "print(\"Links for Taranta and QA Display\\n\")\n",
    "print(\"SUT Links\")\n",
    "print(f\"https://142.73.34.170/{SUT_NAMESPACE}/signal/display/\")\n",
    "print(f\"https://142.73.34.170/{SUT_NAMESPACE}/taranta/devices\")"
   ]
  },
  {
   "cell_type": "markdown",
   "metadata": {},
   "source": [
    "### MCS Deployer Setup"
   ]
  },
  {
   "cell_type": "code",
   "execution_count": 2,
   "metadata": {},
   "outputs": [
    {
     "name": "stdout",
     "output_type": "stream",
     "text": [
      "dserver/CbfController/controller\n",
      "dserver/CbfSubarray/cbfsubarray\n",
      "dserver/central_node_mid/01\n",
      "dserver/csp_master_leaf_node/01\n",
      "dserver/csp_subarray_leaf_node_mid/01\n",
      "dserver/csp_subarray_leaf_node_mid/02\n",
      "dserver/DataBaseds/2\n",
      "dserver/DishLogger/001\n",
      "dserver/DishManagerDS/001\n",
      "dserver/dish_leaf_node/001\n",
      "dserver/DSManager/001\n",
      "dserver/ECBite/bite\n",
      "dserver/ECDeployer/deployer\n",
      "dserver/FspMulti/fsp-01\n",
      "dserver/FspMulti/fsp-02\n",
      "dserver/FspMulti/fsp-03\n",
      "dserver/FspMulti/fsp-04\n",
      "dserver/MidCspCapabilityFsp/capabilityfsp\n",
      "dserver/MidCspCapabilityVcc/capabilityvcc\n",
      "dserver/MidCspController/controller\n",
      "dserver/MidCspSubarray/subarray1\n",
      "dserver/MidCspSubarray/subarray2\n",
      "dserver/MidCspSubarray/subarray3\n",
      "dserver/PowerSwitch/pdu\n",
      "dserver/SDPController/0\n",
      "dserver/SDPQueueConnector/01\n",
      "dserver/SDPSubarray/01\n",
      "dserver/sdp_master_leaf_node/01\n",
      "dserver/sdp_subarray_leaf_node/01\n",
      "dserver/sdp_subarray_leaf_node/02\n",
      "dserver/ska-mid-spfrx-controller-ds/spfrx-20\n",
      "dserver/ska-mid-spfrx-system-ds/spfrx-20\n",
      "dserver/ska-talondx-bsp-ds/spfrx-20\n",
      "dserver/ska-talondx-temperature-monitor-ds/spfrx-20\n",
      "dserver/Slim/mesh\n",
      "dserver/SlimLink/fs-links\n",
      "dserver/SlimLink/vis-links\n",
      "dserver/SPFDevice/001\n",
      "dserver/subarray_node_mid/01\n",
      "dserver/subarray_node_mid/02\n",
      "dserver/TalonBoard/01\n",
      "dserver/TalonDxLogConsumer/001\n",
      "dserver/TalonLRU/01\n",
      "dserver/TangoTest/test\n",
      "dserver/tarantatestdevice/test\n",
      "dserver/TestDevice/test\n",
      "dserver/TmCspSubarrayLeafNodeTest/tm\n",
      "dserver/TmCspSubarrayLeafNodeTest/tm2\n",
      "dserver/VccMulti/vcc\n",
      "mid-csp/capability-fsp/0\n",
      "mid-csp/capability-vcc/0\n",
      "mid-csp/control/0\n",
      "mid-csp/subarray/01\n",
      "mid-csp/subarray/02\n",
      "mid-csp/subarray/03\n",
      "mid-dish/dish-logger/SKA001\n",
      "mid-dish/dish-manager/SKA001\n",
      "mid-dish/ds-manager/SKA001\n",
      "mid-dish/simulator-spfc/SKA001\n",
      "mid-sdp/control/0\n",
      "mid-sdp/queueconnector/01\n",
      "mid-sdp/subarray/01\n",
      "mid_csp_cbf/ec/bite\n",
      "mid_csp_cbf/ec/deployer\n",
      "mid_csp_cbf/fsp/01\n",
      "mid_csp_cbf/fsp/02\n",
      "mid_csp_cbf/fsp/03\n",
      "mid_csp_cbf/fsp/04\n",
      "mid_csp_cbf/fspCorrSubarray/01_01\n",
      "mid_csp_cbf/fspCorrSubarray/01_02\n",
      "mid_csp_cbf/fspCorrSubarray/01_03\n",
      "mid_csp_cbf/fspCorrSubarray/02_01\n",
      "mid_csp_cbf/fspCorrSubarray/02_02\n",
      "mid_csp_cbf/fspCorrSubarray/02_03\n",
      "mid_csp_cbf/fspCorrSubarray/03_01\n",
      "mid_csp_cbf/fspCorrSubarray/03_02\n",
      "mid_csp_cbf/fspCorrSubarray/03_03\n",
      "mid_csp_cbf/fspCorrSubarray/04_01\n",
      "mid_csp_cbf/fspCorrSubarray/04_02\n",
      "mid_csp_cbf/fspCorrSubarray/04_03\n",
      "mid_csp_cbf/fspPssSubarray/01_01\n",
      "mid_csp_cbf/fspPssSubarray/01_02\n",
      "mid_csp_cbf/fspPssSubarray/01_03\n",
      "mid_csp_cbf/fspPssSubarray/02_01\n",
      "mid_csp_cbf/fspPssSubarray/02_02\n",
      "mid_csp_cbf/fspPssSubarray/02_03\n",
      "mid_csp_cbf/fspPssSubarray/03_01\n",
      "mid_csp_cbf/fspPssSubarray/03_02\n",
      "mid_csp_cbf/fspPssSubarray/03_03\n",
      "mid_csp_cbf/fspPssSubarray/04_01\n",
      "mid_csp_cbf/fspPssSubarray/04_02\n",
      "mid_csp_cbf/fspPssSubarray/04_03\n",
      "mid_csp_cbf/fspPstSubarray/01_01\n",
      "mid_csp_cbf/fspPstSubarray/01_02\n",
      "mid_csp_cbf/fspPstSubarray/01_03\n",
      "mid_csp_cbf/fspPstSubarray/02_01\n",
      "mid_csp_cbf/fspPstSubarray/02_02\n",
      "mid_csp_cbf/fspPstSubarray/02_03\n",
      "mid_csp_cbf/fspPstSubarray/03_01\n",
      "mid_csp_cbf/fspPstSubarray/03_02\n",
      "mid_csp_cbf/fspPstSubarray/03_03\n",
      "mid_csp_cbf/fspPstSubarray/04_01\n",
      "mid_csp_cbf/fspPstSubarray/04_02\n",
      "mid_csp_cbf/fspPstSubarray/04_03\n",
      "mid_csp_cbf/fs_links/000\n",
      "mid_csp_cbf/fs_links/001\n",
      "mid_csp_cbf/fs_links/002\n",
      "mid_csp_cbf/fs_links/003\n",
      "mid_csp_cbf/fs_links/004\n",
      "mid_csp_cbf/fs_links/005\n",
      "mid_csp_cbf/fs_links/006\n",
      "mid_csp_cbf/fs_links/007\n",
      "mid_csp_cbf/fs_links/008\n",
      "mid_csp_cbf/fs_links/009\n",
      "mid_csp_cbf/fs_links/010\n",
      "mid_csp_cbf/fs_links/011\n",
      "mid_csp_cbf/fs_links/012\n",
      "mid_csp_cbf/fs_links/013\n",
      "mid_csp_cbf/fs_links/014\n",
      "mid_csp_cbf/fs_links/015\n",
      "mid_csp_cbf/power_switch/001\n",
      "mid_csp_cbf/power_switch/002\n",
      "mid_csp_cbf/power_switch/003\n",
      "mid_csp_cbf/power_switch/004\n",
      "mid_csp_cbf/slim/slim-fs\n",
      "mid_csp_cbf/slim/slim-vis\n",
      "mid_csp_cbf/sub_elt/controller\n",
      "mid_csp_cbf/sub_elt/subarray_01\n",
      "mid_csp_cbf/sub_elt/subarray_02\n",
      "mid_csp_cbf/sub_elt/subarray_03\n",
      "mid_csp_cbf/talondx_log_consumer/001\n",
      "mid_csp_cbf/talon_board/001\n",
      "mid_csp_cbf/talon_board/002\n",
      "mid_csp_cbf/talon_board/003\n",
      "mid_csp_cbf/talon_board/004\n",
      "mid_csp_cbf/talon_board/005\n",
      "mid_csp_cbf/talon_board/006\n",
      "mid_csp_cbf/talon_board/007\n",
      "mid_csp_cbf/talon_board/008\n",
      "mid_csp_cbf/talon_lru/001\n",
      "mid_csp_cbf/talon_lru/002\n",
      "mid_csp_cbf/talon_lru/003\n",
      "mid_csp_cbf/talon_lru/004\n",
      "mid_csp_cbf/vcc/001\n",
      "mid_csp_cbf/vcc/002\n",
      "mid_csp_cbf/vcc/003\n",
      "mid_csp_cbf/vcc/004\n",
      "mid_csp_cbf/vcc/005\n",
      "mid_csp_cbf/vcc/006\n",
      "mid_csp_cbf/vcc/007\n",
      "mid_csp_cbf/vcc/008\n",
      "mid_csp_cbf/vcc_sw1/001\n",
      "mid_csp_cbf/vcc_sw1/002\n",
      "mid_csp_cbf/vcc_sw1/003\n",
      "mid_csp_cbf/vcc_sw1/004\n",
      "mid_csp_cbf/vcc_sw1/005\n",
      "mid_csp_cbf/vcc_sw1/006\n",
      "mid_csp_cbf/vcc_sw1/007\n",
      "mid_csp_cbf/vcc_sw1/008\n",
      "mid_csp_cbf/vcc_sw2/001\n",
      "mid_csp_cbf/vcc_sw2/002\n",
      "mid_csp_cbf/vcc_sw2/003\n",
      "mid_csp_cbf/vcc_sw2/004\n",
      "mid_csp_cbf/vcc_sw2/005\n",
      "mid_csp_cbf/vcc_sw2/006\n",
      "mid_csp_cbf/vcc_sw2/007\n",
      "mid_csp_cbf/vcc_sw2/008\n",
      "mid_csp_cbf/vis_links/000\n",
      "mid_csp_cbf/vis_links/001\n",
      "mid_csp_cbf/vis_links/002\n",
      "mid_csp_cbf/vis_links/003\n",
      "ska001/spfrxpu/100gigeth\n",
      "ska001/spfrxpu/bandprocessor123-0\n",
      "ska001/spfrxpu/bandprocessor123-1\n",
      "ska001/spfrxpu/controller\n",
      "ska001/spfrxpu/datarx123-0\n",
      "ska001/spfrxpu/datarx123-1\n",
      "ska001/spfrxpu/eeprom\n",
      "ska001/spfrxpu/fan\n",
      "ska001/spfrxpu/fpgatemp-1\n",
      "ska001/spfrxpu/ltm-1\n",
      "ska001/spfrxpu/ltm-11\n",
      "ska001/spfrxpu/ltm-12\n",
      "ska001/spfrxpu/ltm-2\n",
      "ska001/spfrxpu/mbo-rx1\n",
      "ska001/spfrxpu/mbo-rx2\n",
      "ska001/spfrxpu/mbo-tx1\n",
      "ska001/spfrxpu/mbo-tx2\n",
      "ska001/spfrxpu/mux\n",
      "ska001/spfrxpu/odl-12\n",
      "ska001/spfrxpu/odl-3\n",
      "ska001/spfrxpu/packetizer\n",
      "ska001/spfrxpu/pktcap\n",
      "ska001/spfrxpu/sysid\n",
      "ska001/spfrxpu/temperature\n",
      "ska_mid/tm_central/central_node\n",
      "ska_mid/tm_leaf_node/csp_master\n",
      "ska_mid/tm_leaf_node/csp_subarray01\n",
      "ska_mid/tm_leaf_node/csp_subarray02\n",
      "ska_mid/tm_leaf_node/csp_subarray_01\n",
      "ska_mid/tm_leaf_node/csp_subarray_02\n",
      "ska_mid/tm_leaf_node/d0001\n",
      "ska_mid/tm_leaf_node/sdp_master\n",
      "ska_mid/tm_leaf_node/sdp_subarray01\n",
      "ska_mid/tm_leaf_node/sdp_subarray02\n",
      "ska_mid/tm_subarray_node/1\n",
      "ska_mid/tm_subarray_node/2\n",
      "sys/database/2\n",
      "sys/tg_test/1\n",
      "taranta/benchmark/1\n",
      "taranta/test/1\n",
      "taranta/test/2\n",
      "taranta/test/3\n",
      "test/device/1\n",
      "ON\n",
      "Using standard HW config\n",
      "HW config: ✔️\n"
     ]
    }
   ],
   "source": [
    "db = Database()\n",
    "\n",
    "deployer_tango = DeviceProxy(\"mid_csp_cbf/ec/deployer\")\n",
    "# Check the devices initially deployed to the database\n",
    "print(*db.get_device_exported(\"*\").value_string, sep=\"\\n\")\n",
    "# Make sure the deployer device is set to ON\n",
    "deployer_tango.On()\n",
    "print(deployer_tango.state())\n",
    "\n",
    "if any(i > 4 for i in target_board):\n",
    "    print(\"Using swap for higher number talons\")\n",
    "    config = \"hw_config_swap_psi.yaml\"\n",
    "    print(\"Modifying target to use lower nums to match swap file\")\n",
    "    target_board = list(map(lambda x: x - 4, target_board))\n",
    "else:\n",
    "    print(\"Using standard HW config\")\n",
    "    config = \"hw_config_psi.yaml\"\n",
    "\n",
    "HW_CONFIG_FILE = os.path.join(HW_CONFIG_FOLDER, config)\n",
    "if os.path.isfile(HW_CONFIG_FILE):\n",
    "    print(\"HW config: ✔️\")\n",
    "else:\n",
    "    print(\"hw config: ❌\")"
   ]
  },
  {
   "cell_type": "code",
   "execution_count": 3,
   "metadata": {},
   "outputs": [],
   "source": [
    "!kubectl cp $HW_CONFIG_FILE $SUT_NAMESPACE/ds-cbfcontroller-controller-0:/app/mnt/hw_config/hw_config.yaml"
   ]
  },
  {
   "cell_type": "code",
   "execution_count": 4,
   "metadata": {},
   "outputs": [
    {
     "name": "stdout",
     "output_type": "stream",
     "text": [
      "[1]\n"
     ]
    }
   ],
   "source": [
    "deployer_tango.targetTalons = target_board\n",
    "print(deployer_tango.targetTalons)"
   ]
  },
  {
   "cell_type": "code",
   "execution_count": 5,
   "metadata": {},
   "outputs": [],
   "source": [
    "deployer_tango.generate_config_jsons()"
   ]
  },
  {
   "cell_type": "code",
   "execution_count": 6,
   "metadata": {},
   "outputs": [],
   "source": [
    "deployer_tango.set_timeout_millis(200000)\n",
    "try:\n",
    "    deployer_tango.download_artifacts()\n",
    "except tango.DevFailed as e:\n",
    "    print(e)\n",
    "    print(\n",
    "        \"Timed out, this is likely due to the download taking some time. Check the logs with the code space below after some time to see if it passes.\"\n",
    "    )\n",
    "deployer_tango.set_timeout_millis(4500)"
   ]
  },
  {
   "cell_type": "code",
   "execution_count": 7,
   "metadata": {},
   "outputs": [],
   "source": [
    "deployer_tango.configure_db()"
   ]
  },
  {
   "cell_type": "markdown",
   "metadata": {},
   "source": [
    "### Set Up and Configure Device Proxies "
   ]
  },
  {
   "cell_type": "code",
   "execution_count": 9,
   "metadata": {},
   "outputs": [
    {
     "name": "stdout",
     "output_type": "stream",
     "text": [
      "Setting up the device proxies\n",
      "\n",
      "Checking admin mode after setting to ONLINE (0):\n",
      "  CSP Control: 0\n",
      "  CSP Subarray: 0\n",
      "  CBF Controller: 0\n",
      "  CBF Subarray: 0\n",
      "\n",
      "Checking CBF Simulation Mode and CBF Timeout:\n",
      "  CBF Simulation Mode: False\n",
      "  CBF Timeout: 99 sec\n"
     ]
    }
   ],
   "source": [
    "print(\"Setting up the device proxies\")\n",
    "\n",
    "# TMC proxies\n",
    "tmc_central_node = DeviceProxy(\"ska_mid/tm_central/central_node\")\n",
    "tmc_csp_master = DeviceProxy(\"ska_mid/tm_leaf_node/csp_master\")\n",
    "tmc_csp_subarray = DeviceProxy(\"ska_mid/tm_leaf_node/csp_subarray01\")\n",
    "tmc_subarray = DeviceProxy(\"ska_mid/tm_subarray_node/1\")\n",
    "\n",
    "# CSP.LMC proxies\n",
    "csp_control = DeviceProxy(\"mid-csp/control/0\")\n",
    "csp_subarray = DeviceProxy(\"mid-csp/subarray/01\")\n",
    "\n",
    "# CBF proxies\n",
    "cbf_controller = DeviceProxy(\"mid_csp_cbf/sub_elt/controller\")\n",
    "cbf_subarray = DeviceProxy(\"mid_csp_cbf/sub_elt/subarray_01\")\n",
    "\n",
    "# Dish Leaf Proxies\n",
    "dish_leaf_node_ska001 = DeviceProxy(\"ska_mid/tm_leaf_node/d0001\")\n",
    "\n",
    "# SDP Proxies\n",
    "sdp_subarray = DeviceProxy(\"mid-sdp/subarray/01\")\n",
    "\n",
    "# Set devices to adminMode = ONLINE\n",
    "csp_control.adminMode = 0\n",
    "csp_subarray.adminMode = 0\n",
    "\n",
    "# Leaf Nodes\n",
    "csp_subarray_leaf_node = \"ska_mid/tm_leaf_node/csp_subarray01\"\n",
    "sdp_subarray_leaf_node = \"ska_mid/tm_leaf_node/sdp_subarray01\"\n",
    "csp_master_leaf_node = \"ska_mid/tm_leaf_node/csp_master\"\n",
    "csp_subarray_leaf_node_dp = DeviceProxy(csp_subarray_leaf_node)\n",
    "sdp_subarray_leaf_node_dp = DeviceProxy(sdp_subarray_leaf_node)\n",
    "csp_master_leaf_node_dp = DeviceProxy(csp_master_leaf_node)\n",
    "\n",
    "sleep(2)\n",
    "print(\"\\nChecking admin mode after setting to ONLINE (0):\")\n",
    "print(f\"  CSP Control: {csp_control.adminMode}\")\n",
    "print(f\"  CSP Subarray: {csp_subarray.adminMode}\")\n",
    "print(f\"  CBF Controller: {cbf_controller.adminMode}\")\n",
    "print(f\"  CBF Subarray: {cbf_subarray.adminMode}\")\n",
    "\n",
    "# Set CBF Simulation mode to false and CBF timeout to 99s\n",
    "csp_control.cbfSimulationMode = 0\n",
    "csp_control.commandTimeout = 99\n",
    "\n",
    "sleep(2)\n",
    "print(\"\\nChecking CBF Simulation Mode and CBF Timeout:\")\n",
    "print(f\"  CBF Simulation Mode: {bool(csp_control.cbfSimulationMode)}\")\n",
    "print(f\"  CBF Timeout: {csp_control.commandTimeout} sec\")"
   ]
  },
  {
   "cell_type": "markdown",
   "metadata": {},
   "source": [
    "### Load the Dish Vcc Config / Init Sys Params"
   ]
  },
  {
   "cell_type": "markdown",
   "metadata": {},
   "source": [
    "NOTE: RUN TWICE"
   ]
  },
  {
   "cell_type": "code",
   "execution_count": 11,
   "metadata": {},
   "outputs": [
    {
     "name": "stdout",
     "output_type": "stream",
     "text": [
      "dish_config_json file contents: \n",
      "{'interface': 'https://schema.skao.int/ska-mid-cbf-initsysparam/1.0', 'tm_data_sources': ['car://gitlab.com/ska-telescope/ska-telmodel-data?0.1.0-rc-mid-itf#tmdata'], 'tm_data_filepath': 'instrument/ska1_mid_itf/ska-mid-cbf-system-parameters.json'}\n",
      "TMC CSP Master's Dish Vcc Config attribute value: \n",
      "{\"interface\": \"https://schema.skao.int/ska-mid-cbf-initsysparam/1.0\", \"dish_parameters\": {\"SKA001\": {\"vcc\": 1, \"k\": 100}, \"SKA036\": {\"vcc\": 2, \"k\": 618}, \"SKA063\": {\"vcc\": 3, \"k\": 1220}, \"SKA100\": {\"vcc\": 4, \"k\": 1815}}}\n",
      "\n",
      "TMC CSP Master's Source Dish Vcc Config attribute value: \n",
      "{\"interface\": \"https://schema.skao.int/ska-mid-cbf-initsysparam/1.0\", \"tm_data_sources\": [\"car://gitlab.com/ska-telescope/ska-telmodel-data?main#tmdata\"], \"tm_data_filepath\": \"instrument/ska1_mid_psi/ska-mid-cbf-system-parameters.json\"}\n"
     ]
    }
   ],
   "source": [
    "with open(DISH_CONFIG_FILE, encoding=\"utf-8\") as f:\n",
    "    dish_config_json = json.load(f)\n",
    "\n",
    "dish_config_json[\"tm_data_sources\"][0] = \"car://gitlab.com/ska-telescope/ska-telmodel-data?0.1.0-rc-mid-itf#tmdata\"\n",
    "dish_config_json[\"tm_data_filepath\"] = \"instrument/ska1_mid_itf/ska-mid-cbf-system-parameters.json\"\n",
    "\n",
    "print(f\"dish_config_json file contents: \\n{dish_config_json}\")\n",
    "tmc_central_node.LoadDishCfg(json.dumps(dish_config_json))\n",
    "\n",
    "sleep(2)\n",
    "print(f\"TMC CSP Master's Dish Vcc Config attribute value: \\n{tmc_csp_master.dishVccConfig}\")\n",
    "print(\n",
    "    f\"\\nTMC CSP Master's Source Dish Vcc Config attribute value: \\n{tmc_csp_master.sourceDishVccConfig}\"\n",
    ")"
   ]
  },
  {
   "cell_type": "markdown",
   "metadata": {},
   "source": [
    "### Turn the Telescope On"
   ]
  },
  {
   "cell_type": "code",
   "execution_count": 12,
   "metadata": {},
   "outputs": [
    {
     "name": "stdout",
     "output_type": "stream",
     "text": [
      "Running the TelescopeOn command\n",
      "Waiting for Telescope to come ON\n",
      "Waiting for Telescope to come ON\n",
      "Waiting for Telescope to come ON\n",
      "Waiting for Telescope to come ON\n",
      "Waiting for Telescope to come ON\n",
      "Waiting for Telescope to come ON\n",
      "Waiting for Telescope to come ON\n",
      "YAY Telecope is ON\n"
     ]
    }
   ],
   "source": [
    "print(\"Running the TelescopeOn command\")\n",
    "tmc_central_node.TelescopeOn()\n",
    "\n",
    "while int(tmc_central_node.telescopeState) != 0:\n",
    "    print(\"Waiting for Telescope to come ON\")\n",
    "    sleep(5)\n",
    "    \n",
    "print(\"YAY Telecope is ON\")\n"
   ]
  },
  {
   "cell_type": "code",
   "execution_count": 13,
   "metadata": {},
   "outputs": [
    {
     "name": "stdout",
     "output_type": "stream",
     "text": [
      "Verifying the states:\n",
      "  TMC Central Node State: ON\n",
      "  CSP Control State: ON\n",
      "  CBF Controller State: ON\n",
      "  TMC Subarray State: ON\n"
     ]
    }
   ],
   "source": [
    "print(\"Verifying the states:\")\n",
    "print(f\"  TMC Central Node State: {tmc_central_node.State()}\")\n",
    "print(f\"  CSP Control State: {csp_control.State()}\")\n",
    "print(f\"  CBF Controller State: {cbf_controller.State()}\")\n",
    "print(f\"  TMC Subarray State: {tmc_subarray.State()}\")"
   ]
  },
  {
   "cell_type": "markdown",
   "metadata": {},
   "source": [
    "### Assign Resources"
   ]
  },
  {
   "cell_type": "code",
   "execution_count": 14,
   "metadata": {},
   "outputs": [
    {
     "name": "stdout",
     "output_type": "stream",
     "text": [
      "ON\n",
      "Running the AssignResources command: subarray obsstate should go to Idle and receptor IDs should be assigned\n",
      "\n",
      "assign_resources_json file contents: \n",
      "{'interface': 'https://schema.skao.int/ska-tmc-assignresources/2.1', 'transaction_id': 'txn-....-00001', 'subarray_id': 1, 'dish': {'receptor_ids': ['SKA001']}, 'sdp': {'interface': 'https://schema.skao.int/ska-sdp-assignres/0.4', 'resources': {'csp_links': [1, 2, 3, 4], 'receptors': ['SKA001'], 'receive_nodes': 1}, 'execution_block': {'eb_id': 'eb-test-20210630-00059', 'context': {}, 'max_length': 21600.0, 'channels': [{'channels_id': 'vis_channels', 'spectral_windows': [{'spectral_window_id': 'fsp_1_channels', 'count': 14880, 'start': 0, 'stride': 1, 'freq_min': 296000000.0, 'freq_max': 496000000.0, 'link_map': [[0, 0], [200, 1], [744, 2], [944, 3]]}]}], 'polarisations': [{'polarisations_id': 'all', 'corr_type': ['XX', 'XY', 'YX', 'YY']}], 'fields': [{'field_id': 'field_a', 'phase_dir': {'ra': [2.711325], 'dec': [-0.01328889], 'reference_time': '...', 'reference_frame': 'ICRF3'}, 'pointing_fqdn': 'low-tmc/telstate/0/pointing'}, {'field_id': 'field_b', 'phase_dir': {'ra': [12.48519], 'dec': [2.052388], 'reference_time': '...', 'reference_frame': 'ICRF3'}, 'pointing_fqdn': 'low-tmc/telstate/0/pointing'}], 'beams': [{'beam_id': 'vis0', 'function': 'visibilities'}], 'scan_types': [{'scan_type_id': '.default', 'beams': {'vis0': {'polarisations_id': 'all', 'channels_id': 'vis_channels'}}}, {'scan_type_id': 'science', 'derive_from': '.default', 'beams': {'vis0': {'field_id': 'field_a'}}}, {'scan_type_id': 'calibration', 'derive_from': '.default', 'beams': {'vis0': {'field_id': 'field_b'}}}]}, 'processing_blocks': [{'pb_id': 'pb-test-20211111-00059', 'script': {'kind': 'realtime', 'name': 'vis-receive', 'version': '4.0.0'}, 'parameters': {'channels_per_port': 20, 'queue_connector_configuration': {'exchanges': [{'dtype': 'object', 'shape': [], 'source': {'type': 'KafkaConsumerSource', 'servers': 'ska-sdp-kafka.ci-ska-mid-psi-1337899296-jaredmda.svc.cluster.local:9092', 'topic': 'metrics-receive_state-1', 'encoding': 'json'}, 'sink': {'type': 'TangoObjectScatterAttributeSink', 'attributes': [{'attribute_name': 'receiver_state', 'filter': \"type=='visibility_receive'\", 'path': 'state', 'dtype': 'str', 'default_value': 'unknown'}, {'attribute_name': 'last_update', 'filter': \"type=='visibility_receive'\", 'path': 'time', 'dtype': 'float', 'default_value': 0.0}, {'attribute_name': 'processing_block_id', 'filter': \"type=='visibility_receive'\", 'path': 'processing_block_id', 'dtype': 'str', 'default_value': ''}, {'attribute_name': 'execution_block_id', 'filter': \"type=='visibility_receive'\", 'path': 'execution_block_id', 'dtype': 'str', 'default_value': ''}, {'attribute_name': 'subarray_id', 'filter': \"type=='visibility_receive'\", 'path': 'subarray_id', 'dtype': 'str', 'default_value': '-1'}, {'attribute_name': 'scan_id', 'filter': \"type=='visibility_receive'\", 'path': 'scan_id', 'dtype': 'int', 'default_value': 0}, {'attribute_name': 'payloads_received', 'filter': \"type=='visibility_receive'\", 'path': 'payloads_received', 'dtype': 'int', 'default_value': 0}, {'attribute_name': 'time_slices_received', 'filter': \"type=='visibility_receive'\", 'path': 'time_slices', 'dtype': 'int', 'default_value': 0}, {'attribute_name': 'time_since_last_payload', 'filter': \"type=='visibility_receive'\", 'path': 'time_since_last_payload', 'dtype': 'float', 'default_value': 0.0}]}}]}, 'transport_protocol': 'udp', 'use_network_definition': True, 'extra_helm_values': {'receiver': {'options': {'reception': {'reset_time_indexing_after_each_scan': True}, 'telescope_model': {'telmodel_key': 'instrument/ska1_mid/layout/mid-layout.json'}}}}, 'processors': {'signal-display-metrics-amplitude': {}, 'signal-display-metrics-basic': {}, 'signal-display-metrics-phase': {}, 'mswriter': {}}, 'pod_settings': [{'securityContext': {'runAsUser': 0, 'fsGroup': 0}}]}}]}}\n",
      "\n",
      "CBF Subarray Observation State: 1\n",
      "CBF Subarray Receptors : ('SKA001',)\n"
     ]
    }
   ],
   "source": [
    "print(sdp_subarray.state())\n",
    "\n",
    "sleep(3)\n",
    "\n",
    "print(\n",
    "    \"Running the AssignResources command: subarray obsstate should go to Idle and receptor IDs should be assigned\"\n",
    ")\n",
    "\n",
    "with open(ASSIGN_RESOURCES_FILE, encoding=\"utf-8\") as f:\n",
    "    assign_resources_json = json.load(f)\n",
    "    assign_resources_json[\"dish\"][\"receptor_ids\"] = RECEPTORS\n",
    "    assign_resources_json[\"sdp\"][\"resources\"][\"receptors\"] = RECEPTORS\n",
    "\n",
    "\n",
    "print(f\"\\nassign_resources_json file contents: \\n{assign_resources_json}\")\n",
    "\n",
    "tmc_subarray.AssignResources(json.dumps(assign_resources_json))\n",
    "\n",
    "sleep(2)\n",
    "print(f\"\\nCBF Subarray Observation State: {tmc_subarray.obsState}\")\n",
    "print(f\"CBF Subarray Receptors : {cbf_subarray.receptors}\")"
   ]
  },
  {
   "cell_type": "code",
   "execution_count": 15,
   "metadata": {},
   "outputs": [],
   "source": [
    "from astropy.time import Time\n",
    "import time\n",
    "from tango import DeviceProxy\n",
    "\n",
    "dish_deployments = [f\"mid-dish/dish-manager/SKA001\"]\n",
    "\n",
    "\n",
    "def get_tai_from_unix_s(unix_s: float) -> float:\n",
    "    \"\"\"\n",
    "    Calculate atomic time in seconds from unix time in seconds.\n",
    "\n",
    "    :param unix_s: Unix time in seconds\n",
    "\n",
    "    :return: atomic time (tai) in seconds\n",
    "    \"\"\"\n",
    "    astropy_time_utc = Time(unix_s, format=\"unix\")\n",
    "    return astropy_time_utc.unix_tai\n",
    "\n",
    "\n",
    "for dish in dish_deployments:\n",
    "    dish_manager_proxy = DeviceProxy(\"mid-dish/dish-manager/SKA001\")\n",
    "    current_pointing = dish_manager_proxy.achievedPointing\n",
    "    current_az = current_pointing[1]\n",
    "    current_el = current_pointing[2]\n",
    "\n",
    "    current_time_tai_s = get_tai_from_unix_s(time.time() + 120)\n",
    "\n",
    "    # Directions to move values\n",
    "    az_dir = 1 if current_az < 350 else -1\n",
    "    el_dir = 1 if current_el < 80 else -1\n",
    "\n",
    "    track_table = [\n",
    "        current_time_tai_s + 3,\n",
    "        current_az + 1 * az_dir,\n",
    "        current_el + 1 * el_dir,\n",
    "        current_time_tai_s + 5,\n",
    "        current_az + 2 * az_dir,\n",
    "        current_el + 2 * el_dir,\n",
    "        current_time_tai_s + 7,\n",
    "        current_az + 3 * az_dir,\n",
    "        current_el + 3 * el_dir,\n",
    "        current_time_tai_s + 9,\n",
    "        current_az + 4 * az_dir,\n",
    "        current_el + 4 * el_dir,\n",
    "        current_time_tai_s + 11,\n",
    "        current_az + 5 * az_dir,\n",
    "        current_el + 5 * el_dir,\n",
    "    ]\n",
    "\n",
    "    dish_manager_proxy.programTrackTable = track_table"
   ]
  },
  {
   "cell_type": "code",
   "execution_count": 19,
   "metadata": {},
   "outputs": [
    {
     "name": "stdout",
     "output_type": "stream",
     "text": [
      "\n",
      "CBF Subarray Observation State: 1\n"
     ]
    }
   ],
   "source": [
    "print(f\"\\nCBF Subarray Observation State: {tmc_subarray.obsState}\")"
   ]
  },
  {
   "cell_type": "markdown",
   "metadata": {},
   "source": [
    "### Configure Scan"
   ]
  },
  {
   "cell_type": "code",
   "execution_count": 24,
   "metadata": {},
   "outputs": [
    {
     "name": "stdout",
     "output_type": "stream",
     "text": [
      "Running the Configure command: subarray obsstate should go to Ready\n",
      "\n",
      "configure_scan_json file contents: \n",
      "{'interface': 'https://schema.skao.int/ska-tmc-configure/2.0', 'pointing': {'target': {'reference_frame': 'ICRS', 'target_name': 'Polaris Australis', 'ra': '21:08:47.92', 'dec': '-88:57:22.9'}}, 'sdp': {'interface': 'https://schema.skao.int/ska-sdp-configure/0.4', 'scan_type': 'science'}, 'csp': {'interface': 'https://schema.skao.int/ska-csp-configure/2.4', 'subarray': {'subarray_name': 'Receptor(s)'}, 'common': {'config_id': '1 receptor, band 1, 2 FSP, no options', 'subarray_id': 1, 'frequency_band': '1'}, 'cbf': {'fsp': [{'fsp_id': 1, 'function_mode': 'CORR', 'frequency_slice_id': 1, 'zoom_factor': 0, 'integration_factor': 10, 'output_link_map': [[0, 1]], 'channel_offset': 0, 'zoom_window_tuning': 450000}]}}, 'tmc': {'scan_duration': 920.0}, 'dish': {'receiver_band': '1'}}\n",
      "{\"interface\": \"https://schema.skao.int/ska-tmc-configure/2.0\", \"pointing\": {\"target\": {\"reference_frame\": \"ICRS\", \"target_name\": \"Polaris Australis\", \"ra\": \"21:08:47.92\", \"dec\": \"-88:57:22.9\"}}, \"sdp\": {\"interface\": \"https://schema.skao.int/ska-sdp-configure/0.4\", \"scan_type\": \"science\"}, \"csp\": {\"interface\": \"https://schema.skao.int/ska-csp-configure/2.4\", \"subarray\": {\"subarray_name\": \"Receptor(s)\"}, \"common\": {\"config_id\": \"1 receptor, band 1, 2 FSP, no options\", \"subarray_id\": 1, \"frequency_band\": \"1\"}, \"cbf\": {\"fsp\": [{\"fsp_id\": 1, \"function_mode\": \"CORR\", \"frequency_slice_id\": 1, \"zoom_factor\": 0, \"integration_factor\": 10, \"output_link_map\": [[0, 1]], \"channel_offset\": 0, \"zoom_window_tuning\": 450000}]}}, \"tmc\": {\"scan_duration\": 920.0}, \"dish\": {\"receiver_band\": \"1\"}}\n"
     ]
    },
    {
     "ename": "DevFailed",
     "evalue": "DevFailed[\nDevError[\n    desc = ska_tango_base.faults.StateModelError: Configure command not permitted in observation state RESOURCING\n           \n  origin = Traceback (most recent call last):\n  File \"/usr/local/lib/python3.10/dist-packages/tango/device_server.py\", line 85, in wrapper\n    return get_worker().execute(fn, *args, **kwargs)\n  File \"/usr/local/lib/python3.10/dist-packages/tango/green.py\", line 101, in execute\n    return fn(*args, **kwargs)\n  File \"/app/src/ska_tmc_subarraynode/subarray_node.py\", line 407, in is_Configure_allowed\n    super().is_Configure_allowed()\n  File \"/usr/local/lib/python3.10/dist-packages/ska_tango_base/subarray/subarray_device.py\", line 701, in is_Configure_allowed\n    raise StateModelError(\nska_tango_base.faults.StateModelError: Configure command not permitted in observation state RESOURCING\n\n  reason = PyDs_PythonError\nseverity = ERR]\n\nDevError[\n    desc = Failed to execute command_inout on device ska_mid/tm_subarray_node/1, command Configure\n  origin = virtual Tango::DeviceData Tango::Connection::command_inout(const string&, const Tango::DeviceData&) at (/src/cppTango/cppapi/client/devapi_base.cpp:1338)\n  reason = API_CommandFailed\nseverity = ERR]\n]",
     "output_type": "error",
     "traceback": [
      "\u001b[0;31m---------------------------------------------------------------------------\u001b[0m",
      "\u001b[0;31mDevFailed\u001b[0m                                 Traceback (most recent call last)",
      "Cell \u001b[0;32mIn[24], line 10\u001b[0m\n\u001b[1;32m      6\u001b[0m \u001b[38;5;28mprint\u001b[39m(\u001b[38;5;124mf\u001b[39m\u001b[38;5;124m\"\u001b[39m\u001b[38;5;130;01m\\n\u001b[39;00m\u001b[38;5;124mconfigure_scan_json file contents: \u001b[39m\u001b[38;5;130;01m\\n\u001b[39;00m\u001b[38;5;132;01m{\u001b[39;00mconfigure_scan_json\u001b[38;5;132;01m}\u001b[39;00m\u001b[38;5;124m\"\u001b[39m)\n\u001b[1;32m      8\u001b[0m \u001b[38;5;28mprint\u001b[39m(json\u001b[38;5;241m.\u001b[39mdumps(configure_scan_json))\n\u001b[0;32m---> 10\u001b[0m \u001b[43mtmc_subarray\u001b[49m\u001b[38;5;241;43m.\u001b[39;49m\u001b[43mConfigure\u001b[49m\u001b[43m(\u001b[49m\u001b[43mjson\u001b[49m\u001b[38;5;241;43m.\u001b[39;49m\u001b[43mdumps\u001b[49m\u001b[43m(\u001b[49m\u001b[43mconfigure_scan_json\u001b[49m\u001b[43m)\u001b[49m\u001b[43m)\u001b[49m\n\u001b[1;32m     12\u001b[0m sleep(\u001b[38;5;241m12\u001b[39m)\n\u001b[1;32m     13\u001b[0m \u001b[38;5;28mprint\u001b[39m(\u001b[38;5;124mf\u001b[39m\u001b[38;5;124m\"\u001b[39m\u001b[38;5;124mSDP Subarray Observation State: \u001b[39m\u001b[38;5;132;01m{\u001b[39;00msdp_subarray_leaf_node_dp\u001b[38;5;241m.\u001b[39msdpSubarrayObsState\u001b[38;5;132;01m}\u001b[39;00m\u001b[38;5;124m\"\u001b[39m)\n",
      "File \u001b[0;32m~/venv/lib/python3.10/site-packages/tango/device_proxy.py:336\u001b[0m, in \u001b[0;36m__get_command_func.<locals>.f\u001b[0;34m(*args, **kwds)\u001b[0m\n\u001b[1;32m    335\u001b[0m \u001b[38;5;28;01mdef\u001b[39;00m \u001b[38;5;21mf\u001b[39m(\u001b[38;5;241m*\u001b[39margs, \u001b[38;5;241m*\u001b[39m\u001b[38;5;241m*\u001b[39mkwds):\n\u001b[0;32m--> 336\u001b[0m     \u001b[38;5;28;01mreturn\u001b[39;00m \u001b[43mdp\u001b[49m\u001b[38;5;241;43m.\u001b[39;49m\u001b[43mcommand_inout\u001b[49m\u001b[43m(\u001b[49m\u001b[43mname\u001b[49m\u001b[43m,\u001b[49m\u001b[43m \u001b[49m\u001b[38;5;241;43m*\u001b[39;49m\u001b[43margs\u001b[49m\u001b[43m,\u001b[49m\u001b[43m \u001b[49m\u001b[38;5;241;43m*\u001b[39;49m\u001b[38;5;241;43m*\u001b[39;49m\u001b[43mkwds\u001b[49m\u001b[43m)\u001b[49m\n",
      "File \u001b[0;32m~/venv/lib/python3.10/site-packages/tango/green.py:204\u001b[0m, in \u001b[0;36mgreen.<locals>.decorator.<locals>.greener\u001b[0;34m(obj, *args, **kwargs)\u001b[0m\n\u001b[1;32m    202\u001b[0m green_mode \u001b[38;5;241m=\u001b[39m access(\u001b[38;5;124m\"\u001b[39m\u001b[38;5;124mgreen_mode\u001b[39m\u001b[38;5;124m\"\u001b[39m, \u001b[38;5;28;01mNone\u001b[39;00m)\n\u001b[1;32m    203\u001b[0m executor \u001b[38;5;241m=\u001b[39m get_object_executor(obj, green_mode)\n\u001b[0;32m--> 204\u001b[0m \u001b[38;5;28;01mreturn\u001b[39;00m \u001b[43mexecutor\u001b[49m\u001b[38;5;241;43m.\u001b[39;49m\u001b[43mrun\u001b[49m\u001b[43m(\u001b[49m\u001b[43mfn\u001b[49m\u001b[43m,\u001b[49m\u001b[43m \u001b[49m\u001b[43margs\u001b[49m\u001b[43m,\u001b[49m\u001b[43m \u001b[49m\u001b[43mkwargs\u001b[49m\u001b[43m,\u001b[49m\u001b[43m \u001b[49m\u001b[43mwait\u001b[49m\u001b[38;5;241;43m=\u001b[39;49m\u001b[43mwait\u001b[49m\u001b[43m,\u001b[49m\u001b[43m \u001b[49m\u001b[43mtimeout\u001b[49m\u001b[38;5;241;43m=\u001b[39;49m\u001b[43mtimeout\u001b[49m\u001b[43m)\u001b[49m\n",
      "File \u001b[0;32m~/venv/lib/python3.10/site-packages/tango/green.py:112\u001b[0m, in \u001b[0;36mAbstractExecutor.run\u001b[0;34m(self, fn, args, kwargs, wait, timeout)\u001b[0m\n\u001b[1;32m    110\u001b[0m \u001b[38;5;66;03m# Synchronous (no delegation)\u001b[39;00m\n\u001b[1;32m    111\u001b[0m \u001b[38;5;28;01mif\u001b[39;00m \u001b[38;5;129;01mnot\u001b[39;00m \u001b[38;5;28mself\u001b[39m\u001b[38;5;241m.\u001b[39masynchronous \u001b[38;5;129;01mor\u001b[39;00m \u001b[38;5;129;01mnot\u001b[39;00m \u001b[38;5;28mself\u001b[39m\u001b[38;5;241m.\u001b[39min_executor_context():\n\u001b[0;32m--> 112\u001b[0m     \u001b[38;5;28;01mreturn\u001b[39;00m \u001b[43mfn\u001b[49m\u001b[43m(\u001b[49m\u001b[38;5;241;43m*\u001b[39;49m\u001b[43margs\u001b[49m\u001b[43m,\u001b[49m\u001b[43m \u001b[49m\u001b[38;5;241;43m*\u001b[39;49m\u001b[38;5;241;43m*\u001b[39;49m\u001b[43mkwargs\u001b[49m\u001b[43m)\u001b[49m\n\u001b[1;32m    113\u001b[0m \u001b[38;5;66;03m# Asynchronous delegation\u001b[39;00m\n\u001b[1;32m    114\u001b[0m accessor \u001b[38;5;241m=\u001b[39m \u001b[38;5;28mself\u001b[39m\u001b[38;5;241m.\u001b[39mdelegate(fn, \u001b[38;5;241m*\u001b[39margs, \u001b[38;5;241m*\u001b[39m\u001b[38;5;241m*\u001b[39mkwargs)\n",
      "File \u001b[0;32m~/venv/lib/python3.10/site-packages/tango/connection.py:116\u001b[0m, in \u001b[0;36m__Connection__command_inout\u001b[0;34m(self, name, *args, **kwds)\u001b[0m\n\u001b[1;32m     84\u001b[0m \u001b[38;5;28;01mdef\u001b[39;00m \u001b[38;5;21m__Connection__command_inout\u001b[39m(\u001b[38;5;28mself\u001b[39m, name, \u001b[38;5;241m*\u001b[39margs, \u001b[38;5;241m*\u001b[39m\u001b[38;5;241m*\u001b[39mkwds):\n\u001b[1;32m     85\u001b[0m \u001b[38;5;250m    \u001b[39m\u001b[38;5;124;03m\"\"\"\u001b[39;00m\n\u001b[1;32m     86\u001b[0m \u001b[38;5;124;03m    command_inout( self, cmd_name, cmd_param=None, green_mode=None, wait=True, timeout=None) -> any\u001b[39;00m\n\u001b[1;32m     87\u001b[0m \n\u001b[0;32m   (...)\u001b[0m\n\u001b[1;32m    114\u001b[0m \u001b[38;5;124;03m        *timeout* parameter.\u001b[39;00m\n\u001b[1;32m    115\u001b[0m \u001b[38;5;124;03m    \"\"\"\u001b[39;00m\n\u001b[0;32m--> 116\u001b[0m     r \u001b[38;5;241m=\u001b[39m \u001b[43mConnection\u001b[49m\u001b[38;5;241;43m.\u001b[39;49m\u001b[43mcommand_inout_raw\u001b[49m\u001b[43m(\u001b[49m\u001b[38;5;28;43mself\u001b[39;49m\u001b[43m,\u001b[49m\u001b[43m \u001b[49m\u001b[43mname\u001b[49m\u001b[43m,\u001b[49m\u001b[43m \u001b[49m\u001b[38;5;241;43m*\u001b[39;49m\u001b[43margs\u001b[49m\u001b[43m,\u001b[49m\u001b[43m \u001b[49m\u001b[38;5;241;43m*\u001b[39;49m\u001b[38;5;241;43m*\u001b[39;49m\u001b[43mkwds\u001b[49m\u001b[43m)\u001b[49m\n\u001b[1;32m    117\u001b[0m     \u001b[38;5;28;01mif\u001b[39;00m \u001b[38;5;28misinstance\u001b[39m(r, DeviceData):\n\u001b[1;32m    118\u001b[0m         \u001b[38;5;28;01mtry\u001b[39;00m:\n",
      "File \u001b[0;32m~/venv/lib/python3.10/site-packages/tango/connection.py:145\u001b[0m, in \u001b[0;36m__Connection__command_inout_raw\u001b[0;34m(self, cmd_name, cmd_param)\u001b[0m\n\u001b[1;32m    130\u001b[0m \u001b[38;5;250m\u001b[39m\u001b[38;5;124;03m\"\"\"\u001b[39;00m\n\u001b[1;32m    131\u001b[0m \u001b[38;5;124;03mcommand_inout_raw( self, cmd_name, cmd_param=None) -> DeviceData\u001b[39;00m\n\u001b[1;32m    132\u001b[0m \n\u001b[0;32m   (...)\u001b[0m\n\u001b[1;32m    142\u001b[0m \u001b[38;5;124;03m    Throws     : ConnectionFailed, CommunicationFailed, DeviceUnlocked, DevFailed from device\u001b[39;00m\n\u001b[1;32m    143\u001b[0m \u001b[38;5;124;03m\"\"\"\u001b[39;00m\n\u001b[1;32m    144\u001b[0m param \u001b[38;5;241m=\u001b[39m __get_command_inout_param(\u001b[38;5;28mself\u001b[39m, cmd_name, cmd_param)\n\u001b[0;32m--> 145\u001b[0m \u001b[38;5;28;01mreturn\u001b[39;00m \u001b[38;5;28;43mself\u001b[39;49m\u001b[38;5;241;43m.\u001b[39;49m\u001b[43m__command_inout\u001b[49m\u001b[43m(\u001b[49m\u001b[43mcmd_name\u001b[49m\u001b[43m,\u001b[49m\u001b[43m \u001b[49m\u001b[43mparam\u001b[49m\u001b[43m)\u001b[49m\n",
      "\u001b[0;31mDevFailed\u001b[0m: DevFailed[\nDevError[\n    desc = ska_tango_base.faults.StateModelError: Configure command not permitted in observation state RESOURCING\n           \n  origin = Traceback (most recent call last):\n  File \"/usr/local/lib/python3.10/dist-packages/tango/device_server.py\", line 85, in wrapper\n    return get_worker().execute(fn, *args, **kwargs)\n  File \"/usr/local/lib/python3.10/dist-packages/tango/green.py\", line 101, in execute\n    return fn(*args, **kwargs)\n  File \"/app/src/ska_tmc_subarraynode/subarray_node.py\", line 407, in is_Configure_allowed\n    super().is_Configure_allowed()\n  File \"/usr/local/lib/python3.10/dist-packages/ska_tango_base/subarray/subarray_device.py\", line 701, in is_Configure_allowed\n    raise StateModelError(\nska_tango_base.faults.StateModelError: Configure command not permitted in observation state RESOURCING\n\n  reason = PyDs_PythonError\nseverity = ERR]\n\nDevError[\n    desc = Failed to execute command_inout on device ska_mid/tm_subarray_node/1, command Configure\n  origin = virtual Tango::DeviceData Tango::Connection::command_inout(const string&, const Tango::DeviceData&) at (/src/cppTango/cppapi/client/devapi_base.cpp:1338)\n  reason = API_CommandFailed\nseverity = ERR]\n]"
     ]
    }
   ],
   "source": [
    "print(\"Running the Configure command: subarray obsstate should go to Ready\")\n",
    "\n",
    "with open(CONFIGURE_SCAN_FILE, encoding=\"utf-8\") as f:\n",
    "    configure_scan_json = json.load(f)\n",
    "\n",
    "print(f\"\\nconfigure_scan_json file contents: \\n{configure_scan_json}\")\n",
    "\n",
    "print(json.dumps(configure_scan_json))\n",
    "\n",
    "tmc_subarray.Configure(json.dumps(configure_scan_json))\n",
    "    \n",
    "sleep(12)\n",
    "print(f\"SDP Subarray Observation State: {sdp_subarray_leaf_node_dp.sdpSubarrayObsState}\")\n",
    "print(f\"CSP Subarray Observation State: {csp_subarray_leaf_node_dp.cspSubarrayObsState}\")"
   ]
  },
  {
   "cell_type": "code",
   "execution_count": null,
   "metadata": {},
   "outputs": [],
   "source": [
    "print(f\"\\nCBF Subarray Observation State: {cbf_subarray.obsState}\")"
   ]
  },
  {
   "cell_type": "markdown",
   "metadata": {},
   "source": [
    "### Scan"
   ]
  },
  {
   "cell_type": "markdown",
   "metadata": {},
   "source": [
    "DO NOT USE FOR NOW"
   ]
  },
  {
   "cell_type": "code",
   "execution_count": null,
   "metadata": {},
   "outputs": [],
   "source": [
    "print(\"Running the Scan command: subarray obsstate should go to Scanning\")\n",
    "\n",
    "with open(SCAN_FILE, encoding=\"utf-8\") as f:\n",
    "    scan_json = f.read()\n",
    "\n",
    "print(f\"\\nscan_json file contents: \\n{scan_json}\")\n",
    "\n",
    "tmc_subarray.Scan(scan_json)\n",
    "\n",
    "sleep(2)\n",
    "print(f\"\\nCBF Subarray Observation State: {cbf_subarray.obsState}\")"
   ]
  },
  {
   "cell_type": "markdown",
   "metadata": {},
   "source": [
    "TMC LEAF NODE HACK TO GET AROUND TMC SUBARRAY STUCK IN CONFIGURING"
   ]
  },
  {
   "cell_type": "code",
   "execution_count": null,
   "metadata": {},
   "outputs": [],
   "source": [
    "with open(\"../../data/mid_telescope/tmc/scan.json\", \"r\", encoding=\"utf-8\") as json_data:\n",
    "    d = json.load(json_data)\n",
    "    sdp_scan = d[\"sdp\"]\n",
    "    print(sdp_scan)\n",
    "    sdp_subarray_leaf_node_dp.scan(json.dumps(sdp_scan))\n",
    "\n",
    "sleep(10)\n",
    "print(sdp_subarray_leaf_node_dp.sdpSubarrayObsState)\n",
    "\n",
    "with open(\"../../data/mid_telescope/tmc/scan.json\", \"r\", encoding=\"utf-8\") as json_data:\n",
    "    d = json.load(json_data)\n",
    "    csp_scan = d[\"csp\"]\n",
    "    print(csp_scan)\n",
    "    csp_subarray_leaf_node_dp.scan(json.dumps(csp_scan))\n",
    "\n",
    "sleep(2)\n",
    "print(csp_subarray_leaf_node_dp.cspSubarrayObsState)"
   ]
  },
  {
   "cell_type": "markdown",
   "metadata": {},
   "source": [
    "### END SCAN\n"
   ]
  },
  {
   "cell_type": "markdown",
   "metadata": {},
   "source": [
    "DO NOT USE FOR NOW SINCE TMC SUBARRAY IS STUCK IN CONFIGURING"
   ]
  },
  {
   "cell_type": "code",
   "execution_count": null,
   "metadata": {},
   "outputs": [],
   "source": [
    "print(\"Running the End Scan command: subarray obsstate should go to Ready state\")\n",
    "\n",
    "tmc_subarray.EndScan()\n",
    "\n",
    "sleep(2)\n",
    "print(f\"\\nTMC Subarray Observation State: {tmc_subarray.obsState}\")"
   ]
  },
  {
   "cell_type": "markdown",
   "metadata": {},
   "source": [
    "TMC LEAF NODE HACK TO GET AROUND TMC SUBARRAY STUCK IN CONFIGURING"
   ]
  },
  {
   "cell_type": "code",
   "execution_count": null,
   "metadata": {},
   "outputs": [],
   "source": [
    "print(\"Running the End Scan command: subarray obsstate should go to Ready state\")\n",
    "\n",
    "sdp_subarray_leaf_node_dp.EndScan()\n",
    "sleep(2)\n",
    "csp_subarray_leaf_node_dp.EndScan()\n",
    "print(f\"SDP Subarray Observation State: {sdp_subarray_leaf_node_dp.sdpSubarrayObsState}\")\n",
    "print(f\"CSP Subarray Observation State: {csp_subarray_leaf_node_dp.cspSubarrayObsState}\")"
   ]
  },
  {
   "cell_type": "markdown",
   "metadata": {},
   "source": [
    "### END"
   ]
  },
  {
   "cell_type": "markdown",
   "metadata": {},
   "source": [
    "DO NOT USE (TMC STUCK IN CONFIGURING)"
   ]
  },
  {
   "cell_type": "code",
   "execution_count": null,
   "metadata": {},
   "outputs": [],
   "source": [
    "print(\"Running the End command: subarray obsstate should go to Idle state\")\n",
    "\n",
    "tmc_subarray.End()\n",
    "\n",
    "sleep(2)\n",
    "print(f\"\\TMC Subarray Observation State: {cbf_subarray.obsState}\")"
   ]
  },
  {
   "cell_type": "markdown",
   "metadata": {},
   "source": [
    "TMC LEAF NODE HACK TO GET AROUND TMC SUBARRAY STUCK IN CONFIGURING"
   ]
  },
  {
   "cell_type": "code",
   "execution_count": null,
   "metadata": {},
   "outputs": [],
   "source": [
    "print(\"Running the End command: subarray obsstate should go to Idle state\")\n",
    "\n",
    "sdp_subarray_leaf_node_dp.End()\n",
    "sleep(2)\n",
    "csp_subarray_leaf_node_dp.End()\n",
    "\n",
    "sleep(2)\n",
    "print(f\"SDP Subarray Observation State: {sdp_subarray_leaf_node_dp.sdpSubarrayObsState}\")\n",
    "print(f\"CSP Subarray Observation State: {csp_subarray_leaf_node_dp.cspSubarrayObsState}\")"
   ]
  },
  {
   "cell_type": "markdown",
   "metadata": {},
   "source": [
    "### Release Resources"
   ]
  },
  {
   "cell_type": "markdown",
   "metadata": {},
   "source": [
    "DO NOT USE (TMC STUCK IN CONFIGURING)"
   ]
  },
  {
   "cell_type": "code",
   "execution_count": 25,
   "metadata": {},
   "outputs": [
    {
     "name": "stdout",
     "output_type": "stream",
     "text": [
      "Running the Release All Resources command: subarray obsstate should go to Empty state and receptor IDs should be empty\n"
     ]
    },
    {
     "ename": "DevFailed",
     "evalue": "DevFailed[\nDevError[\n    desc = ska_tango_base.faults.StateModelError: ReleaseAllResources command not permitted in observation state RESOURCING\n           \n  origin = Traceback (most recent call last):\n  File \"/usr/local/lib/python3.10/dist-packages/tango/device_server.py\", line 85, in wrapper\n    return get_worker().execute(fn, *args, **kwargs)\n  File \"/usr/local/lib/python3.10/dist-packages/tango/green.py\", line 101, in execute\n    return fn(*args, **kwargs)\n  File \"/app/src/ska_tmc_subarraynode/subarray_node.py\", line 374, in is_ReleaseAllResources_allowed\n    super().is_ReleaseAllResources_allowed()\n  File \"/usr/local/lib/python3.10/dist-packages/ska_tango_base/subarray/subarray_device.py\", line 661, in is_ReleaseAllResources_allowed\n    raise StateModelError(\nska_tango_base.faults.StateModelError: ReleaseAllResources command not permitted in observation state RESOURCING\n\n  reason = PyDs_PythonError\nseverity = ERR]\n\nDevError[\n    desc = Failed to execute command_inout on device ska_mid/tm_subarray_node/1, command ReleaseAllResources\n  origin = virtual Tango::DeviceData Tango::Connection::command_inout(const string&, const Tango::DeviceData&) at (/src/cppTango/cppapi/client/devapi_base.cpp:1338)\n  reason = API_CommandFailed\nseverity = ERR]\n]",
     "output_type": "error",
     "traceback": [
      "\u001b[0;31m---------------------------------------------------------------------------\u001b[0m",
      "\u001b[0;31mDevFailed\u001b[0m                                 Traceback (most recent call last)",
      "Cell \u001b[0;32mIn[25], line 5\u001b[0m\n\u001b[1;32m      1\u001b[0m \u001b[38;5;28mprint\u001b[39m(\n\u001b[1;32m      2\u001b[0m     \u001b[38;5;124m\"\u001b[39m\u001b[38;5;124mRunning the Release All Resources command: subarray obsstate should go to Empty state and receptor IDs should be empty\u001b[39m\u001b[38;5;124m\"\u001b[39m\n\u001b[1;32m      3\u001b[0m )\n\u001b[0;32m----> 5\u001b[0m \u001b[43mtmc_subarray\u001b[49m\u001b[38;5;241;43m.\u001b[39;49m\u001b[43mReleaseAllResources\u001b[49m\u001b[43m(\u001b[49m\u001b[43m)\u001b[49m\n\u001b[1;32m      7\u001b[0m sleep(\u001b[38;5;241m2\u001b[39m)\n\u001b[1;32m      8\u001b[0m \u001b[38;5;28mprint\u001b[39m(\u001b[38;5;124mf\u001b[39m\u001b[38;5;124m\"\u001b[39m\u001b[38;5;124mTMC Subarray Observation State: \u001b[39m\u001b[38;5;132;01m{\u001b[39;00mtmc_subarray\u001b[38;5;241m.\u001b[39mobsState\u001b[38;5;132;01m}\u001b[39;00m\u001b[38;5;124m\"\u001b[39m)\n",
      "File \u001b[0;32m~/venv/lib/python3.10/site-packages/tango/device_proxy.py:336\u001b[0m, in \u001b[0;36m__get_command_func.<locals>.f\u001b[0;34m(*args, **kwds)\u001b[0m\n\u001b[1;32m    335\u001b[0m \u001b[38;5;28;01mdef\u001b[39;00m \u001b[38;5;21mf\u001b[39m(\u001b[38;5;241m*\u001b[39margs, \u001b[38;5;241m*\u001b[39m\u001b[38;5;241m*\u001b[39mkwds):\n\u001b[0;32m--> 336\u001b[0m     \u001b[38;5;28;01mreturn\u001b[39;00m \u001b[43mdp\u001b[49m\u001b[38;5;241;43m.\u001b[39;49m\u001b[43mcommand_inout\u001b[49m\u001b[43m(\u001b[49m\u001b[43mname\u001b[49m\u001b[43m,\u001b[49m\u001b[43m \u001b[49m\u001b[38;5;241;43m*\u001b[39;49m\u001b[43margs\u001b[49m\u001b[43m,\u001b[49m\u001b[43m \u001b[49m\u001b[38;5;241;43m*\u001b[39;49m\u001b[38;5;241;43m*\u001b[39;49m\u001b[43mkwds\u001b[49m\u001b[43m)\u001b[49m\n",
      "File \u001b[0;32m~/venv/lib/python3.10/site-packages/tango/green.py:204\u001b[0m, in \u001b[0;36mgreen.<locals>.decorator.<locals>.greener\u001b[0;34m(obj, *args, **kwargs)\u001b[0m\n\u001b[1;32m    202\u001b[0m green_mode \u001b[38;5;241m=\u001b[39m access(\u001b[38;5;124m\"\u001b[39m\u001b[38;5;124mgreen_mode\u001b[39m\u001b[38;5;124m\"\u001b[39m, \u001b[38;5;28;01mNone\u001b[39;00m)\n\u001b[1;32m    203\u001b[0m executor \u001b[38;5;241m=\u001b[39m get_object_executor(obj, green_mode)\n\u001b[0;32m--> 204\u001b[0m \u001b[38;5;28;01mreturn\u001b[39;00m \u001b[43mexecutor\u001b[49m\u001b[38;5;241;43m.\u001b[39;49m\u001b[43mrun\u001b[49m\u001b[43m(\u001b[49m\u001b[43mfn\u001b[49m\u001b[43m,\u001b[49m\u001b[43m \u001b[49m\u001b[43margs\u001b[49m\u001b[43m,\u001b[49m\u001b[43m \u001b[49m\u001b[43mkwargs\u001b[49m\u001b[43m,\u001b[49m\u001b[43m \u001b[49m\u001b[43mwait\u001b[49m\u001b[38;5;241;43m=\u001b[39;49m\u001b[43mwait\u001b[49m\u001b[43m,\u001b[49m\u001b[43m \u001b[49m\u001b[43mtimeout\u001b[49m\u001b[38;5;241;43m=\u001b[39;49m\u001b[43mtimeout\u001b[49m\u001b[43m)\u001b[49m\n",
      "File \u001b[0;32m~/venv/lib/python3.10/site-packages/tango/green.py:112\u001b[0m, in \u001b[0;36mAbstractExecutor.run\u001b[0;34m(self, fn, args, kwargs, wait, timeout)\u001b[0m\n\u001b[1;32m    110\u001b[0m \u001b[38;5;66;03m# Synchronous (no delegation)\u001b[39;00m\n\u001b[1;32m    111\u001b[0m \u001b[38;5;28;01mif\u001b[39;00m \u001b[38;5;129;01mnot\u001b[39;00m \u001b[38;5;28mself\u001b[39m\u001b[38;5;241m.\u001b[39masynchronous \u001b[38;5;129;01mor\u001b[39;00m \u001b[38;5;129;01mnot\u001b[39;00m \u001b[38;5;28mself\u001b[39m\u001b[38;5;241m.\u001b[39min_executor_context():\n\u001b[0;32m--> 112\u001b[0m     \u001b[38;5;28;01mreturn\u001b[39;00m \u001b[43mfn\u001b[49m\u001b[43m(\u001b[49m\u001b[38;5;241;43m*\u001b[39;49m\u001b[43margs\u001b[49m\u001b[43m,\u001b[49m\u001b[43m \u001b[49m\u001b[38;5;241;43m*\u001b[39;49m\u001b[38;5;241;43m*\u001b[39;49m\u001b[43mkwargs\u001b[49m\u001b[43m)\u001b[49m\n\u001b[1;32m    113\u001b[0m \u001b[38;5;66;03m# Asynchronous delegation\u001b[39;00m\n\u001b[1;32m    114\u001b[0m accessor \u001b[38;5;241m=\u001b[39m \u001b[38;5;28mself\u001b[39m\u001b[38;5;241m.\u001b[39mdelegate(fn, \u001b[38;5;241m*\u001b[39margs, \u001b[38;5;241m*\u001b[39m\u001b[38;5;241m*\u001b[39mkwargs)\n",
      "File \u001b[0;32m~/venv/lib/python3.10/site-packages/tango/connection.py:116\u001b[0m, in \u001b[0;36m__Connection__command_inout\u001b[0;34m(self, name, *args, **kwds)\u001b[0m\n\u001b[1;32m     84\u001b[0m \u001b[38;5;28;01mdef\u001b[39;00m \u001b[38;5;21m__Connection__command_inout\u001b[39m(\u001b[38;5;28mself\u001b[39m, name, \u001b[38;5;241m*\u001b[39margs, \u001b[38;5;241m*\u001b[39m\u001b[38;5;241m*\u001b[39mkwds):\n\u001b[1;32m     85\u001b[0m \u001b[38;5;250m    \u001b[39m\u001b[38;5;124;03m\"\"\"\u001b[39;00m\n\u001b[1;32m     86\u001b[0m \u001b[38;5;124;03m    command_inout( self, cmd_name, cmd_param=None, green_mode=None, wait=True, timeout=None) -> any\u001b[39;00m\n\u001b[1;32m     87\u001b[0m \n\u001b[0;32m   (...)\u001b[0m\n\u001b[1;32m    114\u001b[0m \u001b[38;5;124;03m        *timeout* parameter.\u001b[39;00m\n\u001b[1;32m    115\u001b[0m \u001b[38;5;124;03m    \"\"\"\u001b[39;00m\n\u001b[0;32m--> 116\u001b[0m     r \u001b[38;5;241m=\u001b[39m \u001b[43mConnection\u001b[49m\u001b[38;5;241;43m.\u001b[39;49m\u001b[43mcommand_inout_raw\u001b[49m\u001b[43m(\u001b[49m\u001b[38;5;28;43mself\u001b[39;49m\u001b[43m,\u001b[49m\u001b[43m \u001b[49m\u001b[43mname\u001b[49m\u001b[43m,\u001b[49m\u001b[43m \u001b[49m\u001b[38;5;241;43m*\u001b[39;49m\u001b[43margs\u001b[49m\u001b[43m,\u001b[49m\u001b[43m \u001b[49m\u001b[38;5;241;43m*\u001b[39;49m\u001b[38;5;241;43m*\u001b[39;49m\u001b[43mkwds\u001b[49m\u001b[43m)\u001b[49m\n\u001b[1;32m    117\u001b[0m     \u001b[38;5;28;01mif\u001b[39;00m \u001b[38;5;28misinstance\u001b[39m(r, DeviceData):\n\u001b[1;32m    118\u001b[0m         \u001b[38;5;28;01mtry\u001b[39;00m:\n",
      "File \u001b[0;32m~/venv/lib/python3.10/site-packages/tango/connection.py:145\u001b[0m, in \u001b[0;36m__Connection__command_inout_raw\u001b[0;34m(self, cmd_name, cmd_param)\u001b[0m\n\u001b[1;32m    130\u001b[0m \u001b[38;5;250m\u001b[39m\u001b[38;5;124;03m\"\"\"\u001b[39;00m\n\u001b[1;32m    131\u001b[0m \u001b[38;5;124;03mcommand_inout_raw( self, cmd_name, cmd_param=None) -> DeviceData\u001b[39;00m\n\u001b[1;32m    132\u001b[0m \n\u001b[0;32m   (...)\u001b[0m\n\u001b[1;32m    142\u001b[0m \u001b[38;5;124;03m    Throws     : ConnectionFailed, CommunicationFailed, DeviceUnlocked, DevFailed from device\u001b[39;00m\n\u001b[1;32m    143\u001b[0m \u001b[38;5;124;03m\"\"\"\u001b[39;00m\n\u001b[1;32m    144\u001b[0m param \u001b[38;5;241m=\u001b[39m __get_command_inout_param(\u001b[38;5;28mself\u001b[39m, cmd_name, cmd_param)\n\u001b[0;32m--> 145\u001b[0m \u001b[38;5;28;01mreturn\u001b[39;00m \u001b[38;5;28;43mself\u001b[39;49m\u001b[38;5;241;43m.\u001b[39;49m\u001b[43m__command_inout\u001b[49m\u001b[43m(\u001b[49m\u001b[43mcmd_name\u001b[49m\u001b[43m,\u001b[49m\u001b[43m \u001b[49m\u001b[43mparam\u001b[49m\u001b[43m)\u001b[49m\n",
      "\u001b[0;31mDevFailed\u001b[0m: DevFailed[\nDevError[\n    desc = ska_tango_base.faults.StateModelError: ReleaseAllResources command not permitted in observation state RESOURCING\n           \n  origin = Traceback (most recent call last):\n  File \"/usr/local/lib/python3.10/dist-packages/tango/device_server.py\", line 85, in wrapper\n    return get_worker().execute(fn, *args, **kwargs)\n  File \"/usr/local/lib/python3.10/dist-packages/tango/green.py\", line 101, in execute\n    return fn(*args, **kwargs)\n  File \"/app/src/ska_tmc_subarraynode/subarray_node.py\", line 374, in is_ReleaseAllResources_allowed\n    super().is_ReleaseAllResources_allowed()\n  File \"/usr/local/lib/python3.10/dist-packages/ska_tango_base/subarray/subarray_device.py\", line 661, in is_ReleaseAllResources_allowed\n    raise StateModelError(\nska_tango_base.faults.StateModelError: ReleaseAllResources command not permitted in observation state RESOURCING\n\n  reason = PyDs_PythonError\nseverity = ERR]\n\nDevError[\n    desc = Failed to execute command_inout on device ska_mid/tm_subarray_node/1, command ReleaseAllResources\n  origin = virtual Tango::DeviceData Tango::Connection::command_inout(const string&, const Tango::DeviceData&) at (/src/cppTango/cppapi/client/devapi_base.cpp:1338)\n  reason = API_CommandFailed\nseverity = ERR]\n]"
     ]
    }
   ],
   "source": [
    "print(\n",
    "    \"Running the Release All Resources command: subarray obsstate should go to Empty state and receptor IDs should be empty\"\n",
    ")\n",
    "\n",
    "tmc_subarray.ReleaseAllResources()\n",
    "\n",
    "sleep(2)\n",
    "print(f\"TMC Subarray Observation State: {tmc_subarray.obsState}\")"
   ]
  },
  {
   "cell_type": "markdown",
   "metadata": {},
   "source": [
    "TMC LEAF NODE HACK TO GET AROUND TMC SUBARRAY STUCK IN CONFIGURING"
   ]
  },
  {
   "cell_type": "code",
   "execution_count": null,
   "metadata": {},
   "outputs": [],
   "source": [
    "print(\n",
    "    \"Running the Release All Resources command: subarray obsstate should go to Empty state and receptor IDs should be empty\"\n",
    ")\n",
    "\n",
    "sdp_subarray_leaf_node_dp.ReleaseAllResources()\n",
    "sleep(2)\n",
    "csp_subarray_leaf_node_dp.ReleaseAllResources()\n",
    "\n",
    "sleep(2)\n",
    "print(f\"SDP Subarray Observation State: {sdp_subarray_leaf_node_dp.sdpSubarrayObsState}\")\n",
    "print(f\"CSP Subarray Observation State: {csp_subarray_leaf_node_dp.cspSubarrayObsState}\")"
   ]
  },
  {
   "cell_type": "markdown",
   "metadata": {},
   "source": [
    "### Telescope Off"
   ]
  },
  {
   "cell_type": "code",
   "execution_count": null,
   "metadata": {},
   "outputs": [],
   "source": [
    "print(\"Running the TelescopeOff command\")\n",
    "\n",
    "tmc_central_node.TelescopeOff()\n",
    "\n",
    "sleep(5)\n",
    "print(f\"TMC Central Node State: {tmc_central_node.State()}\")\n",
    "print(f\"CSP Control State: {csp_control.State()}\")\n",
    "print(f\"CBF Controller State: {cbf_controller.State()}\")"
   ]
  }
 ],
 "metadata": {
  "kernelspec": {
   "display_name": "Python 3",
   "language": "python",
   "name": "python3"
  },
  "language_info": {
   "codemirror_mode": {
    "name": "ipython",
    "version": 3
   },
   "file_extension": ".py",
   "mimetype": "text/x-python",
   "name": "python",
   "nbconvert_exporter": "python",
   "pygments_lexer": "ipython3",
   "version": "3.10.14"
  }
 },
 "nbformat": 4,
 "nbformat_minor": 2
}
