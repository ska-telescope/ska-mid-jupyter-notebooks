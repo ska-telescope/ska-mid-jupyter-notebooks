{
 "cells": [
  {
   "cell_type": "markdown",
   "metadata": {},
   "source": [
    "# Configure Test Equipment in ITF"
   ]
  },
  {
   "cell_type": "markdown",
   "metadata": {},
   "source": [
    "This notebooks is a spinoff for the ITF, for making test equipment setup changes as required for some of the mid - aiv jama tests. Currently, it expects that the TANGO_HOST env var has been set correctly in the main notebook."
   ]
  },
  {
   "cell_type": "code",
   "execution_count": null,
   "metadata": {},
   "outputs": [],
   "source": [
    "from bokeh.io import output_notebook\n",
    "\n",
    "from ska_mid_jupyter_notebooks.test_equipment.rendering import get_test_equipment_monitor_plot\n",
    "from ska_mid_jupyter_notebooks.test_equipment.state import get_equipment_model\n",
    "from ska_mid_jupyter_notebooks.test_equipment.test_equipment import TangoTestEquipment\n",
    "from tango import DeviceProxy"
   ]
  },
  {
   "cell_type": "code",
   "execution_count": null,
   "metadata": {},
   "outputs": [],
   "source": [
    "tmc_subarray = DeviceProxy(\"ska_mid/tm_subarray_node/1\")"
   ]
  },
  {
   "cell_type": "markdown",
   "metadata": {},
   "source": [
    "#### Print current status"
   ]
  },
  {
   "cell_type": "code",
   "execution_count": null,
   "metadata": {},
   "outputs": [],
   "source": [
    "test_equipment = TangoTestEquipment()\n",
    "print(f\"Test Equipment Configured: {test_equipment}\")\n",
    "test_equipment_state = get_equipment_model(test_equipment)\n",
    "test_equipment.devices"
   ]
  },
  {
   "cell_type": "markdown",
   "metadata": {},
   "source": [
    "### Print Test Equipment Diagnostics"
   ]
  },
  {
   "cell_type": "code",
   "execution_count": null,
   "metadata": {},
   "outputs": [],
   "source": [
    "# test_equipment.print_diagnostics()\n",
    "tmc_subarray.Abort()"
   ]
  },
  {
   "cell_type": "markdown",
   "metadata": {},
   "source": [
    "### Create Test Equipment Plot"
   ]
  },
  {
   "cell_type": "code",
   "execution_count": null,
   "metadata": {},
   "outputs": [],
   "source": [
    "monitor_plot = get_test_equipment_monitor_plot()\n",
    "test_equipment_state.subscribe_to_test_equipment_state(monitor_plot.handle_device_state_change)\n",
    "output_notebook()\n",
    "monitor_plot.show()\n",
    "test_equipment_state.activate()"
   ]
  },
  {
   "cell_type": "markdown",
   "metadata": {},
   "source": [
    "Turn offline Test Equipment devices ONLINE"
   ]
  }
 ],
 "metadata": {
  "kernelspec": {
   "display_name": "itf",
   "language": "python",
   "name": "python3"
  },
  "language_info": {
   "name": "python",
   "version": "3.10.15"
  }
 },
 "nbformat": 4,
 "nbformat_minor": 2
}
