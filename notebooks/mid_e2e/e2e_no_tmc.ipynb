{
 "cells": [
  {
   "cell_type": "code",
   "execution_count": null,
   "metadata": {
    "metadata": {}
   },
   "outputs": [],
   "source": [
    "TANGO_HOST = \"10.164.10.193:10000\"\n",
    "visibility_ip = \"10.165.21.2\"\n",
    "dish_ids = [\"SKA001\", \"SKA036\"]"
   ]
  },
  {
   "cell_type": "code",
   "execution_count": null,
   "metadata": {
    "metadata": {}
   },
   "outputs": [],
   "source": [
    "import json\n",
    "import os\n",
    "from datetime import datetime\n",
    "from time import sleep\n",
    "\n",
    "from tango import AttributeProxy, DeviceProxy\n",
    "\n",
    "os.environ[\"TANGO_HOST\"] = TANGO_HOST\n",
    "\n",
    "csp_controller = \"mid-csp/control/0\"\n",
    "csp_server = \"mid-csp/subarray/01\"\n",
    "csp_controller_dp = DeviceProxy(csp_controller)\n",
    "csp_dp = DeviceProxy(csp_server)\n",
    "\n",
    "sleep(3)\n",
    "\n",
    "with open(\n",
    "    \"../../data/mid_telescope/cbf/sys_params/initial_system_param.json\", \"r\", encoding=\"utf-8\"\n",
    ") as json_data:\n",
    "    d = json.load(json_data)\n",
    "    csp_controller_dp.LoadDishCfg(json.dumps(d))\n",
    "\n",
    "sleep(3)\n",
    "print(csp_controller_dp.sourceDishVccConfig)\n",
    "sleep(3)\n",
    "csp_controller_dp.commandTimeout = 100\n",
    "sleep(3)\n",
    "csp_controller_dp.On([])\n",
    "\n",
    "\n",
    "# WAIT 100 Seconds"
   ]
  },
  {
   "cell_type": "code",
   "execution_count": null,
   "metadata": {
    "metadata": {}
   },
   "outputs": [],
   "source": [
    "with open(\n",
    "    \"../../data/mid_telescope/csp/assign_resources.json\", \"r\", encoding=\"utf-8\"\n",
    ") as json_data:\n",
    "    assign_resources_csp = json.load(json_data)\n",
    "    assign_resources_csp[\"dish\"][\"receptor_ids\"] = dish_ids\n",
    "    print(assign_resources_csp)\n",
    "    csp_dp.AssignResources(json.dumps(assign_resources_csp))\n",
    "\n",
    "sleep(3)\n",
    "\n",
    "print(csp_dp.obsState)"
   ]
  },
  {
   "cell_type": "code",
   "execution_count": null,
   "metadata": {
    "metadata": {}
   },
   "outputs": [],
   "source": [
    "with open(\"../../data/mid_telescope/tmc/configure_scan.json\", \"r\", encoding=\"utf-8\") as json_data:\n",
    "    d = json.load(json_data)\n",
    "    csp_configure_scan = d[\"csp\"]\n",
    "    csp_configure_scan[\"cbf\"][\"fsp\"][0][\"output_host\"] = [[]]\n",
    "    csp_configure_scan[\"cbf\"][\n",
    "        \"delay_model_subscription_point\"\n",
    "    ] = \"ska_mid/tm_leaf_node/csp_subarray_01/delayModel\"\n",
    "    csp_configure_scan[\"cbf\"][\"fsp\"][0][\"output_host\"][0] = [0, visibility_ip]\n",
    "    csp_configure_scan[\"cbf\"][\"fsp\"][0][\"output_port\"] = [[0, 21000, 1]]\n",
    "    print(csp_configure_scan)\n",
    "    csp_dp.configure(json.dumps(csp_configure_scan))\n",
    "\n",
    "sleep(5)\n",
    "print(csp_dp.obsState)"
   ]
  },
  {
   "cell_type": "code",
   "execution_count": null,
   "metadata": {
    "metadata": {}
   },
   "outputs": [],
   "source": [
    "print(csp_dp.obsState)"
   ]
  },
  {
   "cell_type": "code",
   "execution_count": null,
   "metadata": {
    "metadata": {}
   },
   "outputs": [],
   "source": [
    "from datetime import datetime, timedelta, timezone\n",
    "\n",
    "from astropy.time import Time\n",
    "\n",
    "SKA_EPOCH = \"1999-12-31T23:59:28Z\"\n",
    "ska_epoch_utc = Time(SKA_EPOCH, scale=\"utc\")\n",
    "ska_epoch_tai = ska_epoch_utc.unix_tai\n",
    "\n",
    "start_utc_time = Time(datetime.now(timezone.utc) + timedelta(seconds=5), scale=\"utc\")\n",
    "\n",
    "target_epoch = start_utc_time.unix_tai - ska_epoch_tai\n",
    "\n",
    "with open(\"../../data/mid_telescope/tmc/delay_model.json\", encoding=\"utf-8\") as f:\n",
    "    delay_model = json.load(f)\n",
    "delayModelProxy = DeviceProxy(\"ska_mid/tm_leaf_node/csp_subarray_01\")\n",
    "delay_model[\"start_validity_sec\"] = target_epoch\n",
    "print(json.dumps(delay_model))\n",
    "\n",
    "\n",
    "tm_server = \"ska_mid/tm_leaf_node/csp_subarray_01\"\n",
    "tm_dp = DeviceProxy(tm_server)\n",
    "tm_dp.delayModel = json.dumps(delay_model)\n",
    "\n",
    "sleep(5)"
   ]
  },
  {
   "cell_type": "code",
   "execution_count": null,
   "metadata": {
    "metadata": {}
   },
   "outputs": [],
   "source": [
    "with open(\"../../data/mid_telescope/tmc/scan.json\", \"r\", encoding=\"utf-8\") as json_data:\n",
    "    d = json.load(json_data)\n",
    "    csp_scan = d[\"csp\"]\n",
    "    print(csp_scan)\n",
    "    csp_dp.scan(json.dumps(csp_scan))\n",
    "\n",
    "sleep(2)\n",
    "print(csp_dp.obsState)"
   ]
  },
  {
   "cell_type": "code",
   "execution_count": null,
   "metadata": {
    "metadata": {}
   },
   "outputs": [],
   "source": [
    "csp_dp.EndScan()"
   ]
  },
  {
   "cell_type": "code",
   "execution_count": null,
   "metadata": {
    "metadata": {}
   },
   "outputs": [],
   "source": [
    "csp_dp.GoToIdle()\n",
    "sleep(6)\n",
    "csp_dp.ReleaseAllResources()"
   ]
  },
  {
   "cell_type": "code",
   "execution_count": null,
   "metadata": {},
   "outputs": [],
   "source": [
    "csp_dp.ObsReset()"
   ]
  },
  {
   "cell_type": "code",
   "execution_count": null,
   "metadata": {},
   "outputs": [],
   "source": [
    "csp_controller_dp.Off([])"
   ]
  }
 ],
 "metadata": {
  "kernelspec": {
   "display_name": "Python 3",
   "language": "python",
   "name": "python3"
  },
  "language_info": {
   "codemirror_mode": {
    "name": "ipython",
    "version": 3
   },
   "file_extension": ".py",
   "mimetype": "text/x-python",
   "name": "python",
   "nbconvert_exporter": "python",
   "pygments_lexer": "ipython3",
   "version": "3.10.12"
  }
 },
 "nbformat": 4,
 "nbformat_minor": 2
}
