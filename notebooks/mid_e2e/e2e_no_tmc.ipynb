{
 "cells": [
  {
   "cell_type": "code",
   "execution_count": null,
   "metadata": {},
   "outputs": [],
   "source": [
    "TANGO_HOST=\"10.164.10.47:10000\"\n",
    "correlator_setup = 'two_receptor'\n",
    "visibility_ip = \"10.165.21.2\"\n",
    "dish_ids = [\"SKA001\"]\n",
    "correlator_setup = \"1fsp\""
   ]
  },
  {
   "cell_type": "code",
   "execution_count": null,
   "metadata": {},
   "outputs": [],
   "source": [
    "from PyTango import DeviceProxy, AttributeProxy\n",
    "import os\n",
    "import json\n",
    "from time import sleep\n",
    "from datetime import datetime\n",
    "\n",
    "os.environ[\"TANGO_HOST\"] = TANGO_HOST\n",
    "\n",
    "csp_server = \"mid-csp/subarray/01\"\n",
    "csp_dp = DeviceProxy(csp_server)\n",
    "\n",
    "with open(f'../../data/mid_telescope/csplmc/assign_resources.json', 'r') as json_data:\n",
    "    d = json.load(json_data)\n",
    "    d[\"dish\"][\"receptor_ids\"] = dish_ids\n",
    "    print(d)\n",
    "    csp_dp.AssignResources(json.dumps(d))\n",
    "\n",
    "sleep(3)\n",
    "\n",
    "print(csp_dp.obsState)\n",
    "\n",
    "with open(f'../../data/mid_telescope/csplmc/configure_scan.json', 'r') as json_data:\n",
    "    d = json.load(json_data)\n",
    "    d[\"cbf\"][\"fsp\"][0][\"output_host\"][0][1] = visibility_ip\n",
    "    print(d)\n",
    "    csp_dp.configure(json.dumps(d))\n",
    "\n",
    "sleep(3)\n",
    "print(csp_dp.obsState)\n",
    "sleep(5)\n",
    "print(csp_dp.obsState)"
   ]
  },
  {
   "cell_type": "code",
   "execution_count": null,
   "metadata": {},
   "outputs": [],
   "source": [
    "print(csp_dp.obsState)"
   ]
  },
  {
   "cell_type": "code",
   "execution_count": null,
   "metadata": {},
   "outputs": [],
   "source": [
    "now = datetime.now()\n",
    "\n",
    "with open(f'../../data/mid_telescope/csplmc/delay_model.json', 'r') as json_data:\n",
    "    delay_model = json.load(json_data)\n",
    "\n",
    "delay_model[\"epoch\"] = float(int(now.timestamp()))\n",
    "\n",
    "print(delay_model)\n",
    "\n",
    "tm_server = \"ska_mid/tm_leaf_node/csp_subarray_01\"\n",
    "tm_dp = DeviceProxy(tm_server)\n",
    "tm_dp.delayModel = json.dumps(delay_model)\n",
    "\n",
    "sleep(5)\n",
    "\n",
    "with open(f'../../data/scan.json', 'r') as json_data:\n",
    "    d = json.load(json_data)\n",
    "    csp_dp.scan(json.dumps(d))\n",
    "\n",
    "sleep(2)\n",
    "print(csp_dp.obsState)"
   ]
  },
  {
   "cell_type": "code",
   "execution_count": null,
   "metadata": {},
   "outputs": [],
   "source": [
    "csp_dp.EndScan()"
   ]
  },
  {
   "cell_type": "code",
   "execution_count": null,
   "metadata": {},
   "outputs": [],
   "source": [
    "csp_dp.GoToIdle()\n",
    "sleep(2)\n",
    "csp_dp.ReleaseAllResources()"
   ]
  }
 ],
 "metadata": {
  "kernelspec": {
   "display_name": "venv",
   "language": "python",
   "name": "python3"
  },
  "language_info": {
   "codemirror_mode": {
    "name": "ipython",
    "version": 3
   },
   "file_extension": ".py",
   "mimetype": "text/x-python",
   "name": "python",
   "nbconvert_exporter": "python",
   "pygments_lexer": "ipython3",
   "version": "3.10.12"
  }
 },
 "nbformat": 4,
 "nbformat_minor": 2
}
