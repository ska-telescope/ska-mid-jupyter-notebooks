{
 "cells": [
  {
   "cell_type": "code",
   "execution_count": null,
   "metadata": {},
   "outputs": [],
   "source": [
    "TANGO_HOST=\"192.168.128.177:10000\"\n",
    "visibility_ip = \"10.50.1.31\"\n",
    "dish_ids = [\"SKA001\"]"
   ]
  },
  {
   "cell_type": "code",
   "execution_count": null,
   "metadata": {},
   "outputs": [],
   "source": [
    "from PyTango import DeviceProxy, AttributeProxy\n",
    "import os\n",
    "import json\n",
    "from time import sleep\n",
    "from datetime import datetime\n",
    "\n",
    "os.environ[\"TANGO_HOST\"] = TANGO_HOST\n",
    "\n",
    "csp_controller =\"mid-csp/control/0\"\n",
    "csp_server = \"mid-csp/subarray/01\"\n",
    "csp_controller_dp = DeviceProxy(csp_controller)\n",
    "csp_dp = DeviceProxy(csp_server)\n",
    "\n",
    "print(csp_controller_dp.get_command_list())\n",
    "sleep(5)\n",
    "csp_controller_dp.adminMode = 0\n",
    "sleep(3)\n",
    "\n",
    "with open(f'../../data/mid_telescope/cbf/sys_params/load_dish_config.json', 'r') as json_data:\n",
    "    d = json.load(json_data)\n",
    "    csp_controller_dp.LoadDishCfg(json.dumps(d))\n",
    "    \n",
    "print(csp_controller_dp.sourceDishVccConfig)\n",
    "csp_controller_dp.cbfSimulationMode = 0\n",
    "csp_controller_dp.commandTimeout = 100\n",
    "csp_controller_dp.On([])\n",
    "\n",
    "\n",
    "## WAIT 100 Seconds"
   ]
  },
  {
   "cell_type": "code",
   "execution_count": null,
   "metadata": {},
   "outputs": [],
   "source": [
    "with open(f'../../data/mid_telescope/csp/assign_resources.json', 'r') as json_data:\n",
    "    assign_resources_csp = json.load(json_data)\n",
    "    assign_resources_csp[\"dish\"][\"receptor_ids\"] = dish_ids\n",
    "    print(assign_resources_csp)\n",
    "    csp_dp.AssignResources(json.dumps(assign_resources_csp))\n",
    "\n",
    "sleep(3)\n",
    "\n",
    "# print(csp_dp.obsState)\n",
    "\n",
    "with open(f'../../data/mid_telescope/tmc/configure_scan.json', 'r') as json_data:\n",
    "    d = json.load(json_data)\n",
    "    csp_configure_scan = d[\"csp\"]\n",
    "    csp_configure_scan[\"cbf\"][\"fsp\"][0][\"output_host\"]=[[]]\n",
    "    csp_configure_scan[\"cbf\"][\"fsp\"][0][\"output_host\"][0]=[0, visibility_ip]\n",
    "    csp_configure_scan[\"cbf\"][\"fsp\"][0][\"output_port\"]=[[0, 21000, 1]]\n",
    "    print(csp_configure_scan)\n",
    "    csp_dp.configure(json.dumps(csp_configure_scan))\n",
    "\n",
    "sleep(5)\n",
    "print(csp_dp.obsState)"
   ]
  },
  {
   "cell_type": "code",
   "execution_count": null,
   "metadata": {},
   "outputs": [],
   "source": [
    "print(csp_dp.obsState)"
   ]
  },
  {
   "cell_type": "code",
   "execution_count": null,
   "metadata": {},
   "outputs": [],
   "source": [
    "now = datetime.now()\n",
    "\n",
    "with open(f'../../data/mid_telescope/tmc/delay_model.json', 'r') as json_data:\n",
    "    delay_model = json.load(json_data)\n",
    "\n",
    "delay_model[\"epoch\"] = float(int(now.timestamp()))\n",
    "\n",
    "print(delay_model)\n",
    "\n",
    "tm_server = \"ska_mid/tm_leaf_node/csp_subarray_01\"\n",
    "tm_dp = DeviceProxy(tm_server)\n",
    "tm_dp.delayModel = json.dumps(delay_model)\n",
    "\n",
    "sleep(5)\n",
    "\n",
    "with open(f'../../data/mid_telescope/tmc/scan.json', 'r') as json_data:\n",
    "    d = json.load(json_data)\n",
    "    csp_scan = d[\"csp\"]\n",
    "    csp_dp.scan(json.dumps(csp_scan))\n",
    "\n",
    "sleep(2)\n",
    "print(csp_dp.obsState)"
   ]
  },
  {
   "cell_type": "code",
   "execution_count": null,
   "metadata": {},
   "outputs": [],
   "source": [
    "csp_dp.EndScan()"
   ]
  },
  {
   "cell_type": "code",
   "execution_count": null,
   "metadata": {},
   "outputs": [],
   "source": [
    "csp_dp.GoToIdle()\n",
    "sleep(2)\n",
    "csp_dp.ReleaseAllResources()"
   ]
  }
 ],
 "metadata": {
  "kernelspec": {
   "display_name": "Python 3",
   "language": "python",
   "name": "python3"
  },
  "language_info": {
   "codemirror_mode": {
    "name": "ipython",
    "version": 3
   },
   "file_extension": ".py",
   "mimetype": "text/x-python",
   "name": "python",
   "nbconvert_exporter": "python",
   "pygments_lexer": "ipython3",
   "version": "3.10.14"
  }
 },
 "nbformat": 4,
 "nbformat_minor": 2
}
