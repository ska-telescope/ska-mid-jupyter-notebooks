{
 "cells": [
  {
   "cell_type": "markdown",
   "metadata": {},
   "source": [
    "# Notebook for End to End testing in the MID PSI\n",
    "\n",
    "- DishLMC in the loop\n",
    "- SPFRx in the loop\n",
    "- TMC/SDP/CSP in the loop\n",
    "- Receives and plots the visibilities to SDP"
   ]
  },
  {
   "cell_type": "code",
   "execution_count": null,
   "metadata": {},
   "outputs": [],
   "source": [
    "import json\n",
    "import os\n",
    "from time import sleep\n",
    "\n",
    "from tango import Database, DevFailed, DeviceProxy\n",
    "\n",
    "print(\"Setting up parameters\\n\")\n",
    "\n",
    "PSI_NAMESPACE = \"ci-ska-mid-psi-1377844469-jaredmda\"\n",
    "\n",
    "TANGO_HOST = f\"databaseds-tango-base.{PSI_NAMESPACE}.svc.cluster.local:10000\"\n",
    "os.environ[\"TANGO_HOST\"] = TANGO_HOST\n",
    "\n",
    "RECEPTORS = [\"SKA001\"]\n",
    "\n",
    "# Config files set up\n",
    "DATA_DIR = \"../../data\"\n",
    "TMC_CONFIGS = f\"{DATA_DIR}/psi/tmc\"\n",
    "SCAN_FILE = f\"{TMC_CONFIGS}/scan.json\"\n",
    "RELEASE_RESOURCES_FILE = f\"{DATA_DIR}/release_resources.json\"\n",
    "\n",
    "ASSIGN_RESOURCES_FILE = f\"{TMC_CONFIGS}/assign_resources.json\"\n",
    "CONFIGURE_SCAN_FILE = f\"{TMC_CONFIGS}/configure_scan.json\"\n",
    "\n",
    "CBF_CONFIGS = f\"{DATA_DIR}/psi/cbf\"\n",
    "DISH_CONFIG_FILE = f\"{CBF_CONFIGS}/sys_params/load_dish_config.json\"\n",
    "\n",
    "# MCS/Talon setup\n",
    "target_board = [1]\n",
    "COMMON_CONFIG_FOLDER = os.path.join(DATA_DIR, \"psi/cbf\")\n",
    "HW_CONFIG_FOLDER = os.path.join(COMMON_CONFIG_FOLDER, \"hw_config\")\n",
    "INIT_SYS_PARAM_FILE = os.path.join(COMMON_CONFIG_FOLDER, \"sys_params/initial_system_param.json\")\n",
    "\n",
    "print(\"Links for Taranta and QA Display\\n\")\n",
    "print(f\"https://142.73.34.170/{PSI_NAMESPACE}/signal/display/\")\n",
    "print(f\"https://142.73.34.170/{PSI_NAMESPACE}/taranta/devices\")"
   ]
  },
  {
   "cell_type": "markdown",
   "metadata": {},
   "source": [
    "### MCS Deployer Setup"
   ]
  },
  {
   "cell_type": "code",
   "execution_count": null,
   "metadata": {},
   "outputs": [],
   "source": [
    "db = Database()\n",
    "\n",
    "deployer_tango = DeviceProxy(\"mid_csp_cbf/ec/deployer\")\n",
    "# Check the devices initially deployed to the database\n",
    "print(*db.get_device_exported(\"*\").value_string, sep=\"\\n\")\n",
    "# Make sure the deployer device is set to ON\n",
    "deployer_tango.On()\n",
    "print(deployer_tango.state())\n",
    "\n",
    "if any(i > 4 for i in target_board):\n",
    "    print(\"Using swap for higher number talons\")\n",
    "    config = \"hw_config_swap_psi.yaml\"\n",
    "    print(\"Modifying target to use lower nums to match swap file\")\n",
    "    target_board = list(map(lambda x: x - 4, target_board))\n",
    "else:\n",
    "    print(\"Using standard HW config\")\n",
    "    config = \"hw_config_psi.yaml\"\n",
    "\n",
    "HW_CONFIG_FILE = os.path.join(HW_CONFIG_FOLDER, config)\n",
    "if os.path.isfile(HW_CONFIG_FILE):\n",
    "    print(\"HW config: ✔️\")\n",
    "else:\n",
    "    print(\"hw config: ❌\")"
   ]
  },
  {
   "cell_type": "code",
   "execution_count": null,
   "metadata": {},
   "outputs": [],
   "source": [
    "!kubectl cp $HW_CONFIG_FILE $PSI_NAMESPACE/ds-cbfcontroller-controller-0:/app/mnt/hw_config/hw_config.yaml"
   ]
  },
  {
   "cell_type": "code",
   "execution_count": null,
   "metadata": {},
   "outputs": [],
   "source": [
    "deployer_tango.targetTalons = target_board\n",
    "print(deployer_tango.targetTalons)"
   ]
  },
  {
   "cell_type": "code",
   "execution_count": null,
   "metadata": {},
   "outputs": [],
   "source": [
    "deployer_tango.generate_config_jsons()"
   ]
  },
  {
   "cell_type": "code",
   "execution_count": null,
   "metadata": {},
   "outputs": [],
   "source": [
    "deployer_tango.set_timeout_millis(300000)\n",
    "try:\n",
    "    deployer_tango.download_artifacts()\n",
    "except DevFailed as e:\n",
    "    print(e)\n",
    "    print(\n",
    "        \"Timed out, this is likely due to the download taking some time. Check the logs with the code space below after some time to see if it passes.\"\n",
    "    )\n",
    "deployer_tango.set_timeout_millis(4500)"
   ]
  },
  {
   "cell_type": "code",
   "execution_count": null,
   "metadata": {},
   "outputs": [],
   "source": [
    "deployer_tango.configure_db()"
   ]
  },
  {
   "cell_type": "markdown",
   "metadata": {},
   "source": [
    "### Set Up and Configure Device Proxies "
   ]
  },
  {
   "cell_type": "code",
   "execution_count": null,
   "metadata": {},
   "outputs": [],
   "source": [
    "print(\"Setting up the device proxies\")\n",
    "\n",
    "# TMC proxies\n",
    "tmc_central_node = DeviceProxy(\"ska_mid/tm_central/central_node\")\n",
    "tmc_csp_master = DeviceProxy(\"ska_mid/tm_leaf_node/csp_master\")\n",
    "tmc_csp_subarray = DeviceProxy(\"ska_mid/tm_leaf_node/csp_subarray01\")\n",
    "tmc_subarray = DeviceProxy(\"ska_mid/tm_subarray_node/1\")\n",
    "\n",
    "# CSP.LMC proxies\n",
    "csp_control = DeviceProxy(\"mid-csp/control/0\")\n",
    "csp_subarray = DeviceProxy(\"mid-csp/subarray/01\")\n",
    "\n",
    "# CBF proxies\n",
    "cbf_controller = DeviceProxy(\"mid_csp_cbf/sub_elt/controller\")\n",
    "cbf_subarray = DeviceProxy(\"mid_csp_cbf/sub_elt/subarray_01\")\n",
    "\n",
    "# Dish Leaf Proxies\n",
    "dish_leaf_node_ska001 = DeviceProxy(\"ska_mid/tm_leaf_node/d0001\")\n",
    "\n",
    "# SDP Proxies\n",
    "sdp_subarray = DeviceProxy(\"mid-sdp/subarray/01\")\n",
    "\n",
    "# Set devices to adminMode = ONLINE\n",
    "csp_control.adminMode = 0\n",
    "csp_subarray.adminMode = 0\n",
    "\n",
    "# Leaf Nodes\n",
    "csp_subarray_leaf_node = \"ska_mid/tm_leaf_node/csp_subarray01\"\n",
    "sdp_subarray_leaf_node = \"ska_mid/tm_leaf_node/sdp_subarray01\"\n",
    "csp_master_leaf_node = \"ska_mid/tm_leaf_node/csp_master\"\n",
    "csp_subarray_leaf_node_dp = DeviceProxy(csp_subarray_leaf_node)\n",
    "sdp_subarray_leaf_node_dp = DeviceProxy(sdp_subarray_leaf_node)\n",
    "csp_master_leaf_node_dp = DeviceProxy(csp_master_leaf_node)\n",
    "\n",
    "sleep(2)\n",
    "print(\"\\nChecking admin mode after setting to ONLINE (0):\")\n",
    "print(f\"  CSP Control: {csp_control.adminMode}\")\n",
    "print(f\"  CSP Subarray: {csp_subarray.adminMode}\")\n",
    "print(f\"  CBF Controller: {cbf_controller.adminMode}\")\n",
    "print(f\"  CBF Subarray: {cbf_subarray.adminMode}\")\n",
    "\n",
    "# Set CBF Simulation mode to false and CBF timeout to 99s\n",
    "csp_control.cbfSimulationMode = 0\n",
    "csp_control.commandTimeout = 99\n",
    "\n",
    "sleep(2)\n",
    "print(\"\\nChecking CBF Simulation Mode and CBF Timeout:\")\n",
    "print(f\"  CBF Simulation Mode: {bool(csp_control.cbfSimulationMode)}\")\n",
    "print(f\"  CBF Timeout: {csp_control.commandTimeout} sec\")"
   ]
  },
  {
   "cell_type": "markdown",
   "metadata": {},
   "source": [
    "### Load the Dish Vcc Config / Init Sys Params"
   ]
  },
  {
   "cell_type": "markdown",
   "metadata": {},
   "source": [
    "NOTE: RUN TWICE"
   ]
  },
  {
   "cell_type": "code",
   "execution_count": null,
   "metadata": {},
   "outputs": [],
   "source": [
    "with open(DISH_CONFIG_FILE, encoding=\"utf-8\") as f:\n",
    "    dish_config_json = json.load(f)\n",
    "\n",
    "dish_config_json[\"tm_data_sources\"][\n",
    "    0\n",
    "] = \"car://gitlab.com/ska-telescope/ska-telmodel-data?0.1.0-rc-mid-itf#tmdata\"\n",
    "dish_config_json[\"tm_data_filepath\"] = \"instrument/ska1_mid_itf/ska-mid-cbf-system-parameters.json\"\n",
    "\n",
    "print(f\"dish_config_json file contents: \\n{dish_config_json}\")\n",
    "tmc_central_node.LoadDishCfg(json.dumps(dish_config_json))\n",
    "\n",
    "sleep(2)\n",
    "print(f\"TMC CSP Master's Dish Vcc Config attribute value: \\n{tmc_csp_master.dishVccConfig}\")\n",
    "print(\n",
    "    f\"\\nTMC CSP Master's Source Dish Vcc Config attribute value: \\n{tmc_csp_master.sourceDishVccConfig}\"\n",
    ")"
   ]
  },
  {
   "cell_type": "markdown",
   "metadata": {},
   "source": [
    "##### Use This to Check if Config is Set Before Proceeding"
   ]
  },
  {
   "cell_type": "code",
   "execution_count": null,
   "metadata": {},
   "outputs": [],
   "source": [
    "print(tmc_central_node.isDishVccConfigSet)"
   ]
  },
  {
   "cell_type": "markdown",
   "metadata": {},
   "source": [
    "### Turn the Telescope On"
   ]
  },
  {
   "cell_type": "code",
   "execution_count": null,
   "metadata": {},
   "outputs": [],
   "source": [
    "print(\"Running the TelescopeOn command\")\n",
    "tmc_central_node.TelescopeOn()\n",
    "\n",
    "while int(tmc_central_node.telescopeState) != 0:\n",
    "    print(\"Waiting for Telescope to come ON\")\n",
    "    sleep(5)\n",
    "\n",
    "print(\"YAY Telecope is ON\")"
   ]
  },
  {
   "cell_type": "code",
   "execution_count": null,
   "metadata": {},
   "outputs": [],
   "source": [
    "print(\"Verifying the states:\")\n",
    "print(f\"  TMC Central Node State: {tmc_central_node.State()}\")\n",
    "print(f\"  CSP Control State: {csp_control.State()}\")\n",
    "print(f\"  CBF Controller State: {cbf_controller.State()}\")\n",
    "print(f\"  TMC Subarray State: {tmc_subarray.State()}\")"
   ]
  },
  {
   "cell_type": "markdown",
   "metadata": {},
   "source": [
    "### Assign Resources"
   ]
  },
  {
   "cell_type": "code",
   "execution_count": null,
   "metadata": {},
   "outputs": [],
   "source": [
    "print(sdp_subarray.state())\n",
    "\n",
    "sleep(3)\n",
    "\n",
    "print(\n",
    "    \"Running the AssignResources command: subarray obsstate should go to Idle and receptor IDs should be assigned\"\n",
    ")\n",
    "\n",
    "with open(ASSIGN_RESOURCES_FILE, encoding=\"utf-8\") as f:\n",
    "    assign_resources_json = json.load(f)\n",
    "    assign_resources_json[\"dish\"][\"receptor_ids\"] = RECEPTORS\n",
    "    assign_resources_json[\"sdp\"][\"resources\"][\"receptors\"] = RECEPTORS\n",
    "\n",
    "\n",
    "print(f\"\\nassign_resources_json file contents: \\n{assign_resources_json}\")\n",
    "\n",
    "tmc_subarray.AssignResources(json.dumps(assign_resources_json))\n",
    "\n",
    "sleep(2)\n",
    "print(f\"\\nCBF Subarray Observation State: {tmc_subarray.obsState}\")\n",
    "print(f\"CBF Subarray Receptors : {cbf_subarray.receptors}\")\n",
    "print(f\"Assign Resource: {assign_resources_json}\")"
   ]
  },
  {
   "cell_type": "code",
   "execution_count": null,
   "metadata": {},
   "outputs": [],
   "source": [
    "print(f\"\\nCBF Subarray Observation State: {tmc_subarray.obsState}\")"
   ]
  },
  {
   "cell_type": "code",
   "execution_count": null,
   "metadata": {},
   "outputs": [],
   "source": [
    "#Massage this to work in the PSI\n",
    "import time\n",
    "dish_manager = DeviceProxy(\"mid-dish/dish-manager/ska001\")\n",
    "\n",
    "dish_manager.slew([181.0,31.0])\n",
    "\n",
    "while dish_manager.achievedpointing[1] != 181.0 or dish_manager.achievedpointing[2] != 31.0:\n",
    "  time.sleep(1)\n",
    "\n",
    "print(\"Done slewing\")"
   ]
  },
  {
   "cell_type": "markdown",
   "metadata": {},
   "source": [
    "### Configure Scan"
   ]
  },
  {
   "cell_type": "markdown",
   "metadata": {},
   "source": [
    "##### Wait for SDP Pods Before Proceeding"
   ]
  },
  {
   "cell_type": "code",
   "execution_count": null,
   "metadata": {},
   "outputs": [],
   "source": [
    "print(\"Running the Configure command: subarray obsstate should go to Ready\")\n",
    "\n",
    "with open(CONFIGURE_SCAN_FILE, encoding=\"utf-8\") as f:\n",
    "    configure_scan_json = json.load(f)\n",
    "\n",
    "print(f\"\\nconfigure_scan_json file contents: \\n{configure_scan_json}\")\n",
    "\n",
    "print(json.dumps(configure_scan_json))\n",
    "\n",
    "tmc_subarray.Configure(json.dumps(configure_scan_json))\n",
    "\n",
    "sleep(12)\n",
    "print(f\"SDP Subarray Observation State: {sdp_subarray_leaf_node_dp.sdpSubarrayObsState}\")\n",
    "print(f\"CSP Subarray Observation State: {csp_subarray_leaf_node_dp.cspSubarrayObsState}\")"
   ]
  },
  {
   "cell_type": "code",
   "execution_count": null,
   "metadata": {},
   "outputs": [],
   "source": [
    "print(f\"\\nCBF Subarray Observation State: {cbf_subarray.obsState}\")\n",
    "print(f\"SDP Subarray Observation State: {sdp_subarray_leaf_node_dp.sdpSubarrayObsState}\")\n",
    "print(f\"CSP Subarray Observation State: {csp_subarray_leaf_node_dp.cspSubarrayObsState}\")\n",
    "print(f\"TMC Subarray Observation State: {tmc_subarray.obsState}\")"
   ]
  },
  {
   "cell_type": "markdown",
   "metadata": {},
   "source": [
    "### Scan"
   ]
  },
  {
   "cell_type": "markdown",
   "metadata": {},
   "source": [
    "DO NOT USE FOR NOW"
   ]
  },
  {
   "cell_type": "code",
   "execution_count": null,
   "metadata": {},
   "outputs": [],
   "source": [
    "print(\"Running the Scan command: subarray obsstate should go to Scanning\")\n",
    "\n",
    "with open(SCAN_FILE, encoding=\"utf-8\") as f:\n",
    "    scan_json = f.read()\n",
    "\n",
    "print(f\"\\nscan_json file contents: \\n{scan_json}\")\n",
    "\n",
    "tmc_subarray.Scan(scan_json)\n",
    "\n",
    "sleep(2)\n",
    "print(f\"\\nCBF Subarray Observation State: {cbf_subarray.obsState}\")"
   ]
  },
  {
   "cell_type": "markdown",
   "metadata": {},
   "source": [
    "TMC LEAF NODE HACK TO GET AROUND TMC SUBARRAY STUCK IN CONFIGURING"
   ]
  },
  {
   "cell_type": "code",
   "execution_count": null,
   "metadata": {},
   "outputs": [],
   "source": [
    "with open(\"../../data/psi/tmc/scan.json\", \"r\", encoding=\"utf-8\") as json_data:\n",
    "    d = json.load(json_data)\n",
    "    sdp_scan = d[\"sdp\"]\n",
    "    print(sdp_scan)\n",
    "    sdp_subarray_leaf_node_dp.scan(json.dumps(sdp_scan))\n",
    "\n",
    "sleep(10)\n",
    "print(sdp_subarray_leaf_node_dp.sdpSubarrayObsState)\n",
    "\n",
    "with open(\"../../data/psi/tmc/scan.json\", \"r\", encoding=\"utf-8\") as json_data:\n",
    "    d = json.load(json_data)\n",
    "    csp_scan = d[\"csp\"]\n",
    "    print(csp_scan)\n",
    "    csp_subarray_leaf_node_dp.scan(json.dumps(csp_scan))\n",
    "\n",
    "sleep(2)\n",
    "print(csp_subarray_leaf_node_dp.cspSubarrayObsState)"
   ]
  },
  {
   "cell_type": "markdown",
   "metadata": {},
   "source": [
    "### END SCAN\n"
   ]
  },
  {
   "cell_type": "markdown",
   "metadata": {},
   "source": [
    "DO NOT USE FOR NOW SINCE TMC SUBARRAY IS STUCK IN CONFIGURING"
   ]
  },
  {
   "cell_type": "code",
   "execution_count": null,
   "metadata": {},
   "outputs": [],
   "source": [
    "print(\"Running the End Scan command: subarray obsstate should go to Ready state\")\n",
    "\n",
    "tmc_subarray.EndScan()\n",
    "\n",
    "sleep(2)\n",
    "print(f\"\\nTMC Subarray Observation State: {tmc_subarray.obsState}\")"
   ]
  },
  {
   "cell_type": "markdown",
   "metadata": {},
   "source": [
    "TMC LEAF NODE HACK TO GET AROUND TMC SUBARRAY STUCK IN CONFIGURING"
   ]
  },
  {
   "cell_type": "code",
   "execution_count": null,
   "metadata": {},
   "outputs": [],
   "source": [
    "print(\"Running the End Scan command: subarray obsstate should go to Ready state\")\n",
    "\n",
    "sdp_subarray_leaf_node_dp.EndScan()\n",
    "sleep(2)\n",
    "csp_subarray_leaf_node_dp.EndScan()\n",
    "print(f\"SDP Subarray Observation State: {sdp_subarray_leaf_node_dp.sdpSubarrayObsState}\")\n",
    "print(f\"CSP Subarray Observation State: {csp_subarray_leaf_node_dp.cspSubarrayObsState}\")"
   ]
  },
  {
   "cell_type": "code",
   "execution_count": null,
   "metadata": {},
   "outputs": [],
   "source": [
    "print(f\"SDP Subarray Observation State: {sdp_subarray_leaf_node_dp.sdpSubarrayObsState}\")\n",
    "print(f\"CSP Subarray Observation State: {csp_subarray_leaf_node_dp.cspSubarrayObsState}\")"
   ]
  },
  {
   "cell_type": "markdown",
   "metadata": {},
   "source": [
    "### END"
   ]
  },
  {
   "cell_type": "markdown",
   "metadata": {},
   "source": [
    "DO NOT USE (TMC STUCK IN CONFIGURING)"
   ]
  },
  {
   "cell_type": "code",
   "execution_count": null,
   "metadata": {},
   "outputs": [],
   "source": [
    "print(\"Running the End command: subarray obsstate should go to Idle state\")\n",
    "\n",
    "tmc_subarray.End()\n",
    "\n",
    "sleep(2)\n",
    "print(f\"\\nTMC Subarray Observation State: {cbf_subarray.obsState}\")"
   ]
  },
  {
   "cell_type": "markdown",
   "metadata": {},
   "source": [
    "TMC LEAF NODE HACK TO GET AROUND TMC SUBARRAY STUCK IN CONFIGURING"
   ]
  },
  {
   "cell_type": "code",
   "execution_count": null,
   "metadata": {},
   "outputs": [],
   "source": [
    "print(\"Running the End command: subarray obsstate should go to Idle state\")\n",
    "\n",
    "sdp_subarray_leaf_node_dp.End()\n",
    "sleep(2)\n",
    "csp_subarray_leaf_node_dp.End()\n",
    "\n",
    "sleep(2)\n",
    "print(f\"SDP Subarray Observation State: {sdp_subarray_leaf_node_dp.sdpSubarrayObsState}\")\n",
    "print(f\"CSP Subarray Observation State: {csp_subarray_leaf_node_dp.cspSubarrayObsState}\")"
   ]
  },
  {
   "cell_type": "code",
   "execution_count": null,
   "metadata": {},
   "outputs": [],
   "source": [
    "print(f\"SDP Subarray Observation State: {sdp_subarray_leaf_node_dp.sdpSubarrayObsState}\")\n",
    "print(f\"CSP Subarray Observation State: {csp_subarray_leaf_node_dp.cspSubarrayObsState}\")"
   ]
  },
  {
   "cell_type": "markdown",
   "metadata": {},
   "source": [
    "### Release Resources"
   ]
  },
  {
   "cell_type": "markdown",
   "metadata": {},
   "source": [
    "DO NOT USE (TMC STUCK IN CONFIGURING)"
   ]
  },
  {
   "cell_type": "code",
   "execution_count": null,
   "metadata": {},
   "outputs": [],
   "source": [
    "print(\n",
    "    \"Running the Release All Resources command: subarray obsstate should go to Empty state and receptor IDs should be empty\"\n",
    ")\n",
    "\n",
    "tmc_subarray.ReleaseAllResources()\n",
    "\n",
    "sleep(2)\n",
    "print(f\"\\nTMC Subarray Observation State: {tmc_subarray.obsState}\")"
   ]
  },
  {
   "cell_type": "markdown",
   "metadata": {},
   "source": [
    "TMC LEAF NODE HACK TO GET AROUND TMC SUBARRAY STUCK IN CONFIGURING"
   ]
  },
  {
   "cell_type": "code",
   "execution_count": null,
   "metadata": {},
   "outputs": [],
   "source": [
    "print(\n",
    "    \"Running the Release All Resources command: subarray obsstate should go to Empty state and receptor IDs should be empty\"\n",
    ")\n",
    "\n",
    "sdp_subarray_leaf_node_dp.ReleaseAllResources()\n",
    "sleep(2)\n",
    "csp_subarray_leaf_node_dp.ReleaseAllResources()\n",
    "\n",
    "sleep(2)\n",
    "print(f\"SDP Subarray Observation State: {sdp_subarray_leaf_node_dp.sdpSubarrayObsState}\")\n",
    "print(f\"CSP Subarray Observation State: {csp_subarray_leaf_node_dp.cspSubarrayObsState}\")"
   ]
  },
  {
   "cell_type": "markdown",
   "metadata": {},
   "source": [
    "### Telescope Off"
   ]
  },
  {
   "cell_type": "code",
   "execution_count": null,
   "metadata": {},
   "outputs": [],
   "source": [
    "print(\"Running the TelescopeOff command\")\n",
    "\n",
    "tmc_central_node.TelescopeOff()\n",
    "\n",
    "sleep(5)\n",
    "print(f\"TMC Central Node State: {tmc_central_node.State()}\")\n",
    "print(f\"CSP Control State: {csp_control.State()}\")\n",
    "print(f\"CBF Controller State: {cbf_controller.State()}\")"
   ]
  }
 ],
 "metadata": {
  "kernelspec": {
   "display_name": "Python 3",
   "language": "python",
   "name": "python3"
  },
  "language_info": {
   "codemirror_mode": {
    "name": "ipython",
    "version": 3
   },
   "file_extension": ".py",
   "mimetype": "text/x-python",
   "name": "python",
   "nbconvert_exporter": "python",
   "pygments_lexer": "ipython3",
   "version": "3.10.14"
  }
 },
 "nbformat": 4,
 "nbformat_minor": 2
}
