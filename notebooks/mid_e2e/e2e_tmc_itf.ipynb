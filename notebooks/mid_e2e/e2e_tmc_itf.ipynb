{
 "cells": [
  {
   "cell_type": "markdown",
   "metadata": {},
   "source": [
    "# Notebook for End to End testing in the MID ITF\n",
    "\n",
    "- Uses digitizers for the 2 inputs to the correlator\n",
    "- Uses 1 FSP (200 MHz)\n",
    "- Receives and plots the visibilities to SDP"
   ]
  },
  {
   "cell_type": "code",
   "execution_count": null,
   "metadata": {},
   "outputs": [],
   "source": [
    "import os\n",
    "from time import sleep\n",
    "\n",
    "print(\"Setting up parameters\\n\")\n",
    "\n",
    "# Set manually\n",
    "CLUSTER_DOMAIN = \"miditf.internal.skao.int\"\n",
    "SUT_NAMESPACE = \"staging\" \n",
    "\n",
    "if SUT_NAMESPACE == \"staging\":\n",
    "    SKA001_NAMESPACE = f\"staging-dish-lmc-ska001\" #ci-dish-lmc-ska001-at-2139-tmc-0-20-1-integration\n",
    "    SKA036_NAMESPACE = f\"staging-dish-lmc-ska036\" #ci-dish-lmc-ska036-at-2139-tmc-0-20-1-integration\n",
    "else:\n",
    "    SKA001_NAMESPACE = f\"ci-dish-lmc-ska001-{SUT_NAMESPACE[15:]}\" #ci-dish-lmc-ska001-at-2139-tmc-0-20-1-integration\n",
    "    SKA036_NAMESPACE = f\"ci-dish-lmc-ska036-{SUT_NAMESPACE[15:]}\" #ci-dish-lmc-ska036-at-2139-tmc-0-20-1-integration\n",
    "\n",
    "TANGO_HOST = f\"tango-databaseds.{SUT_NAMESPACE}.svc.{CLUSTER_DOMAIN}:10000\"\n",
    "os.environ[\"TANGO_HOST\"] = TANGO_HOST\n",
    "\n",
    "RECEPTORS = [\"SKA001\", \"SKA036\"]\n",
    "\n",
    "# Config files set up\n",
    "DATA_DIR = \"../../data\"\n",
    "TMC_CONFIGS = f\"{DATA_DIR}/mid_telescope/tmc\"\n",
    "SCAN_FILE = f\"{TMC_CONFIGS}/scan.json\"\n",
    "RELEASE_RESOURCES_FILE = f\"{DATA_DIR}/release_resources.json\"\n",
    "\n",
    "ASSIGN_RESOURCES_FILE = f\"{TMC_CONFIGS}/assign_resources.json\"\n",
    "CONFIGURE_SCAN_FILE = f\"{TMC_CONFIGS}/configure_scan.json\"\n",
    "\n",
    "CBF_CONFIGS = f\"{DATA_DIR}/mid_telescope/cbf\"\n",
    "DISH_CONFIG_FILE = f\"{CBF_CONFIGS}/sys_params/load_dish_config.json\"\n",
    "\n",
    "KAFKA_PORT = 9092\n",
    "KAFKA_SERVICE_NAME = \"ska-sdp-kafka\"\n",
    "KAFKA_ENDPOINT = f\"{KAFKA_SERVICE_NAME}.{SUT_NAMESPACE}.svc.{CLUSTER_DOMAIN}:{KAFKA_PORT}\"\n",
    "\n",
    "print(\"Links for Taranta and QA Display\\n\")\n",
    "print(\"SUT Links\")\n",
    "print(f\"https://k8s.{CLUSTER_DOMAIN}/{SUT_NAMESPACE}/signal/display/\")\n",
    "print(f\"https://k8s.{CLUSTER_DOMAIN}/{SUT_NAMESPACE}/taranta/devices\")\n",
    "print(\"\\n\")\n",
    "print(\"Dish LMC links\")\n",
    "print(f\"https://k8s.{CLUSTER_DOMAIN}/{SKA001_NAMESPACE}/taranta/devices\")\n",
    "print(f\"https://k8s.{CLUSTER_DOMAIN}/{SKA036_NAMESPACE}/taranta/devices\")"
   ]
  },
  {
   "cell_type": "markdown",
   "metadata": {},
   "source": [
    "### Set Up and Configure Device Proxies "
   ]
  },
  {
   "cell_type": "code",
   "execution_count": null,
   "metadata": {},
   "outputs": [],
   "source": [
    "import json\n",
    "\n",
    "from tango import DeviceProxy\n",
    "\n",
    "print(\"Setting up the device proxies\")\n",
    "\n",
    "# TMC proxies\n",
    "tmc_central_node = DeviceProxy(\"ska_mid/tm_central/central_node\")\n",
    "tmc_csp_master = DeviceProxy(\"ska_mid/tm_leaf_node/csp_master\")\n",
    "tmc_csp_subarray = DeviceProxy(\"ska_mid/tm_leaf_node/csp_subarray01\")\n",
    "tmc_subarray = DeviceProxy(\"ska_mid/tm_subarray_node/1\")\n",
    "\n",
    "# CSP.LMC proxies\n",
    "csp_control = DeviceProxy(\"mid-csp/control/0\")\n",
    "csp_subarray = DeviceProxy(\"mid-csp/subarray/01\")\n",
    "\n",
    "# CBF proxies\n",
    "cbf_controller = DeviceProxy(\"mid_csp_cbf/sub_elt/controller\")\n",
    "cbf_subarray = DeviceProxy(\"mid_csp_cbf/sub_elt/subarray_01\")\n",
    "\n",
    "# Dish Leaf Proxies\n",
    "dish_leaf_node_ska001 = DeviceProxy(\"ska_mid/tm_leaf_node/d0001\")\n",
    "dish_leaf_node_ska036 = DeviceProxy(\"ska_mid/tm_leaf_node/d0036\")\n",
    "\n",
    "# SDP Proxies\n",
    "sdp_subarray = DeviceProxy(\"mid-sdp/subarray/01\")\n",
    "\n",
    "# Set devices to adminMode = ONLINE\n",
    "csp_control.adminMode = 0\n",
    "csp_subarray.adminMode = 0\n",
    "\n",
    "# Leaf Nodes\n",
    "csp_subarray_leaf_node = \"ska_mid/tm_leaf_node/csp_subarray01\"\n",
    "sdp_subarray_leaf_node = \"ska_mid/tm_leaf_node/sdp_subarray01\"\n",
    "csp_master_leaf_node = \"ska_mid/tm_leaf_node/csp_master\"\n",
    "csp_subarray_leaf_node_dp = DeviceProxy(csp_subarray_leaf_node)\n",
    "sdp_subarray_leaf_node_dp = DeviceProxy(sdp_subarray_leaf_node)\n",
    "csp_master_leaf_node_dp = DeviceProxy(csp_master_leaf_node)\n",
    "\n",
    "sleep(2)\n",
    "print(\"\\nChecking admin mode after setting to ONLINE (0):\")\n",
    "print(f\"  CSP Control: {csp_control.adminMode}\")\n",
    "print(f\"  CSP Subarray: {csp_subarray.adminMode}\")\n",
    "print(f\"  CBF Controller: {cbf_controller.adminMode}\")\n",
    "print(f\"  CBF Subarray: {cbf_subarray.adminMode}\")\n",
    "\n",
    "# Set CBF Simulation mode to false and CBF timeout to 99s\n",
    "csp_control.cbfSimulationMode = 0\n",
    "csp_control.commandTimeout = 99\n",
    "\n",
    "sleep(2)\n",
    "print(\"\\nChecking CBF Simulation Mode and CBF Timeout:\")\n",
    "print(f\"  CBF Simulation Mode: {bool(csp_control.cbfSimulationMode)}\")\n",
    "print(f\"  CBF Timeout: {csp_control.commandTimeout} sec\")"
   ]
  },
  {
   "cell_type": "markdown",
   "metadata": {},
   "source": [
    "### Load the Dish Vcc Config / Init Sys Params"
   ]
  },
  {
   "cell_type": "markdown",
   "metadata": {},
   "source": [
    "NOTE: RUN TWICE"
   ]
  },
  {
   "cell_type": "code",
   "execution_count": null,
   "metadata": {},
   "outputs": [],
   "source": [
    "with open(DISH_CONFIG_FILE, encoding=\"utf-8\") as f:\n",
    "    dish_config_json = json.load(f)\n",
    "\n",
    "dish_config_json[\"tm_data_sources\"][0] = \"car://gitlab.com/ska-telescope/ska-telmodel-data?0.1.0-rc-mid-itf#tmdata\"\n",
    "dish_config_json[\"tm_data_filepath\"] = \"instrument/ska1_mid_itf/ska-mid-cbf-system-parameters.json\"\n",
    "\n",
    "print(f\"dish_config_json file contents: \\n{dish_config_json}\")\n",
    "tmc_central_node.LoadDishCfg(json.dumps(dish_config_json))\n",
    "\n",
    "sleep(2)\n",
    "print(f\"TMC CSP Master's Dish Vcc Config attribute value: \\n{tmc_csp_master.dishVccConfig}\")\n",
    "print(\n",
    "    f\"\\nTMC CSP Master's Source Dish Vcc Config attribute value: \\n{tmc_csp_master.sourceDishVccConfig}\"\n",
    ")"
   ]
  },
  {
   "cell_type": "markdown",
   "metadata": {},
   "source": [
    "### Turn the Telescope On\n",
    "Known issues:\n",
    "When turning on Telescope, talon DDR memory calibration can fail. An indicator of this is mid_csp_cbf/fspcoorrsubarray obsState = FAULT. To adress this:\n",
    "* Manually power off of the PDUs to the talon boards\n",
    "* Rerun of the Telescope ON command."
   ]
  },
  {
   "cell_type": "code",
   "execution_count": null,
   "metadata": {},
   "outputs": [],
   "source": [
    "#TODO: Check states\n",
    "cbf_fspcorrsubarray = DeviceProxy(\"mid_csp_cbf/fspcorrsubarray/01_01\")\n",
    "assert cbf_fspcorrsubarray.obsstate == 2\n",
    "\n",
    "print(\"Running the TelescopeOn command\")\n",
    "tmc_central_node.TelescopeOn()\n",
    "\n",
    "while int(tmc_central_node.telescopeState) != 0:\n",
    "    print(\"Waiting for Telescope to come ON\")\n",
    "    sleep(5)\n",
    "    \n",
    "print(\"YAY Telescope is ON\")\n"
   ]
  },
  {
   "cell_type": "code",
   "execution_count": null,
   "metadata": {},
   "outputs": [],
   "source": [
    "print(\"Verifying the states:\")\n",
    "print(f\"  TMC Central Node State: {tmc_central_node.State()}\")\n",
    "print(f\"  CSP Control State: {csp_control.State()}\")\n",
    "print(f\"  CBF Controller State: {cbf_controller.State()}\")\n",
    "print(f\"  TMC Subarray State: {tmc_subarray.State()}\")"
   ]
  },
  {
   "cell_type": "markdown",
   "metadata": {},
   "source": [
    "### Assign Resources\n",
    "//Vis-receive pods comes up in the staging-sdp namespace \n",
    "Known issues:\n",
    "1. The mid_csp_cbf/sub_elt/subarray_01 device times out. To resolve:\n",
    "* Rerun the assign resources block\n",
    "\n",
    "2. eb and pb ids already exist (logs in ds-subarraynode-01-0 pod). Resolution:\n",
    "* Edit eb and pb ids in the assign_resources.json\n"
   ]
  },
  {
   "cell_type": "code",
   "execution_count": null,
   "metadata": {},
   "outputs": [],
   "source": [
    "print(sdp_subarray.state())\n",
    "\n",
    "sleep(3)\n",
    "\n",
    "print(\n",
    "    \"Running the AssignResources command: subarray obsstate should go to Idle and receptor IDs should be assigned\"\n",
    ")\n",
    "\n",
    "with open(ASSIGN_RESOURCES_FILE, encoding=\"utf-8\") as f:\n",
    "    assign_resources_json = json.load(f)\n",
    "    assign_resources_json[\"dish\"][\"receptor_ids\"] = RECEPTORS\n",
    "    assign_resources_json[\"sdp\"][\"resources\"][\"receptors\"] = RECEPTORS\n",
    "    assign_resources_json['sdp']['processing_blocks'][0]['parameters']['queue_connector_configuration']['exchanges'][0]['source']['servers'] = KAFKA_ENDPOINT\n",
    "    assign_resources_json['sdp']['processing_blocks'][0]['parameters']['extra_helm_values']['receiver']['options']['reception']['stats_receiver_kafka_config'] = f\"{KAFKA_ENDPOINT}:json_workflow_state\"    \n",
    "\n",
    "print(f\"\\nassign_resources_json file contents: \\n{assign_resources_json}\")\n",
    "\n",
    "tmc_subarray.AssignResources(json.dumps(assign_resources_json))\n",
    "\n",
    "sleep(2)\n",
    "print(f\"\\nCBF Subarray Observation State: {tmc_subarray.obsState}\")\n",
    "print(f\"CBF Subarray Receptors : {cbf_subarray.receptors}\")"
   ]
  },
  {
   "cell_type": "markdown",
   "metadata": {},
   "source": [
    "### Work around to slew the dishes to near the start of track to avoid tracking timing errors\n",
    "\n",
    "Could take +1min"
   ]
  },
  {
   "cell_type": "code",
   "execution_count": null,
   "metadata": {},
   "outputs": [],
   "source": [
    "import time\n",
    "SKA001_TANGO_HOST = f\"tango-databaseds.{SKA001_NAMESPACE}.svc.{CLUSTER_DOMAIN}:10000\"\n",
    "dish_manager_ska001 = DeviceProxy(f\"tango://{SKA001_TANGO_HOST}/mid-dish/dish-manager/ska001\")\n",
    "SKA036_TANGO_HOST = f\"tango-databaseds.{SKA036_NAMESPACE}.svc.{CLUSTER_DOMAIN}:10000\"\n",
    "dish_manager_ska036 = DeviceProxy(f\"tango://{SKA036_TANGO_HOST}/mid-dish/dish-manager/ska036\")\n",
    "\n",
    "dish_manager_ska001.slew([181.0,31.0])\n",
    "dish_manager_ska036.slew([181.0,31.0])\n",
    "\n",
    "while dish_manager_ska001.achievedpointing[1] != 181.0 or dish_manager_ska001.achievedpointing[2] != 31.0:\n",
    "  time.sleep(1)\n",
    "\n",
    "while dish_manager_ska036.achievedpointing[1] != 181.0 or dish_manager_ska036.achievedpointing[2] != 31.0:\n",
    "  time.sleep(1)\n",
    "\n",
    "print(\"Done slewing\")"
   ]
  },
  {
   "cell_type": "markdown",
   "metadata": {},
   "source": [
    "### Configure Scan"
   ]
  },
  {
   "cell_type": "code",
   "execution_count": null,
   "metadata": {},
   "outputs": [],
   "source": [
    "#TODO: Check here whether the states are as expected first\n",
    "print(\"Running the Configure command: subarray obsstate should go to Ready\")\n",
    "\n",
    "with open(CONFIGURE_SCAN_FILE, encoding=\"utf-8\") as f:\n",
    "    configure_scan_json = json.load(f)\n",
    "\n",
    "print(f\"\\nconfigure_scan_json file contents: \\n{configure_scan_json}\")\n",
    "\n",
    "print(json.dumps(configure_scan_json))\n",
    "\n",
    "tmc_subarray.Configure(json.dumps(configure_scan_json))\n",
    "    \n",
    "sleep(12)\n",
    "print(f\"SDP Subarray Observation State: {sdp_subarray_leaf_node_dp.sdpSubarrayObsState}\")\n",
    "print(f\"CSP Subarray Observation State: {csp_subarray_leaf_node_dp.cspSubarrayObsState}\")"
   ]
  },
  {
   "cell_type": "markdown",
   "metadata": {},
   "source": [
    "### Wait about 5 seconds"
   ]
  },
  {
   "cell_type": "code",
   "execution_count": null,
   "metadata": {},
   "outputs": [],
   "source": [
    "print(f\"\\nCBF Subarray Observation State: {cbf_subarray.obsState}\")\n",
    "print(f\"SDP Subarray Observation State: {sdp_subarray_leaf_node_dp.sdpSubarrayObsState}\")\n",
    "print(f\"CSP Subarray Observation State: {csp_subarray_leaf_node_dp.cspSubarrayObsState}\")\n",
    "assert (cbf_subarray.obsState == 4) and (sdp_subarray_leaf_node_dp.sdpSubarrayObsState == 4) and (csp_subarray_leaf_node_dp.cspSubarrayObsState == 4)"
   ]
  },
  {
   "cell_type": "markdown",
   "metadata": {},
   "source": [
    "### Scan"
   ]
  },
  {
   "cell_type": "markdown",
   "metadata": {},
   "source": [
    "DO NOT USE FOR NOW"
   ]
  },
  {
   "cell_type": "code",
   "execution_count": null,
   "metadata": {},
   "outputs": [],
   "source": [
    "# print(\"Running the Scan command: subarray obsstate should go to Scanning\")\n",
    "\n",
    "# with open(SCAN_FILE, encoding=\"utf-8\") as f:\n",
    "#     scan_json = f.read()\n",
    "\n",
    "# print(f\"\\nscan_json file contents: \\n{scan_json}\")\n",
    "\n",
    "# tmc_subarray.Scan(scan_json)\n",
    "\n",
    "# sleep(2)\n",
    "# print(f\"\\nCBF Subarray Observation State: {cbf_subarray.obsState}\")"
   ]
  },
  {
   "cell_type": "markdown",
   "metadata": {},
   "source": [
    "TMC LEAF NODE HACK TO GET AROUND TMC SUBARRAY STUCK IN CONFIGURING"
   ]
  },
  {
   "cell_type": "code",
   "execution_count": null,
   "metadata": {},
   "outputs": [],
   "source": [
    "with open(\"../../data/mid_telescope/tmc/scan.json\", \"r\", encoding=\"utf-8\") as json_data:\n",
    "    d = json.load(json_data)\n",
    "    sdp_scan = d[\"sdp\"]\n",
    "    print(sdp_scan)\n",
    "    sdp_subarray_leaf_node_dp.scan(json.dumps(sdp_scan))\n",
    "\n",
    "sleep(10)\n",
    "print(sdp_subarray_leaf_node_dp.sdpSubarrayObsState)\n",
    "\n",
    "with open(\"../../data/mid_telescope/tmc/scan.json\", \"r\", encoding=\"utf-8\") as json_data:\n",
    "    d = json.load(json_data)\n",
    "    csp_scan = d[\"csp\"]\n",
    "    print(csp_scan)\n",
    "    csp_subarray_leaf_node_dp.scan(json.dumps(csp_scan))\n",
    "\n",
    "sleep(2)\n",
    "print(csp_subarray_leaf_node_dp.cspSubarrayObsState)"
   ]
  },
  {
   "cell_type": "markdown",
   "metadata": {},
   "source": [
    "### END SCAN\n"
   ]
  },
  {
   "cell_type": "markdown",
   "metadata": {},
   "source": [
    "DO NOT USE FOR NOW SINCE TMC SUBARRAY IS STUCK IN CONFIGURING"
   ]
  },
  {
   "cell_type": "code",
   "execution_count": null,
   "metadata": {},
   "outputs": [],
   "source": [
    "# print(\"Running the End Scan command: subarray obsstate should go to Ready state\")\n",
    "\n",
    "# tmc_subarray.EndScan()\n",
    "\n",
    "# sleep(2)\n",
    "# print(f\"\\nTMC Subarray Observation State: {tmc_subarray.obsState}\")"
   ]
  },
  {
   "cell_type": "markdown",
   "metadata": {},
   "source": [
    "TMC LEAF NODE HACK TO GET AROUND TMC SUBARRAY STUCK IN CONFIGURING"
   ]
  },
  {
   "cell_type": "code",
   "execution_count": null,
   "metadata": {},
   "outputs": [],
   "source": [
    "print(\"Running the End Scan command: subarray obsstate should go to Ready state\")\n",
    "\n",
    "sdp_subarray_leaf_node_dp.EndScan()\n",
    "sleep(2)\n",
    "csp_subarray_leaf_node_dp.EndScan()\n",
    "print(f\"SDP Subarray Observation State: {sdp_subarray_leaf_node_dp.sdpSubarrayObsState}\")\n",
    "print(f\"CSP Subarray Observation State: {csp_subarray_leaf_node_dp.cspSubarrayObsState}\")"
   ]
  },
  {
   "cell_type": "markdown",
   "metadata": {},
   "source": [
    "### END"
   ]
  },
  {
   "cell_type": "markdown",
   "metadata": {},
   "source": [
    "DO NOT USE (TMC STUCK IN CONFIGURING)"
   ]
  },
  {
   "cell_type": "code",
   "execution_count": null,
   "metadata": {},
   "outputs": [],
   "source": [
    "# print(\"Running the End command: subarray obsstate should go to Idle state\")\n",
    "\n",
    "# tmc_subarray.End()\n",
    "\n",
    "# sleep(2)\n",
    "# print(f\"\\TMC Subarray Observation State: {cbf_subarray.obsState}\")"
   ]
  },
  {
   "cell_type": "markdown",
   "metadata": {},
   "source": [
    "TMC LEAF NODE HACK TO GET AROUND TMC SUBARRAY STUCK IN CONFIGURING"
   ]
  },
  {
   "cell_type": "code",
   "execution_count": null,
   "metadata": {},
   "outputs": [],
   "source": [
    "print(\"Running the End command: subarray obsstate should go to Idle state\")\n",
    "\n",
    "sdp_subarray_leaf_node_dp.End()\n",
    "sleep(2)\n",
    "csp_subarray_leaf_node_dp.End()\n",
    "\n",
    "sleep(2)\n",
    "print(f\"SDP Subarray Observation State: {sdp_subarray_leaf_node_dp.sdpSubarrayObsState}\")\n",
    "print(f\"CSP Subarray Observation State: {csp_subarray_leaf_node_dp.cspSubarrayObsState}\")"
   ]
  },
  {
   "cell_type": "markdown",
   "metadata": {},
   "source": [
    "### Release Resources"
   ]
  },
  {
   "cell_type": "markdown",
   "metadata": {},
   "source": [
    "DO NOT USE (TMC STUCK IN CONFIGURING)"
   ]
  },
  {
   "cell_type": "code",
   "execution_count": null,
   "metadata": {},
   "outputs": [],
   "source": [
    "# print(\n",
    "#     \"Running the Release All Resources command: subarray obsstate should go to Empty state and receptor IDs should be empty\"\n",
    "# )\n",
    "\n",
    "# tmc_subarray.ReleaseAllResources()\n",
    "\n",
    "# sleep(2)\n",
    "# print(f\"TMC Subarray Observation State: {tmc_subarray.obsState}\")"
   ]
  },
  {
   "cell_type": "markdown",
   "metadata": {},
   "source": [
    "TMC LEAF NODE HACK TO GET AROUND TMC SUBARRAY STUCK IN CONFIGURING"
   ]
  },
  {
   "cell_type": "code",
   "execution_count": null,
   "metadata": {},
   "outputs": [],
   "source": [
    "print(\n",
    "    \"Running the Release All Resources command: subarray obsstate should go to Empty state and receptor IDs should be empty\"\n",
    ")\n",
    "\n",
    "sdp_subarray_leaf_node_dp.ReleaseAllResources()\n",
    "sleep(2)\n",
    "csp_subarray_leaf_node_dp.ReleaseAllResources()\n",
    "\n",
    "sleep(2)\n",
    "print(f\"SDP Subarray Observation State: {sdp_subarray_leaf_node_dp.sdpSubarrayObsState}\")\n",
    "print(f\"CSP Subarray Observation State: {csp_subarray_leaf_node_dp.cspSubarrayObsState}\")"
   ]
  },
  {
   "cell_type": "markdown",
   "metadata": {},
   "source": [
    "### Telescope Off"
   ]
  },
  {
   "cell_type": "code",
   "execution_count": null,
   "metadata": {},
   "outputs": [],
   "source": [
    "print(\"Running the TelescopeOff command\")\n",
    "\n",
    "tmc_central_node.TelescopeOff()\n",
    "\n",
    "sleep(5)\n",
    "print(f\"TMC Central Node State: {tmc_central_node.State()}\")\n",
    "print(f\"CSP Control State: {csp_control.State()}\")\n",
    "print(f\"CBF Controller State: {cbf_controller.State()}\")"
   ]
  },
  {
   "cell_type": "markdown",
   "metadata": {},
   "source": [
    "## Configure Test Equipment"
   ]
  },
  {
   "cell_type": "markdown",
   "metadata": {},
   "source": [
    "#### Section for making test equipment setup changes as required for some of the mid - aiv jama tests"
   ]
  },
  {
   "cell_type": "code",
   "execution_count": null,
   "metadata": {},
   "outputs": [],
   "source": [
    "from ska_mid_jupyter_notebooks.test_equipment.rendering import get_test_equipment_monitor_plot\n",
    "from ska_mid_jupyter_notebooks.test_equipment.state import get_equipment_model\n",
    "from ska_mid_jupyter_notebooks.test_equipment.test_equipment import TangoTestEquipment\n",
    "from bokeh.io import output_notebook"
   ]
  },
  {
   "cell_type": "markdown",
   "metadata": {},
   "source": [
    "#### Print current status"
   ]
  },
  {
   "cell_type": "code",
   "execution_count": null,
   "metadata": {},
   "outputs": [],
   "source": [
    "test_equipment = TangoTestEquipment()\n",
    "print(f\"Test Equipment Configured: {test_equipment}\")\n",
    "test_equipment_state = get_equipment_model(test_equipment)\n",
    "test_equipment.devices"
   ]
  },
  {
   "cell_type": "markdown",
   "metadata": {},
   "source": [
    "### 0.2.2 Print Test Equipment Diagnostics"
   ]
  },
  {
   "cell_type": "markdown",
   "metadata": {},
   "source": [
    "sig gen gives some trouble here"
   ]
  },
  {
   "cell_type": "code",
   "execution_count": null,
   "metadata": {},
   "outputs": [],
   "source": [
    "test_equipment.print_diagnostics()"
   ]
  },
  {
   "cell_type": "markdown",
   "metadata": {},
   "source": [
    "### Create Test Equipment Plot"
   ]
  },
  {
   "cell_type": "code",
   "execution_count": null,
   "metadata": {},
   "outputs": [],
   "source": [
    "monitor_plot = get_test_equipment_monitor_plot()\n",
    "test_equipment_state.subscribe_to_test_equipment_state(monitor_plot.handle_device_state_change)\n",
    "output_notebook()\n",
    "monitor_plot.show()\n",
    "test_equipment_state.activate()"
   ]
  },
  {
   "cell_type": "markdown",
   "metadata": {},
   "source": [
    "Turn offline Test Equipment devices ONLINE"
   ]
  },
  {
   "cell_type": "code",
   "execution_count": null,
   "metadata": {},
   "outputs": [],
   "source": [
    "# set any offline devices to online\n",
    "test_equipment.turn_online()"
   ]
  },
  {
   "cell_type": "markdown",
   "metadata": {},
   "source": [
    "#### Display Test Equipment Device States "
   ]
  },
  {
   "cell_type": "code",
   "execution_count": null,
   "metadata": {},
   "outputs": [],
   "source": [
    "test_equipment_state.state[\"devices_states\"]"
   ]
  },
  {
   "cell_type": "markdown",
   "metadata": {},
   "source": [
    "Band 1 setup\n",
    "\n",
    "Set CW generator to approximately 480MHz (freq1) & -30dBm (power1), and wideband noise to approximately -132dBm/Hz at the SPF Band 1 Receiver inputs. ie. Band 1 output on and attenuation approx 10dB.  \n",
    "\n",
    "Expected Result:  \n",
    "*Test equipment configured*"
   ]
  },
  {
   "cell_type": "code",
   "execution_count": null,
   "metadata": {},
   "outputs": [],
   "source": [
    "# test equipment setup values - band 1; use 950.000e6 for frequency for band 2\n",
    "\n",
    "import time\n",
    "frequency_to_set = 480.000e6\n",
    "power_level = -30.0\n",
    "attenuation = 10\n",
    "band = 1\n",
    "\n",
    "signal_generator = test_equipment.signal_generator\n",
    "SSC = test_equipment.sky_simulator_controller\n",
    "prog_atten = test_equipment.programmable_attenuator\n",
    "\n",
    "# print current\n",
    "print(f\"Current signal generator frequency: {signal_generator.frequency}\")\n",
    "print(f\"Current signal generator power level: {signal_generator.power_dbm}\")\n",
    "print(f\"Current Sky Simulator Correlated Noise Source: {SSC.Correlated_Noise_Source}\")\n",
    "print(f\"Current Sky Simulator Uncorrelated Noise Source: {SSC.Uncorrelated_Noise_Sources}\")\n",
    "print(f\"Current Sky Simulator Band: {SSC.Band}\")\n",
    "print(f\"Current Programmable attenuator current attenuation : {prog_atten.channel_1}\")\n",
    "\n",
    "# setup siggen\n",
    "signal_generator.write_attribute(\"frequency\", frequency_to_set)\n",
    "signal_generator.write_attribute(\"power_dbm\", power_level)\n",
    "# setup SSC\n",
    "SSC.write_attribute(\"Correlated_Noise_Source\", True)\n",
    "SSC.write_attribute(\"Uncorrelated_Noise_Sources\", False)\n",
    "SSC.write_attribute(\"Band\", band)\n",
    "# setup Attenuator\n",
    "prog_atten.write_attribute(\"channel_1\", attenuation)\n",
    "\n",
    "time.sleep(3)\n",
    "# print updated values and confirm updates\n",
    "print(f\"Updated signal generator frequency                  : {signal_generator.frequency}\")\n",
    "print(f\"Updated signal generator power level                : {signal_generator.power_dbm}\")\n",
    "print(f\"Updated Sky Simulator Correlated Noise Source       : {SSC.Correlated_Noise_Source}\")\n",
    "print(f\"Updated Sky Simulator Uncorrelated Noise Source     : {SSC.Uncorrelated_Noise_Sources}\")\n",
    "print(f\"Updated Sky Simulator Band                          : {SSC.Band}\")\n",
    "print(f\"Updated Programmable attenuator current attenuation : {prog_atten.channel_1}\")\n",
    "\n",
    "assert signal_generator.frequency == frequency_to_set, print(\n",
    "    f\"Frequency required is {frequency_to_set} but got {signal_generator.frequency}\"\n",
    ")\n",
    "assert signal_generator.power_dbm == power_level, print(\n",
    "    f\"Power level required is {power_level} but got {signal_generator.power_dbm}\"\n",
    ")\n",
    "assert SSC.Correlated_Noise_Source, print(\n",
    "    f\"Correlated noise source required is {True} but got {SSC.Correlated_Noise_Source}\"\n",
    ")\n",
    "assert not SSC.Uncorrelated_Noise_Sources, print(\n",
    "    f\"Uncorrelated noise source required is {False} but got {SSC.Uncorrelated_Noise_Sources}\"\n",
    ")\n",
    "assert SSC.Band == band, print(f\"Band required is {band} but got {SSC.Band}\")\n",
    "assert prog_atten.channel_1 == attenuation, print(\n",
    "    f\"Attenuation required is {attenuation} but got {prog_atten.channel_1}\"\n",
    ")"
   ]
  },
  {
   "cell_type": "markdown",
   "metadata": {},
   "source": [
    "#### to print current setup only"
   ]
  },
  {
   "cell_type": "code",
   "execution_count": null,
   "metadata": {},
   "outputs": [],
   "source": [
    "# print current only\n",
    "signal_generator = test_equipment.signal_generator\n",
    "SSC = test_equipment.sky_simulator_controller\n",
    "prog_atten = test_equipment.programmable_attenuator\n",
    "\n",
    "# print current\n",
    "print(f\"Current signal generator frequency: {signal_generator.frequency}\")\n",
    "print(f\"Current signal generator power level: {signal_generator.power_dbm}\")\n",
    "print(f\"Current Sky Simulator Correlated Noise Source: {SSC.Correlated_Noise_Source}\")\n",
    "print(f\"Current Sky Simulator Uncorrelated Noise Source: {SSC.Uncorrelated_Noise_Sources}\")\n",
    "print(f\"Current Sky Simulator Band: {SSC.Band}\")\n",
    "print(f\"Current Programmable attenuator current attenuation : {prog_atten.channel_1}\")"
   ]
  },
  {
   "cell_type": "markdown",
   "metadata": {},
   "source": [
    "~10 seconds after recording has started, use Test Control Script to adjust CW generator signal level by -3dB. \n",
    "\n",
    "Expected Result:  \n",
    "*CW level changes by roughly -3dB in SDP Spectrometer Display*"
   ]
  },
  {
   "cell_type": "code",
   "execution_count": null,
   "metadata": {},
   "outputs": [],
   "source": [
    "time.sleep(\n",
    "    10\n",
    ")  # cell to be run in this notebook immediately after starting scn in rf-chain-and-channelisation_test_equipment notebook\n",
    "power_level_minus_3_db = power_level - 3.0\n",
    "signal_generator = test_equipment.signal_generator\n",
    "print(f\"Current signal generator power level: {signal_generator.power_dbm}\")\n",
    "signal_generator.write_attribute(\"power_dbm\", power_level_minus_3_db)\n",
    "time.sleep(3)\n",
    "print(f\"Updated signal generator power level: {signal_generator.power_dbm}\")"
   ]
  },
  {
   "cell_type": "markdown",
   "metadata": {},
   "source": [
    "After a further ~10 seconds, use Test Control Script to adjust CW generator signal level by -3dB.  \n",
    "\n",
    "Expected Result:  \n",
    "*CW level changes by roughly -3dB in SDP Spectrometer Display*"
   ]
  },
  {
   "cell_type": "code",
   "execution_count": null,
   "metadata": {},
   "outputs": [],
   "source": [
    "time.sleep(\n",
    "    10\n",
    ")  # cell to be run in this notebook immediately after starting scn in rf-chain-and-channelisation_test_equipment notebook\n",
    "power_level_minus_6_db = power_level - 6.0\n",
    "print(f\"Current signal generator power level: {signal_generator.power_dbm}\")\n",
    "signal_generator.write_attribute(\"power_dbm\", power_level_minus_6_db)\n",
    "time.sleep(3)\n",
    "print(f\"Updated signal generator power level: {signal_generator.power_dbm}\")"
   ]
  },
  {
   "cell_type": "markdown",
   "metadata": {},
   "source": [
    "After a further ~10seconds, use Test Control Script to increase the CW generator signal frequency by 10MHz.  \n",
    "\n",
    "Expected Result:  \n",
    "*CW frequency changes by 10MHz in SDP Spectrometer Display*"
   ]
  },
  {
   "cell_type": "code",
   "execution_count": null,
   "metadata": {},
   "outputs": [],
   "source": [
    "time.sleep(10)\n",
    "frequency_plus_10MHz = frequency_to_set + 10.0e6\n",
    "print(f\"Current signal generator frequency: {signal_generator.frequency}\")\n",
    "signal_generator.write_attribute(\"frequency\", frequency_plus_10MHz)\n",
    "time.sleep(3)\n",
    "print(f\"Updated signal generator frequency: {signal_generator.frequency}\")"
   ]
  }
 ],
 "metadata": {
  "kernelspec": {
   "display_name": "Python 3",
   "language": "python",
   "name": "python3"
  },
  "language_info": {
   "codemirror_mode": {
    "name": "ipython",
    "version": 3
   },
   "file_extension": ".py",
   "mimetype": "text/x-python",
   "name": "python",
   "nbconvert_exporter": "python",
   "pygments_lexer": "ipython3",
   "version": "3.10.12"
  }
 },
 "nbformat": 4,
 "nbformat_minor": 2
}
