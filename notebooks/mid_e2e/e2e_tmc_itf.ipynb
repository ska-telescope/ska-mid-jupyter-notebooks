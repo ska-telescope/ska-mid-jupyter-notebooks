{
 "cells": [
  {
   "cell_type": "markdown",
   "metadata": {},
   "source": [
    "# Notebook for End to End testing in the MID ITF\n",
    "\n",
    "- Uses digitizers for the 2 inputs to the correlator\n",
    "- Uses 4 FSPs (800 MHz)\n",
    "- Receives and plots the visibilities to SDP"
   ]
  },
  {
   "cell_type": "markdown",
   "metadata": {},
   "source": [
    "### Pipeline URLs\n",
    "These pipeline jobs were used to deploy the [Telescope Control System in the Mid ITF](https://confluence.skatelescope.org/display/SE/Stakeholder+diagram+of+Mid+ITF+Control+Interface+and+deployed+software):\n",
    "##### [Redeploy SUT](https://gitlab.com/ska-telescope/ska-mid-itf/-/jobs/7634476752)\n",
    "##### [Redeploy SKA001](https://gitlab.com/ska-telescope/ska-mid-itf/-/jobs/7632605231)\n",
    "##### [Redploy SKA036](https://gitlab.com/ska-telescope/ska-mid-itf/-/jobs/7632605253)\n"
   ]
  },
  {
   "cell_type": "code",
   "execution_count": null,
   "metadata": {},
   "outputs": [],
   "source": [
    "import os\n",
    "from time import sleep, localtime, strftime, time\n",
    "import datetime\n",
    "from ska_mid_jupyter_notebooks.helpers.configuration import get_band_frequency_limits, get_dish_namespace\n",
    "\n",
    "print(\"Setting up parameters\\n\")\n",
    "\n",
    "# Set manually\n",
    "CLUSTER_DOMAIN = \"miditf.internal.skao.int\"\n",
    "SUT_NAMESPACE = \"ci-ska-mid-itf-at-2249-e2e-tmc-bdd-test\"\n",
    "RECEPTORS = [\"SKA001\", \"SKA036\"]\n",
    "SCAN_BAND = 1 # Select band\n",
    "SCAN_DURATION = 10.0 # Determines how long the Scan cell will be kept active\n",
    "CBF_SIMULATION_MODE = 0\n",
    "\n",
    "# Get dish namespaces\n",
    "SKA001_NAMESPACE = get_dish_namespace(SUT_NAMESPACE, \"SKA001\")\n",
    "SKA036_NAMESPACE = get_dish_namespace(SUT_NAMESPACE, \"SKA036\")\n",
    "\n",
    "# Get SDP namespace\n",
    "SDP_NAMESPACE = f\"{SUT_NAMESPACE}-sdp\"\n",
    "\n",
    "TANGO_HOST = f\"tango-databaseds.{SUT_NAMESPACE}.svc.{CLUSTER_DOMAIN}:10000\"\n",
    "os.environ[\"TANGO_HOST\"] = TANGO_HOST\n",
    "\n",
    "SKA001_TANGO_HOST = f\"tango-databaseds.{SKA001_NAMESPACE}.svc.{CLUSTER_DOMAIN}:10000\"\n",
    "SKA036_TANGO_HOST = f\"tango-databaseds.{SKA036_NAMESPACE}.svc.{CLUSTER_DOMAIN}:10000\"\n",
    "\n",
    "sut_taranta_devices_url = (\n",
    "    f\"https://k8s.{CLUSTER_DOMAIN}/{SUT_NAMESPACE}/taranta/devices\"\n",
    ")\n",
    "\n",
    "# Config files set up\n",
    "DATA_DIR = \"../../data\"\n",
    "TMC_CONFIGS = f\"{DATA_DIR}/mid_telescope/tmc\"\n",
    "SCAN_FILE = f\"{TMC_CONFIGS}/scan.json\"\n",
    "RELEASE_RESOURCES_FILE = f\"{DATA_DIR}/release_resources.json\"\n",
    "\n",
    "ASSIGN_RESOURCES_FILE = f\"{TMC_CONFIGS}/assign_resources.json\"\n",
    "CONFIGURE_SCAN_FILE = f\"{TMC_CONFIGS}/configure_scan.json\"\n",
    "\n",
    "CBF_CONFIGS = f\"{DATA_DIR}/mid_telescope/cbf\"\n",
    "DISH_CONFIG_FILE = f\"{CBF_CONFIGS}/sys_params/load_dish_config.json\"\n",
    "\n",
    "KAFKA_PORT = 9092\n",
    "KAFKA_SERVICE_NAME = \"ska-sdp-kafka\"\n",
    "KAFKA_ENDPOINT = (\n",
    "    f\"{KAFKA_SERVICE_NAME}.{SUT_NAMESPACE}.svc.{CLUSTER_DOMAIN}:{KAFKA_PORT}\"\n",
    ")\n",
    "\n",
    "print(\"Links for Taranta and QA Display\")\n",
    "\n",
    "print(\"System Under Test\")\n",
    "print(f\"https://k8s.{CLUSTER_DOMAIN}/{SUT_NAMESPACE}/taranta/devices\")\n",
    "\n",
    "print(\"QA Display\")\n",
    "print(f\"https://k8s.{CLUSTER_DOMAIN}/{SUT_NAMESPACE}/signal/display/\")\n",
    "print(\"\\n\")\n",
    "print(\"Dish LMC links\")\n",
    "print(f\"https://k8s.{CLUSTER_DOMAIN}/{SKA001_NAMESPACE}/taranta/devices\")\n",
    "print(f\"https://k8s.{CLUSTER_DOMAIN}/{SKA036_NAMESPACE}/taranta/devices\")"
   ]
  },
  {
   "cell_type": "markdown",
   "metadata": {},
   "source": [
    "### Set Up and Configure Device Proxies "
   ]
  },
  {
   "cell_type": "code",
   "execution_count": null,
   "metadata": {},
   "outputs": [],
   "source": [
    "import json\n",
    "from tango import DeviceProxy, EventType, DevState\n",
    "from ska_control_model import ObsState\n",
    "from ska_mid_jupyter_notebooks.dish.dish import DishMode\n",
    "from notebook_tools.wait_for_tango import wait_for_event\n",
    "\n",
    "t_start = datetime.datetime.now()\n",
    "\n",
    "print(\"Setting up the device proxies\")\n",
    "\n",
    "# TMC proxies\n",
    "tmc_central_node = DeviceProxy(\"ska_mid/tm_central/central_node\")\n",
    "tmc_csp_master = DeviceProxy(\"ska_mid/tm_leaf_node/csp_master\")\n",
    "tmc_csp_subarray = DeviceProxy(\"ska_mid/tm_leaf_node/csp_subarray01\")\n",
    "tmc_subarray = DeviceProxy(\"ska_mid/tm_subarray_node/1\")\n",
    "\n",
    "# CSP.LMC proxies\n",
    "csp_control = DeviceProxy(\"mid-csp/control/0\")\n",
    "csp_subarray = DeviceProxy(\"mid-csp/subarray/01\")\n",
    "\n",
    "# CBF proxies\n",
    "cbf_controller = DeviceProxy(\"mid_csp_cbf/sub_elt/controller\")\n",
    "cbf_subarray = DeviceProxy(\"mid_csp_cbf/sub_elt/subarray_01\")\n",
    "cbf_fspcorrsubarray = DeviceProxy(\"mid_csp_cbf/fspcorrsubarray/01_01\")\n",
    "\n",
    "# Dish Leaf proxies\n",
    "dish_leaf_node_ska001 = DeviceProxy(\"ska_mid/tm_leaf_node/d0001\")\n",
    "dish_leaf_node_ska036 = DeviceProxy(\"ska_mid/tm_leaf_node/d0036\")\n",
    "\n",
    "# SDP proxies\n",
    "sdp_subarray = DeviceProxy(\"mid-sdp/subarray/01\")\n",
    "\n",
    "# Set devices to adminMode = ONLINE\n",
    "csp_control.adminMode = 0\n",
    "csp_subarray.adminMode = 0\n",
    "\n",
    "# Leaf node proxies\n",
    "csp_subarray_leaf_node = DeviceProxy(\"ska_mid/tm_leaf_node/csp_subarray01\")\n",
    "sdp_subarray_leaf_node = DeviceProxy(\"ska_mid/tm_leaf_node/sdp_subarray01\")\n",
    "csp_master_leaf_node = DeviceProxy(\"ska_mid/tm_leaf_node/csp_master\")\n",
    "\n",
    "# Dish manager proxies\n",
    "dish_manager_ska001 = DeviceProxy(f\"{SKA001_TANGO_HOST}/mid-dish/dish-manager/ska001\")\n",
    "dish_manager_ska036 = DeviceProxy(f\"{SKA036_TANGO_HOST}/mid-dish/dish-manager/ska036\")\n",
    "\n",
    "sleep(2)\n",
    "print(\"\\nChecking admin mode after setting to ONLINE (0):\")\n",
    "print(\"  CSP Control: \", csp_control.adminMode)\n",
    "print(\"  CSP Subarray: \", csp_subarray.adminMode)\n",
    "print(\"  CBF Controller: \", cbf_controller.adminMode)\n",
    "print(\"  CBF Subarray: \", cbf_subarray.adminMode)\n",
    "\n",
    "# Set CBF Simulation mode to false and CBF and CSP subarray command timeouts to 99s\n",
    "csp_control.cbfSimulationMode = CBF_SIMULATION_MODE\n",
    "csp_control.commandTimeout = 99\n",
    "csp_subarray.commandTimeout = 99\n",
    "\n",
    "sleep(2)\n",
    "print(\"\\nChecking CBF Simulation Mode and CBF Timeout:\")\n",
    "print(f\"  CBF Simulation Mode: {bool(csp_control.cbfSimulationMode)}\")\n",
    "print(f\"  CBF Timeout: {csp_control.commandTimeout} sec\")\n",
    "\n",
    "t_end = datetime.datetime.now()\n",
    "print(f\"Start time: {t_start.strftime('%H:%M:%S')}\\nEnd time: {t_end.strftime('%H:%M:%S')}\")\n",
    "\n",
    "print(\"\\nOK!\")"
   ]
  },
  {
   "cell_type": "markdown",
   "metadata": {},
   "source": [
    "### Export System Configuration"
   ]
  },
  {
   "cell_type": "code",
   "execution_count": null,
   "metadata": {},
   "outputs": [],
   "source": [
    "import sys\n",
    "\n",
    "from ska_mid_jupyter_notebooks.helpers.path import project_root\n",
    "\n",
    "sys.path.append(\"../../src\")\n",
    "import pathlib\n",
    "from typing import List\n",
    "\n",
    "from ska_mid_jupyter_notebooks.cluster.cluster import Environment, TangoDeployment\n",
    "from ska_mid_jupyter_notebooks.dish.dish import TangoDishDeployment\n",
    "from ska_mid_jupyter_notebooks.sut.sut import TangoSUTDeployment, disable_qa\n",
    "\n",
    "test_equipment = TangoTestEquipment()\n",
    "dish_deployments: List[TangoDishDeployment] = []\n",
    "dishlmc_enabled = True\n",
    "dish_ids = [\"001\", \"036\"]\n",
    "branch_name = sut_taranta_devices_url\n",
    "executon_environment = Environment.Staging\n",
    "sut_namespace_override = \"\"\n",
    "subarray_id = 1\n",
    "sut = TangoSUTDeployment(\n",
    "    branch_name,\n",
    "    executon_environment,\n",
    "    namespace_override=sut_namespace_override,\n",
    "    subarray_index=subarray_id,\n",
    ")\n",
    "dish_namespace_overrides = [\"\", \"\"]\n",
    "if dishlmc_enabled:\n",
    "    for i, d in enumerate(dish_ids):\n",
    "        dish = TangoDishDeployment(\n",
    "            f\"ska{d}\",\n",
    "            branch_name=branch_name,\n",
    "            environment=executon_environment,\n",
    "            namespace_override=dish_namespace_overrides[i],\n",
    "        )\n",
    "        print(f\"Dish {d} configured: {dish}\")\n",
    "        dish_deployments.append(dish)\n",
    "deployment: TangoDeployment\n",
    "timestr = strftime(\"%Y%m%d-%H%M\")\n",
    "notebook_output_dir = pathlib.Path(\n",
    "    project_root(),\n",
    "    f\"notebook-execution-data/configure_scan_for_commissioning/execution-{timestr}\",\n",
    ")\n",
    "os.makedirs(notebook_output_dir, exist_ok=True)\n",
    "for deployment in [sut, test_equipment, *dish_deployments]:\n",
    "    deployment.export_chart_configuration(output_dir=notebook_output_dir)"
   ]
  },
  {
   "cell_type": "markdown",
   "metadata": {},
   "source": [
    "### Load the Dish Vcc Config / Init Sys Params\n",
    "#### [TMC Monitoring Taranta Dashboard](https://k8s.miditf.internal.skao.int/staging/taranta/dashboard?id=65dc5298b20f1600120e7a85&mode=run)\n",
    "If `Dish VCC Config Set?` on the CentralNode is not `true`, run this cell."
   ]
  },
  {
   "cell_type": "code",
   "execution_count": null,
   "metadata": {},
   "outputs": [],
   "source": [
    "t_start = datetime.datetime.now()\n",
    "with open(DISH_CONFIG_FILE, encoding=\"utf-8\") as f:\n",
    "    dish_config_json = json.load(f)\n",
    "\n",
    "dish_config_json[\"tm_data_sources\"][\n",
    "    0\n",
    "] = \"car://gitlab.com/ska-telescope/ska-telmodel-data?0.1.0-rc-mid-itf#tmdata\"\n",
    "dish_config_json[\"tm_data_filepath\"] = (\n",
    "    \"instrument/ska1_mid_itf/ska-mid-cbf-system-parameters.json\"\n",
    ")\n",
    "\n",
    "print(f\"dish_config_json file contents: \\n{dish_config_json}\")\n",
    "tmc_central_node.LoadDishCfg(json.dumps(dish_config_json))\n",
    "wait_for_event(\n",
    "    tmc_central_node,\n",
    "    \"isDishVccConfigSet\",\n",
    "    True,\n",
    ")\n",
    "\n",
    "t_end = datetime.datetime.now()\n",
    "print(f\"Start time: {t_start.strftime('%H:%M:%S')}\\nEnd time: {t_end.strftime('%H:%M:%S')}\")\n",
    "\n",
    "print(\"Dish VCC config has been set\")\n"
   ]
  },
  {
   "cell_type": "markdown",
   "metadata": {},
   "source": [
    "#### Checking Config\n",
    "If all `k` values are set to 1 (ITF specific test scenario), we are good to go - run this cell to check."
   ]
  },
  {
   "cell_type": "code",
   "execution_count": null,
   "metadata": {},
   "outputs": [],
   "source": [
    "print(\n",
    "    f\"TMC CSP Master's Dish Vcc Config attribute value: \\n{tmc_csp_master.dishVccConfig}\"\n",
    ")\n",
    "print(\n",
    "    f\"\\nTMC CSP Master's Source Dish Vcc Config attribute value: \\n{tmc_csp_master.sourceDishVccConfig}\"\n",
    ")"
   ]
  },
  {
   "cell_type": "markdown",
   "metadata": {},
   "source": [
    "~~#### Side-step the hackery~~\n",
    "~~This step was introduced after the Dark Night rose again. Pipelines were broken and we accidentally did not keep our `pyproject.toml` file in lock-step with the Engineering Tools repo. Thanks @AJ!~~"
   ]
  },
  {
   "cell_type": "code",
   "execution_count": 6,
   "metadata": {},
   "outputs": [],
   "source": [
    "# ec_deployer = DeviceProxy(\"mid_csp_cbf/ec/deployer\")"
   ]
  },
  {
   "cell_type": "code",
   "execution_count": 7,
   "metadata": {},
   "outputs": [],
   "source": [
    "# # Run only if suspecting that something went seriously sideways with the deployment\n",
    "# ec_deployer.targetTalons = [1, 2, 3, 4]\n",
    "# ec_deployer.generate_config_jsons()\n",
    "# ec_deployer.set_timeout_millis(600000)\n",
    "# ec_deployer.download_artifacts()\n",
    "# ec_deployer.configure_db()\n",
    "# ec_deployer.set_timeout_millis(3000)"
   ]
  },
  {
   "cell_type": "markdown",
   "metadata": {},
   "source": []
  },
  {
   "cell_type": "markdown",
   "metadata": {},
   "source": [
    "### Turn the Telescope On\n",
    "Known issues:\n",
    "When turning on Telescope, talon DDR memory calibration can fail. An indicator of this is `mid_csp_cbf/fspcoorrsubarray` attribute `obsState` being equal to `FAULT`. To adress this:\n",
    "* Manually power cycle the PDUs to the talon boards - flip outlets 12,13,17,18 on PDU.\n",
    "* Run `SetStandbyLPMode()` on both `DishLeafnode`s (see Contingencies)\n",
    "* Rerun of the Telescope ON command."
   ]
  },
  {
   "cell_type": "code",
   "execution_count": null,
   "metadata": {},
   "outputs": [],
   "source": [
    "t_start = datetime.datetime.now()\n",
    "assert cbf_fspcorrsubarray.obsstate == 2\n",
    "\n",
    "print(\"Running the TelescopeOn command\")\n",
    "\n",
    "tmc_central_node.TelescopeOn()\n",
    "wait_for_event(tmc_central_node, \"telescopeState\", DevState.ON)\n",
    "\n",
    "t_end = datetime.datetime.now()\n",
    "print(f\"Start time: {t_start.strftime('%H:%M:%S')}\\nEnd time: {t_end.strftime('%H:%M:%S')}\")\n",
    "\n",
    "print(\"YAY Telescope is ON\")"
   ]
  },
  {
   "cell_type": "code",
   "execution_count": null,
   "metadata": {},
   "outputs": [],
   "source": [
    "print(\"Verifying the states:\")\n",
    "print(\"  TMC Central Node State: \", tmc_central_node.State())\n",
    "print(\"  CSP Control State: \", csp_control.State())\n",
    "print(\"  CBF Controller State: \", cbf_controller.State())\n",
    "print(\"  TMC Subarray State: \", tmc_subarray.State())"
   ]
  },
  {
   "cell_type": "markdown",
   "metadata": {},
   "source": [
    "### Assign Resources\n",
    "Check that that the `proc-pb-...-XXXXXX-YYYYYY-vis-receive-KK-J` pods comes up in the staging-sdp namespace once this step completes successfully.\n",
    "\n",
    "> **Known issue**: Sometimes the call to `sdp_subarray.state()` fails for some reason. Just rerun this command."
   ]
  },
  {
   "cell_type": "code",
   "execution_count": null,
   "metadata": {},
   "outputs": [],
   "source": [
    "t_start = datetime.datetime.now()\n",
    "\n",
    "f_limits = get_band_frequency_limits(SCAN_BAND)\n",
    "\n",
    "os.environ[\"TZ\"] = \"Africa/Johannesburg\"\n",
    "time_now = localtime()\n",
    "date = strftime(\"%Y%m%d\", time_now)\n",
    "time_now = strftime(\"%H%M%S\", time_now)\n",
    "eb_id = f\"eb-test-{date}-{time_now}\"\n",
    "pb_id = f\"pb-test-{date}-{time_now}\"\n",
    "\n",
    "print(f\"SDP Subarray state: {sdp_subarray.state()}\")\n",
    "\n",
    "print(\n",
    "    \"Running the AssignResources command: subarray obsstate should go to Idle and receptor IDs should be assigned\"\n",
    ")\n",
    "\n",
    "with open(ASSIGN_RESOURCES_FILE, encoding=\"utf-8\") as f:\n",
    "    assign_resources_json = json.load(f)\n",
    "    assign_resources_json[\"dish\"][\"receptor_ids\"] = RECEPTORS\n",
    "    assign_resources_json[\"sdp\"][\"resources\"][\"receptors\"] = RECEPTORS\n",
    "    assign_resources_json[\"sdp\"][\"processing_blocks\"][0][\"parameters\"][\n",
    "        \"queue_connector_configuration\"\n",
    "    ][\"exchanges\"][0][\"source\"][\"servers\"] = KAFKA_ENDPOINT\n",
    "    assign_resources_json[\"sdp\"][\"processing_blocks\"][0][\"parameters\"][\n",
    "        \"extra_helm_values\"\n",
    "    ][\"receiver\"][\"options\"][\"reception\"][\n",
    "        \"stats_receiver_kafka_config\"\n",
    "    ] = f\"{KAFKA_ENDPOINT}:json_workflow_state\"\n",
    "    assign_resources_json[\"sdp\"][\"execution_block\"][\"eb_id\"] = eb_id\n",
    "    assign_resources_json[\"sdp\"][\"processing_blocks\"][0][\"pb_id\"] = pb_id\n",
    "    assign_resources_json[\"sdp\"][\"execution_block\"][\"channels\"][0][\"spectral_windows\"][0][\"freq_min\"] = f_limits[\"freq_min\"]\n",
    "    assign_resources_json[\"sdp\"][\"execution_block\"][\"channels\"][0][\"spectral_windows\"][0][\"freq_max\"] = f_limits[\"freq_max\"]\n",
    "\n",
    "print(f\"PB ID: {pb_id}, EB ID: {eb_id}\")\n",
    "print(f\"\\nassign_resources_json file contents: \\n{assign_resources_json}\")\n",
    "\n",
    "tmc_subarray.AssignResources(json.dumps(assign_resources_json))\n",
    "\n",
    "wait_for_event(cbf_subarray, \"obsState\", ObsState.IDLE)\n",
    "wait_for_event(sdp_subarray_leaf_node, \"sdpSubarrayObsState\", ObsState.IDLE)\n",
    "wait_for_event(csp_subarray_leaf_node, \"cspSubarrayObsState\", ObsState.IDLE)\n",
    "wait_for_event(tmc_subarray, \"obsState\", ObsState.IDLE)\n",
    "\n",
    "t_end = datetime.datetime.now()\n",
    "print(f\"Start time: {t_start.strftime('%H:%M:%S')}\\nEnd time: {t_end.strftime('%H:%M:%S')}\")\n",
    "\n",
    "print(\"Ready to configure scan\")"
   ]
  },
  {
   "cell_type": "markdown",
   "metadata": {},
   "source": [
    "### Check Vis-Receive pod status: Temporary step, to be removed"
   ]
  },
  {
   "cell_type": "code",
   "execution_count": null,
   "metadata": {},
   "outputs": [],
   "source": [
    "from ska_mid_jupyter_notebooks.cluster.cluster import get_pod_info\n",
    "\n",
    "pod_running = False\n",
    "wait_period = 10\n",
    "t1 = time()\n",
    "while ((time() - t1) < wait_period):\n",
    "    pod_info = get_pod_info(SDP_NAMESPACE, \"vis-receive\", \"status\")\n",
    "    if pod_info:\n",
    "        print(pod_info)\n",
    "        if any([value == \"Running\" for value in pod_info.values()]):\n",
    "            print(\"vis-receive pod running\")\n",
    "            pod_running = True\n",
    "            break\n",
    "    sleep(1)\n",
    "\n",
    "if not pod_running:\n",
    "    raise Exception(\"Vis-receive pod not yet running\")"
   ]
  },
  {
   "cell_type": "markdown",
   "metadata": {},
   "source": [
    "### Optional: Check obstates IDLE"
   ]
  },
  {
   "cell_type": "code",
   "execution_count": null,
   "metadata": {},
   "outputs": [],
   "source": [
    "print(f\"Long running command result: {tmc_subarray.longRunningCommandResult}\")\n",
    "print(f\"CBF Subarray Receptors : {cbf_subarray.receptors}\")\n",
    "\n",
    "assert (\n",
    "    (tmc_subarray.obsState == 2)\n",
    "    and (sdp_subarray_leaf_node.sdpSubarrayObsState == 2)\n",
    "    and (csp_subarray_leaf_node.cspSubarrayObsState == 2)\n",
    "    and (cbf_subarray.obsState == 2)\n",
    "), f\"TMC Subarray Observation State: {tmc_subarray.obsState} \\n \\\n",
    "    CBF Subarray Observation State: {cbf_subarray.obsState} \\n \\\n",
    "    SDP Subarray Leaf Node Observation State: {sdp_subarray_leaf_node.sdpSubarrayObsState} \\n \\\n",
    "    CSP Subarray Leaf Node Observation State: {csp_subarray_leaf_node.cspSubarrayObsState}\"\n",
    "\n",
    "print(\"All obsstate values IDLE!\")"
   ]
  },
  {
   "cell_type": "markdown",
   "metadata": {},
   "source": [
    "### Contingencies\n",
    "These are methods that may be used to get the Telescope or subsystems out of unwanted states during a test run."
   ]
  },
  {
   "cell_type": "code",
   "execution_count": 12,
   "metadata": {},
   "outputs": [],
   "source": [
    "# # Take csp subarray leaf node back to EMPTY\n",
    "# csp_subarray_leaf_node.Restart()\n",
    "\n",
    "# # Bringing sdp subarray leaf node from RESOURCING to EMPTY\n",
    "# sdp_subarray_leaf_node.ReleaseAllResources()\n",
    "\n",
    "# # Bring dishes back to StandbyLPMode\n",
    "# dish_leaf_node_ska001.SetStandbyLPMode()\n",
    "# dish_leaf_node_ska036.SetStandbyLPMode()\n",
    "\n",
    "# # Subarray node stuck in RESOURCING, CONFIGURING\n",
    "# tmc_subarray.Abort()\n",
    "# tmc_subarray.Restart()\n",
    "\n",
    "# # CSP and SDP subarray leaf nodes in IDLE, but need to get back to EMPTY\n",
    "# csp_subarray_leaf_node.ReleaseAllResources()\n",
    "# sdp_subarray_leaf_node.ReleaseAllResources()\n",
    "\n",
    "# # ON failed on CSP controller\n",
    "# # # csp_control.On([])\n",
    "# # csp_master_leaf_node_dp.On()\n",
    "\n",
    "# # Configure scan contingencies\n",
    "# # SDP Subaarray leaf node stuck in Configuring\n",
    "# sdp_subarray_leaf_node.End()\n",
    "# dish_leaf_node_ska001.TrackStop()\n",
    "# dish_leaf_node_ska036.TrackStop()\n",
    "\n",
    "# # Configure scan on CSP subarray leaf node directly\n",
    "# temp_configure_scan_json_path = f\"\"\n",
    "# with open(temp_configure_scan_json_path, \"r\", encoding=\"utf-8\") as json_data:\n",
    "#     d = json.load(json_data)\n",
    "#     csp_subarray_leaf_node.Configure(json.dumps(d))\n",
    "\n",
    "# # Other\n",
    "# tmc_central_node.TelescopeOff()\n",
    "# tmc_subarray.Restart()\n",
    "\n",
    "# Dishes in OPERATE, get them back to STANDBY_FP\n",
    "# dish_manager_ska001.AbortCommands()\n",
    "# dish_manager_ska001.setstandbylpmode()\n",
    "# dish_manager_ska036.AbortCommands()\n",
    "# dish_manager_ska036.setstandbylpmode()\n",
    "\n",
    "# # IF DishManager goes into StandbyFP at any stage after Configure(), run SetOperateMode() on the DishLeafNode:\n",
    "# dish_leaf_node_ska001.SetOperateMode()\n",
    "# dish_leaf_node_ska036.SetOperateMode()\n",
    "\n",
    "# # Manual Dish tracking commands (not necessarily working!) - SKB-513:\n",
    "# dish_leaf_node_ska001.Track(\"\")\n",
    "# dish_leaf_node_ska036.Track(\"\")\n",
    "\n",
    "# # If SUT is in an intermediate state, first run:\n",
    "# tmc_subarray.Abort()\n",
    "# tmc_subarray.Restart()\n",
    "\n",
    "# # and then manually get dishes to StandbyFP\n",
    "# dish_leaf_node_ska001.SetStandbyFPMode()\n",
    "# dish_leaf_node_ska036.SetStandbyFPMode()"
   ]
  },
  {
   "cell_type": "markdown",
   "metadata": {},
   "source": [
    "### Work around to slew the dishes to near the start of track to avoid tracking timing errors\n",
    "\n",
    "Could take +1min\n",
    "\n",
    "#### UPDATE post TMC Workshop\n",
    "No longer necessary, thanks to the Dish Simulator having been updated (and latest behaviour also followed by TMC DishLeafNodes)."
   ]
  },
  {
   "cell_type": "code",
   "execution_count": 13,
   "metadata": {},
   "outputs": [],
   "source": [
    "# SKA001_TANGO_HOST = f\"tango-databaseds.{SKA001_NAMESPACE}.svc.{CLUSTER_DOMAIN}:10000\"\n",
    "# dish_manager_ska001 = DeviceProxy(f\"tango://{SKA001_TANGO_HOST}/mid-dish/dish-manager/ska001\")\n",
    "# SKA036_TANGO_HOST = f\"tango-databaseds.{SKA036_NAMESPACE}.svc.{CLUSTER_DOMAIN}:10000\"\n",
    "# dish_manager_ska036 = DeviceProxy(f\"tango://{SKA036_TANGO_HOST}/mid-dish/dish-manager/ska036\")\n",
    "\n",
    "# dish_manager_ska001.slew([181.0, 31.0])\n",
    "# dish_manager_ska036.slew([181.0, 31.0])\n",
    "\n",
    "# while (\n",
    "#     dish_manager_ska001.achievedpointing[1] != 181.0\n",
    "#     or dish_manager_ska001.achievedpointing[2] != 31.0\n",
    "# ):\n",
    "#     sleep(1)\n",
    "\n",
    "# while (\n",
    "#     dish_manager_ska036.achievedpointing[1] != 181.0\n",
    "#     or dish_manager_ska036.achievedpointing[2] != 31.0\n",
    "# ):\n",
    "#     sleep(1)\n",
    "\n",
    "# print(\"Done slewing\")"
   ]
  },
  {
   "cell_type": "markdown",
   "metadata": {},
   "source": [
    "### Configure Scan\n",
    "Before running this cell, check:\n",
    "1. Is the `PersistentVolumeClaim` present in the `-sdp` namespace?\n",
    "2. Is the `vis-receive` pod running in the `-sdp` namespace (dependent on among others, the above prerequisite).\n",
    "\n",
    "\n",
    "> **Subarray stuck in CONFIGURING**: \n",
    "> After running this cell, the SubarrayNode may remain stuck in `CONFIGURING` obsstate. The rest of the Notebook works around this issue by invoking commands directly on the SDP Subarray Leafnode. The issue is due to the CSP <> CBF interface not fully integrated using Long Running Commands yet, which is WIP at the moment.\n"
   ]
  },
  {
   "cell_type": "code",
   "execution_count": null,
   "metadata": {},
   "outputs": [],
   "source": [
    "t_start = datetime.datetime.now()\n",
    "\n",
    "print(\"Running the Configure command: subarray obsstate should go to Ready\")\n",
    "\n",
    "with open(CONFIGURE_SCAN_FILE, encoding=\"utf-8\") as f:\n",
    "    configure_scan_json = json.load(f)\n",
    "    configure_scan_json[\"dish\"][\"receiver_band\"] = str(SCAN_BAND)\n",
    "    configure_scan_json[\"csp\"][\"common\"][\"frequency_band\"] = str(SCAN_BAND)\n",
    "\n",
    "print(f\"\\nconfigure_scan_json file contents: \\n{configure_scan_json}\")\n",
    "\n",
    "print(json.dumps(configure_scan_json))\n",
    "\n",
    "tmc_subarray.Configure(json.dumps(configure_scan_json))\n",
    "\n",
    "\n",
    "wait_for_event(csp_subarray_leaf_node, \"cspSubarrayObsState\", ObsState.READY)\n",
    "wait_for_event(sdp_subarray_leaf_node, \"sdpSubarrayObsState\", ObsState.READY)\n",
    "wait_for_event(dish_leaf_node_ska001, \"dishMode\", DishMode.OPERATE)\n",
    "wait_for_event(dish_leaf_node_ska036, \"dishMode\", DishMode.OPERATE)\n",
    "wait_for_event(tmc_subarray, \"obsState\", ObsState.READY)\n",
    "\n",
    "t_end = datetime.datetime.now()\n",
    "print(f\"Start time: {t_start.strftime('%H:%M:%S')}\\nEnd time: {t_end.strftime('%H:%M:%S')}\")\n",
    "\n",
    "print(\"Ready to scan\")"
   ]
  },
  {
   "cell_type": "markdown",
   "metadata": {},
   "source": [
    "### Optional: Check obstates READY\n",
    "This cell will fail unless the CSP Subarray Leafnode and SDP Subarray Leafnode are in `READY` observation state."
   ]
  },
  {
   "cell_type": "code",
   "execution_count": null,
   "metadata": {},
   "outputs": [],
   "source": [
    "print(\"\\nCBF Subarray Observation State: \", cbf_subarray.obsState)\n",
    "print(\"SDP Subarray Observation State: \", sdp_subarray_leaf_node.sdpSubarrayObsState)\n",
    "print(\"CSP Subarray Observation State: \", csp_subarray_leaf_node.cspSubarrayObsState)\n",
    "assert (\n",
    "    (cbf_subarray.obsState == 4)\n",
    "    and (sdp_subarray_leaf_node.sdpSubarrayObsState == 4)\n",
    "    and (csp_subarray_leaf_node.cspSubarrayObsState == 4)\n",
    ")\n",
    "print(\"OK to proceed: Run a Scan!\")"
   ]
  },
  {
   "cell_type": "markdown",
   "metadata": {},
   "source": [
    "### Scan\n",
    "This worked for the first time on 2024/08/20, at the end of the Atlas/TMC Workshop!"
   ]
  },
  {
   "cell_type": "code",
   "execution_count": null,
   "metadata": {},
   "outputs": [],
   "source": [
    "t_start = datetime.datetime.now()\n",
    "\n",
    "print(\"Running the Scan command: subarray obsstate should go to Scanning\")\n",
    "\n",
    "with open(SCAN_FILE, encoding=\"utf-8\") as f:\n",
    "    scan_json = f.read()\n",
    "\n",
    "print(f\"\\nscan_json file contents: \\n{scan_json}\")\n",
    "\n",
    "tmc_subarray.Scan(scan_json)\n",
    "wait_for_event(sdp_subarray_leaf_node, \"sdpSubarrayObsState\", ObsState.SCANNING)\n",
    "wait_for_event(csp_subarray_leaf_node, \"cspSubarrayObsState\", ObsState.SCANNING)\n",
    "wait_for_event(tmc_subarray, \"obsState\",ObsState.SCANNING)\n",
    "\n",
    "print(\"Scan started successfully\")\n",
    "if type(SCAN_DURATION) is float:\n",
    "    print(f\"Keeping cell active for {SCAN_DURATION}s\")\n",
    "    time_start = time()\n",
    "    while (time() - time_start) < SCAN_DURATION:\n",
    "        sleep(1)\n",
    "    \n",
    "t_end = datetime.datetime.now()\n",
    "print(f\"Start time: {t_start.strftime('%H:%M:%S')}\\nEnd time: {t_end.strftime('%H:%M:%S')}\")"
   ]
  },
  {
   "cell_type": "markdown",
   "metadata": {},
   "source": [
    "Check https://k8s.miditf.internal.skao.int/staging/signal/display/ to see output of SDP on the Signal Displays Dashboard! (`staging` namespace deployments only)\n",
    "\n",
    "Check https://k8s.miditf.internal.skao.int/shared-ska-dataproducts/dashboard/ to see the Data Products being stored on the Data Product Dashboard!"
   ]
  },
  {
   "cell_type": "markdown",
   "metadata": {},
   "source": [
    "### END SCAN\n"
   ]
  },
  {
   "cell_type": "markdown",
   "metadata": {},
   "source": [
    "POSSIBLY NOT GOING TO WORK - CHECK DISHMODE FIRST! IF THE DISHES ARE IN StandbyFP FOR SOME REASON, GO TO THE CONTINGENCIES CELL"
   ]
  },
  {
   "cell_type": "code",
   "execution_count": null,
   "metadata": {},
   "outputs": [],
   "source": [
    "t_start = datetime.datetime.now()\n",
    "\n",
    "print(\"Running the End Scan command: subarray obsstate should go to Ready state\")\n",
    "\n",
    "tmc_subarray.EndScan()\n",
    "\n",
    "wait_for_event(sdp_subarray_leaf_node, \"sdpSubarrayObsState\",ObsState.READY)\n",
    "wait_for_event(csp_subarray_leaf_node, \"cspSubarrayObsState\", ObsState.READY)\n",
    "wait_for_event(tmc_subarray, \"obsState\", ObsState.READY)\n",
    "\n",
    "print(\"Scan ended successfully\")\n",
    "\n",
    "print(\"\\nTMC Subarray Observation State: \", tmc_subarray.obsState)\n",
    "\n",
    "t_end = datetime.datetime.now()\n",
    "print(f\"Start time: {t_start.strftime('%H:%M:%S')}\\nEnd time: {t_end.strftime('%H:%M:%S')}\")"
   ]
  },
  {
   "cell_type": "markdown",
   "metadata": {},
   "source": [
    "~~TMC LEAF NODE HACK TO GET AROUND TMC SUBARRAY STUCK IN CONFIGURING~~"
   ]
  },
  {
   "cell_type": "code",
   "execution_count": 18,
   "metadata": {},
   "outputs": [],
   "source": [
    "# print(\"Running the End Scan command: subarray obsstate should go to Ready state\")\n",
    "\n",
    "# sdp_subarray_leaf_node.EndScan()\n",
    "# sleep(2)\n",
    "# csp_subarray_leaf_node.EndScan()\n",
    "# print(\"SDP Subarray Observation State: \",sdp_subarray_leaf_node.sdpSubarrayObsState)\n",
    "# print(\"CSP Subarray Observation State: \",csp_subarray_leaf_node.cspSubarrayObsState)"
   ]
  },
  {
   "cell_type": "markdown",
   "metadata": {},
   "source": [
    "### END"
   ]
  },
  {
   "cell_type": "markdown",
   "metadata": {},
   "source": [
    "MIGHT NOT WORK - SEE EndScan() COMMENT ABOVE"
   ]
  },
  {
   "cell_type": "code",
   "execution_count": null,
   "metadata": {},
   "outputs": [],
   "source": [
    "t_start = datetime.datetime.now()\n",
    "\n",
    "print(\"Running the End command: subarray obsstate should go to Idle state\")\n",
    "\n",
    "tmc_subarray.End()\n",
    "\n",
    "wait_for_event(sdp_subarray_leaf_node, \"sdpSubarrayObsState\", ObsState.IDLE)\n",
    "wait_for_event(csp_subarray_leaf_node, \"cspSubarrayObsState\", ObsState.IDLE)\n",
    "wait_for_event(tmc_subarray, \"obsState\", ObsState.IDLE)\n",
    "\n",
    "t_end = datetime.datetime.now()\n",
    "print(f\"Start time: {t_start.strftime('%H:%M:%S')}\\nEnd time: {t_end.strftime('%H:%M:%S')}\")\n",
    "\n",
    "print(\"Observation ended successfully\")"
   ]
  },
  {
   "cell_type": "markdown",
   "metadata": {},
   "source": [
    "~~TMC LEAF NODE HACK TO GET AROUND TMC SUBARRAY STUCK IN CONFIGURING~~"
   ]
  },
  {
   "cell_type": "code",
   "execution_count": 20,
   "metadata": {},
   "outputs": [],
   "source": [
    "# print(\"Running the End command: subarray obsstate should go to Idle state\")\n",
    "\n",
    "# sdp_subarray_leaf_node.End()\n",
    "# sleep(2)\n",
    "# csp_subarray_leaf_node.End()\n",
    "\n",
    "# sleep(2)\n",
    "# print(\"SDP Subarray Observation State: \",sdp_subarray_leaf_node.sdpSubarrayObsState)\n",
    "# print(\"CSP Subarray Observation State: \",csp_subarray_leaf_node.cspSubarrayObsState)"
   ]
  },
  {
   "cell_type": "markdown",
   "metadata": {},
   "source": [
    "### Release Resources"
   ]
  },
  {
   "cell_type": "markdown",
   "metadata": {},
   "source": [
    "MIGHT NOT WORK - SEE ABOVE REGARDING `DishMode` GOING TO `StandbyFP` AND CONTINGENCIES"
   ]
  },
  {
   "cell_type": "code",
   "execution_count": null,
   "metadata": {},
   "outputs": [],
   "source": [
    "t_start = datetime.datetime.now()\n",
    "\n",
    "print(\n",
    "    \"Running the Release All Resources command: subarray obsstate should go to Empty state and receptor IDs should be empty\"\n",
    ")\n",
    "\n",
    "tmc_subarray.ReleaseAllResources()\n",
    "wait_for_event(sdp_subarray_leaf_node, \"sdpSubarrayObsState\", ObsState.EMPTY)\n",
    "wait_for_event(tmc_subarray, \"obsState\", ObsState.EMPTY, EventType.CHANGE_EVENT)\n",
    "\n",
    "t_end = datetime.datetime.now()\n",
    "print(f\"Start time: {t_start.strftime('%H:%M:%S')}\\nEnd time: {t_end.strftime('%H:%M:%S')}\")\n",
    "\n",
    "print(\"Resources released successfully\")"
   ]
  },
  {
   "cell_type": "markdown",
   "metadata": {},
   "source": [
    "~~TMC LEAF NODE HACK TO GET AROUND TMC SUBARRAY STUCK IN CONFIGURING~~"
   ]
  },
  {
   "cell_type": "code",
   "execution_count": 22,
   "metadata": {},
   "outputs": [],
   "source": [
    "# print(\n",
    "#     \"Running the Release All Resources command: subarray obsstate should go to Empty state and receptor IDs should be empty\"\n",
    "# )\n",
    "\n",
    "# sdp_subarray_leaf_node.ReleaseAllResources()\n",
    "# sleep(2)\n",
    "# csp_subarray_leaf_node.ReleaseAllResources()\n",
    "\n",
    "# sleep(2)\n",
    "# print(f\"SDP Subarray Observation State: {sdp_subarray_leaf_node.sdpSubarrayObsState}\")\n",
    "# print(f\"CSP Subarray Observation State: {csp_subarray_leaf_node.cspSubarrayObsState}\")"
   ]
  },
  {
   "cell_type": "markdown",
   "metadata": {},
   "source": [
    "### Check Telescope Status"
   ]
  },
  {
   "cell_type": "code",
   "execution_count": null,
   "metadata": {},
   "outputs": [],
   "source": [
    "print(f\"TMC Central Node State: {tmc_central_node.state()}\")\n",
    "print(\"CSP Control State: \", csp_control.state())\n",
    "print(\"CBF Controller State: \", cbf_controller.state())"
   ]
  },
  {
   "cell_type": "markdown",
   "metadata": {},
   "source": [
    "### Telescope Off"
   ]
  },
  {
   "cell_type": "code",
   "execution_count": null,
   "metadata": {},
   "outputs": [],
   "source": [
    "t_start = datetime.datetime.now()\n",
    "\n",
    "print(f\"Start time: {t_start.strftime('%H:%M:%S')}\\nEnd time: {t_end.strftime('%H:%M:%S')}\")\n",
    "\n",
    "print(\"Running the TelescopeOff command\")\n",
    "\n",
    "tmc_central_node.TelescopeOff()\n",
    "\n",
    "wait_for_event(tmc_central_node, \"telescopeState\", DevState.OFF)\n",
    "wait_for_event(dish_leaf_node_ska001, \"dishMode\", DishMode.STANDBY_LP)\n",
    "wait_for_event(dish_leaf_node_ska036, \"dishMode\", DishMode.STANDBY_LP)\n",
    "\n",
    "print(\"TMC Central Node State: \", tmc_central_node.State())\n",
    "print(\"CSP Control State: \", csp_control.State())\n",
    "print(\"CBF Controller State: \", cbf_controller.State())\n",
    "\n",
    "t_end = datetime.datetime.now()\n",
    "print(f\"Start time: {t_start.strftime('%H:%M:%S')}\\nEnd time: {t_end.strftime('%H:%M:%S')}\")\n",
    "\n",
    "print(\"Telescope turned OFF\")"
   ]
  },
  {
   "cell_type": "markdown",
   "metadata": {},
   "source": [
    "## Configure Test Equipment"
   ]
  },
  {
   "cell_type": "markdown",
   "metadata": {},
   "source": [
    "#### Section for making test equipment setup changes as required for some of the mid - aiv jama tests"
   ]
  },
  {
   "cell_type": "code",
   "execution_count": null,
   "metadata": {},
   "outputs": [],
   "source": [
    "from bokeh.io import output_notebook\n",
    "\n",
    "from ska_mid_jupyter_notebooks.test_equipment.rendering import (\n",
    "    get_test_equipment_monitor_plot,\n",
    ")\n",
    "from ska_mid_jupyter_notebooks.test_equipment.state import get_equipment_model\n",
    "from ska_mid_jupyter_notebooks.test_equipment.test_equipment import TangoTestEquipment"
   ]
  },
  {
   "cell_type": "markdown",
   "metadata": {},
   "source": [
    "#### Print current status"
   ]
  },
  {
   "cell_type": "code",
   "execution_count": null,
   "metadata": {},
   "outputs": [],
   "source": [
    "test_equipment = TangoTestEquipment()\n",
    "print(f\"Test Equipment Configured: {test_equipment}\")\n",
    "test_equipment_state = get_equipment_model(test_equipment)\n",
    "test_equipment.devices"
   ]
  },
  {
   "cell_type": "markdown",
   "metadata": {},
   "source": [
    "### Print Test Equipment Diagnostics"
   ]
  },
  {
   "cell_type": "code",
   "execution_count": null,
   "metadata": {},
   "outputs": [],
   "source": [
    "# test_equipment.print_diagnostics()\n",
    "tmc_subarray.Abort()"
   ]
  },
  {
   "cell_type": "markdown",
   "metadata": {},
   "source": [
    "### Create Test Equipment Plot"
   ]
  },
  {
   "cell_type": "code",
   "execution_count": null,
   "metadata": {},
   "outputs": [],
   "source": [
    "monitor_plot = get_test_equipment_monitor_plot()\n",
    "test_equipment_state.subscribe_to_test_equipment_state(\n",
    "    monitor_plot.handle_device_state_change\n",
    ")\n",
    "output_notebook()\n",
    "monitor_plot.show()\n",
    "test_equipment_state.activate()"
   ]
  },
  {
   "cell_type": "markdown",
   "metadata": {},
   "source": [
    "Turn offline Test Equipment devices ONLINE"
   ]
  },
  {
   "cell_type": "code",
   "execution_count": null,
   "metadata": {},
   "outputs": [],
   "source": [
    "# set any offline devices to online\n",
    "test_equipment.turn_online()"
   ]
  },
  {
   "cell_type": "markdown",
   "metadata": {},
   "source": [
    "#### Display Test Equipment Device States "
   ]
  },
  {
   "cell_type": "code",
   "execution_count": null,
   "metadata": {},
   "outputs": [],
   "source": [
    "test_equipment_state.state[\"devices_states\"]"
   ]
  },
  {
   "cell_type": "markdown",
   "metadata": {},
   "source": [
    "Band 1 setup\n",
    "\n",
    "Set CW generator to approximately 480MHz (freq1) & -30dBm (power1), and wideband noise to approximately -132dBm/Hz at the SPF Band 1 Receiver inputs. ie. Band 1 output on and attenuation approx 10dB.  \n",
    "\n",
    "Expected Result:  \n",
    "*Test equipment configured*"
   ]
  },
  {
   "cell_type": "code",
   "execution_count": null,
   "metadata": {},
   "outputs": [],
   "source": [
    "# test equipment setup values - band 1; use 950.000e6 for frequency for band 2\n",
    "\n",
    "import time\n",
    "\n",
    "frequency_to_set = 480.000e6\n",
    "power_level = -30.0\n",
    "attenuation = 10\n",
    "band = 1\n",
    "\n",
    "signal_generator = test_equipment.signal_generator\n",
    "SSC = test_equipment.sky_simulator_controller\n",
    "prog_atten = test_equipment.programmable_attenuator\n",
    "\n",
    "# print current\n",
    "print(f\"Current signal generator frequency: {signal_generator.frequency}\")\n",
    "print(f\"Current signal generator power level: {signal_generator.power_dbm}\")\n",
    "print(f\"Current Sky Simulator Correlated Noise Source: {SSC.Correlated_Noise_Source}\")\n",
    "print(\n",
    "    f\"Current Sky Simulator Uncorrelated Noise Source: {SSC.Uncorrelated_Noise_Sources}\"\n",
    ")\n",
    "print(f\"Current Sky Simulator Band: {SSC.Band}\")\n",
    "print(f\"Current Programmable attenuator current attenuation : {prog_atten.channel_1}\")\n",
    "\n",
    "# setup siggen\n",
    "signal_generator.write_attribute(\"frequency\", frequency_to_set)\n",
    "signal_generator.write_attribute(\"power_dbm\", power_level)\n",
    "# setup SSC\n",
    "SSC.write_attribute(\"Correlated_Noise_Source\", True)\n",
    "SSC.write_attribute(\"Uncorrelated_Noise_Sources\", False)\n",
    "SSC.write_attribute(\"Band\", band)\n",
    "# setup Attenuator\n",
    "prog_atten.write_attribute(\"channel_1\", attenuation)\n",
    "\n",
    "sleep(3)\n",
    "# print updated values and confirm updates\n",
    "print(\n",
    "    f\"Updated signal generator frequency                  : {signal_generator.frequency}\"\n",
    ")\n",
    "print(\n",
    "    f\"Updated signal generator power level                : {signal_generator.power_dbm}\"\n",
    ")\n",
    "print(\n",
    "    f\"Updated Sky Simulator Correlated Noise Source       : {SSC.Correlated_Noise_Source}\"\n",
    ")\n",
    "print(\n",
    "    f\"Updated Sky Simulator Uncorrelated Noise Source     : {SSC.Uncorrelated_Noise_Sources}\"\n",
    ")\n",
    "print(f\"Updated Sky Simulator Band                          : {SSC.Band}\")\n",
    "print(f\"Updated Programmable attenuator current attenuation : {prog_atten.channel_1}\")\n",
    "\n",
    "assert signal_generator.frequency == frequency_to_set, print(\n",
    "    f\"Frequency required is {frequency_to_set} but got {signal_generator.frequency}\"\n",
    ")\n",
    "assert signal_generator.power_dbm == power_level, print(\n",
    "    f\"Power level required is {power_level} but got {signal_generator.power_dbm}\"\n",
    ")\n",
    "assert SSC.Correlated_Noise_Source, print(\n",
    "    f\"Correlated noise source required is {True} but got {SSC.Correlated_Noise_Source}\"\n",
    ")\n",
    "assert not SSC.Uncorrelated_Noise_Sources, print(\n",
    "    f\"Uncorrelated noise source required is {False} but got {SSC.Uncorrelated_Noise_Sources}\"\n",
    ")\n",
    "assert SSC.Band == band, print(f\"Band required is {band} but got {SSC.Band}\")\n",
    "assert prog_atten.channel_1 == attenuation, print(\n",
    "    f\"Attenuation required is {attenuation} but got {prog_atten.channel_1}\"\n",
    ")"
   ]
  },
  {
   "cell_type": "markdown",
   "metadata": {},
   "source": [
    "#### to print current setup only"
   ]
  },
  {
   "cell_type": "code",
   "execution_count": null,
   "metadata": {},
   "outputs": [],
   "source": [
    "# print current only\n",
    "signal_generator = test_equipment.signal_generator\n",
    "SSC = test_equipment.sky_simulator_controller\n",
    "prog_atten = test_equipment.programmable_attenuator\n",
    "\n",
    "# print current\n",
    "print(f\"Current signal generator frequency: {signal_generator.frequency}\")\n",
    "print(f\"Current signal generator power level: {signal_generator.power_dbm}\")\n",
    "print(f\"Current Sky Simulator Correlated Noise Source: {SSC.Correlated_Noise_Source}\")\n",
    "print(\n",
    "    f\"Current Sky Simulator Uncorrelated Noise Source: {SSC.Uncorrelated_Noise_Sources}\"\n",
    ")\n",
    "print(f\"Current Sky Simulator Band: {SSC.Band}\")\n",
    "print(f\"Current Programmable attenuator current attenuation : {prog_atten.channel_1}\")"
   ]
  },
  {
   "cell_type": "markdown",
   "metadata": {},
   "source": [
    "~10 seconds after recording has started, use Test Control Script to adjust CW generator signal level by -3dB. \n",
    "\n",
    "Expected Result:  \n",
    "*CW level changes by roughly -3dB in SDP Spectrometer Display*"
   ]
  },
  {
   "cell_type": "code",
   "execution_count": null,
   "metadata": {},
   "outputs": [],
   "source": [
    "sleep(\n",
    "    10\n",
    ")  # cell to be run in this notebook immediately after starting scn in rf-chain-and-channelisation_test_equipment notebook\n",
    "power_level_minus_3_db = power_level - 3.0\n",
    "signal_generator = test_equipment.signal_generator\n",
    "print(f\"Current signal generator power level: {signal_generator.power_dbm}\")\n",
    "signal_generator.write_attribute(\"power_dbm\", power_level_minus_3_db)\n",
    "sleep(3)\n",
    "print(f\"Updated signal generator power level: {signal_generator.power_dbm}\")"
   ]
  },
  {
   "cell_type": "markdown",
   "metadata": {},
   "source": [
    "After a further ~10 seconds, use Test Control Script to adjust CW generator signal level by -3dB.  \n",
    "\n",
    "Expected Result:  \n",
    "*CW level changes by roughly -3dB in SDP Spectrometer Display*"
   ]
  },
  {
   "cell_type": "code",
   "execution_count": null,
   "metadata": {},
   "outputs": [],
   "source": [
    "sleep(\n",
    "    10\n",
    ")  # cell to be run in this notebook immediately after starting scn in rf-chain-and-channelisation_test_equipment notebook\n",
    "power_level_minus_6_db = power_level - 6.0\n",
    "print(f\"Current signal generator power level: {signal_generator.power_dbm}\")\n",
    "signal_generator.write_attribute(\"power_dbm\", power_level_minus_6_db)\n",
    "sleep(3)\n",
    "print(f\"Updated signal generator power level: {signal_generator.power_dbm}\")"
   ]
  },
  {
   "cell_type": "markdown",
   "metadata": {},
   "source": [
    "After a further ~10seconds, use Test Control Script to increase the CW generator signal frequency by 10MHz.  \n",
    "\n",
    "Expected Result:  \n",
    "*CW frequency changes by 10MHz in SDP Spectrometer Display*"
   ]
  },
  {
   "cell_type": "code",
   "execution_count": null,
   "metadata": {},
   "outputs": [],
   "source": [
    "sleep(10)\n",
    "frequency_plus_10MHz = frequency_to_set + 10.0e6\n",
    "print(f\"Current signal generator frequency: {signal_generator.frequency}\")\n",
    "signal_generator.write_attribute(\"frequency\", frequency_plus_10MHz)\n",
    "sleep(3)\n",
    "print(f\"Updated signal generator frequency: {signal_generator.frequency}\")"
   ]
  }
 ],
 "metadata": {
  "kernelspec": {
   "display_name": "Python 3",
   "language": "python",
   "name": "python3"
  },
  "language_info": {
   "codemirror_mode": {
    "name": "ipython",
    "version": 3
   },
   "file_extension": ".py",
   "mimetype": "text/x-python",
   "name": "python",
   "nbconvert_exporter": "python",
   "pygments_lexer": "ipython3",
   "version": "3.10.12"
  }
 },
 "nbformat": 4,
 "nbformat_minor": 2
}
