{
 "cells": [
  {
   "cell_type": "markdown",
   "metadata": {},
   "source": [
    "# Notebook for End to End testing in the MID ITF\n",
    "\n",
    "- Uses digitizers for the 2 inputs to the correlator\n",
    "- Uses 4 FSPs (800 MHz)\n",
    "- Receives and plots the visibilities to SDP"
   ]
  },
  {
   "cell_type": "markdown",
   "metadata": {},
   "source": [
    "### Pipeline URLs\n",
    "These pipeline jobs were used to deploy the [Telescope Control System in the Mid ITF](https://confluence.skatelescope.org/display/SE/Stakeholder+diagram+of+Mid+ITF+Control+Interface+and+deployed+software):\n",
    "##### [Redeploy SUT](https://gitlab.com/ska-telescope/ska-mid-itf/-/jobs/7634476752)\n",
    "##### [Redeploy SKA001](https://gitlab.com/ska-telescope/ska-mid-itf/-/jobs/7632605231)\n",
    "##### [Redploy SKA036](https://gitlab.com/ska-telescope/ska-mid-itf/-/jobs/7632605253)\n"
   ]
  },
  {
   "cell_type": "code",
   "execution_count": 1,
   "metadata": {},
   "outputs": [
    {
     "name": "stdout",
     "output_type": "stream",
     "text": [
      "Setting up parameters\n",
      "\n",
      "Links for Taranta and QA Display\n",
      "System Under Test\n",
      "https://k8s.miditf.internal.skao.int/ci-ska-mid-itf-at-2298-new-sdp-and-dishsim-releases/taranta/devices\n",
      "QA Display\n",
      "https://k8s.miditf.internal.skao.int/ci-ska-mid-itf-at-2298-new-sdp-and-dishsim-releases/signal/display/\n",
      "\n",
      "\n",
      "Dish LMC links\n",
      "https://k8s.miditf.internal.skao.int/ci-dish-lmc-ska001-at-2298-new-sdp-and-dishsim-releases/taranta/devices\n",
      "https://k8s.miditf.internal.skao.int/ci-dish-lmc-ska036-at-2298-new-sdp-and-dishsim-releases/taranta/devices\n"
     ]
    }
   ],
   "source": [
    "import os\n",
    "from time import sleep, localtime, strftime, time\n",
    "import datetime\n",
    "from ska_mid_jupyter_notebooks.helpers.configuration import get_band_frequency_limits, get_dish_namespace\n",
    "\n",
    "print(\"Setting up parameters\\n\")\n",
    "\n",
    "# Set manually\n",
    "CLUSTER_DOMAIN = \"miditf.internal.skao.int\"\n",
    "SUT_NAMESPACE = \"ci-ska-mid-itf-at-2298-new-sdp-and-dishsim-releases\"\n",
    "RECEPTORS = [\"SKA001\", \"SKA036\"]\n",
    "SCAN_BAND = 1 # Select band\n",
    "SCAN_DURATION = 10.0 # Determines how long the Scan cell will be kept active\n",
    "CBF_SIMULATION_MODE = 0\n",
    "\n",
    "# Get dish namespaces\n",
    "SKA001_NAMESPACE = get_dish_namespace(SUT_NAMESPACE, \"SKA001\")\n",
    "SKA036_NAMESPACE = get_dish_namespace(SUT_NAMESPACE, \"SKA036\")\n",
    "\n",
    "# Get SDP namespace\n",
    "SDP_NAMESPACE = f\"{SUT_NAMESPACE}-sdp\"\n",
    "\n",
    "TANGO_HOST = f\"tango-databaseds.{SUT_NAMESPACE}.svc.{CLUSTER_DOMAIN}:10000\"\n",
    "os.environ[\"TANGO_HOST\"] = TANGO_HOST\n",
    "\n",
    "SKA001_TANGO_HOST = f\"tango-databaseds.{SKA001_NAMESPACE}.svc.{CLUSTER_DOMAIN}:10000\"\n",
    "SKA036_TANGO_HOST = f\"tango-databaseds.{SKA036_NAMESPACE}.svc.{CLUSTER_DOMAIN}:10000\"\n",
    "\n",
    "sut_taranta_devices_url = (\n",
    "    f\"https://k8s.{CLUSTER_DOMAIN}/{SUT_NAMESPACE}/taranta/devices\"\n",
    ")\n",
    "\n",
    "# Config files set up\n",
    "DATA_DIR = \"../../data\"\n",
    "TMC_CONFIGS = f\"{DATA_DIR}/mid_telescope/tmc\"\n",
    "SCAN_FILE = f\"{TMC_CONFIGS}/scan.json\"\n",
    "RELEASE_RESOURCES_FILE = f\"{DATA_DIR}/release_resources.json\"\n",
    "\n",
    "ASSIGN_RESOURCES_FILE = f\"{TMC_CONFIGS}/assign_resources.json\"\n",
    "CONFIGURE_SCAN_FILE = f\"{TMC_CONFIGS}/configure_scan.json\"\n",
    "\n",
    "CBF_CONFIGS = f\"{DATA_DIR}/mid_telescope/cbf\"\n",
    "DISH_CONFIG_FILE = f\"{CBF_CONFIGS}/sys_params/load_dish_config.json\"\n",
    "\n",
    "KAFKA_PORT = 9092\n",
    "KAFKA_SERVICE_NAME = \"ska-sdp-kafka\"\n",
    "KAFKA_ENDPOINT = (\n",
    "    f\"{KAFKA_SERVICE_NAME}.{SUT_NAMESPACE}.svc.{CLUSTER_DOMAIN}:{KAFKA_PORT}\"\n",
    ")\n",
    "\n",
    "print(\"Links for Taranta and QA Display\")\n",
    "\n",
    "print(\"System Under Test\")\n",
    "print(f\"https://k8s.{CLUSTER_DOMAIN}/{SUT_NAMESPACE}/taranta/devices\")\n",
    "\n",
    "print(\"QA Display\")\n",
    "print(f\"https://k8s.{CLUSTER_DOMAIN}/{SUT_NAMESPACE}/signal/display/\")\n",
    "print(\"\\n\")\n",
    "print(\"Dish LMC links\")\n",
    "print(f\"https://k8s.{CLUSTER_DOMAIN}/{SKA001_NAMESPACE}/taranta/devices\")\n",
    "print(f\"https://k8s.{CLUSTER_DOMAIN}/{SKA036_NAMESPACE}/taranta/devices\")"
   ]
  },
  {
   "cell_type": "markdown",
   "metadata": {},
   "source": [
    "### Set Up and Configure Device Proxies "
   ]
  },
  {
   "cell_type": "code",
   "execution_count": 2,
   "metadata": {},
   "outputs": [
    {
     "name": "stdout",
     "output_type": "stream",
     "text": [
      "Setting up the device proxies\n",
      "\n",
      "Checking admin mode after setting to ONLINE (0):\n",
      "  CSP Control:  adminMode.ONLINE\n",
      "  CSP Subarray:  adminMode.ONLINE\n",
      "  CBF Controller:  adminMode.ONLINE\n",
      "  CBF Subarray:  adminMode.ONLINE\n",
      "\n",
      "Checking CBF Simulation Mode and CBF Timeout:\n",
      "  CBF Simulation Mode: False\n",
      "  CBF Timeout: 99 sec\n",
      "Start time: 09:53:50\n",
      "End time: 09:53:55\n",
      "\n",
      "OK!\n"
     ]
    }
   ],
   "source": [
    "import json\n",
    "from tango import DeviceProxy, EventType, DevState\n",
    "from ska_control_model import ObsState\n",
    "from ska_mid_jupyter_notebooks.dish.dish import DishMode\n",
    "from notebook_tools.wait_for_tango import wait_for_event\n",
    "\n",
    "t_start = datetime.datetime.now()\n",
    "\n",
    "print(\"Setting up the device proxies\")\n",
    "\n",
    "# TMC proxies\n",
    "tmc_central_node = DeviceProxy(\"ska_mid/tm_central/central_node\")\n",
    "tmc_csp_master = DeviceProxy(\"ska_mid/tm_leaf_node/csp_master\")\n",
    "tmc_csp_subarray = DeviceProxy(\"ska_mid/tm_leaf_node/csp_subarray01\")\n",
    "tmc_subarray = DeviceProxy(\"ska_mid/tm_subarray_node/1\")\n",
    "\n",
    "# CSP.LMC proxies\n",
    "csp_control = DeviceProxy(\"mid-csp/control/0\")\n",
    "csp_subarray = DeviceProxy(\"mid-csp/subarray/01\")\n",
    "\n",
    "# CBF proxies\n",
    "cbf_controller = DeviceProxy(\"mid_csp_cbf/sub_elt/controller\")\n",
    "cbf_subarray = DeviceProxy(\"mid_csp_cbf/sub_elt/subarray_01\")\n",
    "cbf_fspcorrsubarray = DeviceProxy(\"mid_csp_cbf/fspcorrsubarray/01_01\")\n",
    "\n",
    "# Dish Leaf proxies\n",
    "dish_leaf_node_ska001 = DeviceProxy(\"ska_mid/tm_leaf_node/d0001\")\n",
    "dish_leaf_node_ska036 = DeviceProxy(\"ska_mid/tm_leaf_node/d0036\")\n",
    "\n",
    "# SDP proxies\n",
    "sdp_subarray = DeviceProxy(\"mid-sdp/subarray/01\")\n",
    "\n",
    "# Set devices to adminMode = ONLINE\n",
    "csp_control.adminMode = 0\n",
    "csp_subarray.adminMode = 0\n",
    "\n",
    "# Leaf node proxies\n",
    "csp_subarray_leaf_node = DeviceProxy(\"ska_mid/tm_leaf_node/csp_subarray01\")\n",
    "sdp_subarray_leaf_node = DeviceProxy(\"ska_mid/tm_leaf_node/sdp_subarray01\")\n",
    "csp_master_leaf_node = DeviceProxy(\"ska_mid/tm_leaf_node/csp_master\")\n",
    "\n",
    "# Dish manager proxies\n",
    "dish_manager_ska001 = DeviceProxy(f\"{SKA001_TANGO_HOST}/mid-dish/dish-manager/ska001\")\n",
    "dish_manager_ska036 = DeviceProxy(f\"{SKA036_TANGO_HOST}/mid-dish/dish-manager/ska036\")\n",
    "\n",
    "sleep(2)\n",
    "print(\"\\nChecking admin mode after setting to ONLINE (0):\")\n",
    "print(\"  CSP Control: \", csp_control.adminMode)\n",
    "print(\"  CSP Subarray: \", csp_subarray.adminMode)\n",
    "print(\"  CBF Controller: \", cbf_controller.adminMode)\n",
    "print(\"  CBF Subarray: \", cbf_subarray.adminMode)\n",
    "\n",
    "# Set CBF Simulation mode to false and CBF and CSP subarray command timeouts to 99s\n",
    "csp_control.cbfSimulationMode = CBF_SIMULATION_MODE\n",
    "csp_control.commandTimeout = 99\n",
    "csp_subarray.commandTimeout = 99\n",
    "\n",
    "sleep(2)\n",
    "print(\"\\nChecking CBF Simulation Mode and CBF Timeout:\")\n",
    "print(f\"  CBF Simulation Mode: {bool(csp_control.cbfSimulationMode)}\")\n",
    "print(f\"  CBF Timeout: {csp_control.commandTimeout} sec\")\n",
    "\n",
    "t_end = datetime.datetime.now()\n",
    "print(f\"Start time: {t_start.strftime('%H:%M:%S')}\\nEnd time: {t_end.strftime('%H:%M:%S')}\")\n",
    "\n",
    "print(\"\\nOK!\")"
   ]
  },
  {
   "cell_type": "markdown",
   "metadata": {},
   "source": [
    "### Export System Configuration"
   ]
  },
  {
   "cell_type": "code",
   "execution_count": 3,
   "metadata": {},
   "outputs": [
    {
     "name": "stdout",
     "output_type": "stream",
     "text": [
      "Dish 001 configured: TangoDishDeployment{dish_id=ska001; namespace=staging-dish-lmc-ska001; tango_host=tango-databaseds.staging-dish-lmc-ska001.svc.miditf.internal.skao.int:10000; cluster_domain=miditf.internal.skao.int; cia_url=http://config-inspector.staging-dish-lmc-ska001.svc.miditf.internal.skao.int:8765}\n",
      "Dish 036 configured: TangoDishDeployment{dish_id=ska036; namespace=staging-dish-lmc-ska036; tango_host=tango-databaseds.staging-dish-lmc-ska036.svc.miditf.internal.skao.int:10000; cluster_domain=miditf.internal.skao.int; cia_url=http://config-inspector.staging-dish-lmc-ska036.svc.miditf.internal.skao.int:8765}\n",
      "Exporting configuration using http://config-inspector.staging.svc.miditf.internal.skao.int:8765\n"
     ]
    },
    {
     "ename": "MaxRetryError",
     "evalue": "HTTPConnectionPool(host='config-inspector.staging.svc.miditf.internal.skao.int', port=8765): Max retries exceeded with url: / (Caused by NameResolutionError(\"<urllib3.connection.HTTPConnection object at 0x7fffe0060fa0>: Failed to resolve 'config-inspector.staging.svc.miditf.internal.skao.int' ([Errno -2] Name or service not known)\"))",
     "output_type": "error",
     "traceback": [
      "\u001b[0;31m---------------------------------------------------------------------------\u001b[0m",
      "\u001b[0;31mgaierror\u001b[0m                                  Traceback (most recent call last)",
      "File \u001b[0;32m~/.venv/lib/python3.10/site-packages/urllib3/connection.py:196\u001b[0m, in \u001b[0;36mHTTPConnection._new_conn\u001b[0;34m(self)\u001b[0m\n\u001b[1;32m    195\u001b[0m \u001b[38;5;28;01mtry\u001b[39;00m:\n\u001b[0;32m--> 196\u001b[0m     sock \u001b[38;5;241m=\u001b[39m \u001b[43mconnection\u001b[49m\u001b[38;5;241;43m.\u001b[39;49m\u001b[43mcreate_connection\u001b[49m\u001b[43m(\u001b[49m\n\u001b[1;32m    197\u001b[0m \u001b[43m        \u001b[49m\u001b[43m(\u001b[49m\u001b[38;5;28;43mself\u001b[39;49m\u001b[38;5;241;43m.\u001b[39;49m\u001b[43m_dns_host\u001b[49m\u001b[43m,\u001b[49m\u001b[43m \u001b[49m\u001b[38;5;28;43mself\u001b[39;49m\u001b[38;5;241;43m.\u001b[39;49m\u001b[43mport\u001b[49m\u001b[43m)\u001b[49m\u001b[43m,\u001b[49m\n\u001b[1;32m    198\u001b[0m \u001b[43m        \u001b[49m\u001b[38;5;28;43mself\u001b[39;49m\u001b[38;5;241;43m.\u001b[39;49m\u001b[43mtimeout\u001b[49m\u001b[43m,\u001b[49m\n\u001b[1;32m    199\u001b[0m \u001b[43m        \u001b[49m\u001b[43msource_address\u001b[49m\u001b[38;5;241;43m=\u001b[39;49m\u001b[38;5;28;43mself\u001b[39;49m\u001b[38;5;241;43m.\u001b[39;49m\u001b[43msource_address\u001b[49m\u001b[43m,\u001b[49m\n\u001b[1;32m    200\u001b[0m \u001b[43m        \u001b[49m\u001b[43msocket_options\u001b[49m\u001b[38;5;241;43m=\u001b[39;49m\u001b[38;5;28;43mself\u001b[39;49m\u001b[38;5;241;43m.\u001b[39;49m\u001b[43msocket_options\u001b[49m\u001b[43m,\u001b[49m\n\u001b[1;32m    201\u001b[0m \u001b[43m    \u001b[49m\u001b[43m)\u001b[49m\n\u001b[1;32m    202\u001b[0m \u001b[38;5;28;01mexcept\u001b[39;00m socket\u001b[38;5;241m.\u001b[39mgaierror \u001b[38;5;28;01mas\u001b[39;00m e:\n",
      "File \u001b[0;32m~/.venv/lib/python3.10/site-packages/urllib3/util/connection.py:60\u001b[0m, in \u001b[0;36mcreate_connection\u001b[0;34m(address, timeout, source_address, socket_options)\u001b[0m\n\u001b[1;32m     58\u001b[0m     \u001b[38;5;28;01mraise\u001b[39;00m LocationParseError(\u001b[38;5;124mf\u001b[39m\u001b[38;5;124m\"\u001b[39m\u001b[38;5;124m'\u001b[39m\u001b[38;5;132;01m{\u001b[39;00mhost\u001b[38;5;132;01m}\u001b[39;00m\u001b[38;5;124m'\u001b[39m\u001b[38;5;124m, label empty or too long\u001b[39m\u001b[38;5;124m\"\u001b[39m) \u001b[38;5;28;01mfrom\u001b[39;00m \u001b[38;5;28;01mNone\u001b[39;00m\n\u001b[0;32m---> 60\u001b[0m \u001b[38;5;28;01mfor\u001b[39;00m res \u001b[38;5;129;01min\u001b[39;00m \u001b[43msocket\u001b[49m\u001b[38;5;241;43m.\u001b[39;49m\u001b[43mgetaddrinfo\u001b[49m\u001b[43m(\u001b[49m\u001b[43mhost\u001b[49m\u001b[43m,\u001b[49m\u001b[43m \u001b[49m\u001b[43mport\u001b[49m\u001b[43m,\u001b[49m\u001b[43m \u001b[49m\u001b[43mfamily\u001b[49m\u001b[43m,\u001b[49m\u001b[43m \u001b[49m\u001b[43msocket\u001b[49m\u001b[38;5;241;43m.\u001b[39;49m\u001b[43mSOCK_STREAM\u001b[49m\u001b[43m)\u001b[49m:\n\u001b[1;32m     61\u001b[0m     af, socktype, proto, canonname, sa \u001b[38;5;241m=\u001b[39m res\n",
      "File \u001b[0;32m/usr/lib/python3.10/socket.py:955\u001b[0m, in \u001b[0;36mgetaddrinfo\u001b[0;34m(host, port, family, type, proto, flags)\u001b[0m\n\u001b[1;32m    954\u001b[0m addrlist \u001b[38;5;241m=\u001b[39m []\n\u001b[0;32m--> 955\u001b[0m \u001b[38;5;28;01mfor\u001b[39;00m res \u001b[38;5;129;01min\u001b[39;00m \u001b[43m_socket\u001b[49m\u001b[38;5;241;43m.\u001b[39;49m\u001b[43mgetaddrinfo\u001b[49m\u001b[43m(\u001b[49m\u001b[43mhost\u001b[49m\u001b[43m,\u001b[49m\u001b[43m \u001b[49m\u001b[43mport\u001b[49m\u001b[43m,\u001b[49m\u001b[43m \u001b[49m\u001b[43mfamily\u001b[49m\u001b[43m,\u001b[49m\u001b[43m \u001b[49m\u001b[38;5;28;43mtype\u001b[39;49m\u001b[43m,\u001b[49m\u001b[43m \u001b[49m\u001b[43mproto\u001b[49m\u001b[43m,\u001b[49m\u001b[43m \u001b[49m\u001b[43mflags\u001b[49m\u001b[43m)\u001b[49m:\n\u001b[1;32m    956\u001b[0m     af, socktype, proto, canonname, sa \u001b[38;5;241m=\u001b[39m res\n",
      "\u001b[0;31mgaierror\u001b[0m: [Errno -2] Name or service not known",
      "\nThe above exception was the direct cause of the following exception:\n",
      "\u001b[0;31mNameResolutionError\u001b[0m                       Traceback (most recent call last)",
      "File \u001b[0;32m~/.venv/lib/python3.10/site-packages/urllib3/connectionpool.py:789\u001b[0m, in \u001b[0;36mHTTPConnectionPool.urlopen\u001b[0;34m(self, method, url, body, headers, retries, redirect, assert_same_host, timeout, pool_timeout, release_conn, chunked, body_pos, preload_content, decode_content, **response_kw)\u001b[0m\n\u001b[1;32m    788\u001b[0m \u001b[38;5;66;03m# Make the request on the HTTPConnection object\u001b[39;00m\n\u001b[0;32m--> 789\u001b[0m response \u001b[38;5;241m=\u001b[39m \u001b[38;5;28;43mself\u001b[39;49m\u001b[38;5;241;43m.\u001b[39;49m\u001b[43m_make_request\u001b[49m\u001b[43m(\u001b[49m\n\u001b[1;32m    790\u001b[0m \u001b[43m    \u001b[49m\u001b[43mconn\u001b[49m\u001b[43m,\u001b[49m\n\u001b[1;32m    791\u001b[0m \u001b[43m    \u001b[49m\u001b[43mmethod\u001b[49m\u001b[43m,\u001b[49m\n\u001b[1;32m    792\u001b[0m \u001b[43m    \u001b[49m\u001b[43murl\u001b[49m\u001b[43m,\u001b[49m\n\u001b[1;32m    793\u001b[0m \u001b[43m    \u001b[49m\u001b[43mtimeout\u001b[49m\u001b[38;5;241;43m=\u001b[39;49m\u001b[43mtimeout_obj\u001b[49m\u001b[43m,\u001b[49m\n\u001b[1;32m    794\u001b[0m \u001b[43m    \u001b[49m\u001b[43mbody\u001b[49m\u001b[38;5;241;43m=\u001b[39;49m\u001b[43mbody\u001b[49m\u001b[43m,\u001b[49m\n\u001b[1;32m    795\u001b[0m \u001b[43m    \u001b[49m\u001b[43mheaders\u001b[49m\u001b[38;5;241;43m=\u001b[39;49m\u001b[43mheaders\u001b[49m\u001b[43m,\u001b[49m\n\u001b[1;32m    796\u001b[0m \u001b[43m    \u001b[49m\u001b[43mchunked\u001b[49m\u001b[38;5;241;43m=\u001b[39;49m\u001b[43mchunked\u001b[49m\u001b[43m,\u001b[49m\n\u001b[1;32m    797\u001b[0m \u001b[43m    \u001b[49m\u001b[43mretries\u001b[49m\u001b[38;5;241;43m=\u001b[39;49m\u001b[43mretries\u001b[49m\u001b[43m,\u001b[49m\n\u001b[1;32m    798\u001b[0m \u001b[43m    \u001b[49m\u001b[43mresponse_conn\u001b[49m\u001b[38;5;241;43m=\u001b[39;49m\u001b[43mresponse_conn\u001b[49m\u001b[43m,\u001b[49m\n\u001b[1;32m    799\u001b[0m \u001b[43m    \u001b[49m\u001b[43mpreload_content\u001b[49m\u001b[38;5;241;43m=\u001b[39;49m\u001b[43mpreload_content\u001b[49m\u001b[43m,\u001b[49m\n\u001b[1;32m    800\u001b[0m \u001b[43m    \u001b[49m\u001b[43mdecode_content\u001b[49m\u001b[38;5;241;43m=\u001b[39;49m\u001b[43mdecode_content\u001b[49m\u001b[43m,\u001b[49m\n\u001b[1;32m    801\u001b[0m \u001b[43m    \u001b[49m\u001b[38;5;241;43m*\u001b[39;49m\u001b[38;5;241;43m*\u001b[39;49m\u001b[43mresponse_kw\u001b[49m\u001b[43m,\u001b[49m\n\u001b[1;32m    802\u001b[0m \u001b[43m\u001b[49m\u001b[43m)\u001b[49m\n\u001b[1;32m    804\u001b[0m \u001b[38;5;66;03m# Everything went great!\u001b[39;00m\n",
      "File \u001b[0;32m~/.venv/lib/python3.10/site-packages/urllib3/connectionpool.py:495\u001b[0m, in \u001b[0;36mHTTPConnectionPool._make_request\u001b[0;34m(self, conn, method, url, body, headers, retries, timeout, chunked, response_conn, preload_content, decode_content, enforce_content_length)\u001b[0m\n\u001b[1;32m    494\u001b[0m \u001b[38;5;28;01mtry\u001b[39;00m:\n\u001b[0;32m--> 495\u001b[0m     \u001b[43mconn\u001b[49m\u001b[38;5;241;43m.\u001b[39;49m\u001b[43mrequest\u001b[49m\u001b[43m(\u001b[49m\n\u001b[1;32m    496\u001b[0m \u001b[43m        \u001b[49m\u001b[43mmethod\u001b[49m\u001b[43m,\u001b[49m\n\u001b[1;32m    497\u001b[0m \u001b[43m        \u001b[49m\u001b[43murl\u001b[49m\u001b[43m,\u001b[49m\n\u001b[1;32m    498\u001b[0m \u001b[43m        \u001b[49m\u001b[43mbody\u001b[49m\u001b[38;5;241;43m=\u001b[39;49m\u001b[43mbody\u001b[49m\u001b[43m,\u001b[49m\n\u001b[1;32m    499\u001b[0m \u001b[43m        \u001b[49m\u001b[43mheaders\u001b[49m\u001b[38;5;241;43m=\u001b[39;49m\u001b[43mheaders\u001b[49m\u001b[43m,\u001b[49m\n\u001b[1;32m    500\u001b[0m \u001b[43m        \u001b[49m\u001b[43mchunked\u001b[49m\u001b[38;5;241;43m=\u001b[39;49m\u001b[43mchunked\u001b[49m\u001b[43m,\u001b[49m\n\u001b[1;32m    501\u001b[0m \u001b[43m        \u001b[49m\u001b[43mpreload_content\u001b[49m\u001b[38;5;241;43m=\u001b[39;49m\u001b[43mpreload_content\u001b[49m\u001b[43m,\u001b[49m\n\u001b[1;32m    502\u001b[0m \u001b[43m        \u001b[49m\u001b[43mdecode_content\u001b[49m\u001b[38;5;241;43m=\u001b[39;49m\u001b[43mdecode_content\u001b[49m\u001b[43m,\u001b[49m\n\u001b[1;32m    503\u001b[0m \u001b[43m        \u001b[49m\u001b[43menforce_content_length\u001b[49m\u001b[38;5;241;43m=\u001b[39;49m\u001b[43menforce_content_length\u001b[49m\u001b[43m,\u001b[49m\n\u001b[1;32m    504\u001b[0m \u001b[43m    \u001b[49m\u001b[43m)\u001b[49m\n\u001b[1;32m    506\u001b[0m \u001b[38;5;66;03m# We are swallowing BrokenPipeError (errno.EPIPE) since the server is\u001b[39;00m\n\u001b[1;32m    507\u001b[0m \u001b[38;5;66;03m# legitimately able to close the connection after sending a valid response.\u001b[39;00m\n\u001b[1;32m    508\u001b[0m \u001b[38;5;66;03m# With this behaviour, the received response is still readable.\u001b[39;00m\n",
      "File \u001b[0;32m~/.venv/lib/python3.10/site-packages/urllib3/connection.py:398\u001b[0m, in \u001b[0;36mHTTPConnection.request\u001b[0;34m(self, method, url, body, headers, chunked, preload_content, decode_content, enforce_content_length)\u001b[0m\n\u001b[1;32m    397\u001b[0m     \u001b[38;5;28mself\u001b[39m\u001b[38;5;241m.\u001b[39mputheader(header, value)\n\u001b[0;32m--> 398\u001b[0m \u001b[38;5;28;43mself\u001b[39;49m\u001b[38;5;241;43m.\u001b[39;49m\u001b[43mendheaders\u001b[49m\u001b[43m(\u001b[49m\u001b[43m)\u001b[49m\n\u001b[1;32m    400\u001b[0m \u001b[38;5;66;03m# If we're given a body we start sending that in chunks.\u001b[39;00m\n",
      "File \u001b[0;32m/usr/lib/python3.10/http/client.py:1278\u001b[0m, in \u001b[0;36mHTTPConnection.endheaders\u001b[0;34m(self, message_body, encode_chunked)\u001b[0m\n\u001b[1;32m   1277\u001b[0m     \u001b[38;5;28;01mraise\u001b[39;00m CannotSendHeader()\n\u001b[0;32m-> 1278\u001b[0m \u001b[38;5;28;43mself\u001b[39;49m\u001b[38;5;241;43m.\u001b[39;49m\u001b[43m_send_output\u001b[49m\u001b[43m(\u001b[49m\u001b[43mmessage_body\u001b[49m\u001b[43m,\u001b[49m\u001b[43m \u001b[49m\u001b[43mencode_chunked\u001b[49m\u001b[38;5;241;43m=\u001b[39;49m\u001b[43mencode_chunked\u001b[49m\u001b[43m)\u001b[49m\n",
      "File \u001b[0;32m/usr/lib/python3.10/http/client.py:1038\u001b[0m, in \u001b[0;36mHTTPConnection._send_output\u001b[0;34m(self, message_body, encode_chunked)\u001b[0m\n\u001b[1;32m   1037\u001b[0m \u001b[38;5;28;01mdel\u001b[39;00m \u001b[38;5;28mself\u001b[39m\u001b[38;5;241m.\u001b[39m_buffer[:]\n\u001b[0;32m-> 1038\u001b[0m \u001b[38;5;28;43mself\u001b[39;49m\u001b[38;5;241;43m.\u001b[39;49m\u001b[43msend\u001b[49m\u001b[43m(\u001b[49m\u001b[43mmsg\u001b[49m\u001b[43m)\u001b[49m\n\u001b[1;32m   1040\u001b[0m \u001b[38;5;28;01mif\u001b[39;00m message_body \u001b[38;5;129;01mis\u001b[39;00m \u001b[38;5;129;01mnot\u001b[39;00m \u001b[38;5;28;01mNone\u001b[39;00m:\n\u001b[1;32m   1041\u001b[0m \n\u001b[1;32m   1042\u001b[0m     \u001b[38;5;66;03m# create a consistent interface to message_body\u001b[39;00m\n",
      "File \u001b[0;32m/usr/lib/python3.10/http/client.py:976\u001b[0m, in \u001b[0;36mHTTPConnection.send\u001b[0;34m(self, data)\u001b[0m\n\u001b[1;32m    975\u001b[0m \u001b[38;5;28;01mif\u001b[39;00m \u001b[38;5;28mself\u001b[39m\u001b[38;5;241m.\u001b[39mauto_open:\n\u001b[0;32m--> 976\u001b[0m     \u001b[38;5;28;43mself\u001b[39;49m\u001b[38;5;241;43m.\u001b[39;49m\u001b[43mconnect\u001b[49m\u001b[43m(\u001b[49m\u001b[43m)\u001b[49m\n\u001b[1;32m    977\u001b[0m \u001b[38;5;28;01melse\u001b[39;00m:\n",
      "File \u001b[0;32m~/.venv/lib/python3.10/site-packages/urllib3/connection.py:236\u001b[0m, in \u001b[0;36mHTTPConnection.connect\u001b[0;34m(self)\u001b[0m\n\u001b[1;32m    235\u001b[0m \u001b[38;5;28;01mdef\u001b[39;00m \u001b[38;5;21mconnect\u001b[39m(\u001b[38;5;28mself\u001b[39m) \u001b[38;5;241m-\u001b[39m\u001b[38;5;241m>\u001b[39m \u001b[38;5;28;01mNone\u001b[39;00m:\n\u001b[0;32m--> 236\u001b[0m     \u001b[38;5;28mself\u001b[39m\u001b[38;5;241m.\u001b[39msock \u001b[38;5;241m=\u001b[39m \u001b[38;5;28;43mself\u001b[39;49m\u001b[38;5;241;43m.\u001b[39;49m\u001b[43m_new_conn\u001b[49m\u001b[43m(\u001b[49m\u001b[43m)\u001b[49m\n\u001b[1;32m    237\u001b[0m     \u001b[38;5;28;01mif\u001b[39;00m \u001b[38;5;28mself\u001b[39m\u001b[38;5;241m.\u001b[39m_tunnel_host:\n\u001b[1;32m    238\u001b[0m         \u001b[38;5;66;03m# If we're tunneling it means we're connected to our proxy.\u001b[39;00m\n",
      "File \u001b[0;32m~/.venv/lib/python3.10/site-packages/urllib3/connection.py:203\u001b[0m, in \u001b[0;36mHTTPConnection._new_conn\u001b[0;34m(self)\u001b[0m\n\u001b[1;32m    202\u001b[0m \u001b[38;5;28;01mexcept\u001b[39;00m socket\u001b[38;5;241m.\u001b[39mgaierror \u001b[38;5;28;01mas\u001b[39;00m e:\n\u001b[0;32m--> 203\u001b[0m     \u001b[38;5;28;01mraise\u001b[39;00m NameResolutionError(\u001b[38;5;28mself\u001b[39m\u001b[38;5;241m.\u001b[39mhost, \u001b[38;5;28mself\u001b[39m, e) \u001b[38;5;28;01mfrom\u001b[39;00m \u001b[38;5;21;01me\u001b[39;00m\n\u001b[1;32m    204\u001b[0m \u001b[38;5;28;01mexcept\u001b[39;00m SocketTimeout \u001b[38;5;28;01mas\u001b[39;00m e:\n",
      "\u001b[0;31mNameResolutionError\u001b[0m: <urllib3.connection.HTTPConnection object at 0x7fffe0060fa0>: Failed to resolve 'config-inspector.staging.svc.miditf.internal.skao.int' ([Errno -2] Name or service not known)",
      "\nThe above exception was the direct cause of the following exception:\n",
      "\u001b[0;31mMaxRetryError\u001b[0m                             Traceback (most recent call last)",
      "Cell \u001b[0;32mIn[3], line 46\u001b[0m\n\u001b[1;32m     44\u001b[0m os\u001b[38;5;241m.\u001b[39mmakedirs(notebook_output_dir, exist_ok\u001b[38;5;241m=\u001b[39m\u001b[38;5;28;01mTrue\u001b[39;00m)\n\u001b[1;32m     45\u001b[0m \u001b[38;5;28;01mfor\u001b[39;00m deployment \u001b[38;5;129;01min\u001b[39;00m [sut, test_equipment, \u001b[38;5;241m*\u001b[39mdish_deployments]:\n\u001b[0;32m---> 46\u001b[0m     \u001b[43mdeployment\u001b[49m\u001b[38;5;241;43m.\u001b[39;49m\u001b[43mexport_chart_configuration\u001b[49m\u001b[43m(\u001b[49m\u001b[43moutput_dir\u001b[49m\u001b[38;5;241;43m=\u001b[39;49m\u001b[43mnotebook_output_dir\u001b[49m\u001b[43m)\u001b[49m\n",
      "File \u001b[0;32m/workspaces/ska-mid-jupyter-notebooks/src/ska_mid_jupyter_notebooks/cluster/cluster.py:155\u001b[0m, in \u001b[0;36mTangoDeployment.export_chart_configuration\u001b[0;34m(self, output_dir)\u001b[0m\n\u001b[1;32m    150\u001b[0m \u001b[38;5;28;01mdef\u001b[39;00m \u001b[38;5;21mexport_chart_configuration\u001b[39m(\n\u001b[1;32m    151\u001b[0m     \u001b[38;5;28mself\u001b[39m,\n\u001b[1;32m    152\u001b[0m     output_dir: \u001b[38;5;28mstr\u001b[39m,\n\u001b[1;32m    153\u001b[0m ):\n\u001b[1;32m    154\u001b[0m     \u001b[38;5;28mprint\u001b[39m(\u001b[38;5;124mf\u001b[39m\u001b[38;5;124m\"\u001b[39m\u001b[38;5;124mExporting configuration using \u001b[39m\u001b[38;5;132;01m{\u001b[39;00m\u001b[38;5;28mself\u001b[39m\u001b[38;5;241m.\u001b[39mcia_url\u001b[38;5;132;01m}\u001b[39;00m\u001b[38;5;124m\"\u001b[39m)\n\u001b[0;32m--> 155\u001b[0m     response_json \u001b[38;5;241m=\u001b[39m \u001b[38;5;28;43mself\u001b[39;49m\u001b[38;5;241;43m.\u001b[39;49m\u001b[43mrelease\u001b[49m\u001b[38;5;241m.\u001b[39mmodel_dump_json(indent\u001b[38;5;241m=\u001b[39m\u001b[38;5;241m4\u001b[39m)\n\u001b[1;32m    156\u001b[0m     \u001b[38;5;28mprint\u001b[39m(\u001b[38;5;124mf\u001b[39m\u001b[38;5;124m\"\u001b[39m\u001b[38;5;124mReleaseResponse (\u001b[39m\u001b[38;5;132;01m{\u001b[39;00m\u001b[38;5;28mself\u001b[39m\u001b[38;5;241m.\u001b[39mnamespace\u001b[38;5;132;01m}\u001b[39;00m\u001b[38;5;124m): \u001b[39m\u001b[38;5;132;01m{\u001b[39;00mresponse_json\u001b[38;5;132;01m}\u001b[39;00m\u001b[38;5;124m\"\u001b[39m)\n\u001b[1;32m    157\u001b[0m     output_file \u001b[38;5;241m=\u001b[39m pathlib\u001b[38;5;241m.\u001b[39mPath(output_dir, \u001b[38;5;124mf\u001b[39m\u001b[38;5;124m\"\u001b[39m\u001b[38;5;124mconfig-\u001b[39m\u001b[38;5;132;01m{\u001b[39;00m\u001b[38;5;28mself\u001b[39m\u001b[38;5;241m.\u001b[39mnamespace\u001b[38;5;132;01m}\u001b[39;00m\u001b[38;5;124m.json\u001b[39m\u001b[38;5;124m\"\u001b[39m)\n",
      "File \u001b[0;32m/workspaces/ska-mid-jupyter-notebooks/src/ska_mid_jupyter_notebooks/cluster/cluster.py:144\u001b[0m, in \u001b[0;36mTangoDeployment.release\u001b[0;34m(self)\u001b[0m\n\u001b[1;32m    142\u001b[0m \u001b[38;5;28;01mif\u001b[39;00m \u001b[38;5;28mself\u001b[39m\u001b[38;5;241m.\u001b[39m_release:\n\u001b[1;32m    143\u001b[0m     \u001b[38;5;28;01mreturn\u001b[39;00m \u001b[38;5;28mself\u001b[39m\u001b[38;5;241m.\u001b[39m_release\n\u001b[0;32m--> 144\u001b[0m \u001b[38;5;28mself\u001b[39m\u001b[38;5;241m.\u001b[39m_release \u001b[38;5;241m=\u001b[39m \u001b[38;5;28;43mself\u001b[39;49m\u001b[38;5;241;43m.\u001b[39;49m\u001b[43mchart_api\u001b[49m\u001b[38;5;241;43m.\u001b[39;49m\u001b[43mget_release_get\u001b[49m\u001b[43m(\u001b[49m\u001b[43m)\u001b[49m\n\u001b[1;32m    145\u001b[0m \u001b[38;5;28;01mreturn\u001b[39;00m \u001b[38;5;28mself\u001b[39m\u001b[38;5;241m.\u001b[39m_release\n",
      "File \u001b[0;32m~/.venv/lib/python3.10/site-packages/pydantic/validate_call_decorator.py:60\u001b[0m, in \u001b[0;36mvalidate_call.<locals>.validate.<locals>.wrapper_function\u001b[0;34m(*args, **kwargs)\u001b[0m\n\u001b[1;32m     58\u001b[0m \u001b[38;5;129m@functools\u001b[39m\u001b[38;5;241m.\u001b[39mwraps(function)\n\u001b[1;32m     59\u001b[0m \u001b[38;5;28;01mdef\u001b[39;00m \u001b[38;5;21mwrapper_function\u001b[39m(\u001b[38;5;241m*\u001b[39margs, \u001b[38;5;241m*\u001b[39m\u001b[38;5;241m*\u001b[39mkwargs):\n\u001b[0;32m---> 60\u001b[0m     \u001b[38;5;28;01mreturn\u001b[39;00m \u001b[43mvalidate_call_wrapper\u001b[49m\u001b[43m(\u001b[49m\u001b[38;5;241;43m*\u001b[39;49m\u001b[43margs\u001b[49m\u001b[43m,\u001b[49m\u001b[43m \u001b[49m\u001b[38;5;241;43m*\u001b[39;49m\u001b[38;5;241;43m*\u001b[39;49m\u001b[43mkwargs\u001b[49m\u001b[43m)\u001b[49m\n",
      "File \u001b[0;32m~/.venv/lib/python3.10/site-packages/pydantic/_internal/_validate_call.py:96\u001b[0m, in \u001b[0;36mValidateCallWrapper.__call__\u001b[0;34m(self, *args, **kwargs)\u001b[0m\n\u001b[1;32m     95\u001b[0m \u001b[38;5;28;01mdef\u001b[39;00m \u001b[38;5;21m__call__\u001b[39m(\u001b[38;5;28mself\u001b[39m, \u001b[38;5;241m*\u001b[39margs: Any, \u001b[38;5;241m*\u001b[39m\u001b[38;5;241m*\u001b[39mkwargs: Any) \u001b[38;5;241m-\u001b[39m\u001b[38;5;241m>\u001b[39m Any:\n\u001b[0;32m---> 96\u001b[0m     res \u001b[38;5;241m=\u001b[39m \u001b[38;5;28;43mself\u001b[39;49m\u001b[38;5;241;43m.\u001b[39;49m\u001b[43m__pydantic_validator__\u001b[49m\u001b[38;5;241;43m.\u001b[39;49m\u001b[43mvalidate_python\u001b[49m\u001b[43m(\u001b[49m\u001b[43mpydantic_core\u001b[49m\u001b[38;5;241;43m.\u001b[39;49m\u001b[43mArgsKwargs\u001b[49m\u001b[43m(\u001b[49m\u001b[43margs\u001b[49m\u001b[43m,\u001b[49m\u001b[43m \u001b[49m\u001b[43mkwargs\u001b[49m\u001b[43m)\u001b[49m\u001b[43m)\u001b[49m\n\u001b[1;32m     97\u001b[0m     \u001b[38;5;28;01mif\u001b[39;00m \u001b[38;5;28mself\u001b[39m\u001b[38;5;241m.\u001b[39m__return_pydantic_validator__:\n\u001b[1;32m     98\u001b[0m         \u001b[38;5;28;01mreturn\u001b[39;00m \u001b[38;5;28mself\u001b[39m\u001b[38;5;241m.\u001b[39m__return_pydantic_validator__(res)\n",
      "File \u001b[0;32m/workspaces/ska-mid-jupyter-notebooks/.venv/lib/python3.10/site-packages/ska_ser_config_inspector_client/api/charts_and_release_data_api.py:94\u001b[0m, in \u001b[0;36mChartsAndReleaseDataApi.get_release_get\u001b[0;34m(self, _request_timeout, _request_auth, _content_type, _headers, _host_index)\u001b[0m\n\u001b[1;32m     84\u001b[0m _param \u001b[38;5;241m=\u001b[39m \u001b[38;5;28mself\u001b[39m\u001b[38;5;241m.\u001b[39m_get_release_get_serialize(\n\u001b[1;32m     85\u001b[0m     _request_auth\u001b[38;5;241m=\u001b[39m_request_auth,\n\u001b[1;32m     86\u001b[0m     _content_type\u001b[38;5;241m=\u001b[39m_content_type,\n\u001b[1;32m     87\u001b[0m     _headers\u001b[38;5;241m=\u001b[39m_headers,\n\u001b[1;32m     88\u001b[0m     _host_index\u001b[38;5;241m=\u001b[39m_host_index\n\u001b[1;32m     89\u001b[0m )\n\u001b[1;32m     91\u001b[0m _response_types_map: Dict[\u001b[38;5;28mstr\u001b[39m, Optional[\u001b[38;5;28mstr\u001b[39m]] \u001b[38;5;241m=\u001b[39m {\n\u001b[1;32m     92\u001b[0m     \u001b[38;5;124m'\u001b[39m\u001b[38;5;124m200\u001b[39m\u001b[38;5;124m'\u001b[39m: \u001b[38;5;124m\"\u001b[39m\u001b[38;5;124mReleaseResponse\u001b[39m\u001b[38;5;124m\"\u001b[39m,\n\u001b[1;32m     93\u001b[0m }\n\u001b[0;32m---> 94\u001b[0m response_data \u001b[38;5;241m=\u001b[39m \u001b[38;5;28;43mself\u001b[39;49m\u001b[38;5;241;43m.\u001b[39;49m\u001b[43mapi_client\u001b[49m\u001b[38;5;241;43m.\u001b[39;49m\u001b[43mcall_api\u001b[49m\u001b[43m(\u001b[49m\n\u001b[1;32m     95\u001b[0m \u001b[43m    \u001b[49m\u001b[38;5;241;43m*\u001b[39;49m\u001b[43m_param\u001b[49m\u001b[43m,\u001b[49m\n\u001b[1;32m     96\u001b[0m \u001b[43m    \u001b[49m\u001b[43m_request_timeout\u001b[49m\u001b[38;5;241;43m=\u001b[39;49m\u001b[43m_request_timeout\u001b[49m\n\u001b[1;32m     97\u001b[0m \u001b[43m\u001b[49m\u001b[43m)\u001b[49m\n\u001b[1;32m     98\u001b[0m response_data\u001b[38;5;241m.\u001b[39mread()\n\u001b[1;32m     99\u001b[0m \u001b[38;5;28;01mreturn\u001b[39;00m \u001b[38;5;28mself\u001b[39m\u001b[38;5;241m.\u001b[39mapi_client\u001b[38;5;241m.\u001b[39mresponse_deserialize(\n\u001b[1;32m    100\u001b[0m     response_data\u001b[38;5;241m=\u001b[39mresponse_data,\n\u001b[1;32m    101\u001b[0m     response_types_map\u001b[38;5;241m=\u001b[39m_response_types_map,\n\u001b[1;32m    102\u001b[0m )\u001b[38;5;241m.\u001b[39mdata\n",
      "File \u001b[0;32m/workspaces/ska-mid-jupyter-notebooks/.venv/lib/python3.10/site-packages/ska_ser_config_inspector_client/api_client.py:271\u001b[0m, in \u001b[0;36mApiClient.call_api\u001b[0;34m(self, method, url, header_params, body, post_params, _request_timeout)\u001b[0m\n\u001b[1;32m    257\u001b[0m \u001b[38;5;250m\u001b[39m\u001b[38;5;124;03m\"\"\"Makes the HTTP request (synchronous)\u001b[39;00m\n\u001b[1;32m    258\u001b[0m \u001b[38;5;124;03m:param method: Method to call.\u001b[39;00m\n\u001b[1;32m    259\u001b[0m \u001b[38;5;124;03m:param url: Path to method endpoint.\u001b[39;00m\n\u001b[0;32m   (...)\u001b[0m\n\u001b[1;32m    266\u001b[0m \u001b[38;5;124;03m:return: RESTResponse\u001b[39;00m\n\u001b[1;32m    267\u001b[0m \u001b[38;5;124;03m\"\"\"\u001b[39;00m\n\u001b[1;32m    269\u001b[0m \u001b[38;5;28;01mtry\u001b[39;00m:\n\u001b[1;32m    270\u001b[0m     \u001b[38;5;66;03m# perform request and return response\u001b[39;00m\n\u001b[0;32m--> 271\u001b[0m     response_data \u001b[38;5;241m=\u001b[39m \u001b[38;5;28;43mself\u001b[39;49m\u001b[38;5;241;43m.\u001b[39;49m\u001b[43mrest_client\u001b[49m\u001b[38;5;241;43m.\u001b[39;49m\u001b[43mrequest\u001b[49m\u001b[43m(\u001b[49m\n\u001b[1;32m    272\u001b[0m \u001b[43m        \u001b[49m\u001b[43mmethod\u001b[49m\u001b[43m,\u001b[49m\u001b[43m \u001b[49m\u001b[43murl\u001b[49m\u001b[43m,\u001b[49m\n\u001b[1;32m    273\u001b[0m \u001b[43m        \u001b[49m\u001b[43mheaders\u001b[49m\u001b[38;5;241;43m=\u001b[39;49m\u001b[43mheader_params\u001b[49m\u001b[43m,\u001b[49m\n\u001b[1;32m    274\u001b[0m \u001b[43m        \u001b[49m\u001b[43mbody\u001b[49m\u001b[38;5;241;43m=\u001b[39;49m\u001b[43mbody\u001b[49m\u001b[43m,\u001b[49m\u001b[43m \u001b[49m\u001b[43mpost_params\u001b[49m\u001b[38;5;241;43m=\u001b[39;49m\u001b[43mpost_params\u001b[49m\u001b[43m,\u001b[49m\n\u001b[1;32m    275\u001b[0m \u001b[43m        \u001b[49m\u001b[43m_request_timeout\u001b[49m\u001b[38;5;241;43m=\u001b[39;49m\u001b[43m_request_timeout\u001b[49m\n\u001b[1;32m    276\u001b[0m \u001b[43m    \u001b[49m\u001b[43m)\u001b[49m\n\u001b[1;32m    278\u001b[0m \u001b[38;5;28;01mexcept\u001b[39;00m ApiException \u001b[38;5;28;01mas\u001b[39;00m e:\n\u001b[1;32m    279\u001b[0m     \u001b[38;5;28;01mraise\u001b[39;00m e\n",
      "File \u001b[0;32m/workspaces/ska-mid-jupyter-notebooks/.venv/lib/python3.10/site-packages/ska_ser_config_inspector_client/rest.py:245\u001b[0m, in \u001b[0;36mRESTClientObject.request\u001b[0;34m(self, method, url, headers, body, post_params, _request_timeout)\u001b[0m\n\u001b[1;32m    242\u001b[0m             \u001b[38;5;28;01mraise\u001b[39;00m ApiException(status\u001b[38;5;241m=\u001b[39m\u001b[38;5;241m0\u001b[39m, reason\u001b[38;5;241m=\u001b[39mmsg)\n\u001b[1;32m    243\u001b[0m     \u001b[38;5;66;03m# For `GET`, `HEAD`\u001b[39;00m\n\u001b[1;32m    244\u001b[0m     \u001b[38;5;28;01melse\u001b[39;00m:\n\u001b[0;32m--> 245\u001b[0m         r \u001b[38;5;241m=\u001b[39m \u001b[38;5;28;43mself\u001b[39;49m\u001b[38;5;241;43m.\u001b[39;49m\u001b[43mpool_manager\u001b[49m\u001b[38;5;241;43m.\u001b[39;49m\u001b[43mrequest\u001b[49m\u001b[43m(\u001b[49m\n\u001b[1;32m    246\u001b[0m \u001b[43m            \u001b[49m\u001b[43mmethod\u001b[49m\u001b[43m,\u001b[49m\n\u001b[1;32m    247\u001b[0m \u001b[43m            \u001b[49m\u001b[43murl\u001b[49m\u001b[43m,\u001b[49m\n\u001b[1;32m    248\u001b[0m \u001b[43m            \u001b[49m\u001b[43mfields\u001b[49m\u001b[38;5;241;43m=\u001b[39;49m\u001b[43m{\u001b[49m\u001b[43m}\u001b[49m\u001b[43m,\u001b[49m\n\u001b[1;32m    249\u001b[0m \u001b[43m            \u001b[49m\u001b[43mtimeout\u001b[49m\u001b[38;5;241;43m=\u001b[39;49m\u001b[43mtimeout\u001b[49m\u001b[43m,\u001b[49m\n\u001b[1;32m    250\u001b[0m \u001b[43m            \u001b[49m\u001b[43mheaders\u001b[49m\u001b[38;5;241;43m=\u001b[39;49m\u001b[43mheaders\u001b[49m\u001b[43m,\u001b[49m\n\u001b[1;32m    251\u001b[0m \u001b[43m            \u001b[49m\u001b[43mpreload_content\u001b[49m\u001b[38;5;241;43m=\u001b[39;49m\u001b[38;5;28;43;01mFalse\u001b[39;49;00m\n\u001b[1;32m    252\u001b[0m \u001b[43m        \u001b[49m\u001b[43m)\u001b[49m\n\u001b[1;32m    253\u001b[0m \u001b[38;5;28;01mexcept\u001b[39;00m urllib3\u001b[38;5;241m.\u001b[39mexceptions\u001b[38;5;241m.\u001b[39mSSLError \u001b[38;5;28;01mas\u001b[39;00m e:\n\u001b[1;32m    254\u001b[0m     msg \u001b[38;5;241m=\u001b[39m \u001b[38;5;124m\"\u001b[39m\u001b[38;5;130;01m\\n\u001b[39;00m\u001b[38;5;124m\"\u001b[39m\u001b[38;5;241m.\u001b[39mjoin([\u001b[38;5;28mtype\u001b[39m(e)\u001b[38;5;241m.\u001b[39m\u001b[38;5;18m__name__\u001b[39m, \u001b[38;5;28mstr\u001b[39m(e)])\n",
      "File \u001b[0;32m~/.venv/lib/python3.10/site-packages/urllib3/_request_methods.py:136\u001b[0m, in \u001b[0;36mRequestMethods.request\u001b[0;34m(self, method, url, body, fields, headers, json, **urlopen_kw)\u001b[0m\n\u001b[1;32m    133\u001b[0m     urlopen_kw[\u001b[38;5;124m\"\u001b[39m\u001b[38;5;124mbody\u001b[39m\u001b[38;5;124m\"\u001b[39m] \u001b[38;5;241m=\u001b[39m body\n\u001b[1;32m    135\u001b[0m \u001b[38;5;28;01mif\u001b[39;00m method \u001b[38;5;129;01min\u001b[39;00m \u001b[38;5;28mself\u001b[39m\u001b[38;5;241m.\u001b[39m_encode_url_methods:\n\u001b[0;32m--> 136\u001b[0m     \u001b[38;5;28;01mreturn\u001b[39;00m \u001b[38;5;28;43mself\u001b[39;49m\u001b[38;5;241;43m.\u001b[39;49m\u001b[43mrequest_encode_url\u001b[49m\u001b[43m(\u001b[49m\n\u001b[1;32m    137\u001b[0m \u001b[43m        \u001b[49m\u001b[43mmethod\u001b[49m\u001b[43m,\u001b[49m\n\u001b[1;32m    138\u001b[0m \u001b[43m        \u001b[49m\u001b[43murl\u001b[49m\u001b[43m,\u001b[49m\n\u001b[1;32m    139\u001b[0m \u001b[43m        \u001b[49m\u001b[43mfields\u001b[49m\u001b[38;5;241;43m=\u001b[39;49m\u001b[43mfields\u001b[49m\u001b[43m,\u001b[49m\u001b[43m  \u001b[49m\u001b[38;5;66;43;03m# type: ignore[arg-type]\u001b[39;49;00m\n\u001b[1;32m    140\u001b[0m \u001b[43m        \u001b[49m\u001b[43mheaders\u001b[49m\u001b[38;5;241;43m=\u001b[39;49m\u001b[43mheaders\u001b[49m\u001b[43m,\u001b[49m\n\u001b[1;32m    141\u001b[0m \u001b[43m        \u001b[49m\u001b[38;5;241;43m*\u001b[39;49m\u001b[38;5;241;43m*\u001b[39;49m\u001b[43murlopen_kw\u001b[49m\u001b[43m,\u001b[49m\n\u001b[1;32m    142\u001b[0m \u001b[43m    \u001b[49m\u001b[43m)\u001b[49m\n\u001b[1;32m    143\u001b[0m \u001b[38;5;28;01melse\u001b[39;00m:\n\u001b[1;32m    144\u001b[0m     \u001b[38;5;28;01mreturn\u001b[39;00m \u001b[38;5;28mself\u001b[39m\u001b[38;5;241m.\u001b[39mrequest_encode_body(\n\u001b[1;32m    145\u001b[0m         method, url, fields\u001b[38;5;241m=\u001b[39mfields, headers\u001b[38;5;241m=\u001b[39mheaders, \u001b[38;5;241m*\u001b[39m\u001b[38;5;241m*\u001b[39murlopen_kw\n\u001b[1;32m    146\u001b[0m     )\n",
      "File \u001b[0;32m~/.venv/lib/python3.10/site-packages/urllib3/_request_methods.py:183\u001b[0m, in \u001b[0;36mRequestMethods.request_encode_url\u001b[0;34m(self, method, url, fields, headers, **urlopen_kw)\u001b[0m\n\u001b[1;32m    180\u001b[0m \u001b[38;5;28;01mif\u001b[39;00m fields:\n\u001b[1;32m    181\u001b[0m     url \u001b[38;5;241m+\u001b[39m\u001b[38;5;241m=\u001b[39m \u001b[38;5;124m\"\u001b[39m\u001b[38;5;124m?\u001b[39m\u001b[38;5;124m\"\u001b[39m \u001b[38;5;241m+\u001b[39m urlencode(fields)\n\u001b[0;32m--> 183\u001b[0m \u001b[38;5;28;01mreturn\u001b[39;00m \u001b[38;5;28;43mself\u001b[39;49m\u001b[38;5;241;43m.\u001b[39;49m\u001b[43murlopen\u001b[49m\u001b[43m(\u001b[49m\u001b[43mmethod\u001b[49m\u001b[43m,\u001b[49m\u001b[43m \u001b[49m\u001b[43murl\u001b[49m\u001b[43m,\u001b[49m\u001b[43m \u001b[49m\u001b[38;5;241;43m*\u001b[39;49m\u001b[38;5;241;43m*\u001b[39;49m\u001b[43mextra_kw\u001b[49m\u001b[43m)\u001b[49m\n",
      "File \u001b[0;32m~/.venv/lib/python3.10/site-packages/urllib3/poolmanager.py:443\u001b[0m, in \u001b[0;36mPoolManager.urlopen\u001b[0;34m(self, method, url, redirect, **kw)\u001b[0m\n\u001b[1;32m    441\u001b[0m     response \u001b[38;5;241m=\u001b[39m conn\u001b[38;5;241m.\u001b[39murlopen(method, url, \u001b[38;5;241m*\u001b[39m\u001b[38;5;241m*\u001b[39mkw)\n\u001b[1;32m    442\u001b[0m \u001b[38;5;28;01melse\u001b[39;00m:\n\u001b[0;32m--> 443\u001b[0m     response \u001b[38;5;241m=\u001b[39m \u001b[43mconn\u001b[49m\u001b[38;5;241;43m.\u001b[39;49m\u001b[43murlopen\u001b[49m\u001b[43m(\u001b[49m\u001b[43mmethod\u001b[49m\u001b[43m,\u001b[49m\u001b[43m \u001b[49m\u001b[43mu\u001b[49m\u001b[38;5;241;43m.\u001b[39;49m\u001b[43mrequest_uri\u001b[49m\u001b[43m,\u001b[49m\u001b[43m \u001b[49m\u001b[38;5;241;43m*\u001b[39;49m\u001b[38;5;241;43m*\u001b[39;49m\u001b[43mkw\u001b[49m\u001b[43m)\u001b[49m\n\u001b[1;32m    445\u001b[0m redirect_location \u001b[38;5;241m=\u001b[39m redirect \u001b[38;5;129;01mand\u001b[39;00m response\u001b[38;5;241m.\u001b[39mget_redirect_location()\n\u001b[1;32m    446\u001b[0m \u001b[38;5;28;01mif\u001b[39;00m \u001b[38;5;129;01mnot\u001b[39;00m redirect_location:\n",
      "File \u001b[0;32m~/.venv/lib/python3.10/site-packages/urllib3/connectionpool.py:873\u001b[0m, in \u001b[0;36mHTTPConnectionPool.urlopen\u001b[0;34m(self, method, url, body, headers, retries, redirect, assert_same_host, timeout, pool_timeout, release_conn, chunked, body_pos, preload_content, decode_content, **response_kw)\u001b[0m\n\u001b[1;32m    868\u001b[0m \u001b[38;5;28;01mif\u001b[39;00m \u001b[38;5;129;01mnot\u001b[39;00m conn:\n\u001b[1;32m    869\u001b[0m     \u001b[38;5;66;03m# Try again\u001b[39;00m\n\u001b[1;32m    870\u001b[0m     log\u001b[38;5;241m.\u001b[39mwarning(\n\u001b[1;32m    871\u001b[0m         \u001b[38;5;124m\"\u001b[39m\u001b[38;5;124mRetrying (\u001b[39m\u001b[38;5;132;01m%r\u001b[39;00m\u001b[38;5;124m) after connection broken by \u001b[39m\u001b[38;5;124m'\u001b[39m\u001b[38;5;132;01m%r\u001b[39;00m\u001b[38;5;124m'\u001b[39m\u001b[38;5;124m: \u001b[39m\u001b[38;5;132;01m%s\u001b[39;00m\u001b[38;5;124m\"\u001b[39m, retries, err, url\n\u001b[1;32m    872\u001b[0m     )\n\u001b[0;32m--> 873\u001b[0m     \u001b[38;5;28;01mreturn\u001b[39;00m \u001b[38;5;28;43mself\u001b[39;49m\u001b[38;5;241;43m.\u001b[39;49m\u001b[43murlopen\u001b[49m\u001b[43m(\u001b[49m\n\u001b[1;32m    874\u001b[0m \u001b[43m        \u001b[49m\u001b[43mmethod\u001b[49m\u001b[43m,\u001b[49m\n\u001b[1;32m    875\u001b[0m \u001b[43m        \u001b[49m\u001b[43murl\u001b[49m\u001b[43m,\u001b[49m\n\u001b[1;32m    876\u001b[0m \u001b[43m        \u001b[49m\u001b[43mbody\u001b[49m\u001b[43m,\u001b[49m\n\u001b[1;32m    877\u001b[0m \u001b[43m        \u001b[49m\u001b[43mheaders\u001b[49m\u001b[43m,\u001b[49m\n\u001b[1;32m    878\u001b[0m \u001b[43m        \u001b[49m\u001b[43mretries\u001b[49m\u001b[43m,\u001b[49m\n\u001b[1;32m    879\u001b[0m \u001b[43m        \u001b[49m\u001b[43mredirect\u001b[49m\u001b[43m,\u001b[49m\n\u001b[1;32m    880\u001b[0m \u001b[43m        \u001b[49m\u001b[43massert_same_host\u001b[49m\u001b[43m,\u001b[49m\n\u001b[1;32m    881\u001b[0m \u001b[43m        \u001b[49m\u001b[43mtimeout\u001b[49m\u001b[38;5;241;43m=\u001b[39;49m\u001b[43mtimeout\u001b[49m\u001b[43m,\u001b[49m\n\u001b[1;32m    882\u001b[0m \u001b[43m        \u001b[49m\u001b[43mpool_timeout\u001b[49m\u001b[38;5;241;43m=\u001b[39;49m\u001b[43mpool_timeout\u001b[49m\u001b[43m,\u001b[49m\n\u001b[1;32m    883\u001b[0m \u001b[43m        \u001b[49m\u001b[43mrelease_conn\u001b[49m\u001b[38;5;241;43m=\u001b[39;49m\u001b[43mrelease_conn\u001b[49m\u001b[43m,\u001b[49m\n\u001b[1;32m    884\u001b[0m \u001b[43m        \u001b[49m\u001b[43mchunked\u001b[49m\u001b[38;5;241;43m=\u001b[39;49m\u001b[43mchunked\u001b[49m\u001b[43m,\u001b[49m\n\u001b[1;32m    885\u001b[0m \u001b[43m        \u001b[49m\u001b[43mbody_pos\u001b[49m\u001b[38;5;241;43m=\u001b[39;49m\u001b[43mbody_pos\u001b[49m\u001b[43m,\u001b[49m\n\u001b[1;32m    886\u001b[0m \u001b[43m        \u001b[49m\u001b[43mpreload_content\u001b[49m\u001b[38;5;241;43m=\u001b[39;49m\u001b[43mpreload_content\u001b[49m\u001b[43m,\u001b[49m\n\u001b[1;32m    887\u001b[0m \u001b[43m        \u001b[49m\u001b[43mdecode_content\u001b[49m\u001b[38;5;241;43m=\u001b[39;49m\u001b[43mdecode_content\u001b[49m\u001b[43m,\u001b[49m\n\u001b[1;32m    888\u001b[0m \u001b[43m        \u001b[49m\u001b[38;5;241;43m*\u001b[39;49m\u001b[38;5;241;43m*\u001b[39;49m\u001b[43mresponse_kw\u001b[49m\u001b[43m,\u001b[49m\n\u001b[1;32m    889\u001b[0m \u001b[43m    \u001b[49m\u001b[43m)\u001b[49m\n\u001b[1;32m    891\u001b[0m \u001b[38;5;66;03m# Handle redirect?\u001b[39;00m\n\u001b[1;32m    892\u001b[0m redirect_location \u001b[38;5;241m=\u001b[39m redirect \u001b[38;5;129;01mand\u001b[39;00m response\u001b[38;5;241m.\u001b[39mget_redirect_location()\n",
      "File \u001b[0;32m~/.venv/lib/python3.10/site-packages/urllib3/connectionpool.py:873\u001b[0m, in \u001b[0;36mHTTPConnectionPool.urlopen\u001b[0;34m(self, method, url, body, headers, retries, redirect, assert_same_host, timeout, pool_timeout, release_conn, chunked, body_pos, preload_content, decode_content, **response_kw)\u001b[0m\n\u001b[1;32m    868\u001b[0m \u001b[38;5;28;01mif\u001b[39;00m \u001b[38;5;129;01mnot\u001b[39;00m conn:\n\u001b[1;32m    869\u001b[0m     \u001b[38;5;66;03m# Try again\u001b[39;00m\n\u001b[1;32m    870\u001b[0m     log\u001b[38;5;241m.\u001b[39mwarning(\n\u001b[1;32m    871\u001b[0m         \u001b[38;5;124m\"\u001b[39m\u001b[38;5;124mRetrying (\u001b[39m\u001b[38;5;132;01m%r\u001b[39;00m\u001b[38;5;124m) after connection broken by \u001b[39m\u001b[38;5;124m'\u001b[39m\u001b[38;5;132;01m%r\u001b[39;00m\u001b[38;5;124m'\u001b[39m\u001b[38;5;124m: \u001b[39m\u001b[38;5;132;01m%s\u001b[39;00m\u001b[38;5;124m\"\u001b[39m, retries, err, url\n\u001b[1;32m    872\u001b[0m     )\n\u001b[0;32m--> 873\u001b[0m     \u001b[38;5;28;01mreturn\u001b[39;00m \u001b[38;5;28;43mself\u001b[39;49m\u001b[38;5;241;43m.\u001b[39;49m\u001b[43murlopen\u001b[49m\u001b[43m(\u001b[49m\n\u001b[1;32m    874\u001b[0m \u001b[43m        \u001b[49m\u001b[43mmethod\u001b[49m\u001b[43m,\u001b[49m\n\u001b[1;32m    875\u001b[0m \u001b[43m        \u001b[49m\u001b[43murl\u001b[49m\u001b[43m,\u001b[49m\n\u001b[1;32m    876\u001b[0m \u001b[43m        \u001b[49m\u001b[43mbody\u001b[49m\u001b[43m,\u001b[49m\n\u001b[1;32m    877\u001b[0m \u001b[43m        \u001b[49m\u001b[43mheaders\u001b[49m\u001b[43m,\u001b[49m\n\u001b[1;32m    878\u001b[0m \u001b[43m        \u001b[49m\u001b[43mretries\u001b[49m\u001b[43m,\u001b[49m\n\u001b[1;32m    879\u001b[0m \u001b[43m        \u001b[49m\u001b[43mredirect\u001b[49m\u001b[43m,\u001b[49m\n\u001b[1;32m    880\u001b[0m \u001b[43m        \u001b[49m\u001b[43massert_same_host\u001b[49m\u001b[43m,\u001b[49m\n\u001b[1;32m    881\u001b[0m \u001b[43m        \u001b[49m\u001b[43mtimeout\u001b[49m\u001b[38;5;241;43m=\u001b[39;49m\u001b[43mtimeout\u001b[49m\u001b[43m,\u001b[49m\n\u001b[1;32m    882\u001b[0m \u001b[43m        \u001b[49m\u001b[43mpool_timeout\u001b[49m\u001b[38;5;241;43m=\u001b[39;49m\u001b[43mpool_timeout\u001b[49m\u001b[43m,\u001b[49m\n\u001b[1;32m    883\u001b[0m \u001b[43m        \u001b[49m\u001b[43mrelease_conn\u001b[49m\u001b[38;5;241;43m=\u001b[39;49m\u001b[43mrelease_conn\u001b[49m\u001b[43m,\u001b[49m\n\u001b[1;32m    884\u001b[0m \u001b[43m        \u001b[49m\u001b[43mchunked\u001b[49m\u001b[38;5;241;43m=\u001b[39;49m\u001b[43mchunked\u001b[49m\u001b[43m,\u001b[49m\n\u001b[1;32m    885\u001b[0m \u001b[43m        \u001b[49m\u001b[43mbody_pos\u001b[49m\u001b[38;5;241;43m=\u001b[39;49m\u001b[43mbody_pos\u001b[49m\u001b[43m,\u001b[49m\n\u001b[1;32m    886\u001b[0m \u001b[43m        \u001b[49m\u001b[43mpreload_content\u001b[49m\u001b[38;5;241;43m=\u001b[39;49m\u001b[43mpreload_content\u001b[49m\u001b[43m,\u001b[49m\n\u001b[1;32m    887\u001b[0m \u001b[43m        \u001b[49m\u001b[43mdecode_content\u001b[49m\u001b[38;5;241;43m=\u001b[39;49m\u001b[43mdecode_content\u001b[49m\u001b[43m,\u001b[49m\n\u001b[1;32m    888\u001b[0m \u001b[43m        \u001b[49m\u001b[38;5;241;43m*\u001b[39;49m\u001b[38;5;241;43m*\u001b[39;49m\u001b[43mresponse_kw\u001b[49m\u001b[43m,\u001b[49m\n\u001b[1;32m    889\u001b[0m \u001b[43m    \u001b[49m\u001b[43m)\u001b[49m\n\u001b[1;32m    891\u001b[0m \u001b[38;5;66;03m# Handle redirect?\u001b[39;00m\n\u001b[1;32m    892\u001b[0m redirect_location \u001b[38;5;241m=\u001b[39m redirect \u001b[38;5;129;01mand\u001b[39;00m response\u001b[38;5;241m.\u001b[39mget_redirect_location()\n",
      "File \u001b[0;32m~/.venv/lib/python3.10/site-packages/urllib3/connectionpool.py:873\u001b[0m, in \u001b[0;36mHTTPConnectionPool.urlopen\u001b[0;34m(self, method, url, body, headers, retries, redirect, assert_same_host, timeout, pool_timeout, release_conn, chunked, body_pos, preload_content, decode_content, **response_kw)\u001b[0m\n\u001b[1;32m    868\u001b[0m \u001b[38;5;28;01mif\u001b[39;00m \u001b[38;5;129;01mnot\u001b[39;00m conn:\n\u001b[1;32m    869\u001b[0m     \u001b[38;5;66;03m# Try again\u001b[39;00m\n\u001b[1;32m    870\u001b[0m     log\u001b[38;5;241m.\u001b[39mwarning(\n\u001b[1;32m    871\u001b[0m         \u001b[38;5;124m\"\u001b[39m\u001b[38;5;124mRetrying (\u001b[39m\u001b[38;5;132;01m%r\u001b[39;00m\u001b[38;5;124m) after connection broken by \u001b[39m\u001b[38;5;124m'\u001b[39m\u001b[38;5;132;01m%r\u001b[39;00m\u001b[38;5;124m'\u001b[39m\u001b[38;5;124m: \u001b[39m\u001b[38;5;132;01m%s\u001b[39;00m\u001b[38;5;124m\"\u001b[39m, retries, err, url\n\u001b[1;32m    872\u001b[0m     )\n\u001b[0;32m--> 873\u001b[0m     \u001b[38;5;28;01mreturn\u001b[39;00m \u001b[38;5;28;43mself\u001b[39;49m\u001b[38;5;241;43m.\u001b[39;49m\u001b[43murlopen\u001b[49m\u001b[43m(\u001b[49m\n\u001b[1;32m    874\u001b[0m \u001b[43m        \u001b[49m\u001b[43mmethod\u001b[49m\u001b[43m,\u001b[49m\n\u001b[1;32m    875\u001b[0m \u001b[43m        \u001b[49m\u001b[43murl\u001b[49m\u001b[43m,\u001b[49m\n\u001b[1;32m    876\u001b[0m \u001b[43m        \u001b[49m\u001b[43mbody\u001b[49m\u001b[43m,\u001b[49m\n\u001b[1;32m    877\u001b[0m \u001b[43m        \u001b[49m\u001b[43mheaders\u001b[49m\u001b[43m,\u001b[49m\n\u001b[1;32m    878\u001b[0m \u001b[43m        \u001b[49m\u001b[43mretries\u001b[49m\u001b[43m,\u001b[49m\n\u001b[1;32m    879\u001b[0m \u001b[43m        \u001b[49m\u001b[43mredirect\u001b[49m\u001b[43m,\u001b[49m\n\u001b[1;32m    880\u001b[0m \u001b[43m        \u001b[49m\u001b[43massert_same_host\u001b[49m\u001b[43m,\u001b[49m\n\u001b[1;32m    881\u001b[0m \u001b[43m        \u001b[49m\u001b[43mtimeout\u001b[49m\u001b[38;5;241;43m=\u001b[39;49m\u001b[43mtimeout\u001b[49m\u001b[43m,\u001b[49m\n\u001b[1;32m    882\u001b[0m \u001b[43m        \u001b[49m\u001b[43mpool_timeout\u001b[49m\u001b[38;5;241;43m=\u001b[39;49m\u001b[43mpool_timeout\u001b[49m\u001b[43m,\u001b[49m\n\u001b[1;32m    883\u001b[0m \u001b[43m        \u001b[49m\u001b[43mrelease_conn\u001b[49m\u001b[38;5;241;43m=\u001b[39;49m\u001b[43mrelease_conn\u001b[49m\u001b[43m,\u001b[49m\n\u001b[1;32m    884\u001b[0m \u001b[43m        \u001b[49m\u001b[43mchunked\u001b[49m\u001b[38;5;241;43m=\u001b[39;49m\u001b[43mchunked\u001b[49m\u001b[43m,\u001b[49m\n\u001b[1;32m    885\u001b[0m \u001b[43m        \u001b[49m\u001b[43mbody_pos\u001b[49m\u001b[38;5;241;43m=\u001b[39;49m\u001b[43mbody_pos\u001b[49m\u001b[43m,\u001b[49m\n\u001b[1;32m    886\u001b[0m \u001b[43m        \u001b[49m\u001b[43mpreload_content\u001b[49m\u001b[38;5;241;43m=\u001b[39;49m\u001b[43mpreload_content\u001b[49m\u001b[43m,\u001b[49m\n\u001b[1;32m    887\u001b[0m \u001b[43m        \u001b[49m\u001b[43mdecode_content\u001b[49m\u001b[38;5;241;43m=\u001b[39;49m\u001b[43mdecode_content\u001b[49m\u001b[43m,\u001b[49m\n\u001b[1;32m    888\u001b[0m \u001b[43m        \u001b[49m\u001b[38;5;241;43m*\u001b[39;49m\u001b[38;5;241;43m*\u001b[39;49m\u001b[43mresponse_kw\u001b[49m\u001b[43m,\u001b[49m\n\u001b[1;32m    889\u001b[0m \u001b[43m    \u001b[49m\u001b[43m)\u001b[49m\n\u001b[1;32m    891\u001b[0m \u001b[38;5;66;03m# Handle redirect?\u001b[39;00m\n\u001b[1;32m    892\u001b[0m redirect_location \u001b[38;5;241m=\u001b[39m redirect \u001b[38;5;129;01mand\u001b[39;00m response\u001b[38;5;241m.\u001b[39mget_redirect_location()\n",
      "File \u001b[0;32m~/.venv/lib/python3.10/site-packages/urllib3/connectionpool.py:843\u001b[0m, in \u001b[0;36mHTTPConnectionPool.urlopen\u001b[0;34m(self, method, url, body, headers, retries, redirect, assert_same_host, timeout, pool_timeout, release_conn, chunked, body_pos, preload_content, decode_content, **response_kw)\u001b[0m\n\u001b[1;32m    840\u001b[0m \u001b[38;5;28;01melif\u001b[39;00m \u001b[38;5;28misinstance\u001b[39m(new_e, (\u001b[38;5;167;01mOSError\u001b[39;00m, HTTPException)):\n\u001b[1;32m    841\u001b[0m     new_e \u001b[38;5;241m=\u001b[39m ProtocolError(\u001b[38;5;124m\"\u001b[39m\u001b[38;5;124mConnection aborted.\u001b[39m\u001b[38;5;124m\"\u001b[39m, new_e)\n\u001b[0;32m--> 843\u001b[0m retries \u001b[38;5;241m=\u001b[39m \u001b[43mretries\u001b[49m\u001b[38;5;241;43m.\u001b[39;49m\u001b[43mincrement\u001b[49m\u001b[43m(\u001b[49m\n\u001b[1;32m    844\u001b[0m \u001b[43m    \u001b[49m\u001b[43mmethod\u001b[49m\u001b[43m,\u001b[49m\u001b[43m \u001b[49m\u001b[43murl\u001b[49m\u001b[43m,\u001b[49m\u001b[43m \u001b[49m\u001b[43merror\u001b[49m\u001b[38;5;241;43m=\u001b[39;49m\u001b[43mnew_e\u001b[49m\u001b[43m,\u001b[49m\u001b[43m \u001b[49m\u001b[43m_pool\u001b[49m\u001b[38;5;241;43m=\u001b[39;49m\u001b[38;5;28;43mself\u001b[39;49m\u001b[43m,\u001b[49m\u001b[43m \u001b[49m\u001b[43m_stacktrace\u001b[49m\u001b[38;5;241;43m=\u001b[39;49m\u001b[43msys\u001b[49m\u001b[38;5;241;43m.\u001b[39;49m\u001b[43mexc_info\u001b[49m\u001b[43m(\u001b[49m\u001b[43m)\u001b[49m\u001b[43m[\u001b[49m\u001b[38;5;241;43m2\u001b[39;49m\u001b[43m]\u001b[49m\n\u001b[1;32m    845\u001b[0m \u001b[43m\u001b[49m\u001b[43m)\u001b[49m\n\u001b[1;32m    846\u001b[0m retries\u001b[38;5;241m.\u001b[39msleep()\n\u001b[1;32m    848\u001b[0m \u001b[38;5;66;03m# Keep track of the error for the retry warning.\u001b[39;00m\n",
      "File \u001b[0;32m~/.venv/lib/python3.10/site-packages/urllib3/util/retry.py:519\u001b[0m, in \u001b[0;36mRetry.increment\u001b[0;34m(self, method, url, response, error, _pool, _stacktrace)\u001b[0m\n\u001b[1;32m    517\u001b[0m \u001b[38;5;28;01mif\u001b[39;00m new_retry\u001b[38;5;241m.\u001b[39mis_exhausted():\n\u001b[1;32m    518\u001b[0m     reason \u001b[38;5;241m=\u001b[39m error \u001b[38;5;129;01mor\u001b[39;00m ResponseError(cause)\n\u001b[0;32m--> 519\u001b[0m     \u001b[38;5;28;01mraise\u001b[39;00m MaxRetryError(_pool, url, reason) \u001b[38;5;28;01mfrom\u001b[39;00m \u001b[38;5;21;01mreason\u001b[39;00m  \u001b[38;5;66;03m# type: ignore[arg-type]\u001b[39;00m\n\u001b[1;32m    521\u001b[0m log\u001b[38;5;241m.\u001b[39mdebug(\u001b[38;5;124m\"\u001b[39m\u001b[38;5;124mIncremented Retry for (url=\u001b[39m\u001b[38;5;124m'\u001b[39m\u001b[38;5;132;01m%s\u001b[39;00m\u001b[38;5;124m'\u001b[39m\u001b[38;5;124m): \u001b[39m\u001b[38;5;132;01m%r\u001b[39;00m\u001b[38;5;124m\"\u001b[39m, url, new_retry)\n\u001b[1;32m    523\u001b[0m \u001b[38;5;28;01mreturn\u001b[39;00m new_retry\n",
      "\u001b[0;31mMaxRetryError\u001b[0m: HTTPConnectionPool(host='config-inspector.staging.svc.miditf.internal.skao.int', port=8765): Max retries exceeded with url: / (Caused by NameResolutionError(\"<urllib3.connection.HTTPConnection object at 0x7fffe0060fa0>: Failed to resolve 'config-inspector.staging.svc.miditf.internal.skao.int' ([Errno -2] Name or service not known)\"))"
     ]
    }
   ],
   "source": [
    "import sys\n",
    "\n",
    "from ska_mid_jupyter_notebooks.helpers.path import project_root\n",
    "\n",
    "sys.path.append(\"../../src\")\n",
    "import pathlib\n",
    "from ska_mid_jupyter_notebooks.cluster.cluster import Environment, TangoDeployment\n",
    "from ska_mid_jupyter_notebooks.dish.dish import TangoDishDeployment\n",
    "from ska_mid_jupyter_notebooks.test_equipment.test_equipment import TangoTestEquipment\n",
    "from typing import List\n",
    "from ska_mid_jupyter_notebooks.sut.sut import TangoSUTDeployment, disable_qa\n",
    "\n",
    "test_equipment = TangoTestEquipment()\n",
    "dish_deployments: List[TangoDishDeployment] = []\n",
    "dishlmc_enabled = True\n",
    "dish_ids = [\"001\", \"036\"]\n",
    "branch_name = sut_taranta_devices_url\n",
    "executon_environment = Environment.Staging\n",
    "sut_namespace_override = \"\"\n",
    "subarray_id = 1\n",
    "sut = TangoSUTDeployment(\n",
    "    branch_name,\n",
    "    executon_environment,\n",
    "    namespace_override=sut_namespace_override,\n",
    "    subarray_index=subarray_id,\n",
    ")\n",
    "dish_namespace_overrides = [\"\", \"\"]\n",
    "if dishlmc_enabled:\n",
    "    for i, d in enumerate(dish_ids):\n",
    "        dish = TangoDishDeployment(\n",
    "            f\"ska{d}\",\n",
    "            branch_name=branch_name,\n",
    "            environment=executon_environment,\n",
    "            namespace_override=dish_namespace_overrides[i],\n",
    "        )\n",
    "        print(f\"Dish {d} configured: {dish}\")\n",
    "        dish_deployments.append(dish)\n",
    "deployment: TangoDeployment\n",
    "timestr = strftime(\"%Y%m%d-%H%M\")\n",
    "notebook_output_dir = pathlib.Path(\n",
    "    project_root(),\n",
    "    f\"notebook-execution-data/configure_scan_for_commissioning/execution-{timestr}\",\n",
    ")\n",
    "os.makedirs(notebook_output_dir, exist_ok=True)\n",
    "for deployment in [sut, test_equipment, *dish_deployments]:\n",
    "    deployment.export_chart_configuration(output_dir=notebook_output_dir)"
   ]
  },
  {
   "cell_type": "markdown",
   "metadata": {},
   "source": [
    "### Load the Dish Vcc Config / Init Sys Params\n",
    "#### [TMC Monitoring Taranta Dashboard](https://k8s.miditf.internal.skao.int/staging/taranta/dashboard?id=65dc5298b20f1600120e7a85&mode=run)\n",
    "If `Dish VCC Config Set?` on the CentralNode is not `true`, run this cell."
   ]
  },
  {
   "cell_type": "code",
   "execution_count": 4,
   "metadata": {},
   "outputs": [
    {
     "name": "stdout",
     "output_type": "stream",
     "text": [
      "dish_config_json file contents: \n",
      "{'interface': 'https://schema.skao.int/ska-mid-cbf-initsysparam/1.0', 'tm_data_sources': ['car://gitlab.com/ska-telescope/ska-telmodel-data?0.1.0-rc-mid-itf#tmdata'], 'tm_data_filepath': 'instrument/ska1_mid_itf/ska-mid-cbf-system-parameters.json'}\n",
      "Device ska_mid/tm_central/central_node attribute isDishVccConfigSet changed to the following desired value: True\n",
      "Start time: 09:55:42\n",
      "End time: 09:55:49\n",
      "Dish VCC config has been set\n"
     ]
    }
   ],
   "source": [
    "t_start = datetime.datetime.now()\n",
    "with open(DISH_CONFIG_FILE, encoding=\"utf-8\") as f:\n",
    "    dish_config_json = json.load(f)\n",
    "\n",
    "dish_config_json[\"tm_data_sources\"][\n",
    "    0\n",
    "] = \"car://gitlab.com/ska-telescope/ska-telmodel-data?0.1.0-rc-mid-itf#tmdata\"\n",
    "dish_config_json[\"tm_data_filepath\"] = (\n",
    "    \"instrument/ska1_mid_itf/ska-mid-cbf-system-parameters.json\"\n",
    ")\n",
    "\n",
    "print(f\"dish_config_json file contents: \\n{dish_config_json}\")\n",
    "tmc_central_node.LoadDishCfg(json.dumps(dish_config_json))\n",
    "wait_for_event(\n",
    "    tmc_central_node,\n",
    "    \"isDishVccConfigSet\",\n",
    "    True,\n",
    ")\n",
    "\n",
    "t_end = datetime.datetime.now()\n",
    "print(f\"Start time: {t_start.strftime('%H:%M:%S')}\\nEnd time: {t_end.strftime('%H:%M:%S')}\")\n",
    "\n",
    "print(\"Dish VCC config has been set\")\n"
   ]
  },
  {
   "cell_type": "markdown",
   "metadata": {},
   "source": [
    "#### Checking Config\n",
    "If all `k` values are set to 1 (ITF specific test scenario), we are good to go - run this cell to check."
   ]
  },
  {
   "cell_type": "code",
   "execution_count": 5,
   "metadata": {},
   "outputs": [
    {
     "name": "stdout",
     "output_type": "stream",
     "text": [
      "TMC CSP Master's Dish Vcc Config attribute value: \n",
      "{\"interface\": \"https://schema.skao.int/ska-mid-cbf-initsysparam/1.0\", \"dish_parameters\": {\"SKA001\": {\"vcc\": 1, \"k\": 1}, \"SKA036\": {\"vcc\": 2, \"k\": 1}, \"SKA063\": {\"vcc\": 3, \"k\": 1}, \"SKA100\": {\"vcc\": 4, \"k\": 1}}}\n",
      "\n",
      "TMC CSP Master's Source Dish Vcc Config attribute value: \n",
      "{\"interface\": \"https://schema.skao.int/ska-mid-cbf-initsysparam/1.0\", \"tm_data_sources\": [\"car://gitlab.com/ska-telescope/ska-telmodel-data?0.1.0-rc-mid-itf#tmdata\"], \"tm_data_filepath\": \"instrument/ska1_mid_itf/ska-mid-cbf-system-parameters.json\"}\n"
     ]
    }
   ],
   "source": [
    "print(\n",
    "    f\"TMC CSP Master's Dish Vcc Config attribute value: \\n{tmc_csp_master.dishVccConfig}\"\n",
    ")\n",
    "print(\n",
    "    f\"\\nTMC CSP Master's Source Dish Vcc Config attribute value: \\n{tmc_csp_master.sourceDishVccConfig}\"\n",
    ")"
   ]
  },
  {
   "cell_type": "markdown",
   "metadata": {},
   "source": [
    "~~#### Side-step the hackery~~\n",
    "~~This step was introduced after the Dark Night rose again. Pipelines were broken and we accidentally did not keep our `pyproject.toml` file in lock-step with the Engineering Tools repo. Thanks @AJ!~~"
   ]
  },
  {
   "cell_type": "code",
   "execution_count": 6,
   "metadata": {},
   "outputs": [],
   "source": [
    "# ec_deployer = DeviceProxy(\"mid_csp_cbf/ec/deployer\")"
   ]
  },
  {
   "cell_type": "code",
   "execution_count": 7,
   "metadata": {},
   "outputs": [],
   "source": [
    "# # Run only if suspecting that something went seriously sideways with the deployment\n",
    "# ec_deployer.targetTalons = [1, 2, 3, 4]\n",
    "# ec_deployer.generate_config_jsons()\n",
    "# ec_deployer.set_timeout_millis(600000)\n",
    "# ec_deployer.download_artifacts()\n",
    "# ec_deployer.configure_db()\n",
    "# ec_deployer.set_timeout_millis(3000)"
   ]
  },
  {
   "cell_type": "markdown",
   "metadata": {},
   "source": []
  },
  {
   "cell_type": "markdown",
   "metadata": {},
   "source": [
    "### Turn the Telescope On\n",
    "Known issues:\n",
    "When turning on Telescope, talon DDR memory calibration can fail. An indicator of this is `mid_csp_cbf/fspcoorrsubarray` attribute `obsState` being equal to `FAULT`. To adress this:\n",
    "* Manually power cycle the PDUs to the talon boards - flip outlets 12,13,17,18 on PDU.\n",
    "* Run `SetStandbyLPMode()` on both `DishLeafnode`s (see Contingencies)\n",
    "* Rerun of the Telescope ON command."
   ]
  },
  {
   "cell_type": "code",
   "execution_count": 6,
   "metadata": {},
   "outputs": [
    {
     "name": "stdout",
     "output_type": "stream",
     "text": [
      "Running the TelescopeOn command\n",
      "Device ska_mid/tm_central/central_node attribute telescopeState changed to the following desired value: ON\n",
      "Start time: 09:57:51\n",
      "End time: 09:59:13\n",
      "YAY Telescope is ON\n"
     ]
    }
   ],
   "source": [
    "t_start = datetime.datetime.now()\n",
    "assert cbf_fspcorrsubarray.obsstate == 2\n",
    "\n",
    "print(\"Running the TelescopeOn command\")\n",
    "\n",
    "tmc_central_node.TelescopeOn()\n",
    "wait_for_event(tmc_central_node, \"telescopeState\", DevState.ON)\n",
    "\n",
    "t_end = datetime.datetime.now()\n",
    "print(f\"Start time: {t_start.strftime('%H:%M:%S')}\\nEnd time: {t_end.strftime('%H:%M:%S')}\")\n",
    "\n",
    "print(\"YAY Telescope is ON\")"
   ]
  },
  {
   "cell_type": "code",
   "execution_count": 7,
   "metadata": {},
   "outputs": [
    {
     "name": "stdout",
     "output_type": "stream",
     "text": [
      "Verifying the states:\n",
      "  TMC Central Node State:  ON\n",
      "  CSP Control State:  ON\n",
      "  CBF Controller State:  ON\n",
      "  TMC Subarray State:  ON\n"
     ]
    }
   ],
   "source": [
    "print(\"Verifying the states:\")\n",
    "print(\"  TMC Central Node State: \", tmc_central_node.State())\n",
    "print(\"  CSP Control State: \", csp_control.State())\n",
    "print(\"  CBF Controller State: \", cbf_controller.State())\n",
    "print(\"  TMC Subarray State: \", tmc_subarray.State())"
   ]
  },
  {
   "cell_type": "markdown",
   "metadata": {},
   "source": [
    "### Assign Resources\n",
    "Check that that the `proc-pb-...-XXXXXX-YYYYYY-vis-receive-KK-J` pods comes up in the staging-sdp namespace once this step completes successfully.\n",
    "\n",
    "> **Known issue**: Sometimes the call to `sdp_subarray.state()` fails for some reason. Just rerun this command."
   ]
  },
  {
   "cell_type": "code",
   "execution_count": 8,
   "metadata": {},
   "outputs": [
    {
     "name": "stdout",
     "output_type": "stream",
     "text": [
      "SDP Subarray state: ON\n",
      "Running the AssignResources command: subarray obsstate should go to Idle and receptor IDs should be assigned\n"
     ]
    },
    {
     "ename": "KeyError",
     "evalue": "'queue_connector_configuration'",
     "output_type": "error",
     "traceback": [
      "\u001b[0;31m---------------------------------------------------------------------------\u001b[0m",
      "\u001b[0;31mKeyError\u001b[0m                                  Traceback (most recent call last)",
      "Cell \u001b[0;32mIn[8], line 22\u001b[0m\n\u001b[1;32m     20\u001b[0m assign_resources_json[\u001b[38;5;124m\"\u001b[39m\u001b[38;5;124mdish\u001b[39m\u001b[38;5;124m\"\u001b[39m][\u001b[38;5;124m\"\u001b[39m\u001b[38;5;124mreceptor_ids\u001b[39m\u001b[38;5;124m\"\u001b[39m] \u001b[38;5;241m=\u001b[39m RECEPTORS\n\u001b[1;32m     21\u001b[0m assign_resources_json[\u001b[38;5;124m\"\u001b[39m\u001b[38;5;124msdp\u001b[39m\u001b[38;5;124m\"\u001b[39m][\u001b[38;5;124m\"\u001b[39m\u001b[38;5;124mresources\u001b[39m\u001b[38;5;124m\"\u001b[39m][\u001b[38;5;124m\"\u001b[39m\u001b[38;5;124mreceptors\u001b[39m\u001b[38;5;124m\"\u001b[39m] \u001b[38;5;241m=\u001b[39m RECEPTORS\n\u001b[0;32m---> 22\u001b[0m \u001b[43massign_resources_json\u001b[49m\u001b[43m[\u001b[49m\u001b[38;5;124;43m\"\u001b[39;49m\u001b[38;5;124;43msdp\u001b[39;49m\u001b[38;5;124;43m\"\u001b[39;49m\u001b[43m]\u001b[49m\u001b[43m[\u001b[49m\u001b[38;5;124;43m\"\u001b[39;49m\u001b[38;5;124;43mprocessing_blocks\u001b[39;49m\u001b[38;5;124;43m\"\u001b[39;49m\u001b[43m]\u001b[49m\u001b[43m[\u001b[49m\u001b[38;5;241;43m0\u001b[39;49m\u001b[43m]\u001b[49m\u001b[43m[\u001b[49m\u001b[38;5;124;43m\"\u001b[39;49m\u001b[38;5;124;43mparameters\u001b[39;49m\u001b[38;5;124;43m\"\u001b[39;49m\u001b[43m]\u001b[49m\u001b[43m[\u001b[49m\n\u001b[1;32m     23\u001b[0m \u001b[43m    \u001b[49m\u001b[38;5;124;43m\"\u001b[39;49m\u001b[38;5;124;43mqueue_connector_configuration\u001b[39;49m\u001b[38;5;124;43m\"\u001b[39;49m\n\u001b[1;32m     24\u001b[0m \u001b[43m\u001b[49m\u001b[43m]\u001b[49m[\u001b[38;5;124m\"\u001b[39m\u001b[38;5;124mexchanges\u001b[39m\u001b[38;5;124m\"\u001b[39m][\u001b[38;5;241m0\u001b[39m][\u001b[38;5;124m\"\u001b[39m\u001b[38;5;124msource\u001b[39m\u001b[38;5;124m\"\u001b[39m][\u001b[38;5;124m\"\u001b[39m\u001b[38;5;124mservers\u001b[39m\u001b[38;5;124m\"\u001b[39m] \u001b[38;5;241m=\u001b[39m KAFKA_ENDPOINT\n\u001b[1;32m     25\u001b[0m assign_resources_json[\u001b[38;5;124m\"\u001b[39m\u001b[38;5;124msdp\u001b[39m\u001b[38;5;124m\"\u001b[39m][\u001b[38;5;124m\"\u001b[39m\u001b[38;5;124mprocessing_blocks\u001b[39m\u001b[38;5;124m\"\u001b[39m][\u001b[38;5;241m0\u001b[39m][\u001b[38;5;124m\"\u001b[39m\u001b[38;5;124mparameters\u001b[39m\u001b[38;5;124m\"\u001b[39m][\n\u001b[1;32m     26\u001b[0m     \u001b[38;5;124m\"\u001b[39m\u001b[38;5;124mextra_helm_values\u001b[39m\u001b[38;5;124m\"\u001b[39m\n\u001b[1;32m     27\u001b[0m ][\u001b[38;5;124m\"\u001b[39m\u001b[38;5;124mreceiver\u001b[39m\u001b[38;5;124m\"\u001b[39m][\u001b[38;5;124m\"\u001b[39m\u001b[38;5;124moptions\u001b[39m\u001b[38;5;124m\"\u001b[39m][\u001b[38;5;124m\"\u001b[39m\u001b[38;5;124mreception\u001b[39m\u001b[38;5;124m\"\u001b[39m][\n\u001b[1;32m     28\u001b[0m     \u001b[38;5;124m\"\u001b[39m\u001b[38;5;124mstats_receiver_kafka_config\u001b[39m\u001b[38;5;124m\"\u001b[39m\n\u001b[1;32m     29\u001b[0m ] \u001b[38;5;241m=\u001b[39m \u001b[38;5;124mf\u001b[39m\u001b[38;5;124m\"\u001b[39m\u001b[38;5;132;01m{\u001b[39;00mKAFKA_ENDPOINT\u001b[38;5;132;01m}\u001b[39;00m\u001b[38;5;124m:json_workflow_state\u001b[39m\u001b[38;5;124m\"\u001b[39m\n\u001b[1;32m     30\u001b[0m assign_resources_json[\u001b[38;5;124m\"\u001b[39m\u001b[38;5;124msdp\u001b[39m\u001b[38;5;124m\"\u001b[39m][\u001b[38;5;124m\"\u001b[39m\u001b[38;5;124mexecution_block\u001b[39m\u001b[38;5;124m\"\u001b[39m][\u001b[38;5;124m\"\u001b[39m\u001b[38;5;124meb_id\u001b[39m\u001b[38;5;124m\"\u001b[39m] \u001b[38;5;241m=\u001b[39m eb_id\n",
      "\u001b[0;31mKeyError\u001b[0m: 'queue_connector_configuration'"
     ]
    }
   ],
   "source": [
    "t_start = datetime.datetime.now()\n",
    "\n",
    "f_limits = get_band_frequency_limits(SCAN_BAND)\n",
    "\n",
    "os.environ[\"TZ\"] = \"Africa/Johannesburg\"\n",
    "time_now = localtime()\n",
    "date = strftime(\"%Y%m%d\", time_now)\n",
    "time_now = strftime(\"%H%M%S\", time_now)\n",
    "eb_id = f\"eb-test-{date}-{time_now}\"\n",
    "pb_id = f\"pb-test-{date}-{time_now}\"\n",
    "\n",
    "print(f\"SDP Subarray state: {sdp_subarray.state()}\")\n",
    "\n",
    "print(\n",
    "    \"Running the AssignResources command: subarray obsstate should go to Idle and receptor IDs should be assigned\"\n",
    ")\n",
    "\n",
    "with open(ASSIGN_RESOURCES_FILE, encoding=\"utf-8\") as f:\n",
    "    assign_resources_json = json.load(f)\n",
    "    assign_resources_json[\"dish\"][\"receptor_ids\"] = RECEPTORS\n",
    "    assign_resources_json[\"sdp\"][\"resources\"][\"receptors\"] = RECEPTORS\n",
    "    assign_resources_json[\"sdp\"][\"execution_block\"][\"eb_id\"] = eb_id\n",
    "    assign_resources_json[\"sdp\"][\"processing_blocks\"][0][\"pb_id\"] = pb_id\n",
    "    assign_resources_json[\"sdp\"][\"execution_block\"][\"channels\"][0][\"spectral_windows\"][0][\"freq_min\"] = f_limits[\"freq_min\"]\n",
    "    assign_resources_json[\"sdp\"][\"execution_block\"][\"channels\"][0][\"spectral_windows\"][0][\"freq_max\"] = f_limits[\"freq_max\"]\n",
    "\n",
    "print(f\"PB ID: {pb_id}, EB ID: {eb_id}\")\n",
    "print(f\"\\nassign_resources_json file contents: \\n{assign_resources_json}\")\n",
    "\n",
    "tmc_subarray.AssignResources(json.dumps(assign_resources_json))\n",
    "\n",
    "wait_for_event(cbf_subarray, \"obsState\", ObsState.IDLE)\n",
    "wait_for_event(sdp_subarray_leaf_node, \"sdpSubarrayObsState\", ObsState.IDLE)\n",
    "wait_for_event(csp_subarray_leaf_node, \"cspSubarrayObsState\", ObsState.IDLE)\n",
    "wait_for_event(tmc_subarray, \"obsState\", ObsState.IDLE)\n",
    "\n",
    "t_end = datetime.datetime.now()\n",
    "print(f\"Start time: {t_start.strftime('%H:%M:%S')}\\nEnd time: {t_end.strftime('%H:%M:%S')}\")\n",
    "\n",
    "print(\"Ready to configure scan\")"
   ]
  },
  {
   "cell_type": "markdown",
   "metadata": {},
   "source": [
    "### Check Vis-Receive pod status: Temporary step, to be removed"
   ]
  },
  {
   "cell_type": "code",
   "execution_count": null,
   "metadata": {},
   "outputs": [],
   "source": [
    "from ska_mid_jupyter_notebooks.cluster.cluster import get_pod_info\n",
    "\n",
    "pod_running = False\n",
    "wait_period = 10\n",
    "t1 = time()\n",
    "while ((time() - t1) < wait_period):\n",
    "    pod_info = get_pod_info(SDP_NAMESPACE, \"vis-receive\", \"status\")\n",
    "    if pod_info:\n",
    "        print(pod_info)\n",
    "        if any([value == \"Running\" for value in pod_info.values()]):\n",
    "            print(\"vis-receive pod running\")\n",
    "            pod_running = True\n",
    "            break\n",
    "    sleep(1)\n",
    "\n",
    "if not pod_running:\n",
    "    raise Exception(\"Vis-receive pod not yet running\")"
   ]
  },
  {
   "cell_type": "markdown",
   "metadata": {},
   "source": [
    "### Optional: Check obstates IDLE"
   ]
  },
  {
   "cell_type": "code",
   "execution_count": null,
   "metadata": {},
   "outputs": [],
   "source": [
    "print(f\"Long running command result: {tmc_subarray.longRunningCommandResult}\")\n",
    "print(f\"CBF Subarray Receptors : {cbf_subarray.receptors}\")\n",
    "\n",
    "assert (\n",
    "    (tmc_subarray.obsState == 2)\n",
    "    and (sdp_subarray_leaf_node.sdpSubarrayObsState == 2)\n",
    "    and (csp_subarray_leaf_node.cspSubarrayObsState == 2)\n",
    "    and (cbf_subarray.obsState == 2)\n",
    "), f\"TMC Subarray Observation State: {tmc_subarray.obsState} \\n \\\n",
    "    CBF Subarray Observation State: {cbf_subarray.obsState} \\n \\\n",
    "    SDP Subarray Leaf Node Observation State: {sdp_subarray_leaf_node.sdpSubarrayObsState} \\n \\\n",
    "    CSP Subarray Leaf Node Observation State: {csp_subarray_leaf_node.cspSubarrayObsState}\"\n",
    "\n",
    "print(\"All obsstate values IDLE!\")"
   ]
  },
  {
   "cell_type": "markdown",
   "metadata": {},
   "source": [
    "### Contingencies\n",
    "These are methods that may be used to get the Telescope or subsystems out of unwanted states during a test run."
   ]
  },
  {
   "cell_type": "code",
   "execution_count": 12,
   "metadata": {},
   "outputs": [],
   "source": [
    "# # Take csp subarray leaf node back to EMPTY\n",
    "# csp_subarray_leaf_node.Restart()\n",
    "\n",
    "# # Bringing sdp subarray leaf node from RESOURCING to EMPTY\n",
    "# sdp_subarray_leaf_node.ReleaseAllResources()\n",
    "\n",
    "# # Bring dishes back to StandbyLPMode\n",
    "# dish_leaf_node_ska001.SetStandbyLPMode()\n",
    "# dish_leaf_node_ska036.SetStandbyLPMode()\n",
    "\n",
    "# # Subarray node stuck in RESOURCING, CONFIGURING\n",
    "# tmc_subarray.Abort()\n",
    "# tmc_subarray.Restart()\n",
    "\n",
    "# # CSP and SDP subarray leaf nodes in IDLE, but need to get back to EMPTY\n",
    "# csp_subarray_leaf_node.ReleaseAllResources()\n",
    "# sdp_subarray_leaf_node.ReleaseAllResources()\n",
    "\n",
    "# # ON failed on CSP controller\n",
    "# # # csp_control.On([])\n",
    "# # csp_master_leaf_node_dp.On()\n",
    "\n",
    "# # Configure scan contingencies\n",
    "# # SDP Subaarray leaf node stuck in Configuring\n",
    "# sdp_subarray_leaf_node.End()\n",
    "# dish_leaf_node_ska001.TrackStop()\n",
    "# dish_leaf_node_ska036.TrackStop()\n",
    "\n",
    "# # Configure scan on CSP subarray leaf node directly\n",
    "# temp_configure_scan_json_path = f\"\"\n",
    "# with open(temp_configure_scan_json_path, \"r\", encoding=\"utf-8\") as json_data:\n",
    "#     d = json.load(json_data)\n",
    "#     csp_subarray_leaf_node.Configure(json.dumps(d))\n",
    "\n",
    "# # Other\n",
    "# tmc_central_node.TelescopeOff()\n",
    "# tmc_subarray.Restart()\n",
    "\n",
    "# Dishes in OPERATE, get them back to STANDBY_FP\n",
    "# dish_manager_ska001.AbortCommands()\n",
    "# dish_manager_ska001.setstandbylpmode()\n",
    "# dish_manager_ska036.AbortCommands()\n",
    "# dish_manager_ska036.setstandbylpmode()\n",
    "\n",
    "# # IF DishManager goes into StandbyFP at any stage after Configure(), run SetOperateMode() on the DishLeafNode:\n",
    "# dish_leaf_node_ska001.SetOperateMode()\n",
    "# dish_leaf_node_ska036.SetOperateMode()\n",
    "\n",
    "# # Manual Dish tracking commands (not necessarily working!) - SKB-513:\n",
    "# dish_leaf_node_ska001.Track(\"\")\n",
    "# dish_leaf_node_ska036.Track(\"\")\n",
    "\n",
    "# # If SUT is in an intermediate state, first run:\n",
    "# tmc_subarray.Abort()\n",
    "# tmc_subarray.Restart()\n",
    "\n",
    "# # and then manually get dishes to StandbyFP\n",
    "# dish_leaf_node_ska001.SetStandbyFPMode()\n",
    "# dish_leaf_node_ska036.SetStandbyFPMode()"
   ]
  },
  {
   "cell_type": "markdown",
   "metadata": {},
   "source": [
    "### Work around to slew the dishes to near the start of track to avoid tracking timing errors\n",
    "\n",
    "Could take +1min\n",
    "\n",
    "#### UPDATE post TMC Workshop\n",
    "No longer necessary, thanks to the Dish Simulator having been updated (and latest behaviour also followed by TMC DishLeafNodes)."
   ]
  },
  {
   "cell_type": "code",
   "execution_count": 13,
   "metadata": {},
   "outputs": [],
   "source": [
    "# SKA001_TANGO_HOST = f\"tango-databaseds.{SKA001_NAMESPACE}.svc.{CLUSTER_DOMAIN}:10000\"\n",
    "# dish_manager_ska001 = DeviceProxy(f\"tango://{SKA001_TANGO_HOST}/mid-dish/dish-manager/ska001\")\n",
    "# SKA036_TANGO_HOST = f\"tango-databaseds.{SKA036_NAMESPACE}.svc.{CLUSTER_DOMAIN}:10000\"\n",
    "# dish_manager_ska036 = DeviceProxy(f\"tango://{SKA036_TANGO_HOST}/mid-dish/dish-manager/ska036\")\n",
    "\n",
    "# dish_manager_ska001.slew([181.0, 31.0])\n",
    "# dish_manager_ska036.slew([181.0, 31.0])\n",
    "\n",
    "# while (\n",
    "#     dish_manager_ska001.achievedpointing[1] != 181.0\n",
    "#     or dish_manager_ska001.achievedpointing[2] != 31.0\n",
    "# ):\n",
    "#     sleep(1)\n",
    "\n",
    "# while (\n",
    "#     dish_manager_ska036.achievedpointing[1] != 181.0\n",
    "#     or dish_manager_ska036.achievedpointing[2] != 31.0\n",
    "# ):\n",
    "#     sleep(1)\n",
    "\n",
    "# print(\"Done slewing\")"
   ]
  },
  {
   "cell_type": "markdown",
   "metadata": {},
   "source": [
    "### Configure Scan\n",
    "Before running this cell, check:\n",
    "1. Is the `PersistentVolumeClaim` present in the `-sdp` namespace?\n",
    "2. Is the `vis-receive` pod running in the `-sdp` namespace (dependent on among others, the above prerequisite).\n",
    "\n",
    "\n",
    "> **Subarray stuck in CONFIGURING**: \n",
    "> After running this cell, the SubarrayNode may remain stuck in `CONFIGURING` obsstate. The rest of the Notebook works around this issue by invoking commands directly on the SDP Subarray Leafnode. The issue is due to the CSP <> CBF interface not fully integrated using Long Running Commands yet, which is WIP at the moment.\n"
   ]
  },
  {
   "cell_type": "code",
   "execution_count": null,
   "metadata": {},
   "outputs": [],
   "source": [
    "t_start = datetime.datetime.now()\n",
    "\n",
    "print(\"Running the Configure command: subarray obsstate should go to Ready\")\n",
    "\n",
    "with open(CONFIGURE_SCAN_FILE, encoding=\"utf-8\") as f:\n",
    "    configure_scan_json = json.load(f)\n",
    "    configure_scan_json[\"dish\"][\"receiver_band\"] = str(SCAN_BAND)\n",
    "    configure_scan_json[\"csp\"][\"common\"][\"frequency_band\"] = str(SCAN_BAND)\n",
    "\n",
    "print(f\"\\nconfigure_scan_json file contents: \\n{configure_scan_json}\")\n",
    "\n",
    "print(json.dumps(configure_scan_json))\n",
    "\n",
    "tmc_subarray.Configure(json.dumps(configure_scan_json))\n",
    "\n",
    "\n",
    "wait_for_event(csp_subarray_leaf_node, \"cspSubarrayObsState\", ObsState.READY)\n",
    "wait_for_event(sdp_subarray_leaf_node, \"sdpSubarrayObsState\", ObsState.READY)\n",
    "wait_for_event(dish_leaf_node_ska001, \"dishMode\", DishMode.OPERATE)\n",
    "wait_for_event(dish_leaf_node_ska036, \"dishMode\", DishMode.OPERATE)\n",
    "wait_for_event(tmc_subarray, \"obsState\", ObsState.READY)\n",
    "\n",
    "t_end = datetime.datetime.now()\n",
    "print(f\"Start time: {t_start.strftime('%H:%M:%S')}\\nEnd time: {t_end.strftime('%H:%M:%S')}\")\n",
    "\n",
    "print(\"Ready to scan\")"
   ]
  },
  {
   "cell_type": "markdown",
   "metadata": {},
   "source": [
    "### Optional: Check obstates READY\n",
    "This cell will fail unless the CSP Subarray Leafnode and SDP Subarray Leafnode are in `READY` observation state."
   ]
  },
  {
   "cell_type": "code",
   "execution_count": null,
   "metadata": {},
   "outputs": [],
   "source": [
    "print(\"\\nCBF Subarray Observation State: \", cbf_subarray.obsState)\n",
    "print(\"SDP Subarray Observation State: \", sdp_subarray_leaf_node.sdpSubarrayObsState)\n",
    "print(\"CSP Subarray Observation State: \", csp_subarray_leaf_node.cspSubarrayObsState)\n",
    "assert (\n",
    "    (cbf_subarray.obsState == 4)\n",
    "    and (sdp_subarray_leaf_node.sdpSubarrayObsState == 4)\n",
    "    and (csp_subarray_leaf_node.cspSubarrayObsState == 4)\n",
    ")\n",
    "print(\"OK to proceed: Run a Scan!\")"
   ]
  },
  {
   "cell_type": "markdown",
   "metadata": {},
   "source": [
    "### Scan\n",
    "This worked for the first time on 2024/08/20, at the end of the Atlas/TMC Workshop!"
   ]
  },
  {
   "cell_type": "code",
   "execution_count": null,
   "metadata": {},
   "outputs": [],
   "source": [
    "t_start = datetime.datetime.now()\n",
    "\n",
    "print(\"Running the Scan command: subarray obsstate should go to Scanning\")\n",
    "\n",
    "with open(SCAN_FILE, encoding=\"utf-8\") as f:\n",
    "    scan_json = f.read()\n",
    "\n",
    "print(f\"\\nscan_json file contents: \\n{scan_json}\")\n",
    "\n",
    "tmc_subarray.Scan(scan_json)\n",
    "wait_for_event(sdp_subarray_leaf_node, \"sdpSubarrayObsState\", ObsState.SCANNING)\n",
    "wait_for_event(csp_subarray_leaf_node, \"cspSubarrayObsState\", ObsState.SCANNING)\n",
    "wait_for_event(tmc_subarray, \"obsState\",ObsState.SCANNING)\n",
    "\n",
    "print(\"Scan started successfully\")\n",
    "if type(SCAN_DURATION) is float:\n",
    "    print(f\"Keeping cell active for {SCAN_DURATION}s\")\n",
    "    time_start = time()\n",
    "    while (time() - time_start) < SCAN_DURATION:\n",
    "        sleep(1)\n",
    "    \n",
    "t_end = datetime.datetime.now()\n",
    "print(f\"Start time: {t_start.strftime('%H:%M:%S')}\\nEnd time: {t_end.strftime('%H:%M:%S')}\")"
   ]
  },
  {
   "cell_type": "markdown",
   "metadata": {},
   "source": [
    "Check https://k8s.miditf.internal.skao.int/staging/signal/display/ to see output of SDP on the Signal Displays Dashboard! (`staging` namespace deployments only)\n",
    "\n",
    "Check https://k8s.miditf.internal.skao.int/shared-ska-dataproducts/dashboard/ to see the Data Products being stored on the Data Product Dashboard!"
   ]
  },
  {
   "cell_type": "markdown",
   "metadata": {},
   "source": [
    "### END SCAN\n"
   ]
  },
  {
   "cell_type": "markdown",
   "metadata": {},
   "source": [
    "POSSIBLY NOT GOING TO WORK - CHECK DISHMODE FIRST! IF THE DISHES ARE IN StandbyFP FOR SOME REASON, GO TO THE CONTINGENCIES CELL"
   ]
  },
  {
   "cell_type": "code",
   "execution_count": null,
   "metadata": {},
   "outputs": [],
   "source": [
    "t_start = datetime.datetime.now()\n",
    "\n",
    "print(\"Running the End Scan command: subarray obsstate should go to Ready state\")\n",
    "\n",
    "tmc_subarray.EndScan()\n",
    "\n",
    "wait_for_event(sdp_subarray_leaf_node, \"sdpSubarrayObsState\",ObsState.READY)\n",
    "wait_for_event(csp_subarray_leaf_node, \"cspSubarrayObsState\", ObsState.READY)\n",
    "wait_for_event(tmc_subarray, \"obsState\", ObsState.READY)\n",
    "\n",
    "print(\"Scan ended successfully\")\n",
    "\n",
    "print(\"\\nTMC Subarray Observation State: \", tmc_subarray.obsState)\n",
    "\n",
    "t_end = datetime.datetime.now()\n",
    "print(f\"Start time: {t_start.strftime('%H:%M:%S')}\\nEnd time: {t_end.strftime('%H:%M:%S')}\")"
   ]
  },
  {
   "cell_type": "markdown",
   "metadata": {},
   "source": [
    "~~TMC LEAF NODE HACK TO GET AROUND TMC SUBARRAY STUCK IN CONFIGURING~~"
   ]
  },
  {
   "cell_type": "code",
   "execution_count": 18,
   "metadata": {},
   "outputs": [],
   "source": [
    "# print(\"Running the End Scan command: subarray obsstate should go to Ready state\")\n",
    "\n",
    "# sdp_subarray_leaf_node.EndScan()\n",
    "# sleep(2)\n",
    "# csp_subarray_leaf_node.EndScan()\n",
    "# print(\"SDP Subarray Observation State: \",sdp_subarray_leaf_node.sdpSubarrayObsState)\n",
    "# print(\"CSP Subarray Observation State: \",csp_subarray_leaf_node.cspSubarrayObsState)"
   ]
  },
  {
   "cell_type": "markdown",
   "metadata": {},
   "source": [
    "### END"
   ]
  },
  {
   "cell_type": "markdown",
   "metadata": {},
   "source": [
    "MIGHT NOT WORK - SEE EndScan() COMMENT ABOVE"
   ]
  },
  {
   "cell_type": "code",
   "execution_count": null,
   "metadata": {},
   "outputs": [],
   "source": [
    "t_start = datetime.datetime.now()\n",
    "\n",
    "print(\"Running the End command: subarray obsstate should go to Idle state\")\n",
    "\n",
    "tmc_subarray.End()\n",
    "\n",
    "wait_for_event(sdp_subarray_leaf_node, \"sdpSubarrayObsState\", ObsState.IDLE)\n",
    "wait_for_event(csp_subarray_leaf_node, \"cspSubarrayObsState\", ObsState.IDLE)\n",
    "wait_for_event(tmc_subarray, \"obsState\", ObsState.IDLE)\n",
    "\n",
    "t_end = datetime.datetime.now()\n",
    "print(f\"Start time: {t_start.strftime('%H:%M:%S')}\\nEnd time: {t_end.strftime('%H:%M:%S')}\")\n",
    "\n",
    "print(\"Observation ended successfully\")"
   ]
  },
  {
   "cell_type": "markdown",
   "metadata": {},
   "source": [
    "~~TMC LEAF NODE HACK TO GET AROUND TMC SUBARRAY STUCK IN CONFIGURING~~"
   ]
  },
  {
   "cell_type": "code",
   "execution_count": 20,
   "metadata": {},
   "outputs": [],
   "source": [
    "# print(\"Running the End command: subarray obsstate should go to Idle state\")\n",
    "\n",
    "# sdp_subarray_leaf_node.End()\n",
    "# sleep(2)\n",
    "# csp_subarray_leaf_node.End()\n",
    "\n",
    "# sleep(2)\n",
    "# print(\"SDP Subarray Observation State: \",sdp_subarray_leaf_node.sdpSubarrayObsState)\n",
    "# print(\"CSP Subarray Observation State: \",csp_subarray_leaf_node.cspSubarrayObsState)"
   ]
  },
  {
   "cell_type": "markdown",
   "metadata": {},
   "source": [
    "### Release Resources"
   ]
  },
  {
   "cell_type": "markdown",
   "metadata": {},
   "source": [
    "MIGHT NOT WORK - SEE ABOVE REGARDING `DishMode` GOING TO `StandbyFP` AND CONTINGENCIES"
   ]
  },
  {
   "cell_type": "code",
   "execution_count": null,
   "metadata": {},
   "outputs": [],
   "source": [
    "t_start = datetime.datetime.now()\n",
    "\n",
    "print(\n",
    "    \"Running the Release All Resources command: subarray obsstate should go to Empty state and receptor IDs should be empty\"\n",
    ")\n",
    "\n",
    "tmc_subarray.ReleaseAllResources()\n",
    "wait_for_event(sdp_subarray_leaf_node, \"sdpSubarrayObsState\", ObsState.EMPTY)\n",
    "wait_for_event(tmc_subarray, \"obsState\", ObsState.EMPTY, EventType.CHANGE_EVENT)\n",
    "\n",
    "t_end = datetime.datetime.now()\n",
    "print(f\"Start time: {t_start.strftime('%H:%M:%S')}\\nEnd time: {t_end.strftime('%H:%M:%S')}\")\n",
    "\n",
    "print(\"Resources released successfully\")"
   ]
  },
  {
   "cell_type": "markdown",
   "metadata": {},
   "source": [
    "~~TMC LEAF NODE HACK TO GET AROUND TMC SUBARRAY STUCK IN CONFIGURING~~"
   ]
  },
  {
   "cell_type": "code",
   "execution_count": 22,
   "metadata": {},
   "outputs": [],
   "source": [
    "# print(\n",
    "#     \"Running the Release All Resources command: subarray obsstate should go to Empty state and receptor IDs should be empty\"\n",
    "# )\n",
    "\n",
    "# sdp_subarray_leaf_node.ReleaseAllResources()\n",
    "# sleep(2)\n",
    "# csp_subarray_leaf_node.ReleaseAllResources()\n",
    "\n",
    "# sleep(2)\n",
    "# print(f\"SDP Subarray Observation State: {sdp_subarray_leaf_node.sdpSubarrayObsState}\")\n",
    "# print(f\"CSP Subarray Observation State: {csp_subarray_leaf_node.cspSubarrayObsState}\")"
   ]
  },
  {
   "cell_type": "markdown",
   "metadata": {},
   "source": [
    "### Check Telescope Status"
   ]
  },
  {
   "cell_type": "code",
   "execution_count": null,
   "metadata": {},
   "outputs": [],
   "source": [
    "print(f\"TMC Central Node State: {tmc_central_node.state()}\")\n",
    "print(\"CSP Control State: \", csp_control.state())\n",
    "print(\"CBF Controller State: \", cbf_controller.state())"
   ]
  },
  {
   "cell_type": "markdown",
   "metadata": {},
   "source": [
    "### Telescope Off"
   ]
  },
  {
   "cell_type": "code",
   "execution_count": null,
   "metadata": {},
   "outputs": [],
   "source": [
    "t_start = datetime.datetime.now()\n",
    "\n",
    "print(f\"Start time: {t_start.strftime('%H:%M:%S')}\\nEnd time: {t_end.strftime('%H:%M:%S')}\")\n",
    "\n",
    "print(\"Running the TelescopeOff command\")\n",
    "\n",
    "tmc_central_node.TelescopeOff()\n",
    "\n",
    "wait_for_event(tmc_central_node, \"telescopeState\", DevState.OFF)\n",
    "wait_for_event(dish_leaf_node_ska001, \"dishMode\", DishMode.STANDBY_LP)\n",
    "wait_for_event(dish_leaf_node_ska036, \"dishMode\", DishMode.STANDBY_LP)\n",
    "\n",
    "print(\"TMC Central Node State: \", tmc_central_node.State())\n",
    "print(\"CSP Control State: \", csp_control.State())\n",
    "print(\"CBF Controller State: \", cbf_controller.State())\n",
    "\n",
    "t_end = datetime.datetime.now()\n",
    "print(f\"Start time: {t_start.strftime('%H:%M:%S')}\\nEnd time: {t_end.strftime('%H:%M:%S')}\")\n",
    "\n",
    "print(\"Telescope turned OFF\")"
   ]
  },
  {
   "cell_type": "markdown",
   "metadata": {},
   "source": [
    "## Configure Test Equipment"
   ]
  },
  {
   "cell_type": "markdown",
   "metadata": {},
   "source": [
    "#### Section for making test equipment setup changes as required for some of the mid - aiv jama tests"
   ]
  },
  {
   "cell_type": "code",
   "execution_count": null,
   "metadata": {},
   "outputs": [],
   "source": [
    "from bokeh.io import output_notebook\n",
    "\n",
    "from ska_mid_jupyter_notebooks.test_equipment.rendering import (\n",
    "    get_test_equipment_monitor_plot,\n",
    ")\n",
    "from ska_mid_jupyter_notebooks.test_equipment.state import get_equipment_model\n",
    "from ska_mid_jupyter_notebooks.test_equipment.test_equipment import TangoTestEquipment"
   ]
  },
  {
   "cell_type": "markdown",
   "metadata": {},
   "source": [
    "#### Print current status"
   ]
  },
  {
   "cell_type": "code",
   "execution_count": null,
   "metadata": {},
   "outputs": [],
   "source": [
    "test_equipment = TangoTestEquipment()\n",
    "print(f\"Test Equipment Configured: {test_equipment}\")\n",
    "test_equipment_state = get_equipment_model(test_equipment)\n",
    "test_equipment.devices"
   ]
  },
  {
   "cell_type": "markdown",
   "metadata": {},
   "source": [
    "### Print Test Equipment Diagnostics"
   ]
  },
  {
   "cell_type": "code",
   "execution_count": null,
   "metadata": {},
   "outputs": [],
   "source": [
    "# test_equipment.print_diagnostics()\n",
    "tmc_subarray.Abort()"
   ]
  },
  {
   "cell_type": "markdown",
   "metadata": {},
   "source": [
    "### Create Test Equipment Plot"
   ]
  },
  {
   "cell_type": "code",
   "execution_count": null,
   "metadata": {},
   "outputs": [],
   "source": [
    "monitor_plot = get_test_equipment_monitor_plot()\n",
    "test_equipment_state.subscribe_to_test_equipment_state(\n",
    "    monitor_plot.handle_device_state_change\n",
    ")\n",
    "output_notebook()\n",
    "monitor_plot.show()\n",
    "test_equipment_state.activate()"
   ]
  },
  {
   "cell_type": "markdown",
   "metadata": {},
   "source": [
    "Turn offline Test Equipment devices ONLINE"
   ]
  },
  {
   "cell_type": "code",
   "execution_count": null,
   "metadata": {},
   "outputs": [],
   "source": [
    "# set any offline devices to online\n",
    "test_equipment.turn_online()"
   ]
  },
  {
   "cell_type": "markdown",
   "metadata": {},
   "source": [
    "#### Display Test Equipment Device States "
   ]
  },
  {
   "cell_type": "code",
   "execution_count": null,
   "metadata": {},
   "outputs": [],
   "source": [
    "test_equipment_state.state[\"devices_states\"]"
   ]
  },
  {
   "cell_type": "markdown",
   "metadata": {},
   "source": [
    "Band 1 setup\n",
    "\n",
    "Set CW generator to approximately 480MHz (freq1) & -30dBm (power1), and wideband noise to approximately -132dBm/Hz at the SPF Band 1 Receiver inputs. ie. Band 1 output on and attenuation approx 10dB.  \n",
    "\n",
    "Expected Result:  \n",
    "*Test equipment configured*"
   ]
  },
  {
   "cell_type": "code",
   "execution_count": null,
   "metadata": {},
   "outputs": [],
   "source": [
    "# test equipment setup values - band 1; use 950.000e6 for frequency for band 2\n",
    "\n",
    "import time\n",
    "\n",
    "frequency_to_set = 480.000e6\n",
    "power_level = -30.0\n",
    "attenuation = 10\n",
    "band = 1\n",
    "\n",
    "signal_generator = test_equipment.signal_generator\n",
    "SSC = test_equipment.sky_simulator_controller\n",
    "prog_atten = test_equipment.programmable_attenuator\n",
    "\n",
    "# print current\n",
    "print(f\"Current signal generator frequency: {signal_generator.frequency}\")\n",
    "print(f\"Current signal generator power level: {signal_generator.power_dbm}\")\n",
    "print(f\"Current Sky Simulator Correlated Noise Source: {SSC.Correlated_Noise_Source}\")\n",
    "print(\n",
    "    f\"Current Sky Simulator Uncorrelated Noise Source: {SSC.Uncorrelated_Noise_Sources}\"\n",
    ")\n",
    "print(f\"Current Sky Simulator Band: {SSC.Band}\")\n",
    "print(f\"Current Programmable attenuator current attenuation : {prog_atten.channel_1}\")\n",
    "\n",
    "# setup siggen\n",
    "signal_generator.write_attribute(\"frequency\", frequency_to_set)\n",
    "signal_generator.write_attribute(\"power_dbm\", power_level)\n",
    "# setup SSC\n",
    "SSC.write_attribute(\"Correlated_Noise_Source\", True)\n",
    "SSC.write_attribute(\"Uncorrelated_Noise_Sources\", False)\n",
    "SSC.write_attribute(\"Band\", band)\n",
    "# setup Attenuator\n",
    "prog_atten.write_attribute(\"channel_1\", attenuation)\n",
    "\n",
    "sleep(3)\n",
    "# print updated values and confirm updates\n",
    "print(\n",
    "    f\"Updated signal generator frequency                  : {signal_generator.frequency}\"\n",
    ")\n",
    "print(\n",
    "    f\"Updated signal generator power level                : {signal_generator.power_dbm}\"\n",
    ")\n",
    "print(\n",
    "    f\"Updated Sky Simulator Correlated Noise Source       : {SSC.Correlated_Noise_Source}\"\n",
    ")\n",
    "print(\n",
    "    f\"Updated Sky Simulator Uncorrelated Noise Source     : {SSC.Uncorrelated_Noise_Sources}\"\n",
    ")\n",
    "print(f\"Updated Sky Simulator Band                          : {SSC.Band}\")\n",
    "print(f\"Updated Programmable attenuator current attenuation : {prog_atten.channel_1}\")\n",
    "\n",
    "assert signal_generator.frequency == frequency_to_set, print(\n",
    "    f\"Frequency required is {frequency_to_set} but got {signal_generator.frequency}\"\n",
    ")\n",
    "assert signal_generator.power_dbm == power_level, print(\n",
    "    f\"Power level required is {power_level} but got {signal_generator.power_dbm}\"\n",
    ")\n",
    "assert SSC.Correlated_Noise_Source, print(\n",
    "    f\"Correlated noise source required is {True} but got {SSC.Correlated_Noise_Source}\"\n",
    ")\n",
    "assert not SSC.Uncorrelated_Noise_Sources, print(\n",
    "    f\"Uncorrelated noise source required is {False} but got {SSC.Uncorrelated_Noise_Sources}\"\n",
    ")\n",
    "assert SSC.Band == band, print(f\"Band required is {band} but got {SSC.Band}\")\n",
    "assert prog_atten.channel_1 == attenuation, print(\n",
    "    f\"Attenuation required is {attenuation} but got {prog_atten.channel_1}\"\n",
    ")"
   ]
  },
  {
   "cell_type": "markdown",
   "metadata": {},
   "source": [
    "#### to print current setup only"
   ]
  },
  {
   "cell_type": "code",
   "execution_count": null,
   "metadata": {},
   "outputs": [],
   "source": [
    "# print current only\n",
    "signal_generator = test_equipment.signal_generator\n",
    "SSC = test_equipment.sky_simulator_controller\n",
    "prog_atten = test_equipment.programmable_attenuator\n",
    "\n",
    "# print current\n",
    "print(f\"Current signal generator frequency: {signal_generator.frequency}\")\n",
    "print(f\"Current signal generator power level: {signal_generator.power_dbm}\")\n",
    "print(f\"Current Sky Simulator Correlated Noise Source: {SSC.Correlated_Noise_Source}\")\n",
    "print(\n",
    "    f\"Current Sky Simulator Uncorrelated Noise Source: {SSC.Uncorrelated_Noise_Sources}\"\n",
    ")\n",
    "print(f\"Current Sky Simulator Band: {SSC.Band}\")\n",
    "print(f\"Current Programmable attenuator current attenuation : {prog_atten.channel_1}\")"
   ]
  },
  {
   "cell_type": "markdown",
   "metadata": {},
   "source": [
    "~10 seconds after recording has started, use Test Control Script to adjust CW generator signal level by -3dB. \n",
    "\n",
    "Expected Result:  \n",
    "*CW level changes by roughly -3dB in SDP Spectrometer Display*"
   ]
  },
  {
   "cell_type": "code",
   "execution_count": null,
   "metadata": {},
   "outputs": [],
   "source": [
    "sleep(\n",
    "    10\n",
    ")  # cell to be run in this notebook immediately after starting scn in rf-chain-and-channelisation_test_equipment notebook\n",
    "power_level_minus_3_db = power_level - 3.0\n",
    "signal_generator = test_equipment.signal_generator\n",
    "print(f\"Current signal generator power level: {signal_generator.power_dbm}\")\n",
    "signal_generator.write_attribute(\"power_dbm\", power_level_minus_3_db)\n",
    "sleep(3)\n",
    "print(f\"Updated signal generator power level: {signal_generator.power_dbm}\")"
   ]
  },
  {
   "cell_type": "markdown",
   "metadata": {},
   "source": [
    "After a further ~10 seconds, use Test Control Script to adjust CW generator signal level by -3dB.  \n",
    "\n",
    "Expected Result:  \n",
    "*CW level changes by roughly -3dB in SDP Spectrometer Display*"
   ]
  },
  {
   "cell_type": "code",
   "execution_count": null,
   "metadata": {},
   "outputs": [],
   "source": [
    "sleep(\n",
    "    10\n",
    ")  # cell to be run in this notebook immediately after starting scn in rf-chain-and-channelisation_test_equipment notebook\n",
    "power_level_minus_6_db = power_level - 6.0\n",
    "print(f\"Current signal generator power level: {signal_generator.power_dbm}\")\n",
    "signal_generator.write_attribute(\"power_dbm\", power_level_minus_6_db)\n",
    "sleep(3)\n",
    "print(f\"Updated signal generator power level: {signal_generator.power_dbm}\")"
   ]
  },
  {
   "cell_type": "markdown",
   "metadata": {},
   "source": [
    "After a further ~10seconds, use Test Control Script to increase the CW generator signal frequency by 10MHz.  \n",
    "\n",
    "Expected Result:  \n",
    "*CW frequency changes by 10MHz in SDP Spectrometer Display*"
   ]
  },
  {
   "cell_type": "code",
   "execution_count": null,
   "metadata": {},
   "outputs": [],
   "source": [
    "sleep(10)\n",
    "frequency_plus_10MHz = frequency_to_set + 10.0e6\n",
    "print(f\"Current signal generator frequency: {signal_generator.frequency}\")\n",
    "signal_generator.write_attribute(\"frequency\", frequency_plus_10MHz)\n",
    "sleep(3)\n",
    "print(f\"Updated signal generator frequency: {signal_generator.frequency}\")"
   ]
  }
 ],
 "metadata": {
  "kernelspec": {
   "display_name": "Python 3",
   "language": "python",
   "name": "python3"
  },
  "language_info": {
   "codemirror_mode": {
    "name": "ipython",
    "version": 3
   },
   "file_extension": ".py",
   "mimetype": "text/x-python",
   "name": "python",
   "nbconvert_exporter": "python",
   "pygments_lexer": "ipython3",
   "version": "3.10.15"
  }
 },
 "nbformat": 4,
 "nbformat_minor": 2
}
