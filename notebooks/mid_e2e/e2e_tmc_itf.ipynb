{
 "cells": [
  {
   "cell_type": "markdown",
   "metadata": {},
   "source": [
    "# Notebook for End to End testing in the MID ITF\n",
    "\n",
    "- Uses digitizers for the 2 inputs to the correlator\n",
    "- Uses 1 FSP (200 MHz)\n",
    "- Receives and plots the visibilities to SDP"
   ]
  },
  {
   "cell_type": "code",
   "execution_count": 1,
   "metadata": {},
   "outputs": [
    {
     "name": "stdout",
     "output_type": "stream",
     "text": [
      "Setting up parameters\n",
      "\n",
      "Links for Taranta and QA Display\n",
      "\n",
      "SUT Links\n",
      "https://k8s.miditf.internal.skao.int/staging/signal/display/\n",
      "https://k8s.miditf.internal.skao.int/staging/taranta/devices\n",
      "\n",
      "\n",
      "Dish LMC links\n",
      "https://k8s.miditf.internal.skao.int/staging-dish-lmc-ska001/taranta/devices\n",
      "https://k8s.miditf.internal.skao.int/staging-dish-lmc-ska036/taranta/devices\n"
     ]
    }
   ],
   "source": [
    "import os\n",
    "from time import sleep\n",
    "\n",
    "print(\"Setting up parameters\\n\")\n",
    "\n",
    "CLUSTER_DOMAIN = \"miditf.internal.skao.int\"\n",
    "\n",
    "#SKA001_NAMESPACE = \"ci-dish-lmc-ska001-at-2111-update-tmc\"\n",
    "#SKA036_NAMESPACE = \"ci-dish-lmc-ska036-at-2111-update-tmc\"\n",
    "#SUT_NAMESPACE = \"ci-ska-mid-itf-at-2111-update-tmc\"\n",
    "\n",
    "SKA001_NAMESPACE = \"staging-dish-lmc-ska001\" #ci-dish-lmc-ska001-at-2139-tmc-0-20-1-integration\n",
    "SKA036_NAMESPACE = \"staging-dish-lmc-ska036\" #ci-dish-lmc-ska036-at-2139-tmc-0-20-1-integration\n",
    "SUT_NAMESPACE = \"staging\" #\"staging\"\n",
    "\n",
    "TANGO_HOST = f\"tango-databaseds.{SUT_NAMESPACE}.svc.{CLUSTER_DOMAIN}:10000\"\n",
    "os.environ[\"TANGO_HOST\"] = TANGO_HOST\n",
    "\n",
    "RECEPTORS = [\"SKA001\", \"SKA036\"]\n",
    "\n",
    "# Config files set up\n",
    "DATA_DIR = \"../../data\"\n",
    "TMC_CONFIGS = f\"{DATA_DIR}/mid_telescope/tmc\"\n",
    "SCAN_FILE = f\"{TMC_CONFIGS}/scan.json\"\n",
    "RELEASE_RESOURCES_FILE = f\"{DATA_DIR}/release_resources.json\"\n",
    "\n",
    "ASSIGN_RESOURCES_FILE = f\"{TMC_CONFIGS}/assign_resources.json\"\n",
    "CONFIGURE_SCAN_FILE = f\"{TMC_CONFIGS}/configure_scan.json\"\n",
    "\n",
    "CBF_CONFIGS = f\"{DATA_DIR}/mid_telescope/cbf\"\n",
    "DISH_CONFIG_FILE = f\"{CBF_CONFIGS}/sys_params/load_dish_config.json\"\n",
    "\n",
    "KAFKA_PORT = 9092\n",
    "KAFKA_SERVICE_NAME = \"ska-sdp-kafka\"\n",
    "KAFKA_ENDPOINT = f\"{KAFKA_SERVICE_NAME}.{SUT_NAMESPACE}.svc.{CLUSTER_DOMAIN}:{KAFKA_PORT}\"\n",
    "\n",
    "print(\"Links for Taranta and QA Display\\n\")\n",
    "print(\"SUT Links\")\n",
    "print(f\"https://k8s.{CLUSTER_DOMAIN}/{SUT_NAMESPACE}/signal/display/\")\n",
    "print(f\"https://k8s.{CLUSTER_DOMAIN}/{SUT_NAMESPACE}/taranta/devices\")\n",
    "print(\"\\n\")\n",
    "print(\"Dish LMC links\")\n",
    "print(f\"https://k8s.{CLUSTER_DOMAIN}/{SKA001_NAMESPACE}/taranta/devices\")\n",
    "print(f\"https://k8s.{CLUSTER_DOMAIN}/{SKA036_NAMESPACE}/taranta/devices\")"
   ]
  },
  {
   "cell_type": "markdown",
   "metadata": {},
   "source": [
    "### Set Up and Configure Device Proxies "
   ]
  },
  {
   "cell_type": "code",
   "execution_count": 2,
   "metadata": {},
   "outputs": [
    {
     "name": "stdout",
     "output_type": "stream",
     "text": [
      "Setting up the device proxies\n",
      "\n",
      "Checking admin mode after setting to ONLINE (0):\n",
      "  CSP Control: 0\n",
      "  CSP Subarray: 0\n",
      "  CBF Controller: 0\n",
      "  CBF Subarray: 0\n",
      "\n",
      "Checking CBF Simulation Mode and CBF Timeout:\n",
      "  CBF Simulation Mode: False\n",
      "  CBF Timeout: 99 sec\n"
     ]
    }
   ],
   "source": [
    "import json\n",
    "\n",
    "from tango import DeviceProxy\n",
    "\n",
    "print(\"Setting up the device proxies\")\n",
    "\n",
    "# TMC proxies\n",
    "tmc_central_node = DeviceProxy(\"ska_mid/tm_central/central_node\")\n",
    "tmc_csp_master = DeviceProxy(\"ska_mid/tm_leaf_node/csp_master\")\n",
    "tmc_csp_subarray = DeviceProxy(\"ska_mid/tm_leaf_node/csp_subarray01\")\n",
    "tmc_subarray = DeviceProxy(\"ska_mid/tm_subarray_node/1\")\n",
    "\n",
    "# CSP.LMC proxies\n",
    "csp_control = DeviceProxy(\"mid-csp/control/0\")\n",
    "csp_subarray = DeviceProxy(\"mid-csp/subarray/01\")\n",
    "\n",
    "# CBF proxies\n",
    "cbf_controller = DeviceProxy(\"mid_csp_cbf/sub_elt/controller\")\n",
    "cbf_subarray = DeviceProxy(\"mid_csp_cbf/sub_elt/subarray_01\")\n",
    "\n",
    "# Dish Leaf Proxies\n",
    "dish_leaf_node_ska001 = DeviceProxy(\"ska_mid/tm_leaf_node/d0001\")\n",
    "dish_leaf_node_ska036 = DeviceProxy(\"ska_mid/tm_leaf_node/d0036\")\n",
    "\n",
    "# SDP Proxies\n",
    "sdp_subarray = DeviceProxy(\"mid-sdp/subarray/01\")\n",
    "\n",
    "# Set devices to adminMode = ONLINE\n",
    "csp_control.adminMode = 0\n",
    "csp_subarray.adminMode = 0\n",
    "\n",
    "# Leaf Nodes\n",
    "csp_subarray_leaf_node = \"ska_mid/tm_leaf_node/csp_subarray01\"\n",
    "sdp_subarray_leaf_node = \"ska_mid/tm_leaf_node/sdp_subarray01\"\n",
    "csp_master_leaf_node = \"ska_mid/tm_leaf_node/csp_master\"\n",
    "csp_subarray_leaf_node_dp = DeviceProxy(csp_subarray_leaf_node)\n",
    "sdp_subarray_leaf_node_dp = DeviceProxy(sdp_subarray_leaf_node)\n",
    "csp_master_leaf_node_dp = DeviceProxy(csp_master_leaf_node)\n",
    "\n",
    "sleep(2)\n",
    "print(\"\\nChecking admin mode after setting to ONLINE (0):\")\n",
    "print(f\"  CSP Control: {csp_control.adminMode}\")\n",
    "print(f\"  CSP Subarray: {csp_subarray.adminMode}\")\n",
    "print(f\"  CBF Controller: {cbf_controller.adminMode}\")\n",
    "print(f\"  CBF Subarray: {cbf_subarray.adminMode}\")\n",
    "\n",
    "# Set CBF Simulation mode to false and CBF timeout to 99s\n",
    "csp_control.cbfSimulationMode = 0\n",
    "csp_control.commandTimeout = 99\n",
    "\n",
    "sleep(2)\n",
    "print(\"\\nChecking CBF Simulation Mode and CBF Timeout:\")\n",
    "print(f\"  CBF Simulation Mode: {bool(csp_control.cbfSimulationMode)}\")\n",
    "print(f\"  CBF Timeout: {csp_control.commandTimeout} sec\")"
   ]
  },
  {
   "cell_type": "markdown",
   "metadata": {},
   "source": [
    "### Load the Dish Vcc Config / Init Sys Params"
   ]
  },
  {
   "cell_type": "markdown",
   "metadata": {},
   "source": [
    "NOTE: RUN TWICE"
   ]
  },
  {
   "cell_type": "code",
   "execution_count": 4,
   "metadata": {},
   "outputs": [
    {
     "name": "stdout",
     "output_type": "stream",
     "text": [
      "dish_config_json file contents: \n",
      "{'interface': 'https://schema.skao.int/ska-mid-cbf-initsysparam/1.0', 'tm_data_sources': ['car://gitlab.com/ska-telescope/ska-telmodel-data?0.1.0-rc-mid-itf#tmdata'], 'tm_data_filepath': 'instrument/ska1_mid_itf/ska-mid-cbf-system-parameters.json'}\n",
      "TMC CSP Master's Dish Vcc Config attribute value: \n",
      "{\"interface\": \"https://schema.skao.int/ska-mid-cbf-initsysparam/1.0\", \"dish_parameters\": {\"SKA001\": {\"vcc\": 1, \"k\": 1}, \"SKA036\": {\"vcc\": 2, \"k\": 1}, \"SKA063\": {\"vcc\": 3, \"k\": 1}, \"SKA100\": {\"vcc\": 4, \"k\": 1}}}\n",
      "\n",
      "TMC CSP Master's Source Dish Vcc Config attribute value: \n",
      "{\"interface\": \"https://schema.skao.int/ska-mid-cbf-initsysparam/1.0\", \"tm_data_sources\": [\"car://gitlab.com/ska-telescope/ska-telmodel-data?0.1.0-rc-mid-itf#tmdata\"], \"tm_data_filepath\": \"instrument/ska1_mid_itf/ska-mid-cbf-system-parameters.json\"}\n"
     ]
    }
   ],
   "source": [
    "with open(DISH_CONFIG_FILE, encoding=\"utf-8\") as f:\n",
    "    dish_config_json = json.load(f)\n",
    "\n",
    "dish_config_json[\"tm_data_sources\"][0] = \"car://gitlab.com/ska-telescope/ska-telmodel-data?0.1.0-rc-mid-itf#tmdata\"\n",
    "dish_config_json[\"tm_data_filepath\"] = \"instrument/ska1_mid_itf/ska-mid-cbf-system-parameters.json\"\n",
    "\n",
    "print(f\"dish_config_json file contents: \\n{dish_config_json}\")\n",
    "tmc_central_node.LoadDishCfg(json.dumps(dish_config_json))\n",
    "\n",
    "sleep(2)\n",
    "print(f\"TMC CSP Master's Dish Vcc Config attribute value: \\n{tmc_csp_master.dishVccConfig}\")\n",
    "print(\n",
    "    f\"\\nTMC CSP Master's Source Dish Vcc Config attribute value: \\n{tmc_csp_master.sourceDishVccConfig}\"\n",
    ")"
   ]
  },
  {
   "cell_type": "markdown",
   "metadata": {},
   "source": [
    "### Turn the Telescope On\n",
    "Known issues:\n",
    "When turning on Telescope, talon DDR memory calibration can fail. An indicator of this is mid_csp_cbf/fspcoorrsubarray obsState = FAULT. To adress this:\n",
    "* Manually power off of the PDUs to the talon boards\n",
    "* Rerun of the Telescope ON command."
   ]
  },
  {
   "cell_type": "code",
   "execution_count": 5,
   "metadata": {},
   "outputs": [
    {
     "name": "stdout",
     "output_type": "stream",
     "text": [
      "Running the TelescopeOn command\n",
      "Waiting for Telescope to come ON\n",
      "Waiting for Telescope to come ON\n",
      "Waiting for Telescope to come ON\n",
      "Waiting for Telescope to come ON\n",
      "Waiting for Telescope to come ON\n",
      "Waiting for Telescope to come ON\n",
      "Waiting for Telescope to come ON\n",
      "Waiting for Telescope to come ON\n",
      "YAY Telescope is ON\n"
     ]
    }
   ],
   "source": [
    "print(\"Running the TelescopeOn command\")\n",
    "tmc_central_node.TelescopeOn()\n",
    "\n",
    "while int(tmc_central_node.telescopeState) != 0:\n",
    "    print(\"Waiting for Telescope to come ON\")\n",
    "    sleep(5)\n",
    "    \n",
    "print(\"YAY Telescope is ON\")\n"
   ]
  },
  {
   "cell_type": "code",
   "execution_count": 6,
   "metadata": {},
   "outputs": [
    {
     "name": "stdout",
     "output_type": "stream",
     "text": [
      "Verifying the states:\n",
      "  TMC Central Node State: ON\n",
      "  CSP Control State: ON\n",
      "  CBF Controller State: ON\n",
      "  TMC Subarray State: ON\n"
     ]
    }
   ],
   "source": [
    "print(\"Verifying the states:\")\n",
    "print(f\"  TMC Central Node State: {tmc_central_node.State()}\")\n",
    "print(f\"  CSP Control State: {csp_control.State()}\")\n",
    "print(f\"  CBF Controller State: {cbf_controller.State()}\")\n",
    "print(f\"  TMC Subarray State: {tmc_subarray.State()}\")"
   ]
  },
  {
   "cell_type": "markdown",
   "metadata": {},
   "source": [
    "### Assign Resources\n",
    "//Vis-receive pods comes up in the staging-sdp namespace \n",
    "Known issues:\n",
    "1. The mid_csp_cbf/sub_elt/subarray_01 device times out. To resolve:\n",
    "* Rerun the assign resources block\n",
    "\n",
    "2. eb and pb ids already exist (logs in ds-subarraynode-01-0 pod). Resolution:\n",
    "* Edit eb and pb ids in the assign_resources.json\n"
   ]
  },
  {
   "cell_type": "code",
   "execution_count": 7,
   "metadata": {},
   "outputs": [
    {
     "name": "stdout",
     "output_type": "stream",
     "text": [
      "ON\n",
      "Running the AssignResources command: subarray obsstate should go to Idle and receptor IDs should be assigned\n",
      "\n",
      "assign_resources_json file contents: \n",
      "{'interface': 'https://schema.skao.int/ska-tmc-assignresources/2.1', 'transaction_id': 'txn-....-00001', 'subarray_id': 1, 'dish': {'receptor_ids': ['SKA001', 'SKA036']}, 'sdp': {'interface': 'https://schema.skao.int/ska-sdp-assignres/0.4', 'resources': {'csp_links': [1, 2, 3, 4], 'receptors': ['SKA001', 'SKA036'], 'receive_nodes': 1}, 'execution_block': {'eb_id': 'eb-test-20210630-00061', 'context': {}, 'max_length': 21600.0, 'channels': [{'channels_id': 'vis_channels', 'spectral_windows': [{'spectral_window_id': 'fsp_1_channels', 'count': 14880, 'start': 0, 'stride': 1, 'freq_min': 296000000.0, 'freq_max': 496000000.0, 'link_map': [[0, 0], [200, 1], [744, 2], [944, 3]]}]}], 'polarisations': [{'polarisations_id': 'all', 'corr_type': ['XX', 'XY', 'YX', 'YY']}], 'fields': [{'field_id': 'field_a', 'phase_dir': {'ra': [2.711325], 'dec': [-0.01328889], 'reference_time': '...', 'reference_frame': 'ICRF3'}, 'pointing_fqdn': 'low-tmc/telstate/0/pointing'}, {'field_id': 'field_b', 'phase_dir': {'ra': [12.48519], 'dec': [2.052388], 'reference_time': '...', 'reference_frame': 'ICRF3'}, 'pointing_fqdn': 'low-tmc/telstate/0/pointing'}], 'beams': [{'beam_id': 'vis0', 'function': 'visibilities'}], 'scan_types': [{'scan_type_id': '.default', 'beams': {'vis0': {'polarisations_id': 'all', 'channels_id': 'vis_channels'}}}, {'scan_type_id': 'science', 'derive_from': '.default', 'beams': {'vis0': {'field_id': 'field_a'}}}, {'scan_type_id': 'calibration', 'derive_from': '.default', 'beams': {'vis0': {'field_id': 'field_b'}}}]}, 'processing_blocks': [{'pb_id': 'pb-test-20211111-00061', 'script': {'kind': 'realtime', 'name': 'vis-receive', 'version': '4.0.0'}, 'parameters': {'channels_per_port': 20, 'queue_connector_configuration': {'exchanges': [{'dtype': 'object', 'shape': [], 'source': {'type': 'KafkaConsumerSource', 'servers': 'ska-sdp-kafka.staging.svc.miditf.internal.skao.int:9092', 'topic': 'metrics-receive_state-1', 'encoding': 'json'}, 'sink': {'type': 'TangoObjectScatterAttributeSink', 'attributes': [{'attribute_name': 'receiver_state', 'filter': \"type=='visibility_receive'\", 'path': 'state', 'dtype': 'str', 'default_value': 'unknown'}, {'attribute_name': 'last_update', 'filter': \"type=='visibility_receive'\", 'path': 'time', 'dtype': 'float', 'default_value': 0.0}, {'attribute_name': 'processing_block_id', 'filter': \"type=='visibility_receive'\", 'path': 'processing_block_id', 'dtype': 'str', 'default_value': ''}, {'attribute_name': 'execution_block_id', 'filter': \"type=='visibility_receive'\", 'path': 'execution_block_id', 'dtype': 'str', 'default_value': ''}, {'attribute_name': 'subarray_id', 'filter': \"type=='visibility_receive'\", 'path': 'subarray_id', 'dtype': 'str', 'default_value': '-1'}, {'attribute_name': 'scan_id', 'filter': \"type=='visibility_receive'\", 'path': 'scan_id', 'dtype': 'int', 'default_value': 0}, {'attribute_name': 'payloads_received', 'filter': \"type=='visibility_receive'\", 'path': 'payloads_received', 'dtype': 'int', 'default_value': 0}, {'attribute_name': 'time_slices_received', 'filter': \"type=='visibility_receive'\", 'path': 'time_slices', 'dtype': 'int', 'default_value': 0}, {'attribute_name': 'time_since_last_payload', 'filter': \"type=='visibility_receive'\", 'path': 'time_since_last_payload', 'dtype': 'float', 'default_value': 0.0}]}}]}, 'transport_protocol': 'udp', 'use_network_definition': True, 'extra_helm_values': {'receiver': {'options': {'reception': {'reset_time_indexing_after_each_scan': True, 'stats_receiver_kafka_config': 'ska-sdp-kafka.staging.svc.miditf.internal.skao.int:9092:json_workflow_state'}, 'telescope_model': {'telmodel_key': 'instrument/ska1_mid/layout/mid-layout.json'}}}}, 'processors': {'signal-display-metrics-amplitude': {}, 'signal-display-metrics-basic': {}, 'signal-display-metrics-phase': {}, 'mswriter': {}}, 'pod_settings': [{'securityContext': {'runAsUser': 0, 'fsGroup': 0}}]}}]}}\n",
      "\n",
      "CBF Subarray Observation State: 1\n",
      "CBF Subarray Receptors : ('SKA001', 'SKA036')\n"
     ]
    }
   ],
   "source": [
    "print(sdp_subarray.state())\n",
    "\n",
    "sleep(3)\n",
    "\n",
    "print(\n",
    "    \"Running the AssignResources command: subarray obsstate should go to Idle and receptor IDs should be assigned\"\n",
    ")\n",
    "\n",
    "with open(ASSIGN_RESOURCES_FILE, encoding=\"utf-8\") as f:\n",
    "    assign_resources_json = json.load(f)\n",
    "    assign_resources_json[\"dish\"][\"receptor_ids\"] = RECEPTORS\n",
    "    assign_resources_json[\"sdp\"][\"resources\"][\"receptors\"] = RECEPTORS\n",
    "    assign_resources_json['sdp']['processing_blocks'][0]['parameters']['queue_connector_configuration']['exchanges'][0]['source']['servers'] = KAFKA_ENDPOINT\n",
    "    assign_resources_json['sdp']['processing_blocks'][0]['parameters']['extra_helm_values']['receiver']['options']['reception']['stats_receiver_kafka_config'] = f\"{KAFKA_ENDPOINT}:json_workflow_state\"    \n",
    "\n",
    "print(f\"\\nassign_resources_json file contents: \\n{assign_resources_json}\")\n",
    "\n",
    "tmc_subarray.AssignResources(json.dumps(assign_resources_json))\n",
    "\n",
    "sleep(2)\n",
    "print(f\"\\nCBF Subarray Observation State: {tmc_subarray.obsState}\")\n",
    "print(f\"CBF Subarray Receptors : {cbf_subarray.receptors}\")"
   ]
  },
  {
   "cell_type": "markdown",
   "metadata": {},
   "source": [
    "### Work around to slew the dishes to near the start of track to avoid tracking timing errors\n",
    "\n",
    "Could take +1min"
   ]
  },
  {
   "cell_type": "code",
   "execution_count": 8,
   "metadata": {},
   "outputs": [
    {
     "name": "stdout",
     "output_type": "stream",
     "text": [
      "Done slewing\n"
     ]
    }
   ],
   "source": [
    "import time\n",
    "SKA001_TANGO_HOST = f\"tango-databaseds.{SKA001_NAMESPACE}.svc.{CLUSTER_DOMAIN}:10000\"\n",
    "dish_manager_ska001 = DeviceProxy(f\"tango://{SKA001_TANGO_HOST}/mid-dish/dish-manager/ska001\")\n",
    "SKA036_TANGO_HOST = f\"tango-databaseds.{SKA036_NAMESPACE}.svc.{CLUSTER_DOMAIN}:10000\"\n",
    "dish_manager_ska036 = DeviceProxy(f\"tango://{SKA036_TANGO_HOST}/mid-dish/dish-manager/ska036\")\n",
    "\n",
    "dish_manager_ska001.slew([181.0,31.0])\n",
    "dish_manager_ska036.slew([181.0,31.0])\n",
    "\n",
    "while dish_manager_ska001.achievedpointing[1] != 181.0 or dish_manager_ska001.achievedpointing[2] != 31.0:\n",
    "  time.sleep(1)\n",
    "\n",
    "while dish_manager_ska036.achievedpointing[1] != 181.0 or dish_manager_ska036.achievedpointing[2] != 31.0:\n",
    "  time.sleep(1)\n",
    "\n",
    "print(\"Done slewing\")"
   ]
  },
  {
   "cell_type": "code",
   "execution_count": 9,
   "metadata": {},
   "outputs": [],
   "source": [
    "from astropy.time import Time\n",
    "import time\n",
    "from tango import DeviceProxy\n",
    "\n",
    "dish_deployments = [f\"tango://tango-databaseds.{SKA001_NAMESPACE}.svc.{CLUSTER_DOMAIN}:10000/mid-dish/dish-manager/SKA001\", \n",
    "                    f\"tango://tango-databaseds.{SKA036_NAMESPACE}.svc.{CLUSTER_DOMAIN}:10000/mid-dish/dish-manager/SKA036\"]\n",
    "\n",
    "\n",
    "def get_tai_from_unix_s(unix_s: float) -> float:\n",
    "    \"\"\"\n",
    "    Calculate atomic time in seconds from unix time in seconds.\n",
    "\n",
    "    :param unix_s: Unix time in seconds\n",
    "\n",
    "    :return: atomic time (tai) in seconds\n",
    "    \"\"\"\n",
    "    astropy_time_utc = Time(unix_s, format=\"unix\")\n",
    "    return astropy_time_utc.unix_tai\n",
    "\n",
    "\n",
    "for dish in dish_deployments:\n",
    "    dish_manager_proxy = DeviceProxy(dish)\n",
    "    current_pointing = dish_manager_proxy.achievedPointing\n",
    "    current_az = current_pointing[1]\n",
    "    current_el = current_pointing[2]\n",
    "\n",
    "    current_time_tai_s = get_tai_from_unix_s(time.time() + 120)\n",
    "\n",
    "    # Directions to move values\n",
    "    az_dir = 1 if current_az < 350 else -1\n",
    "    el_dir = 1 if current_el < 80 else -1\n",
    "\n",
    "    track_table = [\n",
    "        current_time_tai_s + 3,\n",
    "        current_az + 1 * az_dir,\n",
    "        current_el + 1 * el_dir,\n",
    "        current_time_tai_s + 5,\n",
    "        current_az + 2 * az_dir,\n",
    "        current_el + 2 * el_dir,\n",
    "        current_time_tai_s + 7,\n",
    "        current_az + 3 * az_dir,\n",
    "        current_el + 3 * el_dir,\n",
    "        current_time_tai_s + 9,\n",
    "        current_az + 4 * az_dir,\n",
    "        current_el + 4 * el_dir,\n",
    "        current_time_tai_s + 11,\n",
    "        current_az + 5 * az_dir,\n",
    "        current_el + 5 * el_dir,\n",
    "    ]\n",
    "\n",
    "    dish_manager_proxy.programTrackTable = track_table"
   ]
  },
  {
   "cell_type": "markdown",
   "metadata": {},
   "source": [
    "### Configure Scan"
   ]
  },
  {
   "cell_type": "code",
   "execution_count": 10,
   "metadata": {},
   "outputs": [
    {
     "name": "stdout",
     "output_type": "stream",
     "text": [
      "Running the Configure command: subarray obsstate should go to Ready\n",
      "\n",
      "configure_scan_json file contents: \n",
      "{'interface': 'https://schema.skao.int/ska-tmc-configure/2.0', 'pointing': {'target': {'reference_frame': 'ICRS', 'target_name': 'Polaris Australis', 'ra': '21:08:47.92', 'dec': '-88:57:22.9'}}, 'sdp': {'interface': 'https://schema.skao.int/ska-sdp-configure/0.4', 'scan_type': 'science'}, 'csp': {'interface': 'https://schema.skao.int/ska-csp-configure/2.4', 'subarray': {'subarray_name': 'Receptor(s)'}, 'common': {'config_id': '1 receptor, band 1, 2 FSP, no options', 'subarray_id': 1, 'frequency_band': '1'}, 'cbf': {'fsp': [{'fsp_id': 1, 'function_mode': 'CORR', 'frequency_slice_id': 1, 'zoom_factor': 0, 'integration_factor': 10, 'output_link_map': [[0, 1]], 'channel_offset': 0, 'zoom_window_tuning': 450000}]}}, 'tmc': {'scan_duration': 920.0}, 'dish': {'receiver_band': '1'}}\n",
      "{\"interface\": \"https://schema.skao.int/ska-tmc-configure/2.0\", \"pointing\": {\"target\": {\"reference_frame\": \"ICRS\", \"target_name\": \"Polaris Australis\", \"ra\": \"21:08:47.92\", \"dec\": \"-88:57:22.9\"}}, \"sdp\": {\"interface\": \"https://schema.skao.int/ska-sdp-configure/0.4\", \"scan_type\": \"science\"}, \"csp\": {\"interface\": \"https://schema.skao.int/ska-csp-configure/2.4\", \"subarray\": {\"subarray_name\": \"Receptor(s)\"}, \"common\": {\"config_id\": \"1 receptor, band 1, 2 FSP, no options\", \"subarray_id\": 1, \"frequency_band\": \"1\"}, \"cbf\": {\"fsp\": [{\"fsp_id\": 1, \"function_mode\": \"CORR\", \"frequency_slice_id\": 1, \"zoom_factor\": 0, \"integration_factor\": 10, \"output_link_map\": [[0, 1]], \"channel_offset\": 0, \"zoom_window_tuning\": 450000}]}}, \"tmc\": {\"scan_duration\": 920.0}, \"dish\": {\"receiver_band\": \"1\"}}\n",
      "SDP Subarray Observation State: 4\n",
      "CSP Subarray Observation State: 2\n"
     ]
    }
   ],
   "source": [
    "print(\"Running the Configure command: subarray obsstate should go to Ready\")\n",
    "\n",
    "with open(CONFIGURE_SCAN_FILE, encoding=\"utf-8\") as f:\n",
    "    configure_scan_json = json.load(f)\n",
    "\n",
    "print(f\"\\nconfigure_scan_json file contents: \\n{configure_scan_json}\")\n",
    "\n",
    "print(json.dumps(configure_scan_json))\n",
    "\n",
    "tmc_subarray.Configure(json.dumps(configure_scan_json))\n",
    "    \n",
    "sleep(12)\n",
    "print(f\"SDP Subarray Observation State: {sdp_subarray_leaf_node_dp.sdpSubarrayObsState}\")\n",
    "print(f\"CSP Subarray Observation State: {csp_subarray_leaf_node_dp.cspSubarrayObsState}\")"
   ]
  },
  {
   "cell_type": "code",
   "execution_count": 11,
   "metadata": {},
   "outputs": [
    {
     "name": "stdout",
     "output_type": "stream",
     "text": [
      "\n",
      "CBF Subarray Observation State: 2\n"
     ]
    }
   ],
   "source": [
    "print(f\"\\nCBF Subarray Observation State: {cbf_subarray.obsState}\")"
   ]
  },
  {
   "cell_type": "markdown",
   "metadata": {},
   "source": [
    "### Scan"
   ]
  },
  {
   "cell_type": "markdown",
   "metadata": {},
   "source": [
    "DO NOT USE FOR NOW"
   ]
  },
  {
   "cell_type": "code",
   "execution_count": null,
   "metadata": {},
   "outputs": [],
   "source": [
    "# print(\"Running the Scan command: subarray obsstate should go to Scanning\")\n",
    "\n",
    "# with open(SCAN_FILE, encoding=\"utf-8\") as f:\n",
    "#     scan_json = f.read()\n",
    "\n",
    "# print(f\"\\nscan_json file contents: \\n{scan_json}\")\n",
    "\n",
    "# tmc_subarray.Scan(scan_json)\n",
    "\n",
    "# sleep(2)\n",
    "# print(f\"\\nCBF Subarray Observation State: {cbf_subarray.obsState}\")"
   ]
  },
  {
   "cell_type": "markdown",
   "metadata": {},
   "source": [
    "TMC LEAF NODE HACK TO GET AROUND TMC SUBARRAY STUCK IN CONFIGURING"
   ]
  },
  {
   "cell_type": "code",
   "execution_count": 12,
   "metadata": {},
   "outputs": [
    {
     "name": "stdout",
     "output_type": "stream",
     "text": [
      "{'interface': 'https://schema.skao.int/ska-sdp-scan/0.4', 'scan_id': 1}\n",
      "sdpSubarrayObsState.SCANNING\n",
      "{'interface': 'https://schema.skao.int/ska-csp-scan/2.2', 'scan_id': 1}\n",
      "cspSubarrayObsState.SCANNING\n"
     ]
    }
   ],
   "source": [
    "with open(\"../../data/mid_telescope/tmc/scan.json\", \"r\", encoding=\"utf-8\") as json_data:\n",
    "    d = json.load(json_data)\n",
    "    sdp_scan = d[\"sdp\"]\n",
    "    print(sdp_scan)\n",
    "    sdp_subarray_leaf_node_dp.scan(json.dumps(sdp_scan))\n",
    "\n",
    "sleep(10)\n",
    "print(sdp_subarray_leaf_node_dp.sdpSubarrayObsState)\n",
    "\n",
    "with open(\"../../data/mid_telescope/tmc/scan.json\", \"r\", encoding=\"utf-8\") as json_data:\n",
    "    d = json.load(json_data)\n",
    "    csp_scan = d[\"csp\"]\n",
    "    print(csp_scan)\n",
    "    csp_subarray_leaf_node_dp.scan(json.dumps(csp_scan))\n",
    "\n",
    "sleep(2)\n",
    "print(csp_subarray_leaf_node_dp.cspSubarrayObsState)"
   ]
  },
  {
   "cell_type": "markdown",
   "metadata": {},
   "source": [
    "### END SCAN\n"
   ]
  },
  {
   "cell_type": "markdown",
   "metadata": {},
   "source": [
    "DO NOT USE FOR NOW SINCE TMC SUBARRAY IS STUCK IN CONFIGURING"
   ]
  },
  {
   "cell_type": "code",
   "execution_count": null,
   "metadata": {},
   "outputs": [],
   "source": [
    "# print(\"Running the End Scan command: subarray obsstate should go to Ready state\")\n",
    "\n",
    "# tmc_subarray.EndScan()\n",
    "\n",
    "# sleep(2)\n",
    "# print(f\"\\nTMC Subarray Observation State: {tmc_subarray.obsState}\")"
   ]
  },
  {
   "cell_type": "markdown",
   "metadata": {},
   "source": [
    "TMC LEAF NODE HACK TO GET AROUND TMC SUBARRAY STUCK IN CONFIGURING"
   ]
  },
  {
   "cell_type": "code",
   "execution_count": 14,
   "metadata": {},
   "outputs": [
    {
     "name": "stdout",
     "output_type": "stream",
     "text": [
      "Running the End Scan command: subarray obsstate should go to Ready state\n",
      "SDP Subarray Observation State: 4\n",
      "CSP Subarray Observation State: 5\n"
     ]
    }
   ],
   "source": [
    "print(\"Running the End Scan command: subarray obsstate should go to Ready state\")\n",
    "\n",
    "sdp_subarray_leaf_node_dp.EndScan()\n",
    "sleep(2)\n",
    "csp_subarray_leaf_node_dp.EndScan()\n",
    "print(f\"SDP Subarray Observation State: {sdp_subarray_leaf_node_dp.sdpSubarrayObsState}\")\n",
    "print(f\"CSP Subarray Observation State: {csp_subarray_leaf_node_dp.cspSubarrayObsState}\")"
   ]
  },
  {
   "cell_type": "markdown",
   "metadata": {},
   "source": [
    "### END"
   ]
  },
  {
   "cell_type": "markdown",
   "metadata": {},
   "source": [
    "DO NOT USE (TMC STUCK IN CONFIGURING)"
   ]
  },
  {
   "cell_type": "code",
   "execution_count": null,
   "metadata": {},
   "outputs": [],
   "source": [
    "# print(\"Running the End command: subarray obsstate should go to Idle state\")\n",
    "\n",
    "# tmc_subarray.End()\n",
    "\n",
    "# sleep(2)\n",
    "# print(f\"\\TMC Subarray Observation State: {cbf_subarray.obsState}\")"
   ]
  },
  {
   "cell_type": "markdown",
   "metadata": {},
   "source": [
    "TMC LEAF NODE HACK TO GET AROUND TMC SUBARRAY STUCK IN CONFIGURING"
   ]
  },
  {
   "cell_type": "code",
   "execution_count": 15,
   "metadata": {},
   "outputs": [
    {
     "name": "stdout",
     "output_type": "stream",
     "text": [
      "Running the End command: subarray obsstate should go to Idle state\n",
      "SDP Subarray Observation State: 2\n",
      "CSP Subarray Observation State: 9\n"
     ]
    }
   ],
   "source": [
    "print(\"Running the End command: subarray obsstate should go to Idle state\")\n",
    "\n",
    "sdp_subarray_leaf_node_dp.End()\n",
    "sleep(2)\n",
    "csp_subarray_leaf_node_dp.End()\n",
    "\n",
    "sleep(2)\n",
    "print(f\"SDP Subarray Observation State: {sdp_subarray_leaf_node_dp.sdpSubarrayObsState}\")\n",
    "print(f\"CSP Subarray Observation State: {csp_subarray_leaf_node_dp.cspSubarrayObsState}\")"
   ]
  },
  {
   "cell_type": "markdown",
   "metadata": {},
   "source": [
    "### Release Resources"
   ]
  },
  {
   "cell_type": "markdown",
   "metadata": {},
   "source": [
    "DO NOT USE (TMC STUCK IN CONFIGURING)"
   ]
  },
  {
   "cell_type": "code",
   "execution_count": null,
   "metadata": {},
   "outputs": [],
   "source": [
    "# print(\n",
    "#     \"Running the Release All Resources command: subarray obsstate should go to Empty state and receptor IDs should be empty\"\n",
    "# )\n",
    "\n",
    "# tmc_subarray.ReleaseAllResources()\n",
    "\n",
    "# sleep(2)\n",
    "# print(f\"TMC Subarray Observation State: {tmc_subarray.obsState}\")"
   ]
  },
  {
   "cell_type": "markdown",
   "metadata": {},
   "source": [
    "TMC LEAF NODE HACK TO GET AROUND TMC SUBARRAY STUCK IN CONFIGURING"
   ]
  },
  {
   "cell_type": "code",
   "execution_count": null,
   "metadata": {},
   "outputs": [],
   "source": [
    "print(\n",
    "    \"Running the Release All Resources command: subarray obsstate should go to Empty state and receptor IDs should be empty\"\n",
    ")\n",
    "\n",
    "sdp_subarray_leaf_node_dp.ReleaseAllResources()\n",
    "sleep(2)\n",
    "csp_subarray_leaf_node_dp.ReleaseAllResources()\n",
    "\n",
    "sleep(2)\n",
    "print(f\"SDP Subarray Observation State: {sdp_subarray_leaf_node_dp.sdpSubarrayObsState}\")\n",
    "print(f\"CSP Subarray Observation State: {csp_subarray_leaf_node_dp.cspSubarrayObsState}\")"
   ]
  },
  {
   "cell_type": "markdown",
   "metadata": {},
   "source": [
    "### Telescope Off"
   ]
  },
  {
   "cell_type": "code",
   "execution_count": null,
   "metadata": {},
   "outputs": [],
   "source": [
    "print(\"Running the TelescopeOff command\")\n",
    "\n",
    "tmc_central_node.TelescopeOff()\n",
    "\n",
    "sleep(5)\n",
    "print(f\"TMC Central Node State: {tmc_central_node.State()}\")\n",
    "print(f\"CSP Control State: {csp_control.State()}\")\n",
    "print(f\"CBF Controller State: {cbf_controller.State()}\")"
   ]
  }
 ],
 "metadata": {
  "kernelspec": {
   "display_name": "Python 3",
   "language": "python",
   "name": "python3"
  },
  "language_info": {
   "codemirror_mode": {
    "name": "ipython",
    "version": 3
   },
   "file_extension": ".py",
   "mimetype": "text/x-python",
   "name": "python",
   "nbconvert_exporter": "python",
   "pygments_lexer": "ipython3",
   "version": "3.10.12"
  }
 },
 "nbformat": 4,
 "nbformat_minor": 2
}
