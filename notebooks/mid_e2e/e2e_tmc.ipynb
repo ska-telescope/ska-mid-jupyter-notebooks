{
 "cells": [
  {
   "cell_type": "markdown",
   "metadata": {},
   "source": [
    "# Auto Correlation with TMC, CSP.LMC, and CBF in the Mid PSI\n",
    "##### Last Updated: 2024-04-08\n",
    "\n",
    "This demo will show the basic operation of a 4-receptor 200MHz correlation driven from TMC to CSP.LMC and CBF. With this notebook, all TANGO commands and attribute changes are made via a [TANGO DeviceProxy](https://pytango.readthedocs.io/en/stable/client_api/device_proxy.html) but the overall steps should be the same for using the JIVE interface or Taranta web interface."
   ]
  },
  {
   "cell_type": "markdown",
   "metadata": {},
   "source": [
    "### Pre-requisites\n",
    "\n",
    "This notebook has the following assumptions and pre-requisites:\n",
    "* A deployment that includes TMC, CSP.LMC, and CBF is running. For example, one in a namespace `NS` that was launched from the [ska-mid-psi](https://gitlab.com/ska-telescope/ska-mid-psi) pipeline.\n",
    "* Taranta should be enabled in the deployment and the CSP.LMC Monitoring Dashboard can be used to monitor the relevant CSP.LMC and CBF devices.\n",
    "* A virtual environment is being used. This notebook was made with Python 3.10 in mind.\n",
    "* All requirements are installed via [poetry]().\n",
    "* The talon boards `TARGET_TALONS` are powered off.\n",
    "* The Engineering Console scripts are run using kubectl commands. Once the EC Device Servers are fully function, this notebook file can be updated to incorporate them instead.\n",
    "* This notebook assumes there are 4-receptors and 1 FSP. Once 4 FSPs are available, it can be updated to incorporate that."
   ]
  },
  {
   "cell_type": "markdown",
   "metadata": {},
   "source": [
    "## Execution Steps\n",
    "\n",
    "### Initial Parameter Set Up\n",
    "\n",
    "The parameters below (except for `TANGO_HOST`) may need to be updated to match your deployment, environment, and paths. The config files are located within the ska-mid-jupyter-notebooks repository in a subdirectory called `data`.\n",
    "\n",
    "NOTE: There are two hardware config files for the Mid PSI environment. `hw_config_psi.yaml` is used for Talons 1-4 and `hw_config_psi_swap.yaml` is used for Talons 5-8 in the Mid PSI. If USE_SWAP_HW_CONFIG is set to `True`, the HW config file for Talons 5-8 will be used, otherwise the standard HW config file is used."
   ]
  },
  {
   "cell_type": "code",
   "execution_count": null,
   "metadata": {},
   "outputs": [],
   "source": [
    "import os\n",
    "from time import sleep\n",
    "\n",
    "print(\"Setting up parameters\")\n",
    "\n",
    "NS = \"ci-ska-mid-psi-1245030042-maecst\"  # Update namespace accordingly\n",
    "BITE_MAC_ADDRESS = \"08:c0:eb:9d:47:78\"\n",
    "\n",
    "# TANGO HOST set up\n",
    "CLUSTER_DOMAIN = \"cluster.local\"\n",
    "TANGO_DB = \"databaseds-tango-base\"\n",
    "TANGO_HOST = \"10.164.10.119:10000\"\n",
    "os.environ[\"TANGO_HOST\"] = TANGO_HOST\n",
    "\n",
    "TARGET_TALON_LIST = [1, 2, 3, 4]\n",
    "DELIM = \",\"\n",
    "TARGET_TALONS = DELIM.join(map(str, TARGET_TALON_LIST))\n",
    "\n",
    "RECEPTORS = [\"SKA001\", \"SKA036\", \"SKA063\", \"SKA100\"]\n",
    "\n",
    "# Config files set up\n",
    "DATA_DIR = \"../../data\"\n",
    "SCAN_FILE = f\"{DATA_DIR}/scan.json\"\n",
    "RELEASE_RESOURCES_FILE = f\"{DATA_DIR}/release_resources.json\"\n",
    "\n",
    "TMC_CONFIGS = f\"{DATA_DIR}/mid_telescope/tmc\"\n",
    "ASSIGN_RESOURCES_FILE = f\"{TMC_CONFIGS}/assign_resources.json\"\n",
    "CONFIGURE_SCAN_FILE = f\"{TMC_CONFIGS}/configure_scan.json\"\n",
    "\n",
    "CBF_CONFIGS = f\"{DATA_DIR}/mid_telescope/cbf\"\n",
    "USE_SWAP_HW_CONFIG = False  # Update to True if testing on any of talon boards 5-8\n",
    "if USE_SWAP_HW_CONFIG:\n",
    "    print(\"Using swap HW config file \")\n",
    "    HW_CONFIG_FILE = f\"{CBF_CONFIGS}/hw_config/hw_config_swap_psi.yaml\"\n",
    "else:\n",
    "    print(\"Using standard HW config file\")\n",
    "    HW_CONFIG_FILE = f\"{CBF_CONFIGS}/hw_config/hw_config_psi.yaml\"\n",
    "DISH_CONFIG_FILE = f\"{CBF_CONFIGS}/sys_params/load_dish_config.json\"\n",
    "SLIM_CONFIG_FILE = f\"{CBF_CONFIGS}/slim_config/fs_slim_4vcc_1fsp.yaml\""
   ]
  },
  {
   "cell_type": "markdown",
   "metadata": {},
   "source": [
    "### Set Up and Configure Device Proxies "
   ]
  },
  {
   "cell_type": "code",
   "execution_count": null,
   "metadata": {},
   "outputs": [],
   "source": [
    "import json\n",
    "\n",
    "from pytango import DeviceProxy\n",
    "\n",
    "print(\"Setting up the device proxies\")\n",
    "\n",
    "# TMC proxies\n",
    "tmc_central_node = DeviceProxy(\"ska_mid/tm_central/central_node\")\n",
    "tmc_csp_master = DeviceProxy(\"ska_mid/tm_leaf_node/csp_master\")\n",
    "tmc_csp_subarray = DeviceProxy(\"ska_mid/tm_leaf_node/csp_subarray01\")\n",
    "tmc_subarray = DeviceProxy(\"ska_mid/tm_subarray_node/1\")\n",
    "\n",
    "# CSP.LMC proxies\n",
    "csp_control = DeviceProxy(\"mid-csp/control/0\")\n",
    "csp_subarray = DeviceProxy(\"mid-csp/subarray/01\")\n",
    "\n",
    "# CBF proxies\n",
    "cbf_controller = DeviceProxy(\"mid_csp_cbf/sub_elt/controller\")\n",
    "cbf_subarray = DeviceProxy(\"mid_csp_cbf/sub_elt/subarray_01\")\n",
    "\n",
    "# Set devices to adminMode = ONLINE\n",
    "csp_control.adminMode = 0\n",
    "csp_subarray.adminMode = 0\n",
    "\n",
    "sleep(2)\n",
    "print(\"\\nChecking admin mode after setting to ONLINE (0):\")\n",
    "print(f\"  CSP Control: {csp_control.adminMode}\")\n",
    "print(f\"  CSP Subarray: {csp_subarray.adminMode}\")\n",
    "print(f\"  CBF Controller: {cbf_controller.adminMode}\")\n",
    "print(f\"  CBF Subarray: {cbf_subarray.adminMode}\")\n",
    "\n",
    "# Set CBF Simulation mode to false and CBF timeout to 99s\n",
    "csp_control.cbfSimulationMode = 0\n",
    "csp_control.commandTimeout = 99\n",
    "\n",
    "sleep(2)\n",
    "print(\"\\nChecking CBF Simulation Mode and CBF Timeout:\")\n",
    "print(f\"  CBF Simulation Mode: {bool(csp_control.cbfSimulationMode)}\")\n",
    "print(f\"  CBF Timeout: {csp_control.commandTimeout} sec\")"
   ]
  },
  {
   "cell_type": "markdown",
   "metadata": {},
   "source": [
    "### Load the Dish Vcc Config / Init Sys Params"
   ]
  },
  {
   "cell_type": "code",
   "execution_count": null,
   "metadata": {},
   "outputs": [],
   "source": [
    "with open(DISH_CONFIG_FILE, encoding=\"utf-8\") as f:\n",
    "    dish_config_json = f.read()\n",
    "\n",
    "print(f\"dish_config_json file contents: \\n{dish_config_json}\")\n",
    "tmc_central_node.LoadDishCfg(dish_config_json)\n",
    "\n",
    "sleep(2)\n",
    "print(f\"TMC CSP Master's Dish Vcc Config attribute value: \\n{tmc_csp_master.dishVccConfig}\")\n",
    "print(\n",
    "    f\"\\nTMC CSP Master's Source Dish Vcc Config attribute value: \\n{tmc_csp_master.sourceDishVccConfig}\"\n",
    ")"
   ]
  },
  {
   "cell_type": "markdown",
   "metadata": {},
   "source": [
    "### Turn the Telescope On"
   ]
  },
  {
   "cell_type": "code",
   "execution_count": null,
   "metadata": {},
   "outputs": [],
   "source": [
    "print(\"Running the TelescopeOn command\")\n",
    "tmc_central_node.TelescopeOn()\n",
    "\n",
    "print(\"Monitor the kubectl logs for the CBF Controller by running in a shell:\")\n",
    "print(\"kubectl logs -n $NS ds-cbfcontroller-controller-0 -f\")\n",
    "\n",
    "# kubectl logs -n $NS ds-cbfcontroller-controller-0 -f"
   ]
  },
  {
   "cell_type": "code",
   "execution_count": null,
   "metadata": {},
   "outputs": [],
   "source": [
    "print(\"Verifying the states:\")\n",
    "print(f\"  TMC Central Node State: {tmc_central_node.State()}\")\n",
    "print(f\"  CSP Control State: {csp_control.State()}\")\n",
    "print(f\"  CBF Controller State: {cbf_controller.State()}\")\n",
    "print(f\"  TMC Subarray State: {tmc_subarray.State()}\")"
   ]
  },
  {
   "cell_type": "markdown",
   "metadata": {},
   "source": [
    "### Monitor Visibilities Pod\n",
    "\n",
    "These steps should be done in a separate terminal to monitor the packets when replaying the BITE data command a bit below."
   ]
  },
  {
   "cell_type": "code",
   "execution_count": null,
   "metadata": {},
   "outputs": [],
   "source": [
    "# kubectl apply -f viz_pod.yaml\n",
    "# kubectl exec -ti sdn-dynamic-vis-1  -- bash\n",
    "# apt update && apt install -y iproute2 tcpdump\n",
    "# ip a\n",
    "\n",
    "# Update the IP in the Configure Scan to be the IP of the inet interface of the visibilities pod\n",
    "\n",
    "# tcpdump -i net1"
   ]
  },
  {
   "cell_type": "markdown",
   "metadata": {},
   "source": [
    "### Assign Resources"
   ]
  },
  {
   "cell_type": "code",
   "execution_count": null,
   "metadata": {},
   "outputs": [],
   "source": [
    "print(\n",
    "    \"Running the AssignResources command: subarray obsstate should go to Idle and receptor IDs should be assigned\"\n",
    ")\n",
    "\n",
    "with open(ASSIGN_RESOURCES_FILE, encoding=\"utf-8\") as f:\n",
    "    assign_resources_json = json.load(f)\n",
    "    assign_resources_json[\"dish\"][\"receptor_ids\"] = RECEPTORS\n",
    "    assign_resources_json[\"sdp\"][\"resources\"][\"receptors\"] = RECEPTORS\n",
    "\n",
    "\n",
    "print(f\"\\nassign_resources_json file contents: \\n{assign_resources_json}\")\n",
    "\n",
    "tmc_subarray.AssignResources(json.dumps(assign_resources_json))\n",
    "\n",
    "sleep(2)\n",
    "print(f\"\\nCBF Subarray Observation State: {tmc_subarray.obsState}\")\n",
    "print(f\"CBF Subarray Receptors : {cbf_subarray.receptors}\")"
   ]
  },
  {
   "cell_type": "markdown",
   "metadata": {},
   "source": [
    "### Configure Scan"
   ]
  },
  {
   "cell_type": "code",
   "execution_count": null,
   "metadata": {},
   "outputs": [],
   "source": [
    "print(\"Running the Configure command: subarray obsstate should go to Ready\")\n",
    "\n",
    "with open(CONFIGURE_SCAN_FILE, encoding=\"utf-8\") as f:\n",
    "    configure_scan_json = json.load(f)\n",
    "\n",
    "print(f\"\\nconfigure_scan_json file contents: \\n{configure_scan_json}\")\n",
    "\n",
    "print(json.dumps(configure_scan_json))\n",
    "\n",
    "tmc_subarray.Configure(json.dumps(configure_scan_json))\n",
    "\n",
    "sleep(5)\n",
    "print(f\"\\nCBF Subarray Observation State: {cbf_subarray.obsState}\")"
   ]
  },
  {
   "cell_type": "code",
   "execution_count": null,
   "metadata": {},
   "outputs": [],
   "source": [
    "print(f\"\\nCBF Subarray Observation State: {cbf_subarray.obsState}\")"
   ]
  },
  {
   "cell_type": "markdown",
   "metadata": {},
   "source": [
    "### Replay the BITE Data using Engineering Console Bite"
   ]
  },
  {
   "cell_type": "code",
   "execution_count": null,
   "metadata": {},
   "outputs": [],
   "source": [
    "print(\"Replay the BITE Data\")\n",
    "\n",
    "!kubectl exec -ti -n {NS} ec-bite -- python3 midcbf_bite.py --talon-bite-lstv-replay --boards={TARGET_TALONS}\n",
    "\n",
    "print(\"DONE\")"
   ]
  },
  {
   "cell_type": "markdown",
   "metadata": {},
   "source": [
    "### Scan"
   ]
  },
  {
   "cell_type": "code",
   "execution_count": null,
   "metadata": {},
   "outputs": [],
   "source": [
    "print(\"Running the Scan command: subarray obsstate should go to Scanning\")\n",
    "\n",
    "with open(SCAN_FILE, encoding=\"utf-8\") as f:\n",
    "    scan_json = f.read()\n",
    "\n",
    "print(f\"\\nscan_json file contents: \\n{scan_json}\")\n",
    "\n",
    "tmc_csp_subarray.Scan(scan_json)\n",
    "\n",
    "sleep(2)\n",
    "print(f\"\\nCBF Subarray Observation State: {cbf_subarray.obsState}\")"
   ]
  },
  {
   "cell_type": "markdown",
   "metadata": {},
   "source": [
    "### Clean Up\n"
   ]
  },
  {
   "cell_type": "code",
   "execution_count": null,
   "metadata": {},
   "outputs": [],
   "source": [
    "print(\"Running the End Scan command: subarray obsstate should go to Ready state\")\n",
    "\n",
    "tmc_csp_subarray.EndScan()\n",
    "\n",
    "sleep(2)\n",
    "print(f\"\\nCBF Subarray Observation State: {cbf_subarray.obsState}\")"
   ]
  },
  {
   "cell_type": "code",
   "execution_count": null,
   "metadata": {},
   "outputs": [],
   "source": [
    "print(\"Running the End command: subarray obsstate should go to Idle state\")\n",
    "\n",
    "tmc_csp_subarray.End()\n",
    "\n",
    "sleep(2)\n",
    "print(f\"\\nCBF Subarray Observation State: {cbf_subarray.obsState}\")"
   ]
  },
  {
   "cell_type": "code",
   "execution_count": null,
   "metadata": {},
   "outputs": [],
   "source": [
    "print(\n",
    "    \"Running the Release All Resources command: subarray obsstate should go to Empty state and receptor IDs should be empty\"\n",
    ")\n",
    "\n",
    "tmc_csp_subarray.ReleaseAllResources()\n",
    "\n",
    "sleep(2)\n",
    "print(f\"CBF Subarray Observation State: {cbf_subarray.obsState}\")\n",
    "print(f\"CBF Subarray Receptors : {cbf_subarray.receptors}\")"
   ]
  },
  {
   "cell_type": "markdown",
   "metadata": {},
   "source": [
    "### Telescope Off"
   ]
  },
  {
   "cell_type": "code",
   "execution_count": null,
   "metadata": {},
   "outputs": [],
   "source": [
    "print(\"Running the TelescopeOff command\")\n",
    "\n",
    "tmc_central_node.TelescopeOff()\n",
    "\n",
    "sleep(5)\n",
    "print(f\"TMC Central Node State: {tmc_central_node.State()}\")\n",
    "print(f\"CSP Control State: {csp_control.State()}\")\n",
    "print(f\"CBF Controller State: {cbf_controller.State()}\")"
   ]
  }
 ],
 "metadata": {
  "kernelspec": {
   "display_name": "Python 3",
   "language": "python",
   "name": "python3"
  },
  "language_info": {
   "codemirror_mode": {
    "name": "ipython",
    "version": 3
   },
   "file_extension": ".py",
   "mimetype": "text/x-python",
   "name": "python",
   "nbconvert_exporter": "python",
   "pygments_lexer": "ipython3",
   "version": "3.10.12"
  }
 },
 "nbformat": 4,
 "nbformat_minor": 2
}
