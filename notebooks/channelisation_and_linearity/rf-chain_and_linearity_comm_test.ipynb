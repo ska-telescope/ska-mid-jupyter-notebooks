{
 "cells": [
  {
   "cell_type": "markdown",
   "id": "9ea536d6",
   "metadata": {},
   "source": [
    "# RF Chain and Linearity Commissioning Test\n",
    "copied from system health displays NB to be updated"
   ]
  },
  {
   "cell_type": "markdown",
   "id": "524f1991",
   "metadata": {},
   "source": [
    "## Table of Contents\n",
    "#### [1 - Global Configuration](#1-global-configuration)\n",
    "#### [2 - Setup Test Equipment](#2-test-equipment-setup)\n",
    "#### [3 - Configure Scan Tests](#3-configure-scan-tests)\n",
    "#### [4 - Debug Telescope](#4-debug-telescope)\n",
    "#### [5 - Dashboard Links](#5-dashboard-links)\n",
    "#### [6 - System Health Displays Tests](#6-system-health-displays-tests)"
   ]
  },
  {
   "cell_type": "markdown",
   "id": "9534ae98",
   "metadata": {},
   "source": [
    "## 1 Global Configuration"
   ]
  },
  {
   "cell_type": "markdown",
   "id": "1d9885e1",
   "metadata": {},
   "source": [
    "### 1.1 Import dependencies"
   ]
  },
  {
   "cell_type": "code",
   "execution_count": 1,
   "id": "6ea49e47",
   "metadata": {},
   "outputs": [
    {
     "name": "stdout",
     "output_type": "stream",
     "text": [
      "Done\n"
     ]
    }
   ],
   "source": [
    "import sys\n",
    "\n",
    "sys.path.append(\"../../src\")\n",
    "\n",
    "import json\n",
    "import logging\n",
    "import os\n",
    "import pathlib\n",
    "import time\n",
    "import tango\n",
    "\n",
    "import ska_ser_logging\n",
    "from bokeh.io import output_notebook\n",
    "from ska_oso_pdm.entities.common.target import (\n",
    "    CrossScanParameters,\n",
    "    FivePointParameters,\n",
    "    RasterParameters,\n",
    "    SinglePointParameters,\n",
    "    StarRasterParameters,\n",
    ")\n",
    "from ska_oso_pdm.entities.sdp import BeamMapping\n",
    "from ska_oso_scripting import oda_helper\n",
    "from ska_oso_scripting.functions.devicecontrol.resource_control import get_request_json\n",
    "from ska_oso_scripting.objects import SubArray, Telescope\n",
    "from ska_tmc_cdm.messages.central_node.assign_resources import AssignResourcesRequest\n",
    "from ska_tmc_cdm.messages.central_node.sdp import Channel\n",
    "from ska_tmc_cdm.messages.subarray_node.configure import ConfigureRequest\n",
    "from ska_tmc_cdm.messages.subarray_node.configure.core import ReceiverBand\n",
    "\n",
    "from ska_mid_jupyter_notebooks.cluster.cluster import Environment, TangoDeployment\n",
    "from ska_mid_jupyter_notebooks.dish.dish import TangoDishDeployment\n",
    "from ska_mid_jupyter_notebooks.helpers.path import project_root\n",
    "from ska_mid_jupyter_notebooks.obsconfig.config import ObservationSB\n",
    "from ska_mid_jupyter_notebooks.obsconfig.target_spec import TargetSpec\n",
    "from ska_mid_jupyter_notebooks.sut.rendering import TelescopeMononitorPlot\n",
    "from ska_mid_jupyter_notebooks.sut.state import TelescopeDeviceModel, get_telescope_state\n",
    "from ska_mid_jupyter_notebooks.sut.sut import TangoSUTDeployment, disable_qa\n",
    "from ska_mid_jupyter_notebooks.test_equipment.rendering import get_test_equipment_monitor_plot\n",
    "from ska_mid_jupyter_notebooks.test_equipment.state import get_equipment_model\n",
    "from ska_mid_jupyter_notebooks.test_equipment.test_equipment import TangoTestEquipment\n",
    "print(\"Done\")"
   ]
  },
  {
   "cell_type": "markdown",
   "id": "c9e6cc6d",
   "metadata": {},
   "source": [
    "### 1.2 Setup Global Variables and Configuration"
   ]
  },
  {
   "cell_type": "code",
   "execution_count": 2,
   "id": "0b0c3b4c",
   "metadata": {},
   "outputs": [
    {
     "name": "stdout",
     "output_type": "stream",
     "text": [
      "Test Equipment Configured: TangoTestEquipment{Deployment: namespace=test-equipment; tango_host=tango-databaseds.test-equipment.svc.miditf.internal.skao.int:10000; cluster_domain=miditf.internal.skao.int; cia_url=http://config-inspector.test-equipment.svc.miditf.internal.skao.int:8765}\n",
      "\n",
      "SUT configured: TangoSUTDeployment{subarray_index=1; Deployment: namespace=integration; tango_host=tango-databaseds.integration.svc.miditf.internal.skao.int:10000; cluster_domain=miditf.internal.skao.int; cia_url=http://config-inspector.integration.svc.miditf.internal.skao.int:8765}\n",
      "\n",
      "Dish 0001 configured: TangoDishDeployment{dish_id=ska001; Deployment: namespace=integration-dish-lmc-ska001; tango_host=tango-databaseds.integration-dish-lmc-ska001.svc.miditf.internal.skao.int:10000; cluster_domain=miditf.internal.skao.int; cia_url=http://config-inspector.integration-dish-lmc-ska001.svc.miditf.internal.skao.int:8765}\n",
      "\n",
      "Dish 0036 configured: TangoDishDeployment{dish_id=ska036; Deployment: namespace=integration-dish-lmc-ska036; tango_host=tango-databaseds.integration-dish-lmc-ska036.svc.miditf.internal.skao.int:10000; cluster_domain=miditf.internal.skao.int; cia_url=http://config-inspector.integration-dish-lmc-ska036.svc.miditf.internal.skao.int:8765}\n",
      "\n",
      "Done\n"
     ]
    }
   ],
   "source": [
    "# print(f\"DISH_LMC_IN_THE_LOOP={os.environ('DISH_LMC_IN_THE_LOOP')}\")\n",
    "debug_mode = True  # This setting enables printing of diagnostics\n",
    "enable_logging = False  # This enables logging and sets the global log_level to debug\n",
    "dishlmc_enabled = True  # Set this to true if you have a dish LMC deployment\n",
    "executon_environment = Environment.Integration\n",
    "branch_name = None  # Set this if you are using an on-demand deployment (i.e. Environment.CI)\n",
    "if enable_logging:\n",
    "    ska_ser_logging.configure_logging(logging.DEBUG)\n",
    "else:\n",
    "    ska_ser_logging.configure_logging(logging.INFO)\n",
    "test_equipment = TangoTestEquipment()\n",
    "print(f\"Test Equipment Configured: {test_equipment}\\n\")\n",
    "# namespace_override parameter can be used to override auto-configured SUT namespace\n",
    "sut_namespace_override = \"\"\n",
    "subarray_count = 1\n",
    "subarray_id = 1\n",
    "sut = TangoSUTDeployment(\n",
    "    branch_name,\n",
    "    executon_environment,\n",
    "    namespace_override=sut_namespace_override,\n",
    "    subarray_index=subarray_id,\n",
    ")\n",
    "print(f\"SUT configured: {str(sut)}\\n\")\n",
    "dish_ids = [\"0001\", \"0036\"]\n",
    "# namespace_override parameter can be used to override auto-configured dish namespace\n",
    "dish_namespace_overrides = [\"\", \"\"]\n",
    "if dishlmc_enabled:\n",
    "    dish_deployments = []\n",
    "    for i, d in enumerate(dish_ids):\n",
    "        dish = TangoDishDeployment(\n",
    "            f\"ska{d[1:]}\",\n",
    "            branch_name=branch_name,\n",
    "            environment=executon_environment,\n",
    "            namespace_override=dish_namespace_overrides[i],\n",
    "        )\n",
    "        print(f\"Dish {d} configured: {dish}\\n\")\n",
    "        dish_deployments.append(dish)\n",
    "else:\n",
    "    dish_deployments = []\n",
    "\n",
    "timestr = time.strftime(\"%Y%m%d-%H%M\")\n",
    "notebook_output_dir = pathlib.Path(\n",
    "    project_root(), f\"notebook-execution-data/configure_scan_for_commissioning/execution-{timestr}\"\n",
    ")\n",
    "os.makedirs(notebook_output_dir)\n",
    "# we disable qa as it is not been properly verified\n",
    "disable_qa()\n",
    "print(\"Done\")"
   ]
  },
  {
   "cell_type": "markdown",
   "id": "4b7fa8f6",
   "metadata": {},
   "source": [
    "### 1.3 Test Connections to Namespaces"
   ]
  },
  {
   "cell_type": "code",
   "execution_count": 3,
   "id": "31882e18",
   "metadata": {},
   "outputs": [
    {
     "name": "stdout",
     "output_type": "stream",
     "text": [
      "CIA PingResponse (integration): {\"result\":\"ok\",\"time\":\"2024-05-13T11:46:30.687451\"}\n",
      "CIA PingResponse (test-equipment): {\"result\":\"ok\",\"time\":\"2024-05-13T11:46:31.352086\"}\n",
      "mid-itf/siggen/1 is reachable\n",
      "mid-itf/progattenuator/1 is reachable\n",
      "mid-itf/spectana/1 is reachable\n",
      "mid-itf/skysimctl/4 is reachable\n",
      "CIA PingResponse (integration-dish-lmc-ska001): {\"result\":\"ok\",\"time\":\"2024-05-13T11:46:33.026220\"}\n",
      "CIA PingResponse (integration-dish-lmc-ska036): {\"result\":\"ok\",\"time\":\"2024-05-13T11:46:33.692310\"}\n",
      "Done\n"
     ]
    }
   ],
   "source": [
    "sut.smoke_test()\n",
    "test_equipment.smoke_test()\n",
    "for dish_deployment in dish_deployments:\n",
    "    dish_deployment.smoke_test()\n",
    "print(\"Done\")"
   ]
  },
  {
   "cell_type": "markdown",
   "id": "52120d53",
   "metadata": {},
   "source": [
    "### 1.4 Export System Configuration"
   ]
  },
  {
   "cell_type": "code",
   "execution_count": 4,
   "id": "8fdb3717",
   "metadata": {},
   "outputs": [
    {
     "name": "stdout",
     "output_type": "stream",
     "text": [
      "Exporting configuration using http://config-inspector.integration.svc.miditf.internal.skao.int:8765\n",
      "ReleaseResponse (integration): {\n",
      "    \"chart\": \"ska-mid-itf\",\n",
      "    \"version\": \"22.0.1\",\n",
      "    \"sub_charts\": [\n",
      "        {\n",
      "            \"chart\": \"ska-tango-base\",\n",
      "            \"version\": \"0.4.9\"\n",
      "        },\n",
      "        {\n",
      "            \"chart\": \"ska-tango-util\",\n",
      "            \"version\": \"0.4.10\"\n",
      "        },\n",
      "        {\n",
      "            \"chart\": \"ska-tmc-mid\",\n",
      "            \"version\": \"0.19.1\"\n",
      "        },\n",
      "        {\n",
      "            \"chart\": \"ska-csp-lmc-mid\",\n",
      "            \"version\": \"0.18.2\"\n",
      "        },\n",
      "        {\n",
      "            \"chart\": \"ska-mid-cbf-mcs\",\n",
      "            \"version\": \"0.14.1\"\n",
      "        },\n",
      "        {\n",
      "            \"chart\": \"ska-sdp\",\n",
      "            \"version\": \"0.19.1\"\n",
      "        },\n",
      "        {\n",
      "            \"chart\": \"ska-ser-config-inspector\",\n",
      "            \"version\": \"0.2.2\"\n",
      "        },\n",
      "        {\n",
      "            \"chart\": \"ska-tango-taranta\",\n",
      "            \"version\": \"2.8.3\"\n",
      "        },\n",
      "        {\n",
      "            \"chart\": \"ska-tango-tangogql\",\n",
      "            \"version\": \"1.3.10\"\n",
      "        },\n",
      "        {\n",
      "            \"chart\": \"ska-tango-alarmhandler\",\n",
      "            \"version\": \"0.4.0\"\n",
      "        },\n",
      "        {\n",
      "            \"chart\": \"ska-tango-archiver\",\n",
      "            \"version\": \"2.7.0\"\n",
      "        }\n",
      "    ]\n",
      "}\n",
      "Exported chart from integration configuration to /usr/local/lib/skao/ska_mid_jupyter_notebooks/helpers/../../../notebook-execution-data/configure_scan_for_commissioning/execution-20240513-1346/config-integration.json\n",
      "Exporting configuration using http://config-inspector.test-equipment.svc.miditf.internal.skao.int:8765\n",
      "ReleaseResponse (test-equipment): {\n",
      "    \"chart\": \"ska-mid-itf\",\n",
      "    \"version\": \"21.0.11\",\n",
      "    \"sub_charts\": [\n",
      "        {\n",
      "            \"chart\": \"ska-tango-base\",\n",
      "            \"version\": \"0.4.9\"\n",
      "        },\n",
      "        {\n",
      "            \"chart\": \"ska-tango-util\",\n",
      "            \"version\": \"0.4.10\"\n",
      "        },\n",
      "        {\n",
      "            \"chart\": \"ska-ser-test-equipment\",\n",
      "            \"version\": \"0.9.1\"\n",
      "        },\n",
      "        {\n",
      "            \"chart\": \"ska-tango-taranta\",\n",
      "            \"version\": \"2.8.3\"\n",
      "        },\n",
      "        {\n",
      "            \"chart\": \"ska-tango-tangogql\",\n",
      "            \"version\": \"1.3.10\"\n",
      "        },\n",
      "        {\n",
      "            \"chart\": \"ska-ser-config-inspector\",\n",
      "            \"version\": \"0.2.2\"\n",
      "        }\n",
      "    ]\n",
      "}\n",
      "Exported chart from test-equipment configuration to /usr/local/lib/skao/ska_mid_jupyter_notebooks/helpers/../../../notebook-execution-data/configure_scan_for_commissioning/execution-20240513-1346/config-test-equipment.json\n",
      "Exporting configuration using http://config-inspector.integration-dish-lmc-ska001.svc.miditf.internal.skao.int:8765\n",
      "ReleaseResponse (integration-dish-lmc-ska001): {\n",
      "    \"chart\": \"ska-mid-itf-dish-lmc\",\n",
      "    \"version\": \"22.0.1\",\n",
      "    \"sub_charts\": [\n",
      "        {\n",
      "            \"chart\": \"ska-tango-base\",\n",
      "            \"version\": \"0.4.9\"\n",
      "        },\n",
      "        {\n",
      "            \"chart\": \"ska-tango-util\",\n",
      "            \"version\": \"0.4.10\"\n",
      "        },\n",
      "        {\n",
      "            \"chart\": \"ska-tango-taranta\",\n",
      "            \"version\": \"2.8.3\"\n",
      "        },\n",
      "        {\n",
      "            \"chart\": \"ska-tango-tangogql\",\n",
      "            \"version\": \"1.3.10\"\n",
      "        },\n",
      "        {\n",
      "            \"chart\": \"ska-dish-lmc\",\n",
      "            \"version\": \"3.2.0\"\n",
      "        },\n",
      "        {\n",
      "            \"chart\": \"ska-ser-config-inspector\",\n",
      "            \"version\": \"0.2.2\"\n",
      "        }\n",
      "    ]\n",
      "}\n",
      "Exported chart from integration-dish-lmc-ska001 configuration to /usr/local/lib/skao/ska_mid_jupyter_notebooks/helpers/../../../notebook-execution-data/configure_scan_for_commissioning/execution-20240513-1346/config-integration-dish-lmc-ska001.json\n",
      "Exporting configuration using http://config-inspector.integration-dish-lmc-ska036.svc.miditf.internal.skao.int:8765\n",
      "ReleaseResponse (integration-dish-lmc-ska036): {\n",
      "    \"chart\": \"ska-mid-itf-dish-lmc\",\n",
      "    \"version\": \"22.0.1\",\n",
      "    \"sub_charts\": [\n",
      "        {\n",
      "            \"chart\": \"ska-tango-base\",\n",
      "            \"version\": \"0.4.9\"\n",
      "        },\n",
      "        {\n",
      "            \"chart\": \"ska-tango-util\",\n",
      "            \"version\": \"0.4.10\"\n",
      "        },\n",
      "        {\n",
      "            \"chart\": \"ska-tango-taranta\",\n",
      "            \"version\": \"2.8.3\"\n",
      "        },\n",
      "        {\n",
      "            \"chart\": \"ska-tango-tangogql\",\n",
      "            \"version\": \"1.3.10\"\n",
      "        },\n",
      "        {\n",
      "            \"chart\": \"ska-dish-lmc\",\n",
      "            \"version\": \"3.2.0\"\n",
      "        },\n",
      "        {\n",
      "            \"chart\": \"ska-ser-config-inspector\",\n",
      "            \"version\": \"0.2.2\"\n",
      "        }\n",
      "    ]\n",
      "}\n",
      "Exported chart from integration-dish-lmc-ska036 configuration to /usr/local/lib/skao/ska_mid_jupyter_notebooks/helpers/../../../notebook-execution-data/configure_scan_for_commissioning/execution-20240513-1346/config-integration-dish-lmc-ska036.json\n",
      "Done\n"
     ]
    }
   ],
   "source": [
    "deployment: TangoDeployment\n",
    "for deployment in [sut, test_equipment, *dish_deployments]:\n",
    "    deployment.export_chart_configuration(output_dir=notebook_output_dir)\n",
    "print(\"Done\")"
   ]
  },
  {
   "cell_type": "markdown",
   "id": "68a151c2",
   "metadata": {},
   "source": [
    "## 2 Test Equipment Setup\n",
    "\n",
    "Use the noise source at nominal levels for input to at least one SPFRx.  "
   ]
  },
  {
   "cell_type": "markdown",
   "id": "41db3a5d",
   "metadata": {},
   "source": [
    "### 2.1 Configure Test Equipment State "
   ]
  },
  {
   "cell_type": "code",
   "execution_count": 5,
   "id": "3eacd7aa",
   "metadata": {},
   "outputs": [
    {
     "name": "stdout",
     "output_type": "stream",
     "text": [
      "Done\n"
     ]
    }
   ],
   "source": [
    "test_equipment_state = get_equipment_model(test_equipment)\n",
    "test_equipment.devices\n",
    "print(\"Done\")"
   ]
  },
  {
   "cell_type": "markdown",
   "id": "0d6f1e21",
   "metadata": {},
   "source": [
    "### 2.2 Print Test Equipment Diagnostics"
   ]
  },
  {
   "cell_type": "code",
   "execution_count": 6,
   "id": "b019c7ab",
   "metadata": {},
   "outputs": [
    {
     "name": "stdout",
     "output_type": "stream",
     "text": [
      "mid-itf/skysimctl/4 State: ON\n",
      "mid-itf/skysimctl/4 Band: 1\n",
      "mid-itf/skysimctl/4 Correlated_Noise_Source: True\n",
      "mid-itf/skysimctl/4 Uncorrelated_Noise_Sources: False\n",
      "mid-itf/skysimctl/4 H_Channel: False\n",
      "mid-itf/skysimctl/4 V_Channel: False\n",
      "mid-itf/skysimctl/4 temperature: 24.0\n",
      "mid-itf/skysimctl/4 humidity: 0.0\n",
      "mid-itf/siggen/1 versionId: 0.9.1\n",
      "mid-itf/siggen/1 adminMode: 0\n",
      "mid-itf/siggen/1 State: ON\n",
      "mid-itf/siggen/1 healthState: HealthState.UNKNOWN\n",
      "mid-itf/siggen/1 frequency: 800000000.0\n",
      "mid-itf/siggen/1 power_cycled: False\n",
      "mid-itf/siggen/1 power_dbm: -30.0\n",
      "mid-itf/siggen/1 rf_output_on: True\n",
      "mid-itf/siggen/1 controlMode: 0\n",
      "mid-itf/siggen/1 simulationMode: 0\n",
      "mid-itf/siggen/1 testMode: 0\n",
      "mid-itf/siggen/1 loggingLevel: 4\n",
      "mid-itf/siggen/1 command_error: False\n",
      "mid-itf/siggen/1 device_error: False\n",
      "mid-itf/siggen/1 execution_error: False\n",
      "mid-itf/siggen/1 query_error: False\n",
      "mid-itf/spectana/1 adminMode: 0\n",
      "mid-itf/spectana/1 State: ON\n",
      "mid-itf/spectana/1 attenuation: 15\n",
      "mid-itf/spectana/1 frequency_start: 1650000000\n",
      "mid-itf/spectana/1 frequency_stop: 1650000000\n",
      "mid-itf/spectana/1 marker_frequency: 1800000\n",
      "mid-itf/spectana/1 marker_power: nan\n",
      "mid-itf/spectana/1 rbw: 10000000\n",
      "mid-itf/spectana/1 sweep_points: 1001\n",
      "mid-itf/spectana/1 trace1: #46908-56.31,-55.58,-55.92,-55.25,-55.73,-55.02,-55.72,-55.57,-55.34,-56.02,-55.6,-55.99,-55.38,-55.96,-55.34,-56.1,-54.67,-56.12,-55.31,-56.43,-55.46,-55.22,-55.17,-55.78,-55.23,-55.91,-56.31,-55.9,-54.97,-55.97,-55.49,-55.55,-56.06,-55.44,-56.09,-55.49,-54.71,-55.98,-55.52,-54.68,-55.74,-55.73,-56.33,-55.42,-56.12,-55.1,-56.04,-54.07,-54.98,-55.67,-54.51,-54.21,-55.61,-56.31,-55.28,-55.34,-55.95,-55.31,-55.86,-55.66,-55.97,-56.01,-55.08,-55.34,-55.72,-55.96,-55.46,-54.7,-55,-54.79,-55.71,-55.71,-55.93,-55.43,-55.14,-55.98,-55.02,-54.87,-55.4,-55.1,-55.97,-55.55,-55.71,-55.93,-55.12,-55.44,-55.23,-55.37,-56.14,-55.76,-55.83,-55.8,-55.13,-55.7,-56.51,-55.87,-55.99,-55.09,-55.22,-56.28,-55.61,-55.36,-55.35,-55.52,-55.87,-55.53,-55.6,-55.6,-55.64,-56.37,-54.86,-55.93,-55.02,-53.83,-54.09,-55.5,-54.85,-54.87,-55.65,-55.59,-54.81,-55.26,-55.66,-55.17,-55.82,-55.34,-55.84,-54.93,-55.87,-55.84,-55.32,-55.82,-56.01,-56.17,-55.67,-55.69,-56.21,-55.82,-54.79,-55.68,-55.95,-54.74,-55.75,-54.88,-55.02,-56.11,-55.17,-55.26,-55.99,-55.58,-55.62,-55.61,-55.07,-55.45,-55.76,-55.69,-54.6,-55.78,-55.85,-55.21,-53.41,-54.82,-55.13,-55.55,-56.33,-54.35,-54.94,-54.93,-55.86,-54.95,-55.87,-55.71,-55.03,-55.11,-55.72,-55.22,-55.68,-55.57,-55.82,-56.49,-55.97,-54.98,-55.95,-55.87,-55.24,-54.48,-55.5,-55.11,-55.65,-55.68,-55.45,-55.82,-55.63,-56.01,-54.89,-54.49,-55.86,-55.49,-55.56,-55.06,-56,-55.36,-55.32,-55.73,-55.84,-55.79,-54.68,-55.62,-55.9,-56.25,-56.11,-55.78,-55.03,-55.75,-54.85,-55.15,-55.49,-55.86,-55.84,-55.87,-54.29,-55.08,-55.86,-54.95,-55.78,-55.82,-55.77,-56.19,-56.11,-55.92,-55.12,-55.68,-55.12,-55.15,-55.73,-55.43,-54.87,-55.76,-55.74,-55.19,-54.71,-55.36,-55.61,-55.44,-55.06,-55.98,-55.59,-55.61,-55.28,-54.2,-56.2,-56.03,-55.88,-54.66,-55.52,-56.35,-55.79,-55.34,-55.61,-54.9,-55.9,-55.75,-55.69,-55.74,-56.11,-55.04,-56,-55.61,-55.08,-56.29,-55.65,-55.57,-55.59,-54.89,-55.79,-56.06,-55.08,-55.52,-55,-56.19,-55.98,-55.73,-55.86,-56.12,-55.28,-56.25,-55.46,-55.4,-56.33,-55.82,-55.39,-56.03,-55.64,-55.13,-56.11,-55.27,-54.88,-55.62,-55.19,-55.48,-55.96,-55.86,-55.28,-55.75,-55.69,-56.14,-55.94,-55.05,-55.34,-55.94,-55.65,-54.87,-55.7,-55.39,-56.37,-55.36,-55.07,-55.9,-55.08,-55.51,-55.27,-55.7,-55.09,-55.02,-55.92,-55.95,-55.94,-55.81,-55.2,-55.45,-54.45,-54.15,-54.09,-55.11,-56.03,-56.15,-55.71,-55.28,-56.1,-55.84,-55.81,-55.63,-55.56,-55.68,-55.87,-55.71,-55.65,-55.43,-54.87,-55.77,-55.87,-55.73,-55.53,-55.79,-55.95,-55.47,-55.6,-55.97,-55.16,-56.07,-55.53,-55.93,-55.43,-55.69,-55.18,-55.33,-55.92,-55.1,-55.89,-54.64,-55.59,-55.86,-55.7,-56.01,-55.19,-54.98,-55.87,-55.32,-55.94,-55.54,-55.68,-55.21,-55.03,-55.59,-55.21,-55.02,-55.72,-56.15,-55.62,-55.2,-56.43,-55.5,-55.96,-55.09,-55.88,-55.9,-55.49,-55.98,-55.09,-54.62,-55.64,-55.95,-55.54,-56.08,-55.45,-55.74,-55.18,-55.37,-55.64,-55.28,-55.26,-55.25,-55.88,-55.94,-55.38,-55.84,-55.61,-55.57,-55.35,-54.74,-55.4,-55.75,-55.97,-53.52,-56,-55.75,-55.95,-55.93,-55.7,-55.11,-55.1,-55.03,-55.23,-55.79,-55.32,-55.86,-55.26,-55.45,-55.79,-55.71,-56.11,-56.12,-56.19,-55.49,-55.42,-55.83,-56.66,-55.83,-55.06,-55.8,-55.78,-55.71,-55.97,-55.36,-55.43,-55.43,-55.79,-56.02,-55.7,-55.5,-55.89,-55.45,-55.19,-55.72,-55.15,-55.92,-55.02,-56.15,-56.5,-55.31,-54.64,-56.01,-55.54,-54.4,-56.07,-55.45,-55.59,-55.24,-56.14,-53.6,-55.37,-55.57,-55.13,-55.34,-55.02,-56.32,-55.24,-55.63,-55.96,-55.39,-55.91,-54.6,-54.88,-55.68,-55.4,-56.34,-55.63,-55.75,-56.01,-55.7,-54.83,-55.48,-55.59,-54.35,-55.24,-55.72,-55.51,-55.36,-55.46,-55.47,-55.75,-55.84,-55.19,-55.64,-55.68,-56.05,-55.96,-55.09,-54.85,-55.73,-55.14,-55.78,-55.33,-55.28,-55.72,-55.38,-55.42,-56.26,-54.43,-55.66,-56.12,-54.45,-55.67,-55.51,-55.82,-55.58,-55.73,-56.14,-55.46,-55.1,-55.44,-55.96,-55.15,-55.38,-55.38,-56.24,-55.7,-55.41,-56.56,-56.01,-55.1,-55.54,-55.33,-55.62,-55.16,-54.95,-55.38,-54.85,-55.71,-55.15,-55.74,-55.95,-55.32,-54.78,-55.27,-55.76,-55.48,-54.67,-56.07,-54.65,-55.43,-55.43,-55.15,-55.22,-55.54,-55.12,-55.37,-55.67,-55.93,-55.06,-56.15,-55.71,-54.9,-55.89,-55.93,-54.12,-55.64,-55.77,-55.23,-55.51,-55.37,-55.67,-55.13,-55.24,-55.25,-54.65,-55.23,-55.79,-56.04,-54.94,-55.96,-54.65,-55.46,-56.08,-54.77,-55.66,-55.23,-56.17,-55.36,-55.85,-55.99,-56.02,-54.04,-55.61,-54.08,-55.67,-55.76,-55.87,-55.6,-55.33,-56.25,-56.06,-54.93,-55.02,-55.36,-55.32,-56.68,-54.74,-55.51,-55.58,-54.95,-55.62,-55.51,-55.62,-55.89,-55.05,-55.44,-55.22,-54.31,-56.36,-55.24,-55.76,-56.06,-55.93,-54.93,-55.95,-55.13,-55.05,-55.35,-55.58,-54.85,-55.93,-54.88,-55.84,-55.8,-56.13,-55.76,-56.1,-55.98,-55.82,-53.82,-54.89,-55.51,-54.49,-55.58,-55.27,-55.42,-56.16,-55.83,-54.89,-56.22,-55.41,-55.52,-55.77,-55.37,-55.16,-54.72,-55.66,-55.66,-56.01,-56.05,-55.15,-54.57,-55.65,-54.56,-54.81,-55.85,-54.71,-55.01,-55.68,-55.11,-55.83,-55.44,-54.79,-55.81,-54.45,-55.97,-55.32,-55.36,-54.4,-55.59,-55.3,-55.61,-56.17,-55.71,-55.65,-55.13,-55.54,-55.64,-55.26,-55.44,-55.17,-55.19,-54.7,-55.37,-56.46,-55.97,-54.55,-55.45,-55.15,-56.05,-55.21,-55.95,-56.07,-56.41,-54.97,-56.13,-54.94,-54.7,-54.3,-55.36,-55.41,-55.86,-56.22,-55.11,-56.11,-55.49,-55.99,-54.65,-55.58,-55.88,-56.1,-55.13,-55.96,-56.08,-55.56,-55.66,-54.84,-55.02,-55.7,-55.69,-55.21,-55.39,-55.26,-55.32,-55.27,-55.05,-55.74,-55.51,-54.76,-55.99,-55.37,-55.92,-55.6,-55.38,-55.58,-55.5,-55.48,-56,-55.74,-55.05,-55.53,-55.78,-56.15,-55.81,-55.55,-55.15,-55.48,-55.22,-56.21,-55.59,-55.64,-54.8,-55.43,-55.5,-55.71,-54.92,-55.39,-56.08,-53.98,-55.08,-55.88,-55.26,-55.67,-55.98,-54.83,-55.48,-55.59,-55.39,-54.98,-55.77,-56.35,-56.26,-56.05,-54.42,-56.22,-55.67,-55.53,-55.51,-55.53,-55.09,-55.09,-54.62,-55.38,-55.07,-55.61,-55.21,-55.73,-55.47,-55.31,-55.34,-55.14,-55.74,-54.69,-54.93,-55.89,-53.74,-55.61,-54.98,-55.16,-56.3,-55.2,-54.51,-55.39,-56.01,-55.71,-55.4,-55.98,-55.04,-55.79,-55.78,-55.69,-55.45,-55.65,-55.93,-55,-55.83,-55.68,-55.51,-54.95,-55.43,-55.94,-56.15,-54.73,-55.55,-56.17,-56.41,-54.55,-55.71,-55.97,-55.74,-56.42,-55.83,-55.81,-55.66,-56.02,-55.78,-56.08,-56.21,-55.46,-54.89,-55.59,-55.17,-56.22,-55.99,-55.61,-55.6,-54.65,-56.06,-54.71,-55.07,-56.32,-56.1,-54.54,-55.33,-55.8,-55.8,-55.29,-55.57,-56.29,-55.71,-55.8,-54.51,-56.15,-55.73,-55.91,-55.96,-55.53,-55.54,-56.51,-54.94,-56.13,-55.65,-55.14,-55.6,-56.17,-56.22,-55.28,-55.91,-56.34,-55.54,-55.6,-54.62,-56.24,-55.28,-55.6,-56.11,-55.86,-55.47,-56.04,-55.08,-56.28,-55.48,-55.73,-55.82,-55.04,-55.8,-55.38,-55.13,-55.01,-55.32,-55.71,-54.49,-55.33,-54.24,-55.97,-55.43,-54.86,-55.5,-55.57,-55.01,-55.38,-55.48,-56.12,-55.91,-55.84,-55.44,-54.64,-55.85,-55.05,-55.38,-55.69,-54.81,-55.74,-55.26,-55.77,-55.33,-55.17,-55.7,-55.45,-55.88,-55.76,-55.45,-55.61,-55.39,-55.77,-54.72,-55.28,-55.63,-55.74,-55.52,-55.31,-56.01,-54.68,-55.19,-55.93,-55.24,-55.76,-54.63,-54.81,-55.07,-55.39,-55.61,-56.01,-55.97,-55.44,-55.68,-55.88,-56.24,-55.09,-55.6,-55.85,-55.04,-55.51,-55.45,-55.4,-55.48,-54.48,-55.44,-55.95,-54.89\n",
      "mid-itf/progattenuator/1 versionId: 0.9.1\n",
      "mid-itf/progattenuator/1 model_name: MN=RCDAT-8000-30\n",
      "mid-itf/progattenuator/1 adminMode: 0\n",
      "mid-itf/progattenuator/1 State: UNKNOWN\n"
     ]
    },
    {
     "name": "stdout",
     "output_type": "stream",
     "text": [
      "mid-itf/progattenuator/1 channel_1: 10.0\n",
      "mid-itf/progattenuator/1 controlMode: 0\n",
      "mid-itf/progattenuator/1 healthState: HealthState.UNKNOWN\n",
      "mid-itf/progattenuator/1 loggingLevel: 5\n",
      "mid-itf/progattenuator/1 simulationMode: 0\n",
      "mid-itf/progattenuator/1 testMode: 0\n",
      "Done\n"
     ]
    }
   ],
   "source": [
    "test_equipment.print_diagnostics()\n",
    "print(\"Done\")"
   ]
  },
  {
   "cell_type": "markdown",
   "id": "6d86ab44",
   "metadata": {},
   "source": [
    "### 2.3 Create Test Equipment Plot"
   ]
  },
  {
   "cell_type": "code",
   "execution_count": 8,
   "id": "43b23de6",
   "metadata": {},
   "outputs": [
    {
     "data": {
      "text/html": [
       "    <style>\n",
       "        .bk-notebook-logo {\n",
       "            display: block;\n",
       "            width: 20px;\n",
       "            height: 20px;\n",
       "            background-image: url(data:image/png;base64,iVBORw0KGgoAAAANSUhEUgAAABQAAAAUCAYAAACNiR0NAAAABHNCSVQICAgIfAhkiAAAAAlwSFlzAAALEgAACxIB0t1+/AAAABx0RVh0U29mdHdhcmUAQWRvYmUgRmlyZXdvcmtzIENTNui8sowAAAOkSURBVDiNjZRtaJVlGMd/1/08zzln5zjP1LWcU9N0NkN8m2CYjpgQYQXqSs0I84OLIC0hkEKoPtiH3gmKoiJDU7QpLgoLjLIQCpEsNJ1vqUOdO7ppbuec5+V+rj4ctwzd8IIbbi6u+8f1539dt3A78eXC7QizUF7gyV1fD1Yqg4JWz84yffhm0qkFqBogB9rM8tZdtwVsPUhWhGcFJngGeWrPzHm5oaMmkfEg1usvLFyc8jLRqDOMru7AyC8saQr7GG7f5fvDeH7Ej8CM66nIF+8yngt6HWaKh7k49Soy9nXurCi1o3qUbS3zWfrYeQDTB/Qj6kX6Ybhw4B+bOYoLKCC9H3Nu/leUTZ1JdRWkkn2ldcCamzrcf47KKXdAJllSlxAOkRgyHsGC/zRday5Qld9DyoM4/q/rUoy/CXh3jzOu3bHUVZeU+DEn8FInkPBFlu3+nW3Nw0mk6vCDiWg8CeJaxEwuHS3+z5RgY+YBR6V1Z1nxSOfoaPa4LASWxxdNp+VWTk7+4vzaou8v8PN+xo+KY2xsw6une2frhw05CTYOmQvsEhjhWjn0bmXPjpE1+kplmmkP3suftwTubK9Vq22qKmrBhpY4jvd5afdRA3wGjFAgcnTK2s4hY0/GPNIb0nErGMCRxWOOX64Z8RAC4oCXdklmEvcL8o0BfkNK4lUg9HTl+oPlQxdNo3Mg4Nv175e/1LDGzZen30MEjRUtmXSfiTVu1kK8W4txyV6BMKlbgk3lMwYCiusNy9fVfvvwMxv8Ynl6vxoByANLTWplvuj/nF9m2+PDtt1eiHPBr1oIfhCChQMBw6Aw0UulqTKZdfVvfG7VcfIqLG9bcldL/+pdWTLxLUy8Qq38heUIjh4XlzZxzQm19lLFlr8vdQ97rjZVOLf8nclzckbcD4wxXMidpX30sFd37Fv/GtwwhzhxGVAprjbg0gCAEeIgwCZyTV2Z1REEW8O4py0wsjeloKoMr6iCY6dP92H6Vw/oTyICIthibxjm/DfN9lVz8IqtqKYLUXfoKVMVQVVJOElGjrnnUt9T9wbgp8AyYKaGlqingHZU/uG2NTZSVqwHQTWkx9hxjkpWDaCg6Ckj5qebgBVbT3V3NNXMSiWSDdGV3hrtzla7J+duwPOToIg42ChPQOQjspnSlp1V+Gjdged7+8UN5CRAV7a5EdFNwCjEaBR27b3W890TE7g24NAP/mMDXRWrGoFPQI9ls/MWO2dWFAar/xcOIImbbpA3zgAAAABJRU5ErkJggg==);\n",
       "        }\n",
       "    </style>\n",
       "    <div>\n",
       "        <a href=\"https://bokeh.org\" target=\"_blank\" class=\"bk-notebook-logo\"></a>\n",
       "        <span id=\"efcdb231-527a-457a-a324-32ccbea51438\">Loading BokehJS ...</span>\n",
       "    </div>\n"
      ]
     },
     "metadata": {},
     "output_type": "display_data"
    },
    {
     "data": {
      "application/javascript": [
       "'use strict';\n",
       "(function(root) {\n",
       "  function now() {\n",
       "    return new Date();\n",
       "  }\n",
       "\n",
       "  const force = true;\n",
       "\n",
       "  if (typeof root._bokeh_onload_callbacks === \"undefined\" || force === true) {\n",
       "    root._bokeh_onload_callbacks = [];\n",
       "    root._bokeh_is_loading = undefined;\n",
       "  }\n",
       "\n",
       "const JS_MIME_TYPE = 'application/javascript';\n",
       "  const HTML_MIME_TYPE = 'text/html';\n",
       "  const EXEC_MIME_TYPE = 'application/vnd.bokehjs_exec.v0+json';\n",
       "  const CLASS_NAME = 'output_bokeh rendered_html';\n",
       "\n",
       "  /**\n",
       "   * Render data to the DOM node\n",
       "   */\n",
       "  function render(props, node) {\n",
       "    const script = document.createElement(\"script\");\n",
       "    node.appendChild(script);\n",
       "  }\n",
       "\n",
       "  /**\n",
       "   * Handle when an output is cleared or removed\n",
       "   */\n",
       "  function handleClearOutput(event, handle) {\n",
       "    function drop(id) {\n",
       "      const view = Bokeh.index.get_by_id(id)\n",
       "      if (view != null) {\n",
       "        view.model.document.clear()\n",
       "        Bokeh.index.delete(view)\n",
       "      }\n",
       "    }\n",
       "\n",
       "    const cell = handle.cell;\n",
       "\n",
       "    const id = cell.output_area._bokeh_element_id;\n",
       "    const server_id = cell.output_area._bokeh_server_id;\n",
       "\n",
       "    // Clean up Bokeh references\n",
       "    if (id != null) {\n",
       "      drop(id)\n",
       "    }\n",
       "\n",
       "    if (server_id !== undefined) {\n",
       "      // Clean up Bokeh references\n",
       "      const cmd_clean = \"from bokeh.io.state import curstate; print(curstate().uuid_to_server['\" + server_id + \"'].get_sessions()[0].document.roots[0]._id)\";\n",
       "      cell.notebook.kernel.execute(cmd_clean, {\n",
       "        iopub: {\n",
       "          output: function(msg) {\n",
       "            const id = msg.content.text.trim()\n",
       "            drop(id)\n",
       "          }\n",
       "        }\n",
       "      });\n",
       "      // Destroy server and session\n",
       "      const cmd_destroy = \"import bokeh.io.notebook as ion; ion.destroy_server('\" + server_id + \"')\";\n",
       "      cell.notebook.kernel.execute(cmd_destroy);\n",
       "    }\n",
       "  }\n",
       "\n",
       "  /**\n",
       "   * Handle when a new output is added\n",
       "   */\n",
       "  function handleAddOutput(event, handle) {\n",
       "    const output_area = handle.output_area;\n",
       "    const output = handle.output;\n",
       "\n",
       "    // limit handleAddOutput to display_data with EXEC_MIME_TYPE content only\n",
       "    if ((output.output_type != \"display_data\") || (!Object.prototype.hasOwnProperty.call(output.data, EXEC_MIME_TYPE))) {\n",
       "      return\n",
       "    }\n",
       "\n",
       "    const toinsert = output_area.element.find(\".\" + CLASS_NAME.split(' ')[0]);\n",
       "\n",
       "    if (output.metadata[EXEC_MIME_TYPE][\"id\"] !== undefined) {\n",
       "      toinsert[toinsert.length - 1].firstChild.textContent = output.data[JS_MIME_TYPE];\n",
       "      // store reference to embed id on output_area\n",
       "      output_area._bokeh_element_id = output.metadata[EXEC_MIME_TYPE][\"id\"];\n",
       "    }\n",
       "    if (output.metadata[EXEC_MIME_TYPE][\"server_id\"] !== undefined) {\n",
       "      const bk_div = document.createElement(\"div\");\n",
       "      bk_div.innerHTML = output.data[HTML_MIME_TYPE];\n",
       "      const script_attrs = bk_div.children[0].attributes;\n",
       "      for (let i = 0; i < script_attrs.length; i++) {\n",
       "        toinsert[toinsert.length - 1].firstChild.setAttribute(script_attrs[i].name, script_attrs[i].value);\n",
       "        toinsert[toinsert.length - 1].firstChild.textContent = bk_div.children[0].textContent\n",
       "      }\n",
       "      // store reference to server id on output_area\n",
       "      output_area._bokeh_server_id = output.metadata[EXEC_MIME_TYPE][\"server_id\"];\n",
       "    }\n",
       "  }\n",
       "\n",
       "  function register_renderer(events, OutputArea) {\n",
       "\n",
       "    function append_mime(data, metadata, element) {\n",
       "      // create a DOM node to render to\n",
       "      const toinsert = this.create_output_subarea(\n",
       "        metadata,\n",
       "        CLASS_NAME,\n",
       "        EXEC_MIME_TYPE\n",
       "      );\n",
       "      this.keyboard_manager.register_events(toinsert);\n",
       "      // Render to node\n",
       "      const props = {data: data, metadata: metadata[EXEC_MIME_TYPE]};\n",
       "      render(props, toinsert[toinsert.length - 1]);\n",
       "      element.append(toinsert);\n",
       "      return toinsert\n",
       "    }\n",
       "\n",
       "    /* Handle when an output is cleared or removed */\n",
       "    events.on('clear_output.CodeCell', handleClearOutput);\n",
       "    events.on('delete.Cell', handleClearOutput);\n",
       "\n",
       "    /* Handle when a new output is added */\n",
       "    events.on('output_added.OutputArea', handleAddOutput);\n",
       "\n",
       "    /**\n",
       "     * Register the mime type and append_mime function with output_area\n",
       "     */\n",
       "    OutputArea.prototype.register_mime_type(EXEC_MIME_TYPE, append_mime, {\n",
       "      /* Is output safe? */\n",
       "      safe: true,\n",
       "      /* Index of renderer in `output_area.display_order` */\n",
       "      index: 0\n",
       "    });\n",
       "  }\n",
       "\n",
       "  // register the mime type if in Jupyter Notebook environment and previously unregistered\n",
       "  if (root.Jupyter !== undefined) {\n",
       "    const events = require('base/js/events');\n",
       "    const OutputArea = require('notebook/js/outputarea').OutputArea;\n",
       "\n",
       "    if (OutputArea.prototype.mime_types().indexOf(EXEC_MIME_TYPE) == -1) {\n",
       "      register_renderer(events, OutputArea);\n",
       "    }\n",
       "  }\n",
       "  if (typeof (root._bokeh_timeout) === \"undefined\" || force === true) {\n",
       "    root._bokeh_timeout = Date.now() + 5000;\n",
       "    root._bokeh_failed_load = false;\n",
       "  }\n",
       "\n",
       "  const NB_LOAD_WARNING = {'data': {'text/html':\n",
       "     \"<div style='background-color: #fdd'>\\n\"+\n",
       "     \"<p>\\n\"+\n",
       "     \"BokehJS does not appear to have successfully loaded. If loading BokehJS from CDN, this \\n\"+\n",
       "     \"may be due to a slow or bad network connection. Possible fixes:\\n\"+\n",
       "     \"</p>\\n\"+\n",
       "     \"<ul>\\n\"+\n",
       "     \"<li>re-rerun `output_notebook()` to attempt to load from CDN again, or</li>\\n\"+\n",
       "     \"<li>use INLINE resources instead, as so:</li>\\n\"+\n",
       "     \"</ul>\\n\"+\n",
       "     \"<code>\\n\"+\n",
       "     \"from bokeh.resources import INLINE\\n\"+\n",
       "     \"output_notebook(resources=INLINE)\\n\"+\n",
       "     \"</code>\\n\"+\n",
       "     \"</div>\"}};\n",
       "\n",
       "  function display_loaded(error = null) {\n",
       "    const el = document.getElementById(\"efcdb231-527a-457a-a324-32ccbea51438\");\n",
       "    if (el != null) {\n",
       "      const html = (() => {\n",
       "        if (typeof root.Bokeh === \"undefined\") {\n",
       "          if (error == null) {\n",
       "            return \"BokehJS is loading ...\";\n",
       "          } else {\n",
       "            return \"BokehJS failed to load.\";\n",
       "          }\n",
       "        } else {\n",
       "          const prefix = `BokehJS ${root.Bokeh.version}`;\n",
       "          if (error == null) {\n",
       "            return `${prefix} successfully loaded.`;\n",
       "          } else {\n",
       "            return `${prefix} <b>encountered errors</b> while loading and may not function as expected.`;\n",
       "          }\n",
       "        }\n",
       "      })();\n",
       "      el.innerHTML = html;\n",
       "\n",
       "      if (error != null) {\n",
       "        const wrapper = document.createElement(\"div\");\n",
       "        wrapper.style.overflow = \"auto\";\n",
       "        wrapper.style.height = \"5em\";\n",
       "        wrapper.style.resize = \"vertical\";\n",
       "        const content = document.createElement(\"div\");\n",
       "        content.style.fontFamily = \"monospace\";\n",
       "        content.style.whiteSpace = \"pre-wrap\";\n",
       "        content.style.backgroundColor = \"rgb(255, 221, 221)\";\n",
       "        content.textContent = error.stack ?? error.toString();\n",
       "        wrapper.append(content);\n",
       "        el.append(wrapper);\n",
       "      }\n",
       "    } else if (Date.now() < root._bokeh_timeout) {\n",
       "      setTimeout(() => display_loaded(error), 100);\n",
       "    }\n",
       "  }\n",
       "\n",
       "  function run_callbacks() {\n",
       "    try {\n",
       "      root._bokeh_onload_callbacks.forEach(function(callback) {\n",
       "        if (callback != null)\n",
       "          callback();\n",
       "      });\n",
       "    } finally {\n",
       "      delete root._bokeh_onload_callbacks\n",
       "    }\n",
       "    console.debug(\"Bokeh: all callbacks have finished\");\n",
       "  }\n",
       "\n",
       "  function load_libs(css_urls, js_urls, callback) {\n",
       "    if (css_urls == null) css_urls = [];\n",
       "    if (js_urls == null) js_urls = [];\n",
       "\n",
       "    root._bokeh_onload_callbacks.push(callback);\n",
       "    if (root._bokeh_is_loading > 0) {\n",
       "      console.debug(\"Bokeh: BokehJS is being loaded, scheduling callback at\", now());\n",
       "      return null;\n",
       "    }\n",
       "    if (js_urls == null || js_urls.length === 0) {\n",
       "      run_callbacks();\n",
       "      return null;\n",
       "    }\n",
       "    console.debug(\"Bokeh: BokehJS not loaded, scheduling load and callback at\", now());\n",
       "    root._bokeh_is_loading = css_urls.length + js_urls.length;\n",
       "\n",
       "    function on_load() {\n",
       "      root._bokeh_is_loading--;\n",
       "      if (root._bokeh_is_loading === 0) {\n",
       "        console.debug(\"Bokeh: all BokehJS libraries/stylesheets loaded\");\n",
       "        run_callbacks()\n",
       "      }\n",
       "    }\n",
       "\n",
       "    function on_error(url) {\n",
       "      console.error(\"failed to load \" + url);\n",
       "    }\n",
       "\n",
       "    for (let i = 0; i < css_urls.length; i++) {\n",
       "      const url = css_urls[i];\n",
       "      const element = document.createElement(\"link\");\n",
       "      element.onload = on_load;\n",
       "      element.onerror = on_error.bind(null, url);\n",
       "      element.rel = \"stylesheet\";\n",
       "      element.type = \"text/css\";\n",
       "      element.href = url;\n",
       "      console.debug(\"Bokeh: injecting link tag for BokehJS stylesheet: \", url);\n",
       "      document.body.appendChild(element);\n",
       "    }\n",
       "\n",
       "    for (let i = 0; i < js_urls.length; i++) {\n",
       "      const url = js_urls[i];\n",
       "      const element = document.createElement('script');\n",
       "      element.onload = on_load;\n",
       "      element.onerror = on_error.bind(null, url);\n",
       "      element.async = false;\n",
       "      element.src = url;\n",
       "      console.debug(\"Bokeh: injecting script tag for BokehJS library: \", url);\n",
       "      document.head.appendChild(element);\n",
       "    }\n",
       "  };\n",
       "\n",
       "  function inject_raw_css(css) {\n",
       "    const element = document.createElement(\"style\");\n",
       "    element.appendChild(document.createTextNode(css));\n",
       "    document.body.appendChild(element);\n",
       "  }\n",
       "\n",
       "  const js_urls = [\"https://cdn.bokeh.org/bokeh/release/bokeh-3.4.1.min.js\", \"https://cdn.bokeh.org/bokeh/release/bokeh-gl-3.4.1.min.js\", \"https://cdn.bokeh.org/bokeh/release/bokeh-widgets-3.4.1.min.js\", \"https://cdn.bokeh.org/bokeh/release/bokeh-tables-3.4.1.min.js\", \"https://cdn.bokeh.org/bokeh/release/bokeh-mathjax-3.4.1.min.js\"];\n",
       "  const css_urls = [];\n",
       "\n",
       "  const inline_js = [    function(Bokeh) {\n",
       "      Bokeh.set_log_level(\"info\");\n",
       "    },\n",
       "function(Bokeh) {\n",
       "    }\n",
       "  ];\n",
       "\n",
       "  function run_inline_js() {\n",
       "    if (root.Bokeh !== undefined || force === true) {\n",
       "      try {\n",
       "            for (let i = 0; i < inline_js.length; i++) {\n",
       "      inline_js[i].call(root, root.Bokeh);\n",
       "    }\n",
       "\n",
       "      } catch (error) {display_loaded(error);throw error;\n",
       "      }if (force === true) {\n",
       "        display_loaded();\n",
       "      }} else if (Date.now() < root._bokeh_timeout) {\n",
       "      setTimeout(run_inline_js, 100);\n",
       "    } else if (!root._bokeh_failed_load) {\n",
       "      console.log(\"Bokeh: BokehJS failed to load within specified timeout.\");\n",
       "      root._bokeh_failed_load = true;\n",
       "    } else if (force !== true) {\n",
       "      const cell = $(document.getElementById(\"efcdb231-527a-457a-a324-32ccbea51438\")).parents('.cell').data().cell;\n",
       "      cell.output_area.append_execute_result(NB_LOAD_WARNING)\n",
       "    }\n",
       "  }\n",
       "\n",
       "  if (root._bokeh_is_loading === 0) {\n",
       "    console.debug(\"Bokeh: BokehJS loaded, going straight to plotting\");\n",
       "    run_inline_js();\n",
       "  } else {\n",
       "    load_libs(css_urls, js_urls, function() {\n",
       "      console.debug(\"Bokeh: BokehJS plotting callback run at\", now());\n",
       "      run_inline_js();\n",
       "    });\n",
       "  }\n",
       "}(window));"
      ],
      "application/vnd.bokehjs_load.v0+json": "'use strict';\n(function(root) {\n  function now() {\n    return new Date();\n  }\n\n  const force = true;\n\n  if (typeof root._bokeh_onload_callbacks === \"undefined\" || force === true) {\n    root._bokeh_onload_callbacks = [];\n    root._bokeh_is_loading = undefined;\n  }\n\n\n  if (typeof (root._bokeh_timeout) === \"undefined\" || force === true) {\n    root._bokeh_timeout = Date.now() + 5000;\n    root._bokeh_failed_load = false;\n  }\n\n  const NB_LOAD_WARNING = {'data': {'text/html':\n     \"<div style='background-color: #fdd'>\\n\"+\n     \"<p>\\n\"+\n     \"BokehJS does not appear to have successfully loaded. If loading BokehJS from CDN, this \\n\"+\n     \"may be due to a slow or bad network connection. Possible fixes:\\n\"+\n     \"</p>\\n\"+\n     \"<ul>\\n\"+\n     \"<li>re-rerun `output_notebook()` to attempt to load from CDN again, or</li>\\n\"+\n     \"<li>use INLINE resources instead, as so:</li>\\n\"+\n     \"</ul>\\n\"+\n     \"<code>\\n\"+\n     \"from bokeh.resources import INLINE\\n\"+\n     \"output_notebook(resources=INLINE)\\n\"+\n     \"</code>\\n\"+\n     \"</div>\"}};\n\n  function display_loaded(error = null) {\n    const el = document.getElementById(\"efcdb231-527a-457a-a324-32ccbea51438\");\n    if (el != null) {\n      const html = (() => {\n        if (typeof root.Bokeh === \"undefined\") {\n          if (error == null) {\n            return \"BokehJS is loading ...\";\n          } else {\n            return \"BokehJS failed to load.\";\n          }\n        } else {\n          const prefix = `BokehJS ${root.Bokeh.version}`;\n          if (error == null) {\n            return `${prefix} successfully loaded.`;\n          } else {\n            return `${prefix} <b>encountered errors</b> while loading and may not function as expected.`;\n          }\n        }\n      })();\n      el.innerHTML = html;\n\n      if (error != null) {\n        const wrapper = document.createElement(\"div\");\n        wrapper.style.overflow = \"auto\";\n        wrapper.style.height = \"5em\";\n        wrapper.style.resize = \"vertical\";\n        const content = document.createElement(\"div\");\n        content.style.fontFamily = \"monospace\";\n        content.style.whiteSpace = \"pre-wrap\";\n        content.style.backgroundColor = \"rgb(255, 221, 221)\";\n        content.textContent = error.stack ?? error.toString();\n        wrapper.append(content);\n        el.append(wrapper);\n      }\n    } else if (Date.now() < root._bokeh_timeout) {\n      setTimeout(() => display_loaded(error), 100);\n    }\n  }\n\n  function run_callbacks() {\n    try {\n      root._bokeh_onload_callbacks.forEach(function(callback) {\n        if (callback != null)\n          callback();\n      });\n    } finally {\n      delete root._bokeh_onload_callbacks\n    }\n    console.debug(\"Bokeh: all callbacks have finished\");\n  }\n\n  function load_libs(css_urls, js_urls, callback) {\n    if (css_urls == null) css_urls = [];\n    if (js_urls == null) js_urls = [];\n\n    root._bokeh_onload_callbacks.push(callback);\n    if (root._bokeh_is_loading > 0) {\n      console.debug(\"Bokeh: BokehJS is being loaded, scheduling callback at\", now());\n      return null;\n    }\n    if (js_urls == null || js_urls.length === 0) {\n      run_callbacks();\n      return null;\n    }\n    console.debug(\"Bokeh: BokehJS not loaded, scheduling load and callback at\", now());\n    root._bokeh_is_loading = css_urls.length + js_urls.length;\n\n    function on_load() {\n      root._bokeh_is_loading--;\n      if (root._bokeh_is_loading === 0) {\n        console.debug(\"Bokeh: all BokehJS libraries/stylesheets loaded\");\n        run_callbacks()\n      }\n    }\n\n    function on_error(url) {\n      console.error(\"failed to load \" + url);\n    }\n\n    for (let i = 0; i < css_urls.length; i++) {\n      const url = css_urls[i];\n      const element = document.createElement(\"link\");\n      element.onload = on_load;\n      element.onerror = on_error.bind(null, url);\n      element.rel = \"stylesheet\";\n      element.type = \"text/css\";\n      element.href = url;\n      console.debug(\"Bokeh: injecting link tag for BokehJS stylesheet: \", url);\n      document.body.appendChild(element);\n    }\n\n    for (let i = 0; i < js_urls.length; i++) {\n      const url = js_urls[i];\n      const element = document.createElement('script');\n      element.onload = on_load;\n      element.onerror = on_error.bind(null, url);\n      element.async = false;\n      element.src = url;\n      console.debug(\"Bokeh: injecting script tag for BokehJS library: \", url);\n      document.head.appendChild(element);\n    }\n  };\n\n  function inject_raw_css(css) {\n    const element = document.createElement(\"style\");\n    element.appendChild(document.createTextNode(css));\n    document.body.appendChild(element);\n  }\n\n  const js_urls = [\"https://cdn.bokeh.org/bokeh/release/bokeh-3.4.1.min.js\", \"https://cdn.bokeh.org/bokeh/release/bokeh-gl-3.4.1.min.js\", \"https://cdn.bokeh.org/bokeh/release/bokeh-widgets-3.4.1.min.js\", \"https://cdn.bokeh.org/bokeh/release/bokeh-tables-3.4.1.min.js\", \"https://cdn.bokeh.org/bokeh/release/bokeh-mathjax-3.4.1.min.js\"];\n  const css_urls = [];\n\n  const inline_js = [    function(Bokeh) {\n      Bokeh.set_log_level(\"info\");\n    },\nfunction(Bokeh) {\n    }\n  ];\n\n  function run_inline_js() {\n    if (root.Bokeh !== undefined || force === true) {\n      try {\n            for (let i = 0; i < inline_js.length; i++) {\n      inline_js[i].call(root, root.Bokeh);\n    }\n\n      } catch (error) {display_loaded(error);throw error;\n      }if (force === true) {\n        display_loaded();\n      }} else if (Date.now() < root._bokeh_timeout) {\n      setTimeout(run_inline_js, 100);\n    } else if (!root._bokeh_failed_load) {\n      console.log(\"Bokeh: BokehJS failed to load within specified timeout.\");\n      root._bokeh_failed_load = true;\n    } else if (force !== true) {\n      const cell = $(document.getElementById(\"efcdb231-527a-457a-a324-32ccbea51438\")).parents('.cell').data().cell;\n      cell.output_area.append_execute_result(NB_LOAD_WARNING)\n    }\n  }\n\n  if (root._bokeh_is_loading === 0) {\n    console.debug(\"Bokeh: BokehJS loaded, going straight to plotting\");\n    run_inline_js();\n  } else {\n    load_libs(css_urls, js_urls, function() {\n      console.debug(\"Bokeh: BokehJS plotting callback run at\", now());\n      run_inline_js();\n    });\n  }\n}(window));"
     },
     "metadata": {},
     "output_type": "display_data"
    },
    {
     "name": "stderr",
     "output_type": "stream",
     "text": [
      "BokehDeprecationWarning: 'square() method' was deprecated in Bokeh 3.4.0 and will be removed, use \"scatter(marker='square', ...) instead\" instead.\n"
     ]
    },
    {
     "data": {
      "text/html": [
       "\n",
       "  <div id=\"ab8bdf5c-a442-40ee-82ca-1ea3a4ef85de\" data-root-id=\"p1142\" style=\"display: contents;\"></div>\n"
      ]
     },
     "metadata": {},
     "output_type": "display_data"
    },
    {
     "data": {
      "application/javascript": [
       "(function(root) {\n",
       "  function embed_document(root) {\n",
       "  const docs_json = {\"e107bed2-7000-4f00-ab22-8624d187ea09\":{\"version\":\"3.4.1\",\"title\":\"Bokeh Application\",\"roots\":[{\"type\":\"object\",\"name\":\"Figure\",\"id\":\"p1142\",\"attributes\":{\"width\":900,\"height\":200,\"x_range\":{\"type\":\"object\",\"name\":\"Range1d\",\"id\":\"p1151\",\"attributes\":{\"start\":-0.5,\"end\":1.5}},\"y_range\":{\"type\":\"object\",\"name\":\"Range1d\",\"id\":\"p1152\",\"attributes\":{\"start\":-0.5,\"end\":1.5}},\"x_scale\":{\"type\":\"object\",\"name\":\"LinearScale\",\"id\":\"p1153\"},\"y_scale\":{\"type\":\"object\",\"name\":\"LinearScale\",\"id\":\"p1154\"},\"title\":{\"type\":\"object\",\"name\":\"Title\",\"id\":\"p1149\"},\"renderers\":[{\"type\":\"object\",\"name\":\"GlyphRenderer\",\"id\":\"p1189\",\"attributes\":{\"data_source\":{\"type\":\"object\",\"name\":\"ColumnDataSource\",\"id\":\"p1176\",\"attributes\":{\"selected\":{\"type\":\"object\",\"name\":\"Selection\",\"id\":\"p1177\",\"attributes\":{\"indices\":[],\"line_indices\":[]}},\"selection_policy\":{\"type\":\"object\",\"name\":\"UnionRenderers\",\"id\":\"p1178\"},\"data\":{\"type\":\"map\",\"entries\":[[\"x_position\",[0.5,0.5,0.5]],[\"y_position\",[0,0.5,1]],[\"square_labels\",[\"Programmable Attenuator\",\"Signal Generator\",\"SkySim Controller 4\"]],[\"square_colours\",[\"grey\",\"forestgreen\",\"forestgreen\"]]]}}},\"view\":{\"type\":\"object\",\"name\":\"CDSView\",\"id\":\"p1190\",\"attributes\":{\"filter\":{\"type\":\"object\",\"name\":\"AllIndices\",\"id\":\"p1191\"}}},\"glyph\":{\"type\":\"object\",\"name\":\"Scatter\",\"id\":\"p1186\",\"attributes\":{\"x\":{\"type\":\"field\",\"field\":\"x_position\"},\"y\":{\"type\":\"field\",\"field\":\"y_position\"},\"size\":{\"type\":\"value\",\"value\":20},\"line_color\":{\"type\":\"field\",\"field\":\"square_colours\"},\"fill_color\":{\"type\":\"field\",\"field\":\"square_colours\"},\"hatch_color\":{\"type\":\"field\",\"field\":\"square_colours\"},\"marker\":{\"type\":\"value\",\"value\":\"square\"}}},\"nonselection_glyph\":{\"type\":\"object\",\"name\":\"Scatter\",\"id\":\"p1187\",\"attributes\":{\"x\":{\"type\":\"field\",\"field\":\"x_position\"},\"y\":{\"type\":\"field\",\"field\":\"y_position\"},\"size\":{\"type\":\"value\",\"value\":20},\"line_color\":{\"type\":\"field\",\"field\":\"square_colours\"},\"line_alpha\":{\"type\":\"value\",\"value\":0.1},\"fill_color\":{\"type\":\"field\",\"field\":\"square_colours\"},\"fill_alpha\":{\"type\":\"value\",\"value\":0.1},\"hatch_color\":{\"type\":\"field\",\"field\":\"square_colours\"},\"hatch_alpha\":{\"type\":\"value\",\"value\":0.1},\"marker\":{\"type\":\"value\",\"value\":\"square\"}}},\"muted_glyph\":{\"type\":\"object\",\"name\":\"Scatter\",\"id\":\"p1188\",\"attributes\":{\"x\":{\"type\":\"field\",\"field\":\"x_position\"},\"y\":{\"type\":\"field\",\"field\":\"y_position\"},\"size\":{\"type\":\"value\",\"value\":20},\"line_color\":{\"type\":\"field\",\"field\":\"square_colours\"},\"line_alpha\":{\"type\":\"value\",\"value\":0.2},\"fill_color\":{\"type\":\"field\",\"field\":\"square_colours\"},\"fill_alpha\":{\"type\":\"value\",\"value\":0.2},\"hatch_color\":{\"type\":\"field\",\"field\":\"square_colours\"},\"hatch_alpha\":{\"type\":\"value\",\"value\":0.2},\"marker\":{\"type\":\"value\",\"value\":\"square\"}}}}}],\"toolbar\":{\"type\":\"object\",\"name\":\"Toolbar\",\"id\":\"p1150\",\"attributes\":{\"tools\":[{\"type\":\"object\",\"name\":\"PanTool\",\"id\":\"p1165\"},{\"type\":\"object\",\"name\":\"WheelZoomTool\",\"id\":\"p1166\",\"attributes\":{\"renderers\":\"auto\"}},{\"type\":\"object\",\"name\":\"BoxZoomTool\",\"id\":\"p1167\",\"attributes\":{\"overlay\":{\"type\":\"object\",\"name\":\"BoxAnnotation\",\"id\":\"p1168\",\"attributes\":{\"syncable\":false,\"level\":\"overlay\",\"visible\":false,\"left\":{\"type\":\"number\",\"value\":\"nan\"},\"right\":{\"type\":\"number\",\"value\":\"nan\"},\"top\":{\"type\":\"number\",\"value\":\"nan\"},\"bottom\":{\"type\":\"number\",\"value\":\"nan\"},\"left_units\":\"canvas\",\"right_units\":\"canvas\",\"top_units\":\"canvas\",\"bottom_units\":\"canvas\",\"line_color\":\"black\",\"line_alpha\":1.0,\"line_width\":2,\"line_dash\":[4,4],\"fill_color\":\"lightgrey\",\"fill_alpha\":0.5}}}},{\"type\":\"object\",\"name\":\"SaveTool\",\"id\":\"p1173\"},{\"type\":\"object\",\"name\":\"ResetTool\",\"id\":\"p1174\"},{\"type\":\"object\",\"name\":\"HelpTool\",\"id\":\"p1175\"}]}},\"toolbar_location\":null,\"left\":[{\"type\":\"object\",\"name\":\"LinearAxis\",\"id\":\"p1160\",\"attributes\":{\"visible\":false,\"ticker\":{\"type\":\"object\",\"name\":\"BasicTicker\",\"id\":\"p1161\",\"attributes\":{\"mantissas\":[1,2,5]}},\"formatter\":{\"type\":\"object\",\"name\":\"BasicTickFormatter\",\"id\":\"p1162\"},\"major_label_policy\":{\"type\":\"object\",\"name\":\"AllLabels\",\"id\":\"p1163\"}}}],\"below\":[{\"type\":\"object\",\"name\":\"LinearAxis\",\"id\":\"p1155\",\"attributes\":{\"visible\":false,\"ticker\":{\"type\":\"object\",\"name\":\"BasicTicker\",\"id\":\"p1156\",\"attributes\":{\"mantissas\":[1,2,5]}},\"formatter\":{\"type\":\"object\",\"name\":\"BasicTickFormatter\",\"id\":\"p1157\"},\"major_label_policy\":{\"type\":\"object\",\"name\":\"AllLabels\",\"id\":\"p1158\"}}}],\"center\":[{\"type\":\"object\",\"name\":\"Grid\",\"id\":\"p1159\",\"attributes\":{\"visible\":false,\"axis\":{\"id\":\"p1155\"}}},{\"type\":\"object\",\"name\":\"Grid\",\"id\":\"p1164\",\"attributes\":{\"visible\":false,\"dimension\":1,\"axis\":{\"id\":\"p1160\"}}},{\"type\":\"object\",\"name\":\"LabelSet\",\"id\":\"p1179\",\"attributes\":{\"source\":{\"id\":\"p1176\"},\"x\":{\"type\":\"field\",\"field\":\"x_position\"},\"y\":{\"type\":\"field\",\"field\":\"y_position\"},\"text\":{\"type\":\"field\",\"field\":\"square_labels\"},\"x_offset\":{\"type\":\"value\",\"value\":-200},\"y_offset\":{\"type\":\"value\",\"value\":-10},\"text_color\":{\"type\":\"value\",\"value\":\"black\"},\"background_fill_color\":{\"type\":\"field\",\"field\":\"canvas\"}}}]}}]}};\n",
       "  const render_items = [{\"docid\":\"e107bed2-7000-4f00-ab22-8624d187ea09\",\"roots\":{\"p1142\":\"ab8bdf5c-a442-40ee-82ca-1ea3a4ef85de\"},\"root_ids\":[\"p1142\"],\"notebook_comms_target\":\"p1192\"}];\n",
       "  void root.Bokeh.embed.embed_items_notebook(docs_json, render_items);\n",
       "  }\n",
       "  if (root.Bokeh !== undefined) {\n",
       "    embed_document(root);\n",
       "  } else {\n",
       "    let attempts = 0;\n",
       "    const timer = setInterval(function(root) {\n",
       "      if (root.Bokeh !== undefined) {\n",
       "        clearInterval(timer);\n",
       "        embed_document(root);\n",
       "      } else {\n",
       "        attempts++;\n",
       "        if (attempts > 100) {\n",
       "          clearInterval(timer);\n",
       "          console.log(\"Bokeh: ERROR: Unable to run BokehJS code because BokehJS library is missing\");\n",
       "        }\n",
       "      }\n",
       "    }, 10, root)\n",
       "  }\n",
       "})(window);"
      ],
      "application/vnd.bokehjs_exec.v0+json": ""
     },
     "metadata": {
      "application/vnd.bokehjs_exec.v0+json": {
       "id": "p1142"
      }
     },
     "output_type": "display_data"
    },
    {
     "name": "stdout",
     "output_type": "stream",
     "text": [
      "Done\n"
     ]
    },
    {
     "name": "stderr",
     "output_type": "stream",
     "text": [
      "BokehDeprecationWarning: 'square() method' was deprecated in Bokeh 3.4.0 and will be removed, use \"scatter(marker='square', ...) instead\" instead.\n",
      "BokehDeprecationWarning: 'square() method' was deprecated in Bokeh 3.4.0 and will be removed, use \"scatter(marker='square', ...) instead\" instead.\n",
      "BokehDeprecationWarning: 'square() method' was deprecated in Bokeh 3.4.0 and will be removed, use \"scatter(marker='square', ...) instead\" instead.\n"
     ]
    }
   ],
   "source": [
    "monitor_plot = get_test_equipment_monitor_plot()\n",
    "test_equipment_state.subscribe_to_test_equipment_state(monitor_plot.handle_device_state_change)\n",
    "output_notebook()\n",
    "monitor_plot.show()\n",
    "test_equipment_state.activate()\n",
    "print(\"Done\")"
   ]
  },
  {
   "cell_type": "markdown",
   "id": "c7aa1da8",
   "metadata": {},
   "source": [
    "### 2.4 Turn offline Test Equipment devices ONLINE"
   ]
  },
  {
   "cell_type": "code",
   "execution_count": 9,
   "id": "64ab9a73",
   "metadata": {},
   "outputs": [
    {
     "name": "stdout",
     "output_type": "stream",
     "text": [
      "set mid-itf/siggen/1 adminMode already ONLINE\n",
      "set mid-itf/progattenuator/1 adminMode already ONLINE\n",
      "set mid-itf/spectana/1 adminMode already ONLINE\n",
      "Done\n"
     ]
    }
   ],
   "source": [
    "# set any offline devices to online\n",
    "test_equipment.turn_online()\n",
    "print(\"Done\")"
   ]
  },
  {
   "cell_type": "markdown",
   "id": "e0d2410e",
   "metadata": {},
   "source": [
    "### 2.5 Display Test Equipment Device States "
   ]
  },
  {
   "cell_type": "code",
   "execution_count": 10,
   "id": "a3f65600",
   "metadata": {},
   "outputs": [
    {
     "name": "stdout",
     "output_type": "stream",
     "text": [
      "Done\n"
     ]
    }
   ],
   "source": [
    "test_equipment_state.state[\"devices_states\"]\n",
    "print(\"Done\")"
   ]
  },
  {
   "cell_type": "markdown",
   "id": "911d2e77",
   "metadata": {},
   "source": [
    "### 2.6 Configure Signal Generator and set noise"
   ]
  },
  {
   "cell_type": "code",
   "execution_count": 11,
   "id": "cd167d6b",
   "metadata": {},
   "outputs": [
    {
     "name": "stdout",
     "output_type": "stream",
     "text": [
      "Current signal generator frequency: 800000000.0\n",
      "Updated signal generator frequency: 880000000.0\n",
      "Done\n"
     ]
    }
   ],
   "source": [
    "frequency_to_set = 880e6\n",
    "\n",
    "signal_generator = test_equipment.signal_generator\n",
    "print(f\"Current signal generator frequency: {signal_generator.frequency}\")\n",
    "signal_generator.write_attribute(\"frequency\", frequency_to_set)\n",
    "time.sleep(1)\n",
    "print(f\"Updated signal generator frequency: {signal_generator.frequency}\")\n",
    "assert (\n",
    "    signal_generator.frequency == frequency_to_set\n",
    "), f\"Frequency required is {frequency_to_set} but got {signal_generator.frequency}\"\n",
    "print(\"Done\")"
   ]
  },
  {
   "cell_type": "markdown",
   "id": "217b9754",
   "metadata": {},
   "source": [
    "## 3 Configure Scan Tests\n",
    "\n",
    "Use OSO scripting interface to TMC to run the script for assigning resources for a single sub-array, configuring and running a  scan.  "
   ]
  },
  {
   "cell_type": "markdown",
   "id": "0f6d2326",
   "metadata": {},
   "source": [
    "### 3.1 Setup Telescope Monitoring"
   ]
  },
  {
   "cell_type": "markdown",
   "id": "361cd18e",
   "metadata": {},
   "source": [
    "#### 3.1.1 Configure Telescope Monitoring"
   ]
  },
  {
   "cell_type": "code",
   "execution_count": 12,
   "id": "bff1ef18",
   "metadata": {},
   "outputs": [
    {
     "name": "stdout",
     "output_type": "stream",
     "text": [
      "Monitor 1 subarrays with dish IDs ['0001', '0036']\n",
      "Get telescope state for device model Telecope Dish IDs ['0001', '0036']: sysytem under test TangoSUTDeployment{subarray_index=1; Deployment: namespace=integration; tango_host=tango-databaseds.integration.svc.miditf.internal.skao.int:10000; cluster_domain=miditf.internal.skao.int; cia_url=http://config-inspector.integration.svc.miditf.internal.skao.int:8765}\n",
      "Telecope state Telescope:\n",
      "Telecope Dish IDs ['0001', '0036']\n",
      "TangoSUTDeployment{subarray_index=1; Deployment: namespace=integration; tango_host=tango-databaseds.integration.svc.miditf.internal.skao.int:10000; cluster_domain=miditf.internal.skao.int; cia_url=http://config-inspector.integration.svc.miditf.internal.skao.int:8765}\n"
     ]
    },
    {
     "data": {
      "text/html": [
       "    <style>\n",
       "        .bk-notebook-logo {\n",
       "            display: block;\n",
       "            width: 20px;\n",
       "            height: 20px;\n",
       "            background-image: url(data:image/png;base64,iVBORw0KGgoAAAANSUhEUgAAABQAAAAUCAYAAACNiR0NAAAABHNCSVQICAgIfAhkiAAAAAlwSFlzAAALEgAACxIB0t1+/AAAABx0RVh0U29mdHdhcmUAQWRvYmUgRmlyZXdvcmtzIENTNui8sowAAAOkSURBVDiNjZRtaJVlGMd/1/08zzln5zjP1LWcU9N0NkN8m2CYjpgQYQXqSs0I84OLIC0hkEKoPtiH3gmKoiJDU7QpLgoLjLIQCpEsNJ1vqUOdO7ppbuec5+V+rj4ctwzd8IIbbi6u+8f1539dt3A78eXC7QizUF7gyV1fD1Yqg4JWz84yffhm0qkFqBogB9rM8tZdtwVsPUhWhGcFJngGeWrPzHm5oaMmkfEg1usvLFyc8jLRqDOMru7AyC8saQr7GG7f5fvDeH7Ej8CM66nIF+8yngt6HWaKh7k49Soy9nXurCi1o3qUbS3zWfrYeQDTB/Qj6kX6Ybhw4B+bOYoLKCC9H3Nu/leUTZ1JdRWkkn2ldcCamzrcf47KKXdAJllSlxAOkRgyHsGC/zRday5Qld9DyoM4/q/rUoy/CXh3jzOu3bHUVZeU+DEn8FInkPBFlu3+nW3Nw0mk6vCDiWg8CeJaxEwuHS3+z5RgY+YBR6V1Z1nxSOfoaPa4LASWxxdNp+VWTk7+4vzaou8v8PN+xo+KY2xsw6une2frhw05CTYOmQvsEhjhWjn0bmXPjpE1+kplmmkP3suftwTubK9Vq22qKmrBhpY4jvd5afdRA3wGjFAgcnTK2s4hY0/GPNIb0nErGMCRxWOOX64Z8RAC4oCXdklmEvcL8o0BfkNK4lUg9HTl+oPlQxdNo3Mg4Nv175e/1LDGzZen30MEjRUtmXSfiTVu1kK8W4txyV6BMKlbgk3lMwYCiusNy9fVfvvwMxv8Ynl6vxoByANLTWplvuj/nF9m2+PDtt1eiHPBr1oIfhCChQMBw6Aw0UulqTKZdfVvfG7VcfIqLG9bcldL/+pdWTLxLUy8Qq38heUIjh4XlzZxzQm19lLFlr8vdQ97rjZVOLf8nclzckbcD4wxXMidpX30sFd37Fv/GtwwhzhxGVAprjbg0gCAEeIgwCZyTV2Z1REEW8O4py0wsjeloKoMr6iCY6dP92H6Vw/oTyICIthibxjm/DfN9lVz8IqtqKYLUXfoKVMVQVVJOElGjrnnUt9T9wbgp8AyYKaGlqingHZU/uG2NTZSVqwHQTWkx9hxjkpWDaCg6Ckj5qebgBVbT3V3NNXMSiWSDdGV3hrtzla7J+duwPOToIg42ChPQOQjspnSlp1V+Gjdged7+8UN5CRAV7a5EdFNwCjEaBR27b3W890TE7g24NAP/mMDXRWrGoFPQI9ls/MWO2dWFAar/xcOIImbbpA3zgAAAABJRU5ErkJggg==);\n",
       "        }\n",
       "    </style>\n",
       "    <div>\n",
       "        <a href=\"https://bokeh.org\" target=\"_blank\" class=\"bk-notebook-logo\"></a>\n",
       "        <span id=\"a47eaf9d-44e4-4d67-91cc-a954641192df\">Loading BokehJS ...</span>\n",
       "    </div>\n"
      ]
     },
     "metadata": {},
     "output_type": "display_data"
    },
    {
     "data": {
      "application/javascript": [
       "'use strict';\n",
       "(function(root) {\n",
       "  function now() {\n",
       "    return new Date();\n",
       "  }\n",
       "\n",
       "  const force = true;\n",
       "\n",
       "  if (typeof root._bokeh_onload_callbacks === \"undefined\" || force === true) {\n",
       "    root._bokeh_onload_callbacks = [];\n",
       "    root._bokeh_is_loading = undefined;\n",
       "  }\n",
       "\n",
       "const JS_MIME_TYPE = 'application/javascript';\n",
       "  const HTML_MIME_TYPE = 'text/html';\n",
       "  const EXEC_MIME_TYPE = 'application/vnd.bokehjs_exec.v0+json';\n",
       "  const CLASS_NAME = 'output_bokeh rendered_html';\n",
       "\n",
       "  /**\n",
       "   * Render data to the DOM node\n",
       "   */\n",
       "  function render(props, node) {\n",
       "    const script = document.createElement(\"script\");\n",
       "    node.appendChild(script);\n",
       "  }\n",
       "\n",
       "  /**\n",
       "   * Handle when an output is cleared or removed\n",
       "   */\n",
       "  function handleClearOutput(event, handle) {\n",
       "    function drop(id) {\n",
       "      const view = Bokeh.index.get_by_id(id)\n",
       "      if (view != null) {\n",
       "        view.model.document.clear()\n",
       "        Bokeh.index.delete(view)\n",
       "      }\n",
       "    }\n",
       "\n",
       "    const cell = handle.cell;\n",
       "\n",
       "    const id = cell.output_area._bokeh_element_id;\n",
       "    const server_id = cell.output_area._bokeh_server_id;\n",
       "\n",
       "    // Clean up Bokeh references\n",
       "    if (id != null) {\n",
       "      drop(id)\n",
       "    }\n",
       "\n",
       "    if (server_id !== undefined) {\n",
       "      // Clean up Bokeh references\n",
       "      const cmd_clean = \"from bokeh.io.state import curstate; print(curstate().uuid_to_server['\" + server_id + \"'].get_sessions()[0].document.roots[0]._id)\";\n",
       "      cell.notebook.kernel.execute(cmd_clean, {\n",
       "        iopub: {\n",
       "          output: function(msg) {\n",
       "            const id = msg.content.text.trim()\n",
       "            drop(id)\n",
       "          }\n",
       "        }\n",
       "      });\n",
       "      // Destroy server and session\n",
       "      const cmd_destroy = \"import bokeh.io.notebook as ion; ion.destroy_server('\" + server_id + \"')\";\n",
       "      cell.notebook.kernel.execute(cmd_destroy);\n",
       "    }\n",
       "  }\n",
       "\n",
       "  /**\n",
       "   * Handle when a new output is added\n",
       "   */\n",
       "  function handleAddOutput(event, handle) {\n",
       "    const output_area = handle.output_area;\n",
       "    const output = handle.output;\n",
       "\n",
       "    // limit handleAddOutput to display_data with EXEC_MIME_TYPE content only\n",
       "    if ((output.output_type != \"display_data\") || (!Object.prototype.hasOwnProperty.call(output.data, EXEC_MIME_TYPE))) {\n",
       "      return\n",
       "    }\n",
       "\n",
       "    const toinsert = output_area.element.find(\".\" + CLASS_NAME.split(' ')[0]);\n",
       "\n",
       "    if (output.metadata[EXEC_MIME_TYPE][\"id\"] !== undefined) {\n",
       "      toinsert[toinsert.length - 1].firstChild.textContent = output.data[JS_MIME_TYPE];\n",
       "      // store reference to embed id on output_area\n",
       "      output_area._bokeh_element_id = output.metadata[EXEC_MIME_TYPE][\"id\"];\n",
       "    }\n",
       "    if (output.metadata[EXEC_MIME_TYPE][\"server_id\"] !== undefined) {\n",
       "      const bk_div = document.createElement(\"div\");\n",
       "      bk_div.innerHTML = output.data[HTML_MIME_TYPE];\n",
       "      const script_attrs = bk_div.children[0].attributes;\n",
       "      for (let i = 0; i < script_attrs.length; i++) {\n",
       "        toinsert[toinsert.length - 1].firstChild.setAttribute(script_attrs[i].name, script_attrs[i].value);\n",
       "        toinsert[toinsert.length - 1].firstChild.textContent = bk_div.children[0].textContent\n",
       "      }\n",
       "      // store reference to server id on output_area\n",
       "      output_area._bokeh_server_id = output.metadata[EXEC_MIME_TYPE][\"server_id\"];\n",
       "    }\n",
       "  }\n",
       "\n",
       "  function register_renderer(events, OutputArea) {\n",
       "\n",
       "    function append_mime(data, metadata, element) {\n",
       "      // create a DOM node to render to\n",
       "      const toinsert = this.create_output_subarea(\n",
       "        metadata,\n",
       "        CLASS_NAME,\n",
       "        EXEC_MIME_TYPE\n",
       "      );\n",
       "      this.keyboard_manager.register_events(toinsert);\n",
       "      // Render to node\n",
       "      const props = {data: data, metadata: metadata[EXEC_MIME_TYPE]};\n",
       "      render(props, toinsert[toinsert.length - 1]);\n",
       "      element.append(toinsert);\n",
       "      return toinsert\n",
       "    }\n",
       "\n",
       "    /* Handle when an output is cleared or removed */\n",
       "    events.on('clear_output.CodeCell', handleClearOutput);\n",
       "    events.on('delete.Cell', handleClearOutput);\n",
       "\n",
       "    /* Handle when a new output is added */\n",
       "    events.on('output_added.OutputArea', handleAddOutput);\n",
       "\n",
       "    /**\n",
       "     * Register the mime type and append_mime function with output_area\n",
       "     */\n",
       "    OutputArea.prototype.register_mime_type(EXEC_MIME_TYPE, append_mime, {\n",
       "      /* Is output safe? */\n",
       "      safe: true,\n",
       "      /* Index of renderer in `output_area.display_order` */\n",
       "      index: 0\n",
       "    });\n",
       "  }\n",
       "\n",
       "  // register the mime type if in Jupyter Notebook environment and previously unregistered\n",
       "  if (root.Jupyter !== undefined) {\n",
       "    const events = require('base/js/events');\n",
       "    const OutputArea = require('notebook/js/outputarea').OutputArea;\n",
       "\n",
       "    if (OutputArea.prototype.mime_types().indexOf(EXEC_MIME_TYPE) == -1) {\n",
       "      register_renderer(events, OutputArea);\n",
       "    }\n",
       "  }\n",
       "  if (typeof (root._bokeh_timeout) === \"undefined\" || force === true) {\n",
       "    root._bokeh_timeout = Date.now() + 5000;\n",
       "    root._bokeh_failed_load = false;\n",
       "  }\n",
       "\n",
       "  const NB_LOAD_WARNING = {'data': {'text/html':\n",
       "     \"<div style='background-color: #fdd'>\\n\"+\n",
       "     \"<p>\\n\"+\n",
       "     \"BokehJS does not appear to have successfully loaded. If loading BokehJS from CDN, this \\n\"+\n",
       "     \"may be due to a slow or bad network connection. Possible fixes:\\n\"+\n",
       "     \"</p>\\n\"+\n",
       "     \"<ul>\\n\"+\n",
       "     \"<li>re-rerun `output_notebook()` to attempt to load from CDN again, or</li>\\n\"+\n",
       "     \"<li>use INLINE resources instead, as so:</li>\\n\"+\n",
       "     \"</ul>\\n\"+\n",
       "     \"<code>\\n\"+\n",
       "     \"from bokeh.resources import INLINE\\n\"+\n",
       "     \"output_notebook(resources=INLINE)\\n\"+\n",
       "     \"</code>\\n\"+\n",
       "     \"</div>\"}};\n",
       "\n",
       "  function display_loaded(error = null) {\n",
       "    const el = document.getElementById(\"a47eaf9d-44e4-4d67-91cc-a954641192df\");\n",
       "    if (el != null) {\n",
       "      const html = (() => {\n",
       "        if (typeof root.Bokeh === \"undefined\") {\n",
       "          if (error == null) {\n",
       "            return \"BokehJS is loading ...\";\n",
       "          } else {\n",
       "            return \"BokehJS failed to load.\";\n",
       "          }\n",
       "        } else {\n",
       "          const prefix = `BokehJS ${root.Bokeh.version}`;\n",
       "          if (error == null) {\n",
       "            return `${prefix} successfully loaded.`;\n",
       "          } else {\n",
       "            return `${prefix} <b>encountered errors</b> while loading and may not function as expected.`;\n",
       "          }\n",
       "        }\n",
       "      })();\n",
       "      el.innerHTML = html;\n",
       "\n",
       "      if (error != null) {\n",
       "        const wrapper = document.createElement(\"div\");\n",
       "        wrapper.style.overflow = \"auto\";\n",
       "        wrapper.style.height = \"5em\";\n",
       "        wrapper.style.resize = \"vertical\";\n",
       "        const content = document.createElement(\"div\");\n",
       "        content.style.fontFamily = \"monospace\";\n",
       "        content.style.whiteSpace = \"pre-wrap\";\n",
       "        content.style.backgroundColor = \"rgb(255, 221, 221)\";\n",
       "        content.textContent = error.stack ?? error.toString();\n",
       "        wrapper.append(content);\n",
       "        el.append(wrapper);\n",
       "      }\n",
       "    } else if (Date.now() < root._bokeh_timeout) {\n",
       "      setTimeout(() => display_loaded(error), 100);\n",
       "    }\n",
       "  }\n",
       "\n",
       "  function run_callbacks() {\n",
       "    try {\n",
       "      root._bokeh_onload_callbacks.forEach(function(callback) {\n",
       "        if (callback != null)\n",
       "          callback();\n",
       "      });\n",
       "    } finally {\n",
       "      delete root._bokeh_onload_callbacks\n",
       "    }\n",
       "    console.debug(\"Bokeh: all callbacks have finished\");\n",
       "  }\n",
       "\n",
       "  function load_libs(css_urls, js_urls, callback) {\n",
       "    if (css_urls == null) css_urls = [];\n",
       "    if (js_urls == null) js_urls = [];\n",
       "\n",
       "    root._bokeh_onload_callbacks.push(callback);\n",
       "    if (root._bokeh_is_loading > 0) {\n",
       "      console.debug(\"Bokeh: BokehJS is being loaded, scheduling callback at\", now());\n",
       "      return null;\n",
       "    }\n",
       "    if (js_urls == null || js_urls.length === 0) {\n",
       "      run_callbacks();\n",
       "      return null;\n",
       "    }\n",
       "    console.debug(\"Bokeh: BokehJS not loaded, scheduling load and callback at\", now());\n",
       "    root._bokeh_is_loading = css_urls.length + js_urls.length;\n",
       "\n",
       "    function on_load() {\n",
       "      root._bokeh_is_loading--;\n",
       "      if (root._bokeh_is_loading === 0) {\n",
       "        console.debug(\"Bokeh: all BokehJS libraries/stylesheets loaded\");\n",
       "        run_callbacks()\n",
       "      }\n",
       "    }\n",
       "\n",
       "    function on_error(url) {\n",
       "      console.error(\"failed to load \" + url);\n",
       "    }\n",
       "\n",
       "    for (let i = 0; i < css_urls.length; i++) {\n",
       "      const url = css_urls[i];\n",
       "      const element = document.createElement(\"link\");\n",
       "      element.onload = on_load;\n",
       "      element.onerror = on_error.bind(null, url);\n",
       "      element.rel = \"stylesheet\";\n",
       "      element.type = \"text/css\";\n",
       "      element.href = url;\n",
       "      console.debug(\"Bokeh: injecting link tag for BokehJS stylesheet: \", url);\n",
       "      document.body.appendChild(element);\n",
       "    }\n",
       "\n",
       "    for (let i = 0; i < js_urls.length; i++) {\n",
       "      const url = js_urls[i];\n",
       "      const element = document.createElement('script');\n",
       "      element.onload = on_load;\n",
       "      element.onerror = on_error.bind(null, url);\n",
       "      element.async = false;\n",
       "      element.src = url;\n",
       "      console.debug(\"Bokeh: injecting script tag for BokehJS library: \", url);\n",
       "      document.head.appendChild(element);\n",
       "    }\n",
       "  };\n",
       "\n",
       "  function inject_raw_css(css) {\n",
       "    const element = document.createElement(\"style\");\n",
       "    element.appendChild(document.createTextNode(css));\n",
       "    document.body.appendChild(element);\n",
       "  }\n",
       "\n",
       "  const js_urls = [\"https://cdn.bokeh.org/bokeh/release/bokeh-3.4.1.min.js\", \"https://cdn.bokeh.org/bokeh/release/bokeh-gl-3.4.1.min.js\", \"https://cdn.bokeh.org/bokeh/release/bokeh-widgets-3.4.1.min.js\", \"https://cdn.bokeh.org/bokeh/release/bokeh-tables-3.4.1.min.js\", \"https://cdn.bokeh.org/bokeh/release/bokeh-mathjax-3.4.1.min.js\"];\n",
       "  const css_urls = [];\n",
       "\n",
       "  const inline_js = [    function(Bokeh) {\n",
       "      Bokeh.set_log_level(\"info\");\n",
       "    },\n",
       "function(Bokeh) {\n",
       "    }\n",
       "  ];\n",
       "\n",
       "  function run_inline_js() {\n",
       "    if (root.Bokeh !== undefined || force === true) {\n",
       "      try {\n",
       "            for (let i = 0; i < inline_js.length; i++) {\n",
       "      inline_js[i].call(root, root.Bokeh);\n",
       "    }\n",
       "\n",
       "      } catch (error) {display_loaded(error);throw error;\n",
       "      }if (force === true) {\n",
       "        display_loaded();\n",
       "      }} else if (Date.now() < root._bokeh_timeout) {\n",
       "      setTimeout(run_inline_js, 100);\n",
       "    } else if (!root._bokeh_failed_load) {\n",
       "      console.log(\"Bokeh: BokehJS failed to load within specified timeout.\");\n",
       "      root._bokeh_failed_load = true;\n",
       "    } else if (force !== true) {\n",
       "      const cell = $(document.getElementById(\"a47eaf9d-44e4-4d67-91cc-a954641192df\")).parents('.cell').data().cell;\n",
       "      cell.output_area.append_execute_result(NB_LOAD_WARNING)\n",
       "    }\n",
       "  }\n",
       "\n",
       "  if (root._bokeh_is_loading === 0) {\n",
       "    console.debug(\"Bokeh: BokehJS loaded, going straight to plotting\");\n",
       "    run_inline_js();\n",
       "  } else {\n",
       "    load_libs(css_urls, js_urls, function() {\n",
       "      console.debug(\"Bokeh: BokehJS plotting callback run at\", now());\n",
       "      run_inline_js();\n",
       "    });\n",
       "  }\n",
       "}(window));"
      ],
      "application/vnd.bokehjs_load.v0+json": "'use strict';\n(function(root) {\n  function now() {\n    return new Date();\n  }\n\n  const force = true;\n\n  if (typeof root._bokeh_onload_callbacks === \"undefined\" || force === true) {\n    root._bokeh_onload_callbacks = [];\n    root._bokeh_is_loading = undefined;\n  }\n\n\n  if (typeof (root._bokeh_timeout) === \"undefined\" || force === true) {\n    root._bokeh_timeout = Date.now() + 5000;\n    root._bokeh_failed_load = false;\n  }\n\n  const NB_LOAD_WARNING = {'data': {'text/html':\n     \"<div style='background-color: #fdd'>\\n\"+\n     \"<p>\\n\"+\n     \"BokehJS does not appear to have successfully loaded. If loading BokehJS from CDN, this \\n\"+\n     \"may be due to a slow or bad network connection. Possible fixes:\\n\"+\n     \"</p>\\n\"+\n     \"<ul>\\n\"+\n     \"<li>re-rerun `output_notebook()` to attempt to load from CDN again, or</li>\\n\"+\n     \"<li>use INLINE resources instead, as so:</li>\\n\"+\n     \"</ul>\\n\"+\n     \"<code>\\n\"+\n     \"from bokeh.resources import INLINE\\n\"+\n     \"output_notebook(resources=INLINE)\\n\"+\n     \"</code>\\n\"+\n     \"</div>\"}};\n\n  function display_loaded(error = null) {\n    const el = document.getElementById(\"a47eaf9d-44e4-4d67-91cc-a954641192df\");\n    if (el != null) {\n      const html = (() => {\n        if (typeof root.Bokeh === \"undefined\") {\n          if (error == null) {\n            return \"BokehJS is loading ...\";\n          } else {\n            return \"BokehJS failed to load.\";\n          }\n        } else {\n          const prefix = `BokehJS ${root.Bokeh.version}`;\n          if (error == null) {\n            return `${prefix} successfully loaded.`;\n          } else {\n            return `${prefix} <b>encountered errors</b> while loading and may not function as expected.`;\n          }\n        }\n      })();\n      el.innerHTML = html;\n\n      if (error != null) {\n        const wrapper = document.createElement(\"div\");\n        wrapper.style.overflow = \"auto\";\n        wrapper.style.height = \"5em\";\n        wrapper.style.resize = \"vertical\";\n        const content = document.createElement(\"div\");\n        content.style.fontFamily = \"monospace\";\n        content.style.whiteSpace = \"pre-wrap\";\n        content.style.backgroundColor = \"rgb(255, 221, 221)\";\n        content.textContent = error.stack ?? error.toString();\n        wrapper.append(content);\n        el.append(wrapper);\n      }\n    } else if (Date.now() < root._bokeh_timeout) {\n      setTimeout(() => display_loaded(error), 100);\n    }\n  }\n\n  function run_callbacks() {\n    try {\n      root._bokeh_onload_callbacks.forEach(function(callback) {\n        if (callback != null)\n          callback();\n      });\n    } finally {\n      delete root._bokeh_onload_callbacks\n    }\n    console.debug(\"Bokeh: all callbacks have finished\");\n  }\n\n  function load_libs(css_urls, js_urls, callback) {\n    if (css_urls == null) css_urls = [];\n    if (js_urls == null) js_urls = [];\n\n    root._bokeh_onload_callbacks.push(callback);\n    if (root._bokeh_is_loading > 0) {\n      console.debug(\"Bokeh: BokehJS is being loaded, scheduling callback at\", now());\n      return null;\n    }\n    if (js_urls == null || js_urls.length === 0) {\n      run_callbacks();\n      return null;\n    }\n    console.debug(\"Bokeh: BokehJS not loaded, scheduling load and callback at\", now());\n    root._bokeh_is_loading = css_urls.length + js_urls.length;\n\n    function on_load() {\n      root._bokeh_is_loading--;\n      if (root._bokeh_is_loading === 0) {\n        console.debug(\"Bokeh: all BokehJS libraries/stylesheets loaded\");\n        run_callbacks()\n      }\n    }\n\n    function on_error(url) {\n      console.error(\"failed to load \" + url);\n    }\n\n    for (let i = 0; i < css_urls.length; i++) {\n      const url = css_urls[i];\n      const element = document.createElement(\"link\");\n      element.onload = on_load;\n      element.onerror = on_error.bind(null, url);\n      element.rel = \"stylesheet\";\n      element.type = \"text/css\";\n      element.href = url;\n      console.debug(\"Bokeh: injecting link tag for BokehJS stylesheet: \", url);\n      document.body.appendChild(element);\n    }\n\n    for (let i = 0; i < js_urls.length; i++) {\n      const url = js_urls[i];\n      const element = document.createElement('script');\n      element.onload = on_load;\n      element.onerror = on_error.bind(null, url);\n      element.async = false;\n      element.src = url;\n      console.debug(\"Bokeh: injecting script tag for BokehJS library: \", url);\n      document.head.appendChild(element);\n    }\n  };\n\n  function inject_raw_css(css) {\n    const element = document.createElement(\"style\");\n    element.appendChild(document.createTextNode(css));\n    document.body.appendChild(element);\n  }\n\n  const js_urls = [\"https://cdn.bokeh.org/bokeh/release/bokeh-3.4.1.min.js\", \"https://cdn.bokeh.org/bokeh/release/bokeh-gl-3.4.1.min.js\", \"https://cdn.bokeh.org/bokeh/release/bokeh-widgets-3.4.1.min.js\", \"https://cdn.bokeh.org/bokeh/release/bokeh-tables-3.4.1.min.js\", \"https://cdn.bokeh.org/bokeh/release/bokeh-mathjax-3.4.1.min.js\"];\n  const css_urls = [];\n\n  const inline_js = [    function(Bokeh) {\n      Bokeh.set_log_level(\"info\");\n    },\nfunction(Bokeh) {\n    }\n  ];\n\n  function run_inline_js() {\n    if (root.Bokeh !== undefined || force === true) {\n      try {\n            for (let i = 0; i < inline_js.length; i++) {\n      inline_js[i].call(root, root.Bokeh);\n    }\n\n      } catch (error) {display_loaded(error);throw error;\n      }if (force === true) {\n        display_loaded();\n      }} else if (Date.now() < root._bokeh_timeout) {\n      setTimeout(run_inline_js, 100);\n    } else if (!root._bokeh_failed_load) {\n      console.log(\"Bokeh: BokehJS failed to load within specified timeout.\");\n      root._bokeh_failed_load = true;\n    } else if (force !== true) {\n      const cell = $(document.getElementById(\"a47eaf9d-44e4-4d67-91cc-a954641192df\")).parents('.cell').data().cell;\n      cell.output_area.append_execute_result(NB_LOAD_WARNING)\n    }\n  }\n\n  if (root._bokeh_is_loading === 0) {\n    console.debug(\"Bokeh: BokehJS loaded, going straight to plotting\");\n    run_inline_js();\n  } else {\n    load_libs(css_urls, js_urls, function() {\n      console.debug(\"Bokeh: BokehJS plotting callback run at\", now());\n      run_inline_js();\n    });\n  }\n}(window));"
     },
     "metadata": {},
     "output_type": "display_data"
    },
    {
     "name": "stdout",
     "output_type": "stream",
     "text": [
      "Done\n"
     ]
    }
   ],
   "source": [
    "# setup monitoring\n",
    "# use telescope state object for state monitoring\n",
    "print(f\"Monitor {subarray_count} subarrays with dish IDs {dish_ids}\")\n",
    "device_model = TelescopeDeviceModel(dish_ids, subarray_count)\n",
    "try:\n",
    "    print(f\"Get telescope state for device model {device_model}: sysytem under test {sut}\")\n",
    "    telescope_state = get_telescope_state(device_model, sut)\n",
    "except tango.DevFailed as terr:\n",
    "    print(f\"ERROR: {terr.args[0].desc.strip()}\")\n",
    "    telescope_state = None\n",
    "telescope_monitor_plot = TelescopeMononitorPlot(plot_width=900, plot_height=200)\n",
    "if telescope_state is not None:\n",
    "    print(f\"Telecope state {telescope_state}\")\n",
    "    # use monitor plot as a dashboard\n",
    "    # set up events to monitor\n",
    "    telescope_state.subscribe_to_on_off(telescope_monitor_plot.observe_telescope_on_off)\n",
    "    telescope_state.subscribe_to_subarray_resource_state(\n",
    "        telescope_monitor_plot.observe_subarray_resources_state\n",
    "    )\n",
    "    telescope_state.subscribe_to_subarray_configurational_state(\n",
    "        telescope_monitor_plot.observe_subarray_configuration_state\n",
    "    )\n",
    "    telescope_state.subscribe_to_subarray_scanning_state(\n",
    "        telescope_monitor_plot.observe_subarray_scanning_state\n",
    "    ) \n",
    "else:\n",
    "    print(\"ERROR: telescope state is unknown\")\n",
    "output_notebook()\n",
    "print(\"Done\")"
   ]
  },
  {
   "cell_type": "markdown",
   "id": "5e1a83fa",
   "metadata": {},
   "source": [
    "#### 3.1.2 Open the inline dashboard\n",
    "Start the simple inline dashboard showing current state of the Telescope and resource assignment and configuration status."
   ]
  },
  {
   "cell_type": "code",
   "execution_count": 13,
   "id": "ba90fbe5",
   "metadata": {},
   "outputs": [
    {
     "name": "stderr",
     "output_type": "stream",
     "text": [
      "BokehDeprecationWarning: 'square() method' was deprecated in Bokeh 3.4.0 and will be removed, use \"scatter(marker='square', ...) instead\" instead.\n"
     ]
    },
    {
     "data": {
      "text/html": [
       "\n",
       "  <div id=\"be03202a-9164-4148-9a1d-3481fe1f6010\" data-root-id=\"p1223\" style=\"display: contents;\"></div>\n"
      ]
     },
     "metadata": {},
     "output_type": "display_data"
    },
    {
     "data": {
      "application/javascript": [
       "(function(root) {\n",
       "  function embed_document(root) {\n",
       "  const docs_json = {\"d12168d2-4ae9-4426-aaa7-041bdb351a2e\":{\"version\":\"3.4.1\",\"title\":\"Bokeh Application\",\"roots\":[{\"type\":\"object\",\"name\":\"Figure\",\"id\":\"p1223\",\"attributes\":{\"width\":900,\"height\":200,\"x_range\":{\"type\":\"object\",\"name\":\"Range1d\",\"id\":\"p1232\",\"attributes\":{\"start\":-0.5,\"end\":1.5}},\"y_range\":{\"type\":\"object\",\"name\":\"Range1d\",\"id\":\"p1233\",\"attributes\":{\"start\":-0.5,\"end\":1.5}},\"x_scale\":{\"type\":\"object\",\"name\":\"LinearScale\",\"id\":\"p1234\"},\"y_scale\":{\"type\":\"object\",\"name\":\"LinearScale\",\"id\":\"p1235\"},\"title\":{\"type\":\"object\",\"name\":\"Title\",\"id\":\"p1230\"},\"renderers\":[{\"type\":\"object\",\"name\":\"GlyphRenderer\",\"id\":\"p1270\",\"attributes\":{\"data_source\":{\"type\":\"object\",\"name\":\"ColumnDataSource\",\"id\":\"p1257\",\"attributes\":{\"selected\":{\"type\":\"object\",\"name\":\"Selection\",\"id\":\"p1258\",\"attributes\":{\"indices\":[],\"line_indices\":[]}},\"selection_policy\":{\"type\":\"object\",\"name\":\"UnionRenderers\",\"id\":\"p1259\"},\"data\":{\"type\":\"map\",\"entries\":[[\"x_position\",[0.5,0.5,0.5,0.5]],[\"y_position\",[0,0.33,0.67,1]],[\"square_labels\",[\"On/Off\",\"Resources Assigned?\",\"Subarray Configured?\",\"Subarray Scanning?\"]],[\"square_colours\",[\"darkmagenta\",\"darkmagenta\",\"darkmagenta\",\"darkmagenta\"]]]}}},\"view\":{\"type\":\"object\",\"name\":\"CDSView\",\"id\":\"p1271\",\"attributes\":{\"filter\":{\"type\":\"object\",\"name\":\"AllIndices\",\"id\":\"p1272\"}}},\"glyph\":{\"type\":\"object\",\"name\":\"Scatter\",\"id\":\"p1267\",\"attributes\":{\"x\":{\"type\":\"field\",\"field\":\"x_position\"},\"y\":{\"type\":\"field\",\"field\":\"y_position\"},\"size\":{\"type\":\"value\",\"value\":20},\"line_color\":{\"type\":\"field\",\"field\":\"square_colours\"},\"fill_color\":{\"type\":\"field\",\"field\":\"square_colours\"},\"hatch_color\":{\"type\":\"field\",\"field\":\"square_colours\"},\"marker\":{\"type\":\"value\",\"value\":\"square\"}}},\"nonselection_glyph\":{\"type\":\"object\",\"name\":\"Scatter\",\"id\":\"p1268\",\"attributes\":{\"x\":{\"type\":\"field\",\"field\":\"x_position\"},\"y\":{\"type\":\"field\",\"field\":\"y_position\"},\"size\":{\"type\":\"value\",\"value\":20},\"line_color\":{\"type\":\"field\",\"field\":\"square_colours\"},\"line_alpha\":{\"type\":\"value\",\"value\":0.1},\"fill_color\":{\"type\":\"field\",\"field\":\"square_colours\"},\"fill_alpha\":{\"type\":\"value\",\"value\":0.1},\"hatch_color\":{\"type\":\"field\",\"field\":\"square_colours\"},\"hatch_alpha\":{\"type\":\"value\",\"value\":0.1},\"marker\":{\"type\":\"value\",\"value\":\"square\"}}},\"muted_glyph\":{\"type\":\"object\",\"name\":\"Scatter\",\"id\":\"p1269\",\"attributes\":{\"x\":{\"type\":\"field\",\"field\":\"x_position\"},\"y\":{\"type\":\"field\",\"field\":\"y_position\"},\"size\":{\"type\":\"value\",\"value\":20},\"line_color\":{\"type\":\"field\",\"field\":\"square_colours\"},\"line_alpha\":{\"type\":\"value\",\"value\":0.2},\"fill_color\":{\"type\":\"field\",\"field\":\"square_colours\"},\"fill_alpha\":{\"type\":\"value\",\"value\":0.2},\"hatch_color\":{\"type\":\"field\",\"field\":\"square_colours\"},\"hatch_alpha\":{\"type\":\"value\",\"value\":0.2},\"marker\":{\"type\":\"value\",\"value\":\"square\"}}}}}],\"toolbar\":{\"type\":\"object\",\"name\":\"Toolbar\",\"id\":\"p1231\",\"attributes\":{\"tools\":[{\"type\":\"object\",\"name\":\"PanTool\",\"id\":\"p1246\"},{\"type\":\"object\",\"name\":\"WheelZoomTool\",\"id\":\"p1247\",\"attributes\":{\"renderers\":\"auto\"}},{\"type\":\"object\",\"name\":\"BoxZoomTool\",\"id\":\"p1248\",\"attributes\":{\"overlay\":{\"type\":\"object\",\"name\":\"BoxAnnotation\",\"id\":\"p1249\",\"attributes\":{\"syncable\":false,\"level\":\"overlay\",\"visible\":false,\"left\":{\"type\":\"number\",\"value\":\"nan\"},\"right\":{\"type\":\"number\",\"value\":\"nan\"},\"top\":{\"type\":\"number\",\"value\":\"nan\"},\"bottom\":{\"type\":\"number\",\"value\":\"nan\"},\"left_units\":\"canvas\",\"right_units\":\"canvas\",\"top_units\":\"canvas\",\"bottom_units\":\"canvas\",\"line_color\":\"black\",\"line_alpha\":1.0,\"line_width\":2,\"line_dash\":[4,4],\"fill_color\":\"lightgrey\",\"fill_alpha\":0.5}}}},{\"type\":\"object\",\"name\":\"SaveTool\",\"id\":\"p1254\"},{\"type\":\"object\",\"name\":\"ResetTool\",\"id\":\"p1255\"},{\"type\":\"object\",\"name\":\"HelpTool\",\"id\":\"p1256\"}]}},\"toolbar_location\":null,\"left\":[{\"type\":\"object\",\"name\":\"LinearAxis\",\"id\":\"p1241\",\"attributes\":{\"visible\":false,\"ticker\":{\"type\":\"object\",\"name\":\"BasicTicker\",\"id\":\"p1242\",\"attributes\":{\"mantissas\":[1,2,5]}},\"formatter\":{\"type\":\"object\",\"name\":\"BasicTickFormatter\",\"id\":\"p1243\"},\"major_label_policy\":{\"type\":\"object\",\"name\":\"AllLabels\",\"id\":\"p1244\"}}}],\"below\":[{\"type\":\"object\",\"name\":\"LinearAxis\",\"id\":\"p1236\",\"attributes\":{\"visible\":false,\"ticker\":{\"type\":\"object\",\"name\":\"BasicTicker\",\"id\":\"p1237\",\"attributes\":{\"mantissas\":[1,2,5]}},\"formatter\":{\"type\":\"object\",\"name\":\"BasicTickFormatter\",\"id\":\"p1238\"},\"major_label_policy\":{\"type\":\"object\",\"name\":\"AllLabels\",\"id\":\"p1239\"}}}],\"center\":[{\"type\":\"object\",\"name\":\"Grid\",\"id\":\"p1240\",\"attributes\":{\"visible\":false,\"axis\":{\"id\":\"p1236\"}}},{\"type\":\"object\",\"name\":\"Grid\",\"id\":\"p1245\",\"attributes\":{\"visible\":false,\"dimension\":1,\"axis\":{\"id\":\"p1241\"}}},{\"type\":\"object\",\"name\":\"LabelSet\",\"id\":\"p1260\",\"attributes\":{\"source\":{\"id\":\"p1257\"},\"x\":{\"type\":\"field\",\"field\":\"x_position\"},\"y\":{\"type\":\"field\",\"field\":\"y_position\"},\"text\":{\"type\":\"field\",\"field\":\"square_labels\"},\"x_offset\":{\"type\":\"value\",\"value\":-200},\"y_offset\":{\"type\":\"value\",\"value\":-10},\"text_color\":{\"type\":\"value\",\"value\":\"black\"},\"background_fill_color\":{\"type\":\"field\",\"field\":\"canvas\"}}}]}}]}};\n",
       "  const render_items = [{\"docid\":\"d12168d2-4ae9-4426-aaa7-041bdb351a2e\",\"roots\":{\"p1223\":\"be03202a-9164-4148-9a1d-3481fe1f6010\"},\"root_ids\":[\"p1223\"],\"notebook_comms_target\":\"p1273\"}];\n",
       "  void root.Bokeh.embed.embed_items_notebook(docs_json, render_items);\n",
       "  }\n",
       "  if (root.Bokeh !== undefined) {\n",
       "    embed_document(root);\n",
       "  } else {\n",
       "    let attempts = 0;\n",
       "    const timer = setInterval(function(root) {\n",
       "      if (root.Bokeh !== undefined) {\n",
       "        clearInterval(timer);\n",
       "        embed_document(root);\n",
       "      } else {\n",
       "        attempts++;\n",
       "        if (attempts > 100) {\n",
       "          clearInterval(timer);\n",
       "          console.log(\"Bokeh: ERROR: Unable to run BokehJS code because BokehJS library is missing\");\n",
       "        }\n",
       "      }\n",
       "    }, 10, root)\n",
       "  }\n",
       "})(window);"
      ],
      "application/vnd.bokehjs_exec.v0+json": ""
     },
     "metadata": {
      "application/vnd.bokehjs_exec.v0+json": {
       "id": "p1223"
      }
     },
     "output_type": "display_data"
    },
    {
     "name": "stdout",
     "output_type": "stream",
     "text": [
      "OK\n"
     ]
    },
    {
     "name": "stderr",
     "output_type": "stream",
     "text": [
      "BokehDeprecationWarning: 'square() method' was deprecated in Bokeh 3.4.0 and will be removed, use \"scatter(marker='square', ...) instead\" instead.\n",
      "BokehDeprecationWarning: 'square() method' was deprecated in Bokeh 3.4.0 and will be removed, use \"scatter(marker='square', ...) instead\" instead.\n",
      "BokehDeprecationWarning: 'square() method' was deprecated in Bokeh 3.4.0 and will be removed, use \"scatter(marker='square', ...) instead\" instead.\n",
      "BokehDeprecationWarning: 'square() method' was deprecated in Bokeh 3.4.0 and will be removed, use \"scatter(marker='square', ...) instead\" instead.\n",
      "BokehDeprecationWarning: 'square() method' was deprecated in Bokeh 3.4.0 and will be removed, use \"scatter(marker='square', ...) instead\" instead.\n",
      "BokehDeprecationWarning: 'square() method' was deprecated in Bokeh 3.4.0 and will be removed, use \"scatter(marker='square', ...) instead\" instead.\n",
      "BokehDeprecationWarning: 'square() method' was deprecated in Bokeh 3.4.0 and will be removed, use \"scatter(marker='square', ...) instead\" instead.\n",
      "BokehDeprecationWarning: 'square() method' was deprecated in Bokeh 3.4.0 and will be removed, use \"scatter(marker='square', ...) instead\" instead.\n"
     ]
    }
   ],
   "source": [
    "telescope_monitor_plot.show()\n",
    "telescope_state.activate()\n",
    "telescope_state.wait_til_ready(2)\n",
    "print(\"Done\")"
   ]
  },
  {
   "cell_type": "markdown",
   "id": "8c243732",
   "metadata": {},
   "source": [
    "### 3.2 Print System Diagnostics"
   ]
  },
  {
   "cell_type": "markdown",
   "id": "1650210a",
   "metadata": {},
   "source": [
    "#### 3.2.1 Print TMC Diagnostics"
   ]
  },
  {
   "cell_type": "code",
   "execution_count": 14,
   "id": "1fe1b28a",
   "metadata": {},
   "outputs": [
    {
     "name": "stdout",
     "output_type": "stream",
     "text": [
      "TMC Central Node state: ON\n",
      "TMC Central Node adminMode: AdminMode.OFFLINE\n",
      "TMC Central Node healthState: HealthState.OK\n",
      "TMC Central Node telescopeHealthState: HealthState.UNKNOWN\n",
      "TMC Central Node isDishVccConfig: True\n",
      "TMC Central Node dishvccvalidationstatus: {\"dish\": \"ALL DISH OK\", \"ska_mid/tm_leaf_node/csp_master\": \"TMC and CSP Master Dish Vcc Version is Same\"}\n",
      "TMC Subarray Node state: ON\n",
      "TMC Subarray adminMode: AdminMode.OFFLINE\n",
      "TMC Subarray Node obsState: ObsState.SCANNING\n",
      "Done\n"
     ]
    }
   ],
   "source": [
    "sut.print_tmc_diagnostics()\n",
    "print(\"Done\")"
   ]
  },
  {
   "cell_type": "markdown",
   "id": "7490e49f",
   "metadata": {},
   "source": [
    "#### 3.2.2 Print CSP-LMC Diagnostics"
   ]
  },
  {
   "cell_type": "code",
   "execution_count": 15,
   "id": "2d977dbb",
   "metadata": {},
   "outputs": [
    {
     "name": "stdout",
     "output_type": "stream",
     "text": [
      "CSP-LMC Controller adminMode: AdminMode.ONLINE\n",
      "CSP-LMC Controller State: ON\n",
      "CSP-LMC Controller dishVccConfig: {\"interface\": \"https://schema.skao.int/ska-mid-cbf-initsysparam/1.0\", \"dish_parameters\": {\"SKA001\": {\"vcc\": 1, \"k\": 119}, \"SKA036\": {\"vcc\": 2, \"k\": 1127}, \"SKA063\": {\"vcc\": 3, \"k\": 620}, \"SKA100\": {\"vcc\": 4, \"k\": 101}}}\n",
      "CSP-LMC Controller CBFSimulationMode: True\n",
      "CSP-LMC Subarray adminMode: AdminMode.ONLINE\n",
      "CSP-LMC Subarray State: ON\n",
      "CSP-LMC Subarray obsState: ObsState.READY\n",
      "CSP-LMC Subarray dishVccConfig: {\"interface\": \"https://schema.skao.int/ska-mid-cbf-initsysparam/1.0\", \"dish_parameters\": {\"SKA001\": {\"vcc\": 1, \"k\": 119}, \"SKA036\": {\"vcc\": 2, \"k\": 1127}, \"SKA063\": {\"vcc\": 3, \"k\": 620}, \"SKA100\": {\"vcc\": 4, \"k\": 101}}}\n",
      "Done\n"
     ]
    }
   ],
   "source": [
    "sut.print_csp_diagnostics()\n",
    "print(\"Done\")"
   ]
  },
  {
   "cell_type": "markdown",
   "id": "20c32d89",
   "metadata": {},
   "source": [
    "#### 3.2.3 Print CBF Diagnostics"
   ]
  },
  {
   "cell_type": "code",
   "execution_count": 16,
   "id": "2c4b84f4",
   "metadata": {},
   "outputs": [
    {
     "name": "stdout",
     "output_type": "stream",
     "text": [
      "CBF Controller adminMode: AdminMode.ONLINE\n",
      "CBF Controller State: ON\n",
      "CBF Subarray adminMode: AdminMode.ONLINE\n",
      "CBF Subarray State: ON\n",
      "CBF Subarray obsState: ObsState.READY\n",
      "Done\n"
     ]
    }
   ],
   "source": [
    "sut.print_cbf_diagnostics()\n",
    "print(\"Done\")"
   ]
  },
  {
   "cell_type": "markdown",
   "id": "2d94ccf7",
   "metadata": {},
   "source": [
    "#### 3.2.4 Print SDP Diagnostics"
   ]
  },
  {
   "cell_type": "code",
   "execution_count": 17,
   "id": "45d18b6f",
   "metadata": {},
   "outputs": [
    {
     "name": "stdout",
     "output_type": "stream",
     "text": [
      "SDP Controller state: ON\n",
      "SDP Controller adminMode: AdminMode.ONLINE\n",
      "SDP Subarray state: ON\n",
      "SDP Subarray adminMode: AdminMode.ONLINE\n",
      "SDP Subarray obsState: ObsState.READY\n",
      "Done\n"
     ]
    }
   ],
   "source": [
    "sut.print_sdp_diagnostics()\n",
    "print(\"Done\")"
   ]
  },
  {
   "cell_type": "markdown",
   "id": "b8685670",
   "metadata": {},
   "source": [
    "#### 3.2.5 Print Dish-LMC Diagnostics"
   ]
  },
  {
   "cell_type": "code",
   "execution_count": 18,
   "id": "00e2964a",
   "metadata": {},
   "outputs": [
    {
     "name": "stdout",
     "output_type": "stream",
     "text": [
      "Dish ska001 - integration-dish-lmc-ska001: Diagnostics\n",
      "ska001: ComponentStates: \"{'SPF': {'operatingmode': <SPFOperatingMode.OPERATE: 3>, 'powerstate': <SPFPowerState.FULL_POWER: 2>, 'healthstate': <HealthState.UNKNOWN: 3>, 'bandinfocus': <SPFBandInFocus.B2: 2>, 'b1capabilitystate': <SPFCapabilityStates.OPERATE_FULL: 3>, 'b2capabilitystate': <SPFCapabilityStates.OPERATE_FULL: 3>, 'b3capabilitystate': <SPFCapabilityStates.OPERATE_FULL: 3>, 'b4capabilitystate': <SPFCapabilityStates.OPERATE_FULL: 3>, 'b5acapabilitystate': <SPFCapabilityStates.OPERATE_FULL: 3>, 'b5bcapabilitystate': <SPFCapabilityStates.OPERATE_FULL: 3>}, 'DS': {'healthstate': <HealthState.UNKNOWN: 3>, 'operatingmode': <DSOperatingMode.POINT: 7>, 'pointingstate': <PointingState.TRACK: 2>, 'achievedtargetlock': None, 'indexerposition': <IndexerPosition.B2: 2>, 'powerstate': <DSPowerState.FULL_POWER: 2>, 'desiredpointingaz': [1715580700.0, 0.0], 'desiredpointingel': [1715580700.0, 0.0], 'achievedpointing': [1715601300.0, 255.9, 82.0], 'achievedpointingaz': [1715601300.0, 255.9], 'achievedpointingel': [1715601300.0, 82.1], 'band2pointingmodelparams': [0.0, 0.0, 0.0, 0.0, 0.0, 0.0, 0.0, 0.0, 0.0, 0.0, 0.0, 0.0, 0.0, 0.0, 0.0, 0.0, 0.0, 0.0, 0.0, 0.0], 'trackinterpolationmode': <TrackInterpolationMode.SPLINE: 1>}, 'SPFRX': {'operatingmode': <SPFRxOperatingMode.DATA_CAPTURE: 3>, 'configuredband': <Band.B2: 2>, 'capturingdata': True, 'healthstate': <HealthState.UNKNOWN: 3>, 'attenuationpolh': 0.0, 'attenuationpolv': 0.0, 'kvalue': 119, 'b1capabilitystate': <SPFRxCapabilityStates.STANDBY: 2>, 'b2capabilitystate': <SPFRxCapabilityStates.OPERATE: 4>, 'b3capabilitystate': <SPFRxCapabilityStates.STANDBY: 2>, 'b4capabilitystate': <SPFRxCapabilityStates.STANDBY: 2>, 'b5acapabilitystate': <SPFRxCapabilityStates.STANDBY: 2>, 'b5bcapabilitystate': <SPFRxCapabilityStates.STANDBY: 2>}, 'DM': {'dishmode': <DishMode.OPERATE: 7>, 'capturing': True, 'healthstate': <HealthState.UNKNOWN: 3>, 'pointingstate': <PointingState.TRACK: 2>, 'b1capabilitystate': <CapabilityStates.UNKNOWN: 5>, 'b2capabilitystate': <CapabilityStates.OPERATE_FULL: 4>, 'b3capabilitystate': <CapabilityStates.UNKNOWN: 5>, 'b4capabilitystate': <CapabilityStates.UNKNOWN: 5>, 'b5acapabilitystate': <CapabilityStates.UNKNOWN: 5>, 'b5bcapabilitystate': <CapabilityStates.UNKNOWN: 5>, 'achievedtargetlock': True, 'desiredpointingaz': [1715580700.0, 0.0], 'desiredpointingel': [1715580700.0, 0.0], 'achievedpointing': [1715601300.0, 255.9, 82.0], 'achievedpointingaz': [1715601300.0, 255.9], 'achievedpointingel': [1715601300.0, 82.1], 'configuredband': <Band.B2: 2>, 'attenuationpolh': 0.0, 'attenuationpolv': 0.0, 'kvalue': 119, 'scanid': '', 'spfconnectionstate': <CommunicationStatus.ESTABLISHED: 2>, 'spfrxconnectionstate': <CommunicationStatus.ESTABLISHED: 2>, 'dsconnectionstate': <CommunicationStatus.ESTABLISHED: 2>, 'band2pointingmodelparams': [0.0, 0.0, 0.0, 0.0, 0.0, 0.0, 0.0, 0.0, 0.0, 0.0, 0.0, 0.0, 0.0, 0.0, 0.0, 0.0, 0.0, 0.0, 0.0, 0.0], 'trackinterpolationmode': None}}\"\n",
      "ska001: DishMode: DishMode.OPERATE\n",
      "ska001: PowerState: PowerState.LOW\n",
      "ska001: HealthState: HealthState.UNKNOWN\n",
      "ska001: PointingState: PointingState.TRACK\n",
      "ska001: K-Value: 119\n",
      "ska001: Capturing: True\n",
      "ska001: SimulationMode: 0\n",
      "ska001: SPFC OperatingMode: SPFOperatingMode.OPERATE\n",
      "ska001: SPFRx OperatingMode: SPFRxOperatingMode.DATA_CAPTURE\n",
      "ska001: DS Manager OperatingMode: DSOperatingMode.POINT\n",
      "ska001: DS Manager IndexerPosition: 2\n",
      "Dish ska036 - integration-dish-lmc-ska036: Diagnostics\n",
      "ska036: ComponentStates: \"{'SPF': {'operatingmode': <SPFOperatingMode.OPERATE: 3>, 'powerstate': <SPFPowerState.FULL_POWER: 2>, 'healthstate': <HealthState.UNKNOWN: 3>, 'bandinfocus': <SPFBandInFocus.B2: 2>, 'b1capabilitystate': <SPFCapabilityStates.OPERATE_FULL: 3>, 'b2capabilitystate': <SPFCapabilityStates.OPERATE_FULL: 3>, 'b3capabilitystate': <SPFCapabilityStates.OPERATE_FULL: 3>, 'b4capabilitystate': <SPFCapabilityStates.OPERATE_FULL: 3>, 'b5acapabilitystate': <SPFCapabilityStates.OPERATE_FULL: 3>, 'b5bcapabilitystate': <SPFCapabilityStates.OPERATE_FULL: 3>}, 'DS': {'healthstate': <HealthState.UNKNOWN: 3>, 'operatingmode': <DSOperatingMode.POINT: 7>, 'pointingstate': <PointingState.TRACK: 2>, 'achievedtargetlock': None, 'indexerposition': <IndexerPosition.B2: 2>, 'powerstate': <DSPowerState.FULL_POWER: 2>, 'desiredpointingaz': [1715580700.0, 0.0], 'desiredpointingel': [1715580700.0, 0.0], 'achievedpointing': [1715601300.0, 246.6, 78.9], 'achievedpointingaz': [1715601300.0, 246.6], 'achievedpointingel': [1715601300.0, 79.0], 'band2pointingmodelparams': [0.0, 0.0, 0.0, 0.0, 0.0, 0.0, 0.0, 0.0, 0.0, 0.0, 0.0, 0.0, 0.0, 0.0, 0.0, 0.0, 0.0, 0.0, 0.0, 0.0], 'trackinterpolationmode': <TrackInterpolationMode.SPLINE: 1>}, 'SPFRX': {'operatingmode': <SPFRxOperatingMode.DATA_CAPTURE: 3>, 'configuredband': <Band.B2: 2>, 'capturingdata': True, 'healthstate': <HealthState.UNKNOWN: 3>, 'attenuationpolh': 0.0, 'attenuationpolv': 0.0, 'kvalue': 1127, 'b1capabilitystate': <SPFRxCapabilityStates.STANDBY: 2>, 'b2capabilitystate': <SPFRxCapabilityStates.OPERATE: 4>, 'b3capabilitystate': <SPFRxCapabilityStates.STANDBY: 2>, 'b4capabilitystate': <SPFRxCapabilityStates.STANDBY: 2>, 'b5acapabilitystate': <SPFRxCapabilityStates.STANDBY: 2>, 'b5bcapabilitystate': <SPFRxCapabilityStates.STANDBY: 2>}, 'DM': {'dishmode': <DishMode.OPERATE: 7>, 'capturing': True, 'healthstate': <HealthState.UNKNOWN: 3>, 'pointingstate': <PointingState.TRACK: 2>, 'b1capabilitystate': <CapabilityStates.UNKNOWN: 5>, 'b2capabilitystate': <CapabilityStates.OPERATE_FULL: 4>, 'b3capabilitystate': <CapabilityStates.UNKNOWN: 5>, 'b4capabilitystate': <CapabilityStates.UNKNOWN: 5>, 'b5acapabilitystate': <CapabilityStates.UNKNOWN: 5>, 'b5bcapabilitystate': <CapabilityStates.UNKNOWN: 5>, 'achievedtargetlock': True, 'desiredpointingaz': [1715580700.0, 0.0], 'desiredpointingel': [1715580700.0, 0.0], 'achievedpointing': [1715601300.0, 246.6, 78.9], 'achievedpointingaz': [1715601300.0, 246.6], 'achievedpointingel': [1715601300.0, 79.0], 'configuredband': <Band.B2: 2>, 'attenuationpolh': 0.0, 'attenuationpolv': 0.0, 'kvalue': 1127, 'scanid': '', 'spfconnectionstate': <CommunicationStatus.ESTABLISHED: 2>, 'spfrxconnectionstate': <CommunicationStatus.ESTABLISHED: 2>, 'dsconnectionstate': <CommunicationStatus.ESTABLISHED: 2>, 'band2pointingmodelparams': [0.0, 0.0, 0.0, 0.0, 0.0, 0.0, 0.0, 0.0, 0.0, 0.0, 0.0, 0.0, 0.0, 0.0, 0.0, 0.0, 0.0, 0.0, 0.0, 0.0], 'trackinterpolationmode': None}}\"\n",
      "ska036: DishMode: DishMode.OPERATE\n",
      "ska036: PowerState: PowerState.LOW\n",
      "ska036: HealthState: HealthState.UNKNOWN\n",
      "ska036: PointingState: PointingState.TRACK\n",
      "ska036: K-Value: 1127\n",
      "ska036: Capturing: True\n",
      "ska036: SimulationMode: 0\n",
      "ska036: SPFC OperatingMode: SPFOperatingMode.OPERATE\n",
      "ska036: SPFRx OperatingMode: SPFRxOperatingMode.DATA_CAPTURE\n",
      "ska036: DS Manager OperatingMode: DSOperatingMode.POINT\n",
      "ska036: DS Manager IndexerPosition: 2\n",
      "OK\n"
     ]
    }
   ],
   "source": [
    "for dish_deployment in dish_deployments:\n",
    "    print(f\"Dish {dish_deployment.dish_id} - {dish_deployment.namespace}: Diagnostics\")\n",
    "\n",
    "    dish_deployment.print_diagnostics()\n",
    "print(\"Done\")"
   ]
  },
  {
   "cell_type": "markdown",
   "id": "93130f3b",
   "metadata": {},
   "source": [
    "#### 3.2.6 Print Full System Diagnostics"
   ]
  },
  {
   "cell_type": "code",
   "execution_count": null,
   "id": "5f5513d7",
   "metadata": {},
   "outputs": [],
   "source": [
    "print(\"SUT: Full Diagnostics\")\n",
    "sut.print_full_diagnostics()\n",
    "\n",
    "for dish_deployment in dish_deployments:\n",
    "    print(f\"Dish {dish_deployment.dish_id}: Full Diagnostics\")\n",
    "    dish_deployment.print_full_diagnostics()\n",
    "\n",
    "print(\"Test Equipment: Full Diagnostics\")\n",
    "test_equipment.print_full_diagnostics()\n",
    "print(\"OK\")"
   ]
  },
  {
   "cell_type": "markdown",
   "id": "dcc952f9",
   "metadata": {},
   "source": [
    "### 3.3 Setup ODA"
   ]
  },
  {
   "cell_type": "code",
   "execution_count": null,
   "id": "750e478d",
   "metadata": {},
   "outputs": [],
   "source": [
    "os.environ[\"ODA_URI\"] = (\n",
    "    \"http://ingress-nginx-controller-lb-default.ingress-nginx.svc.miditf.internal.skao.int/ska-db-oda/api/v1/\"\n",
    ")\n",
    "eb_id = oda_helper.create_eb()\n",
    "print(f\"Execution Block ID: {eb_id}\")\n",
    "print(\"OK\")"
   ]
  },
  {
   "cell_type": "markdown",
   "id": "2b598fc9",
   "metadata": {},
   "source": [
    "### 3.4 Initialise Telescope and Subarray\n",
    "Create Subarray and Telescope instances."
   ]
  },
  {
   "cell_type": "code",
   "execution_count": null,
   "id": "1b2e9941",
   "metadata": {},
   "outputs": [],
   "source": [
    "sub = SubArray(subarray_id)\n",
    "tel = Telescope()\n",
    "print(\"OK\")"
   ]
  },
  {
   "cell_type": "markdown",
   "id": "27578c9b",
   "metadata": {},
   "source": [
    "### 3.5 Dish-VCC Configuration in TMC"
   ]
  },
  {
   "cell_type": "markdown",
   "id": "9dceba5e",
   "metadata": {},
   "source": [
    "#### 3.5.1 Check Dish-VCC Configuration in TMC\n",
    "Loading fails because the telescope is not in the correct state."
   ]
  },
  {
   "cell_type": "code",
   "execution_count": 26,
   "id": "4ce85d95",
   "metadata": {},
   "outputs": [
    {
     "name": "stdout",
     "output_type": "stream",
     "text": [
      "TMC subarray state ObsState.SCANNING (5)\n",
      "CSP subarray state ObsState.READY (4)\n",
      "SDP subarray state ObsState.READY (4)\n",
      "ERROR: TMC subarray is not ready\n"
     ]
    }
   ],
   "source": [
    "tmc_obs = sut.tmc_subarray.obs_state\n",
    "csp_obs = sut.csp_subarray.obs_state\n",
    "sdp_obs = sut.sdp_subarray.obs_state\n",
    "print(f\"TMC subarray state {str(tmc_obs)} ({tmc_obs})\")\n",
    "print(f\"CSP subarray state {str(csp_obs)} ({csp_obs})\")\n",
    "print(f\"SDP subarray state {str(sdp_obs)} ({sdp_obs})\")\n",
    "if tmc_obs != 4:\n",
    "    print(\"ERROR: TMC subarray is not ready\")\n",
    "if csp_obs != 4:\n",
    "    print(\"ERROR: CSP subarray is not ready\")\n",
    "if sdp_obs != 4:\n",
    "    print(\"ERROR: SDP subarray is not ready\")"
   ]
  },
  {
   "cell_type": "markdown",
   "id": "3db487bd",
   "metadata": {},
   "source": [
    "#### 3.5.2 Load Dish-VCC Configuration in TMC"
   ]
  },
  {
   "cell_type": "code",
   "execution_count": 30,
   "id": "37bc04ca",
   "metadata": {},
   "outputs": [
    {
     "name": "stdout",
     "output_type": "stream",
     "text": [
      "CSP Controller: adminMode=0; State=ON\n",
      "CSP Controller: adminMode=0; State=ON after 0s.\n",
      "CSP Controller: adminMode=0; State=ON after 1s.\n",
      "CSP Controller: adminMode=0; State=ON after 3s.\n",
      "CSP Controller: adminMode=0; State=ON after 7s.\n",
      "CSP Controller: adminMode=0; State=ON after 15s.\n",
      "CSP Controller: adminMode=0; State=ON after 31s.\n",
      "CSP Controller: adminMode=0; State=ON after 63s.\n",
      "1|2024-05-13T12:36:46.948Z|WARNING|Thread-7 (_listening_daemon)|_listening_daemon|statemonitoring.py#1138||exiting monitoring loop due to an unknown exception\n"
     ]
    },
    {
     "name": "stderr",
     "output_type": "stream",
     "text": [
      "Exception in thread Thread-7 (_listening_daemon):\n",
      "Traceback (most recent call last):\n",
      "  File \"/usr/lib/python3.10/threading.py\", line 1016, in _bootstrap_inner\n",
      "    self.run()\n",
      "  File \"/usr/lib/python3.10/threading.py\", line 953, in run\n",
      "    self._target(*self._args, **self._kwargs)\n",
      "  File \"/usr/local/lib/skao/ska_mid_jupyter_notebooks/monitoring/statemonitoring.py\", line 1139, in _listening_daemon\n",
      "    raise exception\n",
      "  File \"/usr/local/lib/skao/ska_mid_jupyter_notebooks/monitoring/statemonitoring.py\", line 1110, in _listening_daemon\n",
      "    event_key_input = event.key\n",
      "  File \"/usr/local/lib/skao/ska_mid_jupyter_notebooks/monitoring/statemonitoring.py\", line 75, in key\n",
      "    return event_key(self.device.name(), self.attr_name)\n",
      "PyTango.ConnectionFailed: DevFailed[\n",
      "DevError[\n",
      "    desc = TRANSIENT CORBA system exception: TRANSIENT_ConnectFailed\n",
      "  origin = void Tango::Connection::connect(const string&) at (/src/cppTango/cppapi/client/devapi_base.cpp:604)\n",
      "  reason = API_CorbaException\n",
      "severity = ERR]\n",
      "\n",
      "DevError[\n",
      "    desc = Failed to connect to database on host tango-databaseds.test-equipment.svc.miditf.internal.skao.int with port 10000\n",
      "  origin = void Tango::Connection::connect(const string&) at (/src/cppTango/cppapi/client/devapi_base.cpp:604)\n",
      "  reason = API_CantConnectToDatabase\n",
      "severity = ERR]\n",
      "\n",
      "DevError[\n",
      "    desc = Failed to execute command_inout on device sys/database/2, command DbImportDevice\n",
      "  origin = virtual Tango::DeviceData Tango::Connection::command_inout(const string&, const Tango::DeviceData&) at (/src/cppTango/cppapi/client/devapi_base.cpp:1324)\n",
      "  reason = API_CommandFailed\n",
      "severity = ERR]\n",
      "]\n"
     ]
    },
    {
     "name": "stdout",
     "output_type": "stream",
     "text": [
      "ERROR: Failed to connect to device sys/database/2\n",
      "The connection request was delayed.\n",
      "The last connection request was done less than 1000 ms ago\n",
      "Done\n"
     ]
    }
   ],
   "source": [
    "# This should only be executed for a fresh deployment (i.e. Telescope is OFF.\n",
    "# If you have restarted the subarray, you should not run this command\n",
    "try:\n",
    "    sut.load_dish_vcc_config()\n",
    "    print(\"OK\")\n",
    "except tango.DevFailed as terr:\n",
    "    print(f\"ERROR: {terr.args[0].desc.strip()}\")\n",
    "except KeyboardInterrupt:\n",
    "    print(\"Terminated\")\n",
    "except TimeoutError as tmer:\n",
    "    printprint(f\"ERROR: {tmer}\")\n",
    "print(\"Done\")"
   ]
  },
  {
   "cell_type": "markdown",
   "id": "a533faaa",
   "metadata": {},
   "source": [
    "### 3.6 Turn telescope ON"
   ]
  },
  {
   "cell_type": "code",
   "execution_count": null,
   "id": "1b2b2a0f",
   "metadata": {},
   "outputs": [],
   "source": [
    "# set to ON only if OFF\n",
    "# If you have restarted the subarray, you should not run this command (Telescope is already ON)\n",
    "# dish_lmc mode must be in LP_standby and before trying to turn the telescope ON\n",
    "# Takes about 1m20s\n",
    "if telescope_monitor_plot.on_off_state == \"OFF\":  # e.g. purple\n",
    "    tel.on()\n",
    "else:\n",
    "    assert (\n",
    "        telescope_monitor_plot.on_off_state == \"ON\"\n",
    "    ), f\"Cant continue with telescope in {telescope_monitor_plot.on_off_state}\"\n",
    "print(\"OK\")"
   ]
  },
  {
   "cell_type": "markdown",
   "id": "7ca4967f-5420-4a54-97e7-7605753aeb00",
   "metadata": {},
   "source": [
    "### 3.7 Observation Definition"
   ]
  },
  {
   "cell_type": "markdown",
   "id": "ec0f3398-e44a-4a4d-9513-f9fe63f2b473",
   "metadata": {},
   "source": [
    "#### 3.7.1 Define Resources to be used during Observation\n",
    "Generate Processing Block and Execution Block IDs using SKUID."
   ]
  },
  {
   "cell_type": "code",
   "execution_count": null,
   "id": "3fff823f-eed7-4693-a635-f79c3f05fa71",
   "metadata": {
    "tags": []
   },
   "outputs": [],
   "source": [
    "# External IDs (this would typically come from a database like ODA)\n",
    "# this is simulated by means of instantiate a new Observation object comping from the helper modules\n",
    "observation = ObservationSB()\n",
    "print(\"OK\")"
   ]
  },
  {
   "cell_type": "markdown",
   "id": "d2e666a2-7d56-4b8e-81bf-e31a98f7efaa",
   "metadata": {},
   "source": [
    "#### 3.7.2 Create the high level observation specifications in terms of target specs"
   ]
  },
  {
   "cell_type": "markdown",
   "id": "f867036b-6723-4244-918d-7553e5076890",
   "metadata": {},
   "source": [
    "Note :- Users may currently modify the values by replacing the example values as given for each field within Target specification section."
   ]
  },
  {
   "cell_type": "code",
   "execution_count": null,
   "id": "25d2c936-8078-4f2e-9bf2-0d7e2fb08134",
   "metadata": {
    "tags": []
   },
   "outputs": [],
   "source": [
    "observation = ObservationSB()\n",
    "dish_ids = [d.dish_id.upper() for d in dish_deployments]\n",
    "DEFAULT_TARGET_SPECS = {\n",
    "    \"flux calibrator\": TargetSpec(\n",
    "        target_sb_detail={\n",
    "            \"co_ordinate_type\": \"Equatorial\",\n",
    "            \"ra\": \"19:24:51.05 degrees\",\n",
    "            \"dec\": \"-29:14:30.12 degrees\",\n",
    "            \"reference_frame\": \"ICRS\",\n",
    "            \"unit\": (\"hourangle\", \"deg\"),\n",
    "            \"pointing_pattern_type\": {\n",
    "                \"single_pointing_parameters\": SinglePointParameters(\n",
    "                    offset_x_arcsec=0.0, offset_y_arcsec=0.0\n",
    "                ),\n",
    "                \"raster_parameters\": RasterParameters(\n",
    "                    row_length_arcsec=0.0,\n",
    "                    row_offset_arcsec=0.0,\n",
    "                    n_rows=1,\n",
    "                    pa=0.0,\n",
    "                    unidirectional=False,\n",
    "                ),\n",
    "                \"star_raster_parameters\": StarRasterParameters(\n",
    "                    row_length_arcsec=0.0,\n",
    "                    n_rows=1,\n",
    "                    row_offset_angle=0.0,\n",
    "                    unidirectional=False,\n",
    "                ),\n",
    "                \"five_point_parameters\": FivePointParameters(offset_arcsec=0.0),\n",
    "                \"cross_scan_parameters\": CrossScanParameters(offset_arcsec=0.0),\n",
    "                \"active_pointing_pattern_type\": \"single_pointing_parameters\",\n",
    "            },\n",
    "        },\n",
    "        scan_type=\"flux calibrator\",\n",
    "        band=ReceiverBand.BAND_2,\n",
    "        channelisation=\"vis_channels9\",\n",
    "        polarisation=\"all\",\n",
    "        processing=\"test-receive-addresses\",\n",
    "        dish_ids=dish_ids,\n",
    "        target=None,\n",
    "    ),\n",
    "    \"M87\": TargetSpec(\n",
    "        target_sb_detail={\n",
    "            \"co_ordinate_type\": \"Equatorial\",\n",
    "            \"ra\": \"19:24:51.05 degrees\",\n",
    "            \"dec\": \"-29:14:30.12 degrees\",\n",
    "            \"reference_frame\": \"ICRS\",\n",
    "            \"unit\": (\"hourangle\", \"deg\"),\n",
    "            \"pointing_pattern_type\": {\n",
    "                \"single_pointing_parameters\": SinglePointParameters(\n",
    "                    offset_x_arcsec=0.0, offset_y_arcsec=0.0\n",
    "                ),\n",
    "                \"raster_parameters\": RasterParameters(\n",
    "                    row_length_arcsec=0.0,\n",
    "                    row_offset_arcsec=0.0,\n",
    "                    n_rows=1,\n",
    "                    pa=0.0,\n",
    "                    unidirectional=False,\n",
    "                ),\n",
    "                \"star_raster_parameters\": StarRasterParameters(\n",
    "                    row_length_arcsec=0.0,\n",
    "                    n_rows=1,\n",
    "                    row_offset_angle=0.0,\n",
    "                    unidirectional=False,\n",
    "                ),\n",
    "                \"five_point_parameters\": FivePointParameters(offset_arcsec=0.0),\n",
    "                \"cross_scan_parameters\": CrossScanParameters(offset_arcsec=0.0),\n",
    "                \"active_pointing_pattern_type\": \"single_pointing_parameters\",\n",
    "            },\n",
    "        },\n",
    "        scan_type=\"M87\",\n",
    "        band=ReceiverBand.BAND_2,\n",
    "        channelisation=\"vis_channels10\",\n",
    "        polarisation=\"all\",\n",
    "        processing=\"test-receive-addresses\",\n",
    "        dish_ids=dish_ids,\n",
    "        target=None,\n",
    "    ),\n",
    "}\n",
    "\n",
    "\n",
    "channel_configuration = [\n",
    "    Channel(\n",
    "        spectral_window_id=\"fsp_1_channels\",\n",
    "        count=14880,\n",
    "        start=0,\n",
    "        stride=2,\n",
    "        freq_min=0.35e9,\n",
    "        freq_max=0.368e9,\n",
    "        link_map=[[0, 0], [200, 1], [744, 2], [944, 3]],\n",
    "    )\n",
    "]\n",
    "\n",
    "for key, value in DEFAULT_TARGET_SPECS.items():\n",
    "    observation.add_channel_configuration(value.channelisation, channel_configuration)\n",
    "\n",
    "observation.add_target_specs(DEFAULT_TARGET_SPECS)\n",
    "\n",
    "for target_id, target in DEFAULT_TARGET_SPECS.items():\n",
    "    observation.add_scan_type_configuration(\n",
    "        config_name=target_id,\n",
    "        beams={\"vis0\": BeamMapping(beam_id=\"vis0\", field_id=\"M83\")},\n",
    "        derive_from=\".default\",\n",
    "    )\n",
    "scan_def_id = \"flux calibrator\"\n",
    "observation.add_scan_sequence([scan_def_id])\n",
    "print(\"OK\")"
   ]
  },
  {
   "cell_type": "markdown",
   "id": "c59a8bc2-5e50-4717-9cc2-57a71509591a",
   "metadata": {},
   "source": [
    "#### 3.7.3 Mid configuration schema input used by observing commands"
   ]
  },
  {
   "cell_type": "markdown",
   "id": "727e53ca-0480-42b9-bbd5-a71900b57de9",
   "metadata": {},
   "source": [
    "[Configuration Schemas-OET→TMC(Mid)](https://developer.skao.int/projects/ska-telmodel/en/latest/)"
   ]
  },
  {
   "cell_type": "code",
   "execution_count": null,
   "id": "1d2e7764-2bf3-4240-ad85-3df54361e6a1",
   "metadata": {
    "tags": []
   },
   "outputs": [],
   "source": [
    "telescope_monitor_plot.show()\n",
    "print(\"OK\")"
   ]
  },
  {
   "cell_type": "markdown",
   "id": "308b4669-4d24-4583-9b10-8135a96d70b6",
   "metadata": {},
   "source": [
    "#### 3.7.4 Create Scheduling Block Definition(SBD) Instance and save it into the ODA"
   ]
  },
  {
   "cell_type": "code",
   "execution_count": null,
   "id": "88f276d9-90c5-4ded-ac22-de876bf2ef88",
   "metadata": {
    "tags": []
   },
   "outputs": [],
   "source": [
    "observation.eb_id = eb_id\n",
    "pdm_allocation = observation.generate_pdm_object_for_sbd_save(DEFAULT_TARGET_SPECS)\n",
    "\n",
    "sbd = oda_helper.save(pdm_allocation)\n",
    "sbd_id = sbd.sbd_id\n",
    "pdm_allocation.sbd_id = sbd_id\n",
    "print(f\"Saved Scheduling Block Definition Instance in ODA: SBD_ID={sbd_id}\")\n",
    "print(\"OK\")"
   ]
  },
  {
   "cell_type": "markdown",
   "id": "f1806aa4-2f8a-43db-84ce-e8643dd1a0dc",
   "metadata": {},
   "source": [
    "### 3.8 Assign Resources\n",
    "Assign the requested resources to a Subarray"
   ]
  },
  {
   "cell_type": "code",
   "execution_count": null,
   "id": "4541f02b",
   "metadata": {},
   "outputs": [],
   "source": [
    "print(\"Assign request\")\n",
    "assign_request = observation.generate_allocate_config_sb(pdm_allocation).as_object\n",
    "print(f\"Got assign request {assign_request}\")\n",
    "print()\n",
    "\n",
    "if debug_mode:\n",
    "    print(\"Debug request JSON\")\n",
    "    request_json = get_request_json(assign_request, AssignResourcesRequest, True)\n",
    "    print(\"AssignResourcesRequest:\", json.dumps(json.loads(request_json), indent=2))\n",
    "print()\n",
    "\n",
    "print(\"Assign from Control Data Model (CDM) from subarray {sub.id}\")\n",
    "try:\n",
    "    sub.assign_from_cdm(assign_request, timeout=120)\n",
    "except tango.DevFailed as terr:\n",
    "    print(f\"ERROR: {terr.args[0].desc.strip()}\")\n",
    "except EventTimeoutError:\n",
    "    print(\"Could not assign resources\")\n",
    "print()\n",
    "\n",
    "print(\"Plot telescope monitor\")\n",
    "try:\n",
    "    telescope_monitor_plot.show()\n",
    "except tango.DevFailed as terr:\n",
    "    print(f\"ERROR: {terr.args[0].desc.strip()}\")\n",
    "print()\n",
    "\n",
    "print(\"OK\")"
   ]
  },
  {
   "cell_type": "code",
   "execution_count": null,
   "id": "62aeea96-d3b1-44ba-9a80-a85bde4236e3",
   "metadata": {
    "tags": []
   },
   "outputs": [],
   "source": [
    "telescope_monitor_plot.show()\n",
    "print(\"OK\")"
   ]
  },
  {
   "cell_type": "markdown",
   "id": "cf6947ca-7e8b-4a1a-8a83-94c4b3647f38",
   "metadata": {},
   "source": [
    "### 3.9 Configure Scan\n",
    "Configure the telescope  on first target in sequence - may be modified to configure and run multiple targets at a later time."
   ]
  },
  {
   "cell_type": "code",
   "execution_count": null,
   "id": "b8df9783-06c0-4ab4-b9f6-4864c269a616",
   "metadata": {
    "tags": []
   },
   "outputs": [],
   "source": [
    "configure_object = observation.generate_scan_config_sb(\n",
    "    pdm_observation_request=pdm_allocation,\n",
    "    scan_definition_id=scan_def_id,\n",
    "    scan_duration=10.0,\n",
    ").as_object\n",
    "\n",
    "if debug_mode:\n",
    "    cfg_json = get_request_json(configure_object, ConfigureRequest)\n",
    "    print(f\"ConfigureRequest={cfg_json}\")\n",
    "\n",
    "sub.configure_from_cdm(configure_object, timeout=120)\n",
    "time.sleep(2)\n",
    "print(\"OK\")"
   ]
  },
  {
   "cell_type": "code",
   "execution_count": null,
   "id": "dbca8838",
   "metadata": {},
   "outputs": [],
   "source": [
    "telescope_monitor_plot.show()\n",
    "print(\"OK\")"
   ]
  },
  {
   "cell_type": "markdown",
   "id": "441273bc",
   "metadata": {},
   "source": [
    "### 3.10 Run the Scan"
   ]
  },
  {
   "cell_type": "code",
   "execution_count": null,
   "id": "587739eb",
   "metadata": {},
   "outputs": [],
   "source": [
    "sub.scan(timeout=120)\n",
    "telescope_monitor_plot.show()\n",
    "print(\"OK\")"
   ]
  },
  {
   "cell_type": "markdown",
   "id": "e24ecf17-27f7-4b39-97e0-35c604847beb",
   "metadata": {},
   "source": [
    "### 3.11 Post Observation teardown\n",
    "If the observation executed successfully, you can use the following commands to reset the telescope."
   ]
  },
  {
   "cell_type": "markdown",
   "id": "a6fdaf9d-745d-42af-979d-56df00be451f",
   "metadata": {},
   "source": [
    "#### 3.11.1 Clear scan configuration "
   ]
  },
  {
   "cell_type": "code",
   "execution_count": null,
   "id": "5283c8ce-aff0-4624-aee9-c256a9292e9a",
   "metadata": {
    "tags": []
   },
   "outputs": [],
   "source": [
    "sub.end()\n",
    "telescope_monitor_plot.show()\n",
    "print(\"OK\")"
   ]
  },
  {
   "cell_type": "markdown",
   "id": "2018060f-b252-4636-8ae3-1de450a8e84e",
   "metadata": {},
   "source": [
    "#### 3.11.2 Release Subarray resources"
   ]
  },
  {
   "cell_type": "code",
   "execution_count": null,
   "id": "82b3382b-c3b0-44c8-959b-2f7889e894fc",
   "metadata": {
    "tags": []
   },
   "outputs": [],
   "source": [
    "sub.release()\n",
    "telescope_monitor_plot.show()\n",
    "print(\"OK\")"
   ]
  },
  {
   "cell_type": "markdown",
   "id": "2271a3b8",
   "metadata": {},
   "source": [
    "### 3.12 Reset the Telescope/Subarray (On Failure)\n",
    "Set booleans to True to reset the system after a failed execution."
   ]
  },
  {
   "cell_type": "code",
   "execution_count": null,
   "id": "f1055b6f",
   "metadata": {},
   "outputs": [],
   "source": [
    "do_reset_subarray = False\n",
    "do_reset_dish = False\n",
    "\n",
    "if do_reset_subarray:\n",
    "    sub.abort()\n",
    "    time.sleep(3)\n",
    "    sub.restart()\n",
    "\n",
    "if do_reset_dish:\n",
    "    dish_deployment: TangoDishDeployment\n",
    "    for dish_deployment in dish_deployments:\n",
    "        dish_deployment.reset_dish()\n",
    "print(\"OK\")"
   ]
  },
  {
   "cell_type": "markdown",
   "id": "3aa97f57",
   "metadata": {},
   "source": [
    "## 4 Debug Telescope"
   ]
  },
  {
   "cell_type": "markdown",
   "id": "928303b2",
   "metadata": {},
   "source": [
    "### 4.1 Display Telescope State"
   ]
  },
  {
   "cell_type": "code",
   "execution_count": null,
   "id": "0826fb4f",
   "metadata": {},
   "outputs": [],
   "source": [
    "telescope_state.state\n",
    "print(\"OK\")"
   ]
  },
  {
   "cell_type": "markdown",
   "id": "6eaab909",
   "metadata": {},
   "source": [
    "### 4.2 Display Telescope State Subscriptions"
   ]
  },
  {
   "cell_type": "code",
   "execution_count": null,
   "id": "1432e55e",
   "metadata": {},
   "outputs": [],
   "source": [
    "telescope_state.state_monitor.subscriptions\n",
    "print(\"OK\")"
   ]
  },
  {
   "cell_type": "markdown",
   "id": "d3f19fe0",
   "metadata": {},
   "source": [
    "### 4.3 Display Dish LMC State"
   ]
  },
  {
   "cell_type": "code",
   "execution_count": null,
   "id": "b35a75fe",
   "metadata": {},
   "outputs": [],
   "source": [
    "dishes_to_debug = [d.dish_id for d in dish_deployments]\n",
    "for dish in dish_deployments:\n",
    "    if dish.dish_id in dishes_to_debug:\n",
    "        dish.print_diagnostics()\n",
    "print(\"OK\")"
   ]
  },
  {
   "cell_type": "markdown",
   "id": "c85c53c7",
   "metadata": {},
   "source": [
    "### 4.4 Display CSP LMC State"
   ]
  },
  {
   "cell_type": "code",
   "execution_count": null,
   "id": "a4af7df1",
   "metadata": {},
   "outputs": [],
   "source": [
    "sut.print_csp_diagnostics()\n",
    "print(\"OK\")"
   ]
  },
  {
   "cell_type": "markdown",
   "id": "a41b15d4",
   "metadata": {},
   "source": [
    "### 4.5 Display TMC State"
   ]
  },
  {
   "cell_type": "code",
   "execution_count": null,
   "id": "f2349751",
   "metadata": {},
   "outputs": [],
   "source": [
    "sut.print_tmc_diagnostics()\n",
    "print(\"OK\")"
   ]
  },
  {
   "cell_type": "markdown",
   "id": "cef22a88",
   "metadata": {},
   "source": [
    "### 4.6 Display SDP State"
   ]
  },
  {
   "cell_type": "code",
   "execution_count": null,
   "id": "1f774d6a",
   "metadata": {},
   "outputs": [],
   "source": [
    "sut.print_sdp_diagnostics()\n",
    "print(\"OK\")"
   ]
  },
  {
   "cell_type": "markdown",
   "id": "ca880bc8",
   "metadata": {},
   "source": [
    "## 5 Dashboard Links"
   ]
  },
  {
   "cell_type": "markdown",
   "id": "6c15ab74",
   "metadata": {},
   "source": [
    "### 5.1 Taranta"
   ]
  },
  {
   "cell_type": "code",
   "execution_count": null,
   "id": "1b7cc02d",
   "metadata": {},
   "outputs": [],
   "source": [
    "print(f\"SUT: {sut.taranta_endpoint}\")\n",
    "print(f\"Test Equipment: {test_equipment.taranta_endpoint}\")\n",
    "for dish in dish_deployments:\n",
    "    print(f\"Dish LMC {dish.dish_id}: {dish.taranta_endpoint}\")\n",
    "print(\"OK\")"
   ]
  },
  {
   "cell_type": "markdown",
   "id": "442569c1",
   "metadata": {},
   "source": [
    "### 5.2 Data Product Dashboard"
   ]
  },
  {
   "cell_type": "markdown",
   "id": "6fdfa4f6",
   "metadata": {},
   "source": [
    "https://k8s.miditf.internal.skao.int/ska-dpd/dashboard/"
   ]
  },
  {
   "cell_type": "markdown",
   "id": "2154f554",
   "metadata": {},
   "source": [
    "### 5.3 SDP Signal Displays"
   ]
  },
  {
   "cell_type": "code",
   "execution_count": null,
   "id": "9b5c61b9",
   "metadata": {},
   "outputs": [],
   "source": [
    "print(sut.signal_displays_endpoint)\n",
    "print(\"OK\")"
   ]
  },
  {
   "cell_type": "markdown",
   "id": "265c8030",
   "metadata": {},
   "source": [
    "## 6 System Health Displays Tests\n",
    "\n",
    "### Copied from Jama 2024-03-28"
   ]
  },
  {
   "cell_type": "markdown",
   "id": "e8ccea1f",
   "metadata": {},
   "source": [
    "### 6.1 Display the system status and bring the telescope into a known operating state of Standby (SPFC, Dish Structure Controller Simulator, SPFRx, CBF, SDP)\n",
    "\n",
    "Running steps 0.1 and 2.1-2.6 should get the telescope into a standby state which can be checked by running 3.1 and 3.3.1"
   ]
  },
  {
   "cell_type": "markdown",
   "id": "d4bd5723",
   "metadata": {},
   "source": [
    "### 6.2 Use TMC and LMC dashboards to show status and sensor values from each subsystem. Temperature sensors should be displayed where available.\n",
    "Run dashboards with links in step 4.2"
   ]
  },
  {
   "cell_type": "markdown",
   "id": "8d68830b",
   "metadata": {},
   "source": [
    "### 6.3 Use the EDA configuration supplied by each product to configure the EDA in the ITF to subscribe to a range of relevant Tango attribute sensors from each product. Temperature sensors should be displayed where available."
   ]
  },
  {
   "cell_type": "markdown",
   "id": "a05beecb",
   "metadata": {},
   "source": [
    "### 6.4 Show that archived sensor values can be displayed or plotted over a configurable time period"
   ]
  },
  {
   "cell_type": "markdown",
   "id": "ef515dc1",
   "metadata": {},
   "source": [
    "### 6.5 Show that several historical sensor values can be plotted on the same axis."
   ]
  },
  {
   "cell_type": "markdown",
   "id": "bb21e697",
   "metadata": {},
   "source": [
    "### 6.6 Configure the alarm handler in the ITF to subscribe to a range of relevant Tango attribute sensors from each product."
   ]
  },
  {
   "cell_type": "markdown",
   "id": "a036d758",
   "metadata": {},
   "source": [
    "### 6.7 Use alarm handler to display which sensors are currently in Warning and Alarm status."
   ]
  },
  {
   "cell_type": "markdown",
   "id": "ff41dd07",
   "metadata": {},
   "source": [
    "### 6.8 Show the drill-down display from the top level system to the products in the system, showing sensor values and associated health and alarm displays"
   ]
  },
  {
   "cell_type": "markdown",
   "id": "149a165a",
   "metadata": {},
   "source": [
    "### 6.9 Force an alarm condition and verify that the alarm is reported with the correct timestamp by the alarm handler.  Repeat for various sensors. (it may be necessary to change the alarm threshold values to create the alarm condition)"
   ]
  },
  {
   "cell_type": "markdown",
   "id": "fa8ef4d3",
   "metadata": {},
   "source": [
    "### 6.10 Perform network interruption conditions (eg. remove a network cable for a period) to demonstrate communication loss alarm indications and recovery."
   ]
  },
  {
   "cell_type": "markdown",
   "id": "f966476a",
   "metadata": {},
   "source": [
    "### 6.11 Display simulated pointing position of antennas and target information"
   ]
  }
 ],
 "metadata": {
  "kernelspec": {
   "display_name": "Python 3 (ipykernel)",
   "language": "python",
   "name": "python3"
  },
  "language_info": {
   "codemirror_mode": {
    "name": "ipython",
    "version": 3
   },
   "file_extension": ".py",
   "mimetype": "text/x-python",
   "name": "python",
   "nbconvert_exporter": "python",
   "pygments_lexer": "ipython3",
   "version": "3.10.12"
  }
 },
 "nbformat": 4,
 "nbformat_minor": 5
}
