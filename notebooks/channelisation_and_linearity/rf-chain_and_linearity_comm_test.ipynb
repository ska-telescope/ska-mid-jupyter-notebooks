{
 "cells": [
  {
   "cell_type": "markdown",
   "id": "9ea536d6",
   "metadata": {},
   "source": [
    "# RF Chain and Linearity Commissioning Test\n",
    "copied from system health displays NB to be updated"
   ]
  },
  {
   "cell_type": "markdown",
   "id": "524f1991",
   "metadata": {},
   "source": [
    "## Table of Contents\n",
    "#### [1 - Global Configuration](#1-global-configuration)\n",
    "#### [2 - Setup Test Equipment](#2-test-equipment-setup)\n",
    "#### [3 - Configure Scan Tests](#3-configure-scan-tests)\n",
    "#### [4 - Debug Telescope](#4-debug-telescope)\n",
    "#### [5 - Dashboard Links](#5-dashboard-links)\n",
    "#### [6 - System Health Displays Tests](#6-system-health-displays-tests)"
   ]
  },
  {
   "cell_type": "markdown",
   "id": "9534ae98",
   "metadata": {},
   "source": [
    "## 1 Global Configuration"
   ]
  },
  {
   "cell_type": "markdown",
   "id": "1d9885e1",
   "metadata": {},
   "source": [
    "### 1.1 Import dependencies"
   ]
  },
  {
   "cell_type": "code",
   "execution_count": null,
   "id": "6ea49e47",
   "metadata": {},
   "outputs": [],
   "source": [
    "import sys\n",
    "\n",
    "sys.path.append(\"../../src\")\n",
    "\n",
    "import json\n",
    "import logging\n",
    "import os\n",
    "import pathlib\n",
    "import time\n",
    "import tango\n",
    "\n",
    "import ska_ser_logging\n",
    "from bokeh.io import output_notebook\n",
    "from ska_oso_pdm.entities.common.target import (\n",
    "    CrossScanParameters,\n",
    "    FivePointParameters,\n",
    "    RasterParameters,\n",
    "    SinglePointParameters,\n",
    "    StarRasterParameters,\n",
    ")\n",
    "from ska_oso_pdm.entities.sdp import BeamMapping\n",
    "from ska_oso_scripting import oda_helper\n",
    "from ska_oso_scripting.functions.devicecontrol.resource_control import get_request_json\n",
    "from ska_oso_scripting.objects import SubArray, Telescope\n",
    "from ska_tmc_cdm.messages.central_node.assign_resources import AssignResourcesRequest\n",
    "from ska_tmc_cdm.messages.central_node.sdp import Channel\n",
    "from ska_tmc_cdm.messages.subarray_node.configure import ConfigureRequest\n",
    "from ska_tmc_cdm.messages.subarray_node.configure.core import ReceiverBand\n",
    "\n",
    "from ska_mid_jupyter_notebooks.cluster.cluster import Environment, TangoDeployment\n",
    "from ska_mid_jupyter_notebooks.dish.dish import TangoDishDeployment\n",
    "from ska_mid_jupyter_notebooks.helpers.path import project_root\n",
    "from ska_mid_jupyter_notebooks.obsconfig.config import ObservationSB\n",
    "from ska_mid_jupyter_notebooks.obsconfig.target_spec import TargetSpec\n",
    "from ska_mid_jupyter_notebooks.sut.rendering import TelescopeMononitorPlot\n",
    "from ska_mid_jupyter_notebooks.sut.state import TelescopeDeviceModel, get_telescope_state\n",
    "from ska_mid_jupyter_notebooks.sut.sut import TangoSUTDeployment, disable_qa\n",
    "from ska_mid_jupyter_notebooks.test_equipment.rendering import get_test_equipment_monitor_plot\n",
    "from ska_mid_jupyter_notebooks.test_equipment.state import get_equipment_model\n",
    "from ska_mid_jupyter_notebooks.test_equipment.test_equipment import TangoTestEquipment\n",
    "print(\"Done\")"
   ]
  },
  {
   "cell_type": "markdown",
   "id": "c9e6cc6d",
   "metadata": {},
   "source": [
    "### 1.2 Setup Global Variables and Configuration"
   ]
  },
  {
   "cell_type": "code",
   "execution_count": null,
   "id": "0b0c3b4c",
   "metadata": {},
   "outputs": [],
   "source": [
    "# print(f\"DISH_LMC_IN_THE_LOOP={os.environ('DISH_LMC_IN_THE_LOOP')}\")\n",
    "debug_mode = True  # This setting enables printing of diagnostics\n",
    "enable_logging = False  # This enables logging and sets the global log_level to debug\n",
    "dishlmc_enabled = True  # Set this to true if you have a dish LMC deployment\n",
    "# executon_environment = Environment.Integration\n",
    "executon_environment = Environment.CI\n",
    "# Set this if you are using an on-demand deployment (i.e. Environment.CI)\n",
    "branch_name = \"at-1958-rf-chain-linearity-performance\"  \n",
    "if enable_logging:\n",
    "    ska_ser_logging.configure_logging(logging.DEBUG)\n",
    "else:\n",
    "    ska_ser_logging.configure_logging(logging.INFO)\n",
    "test_equipment = TangoTestEquipment()\n",
    "print(f\"Test Equipment Configured: {test_equipment}\\n\")\n",
    "# namespace_override parameter can be used to override auto-configured SUT namespace\n",
    "sut_namespace_override = \"\"\n",
    "# sut_namespace_override = \"ci-ska-mid-itf-at-1958-rf-chain-linearity-performance\"\n",
    "subarray_count = 1\n",
    "subarray_id = 1\n",
    "sut = TangoSUTDeployment(\n",
    "    branch_name,\n",
    "    executon_environment,\n",
    "    namespace_override=sut_namespace_override,\n",
    "    subarray_index=subarray_id,\n",
    ")\n",
    "print(f\"SUT configured: {str(sut)}\\n\")\n",
    "dish_ids = [\"0001\", \"0036\"]\n",
    "# namespace_override parameter can be used to override auto-configured dish namespace\n",
    "dish_namespace_overrides = [\"\", \"\"]\n",
    "#dish_namespace_overrides = [\n",
    "#    \"ci-dish-lmc-ska001-at-1958-rf-chain-linearity-performance\", \n",
    "#    \"ci-dish-lmc-ska036-at-1958-rf-chain-linearity-performance\"\n",
    "#]\n",
    "if dishlmc_enabled:\n",
    "    dish_deployments = []\n",
    "    for i, d in enumerate(dish_ids):\n",
    "        dish = TangoDishDeployment(\n",
    "            f\"ska{d[1:]}\",\n",
    "            branch_name=branch_name,\n",
    "            environment=executon_environment,\n",
    "            namespace_override=dish_namespace_overrides[i],\n",
    "        )\n",
    "        print(f\"Dish {d} configured: {dish}\\n\")\n",
    "        dish_deployments.append(dish)\n",
    "else:\n",
    "    dish_deployments = []\n",
    "\n",
    "timestr = time.strftime(\"%Y%m%d-%H%M\")\n",
    "notebook_output_dir = pathlib.Path(\n",
    "    project_root(), f\"notebook-execution-data/configure_scan_for_commissioning/execution-{timestr}\"\n",
    ")\n",
    "os.makedirs(notebook_output_dir)\n",
    "# we disable qa as it is not been properly verified\n",
    "disable_qa()\n",
    "print(\"Done\")"
   ]
  },
  {
   "cell_type": "markdown",
   "id": "4b7fa8f6",
   "metadata": {},
   "source": [
    "### 1.3 Test Connections to Namespaces"
   ]
  },
  {
   "cell_type": "code",
   "execution_count": null,
   "id": "31882e18",
   "metadata": {},
   "outputs": [],
   "source": [
    "sut.smoke_test()\n",
    "test_equipment.smoke_test()\n",
    "for dish_deployment in dish_deployments:\n",
    "    dish_deployment.smoke_test()\n",
    "print(\"Done\")"
   ]
  },
  {
   "cell_type": "markdown",
   "id": "52120d53",
   "metadata": {},
   "source": [
    "### 1.4 Export System Configuration"
   ]
  },
  {
   "cell_type": "code",
   "execution_count": null,
   "id": "8fdb3717",
   "metadata": {},
   "outputs": [],
   "source": [
    "deployment: TangoDeployment\n",
    "for deployment in [sut, test_equipment, *dish_deployments]:\n",
    "    deployment.export_chart_configuration(output_dir=notebook_output_dir)\n",
    "print(\"Done\")"
   ]
  },
  {
   "cell_type": "markdown",
   "id": "68a151c2",
   "metadata": {},
   "source": [
    "## 2 Test Equipment Setup\n",
    "\n",
    "Use the noise source at nominal levels for input to at least one SPFRx.  "
   ]
  },
  {
   "cell_type": "markdown",
   "id": "41db3a5d",
   "metadata": {},
   "source": [
    "### 2.1 Configure Test Equipment State "
   ]
  },
  {
   "cell_type": "code",
   "execution_count": null,
   "id": "3eacd7aa",
   "metadata": {},
   "outputs": [],
   "source": [
    "test_equipment_state = get_equipment_model(test_equipment)\n",
    "test_equipment.devices\n",
    "print(\"Done\")"
   ]
  },
  {
   "cell_type": "markdown",
   "id": "0d6f1e21",
   "metadata": {},
   "source": [
    "### 2.2 Print Test Equipment Diagnostics"
   ]
  },
  {
   "cell_type": "code",
   "execution_count": null,
   "id": "b019c7ab",
   "metadata": {},
   "outputs": [],
   "source": [
    "test_equipment.print_diagnostics()\n",
    "print(\"Done\")"
   ]
  },
  {
   "cell_type": "markdown",
   "id": "6d86ab44",
   "metadata": {},
   "source": [
    "### 2.3 Create Test Equipment Plot"
   ]
  },
  {
   "cell_type": "code",
   "execution_count": null,
   "id": "43b23de6",
   "metadata": {},
   "outputs": [],
   "source": [
    "monitor_plot = get_test_equipment_monitor_plot()\n",
    "test_equipment_state.subscribe_to_test_equipment_state(monitor_plot.handle_device_state_change)\n",
    "output_notebook()\n",
    "monitor_plot.show()\n",
    "test_equipment_state.activate()\n",
    "print(\"Done\")"
   ]
  },
  {
   "cell_type": "markdown",
   "id": "c7aa1da8",
   "metadata": {},
   "source": [
    "### 2.4 Turn offline Test Equipment devices ONLINE"
   ]
  },
  {
   "cell_type": "code",
   "execution_count": null,
   "id": "64ab9a73",
   "metadata": {},
   "outputs": [],
   "source": [
    "# set any offline devices to online\n",
    "test_equipment.turn_online()\n",
    "print(\"Done\")"
   ]
  },
  {
   "cell_type": "markdown",
   "id": "e0d2410e",
   "metadata": {},
   "source": [
    "### 2.5 Display Test Equipment Device States "
   ]
  },
  {
   "cell_type": "code",
   "execution_count": null,
   "id": "a3f65600",
   "metadata": {},
   "outputs": [],
   "source": [
    "test_equipment_state.state[\"devices_states\"]\n",
    "print(\"Done\")"
   ]
  },
  {
   "cell_type": "markdown",
   "id": "911d2e77",
   "metadata": {},
   "source": [
    "### 2.6 Configure Signal Generator and set noise"
   ]
  },
  {
   "cell_type": "code",
   "execution_count": null,
   "id": "cd167d6b",
   "metadata": {},
   "outputs": [],
   "source": [
    "frequency_to_set = 880e6\n",
    "\n",
    "signal_generator = test_equipment.signal_generator\n",
    "print(f\"Current signal generator frequency: {signal_generator.frequency}\")\n",
    "signal_generator.write_attribute(\"frequency\", frequency_to_set)\n",
    "time.sleep(1)\n",
    "print(f\"Updated signal generator frequency: {signal_generator.frequency}\")\n",
    "assert (\n",
    "    signal_generator.frequency == frequency_to_set\n",
    "), f\"Frequency required is {frequency_to_set} but got {signal_generator.frequency}\"\n",
    "print(\"Done\")"
   ]
  },
  {
   "cell_type": "markdown",
   "id": "217b9754",
   "metadata": {},
   "source": [
    "## 3 Configure Scan Tests\n",
    "\n",
    "Use OSO scripting interface to TMC to run the script for assigning resources for a single sub-array, configuring and running a  scan.  "
   ]
  },
  {
   "cell_type": "markdown",
   "id": "0f6d2326",
   "metadata": {},
   "source": [
    "### 3.1 Setup Telescope Monitoring"
   ]
  },
  {
   "cell_type": "markdown",
   "id": "361cd18e",
   "metadata": {},
   "source": [
    "#### 3.1.1 Configure Telescope Monitoring"
   ]
  },
  {
   "cell_type": "code",
   "execution_count": null,
   "id": "bff1ef18",
   "metadata": {},
   "outputs": [],
   "source": [
    "# setup monitoring\n",
    "# use telescope state object for state monitoring\n",
    "print(f\"Monitor {subarray_count} subarrays with dish IDs {dish_ids}\")\n",
    "device_model = TelescopeDeviceModel(dish_ids, subarray_count)\n",
    "try:\n",
    "    print(f\"Get telescope state for device model {device_model}: sysytem under test {sut}\")\n",
    "    telescope_state = get_telescope_state(device_model, sut)\n",
    "except tango.DevFailed as terr:\n",
    "    print(f\"ERROR: {terr.args[0].desc.strip()}\")\n",
    "    telescope_state = None\n",
    "telescope_monitor_plot = TelescopeMononitorPlot(plot_width=900, plot_height=200)\n",
    "if telescope_state is not None:\n",
    "    print(f\"Telecope state {telescope_state}\")\n",
    "    # use monitor plot as a dashboard\n",
    "    # set up events to monitor\n",
    "    telescope_state.subscribe_to_on_off(telescope_monitor_plot.observe_telescope_on_off)\n",
    "    telescope_state.subscribe_to_subarray_resource_state(\n",
    "        telescope_monitor_plot.observe_subarray_resources_state\n",
    "    )\n",
    "    telescope_state.subscribe_to_subarray_configurational_state(\n",
    "        telescope_monitor_plot.observe_subarray_configuration_state\n",
    "    )\n",
    "    telescope_state.subscribe_to_subarray_scanning_state(\n",
    "        telescope_monitor_plot.observe_subarray_scanning_state\n",
    "    ) \n",
    "else:\n",
    "    print(\"ERROR: telescope state is unknown\")\n",
    "output_notebook()\n",
    "print(\"Done\")"
   ]
  },
  {
   "cell_type": "markdown",
   "id": "5e1a83fa",
   "metadata": {},
   "source": [
    "#### 3.1.2 Open the inline dashboard\n",
    "Start the simple inline dashboard showing current state of the Telescope and resource assignment and configuration status."
   ]
  },
  {
   "cell_type": "code",
   "execution_count": null,
   "id": "ba90fbe5",
   "metadata": {},
   "outputs": [],
   "source": [
    "telescope_monitor_plot.show()\n",
    "telescope_state.activate()\n",
    "telescope_state.wait_til_ready(2)\n",
    "print(\"Done\")"
   ]
  },
  {
   "cell_type": "markdown",
   "id": "8c243732",
   "metadata": {},
   "source": [
    "### 3.2 Print System Diagnostics"
   ]
  },
  {
   "cell_type": "markdown",
   "id": "1650210a",
   "metadata": {},
   "source": [
    "#### 3.2.1 Print TMC Diagnostics"
   ]
  },
  {
   "cell_type": "code",
   "execution_count": null,
   "id": "1fe1b28a",
   "metadata": {},
   "outputs": [],
   "source": [
    "sut.print_tmc_diagnostics()\n",
    "print(\"Done\")"
   ]
  },
  {
   "cell_type": "markdown",
   "id": "7490e49f",
   "metadata": {},
   "source": [
    "#### 3.2.2 Print CSP-LMC Diagnostics"
   ]
  },
  {
   "cell_type": "code",
   "execution_count": null,
   "id": "2d977dbb",
   "metadata": {},
   "outputs": [],
   "source": [
    "sut.print_csp_diagnostics()\n",
    "print(\"Done\")"
   ]
  },
  {
   "cell_type": "markdown",
   "id": "20c32d89",
   "metadata": {},
   "source": [
    "#### 3.2.3 Print CBF Diagnostics"
   ]
  },
  {
   "cell_type": "code",
   "execution_count": null,
   "id": "2c4b84f4",
   "metadata": {},
   "outputs": [],
   "source": [
    "sut.print_cbf_diagnostics()\n",
    "print(\"Done\")"
   ]
  },
  {
   "cell_type": "markdown",
   "id": "2d94ccf7",
   "metadata": {},
   "source": [
    "#### 3.2.4 Print SDP Diagnostics"
   ]
  },
  {
   "cell_type": "code",
   "execution_count": null,
   "id": "45d18b6f",
   "metadata": {},
   "outputs": [],
   "source": [
    "sut.print_sdp_diagnostics()\n",
    "print(\"Done\")"
   ]
  },
  {
   "cell_type": "markdown",
   "id": "b8685670",
   "metadata": {},
   "source": [
    "#### 3.2.5 Print Dish-LMC Diagnostics"
   ]
  },
  {
   "cell_type": "code",
   "execution_count": null,
   "id": "00e2964a",
   "metadata": {},
   "outputs": [],
   "source": [
    "for dish_deployment in dish_deployments:\n",
    "    print(f\"Dish {dish_deployment.dish_id} - {dish_deployment.namespace}: Diagnostics\")\n",
    "\n",
    "    dish_deployment.print_diagnostics()\n",
    "print(\"Done\")"
   ]
  },
  {
   "cell_type": "markdown",
   "id": "93130f3b",
   "metadata": {},
   "source": [
    "#### 3.2.6 Print Full System Diagnostics"
   ]
  },
  {
   "cell_type": "code",
   "execution_count": null,
   "id": "5f5513d7",
   "metadata": {},
   "outputs": [],
   "source": [
    "print(\"SUT: Full Diagnostics\")\n",
    "sut.print_full_diagnostics()\n",
    "\n",
    "for dish_deployment in dish_deployments:\n",
    "    print(f\"Dish {dish_deployment.dish_id}: Full Diagnostics\")\n",
    "    dish_deployment.print_full_diagnostics()\n",
    "\n",
    "print(\"Test Equipment: Full Diagnostics\")\n",
    "test_equipment.print_full_diagnostics()\n",
    "print(\"Done\")"
   ]
  },
  {
   "cell_type": "markdown",
   "id": "dcc952f9",
   "metadata": {},
   "source": [
    "### 3.3 Setup ODA"
   ]
  },
  {
   "cell_type": "code",
   "execution_count": null,
   "id": "750e478d",
   "metadata": {},
   "outputs": [],
   "source": [
    "os.environ[\"ODA_URI\"] = (\n",
    "    \"http://ingress-nginx-controller-lb-default.ingress-nginx.svc.miditf.internal.skao.int/ska-db-oda/api/v1/\"\n",
    ")\n",
    "eb_id = oda_helper.create_eb()\n",
    "print(f\"Execution Block ID: {eb_id}\")\n",
    "print(\"Done\")"
   ]
  },
  {
   "cell_type": "markdown",
   "id": "2b598fc9",
   "metadata": {},
   "source": [
    "### 3.4 Initialise Telescope and Subarray\n",
    "Create Subarray and Telescope instances."
   ]
  },
  {
   "cell_type": "code",
   "execution_count": null,
   "id": "1b2e9941",
   "metadata": {},
   "outputs": [],
   "source": [
    "sub = SubArray(subarray_id)\n",
    "tel = Telescope()\n",
    "print(\"Done\")"
   ]
  },
  {
   "cell_type": "markdown",
   "id": "27578c9b",
   "metadata": {},
   "source": [
    "### 3.5 Dish-VCC Configuration in TMC"
   ]
  },
  {
   "cell_type": "markdown",
   "id": "9dceba5e",
   "metadata": {},
   "source": [
    "#### 3.5.1 Check Dish-VCC Configuration in TMC\n",
    "Loading fails because the telescope is not in the correct state."
   ]
  },
  {
   "cell_type": "code",
   "execution_count": null,
   "id": "4ce85d95",
   "metadata": {},
   "outputs": [],
   "source": [
    "tmc_obs = sut.tmc_subarray.obs_state\n",
    "csp_obs = sut.csp_subarray.obs_state\n",
    "sdp_obs = sut.sdp_subarray.obs_state\n",
    "print(f\"TMC subarray state {str(tmc_obs)} ({tmc_obs})\")\n",
    "print(f\"CSP subarray state {str(csp_obs)} ({csp_obs})\")\n",
    "print(f\"SDP subarray state {str(sdp_obs)} ({sdp_obs})\")\n",
    "if tmc_obs != 4:\n",
    "    print(\"ERROR: TMC subarray is not ready\")\n",
    "if csp_obs != 4:\n",
    "    print(\"ERROR: CSP subarray is not ready\")\n",
    "if sdp_obs != 4:\n",
    "    print(\"ERROR: SDP subarray is not ready\")"
   ]
  },
  {
   "cell_type": "markdown",
   "id": "3db487bd",
   "metadata": {},
   "source": [
    "#### 3.5.2 Load Dish-VCC Configuration in TMC"
   ]
  },
  {
   "cell_type": "code",
   "execution_count": null,
   "id": "37bc04ca",
   "metadata": {},
   "outputs": [],
   "source": [
    "# This should only be executed for a fresh deployment (i.e. Telescope is OFF.\n",
    "# If you have restarted the subarray, you should not run this command\n",
    "try:\n",
    "    sut.load_dish_vcc_config()\n",
    "    print(\"OK\")\n",
    "except tango.DevFailed as terr:\n",
    "    print(f\"Tango ERROR: {terr.args[0].desc.strip()}\")\n",
    "except KeyboardInterrupt:\n",
    "    print(\"Terminated\")\n",
    "except TimeoutError as tmer:\n",
    "    printprint(f\"Timeout ERROR: {tmer}\")\n",
    "print(\"Done\")"
   ]
  },
  {
   "cell_type": "markdown",
   "id": "a533faaa",
   "metadata": {},
   "source": [
    "### 3.6 Turn telescope ON"
   ]
  },
  {
   "cell_type": "code",
   "execution_count": null,
   "id": "1b2b2a0f",
   "metadata": {},
   "outputs": [],
   "source": [
    "# set to ON only if OFF\n",
    "# If you have restarted the subarray, you should not run this command (Telescope is already ON)\n",
    "# dish_lmc mode must be in LP_standby and before trying to turn the telescope ON\n",
    "# Takes about 1m20s\n",
    "if telescope_monitor_plot.on_off_state == \"OFF\":  # e.g. purple\n",
    "    print(\"Turn on telescope\")\n",
    "    try:\n",
    "        tel.on()\n",
    "    except tango.DevFailed as terr:\n",
    "        print(f\"ERROR: {terr.args[0].desc.strip()}\")\n",
    "else:\n",
    "    assert (\n",
    "        telescope_monitor_plot.on_off_state == \"ON\"\n",
    "    ), f\"Cant continue with telescope in {telescope_monitor_plot.on_off_state}\"\n",
    "print(\"Done\")"
   ]
  },
  {
   "cell_type": "code",
   "execution_count": null,
   "id": "69af78a4",
   "metadata": {},
   "outputs": [],
   "source": [
    "print(f\"Telescope {telescope_monitor_plot.on_off_state}\")"
   ]
  },
  {
   "cell_type": "markdown",
   "id": "7ca4967f-5420-4a54-97e7-7605753aeb00",
   "metadata": {},
   "source": [
    "### 3.7 Observation Definition"
   ]
  },
  {
   "cell_type": "markdown",
   "id": "ec0f3398-e44a-4a4d-9513-f9fe63f2b473",
   "metadata": {},
   "source": [
    "#### 3.7.1 Define Resources to be used during Observation\n",
    "Generate Processing Block and Execution Block IDs using SKUID."
   ]
  },
  {
   "cell_type": "code",
   "execution_count": null,
   "id": "3fff823f-eed7-4693-a635-f79c3f05fa71",
   "metadata": {
    "tags": []
   },
   "outputs": [],
   "source": [
    "# External IDs (this would typically come from a database like ODA)\n",
    "# this is simulated by means of instantiate a new Observation object comping from the helper modules\n",
    "observation = ObservationSB()\n",
    "print(\"Done\")"
   ]
  },
  {
   "cell_type": "markdown",
   "id": "d2e666a2-7d56-4b8e-81bf-e31a98f7efaa",
   "metadata": {},
   "source": [
    "#### 3.7.2 Create the high level observation specifications in terms of target specs"
   ]
  },
  {
   "cell_type": "markdown",
   "id": "f867036b-6723-4244-918d-7553e5076890",
   "metadata": {},
   "source": [
    "Note :- Users may currently modify the values by replacing the example values as given for each field within Target specification section."
   ]
  },
  {
   "cell_type": "code",
   "execution_count": null,
   "id": "25d2c936-8078-4f2e-9bf2-0d7e2fb08134",
   "metadata": {
    "tags": []
   },
   "outputs": [],
   "source": [
    "observation = ObservationSB()\n",
    "dish_ids = [d.dish_id.upper() for d in dish_deployments]\n",
    "DEFAULT_TARGET_SPECS = {\n",
    "    \"flux calibrator\": TargetSpec(\n",
    "        target_sb_detail={\n",
    "            \"co_ordinate_type\": \"Equatorial\",\n",
    "            \"ra\": \"19:24:51.05 degrees\",\n",
    "            \"dec\": \"-29:14:30.12 degrees\",\n",
    "            \"reference_frame\": \"ICRS\",\n",
    "            \"unit\": (\"hourangle\", \"deg\"),\n",
    "            \"pointing_pattern_type\": {\n",
    "                \"single_pointing_parameters\": SinglePointParameters(\n",
    "                    offset_x_arcsec=0.0, offset_y_arcsec=0.0\n",
    "                ),\n",
    "                \"raster_parameters\": RasterParameters(\n",
    "                    row_length_arcsec=0.0,\n",
    "                    row_offset_arcsec=0.0,\n",
    "                    n_rows=1,\n",
    "                    pa=0.0,\n",
    "                    unidirectional=False,\n",
    "                ),\n",
    "                \"star_raster_parameters\": StarRasterParameters(\n",
    "                    row_length_arcsec=0.0,\n",
    "                    n_rows=1,\n",
    "                    row_offset_angle=0.0,\n",
    "                    unidirectional=False,\n",
    "                ),\n",
    "                \"five_point_parameters\": FivePointParameters(offset_arcsec=0.0),\n",
    "                \"cross_scan_parameters\": CrossScanParameters(offset_arcsec=0.0),\n",
    "                \"active_pointing_pattern_type\": \"single_pointing_parameters\",\n",
    "            },\n",
    "        },\n",
    "        scan_type=\"flux calibrator\",\n",
    "        band=ReceiverBand.BAND_2,\n",
    "        channelisation=\"vis_channels9\",\n",
    "        polarisation=\"all\",\n",
    "        processing=\"test-receive-addresses\",\n",
    "        dish_ids=dish_ids,\n",
    "        target=None,\n",
    "    ),\n",
    "    \"M87\": TargetSpec(\n",
    "        target_sb_detail={\n",
    "            \"co_ordinate_type\": \"Equatorial\",\n",
    "            \"ra\": \"19:24:51.05 degrees\",\n",
    "            \"dec\": \"-29:14:30.12 degrees\",\n",
    "            \"reference_frame\": \"ICRS\",\n",
    "            \"unit\": (\"hourangle\", \"deg\"),\n",
    "            \"pointing_pattern_type\": {\n",
    "                \"single_pointing_parameters\": SinglePointParameters(\n",
    "                    offset_x_arcsec=0.0, offset_y_arcsec=0.0\n",
    "                ),\n",
    "                \"raster_parameters\": RasterParameters(\n",
    "                    row_length_arcsec=0.0,\n",
    "                    row_offset_arcsec=0.0,\n",
    "                    n_rows=1,\n",
    "                    pa=0.0,\n",
    "                    unidirectional=False,\n",
    "                ),\n",
    "                \"star_raster_parameters\": StarRasterParameters(\n",
    "                    row_length_arcsec=0.0,\n",
    "                    n_rows=1,\n",
    "                    row_offset_angle=0.0,\n",
    "                    unidirectional=False,\n",
    "                ),\n",
    "                \"five_point_parameters\": FivePointParameters(offset_arcsec=0.0),\n",
    "                \"cross_scan_parameters\": CrossScanParameters(offset_arcsec=0.0),\n",
    "                \"active_pointing_pattern_type\": \"single_pointing_parameters\",\n",
    "            },\n",
    "        },\n",
    "        scan_type=\"M87\",\n",
    "        band=ReceiverBand.BAND_2,\n",
    "        channelisation=\"vis_channels10\",\n",
    "        polarisation=\"all\",\n",
    "        processing=\"test-receive-addresses\",\n",
    "        dish_ids=dish_ids,\n",
    "        target=None,\n",
    "    ),\n",
    "}\n",
    "\n",
    "\n",
    "channel_configuration = [\n",
    "    Channel(\n",
    "        spectral_window_id=\"fsp_1_channels\",\n",
    "        count=14880,\n",
    "        start=0,\n",
    "        stride=2,\n",
    "        freq_min=0.35e9,\n",
    "        freq_max=0.368e9,\n",
    "        link_map=[[0, 0], [200, 1], [744, 2], [944, 3]],\n",
    "    )\n",
    "]\n",
    "\n",
    "for key, value in DEFAULT_TARGET_SPECS.items():\n",
    "    print(f\"Add configuration for {key}\")\n",
    "    try:\n",
    "        observation.add_channel_configuration(value.channelisation, channel_configuration)\n",
    "    except AssertionError as aerr:\n",
    "        print(f\"ERROR: {aerr}\")\n",
    "\n",
    "observation.add_target_specs(DEFAULT_TARGET_SPECS)\n",
    "\n",
    "for target_id, target in DEFAULT_TARGET_SPECS.items():\n",
    "    print(f\"Add scan configuration {target_id}\")\n",
    "    try:\n",
    "        observation.add_scan_type_configuration(\n",
    "            config_name=target_id,\n",
    "            beams={\"vis0\": BeamMapping(beam_id=\"vis0\", field_id=\"M83\")},\n",
    "            derive_from=\".default\",\n",
    "        )\n",
    "    except AssertionError as aerr:\n",
    "        print(f\"ERROR: {aerr}\")\n",
    "scan_def_id = \"flux calibrator\"\n",
    "observation.add_scan_sequence([scan_def_id])\n",
    "print(\"Done\")"
   ]
  },
  {
   "cell_type": "markdown",
   "id": "c59a8bc2-5e50-4717-9cc2-57a71509591a",
   "metadata": {},
   "source": [
    "#### 3.7.3 Mid configuration schema input used by observing commands"
   ]
  },
  {
   "cell_type": "markdown",
   "id": "727e53ca-0480-42b9-bbd5-a71900b57de9",
   "metadata": {},
   "source": [
    "[Configuration Schemas-OET→TMC(Mid)](https://developer.skao.int/projects/ska-telmodel/en/latest/)"
   ]
  },
  {
   "cell_type": "code",
   "execution_count": null,
   "id": "1d2e7764-2bf3-4240-ad85-3df54361e6a1",
   "metadata": {
    "tags": []
   },
   "outputs": [],
   "source": [
    "telescope_monitor_plot.show()\n",
    "print(\"Done\")"
   ]
  },
  {
   "cell_type": "markdown",
   "id": "308b4669-4d24-4583-9b10-8135a96d70b6",
   "metadata": {},
   "source": [
    "#### 3.7.4 Create Scheduling Block Definition(SBD) Instance and save it into the ODA"
   ]
  },
  {
   "cell_type": "code",
   "execution_count": null,
   "id": "88f276d9-90c5-4ded-ac22-de876bf2ef88",
   "metadata": {
    "tags": []
   },
   "outputs": [],
   "source": [
    "observation.eb_id = eb_id\n",
    "pdm_allocation = observation.generate_pdm_object_for_sbd_save(DEFAULT_TARGET_SPECS)\n",
    "\n",
    "sbd = oda_helper.save(pdm_allocation)\n",
    "sbd_id = sbd.sbd_id\n",
    "pdm_allocation.sbd_id = sbd_id\n",
    "print(f\"Saved Scheduling Block Definition Instance in ODA: SBD_ID={sbd_id}\")\n",
    "print(\"Done\")"
   ]
  },
  {
   "cell_type": "markdown",
   "id": "f1806aa4-2f8a-43db-84ce-e8643dd1a0dc",
   "metadata": {},
   "source": [
    "### 3.8 Assign Resources\n",
    "Assign the requested resources to a Subarray"
   ]
  },
  {
   "cell_type": "code",
   "execution_count": null,
   "id": "4541f02b",
   "metadata": {},
   "outputs": [],
   "source": [
    "print(\"Assign request\")\n",
    "assign_request = observation.generate_allocate_config_sb(pdm_allocation).as_object\n",
    "print(f\"Got assign request {assign_request}\")\n",
    "print()\n",
    "\n",
    "if debug_mode:\n",
    "    print(\"Debug request JSON\")\n",
    "    request_json = get_request_json(assign_request, AssignResourcesRequest, True)\n",
    "    print(\"AssignResourcesRequest:\", json.dumps(json.loads(request_json), indent=2))\n",
    "print()\n",
    "\n",
    "print(\"Assign from Control Data Model (CDM) from subarray {sub.id}\")\n",
    "try:\n",
    "    sub.assign_from_cdm(assign_request, timeout=120)\n",
    "except tango.DevFailed as terr:\n",
    "    print(f\"ERROR: {terr.args[0].desc.strip()}\")\n",
    "except EventTimeoutError:\n",
    "    print(\"Could not assign resources\")\n",
    "except Empty:\n",
    "    print(\"Running on empty\")\n",
    "print()\n",
    "\n",
    "print(\"Plot telescope monitor\")\n",
    "try:\n",
    "    telescope_monitor_plot.show()\n",
    "    print(\"Done\")\n",
    "except tango.DevFailed as terr:\n",
    "    print(f\"ERROR: {terr.args[0].desc.strip()}\")\n"
   ]
  },
  {
   "cell_type": "code",
   "execution_count": null,
   "id": "62aeea96-d3b1-44ba-9a80-a85bde4236e3",
   "metadata": {
    "tags": []
   },
   "outputs": [],
   "source": [
    "telescope_monitor_plot.show()\n",
    "print(\"Done\")"
   ]
  },
  {
   "cell_type": "markdown",
   "id": "cf6947ca-7e8b-4a1a-8a83-94c4b3647f38",
   "metadata": {},
   "source": [
    "### 3.9 Configure Scan\n",
    "Configure the telescope  on first target in sequence - may be modified to configure and run multiple targets at a later time."
   ]
  },
  {
   "cell_type": "code",
   "execution_count": null,
   "id": "b8df9783-06c0-4ab4-b9f6-4864c269a616",
   "metadata": {
    "tags": []
   },
   "outputs": [],
   "source": [
    "configure_object = observation.generate_scan_config_sb(\n",
    "    pdm_observation_request=pdm_allocation,\n",
    "    scan_definition_id=scan_def_id,\n",
    "    scan_duration=10.0,\n",
    ").as_object\n",
    "\n",
    "if debug_mode:\n",
    "    cfg_json = get_request_json(configure_object, ConfigureRequest)\n",
    "    print(f\"ConfigureRequest={cfg_json}\")\n",
    "\n",
    "try:\n",
    "    sub.configure_from_cdm(configure_object, timeout=120)\n",
    "    time.sleep(2)\n",
    "    print(\"Done\")\n",
    "except tango.DevFailed as terr:\n",
    "    print(f\"ERROR: {terr.args[0].desc.strip()}\")"
   ]
  },
  {
   "cell_type": "code",
   "execution_count": null,
   "id": "dbca8838",
   "metadata": {},
   "outputs": [],
   "source": [
    "telescope_monitor_plot.show()\n",
    "print(\"Done\")"
   ]
  },
  {
   "cell_type": "markdown",
   "id": "441273bc",
   "metadata": {},
   "source": [
    "### 3.10 Run the Scan"
   ]
  },
  {
   "cell_type": "code",
   "execution_count": null,
   "id": "587739eb",
   "metadata": {},
   "outputs": [],
   "source": [
    "try:\n",
    "    sub.scan(timeout=120)\n",
    "    telescope_monitor_plot.show()\n",
    "    print(\"Done\")\n",
    "except tango.DevFailed as terr:\n",
    "    print(f\"ERROR: {terr.args[0].desc.strip()}\")"
   ]
  },
  {
   "cell_type": "markdown",
   "id": "e24ecf17-27f7-4b39-97e0-35c604847beb",
   "metadata": {},
   "source": [
    "### 3.11 Post Observation teardown\n",
    "If the observation executed successfully, you can use the following commands to reset the telescope."
   ]
  },
  {
   "cell_type": "markdown",
   "id": "a6fdaf9d-745d-42af-979d-56df00be451f",
   "metadata": {},
   "source": [
    "#### 3.11.1 Clear scan configuration "
   ]
  },
  {
   "cell_type": "code",
   "execution_count": null,
   "id": "5283c8ce-aff0-4624-aee9-c256a9292e9a",
   "metadata": {
    "tags": []
   },
   "outputs": [],
   "source": [
    "try:\n",
    "    sub.end()\n",
    "    telescope_monitor_plot.show()\n",
    "    print(\"Done\")\n",
    "except tango.DevFailed as terr:\n",
    "    print(f\"ERROR: {terr.args[0].desc.strip()}\")"
   ]
  },
  {
   "cell_type": "markdown",
   "id": "2018060f-b252-4636-8ae3-1de450a8e84e",
   "metadata": {},
   "source": [
    "#### 3.11.2 Release Subarray resources"
   ]
  },
  {
   "cell_type": "code",
   "execution_count": null,
   "id": "82b3382b-c3b0-44c8-959b-2f7889e894fc",
   "metadata": {
    "tags": []
   },
   "outputs": [],
   "source": [
    "try:\n",
    "    sub.release()\n",
    "    telescope_monitor_plot.show()\n",
    "    print(\"OK\")\n",
    "except tango.DevFailed as terr:\n",
    "    print(f\"ERROR: {terr.args[0].desc.strip()}\")"
   ]
  },
  {
   "cell_type": "markdown",
   "id": "2271a3b8",
   "metadata": {},
   "source": [
    "### 3.12 Reset the Telescope/Subarray (On Failure)\n",
    "Set booleans to True to reset the system after a failed execution."
   ]
  },
  {
   "cell_type": "code",
   "execution_count": null,
   "id": "f1055b6f",
   "metadata": {},
   "outputs": [],
   "source": [
    "do_reset_subarray = False\n",
    "do_reset_dish = False\n",
    "\n",
    "if do_reset_subarray:\n",
    "    sub.abort()\n",
    "    time.sleep(3)\n",
    "    sub.restart()\n",
    "\n",
    "if do_reset_dish:\n",
    "    dish_deployment: TangoDishDeployment\n",
    "    for dish_deployment in dish_deployments:\n",
    "        dish_deployment.reset_dish()\n",
    "print(\"Done\")"
   ]
  },
  {
   "cell_type": "markdown",
   "id": "3aa97f57",
   "metadata": {},
   "source": [
    "## 4 Debug Telescope"
   ]
  },
  {
   "cell_type": "markdown",
   "id": "928303b2",
   "metadata": {},
   "source": [
    "### 4.1 Display Telescope State"
   ]
  },
  {
   "cell_type": "code",
   "execution_count": null,
   "id": "0826fb4f",
   "metadata": {},
   "outputs": [],
   "source": [
    "print(f\"Telescope state {telescope_state.state}\")\n",
    "print(\"Done\")"
   ]
  },
  {
   "cell_type": "markdown",
   "id": "6eaab909",
   "metadata": {},
   "source": [
    "### 4.2 Display Telescope State Subscriptions"
   ]
  },
  {
   "cell_type": "code",
   "execution_count": null,
   "id": "1432e55e",
   "metadata": {},
   "outputs": [],
   "source": [
    "telescope_state.state_monitor.subscriptions\n",
    "print(\"OK\")"
   ]
  },
  {
   "cell_type": "markdown",
   "id": "d3f19fe0",
   "metadata": {},
   "source": [
    "### 4.3 Display Dish LMC State"
   ]
  },
  {
   "cell_type": "code",
   "execution_count": null,
   "id": "b35a75fe",
   "metadata": {},
   "outputs": [],
   "source": [
    "dishes_to_debug = [d.dish_id for d in dish_deployments]\n",
    "for dish in dish_deployments:\n",
    "    if dish.dish_id in dishes_to_debug:\n",
    "        dish.print_diagnostics()\n",
    "print(\"OK\")"
   ]
  },
  {
   "cell_type": "markdown",
   "id": "c85c53c7",
   "metadata": {},
   "source": [
    "### 4.4 Display CSP LMC State"
   ]
  },
  {
   "cell_type": "code",
   "execution_count": null,
   "id": "a4af7df1",
   "metadata": {},
   "outputs": [],
   "source": [
    "sut.print_csp_diagnostics()\n",
    "print(\"OK\")"
   ]
  },
  {
   "cell_type": "markdown",
   "id": "a41b15d4",
   "metadata": {},
   "source": [
    "### 4.5 Display TMC State"
   ]
  },
  {
   "cell_type": "code",
   "execution_count": null,
   "id": "f2349751",
   "metadata": {},
   "outputs": [],
   "source": [
    "sut.print_tmc_diagnostics()\n",
    "print(\"OK\")"
   ]
  },
  {
   "cell_type": "markdown",
   "id": "cef22a88",
   "metadata": {},
   "source": [
    "### 4.6 Display SDP State"
   ]
  },
  {
   "cell_type": "code",
   "execution_count": null,
   "id": "1f774d6a",
   "metadata": {},
   "outputs": [],
   "source": [
    "sut.print_sdp_diagnostics()\n",
    "print(\"OK\")"
   ]
  },
  {
   "cell_type": "markdown",
   "id": "ca880bc8",
   "metadata": {},
   "source": [
    "## 5 Dashboard Links"
   ]
  },
  {
   "cell_type": "markdown",
   "id": "6c15ab74",
   "metadata": {},
   "source": [
    "### 5.1 Taranta"
   ]
  },
  {
   "cell_type": "code",
   "execution_count": null,
   "id": "1b7cc02d",
   "metadata": {},
   "outputs": [],
   "source": [
    "print(f\"SUT: {sut.taranta_endpoint}\")\n",
    "print(f\"Test Equipment: {test_equipment.taranta_endpoint}\")\n",
    "for dish in dish_deployments:\n",
    "    print(f\"Dish LMC {dish.dish_id}: {dish.taranta_endpoint}\")\n",
    "print(\"OK\")"
   ]
  },
  {
   "cell_type": "markdown",
   "id": "442569c1",
   "metadata": {},
   "source": [
    "### 5.2 Data Product Dashboard"
   ]
  },
  {
   "cell_type": "markdown",
   "id": "6fdfa4f6",
   "metadata": {},
   "source": [
    "https://k8s.miditf.internal.skao.int/ska-dpd/dashboard/"
   ]
  },
  {
   "cell_type": "markdown",
   "id": "2154f554",
   "metadata": {},
   "source": [
    "### 5.3 SDP Signal Displays"
   ]
  },
  {
   "cell_type": "code",
   "execution_count": null,
   "id": "9b5c61b9",
   "metadata": {},
   "outputs": [],
   "source": [
    "print(sut.signal_displays_endpoint)\n",
    "print(\"OK\")"
   ]
  },
  {
   "cell_type": "markdown",
   "id": "265c8030",
   "metadata": {},
   "source": [
    "## 6 System Health Displays Tests\n",
    "\n",
    "### Copied from Jama 2024-03-28"
   ]
  },
  {
   "cell_type": "markdown",
   "id": "e8ccea1f",
   "metadata": {},
   "source": [
    "### 6.1 Display the system status and bring the telescope into a known operating state of Standby (SPFC, Dish Structure Controller Simulator, SPFRx, CBF, SDP)\n",
    "\n",
    "Running steps 0.1 and 2.1-2.6 should get the telescope into a standby state which can be checked by running 3.1 and 3.3.1"
   ]
  },
  {
   "cell_type": "markdown",
   "id": "d4bd5723",
   "metadata": {},
   "source": [
    "### 6.2 Use TMC and LMC dashboards to show status and sensor values from each subsystem. Temperature sensors should be displayed where available.\n",
    "Run dashboards with links in step 4.2"
   ]
  },
  {
   "cell_type": "markdown",
   "id": "8d68830b",
   "metadata": {},
   "source": [
    "### 6.3 Use the EDA configuration supplied by each product to configure the EDA in the ITF to subscribe to a range of relevant Tango attribute sensors from each product. Temperature sensors should be displayed where available."
   ]
  },
  {
   "cell_type": "markdown",
   "id": "a05beecb",
   "metadata": {},
   "source": [
    "### 6.4 Show that archived sensor values can be displayed or plotted over a configurable time period"
   ]
  },
  {
   "cell_type": "markdown",
   "id": "ef515dc1",
   "metadata": {},
   "source": [
    "### 6.5 Show that several historical sensor values can be plotted on the same axis."
   ]
  },
  {
   "cell_type": "markdown",
   "id": "bb21e697",
   "metadata": {},
   "source": [
    "### 6.6 Configure the alarm handler in the ITF to subscribe to a range of relevant Tango attribute sensors from each product."
   ]
  },
  {
   "cell_type": "markdown",
   "id": "a036d758",
   "metadata": {},
   "source": [
    "### 6.7 Use alarm handler to display which sensors are currently in Warning and Alarm status."
   ]
  },
  {
   "cell_type": "markdown",
   "id": "ff41dd07",
   "metadata": {},
   "source": [
    "### 6.8 Show the drill-down display from the top level system to the products in the system, showing sensor values and associated health and alarm displays"
   ]
  },
  {
   "cell_type": "markdown",
   "id": "149a165a",
   "metadata": {},
   "source": [
    "### 6.9 Force an alarm condition and verify that the alarm is reported with the correct timestamp by the alarm handler.  Repeat for various sensors. (it may be necessary to change the alarm threshold values to create the alarm condition)"
   ]
  },
  {
   "cell_type": "markdown",
   "id": "fa8ef4d3",
   "metadata": {},
   "source": [
    "### 6.10 Perform network interruption conditions (eg. remove a network cable for a period) to demonstrate communication loss alarm indications and recovery."
   ]
  },
  {
   "cell_type": "markdown",
   "id": "f966476a",
   "metadata": {},
   "source": [
    "### 6.11 Display simulated pointing position of antennas and target information"
   ]
  }
 ],
 "metadata": {
  "kernelspec": {
   "display_name": "Python 3 (ipykernel)",
   "language": "python",
   "name": "python3"
  },
  "language_info": {
   "codemirror_mode": {
    "name": "ipython",
    "version": 3
   },
   "file_extension": ".py",
   "mimetype": "text/x-python",
   "name": "python",
   "nbconvert_exporter": "python",
   "pygments_lexer": "ipython3",
   "version": "3.10.12"
  }
 },
 "nbformat": 4,
 "nbformat_minor": 5
}
