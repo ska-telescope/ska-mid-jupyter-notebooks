{
 "cells": [
  {
   "cell_type": "markdown",
   "id": "9ea536d6",
   "metadata": {},
   "source": [
    "# Signal Displays Verification Test"
   ]
  },
  {
   "cell_type": "markdown",
   "id": "524f1991",
   "metadata": {},
   "source": [
    "## Table of Contents\\n\n",
    "#### [0.1 - Global Configuration](#02---setup-test-equipment)\n",
    "#### [0.2 - Setup Test Equipment](#02---setup-test-equipment)\n",
    "#### [1 -> Test Steps](#1---test-steps)\n",
    "This notebook provides for indepenent control of the test equipment during the rf signal displays verification testchain and channelisation test so that test equipment setup may be changed while the telescope is scanning.  Test steps are traceable to the jama test but only test steps that modify test equipment input parameters are included."
   ]
  },
  {
   "cell_type": "markdown",
   "id": "9534ae98",
   "metadata": {},
   "source": [
    "## 0.1 Global Configuration"
   ]
  },
  {
   "cell_type": "markdown",
   "id": "1d9885e1",
   "metadata": {},
   "source": [
    "### 0.1.1 Import dependencies"
   ]
  },
  {
   "cell_type": "code",
   "execution_count": 5,
   "id": "6ea49e47",
   "metadata": {},
   "outputs": [],
   "source": [
    "import sys\n",
    "\n",
    "sys.path.append(\"../../src\")\n",
    "\n",
    "import json\n",
    "import logging\n",
    "import os\n",
    "import pathlib\n",
    "import time\n",
    "from typing import List\n",
    "\n",
    "import ska_ser_logging\n",
    "from bokeh.io import output_notebook\n",
    "from ska_oso_pdm.entities.common.target import (\n",
    "    CrossScanParameters,\n",
    "    FivePointParameters,\n",
    "    RasterParameters,\n",
    "    SinglePointParameters,\n",
    "    StarRasterParameters,\n",
    ")\n",
    "from ska_oso_pdm.entities.sdp import BeamMapping\n",
    "from ska_oso_scripting import oda_helper\n",
    "from ska_oso_scripting.functions.devicecontrol.resource_control import get_request_json\n",
    "from ska_oso_scripting.objects import SubArray, Telescope\n",
    "from ska_tmc_cdm.messages.central_node.assign_resources import AssignResourcesRequest\n",
    "from ska_tmc_cdm.messages.central_node.sdp import Channel\n",
    "from ska_tmc_cdm.messages.subarray_node.configure import ConfigureRequest\n",
    "from ska_tmc_cdm.messages.subarray_node.configure.core import ReceiverBand\n",
    "\n",
    "from ska_mid_jupyter_notebooks.cluster.cluster import Environment, TangoDeployment\n",
    "from ska_mid_jupyter_notebooks.dish.dish import TangoDishDeployment\n",
    "from ska_mid_jupyter_notebooks.helpers.path import project_root\n",
    "from ska_mid_jupyter_notebooks.obsconfig.config import ObservationSB\n",
    "from ska_mid_jupyter_notebooks.obsconfig.target_spec import TargetSpec, get_default_target_specs_sb\n",
    "from ska_mid_jupyter_notebooks.sut.rendering import TelescopeMononitorPlot\n",
    "from ska_mid_jupyter_notebooks.sut.state import TelescopeDeviceModel, get_telescope_state\n",
    "from ska_mid_jupyter_notebooks.sut.sut import TangoSUTDeployment, disable_qa\n",
    "from ska_mid_jupyter_notebooks.test_equipment.rendering import get_test_equipment_monitor_plot\n",
    "from ska_mid_jupyter_notebooks.test_equipment.state import get_equipment_model\n",
    "from ska_mid_jupyter_notebooks.test_equipment.test_equipment import TangoTestEquipment"
   ]
  },
  {
   "cell_type": "markdown",
   "id": "c9e6cc6d",
   "metadata": {},
   "source": [
    "### 0.1.2 Setup Global Variables and Configuration"
   ]
  },
  {
   "cell_type": "code",
   "execution_count": 6,
   "id": "0b0c3b4c",
   "metadata": {},
   "outputs": [
    {
     "name": "stdout",
     "output_type": "stream",
     "text": [
      "Test Equipment Configured: TangoTestEquipment{namespace=test-equipment; tango_host=tango-databaseds.test-equipment.svc.miditf.internal.skao.int:10000; cluster_domain=miditf.internal.skao.int; cia_url=http://config-inspector.test-equipment.svc.miditf.internal.skao.int:8765}\n"
     ]
    }
   ],
   "source": [
    "test_equipment = TangoTestEquipment()\n",
    "print(f\"Test Equipment Configured: {test_equipment}\")\n",
    "timestr = time.strftime(\"%Y%m%d-%H%M\")\n",
    "notebook_output_dir = pathlib.Path(\n",
    "    project_root(), f\"notebook-execution-data/configure_scan_for_commissioning/execution-{timestr}\"\n",
    ")\n",
    "os.makedirs(notebook_output_dir, exist_ok=True)\n",
    "# we disable qa as it is not been properly verified\n",
    "disable_qa()"
   ]
  },
  {
   "cell_type": "markdown",
   "id": "4b7fa8f6",
   "metadata": {},
   "source": [
    "### 0.1.3 Test Connections to Namespaces"
   ]
  },
  {
   "cell_type": "code",
   "execution_count": 7,
   "id": "31882e18",
   "metadata": {},
   "outputs": [
    {
     "name": "stdout",
     "output_type": "stream",
     "text": [
      "CIA PingResponse (test-equipment): {\"result\":\"ok\",\"time\":\"2024-07-26T12:57:29.898330\"}\n",
      "mid-itf/siggen/1 is reachable\n",
      "mid-itf/progattenuator/1 is reachable\n",
      "mid-itf/spectana/1 is reachable\n",
      "mid-itf/skysimctl/4 is reachable\n"
     ]
    }
   ],
   "source": [
    "test_equipment.smoke_test()"
   ]
  },
  {
   "cell_type": "markdown",
   "id": "68a151c2",
   "metadata": {},
   "source": [
    "## 1. Test Equipment Setup\n",
    "\n",
    "Use the noise source at nominal levels for input to at least one SPFRx.  "
   ]
  },
  {
   "cell_type": "markdown",
   "id": "41db3a5d",
   "metadata": {},
   "source": [
    "### 0.2.1 Configure Test Equipment State "
   ]
  },
  {
   "cell_type": "code",
   "execution_count": 8,
   "id": "3eacd7aa",
   "metadata": {},
   "outputs": [
    {
     "data": {
      "text/plain": [
       "['mid-itf/progattenuator/1',\n",
       " 'mid-itf/siggen/1',\n",
       " 'mid-itf/skysimctl/4',\n",
       " 'mid-itf/spectana/1',\n",
       " 'taranta/benchmark/1',\n",
       " 'taranta/test/1',\n",
       " 'taranta/test/2',\n",
       " 'taranta/test/3',\n",
       " 'test/device/1']"
      ]
     },
     "execution_count": 8,
     "metadata": {},
     "output_type": "execute_result"
    }
   ],
   "source": [
    "test_equipment_state = get_equipment_model(test_equipment)\n",
    "test_equipment.devices"
   ]
  },
  {
   "cell_type": "markdown",
   "id": "0d6f1e21",
   "metadata": {},
   "source": [
    "### 0.2.2 Print Test Equipment Diagnostics"
   ]
  },
  {
   "cell_type": "code",
   "execution_count": 9,
   "id": "b019c7ab",
   "metadata": {},
   "outputs": [
    {
     "name": "stdout",
     "output_type": "stream",
     "text": [
      "mid-itf/skysimctl/4 State: ON\n",
      "mid-itf/skysimctl/4 Band: 2\n",
      "mid-itf/skysimctl/4 Correlated_Noise_Source: True\n",
      "mid-itf/skysimctl/4 Uncorrelated_Noise_Sources: False\n",
      "mid-itf/skysimctl/4 H_Channel: False\n",
      "mid-itf/skysimctl/4 V_Channel: False\n",
      "mid-itf/skysimctl/4 temperature: 24.2\n",
      "mid-itf/skysimctl/4 humidity: 0.0\n",
      "mid-itf/siggen/1 versionId: 0.9.1\n",
      "mid-itf/siggen/1 adminMode: 0\n",
      "mid-itf/siggen/1 State: ON\n",
      "mid-itf/siggen/1 healthState: HealthState.UNKNOWN\n",
      "mid-itf/siggen/1 frequency: 1500000000.0\n",
      "mid-itf/siggen/1 power_cycled: False\n",
      "mid-itf/siggen/1 power_dbm: -30.0\n",
      "mid-itf/siggen/1 rf_output_on: True\n",
      "mid-itf/siggen/1 controlMode: 0\n",
      "mid-itf/siggen/1 simulationMode: 0\n",
      "mid-itf/siggen/1 testMode: 0\n",
      "mid-itf/siggen/1 loggingLevel: 4\n",
      "mid-itf/siggen/1 command_error: False\n",
      "mid-itf/siggen/1 device_error: False\n",
      "mid-itf/siggen/1 execution_error: False\n",
      "mid-itf/siggen/1 query_error: False\n",
      "mid-itf/progattenuator/1 versionId: 0.9.1\n",
      "mid-itf/progattenuator/1 model_name: MN=RCDAT-8000-30\n",
      "mid-itf/progattenuator/1 adminMode: 0\n",
      "mid-itf/progattenuator/1 State: ON\n",
      "mid-itf/progattenuator/1 channel_1: 10.0\n",
      "mid-itf/progattenuator/1 controlMode: 0\n",
      "mid-itf/progattenuator/1 healthState: HealthState.UNKNOWN\n",
      "mid-itf/progattenuator/1 loggingLevel: 5\n",
      "mid-itf/progattenuator/1 simulationMode: 0\n",
      "mid-itf/progattenuator/1 testMode: 0\n"
     ]
    }
   ],
   "source": [
    "test_equipment.print_diagnostics()"
   ]
  },
  {
   "cell_type": "markdown",
   "id": "6d86ab44",
   "metadata": {},
   "source": [
    "### 0.2.3 Create Test Equipment Plot"
   ]
  },
  {
   "cell_type": "code",
   "execution_count": null,
   "id": "43b23de6",
   "metadata": {},
   "outputs": [],
   "source": [
    "monitor_plot = get_test_equipment_monitor_plot()\n",
    "test_equipment_state.subscribe_to_test_equipment_state(monitor_plot.handle_device_state_change)\n",
    "output_notebook()\n",
    "monitor_plot.show()\n",
    "test_equipment_state.activate()"
   ]
  },
  {
   "cell_type": "markdown",
   "id": "c7aa1da8",
   "metadata": {},
   "source": [
    "### 0.2.4 Turn offline Test Equipment devices ONLINE"
   ]
  },
  {
   "cell_type": "code",
   "execution_count": null,
   "id": "64ab9a73",
   "metadata": {},
   "outputs": [],
   "source": [
    "# set any offline devices to online\n",
    "test_equipment.turn_online()"
   ]
  },
  {
   "cell_type": "markdown",
   "id": "e0d2410e",
   "metadata": {},
   "source": [
    "### 0.2.5 Display Test Equipment Device States "
   ]
  },
  {
   "cell_type": "code",
   "execution_count": null,
   "id": "a3f65600",
   "metadata": {},
   "outputs": [],
   "source": [
    "test_equipment_state.state[\"devices_states\"]"
   ]
  },
  {
   "cell_type": "markdown",
   "id": "254e4151",
   "metadata": {},
   "source": [
    "**Step 3:**\n",
    "\n",
    "Use the standard noise inputs to the Digitisers of the SUT providing wideband noise at nominal level of -130 dBm/Hz, band-limited to give a recognisable shape to the results.  \n",
    "\n",
    "Expected Result:  \n",
    "*Sky Simulator dashboard reports correct values set.*"
   ]
  },
  {
   "cell_type": "code",
   "execution_count": 19,
   "id": "cd167d6b",
   "metadata": {},
   "outputs": [
    {
     "name": "stdout",
     "output_type": "stream",
     "text": [
      "Current signal generator frequency: 350000000.0\n",
      "Current signal generator power level: -90.0\n",
      "Current Sky Simulator Correlated Noise Source: True\n",
      "Current Sky Simulator Uncorrelated Noise Source: False\n",
      "Current Sky Simulator Band: 1\n",
      "Current Programmable attenuator current attenuation : 10.0\n",
      "Updated signal generator frequency                  : 350000000.0\n",
      "Updated signal generator power level                : -90.0\n",
      "Updated Sky Simulator Correlated Noise Source       : True\n",
      "Updated Sky Simulator Uncorrelated Noise Source     : False\n",
      "Updated Sky Simulator Band                          : 1\n",
      "Updated Programmable attenuator current attenuation : 10.0\n"
     ]
    }
   ],
   "source": [
    "# test equipment setup values - band 1\n",
    "bottom_of_band = 350.0e6\n",
    "top_of_band = 1050.0e6\n",
    "frequency_to_set = bottom_of_band  #bottom of band\n",
    "power_level = -90.0\n",
    "attenuation = 10\n",
    "band = 1\n",
    "\n",
    "signal_generator = test_equipment.signal_generator\n",
    "SSC = test_equipment.sky_simulator_controller\n",
    "prog_atten = test_equipment.programmable_attenuator\n",
    "\n",
    "# print current\n",
    "print(f\"Current signal generator frequency: {signal_generator.frequency}\")\n",
    "print(f\"Current signal generator power level: {signal_generator.power_dbm}\")\n",
    "print(f\"Current Sky Simulator Correlated Noise Source: {SSC.Correlated_Noise_Source}\")\n",
    "print(f\"Current Sky Simulator Uncorrelated Noise Source: {SSC.Uncorrelated_Noise_Sources}\")\n",
    "print(f\"Current Sky Simulator Band: {SSC.Band}\")\n",
    "print(f\"Current Programmable attenuator current attenuation : {prog_atten.channel_1}\")\n",
    "\n",
    "# setup siggen\n",
    "signal_generator.write_attribute(\"frequency\", frequency_to_set)\n",
    "signal_generator.write_attribute(\"power_dbm\", power_level)\n",
    "# setup SSC\n",
    "SSC.write_attribute(\"Correlated_Noise_Source\", True)\n",
    "SSC.write_attribute(\"Uncorrelated_Noise_Sources\", False)\n",
    "SSC.write_attribute(\"Band\", band)\n",
    "# setup Attenuator\n",
    "prog_atten.write_attribute(\"channel_1\", attenuation)\n",
    "\n",
    "time.sleep(3)\n",
    "# print updated values and confirm updates\n",
    "print(f\"Updated signal generator frequency                  : {signal_generator.frequency}\")\n",
    "print(f\"Updated signal generator power level                : {signal_generator.power_dbm}\")\n",
    "print(f\"Updated Sky Simulator Correlated Noise Source       : {SSC.Correlated_Noise_Source}\")\n",
    "print(f\"Updated Sky Simulator Uncorrelated Noise Source     : {SSC.Uncorrelated_Noise_Sources}\")\n",
    "print(f\"Updated Sky Simulator Band                          : {SSC.Band}\")\n",
    "print(f\"Updated Programmable attenuator current attenuation : {prog_atten.channel_1}\")\n",
    "\n",
    "assert signal_generator.frequency == frequency_to_set, print(\n",
    "    f\"Frequency required is {frequency_to_set} but got {signal_generator.frequency}\"\n",
    ")\n",
    "assert signal_generator.power_dbm == power_level, print(\n",
    "    f\"Power level required is {power_level} but got {signal_generator.power_dbm}\"\n",
    ")\n",
    "assert SSC.Correlated_Noise_Source, print(\n",
    "    f\"Correlated noise source required is {True} but got {SSC.Correlated_Noise_Source}\"\n",
    ")\n",
    "assert not SSC.Uncorrelated_Noise_Sources, print(\n",
    "    f\"Uncorrelated noise source required is {False} but got {SSC.Uncorrelated_Noise_Sources}\"\n",
    ")\n",
    "assert SSC.Band == band, print(f\"Band required is {band} but got {SSC.Band}\")\n",
    "assert prog_atten.channel_1 == attenuation, print(\n",
    "    f\"Attenuation required is {attenuation} but got {prog_atten.channel_1}\"\n",
    ")"
   ]
  },
  {
   "cell_type": "code",
   "execution_count": 11,
   "id": "af8dc067",
   "metadata": {},
   "outputs": [
    {
     "name": "stdout",
     "output_type": "stream",
     "text": [
      "Current signal generator frequency: 350000000.0\n",
      "Current signal generator power level: -90.0\n",
      "Current Sky Simulator Correlated Noise Source: True\n",
      "Current Sky Simulator Uncorrelated Noise Source: False\n",
      "Current Sky Simulator Band: 1\n",
      "Current Programmable attenuator current attenuation : 10.0\n"
     ]
    }
   ],
   "source": [
    "# print current only\n",
    "signal_generator = test_equipment.signal_generator\n",
    "SSC = test_equipment.sky_simulator_controller\n",
    "prog_atten = test_equipment.programmable_attenuator\n",
    "\n",
    "# print current\n",
    "print(f\"Current signal generator frequency: {signal_generator.frequency}\")\n",
    "print(f\"Current signal generator power level: {signal_generator.power_dbm}\")\n",
    "print(f\"Current Sky Simulator Correlated Noise Source: {SSC.Correlated_Noise_Source}\")\n",
    "print(f\"Current Sky Simulator Uncorrelated Noise Source: {SSC.Uncorrelated_Noise_Sources}\")\n",
    "print(f\"Current Sky Simulator Band: {SSC.Band}\")\n",
    "print(f\"Current Programmable attenuator current attenuation : {prog_atten.channel_1}\")"
   ]
  },
  {
   "cell_type": "markdown",
   "id": "b4866577",
   "metadata": {},
   "source": [
    "**Step 5:**\n",
    "\n",
    "Sweep a CW tone over the frequency band at a level of -90 dBm (TBC). \n",
    "\n",
    "Expected Result:  \n",
    "*Signal Generator displays CW tone sweeping over frequency band / view this on the Sky Sim Dashboard.*"
   ]
  },
  {
   "cell_type": "code",
   "execution_count": 40,
   "id": "b27fd119",
   "metadata": {},
   "outputs": [
    {
     "name": "stdout",
     "output_type": "stream",
     "text": [
      "2024 07 26-15:52:48 Updated signal generator frequency                  : 400000000.0\n",
      "2024 07 26-15:52:59 Updated signal generator frequency                  : 450000000.0\n",
      "2024 07 26-15:53:09 Updated signal generator frequency                  : 500000000.0\n",
      "2024 07 26-15:53:19 Updated signal generator frequency                  : 550000000.0\n",
      "2024 07 26-15:53:29 Updated signal generator frequency                  : 600000000.0\n",
      "2024 07 26-15:53:40 Updated signal generator frequency                  : 650000000.0\n",
      "2024 07 26-15:53:50 Updated signal generator frequency                  : 700000000.0\n",
      "2024 07 26-15:54:00 Updated signal generator frequency                  : 750000000.0\n",
      "2024 07 26-15:54:10 Updated signal generator frequency                  : 800000000.0\n",
      "2024 07 26-15:54:20 Updated signal generator frequency                  : 850000000.0\n",
      "2024 07 26-15:54:31 Updated signal generator frequency                  : 900000000.0\n",
      "2024 07 26-15:54:41 Updated signal generator frequency                  : 950000000.0\n",
      "2024 07 26-15:54:51 Updated signal generator frequency                  : 1000000000.0\n",
      "2024 07 26-15:55:01 Updated signal generator frequency                  : 1050000000.0\n"
     ]
    }
   ],
   "source": [
    "frequency_to_set = bottom_of_band \n",
    "time.sleep(0.1)\n",
    "while frequency_to_set < top_of_band:\n",
    "    frequency_to_set += 10.0e6\n",
    "    signal_generator.write_attribute(\"frequency\", frequency_to_set)\n",
    "    time.sleep(2.0)\n",
    "    assert signal_generator.frequency == frequency_to_set,print(\n",
    "            f\"Frequency required is {frequency_to_set} but got {signal_generator.frequency}\"\n",
    "        )\n",
    "    if frequency_to_set % 50e6 == 0:\n",
    "        timestr = time.strftime(\"%Y %m %d-%H:%M:%S\")\n",
    "        print(timestr,f\"Updated signal generator frequency : {signal_generator.frequency}\")"
   ]
  },
  {
   "cell_type": "markdown",
   "id": "c91d1773",
   "metadata": {},
   "source": [
    "**Step 5:**\n",
    "\n",
    "After a further ~10 seconds, use Test Control Script to adjust CW generator signal level by -3dB.  \n",
    "\n",
    "Expected Result:  \n",
    "*CW level changes by roughly -3dB in SDP Spectrometer Display*"
   ]
  },
  {
   "cell_type": "code",
   "execution_count": null,
   "id": "f2115597",
   "metadata": {},
   "outputs": [],
   "source": [
    "time.sleep(\n",
    "    10\n",
    ")  # cell to be run in this notebook immediately after starting scn in rf-chain-and-channelisation_test_equipment notebook\n",
    "power_level_minus_6_db = power_level - 6.0\n",
    "print(f\"Current signal generator power level: {signal_generator.power_dbm}\")\n",
    "signal_generator.write_attribute(\"power_dbm\", power_level_minus_6_db)\n",
    "time.sleep(3)\n",
    "print(f\"Updated signal generator power level: {signal_generator.power_dbm}\")"
   ]
  }
 ],
 "metadata": {
  "kernelspec": {
   "display_name": "Python 3 (ipykernel)",
   "language": "python",
   "name": "python3"
  },
  "language_info": {
   "codemirror_mode": {
    "name": "ipython",
    "version": 3
   },
   "file_extension": ".py",
   "mimetype": "text/x-python",
   "name": "python",
   "nbconvert_exporter": "python",
   "pygments_lexer": "ipython3",
   "version": "3.10.12"
  }
 },
 "nbformat": 4,
 "nbformat_minor": 5
}
