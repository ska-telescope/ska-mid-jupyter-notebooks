{
 "cells": [
  {
   "cell_type": "markdown",
   "id": "9ea536d6",
   "metadata": {},
   "source": [
    "# Channelisation Performance MID"
   ]
  },
  {
   "cell_type": "markdown",
   "id": "524f1991",
   "metadata": {},
   "source": [
    "## Table of Contents\\n\n",
    "#### [0.1 - Global Configuration](#02---setup-test-equipment)\n",
    "#### [0.2 - Setup Test Equipment](#02---setup-test-equipment)\n",
    "#### [1 -> Test Steps](#1---test-steps)\n",
    "this notebook provides for indepenent control of the test equipment during the rf chain and channelisation test so that test equipment setup may be changed while the telescope is scanning.  All test step requirements are indicated but only test equipment steps are included in this notebook."
   ]
  },
  {
   "cell_type": "markdown",
   "id": "9534ae98",
   "metadata": {},
   "source": [
    "## 0.1 Global Configuration"
   ]
  },
  {
   "cell_type": "markdown",
   "id": "1d9885e1",
   "metadata": {},
   "source": [
    "### 0.1.1 Import dependencies"
   ]
  },
  {
   "cell_type": "code",
   "execution_count": 1,
   "id": "6ea49e47",
   "metadata": {},
   "outputs": [],
   "source": [
    "import sys\n",
    "\n",
    "sys.path.append(\"../../src\")\n",
    "\n",
    "import json\n",
    "import logging\n",
    "import os\n",
    "import pathlib\n",
    "import time\n",
    "from datetime import datetime\n",
    "from typing import List\n",
    "\n",
    "import ska_ser_logging\n",
    "from bokeh.io import output_notebook\n",
    "from ska_oso_pdm.entities.common.target import (\n",
    "    CrossScanParameters,\n",
    "    FivePointParameters,\n",
    "    RasterParameters,\n",
    "    SinglePointParameters,\n",
    "    StarRasterParameters,\n",
    ")\n",
    "from ska_oso_pdm.entities.sdp import BeamMapping\n",
    "from ska_oso_scripting import oda_helper\n",
    "#from ska_oso_scripting.functions.devicecontrol.resource_control import get_request_json\n",
    "#from ska_oso_scripting.objects import SubArray, Telescope\n",
    "from ska_tmc_cdm.messages.central_node.assign_resources import AssignResourcesRequest\n",
    "from ska_tmc_cdm.messages.central_node.sdp import Channel\n",
    "from ska_tmc_cdm.messages.subarray_node.configure import ConfigureRequest\n",
    "from ska_tmc_cdm.messages.subarray_node.configure.core import ReceiverBand\n",
    "\n",
    "from ska_mid_jupyter_notebooks.cluster.cluster import Environment, TangoDeployment\n",
    "from ska_mid_jupyter_notebooks.dish.dish import TangoDishDeployment\n",
    "from ska_mid_jupyter_notebooks.helpers.path import project_root\n",
    "#from ska_mid_jupyter_notebooks.obsconfig.config import ObservationSB\n",
    "#from ska_mid_jupyter_notebooks.obsconfig.target_spec import TargetSpec, get_default_target_specs_sb\n",
    "from ska_mid_jupyter_notebooks.sut.rendering import TelescopeMononitorPlot\n",
    "from ska_mid_jupyter_notebooks.sut.state import TelescopeDeviceModel, get_telescope_state\n",
    "from ska_mid_jupyter_notebooks.sut.sut import TangoSUTDeployment, disable_qa\n",
    "from ska_mid_jupyter_notebooks.test_equipment.rendering import get_test_equipment_monitor_plot\n",
    "from ska_mid_jupyter_notebooks.test_equipment.state import get_equipment_model\n",
    "from ska_mid_jupyter_notebooks.test_equipment.test_equipment import TangoTestEquipment\n",
    "sys.path.insert(0, os.path.abspath(os.path.join('../..', 'src', 'ska_mid_jupyter_notebooks', 'scripts')))\n",
    "from ska_mid_jupyter_notebooks.scripts import sig_gen_sweep"
   ]
  },
  {
   "cell_type": "markdown",
   "id": "c9e6cc6d",
   "metadata": {},
   "source": [
    "### 0.1.2 Setup Global Variables and Configuration"
   ]
  },
  {
   "cell_type": "code",
   "execution_count": null,
   "id": "0b0c3b4c",
   "metadata": {},
   "outputs": [],
   "source": [
    "test_equipment = TangoTestEquipment()\n",
    "print(f\"Test Equipment Configured: {test_equipment}\")\n",
    "timestr = time.strftime(\"%Y%m%d-%H%M\")\n",
    "notebook_output_dir = pathlib.Path(\n",
    "    project_root(), f\"notebook-execution-data/configure_scan_for_commissioning/execution-{timestr}\"\n",
    ")\n",
    "os.makedirs(notebook_output_dir, exist_ok=True)\n",
    "# we disable qa as it is not been properly verified\n",
    "disable_qa()"
   ]
  },
  {
   "cell_type": "markdown",
   "id": "4b7fa8f6",
   "metadata": {},
   "source": [
    "### 0.1.3 Test Connections to Namespaces"
   ]
  },
  {
   "cell_type": "code",
   "execution_count": null,
   "id": "31882e18",
   "metadata": {},
   "outputs": [],
   "source": [
    "test_equipment.smoke_test()"
   ]
  },
  {
   "cell_type": "markdown",
   "id": "68a151c2",
   "metadata": {},
   "source": [
    "## 0.2 Test Equipment Setup\n",
    "\n",
    "Use the noise source at nominal levels for input to at least one SPFRx.  "
   ]
  },
  {
   "cell_type": "markdown",
   "id": "41db3a5d",
   "metadata": {},
   "source": [
    "### 0.2.1 Configure Test Equipment State "
   ]
  },
  {
   "cell_type": "code",
   "execution_count": null,
   "id": "3eacd7aa",
   "metadata": {},
   "outputs": [],
   "source": [
    "test_equipment_state = get_equipment_model(test_equipment)\n",
    "test_equipment.devices"
   ]
  },
  {
   "cell_type": "markdown",
   "id": "0d6f1e21",
   "metadata": {},
   "source": [
    "### 0.2.2 Print Test Equipment Diagnostics"
   ]
  },
  {
   "cell_type": "code",
   "execution_count": null,
   "id": "b019c7ab",
   "metadata": {},
   "outputs": [],
   "source": [
    "test_equipment.print_diagnostics()"
   ]
  },
  {
   "cell_type": "markdown",
   "id": "6d86ab44",
   "metadata": {},
   "source": [
    "### 0.2.3 Create Test Equipment Plot"
   ]
  },
  {
   "cell_type": "code",
   "execution_count": null,
   "id": "43b23de6",
   "metadata": {},
   "outputs": [],
   "source": [
    "monitor_plot = get_test_equipment_monitor_plot()\n",
    "test_equipment_state.subscribe_to_test_equipment_state(monitor_plot.handle_device_state_change)\n",
    "output_notebook()\n",
    "monitor_plot.show()\n",
    "test_equipment_state.activate()"
   ]
  },
  {
   "cell_type": "markdown",
   "id": "c7aa1da8",
   "metadata": {},
   "source": [
    "### 0.2.4 Turn offline Test Equipment devices ONLINE"
   ]
  },
  {
   "cell_type": "code",
   "execution_count": null,
   "id": "64ab9a73",
   "metadata": {},
   "outputs": [],
   "source": [
    "# set any offline devices to online\n",
    "test_equipment.turn_online()"
   ]
  },
  {
   "cell_type": "markdown",
   "id": "e0d2410e",
   "metadata": {},
   "source": [
    "### 0.2.5 Display Test Equipment Device States "
   ]
  },
  {
   "cell_type": "code",
   "execution_count": null,
   "id": "a3f65600",
   "metadata": {},
   "outputs": [],
   "source": [
    "test_equipment_state.state[\"devices_states\"]"
   ]
  },
  {
   "cell_type": "markdown",
   "id": "254e4151",
   "metadata": {},
   "source": [
    "**Step 1:**\n",
    "\n",
    "Set CW generator to approximately 800MHz (freq1) & -30dBm (power1), and wideband noise to approximately -132dBm/Hz at the SPF Band 1 Receiver inputs. ie. Band 1 output on and attenuation approx 10dB.  \n",
    "\n",
    "Expected Result:  \n",
    "*Test equipment configured*"
   ]
  },
  {
   "cell_type": "code",
   "execution_count": null,
   "id": "cd167d6b",
   "metadata": {},
   "outputs": [],
   "source": [
    "# test equipment setup values - band 1\n",
    "frequency_to_set = 350.0e6\n",
    "spfrx_power_level = -30.0 #at spfrx\n",
    "sky_sim_loss = 35.0\n",
    "attenuation = 10\n",
    "band = 1\n",
    "\n",
    "signal_generator = test_equipment.signal_generator\n",
    "SSC = test_equipment.sky_simulator_controller\n",
    "prog_atten = test_equipment.programmable_attenuator\n",
    "siggen_power_level = spfrx_power_level + sky_sim_loss\n",
    "\n",
    "# print current\n",
    "#print log time\n",
    "timestr = datetime.now().strftime('%F %T.%f')[:-3]\n",
    "print(\"Current Date and Time                               : \", timestr)\n",
    "print(f\"Current signal generator frequency                  : {signal_generator.frequency}\")\n",
    "print(f\"Current signal generator power level                : {signal_generator.power_dbm}\")\n",
    "print(\"Current spfrx input power level:                    : \", signal_generator.power_dbm - sky_sim_loss)\n",
    "print(f\"Current Sky Simulator Correlated Noise Source       : {SSC.Correlated_Noise_Source}\")\n",
    "print(f\"Current Sky Simulator Uncorrelated Noise Source     : {SSC.Uncorrelated_Noise_Sources}\")\n",
    "print(f\"Current Sky Simulator Band                          : {SSC.Band}\")\n",
    "print(f\"Current Programmable attenuator current attenuation : {prog_atten.channel_1}\")\n",
    "\n",
    "# setup siggen\n",
    "signal_generator.write_attribute(\"frequency\", frequency_to_set)\n",
    "signal_generator.write_attribute(\"power_dbm\", siggen_power_level)\n",
    "# setup SSC\n",
    "SSC.write_attribute(\"Correlated_Noise_Source\", True)\n",
    "SSC.write_attribute(\"Uncorrelated_Noise_Sources\", False)\n",
    "SSC.write_attribute(\"Band\", band)\n",
    "# setup Attenuator\n",
    "prog_atten.write_attribute(\"channel_1\", attenuation)\n",
    "\n",
    "time.sleep(1.5)\n",
    "# print updated values and confirm updates\n",
    "#print log time\n",
    "timestr = datetime.now().strftime('%F %T.%f')[:-3]\n",
    "print(\"Current Date and Time                               : \", timestr)\n",
    "print(f\"Updated signal generator frequency                  : {signal_generator.frequency}\")\n",
    "print(f\"Updated signal generator power level                : {signal_generator.power_dbm}\")\n",
    "print(\"Updated spfrx input power level:                    : \", signal_generator.power_dbm - sky_sim_loss)\n",
    "print(f\"Updated Sky Simulator Correlated Noise Source       : {SSC.Correlated_Noise_Source}\")\n",
    "print(f\"Updated Sky Simulator Uncorrelated Noise Source     : {SSC.Uncorrelated_Noise_Sources}\")\n",
    "print(f\"Updated Sky Simulator Band                          : {SSC.Band}\")\n",
    "print(f\"Updated Programmable attenuator current attenuation : {prog_atten.channel_1}\")\n",
    "\n",
    "assert signal_generator.frequency == frequency_to_set, print(\n",
    "    f\"Frequency required is {frequency_to_set} but got {signal_generator.frequency}\"\n",
    ")\n",
    "assert signal_generator.power_dbm == siggen_power_level, print(\n",
    "    f\"Power level required is {siggen_power_level} but got {signal_generator.power_dbm}\"\n",
    ")\n",
    "assert SSC.Correlated_Noise_Source, print(\n",
    "    f\"Correlated noise source required is {True} but got {SSC.Correlated_Noise_Source}\"\n",
    ")\n",
    "assert not SSC.Uncorrelated_Noise_Sources, print(\n",
    "    f\"Uncorrelated noise source required is {False} but got {SSC.Uncorrelated_Noise_Sources}\"\n",
    ")\n",
    "assert SSC.Band == band, print(f\"Band required is {band} but got {SSC.Band}\")\n",
    "assert prog_atten.channel_1 == attenuation, print(\n",
    "    f\"Attenuation required is {attenuation} but got {prog_atten.channel_1}\"\n",
    ")"
   ]
  },
  {
   "cell_type": "markdown",
   "id": "ce602d6f",
   "metadata": {},
   "source": [
    "**Step 3:**\n",
    "\n",
    "Start continuous adjustment of the CW tone frequency in steps of 1/100 of spectral channel width (channel width = 13.44 kHz, so step in 134 Hz), dwelling for 2 accumulation time intervals per step, that is 0.28s per step  for the following lower, mid and upper sections of the band (TBC)\n",
    "\n",
    "350 to 350.1344 MHz (10 channels)\n",
    "694.5 to 694.6344 MHz (10 channels over FSP boundary)\n",
    "1049.8656 to 1050 MHz (10 channels)\n",
    "To cover the full 59520 channels would take too long\n",
    "\n",
    "Expected Result:  \n",
    "*CW position changes in SDP Spectrometer Display.*\n"
   ]
  },
  {
   "cell_type": "code",
   "execution_count": null,
   "id": "3eb678af",
   "metadata": {},
   "outputs": [],
   "source": [
    "#this code uses the run_sig_gen_sweep function in the sig_gen_sweep module to implement start_freq = bottom_of_band\n",
    "timestr = datetime.now().strftime('%F %T.%f')[:-3]\n",
    "print(\"Current Date and Time                               : \", timestr)\n",
    "start_freq= 350000000 # in hz\n",
    "stop_freq = 350134400 # in hz\n",
    "dwel_time = 0.280 # in s\n",
    "step_freq = 134 # in hz\n",
    "sig_gen_sweep.run_sig_gen_sweep(start_freq,stop_freq,dwel_time,step_freq)\n",
    "start_freq= 694500000 # in hz\n",
    "stop_freq = 694634400 # in hz\n",
    "sig_gen_sweep.run_sig_gen_sweep(start_freq,stop_freq,dwel_time,step_freq)\n",
    "start_freq= 1049865600 # in hz\n",
    "stop_freq = 1050000000 # in hz\n",
    "sig_gen_sweep.run_sig_gen_sweep(start_freq,stop_freq,dwel_time,step_freq)\n",
    "timestr = datetime.now().strftime('%F %T.%f')[:-3]\n",
    "print(\"Current Date and Time                               : \", timestr)"
   ]
  },
  {
   "cell_type": "markdown",
   "id": "54271dad",
   "metadata": {},
   "source": [
    "**Step 15:**\n",
    "\n",
    "Start continuous adjustment of the CW tone frequency in steps of 1/100 of spectral channel width (channel width = 13.44 kHz, so step in 134 Hz), dwelling for 2 accumulation time intervals per step, that is 0.28s per step  for the following lower, mid and upper sections of the band (TBC)\n",
    "\n",
    "950 to 950.1344 MHz (10 channels)\n",
    "1289.1 to 1289.2344 MHz (10 channels over FSP boundary)\n",
    "1759.8656 to 1760 MHz (10 channels)\n",
    "To cover the full 59520 channels would take too long"
   ]
  },
  {
   "cell_type": "code",
   "execution_count": null,
   "id": "e6dc50dd",
   "metadata": {},
   "outputs": [],
   "source": [
    "# test equipment setup values - band 2\n",
    "frequency_to_set = 950.0e6\n",
    "spfrx_power_level = -30.0 #at spfrx\n",
    "sky_sim_loss = 35.0\n",
    "attenuation = 10\n",
    "band = 2\n",
    "\n",
    "signal_generator = test_equipment.signal_generator\n",
    "SSC = test_equipment.sky_simulator_controller\n",
    "prog_atten = test_equipment.programmable_attenuator\n",
    "siggen_power_level = spfrx_power_level + sky_sim_loss\n",
    "\n",
    "# print current\n",
    "#print log time\n",
    "timestr = datetime.now().strftime('%F %T.%f')[:-3]\n",
    "print(\"Current Date and Time                               : \", timestr)\n",
    "print(f\"Current signal generator frequency                  : {signal_generator.frequency}\")\n",
    "print(f\"Current signal generator power level                : {signal_generator.power_dbm}\")\n",
    "print(\"Current spfrx input power level:                    : \", signal_generator.power_dbm - sky_sim_loss)\n",
    "print(f\"Current Sky Simulator Correlated Noise Source       : {SSC.Correlated_Noise_Source}\")\n",
    "print(f\"Current Sky Simulator Uncorrelated Noise Source     : {SSC.Uncorrelated_Noise_Sources}\")\n",
    "print(f\"Current Sky Simulator Band                          : {SSC.Band}\")\n",
    "print(f\"Current Programmable attenuator current attenuation : {prog_atten.channel_1}\")\n",
    "\n",
    "# setup siggen\n",
    "signal_generator.write_attribute(\"frequency\", frequency_to_set)\n",
    "signal_generator.write_attribute(\"power_dbm\", siggen_power_level)\n",
    "# setup SSC\n",
    "SSC.write_attribute(\"Correlated_Noise_Source\", True)\n",
    "SSC.write_attribute(\"Uncorrelated_Noise_Sources\", False)\n",
    "SSC.write_attribute(\"Band\", band)\n",
    "# setup Attenuator\n",
    "prog_atten.write_attribute(\"channel_1\", attenuation)\n",
    "\n",
    "time.sleep(1.5)\n",
    "# print updated values and confirm updates\n",
    "#print log time\n",
    "timestr = datetime.now().strftime('%F %T.%f')[:-3]\n",
    "print(\"Current Date and Time                               : \", timestr)\n",
    "print(f\"Updated signal generator frequency                  : {signal_generator.frequency}\")\n",
    "print(f\"Updated signal generator power level                : {signal_generator.power_dbm}\")\n",
    "print(\"Updated spfrx input power level:                    : \", signal_generator.power_dbm - sky_sim_loss)\n",
    "print(f\"Updated Sky Simulator Correlated Noise Source       : {SSC.Correlated_Noise_Source}\")\n",
    "print(f\"Updated Sky Simulator Uncorrelated Noise Source     : {SSC.Uncorrelated_Noise_Sources}\")\n",
    "print(f\"Updated Sky Simulator Band                          : {SSC.Band}\")\n",
    "print(f\"Updated Programmable attenuator current attenuation : {prog_atten.channel_1}\")\n",
    "\n",
    "assert signal_generator.frequency == frequency_to_set, print(\n",
    "    f\"Frequency required is {frequency_to_set} but got {signal_generator.frequency}\"\n",
    ")\n",
    "assert signal_generator.power_dbm == siggen_power_level, print(\n",
    "    f\"Power level required is {siggen_power_level} but got {signal_generator.power_dbm}\"\n",
    ")\n",
    "assert SSC.Correlated_Noise_Source, print(\n",
    "    f\"Correlated noise source required is {True} but got {SSC.Correlated_Noise_Source}\"\n",
    ")\n",
    "assert not SSC.Uncorrelated_Noise_Sources, print(\n",
    "    f\"Uncorrelated noise source required is {False} but got {SSC.Uncorrelated_Noise_Sources}\"\n",
    ")\n",
    "assert SSC.Band == band, print(f\"Band required is {band} but got {SSC.Band}\")\n",
    "assert prog_atten.channel_1 == attenuation, print(\n",
    "    f\"Attenuation required is {attenuation} but got {prog_atten.channel_1}\"\n",
    ")"
   ]
  },
  {
   "cell_type": "code",
   "execution_count": null,
   "id": "d4347fbf",
   "metadata": {},
   "outputs": [],
   "source": [
    "#this code uses the run_sig_gen_sweep function in the sig_gen_sweep module to implement start_freq = bottom_of_band\n",
    "timestr = datetime.now().strftime('%F %T.%f')[:-3]\n",
    "print(\"Current Date and Time                               : \", timestr)\n",
    "start_freq= 950000000 # in hz\n",
    "stop_freq = 950134400 # in hz\n",
    "dwel_time = 0.280 # in s\n",
    "step_freq = 134 # in hz\n",
    "sig_gen_sweep.run_sig_gen_sweep(start_freq,stop_freq,dwel_time,step_freq)\n",
    "start_freq= 1289100000 # in hz\n",
    "stop_freq = 1289234400# in hz\n",
    "sig_gen_sweep.run_sig_gen_sweep(start_freq,stop_freq,dwel_time,step_freq)\n",
    "start_freq= 1684865600 # in hz\n",
    "stop_freq = 1685000000 # in hz\n",
    "sig_gen_sweep.run_sig_gen_sweep(start_freq,stop_freq,dwel_time,step_freq)\n",
    "timestr = datetime.now().strftime('%F %T.%f')[:-3]\n",
    "print(\"Current Date and Time                               : \", timestr)"
   ]
  }
 ],
 "metadata": {
  "kernelspec": {
   "display_name": ".venv",
   "language": "python",
   "name": "python3"
  },
  "language_info": {
   "codemirror_mode": {
    "name": "ipython",
    "version": 3
   },
   "file_extension": ".py",
   "mimetype": "text/x-python",
   "name": "python",
   "nbconvert_exporter": "python",
   "pygments_lexer": "ipython3",
   "version": "3.10.12"
  }
 },
 "nbformat": 4,
 "nbformat_minor": 5
}
