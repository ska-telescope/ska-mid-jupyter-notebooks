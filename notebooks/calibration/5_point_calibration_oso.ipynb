{
 "cells": [
  {
   "cell_type": "markdown",
   "metadata": {},
   "source": [
    "# Running a 5-Point Calibration Scan With OSO"
   ]
  },
  {
   "cell_type": "markdown",
   "metadata": {},
   "source": [
    "This notebook adapts the Five Point Calibration Scan notebook to work with PSI. Running this notebook requires that a PSI namespace be spun up with `DISH_LMC_ENABLED` set to true.\n",
    "\n",
    "This notebook can be Run with BITE or SPFRx, with BITE requiring the optional BITE notebook to be run. "
   ]
  },
  {
   "cell_type": "markdown",
   "metadata": {},
   "source": [
    "###  For using BITE"
   ]
  },
  {
   "cell_type": "markdown",
   "metadata": {},
   "source": [
    " BITE Functionality has been spun out to a separate notebook, which should be referred to when needed. These sections are labeled as BITE STEP."
   ]
  },
  {
   "cell_type": "markdown",
   "metadata": {},
   "source": [
    "## 1 Setup "
   ]
  },
  {
   "cell_type": "markdown",
   "metadata": {},
   "source": [
    "### 1.1 Environment Setup"
   ]
  },
  {
   "cell_type": "markdown",
   "metadata": {},
   "source": [
    "Start by importing all the libraries needed to run this notebook, including local ones."
   ]
  },
  {
   "cell_type": "code",
   "execution_count": 1,
   "metadata": {},
   "outputs": [],
   "source": [
    "import re\n",
    "import sys\n",
    "\n",
    "sys.path.append(\"../../src\")\n",
    "\n",
    "import json\n",
    "import os\n",
    "from time import sleep\n",
    "\n",
    "from IPython.display import clear_output\n",
    "from ska_oso_pdm import SBDefinition\n",
    "from ska_oso_scripting import oda_helper\n",
    "from ska_oso_scripting.functions import pdm_transforms\n",
    "from ska_oso_scripting.functions.sb import create_sbi, load_sbd\n",
    "from ska_oso_scripting.objects import SubArray, Telescope\n",
    "from tango import DevFailed, DeviceProxy"
   ]
  },
  {
   "cell_type": "markdown",
   "metadata": {},
   "source": [
    "### 1.2 Set Variables"
   ]
  },
  {
   "cell_type": "markdown",
   "metadata": {},
   "source": [
    "First, grab the namespace launched from the pipeline:"
   ]
  },
  {
   "cell_type": "code",
   "execution_count": 2,
   "metadata": {},
   "outputs": [
    {
     "name": "stdout",
     "output_type": "stream",
     "text": [
      "ci-ska-mid-psi-1637416751-amjoshi                        Active   35h\n",
      "ci-ska-mid-psi-1637416751-amjoshi-sdp                    Active   35h\n",
      "ci-ska-mid-psi-1638570910-alexschell                     Active   3m24s\n",
      "ci-ska-mid-psi-1638570910-alexschell-sdp                 Active   3m24s\n"
     ]
    }
   ],
   "source": [
    "!kubectl get ns | grep ska-mid-psi "
   ]
  },
  {
   "cell_type": "markdown",
   "metadata": {},
   "source": [
    "And load it into the variables for the notebook:"
   ]
  },
  {
   "cell_type": "code",
   "execution_count": 3,
   "metadata": {},
   "outputs": [],
   "source": [
    "namespace = \"ci-ska-mid-psi-1638570910-alexschell\"  # set to desired NS\n",
    "simulation_mode = 0  # set to 1 to run in sim mode\n",
    "target_boards_list = [3]  # assign boards\n",
    "scheduling_block_definition = \"mid_5_point_sb.json\"  # SB def file in data/scheduling_block to use\n",
    "server = \"ska-sdp-kafka.\" + namespace + \".svc.cluster.local:9092\"\n",
    "subarray_id = 1"
   ]
  },
  {
   "cell_type": "markdown",
   "metadata": {},
   "source": [
    "With the namespace set, use these links to monitor the system as the notebook is worked through"
   ]
  },
  {
   "cell_type": "code",
   "execution_count": 4,
   "metadata": {},
   "outputs": [
    {
     "name": "stdout",
     "output_type": "stream",
     "text": [
      "Monitor signal received by the vis pod:\n",
      "https://142.73.34.170/ci-ska-mid-psi-1638570910-alexschell/signal/display/\n",
      "Dashboard for monitoring device status:\n",
      "https://142.73.34.170/ci-ska-mid-psi-1638570910-alexschell/taranta/dashboard?id=666cb28b5e5d4f0012197e5f&mode=run\n",
      "Dashboard for monitoring TMC status:\n",
      "https://142.73.34.170/ci-ska-mid-psi-1638570910-alexschell/taranta/dashboard?id=669ea8e32bc4790019e64bba&mode=run\n",
      "PgAdmin interface to monitor the databases and ensure SB/EB are properly set in them\n",
      "https://142.73.34.170/ci-ska-mid-psi-1638570910-alexschell/pgadmin4/browser/\n"
     ]
    }
   ],
   "source": [
    "print(\"Monitor signal received by the vis pod:\")\n",
    "print(f\"https://142.73.34.170/{namespace}/signal/display/\")\n",
    "print(\"Dashboard for monitoring device status:\")\n",
    "print(f\"https://142.73.34.170/{namespace}/taranta/dashboard?id=666cb28b5e5d4f0012197e5f&mode=run\")\n",
    "print(\"Dashboard for monitoring TMC status:\")\n",
    "print(f\"https://142.73.34.170/{namespace}/taranta/dashboard?id=669ea8e32bc4790019e64bba&mode=run\")\n",
    "print(\"PgAdmin interface to monitor the databases and ensure SB/EB are properly set in them\")\n",
    "print(f\"https://142.73.34.170/{namespace}/pgadmin4/browser/\")"
   ]
  },
  {
   "cell_type": "markdown",
   "metadata": {},
   "source": [
    "Get the SKUID pod:"
   ]
  },
  {
   "cell_type": "code",
   "execution_count": 5,
   "metadata": {},
   "outputs": [
    {
     "name": "stdout",
     "output_type": "stream",
     "text": [
      "ska-ser-skuid-test-1638570910-svc                ClusterIP      10.96.182.69     <none>            9870/TCP                                          87s\n",
      "ska-sdp-kafka                                    ClusterIP      10.109.213.220   <none>            9092/TCP                                          87s\n",
      "ska-sdp-kafka-headless                           ClusterIP      None             <none>            9092/TCP,9094/TCP,9093/TCP                        87s\n"
     ]
    }
   ],
   "source": [
    "!kubectl get svc -n $namespace | grep skuid\n",
    "!kubectl get svc -n $namespace | grep kafka"
   ]
  },
  {
   "cell_type": "markdown",
   "metadata": {},
   "source": [
    "And set the id value based on the name of this pod:"
   ]
  },
  {
   "cell_type": "code",
   "execution_count": 6,
   "metadata": {},
   "outputs": [],
   "source": [
    "skuid_id = \"ska-ser-skuid-test-1638570910-svc\"\n",
    "kafka_id = \"ska-sdp-kafka\""
   ]
  },
  {
   "cell_type": "markdown",
   "metadata": {},
   "source": [
    "As a work around step for SKUID pod access, get the IP from the pod, get the IP address of the SKUID pod then set that as our access url:"
   ]
  },
  {
   "cell_type": "code",
   "execution_count": 7,
   "metadata": {},
   "outputs": [
    {
     "name": "stdout",
     "output_type": "stream",
     "text": [
      "ska-ser-skuid-test-1638570910-6bf7d478b6-w2nfw\n",
      "10.10.47.150\n",
      "ska-sdp-kafka-0\n",
      "10.10.212.217\n"
     ]
    }
   ],
   "source": [
    "skuid_name = !kubectl -n $namespace get pods | grep ska-ser-skuid-test\n",
    "skuid_name = skuid_name[0].split()[0]\n",
    "print(skuid_name)\n",
    "extracted_ip = !kubectl -n $namespace describe pod $skuid_name | grep ips -A 1\n",
    "ip = re.search(r\"[0-9]{0,3}\\.[0-9]{0,3}\\.[0-9]{0,3}\\.[0-9]{0,3}\", str(extracted_ip))\n",
    "print(ip.group(0))\n",
    "\n",
    "kafka_name = !kubectl -n $namespace get pods | grep ska-sdp-kafka\n",
    "kafka_name = kafka_name[0].split()[0]\n",
    "print(kafka_name)\n",
    "extracted_kafka_ip = !kubectl -n $namespace describe pod $kafka_name | grep ips -A 1\n",
    "kafka_ip = re.search(r\"[0-9]{0,3}\\.[0-9]{0,3}\\.[0-9]{0,3}\\.[0-9]{0,3}\", str(extracted_kafka_ip))\n",
    "print(kafka_ip.group(0))"
   ]
  },
  {
   "cell_type": "markdown",
   "metadata": {},
   "source": [
    "Copy the IP from this store it to be written later:"
   ]
  },
  {
   "cell_type": "code",
   "execution_count": 8,
   "metadata": {},
   "outputs": [],
   "source": [
    "SKUID_POD = ip.group(0) + \":9870\"\n",
    "KAFKA_POD = kafka_ip.group(0) + \":9092\""
   ]
  },
  {
   "cell_type": "markdown",
   "metadata": {},
   "source": [
    "Next, load all the other vars the notebook will use. These should not need to be changed for this run."
   ]
  },
  {
   "cell_type": "code",
   "execution_count": 9,
   "metadata": {},
   "outputs": [],
   "source": [
    "# Tango host environment variable\n",
    "TANGO_HOST = \"databaseds-tango-base.\" + namespace + \".svc.cluster.local:10000\"\n",
    "# Don't use for now...\n",
    "# SKUID_POD = skuid_id + \".\" + namespace + \".svc.cluster.local:5004\"\n",
    "\n",
    "# Parent directory to use to grab config files.\n",
    "DATA_DIR = os.path.join(os.path.dirname(os.path.dirname(os.getcwd())), \"data\")\n",
    "# Config file directories\n",
    "COMMON_CONFIG = os.path.join(DATA_DIR, \"mid_telescope/cbf\")\n",
    "HW_CONFIG = os.path.join(DATA_DIR, \"mid_telescope/cbf/hw_config\")\n",
    "SB_DIR = os.path.join(DATA_DIR, \"scheduling_block\")\n",
    "\n",
    "# For mapping the talon boards to receptor\n",
    "RECEPTOR_MAP = [\"SKA001\", \"SKA036\", \"SKA063\", \"SKA100\"]"
   ]
  },
  {
   "cell_type": "markdown",
   "metadata": {},
   "source": [
    "Next, set the environment arg for TANGO HOST, SKUID_POD and KAFKA, along with the oda API service endpoint:"
   ]
  },
  {
   "cell_type": "code",
   "execution_count": 10,
   "metadata": {},
   "outputs": [
    {
     "name": "stdout",
     "output_type": "stream",
     "text": [
      "SKUID service set to:  10.10.47.150:9870\n",
      "TANGO_HOST set to: databaseds-tango-base.ci-ska-mid-psi-1638570910-alexschell.svc.cluster.local:10000\n",
      "ODA endpoint set to:http://142.73.34.170/ci-ska-mid-psi-1638570910-alexschell/oda/api/v6/\n",
      "This can be checked via http://142.73.34.170/ci-ska-mid-psi-1638570910-alexschell/oda/api/v6/ui\n"
     ]
    }
   ],
   "source": [
    "os.environ[\"TANGO_HOST\"] = TANGO_HOST\n",
    "os.environ[\"SKUID_URL\"] = SKUID_POD\n",
    "os.environ[\"ODA_URL\"] = f\"http://142.73.34.170/{namespace}/oda/api/v6/\"\n",
    "os.environ[\"telescope\"] = \"mid\"\n",
    "print(\"SKUID service set to: \", os.environ[\"SKUID_URL\"])\n",
    "print(\"TANGO_HOST set to:\", os.environ[\"TANGO_HOST\"])\n",
    "print(\"ODA endpoint set to:{}\".format(os.environ[\"ODA_URL\"]))\n",
    "print(\"This can be checked via {}ui\".format(os.environ[\"ODA_URL\"]))"
   ]
  },
  {
   "cell_type": "markdown",
   "metadata": {},
   "source": [
    "With all the file paths defined the JSON files can be loaded in and checked."
   ]
  },
  {
   "cell_type": "code",
   "execution_count": 11,
   "metadata": {},
   "outputs": [
    {
     "name": "stdout",
     "output_type": "stream",
     "text": [
      "Getting files...\n",
      "/home/al097049_p/SKAcode/ska-mid-jupyter-notebooks/data/mid_telescope/cbf/sys_params/load_dish_config.json exists: ✔️\n",
      "/home/al097049_p/SKAcode/ska-mid-jupyter-notebooks/data/scheduling_block/mid_5_point_sb.json exists: ✔️\n"
     ]
    }
   ],
   "source": [
    "print(\"Getting files...\")\n",
    "\n",
    "DISH_CONFIG_FILE = f\"{COMMON_CONFIG}/sys_params/load_dish_config.json\"\n",
    "SB_FILE = os.path.join(SB_DIR, scheduling_block_definition)\n",
    "\n",
    "SCAN_COMBOS = [[0.0, 5.0], [0.0, -5.0], [5.0, 0.0], [-5.0, 0.0]]\n",
    "\n",
    "files = [\n",
    "    DISH_CONFIG_FILE,\n",
    "    SB_FILE,\n",
    "]\n",
    "\n",
    "for file in files:\n",
    "    if os.path.isfile(file):\n",
    "        print(f\"{file} exists: ✔️\")\n",
    "    else:\n",
    "        print(f\"{file} does not exist ❌\")"
   ]
  },
  {
   "cell_type": "markdown",
   "metadata": {},
   "source": [
    "Next, set up the hw config to match the boards in use:"
   ]
  },
  {
   "cell_type": "code",
   "execution_count": 12,
   "metadata": {},
   "outputs": [
    {
     "name": "stdout",
     "output_type": "stream",
     "text": [
      "Using HW Config File for Talons 1-4\n",
      "Using standard HW config\n",
      "HW config: ✔️\n"
     ]
    }
   ],
   "source": [
    "# Select HW file based on boards selected\n",
    "if target_boards_list[0] >= 13:\n",
    "    print(\"Using HW Config File for Talons 13-16\")\n",
    "    config = \"hw_config_psi_13_16.yaml\"\n",
    "elif target_boards_list[0] >= 5:\n",
    "    print(\"Using HW Config File for Talons 5-8\")\n",
    "    config = \"hw_config_psi_5_8.yaml\"\n",
    "elif target_boards_list[0] >= 1:\n",
    "    print(\"Using HW Config File for Talons 1-4\")\n",
    "    config = \"hw_config_psi_1_4.yaml\"\n",
    "\n",
    "if any(i > 4 for i in target_boards_list):\n",
    "    target_boards_list = list(map(lambda x: x - 4, target_boards_list))\n",
    "\n",
    "else:\n",
    "    print(\"Using standard HW config\")\n",
    "\n",
    "HW_CONFIG_FILE = os.path.join(HW_CONFIG, config)\n",
    "if os.path.isfile(HW_CONFIG_FILE):\n",
    "    print(\"HW config: ✔️\")\n",
    "else:\n",
    "    print(\"hw config: ❌\")\n",
    "\n",
    "receptor_ids = list(map(lambda x: RECEPTOR_MAP[x - 1], target_boards_list))"
   ]
  },
  {
   "cell_type": "markdown",
   "metadata": {},
   "source": [
    "If the HW config file exists, it is loaded into the pod:"
   ]
  },
  {
   "cell_type": "code",
   "execution_count": 13,
   "metadata": {},
   "outputs": [],
   "source": [
    "!kubectl cp $HW_CONFIG_FILE $namespace/ds-cbfcontroller-controller-0:/app/mnt/hw_config/hw_config.yaml "
   ]
  },
  {
   "cell_type": "markdown",
   "metadata": {},
   "source": [
    "<style>\n",
    "    .alert {\n",
    "        background-color: #1a1d21;\n",
    "        border-style: dotted;\n",
    "        border-color: #f0493e;\n",
    "        color: #d1d2d3;\n",
    "    }\n",
    "</style>\n",
    "<div class=\"alert\">\n",
    "    <h3>(BITE STEP) Set Variables in the BITE Notebook</h3>\n",
    "    If running the BITE notebook, at this point ensure the variables in step 1.2 are set, and match the ones set here.\n",
    "</div>\n",
    "</body>"
   ]
  },
  {
   "cell_type": "markdown",
   "metadata": {},
   "source": [
    "### 1.3 Create Device Proxies"
   ]
  },
  {
   "cell_type": "markdown",
   "metadata": {},
   "source": [
    "With the pod spun up, create device proxies to the devices used and check the connection to them."
   ]
  },
  {
   "cell_type": "code",
   "execution_count": 14,
   "metadata": {},
   "outputs": [
    {
     "name": "stdout",
     "output_type": "stream",
     "text": [
      "CSP Controller: The device is in DISABLE state.\n",
      "Central Node: The device is in ON state.\n",
      "TMC subarray Node: The device is in ON state.\n",
      "CBF subarray: The device is in DISABLE state.\n"
     ]
    }
   ],
   "source": [
    "# CSP Devices\n",
    "csp_controller = DeviceProxy(\"mid-csp/control/0\")\n",
    "csp_subarray = DeviceProxy(\"mid-csp/subarray/01\")\n",
    "print(f\"CSP Controller: {csp_controller.Status()}\")\n",
    "\n",
    "# TMC Devices\n",
    "tmc_central_node = DeviceProxy(\"ska_mid/tm_central/central_node\")\n",
    "print(f\"Central Node: {tmc_central_node.Status()}\")\n",
    "tmc_subarray = DeviceProxy(\"ska_mid/tm_subarray_node/1\")\n",
    "print(f\"TMC subarray Node: {tmc_subarray.Status()}\")\n",
    "\n",
    "# For checking leaf node\n",
    "leaf_node_master = DeviceProxy(\"ska_mid/tm_leaf_node/csp_master\")\n",
    "\n",
    "# Deployer for setup and BITE for data mocking\n",
    "deployer = DeviceProxy(\"mid_csp_cbf/ec/deployer\")\n",
    "\n",
    "# CBF Device\n",
    "cbf_subarray = DeviceProxy(\"mid_csp_cbf/sub_elt/subarray_01\")\n",
    "print(f\"CBF subarray: {cbf_subarray.Status()}\")"
   ]
  },
  {
   "cell_type": "markdown",
   "metadata": {},
   "source": [
    "### 1.4 Downloading Requirements via the Deployer"
   ]
  },
  {
   "cell_type": "markdown",
   "metadata": {},
   "source": [
    "First, set the board to deploy to and turn on the deployer device."
   ]
  },
  {
   "cell_type": "code",
   "execution_count": 15,
   "metadata": {},
   "outputs": [
    {
     "name": "stdout",
     "output_type": "stream",
     "text": [
      "Deployer will target board: [3]\n"
     ]
    }
   ],
   "source": [
    "deployer.targetTalons = target_boards_list\n",
    "print(\"Deployer will target board:\", deployer.targetTalons)\n",
    "deployer.generate_config_jsons()"
   ]
  },
  {
   "cell_type": "markdown",
   "metadata": {},
   "source": [
    "Once started and configured, the required devices can then be downloaded."
   ]
  },
  {
   "cell_type": "code",
   "execution_count": 16,
   "metadata": {},
   "outputs": [],
   "source": [
    "deployer.set_timeout_millis(400000)\n",
    "try:\n",
    "    deployer.download_artifacts()\n",
    "except DevFailed as e:\n",
    "    print(e)\n",
    "    print(\n",
    "        \"Timed out, this is likely due to the download taking some time. Check the logs with the code space below after some time to see if it passes.\"\n",
    "    )\n",
    "deployer.set_timeout_millis(3000)"
   ]
  },
  {
   "cell_type": "markdown",
   "metadata": {},
   "source": [
    "Now configure the device database with the downloaded devices:"
   ]
  },
  {
   "cell_type": "code",
   "execution_count": 17,
   "metadata": {},
   "outputs": [],
   "source": [
    "deployer.configure_db()"
   ]
  },
  {
   "cell_type": "markdown",
   "metadata": {},
   "source": [
    "### 1.5 Set up Execution Block"
   ]
  },
  {
   "cell_type": "markdown",
   "metadata": {},
   "source": [
    "The first step is to generate an empty Execution Block, using the helper scripts to work with the API endpoint:"
   ]
  },
  {
   "cell_type": "code",
   "execution_count": 18,
   "metadata": {},
   "outputs": [
    {
     "name": "stdout",
     "output_type": "stream",
     "text": [
      "eb-t0001-20250125-00001\n"
     ]
    }
   ],
   "source": [
    "exec_block_id = oda_helper.create_eb(telescope=\"ska_mid\")\n",
    "print(exec_block_id)"
   ]
  },
  {
   "cell_type": "markdown",
   "metadata": {},
   "source": [
    "## 2 Preparing Telescope"
   ]
  },
  {
   "cell_type": "markdown",
   "metadata": {},
   "source": [
    "Start by setting the admin modes to allow for control of the telescope:"
   ]
  },
  {
   "cell_type": "code",
   "execution_count": 19,
   "metadata": {},
   "outputs": [],
   "source": [
    "csp_controller.cbfSimulationMode = simulation_mode\n",
    "csp_controller.commandTimeout = 99\n",
    "csp_subarray.commandTimeout = 99\n",
    "sleep(2)\n",
    "\n",
    "csp_controller.adminMode = 0\n",
    "csp_subarray.adminMode = 0"
   ]
  },
  {
   "cell_type": "markdown",
   "metadata": {},
   "source": [
    "Ensure that these are set correctly, admin mode should be 0 (online) and cbfSimulationMode should be FALSE unless running in sim mode is desired."
   ]
  },
  {
   "cell_type": "code",
   "execution_count": 20,
   "metadata": {},
   "outputs": [
    {
     "name": "stdout",
     "output_type": "stream",
     "text": [
      "adminMode.ONLINE\n",
      "adminMode.OFFLINE\n",
      "False\n"
     ]
    }
   ],
   "source": [
    "print(csp_controller.adminMode)\n",
    "print(tmc_central_node.adminMode)\n",
    "print(csp_controller.cbfSimulationMode)"
   ]
  },
  {
   "cell_type": "markdown",
   "metadata": {},
   "source": [
    "Start by loading in the VCC config (this step may need to be re-run):"
   ]
  },
  {
   "cell_type": "code",
   "execution_count": 24,
   "metadata": {},
   "outputs": [
    {
     "name": "stdout",
     "output_type": "stream",
     "text": [
      "DishVCC has been set!\n",
      "TMC CSP Master's Dish Vcc Config attribute value: \n",
      "{\"interface\": \"https://schema.skao.int/ska-mid-cbf-initsysparam/1.0\", \"dish_parameters\": {\"SKA001\": {\"vcc\": 1, \"k\": 1}, \"SKA036\": {\"vcc\": 2, \"k\": 1}, \"SKA063\": {\"vcc\": 3, \"k\": 1}, \"SKA100\": {\"vcc\": 4, \"k\": 1}}}\n",
      "\n",
      "TMC CSP Master's Source Dish Vcc Config attribute value: \n",
      "{\"interface\": \"https://schema.skao.int/ska-mid-cbf-initsysparam/1.0\", \"tm_data_sources\": [\"car://gitlab.com/ska-telescope/ska-telmodel-data?0.1.0-rc-mid-itf#tmdata\"], \"tm_data_filepath\": \"instrument/ska1_mid_itf/ska-mid-cbf-system-parameters.json\"}\n"
     ]
    }
   ],
   "source": [
    "with open(DISH_CONFIG_FILE, encoding=\"utf-8\") as f:\n",
    "    dish_config_json = json.load(f)\n",
    "\n",
    "dish_config_json[\"tm_data_sources\"][\n",
    "    0\n",
    "] = \"car://gitlab.com/ska-telescope/ska-telmodel-data?0.1.0-rc-mid-itf#tmdata\"\n",
    "dish_config_json[\"tm_data_filepath\"] = \"instrument/ska1_mid_itf/ska-mid-cbf-system-parameters.json\"\n",
    "\n",
    "print(f\"dish_config_json file contents: \\n{dish_config_json}\")\n",
    "tmc_central_node.LoadDishCfg(json.dumps(dish_config_json))\n",
    "# Wait for dishvcc to be loaded...\n",
    "wait_seconds = 0\n",
    "while not tmc_central_node.isDishVccConfigSet:\n",
    "    clear_output(wait=True)\n",
    "    print(f\"Waiting for DishVCC to be set, {wait_seconds} seconds elapsed...\")\n",
    "    sleep(2)\n",
    "    wait_seconds += 2\n",
    "\n",
    "clear_output(wait=True)\n",
    "print(\"DishVCC has been set!\")\n",
    "print(f\"TMC CSP Master's Dish Vcc Config attribute value: \\n{leaf_node_master.dishVccConfig}\")\n",
    "print(\n",
    "    f\"\\nTMC CSP Master's Source Dish Vcc Config attribute value: \\n{leaf_node_master.sourceDishVccConfig}\"\n",
    ")"
   ]
  },
  {
   "cell_type": "markdown",
   "metadata": {},
   "source": [
    "<style>\n",
    "    .alert {\n",
    "        background-color: #1a1d21;\n",
    "        border-style: dotted;\n",
    "        border-color: #f0493e;\n",
    "        color: #d1d2d3;\n",
    "    }\n",
    "</style>\n",
    "<div class=\"alert\">\n",
    "    <h3>(BITE STEP) Load In BITE Config Data</h3>\n",
    "    Now, if required, the BITE configuration data can be loaded in using the BITE notebook.\n",
    "</div>\n",
    "</body>"
   ]
  },
  {
   "cell_type": "markdown",
   "metadata": {},
   "source": [
    "Set up the objects for controlling the telescope and subarray via OSO:"
   ]
  },
  {
   "cell_type": "code",
   "execution_count": 25,
   "metadata": {},
   "outputs": [],
   "source": [
    "sub = SubArray(subarray_id)\n",
    "tel = Telescope()"
   ]
  },
  {
   "cell_type": "markdown",
   "metadata": {},
   "source": [
    "Now, while monitoring the Taranta dashboard, send the ON command to the telescope and monitor that the LURs Controller and subarrays come on (occasionally the ON command may not finish when everything has started):"
   ]
  },
  {
   "cell_type": "code",
   "execution_count": 26,
   "metadata": {},
   "outputs": [
    {
     "name": "stdout",
     "output_type": "stream",
     "text": [
      "1|2025-01-25T00:04:59.312Z|INFO|MainThread|_call_and_wait_for_transition|common.py#138||Using pub/sub to track telescopeState of ska_mid/tm_central/central_node\n",
      "1|2025-01-25T00:04:59.314Z|INFO|MainThread|execute|tango_executor.py#242||Executing command: <Command('ska_mid/tm_central/central_node', 'TelescopeOn', )>\n",
      "1|2025-01-25T00:04:59.322Z|INFO|MainThread|wait_for_transition|common.py#329||Waiting for telescopeState to transition to ON\n",
      "1|2025-01-25T00:04:59.322Z|INFO|MainThread|read_event|tango_executor.py#185||Reading event from the queue with timeout None\n",
      "1|2025-01-25T00:04:59.587Z|INFO|MainThread|read_event|tango_executor.py#185||Reading event from the queue with timeout None\n",
      "1|2025-01-25T00:05:00.808Z|INFO|MainThread|wait_for_transition|common.py#345||telescopeState reached target state ON\n"
     ]
    }
   ],
   "source": [
    "tel.on()"
   ]
  },
  {
   "cell_type": "markdown",
   "metadata": {},
   "source": [
    "<style>\n",
    "    .alert {\n",
    "        background-color: #1a1d21;\n",
    "        border-style: dotted;\n",
    "        border-color: #f0493e;\n",
    "        color: #d1d2d3;\n",
    "    }\n",
    "</style>\n",
    "<div class=\"alert\">\n",
    "    <h3>(BITE STEP) Generate BITE Data</h3>\n",
    "    With the telescope on, section 3 of the BITE notebook can be run, to generate the BITE data that will be used during the LSTV replay.\n",
    "</div>\n",
    "</body>"
   ]
  },
  {
   "cell_type": "markdown",
   "metadata": {},
   "source": [
    "### 2.1 Define Scheduling Block"
   ]
  },
  {
   "cell_type": "markdown",
   "metadata": {},
   "source": [
    "Temporary work around for ingress issues:"
   ]
  },
  {
   "cell_type": "code",
   "execution_count": 27,
   "metadata": {},
   "outputs": [
    {
     "name": "stdout",
     "output_type": "stream",
     "text": [
      "SKUID service set to:  10.10.47.150:9870\n"
     ]
    }
   ],
   "source": [
    "os.environ[\"SKUID_URL\"] = SKUID_POD\n",
    "print(\"SKUID service set to: \", os.environ[\"SKUID_URL\"])"
   ]
  },
  {
   "cell_type": "markdown",
   "metadata": {},
   "source": [
    "Now, use the SKUID service to generate processing and execution block IDs from the scheduling block definition."
   ]
  },
  {
   "cell_type": "code",
   "execution_count": 28,
   "metadata": {},
   "outputs": [
    {
     "name": "stdout",
     "output_type": "stream",
     "text": [
      "execution_block=ExecutionBlock(eb_id='eb-mvp01-20200325-00001', max_length=100.0, context={'foo': 'bar', 'baz': 123}, beams=[Beam(beam_id='vis0', function=<BeamFunction.VISIBILITIES: 'visibilities'>, search_beam_id=None, timing_beam_id=None, vlbi_beam_id=None), Beam(beam_id='pst1', function=<BeamFunction.PULSAR_TIMING: 'pulsar timing'>, search_beam_id=None, timing_beam_id=1, vlbi_beam_id=None), Beam(beam_id='pst2', function=<BeamFunction.PULSAR_TIMING: 'pulsar timing'>, search_beam_id=None, timing_beam_id=2, vlbi_beam_id=None)], scan_types=[ScanType(scan_type_id='.default', derive_from=None, beams=[BeamMapping(beam_ref='vis0', field_ref=None, channels_ref='vis_channels', polarisations_ref='all'), BeamMapping(beam_ref='pst1', field_ref='M83', channels_ref='pulsar_channels', polarisations_ref='all'), BeamMapping(beam_ref='pst2', field_ref='Polaris Australis', channels_ref='pulsar_channels', polarisations_ref='all')]), ScanType(scan_type_id='.default', derive_from='.default', beams=[BeamMapping(beam_ref='vis0', field_ref='M83', channels_ref=None, polarisations_ref=None)])], channels=[Channels(channels_id='vis_channels', spectral_windows=[SpectralWindow(spectral_window_id='fsp_1_channels', count=744, start=0, freq_min=350000000.0, freq_max=368000000.0, stride=2, link_map=[(0, 0), (200, 1), (744, 2), (944, 3)]), SpectralWindow(spectral_window_id='fsp_2_channels', count=744, start=2000, freq_min=360000000.0, freq_max=368000000.0, stride=1, link_map=[(2000, 4), (2200, 5)]), SpectralWindow(spectral_window_id='zoom_window_1', count=744, start=4000, freq_min=360000000.0, freq_max=361000000.0, stride=1, link_map=[(4000, 6), (4200, 7)])]), Channels(channels_id='pulsar_channels', spectral_windows=[SpectralWindow(spectral_window_id='pulsar_fsp_channels', count=744, start=0, freq_min=350000000.0, freq_max=368000000.0, stride=None, link_map=[])])], polarisations=[Polarisation(polarisations_id='all', corr_type=['XX', 'XY', 'YY', 'YX'])]) resources=Resources(csp_links=[1, 2, 3, 4], receptors=['FS4', 'FS8', 'FS16', 'FS17', 'FS22', 'FS23', 'FS30', 'FS31', 'FS32', 'FS33', 'FS36', 'FS52', 'FS56', 'FS57', 'FS59', 'FS62', 'FS66', 'FS69', 'FS70', 'FS72', 'FS73', 'FS78', 'FS80', 'FS88', 'FS89', 'FS90', 'FS91', 'FS98', 'FS108', 'FS111', 'FS132', 'FS144', 'FS146', 'FS158', 'FS165', 'FS167', 'FS176', 'FS183', 'FS193', 'FS200', 'FS345', 'FS346', 'FS347', 'FS348', 'FS349', 'FS350', 'FS351', 'FS352', 'FS353', 'FS354', 'FS355', 'FS356', 'FS429', 'FS430', 'FS431', 'FS432', 'FS433', 'FS434', 'FS465', 'FS466', 'FS467', 'FS468', 'FS469', 'FS470'], receive_nodes=10) processing_blocks=[ProcessingBlock(pb_id='pb-mvp01-20200325-00001', script=Script(name='vis_receive', kind=<ScriptKind.REALTIME: 'realtime'>, version='0.1.0'), sbi_refs=['sbi-mvp01-20200325-00001'], parameters={}, dependencies=[]), ProcessingBlock(pb_id='pb-mvp01-20200325-00002', script=Script(name='test_realtime', kind=<ScriptKind.REALTIME: 'realtime'>, version='0.1.0'), sbi_refs=['sbi-mvp01-20200325-00001'], parameters={}, dependencies=[]), ProcessingBlock(pb_id='pb-mvp01-20200325-00003', script=Script(name='ical', kind=<ScriptKind.BATCH: 'batch'>, version='0.1.0'), sbi_refs=['sbi-mvp01-20200325-00001'], parameters={}, dependencies=[PbDependency(pb_ref='pb-mvp01-20200325-00001', kind=['visibilities'])]), ProcessingBlock(pb_id='pb-mvp01-20200325-00004', script=Script(name='dpreb', kind=<ScriptKind.BATCH: 'batch'>, version='0.1.0'), sbi_refs=['sbi-mvp01-20200325-00001'], parameters={}, dependencies=[PbDependency(pb_ref='pb-mvp01-20200325-00003', kind=['calibration'])])]\n",
      "dish_allocation_id='dish-allocation-74519' selected_subarray_definition='AA0.5' dish_ids=frozenset({'SKA001', 'SKA063', 'SKA100', 'SKA036'})\n"
     ]
    }
   ],
   "source": [
    "sb = load_sbd(SB_FILE)\n",
    "print(sb.sdp_configuration)\n",
    "print(sb.dish_allocations)"
   ]
  },
  {
   "cell_type": "code",
   "execution_count": 29,
   "metadata": {},
   "outputs": [
    {
     "name": "stdout",
     "output_type": "stream",
     "text": [
      "1|2025-01-25T00:05:18.744Z|INFO|MainThread|create_sbi|sb.py#28||New SBI ID mapping: sbi-mvp01-20200325-00001 -> sbi-t0001-20250125-00002\n",
      "1|2025-01-25T00:05:18.753Z|INFO|MainThread|create_sbi|sb.py#41||New PB ID mapping: pb-mvp01-20200325-00001 -> pb-t0001-20250125-00003\n",
      "1|2025-01-25T00:05:18.753Z|INFO|MainThread|create_sbi|sb.py#41||New PB ID mapping: pb-mvp01-20200325-00002 -> pb-t0001-20250125-00004\n",
      "1|2025-01-25T00:05:18.754Z|INFO|MainThread|create_sbi|sb.py#41||New PB ID mapping: pb-mvp01-20200325-00003 -> pb-t0001-20250125-00005\n",
      "1|2025-01-25T00:05:18.754Z|INFO|MainThread|create_sbi|sb.py#41||New PB ID mapping: pb-mvp01-20200325-00004 -> pb-t0001-20250125-00006\n"
     ]
    }
   ],
   "source": [
    "# Configure sb items for current board:\n",
    "sb.sdp_configuration.resources.receptors = receptor_ids\n",
    "# sb.dish_allocations.receptor_ids = receptor_ids\n",
    "# for now run with 1 fsp\n",
    "sb.csp_configurations[0].cbf.fsps[0].fsp_id = target_boards_list[0]\n",
    "sb.csp_configurations[0].cbf.fsps[0].frequency_slice_id = target_boards_list[0]\n",
    "\n",
    "sbi = create_sbi(sb)\n",
    "\n",
    "sbi.sdp_configuration.execution_block.eb_id = exec_block_id"
   ]
  },
  {
   "cell_type": "code",
   "execution_count": 30,
   "metadata": {},
   "outputs": [
    {
     "name": "stdout",
     "output_type": "stream",
     "text": [
      "interface='https://schema.skao.int/ska-oso-pdm-sbd/0.1' sbd_id='sbi-mvp01-20200325-00001' name=None description=None telescope=TelescopeType.SKA_MID metadata=Metadata(version=1, created_by='Liz Bartlett', created_on=datetime.datetime(2022, 3, 28, 15, 43, 53, 971548, tzinfo=TzInfo(UTC)), last_modified_by='Liz Bartlett', last_modified_on=datetime.datetime(2022, 3, 28, 15, 43, 53, 971548, tzinfo=TzInfo(UTC)), pdm_version='15.3.0') prj_ref=None activities={'allocate': FilesystemScript(function_args={'init': PythonArguments(args=['posarg1', 'posarg2'], kwargs={'argname': 'argval'}), 'main': PythonArguments(args=['posarg1', 'posarg2'], kwargs={'argname': 'argval'})}, kind=ScriptKind.FILESYSTEM, path='file:///path/to/allocatescript.py'), 'observe': GitScript(function_args={'init': PythonArguments(args=['posarg1', 'posarg2'], kwargs={'argname': 'argval'}), 'main': PythonArguments(args=['posarg1', 'posarg2'], kwargs={'argname': 'argval'})}, kind=ScriptKind.GIT, repo='https://gitlab.com/script_repo/operational_scripts', path='git://relative/path/to/scriptinsiderepo.py', branch='main', commit=None)} targets=[Target(target_id='target-12345', name='Polaris Australis', pointing_pattern=PointingPattern(active=PointingKind.FIVE_POINT, parameters=[FivePointParameters(kind=PointingKind.FIVE_POINT, offset_arcsec=5.0), RasterParameters(kind=PointingKind.RASTER, row_length_arcsec=1.23, row_offset_arcsec=4.56, n_rows=2, pa=7.89, unidirectional=True), StarRasterParameters(kind=PointingKind.STAR_RASTER, row_length_arcsec=1.23, n_rows=2, row_offset_angle=4.56, unidirectional=True)]), reference_coordinate=EquatorialCoordinates(ra=317.19966666666664, dec=-88.95636111111111, unit=('deg', 'deg'), frame=EquatorialCoordinatesReferenceFrame.ICRS), radial_velocity=RadialVelocity(quantity=<Quantity -12.345 km / s>, definition=RadialVelocityDefinition.OPTICAL, reference_frame=RadialVelocityReferenceFrame.LSRK, redshift=1.23), tied_array_beams=TiedArrayBeams(pst_beams=[Beam(beam_id=1, beam_coordinate=EquatorialCoordinates(ra=6.023624999999999, dec=-72.08128333333333, pm_ra=4.8, pm_dec=-3.3, unit=('deg', 'deg'), parallax=0.0, frame=EquatorialCoordinatesReferenceFrame.ICRS), stn_weights=[1.0, 1.0]), Beam(beam_id=2, beam_coordinate=EquatorialCoordinates(ra=6.025241666666667, dec=-72.08030222222222, pm_ra=6.1, pm_dec=-2.6, unit=('deg', 'deg'), parallax=0.0, frame=EquatorialCoordinatesReferenceFrame.ICRS), stn_weights=[1.0, 1.0])], pss_beams=[], vlbi_beams=[])), Target(target_id='target-67890', name='M83', pointing_pattern=PointingPattern(active=PointingKind.SINGLE_POINT, parameters=[SinglePointParameters(kind=PointingKind.SINGLE_POINT, offset_x_arcsec=0.0, offset_y_arcsec=0.0)]), reference_coordinate=EquatorialCoordinates(ra=204.25382916666663, dec=-29.865761111111112, unit=('deg', 'deg'), frame=EquatorialCoordinatesReferenceFrame.ICRS), radial_velocity=RadialVelocity(quantity=<Quantity 0. km / s>, definition=RadialVelocityDefinition.RADIO, reference_frame=RadialVelocityReferenceFrame.LSRK, redshift=0.0), tied_array_beams=TiedArrayBeams(pst_beams=[Beam(beam_id=1, beam_coordinate=EquatorialCoordinates(ra=6.023624999999999, dec=-72.08128333333333, pm_ra=4.8, pm_dec=-3.3, unit=('deg', 'deg'), parallax=0.0, frame=EquatorialCoordinatesReferenceFrame.ICRS), stn_weights=[1.0, 1.0]), Beam(beam_id=2, beam_coordinate=EquatorialCoordinates(ra=6.025241666666667, dec=-72.08030222222222, pm_ra=6.1, pm_dec=-2.6, unit=('deg', 'deg'), parallax=0.0, frame=EquatorialCoordinatesReferenceFrame.ICRS), stn_weights=[1.0, 1.0])], pss_beams=[], vlbi_beams=[]))] scan_definitions=[ScanDefinition(scan_definition_id='calibrator scan', scan_duration_ms=datetime.timedelta(seconds=60), target_ref='target-12345', mccs_allocation_ref=None, dish_allocation_ref='dish-allocation-74519', scan_type_ref='calibration_B', csp_configuration_ref='csp-configuration-12345', scan_intent=None, pointing_correction=PointingCorrection.MAINTAIN), ScanDefinition(scan_definition_id='science scan', scan_duration_ms=datetime.timedelta(seconds=60), target_ref='target-67890', mccs_allocation_ref=None, dish_allocation_ref='dish-allocation-74519', scan_type_ref='science_A', csp_configuration_ref='csp-configuration-12345', scan_intent=None, pointing_correction=PointingCorrection.UPDATE)] scan_sequence=['calibrator scan', 'science scan', 'science scan', 'calibrator scan'] sdp_configuration=SDPConfiguration(execution_block=ExecutionBlock(eb_id='eb-mvp01-20200325-00001', max_length=100.0, context={'foo': 'bar', 'baz': 123}, beams=[Beam(beam_id='vis0', function=<BeamFunction.VISIBILITIES: 'visibilities'>, search_beam_id=None, timing_beam_id=None, vlbi_beam_id=None), Beam(beam_id='pst1', function=<BeamFunction.PULSAR_TIMING: 'pulsar timing'>, search_beam_id=None, timing_beam_id=1, vlbi_beam_id=None), Beam(beam_id='pst2', function=<BeamFunction.PULSAR_TIMING: 'pulsar timing'>, search_beam_id=None, timing_beam_id=2, vlbi_beam_id=None)], scan_types=[ScanType(scan_type_id='.default', derive_from=None, beams=[BeamMapping(beam_ref='vis0', field_ref=None, channels_ref='vis_channels', polarisations_ref='all'), BeamMapping(beam_ref='pst1', field_ref='M83', channels_ref='pulsar_channels', polarisations_ref='all'), BeamMapping(beam_ref='pst2', field_ref='Polaris Australis', channels_ref='pulsar_channels', polarisations_ref='all')]), ScanType(scan_type_id='.default', derive_from='.default', beams=[BeamMapping(beam_ref='vis0', field_ref='M83', channels_ref=None, polarisations_ref=None)])], channels=[Channels(channels_id='vis_channels', spectral_windows=[SpectralWindow(spectral_window_id='fsp_1_channels', count=744, start=0, freq_min=350000000.0, freq_max=368000000.0, stride=2, link_map=[(0, 0), (200, 1), (744, 2), (944, 3)]), SpectralWindow(spectral_window_id='fsp_2_channels', count=744, start=2000, freq_min=360000000.0, freq_max=368000000.0, stride=1, link_map=[(2000, 4), (2200, 5)]), SpectralWindow(spectral_window_id='zoom_window_1', count=744, start=4000, freq_min=360000000.0, freq_max=361000000.0, stride=1, link_map=[(4000, 6), (4200, 7)])]), Channels(channels_id='pulsar_channels', spectral_windows=[SpectralWindow(spectral_window_id='pulsar_fsp_channels', count=744, start=0, freq_min=350000000.0, freq_max=368000000.0, stride=None, link_map=[])])], polarisations=[Polarisation(polarisations_id='all', corr_type=['XX', 'XY', 'YY', 'YX'])]), resources=Resources(csp_links=[1, 2, 3, 4], receptors=['SKA063'], receive_nodes=10), processing_blocks=[ProcessingBlock(pb_id='pb-mvp01-20200325-00001', script=Script(name='vis_receive', kind=<ScriptKind.REALTIME: 'realtime'>, version='0.1.0'), sbi_refs=['sbi-mvp01-20200325-00001'], parameters={}, dependencies=[]), ProcessingBlock(pb_id='pb-mvp01-20200325-00002', script=Script(name='test_realtime', kind=<ScriptKind.REALTIME: 'realtime'>, version='0.1.0'), sbi_refs=['sbi-mvp01-20200325-00001'], parameters={}, dependencies=[]), ProcessingBlock(pb_id='pb-mvp01-20200325-00003', script=Script(name='ical', kind=<ScriptKind.BATCH: 'batch'>, version='0.1.0'), sbi_refs=['sbi-mvp01-20200325-00001'], parameters={}, dependencies=[PbDependency(pb_ref='pb-mvp01-20200325-00001', kind=['visibilities'])]), ProcessingBlock(pb_id='pb-mvp01-20200325-00004', script=Script(name='dpreb', kind=<ScriptKind.BATCH: 'batch'>, version='0.1.0'), sbi_refs=['sbi-mvp01-20200325-00001'], parameters={}, dependencies=[PbDependency(pb_ref='pb-mvp01-20200325-00003', kind=['calibration'])])]) csp_configurations=[CSPConfiguration(config_id='csp-configuration-12345', name='csp config 123', subarray=SubarrayConfiguration(subarray_name='science period 23'), common=CommonConfiguration(subarray_id=1, band_5_tuning=[5.85, 7.25]), cbf=CBFConfiguration(fsps=[FSPConfiguration(fsp_id=3, function_mode=<FSPFunctionMode.CORR: 'CORR'>, frequency_slice_id=3, integration_factor=1, zoom_factor=0, channel_averaging_map=[(0, 2), (744, 0)], output_link_map=[(0, 0), (200, 1)], channel_offset=0, zoom_window_tuning=None), FSPConfiguration(fsp_id=2, function_mode=<FSPFunctionMode.CORR: 'CORR'>, frequency_slice_id=2, integration_factor=1, zoom_factor=1, channel_averaging_map=[], output_link_map=[], channel_offset=None, zoom_window_tuning=650000)], vlbi=None), midcbf=MidCBFConfiguration(frequency_band=<ReceiverBand.BAND_1: '1'>, subbands=[Subband(band_5_tuning=12300000000.0, frequency_slice_offset=<Quantity 0. MHz>, correlation_spws=[CorrelationSPWConfiguration(spw_id=2, logical_fsp_ids=[0, 1], receptors=['SKA063', 'SKA001', 'SKA100'], zoom_factor=1, centre_frequency=800000000.0, number_of_channels=20000, channel_averaging_factor=<ChannelAveragingFactor.ONE: 1>, time_integration_factor=1)])]), lowcbf=None, pst=None, pss=None)] dish_allocations=DishAllocation(dish_allocation_id='dish-allocation-74519', selected_subarray_definition='AA0.5', dish_ids=frozenset({'SKA001', 'SKA063', 'SKA100', 'SKA036'})) mccs_allocation=None\n",
      "interface='https://schema.skao.int/ska-oso-pdm-sbd/0.1' sbd_id='sbi-t0001-20250125-00002' name=None description=None telescope=TelescopeType.SKA_MID metadata=Metadata(version=1, created_by='Liz Bartlett', created_on=datetime.datetime(2022, 3, 28, 15, 43, 53, 971548, tzinfo=TzInfo(UTC)), last_modified_by='Liz Bartlett', last_modified_on=datetime.datetime(2022, 3, 28, 15, 43, 53, 971548, tzinfo=TzInfo(UTC)), pdm_version='15.3.0') prj_ref=None activities={'allocate': FilesystemScript(function_args={'init': PythonArguments(args=['posarg1', 'posarg2'], kwargs={'argname': 'argval'}), 'main': PythonArguments(args=['posarg1', 'posarg2'], kwargs={'argname': 'argval'})}, kind=ScriptKind.FILESYSTEM, path='file:///path/to/allocatescript.py'), 'observe': GitScript(function_args={'init': PythonArguments(args=['posarg1', 'posarg2'], kwargs={'argname': 'argval'}), 'main': PythonArguments(args=['posarg1', 'posarg2'], kwargs={'argname': 'argval'})}, kind=ScriptKind.GIT, repo='https://gitlab.com/script_repo/operational_scripts', path='git://relative/path/to/scriptinsiderepo.py', branch='main', commit=None)} targets=[Target(target_id='target-12345', name='Polaris Australis', pointing_pattern=PointingPattern(active=PointingKind.FIVE_POINT, parameters=[FivePointParameters(kind=PointingKind.FIVE_POINT, offset_arcsec=5.0), RasterParameters(kind=PointingKind.RASTER, row_length_arcsec=1.23, row_offset_arcsec=4.56, n_rows=2, pa=7.89, unidirectional=True), StarRasterParameters(kind=PointingKind.STAR_RASTER, row_length_arcsec=1.23, n_rows=2, row_offset_angle=4.56, unidirectional=True)]), reference_coordinate=EquatorialCoordinates(ra=317.19966666666664, dec=-88.95636111111111, unit=('deg', 'deg'), frame=EquatorialCoordinatesReferenceFrame.ICRS), radial_velocity=RadialVelocity(quantity=<Quantity -12.345 km / s>, definition=RadialVelocityDefinition.OPTICAL, reference_frame=RadialVelocityReferenceFrame.LSRK, redshift=1.23), tied_array_beams=TiedArrayBeams(pst_beams=[Beam(beam_id=1, beam_coordinate=EquatorialCoordinates(ra=6.023624999999999, dec=-72.08128333333333, pm_ra=4.8, pm_dec=-3.3, unit=('deg', 'deg'), parallax=0.0, frame=EquatorialCoordinatesReferenceFrame.ICRS), stn_weights=[1.0, 1.0]), Beam(beam_id=2, beam_coordinate=EquatorialCoordinates(ra=6.025241666666667, dec=-72.08030222222222, pm_ra=6.1, pm_dec=-2.6, unit=('deg', 'deg'), parallax=0.0, frame=EquatorialCoordinatesReferenceFrame.ICRS), stn_weights=[1.0, 1.0])], pss_beams=[], vlbi_beams=[])), Target(target_id='target-67890', name='M83', pointing_pattern=PointingPattern(active=PointingKind.SINGLE_POINT, parameters=[SinglePointParameters(kind=PointingKind.SINGLE_POINT, offset_x_arcsec=0.0, offset_y_arcsec=0.0)]), reference_coordinate=EquatorialCoordinates(ra=204.25382916666663, dec=-29.865761111111112, unit=('deg', 'deg'), frame=EquatorialCoordinatesReferenceFrame.ICRS), radial_velocity=RadialVelocity(quantity=<Quantity 0. km / s>, definition=RadialVelocityDefinition.RADIO, reference_frame=RadialVelocityReferenceFrame.LSRK, redshift=0.0), tied_array_beams=TiedArrayBeams(pst_beams=[Beam(beam_id=1, beam_coordinate=EquatorialCoordinates(ra=6.023624999999999, dec=-72.08128333333333, pm_ra=4.8, pm_dec=-3.3, unit=('deg', 'deg'), parallax=0.0, frame=EquatorialCoordinatesReferenceFrame.ICRS), stn_weights=[1.0, 1.0]), Beam(beam_id=2, beam_coordinate=EquatorialCoordinates(ra=6.025241666666667, dec=-72.08030222222222, pm_ra=6.1, pm_dec=-2.6, unit=('deg', 'deg'), parallax=0.0, frame=EquatorialCoordinatesReferenceFrame.ICRS), stn_weights=[1.0, 1.0])], pss_beams=[], vlbi_beams=[]))] scan_definitions=[ScanDefinition(scan_definition_id='calibrator scan', scan_duration_ms=datetime.timedelta(seconds=60), target_ref='target-12345', mccs_allocation_ref=None, dish_allocation_ref='dish-allocation-74519', scan_type_ref='calibration_B', csp_configuration_ref='csp-configuration-12345', scan_intent=None, pointing_correction=PointingCorrection.MAINTAIN), ScanDefinition(scan_definition_id='science scan', scan_duration_ms=datetime.timedelta(seconds=60), target_ref='target-67890', mccs_allocation_ref=None, dish_allocation_ref='dish-allocation-74519', scan_type_ref='science_A', csp_configuration_ref='csp-configuration-12345', scan_intent=None, pointing_correction=PointingCorrection.UPDATE)] scan_sequence=['calibrator scan', 'science scan', 'science scan', 'calibrator scan'] sdp_configuration=SDPConfiguration(execution_block=ExecutionBlock(eb_id='eb-t0001-20250125-00001', max_length=100.0, context={'foo': 'bar', 'baz': 123}, beams=[Beam(beam_id='vis0', function=<BeamFunction.VISIBILITIES: 'visibilities'>, search_beam_id=None, timing_beam_id=None, vlbi_beam_id=None), Beam(beam_id='pst1', function=<BeamFunction.PULSAR_TIMING: 'pulsar timing'>, search_beam_id=None, timing_beam_id=1, vlbi_beam_id=None), Beam(beam_id='pst2', function=<BeamFunction.PULSAR_TIMING: 'pulsar timing'>, search_beam_id=None, timing_beam_id=2, vlbi_beam_id=None)], scan_types=[ScanType(scan_type_id='.default', derive_from=None, beams=[BeamMapping(beam_ref='vis0', field_ref=None, channels_ref='vis_channels', polarisations_ref='all'), BeamMapping(beam_ref='pst1', field_ref='M83', channels_ref='pulsar_channels', polarisations_ref='all'), BeamMapping(beam_ref='pst2', field_ref='Polaris Australis', channels_ref='pulsar_channels', polarisations_ref='all')]), ScanType(scan_type_id='.default', derive_from='.default', beams=[BeamMapping(beam_ref='vis0', field_ref='M83', channels_ref=None, polarisations_ref=None)])], channels=[Channels(channels_id='vis_channels', spectral_windows=[SpectralWindow(spectral_window_id='fsp_1_channels', count=744, start=0, freq_min=350000000.0, freq_max=368000000.0, stride=2, link_map=[(0, 0), (200, 1), (744, 2), (944, 3)]), SpectralWindow(spectral_window_id='fsp_2_channels', count=744, start=2000, freq_min=360000000.0, freq_max=368000000.0, stride=1, link_map=[(2000, 4), (2200, 5)]), SpectralWindow(spectral_window_id='zoom_window_1', count=744, start=4000, freq_min=360000000.0, freq_max=361000000.0, stride=1, link_map=[(4000, 6), (4200, 7)])]), Channels(channels_id='pulsar_channels', spectral_windows=[SpectralWindow(spectral_window_id='pulsar_fsp_channels', count=744, start=0, freq_min=350000000.0, freq_max=368000000.0, stride=None, link_map=[])])], polarisations=[Polarisation(polarisations_id='all', corr_type=['XX', 'XY', 'YY', 'YX'])]), resources=Resources(csp_links=[1, 2, 3, 4], receptors=['SKA063'], receive_nodes=10), processing_blocks=[ProcessingBlock(pb_id='pb-t0001-20250125-00003', script=Script(name='vis_receive', kind=<ScriptKind.REALTIME: 'realtime'>, version='0.1.0'), sbi_refs=['sbi-mvp01-20200325-00001', 'sbi-t0001-20250125-00002'], parameters={}, dependencies=[]), ProcessingBlock(pb_id='pb-t0001-20250125-00004', script=Script(name='test_realtime', kind=<ScriptKind.REALTIME: 'realtime'>, version='0.1.0'), sbi_refs=['sbi-mvp01-20200325-00001', 'sbi-t0001-20250125-00002'], parameters={}, dependencies=[]), ProcessingBlock(pb_id='pb-t0001-20250125-00005', script=Script(name='ical', kind=<ScriptKind.BATCH: 'batch'>, version='0.1.0'), sbi_refs=['sbi-mvp01-20200325-00001', 'sbi-t0001-20250125-00002'], parameters={}, dependencies=[PbDependency(pb_ref='pb-t0001-20250125-00003', kind=['visibilities'])]), ProcessingBlock(pb_id='pb-t0001-20250125-00006', script=Script(name='dpreb', kind=<ScriptKind.BATCH: 'batch'>, version='0.1.0'), sbi_refs=['sbi-mvp01-20200325-00001', 'sbi-t0001-20250125-00002'], parameters={}, dependencies=[PbDependency(pb_ref='pb-t0001-20250125-00005', kind=['calibration'])])]) csp_configurations=[CSPConfiguration(config_id='csp-configuration-12345', name='csp config 123', subarray=SubarrayConfiguration(subarray_name='science period 23'), common=CommonConfiguration(subarray_id=1, band_5_tuning=[5.85, 7.25]), cbf=CBFConfiguration(fsps=[FSPConfiguration(fsp_id=3, function_mode=<FSPFunctionMode.CORR: 'CORR'>, frequency_slice_id=3, integration_factor=1, zoom_factor=0, channel_averaging_map=[(0, 2), (744, 0)], output_link_map=[(0, 0), (200, 1)], channel_offset=0, zoom_window_tuning=None), FSPConfiguration(fsp_id=2, function_mode=<FSPFunctionMode.CORR: 'CORR'>, frequency_slice_id=2, integration_factor=1, zoom_factor=1, channel_averaging_map=[], output_link_map=[], channel_offset=None, zoom_window_tuning=650000)], vlbi=None), midcbf=MidCBFConfiguration(frequency_band=<ReceiverBand.BAND_1: '1'>, subbands=[Subband(band_5_tuning=12300000000.0, frequency_slice_offset=<Quantity 0. MHz>, correlation_spws=[CorrelationSPWConfiguration(spw_id=2, logical_fsp_ids=[0, 1], receptors=['SKA063', 'SKA001', 'SKA100'], zoom_factor=1, centre_frequency=800000000.0, number_of_channels=20000, channel_averaging_factor=<ChannelAveragingFactor.ONE: 1>, time_integration_factor=1)])]), lowcbf=None, pst=None, pss=None)] dish_allocations=DishAllocation(dish_allocation_id='dish-allocation-74519', selected_subarray_definition='AA0.5', dish_ids=frozenset({'SKA001', 'SKA063', 'SKA100', 'SKA036'})) mccs_allocation=None\n"
     ]
    }
   ],
   "source": [
    "print(sb)\n",
    "print(sbi)"
   ]
  },
  {
   "cell_type": "markdown",
   "metadata": {},
   "source": [
    "Using this, create the JSON for the scheduling block, subbing in the Kafka location, and validating it."
   ]
  },
  {
   "cell_type": "code",
   "execution_count": 31,
   "metadata": {},
   "outputs": [
    {
     "name": "stderr",
     "output_type": "stream",
     "text": [
      "/home/al097049_p/envs/notebook_env/lib/python3.10/site-packages/ska_oso_pdm/_shared/pdm_object.py:59: UserWarning: Pydantic serializer warnings:\n",
      "  PydanticSerializationUnexpectedValue: Unexpected Value\n",
      "  PydanticSerializationUnexpectedValue: Expected `str` but got `float64` with value `-12.345` - serialized value may not be as expected\n",
      "  dumped = default_serializer(self)\n",
      "/home/al097049_p/envs/notebook_env/lib/python3.10/site-packages/ska_oso_pdm/_shared/pdm_object.py:59: UserWarning: Pydantic serializer warnings:\n",
      "  PydanticSerializationUnexpectedValue: Unexpected Value\n",
      "  PydanticSerializationUnexpectedValue: Expected `str` but got `float64` with value `0.0` - serialized value may not be as expected\n",
      "  dumped = default_serializer(self)\n"
     ]
    }
   ],
   "source": [
    "sb_json = SBDefinition.model_dump_json(sbi)\n",
    "sb_json = sb_json.replace(\"<KAFKA_HOST>\", KAFKA_POD)"
   ]
  },
  {
   "cell_type": "code",
   "execution_count": 36,
   "metadata": {},
   "outputs": [],
   "source": [
    "sbi = SBDefinition.model_validate_json(sb_json)"
   ]
  },
  {
   "cell_type": "markdown",
   "metadata": {},
   "source": [
    "## 3 Running the Observation"
   ]
  },
  {
   "cell_type": "markdown",
   "metadata": {},
   "source": [
    "### 3.1 Assigning Resources"
   ]
  },
  {
   "cell_type": "markdown",
   "metadata": {},
   "source": [
    "Now, the resources can be assigned to the telescope, either via getting the resources from the scheduling block:"
   ]
  },
  {
   "cell_type": "code",
   "execution_count": null,
   "metadata": {},
   "outputs": [],
   "source": [
    "assign_requests = pdm_transforms.create_cdm_assign_resources_request_from_scheduling_block(\n",
    "    sub.id, sbi\n",
    ")"
   ]
  },
  {
   "cell_type": "code",
   "execution_count": null,
   "metadata": {},
   "outputs": [],
   "source": [
    "print(assign_requests)\n",
    "stripped_assign_requests = assign_requests\n",
    "stripped_assign_requests.interface = \"\"\n",
    "stripped_assign_requests.dish.receptor_ids = receptor_ids\n",
    "print(stripped_assign_requests)"
   ]
  },
  {
   "cell_type": "markdown",
   "metadata": {},
   "source": [
    "Now assign the resources to the subarray."
   ]
  },
  {
   "cell_type": "code",
   "execution_count": null,
   "metadata": {},
   "outputs": [],
   "source": [
    "sub.assign_from_cdm(stripped_assign_requests, timeout=1000)"
   ]
  },
  {
   "cell_type": "markdown",
   "metadata": {},
   "source": [
    "Check that the visibility pod spins up correctly, with the signal displays."
   ]
  },
  {
   "cell_type": "code",
   "execution_count": null,
   "metadata": {},
   "outputs": [],
   "source": [
    "!kubectl -n $namespace-sdp get pods | grep vis-receive"
   ]
  },
  {
   "cell_type": "markdown",
   "metadata": {},
   "source": [
    "<style>\n",
    "    .alert {\n",
    "        background-color: #1a1d21;\n",
    "        border-style: dotted;\n",
    "        border-color: #f0493e;\n",
    "        color: #d1d2d3;\n",
    "    }\n",
    "</style>\n",
    "<div class=\"alert\">\n",
    "    <h3>(BITE STEP) Starting LSTV Replay</h3>\n",
    "    If using BITE for data stream generation, the additional BITE notebook can be run at this point.\n",
    "</div>\n",
    "</body>"
   ]
  },
  {
   "cell_type": "markdown",
   "metadata": {},
   "source": [
    "### 3.3 Run the Scan(s)"
   ]
  },
  {
   "cell_type": "markdown",
   "metadata": {},
   "source": [
    "To start running the scans (or just one) first create the configuration request from the scheduling block:"
   ]
  },
  {
   "cell_type": "code",
   "execution_count": null,
   "metadata": {},
   "outputs": [],
   "source": [
    "scan_def_to_config_req_mapping = pdm_transforms.create_cdm_configure_request_from_scheduling_block(\n",
    "    sbi\n",
    ")"
   ]
  },
  {
   "cell_type": "markdown",
   "metadata": {},
   "source": [
    "#### Running a Single Scan"
   ]
  },
  {
   "cell_type": "markdown",
   "metadata": {},
   "source": [
    "For a single scan, load in part of the scan configuration just for that run, and send the configure commands to the subarray. Once this is complete, run the scan command itself. Using the scheduling block sets how long the scan will run, so it will finish by itself."
   ]
  },
  {
   "cell_type": "code",
   "execution_count": null,
   "metadata": {},
   "outputs": [],
   "source": [
    "print(scan_def_to_config_req_mapping)\n",
    "config_req = scan_def_to_config_req_mapping[\"science scan\"]\n",
    "print(config_req)\n",
    "sub.configure_from_cdm(config_req[0], timeout=500)\n",
    "sleep(5)\n",
    "sub.scan()"
   ]
  },
  {
   "cell_type": "markdown",
   "metadata": {},
   "source": [
    "#### Running Multiple Scans"
   ]
  },
  {
   "cell_type": "markdown",
   "metadata": {},
   "source": [
    "To run multiple scans, iterate over the scan sequence, and use the ids in it to define a request and then send it to the subarray."
   ]
  },
  {
   "cell_type": "code",
   "execution_count": null,
   "metadata": {},
   "outputs": [],
   "source": [
    "print(\"...\")\n",
    "print(scan_def_to_config_req_mapping)\n",
    "print(\"...\")\n",
    "for scan_def_id in sb.scan_sequence:\n",
    "    config_req = scan_def_to_config_req_mapping[scan_def_id]\n",
    "    print(config_req)\n",
    "    print(\"--------------\")\n",
    "    for request in config_req:\n",
    "        sub.configure_from_cdm(request, timeout=500)\n",
    "        sleep(2)\n",
    "        sub.scan()"
   ]
  },
  {
   "cell_type": "markdown",
   "metadata": {},
   "source": [
    "## 4 Cleanup"
   ]
  },
  {
   "cell_type": "markdown",
   "metadata": {},
   "source": [
    "<style>\n",
    "    .alert {\n",
    "        background-color: #1a1d21;\n",
    "        border-style: dotted;\n",
    "        border-color: #f0493e;\n",
    "        color: #d1d2d3;\n",
    "    }\n",
    "</style>\n",
    "<div class=\"alert\">\n",
    "    <h3>(BITE STEP) Stopping LSTV Replay</h3>\n",
    "    Now with the initial (or only) scan done, if using BITE, run step 5 in the BITE notebook to stop the LSTV Replay.\n",
    "</div>\n",
    "</body>"
   ]
  },
  {
   "cell_type": "markdown",
   "metadata": {},
   "source": [
    "Once the scans are done, clear out the configuration from the subarray by sending the END command, followed by releasing the resources it used:"
   ]
  },
  {
   "cell_type": "code",
   "execution_count": null,
   "metadata": {},
   "outputs": [],
   "source": [
    "sub.end()\n",
    "sleep(10)\n",
    "sub.release()"
   ]
  },
  {
   "cell_type": "markdown",
   "metadata": {},
   "source": [
    "The telescope can now be turned off."
   ]
  },
  {
   "cell_type": "code",
   "execution_count": null,
   "metadata": {},
   "outputs": [],
   "source": [
    "tel.off()"
   ]
  }
 ],
 "metadata": {
  "kernelspec": {
   "display_name": "notebook_env",
   "language": "python",
   "name": "python3"
  },
  "language_info": {
   "codemirror_mode": {
    "name": "ipython",
    "version": 3
   },
   "file_extension": ".py",
   "mimetype": "text/x-python",
   "name": "python",
   "nbconvert_exporter": "python",
   "pygments_lexer": "ipython3",
   "version": "3.10.16"
  }
 },
 "nbformat": 4,
 "nbformat_minor": 2
}
