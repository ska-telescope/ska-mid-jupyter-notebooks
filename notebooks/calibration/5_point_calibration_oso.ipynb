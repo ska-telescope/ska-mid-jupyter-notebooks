{
 "cells": [
  {
   "cell_type": "markdown",
   "metadata": {},
   "source": [
    "# Running a 5-Point Calibration Scan With OSO"
   ]
  },
  {
   "cell_type": "markdown",
   "metadata": {},
   "source": [
    "This notebook adapts the Five Point Calibration Scan notebook to work with PSI. Running this notebook requires that a PSI namespace be spun up with `DISH_LMC_ENABLED` set to true.\n",
    "\n",
    "This notebook can be Run with BITE or SPFRx, with BITE requiring the optional BITE notebook to be run. "
   ]
  },
  {
   "cell_type": "markdown",
   "metadata": {},
   "source": [
    "###  For using BITE"
   ]
  },
  {
   "cell_type": "markdown",
   "metadata": {},
   "source": [
    " BITE Functionality has been spun out to a separate notebook, which should be referred to when needed. These sections are labeled as BITE STEP."
   ]
  },
  {
   "cell_type": "markdown",
   "metadata": {},
   "source": [
    "## 1 Setup "
   ]
  },
  {
   "cell_type": "markdown",
   "metadata": {},
   "source": [
    "### 1.1 Environment Setup"
   ]
  },
  {
   "cell_type": "markdown",
   "metadata": {},
   "source": [
    "Start by importing all the libraries needed to run this notebook, including local ones."
   ]
  },
  {
   "cell_type": "code",
   "execution_count": null,
   "metadata": {},
   "outputs": [],
   "source": [
    "import re\n",
    "import sys\n",
    "\n",
    "sys.path.append(\"../../src\")\n",
    "\n",
    "import json\n",
    "import os\n",
    "from time import sleep\n",
    "\n",
    "from IPython.display import clear_output\n",
    "from ska_oso_pdm import SBDefinition\n",
    "from ska_oso_scripting import oda_helper\n",
    "from ska_oso_scripting.functions import pdm_transforms\n",
    "from ska_oso_scripting.functions.sb import create_sbi, load_sbd\n",
    "from ska_oso_scripting.objects import SubArray, Telescope\n",
    "from tango import DevFailed, DeviceProxy"
   ]
  },
  {
   "cell_type": "markdown",
   "metadata": {},
   "source": [
    "### 1.2 Set Variables"
   ]
  },
  {
   "cell_type": "markdown",
   "metadata": {},
   "source": [
    "First, grab the namespace launched from the pipeline:"
   ]
  },
  {
   "cell_type": "code",
   "execution_count": null,
   "metadata": {},
   "outputs": [],
   "source": [
    "!kubectl get ns | grep ska-mid-psi "
   ]
  },
  {
   "cell_type": "markdown",
   "metadata": {},
   "source": [
    "And load it into the variables for the notebook:"
   ]
  },
  {
   "cell_type": "code",
   "execution_count": null,
   "metadata": {},
   "outputs": [],
   "source": [
    "namespace = \"ci-ska-mid-psi-1453068847-alexschell\"  # set to desired NS\n",
    "simulation_mode = 0  # set to 1 to run in sim mode\n",
    "target_boards_list = [3]  # assign boards\n",
    "scheduling_block_definition = \"mid_5_point_sb.json\"  # SB def file in data/scheduling_block to use\n",
    "server = \"ska-sdp-kafka.\" + namespace + \".svc.cluster.local:9092\"\n",
    "subarray_id = 1"
   ]
  },
  {
   "cell_type": "markdown",
   "metadata": {},
   "source": [
    "With the namespace set, use these links to monitor the system as the notebook is worked through"
   ]
  },
  {
   "cell_type": "code",
   "execution_count": null,
   "metadata": {},
   "outputs": [],
   "source": [
    "print(\"Monitor signal received by the vis pod:\")\n",
    "print(f\"https://142.73.34.170/{namespace}/signal/display/\")\n",
    "print(\"Dashboard for monitoring device status:\")\n",
    "print(f\"https://142.73.34.170/{namespace}/taranta/dashboard?id=666cb28b5e5d4f0012197e5f&mode=run\")\n",
    "print(\"Dashboard for monitoring TMC status:\")\n",
    "print(f\"https://142.73.34.170/{namespace}/taranta/dashboard?id=669ea8e32bc4790019e64bba&mode=run\")\n",
    "print(\"PgAdmin interface to monitor the databases and ensure SB/EB are properly set in them\")\n",
    "print(f\"https://142.73.34.170/{namespace}/pgadmin4/browser/\")"
   ]
  },
  {
   "cell_type": "markdown",
   "metadata": {},
   "source": [
    "Get the SKUID pod:"
   ]
  },
  {
   "cell_type": "code",
   "execution_count": null,
   "metadata": {},
   "outputs": [],
   "source": [
    "!kubectl get svc -n $namespace | grep skuid\n",
    "!kubectl get svc -n $namespace | grep kafka"
   ]
  },
  {
   "cell_type": "markdown",
   "metadata": {},
   "source": [
    "And set the id value based on the name of this pod:"
   ]
  },
  {
   "cell_type": "code",
   "execution_count": null,
   "metadata": {},
   "outputs": [],
   "source": [
    "skuid_id = \"ska-ser-skuid-test-1406480615-svc\"\n",
    "kafka_id = \"ska-sdp-kafka\""
   ]
  },
  {
   "cell_type": "markdown",
   "metadata": {},
   "source": [
    "As a work around step for SKUID pod access, get the IP from the pod, get the IP address of the SKUID pod then set that as our access url:"
   ]
  },
  {
   "cell_type": "code",
   "execution_count": null,
   "metadata": {},
   "outputs": [],
   "source": [
    "skuid_name = !kubectl -n $namespace get pods | grep ska-ser-skuid-test\n",
    "skuid_name = skuid_name[0].split()[0]\n",
    "print(skuid_name)\n",
    "extracted_ip = !kubectl -n $namespace describe pod $skuid_name | grep ips -A 1\n",
    "ip = re.search(\"[0-9]{0,3}\\.[0-9]{0,3}\\.[0-9]{0,3}\\.[0-9]{0,3}\", str(extracted_ip))\n",
    "print(ip.group(0))\n",
    "\n",
    "kafka_name = !kubectl -n $namespace get pods | grep ska-sdp-kafka\n",
    "kafka_name = kafka_name[0].split()[0]\n",
    "print(kafka_name)\n",
    "extracted_kafka_ip = !kubectl -n $namespace describe pod $kafka_name | grep ips -A 1\n",
    "kafka_ip = re.search(\"[0-9]{0,3}\\.[0-9]{0,3}\\.[0-9]{0,3}\\.[0-9]{0,3}\", str(extracted_kafka_ip))\n",
    "print(kafka_ip.group(0))"
   ]
  },
  {
   "cell_type": "markdown",
   "metadata": {},
   "source": [
    "Copy the IP from this store it to be written later:"
   ]
  },
  {
   "cell_type": "code",
   "execution_count": null,
   "metadata": {},
   "outputs": [],
   "source": [
    "SKUID_POD = ip.group(0) + \":9870\"\n",
    "KAFKA_POD = kafka_ip.group(0) + \":9092\""
   ]
  },
  {
   "cell_type": "markdown",
   "metadata": {},
   "source": [
    "Next, load all the other vars the notebook will use. These should not need to be changed for this run."
   ]
  },
  {
   "cell_type": "code",
   "execution_count": null,
   "metadata": {},
   "outputs": [],
   "source": [
    "# Tango host environment variable\n",
    "TANGO_HOST = \"databaseds-tango-base.\" + namespace + \".svc.cluster.local:10000\"\n",
    "# Don't use for now...\n",
    "# SKUID_POD = skuid_id + \".\" + namespace + \".svc.cluster.local:5004\"\n",
    "\n",
    "# Parent directory to use to grab config files.\n",
    "DATA_DIR = os.path.join(os.path.dirname(os.path.dirname(os.getcwd())), \"data\")\n",
    "# Config file directories\n",
    "COMMON_CONFIG = os.path.join(DATA_DIR, \"mid_telescope/cbf\")\n",
    "HW_CONFIG = os.path.join(DATA_DIR, \"mid_telescope/cbf/hw_config\")\n",
    "SB_DIR = os.path.join(DATA_DIR, \"scheduling_block\")\n",
    "\n",
    "# For mapping the talon boards to receptor\n",
    "RECEPTOR_MAP = [\"SKA001\", \"SKA036\", \"SKA063\", \"SKA100\"]"
   ]
  },
  {
   "cell_type": "markdown",
   "metadata": {},
   "source": [
    "Next, set the environment arg for TANGO HOST, SKUID_POD and KAFKA, along with the oda API service endpoint:"
   ]
  },
  {
   "cell_type": "code",
   "execution_count": null,
   "metadata": {},
   "outputs": [],
   "source": [
    "os.environ[\"TANGO_HOST\"] = TANGO_HOST\n",
    "os.environ[\"SKUID_URL\"] = SKUID_POD\n",
    "os.environ[\"ODA_URL\"] = f\"http://142.73.34.170/{namespace}/oda/api/v6/\"\n",
    "os.environ[\"telescope\"] = \"mid\"\n",
    "print(\"SKUID service set to: \", os.environ[\"SKUID_URL\"])\n",
    "print(\"TANGO_HOST set to:\", os.environ[\"TANGO_HOST\"])\n",
    "print(\"ODA endpoint set to:{}\".format(os.environ[\"ODA_URL\"]))\n",
    "print(\"This can be checked via {}ui\".format(os.environ[\"ODA_URL\"]))"
   ]
  },
  {
   "cell_type": "markdown",
   "metadata": {},
   "source": [
    "With all the file paths defined the JSON files can be loaded in and checked."
   ]
  },
  {
   "cell_type": "code",
   "execution_count": null,
   "metadata": {},
   "outputs": [],
   "source": [
    "print(\"Getting files...\")\n",
    "\n",
    "DISH_CONFIG_FILE = f\"{COMMON_CONFIG}/sys_params/load_dish_config.json\"\n",
    "SB_FILE = os.path.join(SB_DIR, scheduling_block_definition)\n",
    "\n",
    "SCAN_COMBOS = [[0.0, 5.0], [0.0, -5.0], [5.0, 0.0], [-5.0, 0.0]]\n",
    "\n",
    "files = [\n",
    "    DISH_CONFIG_FILE,\n",
    "    SB_FILE,\n",
    "]\n",
    "\n",
    "for file in files:\n",
    "    if os.path.isfile(file):\n",
    "        print(f\"{file} exists: ✔️\")\n",
    "    else:\n",
    "        print(f\"{file} does not exist ❌\")"
   ]
  },
  {
   "cell_type": "markdown",
   "metadata": {},
   "source": [
    "Next, set up the hw config to match the boards in use:"
   ]
  },
  {
   "cell_type": "code",
   "execution_count": null,
   "metadata": {},
   "outputs": [],
   "source": [
    "if any(i > 4 for i in target_boards_list):\n",
    "    print(\"Using swap for higher number talons\")\n",
    "    config = \"hw_config_swap_psi.yaml\"\n",
    "    print(\"Modifying target to use lower nums to match swap file\")\n",
    "    target_boards_list = list(map(lambda x: x - 4, target_boards_list))\n",
    "\n",
    "else:\n",
    "    print(\"Using standard HW config\")\n",
    "    config = \"hw_config_psi.yaml\"\n",
    "\n",
    "HW_CONFIG_FILE = os.path.join(HW_CONFIG, config)\n",
    "if os.path.isfile(HW_CONFIG_FILE):\n",
    "    print(\"HW config: ✔️\")\n",
    "else:\n",
    "    print(\"hw config: ❌\")\n",
    "\n",
    "receptor_ids = list(map(lambda x: RECEPTOR_MAP[x - 1], target_boards_list))"
   ]
  },
  {
   "cell_type": "markdown",
   "metadata": {},
   "source": [
    "If the HW config file exists, it is loaded into the pod:"
   ]
  },
  {
   "cell_type": "code",
   "execution_count": null,
   "metadata": {},
   "outputs": [],
   "source": [
    "!kubectl cp $HW_CONFIG_FILE $namespace/ds-cbfcontroller-controller-0:/app/mnt/hw_config/hw_config.yaml "
   ]
  },
  {
   "cell_type": "markdown",
   "metadata": {},
   "source": [
    "<style>\n",
    "    .alert {\n",
    "        background-color: #1a1d21;\n",
    "        border-style: dotted;\n",
    "        border-color: #f0493e;\n",
    "        color: #d1d2d3;\n",
    "    }\n",
    "</style>\n",
    "<div class=\"alert\">\n",
    "    <h3>(BITE STEP) Set Variables in the BITE Notebook</h3>\n",
    "    If running the BITE notebook, at this point ensure the variables in step 1.2 are set, and match the ones set here.\n",
    "</div>\n",
    "</body>"
   ]
  },
  {
   "cell_type": "markdown",
   "metadata": {},
   "source": [
    "### 1.3 Create Device Proxies"
   ]
  },
  {
   "cell_type": "markdown",
   "metadata": {},
   "source": [
    "With the pod spun up, create device proxies to the devices used and check the connection to them."
   ]
  },
  {
   "cell_type": "code",
   "execution_count": null,
   "metadata": {},
   "outputs": [],
   "source": [
    "# CSP Devices\n",
    "csp_controller = DeviceProxy(\"mid-csp/control/0\")\n",
    "print(f\"CSP Controller: {csp_controller.Status()}\")\n",
    "\n",
    "# TMC Devices\n",
    "tmc_central_node = DeviceProxy(\"ska_mid/tm_central/central_node\")\n",
    "print(f\"Central Node: {tmc_central_node.Status()}\")\n",
    "tmc_subarray = DeviceProxy(\"ska_mid/tm_subarray_node/1\")\n",
    "print(f\"TMC subarray Node: {tmc_subarray.Status()}\")\n",
    "\n",
    "# For checking leaf node\n",
    "leaf_node_master = DeviceProxy(\"ska_mid/tm_leaf_node/csp_master\")\n",
    "\n",
    "# Deployer for setup and BITE for data mocking\n",
    "deployer = DeviceProxy(\"mid_csp_cbf/ec/deployer\")\n",
    "\n",
    "# CBF Device\n",
    "cbf_subarray = DeviceProxy(\"mid_csp_cbf/sub_elt/subarray_01\")\n",
    "print(f\"CBF subarray: {cbf_subarray.Status()}\")"
   ]
  },
  {
   "cell_type": "markdown",
   "metadata": {},
   "source": [
    "### 1.4 Downloading Requirements via the Deployer"
   ]
  },
  {
   "cell_type": "markdown",
   "metadata": {},
   "source": [
    "First, set the board to deploy to and turn on the deployer device."
   ]
  },
  {
   "cell_type": "code",
   "execution_count": null,
   "metadata": {},
   "outputs": [],
   "source": [
    "deployer.targetTalons = target_boards_list\n",
    "print(\"Deployer will target board:\", deployer.targetTalons)\n",
    "deployer.generate_config_jsons()"
   ]
  },
  {
   "cell_type": "markdown",
   "metadata": {},
   "source": [
    "Once started and configured, the required devices can then be downloaded."
   ]
  },
  {
   "cell_type": "code",
   "execution_count": null,
   "metadata": {},
   "outputs": [],
   "source": [
    "deployer.set_timeout_millis(400000)\n",
    "try:\n",
    "    deployer.download_artifacts()\n",
    "except DevFailed as e:\n",
    "    print(e)\n",
    "    print(\n",
    "        \"Timed out, this is likely due to the download taking some time. Check the logs with the code space below after some time to see if it passes.\"\n",
    "    )\n",
    "deployer.set_timeout_millis(3000)"
   ]
  },
  {
   "cell_type": "markdown",
   "metadata": {},
   "source": [
    "Now configure the device database with the downloaded devices:"
   ]
  },
  {
   "cell_type": "code",
   "execution_count": null,
   "metadata": {},
   "outputs": [],
   "source": [
    "deployer.configure_db()"
   ]
  },
  {
   "cell_type": "markdown",
   "metadata": {},
   "source": [
    "### 1.5 Set up Execution Block"
   ]
  },
  {
   "cell_type": "markdown",
   "metadata": {},
   "source": [
    "The first step is to generate an empty Execution Block, using the helper scripts to work with the API endpoint:"
   ]
  },
  {
   "cell_type": "code",
   "execution_count": 61,
   "metadata": {},
   "outputs": [
    {
     "name": "stdout",
     "output_type": "stream",
     "text": [
      "eb-t0001-20240913-00025\n"
     ]
    }
   ],
   "source": [
    "exec_block_id = oda_helper.create_eb(telescope=\"ska_mid\")\n",
    "print(exec_block_id)"
   ]
  },
  {
   "cell_type": "code",
   "execution_count": 62,
   "metadata": {},
   "outputs": [
    {
     "name": "stdout",
     "output_type": "stream",
     "text": [
      "eb-t0001-20240913-00026\n"
     ]
    }
   ],
   "source": [
    "exec_block_id_2 = oda_helper.create_eb(telescope=\"ska_mid\")\n",
    "print(exec_block_id_2)"
   ]
  },
  {
   "cell_type": "markdown",
   "metadata": {},
   "source": [
    "## 2 Preparing Telescope"
   ]
  },
  {
   "cell_type": "markdown",
   "metadata": {},
   "source": [
    "Start by setting the admin modes to allow for control of the telescope:"
   ]
  },
  {
   "cell_type": "code",
   "execution_count": null,
   "metadata": {},
   "outputs": [],
   "source": [
    "csp_controller.write_attribute(\"adminMode\", 0)\n",
    "tmc_central_node.write_attribute(\"adminMode\", 0)\n",
    "# Set CBF Simulation mode to false and CBF timeout to 99s\n",
    "sleep(2)\n",
    "csp_controller.cbfSimulationMode = simulation_mode\n",
    "csp_controller.commandTimeout = 99"
   ]
  },
  {
   "cell_type": "markdown",
   "metadata": {},
   "source": [
    "Ensure that these are set correctly, admin mode should be 0 (online) and cbfSimulationMode should be FALSE unless running in sim mode is desired."
   ]
  },
  {
   "cell_type": "code",
   "execution_count": null,
   "metadata": {},
   "outputs": [],
   "source": [
    "print(csp_controller.adminMode)\n",
    "print(tmc_central_node.adminMode)\n",
    "print(csp_controller.cbfSimulationMode)"
   ]
  },
  {
   "cell_type": "markdown",
   "metadata": {},
   "source": [
    "Start by loading in the VCC config (this step may need to be re-run):"
   ]
  },
  {
   "cell_type": "code",
   "execution_count": null,
   "metadata": {},
   "outputs": [],
   "source": [
    "with open(DISH_CONFIG_FILE, encoding=\"utf-8\") as f:\n",
    "    dish_config_json = json.load(f)\n",
    "\n",
    "dish_config_json[\"tm_data_sources\"][\n",
    "    0\n",
    "] = \"car://gitlab.com/ska-telescope/ska-telmodel-data?0.1.0-rc-mid-itf#tmdata\"\n",
    "dish_config_json[\"tm_data_filepath\"] = \"instrument/ska1_mid_itf/ska-mid-cbf-system-parameters.json\"\n",
    "\n",
    "print(f\"dish_config_json file contents: \\n{dish_config_json}\")\n",
    "tmc_central_node.LoadDishCfg(json.dumps(dish_config_json))\n",
    "# Wait for dishvcc to be loaded...\n",
    "wait_seconds = 0\n",
    "while not tmc_central_node.isDishVccConfigSet:\n",
    "    clear_output(wait=True)\n",
    "    print(f\"Waiting for DishVCC to be set, {wait_seconds} seconds elapsed...\")\n",
    "    sleep(2)\n",
    "    wait_seconds += 2\n",
    "\n",
    "clear_output(wait=True)\n",
    "print(\"DishVCC has been set!\")\n",
    "print(f\"TMC CSP Master's Dish Vcc Config attribute value: \\n{leaf_node_master.dishVccConfig}\")\n",
    "print(\n",
    "    f\"\\nTMC CSP Master's Source Dish Vcc Config attribute value: \\n{leaf_node_master.sourceDishVccConfig}\"\n",
    ")"
   ]
  },
  {
   "cell_type": "markdown",
   "metadata": {},
   "source": [
    "<style>\n",
    "    .alert {\n",
    "        background-color: #1a1d21;\n",
    "        border-style: dotted;\n",
    "        border-color: #f0493e;\n",
    "        color: #d1d2d3;\n",
    "    }\n",
    "</style>\n",
    "<div class=\"alert\">\n",
    "    <h3>(BITE STEP) Load In BITE Config Data</h3>\n",
    "    Now, if required, the BITE configuration data can be loaded in using the BITE notebook.\n",
    "</div>\n",
    "</body>"
   ]
  },
  {
   "cell_type": "markdown",
   "metadata": {},
   "source": [
    "Set up the objects for controlling the telescope and subarray via OSO:"
   ]
  },
  {
   "cell_type": "code",
   "execution_count": null,
   "metadata": {},
   "outputs": [],
   "source": [
    "sub = SubArray(subarray_id)\n",
    "tel = Telescope()"
   ]
  },
  {
   "cell_type": "markdown",
   "metadata": {},
   "source": [
    "Now, while monitoring the Taranta dashboard, send the ON command to the telescope and monitor that the LURs Controller and subarrays come on (occasionally the ON command may not finish when everything has started):"
   ]
  },
  {
   "cell_type": "code",
   "execution_count": null,
   "metadata": {},
   "outputs": [],
   "source": [
    "tel.on()"
   ]
  },
  {
   "cell_type": "markdown",
   "metadata": {},
   "source": [
    "<style>\n",
    "    .alert {\n",
    "        background-color: #1a1d21;\n",
    "        border-style: dotted;\n",
    "        border-color: #f0493e;\n",
    "        color: #d1d2d3;\n",
    "    }\n",
    "</style>\n",
    "<div class=\"alert\">\n",
    "    <h3>(BITE STEP) Generate BITE Data</h3>\n",
    "    With the telescope on, section 3 of the BITE notebook can be run, to generate the BITE data that will be used during the LSTV replay.\n",
    "</div>\n",
    "</body>"
   ]
  },
  {
   "cell_type": "markdown",
   "metadata": {},
   "source": [
    "### 2.1 Define Scheduling Block"
   ]
  },
  {
   "cell_type": "markdown",
   "metadata": {},
   "source": [
    "Temporary work around for ingress issues:"
   ]
  },
  {
   "cell_type": "code",
   "execution_count": null,
   "metadata": {},
   "outputs": [],
   "source": [
    "os.environ[\"SKUID_URL\"] = SKUID_POD\n",
    "print(\"SKUID service set to: \", os.environ[\"SKUID_URL\"])"
   ]
  },
  {
   "cell_type": "markdown",
   "metadata": {},
   "source": [
    "Now, use the SKUID service to generate processing and execution block IDs from the scheduling block definition."
   ]
  },
  {
   "cell_type": "code",
   "execution_count": 63,
   "metadata": {},
   "outputs": [
    {
     "name": "stdout",
     "output_type": "stream",
     "text": [
      "1|2024-09-13T21:59:21.763Z|INFO|MainThread|create_sbi|sb.py#28||New SBI ID mapping: sbi-mvp01-20200325-00001 -> sbi-t0001-20240913-00027\n",
      "1|2024-09-13T21:59:21.767Z|INFO|MainThread|create_sbi|sb.py#41||New PB ID mapping: pb-test-20211111-00000 -> pb-t0001-20240913-00028\n",
      "1|2024-09-13T21:59:21.768Z|INFO|MainThread|create_sbi|sb.py#41||New PB ID mapping: pb-test-20211111-00001 -> pb-t0001-20240913-00029\n"
     ]
    }
   ],
   "source": [
    "sb = load_sbd(SB_FILE)\n",
    "# Configure sb items for current board:\n",
    "sb.sdp_configuration.resources.receptors = receptor_ids\n",
    "sb.dish_allocations.receptor_ids = receptor_ids\n",
    "# for now run with 1 fsp\n",
    "sb.csp_configurations[0].cbf.fsps[0].fsp_id = target_boards_list[0]\n",
    "sb.csp_configurations[0].cbf.fsps[0].frequency_slice_id = target_boards_list[0]\n",
    "\n",
    "sbi = create_sbi(sb)\n",
    "\n",
    "sbi.sdp_configuration.execution_block.eb_id = exec_block_id"
   ]
  },
  {
   "cell_type": "code",
   "execution_count": 64,
   "metadata": {},
   "outputs": [],
   "source": [
    "SB_FILE_2 = os.path.join(SB_DIR, \"mid_5_point_sb_2.json\")"
   ]
  },
  {
   "cell_type": "code",
   "execution_count": 65,
   "metadata": {},
   "outputs": [
    {
     "name": "stdout",
     "output_type": "stream",
     "text": [
      "1|2024-09-13T21:59:28.855Z|INFO|MainThread|create_sbi|sb.py#28||New SBI ID mapping: sbi-mvp01-20200325-00002 -> sbi-t0001-20240913-00031\n",
      "1|2024-09-13T21:59:28.861Z|INFO|MainThread|create_sbi|sb.py#41||New PB ID mapping: pb-test-20211111-00002 -> pb-t0001-20240913-00033\n"
     ]
    }
   ],
   "source": [
    "sb_2 = load_sbd(SB_FILE_2)\n",
    "# Configure sb items for current board:\n",
    "sb_2.sdp_configuration.resources.receptors = receptor_ids\n",
    "sb_2.dish_allocations.receptor_ids = receptor_ids\n",
    "# for now run with 1 fsp\n",
    "sb_2.csp_configurations[0].cbf.fsps[0].fsp_id = target_boards_list[0]\n",
    "sb_2.csp_configurations[0].cbf.fsps[0].frequency_slice_id = target_boards_list[0]\n",
    "\n",
    "sbi_2 = create_sbi(sb_2)\n",
    "\n",
    "sbi_2.sdp_configuration.execution_block.eb_id = exec_block_id_2"
   ]
  },
  {
   "cell_type": "code",
   "execution_count": 66,
   "metadata": {},
   "outputs": [
    {
     "name": "stdout",
     "output_type": "stream",
     "text": [
      "interface='https://schema.skao.int/ska-oso-pdm-sbd/0.1' sbd_id='sbi-mvp01-20200325-00001' name=None description=None telescope=TelescopeType.SKA_MID metadata=Metadata(version=1, created_by='Liz Bartlett', created_on=datetime.datetime(2022, 3, 28, 15, 43, 53, 971548, tzinfo=TzInfo(UTC)), last_modified_by='Liz Bartlett', last_modified_on=datetime.datetime(2023, 11, 15, 10, 45, 3, 313536, tzinfo=TzInfo(UTC))) prj_ref=None activities={'observe': GitScript(function_args={'init': PythonArguments(args=[], kwargs={'subarray_id': 1}), 'main': PythonArguments(args=[], kwargs={})}, kind=ScriptKind.GIT, repo='https://gitlab.com/ska-telescope/oso/ska-oso-scripting', path='git://scripts/test_example_mid_script.py', branch='master', commit=None)} targets=[Target(target_id='Polaris Australis', pointing_pattern=PointingPattern(active=PointingKind.FIVE_POINT, parameters=[FivePointParameters(kind=PointingKind.FIVE_POINT, offset_arcsec=5.0), RasterParameters(kind=PointingKind.RASTER, row_length_arcsec=1.23, row_offset_arcsec=4.56, n_rows=2, pa=7.89, unidirectional=True), StarRasterParameters(kind=PointingKind.STAR_RASTER, row_length_arcsec=1.23, n_rows=2, row_offset_angle=4.56, unidirectional=True)]), reference_coordinate=EquatorialCoordinates(ra=317.19966666666664, dec=-88.95636111111111, unit=('deg', 'deg'), frame=EquatorialCoordinatesReferenceFrame.ICRS), radial_velocity=RadialVelocity(quantity=<Quantity 0. km / s>, definition=RadialVelocityDefinition.RADIO, reference_frame=RadialVelocityReferenceFrame.LSRK, redshift=0.0)), Target(target_id='M83', pointing_pattern=PointingPattern(active=PointingKind.SINGLE_POINT, parameters=[SinglePointParameters(kind=PointingKind.SINGLE_POINT, offset_x_arcsec=0.0, offset_y_arcsec=0.0)]), reference_coordinate=EquatorialCoordinates(ra=204.25382916666663, dec=-29.865761111111112, unit=('deg', 'deg'), frame=EquatorialCoordinatesReferenceFrame.ICRS), radial_velocity=RadialVelocity(quantity=<Quantity 0. km / s>, definition=RadialVelocityDefinition.RADIO, reference_frame=RadialVelocityReferenceFrame.LSRK, redshift=0.0))] scan_definitions=[ScanDefinition(scan_definition_id='calibrator scan', scan_duration_ms=datetime.timedelta(seconds=180), target_ref='M83', mccs_configuration_ref=None, dish_configuration_ref='dish config 123', scan_type_ref='pointing', csp_configuration_ref='csp config 123', scan_intent=None, pointing_correction=PointingCorrection.MAINTAIN), ScanDefinition(scan_definition_id='science scan', scan_duration_ms=datetime.timedelta(seconds=180), target_ref='Polaris Australis', mccs_configuration_ref=None, dish_configuration_ref='dish config 123', scan_type_ref='science', csp_configuration_ref='csp config 123', scan_intent=None, pointing_correction=PointingCorrection.MAINTAIN)] scan_sequence=['calibrator scan', 'science scan', 'science scan', 'calibrator scan'] sdp_configuration=SDPConfiguration(execution_block=ExecutionBlock(eb_id='eb-mvp01-20200325-00001', max_length=21600.0, context={}, beams=[Beam(beam_id='vis0', function=<BeamFunction.VISIBILITIES: 'visibilities'>, search_beam_id=None, timing_beam_id=None, vlbi_beam_id=None)], scan_types=[ScanType(scan_type_id='.default', derive_from=None, beams=[BeamMapping(beam_ref='vis0', field_ref=None, channels_ref='vis_channels', polarisations_ref='all')]), ScanType(scan_type_id='pointing', derive_from='.default', beams=[BeamMapping(beam_ref='vis0', field_ref='M83', channels_ref=None, polarisations_ref=None)]), ScanType(scan_type_id='science', derive_from='.default', beams=[BeamMapping(beam_ref='vis0', field_ref='Polaris Australis', channels_ref=None, polarisations_ref=None)])], channels=[Channels(channels_id='vis_channels', spectral_windows=[SpectralWindow(spectral_window_id='fsp_1_channels', count=14880, start=0, freq_min=269000000.0, freq_max=469000000.0, stride=1, link_map=[(0, 0), (200, 1), (744, 2), (944, 3)])])], polarisations=[Polarisation(polarisations_id='all', corr_type=['XX', 'XY', 'YX', 'YY'])]), resources=Resources(csp_links=[], receptors=['SKA001'], receive_nodes=1), processing_blocks=[ProcessingBlock(pb_id='pb-test-20211111-00000', script=Script(name='pointing-offset', kind=<ScriptKind.REALTIME: 'realtime'>, version='0.5.0'), sbi_refs=[], parameters={'version': '0.5.0', 'num_scans': 5, 'additional_args': ['--thresh_width', '1.25'], 'kafka_topic': 'pointing_offset'}, dependencies=[PbDependency(pb_ref='pb-test-20211111-00001', kind=['vis-receive'])]), ProcessingBlock(pb_id='pb-test-20211111-00001', script=Script(name='vis-receive', kind=<ScriptKind.REALTIME: 'realtime'>, version='4.2.1'), sbi_refs=[], parameters={'channels_per_port': 20, 'transport_protocol': 'udp', 'use_network_definition': True, 'extra_helm_values': {'receiver': {'options': {'reception': {'reset_time_indexing_after_each_scan': True}, 'telescope_model': {'telmodel_key': 'instrument/ska1_mid/layout/mid-layout.json'}}}}, 'pod_settings': [{'securityContext': {'runAsUser': 0, 'fsGroup': 0}}], 'processors': {'signal-display-metrics-amplitude': {}, 'signal-display-metrics-basic': {}, 'signal-display-metrics-phase': {}, 'mswriter': {}}}, dependencies=[PbDependency(pb_ref='pb-test-20211111-00000', kind=['pointing-offset'])])]) dish_configurations=[DishConfiguration(dish_configuration_id='dish config 123', receiver_band=<ReceiverBand.BAND_1: '1'>)] csp_configurations=[CSPConfiguration(config_id='csp config 123', subarray=SubarrayConfiguration(subarray_name='science period 23'), common=CommonConfiguration(subarray_id=1, band_5_tuning=[]), cbf=CBFConfiguration(fsps=[FSPConfiguration(fsp_id=1, function_mode=<FSPFunctionMode.CORR: 'CORR'>, frequency_slice_id=1, integration_factor=1, zoom_factor=0, channel_averaging_map=[(0, 2), (744, 0)], output_link_map=[(0, 0), (200, 1)], channel_offset=0, zoom_window_tuning=None)], vlbi=None), midcbf=None, lowcbf=None, pst=None, pss=None)] dish_allocations=DishAllocation(receptor_ids=frozenset({'SKA001'})) mccs_allocation=None\n",
      "interface='https://schema.skao.int/ska-oso-pdm-sbd/0.1' sbd_id='sbi-t0001-20240913-00027' name=None description=None telescope=TelescopeType.SKA_MID metadata=Metadata(version=1, created_by='Liz Bartlett', created_on=datetime.datetime(2022, 3, 28, 15, 43, 53, 971548, tzinfo=TzInfo(UTC)), last_modified_by='Liz Bartlett', last_modified_on=datetime.datetime(2023, 11, 15, 10, 45, 3, 313536, tzinfo=TzInfo(UTC))) prj_ref=None activities={'observe': GitScript(function_args={'init': PythonArguments(args=[], kwargs={'subarray_id': 1}), 'main': PythonArguments(args=[], kwargs={})}, kind=ScriptKind.GIT, repo='https://gitlab.com/ska-telescope/oso/ska-oso-scripting', path='git://scripts/test_example_mid_script.py', branch='master', commit=None)} targets=[Target(target_id='Polaris Australis', pointing_pattern=PointingPattern(active=PointingKind.FIVE_POINT, parameters=[FivePointParameters(kind=PointingKind.FIVE_POINT, offset_arcsec=5.0), RasterParameters(kind=PointingKind.RASTER, row_length_arcsec=1.23, row_offset_arcsec=4.56, n_rows=2, pa=7.89, unidirectional=True), StarRasterParameters(kind=PointingKind.STAR_RASTER, row_length_arcsec=1.23, n_rows=2, row_offset_angle=4.56, unidirectional=True)]), reference_coordinate=EquatorialCoordinates(ra=317.19966666666664, dec=-88.95636111111111, unit=('deg', 'deg'), frame=EquatorialCoordinatesReferenceFrame.ICRS), radial_velocity=RadialVelocity(quantity=<Quantity 0. km / s>, definition=RadialVelocityDefinition.RADIO, reference_frame=RadialVelocityReferenceFrame.LSRK, redshift=0.0)), Target(target_id='M83', pointing_pattern=PointingPattern(active=PointingKind.SINGLE_POINT, parameters=[SinglePointParameters(kind=PointingKind.SINGLE_POINT, offset_x_arcsec=0.0, offset_y_arcsec=0.0)]), reference_coordinate=EquatorialCoordinates(ra=204.25382916666663, dec=-29.865761111111112, unit=('deg', 'deg'), frame=EquatorialCoordinatesReferenceFrame.ICRS), radial_velocity=RadialVelocity(quantity=<Quantity 0. km / s>, definition=RadialVelocityDefinition.RADIO, reference_frame=RadialVelocityReferenceFrame.LSRK, redshift=0.0))] scan_definitions=[ScanDefinition(scan_definition_id='calibrator scan', scan_duration_ms=datetime.timedelta(seconds=180), target_ref='M83', mccs_configuration_ref=None, dish_configuration_ref='dish config 123', scan_type_ref='pointing', csp_configuration_ref='csp config 123', scan_intent=None, pointing_correction=PointingCorrection.MAINTAIN), ScanDefinition(scan_definition_id='science scan', scan_duration_ms=datetime.timedelta(seconds=180), target_ref='Polaris Australis', mccs_configuration_ref=None, dish_configuration_ref='dish config 123', scan_type_ref='science', csp_configuration_ref='csp config 123', scan_intent=None, pointing_correction=PointingCorrection.MAINTAIN)] scan_sequence=['calibrator scan', 'science scan', 'science scan', 'calibrator scan'] sdp_configuration=SDPConfiguration(execution_block=ExecutionBlock(eb_id='eb-t0001-20240913-00025', max_length=21600.0, context={}, beams=[Beam(beam_id='vis0', function=<BeamFunction.VISIBILITIES: 'visibilities'>, search_beam_id=None, timing_beam_id=None, vlbi_beam_id=None)], scan_types=[ScanType(scan_type_id='.default', derive_from=None, beams=[BeamMapping(beam_ref='vis0', field_ref=None, channels_ref='vis_channels', polarisations_ref='all')]), ScanType(scan_type_id='pointing', derive_from='.default', beams=[BeamMapping(beam_ref='vis0', field_ref='M83', channels_ref=None, polarisations_ref=None)]), ScanType(scan_type_id='science', derive_from='.default', beams=[BeamMapping(beam_ref='vis0', field_ref='Polaris Australis', channels_ref=None, polarisations_ref=None)])], channels=[Channels(channels_id='vis_channels', spectral_windows=[SpectralWindow(spectral_window_id='fsp_1_channels', count=14880, start=0, freq_min=269000000.0, freq_max=469000000.0, stride=1, link_map=[(0, 0), (200, 1), (744, 2), (944, 3)])])], polarisations=[Polarisation(polarisations_id='all', corr_type=['XX', 'XY', 'YX', 'YY'])]), resources=Resources(csp_links=[], receptors=['SKA001'], receive_nodes=1), processing_blocks=[ProcessingBlock(pb_id='pb-t0001-20240913-00028', script=Script(name='pointing-offset', kind=<ScriptKind.REALTIME: 'realtime'>, version='0.5.0'), sbi_refs=['sbi-t0001-20240913-00027'], parameters={'version': '0.5.0', 'num_scans': 5, 'additional_args': ['--thresh_width', '1.25'], 'kafka_topic': 'pointing_offset'}, dependencies=[PbDependency(pb_ref='pb-t0001-20240913-00029', kind=['vis-receive'])]), ProcessingBlock(pb_id='pb-t0001-20240913-00029', script=Script(name='vis-receive', kind=<ScriptKind.REALTIME: 'realtime'>, version='4.2.1'), sbi_refs=['sbi-t0001-20240913-00027'], parameters={'channels_per_port': 20, 'transport_protocol': 'udp', 'use_network_definition': True, 'extra_helm_values': {'receiver': {'options': {'reception': {'reset_time_indexing_after_each_scan': True}, 'telescope_model': {'telmodel_key': 'instrument/ska1_mid/layout/mid-layout.json'}}}}, 'pod_settings': [{'securityContext': {'runAsUser': 0, 'fsGroup': 0}}], 'processors': {'signal-display-metrics-amplitude': {}, 'signal-display-metrics-basic': {}, 'signal-display-metrics-phase': {}, 'mswriter': {}}}, dependencies=[PbDependency(pb_ref='pb-t0001-20240913-00028', kind=['pointing-offset'])])]) dish_configurations=[DishConfiguration(dish_configuration_id='dish config 123', receiver_band=<ReceiverBand.BAND_1: '1'>)] csp_configurations=[CSPConfiguration(config_id='csp config 123', subarray=SubarrayConfiguration(subarray_name='science period 23'), common=CommonConfiguration(subarray_id=1, band_5_tuning=[]), cbf=CBFConfiguration(fsps=[FSPConfiguration(fsp_id=1, function_mode=<FSPFunctionMode.CORR: 'CORR'>, frequency_slice_id=1, integration_factor=1, zoom_factor=0, channel_averaging_map=[(0, 2), (744, 0)], output_link_map=[(0, 0), (200, 1)], channel_offset=0, zoom_window_tuning=None)], vlbi=None), midcbf=None, lowcbf=None, pst=None, pss=None)] dish_allocations=DishAllocation(receptor_ids=frozenset({'SKA001'})) mccs_allocation=None\n",
      "interface='https://schema.skao.int/ska-oso-pdm-sbd/0.1' sbd_id='sbi-mvp01-20200325-00002' name=None description=None telescope=TelescopeType.SKA_MID metadata=Metadata(version=1, created_by='Liz Bartlett', created_on=datetime.datetime(2022, 3, 28, 15, 43, 53, 971548, tzinfo=TzInfo(UTC)), last_modified_by='Liz Bartlett', last_modified_on=datetime.datetime(2023, 11, 15, 10, 45, 3, 313536, tzinfo=TzInfo(UTC))) prj_ref=None activities={'observe': GitScript(function_args={'init': PythonArguments(args=[], kwargs={'subarray_id': 1}), 'main': PythonArguments(args=[], kwargs={})}, kind=ScriptKind.GIT, repo='https://gitlab.com/ska-telescope/oso/ska-oso-scripting', path='git://scripts/test_example_mid_script.py', branch='master', commit=None)} targets=[Target(target_id='Polaris Australis', pointing_pattern=PointingPattern(active=PointingKind.FIVE_POINT, parameters=[FivePointParameters(kind=PointingKind.FIVE_POINT, offset_arcsec=5.0), RasterParameters(kind=PointingKind.RASTER, row_length_arcsec=1.23, row_offset_arcsec=4.56, n_rows=2, pa=7.89, unidirectional=True), StarRasterParameters(kind=PointingKind.STAR_RASTER, row_length_arcsec=1.23, n_rows=2, row_offset_angle=4.56, unidirectional=True)]), reference_coordinate=EquatorialCoordinates(ra=317.19966666666664, dec=-88.95636111111111, unit=('deg', 'deg'), frame=EquatorialCoordinatesReferenceFrame.ICRS), radial_velocity=RadialVelocity(quantity=<Quantity 0. km / s>, definition=RadialVelocityDefinition.RADIO, reference_frame=RadialVelocityReferenceFrame.LSRK, redshift=0.0)), Target(target_id='M83', pointing_pattern=PointingPattern(active=PointingKind.SINGLE_POINT, parameters=[SinglePointParameters(kind=PointingKind.SINGLE_POINT, offset_x_arcsec=0.0, offset_y_arcsec=0.0)]), reference_coordinate=EquatorialCoordinates(ra=204.25382916666663, dec=-29.865761111111112, unit=('deg', 'deg'), frame=EquatorialCoordinatesReferenceFrame.ICRS), radial_velocity=RadialVelocity(quantity=<Quantity 0. km / s>, definition=RadialVelocityDefinition.RADIO, reference_frame=RadialVelocityReferenceFrame.LSRK, redshift=0.0))] scan_definitions=[ScanDefinition(scan_definition_id='calibrator scan', scan_duration_ms=datetime.timedelta(seconds=180), target_ref='M83', mccs_configuration_ref=None, dish_configuration_ref='dish config 123', scan_type_ref='pointing', csp_configuration_ref='csp config 123', scan_intent=None, pointing_correction=PointingCorrection.MAINTAIN), ScanDefinition(scan_definition_id='science scan', scan_duration_ms=datetime.timedelta(seconds=180), target_ref='Polaris Australis', mccs_configuration_ref=None, dish_configuration_ref='dish config 123', scan_type_ref='science', csp_configuration_ref='csp config 123', scan_intent=None, pointing_correction=PointingCorrection.MAINTAIN)] scan_sequence=['calibrator scan', 'science scan', 'science scan', 'calibrator scan'] sdp_configuration=SDPConfiguration(execution_block=ExecutionBlock(eb_id='eb-mvp01-20200325-00002', max_length=21600.0, context={}, beams=[Beam(beam_id='vis0', function=<BeamFunction.VISIBILITIES: 'visibilities'>, search_beam_id=None, timing_beam_id=None, vlbi_beam_id=None)], scan_types=[ScanType(scan_type_id='.default', derive_from=None, beams=[BeamMapping(beam_ref='vis0', field_ref=None, channels_ref='vis_channels', polarisations_ref='all')]), ScanType(scan_type_id='pointing', derive_from='.default', beams=[BeamMapping(beam_ref='vis0', field_ref='M83', channels_ref=None, polarisations_ref=None)]), ScanType(scan_type_id='science', derive_from='.default', beams=[BeamMapping(beam_ref='vis0', field_ref='Polaris Australis', channels_ref=None, polarisations_ref=None)])], channels=[Channels(channels_id='vis_channels', spectral_windows=[SpectralWindow(spectral_window_id='fsp_1_channels', count=14880, start=0, freq_min=269000000.0, freq_max=469000000.0, stride=1, link_map=[(0, 0), (200, 1), (744, 2), (944, 3)])])], polarisations=[Polarisation(polarisations_id='all', corr_type=['XX', 'XY', 'YX', 'YY'])]), resources=Resources(csp_links=[], receptors=['SKA001'], receive_nodes=1), processing_blocks=[ProcessingBlock(pb_id='pb-test-20211111-00002', script=Script(name='pointing-offset', kind=<ScriptKind.REALTIME: 'realtime'>, version='0.5.0'), sbi_refs=[], parameters={'version': '0.5.0', 'num_scans': 5, 'additional_args': ['--thresh_width', '1.25'], 'kafka_topic': 'pointing_offset'}, dependencies=[PbDependency(pb_ref='pb-test-20211111-00002', kind=['vis-receive'])]), ProcessingBlock(pb_id='pb-test-20211111-00002', script=Script(name='vis-receive', kind=<ScriptKind.REALTIME: 'realtime'>, version='4.2.1'), sbi_refs=[], parameters={'channels_per_port': 20, 'transport_protocol': 'udp', 'use_network_definition': True, 'extra_helm_values': {'receiver': {'options': {'reception': {'reset_time_indexing_after_each_scan': True}, 'telescope_model': {'telmodel_key': 'instrument/ska1_mid/layout/mid-layout.json'}}}}, 'pod_settings': [{'securityContext': {'runAsUser': 0, 'fsGroup': 0}}], 'processors': {'signal-display-metrics-amplitude': {}, 'signal-display-metrics-basic': {}, 'signal-display-metrics-phase': {}, 'mswriter': {}}}, dependencies=[PbDependency(pb_ref='pb-test-20211111-00002', kind=['pointing-offset'])])]) dish_configurations=[DishConfiguration(dish_configuration_id='dish config 123', receiver_band=<ReceiverBand.BAND_1: '1'>)] csp_configurations=[CSPConfiguration(config_id='csp config 123', subarray=SubarrayConfiguration(subarray_name='science period 23'), common=CommonConfiguration(subarray_id=1, band_5_tuning=[]), cbf=CBFConfiguration(fsps=[FSPConfiguration(fsp_id=1, function_mode=<FSPFunctionMode.CORR: 'CORR'>, frequency_slice_id=1, integration_factor=1, zoom_factor=0, channel_averaging_map=[(0, 2), (744, 0)], output_link_map=[(0, 0), (200, 1)], channel_offset=0, zoom_window_tuning=None)], vlbi=None), midcbf=None, lowcbf=None, pst=None, pss=None)] dish_allocations=DishAllocation(receptor_ids=frozenset({'SKA001'})) mccs_allocation=None\n",
      "interface='https://schema.skao.int/ska-oso-pdm-sbd/0.1' sbd_id='sbi-t0001-20240913-00031' name=None description=None telescope=TelescopeType.SKA_MID metadata=Metadata(version=1, created_by='Liz Bartlett', created_on=datetime.datetime(2022, 3, 28, 15, 43, 53, 971548, tzinfo=TzInfo(UTC)), last_modified_by='Liz Bartlett', last_modified_on=datetime.datetime(2023, 11, 15, 10, 45, 3, 313536, tzinfo=TzInfo(UTC))) prj_ref=None activities={'observe': GitScript(function_args={'init': PythonArguments(args=[], kwargs={'subarray_id': 1}), 'main': PythonArguments(args=[], kwargs={})}, kind=ScriptKind.GIT, repo='https://gitlab.com/ska-telescope/oso/ska-oso-scripting', path='git://scripts/test_example_mid_script.py', branch='master', commit=None)} targets=[Target(target_id='Polaris Australis', pointing_pattern=PointingPattern(active=PointingKind.FIVE_POINT, parameters=[FivePointParameters(kind=PointingKind.FIVE_POINT, offset_arcsec=5.0), RasterParameters(kind=PointingKind.RASTER, row_length_arcsec=1.23, row_offset_arcsec=4.56, n_rows=2, pa=7.89, unidirectional=True), StarRasterParameters(kind=PointingKind.STAR_RASTER, row_length_arcsec=1.23, n_rows=2, row_offset_angle=4.56, unidirectional=True)]), reference_coordinate=EquatorialCoordinates(ra=317.19966666666664, dec=-88.95636111111111, unit=('deg', 'deg'), frame=EquatorialCoordinatesReferenceFrame.ICRS), radial_velocity=RadialVelocity(quantity=<Quantity 0. km / s>, definition=RadialVelocityDefinition.RADIO, reference_frame=RadialVelocityReferenceFrame.LSRK, redshift=0.0)), Target(target_id='M83', pointing_pattern=PointingPattern(active=PointingKind.SINGLE_POINT, parameters=[SinglePointParameters(kind=PointingKind.SINGLE_POINT, offset_x_arcsec=0.0, offset_y_arcsec=0.0)]), reference_coordinate=EquatorialCoordinates(ra=204.25382916666663, dec=-29.865761111111112, unit=('deg', 'deg'), frame=EquatorialCoordinatesReferenceFrame.ICRS), radial_velocity=RadialVelocity(quantity=<Quantity 0. km / s>, definition=RadialVelocityDefinition.RADIO, reference_frame=RadialVelocityReferenceFrame.LSRK, redshift=0.0))] scan_definitions=[ScanDefinition(scan_definition_id='calibrator scan', scan_duration_ms=datetime.timedelta(seconds=180), target_ref='M83', mccs_configuration_ref=None, dish_configuration_ref='dish config 123', scan_type_ref='pointing', csp_configuration_ref='csp config 123', scan_intent=None, pointing_correction=PointingCorrection.MAINTAIN), ScanDefinition(scan_definition_id='science scan', scan_duration_ms=datetime.timedelta(seconds=180), target_ref='Polaris Australis', mccs_configuration_ref=None, dish_configuration_ref='dish config 123', scan_type_ref='science', csp_configuration_ref='csp config 123', scan_intent=None, pointing_correction=PointingCorrection.MAINTAIN)] scan_sequence=['calibrator scan', 'science scan', 'science scan', 'calibrator scan'] sdp_configuration=SDPConfiguration(execution_block=ExecutionBlock(eb_id='eb-t0001-20240913-00026', max_length=21600.0, context={}, beams=[Beam(beam_id='vis0', function=<BeamFunction.VISIBILITIES: 'visibilities'>, search_beam_id=None, timing_beam_id=None, vlbi_beam_id=None)], scan_types=[ScanType(scan_type_id='.default', derive_from=None, beams=[BeamMapping(beam_ref='vis0', field_ref=None, channels_ref='vis_channels', polarisations_ref='all')]), ScanType(scan_type_id='pointing', derive_from='.default', beams=[BeamMapping(beam_ref='vis0', field_ref='M83', channels_ref=None, polarisations_ref=None)]), ScanType(scan_type_id='science', derive_from='.default', beams=[BeamMapping(beam_ref='vis0', field_ref='Polaris Australis', channels_ref=None, polarisations_ref=None)])], channels=[Channels(channels_id='vis_channels', spectral_windows=[SpectralWindow(spectral_window_id='fsp_1_channels', count=14880, start=0, freq_min=269000000.0, freq_max=469000000.0, stride=1, link_map=[(0, 0), (200, 1), (744, 2), (944, 3)])])], polarisations=[Polarisation(polarisations_id='all', corr_type=['XX', 'XY', 'YX', 'YY'])]), resources=Resources(csp_links=[], receptors=['SKA001'], receive_nodes=1), processing_blocks=[ProcessingBlock(pb_id='pb-t0001-20240913-00033', script=Script(name='pointing-offset', kind=<ScriptKind.REALTIME: 'realtime'>, version='0.5.0'), sbi_refs=['sbi-t0001-20240913-00031'], parameters={'version': '0.5.0', 'num_scans': 5, 'additional_args': ['--thresh_width', '1.25'], 'kafka_topic': 'pointing_offset'}, dependencies=[PbDependency(pb_ref='pb-t0001-20240913-00033', kind=['vis-receive'])]), ProcessingBlock(pb_id='pb-t0001-20240913-00033', script=Script(name='vis-receive', kind=<ScriptKind.REALTIME: 'realtime'>, version='4.2.1'), sbi_refs=['sbi-t0001-20240913-00031'], parameters={'channels_per_port': 20, 'transport_protocol': 'udp', 'use_network_definition': True, 'extra_helm_values': {'receiver': {'options': {'reception': {'reset_time_indexing_after_each_scan': True}, 'telescope_model': {'telmodel_key': 'instrument/ska1_mid/layout/mid-layout.json'}}}}, 'pod_settings': [{'securityContext': {'runAsUser': 0, 'fsGroup': 0}}], 'processors': {'signal-display-metrics-amplitude': {}, 'signal-display-metrics-basic': {}, 'signal-display-metrics-phase': {}, 'mswriter': {}}}, dependencies=[PbDependency(pb_ref='pb-t0001-20240913-00033', kind=['pointing-offset'])])]) dish_configurations=[DishConfiguration(dish_configuration_id='dish config 123', receiver_band=<ReceiverBand.BAND_1: '1'>)] csp_configurations=[CSPConfiguration(config_id='csp config 123', subarray=SubarrayConfiguration(subarray_name='science period 23'), common=CommonConfiguration(subarray_id=1, band_5_tuning=[]), cbf=CBFConfiguration(fsps=[FSPConfiguration(fsp_id=1, function_mode=<FSPFunctionMode.CORR: 'CORR'>, frequency_slice_id=1, integration_factor=1, zoom_factor=0, channel_averaging_map=[(0, 2), (744, 0)], output_link_map=[(0, 0), (200, 1)], channel_offset=0, zoom_window_tuning=None)], vlbi=None), midcbf=None, lowcbf=None, pst=None, pss=None)] dish_allocations=DishAllocation(receptor_ids=frozenset({'SKA001'})) mccs_allocation=None\n"
     ]
    }
   ],
   "source": [
    "print(sb)\n",
    "print(sbi)\n",
    "print(sb_2)\n",
    "print(sbi_2)"
   ]
  },
  {
   "cell_type": "markdown",
   "metadata": {},
   "source": [
    "Using this, create the JSON for the scheduling block, subbing in the Kafka location, and validating it."
   ]
  },
  {
   "cell_type": "code",
   "execution_count": 67,
   "metadata": {},
   "outputs": [],
   "source": [
    "sb_json = SBDefinition.model_dump_json(sbi)\n",
    "sb_json = sb_json.replace(\"<KAFKA_HOST>\", KAFKA_POD)\n",
    "sbi = SBDefinition.model_validate_json(sb_json)"
   ]
  },
  {
   "cell_type": "code",
   "execution_count": 68,
   "metadata": {},
   "outputs": [],
   "source": [
    "sb_json_2 = SBDefinition.model_dump_json(sbi_2)\n",
    "sb_json_2 = sb_json_2.replace(\"<KAFKA_HOST>\", KAFKA_POD)\n",
    "sbi_2 = SBDefinition.model_validate_json(sb_json_2)"
   ]
  },
  {
   "cell_type": "markdown",
   "metadata": {},
   "source": [
    "## 3 Running the Observation"
   ]
  },
  {
   "cell_type": "markdown",
   "metadata": {},
   "source": [
    "### 3.1 Assigning Resources"
   ]
  },
  {
   "cell_type": "markdown",
   "metadata": {},
   "source": [
    "Now, the resources can be assigned to the telescope, either via getting the resources from the scheduling block:"
   ]
  },
  {
   "cell_type": "code",
   "execution_count": 69,
   "metadata": {},
   "outputs": [
    {
     "name": "stdout",
     "output_type": "stream",
     "text": [
      "1|2024-09-13T22:00:02.249Z|INFO|MainThread|create_mid_assign_resources_request|wrapper.py#83||Setting dish : frozenset({'SKA001'}) \n",
      "1|2024-09-13T22:00:02.250Z|INFO|MainThread|convert_channels|sdp.py#294||Setting ChannelConfiguration id:vis_channels , spectral_windows:[SpectralWindow(spectral_window_id='fsp_1_channels', count=14880, start=0, freq_min=269000000.0, freq_max=469000000.0, stride=1, link_map=[(0, 0), (200, 1), (744, 2), (944, 3)])] \n",
      "1|2024-09-13T22:00:02.250Z|INFO|MainThread|convert_spectral_window|sdp.py#273||Setting channel attribute -> count:14880 , start:0 , stride:1, freq_min:269000000.0, freq_max:469000000.0 , link_map:[(0, 0), (200, 1), (744, 2), (944, 3)] \n",
      "1|2024-09-13T22:00:02.252Z|INFO|MainThread|convert_target_to_fieldconfiguration|sdp.py#348||Setting target attribute -> target_id:Polaris Australis , reference_coordinate:<EquatorialCoordinates: (21h08m47.92s -88d57m22.9s ICRS)> \n",
      "1|2024-09-13T22:00:02.254Z|INFO|MainThread|convert_target_to_fieldconfiguration|sdp.py#365||Resulting SDP coordinate for targetid:Polaris Australis -> system:ICRF3 , ra:[317.19966666666664] , dec:[-88.95636111111111]\n",
      "1|2024-09-13T22:00:02.254Z|INFO|MainThread|convert_target_to_fieldconfiguration|sdp.py#348||Setting target attribute -> target_id:M83 , reference_coordinate:<EquatorialCoordinates: (13h37m00.919s -29d51m56.74s ICRS)> \n",
      "1|2024-09-13T22:00:02.257Z|INFO|MainThread|convert_target_to_fieldconfiguration|sdp.py#365||Resulting SDP coordinate for targetid:M83 -> system:ICRF3 , ra:[204.2538291666666] , dec:[-29.865761111111112]\n",
      "1|2024-09-13T22:00:02.257Z|INFO|MainThread|convert_dependencies|sdp.py#212||Setting PbDependency Id : pb-t0001-20240913-00029 \n",
      "1|2024-09-13T22:00:02.258Z|INFO|MainThread|convert_script|sdp.py#200||Setting ScriptConfiguration : pointing-offset \n",
      "1|2024-09-13T22:00:02.258Z|INFO|MainThread|convert_processing_block|sdp.py#186||Setting ProcessingBlock Id : pb-t0001-20240913-00028 \n",
      "1|2024-09-13T22:00:02.258Z|INFO|MainThread|convert_dependencies|sdp.py#212||Setting PbDependency Id : pb-t0001-20240913-00028 \n",
      "1|2024-09-13T22:00:02.259Z|INFO|MainThread|convert_script|sdp.py#200||Setting ScriptConfiguration : vis-receive \n",
      "1|2024-09-13T22:00:02.259Z|INFO|MainThread|convert_processing_block|sdp.py#186||Setting ProcessingBlock Id : pb-t0001-20240913-00029 \n",
      "1|2024-09-13T22:00:02.259Z|INFO|MainThread|create_mid_assign_resources_request|wrapper.py#89||Setting SDP configuration for EB: eb-t0001-20240913-00025 \n"
     ]
    }
   ],
   "source": [
    "assign_requests = pdm_transforms.create_cdm_assign_resources_request_from_scheduling_block(\n",
    "    sub.id, sbi\n",
    ")"
   ]
  },
  {
   "cell_type": "code",
   "execution_count": 70,
   "metadata": {},
   "outputs": [
    {
     "name": "stdout",
     "output_type": "stream",
     "text": [
      "1|2024-09-13T22:00:05.419Z|INFO|MainThread|create_mid_assign_resources_request|wrapper.py#83||Setting dish : frozenset({'SKA001'}) \n",
      "1|2024-09-13T22:00:05.421Z|INFO|MainThread|convert_channels|sdp.py#294||Setting ChannelConfiguration id:vis_channels , spectral_windows:[SpectralWindow(spectral_window_id='fsp_1_channels', count=14880, start=0, freq_min=269000000.0, freq_max=469000000.0, stride=1, link_map=[(0, 0), (200, 1), (744, 2), (944, 3)])] \n",
      "1|2024-09-13T22:00:05.421Z|INFO|MainThread|convert_spectral_window|sdp.py#273||Setting channel attribute -> count:14880 , start:0 , stride:1, freq_min:269000000.0, freq_max:469000000.0 , link_map:[(0, 0), (200, 1), (744, 2), (944, 3)] \n",
      "1|2024-09-13T22:00:05.422Z|INFO|MainThread|convert_target_to_fieldconfiguration|sdp.py#348||Setting target attribute -> target_id:Polaris Australis , reference_coordinate:<EquatorialCoordinates: (21h08m47.92s -88d57m22.9s ICRS)> \n",
      "1|2024-09-13T22:00:05.423Z|INFO|MainThread|convert_target_to_fieldconfiguration|sdp.py#365||Resulting SDP coordinate for targetid:Polaris Australis -> system:ICRF3 , ra:[317.19966666666664] , dec:[-88.95636111111111]\n",
      "1|2024-09-13T22:00:05.425Z|INFO|MainThread|convert_target_to_fieldconfiguration|sdp.py#348||Setting target attribute -> target_id:M83 , reference_coordinate:<EquatorialCoordinates: (13h37m00.919s -29d51m56.74s ICRS)> \n",
      "1|2024-09-13T22:00:05.427Z|INFO|MainThread|convert_target_to_fieldconfiguration|sdp.py#365||Resulting SDP coordinate for targetid:M83 -> system:ICRF3 , ra:[204.2538291666666] , dec:[-29.865761111111112]\n",
      "1|2024-09-13T22:00:05.427Z|INFO|MainThread|convert_dependencies|sdp.py#212||Setting PbDependency Id : pb-t0001-20240913-00033 \n",
      "1|2024-09-13T22:00:05.428Z|INFO|MainThread|convert_script|sdp.py#200||Setting ScriptConfiguration : pointing-offset \n",
      "1|2024-09-13T22:00:05.428Z|INFO|MainThread|convert_processing_block|sdp.py#186||Setting ProcessingBlock Id : pb-t0001-20240913-00033 \n",
      "1|2024-09-13T22:00:05.428Z|INFO|MainThread|convert_dependencies|sdp.py#212||Setting PbDependency Id : pb-t0001-20240913-00033 \n",
      "1|2024-09-13T22:00:05.429Z|INFO|MainThread|convert_script|sdp.py#200||Setting ScriptConfiguration : vis-receive \n",
      "1|2024-09-13T22:00:05.429Z|INFO|MainThread|convert_processing_block|sdp.py#186||Setting ProcessingBlock Id : pb-t0001-20240913-00033 \n",
      "1|2024-09-13T22:00:05.429Z|INFO|MainThread|create_mid_assign_resources_request|wrapper.py#89||Setting SDP configuration for EB: eb-t0001-20240913-00026 \n"
     ]
    }
   ],
   "source": [
    "assign_requests_2 = pdm_transforms.create_cdm_assign_resources_request_from_scheduling_block(\n",
    "    sub.id, sbi_2\n",
    ")"
   ]
  },
  {
   "cell_type": "code",
   "execution_count": 71,
   "metadata": {},
   "outputs": [
    {
     "name": "stdout",
     "output_type": "stream",
     "text": [
      "interface='https://schema.skao.int/ska-oso-pdm-sbd/0.1' sbd_id='sbi-t0001-20240913-00027' name=None description=None telescope=TelescopeType.SKA_MID metadata=Metadata(version=1, created_by='Liz Bartlett', created_on=datetime.datetime(2022, 3, 28, 15, 43, 53, 971548, tzinfo=TzInfo(UTC)), last_modified_by='Liz Bartlett', last_modified_on=datetime.datetime(2023, 11, 15, 10, 45, 3, 313536, tzinfo=TzInfo(UTC))) prj_ref=None activities={'observe': GitScript(function_args={'init': PythonArguments(args=[], kwargs={'subarray_id': 1}), 'main': PythonArguments(args=[], kwargs={})}, kind=ScriptKind.GIT, repo='https://gitlab.com/ska-telescope/oso/ska-oso-scripting', path='git://scripts/test_example_mid_script.py', branch='master', commit=None)} targets=[Target(target_id='Polaris Australis', pointing_pattern=PointingPattern(active=PointingKind.FIVE_POINT, parameters=[FivePointParameters(kind=PointingKind.FIVE_POINT, offset_arcsec=5.0), RasterParameters(kind=PointingKind.RASTER, row_length_arcsec=1.23, row_offset_arcsec=4.56, n_rows=2, pa=7.89, unidirectional=True), StarRasterParameters(kind=PointingKind.STAR_RASTER, row_length_arcsec=1.23, n_rows=2, row_offset_angle=4.56, unidirectional=True)]), reference_coordinate=EquatorialCoordinates(ra=317.19966666666664, dec=-88.95636111111111, unit=('deg', 'deg'), frame=EquatorialCoordinatesReferenceFrame.ICRS), radial_velocity=RadialVelocity(quantity=<Quantity 0. km / s>, definition=RadialVelocityDefinition.RADIO, reference_frame=RadialVelocityReferenceFrame.LSRK, redshift=0.0)), Target(target_id='M83', pointing_pattern=PointingPattern(active=PointingKind.SINGLE_POINT, parameters=[SinglePointParameters(kind=PointingKind.SINGLE_POINT, offset_x_arcsec=0.0, offset_y_arcsec=0.0)]), reference_coordinate=EquatorialCoordinates(ra=204.25382916666663, dec=-29.865761111111112, unit=('deg', 'deg'), frame=EquatorialCoordinatesReferenceFrame.ICRS), radial_velocity=RadialVelocity(quantity=<Quantity 0. km / s>, definition=RadialVelocityDefinition.RADIO, reference_frame=RadialVelocityReferenceFrame.LSRK, redshift=0.0))] scan_definitions=[ScanDefinition(scan_definition_id='calibrator scan', scan_duration_ms=datetime.timedelta(seconds=180), target_ref='M83', mccs_configuration_ref=None, dish_configuration_ref='dish config 123', scan_type_ref='pointing', csp_configuration_ref='csp config 123', scan_intent=None, pointing_correction=PointingCorrection.MAINTAIN), ScanDefinition(scan_definition_id='science scan', scan_duration_ms=datetime.timedelta(seconds=180), target_ref='Polaris Australis', mccs_configuration_ref=None, dish_configuration_ref='dish config 123', scan_type_ref='science', csp_configuration_ref='csp config 123', scan_intent=None, pointing_correction=PointingCorrection.MAINTAIN)] scan_sequence=['calibrator scan', 'science scan', 'science scan', 'calibrator scan'] sdp_configuration=SDPConfiguration(execution_block=ExecutionBlock(eb_id='eb-t0001-20240913-00025', max_length=21600.0, context={}, beams=[Beam(beam_id='vis0', function=<BeamFunction.VISIBILITIES: 'visibilities'>, search_beam_id=None, timing_beam_id=None, vlbi_beam_id=None)], scan_types=[ScanType(scan_type_id='.default', derive_from=None, beams=[BeamMapping(beam_ref='vis0', field_ref=None, channels_ref='vis_channels', polarisations_ref='all')]), ScanType(scan_type_id='pointing', derive_from='.default', beams=[BeamMapping(beam_ref='vis0', field_ref='M83', channels_ref=None, polarisations_ref=None)]), ScanType(scan_type_id='science', derive_from='.default', beams=[BeamMapping(beam_ref='vis0', field_ref='Polaris Australis', channels_ref=None, polarisations_ref=None)])], channels=[Channels(channels_id='vis_channels', spectral_windows=[SpectralWindow(spectral_window_id='fsp_1_channels', count=14880, start=0, freq_min=269000000.0, freq_max=469000000.0, stride=1, link_map=[(0, 0), (200, 1), (744, 2), (944, 3)])])], polarisations=[Polarisation(polarisations_id='all', corr_type=['XX', 'XY', 'YX', 'YY'])]), resources=Resources(csp_links=[], receptors=['SKA001'], receive_nodes=1), processing_blocks=[ProcessingBlock(pb_id='pb-t0001-20240913-00028', script=Script(name='pointing-offset', kind=<ScriptKind.REALTIME: 'realtime'>, version='0.5.0'), sbi_refs=['sbi-t0001-20240913-00027'], parameters={'version': '0.5.0', 'num_scans': 5, 'additional_args': ['--thresh_width', '1.25'], 'kafka_topic': 'pointing_offset'}, dependencies=[PbDependency(pb_ref='pb-t0001-20240913-00029', kind=['vis-receive'])]), ProcessingBlock(pb_id='pb-t0001-20240913-00029', script=Script(name='vis-receive', kind=<ScriptKind.REALTIME: 'realtime'>, version='4.2.1'), sbi_refs=['sbi-t0001-20240913-00027'], parameters={'channels_per_port': 20, 'transport_protocol': 'udp', 'use_network_definition': True, 'extra_helm_values': {'receiver': {'options': {'reception': {'reset_time_indexing_after_each_scan': True}, 'telescope_model': {'telmodel_key': 'instrument/ska1_mid/layout/mid-layout.json'}}}}, 'pod_settings': [{'securityContext': {'runAsUser': 0, 'fsGroup': 0}}], 'processors': {'signal-display-metrics-amplitude': {}, 'signal-display-metrics-basic': {}, 'signal-display-metrics-phase': {}, 'mswriter': {}}}, dependencies=[PbDependency(pb_ref='pb-t0001-20240913-00028', kind=['pointing-offset'])])]) dish_configurations=[DishConfiguration(dish_configuration_id='dish config 123', receiver_band=<ReceiverBand.BAND_1: '1'>)] csp_configurations=[CSPConfiguration(config_id='csp config 123', subarray=SubarrayConfiguration(subarray_name='science period 23'), common=CommonConfiguration(subarray_id=1, band_5_tuning=[]), cbf=CBFConfiguration(fsps=[FSPConfiguration(fsp_id=1, function_mode=<FSPFunctionMode.CORR: 'CORR'>, frequency_slice_id=1, integration_factor=1, zoom_factor=0, channel_averaging_map=[(0, 2), (744, 0)], output_link_map=[(0, 0), (200, 1)], channel_offset=0, zoom_window_tuning=None)], vlbi=None), midcbf=None, lowcbf=None, pst=None, pss=None)] dish_allocations=DishAllocation(receptor_ids=frozenset({'SKA001'})) mccs_allocation=None\n",
      "subarray_id=1 dish=DishAllocation(receptor_ids=frozenset({'SKA001'})) csp_config=None sdp_config=SDPConfiguration(interface='https://schema.skao.int/ska-sdp-assignres/0.4', transaction_id=None, execution_block=ExecutionBlockConfiguration(eb_id='eb-t0001-20240913-00025', max_length=21600.0, context={}, beams=[BeamConfiguration(beam_id='vis0', function='visibilities', search_beam_id=None, timing_beam_id=None, vlbi_beam_id=None)], channels=[ChannelConfiguration(channels_id='vis_channels', spectral_windows=[Channel(count=14880, start=0, stride=1, freq_min=269000000.0, freq_max=469000000.0, link_map=[[0, 0], [200, 1], [744, 2], [944, 3]], spectral_window_id='fsp_1_channels')])], polarisations=[PolarisationConfiguration(polarisations_id='all', corr_type=['XX', 'XY', 'YX', 'YY'])], fields=[FieldConfiguration(field_id='Polaris Australis', pointing_fqdn=None, phase_dir=PhaseDir(ra=[317.19966666666664], dec=[-88.95636111111111], reference_time='2024-09-13T22:00:02.252987+00:00', reference_frame='ICRF3')), FieldConfiguration(field_id='M83', pointing_fqdn=None, phase_dir=PhaseDir(ra=[204.2538291666666], dec=[-29.865761111111112], reference_time='2024-09-13T22:00:02.255279+00:00', reference_frame='ICRF3'))], scan_types=[EBScanType(scan_type_id='.default', beams={'vis0': EBScanTypeBeam(field_id=None, channels_id='vis_channels', polarisations_id='all')}, derive_from=None), EBScanType(scan_type_id='pointing', beams={'vis0': EBScanTypeBeam(field_id='M83', channels_id=None, polarisations_id=None)}, derive_from='.default'), EBScanType(scan_type_id='science', beams={'vis0': EBScanTypeBeam(field_id='Polaris Australis', channels_id=None, polarisations_id=None)}, derive_from='.default')]), resources={'receptors': ['SKA001'], 'receive_nodes': 1}, processing_blocks=[ProcessingBlockConfiguration(pb_id='pb-t0001-20240913-00028', workflow=None, parameters={'version': '0.5.0', 'num_scans': 5, 'additional_args': ['--thresh_width', '1.25'], 'kafka_topic': 'pointing_offset'}, dependencies=[PbDependency(pb_id='pb-t0001-20240913-00029', kind=['vis-receive'])], sbi_ids=['sbi-t0001-20240913-00027'], script=ScriptConfiguration(kind='realtime', name='pointing-offset', version='0.5.0')), ProcessingBlockConfiguration(pb_id='pb-t0001-20240913-00029', workflow=None, parameters={'channels_per_port': 20, 'transport_protocol': 'udp', 'use_network_definition': True, 'extra_helm_values': {'receiver': {'options': {'reception': {'reset_time_indexing_after_each_scan': True}, 'telescope_model': {'telmodel_key': 'instrument/ska1_mid/layout/mid-layout.json'}}}}, 'pod_settings': [{'securityContext': {'runAsUser': 0, 'fsGroup': 0}}], 'processors': {'signal-display-metrics-amplitude': {}, 'signal-display-metrics-basic': {}, 'signal-display-metrics-phase': {}, 'mswriter': {}}}, dependencies=[PbDependency(pb_id='pb-t0001-20240913-00028', kind=['pointing-offset'])], sbi_ids=['sbi-t0001-20240913-00027'], script=ScriptConfiguration(kind='realtime', name='vis-receive', version='4.2.1'))]) mccs=None interface='https://schema.skao.int/ska-tmc-assignresources/2.1' transaction_id=None\n",
      "interface='https://schema.skao.int/ska-oso-pdm-sbd/0.1' sbd_id='sbi-t0001-20240913-00031' name=None description=None telescope=TelescopeType.SKA_MID metadata=Metadata(version=1, created_by='Liz Bartlett', created_on=datetime.datetime(2022, 3, 28, 15, 43, 53, 971548, tzinfo=TzInfo(UTC)), last_modified_by='Liz Bartlett', last_modified_on=datetime.datetime(2023, 11, 15, 10, 45, 3, 313536, tzinfo=TzInfo(UTC))) prj_ref=None activities={'observe': GitScript(function_args={'init': PythonArguments(args=[], kwargs={'subarray_id': 1}), 'main': PythonArguments(args=[], kwargs={})}, kind=ScriptKind.GIT, repo='https://gitlab.com/ska-telescope/oso/ska-oso-scripting', path='git://scripts/test_example_mid_script.py', branch='master', commit=None)} targets=[Target(target_id='Polaris Australis', pointing_pattern=PointingPattern(active=PointingKind.FIVE_POINT, parameters=[FivePointParameters(kind=PointingKind.FIVE_POINT, offset_arcsec=5.0), RasterParameters(kind=PointingKind.RASTER, row_length_arcsec=1.23, row_offset_arcsec=4.56, n_rows=2, pa=7.89, unidirectional=True), StarRasterParameters(kind=PointingKind.STAR_RASTER, row_length_arcsec=1.23, n_rows=2, row_offset_angle=4.56, unidirectional=True)]), reference_coordinate=EquatorialCoordinates(ra=317.19966666666664, dec=-88.95636111111111, unit=('deg', 'deg'), frame=EquatorialCoordinatesReferenceFrame.ICRS), radial_velocity=RadialVelocity(quantity=<Quantity 0. km / s>, definition=RadialVelocityDefinition.RADIO, reference_frame=RadialVelocityReferenceFrame.LSRK, redshift=0.0)), Target(target_id='M83', pointing_pattern=PointingPattern(active=PointingKind.SINGLE_POINT, parameters=[SinglePointParameters(kind=PointingKind.SINGLE_POINT, offset_x_arcsec=0.0, offset_y_arcsec=0.0)]), reference_coordinate=EquatorialCoordinates(ra=204.25382916666663, dec=-29.865761111111112, unit=('deg', 'deg'), frame=EquatorialCoordinatesReferenceFrame.ICRS), radial_velocity=RadialVelocity(quantity=<Quantity 0. km / s>, definition=RadialVelocityDefinition.RADIO, reference_frame=RadialVelocityReferenceFrame.LSRK, redshift=0.0))] scan_definitions=[ScanDefinition(scan_definition_id='calibrator scan', scan_duration_ms=datetime.timedelta(seconds=180), target_ref='M83', mccs_configuration_ref=None, dish_configuration_ref='dish config 123', scan_type_ref='pointing', csp_configuration_ref='csp config 123', scan_intent=None, pointing_correction=PointingCorrection.MAINTAIN), ScanDefinition(scan_definition_id='science scan', scan_duration_ms=datetime.timedelta(seconds=180), target_ref='Polaris Australis', mccs_configuration_ref=None, dish_configuration_ref='dish config 123', scan_type_ref='science', csp_configuration_ref='csp config 123', scan_intent=None, pointing_correction=PointingCorrection.MAINTAIN)] scan_sequence=['calibrator scan', 'science scan', 'science scan', 'calibrator scan'] sdp_configuration=SDPConfiguration(execution_block=ExecutionBlock(eb_id='eb-t0001-20240913-00026', max_length=21600.0, context={}, beams=[Beam(beam_id='vis0', function=<BeamFunction.VISIBILITIES: 'visibilities'>, search_beam_id=None, timing_beam_id=None, vlbi_beam_id=None)], scan_types=[ScanType(scan_type_id='.default', derive_from=None, beams=[BeamMapping(beam_ref='vis0', field_ref=None, channels_ref='vis_channels', polarisations_ref='all')]), ScanType(scan_type_id='pointing', derive_from='.default', beams=[BeamMapping(beam_ref='vis0', field_ref='M83', channels_ref=None, polarisations_ref=None)]), ScanType(scan_type_id='science', derive_from='.default', beams=[BeamMapping(beam_ref='vis0', field_ref='Polaris Australis', channels_ref=None, polarisations_ref=None)])], channels=[Channels(channels_id='vis_channels', spectral_windows=[SpectralWindow(spectral_window_id='fsp_1_channels', count=14880, start=0, freq_min=269000000.0, freq_max=469000000.0, stride=1, link_map=[(0, 0), (200, 1), (744, 2), (944, 3)])])], polarisations=[Polarisation(polarisations_id='all', corr_type=['XX', 'XY', 'YX', 'YY'])]), resources=Resources(csp_links=[], receptors=['SKA001'], receive_nodes=1), processing_blocks=[ProcessingBlock(pb_id='pb-t0001-20240913-00033', script=Script(name='pointing-offset', kind=<ScriptKind.REALTIME: 'realtime'>, version='0.5.0'), sbi_refs=['sbi-t0001-20240913-00031'], parameters={'version': '0.5.0', 'num_scans': 5, 'additional_args': ['--thresh_width', '1.25'], 'kafka_topic': 'pointing_offset'}, dependencies=[PbDependency(pb_ref='pb-t0001-20240913-00033', kind=['vis-receive'])]), ProcessingBlock(pb_id='pb-t0001-20240913-00033', script=Script(name='vis-receive', kind=<ScriptKind.REALTIME: 'realtime'>, version='4.2.1'), sbi_refs=['sbi-t0001-20240913-00031'], parameters={'channels_per_port': 20, 'transport_protocol': 'udp', 'use_network_definition': True, 'extra_helm_values': {'receiver': {'options': {'reception': {'reset_time_indexing_after_each_scan': True}, 'telescope_model': {'telmodel_key': 'instrument/ska1_mid/layout/mid-layout.json'}}}}, 'pod_settings': [{'securityContext': {'runAsUser': 0, 'fsGroup': 0}}], 'processors': {'signal-display-metrics-amplitude': {}, 'signal-display-metrics-basic': {}, 'signal-display-metrics-phase': {}, 'mswriter': {}}}, dependencies=[PbDependency(pb_ref='pb-t0001-20240913-00033', kind=['pointing-offset'])])]) dish_configurations=[DishConfiguration(dish_configuration_id='dish config 123', receiver_band=<ReceiverBand.BAND_1: '1'>)] csp_configurations=[CSPConfiguration(config_id='csp config 123', subarray=SubarrayConfiguration(subarray_name='science period 23'), common=CommonConfiguration(subarray_id=1, band_5_tuning=[]), cbf=CBFConfiguration(fsps=[FSPConfiguration(fsp_id=1, function_mode=<FSPFunctionMode.CORR: 'CORR'>, frequency_slice_id=1, integration_factor=1, zoom_factor=0, channel_averaging_map=[(0, 2), (744, 0)], output_link_map=[(0, 0), (200, 1)], channel_offset=0, zoom_window_tuning=None)], vlbi=None), midcbf=None, lowcbf=None, pst=None, pss=None)] dish_allocations=DishAllocation(receptor_ids=frozenset({'SKA001'})) mccs_allocation=None\n",
      "subarray_id=1 dish=DishAllocation(receptor_ids=frozenset({'SKA001'})) csp_config=None sdp_config=SDPConfiguration(interface='https://schema.skao.int/ska-sdp-assignres/0.4', transaction_id=None, execution_block=ExecutionBlockConfiguration(eb_id='eb-t0001-20240913-00026', max_length=21600.0, context={}, beams=[BeamConfiguration(beam_id='vis0', function='visibilities', search_beam_id=None, timing_beam_id=None, vlbi_beam_id=None)], channels=[ChannelConfiguration(channels_id='vis_channels', spectral_windows=[Channel(count=14880, start=0, stride=1, freq_min=269000000.0, freq_max=469000000.0, link_map=[[0, 0], [200, 1], [744, 2], [944, 3]], spectral_window_id='fsp_1_channels')])], polarisations=[PolarisationConfiguration(polarisations_id='all', corr_type=['XX', 'XY', 'YX', 'YY'])], fields=[FieldConfiguration(field_id='Polaris Australis', pointing_fqdn=None, phase_dir=PhaseDir(ra=[317.19966666666664], dec=[-88.95636111111111], reference_time='2024-09-13T22:00:05.423055+00:00', reference_frame='ICRF3')), FieldConfiguration(field_id='M83', pointing_fqdn=None, phase_dir=PhaseDir(ra=[204.2538291666666], dec=[-29.865761111111112], reference_time='2024-09-13T22:00:05.425423+00:00', reference_frame='ICRF3'))], scan_types=[EBScanType(scan_type_id='.default', beams={'vis0': EBScanTypeBeam(field_id=None, channels_id='vis_channels', polarisations_id='all')}, derive_from=None), EBScanType(scan_type_id='pointing', beams={'vis0': EBScanTypeBeam(field_id='M83', channels_id=None, polarisations_id=None)}, derive_from='.default'), EBScanType(scan_type_id='science', beams={'vis0': EBScanTypeBeam(field_id='Polaris Australis', channels_id=None, polarisations_id=None)}, derive_from='.default')]), resources={'receptors': ['SKA001'], 'receive_nodes': 1}, processing_blocks=[ProcessingBlockConfiguration(pb_id='pb-t0001-20240913-00033', workflow=None, parameters={'version': '0.5.0', 'num_scans': 5, 'additional_args': ['--thresh_width', '1.25'], 'kafka_topic': 'pointing_offset'}, dependencies=[PbDependency(pb_id='pb-t0001-20240913-00033', kind=['vis-receive'])], sbi_ids=['sbi-t0001-20240913-00031'], script=ScriptConfiguration(kind='realtime', name='pointing-offset', version='0.5.0')), ProcessingBlockConfiguration(pb_id='pb-t0001-20240913-00033', workflow=None, parameters={'channels_per_port': 20, 'transport_protocol': 'udp', 'use_network_definition': True, 'extra_helm_values': {'receiver': {'options': {'reception': {'reset_time_indexing_after_each_scan': True}, 'telescope_model': {'telmodel_key': 'instrument/ska1_mid/layout/mid-layout.json'}}}}, 'pod_settings': [{'securityContext': {'runAsUser': 0, 'fsGroup': 0}}], 'processors': {'signal-display-metrics-amplitude': {}, 'signal-display-metrics-basic': {}, 'signal-display-metrics-phase': {}, 'mswriter': {}}}, dependencies=[PbDependency(pb_id='pb-t0001-20240913-00033', kind=['pointing-offset'])], sbi_ids=['sbi-t0001-20240913-00031'], script=ScriptConfiguration(kind='realtime', name='vis-receive', version='4.2.1'))]) mccs=None interface='https://schema.skao.int/ska-tmc-assignresources/2.1' transaction_id=None\n"
     ]
    }
   ],
   "source": [
    "print(sbi)\n",
    "print(assign_requests)\n",
    "print(sbi_2)\n",
    "print(assign_requests_2)"
   ]
  },
  {
   "cell_type": "code",
   "execution_count": 72,
   "metadata": {},
   "outputs": [
    {
     "name": "stdout",
     "output_type": "stream",
     "text": [
      "subarray_id=1 dish=DishAllocation(receptor_ids=frozenset({'SKA001'})) csp_config=None sdp_config=SDPConfiguration(interface='https://schema.skao.int/ska-sdp-assignres/0.4', transaction_id=None, execution_block=ExecutionBlockConfiguration(eb_id='eb-t0001-20240913-00025', max_length=21600.0, context={}, beams=[BeamConfiguration(beam_id='vis0', function='visibilities', search_beam_id=None, timing_beam_id=None, vlbi_beam_id=None)], channels=[ChannelConfiguration(channels_id='vis_channels', spectral_windows=[Channel(count=14880, start=0, stride=1, freq_min=269000000.0, freq_max=469000000.0, link_map=[[0, 0], [200, 1], [744, 2], [944, 3]], spectral_window_id='fsp_1_channels')])], polarisations=[PolarisationConfiguration(polarisations_id='all', corr_type=['XX', 'XY', 'YX', 'YY'])], fields=[FieldConfiguration(field_id='Polaris Australis', pointing_fqdn=None, phase_dir=PhaseDir(ra=[317.19966666666664], dec=[-88.95636111111111], reference_time='2024-09-13T22:00:02.252987+00:00', reference_frame='ICRF3')), FieldConfiguration(field_id='M83', pointing_fqdn=None, phase_dir=PhaseDir(ra=[204.2538291666666], dec=[-29.865761111111112], reference_time='2024-09-13T22:00:02.255279+00:00', reference_frame='ICRF3'))], scan_types=[EBScanType(scan_type_id='.default', beams={'vis0': EBScanTypeBeam(field_id=None, channels_id='vis_channels', polarisations_id='all')}, derive_from=None), EBScanType(scan_type_id='pointing', beams={'vis0': EBScanTypeBeam(field_id='M83', channels_id=None, polarisations_id=None)}, derive_from='.default'), EBScanType(scan_type_id='science', beams={'vis0': EBScanTypeBeam(field_id='Polaris Australis', channels_id=None, polarisations_id=None)}, derive_from='.default')]), resources={'receptors': ['SKA001'], 'receive_nodes': 1}, processing_blocks=[ProcessingBlockConfiguration(pb_id='pb-t0001-20240913-00028', workflow=None, parameters={'version': '0.5.0', 'num_scans': 5, 'additional_args': ['--thresh_width', '1.25'], 'kafka_topic': 'pointing_offset'}, dependencies=[PbDependency(pb_id='pb-t0001-20240913-00029', kind=['vis-receive'])], sbi_ids=['sbi-t0001-20240913-00027'], script=ScriptConfiguration(kind='realtime', name='pointing-offset', version='0.5.0')), ProcessingBlockConfiguration(pb_id='pb-t0001-20240913-00029', workflow=None, parameters={'channels_per_port': 20, 'transport_protocol': 'udp', 'use_network_definition': True, 'extra_helm_values': {'receiver': {'options': {'reception': {'reset_time_indexing_after_each_scan': True}, 'telescope_model': {'telmodel_key': 'instrument/ska1_mid/layout/mid-layout.json'}}}}, 'pod_settings': [{'securityContext': {'runAsUser': 0, 'fsGroup': 0}}], 'processors': {'signal-display-metrics-amplitude': {}, 'signal-display-metrics-basic': {}, 'signal-display-metrics-phase': {}, 'mswriter': {}}}, dependencies=[PbDependency(pb_id='pb-t0001-20240913-00028', kind=['pointing-offset'])], sbi_ids=['sbi-t0001-20240913-00027'], script=ScriptConfiguration(kind='realtime', name='vis-receive', version='4.2.1'))]) mccs=None interface='https://schema.skao.int/ska-tmc-assignresources/2.1' transaction_id=None\n",
      "subarray_id=1 dish=DishAllocation(receptor_ids=frozenset({'SKA001'})) csp_config=None sdp_config=SDPConfiguration(interface='https://schema.skao.int/ska-sdp-assignres/0.4', transaction_id=None, execution_block=ExecutionBlockConfiguration(eb_id='eb-t0001-20240913-00025', max_length=21600.0, context={}, beams=[BeamConfiguration(beam_id='vis0', function='visibilities', search_beam_id=None, timing_beam_id=None, vlbi_beam_id=None)], channels=[ChannelConfiguration(channels_id='vis_channels', spectral_windows=[Channel(count=14880, start=0, stride=1, freq_min=269000000.0, freq_max=469000000.0, link_map=[[0, 0], [200, 1], [744, 2], [944, 3]], spectral_window_id='fsp_1_channels')])], polarisations=[PolarisationConfiguration(polarisations_id='all', corr_type=['XX', 'XY', 'YX', 'YY'])], fields=[FieldConfiguration(field_id='Polaris Australis', pointing_fqdn=None, phase_dir=PhaseDir(ra=[317.19966666666664], dec=[-88.95636111111111], reference_time='2024-09-13T22:00:02.252987+00:00', reference_frame='ICRF3')), FieldConfiguration(field_id='M83', pointing_fqdn=None, phase_dir=PhaseDir(ra=[204.2538291666666], dec=[-29.865761111111112], reference_time='2024-09-13T22:00:02.255279+00:00', reference_frame='ICRF3'))], scan_types=[EBScanType(scan_type_id='.default', beams={'vis0': EBScanTypeBeam(field_id=None, channels_id='vis_channels', polarisations_id='all')}, derive_from=None), EBScanType(scan_type_id='pointing', beams={'vis0': EBScanTypeBeam(field_id='M83', channels_id=None, polarisations_id=None)}, derive_from='.default'), EBScanType(scan_type_id='science', beams={'vis0': EBScanTypeBeam(field_id='Polaris Australis', channels_id=None, polarisations_id=None)}, derive_from='.default')]), resources={'receptors': ['SKA001'], 'receive_nodes': 1}, processing_blocks=[ProcessingBlockConfiguration(pb_id='pb-t0001-20240913-00028', workflow=None, parameters={'version': '0.5.0', 'num_scans': 5, 'additional_args': ['--thresh_width', '1.25'], 'kafka_topic': 'pointing_offset'}, dependencies=[PbDependency(pb_id='pb-t0001-20240913-00029', kind=['vis-receive'])], sbi_ids=['sbi-t0001-20240913-00027'], script=ScriptConfiguration(kind='realtime', name='pointing-offset', version='0.5.0')), ProcessingBlockConfiguration(pb_id='pb-t0001-20240913-00029', workflow=None, parameters={'channels_per_port': 20, 'transport_protocol': 'udp', 'use_network_definition': True, 'extra_helm_values': {'receiver': {'options': {'reception': {'reset_time_indexing_after_each_scan': True}, 'telescope_model': {'telmodel_key': 'instrument/ska1_mid/layout/mid-layout.json'}}}}, 'pod_settings': [{'securityContext': {'runAsUser': 0, 'fsGroup': 0}}], 'processors': {'signal-display-metrics-amplitude': {}, 'signal-display-metrics-basic': {}, 'signal-display-metrics-phase': {}, 'mswriter': {}}}, dependencies=[PbDependency(pb_id='pb-t0001-20240913-00028', kind=['pointing-offset'])], sbi_ids=['sbi-t0001-20240913-00027'], script=ScriptConfiguration(kind='realtime', name='vis-receive', version='4.2.1'))]) mccs=None interface='' transaction_id=None\n"
     ]
    }
   ],
   "source": [
    "print(assign_requests)\n",
    "stripped_assign_requests = assign_requests\n",
    "stripped_assign_requests.interface = \"\"\n",
    "stripped_assign_requests.dish.receptor_ids = receptor_ids\n",
    "print(stripped_assign_requests)"
   ]
  },
  {
   "cell_type": "code",
   "execution_count": 73,
   "metadata": {},
   "outputs": [
    {
     "name": "stdout",
     "output_type": "stream",
     "text": [
      "subarray_id=1 dish=DishAllocation(receptor_ids=frozenset({'SKA001'})) csp_config=None sdp_config=SDPConfiguration(interface='https://schema.skao.int/ska-sdp-assignres/0.4', transaction_id=None, execution_block=ExecutionBlockConfiguration(eb_id='eb-t0001-20240913-00026', max_length=21600.0, context={}, beams=[BeamConfiguration(beam_id='vis0', function='visibilities', search_beam_id=None, timing_beam_id=None, vlbi_beam_id=None)], channels=[ChannelConfiguration(channels_id='vis_channels', spectral_windows=[Channel(count=14880, start=0, stride=1, freq_min=269000000.0, freq_max=469000000.0, link_map=[[0, 0], [200, 1], [744, 2], [944, 3]], spectral_window_id='fsp_1_channels')])], polarisations=[PolarisationConfiguration(polarisations_id='all', corr_type=['XX', 'XY', 'YX', 'YY'])], fields=[FieldConfiguration(field_id='Polaris Australis', pointing_fqdn=None, phase_dir=PhaseDir(ra=[317.19966666666664], dec=[-88.95636111111111], reference_time='2024-09-13T22:00:05.423055+00:00', reference_frame='ICRF3')), FieldConfiguration(field_id='M83', pointing_fqdn=None, phase_dir=PhaseDir(ra=[204.2538291666666], dec=[-29.865761111111112], reference_time='2024-09-13T22:00:05.425423+00:00', reference_frame='ICRF3'))], scan_types=[EBScanType(scan_type_id='.default', beams={'vis0': EBScanTypeBeam(field_id=None, channels_id='vis_channels', polarisations_id='all')}, derive_from=None), EBScanType(scan_type_id='pointing', beams={'vis0': EBScanTypeBeam(field_id='M83', channels_id=None, polarisations_id=None)}, derive_from='.default'), EBScanType(scan_type_id='science', beams={'vis0': EBScanTypeBeam(field_id='Polaris Australis', channels_id=None, polarisations_id=None)}, derive_from='.default')]), resources={'receptors': ['SKA001'], 'receive_nodes': 1}, processing_blocks=[ProcessingBlockConfiguration(pb_id='pb-t0001-20240913-00033', workflow=None, parameters={'version': '0.5.0', 'num_scans': 5, 'additional_args': ['--thresh_width', '1.25'], 'kafka_topic': 'pointing_offset'}, dependencies=[PbDependency(pb_id='pb-t0001-20240913-00033', kind=['vis-receive'])], sbi_ids=['sbi-t0001-20240913-00031'], script=ScriptConfiguration(kind='realtime', name='pointing-offset', version='0.5.0')), ProcessingBlockConfiguration(pb_id='pb-t0001-20240913-00033', workflow=None, parameters={'channels_per_port': 20, 'transport_protocol': 'udp', 'use_network_definition': True, 'extra_helm_values': {'receiver': {'options': {'reception': {'reset_time_indexing_after_each_scan': True}, 'telescope_model': {'telmodel_key': 'instrument/ska1_mid/layout/mid-layout.json'}}}}, 'pod_settings': [{'securityContext': {'runAsUser': 0, 'fsGroup': 0}}], 'processors': {'signal-display-metrics-amplitude': {}, 'signal-display-metrics-basic': {}, 'signal-display-metrics-phase': {}, 'mswriter': {}}}, dependencies=[PbDependency(pb_id='pb-t0001-20240913-00033', kind=['pointing-offset'])], sbi_ids=['sbi-t0001-20240913-00031'], script=ScriptConfiguration(kind='realtime', name='vis-receive', version='4.2.1'))]) mccs=None interface='https://schema.skao.int/ska-tmc-assignresources/2.1' transaction_id=None\n",
      "subarray_id=1 dish=DishAllocation(receptor_ids=frozenset({'SKA001'})) csp_config=None sdp_config=SDPConfiguration(interface='https://schema.skao.int/ska-sdp-assignres/0.4', transaction_id=None, execution_block=ExecutionBlockConfiguration(eb_id='eb-t0001-20240913-00026', max_length=21600.0, context={}, beams=[BeamConfiguration(beam_id='vis0', function='visibilities', search_beam_id=None, timing_beam_id=None, vlbi_beam_id=None)], channels=[ChannelConfiguration(channels_id='vis_channels', spectral_windows=[Channel(count=14880, start=0, stride=1, freq_min=269000000.0, freq_max=469000000.0, link_map=[[0, 0], [200, 1], [744, 2], [944, 3]], spectral_window_id='fsp_1_channels')])], polarisations=[PolarisationConfiguration(polarisations_id='all', corr_type=['XX', 'XY', 'YX', 'YY'])], fields=[FieldConfiguration(field_id='Polaris Australis', pointing_fqdn=None, phase_dir=PhaseDir(ra=[317.19966666666664], dec=[-88.95636111111111], reference_time='2024-09-13T22:00:05.423055+00:00', reference_frame='ICRF3')), FieldConfiguration(field_id='M83', pointing_fqdn=None, phase_dir=PhaseDir(ra=[204.2538291666666], dec=[-29.865761111111112], reference_time='2024-09-13T22:00:05.425423+00:00', reference_frame='ICRF3'))], scan_types=[EBScanType(scan_type_id='.default', beams={'vis0': EBScanTypeBeam(field_id=None, channels_id='vis_channels', polarisations_id='all')}, derive_from=None), EBScanType(scan_type_id='pointing', beams={'vis0': EBScanTypeBeam(field_id='M83', channels_id=None, polarisations_id=None)}, derive_from='.default'), EBScanType(scan_type_id='science', beams={'vis0': EBScanTypeBeam(field_id='Polaris Australis', channels_id=None, polarisations_id=None)}, derive_from='.default')]), resources={'receptors': ['SKA001'], 'receive_nodes': 1}, processing_blocks=[ProcessingBlockConfiguration(pb_id='pb-t0001-20240913-00033', workflow=None, parameters={'version': '0.5.0', 'num_scans': 5, 'additional_args': ['--thresh_width', '1.25'], 'kafka_topic': 'pointing_offset'}, dependencies=[PbDependency(pb_id='pb-t0001-20240913-00033', kind=['vis-receive'])], sbi_ids=['sbi-t0001-20240913-00031'], script=ScriptConfiguration(kind='realtime', name='pointing-offset', version='0.5.0')), ProcessingBlockConfiguration(pb_id='pb-t0001-20240913-00033', workflow=None, parameters={'channels_per_port': 20, 'transport_protocol': 'udp', 'use_network_definition': True, 'extra_helm_values': {'receiver': {'options': {'reception': {'reset_time_indexing_after_each_scan': True}, 'telescope_model': {'telmodel_key': 'instrument/ska1_mid/layout/mid-layout.json'}}}}, 'pod_settings': [{'securityContext': {'runAsUser': 0, 'fsGroup': 0}}], 'processors': {'signal-display-metrics-amplitude': {}, 'signal-display-metrics-basic': {}, 'signal-display-metrics-phase': {}, 'mswriter': {}}}, dependencies=[PbDependency(pb_id='pb-t0001-20240913-00033', kind=['pointing-offset'])], sbi_ids=['sbi-t0001-20240913-00031'], script=ScriptConfiguration(kind='realtime', name='vis-receive', version='4.2.1'))]) mccs=None interface='' transaction_id=None\n"
     ]
    }
   ],
   "source": [
    "print(assign_requests_2)\n",
    "stripped_assign_requests_2 = assign_requests_2\n",
    "stripped_assign_requests_2.interface = \"\"\n",
    "stripped_assign_requests_2.dish.receptor_ids = receptor_ids\n",
    "print(stripped_assign_requests_2)"
   ]
  },
  {
   "cell_type": "markdown",
   "metadata": {},
   "source": [
    "Now assign the resources to the subarray."
   ]
  },
  {
   "cell_type": "code",
   "execution_count": 74,
   "metadata": {},
   "outputs": [
    {
     "name": "stdout",
     "output_type": "stream",
     "text": [
      "1|2024-09-13T22:01:06.495Z|INFO|MainThread|_call_and_wait_for_transition|common.py#139||Using pub/sub to track obsState of ska_mid/tm_subarray_node/1\n",
      "1|2024-09-13T22:01:06.499Z|INFO|MainThread|_get_id_from_params_or_generate_new_id|transactions.py#172||Generated transaction ID txn-t0001-20240913-000000035\n",
      "1|2024-09-13T22:01:06.499Z|INFO|MainThread|log_entry|transactions.py#132||Transaction[txn-t0001-20240913-000000035]: Enter[AssignResources] with parameters [{}] marker[12853]\n",
      "1|2024-09-13T22:01:06.500Z|INFO|MainThread|_call_and_wait_for_transition|common.py#170||Added Transaction_id to command: <Command('ska_mid/tm_central/central_node', 'AssignResources', '{\"subarray_id\": 1, \"dish\": {\"receptor_ids\": [\"SKA001\"]}, \"sdp\": {\"interface\": \"https://schema.skao.int/ska-sdp-assignres/0.4\", \"execution_block\": {\"eb_id\": \"eb-t0001-20240913-00026\", \"max_length\": 21600.0, \"context\": {}, \"beams\": [{\"beam_id\": \"vis0\", \"function\": \"visibilities\"}], \"channels\": [{\"channels_id\": \"vis_channels\", \"spectral_windows\": [{\"count\": 14880, \"start\": 0, \"stride\": 1, \"freq_min\": 269000000.0, \"freq_max\": 469000000.0, \"link_map\": [[0, 0], [200, 1], [744, 2], [944, 3]], \"spectral_window_id\": \"fsp_1_channels\"}]}], \"polarisations\": [{\"polarisations_id\": \"all\", \"corr_type\": [\"XX\", \"XY\", \"YX\", \"YY\"]}], \"fields\": [{\"field_id\": \"Polaris Australis\", \"phase_dir\": {\"ra\": [317.19966666666664], \"dec\": [-88.95636111111111], \"reference_time\": \"2024-09-13T22:00:02.252987+00:00\", \"reference_frame\": \"ICRF3\"}}, {\"field_id\": \"M83\", \"phase_dir\": {\"ra\": [204.2538291666666], \"dec\": [-29.865761111111112], \"reference_time\": \"2024-09-13T22:00:02.255279+00:00\", \"reference_frame\": \"ICRF3\"}}], \"scan_types\": [{\"scan_type_id\": \".default\", \"beams\": {\"vis0\": {\"channels_id\": \"vis_channels\", \"polarisations_id\": \"all\"}}}, {\"scan_type_id\": \"pointing\", \"beams\": {\"vis0\": {\"field_id\": \"M83\"}}, \"derive_from\": \".default\"}, {\"scan_type_id\": \"science\", \"beams\": {\"vis0\": {\"field_id\": \"Polaris Australis\"}}, \"derive_from\": \".default\"}]}, \"resources\": {\"receptors\": [\"SKA001\"], \"receive_nodes\": 1}, \"processing_blocks\": [{\"pb_id\": \"pb-t0001-20240913-00028\", \"parameters\": {\"version\": \"0.5.0\", \"num_scans\": 5, \"additional_args\": [\"--thresh_width\", \"1.25\"], \"kafka_topic\": \"pointing_offset\"}, \"dependencies\": [{\"pb_id\": \"pb-t0001-20240913-00029\", \"kind\": [\"vis-receive\"]}], \"sbi_ids\": [\"sbi-t0001-20240913-00027\"], \"script\": {\"kind\": \"realtime\", \"name\": \"pointing-offset\", \"version\": \"0.5.0\"}}, {\"pb_id\": \"pb-t0001-20240913-00029\", \"parameters\": {\"channels_per_port\": 20, \"transport_protocol\": \"udp\", \"use_network_definition\": true, \"extra_helm_values\": {\"receiver\": {\"options\": {\"reception\": {\"reset_time_indexing_after_each_scan\": true}, \"telescope_model\": {\"telmodel_key\": \"instrument/ska1_mid/layout/mid-layout.json\"}}}}, \"pod_settings\": [{\"securityContext\": {\"runAsUser\": 0, \"fsGroup\": 0}}], \"processors\": {\"signal-display-metrics-amplitude\": {}, \"signal-display-metrics-basic\": {}, \"signal-display-metrics-phase\": {}, \"mswriter\": {}}}, \"dependencies\": [{\"pb_id\": \"pb-t0001-20240913-00028\", \"kind\": [\"pointing-offset\"]}], \"sbi_ids\": [\"sbi-t0001-20240913-00027\"], \"script\": {\"kind\": \"realtime\", \"name\": \"vis-receive\", \"version\": \"4.2.1\"}}]}, \"interface\": \"\", \"transaction_id\": \"txn-t0001-20240913-000000035\"}')>\n",
      "1|2024-09-13T22:01:06.500Z|INFO|MainThread|execute|tango_executor.py#243||Executing command: <Command('ska_mid/tm_central/central_node', 'AssignResources', '{\"subarray_id\": 1, \"dish\": {\"receptor_ids\": [\"SKA001\"]}, \"sdp\": {\"interface\": \"https://schema.skao.int/ska-sdp-assignres/0.4\", \"execution_block\": {\"eb_id\": \"eb-t0001-20240913-00026\", \"max_length\": 21600.0, \"context\": {}, \"beams\": [{\"beam_id\": \"vis0\", \"function\": \"visibilities\"}], \"channels\": [{\"channels_id\": \"vis_channels\", \"spectral_windows\": [{\"count\": 14880, \"start\": 0, \"stride\": 1, \"freq_min\": 269000000.0, \"freq_max\": 469000000.0, \"link_map\": [[0, 0], [200, 1], [744, 2], [944, 3]], \"spectral_window_id\": \"fsp_1_channels\"}]}], \"polarisations\": [{\"polarisations_id\": \"all\", \"corr_type\": [\"XX\", \"XY\", \"YX\", \"YY\"]}], \"fields\": [{\"field_id\": \"Polaris Australis\", \"phase_dir\": {\"ra\": [317.19966666666664], \"dec\": [-88.95636111111111], \"reference_time\": \"2024-09-13T22:00:02.252987+00:00\", \"reference_frame\": \"ICRF3\"}}, {\"field_id\": \"M83\", \"phase_dir\": {\"ra\": [204.2538291666666], \"dec\": [-29.865761111111112], \"reference_time\": \"2024-09-13T22:00:02.255279+00:00\", \"reference_frame\": \"ICRF3\"}}], \"scan_types\": [{\"scan_type_id\": \".default\", \"beams\": {\"vis0\": {\"channels_id\": \"vis_channels\", \"polarisations_id\": \"all\"}}}, {\"scan_type_id\": \"pointing\", \"beams\": {\"vis0\": {\"field_id\": \"M83\"}}, \"derive_from\": \".default\"}, {\"scan_type_id\": \"science\", \"beams\": {\"vis0\": {\"field_id\": \"Polaris Australis\"}}, \"derive_from\": \".default\"}]}, \"resources\": {\"receptors\": [\"SKA001\"], \"receive_nodes\": 1}, \"processing_blocks\": [{\"pb_id\": \"pb-t0001-20240913-00028\", \"parameters\": {\"version\": \"0.5.0\", \"num_scans\": 5, \"additional_args\": [\"--thresh_width\", \"1.25\"], \"kafka_topic\": \"pointing_offset\"}, \"dependencies\": [{\"pb_id\": \"pb-t0001-20240913-00029\", \"kind\": [\"vis-receive\"]}], \"sbi_ids\": [\"sbi-t0001-20240913-00027\"], \"script\": {\"kind\": \"realtime\", \"name\": \"pointing-offset\", \"version\": \"0.5.0\"}}, {\"pb_id\": \"pb-t0001-20240913-00029\", \"parameters\": {\"channels_per_port\": 20, \"transport_protocol\": \"udp\", \"use_network_definition\": true, \"extra_helm_values\": {\"receiver\": {\"options\": {\"reception\": {\"reset_time_indexing_after_each_scan\": true}, \"telescope_model\": {\"telmodel_key\": \"instrument/ska1_mid/layout/mid-layout.json\"}}}}, \"pod_settings\": [{\"securityContext\": {\"runAsUser\": 0, \"fsGroup\": 0}}], \"processors\": {\"signal-display-metrics-amplitude\": {}, \"signal-display-metrics-basic\": {}, \"signal-display-metrics-phase\": {}, \"mswriter\": {}}}, \"dependencies\": [{\"pb_id\": \"pb-t0001-20240913-00028\", \"kind\": [\"pointing-offset\"]}], \"sbi_ids\": [\"sbi-t0001-20240913-00027\"], \"script\": {\"kind\": \"realtime\", \"name\": \"vis-receive\", \"version\": \"4.2.1\"}}]}, \"interface\": \"\", \"transaction_id\": \"txn-t0001-20240913-000000035\"}')>\n",
      "1|2024-09-13T22:01:06.518Z|INFO|MainThread|wait_for_transition|common.py#330||Waiting for obsState to transition to ObsState.RESOURCING\n",
      "1|2024-09-13T22:01:06.518Z|INFO|MainThread|read_event|tango_executor.py#186||Reading event from the queue with timeout 1000\n",
      "1|2024-09-13T22:01:06.633Z|INFO|MainThread|wait_for_transition|common.py#346||obsState reached target state ObsState.RESOURCING\n",
      "1|2024-09-13T22:01:06.634Z|INFO|MainThread|wait_for_transition|common.py#330||Waiting for obsState to transition to ObsState.IDLE\n",
      "1|2024-09-13T22:01:06.634Z|INFO|MainThread|read_event|tango_executor.py#186||Reading event from the queue with timeout 1000\n",
      "1|2024-09-13T22:01:10.233Z|INFO|MainThread|wait_for_transition|common.py#346||obsState reached target state ObsState.IDLE\n",
      "1|2024-09-13T22:01:10.233Z|INFO|MainThread|log_exit|transactions.py#150||Transaction[txn-t0001-20240913-000000035]: Exit[AssignResources] marker[12853]\n"
     ]
    }
   ],
   "source": [
    "sub.assign_from_cdm(stripped_assign_requests, timeout=1000)"
   ]
  },
  {
   "cell_type": "markdown",
   "metadata": {},
   "source": [
    "Check that the visibility pod spins up correctly, with the signal displays."
   ]
  },
  {
   "cell_type": "code",
   "execution_count": null,
   "metadata": {},
   "outputs": [
    {
     "name": "stdout",
     "output_type": "stream",
     "text": [
      "proc-pb-t0001-20240913-00029-vis-receive-00-0                   6/6     Running     2 (12m ago)   12m\n"
     ]
    }
   ],
   "source": [
    "!kubectl -n $namespace-sdp get pods | grep vis-receive"
   ]
  },
  {
   "cell_type": "code",
   "execution_count": 89,
   "metadata": {},
   "outputs": [
    {
     "name": "stdout",
     "output_type": "stream",
     "text": [
      "1|2024-09-13T22:13:54.010Z|INFO|MainThread|_call_and_wait_for_transition|common.py#139||Using pub/sub to track obsState of ska_mid/tm_subarray_node/1\n",
      "1|2024-09-13T22:13:54.015Z|INFO|MainThread|_get_id_from_params_or_generate_new_id|transactions.py#172||Generated transaction ID txn-t0001-20240913-000000037\n",
      "1|2024-09-13T22:13:54.015Z|INFO|MainThread|log_entry|transactions.py#132||Transaction[txn-t0001-20240913-000000037]: Enter[AssignResources] with parameters [{}] marker[81990]\n",
      "1|2024-09-13T22:13:54.015Z|INFO|MainThread|_call_and_wait_for_transition|common.py#170||Added Transaction_id to command: <Command('ska_mid/tm_central/central_node', 'AssignResources', '{\"subarray_id\": 1, \"dish\": {\"receptor_ids\": [\"SKA001\"]}, \"sdp\": {\"interface\": \"https://schema.skao.int/ska-sdp-assignres/0.4\", \"execution_block\": {\"eb_id\": \"eb-t0001-20240913-00026\", \"max_length\": 21600.0, \"context\": {}, \"beams\": [{\"beam_id\": \"vis0\", \"function\": \"visibilities\"}], \"channels\": [{\"channels_id\": \"vis_channels\", \"spectral_windows\": [{\"count\": 14880, \"start\": 0, \"stride\": 1, \"freq_min\": 269000000.0, \"freq_max\": 469000000.0, \"link_map\": [[0, 0], [200, 1], [744, 2], [944, 3]], \"spectral_window_id\": \"fsp_1_channels\"}]}], \"polarisations\": [{\"polarisations_id\": \"all\", \"corr_type\": [\"XX\", \"XY\", \"YX\", \"YY\"]}], \"fields\": [{\"field_id\": \"Polaris Australis\", \"phase_dir\": {\"ra\": [317.19966666666664], \"dec\": [-88.95636111111111], \"reference_time\": \"2024-09-13T22:00:05.423055+00:00\", \"reference_frame\": \"ICRF3\"}}, {\"field_id\": \"M83\", \"phase_dir\": {\"ra\": [204.2538291666666], \"dec\": [-29.865761111111112], \"reference_time\": \"2024-09-13T22:00:05.425423+00:00\", \"reference_frame\": \"ICRF3\"}}], \"scan_types\": [{\"scan_type_id\": \".default\", \"beams\": {\"vis0\": {\"channels_id\": \"vis_channels\", \"polarisations_id\": \"all\"}}}, {\"scan_type_id\": \"pointing\", \"beams\": {\"vis0\": {\"field_id\": \"M83\"}}, \"derive_from\": \".default\"}, {\"scan_type_id\": \"science\", \"beams\": {\"vis0\": {\"field_id\": \"Polaris Australis\"}}, \"derive_from\": \".default\"}]}, \"resources\": {\"receptors\": [\"SKA001\"], \"receive_nodes\": 1}, \"processing_blocks\": [{\"pb_id\": \"pb-t0001-20240913-00033\", \"parameters\": {\"version\": \"0.5.0\", \"num_scans\": 5, \"additional_args\": [\"--thresh_width\", \"1.25\"], \"kafka_topic\": \"pointing_offset\"}, \"dependencies\": [{\"pb_id\": \"pb-t0001-20240913-00033\", \"kind\": [\"vis-receive\"]}], \"sbi_ids\": [\"sbi-t0001-20240913-00031\"], \"script\": {\"kind\": \"realtime\", \"name\": \"pointing-offset\", \"version\": \"0.5.0\"}}, {\"pb_id\": \"pb-t0001-20240913-00033\", \"parameters\": {\"channels_per_port\": 20, \"transport_protocol\": \"udp\", \"use_network_definition\": true, \"extra_helm_values\": {\"receiver\": {\"options\": {\"reception\": {\"reset_time_indexing_after_each_scan\": true}, \"telescope_model\": {\"telmodel_key\": \"instrument/ska1_mid/layout/mid-layout.json\"}}}}, \"pod_settings\": [{\"securityContext\": {\"runAsUser\": 0, \"fsGroup\": 0}}], \"processors\": {\"signal-display-metrics-amplitude\": {}, \"signal-display-metrics-basic\": {}, \"signal-display-metrics-phase\": {}, \"mswriter\": {}}}, \"dependencies\": [{\"pb_id\": \"pb-t0001-20240913-00033\", \"kind\": [\"pointing-offset\"]}], \"sbi_ids\": [\"sbi-t0001-20240913-00031\"], \"script\": {\"kind\": \"realtime\", \"name\": \"vis-receive\", \"version\": \"4.2.1\"}}]}, \"interface\": \"\", \"transaction_id\": \"txn-t0001-20240913-000000037\"}')>\n",
      "1|2024-09-13T22:13:54.016Z|INFO|MainThread|execute|tango_executor.py#243||Executing command: <Command('ska_mid/tm_central/central_node', 'AssignResources', '{\"subarray_id\": 1, \"dish\": {\"receptor_ids\": [\"SKA001\"]}, \"sdp\": {\"interface\": \"https://schema.skao.int/ska-sdp-assignres/0.4\", \"execution_block\": {\"eb_id\": \"eb-t0001-20240913-00026\", \"max_length\": 21600.0, \"context\": {}, \"beams\": [{\"beam_id\": \"vis0\", \"function\": \"visibilities\"}], \"channels\": [{\"channels_id\": \"vis_channels\", \"spectral_windows\": [{\"count\": 14880, \"start\": 0, \"stride\": 1, \"freq_min\": 269000000.0, \"freq_max\": 469000000.0, \"link_map\": [[0, 0], [200, 1], [744, 2], [944, 3]], \"spectral_window_id\": \"fsp_1_channels\"}]}], \"polarisations\": [{\"polarisations_id\": \"all\", \"corr_type\": [\"XX\", \"XY\", \"YX\", \"YY\"]}], \"fields\": [{\"field_id\": \"Polaris Australis\", \"phase_dir\": {\"ra\": [317.19966666666664], \"dec\": [-88.95636111111111], \"reference_time\": \"2024-09-13T22:00:05.423055+00:00\", \"reference_frame\": \"ICRF3\"}}, {\"field_id\": \"M83\", \"phase_dir\": {\"ra\": [204.2538291666666], \"dec\": [-29.865761111111112], \"reference_time\": \"2024-09-13T22:00:05.425423+00:00\", \"reference_frame\": \"ICRF3\"}}], \"scan_types\": [{\"scan_type_id\": \".default\", \"beams\": {\"vis0\": {\"channels_id\": \"vis_channels\", \"polarisations_id\": \"all\"}}}, {\"scan_type_id\": \"pointing\", \"beams\": {\"vis0\": {\"field_id\": \"M83\"}}, \"derive_from\": \".default\"}, {\"scan_type_id\": \"science\", \"beams\": {\"vis0\": {\"field_id\": \"Polaris Australis\"}}, \"derive_from\": \".default\"}]}, \"resources\": {\"receptors\": [\"SKA001\"], \"receive_nodes\": 1}, \"processing_blocks\": [{\"pb_id\": \"pb-t0001-20240913-00033\", \"parameters\": {\"version\": \"0.5.0\", \"num_scans\": 5, \"additional_args\": [\"--thresh_width\", \"1.25\"], \"kafka_topic\": \"pointing_offset\"}, \"dependencies\": [{\"pb_id\": \"pb-t0001-20240913-00033\", \"kind\": [\"vis-receive\"]}], \"sbi_ids\": [\"sbi-t0001-20240913-00031\"], \"script\": {\"kind\": \"realtime\", \"name\": \"pointing-offset\", \"version\": \"0.5.0\"}}, {\"pb_id\": \"pb-t0001-20240913-00033\", \"parameters\": {\"channels_per_port\": 20, \"transport_protocol\": \"udp\", \"use_network_definition\": true, \"extra_helm_values\": {\"receiver\": {\"options\": {\"reception\": {\"reset_time_indexing_after_each_scan\": true}, \"telescope_model\": {\"telmodel_key\": \"instrument/ska1_mid/layout/mid-layout.json\"}}}}, \"pod_settings\": [{\"securityContext\": {\"runAsUser\": 0, \"fsGroup\": 0}}], \"processors\": {\"signal-display-metrics-amplitude\": {}, \"signal-display-metrics-basic\": {}, \"signal-display-metrics-phase\": {}, \"mswriter\": {}}}, \"dependencies\": [{\"pb_id\": \"pb-t0001-20240913-00033\", \"kind\": [\"pointing-offset\"]}], \"sbi_ids\": [\"sbi-t0001-20240913-00031\"], \"script\": {\"kind\": \"realtime\", \"name\": \"vis-receive\", \"version\": \"4.2.1\"}}]}, \"interface\": \"\", \"transaction_id\": \"txn-t0001-20240913-000000037\"}')>\n",
      "1|2024-09-13T22:13:54.033Z|INFO|MainThread|wait_for_transition|common.py#330||Waiting for obsState to transition to ObsState.RESOURCING\n",
      "1|2024-09-13T22:13:54.034Z|INFO|MainThread|read_event|tango_executor.py#186||Reading event from the queue with timeout 1000\n",
      "1|2024-09-13T22:16:07.803Z|ERROR|MainThread|log_exit|transactions.py#145||Transaction[txn-t0001-20240913-000000037]: Exception[AssignResources] marker[81990]\n",
      "Traceback (most recent call last):\n",
      "  File \"/home/al097049_p/envs/notebook_env/lib/python3.10/site-packages/ska_oso_scripting/functions/devicecontrol/common.py\", line 171, in _call_and_wait_for_transition\n",
      "    response = execute_command_and_wait_for_transition(\n",
      "  File \"/home/al097049_p/envs/notebook_env/lib/python3.10/site-packages/ska_oso_scripting/functions/devicecontrol/common.py\", line 218, in execute_command_and_wait_for_transition\n",
      "    value_response = wait_for_transition(\n",
      "  File \"/home/al097049_p/envs/notebook_env/lib/python3.10/site-packages/ska_oso_scripting/functions/devicecontrol/common.py\", line 336, in wait_for_transition\n",
      "    received = wait_for_value(attribute, values_union, key=key, timeout=timeout)\n",
      "  File \"/home/al097049_p/envs/notebook_env/lib/python3.10/site-packages/ska_oso_scripting/functions/devicecontrol/common.py\", line 255, in wait_for_value\n",
      "    response = EXECUTOR.read_event(attribute, timeout=timeout)\n",
      "  File \"/home/al097049_p/envs/notebook_env/lib/python3.10/site-packages/ska_oso_scripting/functions/devicecontrol/tango_executor.py\", line 273, in read_event\n",
      "    return self._evt_strategy.read_event(attr, timeout=timeout)\n",
      "  File \"/home/al097049_p/envs/notebook_env/lib/python3.10/site-packages/ska_oso_scripting/functions/devicecontrol/tango_executor.py\", line 188, in read_event\n",
      "    evt = self._queue.get(timeout=timeout)\n",
      "  File \"/usr/lib/python3.10/queue.py\", line 180, in get\n",
      "    self.not_empty.wait(remaining)\n",
      "  File \"/usr/lib/python3.10/threading.py\", line 324, in wait\n",
      "    gotit = waiter.acquire(True, timeout)\n",
      "KeyboardInterrupt\n",
      "1|2024-09-13T22:16:07.804Z|INFO|MainThread|log_exit|transactions.py#150||Transaction[txn-t0001-20240913-000000037]: Exit[AssignResources] marker[81990]\n"
     ]
    },
    {
     "ename": "KeyboardInterrupt",
     "evalue": "",
     "output_type": "error",
     "traceback": [
      "\u001b[0;31m---------------------------------------------------------------------------\u001b[0m",
      "\u001b[0;31mKeyboardInterrupt\u001b[0m                         Traceback (most recent call last)",
      "Cell \u001b[0;32mIn[89], line 1\u001b[0m\n\u001b[0;32m----> 1\u001b[0m \u001b[43msub\u001b[49m\u001b[38;5;241;43m.\u001b[39;49m\u001b[43massign_from_cdm\u001b[49m\u001b[43m(\u001b[49m\u001b[43mstripped_assign_requests_2\u001b[49m\u001b[43m,\u001b[49m\u001b[43m \u001b[49m\u001b[43mtimeout\u001b[49m\u001b[38;5;241;43m=\u001b[39;49m\u001b[38;5;241;43m1000\u001b[39;49m\u001b[43m)\u001b[49m\n",
      "File \u001b[0;32m~/envs/notebook_env/lib/python3.10/site-packages/ska_oso_scripting/objects.py:136\u001b[0m, in \u001b[0;36mSubArray.assign_from_cdm\u001b[0;34m(self, request, timeout)\u001b[0m\n\u001b[1;32m    122\u001b[0m \u001b[38;5;28;01mdef\u001b[39;00m \u001b[38;5;21massign_from_cdm\u001b[39m(\n\u001b[1;32m    123\u001b[0m     \u001b[38;5;28mself\u001b[39m, request: AssignResourcesRequest, timeout: \u001b[38;5;28mfloat\u001b[39m \u001b[38;5;241m=\u001b[39m \u001b[38;5;28;01mNone\u001b[39;00m\n\u001b[1;32m    124\u001b[0m ) \u001b[38;5;241m-\u001b[39m\u001b[38;5;241m>\u001b[39m \u001b[38;5;28;01mNone\u001b[39;00m:\n\u001b[1;32m    125\u001b[0m \u001b[38;5;250m    \u001b[39m\u001b[38;5;124;03m\"\"\"\u001b[39;00m\n\u001b[1;32m    126\u001b[0m \u001b[38;5;124;03m    Allocate resources to this subarray using a CDM AssignResourcesRequest object.\u001b[39;00m\n\u001b[1;32m    127\u001b[0m \n\u001b[0;32m   (...)\u001b[0m\n\u001b[1;32m    134\u001b[0m \u001b[38;5;124;03m        if systems do not respond within reasonable timescales then method raised EventTimeoutError.\u001b[39;00m\n\u001b[1;32m    135\u001b[0m \u001b[38;5;124;03m    \"\"\"\u001b[39;00m\n\u001b[0;32m--> 136\u001b[0m     \u001b[43mdevicecontrol\u001b[49m\u001b[38;5;241;43m.\u001b[39;49m\u001b[43massign_resources_from_cdm\u001b[49m\u001b[43m(\u001b[49m\u001b[38;5;28;43mself\u001b[39;49m\u001b[38;5;241;43m.\u001b[39;49m\u001b[43mid\u001b[49m\u001b[43m,\u001b[49m\u001b[43m \u001b[49m\u001b[43mrequest\u001b[49m\u001b[43m,\u001b[49m\u001b[43m \u001b[49m\u001b[43mtimeout\u001b[49m\u001b[38;5;241;43m=\u001b[39;49m\u001b[43mtimeout\u001b[49m\u001b[43m)\u001b[49m\n",
      "File \u001b[0;32m~/envs/notebook_env/lib/python3.10/site-packages/ska_db_oda/client/oda_helper.py:263\u001b[0m, in \u001b[0;36mcapture_request_response.<locals>.wrapper\u001b[0;34m(*args, **kwargs)\u001b[0m\n\u001b[1;32m    261\u001b[0m request_sent_at \u001b[38;5;241m=\u001b[39m datetime\u001b[38;5;241m.\u001b[39mnow(tz\u001b[38;5;241m=\u001b[39mtimezone\u001b[38;5;241m.\u001b[39mutc)\n\u001b[1;32m    262\u001b[0m \u001b[38;5;28;01mtry\u001b[39;00m:\n\u001b[0;32m--> 263\u001b[0m     result \u001b[38;5;241m=\u001b[39m \u001b[43mfn\u001b[49m\u001b[43m(\u001b[49m\u001b[38;5;241;43m*\u001b[39;49m\u001b[43margs\u001b[49m\u001b[43m,\u001b[49m\u001b[43m \u001b[49m\u001b[38;5;241;43m*\u001b[39;49m\u001b[38;5;241;43m*\u001b[39;49m\u001b[43mkwargs\u001b[49m\u001b[43m)\u001b[49m\n\u001b[1;32m    264\u001b[0m     response_received_at \u001b[38;5;241m=\u001b[39m datetime\u001b[38;5;241m.\u001b[39mnow(tz\u001b[38;5;241m=\u001b[39mtimezone\u001b[38;5;241m.\u001b[39mutc)\n\u001b[1;32m    265\u001b[0m \u001b[38;5;28;01mexcept\u001b[39;00m \u001b[38;5;167;01mException\u001b[39;00m \u001b[38;5;28;01mas\u001b[39;00m err:\n",
      "File \u001b[0;32m~/envs/notebook_env/lib/python3.10/site-packages/ska_oso_scripting/functions/devicecontrol/__init__.py:62\u001b[0m, in \u001b[0;36massign_resources_from_cdm\u001b[0;34m(subarray_id, request, timeout)\u001b[0m\n\u001b[1;32m     48\u001b[0m \u001b[38;5;129m@oda_helper\u001b[39m\u001b[38;5;241m.\u001b[39mcapture_request_response\n\u001b[1;32m     49\u001b[0m \u001b[38;5;28;01mdef\u001b[39;00m \u001b[38;5;21massign_resources_from_cdm\u001b[39m(\n\u001b[1;32m     50\u001b[0m     subarray_id: SubarrayID,\n\u001b[1;32m     51\u001b[0m     request: AssignResourcesRequest,\n\u001b[1;32m     52\u001b[0m     timeout: \u001b[38;5;28mfloat\u001b[39m \u001b[38;5;241m=\u001b[39m \u001b[38;5;28;01mNone\u001b[39;00m,\n\u001b[1;32m     53\u001b[0m ):\n\u001b[1;32m     54\u001b[0m \u001b[38;5;250m    \u001b[39m\u001b[38;5;124;03m\"\"\"\u001b[39;00m\n\u001b[1;32m     55\u001b[0m \u001b[38;5;124;03m    Allocate resources to a sub-array using a CDM object.\u001b[39;00m\n\u001b[1;32m     56\u001b[0m \n\u001b[0;32m   (...)\u001b[0m\n\u001b[1;32m     60\u001b[0m \u001b[38;5;124;03m        if systems do not respond within reasonable timescales then method raised EventTimeoutError.\u001b[39;00m\n\u001b[1;32m     61\u001b[0m \u001b[38;5;124;03m    \"\"\"\u001b[39;00m\n\u001b[0;32m---> 62\u001b[0m     \u001b[43mresource_control\u001b[49m\u001b[38;5;241;43m.\u001b[39;49m\u001b[43massign_resources\u001b[49m\u001b[43m(\u001b[49m\u001b[43msubarray_id\u001b[49m\u001b[43m,\u001b[49m\u001b[43m \u001b[49m\u001b[43mrequest\u001b[49m\u001b[43m,\u001b[49m\u001b[43m \u001b[49m\u001b[43mtimeout\u001b[49m\u001b[38;5;241;43m=\u001b[39;49m\u001b[43mtimeout\u001b[49m\u001b[43m)\u001b[49m\n",
      "File \u001b[0;32m~/envs/notebook_env/lib/python3.10/site-packages/ska_oso_scripting/functions/devicecontrol/resource_control.py:80\u001b[0m, in \u001b[0;36massign_resources\u001b[0;34m(subarray_id, request, with_processing, timeout)\u001b[0m\n\u001b[1;32m     78\u001b[0m timeout \u001b[38;5;241m=\u001b[39m DEFAULT_TIMEOUT_FOR_ASSIGN_RESOURCE_CMD \u001b[38;5;28;01mif\u001b[39;00m timeout \u001b[38;5;129;01mis\u001b[39;00m \u001b[38;5;28;01mNone\u001b[39;00m \u001b[38;5;28;01melse\u001b[39;00m timeout\n\u001b[1;32m     79\u001b[0m \u001b[38;5;28;01mtry\u001b[39;00m:\n\u001b[0;32m---> 80\u001b[0m     \u001b[43m_call_and_wait_for_transition\u001b[49m\u001b[43m(\u001b[49m\n\u001b[1;32m     81\u001b[0m \u001b[43m        \u001b[49m\u001b[43mcommand\u001b[49m\u001b[43m,\u001b[49m\n\u001b[1;32m     82\u001b[0m \u001b[43m        \u001b[49m\u001b[43m[\u001b[49m\u001b[43mObsState\u001b[49m\u001b[38;5;241;43m.\u001b[39;49m\u001b[43mRESOURCING\u001b[49m\u001b[43m,\u001b[49m\u001b[43m \u001b[49m\u001b[43mObsState\u001b[49m\u001b[38;5;241;43m.\u001b[39;49m\u001b[43mIDLE\u001b[49m\u001b[43m]\u001b[49m\u001b[43m,\u001b[49m\n\u001b[1;32m     83\u001b[0m \u001b[43m        \u001b[49m\u001b[38;5;124;43m\"\u001b[39;49m\u001b[38;5;124;43mobsState\u001b[39;49m\u001b[38;5;124;43m\"\u001b[39;49m\u001b[43m,\u001b[49m\n\u001b[1;32m     84\u001b[0m \u001b[43m        \u001b[49m\u001b[43mdevice_to_monitor\u001b[49m\u001b[38;5;241;43m=\u001b[39;49m\u001b[43msubarray_device\u001b[49m\u001b[43m,\u001b[49m\n\u001b[1;32m     85\u001b[0m \u001b[43m        \u001b[49m\u001b[43mtimeout\u001b[49m\u001b[38;5;241;43m=\u001b[39;49m\u001b[43mtimeout\u001b[49m\u001b[43m,\u001b[49m\n\u001b[1;32m     86\u001b[0m \u001b[43m    \u001b[49m\u001b[43m)\u001b[49m\n\u001b[1;32m     87\u001b[0m \u001b[38;5;28;01mexcept\u001b[39;00m EventTimeoutError \u001b[38;5;28;01mas\u001b[39;00m evterror:\n\u001b[1;32m     88\u001b[0m     \u001b[38;5;28;01mraise\u001b[39;00m EventTimeoutError(\n\u001b[1;32m     89\u001b[0m         \u001b[38;5;124m\"\u001b[39m\u001b[38;5;124mRead event timeout from queue occured while execution of \u001b[39m\u001b[38;5;132;01m%s\u001b[39;00m\u001b[38;5;124m command\u001b[39m\u001b[38;5;124m\"\u001b[39m\n\u001b[1;32m     90\u001b[0m         \u001b[38;5;241m%\u001b[39m command\u001b[38;5;241m.\u001b[39mcommand_name\n\u001b[1;32m     91\u001b[0m     ) \u001b[38;5;28;01mfrom\u001b[39;00m \u001b[38;5;21;01mevterror\u001b[39;00m\n",
      "File \u001b[0;32m~/envs/notebook_env/lib/python3.10/site-packages/ska_oso_scripting/functions/devicecontrol/common.py:160\u001b[0m, in \u001b[0;36m_call_and_wait_for_transition\u001b[0;34m(command, target_transitions, attribute_name, device_to_monitor, optional_transitions, timeout)\u001b[0m\n\u001b[1;32m    155\u001b[0m \u001b[38;5;28;01mif\u001b[39;00m command\u001b[38;5;241m.\u001b[39mcommand_name \u001b[38;5;129;01min\u001b[39;00m [\u001b[38;5;124m\"\u001b[39m\u001b[38;5;124mAssignResources\u001b[39m\u001b[38;5;124m\"\u001b[39m, \u001b[38;5;124m\"\u001b[39m\u001b[38;5;124mConfigure\u001b[39m\u001b[38;5;124m\"\u001b[39m]:\n\u001b[1;32m    156\u001b[0m \u001b[38;5;250m    \u001b[39m\u001b[38;5;124;03m\"\"\"\u001b[39;00m\n\u001b[1;32m    157\u001b[0m \u001b[38;5;124;03m    This block will execute and add the transaction id in the request payload\u001b[39;00m\n\u001b[1;32m    158\u001b[0m \u001b[38;5;124;03m    of AssignResource and Configure command.\u001b[39;00m\n\u001b[1;32m    159\u001b[0m \u001b[38;5;124;03m    \"\"\"\u001b[39;00m\n\u001b[0;32m--> 160\u001b[0m     \u001b[38;5;28;01mwith\u001b[39;00m transaction(command\u001b[38;5;241m.\u001b[39mcommand_name, logger\u001b[38;5;241m=\u001b[39mLOGGER) \u001b[38;5;28;01mas\u001b[39;00m transaction_id:\n\u001b[1;32m    161\u001b[0m         command_with_txn \u001b[38;5;241m=\u001b[39m copy\u001b[38;5;241m.\u001b[39mdeepcopy(command)\n\u001b[1;32m    162\u001b[0m         command_args \u001b[38;5;241m=\u001b[39m \u001b[38;5;28mlist\u001b[39m(command_with_txn\u001b[38;5;241m.\u001b[39margs)\n",
      "File \u001b[0;32m~/envs/notebook_env/lib/python3.10/site-packages/ska_ser_log_transactions/transactions.py:217\u001b[0m, in \u001b[0;36mTransaction.__exit__\u001b[0;34m(self, exc_type, exc_val, exc_tb)\u001b[0m\n\u001b[1;32m    207\u001b[0m \u001b[38;5;28;01mdef\u001b[39;00m \u001b[38;5;21m__exit__\u001b[39m(\u001b[38;5;28mself\u001b[39m, exc_type, exc_val, exc_tb):\n\u001b[1;32m    208\u001b[0m \u001b[38;5;250m    \u001b[39m\u001b[38;5;124;03m\"\"\"Context handler exit\u001b[39;00m\n\u001b[1;32m    209\u001b[0m \n\u001b[1;32m    210\u001b[0m \u001b[38;5;124;03m    :param exc_type: The exception type\u001b[39;00m\n\u001b[0;32m   (...)\u001b[0m\n\u001b[1;32m    215\u001b[0m \u001b[38;5;124;03m    :type exc_tb: exception_traceback\u001b[39;00m\n\u001b[1;32m    216\u001b[0m \u001b[38;5;124;03m    \"\"\"\u001b[39;00m\n\u001b[0;32m--> 217\u001b[0m     \u001b[38;5;28;43mself\u001b[39;49m\u001b[38;5;241;43m.\u001b[39;49m\u001b[43mlog_exit\u001b[49m\u001b[43m(\u001b[49m\u001b[43mexc_type\u001b[49m\u001b[43m)\u001b[49m\n",
      "File \u001b[0;32m~/envs/notebook_env/lib/python3.10/site-packages/ska_oso_scripting/functions/devicecontrol/common.py:171\u001b[0m, in \u001b[0;36m_call_and_wait_for_transition\u001b[0;34m(command, target_transitions, attribute_name, device_to_monitor, optional_transitions, timeout)\u001b[0m\n\u001b[1;32m    168\u001b[0m         command_with_txn\u001b[38;5;241m.\u001b[39margs \u001b[38;5;241m=\u001b[39m \u001b[38;5;28mtuple\u001b[39m(command_args)\n\u001b[1;32m    170\u001b[0m         LOGGER\u001b[38;5;241m.\u001b[39minfo(\u001b[38;5;124mf\u001b[39m\u001b[38;5;124m\"\u001b[39m\u001b[38;5;124mAdded Transaction_id to command: \u001b[39m\u001b[38;5;132;01m{\u001b[39;00mcommand_with_txn\u001b[38;5;132;01m}\u001b[39;00m\u001b[38;5;124m\"\u001b[39m)\n\u001b[0;32m--> 171\u001b[0m         response \u001b[38;5;241m=\u001b[39m \u001b[43mexecute_command_and_wait_for_transition\u001b[49m\u001b[43m(\u001b[49m\n\u001b[1;32m    172\u001b[0m \u001b[43m            \u001b[49m\u001b[43mcommand\u001b[49m\u001b[38;5;241;43m=\u001b[39;49m\u001b[43mcommand_with_txn\u001b[49m\u001b[43m,\u001b[49m\n\u001b[1;32m    173\u001b[0m \u001b[43m            \u001b[49m\u001b[43mtarget_transitions\u001b[49m\u001b[38;5;241;43m=\u001b[39;49m\u001b[43mtarget_transitions\u001b[49m\u001b[43m,\u001b[49m\n\u001b[1;32m    174\u001b[0m \u001b[43m            \u001b[49m\u001b[43mattribute\u001b[49m\u001b[38;5;241;43m=\u001b[39;49m\u001b[43mattribute\u001b[49m\u001b[43m,\u001b[49m\n\u001b[1;32m    175\u001b[0m \u001b[43m            \u001b[49m\u001b[43moptional_transitions\u001b[49m\u001b[38;5;241;43m=\u001b[39;49m\u001b[43moptional_transitions\u001b[49m\u001b[43m,\u001b[49m\n\u001b[1;32m    176\u001b[0m \u001b[43m            \u001b[49m\u001b[43mtimeout\u001b[49m\u001b[38;5;241;43m=\u001b[39;49m\u001b[43mtimeout\u001b[49m\u001b[43m,\u001b[49m\n\u001b[1;32m    177\u001b[0m \u001b[43m        \u001b[49m\u001b[43m)\u001b[49m\n\u001b[1;32m    178\u001b[0m \u001b[38;5;28;01melse\u001b[39;00m:\n\u001b[1;32m    179\u001b[0m \u001b[38;5;250m    \u001b[39m\u001b[38;5;124;03m\"\"\"\u001b[39;00m\n\u001b[1;32m    180\u001b[0m \u001b[38;5;124;03m    else block will execute for the commands ( restart, abort, telescopeOn, telescopeOff)\u001b[39;00m\n\u001b[1;32m    181\u001b[0m \u001b[38;5;124;03m    where request payload input is not needed.\u001b[39;00m\n\u001b[1;32m    182\u001b[0m \u001b[38;5;124;03m    \"\"\"\u001b[39;00m\n",
      "File \u001b[0;32m~/envs/notebook_env/lib/python3.10/site-packages/ska_oso_scripting/functions/devicecontrol/common.py:218\u001b[0m, in \u001b[0;36mexecute_command_and_wait_for_transition\u001b[0;34m(command, target_transitions, attribute, optional_transitions, timeout)\u001b[0m\n\u001b[1;32m    216\u001b[0m response \u001b[38;5;241m=\u001b[39m EXECUTOR\u001b[38;5;241m.\u001b[39mexecute(command)\n\u001b[1;32m    217\u001b[0m \u001b[38;5;28;01mfor\u001b[39;00m target_value \u001b[38;5;129;01min\u001b[39;00m target_transitions:\n\u001b[0;32m--> 218\u001b[0m     value_response \u001b[38;5;241m=\u001b[39m \u001b[43mwait_for_transition\u001b[49m\u001b[43m(\u001b[49m\n\u001b[1;32m    219\u001b[0m \u001b[43m        \u001b[49m\u001b[43mattribute\u001b[49m\u001b[38;5;241;43m=\u001b[39;49m\u001b[43mattribute\u001b[49m\u001b[43m,\u001b[49m\n\u001b[1;32m    220\u001b[0m \u001b[43m        \u001b[49m\u001b[43mtarget_transition\u001b[49m\u001b[38;5;241;43m=\u001b[39;49m\u001b[43mtarget_value\u001b[49m\u001b[43m,\u001b[49m\n\u001b[1;32m    221\u001b[0m \u001b[43m        \u001b[49m\u001b[43moptional_transitions\u001b[49m\u001b[38;5;241;43m=\u001b[39;49m\u001b[43moptional_transitions\u001b[49m\u001b[43m,\u001b[49m\n\u001b[1;32m    222\u001b[0m \u001b[43m        \u001b[49m\u001b[43mtimeout\u001b[49m\u001b[38;5;241;43m=\u001b[39;49m\u001b[43mtimeout\u001b[49m\u001b[43m,\u001b[49m\n\u001b[1;32m    223\u001b[0m \u001b[43m    \u001b[49m\u001b[43m)\u001b[49m\n\u001b[1;32m    224\u001b[0m     \u001b[38;5;28;01mif\u001b[39;00m value_response\u001b[38;5;241m.\u001b[39mresponse_msg \u001b[38;5;241m==\u001b[39m WAIT_FOR_TRANSITION_FAILURE_RESPONSE:\n\u001b[1;32m    225\u001b[0m         \u001b[38;5;28;01mraise\u001b[39;00m ValueTransitionError(\n\u001b[1;32m    226\u001b[0m             value_response\u001b[38;5;241m.\u001b[39mfinal_value, target_value, attribute\n\u001b[1;32m    227\u001b[0m         )\n",
      "File \u001b[0;32m~/envs/notebook_env/lib/python3.10/site-packages/ska_oso_scripting/functions/devicecontrol/common.py:336\u001b[0m, in \u001b[0;36mwait_for_transition\u001b[0;34m(attribute, target_transition, optional_transitions, timeout)\u001b[0m\n\u001b[1;32m    334\u001b[0m values_union \u001b[38;5;241m=\u001b[39m \u001b[38;5;28mset\u001b[39m(error_values)\n\u001b[1;32m    335\u001b[0m values_union\u001b[38;5;241m.\u001b[39madd(target_transition)\n\u001b[0;32m--> 336\u001b[0m received \u001b[38;5;241m=\u001b[39m \u001b[43mwait_for_value\u001b[49m\u001b[43m(\u001b[49m\u001b[43mattribute\u001b[49m\u001b[43m,\u001b[49m\u001b[43m \u001b[49m\u001b[43mvalues_union\u001b[49m\u001b[43m,\u001b[49m\u001b[43m \u001b[49m\u001b[43mkey\u001b[49m\u001b[38;5;241;43m=\u001b[39;49m\u001b[43mkey\u001b[49m\u001b[43m,\u001b[49m\u001b[43m \u001b[49m\u001b[43mtimeout\u001b[49m\u001b[38;5;241;43m=\u001b[39;49m\u001b[43mtimeout\u001b[49m\u001b[43m)\u001b[49m\n\u001b[1;32m    337\u001b[0m \u001b[38;5;28;01mif\u001b[39;00m received \u001b[38;5;241m!=\u001b[39m target_transition:\n\u001b[1;32m    338\u001b[0m     LOGGER\u001b[38;5;241m.\u001b[39mwarning(\n\u001b[1;32m    339\u001b[0m         \u001b[38;5;124m\"\u001b[39m\u001b[38;5;132;01m%s\u001b[39;00m\u001b[38;5;124m state expected to go to \u001b[39m\u001b[38;5;132;01m%s\u001b[39;00m\u001b[38;5;124m but instead went to \u001b[39m\u001b[38;5;132;01m%s\u001b[39;00m\u001b[38;5;124m\"\u001b[39m,\n\u001b[1;32m    340\u001b[0m         attribute\u001b[38;5;241m.\u001b[39mname,\n\u001b[1;32m    341\u001b[0m         target_transition,\n\u001b[1;32m    342\u001b[0m         received,\n\u001b[1;32m    343\u001b[0m     )\n",
      "File \u001b[0;32m~/envs/notebook_env/lib/python3.10/site-packages/ska_oso_scripting/functions/devicecontrol/common.py:255\u001b[0m, in \u001b[0;36mwait_for_value\u001b[0;34m(attribute, target_values, key, timeout)\u001b[0m\n\u001b[1;32m    237\u001b[0m \u001b[38;5;250m\u001b[39m\u001b[38;5;124;03m\"\"\"\u001b[39;00m\n\u001b[1;32m    238\u001b[0m \u001b[38;5;124;03mBlock until a Tango device attribute has reached one of target values.\u001b[39;00m\n\u001b[1;32m    239\u001b[0m \u001b[38;5;124;03mThis function requires a subscription to have been established to the\u001b[39;00m\n\u001b[0;32m   (...)\u001b[0m\n\u001b[1;32m    252\u001b[0m \u001b[38;5;124;03m:return: Attribute value read from device (one of target_values)\u001b[39;00m\n\u001b[1;32m    253\u001b[0m \u001b[38;5;124;03m\"\"\"\u001b[39;00m\n\u001b[1;32m    254\u001b[0m \u001b[38;5;28;01mwhile\u001b[39;00m \u001b[38;5;28;01mTrue\u001b[39;00m:\n\u001b[0;32m--> 255\u001b[0m     response \u001b[38;5;241m=\u001b[39m \u001b[43mEXECUTOR\u001b[49m\u001b[38;5;241;43m.\u001b[39;49m\u001b[43mread_event\u001b[49m\u001b[43m(\u001b[49m\u001b[43mattribute\u001b[49m\u001b[43m,\u001b[49m\u001b[43m \u001b[49m\u001b[43mtimeout\u001b[49m\u001b[38;5;241;43m=\u001b[39;49m\u001b[43mtimeout\u001b[49m\u001b[43m)\u001b[49m\n\u001b[1;32m    256\u001b[0m     \u001b[38;5;28;01mif\u001b[39;00m response\u001b[38;5;241m.\u001b[39merr:\n\u001b[1;32m    257\u001b[0m         \u001b[38;5;28;01mif\u001b[39;00m (\n\u001b[1;32m    258\u001b[0m             WORKAROUNDS\u001b[38;5;241m.\u001b[39mignore_poll_thread_out_of_sync_error\n\u001b[1;32m    259\u001b[0m             \u001b[38;5;129;01mand\u001b[39;00m response\u001b[38;5;241m.\u001b[39merrors[\u001b[38;5;241m0\u001b[39m]\u001b[38;5;241m.\u001b[39mreason \u001b[38;5;241m==\u001b[39m \u001b[38;5;124m\"\u001b[39m\u001b[38;5;124mAPI_PollThreadOutOfSync\u001b[39m\u001b[38;5;124m\"\u001b[39m\n\u001b[1;32m    260\u001b[0m         ):\n",
      "File \u001b[0;32m~/envs/notebook_env/lib/python3.10/site-packages/ska_oso_scripting/functions/devicecontrol/tango_executor.py:273\u001b[0m, in \u001b[0;36mTangoExecutor.read_event\u001b[0;34m(self, attr, timeout)\u001b[0m\n\u001b[1;32m    267\u001b[0m \u001b[38;5;28;01mdef\u001b[39;00m \u001b[38;5;21mread_event\u001b[39m(\u001b[38;5;28mself\u001b[39m, attr: Attribute, timeout: \u001b[38;5;28mfloat\u001b[39m \u001b[38;5;241m=\u001b[39m \u001b[38;5;28;01mNone\u001b[39;00m) \u001b[38;5;241m-\u001b[39m\u001b[38;5;241m>\u001b[39m tango\u001b[38;5;241m.\u001b[39mEventData:\n\u001b[1;32m    268\u001b[0m \u001b[38;5;250m    \u001b[39m\u001b[38;5;124;03m\"\"\"\u001b[39;00m\n\u001b[1;32m    269\u001b[0m \u001b[38;5;124;03m    Get an event for the specified attribute.\u001b[39;00m\n\u001b[1;32m    270\u001b[0m \u001b[38;5;124;03m    :param timeout: custom timeout provided while execution of command's\u001b[39;00m\n\u001b[1;32m    271\u001b[0m \u001b[38;5;124;03m    if systems do not respond within reasonable timescales then method raised EventTimeoutError.\u001b[39;00m\n\u001b[1;32m    272\u001b[0m \u001b[38;5;124;03m    \"\"\"\u001b[39;00m\n\u001b[0;32m--> 273\u001b[0m     \u001b[38;5;28;01mreturn\u001b[39;00m \u001b[38;5;28;43mself\u001b[39;49m\u001b[38;5;241;43m.\u001b[39;49m\u001b[43m_evt_strategy\u001b[49m\u001b[38;5;241;43m.\u001b[39;49m\u001b[43mread_event\u001b[49m\u001b[43m(\u001b[49m\u001b[43mattr\u001b[49m\u001b[43m,\u001b[49m\u001b[43m \u001b[49m\u001b[43mtimeout\u001b[49m\u001b[38;5;241;43m=\u001b[39;49m\u001b[43mtimeout\u001b[49m\u001b[43m)\u001b[49m\n",
      "File \u001b[0;32m~/envs/notebook_env/lib/python3.10/site-packages/ska_oso_scripting/functions/devicecontrol/tango_executor.py:188\u001b[0m, in \u001b[0;36mTangoExecutor.SingleQueueEventStrategy.read_event\u001b[0;34m(self, attr, timeout)\u001b[0m\n\u001b[1;32m    186\u001b[0m LOGGER\u001b[38;5;241m.\u001b[39minfo(\u001b[38;5;124m\"\u001b[39m\u001b[38;5;124mReading event from the queue with timeout \u001b[39m\u001b[38;5;132;01m{}\u001b[39;00m\u001b[38;5;124m\"\u001b[39m\u001b[38;5;241m.\u001b[39mformat(timeout))\n\u001b[1;32m    187\u001b[0m \u001b[38;5;28;01mtry\u001b[39;00m:\n\u001b[0;32m--> 188\u001b[0m     evt \u001b[38;5;241m=\u001b[39m \u001b[38;5;28;43mself\u001b[39;49m\u001b[38;5;241;43m.\u001b[39;49m\u001b[43m_queue\u001b[49m\u001b[38;5;241;43m.\u001b[39;49m\u001b[43mget\u001b[49m\u001b[43m(\u001b[49m\u001b[43mtimeout\u001b[49m\u001b[38;5;241;43m=\u001b[39;49m\u001b[43mtimeout\u001b[49m\u001b[43m)\u001b[49m\n\u001b[1;32m    189\u001b[0m     \u001b[38;5;28;01mreturn\u001b[39;00m evt\n\u001b[1;32m    190\u001b[0m \u001b[38;5;28;01mexcept\u001b[39;00m queue\u001b[38;5;241m.\u001b[39mEmpty:\n",
      "File \u001b[0;32m/usr/lib/python3.10/queue.py:180\u001b[0m, in \u001b[0;36mQueue.get\u001b[0;34m(self, block, timeout)\u001b[0m\n\u001b[1;32m    178\u001b[0m         \u001b[38;5;28;01mif\u001b[39;00m remaining \u001b[38;5;241m<\u001b[39m\u001b[38;5;241m=\u001b[39m \u001b[38;5;241m0.0\u001b[39m:\n\u001b[1;32m    179\u001b[0m             \u001b[38;5;28;01mraise\u001b[39;00m Empty\n\u001b[0;32m--> 180\u001b[0m         \u001b[38;5;28;43mself\u001b[39;49m\u001b[38;5;241;43m.\u001b[39;49m\u001b[43mnot_empty\u001b[49m\u001b[38;5;241;43m.\u001b[39;49m\u001b[43mwait\u001b[49m\u001b[43m(\u001b[49m\u001b[43mremaining\u001b[49m\u001b[43m)\u001b[49m\n\u001b[1;32m    181\u001b[0m item \u001b[38;5;241m=\u001b[39m \u001b[38;5;28mself\u001b[39m\u001b[38;5;241m.\u001b[39m_get()\n\u001b[1;32m    182\u001b[0m \u001b[38;5;28mself\u001b[39m\u001b[38;5;241m.\u001b[39mnot_full\u001b[38;5;241m.\u001b[39mnotify()\n",
      "File \u001b[0;32m/usr/lib/python3.10/threading.py:324\u001b[0m, in \u001b[0;36mCondition.wait\u001b[0;34m(self, timeout)\u001b[0m\n\u001b[1;32m    322\u001b[0m \u001b[38;5;28;01melse\u001b[39;00m:\n\u001b[1;32m    323\u001b[0m     \u001b[38;5;28;01mif\u001b[39;00m timeout \u001b[38;5;241m>\u001b[39m \u001b[38;5;241m0\u001b[39m:\n\u001b[0;32m--> 324\u001b[0m         gotit \u001b[38;5;241m=\u001b[39m \u001b[43mwaiter\u001b[49m\u001b[38;5;241;43m.\u001b[39;49m\u001b[43macquire\u001b[49m\u001b[43m(\u001b[49m\u001b[38;5;28;43;01mTrue\u001b[39;49;00m\u001b[43m,\u001b[49m\u001b[43m \u001b[49m\u001b[43mtimeout\u001b[49m\u001b[43m)\u001b[49m\n\u001b[1;32m    325\u001b[0m     \u001b[38;5;28;01melse\u001b[39;00m:\n\u001b[1;32m    326\u001b[0m         gotit \u001b[38;5;241m=\u001b[39m waiter\u001b[38;5;241m.\u001b[39macquire(\u001b[38;5;28;01mFalse\u001b[39;00m)\n",
      "\u001b[0;31mKeyboardInterrupt\u001b[0m: "
     ]
    }
   ],
   "source": [
    "sub.assign_from_cdm(stripped_assign_requests_2, timeout=1000)"
   ]
  },
  {
   "cell_type": "code",
   "execution_count": 87,
   "metadata": {},
   "outputs": [
    {
     "name": "stdout",
     "output_type": "stream",
     "text": [
      "proc-pb-t0001-20240913-00029-vis-receive-00-0                   6/6     Running     2 (6m55s ago)   7m15s\n"
     ]
    }
   ],
   "source": [
    "!kubectl -n $namespace-sdp get pods | grep vis-receive"
   ]
  },
  {
   "cell_type": "markdown",
   "metadata": {},
   "source": [
    "<style>\n",
    "    .alert {\n",
    "        background-color: #1a1d21;\n",
    "        border-style: dotted;\n",
    "        border-color: #f0493e;\n",
    "        color: #d1d2d3;\n",
    "    }\n",
    "</style>\n",
    "<div class=\"alert\">\n",
    "    <h3>(BITE STEP) Starting LSTV Replay</h3>\n",
    "    If using BITE for data stream generation, the additional BITE notebook can be run at this point.\n",
    "</div>\n",
    "</body>"
   ]
  },
  {
   "cell_type": "markdown",
   "metadata": {},
   "source": [
    "### 3.3 Run the Scan(s)"
   ]
  },
  {
   "cell_type": "markdown",
   "metadata": {},
   "source": [
    "To start running the scans (or just one) first create the configuration request from the scheduling block:"
   ]
  },
  {
   "cell_type": "code",
   "execution_count": null,
   "metadata": {},
   "outputs": [],
   "source": [
    "scan_def_to_config_req_mapping = pdm_transforms.create_cdm_configure_request_from_scheduling_block(\n",
    "    sbi\n",
    ")"
   ]
  },
  {
   "cell_type": "code",
   "execution_count": null,
   "metadata": {},
   "outputs": [],
   "source": [
    "print(scan_def_to_config_req_mapping)\n",
    "config_req = scan_def_to_config_req_mapping[\"science scan\"]\n",
    "print(config_req[0])"
   ]
  },
  {
   "cell_type": "markdown",
   "metadata": {},
   "source": [
    "#### Running a Single Scan"
   ]
  },
  {
   "cell_type": "markdown",
   "metadata": {},
   "source": [
    "For a single scan, load in part of the scan configuration just for that run, and send the configure commands to the subarray. Once this is complete, run the scan command itself. Using the scheduling block sets how long the scan will run, so it will finish by itself."
   ]
  },
  {
   "cell_type": "code",
   "execution_count": null,
   "metadata": {},
   "outputs": [],
   "source": [
    "print(scan_def_to_config_req_mapping)\n",
    "config_req = scan_def_to_config_req_mapping[\"science scan\"]\n",
    "print(config_req)\n",
    "sub.configure_from_cdm(config_req[0], timeout=500)\n",
    "sleep(5)\n",
    "sub.scan()"
   ]
  },
  {
   "cell_type": "markdown",
   "metadata": {},
   "source": [
    "#### Running Multiple Scans"
   ]
  },
  {
   "cell_type": "markdown",
   "metadata": {},
   "source": [
    "To run multiple scans, iterate over the scan sequence, and use the ids in it to define a request and then send it to the subarray."
   ]
  },
  {
   "cell_type": "code",
   "execution_count": null,
   "metadata": {},
   "outputs": [],
   "source": [
    "print(\"...\")\n",
    "print(scan_def_to_config_req_mapping)\n",
    "print(\"...\")\n",
    "for scan_def_id in sb.scan_sequence:\n",
    "    config_req = scan_def_to_config_req_mapping[scan_def_id]\n",
    "    print(config_req)\n",
    "    print(\"--------------\")\n",
    "    for request in config_req:\n",
    "        sub.configure_from_cdm(request, timeout=500)\n",
    "        sleep(2)\n",
    "        sub.scan()"
   ]
  },
  {
   "cell_type": "markdown",
   "metadata": {},
   "source": [
    "## 4 Cleanup"
   ]
  },
  {
   "cell_type": "markdown",
   "metadata": {},
   "source": [
    "<style>\n",
    "    .alert {\n",
    "        background-color: #1a1d21;\n",
    "        border-style: dotted;\n",
    "        border-color: #f0493e;\n",
    "        color: #d1d2d3;\n",
    "    }\n",
    "</style>\n",
    "<div class=\"alert\">\n",
    "    <h3>(BITE STEP) Stopping LSTV Replay</h3>\n",
    "    Now with the initial (or only) scan done, if using BITE, run step 5 in the BITE notebook to stop the LSTV Replay.\n",
    "</div>\n",
    "</body>"
   ]
  },
  {
   "cell_type": "markdown",
   "metadata": {},
   "source": [
    "Once the scans are done, clear out the configuration from the subarray by sending the END command, followed by releasing the resources it used:"
   ]
  },
  {
   "cell_type": "code",
   "execution_count": null,
   "metadata": {},
   "outputs": [],
   "source": [
    "sub.end()\n",
    "sleep(10)\n",
    "sub.release()"
   ]
  },
  {
   "cell_type": "markdown",
   "metadata": {},
   "source": [
    "The telescope can now be turned off."
   ]
  },
  {
   "cell_type": "code",
   "execution_count": null,
   "metadata": {},
   "outputs": [],
   "source": [
    "tel.off()"
   ]
  }
 ],
 "metadata": {
  "kernelspec": {
   "display_name": "Python 3",
   "language": "python",
   "name": "python3"
  },
  "language_info": {
   "codemirror_mode": {
    "name": "ipython",
    "version": 3
   },
   "file_extension": ".py",
   "mimetype": "text/x-python",
   "name": "python",
   "nbconvert_exporter": "python",
   "pygments_lexer": "ipython3",
   "version": "3.10.14"
  }
 },
 "nbformat": 4,
 "nbformat_minor": 2
}
