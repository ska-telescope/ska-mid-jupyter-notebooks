{
 "cells": [
  {
   "cell_type": "markdown",
   "metadata": {},
   "source": [
    "# Running a 5-Point Calibration Scan With OSO"
   ]
  },
  {
   "cell_type": "markdown",
   "metadata": {},
   "source": [
    "This notebook adapts the Five Point Calibration Scan notebook to work with PSI. Running this notebook requires that a PSI namespace be spun up with `DISH_LMC_ENABLED` set to true.\n",
    "\n",
    "This notebook can be Run with BITE or SPFRx, with BITE requiring the optional BITE notebook to be run. "
   ]
  },
  {
   "cell_type": "markdown",
   "metadata": {},
   "source": [
    "## 1 Setup "
   ]
  },
  {
   "cell_type": "markdown",
   "metadata": {},
   "source": [
    "### 1.1 Environment Setup"
   ]
  },
  {
   "cell_type": "code",
   "execution_count": 1,
   "metadata": {},
   "outputs": [],
   "source": [
    "import sys\n",
    "\n",
    "sys.path.append(\"../../src\")\n",
    "\n",
    "import json\n",
    "import os\n",
    "from time import sleep\n",
    "\n",
    "from ska_oso_pdm import SBDefinition\n",
    "from ska_oso_scripting import oda_helper\n",
    "from ska_oso_scripting.functions import pdm_transforms\n",
    "from ska_oso_scripting.functions.sb import create_sbi, load_sbd\n",
    "from ska_oso_scripting.objects import SubArray, Telescope\n",
    "from tango import DevFailed, DeviceProxy\n",
    "\n",
    "import notebook_tools.wait_for_tango as wait_for_tango"
   ]
  },
  {
   "cell_type": "markdown",
   "metadata": {},
   "source": [
    "### 1.2 Set Variables"
   ]
  },
  {
   "cell_type": "markdown",
   "metadata": {},
   "source": [
    "First, grab the namespace launched from the pipeline:"
   ]
  },
  {
   "cell_type": "code",
   "execution_count": 3,
   "metadata": {},
   "outputs": [
    {
     "name": "stdout",
     "output_type": "stream",
     "text": [
      "ci-ska-mid-psi-1386660462-alexschell                  Active   8m6s\n",
      "ci-ska-mid-psi-1386660462-alexschell-sdp              Active   8m7s\n",
      "ci-ska-mid-psi-1390816548-amjoshi                     Active   38h\n",
      "ci-ska-mid-psi-1390816548-amjoshi-sdp                 Active   38h\n"
     ]
    }
   ],
   "source": [
    "!kubectl get ns | grep ska-mid-psi "
   ]
  },
  {
   "cell_type": "markdown",
   "metadata": {},
   "source": [
    "And load it into the variables for the notebook:"
   ]
  },
  {
   "cell_type": "code",
   "execution_count": 4,
   "metadata": {},
   "outputs": [],
   "source": [
    "namespace = \"ci-ska-mid-psi-1386660462-alexschell\"  # set to desired NS\n",
    "simulation_mode = 0  # set to 1 to run in sim mode\n",
    "target_boards_list = [1]  # assign boards\n",
    "test_id = \"talon2 basic gaussian noise\"  # Test to send config from\n",
    "server = \"ska-sdp-kafka.\" + namespace + \".svc.cluster.local:9092\"\n",
    "subarray_id = 1"
   ]
  },
  {
   "cell_type": "markdown",
   "metadata": {},
   "source": [
    "Get the SKUID pod:"
   ]
  },
  {
   "cell_type": "code",
   "execution_count": 5,
   "metadata": {},
   "outputs": [
    {
     "name": "stdout",
     "output_type": "stream",
     "text": [
      "ska-ser-skuid-test-1386660462-58bb66f6f8-mvfpm                   1/1     Running     0          7m12s\n"
     ]
    }
   ],
   "source": [
    "!kubectl get pods -n $namespace | grep skuid"
   ]
  },
  {
   "cell_type": "markdown",
   "metadata": {},
   "source": [
    "And set the id value based on the name of this pod:"
   ]
  },
  {
   "cell_type": "code",
   "execution_count": 6,
   "metadata": {},
   "outputs": [],
   "source": [
    "skuid_id = \"ska-ser-skuid-test-1386660462-svc\"\n",
    "kafka_id = \"\""
   ]
  },
  {
   "cell_type": "markdown",
   "metadata": {},
   "source": [
    "Next, load all the other vars the notebook will use. These should not need to be changed for this run."
   ]
  },
  {
   "cell_type": "code",
   "execution_count": 31,
   "metadata": {},
   "outputs": [],
   "source": [
    "# Fully Qualified Domain Names for the devices to set up proxies\n",
    "CSP_CONTROLLER_FQDN = \"mid-csp/control/0\"\n",
    "CSP_SUBARRAY_FQDN = \"mid-csp/subarray/01\"\n",
    "\n",
    "\n",
    "CENTRAL_NODE_FQDN = \"ska_mid/tm_central/central_node\"\n",
    "LEAF_NODE_SUBARRAY_FQDN = \"ska_mid/tm_leaf_node/csp_subarray01\"\n",
    "TMC_SUBARRAY_FQDN = \"ska_mid/tm_subarray_node/1\"\n",
    "\n",
    "LEAF_NODE_MASTER_FQDN = \"ska_mid/tm_leaf_node/csp_master\"\n",
    "\n",
    "CBF_SUBARRAY_FQDN = \"mid_csp_cbf/sub_elt/subarray_01\"\n",
    "\n",
    "BITE_FQDN = \"mid_csp_cbf/ec/bite\"\n",
    "DEPLOYER_FQDN = \"mid_csp_cbf/ec/deployer\"\n",
    "\n",
    "# Tango host environment variable\n",
    "TANGO_HOST = \"databaseds-tango-base.\" + namespace + \".svc.cluster.local:10000\"\n",
    "SKUID_POD = skuid_id + \".\" + namespace + \".svc.cluster.local:5004\"\n",
    "\n",
    "# For now, use direct cluster IP/port access for kafka and sku id pods\n",
    "SKUID_POD = \"10.10.47.134:9870\"\n",
    "KAFKA_POD = \"10.110.145.7:9092\"\n",
    "\n",
    "# Parent directory to use to grab config files.\n",
    "DATA_DIR = os.path.join(os.path.dirname(os.path.dirname(os.getcwd())), \"data\")\n",
    "# Config file directories\n",
    "COMMON_CONFIG = os.path.join(DATA_DIR, \"mid_telescope/cbf\")\n",
    "CSP_CONFIG = os.path.join(DATA_DIR, \"mid_telescope/csp\")\n",
    "TMC_CONFIG = os.path.join(DATA_DIR, \"mid_telescope/tmc\")\n",
    "HW_CONFIG = os.path.join(DATA_DIR, \"psi/cbf/hw_config\")\n",
    "SLIM_CONFIG = os.path.join(COMMON_CONFIG, \"slim_config\")\n",
    "CBF_INPUT_DIR = os.path.join(COMMON_CONFIG, \"cbf_input_data\")\n",
    "# For mapping the talon boards to receptor\n",
    "RECEPTOR_MAP = [\"SKA001\", \"SKA036\", \"SKA063\", \"SKA100\"]"
   ]
  },
  {
   "cell_type": "markdown",
   "metadata": {},
   "source": [
    "Next, set the environment arg for TANGO HOST, SKUID_POD and KAFKA, along with the oda API service endpoint:"
   ]
  },
  {
   "cell_type": "code",
   "execution_count": 11,
   "metadata": {},
   "outputs": [
    {
     "name": "stdout",
     "output_type": "stream",
     "text": [
      "SKUID service set to:  10.101.212.237:9870\n",
      "TANGO_HOST set to: databaseds-tango-base.ci-ska-mid-psi-1386660462-alexschell.svc.cluster.local:10000\n",
      "ODA endpoint set to:http://142.73.34.170/ci-ska-mid-psi-1386660462-alexschell/oda/api/v5/\n",
      "This can be checked via http://142.73.34.170/ci-ska-mid-psi-1386660462-alexschell/oda/api/v5/ui\n"
     ]
    }
   ],
   "source": [
    "os.environ[\"TANGO_HOST\"] = TANGO_HOST\n",
    "os.environ[\"SKUID_URL\"] = SKUID_POD\n",
    "os.environ[\"ODA_URL\"] = f\"http://142.73.34.170/{namespace}/oda/api/v5/\"\n",
    "os.environ[\"telescope\"] = \"mid\"\n",
    "print(\"SKUID service set to: \", os.environ[\"SKUID_URL\"])\n",
    "print(\"TANGO_HOST set to:\", os.environ[\"TANGO_HOST\"])\n",
    "print(\"ODA endpoint set to:{}\".format(os.environ[\"ODA_URL\"]))\n",
    "print(\"This can be checked via {}ui\".format(os.environ[\"ODA_URL\"]))"
   ]
  },
  {
   "cell_type": "markdown",
   "metadata": {},
   "source": [
    "With all the file paths defined the JSON files can be loaded in and checked."
   ]
  },
  {
   "cell_type": "code",
   "execution_count": 12,
   "metadata": {},
   "outputs": [
    {
     "name": "stdout",
     "output_type": "stream",
     "text": [
      "Getting files...\n",
      "/home/al097049_p/SKAcode/ska-mid-jupyter-notebooks/data/mid_telescope/cbf/sys_params/initial_system_param.json exists: ✔️\n",
      "/home/al097049_p/SKAcode/ska-mid-jupyter-notebooks/data/mid_telescope/tmc/assign_resources.json exists: ✔️\n",
      "/home/al097049_p/SKAcode/ska-mid-jupyter-notebooks/data/mid_telescope/tmc/configure_scan.json exists: ✔️\n",
      "/home/al097049_p/SKAcode/ska-mid-jupyter-notebooks/data/mid_telescope/tmc/scan.json exists: ✔️\n",
      "/home/al097049_p/SKAcode/ska-mid-jupyter-notebooks/data/mid_telescope/cbf/cbf_input_data/cbf_input_data.json exists: ✔️\n",
      "/home/al097049_p/SKAcode/ska-mid-jupyter-notebooks/data/mid_telescope/cbf/cbf_input_data/bite_config_parameters/bite_configs.json exists: ✔️\n",
      "/home/al097049_p/SKAcode/ska-mid-jupyter-notebooks/data/mid_telescope/cbf/cbf_input_data/bite_config_parameters/filters.json exists: ✔️\n",
      "/home/al097049_p/SKAcode/ska-mid-jupyter-notebooks/data/mid_telescope/cbf/sys_params/load_dish_config.json exists: ✔️\n"
     ]
    }
   ],
   "source": [
    "print(\"Getting files...\")\n",
    "\n",
    "INIT_SYS_PARAM_FILE = os.path.join(COMMON_CONFIG, \"sys_params/initial_system_param.json\")\n",
    "ASSIGN_RESOURCES_FILE = os.path.join(TMC_CONFIG, \"assign_resources.json\")\n",
    "CONFIGURE_SCAN_FILE = os.path.join(TMC_CONFIG, \"configure_scan.json\")\n",
    "SCAN_FILE = os.path.join(TMC_CONFIG, \"scan.json\")\n",
    "\n",
    "CBF_INPUT_FILE = f\"{CBF_INPUT_DIR}/cbf_input_data.json\"\n",
    "BITE_CONFIG_FILE = f\"{CBF_INPUT_DIR}/bite_config_parameters/bite_configs.json\"\n",
    "FILTERS_FILE = f\"{CBF_INPUT_DIR}/bite_config_parameters/filters.json\"\n",
    "\n",
    "DISH_CONFIG_FILE = f\"{COMMON_CONFIG}/sys_params/load_dish_config.json\"\n",
    "\n",
    "START_CHANNEL = 0\n",
    "END_CHANNEL = 14860\n",
    "START_PORT = 21000\n",
    "\n",
    "SCAN_COMBOS = [[0.0, 5.0], [0.0, -5.0], [5.0, 0.0], [-5.0, 0.0]]\n",
    "\n",
    "files = [\n",
    "    INIT_SYS_PARAM_FILE,\n",
    "    ASSIGN_RESOURCES_FILE,\n",
    "    CONFIGURE_SCAN_FILE,\n",
    "    SCAN_FILE,\n",
    "    CBF_INPUT_FILE,\n",
    "    BITE_CONFIG_FILE,\n",
    "    FILTERS_FILE,\n",
    "    DISH_CONFIG_FILE,\n",
    "]\n",
    "\n",
    "for file in files:\n",
    "    if os.path.isfile(file):\n",
    "        print(f\"{file} exists: ✔️\")\n",
    "    else:\n",
    "        print(f\"{file} does not exist ❌\")"
   ]
  },
  {
   "cell_type": "markdown",
   "metadata": {},
   "source": [
    "Next, set up the hw config to match the boards in use:"
   ]
  },
  {
   "cell_type": "code",
   "execution_count": 13,
   "metadata": {},
   "outputs": [
    {
     "name": "stdout",
     "output_type": "stream",
     "text": [
      "Using standard HW config\n",
      "HW config: ✔️\n"
     ]
    }
   ],
   "source": [
    "if any(i > 4 for i in target_boards_list):\n",
    "    print(\"Using swap for higher number talons\")\n",
    "    config = \"hw_config_swap_psi.yaml\"\n",
    "    print(\"Modifying target to use lower nums to match swap file\")\n",
    "    target_boards_list = list(map(lambda x: x - 4, target_boards_list))\n",
    "\n",
    "else:\n",
    "    print(\"Using standard HW config\")\n",
    "    config = \"hw_config_psi.yaml\"\n",
    "\n",
    "HW_CONFIG_FILE = os.path.join(HW_CONFIG, config)\n",
    "if os.path.isfile(HW_CONFIG_FILE):\n",
    "    print(\"HW config: ✔️\")\n",
    "else:\n",
    "    print(\"hw config: ❌\")\n",
    "\n",
    "receptor_ids = list(map(lambda x: RECEPTOR_MAP[x - 1], target_boards_list))"
   ]
  },
  {
   "cell_type": "markdown",
   "metadata": {},
   "source": [
    "If the HW config file exists, it is loaded into the pod:"
   ]
  },
  {
   "cell_type": "code",
   "execution_count": 14,
   "metadata": {},
   "outputs": [],
   "source": [
    "!kubectl cp $HW_CONFIG_FILE $namespace/ds-cbfcontroller-controller-0:/app/mnt/hw_config/hw_config.yaml "
   ]
  },
  {
   "cell_type": "markdown",
   "metadata": {},
   "source": [
    "### 1.3 Create Device Proxies"
   ]
  },
  {
   "cell_type": "markdown",
   "metadata": {},
   "source": [
    "Using the FQDNs set earlier, and with the pod spun up, create device proxies to the devices used and check the connection to them."
   ]
  },
  {
   "cell_type": "code",
   "execution_count": 15,
   "metadata": {},
   "outputs": [
    {
     "name": "stdout",
     "output_type": "stream",
     "text": [
      "CSP Controller: The device is in DISABLE state.\n",
      "CSP Subarray: The device is in DISABLE state.\n",
      "Central Node: The device is in ON state.\n",
      "Leaf Subarray Node: The device is in ON state.\n",
      "TMC subarray Node: The device is in ON state.\n",
      "CBF subarray: The device is in DISABLE state.\n"
     ]
    }
   ],
   "source": [
    "# CSP Devices\n",
    "csp_controller = DeviceProxy(CSP_CONTROLLER_FQDN)\n",
    "print(f\"CSP Controller: {csp_controller.Status()}\")\n",
    "csp_subarray = DeviceProxy(CSP_SUBARRAY_FQDN)\n",
    "print(f\"CSP Subarray: {csp_subarray.Status()}\")\n",
    "\n",
    "# TMC Devices\n",
    "tmc_central_node = DeviceProxy(CENTRAL_NODE_FQDN)\n",
    "print(f\"Central Node: {tmc_central_node.Status()}\")\n",
    "leaf_node_subarray = DeviceProxy(LEAF_NODE_SUBARRAY_FQDN)\n",
    "print(f\"Leaf Subarray Node: {leaf_node_subarray.Status()}\")\n",
    "tmc_subarray = DeviceProxy(TMC_SUBARRAY_FQDN)\n",
    "print(f\"TMC subarray Node: {tmc_subarray.Status()}\")\n",
    "\n",
    "leaf_node_master = DeviceProxy(LEAF_NODE_MASTER_FQDN)\n",
    "\n",
    "# Deployer for setup and BITE for data mocking\n",
    "bite = DeviceProxy(BITE_FQDN)\n",
    "deployer = DeviceProxy(DEPLOYER_FQDN)\n",
    "\n",
    "sdp_subarray = DeviceProxy(\"mid-sdp/subarray/01\")\n",
    "\n",
    "# CBF Device\n",
    "cbf_subarray = DeviceProxy(CBF_SUBARRAY_FQDN)\n",
    "print(f\"CBF subarray: {cbf_subarray.Status()}\")"
   ]
  },
  {
   "cell_type": "markdown",
   "metadata": {},
   "source": [
    "### 1.4 Downloading Requirements via the Deployer"
   ]
  },
  {
   "cell_type": "markdown",
   "metadata": {},
   "source": [
    "First, set the board to deploy to and turn on the deployer device."
   ]
  },
  {
   "cell_type": "code",
   "execution_count": 16,
   "metadata": {},
   "outputs": [
    {
     "name": "stdout",
     "output_type": "stream",
     "text": [
      "[1]\n"
     ]
    }
   ],
   "source": [
    "deployer.targetTalons = target_boards_list\n",
    "print(deployer.targetTalons)\n",
    "deployer.generate_config_jsons()"
   ]
  },
  {
   "cell_type": "markdown",
   "metadata": {},
   "source": [
    "Once started and configured, the required devices can then be downloaded."
   ]
  },
  {
   "cell_type": "code",
   "execution_count": 17,
   "metadata": {},
   "outputs": [],
   "source": [
    "deployer.set_timeout_millis(400000)\n",
    "try:\n",
    "    deployer.download_artifacts()\n",
    "except DevFailed as e:\n",
    "    print(e)\n",
    "    print(\n",
    "        \"Timed out, this is likely due to the download taking some time. Check the logs with the code space below after some time to see if it passes.\"\n",
    "    )\n",
    "deployer.set_timeout_millis(3000)"
   ]
  },
  {
   "cell_type": "markdown",
   "metadata": {},
   "source": [
    "Now configure the device database with the downloaded devices:"
   ]
  },
  {
   "cell_type": "code",
   "execution_count": 18,
   "metadata": {},
   "outputs": [],
   "source": [
    "deployer.configure_db()"
   ]
  },
  {
   "cell_type": "markdown",
   "metadata": {},
   "source": [
    "### 1.5 Set up Execution Block"
   ]
  },
  {
   "cell_type": "markdown",
   "metadata": {},
   "source": [
    "The first step is to generate an empty Execution Block, using the help to work with the API endpoint:"
   ]
  },
  {
   "cell_type": "code",
   "execution_count": 19,
   "metadata": {},
   "outputs": [
    {
     "name": "stdout",
     "output_type": "stream",
     "text": [
      "eb-t0001-20240729-00002\n"
     ]
    }
   ],
   "source": [
    "exec_block_id = oda_helper.create_eb(telescope=\"ska_mid\")\n",
    "print(exec_block_id)"
   ]
  },
  {
   "cell_type": "markdown",
   "metadata": {},
   "source": [
    "## 2 Preparing Telescope"
   ]
  },
  {
   "cell_type": "markdown",
   "metadata": {},
   "source": [
    "Start by setting the admin modes to allow for control of the telescope:"
   ]
  },
  {
   "cell_type": "code",
   "execution_count": 20,
   "metadata": {},
   "outputs": [],
   "source": [
    "csp_controller.write_attribute(\"adminMode\", 0)\n",
    "tmc_central_node.write_attribute(\"adminMode\", 0)\n",
    "# Set CBF Simulation mode to false and CBF timeout to 99s\n",
    "csp_controller.cbfSimulationMode = 0\n",
    "csp_controller.commandTimeout = 99"
   ]
  },
  {
   "cell_type": "markdown",
   "metadata": {},
   "source": [
    "Start by loading in the VCC config (this step may need to be re-run):"
   ]
  },
  {
   "cell_type": "code",
   "execution_count": 24,
   "metadata": {},
   "outputs": [
    {
     "name": "stdout",
     "output_type": "stream",
     "text": [
      "dish_config_json file contents: \n",
      "{'interface': 'https://schema.skao.int/ska-mid-cbf-initsysparam/1.0', 'tm_data_sources': ['car://gitlab.com/ska-telescope/ska-telmodel-data?0.1.0-rc-mid-itf#tmdata'], 'tm_data_filepath': 'instrument/ska1_mid_itf/ska-mid-cbf-system-parameters.json'}\n",
      "TMC CSP Master's Dish Vcc Config attribute value: \n",
      "{\"interface\": \"https://schema.skao.int/ska-mid-cbf-initsysparam/1.0\", \"dish_parameters\": {\"SKA001\": {\"vcc\": 1, \"k\": 1}, \"SKA036\": {\"vcc\": 2, \"k\": 1}, \"SKA063\": {\"vcc\": 3, \"k\": 1}, \"SKA100\": {\"vcc\": 4, \"k\": 1}}}\n",
      "\n",
      "TMC CSP Master's Source Dish Vcc Config attribute value: \n",
      "{\"interface\": \"https://schema.skao.int/ska-mid-cbf-initsysparam/1.0\", \"tm_data_sources\": [\"car://gitlab.com/ska-telescope/ska-telmodel-data?0.1.0-rc-mid-itf#tmdata\"], \"tm_data_filepath\": \"instrument/ska1_mid_itf/ska-mid-cbf-system-parameters.json\"}\n"
     ]
    }
   ],
   "source": [
    "with open(DISH_CONFIG_FILE, encoding=\"utf-8\") as f:\n",
    "    dish_config_json = json.load(f)\n",
    "\n",
    "dish_config_json[\"tm_data_sources\"][\n",
    "    0\n",
    "] = \"car://gitlab.com/ska-telescope/ska-telmodel-data?0.1.0-rc-mid-itf#tmdata\"\n",
    "dish_config_json[\"tm_data_filepath\"] = \"instrument/ska1_mid_itf/ska-mid-cbf-system-parameters.json\"\n",
    "\n",
    "print(f\"dish_config_json file contents: \\n{dish_config_json}\")\n",
    "tmc_central_node.LoadDishCfg(json.dumps(dish_config_json))\n",
    "\n",
    "sleep(2)\n",
    "print(f\"TMC CSP Master's Dish Vcc Config attribute value: \\n{leaf_node_master.dishVccConfig}\")\n",
    "print(\n",
    "    f\"\\nTMC CSP Master's Source Dish Vcc Config attribute value: \\n{leaf_node_master.sourceDishVccConfig}\"\n",
    ")"
   ]
  },
  {
   "cell_type": "markdown",
   "metadata": {},
   "source": [
    "Before continuing, ensure this passes to make sure the DishVCC is set to allow for the On command to be sent."
   ]
  },
  {
   "cell_type": "code",
   "execution_count": 25,
   "metadata": {},
   "outputs": [
    {
     "name": "stdout",
     "output_type": "stream",
     "text": [
      "DishVCC set, can continue!\n"
     ]
    }
   ],
   "source": [
    "if tmc_central_node.isDishVccConfigSet:\n",
    "    print(\"DishVCC set, can continue!\")\n",
    "else:\n",
    "    print(\"DishVCC not set, repeat last step.\")"
   ]
  },
  {
   "cell_type": "markdown",
   "metadata": {},
   "source": [
    "Set up the objects for controlling the telescope via OSO:"
   ]
  },
  {
   "cell_type": "code",
   "execution_count": 26,
   "metadata": {},
   "outputs": [],
   "source": [
    "sub = SubArray(subarray_id)\n",
    "tel = Telescope()"
   ]
  },
  {
   "cell_type": "markdown",
   "metadata": {},
   "source": [
    "Now, while monitoring the Taranta dashboard, send the ON command to the telescope and monitor that the LURs Controller and subarrays come on:"
   ]
  },
  {
   "cell_type": "code",
   "execution_count": 27,
   "metadata": {},
   "outputs": [
    {
     "name": "stdout",
     "output_type": "stream",
     "text": [
      "1|2024-07-29T18:55:56.097Z|INFO|MainThread|_call_and_wait_for_transition|common.py#147||Using pub/sub to track telescopeState of ska_mid/tm_central/central_node\n",
      "1|2024-07-29T18:55:56.124Z|INFO|MainThread|execute|tango_executor.py#243||Executing command: <Command('ska_mid/tm_central/central_node', 'TelescopeOn', )>\n",
      "1|2024-07-29T18:55:56.134Z|INFO|MainThread|wait_for_transition|common.py#338||Waiting for telescopeState to transition to ON\n",
      "1|2024-07-29T18:55:56.135Z|INFO|MainThread|read_event|tango_executor.py#184||timeout None to wait for read an event from queue\n",
      "1|2024-07-29T18:55:56.159Z|INFO|MainThread|read_event|tango_executor.py#184||timeout None to wait for read an event from queue\n",
      "1|2024-07-29T18:55:57.140Z|INFO|MainThread|wait_for_transition|common.py#354||telescopeState reached target state ON\n"
     ]
    }
   ],
   "source": [
    "tel.on()"
   ]
  },
  {
   "cell_type": "markdown",
   "metadata": {},
   "source": [
    "### 2.1 Set up CSP and TMC"
   ]
  },
  {
   "cell_type": "code",
   "execution_count": 28,
   "metadata": {},
   "outputs": [
    {
     "name": "stdout",
     "output_type": "stream",
     "text": [
      "CSP controller state is: ON\n",
      "Central node state is: ON\n"
     ]
    }
   ],
   "source": [
    "print(f\"CSP controller state is: {csp_controller.state()}\")\n",
    "print(f\"Central node state is: {tmc_central_node.state()}\")"
   ]
  },
  {
   "cell_type": "markdown",
   "metadata": {},
   "source": [
    "### 2.2 Define Scheduling Block"
   ]
  },
  {
   "cell_type": "markdown",
   "metadata": {},
   "source": [
    "Temporary work around for ingress issues:"
   ]
  },
  {
   "cell_type": "code",
   "execution_count": 32,
   "metadata": {},
   "outputs": [
    {
     "name": "stdout",
     "output_type": "stream",
     "text": [
      "SKUID service set to:  10.10.47.134:9870\n"
     ]
    }
   ],
   "source": [
    "os.environ[\"SKUID_URL\"] = SKUID_POD\n",
    "print(\"SKUID service set to: \", os.environ[\"SKUID_URL\"])"
   ]
  },
  {
   "cell_type": "markdown",
   "metadata": {},
   "source": [
    "Now, use the SKUID service to generate processing and execution block IDs from the scheduling block definition."
   ]
  },
  {
   "cell_type": "code",
   "execution_count": 33,
   "metadata": {},
   "outputs": [
    {
     "name": "stdout",
     "output_type": "stream",
     "text": [
      "1|2024-07-29T18:58:15.588Z|INFO|MainThread|create_sbi|sb.py#28||New SBI ID mapping: sbi-mvp01-20200325-00001 -> sbi-t0001-20240729-00003\n",
      "1|2024-07-29T18:58:15.594Z|INFO|MainThread|create_sbi|sb.py#41||New PB ID mapping: pb-test-20211111-00000 -> pb-t0001-20240729-00004\n",
      "1|2024-07-29T18:58:15.594Z|INFO|MainThread|create_sbi|sb.py#41||New PB ID mapping: pb-test-20211111-00001 -> pb-t0001-20240729-00005\n"
     ]
    }
   ],
   "source": [
    "sb = load_sbd(\"./sb/mid_5_point_sb.json\")\n",
    "sbi = create_sbi(sb)\n",
    "\n",
    "sbi.sdp_configuration.execution_block.eb_id = exec_block_id"
   ]
  },
  {
   "cell_type": "code",
   "execution_count": 34,
   "metadata": {},
   "outputs": [],
   "source": [
    "sb_json = SBDefinition.model_dump_json(sb)\n",
    "sb_json = sb_json.replace(\"<KAFKA_HOST>\", KAFKA_POD)\n",
    "sb = SBDefinition.model_validate_json(sb_json)"
   ]
  },
  {
   "cell_type": "markdown",
   "metadata": {},
   "source": [
    "## 3 Running the Scan"
   ]
  },
  {
   "cell_type": "markdown",
   "metadata": {},
   "source": [
    "### 3.1 Assigning Resources"
   ]
  },
  {
   "cell_type": "markdown",
   "metadata": {},
   "source": [
    "Now, the resources can be assigned to the telescope, either via getting the resources from the scheduling block:"
   ]
  },
  {
   "cell_type": "code",
   "execution_count": 35,
   "metadata": {},
   "outputs": [
    {
     "name": "stdout",
     "output_type": "stream",
     "text": [
      "1|2024-07-29T18:58:35.403Z|INFO|MainThread|create_mid_assign_resources_request|wrapper.py#81||Setting dish : frozenset({'SKA100', 'SKA001', 'SKA063', 'SKA036'}) \n",
      "1|2024-07-29T18:58:35.404Z|INFO|MainThread|convert_channels|sdp.py#293||Setting ChannelConfiguration id:vis_channels , spectral_windows:[SpectralWindow(spectral_window_id='fsp_1_channels', count=32, start=0, freq_min=1326000000.0, freq_max=1367000000.0, stride=1, link_map=[(0, 0), (200, 1), (744, 2), (944, 3)])] \n",
      "1|2024-07-29T18:58:35.404Z|INFO|MainThread|convert_spectral_window|sdp.py#272||Setting channel attribute -> count:32 , start:0 , stride:1, freq_min:1326000000.0, freq_max:1367000000.0 , link_map:[(0, 0), (200, 1), (744, 2), (944, 3)] \n",
      "1|2024-07-29T18:58:35.405Z|INFO|MainThread|convert_target_to_fieldconfiguration|sdp.py#347||Setting target attribute -> target_id:Polaris Australis , reference_coordinate:<EquatorialCoordinates: (21h08m47.92s -88d57m22.9s ICRS)> \n",
      "1|2024-07-29T18:58:35.407Z|INFO|MainThread|convert_target_to_fieldconfiguration|sdp.py#364||Resulting SDP coordinate for targetid:Polaris Australis -> system:ICRF3 , ra:[317.19966666666664] , dec:[-88.95636111111111]\n",
      "1|2024-07-29T18:58:35.407Z|INFO|MainThread|convert_target_to_fieldconfiguration|sdp.py#347||Setting target attribute -> target_id:M83 , reference_coordinate:<EquatorialCoordinates: (13h37m00.919s -29d51m56.74s ICRS)> \n",
      "1|2024-07-29T18:58:35.411Z|INFO|MainThread|convert_target_to_fieldconfiguration|sdp.py#364||Resulting SDP coordinate for targetid:M83 -> system:ICRF3 , ra:[204.2538291666666] , dec:[-29.865761111111112]\n",
      "1|2024-07-29T18:58:35.411Z|INFO|MainThread|convert_dependencies|sdp.py#211||Setting PbDependency Id : pb-test-20211111-00001 \n",
      "1|2024-07-29T18:58:35.412Z|INFO|MainThread|convert_script|sdp.py#199||Setting ScriptConfiguration : pointing-offset \n",
      "1|2024-07-29T18:58:35.412Z|INFO|MainThread|convert_processing_block|sdp.py#185||Setting ProcessingBlock Id : pb-test-20211111-00000 \n",
      "1|2024-07-29T18:58:35.412Z|INFO|MainThread|convert_script|sdp.py#199||Setting ScriptConfiguration : vis-receive \n",
      "1|2024-07-29T18:58:35.413Z|INFO|MainThread|convert_processing_block|sdp.py#185||Setting ProcessingBlock Id : pb-test-20211111-00001 \n",
      "1|2024-07-29T18:58:35.413Z|INFO|MainThread|create_mid_assign_resources_request|wrapper.py#87||Setting SDP configuration for EB: eb-mvp01-20200325-00001 \n"
     ]
    }
   ],
   "source": [
    "assign_requests = pdm_transforms.create_cdm_assign_resources_request_from_scheduling_block(\n",
    "    sub.id, sb\n",
    ")"
   ]
  },
  {
   "cell_type": "code",
   "execution_count": 42,
   "metadata": {},
   "outputs": [
    {
     "name": "stdout",
     "output_type": "stream",
     "text": [
      "[AssignResourcesRequest(subarray_id=1, dish=DishAllocation(receptor_ids=frozenset({'SKA001'})), sdp_config=SDPConfiguration(eb_id=None, max_length=None, scan_types=None, processing_blocks=[ProcessingBlockConfiguration(pb_id='pb-test-20211111-00000', workflow=None, parameters={'version': '0.4.0', 'num_scan': 5, 'additional_args': ['--thresh_width', '1.25'], 'kafka_topic': 'pointing_offset'}, dependencies=[PbDependency(pb_id='pb-test-20211111-00001', kind=['vis-receive'])], sbi_ids=[], script=ScriptConfiguration(kind='realtime', name='pointing-offset', version='0.4.0')), ProcessingBlockConfiguration(pb_id='pb-test-20211111-00001', workflow=None, parameters={'channels_per_port': 32, 'queue_connector_configuration': {'exchanges': []}, 'transport_protocol': 'tcp', 'extra_helm_values': {'receiver': {'options': {'reception': {'reset_time_indexing_after_each_scan': True, 'stats_receiver_kafka_config': '10.110.145.7:9092:json_workflow_state'}, 'telescope_model': {'telmodel_key': 'instrument/ska1_mid/layout/mid-layout.json'}}}}, 'pod_settings': [{'securityContext': {'runAsUser': 0, 'fsGroup': 0}}], 'processors': []}, dependencies=None, sbi_ids=[], script=ScriptConfiguration(kind='realtime', name='vis-receive', version='4.0.0'))], execution_block=ExecutionBlockConfiguration(eb_id='eb-mvp01-20200325-00001', max_length=21600.0, context={}, beams=[BeamConfiguration(beam_id='vis0', function='visibilities', search_beam_id=None, timing_beam_id=None, vlbi_beam_id=None)], channels=[ChannelConfiguration(channels_id='vis_channels', spectral_windows=[Channel(count=32, start=0, stride=1, freq_min=1326000000.0, freq_max=1367000000.0, link_map=[[0, 0], [200, 1], [744, 2], [944, 3]], spectral_window_id='fsp_1_channels')])], polarisations=[PolarisationConfiguration(polarisations_id='all', corr_type=['XX', 'XY', 'YX', 'YY'])], fields=[FieldConfiguration(field_id='Polaris Australis', pointing_fqdn=None, phase_dir=PhaseDir(ra=[317.19966666666664], dec=[-88.95636111111111], reference_time='2024-07-29T18:58:35.406152+00:00', reference_frame='ICRF3')), FieldConfiguration(field_id='M83', pointing_fqdn=None, phase_dir=PhaseDir(ra=[204.2538291666666], dec=[-29.865761111111112], reference_time='2024-07-29T18:58:35.408186+00:00', reference_frame='ICRF3'))], scan_types=[EBScanType(scan_type_id='.default', beams={'vis0': EBScanTypeBeam(field_id=None, channels_id=None, polarisations_id=None)}, derive_from=None), EBScanType(scan_type_id='science', beams={'vis0': EBScanTypeBeam(field_id=None, channels_id=None, polarisations_id=None)}, derive_from='.default'), EBScanType(scan_type_id='pointing', beams={'vis0': EBScanTypeBeam(field_id=None, channels_id=None, polarisations_id=None)}, derive_from='.default')]), resources={'receptors': ['SKA001', 'SKA036', 'SKA063', 'SKA100'], 'receive_nodes': 1}, interface='https://schema.skao.int/ska-sdp-assignres/0.4'), mccs=None, interface='', transaction_id=None)]\n",
      "subarray_id=1 dish=DishAllocation(receptor_ids=frozenset({'SKA001'})) sdp_config=SDPConfiguration(eb_id=None, max_length=None, scan_types=None, processing_blocks=[ProcessingBlockConfiguration(pb_id='pb-test-20211111-00000', workflow=None, parameters={'version': '0.4.0', 'num_scan': 5, 'additional_args': ['--thresh_width', '1.25'], 'kafka_topic': 'pointing_offset'}, dependencies=[PbDependency(pb_id='pb-test-20211111-00001', kind=['vis-receive'])], sbi_ids=[], script=ScriptConfiguration(kind='realtime', name='pointing-offset', version='0.4.0')), ProcessingBlockConfiguration(pb_id='pb-test-20211111-00001', workflow=None, parameters={'channels_per_port': 32, 'queue_connector_configuration': {'exchanges': []}, 'transport_protocol': 'tcp', 'extra_helm_values': {'receiver': {'options': {'reception': {'reset_time_indexing_after_each_scan': True, 'stats_receiver_kafka_config': '10.110.145.7:9092:json_workflow_state'}, 'telescope_model': {'telmodel_key': 'instrument/ska1_mid/layout/mid-layout.json'}}}}, 'pod_settings': [{'securityContext': {'runAsUser': 0, 'fsGroup': 0}}], 'processors': []}, dependencies=None, sbi_ids=[], script=ScriptConfiguration(kind='realtime', name='vis-receive', version='4.0.0'))], execution_block=ExecutionBlockConfiguration(eb_id='eb-mvp01-20200325-00001', max_length=21600.0, context={}, beams=[BeamConfiguration(beam_id='vis0', function='visibilities', search_beam_id=None, timing_beam_id=None, vlbi_beam_id=None)], channels=[ChannelConfiguration(channels_id='vis_channels', spectral_windows=[Channel(count=32, start=0, stride=1, freq_min=1326000000.0, freq_max=1367000000.0, link_map=[[0, 0], [200, 1], [744, 2], [944, 3]], spectral_window_id='fsp_1_channels')])], polarisations=[PolarisationConfiguration(polarisations_id='all', corr_type=['XX', 'XY', 'YX', 'YY'])], fields=[FieldConfiguration(field_id='Polaris Australis', pointing_fqdn=None, phase_dir=PhaseDir(ra=[317.19966666666664], dec=[-88.95636111111111], reference_time='2024-07-29T18:58:35.406152+00:00', reference_frame='ICRF3')), FieldConfiguration(field_id='M83', pointing_fqdn=None, phase_dir=PhaseDir(ra=[204.2538291666666], dec=[-29.865761111111112], reference_time='2024-07-29T18:58:35.408186+00:00', reference_frame='ICRF3'))], scan_types=[EBScanType(scan_type_id='.default', beams={'vis0': EBScanTypeBeam(field_id=None, channels_id=None, polarisations_id=None)}, derive_from=None), EBScanType(scan_type_id='science', beams={'vis0': EBScanTypeBeam(field_id=None, channels_id=None, polarisations_id=None)}, derive_from='.default'), EBScanType(scan_type_id='pointing', beams={'vis0': EBScanTypeBeam(field_id=None, channels_id=None, polarisations_id=None)}, derive_from='.default')]), resources={'receptors': ['SKA001', 'SKA036', 'SKA063', 'SKA100'], 'receive_nodes': 1}, interface='https://schema.skao.int/ska-sdp-assignres/0.4') mccs=None interface='' transaction_id=None\n",
      "subarray_id=1 dish=DishAllocation(receptor_ids=frozenset({'SKA001'})) sdp_config=SDPConfiguration(eb_id=None, max_length=None, scan_types=None, processing_blocks=[ProcessingBlockConfiguration(pb_id='pb-test-20211111-00000', workflow=None, parameters={'version': '0.4.0', 'num_scan': 5, 'additional_args': ['--thresh_width', '1.25'], 'kafka_topic': 'pointing_offset'}, dependencies=[PbDependency(pb_id='pb-test-20211111-00001', kind=['vis-receive'])], sbi_ids=[], script=ScriptConfiguration(kind='realtime', name='pointing-offset', version='0.4.0')), ProcessingBlockConfiguration(pb_id='pb-test-20211111-00001', workflow=None, parameters={'channels_per_port': 32, 'queue_connector_configuration': {'exchanges': []}, 'transport_protocol': 'tcp', 'extra_helm_values': {'receiver': {'options': {'reception': {'reset_time_indexing_after_each_scan': True, 'stats_receiver_kafka_config': '10.110.145.7:9092:json_workflow_state'}, 'telescope_model': {'telmodel_key': 'instrument/ska1_mid/layout/mid-layout.json'}}}}, 'pod_settings': [{'securityContext': {'runAsUser': 0, 'fsGroup': 0}}], 'processors': []}, dependencies=None, sbi_ids=[], script=ScriptConfiguration(kind='realtime', name='vis-receive', version='4.0.0'))], execution_block=ExecutionBlockConfiguration(eb_id='eb-mvp01-20200325-00001', max_length=21600.0, context={}, beams=[BeamConfiguration(beam_id='vis0', function='visibilities', search_beam_id=None, timing_beam_id=None, vlbi_beam_id=None)], channels=[ChannelConfiguration(channels_id='vis_channels', spectral_windows=[Channel(count=32, start=0, stride=1, freq_min=1326000000.0, freq_max=1367000000.0, link_map=[[0, 0], [200, 1], [744, 2], [944, 3]], spectral_window_id='fsp_1_channels')])], polarisations=[PolarisationConfiguration(polarisations_id='all', corr_type=['XX', 'XY', 'YX', 'YY'])], fields=[FieldConfiguration(field_id='Polaris Australis', pointing_fqdn=None, phase_dir=PhaseDir(ra=[317.19966666666664], dec=[-88.95636111111111], reference_time='2024-07-29T18:58:35.406152+00:00', reference_frame='ICRF3')), FieldConfiguration(field_id='M83', pointing_fqdn=None, phase_dir=PhaseDir(ra=[204.2538291666666], dec=[-29.865761111111112], reference_time='2024-07-29T18:58:35.408186+00:00', reference_frame='ICRF3'))], scan_types=[EBScanType(scan_type_id='.default', beams={'vis0': EBScanTypeBeam(field_id=None, channels_id=None, polarisations_id=None)}, derive_from=None), EBScanType(scan_type_id='science', beams={'vis0': EBScanTypeBeam(field_id=None, channels_id=None, polarisations_id=None)}, derive_from='.default'), EBScanType(scan_type_id='pointing', beams={'vis0': EBScanTypeBeam(field_id=None, channels_id=None, polarisations_id=None)}, derive_from='.default')]), resources={'receptors': ['SKA001', 'SKA036', 'SKA063', 'SKA100'], 'receive_nodes': 1}, interface='https://schema.skao.int/ska-sdp-assignres/0.4') mccs=None interface='' transaction_id=None\n"
     ]
    }
   ],
   "source": [
    "print(assign_requests)\n",
    "print(assign_requests[0])\n",
    "stripped_assign_requests = assign_requests[0]\n",
    "stripped_assign_requests.interface = \"\"\n",
    "stripped_assign_requests.dish.receptor_ids = {\"SKA001\"}\n",
    "print(stripped_assign_requests)"
   ]
  },
  {
   "cell_type": "markdown",
   "metadata": {},
   "source": [
    "TODO: Get around channel count validation error for this step, timeout can occur but everything can be set."
   ]
  },
  {
   "cell_type": "code",
   "execution_count": 43,
   "metadata": {},
   "outputs": [
    {
     "name": "stdout",
     "output_type": "stream",
     "text": [
      "1|2024-07-29T20:20:46.465Z|INFO|MainThread|_call_and_wait_for_transition|common.py#147||Using pub/sub to track obsState of ska_mid/tm_subarray_node/1\n",
      "1|2024-07-29T20:20:46.469Z|INFO|MainThread|_get_id_from_params_or_generate_new_id|transactions.py#172||Generated transaction ID txn-t0001-20240729-000000010\n",
      "1|2024-07-29T20:20:46.470Z|INFO|MainThread|log_entry|transactions.py#132||Transaction[txn-t0001-20240729-000000010]: Enter[AssignResources] with parameters [{}] marker[82420]\n",
      "1|2024-07-29T20:20:46.470Z|INFO|MainThread|_call_and_wait_for_transition|common.py#178||Added Transaction_id to command: <Command('ska_mid/tm_central/central_node', 'AssignResources', '{\"subarray_id\": 1, \"dish\": {\"receptor_ids\": [\"SKA001\"]}, \"sdp\": {\"processing_blocks\": [{\"pb_id\": \"pb-test-20211111-00000\", \"parameters\": {\"version\": \"0.4.0\", \"num_scan\": 5, \"additional_args\": [\"--thresh_width\", \"1.25\"], \"kafka_topic\": \"pointing_offset\"}, \"dependencies\": [{\"pb_id\": \"pb-test-20211111-00001\", \"kind\": [\"vis-receive\"]}], \"sbi_ids\": [], \"script\": {\"kind\": \"realtime\", \"name\": \"pointing-offset\", \"version\": \"0.4.0\"}}, {\"pb_id\": \"pb-test-20211111-00001\", \"parameters\": {\"channels_per_port\": 32, \"queue_connector_configuration\": {\"exchanges\": []}, \"transport_protocol\": \"tcp\", \"extra_helm_values\": {\"receiver\": {\"options\": {\"reception\": {\"reset_time_indexing_after_each_scan\": true, \"stats_receiver_kafka_config\": \"10.110.145.7:9092:json_workflow_state\"}, \"telescope_model\": {\"telmodel_key\": \"instrument/ska1_mid/layout/mid-layout.json\"}}}}, \"pod_settings\": [{\"securityContext\": {\"runAsUser\": 0, \"fsGroup\": 0}}], \"processors\": []}, \"sbi_ids\": [], \"script\": {\"kind\": \"realtime\", \"name\": \"vis-receive\", \"version\": \"4.0.0\"}}], \"execution_block\": {\"eb_id\": \"eb-t0001-20240729-00002\", \"max_length\": 21600.0, \"context\": {}, \"beams\": [{\"beam_id\": \"vis0\", \"function\": \"visibilities\"}], \"channels\": [{\"channels_id\": \"vis_channels\", \"spectral_windows\": [{\"count\": 32, \"start\": 0, \"stride\": 1, \"freq_min\": 1326000000.0, \"freq_max\": 1367000000.0, \"link_map\": [[0, 0], [200, 1], [744, 2], [944, 3]], \"spectral_window_id\": \"fsp_1_channels\"}]}], \"polarisations\": [{\"polarisations_id\": \"all\", \"corr_type\": [\"XX\", \"XY\", \"YX\", \"YY\"]}], \"fields\": [{\"field_id\": \"Polaris Australis\", \"phase_dir\": {\"ra\": [317.19966666666664], \"dec\": [-88.95636111111111], \"reference_time\": \"2024-07-29T18:58:35.406152+00:00\", \"reference_frame\": \"ICRF3\"}}, {\"field_id\": \"M83\", \"phase_dir\": {\"ra\": [204.2538291666666], \"dec\": [-29.865761111111112], \"reference_time\": \"2024-07-29T18:58:35.408186+00:00\", \"reference_frame\": \"ICRF3\"}}], \"scan_types\": [{\"scan_type_id\": \".default\", \"beams\": {\"vis0\": {}}}, {\"scan_type_id\": \"science\", \"beams\": {\"vis0\": {}}, \"derive_from\": \".default\"}, {\"scan_type_id\": \"pointing\", \"beams\": {\"vis0\": {}}, \"derive_from\": \".default\"}]}, \"resources\": {\"receptors\": [\"SKA001\", \"SKA036\", \"SKA063\", \"SKA100\"], \"receive_nodes\": 1}, \"interface\": \"https://schema.skao.int/ska-sdp-assignres/0.4\"}, \"interface\": \"\", \"transaction_id\": \"txn-t0001-20240729-000000010\"}')>\n",
      "1|2024-07-29T20:20:46.471Z|INFO|MainThread|execute|tango_executor.py#243||Executing command: <Command('ska_mid/tm_central/central_node', 'AssignResources', '{\"subarray_id\": 1, \"dish\": {\"receptor_ids\": [\"SKA001\"]}, \"sdp\": {\"processing_blocks\": [{\"pb_id\": \"pb-test-20211111-00000\", \"parameters\": {\"version\": \"0.4.0\", \"num_scan\": 5, \"additional_args\": [\"--thresh_width\", \"1.25\"], \"kafka_topic\": \"pointing_offset\"}, \"dependencies\": [{\"pb_id\": \"pb-test-20211111-00001\", \"kind\": [\"vis-receive\"]}], \"sbi_ids\": [], \"script\": {\"kind\": \"realtime\", \"name\": \"pointing-offset\", \"version\": \"0.4.0\"}}, {\"pb_id\": \"pb-test-20211111-00001\", \"parameters\": {\"channels_per_port\": 32, \"queue_connector_configuration\": {\"exchanges\": []}, \"transport_protocol\": \"tcp\", \"extra_helm_values\": {\"receiver\": {\"options\": {\"reception\": {\"reset_time_indexing_after_each_scan\": true, \"stats_receiver_kafka_config\": \"10.110.145.7:9092:json_workflow_state\"}, \"telescope_model\": {\"telmodel_key\": \"instrument/ska1_mid/layout/mid-layout.json\"}}}}, \"pod_settings\": [{\"securityContext\": {\"runAsUser\": 0, \"fsGroup\": 0}}], \"processors\": []}, \"sbi_ids\": [], \"script\": {\"kind\": \"realtime\", \"name\": \"vis-receive\", \"version\": \"4.0.0\"}}], \"execution_block\": {\"eb_id\": \"eb-t0001-20240729-00002\", \"max_length\": 21600.0, \"context\": {}, \"beams\": [{\"beam_id\": \"vis0\", \"function\": \"visibilities\"}], \"channels\": [{\"channels_id\": \"vis_channels\", \"spectral_windows\": [{\"count\": 32, \"start\": 0, \"stride\": 1, \"freq_min\": 1326000000.0, \"freq_max\": 1367000000.0, \"link_map\": [[0, 0], [200, 1], [744, 2], [944, 3]], \"spectral_window_id\": \"fsp_1_channels\"}]}], \"polarisations\": [{\"polarisations_id\": \"all\", \"corr_type\": [\"XX\", \"XY\", \"YX\", \"YY\"]}], \"fields\": [{\"field_id\": \"Polaris Australis\", \"phase_dir\": {\"ra\": [317.19966666666664], \"dec\": [-88.95636111111111], \"reference_time\": \"2024-07-29T18:58:35.406152+00:00\", \"reference_frame\": \"ICRF3\"}}, {\"field_id\": \"M83\", \"phase_dir\": {\"ra\": [204.2538291666666], \"dec\": [-29.865761111111112], \"reference_time\": \"2024-07-29T18:58:35.408186+00:00\", \"reference_frame\": \"ICRF3\"}}], \"scan_types\": [{\"scan_type_id\": \".default\", \"beams\": {\"vis0\": {}}}, {\"scan_type_id\": \"science\", \"beams\": {\"vis0\": {}}, \"derive_from\": \".default\"}, {\"scan_type_id\": \"pointing\", \"beams\": {\"vis0\": {}}, \"derive_from\": \".default\"}]}, \"resources\": {\"receptors\": [\"SKA001\", \"SKA036\", \"SKA063\", \"SKA100\"], \"receive_nodes\": 1}, \"interface\": \"https://schema.skao.int/ska-sdp-assignres/0.4\"}, \"interface\": \"\", \"transaction_id\": \"txn-t0001-20240729-000000010\"}')>\n",
      "1|2024-07-29T20:20:46.490Z|INFO|MainThread|wait_for_transition|common.py#338||Waiting for obsState to transition to ObsState.RESOURCING\n",
      "1|2024-07-29T20:20:46.491Z|INFO|MainThread|read_event|tango_executor.py#184||timeout 120 to wait for read an event from queue\n",
      "1|2024-07-29T20:20:46.503Z|INFO|MainThread|wait_for_transition|common.py#354||obsState reached target state ObsState.RESOURCING\n",
      "1|2024-07-29T20:20:46.503Z|INFO|MainThread|wait_for_transition|common.py#338||Waiting for obsState to transition to ObsState.IDLE\n",
      "1|2024-07-29T20:20:46.504Z|INFO|MainThread|read_event|tango_executor.py#184||timeout 120 to wait for read an event from queue\n",
      "1|2024-07-29T20:22:46.504Z|ERROR|MainThread|log_exit|transactions.py#145||Transaction[txn-t0001-20240729-000000010]: Exception[AssignResources] marker[82420]\n",
      "Traceback (most recent call last):\n",
      "  File \"/home/al097049_p/envs/notebook_env/lib/python3.10/site-packages/ska_oso_scripting/functions/devicecontrol/tango_executor.py\", line 188, in read_event\n",
      "    evt = self._queue.get(timeout=timeout)\n",
      "  File \"/usr/lib/python3.10/queue.py\", line 179, in get\n",
      "    raise Empty\n",
      "_queue.Empty\n",
      "\n",
      "During handling of the above exception, another exception occurred:\n",
      "\n",
      "Traceback (most recent call last):\n",
      "  File \"/home/al097049_p/envs/notebook_env/lib/python3.10/site-packages/ska_oso_scripting/functions/devicecontrol/common.py\", line 179, in _call_and_wait_for_transition\n",
      "    response = execute_command_and_wait_for_transition(\n",
      "  File \"/home/al097049_p/envs/notebook_env/lib/python3.10/site-packages/ska_oso_scripting/functions/devicecontrol/common.py\", line 226, in execute_command_and_wait_for_transition\n",
      "    value_response = wait_for_transition(\n",
      "  File \"/home/al097049_p/envs/notebook_env/lib/python3.10/site-packages/ska_oso_scripting/functions/devicecontrol/common.py\", line 344, in wait_for_transition\n",
      "    received = wait_for_value(attribute, values_union, key=key, timeout=timeout)\n",
      "  File \"/home/al097049_p/envs/notebook_env/lib/python3.10/site-packages/ska_oso_scripting/functions/devicecontrol/common.py\", line 263, in wait_for_value\n",
      "    response = EXECUTOR.read_event(attribute, timeout=timeout)\n",
      "  File \"/home/al097049_p/envs/notebook_env/lib/python3.10/site-packages/ska_oso_scripting/functions/devicecontrol/tango_executor.py\", line 273, in read_event\n",
      "    return self._evt_strategy.read_event(attr, timeout=timeout)\n",
      "  File \"/home/al097049_p/envs/notebook_env/lib/python3.10/site-packages/ska_oso_scripting/functions/devicecontrol/tango_executor.py\", line 191, in read_event\n",
      "    raise EventTimeoutError(\n",
      "ska_oso_scripting.functions.devicecontrol.exception.EventTimeoutError: Timeout after waiting read an event from the queue\n",
      "1|2024-07-29T20:22:46.505Z|INFO|MainThread|log_exit|transactions.py#150||Transaction[txn-t0001-20240729-000000010]: Exit[AssignResources] marker[82420]\n"
     ]
    },
    {
     "ename": "EventTimeoutError",
     "evalue": "Read event timeout from queue occured while execution of AssignResources command",
     "output_type": "error",
     "traceback": [
      "\u001b[0;31m---------------------------------------------------------------------------\u001b[0m",
      "\u001b[0;31mEmpty\u001b[0m                                     Traceback (most recent call last)",
      "File \u001b[0;32m~/envs/notebook_env/lib/python3.10/site-packages/ska_oso_scripting/functions/devicecontrol/tango_executor.py:188\u001b[0m, in \u001b[0;36mTangoExecutor.SingleQueueEventStrategy.read_event\u001b[0;34m(self, attr, timeout)\u001b[0m\n\u001b[1;32m    187\u001b[0m \u001b[38;5;28;01mtry\u001b[39;00m:\n\u001b[0;32m--> 188\u001b[0m     evt \u001b[38;5;241m=\u001b[39m \u001b[38;5;28;43mself\u001b[39;49m\u001b[38;5;241;43m.\u001b[39;49m\u001b[43m_queue\u001b[49m\u001b[38;5;241;43m.\u001b[39;49m\u001b[43mget\u001b[49m\u001b[43m(\u001b[49m\u001b[43mtimeout\u001b[49m\u001b[38;5;241;43m=\u001b[39;49m\u001b[43mtimeout\u001b[49m\u001b[43m)\u001b[49m\n\u001b[1;32m    189\u001b[0m     \u001b[38;5;28;01mreturn\u001b[39;00m evt\n",
      "File \u001b[0;32m/usr/lib/python3.10/queue.py:179\u001b[0m, in \u001b[0;36mQueue.get\u001b[0;34m(self, block, timeout)\u001b[0m\n\u001b[1;32m    178\u001b[0m \u001b[38;5;28;01mif\u001b[39;00m remaining \u001b[38;5;241m<\u001b[39m\u001b[38;5;241m=\u001b[39m \u001b[38;5;241m0.0\u001b[39m:\n\u001b[0;32m--> 179\u001b[0m     \u001b[38;5;28;01mraise\u001b[39;00m Empty\n\u001b[1;32m    180\u001b[0m \u001b[38;5;28mself\u001b[39m\u001b[38;5;241m.\u001b[39mnot_empty\u001b[38;5;241m.\u001b[39mwait(remaining)\n",
      "\u001b[0;31mEmpty\u001b[0m: ",
      "\nDuring handling of the above exception, another exception occurred:\n",
      "\u001b[0;31mEventTimeoutError\u001b[0m                         Traceback (most recent call last)",
      "File \u001b[0;32m~/envs/notebook_env/lib/python3.10/site-packages/ska_oso_scripting/functions/devicecontrol/resource_control.py:80\u001b[0m, in \u001b[0;36massign_resources\u001b[0;34m(subarray_id, request, with_processing, timeout)\u001b[0m\n\u001b[1;32m     79\u001b[0m \u001b[38;5;28;01mtry\u001b[39;00m:\n\u001b[0;32m---> 80\u001b[0m     \u001b[43m_call_and_wait_for_transition\u001b[49m\u001b[43m(\u001b[49m\n\u001b[1;32m     81\u001b[0m \u001b[43m        \u001b[49m\u001b[43mcommand\u001b[49m\u001b[43m,\u001b[49m\n\u001b[1;32m     82\u001b[0m \u001b[43m        \u001b[49m\u001b[43m[\u001b[49m\u001b[43mObsState\u001b[49m\u001b[38;5;241;43m.\u001b[39;49m\u001b[43mRESOURCING\u001b[49m\u001b[43m,\u001b[49m\u001b[43m \u001b[49m\u001b[43mObsState\u001b[49m\u001b[38;5;241;43m.\u001b[39;49m\u001b[43mIDLE\u001b[49m\u001b[43m]\u001b[49m\u001b[43m,\u001b[49m\n\u001b[1;32m     83\u001b[0m \u001b[43m        \u001b[49m\u001b[38;5;124;43m\"\u001b[39;49m\u001b[38;5;124;43mobsState\u001b[39;49m\u001b[38;5;124;43m\"\u001b[39;49m\u001b[43m,\u001b[49m\n\u001b[1;32m     84\u001b[0m \u001b[43m        \u001b[49m\u001b[43mdevice_to_monitor\u001b[49m\u001b[38;5;241;43m=\u001b[39;49m\u001b[43msubarray_device\u001b[49m\u001b[43m,\u001b[49m\n\u001b[1;32m     85\u001b[0m \u001b[43m        \u001b[49m\u001b[43mtimeout\u001b[49m\u001b[38;5;241;43m=\u001b[39;49m\u001b[43mtimeout\u001b[49m\u001b[43m,\u001b[49m\n\u001b[1;32m     86\u001b[0m \u001b[43m    \u001b[49m\u001b[43m)\u001b[49m\n\u001b[1;32m     87\u001b[0m \u001b[38;5;28;01mexcept\u001b[39;00m EventTimeoutError \u001b[38;5;28;01mas\u001b[39;00m evterror:\n",
      "File \u001b[0;32m~/envs/notebook_env/lib/python3.10/site-packages/ska_oso_scripting/functions/devicecontrol/common.py:168\u001b[0m, in \u001b[0;36m_call_and_wait_for_transition\u001b[0;34m(command, target_transitions, attribute_name, device_to_monitor, optional_transitions, timeout)\u001b[0m\n\u001b[1;32m    164\u001b[0m \u001b[38;5;250m\u001b[39m\u001b[38;5;124;03m\"\"\"\u001b[39;00m\n\u001b[1;32m    165\u001b[0m \u001b[38;5;124;03mThis block will execute and add the transaction id in the request payload\u001b[39;00m\n\u001b[1;32m    166\u001b[0m \u001b[38;5;124;03mof AssignResource and Configure command.\u001b[39;00m\n\u001b[1;32m    167\u001b[0m \u001b[38;5;124;03m\"\"\"\u001b[39;00m\n\u001b[0;32m--> 168\u001b[0m \u001b[38;5;28;01mwith\u001b[39;00m transaction(command\u001b[38;5;241m.\u001b[39mcommand_name, logger\u001b[38;5;241m=\u001b[39mLOGGER) \u001b[38;5;28;01mas\u001b[39;00m transaction_id:\n\u001b[1;32m    169\u001b[0m     command_with_txn \u001b[38;5;241m=\u001b[39m copy\u001b[38;5;241m.\u001b[39mdeepcopy(command)\n",
      "File \u001b[0;32m~/envs/notebook_env/lib/python3.10/site-packages/ska_ser_log_transactions/transactions.py:217\u001b[0m, in \u001b[0;36mTransaction.__exit__\u001b[0;34m(self, exc_type, exc_val, exc_tb)\u001b[0m\n\u001b[1;32m    208\u001b[0m \u001b[38;5;250m\u001b[39m\u001b[38;5;124;03m\"\"\"Context handler exit\u001b[39;00m\n\u001b[1;32m    209\u001b[0m \n\u001b[1;32m    210\u001b[0m \u001b[38;5;124;03m:param exc_type: The exception type\u001b[39;00m\n\u001b[0;32m   (...)\u001b[0m\n\u001b[1;32m    215\u001b[0m \u001b[38;5;124;03m:type exc_tb: exception_traceback\u001b[39;00m\n\u001b[1;32m    216\u001b[0m \u001b[38;5;124;03m\"\"\"\u001b[39;00m\n\u001b[0;32m--> 217\u001b[0m \u001b[38;5;28;43mself\u001b[39;49m\u001b[38;5;241;43m.\u001b[39;49m\u001b[43mlog_exit\u001b[49m\u001b[43m(\u001b[49m\u001b[43mexc_type\u001b[49m\u001b[43m)\u001b[49m\n",
      "File \u001b[0;32m~/envs/notebook_env/lib/python3.10/site-packages/ska_oso_scripting/functions/devicecontrol/common.py:179\u001b[0m, in \u001b[0;36m_call_and_wait_for_transition\u001b[0;34m(command, target_transitions, attribute_name, device_to_monitor, optional_transitions, timeout)\u001b[0m\n\u001b[1;32m    178\u001b[0m         LOGGER\u001b[38;5;241m.\u001b[39minfo(\u001b[38;5;124mf\u001b[39m\u001b[38;5;124m\"\u001b[39m\u001b[38;5;124mAdded Transaction_id to command: \u001b[39m\u001b[38;5;132;01m{\u001b[39;00mcommand_with_txn\u001b[38;5;132;01m}\u001b[39;00m\u001b[38;5;124m\"\u001b[39m)\n\u001b[0;32m--> 179\u001b[0m         response \u001b[38;5;241m=\u001b[39m \u001b[43mexecute_command_and_wait_for_transition\u001b[49m\u001b[43m(\u001b[49m\n\u001b[1;32m    180\u001b[0m \u001b[43m            \u001b[49m\u001b[43mcommand\u001b[49m\u001b[38;5;241;43m=\u001b[39;49m\u001b[43mcommand_with_txn\u001b[49m\u001b[43m,\u001b[49m\n\u001b[1;32m    181\u001b[0m \u001b[43m            \u001b[49m\u001b[43mtarget_transitions\u001b[49m\u001b[38;5;241;43m=\u001b[39;49m\u001b[43mtarget_transitions\u001b[49m\u001b[43m,\u001b[49m\n\u001b[1;32m    182\u001b[0m \u001b[43m            \u001b[49m\u001b[43mattribute\u001b[49m\u001b[38;5;241;43m=\u001b[39;49m\u001b[43mattribute\u001b[49m\u001b[43m,\u001b[49m\n\u001b[1;32m    183\u001b[0m \u001b[43m            \u001b[49m\u001b[43moptional_transitions\u001b[49m\u001b[38;5;241;43m=\u001b[39;49m\u001b[43moptional_transitions\u001b[49m\u001b[43m,\u001b[49m\n\u001b[1;32m    184\u001b[0m \u001b[43m            \u001b[49m\u001b[43mtimeout\u001b[49m\u001b[38;5;241;43m=\u001b[39;49m\u001b[43mtimeout\u001b[49m\u001b[43m,\u001b[49m\n\u001b[1;32m    185\u001b[0m \u001b[43m        \u001b[49m\u001b[43m)\u001b[49m\n\u001b[1;32m    186\u001b[0m \u001b[38;5;28;01melse\u001b[39;00m:\n",
      "File \u001b[0;32m~/envs/notebook_env/lib/python3.10/site-packages/ska_oso_scripting/functions/devicecontrol/common.py:226\u001b[0m, in \u001b[0;36mexecute_command_and_wait_for_transition\u001b[0;34m(command, target_transitions, attribute, optional_transitions, timeout)\u001b[0m\n\u001b[1;32m    225\u001b[0m \u001b[38;5;28;01mfor\u001b[39;00m target_value \u001b[38;5;129;01min\u001b[39;00m target_transitions:\n\u001b[0;32m--> 226\u001b[0m     value_response \u001b[38;5;241m=\u001b[39m \u001b[43mwait_for_transition\u001b[49m\u001b[43m(\u001b[49m\n\u001b[1;32m    227\u001b[0m \u001b[43m        \u001b[49m\u001b[43mattribute\u001b[49m\u001b[38;5;241;43m=\u001b[39;49m\u001b[43mattribute\u001b[49m\u001b[43m,\u001b[49m\n\u001b[1;32m    228\u001b[0m \u001b[43m        \u001b[49m\u001b[43mtarget_transition\u001b[49m\u001b[38;5;241;43m=\u001b[39;49m\u001b[43mtarget_value\u001b[49m\u001b[43m,\u001b[49m\n\u001b[1;32m    229\u001b[0m \u001b[43m        \u001b[49m\u001b[43moptional_transitions\u001b[49m\u001b[38;5;241;43m=\u001b[39;49m\u001b[43moptional_transitions\u001b[49m\u001b[43m,\u001b[49m\n\u001b[1;32m    230\u001b[0m \u001b[43m        \u001b[49m\u001b[43mtimeout\u001b[49m\u001b[38;5;241;43m=\u001b[39;49m\u001b[43mtimeout\u001b[49m\u001b[43m,\u001b[49m\n\u001b[1;32m    231\u001b[0m \u001b[43m    \u001b[49m\u001b[43m)\u001b[49m\n\u001b[1;32m    232\u001b[0m     \u001b[38;5;28;01mif\u001b[39;00m value_response\u001b[38;5;241m.\u001b[39mresponse_msg \u001b[38;5;241m==\u001b[39m WAIT_FOR_TRANSITION_FAILURE_RESPONSE:\n",
      "File \u001b[0;32m~/envs/notebook_env/lib/python3.10/site-packages/ska_oso_scripting/functions/devicecontrol/common.py:344\u001b[0m, in \u001b[0;36mwait_for_transition\u001b[0;34m(attribute, target_transition, optional_transitions, timeout)\u001b[0m\n\u001b[1;32m    343\u001b[0m values_union\u001b[38;5;241m.\u001b[39madd(target_transition)\n\u001b[0;32m--> 344\u001b[0m received \u001b[38;5;241m=\u001b[39m \u001b[43mwait_for_value\u001b[49m\u001b[43m(\u001b[49m\u001b[43mattribute\u001b[49m\u001b[43m,\u001b[49m\u001b[43m \u001b[49m\u001b[43mvalues_union\u001b[49m\u001b[43m,\u001b[49m\u001b[43m \u001b[49m\u001b[43mkey\u001b[49m\u001b[38;5;241;43m=\u001b[39;49m\u001b[43mkey\u001b[49m\u001b[43m,\u001b[49m\u001b[43m \u001b[49m\u001b[43mtimeout\u001b[49m\u001b[38;5;241;43m=\u001b[39;49m\u001b[43mtimeout\u001b[49m\u001b[43m)\u001b[49m\n\u001b[1;32m    345\u001b[0m \u001b[38;5;28;01mif\u001b[39;00m received \u001b[38;5;241m!=\u001b[39m target_transition:\n",
      "File \u001b[0;32m~/envs/notebook_env/lib/python3.10/site-packages/ska_oso_scripting/functions/devicecontrol/common.py:263\u001b[0m, in \u001b[0;36mwait_for_value\u001b[0;34m(attribute, target_values, key, timeout)\u001b[0m\n\u001b[1;32m    262\u001b[0m \u001b[38;5;28;01mwhile\u001b[39;00m \u001b[38;5;28;01mTrue\u001b[39;00m:\n\u001b[0;32m--> 263\u001b[0m     response \u001b[38;5;241m=\u001b[39m \u001b[43mEXECUTOR\u001b[49m\u001b[38;5;241;43m.\u001b[39;49m\u001b[43mread_event\u001b[49m\u001b[43m(\u001b[49m\u001b[43mattribute\u001b[49m\u001b[43m,\u001b[49m\u001b[43m \u001b[49m\u001b[43mtimeout\u001b[49m\u001b[38;5;241;43m=\u001b[39;49m\u001b[43mtimeout\u001b[49m\u001b[43m)\u001b[49m\n\u001b[1;32m    264\u001b[0m     \u001b[38;5;28;01mif\u001b[39;00m response\u001b[38;5;241m.\u001b[39merr:\n",
      "File \u001b[0;32m~/envs/notebook_env/lib/python3.10/site-packages/ska_oso_scripting/functions/devicecontrol/tango_executor.py:273\u001b[0m, in \u001b[0;36mTangoExecutor.read_event\u001b[0;34m(self, attr, timeout)\u001b[0m\n\u001b[1;32m    268\u001b[0m \u001b[38;5;250m\u001b[39m\u001b[38;5;124;03m\"\"\"\u001b[39;00m\n\u001b[1;32m    269\u001b[0m \u001b[38;5;124;03mGet an event for the specified attribute.\u001b[39;00m\n\u001b[1;32m    270\u001b[0m \u001b[38;5;124;03m:param timeout: custom timeout provided while execution of command's\u001b[39;00m\n\u001b[1;32m    271\u001b[0m \u001b[38;5;124;03mif systems do not respond within reasonable timescales then method raised EventTimeoutError.\u001b[39;00m\n\u001b[1;32m    272\u001b[0m \u001b[38;5;124;03m\"\"\"\u001b[39;00m\n\u001b[0;32m--> 273\u001b[0m \u001b[38;5;28;01mreturn\u001b[39;00m \u001b[38;5;28;43mself\u001b[39;49m\u001b[38;5;241;43m.\u001b[39;49m\u001b[43m_evt_strategy\u001b[49m\u001b[38;5;241;43m.\u001b[39;49m\u001b[43mread_event\u001b[49m\u001b[43m(\u001b[49m\u001b[43mattr\u001b[49m\u001b[43m,\u001b[49m\u001b[43m \u001b[49m\u001b[43mtimeout\u001b[49m\u001b[38;5;241;43m=\u001b[39;49m\u001b[43mtimeout\u001b[49m\u001b[43m)\u001b[49m\n",
      "File \u001b[0;32m~/envs/notebook_env/lib/python3.10/site-packages/ska_oso_scripting/functions/devicecontrol/tango_executor.py:191\u001b[0m, in \u001b[0;36mTangoExecutor.SingleQueueEventStrategy.read_event\u001b[0;34m(self, attr, timeout)\u001b[0m\n\u001b[1;32m    190\u001b[0m \u001b[38;5;28;01mexcept\u001b[39;00m queue\u001b[38;5;241m.\u001b[39mEmpty:\n\u001b[0;32m--> 191\u001b[0m     \u001b[38;5;28;01mraise\u001b[39;00m EventTimeoutError(\n\u001b[1;32m    192\u001b[0m         \u001b[38;5;124m\"\u001b[39m\u001b[38;5;124mTimeout after waiting read an event from the queue\u001b[39m\u001b[38;5;124m\"\u001b[39m\n\u001b[1;32m    193\u001b[0m     )\n",
      "\u001b[0;31mEventTimeoutError\u001b[0m: Timeout after waiting read an event from the queue",
      "\nThe above exception was the direct cause of the following exception:\n",
      "\u001b[0;31mEventTimeoutError\u001b[0m                         Traceback (most recent call last)",
      "Cell \u001b[0;32mIn[43], line 1\u001b[0m\n\u001b[0;32m----> 1\u001b[0m \u001b[43msub\u001b[49m\u001b[38;5;241;43m.\u001b[39;49m\u001b[43massign_from_cdm\u001b[49m\u001b[43m(\u001b[49m\u001b[43mstripped_assign_requests\u001b[49m\u001b[43m,\u001b[49m\u001b[43m \u001b[49m\u001b[43mtimeout\u001b[49m\u001b[38;5;241;43m=\u001b[39;49m\u001b[38;5;241;43m120\u001b[39;49m\u001b[43m)\u001b[49m\n",
      "File \u001b[0;32m~/envs/notebook_env/lib/python3.10/site-packages/ska_oso_scripting/objects.py:136\u001b[0m, in \u001b[0;36mSubArray.assign_from_cdm\u001b[0;34m(self, request, timeout)\u001b[0m\n\u001b[1;32m    122\u001b[0m \u001b[38;5;28;01mdef\u001b[39;00m \u001b[38;5;21massign_from_cdm\u001b[39m(\n\u001b[1;32m    123\u001b[0m     \u001b[38;5;28mself\u001b[39m, request: AssignResourcesRequest, timeout: \u001b[38;5;28mfloat\u001b[39m \u001b[38;5;241m=\u001b[39m \u001b[38;5;28;01mNone\u001b[39;00m\n\u001b[1;32m    124\u001b[0m ) \u001b[38;5;241m-\u001b[39m\u001b[38;5;241m>\u001b[39m \u001b[38;5;28;01mNone\u001b[39;00m:\n\u001b[1;32m    125\u001b[0m \u001b[38;5;250m    \u001b[39m\u001b[38;5;124;03m\"\"\"\u001b[39;00m\n\u001b[1;32m    126\u001b[0m \u001b[38;5;124;03m    Allocate resources to this subarray using a CDM AssignResourcesRequest object.\u001b[39;00m\n\u001b[1;32m    127\u001b[0m \n\u001b[0;32m   (...)\u001b[0m\n\u001b[1;32m    134\u001b[0m \u001b[38;5;124;03m        if systems do not respond within reasonable timescales then method raised EventTimeoutError.\u001b[39;00m\n\u001b[1;32m    135\u001b[0m \u001b[38;5;124;03m    \"\"\"\u001b[39;00m\n\u001b[0;32m--> 136\u001b[0m     \u001b[43mdevicecontrol\u001b[49m\u001b[38;5;241;43m.\u001b[39;49m\u001b[43massign_resources_from_cdm\u001b[49m\u001b[43m(\u001b[49m\u001b[38;5;28;43mself\u001b[39;49m\u001b[38;5;241;43m.\u001b[39;49m\u001b[43mid\u001b[49m\u001b[43m,\u001b[49m\u001b[43m \u001b[49m\u001b[43mrequest\u001b[49m\u001b[43m,\u001b[49m\u001b[43m \u001b[49m\u001b[43mtimeout\u001b[49m\u001b[38;5;241;43m=\u001b[39;49m\u001b[43mtimeout\u001b[49m\u001b[43m)\u001b[49m\n",
      "File \u001b[0;32m~/envs/notebook_env/lib/python3.10/site-packages/ska_db_oda/client/oda_helper.py:274\u001b[0m, in \u001b[0;36mcapture_request_response.<locals>.wrapper\u001b[0;34m(*args, **kwargs)\u001b[0m\n\u001b[1;32m    266\u001b[0m     request_body \u001b[38;5;241m=\u001b[39m RequestResponse(\n\u001b[1;32m    267\u001b[0m         request\u001b[38;5;241m=\u001b[39m\u001b[38;5;124mf\u001b[39m\u001b[38;5;124m\"\u001b[39m\u001b[38;5;132;01m{\u001b[39;00mfn\u001b[38;5;241m.\u001b[39m\u001b[38;5;18m__module__\u001b[39m\u001b[38;5;132;01m}\u001b[39;00m\u001b[38;5;124m.\u001b[39m\u001b[38;5;132;01m{\u001b[39;00mfn\u001b[38;5;241m.\u001b[39m\u001b[38;5;18m__name__\u001b[39m\u001b[38;5;132;01m}\u001b[39;00m\u001b[38;5;124m\"\u001b[39m,\n\u001b[1;32m    268\u001b[0m         request_args\u001b[38;5;241m=\u001b[39mPythonArguments(args\u001b[38;5;241m=\u001b[39margs, kwargs\u001b[38;5;241m=\u001b[39mkwargs),\n\u001b[0;32m   (...)\u001b[0m\n\u001b[1;32m    271\u001b[0m         request_sent_at\u001b[38;5;241m=\u001b[39mrequest_sent_at,\n\u001b[1;32m    272\u001b[0m     )\n\u001b[1;32m    273\u001b[0m     send_request_response(ODA_URL, EB_ID, request_body)\n\u001b[0;32m--> 274\u001b[0m     \u001b[38;5;28;01mraise\u001b[39;00m err\n\u001b[1;32m    275\u001b[0m \u001b[38;5;28;01melse\u001b[39;00m:\n\u001b[1;32m    276\u001b[0m     request_body \u001b[38;5;241m=\u001b[39m RequestResponse(\n\u001b[1;32m    277\u001b[0m         request\u001b[38;5;241m=\u001b[39m\u001b[38;5;124mf\u001b[39m\u001b[38;5;124m\"\u001b[39m\u001b[38;5;132;01m{\u001b[39;00mfn\u001b[38;5;241m.\u001b[39m\u001b[38;5;18m__module__\u001b[39m\u001b[38;5;132;01m}\u001b[39;00m\u001b[38;5;124m.\u001b[39m\u001b[38;5;132;01m{\u001b[39;00mfn\u001b[38;5;241m.\u001b[39m\u001b[38;5;18m__name__\u001b[39m\u001b[38;5;132;01m}\u001b[39;00m\u001b[38;5;124m\"\u001b[39m,\n\u001b[1;32m    278\u001b[0m         request_args\u001b[38;5;241m=\u001b[39mPythonArguments(args\u001b[38;5;241m=\u001b[39margs, kwargs\u001b[38;5;241m=\u001b[39mkwargs),\n\u001b[0;32m   (...)\u001b[0m\n\u001b[1;32m    282\u001b[0m         response_received_at\u001b[38;5;241m=\u001b[39mresponse_received_at,\n\u001b[1;32m    283\u001b[0m     )\n",
      "File \u001b[0;32m~/envs/notebook_env/lib/python3.10/site-packages/ska_db_oda/client/oda_helper.py:263\u001b[0m, in \u001b[0;36mcapture_request_response.<locals>.wrapper\u001b[0;34m(*args, **kwargs)\u001b[0m\n\u001b[1;32m    261\u001b[0m request_sent_at \u001b[38;5;241m=\u001b[39m datetime\u001b[38;5;241m.\u001b[39mnow(tz\u001b[38;5;241m=\u001b[39mtimezone\u001b[38;5;241m.\u001b[39mutc)\n\u001b[1;32m    262\u001b[0m \u001b[38;5;28;01mtry\u001b[39;00m:\n\u001b[0;32m--> 263\u001b[0m     result \u001b[38;5;241m=\u001b[39m \u001b[43mfn\u001b[49m\u001b[43m(\u001b[49m\u001b[38;5;241;43m*\u001b[39;49m\u001b[43margs\u001b[49m\u001b[43m,\u001b[49m\u001b[43m \u001b[49m\u001b[38;5;241;43m*\u001b[39;49m\u001b[38;5;241;43m*\u001b[39;49m\u001b[43mkwargs\u001b[49m\u001b[43m)\u001b[49m\n\u001b[1;32m    264\u001b[0m     response_received_at \u001b[38;5;241m=\u001b[39m datetime\u001b[38;5;241m.\u001b[39mnow(tz\u001b[38;5;241m=\u001b[39mtimezone\u001b[38;5;241m.\u001b[39mutc)\n\u001b[1;32m    265\u001b[0m \u001b[38;5;28;01mexcept\u001b[39;00m \u001b[38;5;167;01mException\u001b[39;00m \u001b[38;5;28;01mas\u001b[39;00m err:\n",
      "File \u001b[0;32m~/envs/notebook_env/lib/python3.10/site-packages/ska_oso_scripting/functions/devicecontrol/__init__.py:62\u001b[0m, in \u001b[0;36massign_resources_from_cdm\u001b[0;34m(subarray_id, request, timeout)\u001b[0m\n\u001b[1;32m     48\u001b[0m \u001b[38;5;129m@oda_helper\u001b[39m\u001b[38;5;241m.\u001b[39mcapture_request_response\n\u001b[1;32m     49\u001b[0m \u001b[38;5;28;01mdef\u001b[39;00m \u001b[38;5;21massign_resources_from_cdm\u001b[39m(\n\u001b[1;32m     50\u001b[0m     subarray_id: SubarrayID,\n\u001b[1;32m     51\u001b[0m     request: AssignResourcesRequest,\n\u001b[1;32m     52\u001b[0m     timeout: \u001b[38;5;28mfloat\u001b[39m \u001b[38;5;241m=\u001b[39m \u001b[38;5;28;01mNone\u001b[39;00m,\n\u001b[1;32m     53\u001b[0m ):\n\u001b[1;32m     54\u001b[0m \u001b[38;5;250m    \u001b[39m\u001b[38;5;124;03m\"\"\"\u001b[39;00m\n\u001b[1;32m     55\u001b[0m \u001b[38;5;124;03m    Allocate resources to a sub-array using a CDM object.\u001b[39;00m\n\u001b[1;32m     56\u001b[0m \n\u001b[0;32m   (...)\u001b[0m\n\u001b[1;32m     60\u001b[0m \u001b[38;5;124;03m        if systems do not respond within reasonable timescales then method raised EventTimeoutError.\u001b[39;00m\n\u001b[1;32m     61\u001b[0m \u001b[38;5;124;03m    \"\"\"\u001b[39;00m\n\u001b[0;32m---> 62\u001b[0m     \u001b[43mresource_control\u001b[49m\u001b[38;5;241;43m.\u001b[39;49m\u001b[43massign_resources\u001b[49m\u001b[43m(\u001b[49m\u001b[43msubarray_id\u001b[49m\u001b[43m,\u001b[49m\u001b[43m \u001b[49m\u001b[43mrequest\u001b[49m\u001b[43m,\u001b[49m\u001b[43m \u001b[49m\u001b[43mtimeout\u001b[49m\u001b[38;5;241;43m=\u001b[39;49m\u001b[43mtimeout\u001b[49m\u001b[43m)\u001b[49m\n",
      "File \u001b[0;32m~/envs/notebook_env/lib/python3.10/site-packages/ska_oso_scripting/functions/devicecontrol/resource_control.py:88\u001b[0m, in \u001b[0;36massign_resources\u001b[0;34m(subarray_id, request, with_processing, timeout)\u001b[0m\n\u001b[1;32m     80\u001b[0m     _call_and_wait_for_transition(\n\u001b[1;32m     81\u001b[0m         command,\n\u001b[1;32m     82\u001b[0m         [ObsState\u001b[38;5;241m.\u001b[39mRESOURCING, ObsState\u001b[38;5;241m.\u001b[39mIDLE],\n\u001b[0;32m   (...)\u001b[0m\n\u001b[1;32m     85\u001b[0m         timeout\u001b[38;5;241m=\u001b[39mtimeout,\n\u001b[1;32m     86\u001b[0m     )\n\u001b[1;32m     87\u001b[0m \u001b[38;5;28;01mexcept\u001b[39;00m EventTimeoutError \u001b[38;5;28;01mas\u001b[39;00m evterror:\n\u001b[0;32m---> 88\u001b[0m     \u001b[38;5;28;01mraise\u001b[39;00m EventTimeoutError(\n\u001b[1;32m     89\u001b[0m         \u001b[38;5;124m\"\u001b[39m\u001b[38;5;124mRead event timeout from queue occured while execution of \u001b[39m\u001b[38;5;132;01m%s\u001b[39;00m\u001b[38;5;124m command\u001b[39m\u001b[38;5;124m\"\u001b[39m\n\u001b[1;32m     90\u001b[0m         \u001b[38;5;241m%\u001b[39m command\u001b[38;5;241m.\u001b[39mcommand_name\n\u001b[1;32m     91\u001b[0m     ) \u001b[38;5;28;01mfrom\u001b[39;00m \u001b[38;5;21;01mevterror\u001b[39;00m\n\u001b[1;32m     92\u001b[0m send_message(topics\u001b[38;5;241m.\u001b[39msubarray\u001b[38;5;241m.\u001b[39mresources\u001b[38;5;241m.\u001b[39mallocated, subarray_id\u001b[38;5;241m=\u001b[39msubarray_id)\n",
      "\u001b[0;31mEventTimeoutError\u001b[0m: Read event timeout from queue occured while execution of AssignResources command"
     ]
    }
   ],
   "source": [
    "sub.assign_from_cdm(stripped_assign_requests, timeout=200)"
   ]
  },
  {
   "cell_type": "markdown",
   "metadata": {},
   "source": [
    "Or via manual setting by JSON."
   ]
  },
  {
   "cell_type": "code",
   "execution_count": null,
   "metadata": {},
   "outputs": [],
   "source": [
    "print(sdp_subarray.state())\n",
    "\n",
    "sleep(3)\n",
    "\n",
    "print(\n",
    "    \"Running the AssignResources command: subarray obsstate should go to Idle and receptor IDs should be assigned\"\n",
    ")\n",
    "\n",
    "with open(ASSIGN_RESOURCES_FILE, encoding=\"utf-8\") as f:\n",
    "    assign_resources_json = json.load(f)\n",
    "    assign_resources_json[\"dish\"][\"receptor_ids\"] = [\"SKA001\"]\n",
    "    assign_resources_json[\"sdp\"][\"resources\"][\"receptors\"] = [\"SKA001\"]\n",
    "\n",
    "\n",
    "print(f\"\\nassign_resources_json file contents: \\n{assign_resources_json}\")\n",
    "\n",
    "tmc_subarray.AssignResources(json.dumps(assign_resources_json))\n",
    "\n",
    "sleep(2)\n",
    "print(f\"\\nCBF Subarray Observation State: {tmc_subarray.obsState}\")\n",
    "print(f\"CBF Subarray Receptors : {cbf_subarray.receptors}\")\n",
    "print(f\"Assign Resource: {assign_resources_json}\")"
   ]
  },
  {
   "cell_type": "markdown",
   "metadata": {},
   "source": [
    "### 3.2 Configure the Scans and Run"
   ]
  },
  {
   "cell_type": "code",
   "execution_count": 44,
   "metadata": {},
   "outputs": [
    {
     "name": "stdout",
     "output_type": "stream",
     "text": [
      "['calibrator scan', 'science scan', 'science scan', 'calibrator scan']\n"
     ]
    }
   ],
   "source": [
    "print(sb.scan_sequence)"
   ]
  }
 ],
 "metadata": {
  "kernelspec": {
   "display_name": "notebook_env",
   "language": "python",
   "name": "python3"
  },
  "language_info": {
   "codemirror_mode": {
    "name": "ipython",
    "version": 3
   },
   "file_extension": ".py",
   "mimetype": "text/x-python",
   "name": "python",
   "nbconvert_exporter": "python",
   "pygments_lexer": "ipython3",
   "version": "3.10.14"
  }
 },
 "nbformat": 4,
 "nbformat_minor": 2
}
