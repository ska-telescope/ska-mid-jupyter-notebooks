{
 "cells": [
  {
   "cell_type": "markdown",
   "metadata": {},
   "source": [
    "# Running a 5-Point Calibration Scan With OSO"
   ]
  },
  {
   "cell_type": "markdown",
   "metadata": {},
   "source": [
    "This notebook adapts the Five Point Calibration Scan notebook to work with PSI. Running this notebook requires that a PSI namespace be spun up with `DISH_LMC_ENABLED` set to true.\n",
    "\n",
    "This notebook can be Run with BITE or SPFRx, with BITE requiring the optional BITE notebook to be run. "
   ]
  },
  {
   "cell_type": "markdown",
   "metadata": {},
   "source": [
    "###  For using BITE"
   ]
  },
  {
   "cell_type": "markdown",
   "metadata": {},
   "source": [
    " BITE Functionality has been spun out to a separate notebook, which should be referred to when needed. These sections are labeled as BITE STEP."
   ]
  },
  {
   "cell_type": "markdown",
   "metadata": {},
   "source": [
    "## 1 Setup "
   ]
  },
  {
   "cell_type": "markdown",
   "metadata": {},
   "source": [
    "### 1.1 Environment Setup"
   ]
  },
  {
   "cell_type": "markdown",
   "metadata": {},
   "source": [
    "Start by importing all the libraries needed to run this notebook, including local ones."
   ]
  },
  {
   "cell_type": "code",
   "execution_count": 1,
   "metadata": {},
   "outputs": [],
   "source": [
    "import re\n",
    "import sys\n",
    "\n",
    "sys.path.append(\"../../src\")\n",
    "\n",
    "import json\n",
    "import os\n",
    "from time import sleep\n",
    "\n",
    "from IPython.display import clear_output\n",
    "from ska_oso_pdm import SBDefinition\n",
    "from ska_oso_scripting import oda_helper\n",
    "from ska_oso_scripting.functions import pdm_transforms\n",
    "from ska_oso_scripting.functions.sb import create_sbi, load_sbd\n",
    "from ska_oso_scripting.objects import SubArray, Telescope\n",
    "from tango import DevFailed, DeviceProxy"
   ]
  },
  {
   "cell_type": "markdown",
   "metadata": {},
   "source": [
    "### 1.2 Set Variables"
   ]
  },
  {
   "cell_type": "markdown",
   "metadata": {},
   "source": [
    "First, grab the namespace launched from the pipeline:"
   ]
  },
  {
   "cell_type": "code",
   "execution_count": 2,
   "metadata": {},
   "outputs": [
    {
     "name": "stdout",
     "output_type": "stream",
     "text": [
      "ci-ska-mid-psi-1659637082-alexschell                  Active   64m\n",
      "ci-ska-mid-psi-1659637082-alexschell-sdp              Active   64m\n",
      "ci-ska-mid-psi-1659741225-maecst                      Active   21m\n",
      "ci-ska-mid-psi-1659741225-maecst-sdp                  Active   21m\n",
      "ci-ska-mid-psi-1660558031-amjoshi                     Active   4h55m\n",
      "ci-ska-mid-psi-1660558031-amjoshi-sdp                 Active   4h55m\n"
     ]
    }
   ],
   "source": [
    "!kubectl get ns | grep ska-mid-psi "
   ]
  },
  {
   "cell_type": "markdown",
   "metadata": {},
   "source": [
    "And load it into the variables for the notebook:"
   ]
  },
  {
   "cell_type": "code",
   "execution_count": 3,
   "metadata": {},
   "outputs": [],
   "source": [
    "namespace = \"ci-ska-mid-psi-1659637082-alexschell\"  # set to desired NS\n",
    "simulation_mode = 0  # set to 1 to run in sim mode\n",
    "target_boards_list = [4]  # assign boards\n",
    "scheduling_block_definition = \"adr-99-sb-test.json\"  # SB def file in data/scheduling_block to use\n",
    "server = \"ska-sdp-kafka.\" + namespace + \".svc.cluster.local:9092\"\n",
    "subarray_id = 1"
   ]
  },
  {
   "cell_type": "markdown",
   "metadata": {},
   "source": [
    "With the namespace set, use these links to monitor the system as the notebook is worked through"
   ]
  },
  {
   "cell_type": "code",
   "execution_count": 4,
   "metadata": {},
   "outputs": [
    {
     "name": "stdout",
     "output_type": "stream",
     "text": [
      "Monitor signal received by the vis pod:\n",
      "https://142.73.34.170/ci-ska-mid-psi-1659637082-alexschell/signal/display/\n",
      "Dashboard for monitoring device status:\n",
      "https://142.73.34.170/ci-ska-mid-psi-1659637082-alexschell/taranta/dashboard?id=666cb28b5e5d4f0012197e5f&mode=run\n",
      "Dashboard for monitoring TMC status:\n",
      "https://142.73.34.170/ci-ska-mid-psi-1659637082-alexschell/taranta/dashboard?id=669ea8e32bc4790019e64bba&mode=run\n",
      "PgAdmin interface to monitor the databases and ensure SB/EB are properly set in them\n",
      "https://142.73.34.170/ci-ska-mid-psi-1659637082-alexschell/pgadmin4/browser/\n"
     ]
    }
   ],
   "source": [
    "print(\"Monitor signal received by the vis pod:\")\n",
    "print(f\"https://142.73.34.170/{namespace}/signal/display/\")\n",
    "print(\"Dashboard for monitoring device status:\")\n",
    "print(f\"https://142.73.34.170/{namespace}/taranta/dashboard?id=666cb28b5e5d4f0012197e5f&mode=run\")\n",
    "print(\"Dashboard for monitoring TMC status:\")\n",
    "print(f\"https://142.73.34.170/{namespace}/taranta/dashboard?id=669ea8e32bc4790019e64bba&mode=run\")\n",
    "print(\"PgAdmin interface to monitor the databases and ensure SB/EB are properly set in them\")\n",
    "print(f\"https://142.73.34.170/{namespace}/pgadmin4/browser/\")"
   ]
  },
  {
   "cell_type": "markdown",
   "metadata": {},
   "source": [
    "Get the SKUID pod:"
   ]
  },
  {
   "cell_type": "code",
   "execution_count": 5,
   "metadata": {},
   "outputs": [
    {
     "name": "stdout",
     "output_type": "stream",
     "text": [
      "ska-ser-skuid-test-1659637082-svc                ClusterIP      10.96.15.61      <none>            9870/TCP                                          62m\n",
      "ska-sdp-kafka                                    ClusterIP      10.101.124.36    <none>            9092/TCP                                          62m\n",
      "ska-sdp-kafka-headless                           ClusterIP      None             <none>            9092/TCP,9094/TCP,9093/TCP                        62m\n"
     ]
    }
   ],
   "source": [
    "!kubectl get svc -n $namespace | grep skuid\n",
    "!kubectl get svc -n $namespace | grep kafka"
   ]
  },
  {
   "cell_type": "markdown",
   "metadata": {},
   "source": [
    "And set the id value based on the name of this pod:"
   ]
  },
  {
   "cell_type": "code",
   "execution_count": 6,
   "metadata": {},
   "outputs": [],
   "source": [
    "skuid_id = \"ska-ser-skuid-test-1659637082-svc\"\n",
    "kafka_id = \"ska-sdp-kafka\""
   ]
  },
  {
   "cell_type": "markdown",
   "metadata": {},
   "source": [
    "As a work around step for SKUID pod access, get the IP from the pod, get the IP address of the SKUID pod then set that as our access url:"
   ]
  },
  {
   "cell_type": "code",
   "execution_count": 7,
   "metadata": {},
   "outputs": [
    {
     "name": "stdout",
     "output_type": "stream",
     "text": [
      "ska-ser-skuid-test-1659637082-5f94c7fd96-pgprx\n"
     ]
    },
    {
     "name": "stdout",
     "output_type": "stream",
     "text": [
      "10.10.212.200\n",
      "ska-sdp-kafka-0\n",
      "10.10.253.150\n"
     ]
    }
   ],
   "source": [
    "skuid_name = !kubectl -n $namespace get pods | grep ska-ser-skuid-test\n",
    "skuid_name = skuid_name[0].split()[0]\n",
    "print(skuid_name)\n",
    "extracted_ip = !kubectl -n $namespace describe pod $skuid_name | grep ips -A 1\n",
    "ip = re.search(r\"[0-9]{0,3}\\.[0-9]{0,3}\\.[0-9]{0,3}\\.[0-9]{0,3}\", str(extracted_ip))\n",
    "print(ip.group(0))\n",
    "\n",
    "kafka_name = !kubectl -n $namespace get pods | grep ska-sdp-kafka\n",
    "kafka_name = kafka_name[0].split()[0]\n",
    "print(kafka_name)\n",
    "extracted_kafka_ip = !kubectl -n $namespace describe pod $kafka_name | grep ips -A 1\n",
    "kafka_ip = re.search(r\"[0-9]{0,3}\\.[0-9]{0,3}\\.[0-9]{0,3}\\.[0-9]{0,3}\", str(extracted_kafka_ip))\n",
    "print(kafka_ip.group(0))"
   ]
  },
  {
   "cell_type": "markdown",
   "metadata": {},
   "source": [
    "Copy the IP from this store it to be written later:"
   ]
  },
  {
   "cell_type": "code",
   "execution_count": 8,
   "metadata": {},
   "outputs": [],
   "source": [
    "SKUID_POD = ip.group(0) + \":9870\"\n",
    "KAFKA_POD = kafka_ip.group(0) + \":9092\""
   ]
  },
  {
   "cell_type": "markdown",
   "metadata": {},
   "source": [
    "Next, load all the other vars the notebook will use. These should not need to be changed for this run."
   ]
  },
  {
   "cell_type": "code",
   "execution_count": 9,
   "metadata": {},
   "outputs": [],
   "source": [
    "# Tango host environment variable\n",
    "TANGO_HOST = \"databaseds-tango-base.\" + namespace + \".svc.cluster.local:10000\"\n",
    "# Don't use for now...\n",
    "# SKUID_POD = skuid_id + \".\" + namespace + \".svc.cluster.local:5004\"\n",
    "\n",
    "# Parent directory to use to grab config files.\n",
    "DATA_DIR = os.path.join(os.path.dirname(os.path.dirname(os.getcwd())), \"data\")\n",
    "# Config file directories\n",
    "COMMON_CONFIG = os.path.join(DATA_DIR, \"mid_telescope/cbf\")\n",
    "HW_CONFIG = os.path.join(DATA_DIR, \"mid_telescope/cbf/hw_config\")\n",
    "SB_DIR = os.path.join(DATA_DIR, \"scheduling_block\")\n",
    "\n",
    "# For mapping the talon boards to receptor\n",
    "RECEPTOR_MAP = [\"SKA001\", \"SKA036\", \"SKA063\", \"SKA100\"]"
   ]
  },
  {
   "cell_type": "markdown",
   "metadata": {},
   "source": [
    "Next, set the environment arg for TANGO HOST, SKUID_POD and KAFKA, along with the oda API service endpoint:"
   ]
  },
  {
   "cell_type": "code",
   "execution_count": 10,
   "metadata": {},
   "outputs": [
    {
     "name": "stdout",
     "output_type": "stream",
     "text": [
      "SKUID service set to:  10.10.212.200:9870\n",
      "TANGO_HOST set to: databaseds-tango-base.ci-ska-mid-psi-1659637082-alexschell.svc.cluster.local:10000\n",
      "ODA endpoint set to:http://142.73.34.170/ci-ska-mid-psi-1659637082-alexschell/oda/api/v6/\n",
      "This can be checked via http://142.73.34.170/ci-ska-mid-psi-1659637082-alexschell/oda/api/v6/ui\n"
     ]
    }
   ],
   "source": [
    "os.environ[\"TANGO_HOST\"] = TANGO_HOST\n",
    "os.environ[\"SKUID_URL\"] = SKUID_POD\n",
    "os.environ[\"ODA_URL\"] = f\"http://142.73.34.170/{namespace}/oda/api/v6/\"\n",
    "os.environ[\"telescope\"] = \"mid\"\n",
    "print(\"SKUID service set to: \", os.environ[\"SKUID_URL\"])\n",
    "print(\"TANGO_HOST set to:\", os.environ[\"TANGO_HOST\"])\n",
    "print(\"ODA endpoint set to:{}\".format(os.environ[\"ODA_URL\"]))\n",
    "print(\"This can be checked via {}ui\".format(os.environ[\"ODA_URL\"]))"
   ]
  },
  {
   "cell_type": "markdown",
   "metadata": {},
   "source": [
    "With all the file paths defined the JSON files can be loaded in and checked."
   ]
  },
  {
   "cell_type": "code",
   "execution_count": 11,
   "metadata": {},
   "outputs": [
    {
     "name": "stdout",
     "output_type": "stream",
     "text": [
      "Getting files...\n",
      "/home/al097049_p/SKAcode/ska-mid-jupyter-notebooks/data/mid_telescope/cbf/sys_params/load_dish_config.json exists: ✔️\n",
      "/home/al097049_p/SKAcode/ska-mid-jupyter-notebooks/data/scheduling_block/adr-99-sb-test.json exists: ✔️\n"
     ]
    }
   ],
   "source": [
    "print(\"Getting files...\")\n",
    "\n",
    "DISH_CONFIG_FILE = f\"{COMMON_CONFIG}/sys_params/load_dish_config.json\"\n",
    "SB_FILE = os.path.join(SB_DIR, scheduling_block_definition)\n",
    "\n",
    "SCAN_COMBOS = [[0.0, 5.0], [0.0, -5.0], [5.0, 0.0], [-5.0, 0.0]]\n",
    "\n",
    "files = [\n",
    "    DISH_CONFIG_FILE,\n",
    "    SB_FILE,\n",
    "]\n",
    "\n",
    "for file in files:\n",
    "    if os.path.isfile(file):\n",
    "        print(f\"{file} exists: ✔️\")\n",
    "    else:\n",
    "        print(f\"{file} does not exist ❌\")"
   ]
  },
  {
   "cell_type": "markdown",
   "metadata": {},
   "source": [
    "Next, set up the hw config to match the boards in use:"
   ]
  },
  {
   "cell_type": "code",
   "execution_count": 12,
   "metadata": {},
   "outputs": [
    {
     "name": "stdout",
     "output_type": "stream",
     "text": [
      "Using HW Config File for Talons 1-4\n",
      "HW config: ✔️\n"
     ]
    }
   ],
   "source": [
    "if target_boards_list[0] >= 11:\n",
    "    print(\"Using HW Config File for Talons 11-14\")\n",
    "    hw_config = \"hw_config_psi_11_14.yaml\"\n",
    "elif target_boards_list[0] >= 9:\n",
    "    print(\"Using HW Config File for Talons 9, 10, 15, 16\")\n",
    "    hw_config = \"hw_config_psi_9_10_15_16.yaml\"\n",
    "elif target_boards_list[0] >= 5:\n",
    "    print(\"Using HW Config File for Talons 5-8\")\n",
    "    hw_config = \"hw_config_psi_5_8.yaml\"\n",
    "elif target_boards_list[0] >= 1:\n",
    "    print(\"Using HW Config File for Talons 1-4\")\n",
    "    hw_config = \"hw_config_psi_1_4.yaml\"\n",
    "\n",
    "HW_CONFIG_FILE = os.path.join(HW_CONFIG, hw_config)\n",
    "if os.path.isfile(HW_CONFIG_FILE):\n",
    "    print(\"HW config: ✔️\")\n",
    "else:\n",
    "    print(\"hw config: ❌\")\n",
    "\n",
    "target_boards_list = list(map(lambda x: x - (((x - 1) // 4) * 4), target_boards_list))\n",
    "receptor_ids = list(map(lambda x: RECEPTOR_MAP[x - 1], target_boards_list))"
   ]
  },
  {
   "cell_type": "markdown",
   "metadata": {},
   "source": [
    "If the HW config file exists, it is loaded into the pod:"
   ]
  },
  {
   "cell_type": "code",
   "execution_count": 13,
   "metadata": {},
   "outputs": [],
   "source": [
    "!kubectl cp $HW_CONFIG_FILE $namespace/ds-cbfcontroller-controller-0:/app/mnt/hw_config/hw_config.yaml "
   ]
  },
  {
   "cell_type": "markdown",
   "metadata": {},
   "source": [
    "<style>\n",
    "    .alert {\n",
    "        background-color: #1a1d21;\n",
    "        border-style: dotted;\n",
    "        border-color: #f0493e;\n",
    "        color: #d1d2d3;\n",
    "    }\n",
    "</style>\n",
    "<div class=\"alert\">\n",
    "    <h3>(BITE STEP) Set Variables in the BITE Notebook</h3>\n",
    "    If running the BITE notebook, at this point ensure the variables in step 1.2 are set, and match the ones set here.\n",
    "</div>\n",
    "</body>"
   ]
  },
  {
   "cell_type": "markdown",
   "metadata": {},
   "source": [
    "### 1.3 Create Device Proxies"
   ]
  },
  {
   "cell_type": "markdown",
   "metadata": {},
   "source": [
    "With the pod spun up, create device proxies to the devices used and check the connection to them."
   ]
  },
  {
   "cell_type": "code",
   "execution_count": 14,
   "metadata": {},
   "outputs": [
    {
     "name": "stdout",
     "output_type": "stream",
     "text": [
      "CSP Controller: The device is in DISABLE state.\n",
      "Central Node: The device is in ON state.\n",
      "TMC subarray Node: The device is in ON state.\n",
      "CBF subarray: The device is in DISABLE state.\n"
     ]
    }
   ],
   "source": [
    "# CSP Devices\n",
    "csp_controller = DeviceProxy(\"mid-csp/control/0\")\n",
    "print(f\"CSP Controller: {csp_controller.Status()}\")\n",
    "\n",
    "# TMC Devices\n",
    "tmc_central_node = DeviceProxy(\"ska_mid/tm_central/central_node\")\n",
    "print(f\"Central Node: {tmc_central_node.Status()}\")\n",
    "tmc_subarray = DeviceProxy(\"ska_mid/tm_subarray_node/1\")\n",
    "print(f\"TMC subarray Node: {tmc_subarray.Status()}\")\n",
    "\n",
    "# For checking leaf node\n",
    "leaf_node_master = DeviceProxy(\"ska_mid/tm_leaf_node/csp_master\")\n",
    "\n",
    "# Deployer for setup and BITE for data mocking\n",
    "deployer = DeviceProxy(\"mid_csp_cbf/ec/deployer\")\n",
    "\n",
    "# CBF Device\n",
    "cbf_subarray = DeviceProxy(\"mid_csp_cbf/sub_elt/subarray_01\")\n",
    "print(f\"CBF subarray: {cbf_subarray.Status()}\")"
   ]
  },
  {
   "cell_type": "markdown",
   "metadata": {},
   "source": [
    "### 1.4 Downloading Requirements via the Deployer"
   ]
  },
  {
   "cell_type": "markdown",
   "metadata": {},
   "source": [
    "First, set the board to deploy to and turn on the deployer device."
   ]
  },
  {
   "cell_type": "code",
   "execution_count": 16,
   "metadata": {},
   "outputs": [
    {
     "name": "stdout",
     "output_type": "stream",
     "text": [
      "Deployer will target board: [4]\n"
     ]
    }
   ],
   "source": [
    "deployer.targetTalons = target_boards_list\n",
    "print(\"Deployer will target board:\", deployer.targetTalons)\n",
    "deployer.generate_config_jsons()"
   ]
  },
  {
   "cell_type": "markdown",
   "metadata": {},
   "source": [
    "Once started and configured, the required devices can then be downloaded."
   ]
  },
  {
   "cell_type": "code",
   "execution_count": 17,
   "metadata": {},
   "outputs": [],
   "source": [
    "deployer.set_timeout_millis(400000)\n",
    "try:\n",
    "    deployer.download_artifacts()\n",
    "except DevFailed as e:\n",
    "    print(e)\n",
    "    print(\n",
    "        \"Timed out, this is likely due to the download taking some time. Check the logs with the code space below after some time to see if it passes.\"\n",
    "    )\n",
    "deployer.set_timeout_millis(3000)"
   ]
  },
  {
   "cell_type": "markdown",
   "metadata": {},
   "source": [
    "Now configure the device database with the downloaded devices:"
   ]
  },
  {
   "cell_type": "code",
   "execution_count": 18,
   "metadata": {},
   "outputs": [],
   "source": [
    "deployer.configure_db()"
   ]
  },
  {
   "cell_type": "markdown",
   "metadata": {},
   "source": [
    "### 1.5 Set up Execution Block"
   ]
  },
  {
   "cell_type": "markdown",
   "metadata": {},
   "source": [
    "The first step is to generate an empty Execution Block, using the helper scripts to work with the API endpoint:"
   ]
  },
  {
   "cell_type": "code",
   "execution_count": 19,
   "metadata": {},
   "outputs": [
    {
     "name": "stdout",
     "output_type": "stream",
     "text": [
      "eb-t0001-20250207-00002\n"
     ]
    }
   ],
   "source": [
    "exec_block_id = oda_helper.create_eb(telescope=\"ska_mid\")\n",
    "print(exec_block_id)"
   ]
  },
  {
   "cell_type": "markdown",
   "metadata": {},
   "source": [
    "## 2 Preparing Telescope"
   ]
  },
  {
   "cell_type": "markdown",
   "metadata": {},
   "source": [
    "Start by setting the admin modes to allow for control of the telescope:"
   ]
  },
  {
   "cell_type": "code",
   "execution_count": 20,
   "metadata": {},
   "outputs": [],
   "source": [
    "csp_controller.cbfSimulationMode = simulation_mode\n",
    "csp_controller.commandTimeout = 99\n",
    "sleep(2)\n",
    "csp_controller.adminMode = 0\n",
    "tmc_central_node.adminMode = 0"
   ]
  },
  {
   "cell_type": "markdown",
   "metadata": {},
   "source": [
    "Ensure that these are set correctly, admin mode should be 0 (online) and cbfSimulationMode should be FALSE unless running in sim mode is desired."
   ]
  },
  {
   "cell_type": "code",
   "execution_count": 21,
   "metadata": {},
   "outputs": [
    {
     "name": "stdout",
     "output_type": "stream",
     "text": [
      "adminMode.ONLINE\n",
      "adminMode.ONLINE\n",
      "False\n"
     ]
    }
   ],
   "source": [
    "print(csp_controller.adminMode)\n",
    "print(tmc_central_node.adminMode)\n",
    "print(csp_controller.cbfSimulationMode)"
   ]
  },
  {
   "cell_type": "markdown",
   "metadata": {},
   "source": [
    "Start by loading in the VCC config (this step may need to be re-run):"
   ]
  },
  {
   "cell_type": "code",
   "execution_count": 22,
   "metadata": {},
   "outputs": [
    {
     "name": "stdout",
     "output_type": "stream",
     "text": [
      "dish_config_json file contents: \n",
      "{'interface': 'https://schema.skao.int/ska-mid-cbf-initsysparam/1.0', 'tm_data_sources': ['car://gitlab.com/ska-telescope/ska-telmodel-data?0.1.0-rc-mid-itf#tmdata'], 'tm_data_filepath': 'instrument/ska1_mid_itf/ska-mid-cbf-system-parameters.json'}\n"
     ]
    }
   ],
   "source": [
    "with open(DISH_CONFIG_FILE, encoding=\"utf-8\") as f:\n",
    "    dish_config_json = json.load(f)\n",
    "\n",
    "dish_config_json[\"tm_data_sources\"][\n",
    "    0\n",
    "] = \"car://gitlab.com/ska-telescope/ska-telmodel-data?0.1.0-rc-mid-itf#tmdata\"\n",
    "dish_config_json[\"tm_data_filepath\"] = \"instrument/ska1_mid_itf/ska-mid-cbf-system-parameters.json\"\n",
    "\n",
    "print(f\"dish_config_json file contents: \\n{dish_config_json}\")"
   ]
  },
  {
   "cell_type": "code",
   "execution_count": 23,
   "metadata": {},
   "outputs": [
    {
     "name": "stdout",
     "output_type": "stream",
     "text": [
      "DishVCC has been set!\n"
     ]
    }
   ],
   "source": [
    "tmc_central_node.LoadDishCfg(json.dumps(dish_config_json))\n",
    "# Wait for dishvcc to be loaded...\n",
    "wait_seconds = 0\n",
    "while not tmc_central_node.isDishVccConfigSet:\n",
    "    clear_output(wait=True)\n",
    "    print(f\"Waiting for DishVCC to be set, {wait_seconds} seconds elapsed...\")\n",
    "    sleep(2)\n",
    "    wait_seconds += 2\n",
    "\n",
    "clear_output(wait=True)\n",
    "print(\"DishVCC has been set!\")"
   ]
  },
  {
   "cell_type": "code",
   "execution_count": 28,
   "metadata": {},
   "outputs": [
    {
     "name": "stdout",
     "output_type": "stream",
     "text": [
      "True\n"
     ]
    }
   ],
   "source": [
    "print(tmc_central_node.isDishVccConfigSet)"
   ]
  },
  {
   "cell_type": "code",
   "execution_count": 27,
   "metadata": {},
   "outputs": [
    {
     "name": "stdout",
     "output_type": "stream",
     "text": [
      "TMC CSP Master's Dish Vcc Config attribute value: \n",
      "{\"interface\": \"https://schema.skao.int/ska-mid-cbf-initsysparam/1.0\", \"dish_parameters\": {\"SKA001\": {\"vcc\": 1, \"k\": 1}, \"SKA036\": {\"vcc\": 2, \"k\": 1}, \"SKA063\": {\"vcc\": 3, \"k\": 1}, \"SKA100\": {\"vcc\": 4, \"k\": 1}}}\n",
      "\n",
      "TMC CSP Master's Source Dish Vcc Config attribute value: \n",
      "{\"interface\": \"https://schema.skao.int/ska-mid-cbf-initsysparam/1.0\", \"tm_data_sources\": [\"car://gitlab.com/ska-telescope/ska-telmodel-data?0.1.0-rc-mid-itf#tmdata\"], \"tm_data_filepath\": \"instrument/ska1_mid_itf/ska-mid-cbf-system-parameters.json\"}\n"
     ]
    }
   ],
   "source": [
    "print(f\"TMC CSP Master's Dish Vcc Config attribute value: \\n{leaf_node_master.dishVccConfig}\")\n",
    "print(\n",
    "    f\"\\nTMC CSP Master's Source Dish Vcc Config attribute value: \\n{leaf_node_master.sourceDishVccConfig}\"\n",
    ")"
   ]
  },
  {
   "cell_type": "markdown",
   "metadata": {},
   "source": [
    "<style>\n",
    "    .alert {\n",
    "        background-color: #1a1d21;\n",
    "        border-style: dotted;\n",
    "        border-color: #f0493e;\n",
    "        color: #d1d2d3;\n",
    "    }\n",
    "</style>\n",
    "<div class=\"alert\">\n",
    "    <h3>(BITE STEP) Load In BITE Config Data</h3>\n",
    "    Now, if required, the BITE configuration data can be loaded in using the BITE notebook.\n",
    "</div>\n",
    "</body>"
   ]
  },
  {
   "cell_type": "markdown",
   "metadata": {},
   "source": [
    "Set up the objects for controlling the telescope and subarray via OSO:"
   ]
  },
  {
   "cell_type": "code",
   "execution_count": 29,
   "metadata": {},
   "outputs": [],
   "source": [
    "sub = SubArray(subarray_id)\n",
    "tel = Telescope()"
   ]
  },
  {
   "cell_type": "markdown",
   "metadata": {},
   "source": [
    "Now, while monitoring the Taranta dashboard, send the ON command to the telescope and monitor that the LURs Controller and subarrays come on (occasionally the ON command may not finish when everything has started):"
   ]
  },
  {
   "cell_type": "code",
   "execution_count": 30,
   "metadata": {},
   "outputs": [
    {
     "name": "stdout",
     "output_type": "stream",
     "text": [
      "1|2025-02-07T17:38:17.848Z|INFO|MainThread|_call_and_wait_for_transition|common.py#138||Using pub/sub to track telescopeState of ska_mid/tm_central/central_node\n",
      "1|2025-02-07T17:38:17.876Z|INFO|MainThread|execute|tango_executor.py#242||Executing command: <Command('ska_mid/tm_central/central_node', 'TelescopeOn', )>\n",
      "1|2025-02-07T17:38:17.884Z|INFO|MainThread|wait_for_transition|common.py#329||Waiting for telescopeState to transition to ON\n",
      "1|2025-02-07T17:38:17.884Z|INFO|MainThread|read_event|tango_executor.py#185||Reading event from the queue with timeout None\n",
      "1|2025-02-07T17:38:18.003Z|INFO|MainThread|read_event|tango_executor.py#185||Reading event from the queue with timeout None\n",
      "1|2025-02-07T17:38:20.803Z|INFO|MainThread|wait_for_transition|common.py#345||telescopeState reached target state ON\n"
     ]
    }
   ],
   "source": [
    "tel.on()"
   ]
  },
  {
   "cell_type": "markdown",
   "metadata": {},
   "source": [
    "<style>\n",
    "    .alert {\n",
    "        background-color: #1a1d21;\n",
    "        border-style: dotted;\n",
    "        border-color: #f0493e;\n",
    "        color: #d1d2d3;\n",
    "    }\n",
    "</style>\n",
    "<div class=\"alert\">\n",
    "    <h3>(BITE STEP) Generate BITE Data</h3>\n",
    "    With the telescope on, section 3 of the BITE notebook can be run, to generate the BITE data that will be used during the LSTV replay.\n",
    "</div>\n",
    "</body>"
   ]
  },
  {
   "cell_type": "code",
   "execution_count": 31,
   "metadata": {},
   "outputs": [
    {
     "name": "stdout",
     "output_type": "stream",
     "text": [
      "CSP controller state: ON\n"
     ]
    }
   ],
   "source": [
    "print(f\"CSP controller state: {csp_controller.State()}\")"
   ]
  },
  {
   "cell_type": "markdown",
   "metadata": {},
   "source": [
    "### 2.1 Define Scheduling Block"
   ]
  },
  {
   "cell_type": "markdown",
   "metadata": {},
   "source": [
    "Temporary work around for ingress issues:"
   ]
  },
  {
   "cell_type": "code",
   "execution_count": 32,
   "metadata": {},
   "outputs": [
    {
     "name": "stdout",
     "output_type": "stream",
     "text": [
      "SKUID service set to:  10.10.212.200:9870\n"
     ]
    }
   ],
   "source": [
    "os.environ[\"SKUID_URL\"] = SKUID_POD\n",
    "print(\"SKUID service set to: \", os.environ[\"SKUID_URL\"])"
   ]
  },
  {
   "cell_type": "markdown",
   "metadata": {},
   "source": [
    "Now, use the SKUID service to generate processing and execution block IDs from the scheduling block definition."
   ]
  },
  {
   "cell_type": "code",
   "execution_count": 33,
   "metadata": {},
   "outputs": [],
   "source": [
    "sb = load_sbd(SB_FILE)"
   ]
  },
  {
   "cell_type": "code",
   "execution_count": 34,
   "metadata": {},
   "outputs": [],
   "source": [
    "# Configure sb items for current board:\n",
    "sb.dish_allocations.dish_ids = receptor_ids\n",
    "# for now run with 1 fsp\n",
    "sb.csp_configurations[0].midcbf.subbands[0].correlation_spws[0].receptors = receptor_ids"
   ]
  },
  {
   "cell_type": "code",
   "execution_count": 35,
   "metadata": {},
   "outputs": [
    {
     "name": "stdout",
     "output_type": "stream",
     "text": [
      "1|2025-02-07T17:41:48.861Z|INFO|MainThread|create_sbi|sb.py#28||New SBI ID mapping: sbi-mvp01-20200325-00001 -> sbi-t0001-20250207-00003\n"
     ]
    }
   ],
   "source": [
    "sbi = create_sbi(sb)"
   ]
  },
  {
   "cell_type": "code",
   "execution_count": 36,
   "metadata": {},
   "outputs": [
    {
     "name": "stdout",
     "output_type": "stream",
     "text": [
      "interface='https://schema.skao.int/ska-oso-pdm-sbd/0.1' sbd_id='sbi-mvp01-20200325-00001' name=None description=None telescope=TelescopeType.SKA_MID metadata=Metadata(version=1, created_by='Alex Schell', created_on=datetime.datetime(2025, 2, 5, 15, 43, 53, 971548, tzinfo=TzInfo(UTC)), last_modified_by='Alex Schell', last_modified_on=datetime.datetime(2025, 2, 5, 15, 43, 53, 971548, tzinfo=TzInfo(UTC)), pdm_version='17.0.1') prj_ref=None activities={'observe': GitScript(function_args={'init': PythonArguments(args=[], kwargs={'subarray_id': 1}), 'main': PythonArguments(args=[], kwargs={})}, kind=ScriptKind.GIT, repo='https://gitlab.com/ska-telescope/oso/ska-oso-scripting', path='git://scripts/test_example_mid_script.py', branch='master', commit=None)} targets=[Target(target_id='Hercules A', name='', pointing_pattern=PointingPattern(active=PointingKind.FIVE_POINT, parameters=[FivePointParameters(kind=PointingKind.FIVE_POINT, offset_arcsec=5.0)]), reference_coordinate=EquatorialCoordinates(ra=252.78328611990997, dec=4.99320753652, unit=('deg', 'deg'), frame=EquatorialCoordinatesReferenceFrame.ICRS), radial_velocity=RadialVelocity(quantity=<Quantity 46437.852 km / s>, definition=RadialVelocityDefinition.OPTICAL, reference_frame=RadialVelocityReferenceFrame.LSRK, redshift=0.1549), tied_array_beams=TiedArrayBeams(pst_beams=[], pss_beams=[], vlbi_beams=[]))] scan_definitions=[ScanDefinition(scan_definition_id='calibrator scan', scan_duration_ms=datetime.timedelta(seconds=180), target_ref='M83', mccs_allocation_ref=None, dish_allocation_ref=None, scan_type_ref='pointing', csp_configuration_ref='csp config 123', scan_intent=None, pointing_correction=PointingCorrection.MAINTAIN), ScanDefinition(scan_definition_id='science scan', scan_duration_ms=datetime.timedelta(seconds=180), target_ref='Polaris Australis', mccs_allocation_ref=None, dish_allocation_ref=None, scan_type_ref='science', csp_configuration_ref='csp config 123', scan_intent=None, pointing_correction=PointingCorrection.MAINTAIN)] scan_sequence=['calibrator scan', 'science scan', 'science scan', 'calibrator scan'] sdp_configuration=None csp_configurations=[CSPConfiguration(config_id='csp config 123', name='', subarray=None, common=CommonConfiguration(subarray_id=None, band_5_tuning=[]), cbf=None, midcbf=MidCBFConfiguration(frequency_band=<ReceiverBand.BAND_2: '2'>, subbands=[Subband(band_5_tuning=None, frequency_slice_offset=<Quantity 1.23 MHz>, correlation_spws=[CorrelationSPWConfiguration(spw_id=2, logical_fsp_ids=[1], receptors=['SKA100'], zoom_factor=0, centre_frequency=450007040.0, number_of_channels=14880, channel_averaging_factor=<ChannelAveragingFactor.ONE: 1>, time_integration_factor=1)])]), lowcbf=None, pst=None, pss=None)] dish_allocations=DishAllocation(dish_allocation_id='dish-allocation-74519', selected_subarray_definition=None, dish_ids=frozenset({'SKA100'})) mccs_allocation=None\n",
      "interface='https://schema.skao.int/ska-oso-pdm-sbd/0.1' sbd_id='sbi-t0001-20250207-00003' name=None description=None telescope=TelescopeType.SKA_MID metadata=Metadata(version=1, created_by='Alex Schell', created_on=datetime.datetime(2025, 2, 5, 15, 43, 53, 971548, tzinfo=TzInfo(UTC)), last_modified_by='Alex Schell', last_modified_on=datetime.datetime(2025, 2, 5, 15, 43, 53, 971548, tzinfo=TzInfo(UTC)), pdm_version='17.0.1') prj_ref=None activities={'observe': GitScript(function_args={'init': PythonArguments(args=[], kwargs={'subarray_id': 1}), 'main': PythonArguments(args=[], kwargs={})}, kind=ScriptKind.GIT, repo='https://gitlab.com/ska-telescope/oso/ska-oso-scripting', path='git://scripts/test_example_mid_script.py', branch='master', commit=None)} targets=[Target(target_id='Hercules A', name='', pointing_pattern=PointingPattern(active=PointingKind.FIVE_POINT, parameters=[FivePointParameters(kind=PointingKind.FIVE_POINT, offset_arcsec=5.0)]), reference_coordinate=EquatorialCoordinates(ra=252.78328611990997, dec=4.99320753652, unit=('deg', 'deg'), frame=EquatorialCoordinatesReferenceFrame.ICRS), radial_velocity=RadialVelocity(quantity=<Quantity 46437.852 km / s>, definition=RadialVelocityDefinition.OPTICAL, reference_frame=RadialVelocityReferenceFrame.LSRK, redshift=0.1549), tied_array_beams=TiedArrayBeams(pst_beams=[], pss_beams=[], vlbi_beams=[]))] scan_definitions=[ScanDefinition(scan_definition_id='calibrator scan', scan_duration_ms=datetime.timedelta(seconds=180), target_ref='M83', mccs_allocation_ref=None, dish_allocation_ref=None, scan_type_ref='pointing', csp_configuration_ref='csp config 123', scan_intent=None, pointing_correction=PointingCorrection.MAINTAIN), ScanDefinition(scan_definition_id='science scan', scan_duration_ms=datetime.timedelta(seconds=180), target_ref='Polaris Australis', mccs_allocation_ref=None, dish_allocation_ref=None, scan_type_ref='science', csp_configuration_ref='csp config 123', scan_intent=None, pointing_correction=PointingCorrection.MAINTAIN)] scan_sequence=['calibrator scan', 'science scan', 'science scan', 'calibrator scan'] sdp_configuration=None csp_configurations=[CSPConfiguration(config_id='csp config 123', name='', subarray=None, common=CommonConfiguration(subarray_id=None, band_5_tuning=[]), cbf=None, midcbf=MidCBFConfiguration(frequency_band=<ReceiverBand.BAND_2: '2'>, subbands=[Subband(band_5_tuning=None, frequency_slice_offset=<Quantity 1.23 MHz>, correlation_spws=[CorrelationSPWConfiguration(spw_id=2, logical_fsp_ids=[1], receptors=['SKA100'], zoom_factor=0, centre_frequency=450007040.0, number_of_channels=14880, channel_averaging_factor=<ChannelAveragingFactor.ONE: 1>, time_integration_factor=1)])]), lowcbf=None, pst=None, pss=None)] dish_allocations=DishAllocation(dish_allocation_id='dish-allocation-74519', selected_subarray_definition=None, dish_ids=frozenset({'SKA100'})) mccs_allocation=None\n"
     ]
    }
   ],
   "source": [
    "print(sb)\n",
    "print(sbi)"
   ]
  },
  {
   "cell_type": "markdown",
   "metadata": {},
   "source": [
    "Using this, create the JSON for the scheduling block, subbing in the Kafka location, and validating it."
   ]
  },
  {
   "cell_type": "code",
   "execution_count": 38,
   "metadata": {},
   "outputs": [],
   "source": [
    "sb_json = SBDefinition.model_dump_json(sbi)\n",
    "# sb_json = sb_json.replace(\"<KAFKA_HOST>\", KAFKA_POD)"
   ]
  },
  {
   "cell_type": "code",
   "execution_count": 37,
   "metadata": {},
   "outputs": [],
   "source": [
    "sbi = SBDefinition.model_validate_json(sb_json)"
   ]
  },
  {
   "cell_type": "code",
   "execution_count": 39,
   "metadata": {},
   "outputs": [
    {
     "name": "stdout",
     "output_type": "stream",
     "text": [
      "{\n",
      "  \"interface\": \"https://schema.skao.int/ska-oso-pdm-sbd/0.1\",\n",
      "  \"sbd_id\": \"sbi-t0001-20250207-00003\",\n",
      "  \"telescope\": \"ska_mid\",\n",
      "  \"metadata\": {\n",
      "    \"version\": 1,\n",
      "    \"created_by\": \"Alex Schell\",\n",
      "    \"created_on\": \"2025-02-05T15:43:53.971548Z\",\n",
      "    \"last_modified_by\": \"Alex Schell\",\n",
      "    \"last_modified_on\": \"2025-02-05T15:43:53.971548Z\",\n",
      "    \"pdm_version\": \"17.0.1\"\n",
      "  },\n",
      "  \"activities\": {\n",
      "    \"observe\": {\n",
      "      \"function_args\": {\n",
      "        \"init\": {\n",
      "          \"kwargs\": {\n",
      "            \"subarray_id\": 1\n",
      "          }\n",
      "        },\n",
      "        \"main\": {}\n",
      "      },\n",
      "      \"kind\": \"git\",\n",
      "      \"repo\": \"https://gitlab.com/ska-telescope/oso/ska-oso-scripting\",\n",
      "      \"path\": \"git://scripts/test_example_mid_script.py\",\n",
      "      \"branch\": \"master\"\n",
      "    }\n",
      "  },\n",
      "  \"targets\": [\n",
      "    {\n",
      "      \"target_id\": \"Hercules A\",\n",
      "      \"name\": \"\",\n",
      "      \"pointing_pattern\": {\n",
      "        \"active\": \"FivePointParameters\",\n",
      "        \"parameters\": [\n",
      "          {\n",
      "            \"kind\": \"FivePointParameters\",\n",
      "            \"offset_arcsec\": 5.0\n",
      "          }\n",
      "        ]\n",
      "      },\n",
      "      \"reference_coordinate\": {\n",
      "        \"kind\": \"equatorial\",\n",
      "        \"ra\": \"16 51 07.9886687784\",\n",
      "        \"dec\": \"+04 59 35.547131472\",\n",
      "        \"reference_frame\": \"icrs\",\n",
      "        \"unit\": [\n",
      "          \"hourangle\",\n",
      "          \"deg\"\n",
      "        ]\n",
      "      },\n",
      "      \"radial_velocity\": {\n",
      "        \"quantity\": {\n",
      "          \"value\": 46437.852,\n",
      "          \"unit\": \"km / s\"\n",
      "        },\n",
      "        \"definition\": \"OPTICAL\",\n",
      "        \"reference_frame\": \"LSRK\",\n",
      "        \"redshift\": 0.1549\n",
      "      }\n",
      "    }\n",
      "  ],\n",
      "  \"scan_definitions\": [\n",
      "    {\n",
      "      \"scan_definition_id\": \"calibrator scan\",\n",
      "      \"scan_duration_ms\": 180000.0,\n",
      "      \"target_ref\": \"M83\",\n",
      "      \"scan_type_ref\": \"pointing\",\n",
      "      \"csp_configuration_ref\": \"csp config 123\",\n",
      "      \"pointing_correction\": \"MAINTAIN\"\n",
      "    },\n",
      "    {\n",
      "      \"scan_definition_id\": \"science scan\",\n",
      "      \"scan_duration_ms\": 180000.0,\n",
      "      \"target_ref\": \"Polaris Australis\",\n",
      "      \"scan_type_ref\": \"science\",\n",
      "      \"csp_configuration_ref\": \"csp config 123\",\n",
      "      \"pointing_correction\": \"MAINTAIN\"\n",
      "    }\n",
      "  ],\n",
      "  \"scan_sequence\": [\n",
      "    \"calibrator scan\",\n",
      "    \"science scan\",\n",
      "    \"science scan\",\n",
      "    \"calibrator scan\"\n",
      "  ],\n",
      "  \"csp_configurations\": [\n",
      "    {\n",
      "      \"config_id\": \"csp config 123\",\n",
      "      \"name\": \"\",\n",
      "      \"common\": {},\n",
      "      \"midcbf\": {\n",
      "        \"frequency_band\": \"2\",\n",
      "        \"subbands\": [\n",
      "          {\n",
      "            \"frequency_slice_offset\": {\n",
      "              \"value\": 1.23,\n",
      "              \"unit\": \"MHz\"\n",
      "            },\n",
      "            \"correlation_spws\": [\n",
      "              {\n",
      "                \"spw_id\": 2,\n",
      "                \"logical_fsp_ids\": [\n",
      "                  1\n",
      "                ],\n",
      "                \"receptors\": [\n",
      "                  \"SKA100\"\n",
      "                ],\n",
      "                \"zoom_factor\": 0,\n",
      "                \"centre_frequency\": 450007040.0,\n",
      "                \"number_of_channels\": 14880,\n",
      "                \"channel_averaging_factor\": 1,\n",
      "                \"time_integration_factor\": 1\n",
      "              }\n",
      "            ]\n",
      "          }\n",
      "        ]\n",
      "      }\n",
      "    }\n",
      "  ],\n",
      "  \"dish_allocations\": {\n",
      "    \"dish_allocation_id\": \"dish-allocation-74519\",\n",
      "    \"dish_ids\": [\n",
      "      \"SKA100\"\n",
      "    ]\n",
      "  }\n",
      "}\n"
     ]
    }
   ],
   "source": [
    "print(json.dumps(json.JSONDecoder().decode(sb_json), indent=2))"
   ]
  },
  {
   "cell_type": "markdown",
   "metadata": {},
   "source": [
    "## 3 Running the Observation"
   ]
  },
  {
   "cell_type": "markdown",
   "metadata": {},
   "source": [
    "### 3.1 Assigning Resources"
   ]
  },
  {
   "cell_type": "markdown",
   "metadata": {},
   "source": [
    "Now, the resources can be assigned to the telescope, either via getting the resources from the scheduling block:"
   ]
  },
  {
   "cell_type": "code",
   "execution_count": null,
   "metadata": {},
   "outputs": [
    {
     "name": "stdout",
     "output_type": "stream",
     "text": [
      "1|2025-02-07T17:42:04.453Z|INFO|MainThread|create_mid_assign_resources_request|wrapper.py#85||Setting dish : frozenset({'SKA100'}) \n",
      "1|2025-02-07T17:42:04.455Z|INFO|MainThread|convert_target_to_fieldconfiguration|sdp_create.py#150||Setting target attribute -> target_id:Hercules A , reference_coordinate:<EquatorialCoordinates: (16h51m07.98866878s +04d59m35.54713147s ICRS)> \n",
      "1|2025-02-07T17:42:04.456Z|INFO|MainThread|convert_target_to_fieldconfiguration|sdp_create.py#167||Resulting SDP coordinate for targetid:Hercules A -> system:ICRF3 , ra:[252.78328611990997] , dec:[4.99320753652]\n",
      "1|2025-02-07T17:42:04.463Z|INFO|MainThread|create_mid_assign_resources_request|wrapper.py#94||Setting SDP configuration for EB: eb-t0001-20250207-00002 \n"
     ]
    }
   ],
   "source": [
    "assign_requests = pdm_transforms.create_cdm_assign_resources_request_from_scheduling_block(\n",
    "    sub.id, sbi\n",
    ")"
   ]
  },
  {
   "cell_type": "code",
   "execution_count": null,
   "metadata": {},
   "outputs": [
    {
     "ename": "KeyError",
     "evalue": "'extra_helm_values'",
     "output_type": "error",
     "traceback": [
      "\u001b[0;31m---------------------------------------------------------------------------\u001b[0m",
      "\u001b[0;31mKeyError\u001b[0m                                  Traceback (most recent call last)",
      "Cell \u001b[0;32mIn[57], line 3\u001b[0m\n\u001b[1;32m      1\u001b[0m assign_requests\u001b[38;5;241m.\u001b[39msdp_config\u001b[38;5;241m.\u001b[39mprocessing_blocks[\u001b[38;5;241m0\u001b[39m]\u001b[38;5;241m.\u001b[39mparameters[\u001b[38;5;124m\"\u001b[39m\u001b[38;5;124mtransport_protocol\u001b[39m\u001b[38;5;124m\"\u001b[39m] \u001b[38;5;241m=\u001b[39m \u001b[38;5;124m\"\u001b[39m\u001b[38;5;124mudp\u001b[39m\u001b[38;5;124m\"\u001b[39m\n\u001b[1;32m      2\u001b[0m assign_requests\u001b[38;5;241m.\u001b[39msdp_config\u001b[38;5;241m.\u001b[39mprocessing_blocks[\u001b[38;5;241m0\u001b[39m]\u001b[38;5;241m.\u001b[39mparameters[\u001b[38;5;124m\"\u001b[39m\u001b[38;5;124muse_network_definition\u001b[39m\u001b[38;5;124m\"\u001b[39m] \u001b[38;5;241m=\u001b[39m \u001b[38;5;28;01mTrue\u001b[39;00m\n\u001b[0;32m----> 3\u001b[0m \u001b[43massign_requests\u001b[49m\u001b[38;5;241;43m.\u001b[39;49m\u001b[43msdp_config\u001b[49m\u001b[38;5;241;43m.\u001b[39;49m\u001b[43mprocessing_blocks\u001b[49m\u001b[43m[\u001b[49m\u001b[38;5;241;43m0\u001b[39;49m\u001b[43m]\u001b[49m\u001b[38;5;241;43m.\u001b[39;49m\u001b[43mparameters\u001b[49m\u001b[43m[\u001b[49m\u001b[38;5;124;43m\"\u001b[39;49m\u001b[38;5;124;43mextra_helm_values\u001b[39;49m\u001b[38;5;124;43m\"\u001b[39;49m\u001b[43m]\u001b[49m[\u001b[38;5;124m\"\u001b[39m\u001b[38;5;124mreceiver\u001b[39m\u001b[38;5;124m\"\u001b[39m][\u001b[38;5;124m\"\u001b[39m\u001b[38;5;124moptions\u001b[39m\u001b[38;5;124m\"\u001b[39m][\u001b[38;5;124m\"\u001b[39m\u001b[38;5;124mreception\u001b[39m\u001b[38;5;124m\"\u001b[39m][\u001b[38;5;124m\"\u001b[39m\u001b[38;5;124mreset_time_indexing_after_each_scan\u001b[39m\u001b[38;5;124m\"\u001b[39m] \u001b[38;5;241m=\u001b[39m \u001b[38;5;28;01mTrue\u001b[39;00m\n",
      "\u001b[0;31mKeyError\u001b[0m: 'extra_helm_values'"
     ]
    }
   ],
   "source": [
    "assign_requests.sdp_config.processing_blocks[0].parameters[\"transport_protocol\"] = \"udp\"\n",
    "assign_requests.sdp_config.processing_blocks[0].parameters[\"use_network_definition\"] = True\n",
    "assign_requests.sdp_config.processing_blocks[0].parameters[\"dry_run\"].remove\n",
    "assign_requests.sdp_config.processing_blocks[0].parameters[\"extra_helm_values\"][\"receiver\"][\n",
    "    \"options\"\n",
    "][\"reception\"][\"reset_time_indexing_after_each_scan\"] = True"
   ]
  },
  {
   "cell_type": "code",
   "execution_count": 55,
   "metadata": {},
   "outputs": [
    {
     "name": "stdout",
     "output_type": "stream",
     "text": [
      "{\n",
      "  \"subarray_id\": 1,\n",
      "  \"dish\": {\n",
      "    \"receptor_ids\": [\n",
      "      \"SKA100\"\n",
      "    ]\n",
      "  },\n",
      "  \"sdp_config\": {\n",
      "    \"interface\": \"https://schema.skao.int/ska-sdp-assignres/0.4\",\n",
      "    \"execution_block\": {\n",
      "      \"eb_id\": \"eb-t0001-20250207-00002\",\n",
      "      \"max_length\": 1000.0,\n",
      "      \"context\": {},\n",
      "      \"beams\": [\n",
      "        {\n",
      "          \"beam_id\": \"vis0\",\n",
      "          \"function\": \"visibilities\"\n",
      "        }\n",
      "      ],\n",
      "      \"channels\": [\n",
      "        {\n",
      "          \"channels_id\": \"vis_channels\",\n",
      "          \"spectral_windows\": [\n",
      "            {\n",
      "              \"count\": 14880,\n",
      "              \"start\": 0,\n",
      "              \"stride\": 1,\n",
      "              \"freq_min\": 350013440.0,\n",
      "              \"freq_max\": 550000640.0,\n",
      "              \"spectral_window_id\": \"vis_spw_1\"\n",
      "            }\n",
      "          ]\n",
      "        }\n",
      "      ],\n",
      "      \"polarisations\": [\n",
      "        {\n",
      "          \"polarisations_id\": \"all\",\n",
      "          \"corr_type\": [\n",
      "            \"XX\",\n",
      "            \"XY\",\n",
      "            \"YX\",\n",
      "            \"YY\"\n",
      "          ]\n",
      "        }\n",
      "      ],\n",
      "      \"fields\": [\n",
      "        {\n",
      "          \"field_id\": \"Hercules A\",\n",
      "          \"phase_dir\": {\n",
      "            \"ra\": [\n",
      "              252.78328611990997\n",
      "            ],\n",
      "            \"dec\": [\n",
      "              4.99320753652\n",
      "            ],\n",
      "            \"reference_time\": \"2025-02-07T17:42:04.455537+00:00\",\n",
      "            \"reference_frame\": \"ICRF3\"\n",
      "          }\n",
      "        }\n",
      "      ],\n",
      "      \"scan_types\": [\n",
      "        {\n",
      "          \"scan_type_id\": \"calibrator scan\",\n",
      "          \"beams\": {\n",
      "            \"vis0\": {\n",
      "              \"field_id\": \"M83\",\n",
      "              \"channels_id\": \"vis_channels\",\n",
      "              \"polarisations_id\": \"all\"\n",
      "            }\n",
      "          }\n",
      "        },\n",
      "        {\n",
      "          \"scan_type_id\": \"science scan\",\n",
      "          \"beams\": {\n",
      "            \"vis0\": {\n",
      "              \"field_id\": \"Polaris Australis\",\n",
      "              \"channels_id\": \"vis_channels\",\n",
      "              \"polarisations_id\": \"all\"\n",
      "            }\n",
      "          }\n",
      "        }\n",
      "      ]\n",
      "    },\n",
      "    \"resources\": {\n",
      "      \"receptors\": [\n",
      "        \"SKA100\"\n",
      "      ]\n",
      "    },\n",
      "    \"processing_blocks\": [\n",
      "      {\n",
      "        \"pb_id\": \"pb-t0001-20250207-00004\",\n",
      "        \"parameters\": {\n",
      "          \"channels_per_port\": 20,\n",
      "          \"dry_run\": \"true\",\n",
      "          \"pod_settings\": [\n",
      "            {\n",
      "              \"networkMapping\": {\n",
      "                \"ip\": \"1.2.3.4/0\"\n",
      "              }\n",
      "            }\n",
      "          ]\n",
      "        },\n",
      "        \"dependencies\": [\n",
      "          {\n",
      "            \"pb_id\": \"pb-t0001-20250207-00005\",\n",
      "            \"kind\": [\n",
      "              \"pointing-offset\"\n",
      "            ]\n",
      "          }\n",
      "        ],\n",
      "        \"sbi_ids\": [],\n",
      "        \"script\": {\n",
      "          \"kind\": \"realtime\",\n",
      "          \"name\": \"vis-receive\",\n",
      "          \"version\": \"4.5.0\"\n",
      "        }\n",
      "      },\n",
      "      {\n",
      "        \"pb_id\": \"pb-t0001-20250207-00005\",\n",
      "        \"parameters\": {\n",
      "          \"num_scans\": 5\n",
      "        },\n",
      "        \"dependencies\": [\n",
      "          {\n",
      "            \"pb_id\": \"pb-t0001-20250207-00004\",\n",
      "            \"kind\": [\n",
      "              \"vis-receive\"\n",
      "            ]\n",
      "          }\n",
      "        ],\n",
      "        \"sbi_ids\": [],\n",
      "        \"script\": {\n",
      "          \"kind\": \"realtime\",\n",
      "          \"name\": \"pointing-offset\",\n",
      "          \"version\": \"0.8.0\"\n",
      "        }\n",
      "      }\n",
      "    ]\n",
      "  },\n",
      "  \"interface\": \"https://schema.skao.int/ska-tmc-assignresources/2.1\"\n",
      "}\n"
     ]
    }
   ],
   "source": [
    "print(json.dumps(json.JSONDecoder().decode(assign_requests.model_dump_json()), indent=2))"
   ]
  },
  {
   "cell_type": "code",
   "execution_count": null,
   "metadata": {},
   "outputs": [],
   "source": [
    "stripped_assign_requests = assign_requests\n",
    "stripped_assign_requests.interface = \"\"\n",
    "stripped_assign_requests.dish.receptor_ids = receptor_ids\n",
    "print(stripped_assign_requests)"
   ]
  },
  {
   "cell_type": "markdown",
   "metadata": {},
   "source": [
    "Now assign the resources to the subarray."
   ]
  },
  {
   "cell_type": "code",
   "execution_count": 42,
   "metadata": {},
   "outputs": [
    {
     "name": "stdout",
     "output_type": "stream",
     "text": [
      "1|2025-02-07T17:42:19.617Z|INFO|MainThread|_call_and_wait_for_transition|common.py#138||Using pub/sub to track obsState of ska_mid/tm_subarray_node/1\n",
      "1|2025-02-07T17:42:19.628Z|INFO|MainThread|_get_id_from_params_or_generate_new_id|transactions.py#172||Generated transaction ID txn-t0001-20250207-000000006\n",
      "1|2025-02-07T17:42:19.629Z|INFO|MainThread|log_entry|transactions.py#132||Transaction[txn-t0001-20250207-000000006]: Enter[AssignResources] with parameters [{}] marker[01479]\n",
      "1|2025-02-07T17:42:19.629Z|INFO|MainThread|_call_and_wait_for_transition|common.py#169||Added transaction_id to command: <Command('ska_mid/tm_central/central_node', 'AssignResources', '{\"subarray_id\": 1, \"dish\": {\"receptor_ids\": [\"SKA100\"]}, \"sdp\": {\"interface\": \"https://schema.skao.int/ska-sdp-assignres/0.4\", \"execution_block\": {\"eb_id\": \"eb-t0001-20250207-00002\", \"max_length\": 1000.0, \"context\": {}, \"beams\": [{\"beam_id\": \"vis0\", \"function\": \"visibilities\"}], \"channels\": [{\"channels_id\": \"vis_channels\", \"spectral_windows\": [{\"count\": 14880, \"start\": 0, \"stride\": 1, \"freq_min\": 350013440.0, \"freq_max\": 550000640.0, \"spectral_window_id\": \"vis_spw_1\"}]}], \"polarisations\": [{\"polarisations_id\": \"all\", \"corr_type\": [\"XX\", \"XY\", \"YX\", \"YY\"]}], \"fields\": [{\"field_id\": \"Hercules A\", \"phase_dir\": {\"ra\": [252.78328611990997], \"dec\": [4.99320753652], \"reference_time\": \"2025-02-07T17:42:04.455537+00:00\", \"reference_frame\": \"ICRF3\"}}], \"scan_types\": [{\"scan_type_id\": \"calibrator scan\", \"beams\": {\"vis0\": {\"field_id\": \"M83\", \"channels_id\": \"vis_channels\", \"polarisations_id\": \"all\"}}}, {\"scan_type_id\": \"science scan\", \"beams\": {\"vis0\": {\"field_id\": \"Polaris Australis\", \"channels_id\": \"vis_channels\", \"polarisations_id\": \"all\"}}}]}, \"resources\": {\"receptors\": [\"SKA100\"]}, \"processing_blocks\": [{\"pb_id\": \"pb-t0001-20250207-00004\", \"parameters\": {\"channels_per_port\": 20, \"dry_run\": \"true\", \"pod_settings\": [{\"networkMapping\": {\"ip\": \"1.2.3.4/0\"}}]}, \"dependencies\": [{\"pb_id\": \"pb-t0001-20250207-00005\", \"kind\": [\"pointing-offset\"]}], \"sbi_ids\": [], \"script\": {\"kind\": \"realtime\", \"name\": \"vis-receive\", \"version\": \"4.5.0\"}}, {\"pb_id\": \"pb-t0001-20250207-00005\", \"parameters\": {\"num_scans\": 5}, \"dependencies\": [{\"pb_id\": \"pb-t0001-20250207-00004\", \"kind\": [\"vis-receive\"]}], \"sbi_ids\": [], \"script\": {\"kind\": \"realtime\", \"name\": \"pointing-offset\", \"version\": \"0.8.0\"}}]}, \"interface\": \"https://schema.skao.int/ska-tmc-assignresources/2.1\", \"transaction_id\": \"txn-t0001-20250207-000000006\"}')>\n",
      "1|2025-02-07T17:42:19.630Z|INFO|MainThread|execute|tango_executor.py#242||Executing command: <Command('ska_mid/tm_central/central_node', 'AssignResources', '{\"subarray_id\": 1, \"dish\": {\"receptor_ids\": [\"SKA100\"]}, \"sdp\": {\"interface\": \"https://schema.skao.int/ska-sdp-assignres/0.4\", \"execution_block\": {\"eb_id\": \"eb-t0001-20250207-00002\", \"max_length\": 1000.0, \"context\": {}, \"beams\": [{\"beam_id\": \"vis0\", \"function\": \"visibilities\"}], \"channels\": [{\"channels_id\": \"vis_channels\", \"spectral_windows\": [{\"count\": 14880, \"start\": 0, \"stride\": 1, \"freq_min\": 350013440.0, \"freq_max\": 550000640.0, \"spectral_window_id\": \"vis_spw_1\"}]}], \"polarisations\": [{\"polarisations_id\": \"all\", \"corr_type\": [\"XX\", \"XY\", \"YX\", \"YY\"]}], \"fields\": [{\"field_id\": \"Hercules A\", \"phase_dir\": {\"ra\": [252.78328611990997], \"dec\": [4.99320753652], \"reference_time\": \"2025-02-07T17:42:04.455537+00:00\", \"reference_frame\": \"ICRF3\"}}], \"scan_types\": [{\"scan_type_id\": \"calibrator scan\", \"beams\": {\"vis0\": {\"field_id\": \"M83\", \"channels_id\": \"vis_channels\", \"polarisations_id\": \"all\"}}}, {\"scan_type_id\": \"science scan\", \"beams\": {\"vis0\": {\"field_id\": \"Polaris Australis\", \"channels_id\": \"vis_channels\", \"polarisations_id\": \"all\"}}}]}, \"resources\": {\"receptors\": [\"SKA100\"]}, \"processing_blocks\": [{\"pb_id\": \"pb-t0001-20250207-00004\", \"parameters\": {\"channels_per_port\": 20, \"dry_run\": \"true\", \"pod_settings\": [{\"networkMapping\": {\"ip\": \"1.2.3.4/0\"}}]}, \"dependencies\": [{\"pb_id\": \"pb-t0001-20250207-00005\", \"kind\": [\"pointing-offset\"]}], \"sbi_ids\": [], \"script\": {\"kind\": \"realtime\", \"name\": \"vis-receive\", \"version\": \"4.5.0\"}}, {\"pb_id\": \"pb-t0001-20250207-00005\", \"parameters\": {\"num_scans\": 5}, \"dependencies\": [{\"pb_id\": \"pb-t0001-20250207-00004\", \"kind\": [\"vis-receive\"]}], \"sbi_ids\": [], \"script\": {\"kind\": \"realtime\", \"name\": \"pointing-offset\", \"version\": \"0.8.0\"}}]}, \"interface\": \"https://schema.skao.int/ska-tmc-assignresources/2.1\", \"transaction_id\": \"txn-t0001-20250207-000000006\"}')>\n",
      "1|2025-02-07T17:42:19.660Z|INFO|MainThread|wait_for_transition|common.py#329||Waiting for obsState to transition to ObsState.RESOURCING\n",
      "1|2025-02-07T17:42:19.660Z|INFO|MainThread|read_event|tango_executor.py#185||Reading event from the queue with timeout 1000\n",
      "1|2025-02-07T17:42:19.776Z|INFO|MainThread|wait_for_transition|common.py#345||obsState reached target state ObsState.RESOURCING\n",
      "1|2025-02-07T17:42:19.777Z|INFO|MainThread|wait_for_transition|common.py#329||Waiting for obsState to transition to ObsState.IDLE\n",
      "1|2025-02-07T17:42:19.777Z|INFO|MainThread|read_event|tango_executor.py#185||Reading event from the queue with timeout 1000\n",
      "1|2025-02-07T17:42:47.277Z|INFO|MainThread|wait_for_transition|common.py#345||obsState reached target state ObsState.IDLE\n",
      "1|2025-02-07T17:42:47.277Z|INFO|MainThread|log_exit|transactions.py#150||Transaction[txn-t0001-20250207-000000006]: Exit[AssignResources] marker[01479]\n"
     ]
    }
   ],
   "source": [
    "sub.assign_from_cdm(assign_requests, timeout=1000)"
   ]
  },
  {
   "cell_type": "markdown",
   "metadata": {},
   "source": [
    "Check that the visibility pod spins up correctly, with the signal displays."
   ]
  },
  {
   "cell_type": "code",
   "execution_count": 45,
   "metadata": {},
   "outputs": [
    {
     "name": "stdout",
     "output_type": "stream",
     "text": [
      "NAME                                                          READY   STATUS    RESTARTS   AGE\n",
      "proc-pb-t0001-20250207-00004-script-r5x79                     1/1     Running   0          4m15s\n",
      "proc-pb-t0001-20250207-00005-pointing-offset-87998687-ndt6w   1/1     Running   0          3m48s\n",
      "proc-pb-t0001-20250207-00005-script-tx7gc                     1/1     Running   0          4m14s\n"
     ]
    }
   ],
   "source": [
    "!kubectl -n $namespace-sdp get pods | grep vis-receive"
   ]
  },
  {
   "cell_type": "markdown",
   "metadata": {},
   "source": [
    "<style>\n",
    "    .alert {\n",
    "        background-color: #1a1d21;\n",
    "        border-style: dotted;\n",
    "        border-color: #f0493e;\n",
    "        color: #d1d2d3;\n",
    "    }\n",
    "</style>\n",
    "<div class=\"alert\">\n",
    "    <h3>(BITE STEP) Starting LSTV Replay</h3>\n",
    "    If using BITE for data stream generation, the additional BITE notebook can be run at this point.\n",
    "</div>\n",
    "</body>"
   ]
  },
  {
   "cell_type": "markdown",
   "metadata": {},
   "source": [
    "### 3.3 Run the Scan(s)"
   ]
  },
  {
   "cell_type": "markdown",
   "metadata": {},
   "source": [
    "To start running the scans (or just one) first create the configuration request from the scheduling block:"
   ]
  },
  {
   "cell_type": "code",
   "execution_count": 46,
   "metadata": {},
   "outputs": [
    {
     "ename": "KeyError",
     "evalue": "'M83'",
     "output_type": "error",
     "traceback": [
      "\u001b[0;31m---------------------------------------------------------------------------\u001b[0m",
      "\u001b[0;31mKeyError\u001b[0m                                  Traceback (most recent call last)",
      "Cell \u001b[0;32mIn[46], line 1\u001b[0m\n\u001b[0;32m----> 1\u001b[0m scan_def_to_config_req_mapping \u001b[38;5;241m=\u001b[39m \u001b[43mpdm_transforms\u001b[49m\u001b[38;5;241;43m.\u001b[39;49m\u001b[43mcreate_cdm_configure_request_from_scheduling_block\u001b[49m\u001b[43m(\u001b[49m\n\u001b[1;32m      2\u001b[0m \u001b[43m    \u001b[49m\u001b[43msbi\u001b[49m\n\u001b[1;32m      3\u001b[0m \u001b[43m)\u001b[49m\n",
      "File \u001b[0;32m~/envs/notebook_env/lib/python3.10/site-packages/ska_oso_scripting/functions/pdm_transforms/wrapper.py:148\u001b[0m, in \u001b[0;36mcreate_cdm_configure_request_from_scheduling_block\u001b[0;34m(scheduling_block)\u001b[0m\n\u001b[1;32m    145\u001b[0m \u001b[38;5;28;01mfor\u001b[39;00m scan_definition_id \u001b[38;5;129;01min\u001b[39;00m data[\u001b[38;5;124m\"\u001b[39m\u001b[38;5;124mscan_definitions\u001b[39m\u001b[38;5;124m\"\u001b[39m]:\n\u001b[1;32m    146\u001b[0m     \u001b[38;5;66;03m# The target is referenced by ID in the scan definition\u001b[39;00m\n\u001b[1;32m    147\u001b[0m     scan_definition \u001b[38;5;241m=\u001b[39m data[\u001b[38;5;124m\"\u001b[39m\u001b[38;5;124mscan_definitions\u001b[39m\u001b[38;5;124m\"\u001b[39m][scan_definition_id]\n\u001b[0;32m--> 148\u001b[0m     target \u001b[38;5;241m=\u001b[39m \u001b[43mdata\u001b[49m\u001b[43m[\u001b[49m\u001b[38;5;124;43m\"\u001b[39;49m\u001b[38;5;124;43mtargets\u001b[39;49m\u001b[38;5;124;43m\"\u001b[39;49m\u001b[43m]\u001b[49m\u001b[43m[\u001b[49m\u001b[43mscan_definition\u001b[49m\u001b[38;5;241;43m.\u001b[39;49m\u001b[43mtarget_ref\u001b[49m\u001b[43m]\u001b[49m\n\u001b[1;32m    149\u001b[0m     csp_configuration \u001b[38;5;241m=\u001b[39m data[\u001b[38;5;124m\"\u001b[39m\u001b[38;5;124mcsp_configurations\u001b[39m\u001b[38;5;124m\"\u001b[39m][\n\u001b[1;32m    150\u001b[0m         scan_definition\u001b[38;5;241m.\u001b[39mcsp_configuration_ref\n\u001b[1;32m    151\u001b[0m     ]\n\u001b[1;32m    153\u001b[0m     \u001b[38;5;66;03m# The initial CDM ConfigureRequest is identical to a SinglePoint request. As we currently only support\u001b[39;00m\n\u001b[1;32m    154\u001b[0m     \u001b[38;5;66;03m# SinglePoint or FivePoint Scans for now, this request is created outside the factory loop. As we extend\u001b[39;00m\n\u001b[1;32m    155\u001b[0m     \u001b[38;5;66;03m# support to include RasterScans etc., the following code will likely have to be embedded or a separate\u001b[39;00m\n\u001b[1;32m    156\u001b[0m     \u001b[38;5;66;03m# create_ function that deals with scans (rather than pointings) will be written.\u001b[39;00m\n",
      "\u001b[0;31mKeyError\u001b[0m: 'M83'"
     ]
    }
   ],
   "source": [
    "scan_def_to_config_req_mapping = pdm_transforms.create_cdm_configure_request_from_scheduling_block(\n",
    "    sbi\n",
    ")"
   ]
  },
  {
   "cell_type": "markdown",
   "metadata": {},
   "source": [
    "#### Running a Single Scan"
   ]
  },
  {
   "cell_type": "markdown",
   "metadata": {},
   "source": [
    "For a single scan, load in part of the scan configuration just for that run, and send the configure commands to the subarray. Once this is complete, run the scan command itself. Using the scheduling block sets how long the scan will run, so it will finish by itself."
   ]
  },
  {
   "cell_type": "code",
   "execution_count": null,
   "metadata": {},
   "outputs": [],
   "source": [
    "print(scan_def_to_config_req_mapping)\n",
    "config_req = scan_def_to_config_req_mapping[\"scan-definition-28007\"]\n",
    "print(config_req)\n",
    "sub.configure_from_cdm(config_req[0], timeout=500)\n",
    "sleep(5)\n",
    "sub.scan()"
   ]
  },
  {
   "cell_type": "markdown",
   "metadata": {},
   "source": [
    "#### Running Multiple Scans"
   ]
  },
  {
   "cell_type": "markdown",
   "metadata": {},
   "source": [
    "To run multiple scans, iterate over the scan sequence, and use the ids in it to define a request and then send it to the subarray."
   ]
  },
  {
   "cell_type": "code",
   "execution_count": null,
   "metadata": {},
   "outputs": [],
   "source": [
    "print(\"...\")\n",
    "print(scan_def_to_config_req_mapping)\n",
    "print(\"...\")\n",
    "for scan_def_id in sb.scan_sequence:\n",
    "    config_req = scan_def_to_config_req_mapping[scan_def_id]\n",
    "    print(config_req)\n",
    "    print(\"--------------\")\n",
    "    for request in config_req:\n",
    "        sub.configure_from_cdm(request, timeout=500)\n",
    "        sleep(2)\n",
    "        sub.scan()"
   ]
  },
  {
   "cell_type": "markdown",
   "metadata": {},
   "source": [
    "## 4 Cleanup"
   ]
  },
  {
   "cell_type": "markdown",
   "metadata": {},
   "source": [
    "<style>\n",
    "    .alert {\n",
    "        background-color: #1a1d21;\n",
    "        border-style: dotted;\n",
    "        border-color: #f0493e;\n",
    "        color: #d1d2d3;\n",
    "    }\n",
    "</style>\n",
    "<div class=\"alert\">\n",
    "    <h3>(BITE STEP) Stopping LSTV Replay</h3>\n",
    "    Now with the initial (or only) scan done, if using BITE, run step 5 in the BITE notebook to stop the LSTV Replay.\n",
    "</div>\n",
    "</body>"
   ]
  },
  {
   "cell_type": "markdown",
   "metadata": {},
   "source": [
    "Once the scans are done, clear out the configuration from the subarray by sending the END command, followed by releasing the resources it used:"
   ]
  },
  {
   "cell_type": "code",
   "execution_count": null,
   "metadata": {},
   "outputs": [],
   "source": [
    "sub.end()\n",
    "sleep(10)"
   ]
  },
  {
   "cell_type": "code",
   "execution_count": null,
   "metadata": {},
   "outputs": [],
   "source": [
    "sub.release()"
   ]
  },
  {
   "cell_type": "markdown",
   "metadata": {},
   "source": [
    "The telescope can now be turned off."
   ]
  },
  {
   "cell_type": "code",
   "execution_count": null,
   "metadata": {},
   "outputs": [],
   "source": [
    "tel.off()"
   ]
  }
 ],
 "metadata": {
  "kernelspec": {
   "display_name": "notebook_env",
   "language": "python",
   "name": "python3"
  },
  "language_info": {
   "codemirror_mode": {
    "name": "ipython",
    "version": 3
   },
   "file_extension": ".py",
   "mimetype": "text/x-python",
   "name": "python",
   "nbconvert_exporter": "python",
   "pygments_lexer": "ipython3",
   "version": "3.10.16"
  }
 },
 "nbformat": 4,
 "nbformat_minor": 2
}
