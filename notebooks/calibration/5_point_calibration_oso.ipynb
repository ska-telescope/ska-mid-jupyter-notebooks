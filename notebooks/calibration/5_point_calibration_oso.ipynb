{
 "cells": [
  {
   "cell_type": "markdown",
   "metadata": {},
   "source": [
    "# Running a 5-Point Calibration Scan With OSO"
   ]
  },
  {
   "cell_type": "markdown",
   "metadata": {},
   "source": [
    "This notebook adapts the Five Point Calibration Scan notebook to work with PSI. Running this notebook requires that a PSI namespace be spun up with `DISH_LMC_ENABLED` set to true.\n",
    "\n",
    "This notebook can be Run with BITE or SPFRx, with BITE requiring the optional BITE notebook to be run. "
   ]
  },
  {
   "cell_type": "markdown",
   "metadata": {},
   "source": [
    "###  For using BITE"
   ]
  },
  {
   "cell_type": "markdown",
   "metadata": {},
   "source": [
    " BITE Functionality has been spun out to a separate notebook, which should be referred to when needed. These sections are labeled as BITE STEP."
   ]
  },
  {
   "cell_type": "markdown",
   "metadata": {},
   "source": [
    "## 1 Setup "
   ]
  },
  {
   "cell_type": "markdown",
   "metadata": {},
   "source": [
    "### 1.1 Environment Setup"
   ]
  },
  {
   "cell_type": "markdown",
   "metadata": {},
   "source": [
    "Start by importing all the libraries needed to run this notebook, including local ones."
   ]
  },
  {
   "cell_type": "code",
   "execution_count": 1,
   "metadata": {},
   "outputs": [],
   "source": [
    "import sys\n",
    "import re\n",
    "\n",
    "sys.path.append(\"../../src\")\n",
    "\n",
    "import json\n",
    "import os\n",
    "from time import sleep\n",
    "\n",
    "from ska_oso_pdm import SBDefinition\n",
    "from ska_oso_scripting import oda_helper\n",
    "from ska_oso_scripting.functions import pdm_transforms\n",
    "from ska_oso_scripting.functions.sb import create_sbi, load_sbd\n",
    "from ska_oso_scripting.objects import SubArray, Telescope\n",
    "from tango import DevFailed, DeviceProxy"
   ]
  },
  {
   "cell_type": "markdown",
   "metadata": {},
   "source": [
    "### 1.2 Set Variables"
   ]
  },
  {
   "cell_type": "markdown",
   "metadata": {},
   "source": [
    "First, grab the namespace launched from the pipeline:"
   ]
  },
  {
   "cell_type": "code",
   "execution_count": 2,
   "metadata": {},
   "outputs": [
    {
     "name": "stdout",
     "output_type": "stream",
     "text": [
      "ci-ska-mid-psi-1406480615-alexschell                     Active   3m25s\n",
      "ci-ska-mid-psi-1406480615-alexschell-sdp                 Active   3m25s\n"
     ]
    }
   ],
   "source": [
    "!kubectl get ns | grep ska-mid-psi "
   ]
  },
  {
   "cell_type": "markdown",
   "metadata": {},
   "source": [
    "And load it into the variables for the notebook:"
   ]
  },
  {
   "cell_type": "code",
   "execution_count": 3,
   "metadata": {},
   "outputs": [],
   "source": [
    "namespace = \"ci-ska-mid-psi-1406480615-alexschell\"  # set to desired NS\n",
    "simulation_mode = 0  # set to 1 to run in sim mode\n",
    "target_boards_list = [1]  # assign boards\n",
    "scheduling_block_definition = \"mid_5_point_sb.json\"  # SB def file in data/scheduling_block to use\n",
    "server = \"ska-sdp-kafka.\" + namespace + \".svc.cluster.local:9092\"\n",
    "subarray_id = 1"
   ]
  },
  {
   "cell_type": "markdown",
   "metadata": {},
   "source": [
    "With the namespace set, use these links to monitor the system as the notebook is worked through"
   ]
  },
  {
   "cell_type": "code",
   "execution_count": 4,
   "metadata": {},
   "outputs": [
    {
     "name": "stdout",
     "output_type": "stream",
     "text": [
      "Monitor signal received by the vis pod:\n",
      "https://142.73.34.170/ci-ska-mid-psi-1406480615-alexschell/signal/display/\n",
      "Dashboard for monitoring device status:\n",
      "https://142.73.34.170/ci-ska-mid-psi-1406480615-alexschell/taranta/dashboard?id=666cb28b5e5d4f0012197e5f&mode=run\n",
      "Dashboard for monitoring TMC status:\n",
      "https://142.73.34.170/ci-ska-mid-psi-1406480615-alexschell/taranta/dashboard?id=669ea8e32bc4790019e64bba&mode=run\n",
      "PgAdmin interface to monitor the databases and ensure SB/EB are properly set in them\n",
      "https://142.73.34.170/ci-ska-mid-psi-1406480615-alexschell/pgadmin4/browser/\n"
     ]
    }
   ],
   "source": [
    "print(\"Monitor signal received by the vis pod:\")\n",
    "print(f\"https://142.73.34.170/{namespace}/signal/display/\")\n",
    "print(\"Dashboard for monitoring device status:\")\n",
    "print(f\"https://142.73.34.170/{namespace}/taranta/dashboard?id=666cb28b5e5d4f0012197e5f&mode=run\")\n",
    "print(\"Dashboard for monitoring TMC status:\")\n",
    "print(f\"https://142.73.34.170/{namespace}/taranta/dashboard?id=669ea8e32bc4790019e64bba&mode=run\")\n",
    "print(\"PgAdmin interface to monitor the databases and ensure SB/EB are properly set in them\")\n",
    "print(f\"https://142.73.34.170/{namespace}/pgadmin4/browser/\")"
   ]
  },
  {
   "cell_type": "markdown",
   "metadata": {},
   "source": [
    "Get the SKUID pod:"
   ]
  },
  {
   "cell_type": "code",
   "execution_count": 5,
   "metadata": {},
   "outputs": [
    {
     "name": "stdout",
     "output_type": "stream",
     "text": [
      "ska-ser-skuid-test-1406480615-svc               ClusterIP      10.111.78.142    <none>           9870/TCP                                          2m36s\n",
      "ska-sdp-kafka                                   ClusterIP      10.110.242.133   <none>           9092/TCP                                          2m36s\n",
      "ska-sdp-kafka-headless                          ClusterIP      None             <none>           9092/TCP,9094/TCP,9093/TCP                        2m36s\n"
     ]
    }
   ],
   "source": [
    "!kubectl get svc -n $namespace | grep skuid\n",
    "!kubectl get svc -n $namespace | grep kafka"
   ]
  },
  {
   "cell_type": "markdown",
   "metadata": {},
   "source": [
    "And set the id value based on the name of this pod:"
   ]
  },
  {
   "cell_type": "code",
   "execution_count": 6,
   "metadata": {},
   "outputs": [],
   "source": [
    "skuid_id = \"ska-ser-skuid-test-1406480615-svc\"\n",
    "kafka_id = \"ska-sdp-kafka\""
   ]
  },
  {
   "cell_type": "markdown",
   "metadata": {},
   "source": [
    "As a work around step for SKUID pod access, get the IP from the pod, get the IP address of the SKUID pod then set that as our access url:"
   ]
  },
  {
   "cell_type": "code",
   "execution_count": 7,
   "metadata": {},
   "outputs": [
    {
     "name": "stdout",
     "output_type": "stream",
     "text": [
      "ska-ser-skuid-test-1406480615-74bbb4f6dd-7552g\n",
      "10.10.212.246\n",
      "ska-sdp-kafka-0\n",
      "10.10.212.233\n"
     ]
    }
   ],
   "source": [
    "skuid_name = !kubectl -n $namespace get pods | grep ska-ser-skuid-test\n",
    "skuid_name = skuid_name[0].split()[0]\n",
    "print(skuid_name)\n",
    "extracted_ip = !kubectl -n $namespace describe pod $skuid_name | grep ips -A 1\n",
    "ip = re.search(\"[0-9]{0,3}\\.[0-9]{0,3}\\.[0-9]{0,3}\\.[0-9]{0,3}\", str(extracted_ip))\n",
    "print(ip.group(0))\n",
    "\n",
    "kafka_name = !kubectl -n $namespace get pods | grep ska-sdp-kafka\n",
    "kafka_name = kafka_name[0].split()[0]\n",
    "print(kafka_name)\n",
    "extracted_kafka_ip = !kubectl -n $namespace describe pod $kafka_name | grep ips -A 1\n",
    "kafka_ip = re.search(\"[0-9]{0,3}\\.[0-9]{0,3}\\.[0-9]{0,3}\\.[0-9]{0,3}\", str(extracted_kafka_ip))\n",
    "print(kafka_ip.group(0))"
   ]
  },
  {
   "cell_type": "markdown",
   "metadata": {},
   "source": [
    "Copy the IP from this store it to be written later:"
   ]
  },
  {
   "cell_type": "code",
   "execution_count": 8,
   "metadata": {},
   "outputs": [],
   "source": [
    "SKUID_POD = ip.group(0) + \":9870\"\n",
    "KAFKA_POD = kafka_ip.group(0) + \":9092\""
   ]
  },
  {
   "cell_type": "markdown",
   "metadata": {},
   "source": [
    "Next, load all the other vars the notebook will use. These should not need to be changed for this run."
   ]
  },
  {
   "cell_type": "code",
   "execution_count": 9,
   "metadata": {},
   "outputs": [],
   "source": [
    "# Tango host environment variable\n",
    "TANGO_HOST = \"databaseds-tango-base.\" + namespace + \".svc.cluster.local:10000\"\n",
    "# Don't use for now...\n",
    "# SKUID_POD = skuid_id + \".\" + namespace + \".svc.cluster.local:5004\"\n",
    "\n",
    "# Parent directory to use to grab config files.\n",
    "DATA_DIR = os.path.join(os.path.dirname(os.path.dirname(os.getcwd())), \"data\")\n",
    "# Config file directories\n",
    "COMMON_CONFIG = os.path.join(DATA_DIR, \"psi/cbf\")\n",
    "CSP_CONFIG = os.path.join(DATA_DIR, \"psi/csp\")\n",
    "TMC_CONFIG = os.path.join(DATA_DIR, \"psi/tmc\")\n",
    "HW_CONFIG = os.path.join(DATA_DIR, \"psi/cbf/hw_config\")\n",
    "SLIM_CONFIG = os.path.join(COMMON_CONFIG, \"slim_config\")\n",
    "CBF_INPUT_DIR = os.path.join(COMMON_CONFIG, \"cbf_input_data\")\n",
    "SB_DIR = os.path.join(DATA_DIR, \"scheduling_block\")\n",
    "\n",
    "# For mapping the talon boards to receptor\n",
    "RECEPTOR_MAP = [\"SKA001\", \"SKA036\", \"SKA063\", \"SKA100\"]"
   ]
  },
  {
   "cell_type": "markdown",
   "metadata": {},
   "source": [
    "Next, set the environment arg for TANGO HOST, SKUID_POD and KAFKA, along with the oda API service endpoint:"
   ]
  },
  {
   "cell_type": "code",
   "execution_count": 10,
   "metadata": {},
   "outputs": [
    {
     "name": "stdout",
     "output_type": "stream",
     "text": [
      "SKUID service set to:  10.10.212.246:9870\n",
      "TANGO_HOST set to: databaseds-tango-base.ci-ska-mid-psi-1406480615-alexschell.svc.cluster.local:10000\n",
      "ODA endpoint set to:http://142.73.34.170/ci-ska-mid-psi-1406480615-alexschell/oda/api/v5/\n",
      "This can be checked via http://142.73.34.170/ci-ska-mid-psi-1406480615-alexschell/oda/api/v5/ui\n"
     ]
    }
   ],
   "source": [
    "os.environ[\"TANGO_HOST\"] = TANGO_HOST\n",
    "os.environ[\"SKUID_URL\"] = SKUID_POD\n",
    "os.environ[\"ODA_URL\"] = f\"http://142.73.34.170/{namespace}/oda/api/v5/\"\n",
    "os.environ[\"telescope\"] = \"mid\"\n",
    "print(\"SKUID service set to: \", os.environ[\"SKUID_URL\"])\n",
    "print(\"TANGO_HOST set to:\", os.environ[\"TANGO_HOST\"])\n",
    "print(\"ODA endpoint set to:{}\".format(os.environ[\"ODA_URL\"]))\n",
    "print(\"This can be checked via {}ui\".format(os.environ[\"ODA_URL\"]))"
   ]
  },
  {
   "cell_type": "markdown",
   "metadata": {},
   "source": [
    "With all the file paths defined the JSON files can be loaded in and checked."
   ]
  },
  {
   "cell_type": "code",
   "execution_count": 11,
   "metadata": {},
   "outputs": [
    {
     "name": "stdout",
     "output_type": "stream",
     "text": [
      "Getting files...\n",
      "/home/al097049_p/SKAcode/ska-mid-jupyter-notebooks/data/psi/cbf/sys_params/initial_system_param.json exists: ✔️\n",
      "/home/al097049_p/SKAcode/ska-mid-jupyter-notebooks/data/psi/tmc/assign_resources.json exists: ✔️\n",
      "/home/al097049_p/SKAcode/ska-mid-jupyter-notebooks/data/psi/tmc/configure_scan.json exists: ✔️\n",
      "/home/al097049_p/SKAcode/ska-mid-jupyter-notebooks/data/psi/tmc/scan.json exists: ✔️\n",
      "/home/al097049_p/SKAcode/ska-mid-jupyter-notebooks/data/psi/cbf/cbf_input_data/cbf_input_data.json exists: ✔️\n",
      "/home/al097049_p/SKAcode/ska-mid-jupyter-notebooks/data/psi/cbf/cbf_input_data/bite_config_parameters/bite_configs.json exists: ✔️\n",
      "/home/al097049_p/SKAcode/ska-mid-jupyter-notebooks/data/psi/cbf/cbf_input_data/bite_config_parameters/filters.json exists: ✔️\n",
      "/home/al097049_p/SKAcode/ska-mid-jupyter-notebooks/data/psi/cbf/sys_params/load_dish_config.json exists: ✔️\n",
      "/home/al097049_p/SKAcode/ska-mid-jupyter-notebooks/data/scheduling_block/mid_5_point_sb.json exists: ✔️\n"
     ]
    }
   ],
   "source": [
    "print(\"Getting files...\")\n",
    "\n",
    "INIT_SYS_PARAM_FILE = os.path.join(COMMON_CONFIG, \"sys_params/initial_system_param.json\")\n",
    "ASSIGN_RESOURCES_FILE = os.path.join(TMC_CONFIG, \"assign_resources.json\")\n",
    "CONFIGURE_SCAN_FILE = os.path.join(TMC_CONFIG, \"configure_scan.json\")\n",
    "SCAN_FILE = os.path.join(TMC_CONFIG, \"scan.json\")\n",
    "\n",
    "CBF_INPUT_FILE = f\"{CBF_INPUT_DIR}/cbf_input_data.json\"\n",
    "BITE_CONFIG_FILE = f\"{CBF_INPUT_DIR}/bite_config_parameters/bite_configs.json\"\n",
    "FILTERS_FILE = f\"{CBF_INPUT_DIR}/bite_config_parameters/filters.json\"\n",
    "\n",
    "DISH_CONFIG_FILE = f\"{COMMON_CONFIG}/sys_params/load_dish_config.json\"\n",
    "\n",
    "SB_FILE = os.path.join(SB_DIR, scheduling_block_definition)\n",
    "\n",
    "SCAN_COMBOS = [[0.0, 5.0], [0.0, -5.0], [5.0, 0.0], [-5.0, 0.0]]\n",
    "\n",
    "files = [\n",
    "    INIT_SYS_PARAM_FILE,\n",
    "    ASSIGN_RESOURCES_FILE,\n",
    "    CONFIGURE_SCAN_FILE,\n",
    "    SCAN_FILE,\n",
    "    CBF_INPUT_FILE,\n",
    "    BITE_CONFIG_FILE,\n",
    "    FILTERS_FILE,\n",
    "    DISH_CONFIG_FILE,\n",
    "    SB_FILE,\n",
    "]\n",
    "\n",
    "for file in files:\n",
    "    if os.path.isfile(file):\n",
    "        print(f\"{file} exists: ✔️\")\n",
    "    else:\n",
    "        print(f\"{file} does not exist ❌\")"
   ]
  },
  {
   "cell_type": "markdown",
   "metadata": {},
   "source": [
    "Next, set up the hw config to match the boards in use:"
   ]
  },
  {
   "cell_type": "code",
   "execution_count": 12,
   "metadata": {},
   "outputs": [
    {
     "name": "stdout",
     "output_type": "stream",
     "text": [
      "Using standard HW config\n",
      "HW config: ✔️\n"
     ]
    }
   ],
   "source": [
    "if any(i > 4 for i in target_boards_list):\n",
    "    print(\"Using swap for higher number talons\")\n",
    "    config = \"hw_config_swap_psi.yaml\"\n",
    "    print(\"Modifying target to use lower nums to match swap file\")\n",
    "    target_boards_list = list(map(lambda x: x - 4, target_boards_list))\n",
    "\n",
    "else:\n",
    "    print(\"Using standard HW config\")\n",
    "    config = \"hw_config_psi.yaml\"\n",
    "\n",
    "HW_CONFIG_FILE = os.path.join(HW_CONFIG, config)\n",
    "if os.path.isfile(HW_CONFIG_FILE):\n",
    "    print(\"HW config: ✔️\")\n",
    "else:\n",
    "    print(\"hw config: ❌\")\n",
    "\n",
    "receptor_ids = list(map(lambda x: RECEPTOR_MAP[x - 1], target_boards_list))"
   ]
  },
  {
   "cell_type": "markdown",
   "metadata": {},
   "source": [
    "If the HW config file exists, it is loaded into the pod:"
   ]
  },
  {
   "cell_type": "code",
   "execution_count": 13,
   "metadata": {},
   "outputs": [],
   "source": [
    "!kubectl cp $HW_CONFIG_FILE $namespace/ds-cbfcontroller-controller-0:/app/mnt/hw_config/hw_config.yaml "
   ]
  },
  {
   "cell_type": "markdown",
   "metadata": {},
   "source": [
    "<style>\n",
    "    .alert {\n",
    "        background-color: #1a1d21;\n",
    "        border-style: dotted;\n",
    "        border-color: #f0493e;\n",
    "        color: #d1d2d3;\n",
    "    }\n",
    "</style>\n",
    "<div class=\"alert\">\n",
    "    <h3>(BITE STEP) Set Variables in the BITE Notebook</h3>\n",
    "    If running the BITE notebook, at this point ensure the variables in step 1.2 are set, and match the ones set here.\n",
    "</div>\n",
    "</body>"
   ]
  },
  {
   "cell_type": "markdown",
   "metadata": {},
   "source": [
    "### 1.3 Create Device Proxies"
   ]
  },
  {
   "cell_type": "markdown",
   "metadata": {},
   "source": [
    "With the pod spun up, create device proxies to the devices used and check the connection to them."
   ]
  },
  {
   "cell_type": "code",
   "execution_count": 14,
   "metadata": {},
   "outputs": [
    {
     "name": "stdout",
     "output_type": "stream",
     "text": [
      "CSP Controller: The device is in DISABLE state.\n",
      "Central Node: The device is in ON state.\n",
      "TMC subarray Node: The device is in ON state.\n",
      "CBF subarray: The device is in DISABLE state.\n"
     ]
    }
   ],
   "source": [
    "# CSP Devices\n",
    "csp_controller = DeviceProxy(\"mid-csp/control/0\")\n",
    "print(f\"CSP Controller: {csp_controller.Status()}\")\n",
    "\n",
    "# TMC Devices\n",
    "tmc_central_node = DeviceProxy(\"ska_mid/tm_central/central_node\")\n",
    "print(f\"Central Node: {tmc_central_node.Status()}\")\n",
    "tmc_subarray = DeviceProxy(\"ska_mid/tm_subarray_node/1\")\n",
    "print(f\"TMC subarray Node: {tmc_subarray.Status()}\")\n",
    "\n",
    "# For checking leaf node\n",
    "leaf_node_master = DeviceProxy(\"ska_mid/tm_leaf_node/csp_master\")\n",
    "\n",
    "# Deployer for setup and BITE for data mocking\n",
    "deployer = DeviceProxy(\"mid_csp_cbf/ec/deployer\")\n",
    "\n",
    "# CBF Device\n",
    "cbf_subarray = DeviceProxy(\"mid_csp_cbf/sub_elt/subarray_01\")\n",
    "print(f\"CBF subarray: {cbf_subarray.Status()}\")"
   ]
  },
  {
   "cell_type": "markdown",
   "metadata": {},
   "source": [
    "### 1.4 Downloading Requirements via the Deployer"
   ]
  },
  {
   "cell_type": "markdown",
   "metadata": {},
   "source": [
    "First, set the board to deploy to and turn on the deployer device."
   ]
  },
  {
   "cell_type": "code",
   "execution_count": 15,
   "metadata": {},
   "outputs": [
    {
     "name": "stdout",
     "output_type": "stream",
     "text": [
      "Deployer will target board: [1]\n"
     ]
    }
   ],
   "source": [
    "deployer.targetTalons = target_boards_list\n",
    "print(\"Deployer will target board:\", deployer.targetTalons)\n",
    "deployer.generate_config_jsons()"
   ]
  },
  {
   "cell_type": "markdown",
   "metadata": {},
   "source": [
    "Once started and configured, the required devices can then be downloaded."
   ]
  },
  {
   "cell_type": "code",
   "execution_count": 16,
   "metadata": {},
   "outputs": [],
   "source": [
    "deployer.set_timeout_millis(400000)\n",
    "try:\n",
    "    deployer.download_artifacts()\n",
    "except DevFailed as e:\n",
    "    print(e)\n",
    "    print(\n",
    "        \"Timed out, this is likely due to the download taking some time. Check the logs with the code space below after some time to see if it passes.\"\n",
    "    )\n",
    "deployer.set_timeout_millis(3000)"
   ]
  },
  {
   "cell_type": "markdown",
   "metadata": {},
   "source": [
    "Now configure the device database with the downloaded devices:"
   ]
  },
  {
   "cell_type": "code",
   "execution_count": 17,
   "metadata": {},
   "outputs": [],
   "source": [
    "deployer.configure_db()"
   ]
  },
  {
   "cell_type": "markdown",
   "metadata": {},
   "source": [
    "### 1.5 Set up Execution Block"
   ]
  },
  {
   "cell_type": "markdown",
   "metadata": {},
   "source": [
    "The first step is to generate an empty Execution Block, using the helper scripts to work with the API endpoint:"
   ]
  },
  {
   "cell_type": "code",
   "execution_count": 18,
   "metadata": {},
   "outputs": [
    {
     "name": "stdout",
     "output_type": "stream",
     "text": [
      "eb-t0001-20240814-00002\n"
     ]
    }
   ],
   "source": [
    "exec_block_id = oda_helper.create_eb(telescope=\"ska_mid\")\n",
    "print(exec_block_id)"
   ]
  },
  {
   "cell_type": "markdown",
   "metadata": {},
   "source": [
    "## 2 Preparing Telescope"
   ]
  },
  {
   "cell_type": "markdown",
   "metadata": {},
   "source": [
    "Start by setting the admin modes to allow for control of the telescope:"
   ]
  },
  {
   "cell_type": "code",
   "execution_count": 19,
   "metadata": {},
   "outputs": [],
   "source": [
    "csp_controller.write_attribute(\"adminMode\", 0)\n",
    "tmc_central_node.write_attribute(\"adminMode\", 0)\n",
    "# Set CBF Simulation mode to false and CBF timeout to 99s\n",
    "sleep(2)\n",
    "csp_controller.cbfSimulationMode = 0\n",
    "csp_controller.commandTimeout = 99"
   ]
  },
  {
   "cell_type": "markdown",
   "metadata": {},
   "source": [
    "Ensure that these are set correctly, admin mode should be 0 (online) and cbfSimulationMode should be FALSE."
   ]
  },
  {
   "cell_type": "code",
   "execution_count": 20,
   "metadata": {},
   "outputs": [
    {
     "name": "stdout",
     "output_type": "stream",
     "text": [
      "adminMode.ONLINE\n",
      "adminMode.ONLINE\n",
      "False\n"
     ]
    }
   ],
   "source": [
    "print(csp_controller.adminMode)\n",
    "print(tmc_central_node.adminMode)\n",
    "print(csp_controller.cbfSimulationMode)"
   ]
  },
  {
   "cell_type": "markdown",
   "metadata": {},
   "source": [
    "Start by loading in the VCC config (this step may need to be re-run):"
   ]
  },
  {
   "cell_type": "code",
   "execution_count": 22,
   "metadata": {},
   "outputs": [
    {
     "name": "stdout",
     "output_type": "stream",
     "text": [
      "dish_config_json file contents: \n",
      "{'interface': 'https://schema.skao.int/ska-mid-cbf-initsysparam/1.0', 'tm_data_sources': ['car://gitlab.com/ska-telescope/ska-telmodel-data?0.1.0-rc-mid-itf#tmdata'], 'tm_data_filepath': 'instrument/ska1_mid_itf/ska-mid-cbf-system-parameters.json'}\n",
      "TMC CSP Master's Dish Vcc Config attribute value: \n",
      "{\"interface\": \"https://schema.skao.int/ska-mid-cbf-initsysparam/1.0\", \"dish_parameters\": {\"SKA001\": {\"vcc\": 1, \"k\": 1}, \"SKA036\": {\"vcc\": 2, \"k\": 1}, \"SKA063\": {\"vcc\": 3, \"k\": 1}, \"SKA100\": {\"vcc\": 4, \"k\": 1}}}\n",
      "\n",
      "TMC CSP Master's Source Dish Vcc Config attribute value: \n",
      "{\"interface\": \"https://schema.skao.int/ska-mid-cbf-initsysparam/1.0\", \"tm_data_sources\": [\"car://gitlab.com/ska-telescope/ska-telmodel-data?0.1.0-rc-mid-itf#tmdata\"], \"tm_data_filepath\": \"instrument/ska1_mid_itf/ska-mid-cbf-system-parameters.json\"}\n"
     ]
    }
   ],
   "source": [
    "with open(DISH_CONFIG_FILE, encoding=\"utf-8\") as f:\n",
    "    dish_config_json = json.load(f)\n",
    "\n",
    "dish_config_json[\"tm_data_sources\"][\n",
    "    0\n",
    "] = \"car://gitlab.com/ska-telescope/ska-telmodel-data?0.1.0-rc-mid-itf#tmdata\"\n",
    "dish_config_json[\"tm_data_filepath\"] = \"instrument/ska1_mid_itf/ska-mid-cbf-system-parameters.json\"\n",
    "\n",
    "print(f\"dish_config_json file contents: \\n{dish_config_json}\")\n",
    "tmc_central_node.LoadDishCfg(json.dumps(dish_config_json))\n",
    "\n",
    "sleep(2)\n",
    "print(f\"TMC CSP Master's Dish Vcc Config attribute value: \\n{leaf_node_master.dishVccConfig}\")\n",
    "print(\n",
    "    f\"\\nTMC CSP Master's Source Dish Vcc Config attribute value: \\n{leaf_node_master.sourceDishVccConfig}\"\n",
    ")"
   ]
  },
  {
   "cell_type": "markdown",
   "metadata": {},
   "source": [
    "Before continuing, ensure this passes to make sure the DishVCC is set to allow for the On command to be sent."
   ]
  },
  {
   "cell_type": "code",
   "execution_count": 23,
   "metadata": {},
   "outputs": [
    {
     "name": "stdout",
     "output_type": "stream",
     "text": [
      "DishVCC set, can continue!\n"
     ]
    }
   ],
   "source": [
    "if tmc_central_node.isDishVccConfigSet:\n",
    "    print(\"DishVCC set, can continue!\")\n",
    "else:\n",
    "    print(\"DishVCC not set, repeat last step.\")"
   ]
  },
  {
   "cell_type": "markdown",
   "metadata": {},
   "source": [
    "<style>\n",
    "    .alert {\n",
    "        background-color: #1a1d21;\n",
    "        border-style: dotted;\n",
    "        border-color: #f0493e;\n",
    "        color: #d1d2d3;\n",
    "    }\n",
    "</style>\n",
    "<div class=\"alert\">\n",
    "    <h3>(BITE STEP) Load In BITE Config Data</h3>\n",
    "    Now, if required, the BITE configuration data can be loaded in using the BITE notebook.\n",
    "</div>\n",
    "</body>"
   ]
  },
  {
   "cell_type": "markdown",
   "metadata": {},
   "source": [
    "Set up the objects for controlling the telescope and subarray via OSO:"
   ]
  },
  {
   "cell_type": "code",
   "execution_count": 24,
   "metadata": {},
   "outputs": [],
   "source": [
    "sub = SubArray(subarray_id)\n",
    "tel = Telescope()"
   ]
  },
  {
   "cell_type": "markdown",
   "metadata": {},
   "source": [
    "Now, while monitoring the Taranta dashboard, send the ON command to the telescope and monitor that the LURs Controller and subarrays come on (occasionally the ON command may not finish when everything has started):"
   ]
  },
  {
   "cell_type": "code",
   "execution_count": 25,
   "metadata": {},
   "outputs": [
    {
     "name": "stdout",
     "output_type": "stream",
     "text": [
      "1|2024-08-14T03:58:30.206Z|INFO|MainThread|_call_and_wait_for_transition|common.py#147||Using pub/sub to track telescopeState of ska_mid/tm_central/central_node\n",
      "1|2024-08-14T03:58:30.230Z|INFO|MainThread|execute|tango_executor.py#243||Executing command: <Command('ska_mid/tm_central/central_node', 'TelescopeOn', )>\n",
      "1|2024-08-14T03:58:30.238Z|INFO|MainThread|wait_for_transition|common.py#338||Waiting for telescopeState to transition to ON\n",
      "1|2024-08-14T03:58:30.240Z|INFO|MainThread|read_event|tango_executor.py#184||timeout None to wait for read an event from queue\n",
      "1|2024-08-14T03:58:30.291Z|INFO|MainThread|read_event|tango_executor.py#184||timeout None to wait for read an event from queue\n",
      "1|2024-08-14T03:58:58.895Z|INFO|MainThread|wait_for_transition|common.py#354||telescopeState reached target state ON\n"
     ]
    }
   ],
   "source": [
    "tel.on()"
   ]
  },
  {
   "cell_type": "markdown",
   "metadata": {},
   "source": [
    "<style>\n",
    "    .alert {\n",
    "        background-color: #1a1d21;\n",
    "        border-style: dotted;\n",
    "        border-color: #f0493e;\n",
    "        color: #d1d2d3;\n",
    "    }\n",
    "</style>\n",
    "<div class=\"alert\">\n",
    "    <h3>(BITE STEP) Generate BITE Data</h3>\n",
    "    With the telescope on, section 3 of the BITE notebook can be run, to generate the BITE data that will be used during the LSTV replay.\n",
    "</div>\n",
    "</body>"
   ]
  },
  {
   "cell_type": "markdown",
   "metadata": {},
   "source": [
    "### 2.1 Define Scheduling Block"
   ]
  },
  {
   "cell_type": "markdown",
   "metadata": {},
   "source": [
    "Temporary work around for ingress issues:"
   ]
  },
  {
   "cell_type": "code",
   "execution_count": 26,
   "metadata": {},
   "outputs": [
    {
     "name": "stdout",
     "output_type": "stream",
     "text": [
      "SKUID service set to:  10.10.212.246:9870\n"
     ]
    }
   ],
   "source": [
    "os.environ[\"SKUID_URL\"] = SKUID_POD\n",
    "print(\"SKUID service set to: \", os.environ[\"SKUID_URL\"])"
   ]
  },
  {
   "cell_type": "markdown",
   "metadata": {},
   "source": [
    "Now, use the SKUID service to generate processing and execution block IDs from the scheduling block definition."
   ]
  },
  {
   "cell_type": "code",
   "execution_count": 27,
   "metadata": {},
   "outputs": [
    {
     "name": "stdout",
     "output_type": "stream",
     "text": [
      "1|2024-08-14T03:59:24.960Z|INFO|MainThread|create_sbi|sb.py#28||New SBI ID mapping: sbi-mvp01-20200325-00001 -> sbi-t0001-20240814-00003\n",
      "1|2024-08-14T03:59:24.965Z|INFO|MainThread|create_sbi|sb.py#41||New PB ID mapping: pb-test-20211111-00000 -> pb-t0001-20240814-00004\n",
      "1|2024-08-14T03:59:24.965Z|INFO|MainThread|create_sbi|sb.py#41||New PB ID mapping: pb-test-20211111-00001 -> pb-t0001-20240814-00005\n"
     ]
    }
   ],
   "source": [
    "sb = load_sbd(SB_FILE)\n",
    "# Configure sb items for current board:\n",
    "sb.sdp_configuration.resources.receptors = receptor_ids\n",
    "sb.dish_allocations.receptor_ids = receptor_ids\n",
    "# for now run with 1 fsp\n",
    "sb.csp_configurations[0].cbf.fsps[0].fsp_id = target_boards_list[0]\n",
    "sb.csp_configurations[0].cbf.fsps[0].frequency_slice_id = target_boards_list[0]\n",
    "\n",
    "sbi = create_sbi(sb)\n",
    "\n",
    "sbi.sdp_configuration.execution_block.eb_id = exec_block_id"
   ]
  },
  {
   "cell_type": "code",
   "execution_count": 28,
   "metadata": {},
   "outputs": [
    {
     "name": "stdout",
     "output_type": "stream",
     "text": [
      "interface='https://schema.skao.int/ska-oso-pdm-sbd/0.1' sbd_id='sbi-mvp01-20200325-00001' name=None description=None telescope=TelescopeType.SKA_MID metadata=Metadata(version=1, created_by='Liz Bartlett', created_on=datetime.datetime(2022, 3, 28, 15, 43, 53, 971548, tzinfo=TzInfo(UTC)), last_modified_by='Liz Bartlett', last_modified_on=datetime.datetime(2023, 11, 15, 10, 45, 3, 313536, tzinfo=TzInfo(UTC))) prj_ref=None activities={'observe': GitScript(function_args={'init': PythonArguments(args=[], kwargs={'subarray_id': 1}), 'main': PythonArguments(args=[], kwargs={})}, kind=ScriptKind.GIT, repo='https://gitlab.com/ska-telescope/oso/ska-oso-scripting', path='git://scripts/test_example_mid_script.py', branch='master', commit=None)} targets=[Target(target_id='Polaris Australis', pointing_pattern=PointingPattern(active=PointingKind.FIVE_POINT, parameters=[FivePointParameters(kind=PointingKind.FIVE_POINT, offset_arcsec=5.0), RasterParameters(kind=PointingKind.RASTER, row_length_arcsec=1.23, row_offset_arcsec=4.56, n_rows=2, pa=7.89, unidirectional=True), StarRasterParameters(kind=PointingKind.STAR_RASTER, row_length_arcsec=1.23, n_rows=2, row_offset_angle=4.56, unidirectional=True)]), reference_coordinate=EquatorialCoordinates(ra=317.19966666666664, dec=-88.95636111111111, unit=('deg', 'deg'), frame=EquatorialCoordinatesReferenceFrame.ICRS), radial_velocity=RadialVelocity(quantity=<Quantity 0. km / s>, definition=RadialVelocityDefinition.RADIO, reference_frame=RadialVelocityReferenceFrame.LSRK, redshift=0.0)), Target(target_id='M83', pointing_pattern=PointingPattern(active=PointingKind.SINGLE_POINT, parameters=[SinglePointParameters(kind=PointingKind.SINGLE_POINT, offset_x_arcsec=0.0, offset_y_arcsec=0.0)]), reference_coordinate=EquatorialCoordinates(ra=204.25382916666663, dec=-29.865761111111112, unit=('deg', 'deg'), frame=EquatorialCoordinatesReferenceFrame.ICRS), radial_velocity=RadialVelocity(quantity=<Quantity 0. km / s>, definition=RadialVelocityDefinition.RADIO, reference_frame=RadialVelocityReferenceFrame.LSRK, redshift=0.0))] scan_definitions=[ScanDefinition(scan_definition_id='calibrator scan', scan_duration=datetime.timedelta(seconds=60), target_ref='M83', target_beam_configuration_refs=[], dish_configuration_ref='dish config 123', scan_type_ref='pointing', csp_configuration_ref='csp config 123', pointing_correction=PointingCorrection.MAINTAIN), ScanDefinition(scan_definition_id='science scan', scan_duration=datetime.timedelta(seconds=60), target_ref='Polaris Australis', target_beam_configuration_refs=[], dish_configuration_ref='dish config 123', scan_type_ref='science', csp_configuration_ref='csp config 123', pointing_correction=PointingCorrection.MAINTAIN)] scan_sequence=['calibrator scan', 'science scan', 'science scan', 'calibrator scan'] sdp_configuration=SDPConfiguration(execution_block=ExecutionBlock(eb_id='eb-mvp01-20200325-00001', max_length=21600.0, context={}, beams=[Beam(beam_id='vis0', function=<BeamFunction.VISIBILITIES: 'visibilities'>, search_beam_id=None, timing_beam_id=None, vlbi_beam_id=None)], scan_types=[ScanType(scan_type_id='.default', derive_from=None, beams=[BeamMapping(beam_ref='vis0', field_ref=None, channels_ref='vis_channels', polarisations_ref='all')]), ScanType(scan_type_id='pointing', derive_from='.default', beams=[BeamMapping(beam_ref='vis0', field_ref='M83', channels_ref=None, polarisations_ref=None)]), ScanType(scan_type_id='science', derive_from='.default', beams=[BeamMapping(beam_ref='vis0', field_ref='Polaris Australis', channels_ref=None, polarisations_ref=None)])], channels=[Channels(channels_id='vis_channels', spectral_windows=[SpectralWindow(spectral_window_id='fsp_1_channels', count=14880, start=0, freq_min=269000000.0, freq_max=469000000.0, stride=1, link_map=[(0, 0), (200, 1), (744, 2), (944, 3)])])], polarisations=[Polarisation(polarisations_id='all', corr_type=['XX', 'XY', 'YX', 'YY'])]), resources=Resources(csp_links=[], receptors=['SKA001'], receive_nodes=1), processing_blocks=[ProcessingBlock(pb_id='pb-test-20211111-00000', script=Script(name='pointing-offset', kind=<ScriptKind.REALTIME: 'realtime'>, version='0.5.0'), sbi_refs=[], parameters={'version': '0.5.0', 'num_scans': 5, 'additional_args': ['--thresh_width', '1.25'], 'kafka_topic': 'pointing_offset'}, dependencies=[PbDependency(pb_ref='pb-test-20211111-00001', kind=['vis-receive'])]), ProcessingBlock(pb_id='pb-test-20211111-00001', script=Script(name='vis-receive', kind=<ScriptKind.REALTIME: 'realtime'>, version='4.2.1'), sbi_refs=[], parameters={'channels_per_port': 20, 'transport_protocol': 'udp', 'use_network_definition': True, 'extra_helm_values': {'receiver': {'options': {'reception': {'reset_time_indexing_after_each_scan': True}, 'telescope_model': {'telmodel_key': 'instrument/ska1_mid/layout/mid-layout.json'}}}}, 'pod_settings': [{'securityContext': {'runAsUser': 0, 'fsGroup': 0}}], 'processors': {'signal-display-metrics-amplitude': {}, 'signal-display-metrics-basic': {}, 'signal-display-metrics-phase': {}, 'mswriter': {}}}, dependencies=[PbDependency(pb_ref='pb-test-20211111-00000', kind=['pointing-offset'])])]) dish_configurations=[DishConfiguration(dish_configuration_id='dish config 123', receiver_band=<ReceiverBand.BAND_1: '1'>)] csp_configurations=[CSPConfiguration(config_id='csp config 123', subarray=SubarrayConfiguration(subarray_name='science period 23'), common=CommonConfiguration(subarray_id=1, band_5_tuning=[]), cbf=CBFConfiguration(fsps=[FSPConfiguration(fsp_id=1, function_mode=<FSPFunctionMode.CORR: 'CORR'>, frequency_slice_id=1, integration_factor=1, zoom_factor=0, channel_averaging_map=[(0, 2), (744, 0)], output_link_map=[(0, 0), (200, 1)], channel_offset=0, zoom_window_tuning=None)], vlbi=None), lowcbf=None, pst=None, pss=None)] dish_allocations=DishAllocation(receptor_ids=frozenset({'SKA001'})) mccs_allocation=None subarray_beam_configurations=[] target_beam_configurations=[]\n",
      "interface='https://schema.skao.int/ska-oso-pdm-sbd/0.1' sbd_id='sbi-t0001-20240814-00003' name=None description=None telescope=TelescopeType.SKA_MID metadata=Metadata(version=1, created_by='Liz Bartlett', created_on=datetime.datetime(2022, 3, 28, 15, 43, 53, 971548, tzinfo=TzInfo(UTC)), last_modified_by='Liz Bartlett', last_modified_on=datetime.datetime(2023, 11, 15, 10, 45, 3, 313536, tzinfo=TzInfo(UTC))) prj_ref=None activities={'observe': GitScript(function_args={'init': PythonArguments(args=[], kwargs={'subarray_id': 1}), 'main': PythonArguments(args=[], kwargs={})}, kind=ScriptKind.GIT, repo='https://gitlab.com/ska-telescope/oso/ska-oso-scripting', path='git://scripts/test_example_mid_script.py', branch='master', commit=None)} targets=[Target(target_id='Polaris Australis', pointing_pattern=PointingPattern(active=PointingKind.FIVE_POINT, parameters=[FivePointParameters(kind=PointingKind.FIVE_POINT, offset_arcsec=5.0), RasterParameters(kind=PointingKind.RASTER, row_length_arcsec=1.23, row_offset_arcsec=4.56, n_rows=2, pa=7.89, unidirectional=True), StarRasterParameters(kind=PointingKind.STAR_RASTER, row_length_arcsec=1.23, n_rows=2, row_offset_angle=4.56, unidirectional=True)]), reference_coordinate=EquatorialCoordinates(ra=317.19966666666664, dec=-88.95636111111111, unit=('deg', 'deg'), frame=EquatorialCoordinatesReferenceFrame.ICRS), radial_velocity=RadialVelocity(quantity=<Quantity 0. km / s>, definition=RadialVelocityDefinition.RADIO, reference_frame=RadialVelocityReferenceFrame.LSRK, redshift=0.0)), Target(target_id='M83', pointing_pattern=PointingPattern(active=PointingKind.SINGLE_POINT, parameters=[SinglePointParameters(kind=PointingKind.SINGLE_POINT, offset_x_arcsec=0.0, offset_y_arcsec=0.0)]), reference_coordinate=EquatorialCoordinates(ra=204.25382916666663, dec=-29.865761111111112, unit=('deg', 'deg'), frame=EquatorialCoordinatesReferenceFrame.ICRS), radial_velocity=RadialVelocity(quantity=<Quantity 0. km / s>, definition=RadialVelocityDefinition.RADIO, reference_frame=RadialVelocityReferenceFrame.LSRK, redshift=0.0))] scan_definitions=[ScanDefinition(scan_definition_id='calibrator scan', scan_duration=datetime.timedelta(seconds=60), target_ref='M83', target_beam_configuration_refs=[], dish_configuration_ref='dish config 123', scan_type_ref='pointing', csp_configuration_ref='csp config 123', pointing_correction=PointingCorrection.MAINTAIN), ScanDefinition(scan_definition_id='science scan', scan_duration=datetime.timedelta(seconds=60), target_ref='Polaris Australis', target_beam_configuration_refs=[], dish_configuration_ref='dish config 123', scan_type_ref='science', csp_configuration_ref='csp config 123', pointing_correction=PointingCorrection.MAINTAIN)] scan_sequence=['calibrator scan', 'science scan', 'science scan', 'calibrator scan'] sdp_configuration=SDPConfiguration(execution_block=ExecutionBlock(eb_id='eb-t0001-20240814-00002', max_length=21600.0, context={}, beams=[Beam(beam_id='vis0', function=<BeamFunction.VISIBILITIES: 'visibilities'>, search_beam_id=None, timing_beam_id=None, vlbi_beam_id=None)], scan_types=[ScanType(scan_type_id='.default', derive_from=None, beams=[BeamMapping(beam_ref='vis0', field_ref=None, channels_ref='vis_channels', polarisations_ref='all')]), ScanType(scan_type_id='pointing', derive_from='.default', beams=[BeamMapping(beam_ref='vis0', field_ref='M83', channels_ref=None, polarisations_ref=None)]), ScanType(scan_type_id='science', derive_from='.default', beams=[BeamMapping(beam_ref='vis0', field_ref='Polaris Australis', channels_ref=None, polarisations_ref=None)])], channels=[Channels(channels_id='vis_channels', spectral_windows=[SpectralWindow(spectral_window_id='fsp_1_channels', count=14880, start=0, freq_min=269000000.0, freq_max=469000000.0, stride=1, link_map=[(0, 0), (200, 1), (744, 2), (944, 3)])])], polarisations=[Polarisation(polarisations_id='all', corr_type=['XX', 'XY', 'YX', 'YY'])]), resources=Resources(csp_links=[], receptors=['SKA001'], receive_nodes=1), processing_blocks=[ProcessingBlock(pb_id='pb-t0001-20240814-00004', script=Script(name='pointing-offset', kind=<ScriptKind.REALTIME: 'realtime'>, version='0.5.0'), sbi_refs=['sbi-t0001-20240814-00003'], parameters={'version': '0.5.0', 'num_scans': 5, 'additional_args': ['--thresh_width', '1.25'], 'kafka_topic': 'pointing_offset'}, dependencies=[PbDependency(pb_ref='pb-t0001-20240814-00005', kind=['vis-receive'])]), ProcessingBlock(pb_id='pb-t0001-20240814-00005', script=Script(name='vis-receive', kind=<ScriptKind.REALTIME: 'realtime'>, version='4.2.1'), sbi_refs=['sbi-t0001-20240814-00003'], parameters={'channels_per_port': 20, 'transport_protocol': 'udp', 'use_network_definition': True, 'extra_helm_values': {'receiver': {'options': {'reception': {'reset_time_indexing_after_each_scan': True}, 'telescope_model': {'telmodel_key': 'instrument/ska1_mid/layout/mid-layout.json'}}}}, 'pod_settings': [{'securityContext': {'runAsUser': 0, 'fsGroup': 0}}], 'processors': {'signal-display-metrics-amplitude': {}, 'signal-display-metrics-basic': {}, 'signal-display-metrics-phase': {}, 'mswriter': {}}}, dependencies=[PbDependency(pb_ref='pb-t0001-20240814-00004', kind=['pointing-offset'])])]) dish_configurations=[DishConfiguration(dish_configuration_id='dish config 123', receiver_band=<ReceiverBand.BAND_1: '1'>)] csp_configurations=[CSPConfiguration(config_id='csp config 123', subarray=SubarrayConfiguration(subarray_name='science period 23'), common=CommonConfiguration(subarray_id=1, band_5_tuning=[]), cbf=CBFConfiguration(fsps=[FSPConfiguration(fsp_id=1, function_mode=<FSPFunctionMode.CORR: 'CORR'>, frequency_slice_id=1, integration_factor=1, zoom_factor=0, channel_averaging_map=[(0, 2), (744, 0)], output_link_map=[(0, 0), (200, 1)], channel_offset=0, zoom_window_tuning=None)], vlbi=None), lowcbf=None, pst=None, pss=None)] dish_allocations=DishAllocation(receptor_ids=frozenset({'SKA001'})) mccs_allocation=None subarray_beam_configurations=[] target_beam_configurations=[]\n"
     ]
    }
   ],
   "source": [
    "print(sb)\n",
    "print(sbi)"
   ]
  },
  {
   "cell_type": "markdown",
   "metadata": {},
   "source": [
    "Using this, create the JSON for the scheduling block, subbing in the Kafka location, and validating it."
   ]
  },
  {
   "cell_type": "code",
   "execution_count": 29,
   "metadata": {},
   "outputs": [],
   "source": [
    "sb_json = SBDefinition.model_dump_json(sb)\n",
    "sb_json = sb_json.replace(\"<KAFKA_HOST>\", KAFKA_POD)\n",
    "sb = SBDefinition.model_validate_json(sb_json)"
   ]
  },
  {
   "cell_type": "markdown",
   "metadata": {},
   "source": [
    "## 3 Running the Observation"
   ]
  },
  {
   "cell_type": "markdown",
   "metadata": {},
   "source": [
    "### 3.1 Assigning Resources"
   ]
  },
  {
   "cell_type": "markdown",
   "metadata": {},
   "source": [
    "Now, the resources can be assigned to the telescope, either via getting the resources from the scheduling block:"
   ]
  },
  {
   "cell_type": "code",
   "execution_count": 30,
   "metadata": {},
   "outputs": [
    {
     "name": "stdout",
     "output_type": "stream",
     "text": [
      "1|2024-08-14T03:59:33.030Z|INFO|MainThread|create_mid_assign_resources_request|wrapper.py#81||Setting dish : frozenset({'SKA001'}) \n",
      "1|2024-08-14T03:59:33.031Z|INFO|MainThread|convert_channels|sdp.py#293||Setting ChannelConfiguration id:vis_channels , spectral_windows:[SpectralWindow(spectral_window_id='fsp_1_channels', count=14880, start=0, freq_min=269000000.0, freq_max=469000000.0, stride=1, link_map=[(0, 0), (200, 1), (744, 2), (944, 3)])] \n",
      "1|2024-08-14T03:59:33.032Z|INFO|MainThread|convert_spectral_window|sdp.py#272||Setting channel attribute -> count:14880 , start:0 , stride:1, freq_min:269000000.0, freq_max:469000000.0 , link_map:[(0, 0), (200, 1), (744, 2), (944, 3)] \n",
      "1|2024-08-14T03:59:33.033Z|INFO|MainThread|convert_target_to_fieldconfiguration|sdp.py#347||Setting target attribute -> target_id:Polaris Australis , reference_coordinate:<EquatorialCoordinates: (21h08m47.92s -88d57m22.9s ICRS)> \n",
      "1|2024-08-14T03:59:33.034Z|INFO|MainThread|convert_target_to_fieldconfiguration|sdp.py#364||Resulting SDP coordinate for targetid:Polaris Australis -> system:ICRF3 , ra:[317.19966666666664] , dec:[-88.95636111111111]\n",
      "1|2024-08-14T03:59:33.035Z|INFO|MainThread|convert_target_to_fieldconfiguration|sdp.py#347||Setting target attribute -> target_id:M83 , reference_coordinate:<EquatorialCoordinates: (13h37m00.919s -29d51m56.74s ICRS)> \n",
      "1|2024-08-14T03:59:33.038Z|INFO|MainThread|convert_target_to_fieldconfiguration|sdp.py#364||Resulting SDP coordinate for targetid:M83 -> system:ICRF3 , ra:[204.2538291666666] , dec:[-29.865761111111112]\n",
      "1|2024-08-14T03:59:33.039Z|INFO|MainThread|convert_dependencies|sdp.py#211||Setting PbDependency Id : pb-test-20211111-00001 \n",
      "1|2024-08-14T03:59:33.039Z|INFO|MainThread|convert_script|sdp.py#199||Setting ScriptConfiguration : pointing-offset \n",
      "1|2024-08-14T03:59:33.039Z|INFO|MainThread|convert_processing_block|sdp.py#185||Setting ProcessingBlock Id : pb-test-20211111-00000 \n",
      "1|2024-08-14T03:59:33.040Z|INFO|MainThread|convert_dependencies|sdp.py#211||Setting PbDependency Id : pb-test-20211111-00000 \n",
      "1|2024-08-14T03:59:33.040Z|INFO|MainThread|convert_script|sdp.py#199||Setting ScriptConfiguration : vis-receive \n",
      "1|2024-08-14T03:59:33.040Z|INFO|MainThread|convert_processing_block|sdp.py#185||Setting ProcessingBlock Id : pb-test-20211111-00001 \n",
      "1|2024-08-14T03:59:33.041Z|INFO|MainThread|create_mid_assign_resources_request|wrapper.py#87||Setting SDP configuration for EB: eb-mvp01-20200325-00001 \n"
     ]
    }
   ],
   "source": [
    "assign_requests = pdm_transforms.create_cdm_assign_resources_request_from_scheduling_block(\n",
    "    sub.id, sb\n",
    ")"
   ]
  },
  {
   "cell_type": "code",
   "execution_count": 31,
   "metadata": {},
   "outputs": [
    {
     "name": "stdout",
     "output_type": "stream",
     "text": [
      "[AssignResourcesRequest(subarray_id=1, dish=DishAllocation(receptor_ids=frozenset({'SKA001'})), sdp_config=SDPConfiguration(eb_id=None, max_length=None, scan_types=None, processing_blocks=[ProcessingBlockConfiguration(pb_id='pb-test-20211111-00000', workflow=None, parameters={'version': '0.5.0', 'num_scans': 5, 'additional_args': ['--thresh_width', '1.25'], 'kafka_topic': 'pointing_offset'}, dependencies=[PbDependency(pb_id='pb-test-20211111-00001', kind=['vis-receive'])], sbi_ids=[], script=ScriptConfiguration(kind='realtime', name='pointing-offset', version='0.5.0')), ProcessingBlockConfiguration(pb_id='pb-test-20211111-00001', workflow=None, parameters={'channels_per_port': 20, 'transport_protocol': 'udp', 'use_network_definition': True, 'extra_helm_values': {'receiver': {'options': {'reception': {'reset_time_indexing_after_each_scan': True}, 'telescope_model': {'telmodel_key': 'instrument/ska1_mid/layout/mid-layout.json'}}}}, 'pod_settings': [{'securityContext': {'runAsUser': 0, 'fsGroup': 0}}], 'processors': {'signal-display-metrics-amplitude': {}, 'signal-display-metrics-basic': {}, 'signal-display-metrics-phase': {}, 'mswriter': {}}}, dependencies=[PbDependency(pb_id='pb-test-20211111-00000', kind=['pointing-offset'])], sbi_ids=[], script=ScriptConfiguration(kind='realtime', name='vis-receive', version='4.2.1'))], execution_block=ExecutionBlockConfiguration(eb_id='eb-mvp01-20200325-00001', max_length=21600.0, context={}, beams=[BeamConfiguration(beam_id='vis0', function='visibilities', search_beam_id=None, timing_beam_id=None, vlbi_beam_id=None)], channels=[ChannelConfiguration(channels_id='vis_channels', spectral_windows=[Channel(count=14880, start=0, stride=1, freq_min=269000000.0, freq_max=469000000.0, link_map=[[0, 0], [200, 1], [744, 2], [944, 3]], spectral_window_id='fsp_1_channels')])], polarisations=[PolarisationConfiguration(polarisations_id='all', corr_type=['XX', 'XY', 'YX', 'YY'])], fields=[FieldConfiguration(field_id='Polaris Australis', pointing_fqdn=None, phase_dir=PhaseDir(ra=[317.19966666666664], dec=[-88.95636111111111], reference_time='2024-08-14T03:59:33.033678+00:00', reference_frame='ICRF3')), FieldConfiguration(field_id='M83', pointing_fqdn=None, phase_dir=PhaseDir(ra=[204.2538291666666], dec=[-29.865761111111112], reference_time='2024-08-14T03:59:33.035702+00:00', reference_frame='ICRF3'))], scan_types=[EBScanType(scan_type_id='.default', beams={'vis0': EBScanTypeBeam(field_id=None, channels_id='vis_channels', polarisations_id='all')}, derive_from=None), EBScanType(scan_type_id='pointing', beams={'vis0': EBScanTypeBeam(field_id='M83', channels_id=None, polarisations_id=None)}, derive_from='.default'), EBScanType(scan_type_id='science', beams={'vis0': EBScanTypeBeam(field_id='Polaris Australis', channels_id=None, polarisations_id=None)}, derive_from='.default')]), resources={'receptors': ['SKA001'], 'receive_nodes': 1}, interface='https://schema.skao.int/ska-sdp-assignres/0.4'), mccs=None, interface='https://schema.skao.int/ska-tmc-assignresources/2.1', transaction_id=None)]\n",
      "subarray_id=1 dish=DishAllocation(receptor_ids=frozenset({'SKA001'})) sdp_config=SDPConfiguration(eb_id=None, max_length=None, scan_types=None, processing_blocks=[ProcessingBlockConfiguration(pb_id='pb-test-20211111-00000', workflow=None, parameters={'version': '0.5.0', 'num_scans': 5, 'additional_args': ['--thresh_width', '1.25'], 'kafka_topic': 'pointing_offset'}, dependencies=[PbDependency(pb_id='pb-test-20211111-00001', kind=['vis-receive'])], sbi_ids=[], script=ScriptConfiguration(kind='realtime', name='pointing-offset', version='0.5.0')), ProcessingBlockConfiguration(pb_id='pb-test-20211111-00001', workflow=None, parameters={'channels_per_port': 20, 'transport_protocol': 'udp', 'use_network_definition': True, 'extra_helm_values': {'receiver': {'options': {'reception': {'reset_time_indexing_after_each_scan': True}, 'telescope_model': {'telmodel_key': 'instrument/ska1_mid/layout/mid-layout.json'}}}}, 'pod_settings': [{'securityContext': {'runAsUser': 0, 'fsGroup': 0}}], 'processors': {'signal-display-metrics-amplitude': {}, 'signal-display-metrics-basic': {}, 'signal-display-metrics-phase': {}, 'mswriter': {}}}, dependencies=[PbDependency(pb_id='pb-test-20211111-00000', kind=['pointing-offset'])], sbi_ids=[], script=ScriptConfiguration(kind='realtime', name='vis-receive', version='4.2.1'))], execution_block=ExecutionBlockConfiguration(eb_id='eb-mvp01-20200325-00001', max_length=21600.0, context={}, beams=[BeamConfiguration(beam_id='vis0', function='visibilities', search_beam_id=None, timing_beam_id=None, vlbi_beam_id=None)], channels=[ChannelConfiguration(channels_id='vis_channels', spectral_windows=[Channel(count=14880, start=0, stride=1, freq_min=269000000.0, freq_max=469000000.0, link_map=[[0, 0], [200, 1], [744, 2], [944, 3]], spectral_window_id='fsp_1_channels')])], polarisations=[PolarisationConfiguration(polarisations_id='all', corr_type=['XX', 'XY', 'YX', 'YY'])], fields=[FieldConfiguration(field_id='Polaris Australis', pointing_fqdn=None, phase_dir=PhaseDir(ra=[317.19966666666664], dec=[-88.95636111111111], reference_time='2024-08-14T03:59:33.033678+00:00', reference_frame='ICRF3')), FieldConfiguration(field_id='M83', pointing_fqdn=None, phase_dir=PhaseDir(ra=[204.2538291666666], dec=[-29.865761111111112], reference_time='2024-08-14T03:59:33.035702+00:00', reference_frame='ICRF3'))], scan_types=[EBScanType(scan_type_id='.default', beams={'vis0': EBScanTypeBeam(field_id=None, channels_id='vis_channels', polarisations_id='all')}, derive_from=None), EBScanType(scan_type_id='pointing', beams={'vis0': EBScanTypeBeam(field_id='M83', channels_id=None, polarisations_id=None)}, derive_from='.default'), EBScanType(scan_type_id='science', beams={'vis0': EBScanTypeBeam(field_id='Polaris Australis', channels_id=None, polarisations_id=None)}, derive_from='.default')]), resources={'receptors': ['SKA001'], 'receive_nodes': 1}, interface='https://schema.skao.int/ska-sdp-assignres/0.4') mccs=None interface='https://schema.skao.int/ska-tmc-assignresources/2.1' transaction_id=None\n",
      "subarray_id=1 dish=DishAllocation(receptor_ids=frozenset({'SKA001'})) sdp_config=SDPConfiguration(eb_id=None, max_length=None, scan_types=None, processing_blocks=[ProcessingBlockConfiguration(pb_id='pb-test-20211111-00000', workflow=None, parameters={'version': '0.5.0', 'num_scans': 5, 'additional_args': ['--thresh_width', '1.25'], 'kafka_topic': 'pointing_offset'}, dependencies=[PbDependency(pb_id='pb-test-20211111-00001', kind=['vis-receive'])], sbi_ids=[], script=ScriptConfiguration(kind='realtime', name='pointing-offset', version='0.5.0')), ProcessingBlockConfiguration(pb_id='pb-test-20211111-00001', workflow=None, parameters={'channels_per_port': 20, 'transport_protocol': 'udp', 'use_network_definition': True, 'extra_helm_values': {'receiver': {'options': {'reception': {'reset_time_indexing_after_each_scan': True}, 'telescope_model': {'telmodel_key': 'instrument/ska1_mid/layout/mid-layout.json'}}}}, 'pod_settings': [{'securityContext': {'runAsUser': 0, 'fsGroup': 0}}], 'processors': {'signal-display-metrics-amplitude': {}, 'signal-display-metrics-basic': {}, 'signal-display-metrics-phase': {}, 'mswriter': {}}}, dependencies=[PbDependency(pb_id='pb-test-20211111-00000', kind=['pointing-offset'])], sbi_ids=[], script=ScriptConfiguration(kind='realtime', name='vis-receive', version='4.2.1'))], execution_block=ExecutionBlockConfiguration(eb_id='eb-mvp01-20200325-00001', max_length=21600.0, context={}, beams=[BeamConfiguration(beam_id='vis0', function='visibilities', search_beam_id=None, timing_beam_id=None, vlbi_beam_id=None)], channels=[ChannelConfiguration(channels_id='vis_channels', spectral_windows=[Channel(count=14880, start=0, stride=1, freq_min=269000000.0, freq_max=469000000.0, link_map=[[0, 0], [200, 1], [744, 2], [944, 3]], spectral_window_id='fsp_1_channels')])], polarisations=[PolarisationConfiguration(polarisations_id='all', corr_type=['XX', 'XY', 'YX', 'YY'])], fields=[FieldConfiguration(field_id='Polaris Australis', pointing_fqdn=None, phase_dir=PhaseDir(ra=[317.19966666666664], dec=[-88.95636111111111], reference_time='2024-08-14T03:59:33.033678+00:00', reference_frame='ICRF3')), FieldConfiguration(field_id='M83', pointing_fqdn=None, phase_dir=PhaseDir(ra=[204.2538291666666], dec=[-29.865761111111112], reference_time='2024-08-14T03:59:33.035702+00:00', reference_frame='ICRF3'))], scan_types=[EBScanType(scan_type_id='.default', beams={'vis0': EBScanTypeBeam(field_id=None, channels_id='vis_channels', polarisations_id='all')}, derive_from=None), EBScanType(scan_type_id='pointing', beams={'vis0': EBScanTypeBeam(field_id='M83', channels_id=None, polarisations_id=None)}, derive_from='.default'), EBScanType(scan_type_id='science', beams={'vis0': EBScanTypeBeam(field_id='Polaris Australis', channels_id=None, polarisations_id=None)}, derive_from='.default')]), resources={'receptors': ['SKA001'], 'receive_nodes': 1}, interface='https://schema.skao.int/ska-sdp-assignres/0.4') mccs=None interface='' transaction_id=None\n"
     ]
    }
   ],
   "source": [
    "print(assign_requests)\n",
    "print(assign_requests[0])\n",
    "stripped_assign_requests = assign_requests[0]\n",
    "stripped_assign_requests.interface = \"\"\n",
    "stripped_assign_requests.dish.receptor_ids = receptor_ids\n",
    "print(stripped_assign_requests)"
   ]
  },
  {
   "cell_type": "markdown",
   "metadata": {},
   "source": [
    "Now assign the resources to the subarray."
   ]
  },
  {
   "cell_type": "code",
   "execution_count": 32,
   "metadata": {},
   "outputs": [
    {
     "name": "stdout",
     "output_type": "stream",
     "text": [
      "1|2024-08-14T03:59:38.556Z|INFO|MainThread|_call_and_wait_for_transition|common.py#147||Using pub/sub to track obsState of ska_mid/tm_subarray_node/1\n",
      "1|2024-08-14T03:59:38.566Z|INFO|MainThread|_get_id_from_params_or_generate_new_id|transactions.py#172||Generated transaction ID txn-t0001-20240814-000000007\n",
      "1|2024-08-14T03:59:38.567Z|INFO|MainThread|log_entry|transactions.py#132||Transaction[txn-t0001-20240814-000000007]: Enter[AssignResources] with parameters [{}] marker[61972]\n",
      "1|2024-08-14T03:59:38.568Z|INFO|MainThread|_call_and_wait_for_transition|common.py#178||Added Transaction_id to command: <Command('ska_mid/tm_central/central_node', 'AssignResources', '{\"subarray_id\": 1, \"dish\": {\"receptor_ids\": [\"SKA001\"]}, \"sdp\": {\"processing_blocks\": [{\"pb_id\": \"pb-test-20211111-00000\", \"parameters\": {\"version\": \"0.5.0\", \"num_scans\": 5, \"additional_args\": [\"--thresh_width\", \"1.25\"], \"kafka_topic\": \"pointing_offset\"}, \"dependencies\": [{\"pb_id\": \"pb-test-20211111-00001\", \"kind\": [\"vis-receive\"]}], \"sbi_ids\": [], \"script\": {\"kind\": \"realtime\", \"name\": \"pointing-offset\", \"version\": \"0.5.0\"}}, {\"pb_id\": \"pb-test-20211111-00001\", \"parameters\": {\"channels_per_port\": 20, \"transport_protocol\": \"udp\", \"use_network_definition\": true, \"extra_helm_values\": {\"receiver\": {\"options\": {\"reception\": {\"reset_time_indexing_after_each_scan\": true}, \"telescope_model\": {\"telmodel_key\": \"instrument/ska1_mid/layout/mid-layout.json\"}}}}, \"pod_settings\": [{\"securityContext\": {\"runAsUser\": 0, \"fsGroup\": 0}}], \"processors\": {\"signal-display-metrics-amplitude\": {}, \"signal-display-metrics-basic\": {}, \"signal-display-metrics-phase\": {}, \"mswriter\": {}}}, \"dependencies\": [{\"pb_id\": \"pb-test-20211111-00000\", \"kind\": [\"pointing-offset\"]}], \"sbi_ids\": [], \"script\": {\"kind\": \"realtime\", \"name\": \"vis-receive\", \"version\": \"4.2.1\"}}], \"execution_block\": {\"eb_id\": \"eb-t0001-20240814-00002\", \"max_length\": 21600.0, \"context\": {}, \"beams\": [{\"beam_id\": \"vis0\", \"function\": \"visibilities\"}], \"channels\": [{\"channels_id\": \"vis_channels\", \"spectral_windows\": [{\"count\": 14880, \"start\": 0, \"stride\": 1, \"freq_min\": 269000000.0, \"freq_max\": 469000000.0, \"link_map\": [[0, 0], [200, 1], [744, 2], [944, 3]], \"spectral_window_id\": \"fsp_1_channels\"}]}], \"polarisations\": [{\"polarisations_id\": \"all\", \"corr_type\": [\"XX\", \"XY\", \"YX\", \"YY\"]}], \"fields\": [{\"field_id\": \"Polaris Australis\", \"phase_dir\": {\"ra\": [317.19966666666664], \"dec\": [-88.95636111111111], \"reference_time\": \"2024-08-14T03:59:33.033678+00:00\", \"reference_frame\": \"ICRF3\"}}, {\"field_id\": \"M83\", \"phase_dir\": {\"ra\": [204.2538291666666], \"dec\": [-29.865761111111112], \"reference_time\": \"2024-08-14T03:59:33.035702+00:00\", \"reference_frame\": \"ICRF3\"}}], \"scan_types\": [{\"scan_type_id\": \".default\", \"beams\": {\"vis0\": {\"channels_id\": \"vis_channels\", \"polarisations_id\": \"all\"}}}, {\"scan_type_id\": \"pointing\", \"beams\": {\"vis0\": {\"field_id\": \"M83\"}}, \"derive_from\": \".default\"}, {\"scan_type_id\": \"science\", \"beams\": {\"vis0\": {\"field_id\": \"Polaris Australis\"}}, \"derive_from\": \".default\"}]}, \"resources\": {\"receptors\": [\"SKA001\"], \"receive_nodes\": 1}, \"interface\": \"https://schema.skao.int/ska-sdp-assignres/0.4\"}, \"interface\": \"\", \"transaction_id\": \"txn-t0001-20240814-000000007\"}')>\n",
      "1|2024-08-14T03:59:38.568Z|INFO|MainThread|execute|tango_executor.py#243||Executing command: <Command('ska_mid/tm_central/central_node', 'AssignResources', '{\"subarray_id\": 1, \"dish\": {\"receptor_ids\": [\"SKA001\"]}, \"sdp\": {\"processing_blocks\": [{\"pb_id\": \"pb-test-20211111-00000\", \"parameters\": {\"version\": \"0.5.0\", \"num_scans\": 5, \"additional_args\": [\"--thresh_width\", \"1.25\"], \"kafka_topic\": \"pointing_offset\"}, \"dependencies\": [{\"pb_id\": \"pb-test-20211111-00001\", \"kind\": [\"vis-receive\"]}], \"sbi_ids\": [], \"script\": {\"kind\": \"realtime\", \"name\": \"pointing-offset\", \"version\": \"0.5.0\"}}, {\"pb_id\": \"pb-test-20211111-00001\", \"parameters\": {\"channels_per_port\": 20, \"transport_protocol\": \"udp\", \"use_network_definition\": true, \"extra_helm_values\": {\"receiver\": {\"options\": {\"reception\": {\"reset_time_indexing_after_each_scan\": true}, \"telescope_model\": {\"telmodel_key\": \"instrument/ska1_mid/layout/mid-layout.json\"}}}}, \"pod_settings\": [{\"securityContext\": {\"runAsUser\": 0, \"fsGroup\": 0}}], \"processors\": {\"signal-display-metrics-amplitude\": {}, \"signal-display-metrics-basic\": {}, \"signal-display-metrics-phase\": {}, \"mswriter\": {}}}, \"dependencies\": [{\"pb_id\": \"pb-test-20211111-00000\", \"kind\": [\"pointing-offset\"]}], \"sbi_ids\": [], \"script\": {\"kind\": \"realtime\", \"name\": \"vis-receive\", \"version\": \"4.2.1\"}}], \"execution_block\": {\"eb_id\": \"eb-t0001-20240814-00002\", \"max_length\": 21600.0, \"context\": {}, \"beams\": [{\"beam_id\": \"vis0\", \"function\": \"visibilities\"}], \"channels\": [{\"channels_id\": \"vis_channels\", \"spectral_windows\": [{\"count\": 14880, \"start\": 0, \"stride\": 1, \"freq_min\": 269000000.0, \"freq_max\": 469000000.0, \"link_map\": [[0, 0], [200, 1], [744, 2], [944, 3]], \"spectral_window_id\": \"fsp_1_channels\"}]}], \"polarisations\": [{\"polarisations_id\": \"all\", \"corr_type\": [\"XX\", \"XY\", \"YX\", \"YY\"]}], \"fields\": [{\"field_id\": \"Polaris Australis\", \"phase_dir\": {\"ra\": [317.19966666666664], \"dec\": [-88.95636111111111], \"reference_time\": \"2024-08-14T03:59:33.033678+00:00\", \"reference_frame\": \"ICRF3\"}}, {\"field_id\": \"M83\", \"phase_dir\": {\"ra\": [204.2538291666666], \"dec\": [-29.865761111111112], \"reference_time\": \"2024-08-14T03:59:33.035702+00:00\", \"reference_frame\": \"ICRF3\"}}], \"scan_types\": [{\"scan_type_id\": \".default\", \"beams\": {\"vis0\": {\"channels_id\": \"vis_channels\", \"polarisations_id\": \"all\"}}}, {\"scan_type_id\": \"pointing\", \"beams\": {\"vis0\": {\"field_id\": \"M83\"}}, \"derive_from\": \".default\"}, {\"scan_type_id\": \"science\", \"beams\": {\"vis0\": {\"field_id\": \"Polaris Australis\"}}, \"derive_from\": \".default\"}]}, \"resources\": {\"receptors\": [\"SKA001\"], \"receive_nodes\": 1}, \"interface\": \"https://schema.skao.int/ska-sdp-assignres/0.4\"}, \"interface\": \"\", \"transaction_id\": \"txn-t0001-20240814-000000007\"}')>\n",
      "1|2024-08-14T03:59:38.588Z|INFO|MainThread|wait_for_transition|common.py#338||Waiting for obsState to transition to ObsState.RESOURCING\n",
      "1|2024-08-14T03:59:38.589Z|INFO|MainThread|read_event|tango_executor.py#184||timeout 1000 to wait for read an event from queue\n",
      "1|2024-08-14T03:59:38.619Z|INFO|MainThread|wait_for_transition|common.py#354||obsState reached target state ObsState.RESOURCING\n",
      "1|2024-08-14T03:59:38.620Z|INFO|MainThread|wait_for_transition|common.py#338||Waiting for obsState to transition to ObsState.IDLE\n",
      "1|2024-08-14T03:59:38.620Z|INFO|MainThread|read_event|tango_executor.py#184||timeout 1000 to wait for read an event from queue\n",
      "1|2024-08-14T04:00:28.316Z|INFO|MainThread|wait_for_transition|common.py#354||obsState reached target state ObsState.IDLE\n",
      "1|2024-08-14T04:00:28.317Z|INFO|MainThread|log_exit|transactions.py#150||Transaction[txn-t0001-20240814-000000007]: Exit[AssignResources] marker[61972]\n"
     ]
    }
   ],
   "source": [
    "sub.assign_from_cdm(stripped_assign_requests, timeout=1000)"
   ]
  },
  {
   "cell_type": "markdown",
   "metadata": {},
   "source": [
    "Check that the visibility pod spins up correctly, with the signal displays."
   ]
  },
  {
   "cell_type": "code",
   "execution_count": 36,
   "metadata": {},
   "outputs": [
    {
     "name": "stdout",
     "output_type": "stream",
     "text": [
      "proc-pb-test-20211111-00001-vis-receive-00-0                   6/6     Running   1 (103s ago)   3m2s\n"
     ]
    }
   ],
   "source": [
    "!kubectl -n $namespace-sdp get pods | grep vis-receive"
   ]
  },
  {
   "cell_type": "markdown",
   "metadata": {},
   "source": [
    "<style>\n",
    "    .alert {\n",
    "        background-color: #1a1d21;\n",
    "        border-style: dotted;\n",
    "        border-color: #f0493e;\n",
    "        color: #d1d2d3;\n",
    "    }\n",
    "</style>\n",
    "<div class=\"alert\">\n",
    "    <h3>(BITE STEP) Starting LSTV Replay</h3>\n",
    "    If using BITE for data stream generation, the additional BITE notebook can be run at this point.\n",
    "</div>\n",
    "</body>"
   ]
  },
  {
   "cell_type": "markdown",
   "metadata": {},
   "source": [
    "### 3.3 Run the Scan(s)"
   ]
  },
  {
   "cell_type": "markdown",
   "metadata": {},
   "source": [
    "#### For single Scan"
   ]
  },
  {
   "cell_type": "markdown",
   "metadata": {},
   "source": [
    "For a single scan, we load in the entire scan config and run via the subarray."
   ]
  },
  {
   "cell_type": "code",
   "execution_count": 40,
   "metadata": {},
   "outputs": [
    {
     "name": "stdout",
     "output_type": "stream",
     "text": [
      "1|2024-08-14T04:18:26.098Z|INFO|MainThread|_call_and_wait_for_transition|common.py#147||Using pub/sub to track obsState of ska_mid/tm_subarray_node/1\n",
      "1|2024-08-14T04:18:26.099Z|INFO|MainThread|execute|tango_executor.py#243||Executing command: <Command('ska_mid/tm_subarray_node/1', 'Scan', '{\"interface\": \"https://schema.skao.int/ska-tmc-scan/2.1\", \"scan_id\": 3}')>\n",
      "1|2024-08-14T04:18:26.110Z|INFO|MainThread|wait_for_transition|common.py#338||Waiting for obsState to transition to ObsState.SCANNING\n",
      "1|2024-08-14T04:18:26.110Z|INFO|MainThread|read_event|tango_executor.py#184||timeout 65.0 to wait for read an event from queue\n",
      "1|2024-08-14T04:18:26.116Z|INFO|MainThread|wait_for_transition|common.py#354||obsState reached target state ObsState.SCANNING\n",
      "1|2024-08-14T04:18:26.116Z|INFO|MainThread|wait_for_transition|common.py#338||Waiting for obsState to transition to ObsState.READY\n",
      "1|2024-08-14T04:18:26.116Z|INFO|MainThread|read_event|tango_executor.py#184||timeout 65.0 to wait for read an event from queue\n",
      "1|2024-08-14T04:19:26.618Z|INFO|MainThread|wait_for_transition|common.py#354||obsState reached target state ObsState.READY\n"
     ]
    }
   ],
   "source": [
    "sub.scan()"
   ]
  },
  {
   "cell_type": "markdown",
   "metadata": {},
   "source": [
    "#### For Multiple Scans with offset"
   ]
  },
  {
   "cell_type": "markdown",
   "metadata": {},
   "source": [
    "For multiple scans, we have to offset and set up prior to each. To do this, we first create a list of configurations from our scheduling block before iterating over each and sending them."
   ]
  },
  {
   "cell_type": "code",
   "execution_count": 38,
   "metadata": {},
   "outputs": [
    {
     "name": "stdout",
     "output_type": "stream",
     "text": [
      "{'scan_definitions': {'calibrator scan': ScanDefinition(scan_definition_id='calibrator scan', scan_duration=datetime.timedelta(seconds=60), target_ref='M83', target_beam_configuration_refs=[], dish_configuration_ref='dish config 123', scan_type_ref='pointing', csp_configuration_ref='csp config 123', pointing_correction=PointingCorrection.MAINTAIN), 'science scan': ScanDefinition(scan_definition_id='science scan', scan_duration=datetime.timedelta(seconds=60), target_ref='Polaris Australis', target_beam_configuration_refs=[], dish_configuration_ref='dish config 123', scan_type_ref='science', csp_configuration_ref='csp config 123', pointing_correction=PointingCorrection.MAINTAIN)}, 'targets': {'Polaris Australis': Target(target_id='Polaris Australis', pointing_pattern=PointingPattern(active=PointingKind.FIVE_POINT, parameters=[FivePointParameters(kind=PointingKind.FIVE_POINT, offset_arcsec=5.0), RasterParameters(kind=PointingKind.RASTER, row_length_arcsec=1.23, row_offset_arcsec=4.56, n_rows=2, pa=7.89, unidirectional=True), StarRasterParameters(kind=PointingKind.STAR_RASTER, row_length_arcsec=1.23, n_rows=2, row_offset_angle=4.56, unidirectional=True)]), reference_coordinate=EquatorialCoordinates(ra=317.19966666666664, dec=-88.95636111111111, unit=('deg', 'deg'), frame=EquatorialCoordinatesReferenceFrame.ICRS), radial_velocity=RadialVelocity(quantity=<Quantity 0. km / s>, definition=RadialVelocityDefinition.RADIO, reference_frame=RadialVelocityReferenceFrame.LSRK, redshift=0.0)), 'M83': Target(target_id='M83', pointing_pattern=PointingPattern(active=PointingKind.SINGLE_POINT, parameters=[SinglePointParameters(kind=PointingKind.SINGLE_POINT, offset_x_arcsec=0.0, offset_y_arcsec=0.0)]), reference_coordinate=EquatorialCoordinates(ra=204.25382916666663, dec=-29.865761111111112, unit=('deg', 'deg'), frame=EquatorialCoordinatesReferenceFrame.ICRS), radial_velocity=RadialVelocity(quantity=<Quantity 0. km / s>, definition=RadialVelocityDefinition.RADIO, reference_frame=RadialVelocityReferenceFrame.LSRK, redshift=0.0))}, 'csp_configurations': {'csp config 123': CSPConfiguration(config_id='csp config 123', subarray=SubarrayConfiguration(subarray_name='science period 23'), common=CommonConfiguration(subarray_id=1, band_5_tuning=[]), cbf=CBFConfiguration(fsps=[FSPConfiguration(fsp_id=1, function_mode=<FSPFunctionMode.CORR: 'CORR'>, frequency_slice_id=1, integration_factor=1, zoom_factor=0, channel_averaging_map=[(0, 2), (744, 0)], output_link_map=[(0, 0), (200, 1)], channel_offset=0, zoom_window_tuning=None)], vlbi=None), lowcbf=None, pst=None, pss=None)}, 'dish_configurations': {'dish config 123': DishConfiguration(dish_configuration_id='dish config 123', receiver_band=<ReceiverBand.BAND_1: '1'>)}}\n",
      "------------------\n",
      "Scan for: calibrator scan\n",
      "data\n",
      "{'scan_definitions': {'calibrator scan': ScanDefinition(scan_definition_id='calibrator scan', scan_duration=datetime.timedelta(seconds=60), target_ref='M83', target_beam_configuration_refs=[], dish_configuration_ref='dish config 123', scan_type_ref='pointing', csp_configuration_ref='csp config 123', pointing_correction=PointingCorrection.MAINTAIN), 'science scan': ScanDefinition(scan_definition_id='science scan', scan_duration=datetime.timedelta(seconds=60), target_ref='Polaris Australis', target_beam_configuration_refs=[], dish_configuration_ref='dish config 123', scan_type_ref='science', csp_configuration_ref='csp config 123', pointing_correction=PointingCorrection.MAINTAIN)}, 'targets': {'Polaris Australis': Target(target_id='Polaris Australis', pointing_pattern=PointingPattern(active=PointingKind.FIVE_POINT, parameters=[FivePointParameters(kind=PointingKind.FIVE_POINT, offset_arcsec=5.0), RasterParameters(kind=PointingKind.RASTER, row_length_arcsec=1.23, row_offset_arcsec=4.56, n_rows=2, pa=7.89, unidirectional=True), StarRasterParameters(kind=PointingKind.STAR_RASTER, row_length_arcsec=1.23, n_rows=2, row_offset_angle=4.56, unidirectional=True)]), reference_coordinate=EquatorialCoordinates(ra=317.19966666666664, dec=-88.95636111111111, unit=('deg', 'deg'), frame=EquatorialCoordinatesReferenceFrame.ICRS), radial_velocity=RadialVelocity(quantity=<Quantity 0. km / s>, definition=RadialVelocityDefinition.RADIO, reference_frame=RadialVelocityReferenceFrame.LSRK, redshift=0.0)), 'M83': Target(target_id='M83', pointing_pattern=PointingPattern(active=PointingKind.SINGLE_POINT, parameters=[SinglePointParameters(kind=PointingKind.SINGLE_POINT, offset_x_arcsec=0.0, offset_y_arcsec=0.0)]), reference_coordinate=EquatorialCoordinates(ra=204.25382916666663, dec=-29.865761111111112, unit=('deg', 'deg'), frame=EquatorialCoordinatesReferenceFrame.ICRS), radial_velocity=RadialVelocity(quantity=<Quantity 0. km / s>, definition=RadialVelocityDefinition.RADIO, reference_frame=RadialVelocityReferenceFrame.LSRK, redshift=0.0))}, 'csp_configurations': {'csp config 123': CSPConfiguration(config_id='csp config 123', subarray=SubarrayConfiguration(subarray_name='science period 23'), common=CommonConfiguration(subarray_id=1, band_5_tuning=[]), cbf=CBFConfiguration(fsps=[FSPConfiguration(fsp_id=1, function_mode=<FSPFunctionMode.CORR: 'CORR'>, frequency_slice_id=1, integration_factor=1, zoom_factor=0, channel_averaging_map=[(0, 2), (744, 0)], output_link_map=[(0, 0), (200, 1)], channel_offset=0, zoom_window_tuning=None)], vlbi=None), lowcbf=None, pst=None, pss=None)}, 'dish_configurations': {'dish config 123': DishConfiguration(dish_configuration_id='dish config 123', receiver_band=<ReceiverBand.BAND_1: '1'>)}}\n",
      "target ref\n",
      "M83\n",
      "------------------\n",
      "Scan for: science scan\n",
      "data\n",
      "{'scan_definitions': {'calibrator scan': ScanDefinition(scan_definition_id='calibrator scan', scan_duration=datetime.timedelta(seconds=60), target_ref='M83', target_beam_configuration_refs=[], dish_configuration_ref='dish config 123', scan_type_ref='pointing', csp_configuration_ref='csp config 123', pointing_correction=PointingCorrection.MAINTAIN), 'science scan': ScanDefinition(scan_definition_id='science scan', scan_duration=datetime.timedelta(seconds=60), target_ref='Polaris Australis', target_beam_configuration_refs=[], dish_configuration_ref='dish config 123', scan_type_ref='science', csp_configuration_ref='csp config 123', pointing_correction=PointingCorrection.MAINTAIN)}, 'targets': {'Polaris Australis': Target(target_id='Polaris Australis', pointing_pattern=PointingPattern(active=PointingKind.FIVE_POINT, parameters=[FivePointParameters(kind=PointingKind.FIVE_POINT, offset_arcsec=5.0), RasterParameters(kind=PointingKind.RASTER, row_length_arcsec=1.23, row_offset_arcsec=4.56, n_rows=2, pa=7.89, unidirectional=True), StarRasterParameters(kind=PointingKind.STAR_RASTER, row_length_arcsec=1.23, n_rows=2, row_offset_angle=4.56, unidirectional=True)]), reference_coordinate=EquatorialCoordinates(ra=317.19966666666664, dec=-88.95636111111111, unit=('deg', 'deg'), frame=EquatorialCoordinatesReferenceFrame.ICRS), radial_velocity=RadialVelocity(quantity=<Quantity 0. km / s>, definition=RadialVelocityDefinition.RADIO, reference_frame=RadialVelocityReferenceFrame.LSRK, redshift=0.0)), 'M83': Target(target_id='M83', pointing_pattern=PointingPattern(active=PointingKind.SINGLE_POINT, parameters=[SinglePointParameters(kind=PointingKind.SINGLE_POINT, offset_x_arcsec=0.0, offset_y_arcsec=0.0)]), reference_coordinate=EquatorialCoordinates(ra=204.25382916666663, dec=-29.865761111111112, unit=('deg', 'deg'), frame=EquatorialCoordinatesReferenceFrame.ICRS), radial_velocity=RadialVelocity(quantity=<Quantity 0. km / s>, definition=RadialVelocityDefinition.RADIO, reference_frame=RadialVelocityReferenceFrame.LSRK, redshift=0.0))}, 'csp_configurations': {'csp config 123': CSPConfiguration(config_id='csp config 123', subarray=SubarrayConfiguration(subarray_name='science period 23'), common=CommonConfiguration(subarray_id=1, band_5_tuning=[]), cbf=CBFConfiguration(fsps=[FSPConfiguration(fsp_id=1, function_mode=<FSPFunctionMode.CORR: 'CORR'>, frequency_slice_id=1, integration_factor=1, zoom_factor=0, channel_averaging_map=[(0, 2), (744, 0)], output_link_map=[(0, 0), (200, 1)], channel_offset=0, zoom_window_tuning=None)], vlbi=None), lowcbf=None, pst=None, pss=None)}, 'dish_configurations': {'dish config 123': DishConfiguration(dish_configuration_id='dish config 123', receiver_band=<ReceiverBand.BAND_1: '1'>)}}\n",
      "target ref\n",
      "Polaris Australis\n"
     ]
    }
   ],
   "source": [
    "scan_def_to_config_req_mapping = pdm_transforms.create_cdm_configure_request_from_scheduling_block(\n",
    "    sb\n",
    ")"
   ]
  },
  {
   "cell_type": "code",
   "execution_count": 39,
   "metadata": {},
   "outputs": [
    {
     "name": "stdout",
     "output_type": "stream",
     "text": [
      "[ConfigureRequest(pointing=PointingConfiguration(target=Target(ra=317.19966666666664, dec=-88.95636111111111, target_name='Polaris Australis', reference_frame='icrs', unit=('deg', 'deg'), ca_offset_arcsec=0.0, ie_offset_arcsec=0.0), correction=None), dish=DishConfiguration(receiver_band=<ReceiverBand.BAND_1: '1'>), sdp=SDPConfiguration(interface='https://schema.skao.int/ska-sdp-configure/0.4', scan_type='science'), csp=CSPConfiguration(interface='https://schema.skao.int/ska-csp-configure/2.0', subarray=SubarrayConfiguration(subarray_name='science period 23'), common=CommonConfiguration(config_id='csp config 123', frequency_band=<ReceiverBand.BAND_1: '1'>, subarray_id=1, band_5_tuning=None), cbf_config=CBFConfiguration(fsp_configs=[FSPConfiguration(fsp_id=1, function_mode=<FSPFunctionMode.CORR: 'CORR'>, frequency_slice_id=1, integration_factor=1, zoom_factor=0, channel_averaging_map=[(0, 2), (744, 0)], output_link_map=[(0, 0), (200, 1)], channel_offset=0, zoom_window_tuning=None)], vlbi_config=None), pst_config=None, pss_config=None, lowcbf=None), mccs=None, tmc=TMCConfiguration(scan_duration=datetime.timedelta(seconds=60), partial_configuration=False), interface='https://schema.skao.int/ska-tmc-configure/2.3', transaction_id=None), ConfigureRequest(pointing=PointingConfiguration(target=Target(target_name='', ca_offset_arcsect=0.0, ie_offset_arcsec=5.0), correction=None), dish=None, sdp=None, csp=None, mccs=None, tmc=TMCConfiguration(scan_duration=None, partial_configuration=True), interface='https://schema.skao.int/ska-tmc-configure/2.3', transaction_id=None), ConfigureRequest(pointing=PointingConfiguration(target=Target(target_name='', ca_offset_arcsect=0.0, ie_offset_arcsec=-5.0), correction=None), dish=None, sdp=None, csp=None, mccs=None, tmc=TMCConfiguration(scan_duration=None, partial_configuration=True), interface='https://schema.skao.int/ska-tmc-configure/2.3', transaction_id=None), ConfigureRequest(pointing=PointingConfiguration(target=Target(target_name='', ca_offset_arcsect=5.0, ie_offset_arcsec=0.0), correction=None), dish=None, sdp=None, csp=None, mccs=None, tmc=TMCConfiguration(scan_duration=None, partial_configuration=True), interface='https://schema.skao.int/ska-tmc-configure/2.3', transaction_id=None), ConfigureRequest(pointing=PointingConfiguration(target=Target(target_name='', ca_offset_arcsect=-5.0, ie_offset_arcsec=0.0), correction=None), dish=None, sdp=None, csp=None, mccs=None, tmc=TMCConfiguration(scan_duration=None, partial_configuration=True), interface='https://schema.skao.int/ska-tmc-configure/2.3', transaction_id=None)]\n",
      "1|2024-08-14T04:03:49.630Z|INFO|MainThread|_call_and_wait_for_transition|common.py#147||Using pub/sub to track obsState of ska_mid/tm_subarray_node/1\n",
      "1|2024-08-14T04:03:49.633Z|INFO|MainThread|_get_id_from_params_or_generate_new_id|transactions.py#172||Generated transaction ID txn-t0001-20240814-000000008\n",
      "1|2024-08-14T04:03:49.634Z|INFO|MainThread|log_entry|transactions.py#132||Transaction[txn-t0001-20240814-000000008]: Enter[Configure] with parameters [{}] marker[05844]\n",
      "1|2024-08-14T04:03:49.634Z|INFO|MainThread|_call_and_wait_for_transition|common.py#178||Added Transaction_id to command: <Command('ska_mid/tm_subarray_node/1', 'Configure', '{\"pointing\": {\"target\": {\"ra\": \"21:08:47.92\", \"dec\": \"-88:57:22.9\", \"reference_frame\": \"ICRS\", \"target_name\": \"Polaris Australis\"}}, \"dish\": {\"receiver_band\": \"1\"}, \"sdp\": {\"interface\": \"https://schema.skao.int/ska-sdp-configure/0.4\", \"scan_type\": \"science\"}, \"csp\": {\"interface\": \"https://schema.skao.int/ska-csp-configure/2.0\", \"subarray\": {\"subarray_name\": \"science period 23\"}, \"common\": {\"config_id\": \"csp config 123\", \"frequency_band\": \"1\", \"subarray_id\": 1}, \"cbf\": {\"fsp\": [{\"fsp_id\": 1, \"function_mode\": \"CORR\", \"frequency_slice_id\": 1, \"integration_factor\": 1, \"zoom_factor\": 0, \"channel_averaging_map\": [[0, 2], [744, 0]], \"output_link_map\": [[0, 0], [200, 1]], \"channel_offset\": 0}]}}, \"tmc\": {\"scan_duration\": 60.0}, \"interface\": \"https://schema.skao.int/ska-tmc-configure/2.3\", \"transaction_id\": \"txn-t0001-20240814-000000008\"}')>\n",
      "1|2024-08-14T04:03:49.635Z|INFO|MainThread|execute|tango_executor.py#243||Executing command: <Command('ska_mid/tm_subarray_node/1', 'Configure', '{\"pointing\": {\"target\": {\"ra\": \"21:08:47.92\", \"dec\": \"-88:57:22.9\", \"reference_frame\": \"ICRS\", \"target_name\": \"Polaris Australis\"}}, \"dish\": {\"receiver_band\": \"1\"}, \"sdp\": {\"interface\": \"https://schema.skao.int/ska-sdp-configure/0.4\", \"scan_type\": \"science\"}, \"csp\": {\"interface\": \"https://schema.skao.int/ska-csp-configure/2.0\", \"subarray\": {\"subarray_name\": \"science period 23\"}, \"common\": {\"config_id\": \"csp config 123\", \"frequency_band\": \"1\", \"subarray_id\": 1}, \"cbf\": {\"fsp\": [{\"fsp_id\": 1, \"function_mode\": \"CORR\", \"frequency_slice_id\": 1, \"integration_factor\": 1, \"zoom_factor\": 0, \"channel_averaging_map\": [[0, 2], [744, 0]], \"output_link_map\": [[0, 0], [200, 1]], \"channel_offset\": 0}]}}, \"tmc\": {\"scan_duration\": 60.0}, \"interface\": \"https://schema.skao.int/ska-tmc-configure/2.3\", \"transaction_id\": \"txn-t0001-20240814-000000008\"}')>\n",
      "1|2024-08-14T04:03:49.672Z|INFO|MainThread|wait_for_transition|common.py#338||Waiting for obsState to transition to ObsState.CONFIGURING\n",
      "1|2024-08-14T04:03:49.672Z|INFO|MainThread|read_event|tango_executor.py#184||timeout 500 to wait for read an event from queue\n",
      "1|2024-08-14T04:03:49.716Z|INFO|MainThread|wait_for_transition|common.py#354||obsState reached target state ObsState.CONFIGURING\n",
      "1|2024-08-14T04:03:49.716Z|INFO|MainThread|wait_for_transition|common.py#338||Waiting for obsState to transition to ObsState.READY\n",
      "1|2024-08-14T04:03:49.717Z|INFO|MainThread|read_event|tango_executor.py#184||timeout 500 to wait for read an event from queue\n",
      "1|2024-08-14T04:04:02.316Z|INFO|MainThread|wait_for_transition|common.py#354||obsState reached target state ObsState.READY\n",
      "1|2024-08-14T04:04:02.316Z|INFO|MainThread|log_exit|transactions.py#150||Transaction[txn-t0001-20240814-000000008]: Exit[Configure] marker[05844]\n",
      "1|2024-08-14T04:04:07.332Z|INFO|MainThread|_call_and_wait_for_transition|common.py#147||Using pub/sub to track obsState of ska_mid/tm_subarray_node/1\n",
      "1|2024-08-14T04:04:07.332Z|INFO|MainThread|execute|tango_executor.py#243||Executing command: <Command('ska_mid/tm_subarray_node/1', 'Scan', '{\"interface\": \"https://schema.skao.int/ska-tmc-scan/2.1\", \"scan_id\": 2}')>\n",
      "1|2024-08-14T04:04:07.343Z|INFO|MainThread|wait_for_transition|common.py#338||Waiting for obsState to transition to ObsState.SCANNING\n",
      "1|2024-08-14T04:04:07.344Z|INFO|MainThread|read_event|tango_executor.py#184||timeout 65.0 to wait for read an event from queue\n",
      "1|2024-08-14T04:04:07.416Z|INFO|MainThread|wait_for_transition|common.py#354||obsState reached target state ObsState.SCANNING\n",
      "1|2024-08-14T04:04:07.416Z|INFO|MainThread|wait_for_transition|common.py#338||Waiting for obsState to transition to ObsState.READY\n",
      "1|2024-08-14T04:04:07.417Z|INFO|MainThread|read_event|tango_executor.py#184||timeout 65.0 to wait for read an event from queue\n",
      "1|2024-08-14T04:05:08.816Z|INFO|MainThread|wait_for_transition|common.py#354||obsState reached target state ObsState.READY\n"
     ]
    }
   ],
   "source": [
    "config_req = scan_def_to_config_req_mapping[\"science scan\"]\n",
    "print(config_req)\n",
    "sub.configure_from_cdm(config_req[0], timeout=500)\n",
    "sleep(5)\n",
    "sub.scan()"
   ]
  },
  {
   "cell_type": "code",
   "execution_count": null,
   "metadata": {},
   "outputs": [],
   "source": [
    "print(\"...\")\n",
    "print(scan_def_to_config_req_mapping)\n",
    "print(\"...\")\n",
    "for scan_def_id in sb.scan_sequence:\n",
    "    config_req = scan_def_to_config_req_mapping[scan_def_id]\n",
    "    print(config_req)\n",
    "    print(\"--------------\")\n",
    "    for request in config_req:\n",
    "        sub.configure_from_cdm(request, timeout=500)\n",
    "        sleep(2)\n",
    "        sub.scan()"
   ]
  },
  {
   "cell_type": "markdown",
   "metadata": {},
   "source": [
    "## 4 Cleanup"
   ]
  },
  {
   "cell_type": "markdown",
   "metadata": {},
   "source": [
    "<style>\n",
    "    .alert {\n",
    "        background-color: #1a1d21;\n",
    "        border-style: dotted;\n",
    "        border-color: #f0493e;\n",
    "        color: #d1d2d3;\n",
    "    }\n",
    "</style>\n",
    "<div class=\"alert\">\n",
    "    <h3>(BITE STEP) Stopping LSTV Replay</h3>\n",
    "    Now with the initial (or only) scan done, if using BITE, run step 5 in the BITE notebook to stop the LSTV Replay.\n",
    "</div>\n",
    "</body>"
   ]
  },
  {
   "cell_type": "markdown",
   "metadata": {},
   "source": [
    "Once the scans are done, clear out the configuration from the subarray by sending the END command, followed by releasing the resources it used:"
   ]
  },
  {
   "cell_type": "code",
   "execution_count": null,
   "metadata": {},
   "outputs": [],
   "source": [
    "sub.end()\n",
    "sleep(10)\n",
    "sub.release()"
   ]
  },
  {
   "cell_type": "markdown",
   "metadata": {},
   "source": [
    "The telescope can now be turned off."
   ]
  },
  {
   "cell_type": "code",
   "execution_count": null,
   "metadata": {},
   "outputs": [],
   "source": [
    "tel.off()"
   ]
  }
 ],
 "metadata": {
  "kernelspec": {
   "display_name": "Python 3",
   "language": "python",
   "name": "python3"
  },
  "language_info": {
   "codemirror_mode": {
    "name": "ipython",
    "version": 3
   },
   "file_extension": ".py",
   "mimetype": "text/x-python",
   "name": "python",
   "nbconvert_exporter": "python",
   "pygments_lexer": "ipython3",
   "version": "3.10.14"
  }
 },
 "nbformat": 4,
 "nbformat_minor": 2
}
