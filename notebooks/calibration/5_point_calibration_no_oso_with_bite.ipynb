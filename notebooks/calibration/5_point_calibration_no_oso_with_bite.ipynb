{
 "cells": [
  {
   "cell_type": "markdown",
   "metadata": {},
   "source": [
    "# Running a 5-Point Calibration Scan Without OSO Using BITE"
   ]
  },
  {
   "cell_type": "markdown",
   "metadata": {},
   "source": [
    "This notebook adapts the [Five Point Calibration Scan Controls](https://gitlab.com/ska-telescope/ska-jupyter-scripting/-/blob/main/notebooks/observing/MID_five_point_calibration_scan_controls.ipynb?ref_type=heads) notebook to work with PSI. Running this notebook requires a PSI namespace to be spun up with the CI argument `TMC_ENABLED` set to `true`."
   ]
  },
  {
   "cell_type": "markdown",
   "metadata": {},
   "source": [
    "## 1 Setup"
   ]
  },
  {
   "cell_type": "markdown",
   "metadata": {},
   "source": [
    "### 1.1 Environment Setup"
   ]
  },
  {
   "cell_type": "markdown",
   "metadata": {},
   "source": [
    "Start by importing all the libraries we'll be using for this notebook."
   ]
  },
  {
   "cell_type": "code",
   "execution_count": 1,
   "metadata": {},
   "outputs": [],
   "source": [
    "import json\n",
    "import os\n",
    "import random\n",
    "from datetime import date\n",
    "from time import sleep\n",
    "\n",
    "from tango import DevFailed, DeviceProxy"
   ]
  },
  {
   "cell_type": "markdown",
   "metadata": {},
   "source": [
    "Until notebook clean up is merged need to use this for waiting for state"
   ]
  },
  {
   "cell_type": "code",
   "execution_count": 2,
   "metadata": {},
   "outputs": [],
   "source": [
    "spinner = [\"⣾\", \"⣽\", \"⣻\", \"⢿\", \"⡿\", \"⣟\", \"⣯\", \"⣷\"]\n",
    "\n",
    "\n",
    "def wait_for_state(device: DeviceProxy, desired_state, break_on_error=True) -> None:\n",
    "    \"\"\"Poll a tango device until either the given observation state is reached, or it throws an error.\n",
    "    Arguments:\n",
    "    device -- Tango Device to check\n",
    "    desired_state -- The state which to break upon getting (number or state)\n",
    "    break_on_error -- If set to False, will keeping running when getting an error status.\n",
    "    \"\"\"\n",
    "    spinL = 0\n",
    "    poll = 1\n",
    "    while device.obsState != desired_state:\n",
    "        if spinL < len(spinner) - 1:\n",
    "            spinL += 1\n",
    "        else:\n",
    "            spinL = 0\n",
    "        sleep(0.5)\n",
    "        print(\n",
    "            \"\\r\",\n",
    "            f\"{spinner[spinL]} Poll# {poll}: Current state is {device.obsState.name}, waiting for {desired_state}...\",\n",
    "            end=\"\",\n",
    "        )\n",
    "        if device.obsState == 9 and break_on_error:\n",
    "            break\n",
    "        poll += 1\n",
    "    print(f\"\\nFinished with: {device.obsState.name}\")"
   ]
  },
  {
   "cell_type": "markdown",
   "metadata": {},
   "source": [
    "### 1.2 Set Variables"
   ]
  },
  {
   "cell_type": "markdown",
   "metadata": {},
   "source": [
    "First, grab the namespace launched from the pipeline:"
   ]
  },
  {
   "cell_type": "code",
   "execution_count": 3,
   "metadata": {},
   "outputs": [
    {
     "name": "stdout",
     "output_type": "stream",
     "text": [
      "ci-ska-mid-psi-1365379550-alexschell                  Active   3m29s\n",
      "ci-ska-mid-psi-1365379550-alexschell-sdp              Active   4m11s\n"
     ]
    }
   ],
   "source": [
    "!kubectl get ns | grep ska-mid-psi"
   ]
  },
  {
   "cell_type": "markdown",
   "metadata": {},
   "source": [
    "And load it into the variables for the notebook:"
   ]
  },
  {
   "cell_type": "code",
   "execution_count": 4,
   "metadata": {},
   "outputs": [],
   "source": [
    "namespace = \"ci-ska-mid-psi-1365379550-alexschell\"  # set to desired NS\n",
    "simulation_mode = 0  # set to 1 to run in sim mode\n",
    "target_boards_list = [2]  # assign boards\n",
    "delay_model_filename = \"delay_model.json\"  # delay model file to use\n",
    "test_id = \"talon2 basic gaussian noise\"  # Test to send config from\n",
    "server = \"ska-sdp-kafka.\" + namespace + \".svc.cluster.local:9092\""
   ]
  },
  {
   "cell_type": "markdown",
   "metadata": {},
   "source": [
    "Next, we load all the other vars the notebook will use. These should not need to be changed for this run."
   ]
  },
  {
   "cell_type": "code",
   "execution_count": 5,
   "metadata": {},
   "outputs": [],
   "source": [
    "# Fully Qualified Domain Names for the devices to set up proxies\n",
    "CSP_CONTROLLER_FQDN = \"mid-csp/control/0\"\n",
    "CSP_SUBARRAY_FQDN = \"mid-csp/subarray/01\"\n",
    "\n",
    "CENTRAL_NODE_FQDN = \"ska_mid/tm_central/central_node\"\n",
    "LEAF_NODE_FQDN = \"ska_mid/tm_leaf_node/csp_master\"\n",
    "LEAF_NODE_SUBARRAY_FQDN = \"ska_mid/tm_leaf_node/csp_subarray01\"\n",
    "TMC_SUBARRAY_FQDN = \"ska_mid/tm_subarray_node/1\"\n",
    "\n",
    "CBF_CONTROLLER_FQDN = \"mid_csp_cbf/sub_elt/controller\"\n",
    "CBF_SUBARRAY_FQDN = \"mid_csp_cbf/sub_elt/subarray_01\"\n",
    "\n",
    "BITE_FQDN = \"mid_csp_cbf/ec/bite\"\n",
    "DEPLOYER_FQDN = \"mid_csp_cbf/ec/deployer\"\n",
    "\n",
    "DELAY_MODEL_FQDN = \"ska_mid/tm_leaf_node/csp_subarray_01\"\n",
    "\n",
    "# Tango host environment variable\n",
    "TANGO_HOST = \"databaseds-tango-base.\" + namespace + \".svc.cluster.local:10000\"\n",
    "\n",
    "# Parent directory to use to grab config files.\n",
    "DATA_DIR = os.path.join(os.path.dirname(os.path.dirname(os.getcwd())), \"data\")\n",
    "# Config file directories\n",
    "COMMON_CONFIG = os.path.join(DATA_DIR, \"mid_telescope/cbf\")\n",
    "CSP_CONFIG = os.path.join(DATA_DIR, \"mid_telescope/csp\")\n",
    "TMC_CONFIG = os.path.join(DATA_DIR, \"mid_telescope/tmc\")\n",
    "HW_CONFIG = os.path.join(COMMON_CONFIG, \"hw_config\")\n",
    "SLIM_CONFIG = os.path.join(COMMON_CONFIG, \"slim_config\")\n",
    "CBF_INPUT_DIR = os.path.join(COMMON_CONFIG, \"cbf_input_data\")\n",
    "# For mapping the talon boards to receptor\n",
    "RECEPTOR_MAP = [\"SKA001\", \"SKA036\", \"SKA063\", \"SKA100\"]"
   ]
  },
  {
   "cell_type": "markdown",
   "metadata": {},
   "source": [
    "Next, set the environment arg for TANGO HOST:"
   ]
  },
  {
   "cell_type": "code",
   "execution_count": 6,
   "metadata": {},
   "outputs": [
    {
     "name": "stdout",
     "output_type": "stream",
     "text": [
      "Will be using HOST:  databaseds-tango-base.ci-ska-mid-psi-1365379550-alexschell.svc.cluster.local:10000\n"
     ]
    }
   ],
   "source": [
    "print(\"Will be using HOST: \", TANGO_HOST)\n",
    "os.environ[\"TANGO_HOST\"] = TANGO_HOST"
   ]
  },
  {
   "cell_type": "markdown",
   "metadata": {},
   "source": [
    "With all the file paths defined we can load in the JSON files and ensure they exist."
   ]
  },
  {
   "cell_type": "code",
   "execution_count": 7,
   "metadata": {},
   "outputs": [
    {
     "name": "stdout",
     "output_type": "stream",
     "text": [
      "Getting files...\n",
      "/home/al097049_p/SKAcode/ska-mid-jupyter-notebooks/data/mid_telescope/cbf/sys_params/initial_system_param.json exists: ✔️\n",
      "/home/al097049_p/SKAcode/ska-mid-jupyter-notebooks/data/mid_telescope/tmc/assign_resources.json exists: ✔️\n",
      "/home/al097049_p/SKAcode/ska-mid-jupyter-notebooks/data/mid_telescope/csp/assign_resources.json exists: ✔️\n",
      "/home/al097049_p/SKAcode/ska-mid-jupyter-notebooks/data/mid_telescope/csp/assign_resources.json exists: ✔️\n",
      "/home/al097049_p/SKAcode/ska-mid-jupyter-notebooks/data/mid_telescope/tmc/configure_scan.json exists: ✔️\n",
      "/home/al097049_p/SKAcode/ska-mid-jupyter-notebooks/data/mid_telescope/tmc/scan.json exists: ✔️\n",
      "/home/al097049_p/SKAcode/ska-mid-jupyter-notebooks/data/mid_telescope/tmc/delay_model.json exists: ✔️\n",
      "/home/al097049_p/SKAcode/ska-mid-jupyter-notebooks/data/mid_telescope/cbf/cbf_input_data/cbf_input_data.json exists: ✔️\n",
      "/home/al097049_p/SKAcode/ska-mid-jupyter-notebooks/data/mid_telescope/cbf/cbf_input_data/bite_config_parameters/bite_configs.json exists: ✔️\n",
      "/home/al097049_p/SKAcode/ska-mid-jupyter-notebooks/data/mid_telescope/cbf/cbf_input_data/bite_config_parameters/filters.json exists: ✔️\n",
      "/home/al097049_p/SKAcode/ska-mid-jupyter-notebooks/data/mid_telescope/cbf/sys_params/load_dish_config.json exists: ✔️\n",
      "Done\n"
     ]
    }
   ],
   "source": [
    "print(\"Getting files...\")\n",
    "\n",
    "INIT_SYS_PARAM_FILE = os.path.join(COMMON_CONFIG, \"sys_params/initial_system_param.json\")\n",
    "ASSIGN_RESOURCES_FILE = os.path.join(TMC_CONFIG, \"assign_resources.json\")\n",
    "ASSIGN_CSP_RESOURCES_FILE = os.path.join(CSP_CONFIG, \"assign_resources.json\")\n",
    "CONFIGURE_SCAN_FILE = os.path.join(TMC_CONFIG, \"configure_scan.json\")\n",
    "SCAN_FILE = os.path.join(TMC_CONFIG, \"scan.json\")\n",
    "CSP_DELAY_MODEL_FILE = os.path.join(TMC_CONFIG, delay_model_filename)\n",
    "\n",
    "CBF_INPUT_FILE = f\"{CBF_INPUT_DIR}/cbf_input_data.json\"\n",
    "BITE_CONFIG_FILE = f\"{CBF_INPUT_DIR}/bite_config_parameters/bite_configs.json\"\n",
    "FILTERS_FILE = f\"{CBF_INPUT_DIR}/bite_config_parameters/filters.json\"\n",
    "\n",
    "DISH_CONFIG_FILE = f\"{COMMON_CONFIG}/sys_params/load_dish_config.json\"\n",
    "\n",
    "START_CHANNEL = 0\n",
    "END_CHANNEL = 14860\n",
    "START_PORT = 21000\n",
    "\n",
    "SCAN_COMBOS = [[0.0, 5.0], [0.0, -5.0], [5.0, 0.0], [-5.0, 0.0]]\n",
    "\n",
    "files = [\n",
    "    INIT_SYS_PARAM_FILE,\n",
    "    ASSIGN_RESOURCES_FILE,\n",
    "    ASSIGN_CSP_RESOURCES_FILE,\n",
    "    ASSIGN_CSP_RESOURCES_FILE,\n",
    "    CONFIGURE_SCAN_FILE,\n",
    "    SCAN_FILE,\n",
    "    CSP_DELAY_MODEL_FILE,\n",
    "    CBF_INPUT_FILE,\n",
    "    BITE_CONFIG_FILE,\n",
    "    FILTERS_FILE,\n",
    "    DISH_CONFIG_FILE,\n",
    "]\n",
    "\n",
    "for file in files:\n",
    "    if os.path.isfile(file):\n",
    "        print(f\"{file} exists: ✔️\")\n",
    "    else:\n",
    "        print(f\"{file} does not exist ❌\")\n",
    "\n",
    "print(\"Done\")"
   ]
  },
  {
   "cell_type": "markdown",
   "metadata": {},
   "source": [
    "Next, set up the hw config to match the boards in use:"
   ]
  },
  {
   "cell_type": "code",
   "execution_count": 8,
   "metadata": {},
   "outputs": [
    {
     "name": "stdout",
     "output_type": "stream",
     "text": [
      "Using standard HW config\n",
      "HW config: ✔️\n"
     ]
    }
   ],
   "source": [
    "if any(i > 4 for i in target_boards_list):\n",
    "    print(\"Using swap for higher number talons\")\n",
    "    config = \"hw_config_swap_psi.yaml\"\n",
    "    print(\"Modifying target to use lower nums to match swap file\")\n",
    "    target_boards_list = list(map(lambda x: x - 4, target_boards_list))\n",
    "\n",
    "else:\n",
    "    print(\"Using standard HW config\")\n",
    "    config = \"hw_config_psi.yaml\"\n",
    "\n",
    "HW_CONFIG_FILE = os.path.join(HW_CONFIG, config)\n",
    "if os.path.isfile(HW_CONFIG_FILE):\n",
    "    print(\"HW config: ✔️\")\n",
    "else:\n",
    "    print(\"hw config: ❌\")\n",
    "\n",
    "receptor_ids = list(map(lambda x: RECEPTOR_MAP[x - 1], target_boards_list))"
   ]
  },
  {
   "cell_type": "markdown",
   "metadata": {},
   "source": [
    "If the HW config file exists, we can load it into the pod:"
   ]
  },
  {
   "cell_type": "code",
   "execution_count": 9,
   "metadata": {},
   "outputs": [],
   "source": [
    "!kubectl cp $HW_CONFIG_FILE $namespace/ds-cbfcontroller-controller-0:/app/mnt/hw_config/hw_config.yaml"
   ]
  },
  {
   "cell_type": "markdown",
   "metadata": {},
   "source": [
    "Next we can run the deployer to get everything needed for this run"
   ]
  },
  {
   "cell_type": "markdown",
   "metadata": {},
   "source": [
    "### 1.3 Create Device Proxies"
   ]
  },
  {
   "cell_type": "markdown",
   "metadata": {},
   "source": [
    "Using the FQDNs we set earlier, and with the pod spun up, we can create device proxies to the devices we'll be using and check the connection to them."
   ]
  },
  {
   "cell_type": "code",
   "execution_count": 10,
   "metadata": {},
   "outputs": [
    {
     "name": "stdout",
     "output_type": "stream",
     "text": [
      "CSP Controller: The device is in DISABLE state.\n",
      "CSP Subarray: The device is in DISABLE state.\n",
      "Central Node: The device is in ON state.\n",
      "Leaf Node: The device is in ON state.\n",
      "Leaf Subarray Node: The device is in ON state.\n",
      "TMC subarray Node: The device is in ON state.\n",
      "CBF controller: The device is in DISABLE state.\n",
      "CBF subarray: The device is in DISABLE state.\n"
     ]
    }
   ],
   "source": [
    "# CSP Devices\n",
    "csp_controller = DeviceProxy(CSP_CONTROLLER_FQDN)\n",
    "print(f\"CSP Controller: {csp_controller.Status()}\")\n",
    "csp_subarray = DeviceProxy(CSP_SUBARRAY_FQDN)\n",
    "print(f\"CSP Subarray: {csp_subarray.Status()}\")\n",
    "\n",
    "# TMC Devices\n",
    "tmc_central_node = DeviceProxy(CENTRAL_NODE_FQDN)\n",
    "print(f\"Central Node: {tmc_central_node.Status()}\")\n",
    "leaf_node = DeviceProxy(LEAF_NODE_FQDN)\n",
    "print(f\"Leaf Node: {leaf_node.Status()}\")\n",
    "leaf_node_subarray = DeviceProxy(LEAF_NODE_SUBARRAY_FQDN)\n",
    "print(f\"Leaf Subarray Node: {leaf_node_subarray.Status()}\")\n",
    "tmc_subarray = DeviceProxy(TMC_SUBARRAY_FQDN)\n",
    "print(f\"TMC subarray Node: {tmc_subarray.Status()}\")\n",
    "delayModelProxy = DeviceProxy(DELAY_MODEL_FQDN)\n",
    "\n",
    "# Deployer for setup and BITE for data mocking\n",
    "bite = DeviceProxy(BITE_FQDN)\n",
    "deployer = DeviceProxy(DEPLOYER_FQDN)\n",
    "\n",
    "# CBF Device\n",
    "cbf_controller = DeviceProxy(CBF_CONTROLLER_FQDN)\n",
    "print(f\"CBF controller: {cbf_controller.Status()}\")\n",
    "cbf_subarray = DeviceProxy(CBF_SUBARRAY_FQDN)\n",
    "print(f\"CBF subarray: {cbf_subarray.Status()}\")"
   ]
  },
  {
   "cell_type": "markdown",
   "metadata": {},
   "source": [
    "### 1.4 Downloading Requirements via the Deployer"
   ]
  },
  {
   "cell_type": "markdown",
   "metadata": {},
   "source": [
    "First, set the board we'll be deploying to and turn on the deployer device."
   ]
  },
  {
   "cell_type": "code",
   "execution_count": 11,
   "metadata": {},
   "outputs": [
    {
     "name": "stdout",
     "output_type": "stream",
     "text": [
      "[2]\n"
     ]
    }
   ],
   "source": [
    "deployer.On()\n",
    "deployer.targetTalons = target_boards_list\n",
    "print(deployer.targetTalons)\n",
    "deployer.generate_config_jsons()"
   ]
  },
  {
   "cell_type": "markdown",
   "metadata": {},
   "source": [
    "Once started and configured, the required devices can then be downloaded."
   ]
  },
  {
   "cell_type": "code",
   "execution_count": 12,
   "metadata": {},
   "outputs": [],
   "source": [
    "deployer.set_timeout_millis(400000)\n",
    "try:\n",
    "    deployer.download_artifacts()\n",
    "except DevFailed as e:\n",
    "    print(e)\n",
    "    print(\n",
    "        \"Timed out, this is likely due to the download taking some time. Check the logs with the code space below after some time to see if it passes.\"\n",
    "    )\n",
    "deployer.set_timeout_millis(3000)"
   ]
  },
  {
   "cell_type": "markdown",
   "metadata": {},
   "source": [
    "Now configure the device database with the downloaded devices:"
   ]
  },
  {
   "cell_type": "code",
   "execution_count": 13,
   "metadata": {},
   "outputs": [],
   "source": [
    "deployer.configure_db()"
   ]
  },
  {
   "cell_type": "markdown",
   "metadata": {},
   "source": [
    "## 2 Setting up the Devices"
   ]
  },
  {
   "cell_type": "markdown",
   "metadata": {},
   "source": [
    "### 2.1 Set up TMC Central Node"
   ]
  },
  {
   "cell_type": "markdown",
   "metadata": {},
   "source": [
    "Now setup the CSP proxy, and load in the relevant values:"
   ]
  },
  {
   "cell_type": "code",
   "execution_count": 14,
   "metadata": {},
   "outputs": [],
   "source": [
    "tmc_central_node.adminMode = 0\n",
    "tmc_central_node.simulationMode = simulation_mode"
   ]
  },
  {
   "cell_type": "code",
   "execution_count": 16,
   "metadata": {},
   "outputs": [
    {
     "name": "stdout",
     "output_type": "stream",
     "text": [
      "Set to simulation mode off.\n"
     ]
    }
   ],
   "source": [
    "# Set relevant values on the mid-csp controller\n",
    "csp_controller.adminMode = 0\n",
    "csp_subarray.adminMode = 0\n",
    "sleep(1)\n",
    "csp_controller.cbfSimulationMode = simulation_mode\n",
    "csp_subarray.SimulationMode = simulation_mode\n",
    "sleep(1)\n",
    "if (\n",
    "    csp_controller.read_attribute(\"adminMode\").value == 0\n",
    "    and csp_controller.read_attribute(\"cbfSimulationMode\").value == 0\n",
    "):\n",
    "    print(\"Set to simulation mode off.\")\n",
    "elif (\n",
    "    csp_controller.read_attribute(\"adminMode\").value == 0\n",
    "    and csp_controller.read_attribute(\"cbfSimulationMode\").value == 1\n",
    "):\n",
    "    print(\"Set to simulation mode on.\")\n",
    "else:\n",
    "    print(\"Error, couldn't set values!\")"
   ]
  },
  {
   "cell_type": "markdown",
   "metadata": {},
   "source": [
    "Next we can load in the dish config file to the central node:"
   ]
  },
  {
   "cell_type": "code",
   "execution_count": 17,
   "metadata": {},
   "outputs": [
    {
     "data": {
      "text/plain": [
       "[array([2], dtype=int32), ['1720566931.0558825_274913848143126_LoadDishCfg']]"
      ]
     },
     "execution_count": 17,
     "metadata": {},
     "output_type": "execute_result"
    }
   ],
   "source": [
    "with open(DISH_CONFIG_FILE, encoding=\"utf-8\") as f:\n",
    "    dish_config_json = f.read()\n",
    "tmc_central_node.LoadDishCfg(dish_config_json)"
   ]
  },
  {
   "cell_type": "markdown",
   "metadata": {},
   "source": [
    "Now, load in the initial parameters file:"
   ]
  },
  {
   "cell_type": "code",
   "execution_count": 18,
   "metadata": {},
   "outputs": [
    {
     "name": "stdout",
     "output_type": "stream",
     "text": [
      "Initial system parameter file:\n",
      "{\n",
      " \"interface\": \"https://schema.skao.int/ska-mid-cbf-initsysparam/1.0\",\n",
      " \"dish_parameters\": {\n",
      "  \"SKA001\": {\n",
      "   \"vcc\": 1,\n",
      "   \"k\": 1108\n",
      "  },\n",
      "  \"SKA036\": {\n",
      "   \"vcc\": 2,\n",
      "   \"k\": 1108\n",
      "  },\n",
      "  \"SKA063\": {\n",
      "   \"vcc\": 3,\n",
      "   \"k\": 1100\n",
      "  },\n",
      "  \"SKA100\": {\n",
      "   \"vcc\": 4,\n",
      "   \"k\": 1101\n",
      "  }\n",
      " }\n",
      "}\n"
     ]
    }
   ],
   "source": [
    "with open(INIT_SYS_PARAM_FILE, encoding=\"utf-8\") as init_file:\n",
    "    data = json.load(init_file)\n",
    "print(\"Initial system parameter file:\")\n",
    "print(json.dumps(data, indent=1))"
   ]
  },
  {
   "cell_type": "code",
   "execution_count": 19,
   "metadata": {},
   "outputs": [
    {
     "data": {
      "text/plain": [
       "[array([0], dtype=int32), ['CbfController InitSysParam command completed OK']]"
      ]
     },
     "execution_count": 19,
     "metadata": {},
     "output_type": "execute_result"
    }
   ],
   "source": [
    "# After confirming the file is correct load into the CBF\n",
    "cbf_controller.InitSysParam(json.dumps(data))"
   ]
  },
  {
   "cell_type": "markdown",
   "metadata": {},
   "source": [
    "### 2.2 Turning on the Telescope via TMC"
   ]
  },
  {
   "cell_type": "markdown",
   "metadata": {},
   "source": [
    "We can now check if the VCC mapping was loaded"
   ]
  },
  {
   "cell_type": "code",
   "execution_count": 20,
   "metadata": {},
   "outputs": [
    {
     "name": "stdout",
     "output_type": "stream",
     "text": [
      "{\"interface\": \"https://schema.skao.int/ska-mid-cbf-initsysparam/1.0\", \"tm_data_sources\": [\"car://gitlab.com/ska-telescope/ska-telmodel-data?ska-sdp-tmlite-repository-1.0.0#tmdata\"], \"tm_data_filepath\": \"instrument/ska1_mid_psi/ska-mid-cbf-system-parameters.json\"}\n"
     ]
    }
   ],
   "source": [
    "print(leaf_node.sourceDishVccConfig)"
   ]
  },
  {
   "cell_type": "code",
   "execution_count": 27,
   "metadata": {},
   "outputs": [
    {
     "name": "stdout",
     "output_type": "stream",
     "text": [
      "{\"interface\": \"https://schema.skao.int/ska-mid-cbf-initsysparam/1.0\", \"dish_parameters\": {\"SKA001\": {\"vcc\": 1, \"k\": 119}, \"SKA036\": {\"vcc\": 2, \"k\": 1127}, \"SKA063\": {\"vcc\": 3, \"k\": 620}, \"SKA100\": {\"vcc\": 4, \"k\": 101}}}\n"
     ]
    }
   ],
   "source": [
    "print(leaf_node.dishVccConfig)"
   ]
  },
  {
   "cell_type": "markdown",
   "metadata": {},
   "source": [
    "Now, turn the telescope itself on (TelescopeOn may complain about VCC config, have to wait for it to resolve):"
   ]
  },
  {
   "cell_type": "code",
   "execution_count": 28,
   "metadata": {},
   "outputs": [
    {
     "name": "stdout",
     "output_type": "stream",
     "text": [
      "The device is in ON state.\n",
      "The device is in ON state.\n"
     ]
    }
   ],
   "source": [
    "tmc_central_node.set_timeout_millis(100000)\n",
    "tmc_central_node.TelescopeOn()\n",
    "sleep(100)\n",
    "\n",
    "print(tmc_central_node.status())\n",
    "print(csp_controller.status())"
   ]
  },
  {
   "cell_type": "code",
   "execution_count": 29,
   "metadata": {},
   "outputs": [
    {
     "name": "stdout",
     "output_type": "stream",
     "text": [
      "Verify device states:\n",
      "\tTMC central node: ON. Should be ON\n",
      "\tTMC subarray node: ON. Should be ON\n",
      "\tCSP controller node: ON. Should be ON\n",
      "\tCSP subarray node: ON. Should be ON\n",
      "\tCBF subarray node: ON. Should be ON\n"
     ]
    }
   ],
   "source": [
    "print(\"Verify device states:\")\n",
    "print(f\"\\tTMC central node: {tmc_central_node.State()}. Should be ON\")\n",
    "print(f\"\\tTMC subarray node: {tmc_subarray.State()}. Should be ON\")\n",
    "print(f\"\\tCSP controller node: {csp_controller.State()}. Should be ON\")\n",
    "print(f\"\\tCSP subarray node: {csp_subarray.State()}. Should be ON\")\n",
    "print(f\"\\tCBF subarray node: {cbf_subarray.State()}. Should be ON\")"
   ]
  },
  {
   "cell_type": "markdown",
   "metadata": {},
   "source": [
    "## 3 Controlling the 5-Point Scan from TMC"
   ]
  },
  {
   "cell_type": "markdown",
   "metadata": {},
   "source": [
    "### 3.1 Set up JSON Files"
   ]
  },
  {
   "cell_type": "markdown",
   "metadata": {},
   "source": [
    "Start by getting the base file to use to assign resources to TMC"
   ]
  },
  {
   "cell_type": "code",
   "execution_count": 30,
   "metadata": {},
   "outputs": [],
   "source": [
    "with open(ASSIGN_RESOURCES_FILE, encoding=\"utf-8\") as assign_file:\n",
    "    basic_assign_json = json.load(assign_file)"
   ]
  },
  {
   "cell_type": "markdown",
   "metadata": {},
   "source": [
    "Load in the config file for TMC"
   ]
  },
  {
   "cell_type": "code",
   "execution_count": 31,
   "metadata": {},
   "outputs": [],
   "source": [
    "with open(CONFIGURE_SCAN_FILE, encoding=\"utf-8\") as config_file:\n",
    "    basic_configure_json = json.load(config_file)"
   ]
  },
  {
   "cell_type": "markdown",
   "metadata": {},
   "source": [
    "Now overwrite what we'll need to modify in the files:"
   ]
  },
  {
   "cell_type": "code",
   "execution_count": 32,
   "metadata": {},
   "outputs": [
    {
     "name": "stdout",
     "output_type": "stream",
     "text": [
      "Modified assign json:\n",
      "{\n",
      " \"interface\": \"https://schema.skao.int/ska-tmc-assignresources/2.1\",\n",
      " \"transaction_id\": \"txn-....-00001\",\n",
      " \"subarray_id\": 1,\n",
      " \"dish\": {\n",
      "  \"receptor_ids\": [\n",
      "   \"SKA036\"\n",
      "  ]\n",
      " },\n",
      " \"sdp\": {\n",
      "  \"interface\": \"https://schema.skao.int/ska-sdp-assignres/0.4\",\n",
      "  \"resources\": {\n",
      "   \"csp_links\": [\n",
      "    1,\n",
      "    2,\n",
      "    3,\n",
      "    4\n",
      "   ],\n",
      "   \"receptors\": [\n",
      "    \"SKA036\"\n",
      "   ],\n",
      "   \"receive_nodes\": 1\n",
      "  },\n",
      "  \"execution_block\": {\n",
      "   \"eb_id\": \"eb-testtmc-20240709-45507\",\n",
      "   \"context\": {},\n",
      "   \"max_length\": 21600.0,\n",
      "   \"channels\": [\n",
      "    {\n",
      "     \"channels_id\": \"vis_channels\",\n",
      "     \"spectral_windows\": [\n",
      "      {\n",
      "       \"spectral_window_id\": \"fsp_1_channels\",\n",
      "       \"count\": 14880,\n",
      "       \"start\": 0,\n",
      "       \"stride\": 1,\n",
      "       \"freq_min\": 300000000.0,\n",
      "       \"freq_max\": 550000000.0,\n",
      "       \"link_map\": [\n",
      "        [\n",
      "         0,\n",
      "         0\n",
      "        ],\n",
      "        [\n",
      "         200,\n",
      "         1\n",
      "        ],\n",
      "        [\n",
      "         744,\n",
      "         2\n",
      "        ],\n",
      "        [\n",
      "         944,\n",
      "         3\n",
      "        ]\n",
      "       ]\n",
      "      }\n",
      "     ]\n",
      "    }\n",
      "   ],\n",
      "   \"polarisations\": [\n",
      "    {\n",
      "     \"polarisations_id\": \"all\",\n",
      "     \"corr_type\": [\n",
      "      \"XX\",\n",
      "      \"XY\",\n",
      "      \"YX\",\n",
      "      \"YY\"\n",
      "     ]\n",
      "    }\n",
      "   ],\n",
      "   \"fields\": [\n",
      "    {\n",
      "     \"field_id\": \"field_a\",\n",
      "     \"phase_dir\": {\n",
      "      \"ra\": [\n",
      "       2.711325\n",
      "      ],\n",
      "      \"dec\": [\n",
      "       -0.01328889\n",
      "      ],\n",
      "      \"reference_time\": \"...\",\n",
      "      \"reference_frame\": \"ICRF3\"\n",
      "     },\n",
      "     \"pointing_fqdn\": \"low-tmc/telstate/0/pointing\"\n",
      "    },\n",
      "    {\n",
      "     \"field_id\": \"field_b\",\n",
      "     \"phase_dir\": {\n",
      "      \"ra\": [\n",
      "       12.48519\n",
      "      ],\n",
      "      \"dec\": [\n",
      "       2.052388\n",
      "      ],\n",
      "      \"reference_time\": \"...\",\n",
      "      \"reference_frame\": \"ICRF3\"\n",
      "     },\n",
      "     \"pointing_fqdn\": \"low-tmc/telstate/0/pointing\"\n",
      "    }\n",
      "   ],\n",
      "   \"beams\": [\n",
      "    {\n",
      "     \"beam_id\": \"vis0\",\n",
      "     \"function\": \"visibilities\"\n",
      "    },\n",
      "    {\n",
      "     \"beam_id\": \"pss1\",\n",
      "     \"search_beam_id\": 1,\n",
      "     \"function\": \"pulsar search\"\n",
      "    },\n",
      "    {\n",
      "     \"beam_id\": \"pss2\",\n",
      "     \"search_beam_id\": 2,\n",
      "     \"function\": \"pulsar search\"\n",
      "    },\n",
      "    {\n",
      "     \"beam_id\": \"pst1\",\n",
      "     \"timing_beam_id\": 1,\n",
      "     \"function\": \"pulsar timing\"\n",
      "    },\n",
      "    {\n",
      "     \"beam_id\": \"pst2\",\n",
      "     \"timing_beam_id\": 2,\n",
      "     \"function\": \"pulsar timing\"\n",
      "    },\n",
      "    {\n",
      "     \"beam_id\": \"vlbi1\",\n",
      "     \"vlbi_beam_id\": 1,\n",
      "     \"function\": \"vlbi\"\n",
      "    }\n",
      "   ],\n",
      "   \"scan_types\": [\n",
      "    {\n",
      "     \"scan_type_id\": \".default\",\n",
      "     \"beams\": {\n",
      "      \"vis0\": {\n",
      "       \"polarisations_id\": \"all\",\n",
      "       \"channels_id\": \"vis_channels\"\n",
      "      }\n",
      "     }\n",
      "    },\n",
      "    {\n",
      "     \"scan_type_id\": \"science\",\n",
      "     \"derive_from\": \".default\",\n",
      "     \"beams\": {\n",
      "      \"vis0\": {\n",
      "       \"field_id\": \"field_a\"\n",
      "      }\n",
      "     }\n",
      "    },\n",
      "    {\n",
      "     \"scan_type_id\": \"calibration\",\n",
      "     \"derive_from\": \".default\",\n",
      "     \"beams\": {\n",
      "      \"vis0\": {\n",
      "       \"field_id\": \"field_b\"\n",
      "      }\n",
      "     }\n",
      "    }\n",
      "   ]\n",
      "  },\n",
      "  \"processing_blocks\": [\n",
      "   {\n",
      "    \"pb_id\": \"pb-testrealtime-20240709-45507\",\n",
      "    \"script\": {\n",
      "     \"kind\": \"realtime\",\n",
      "     \"name\": \"vis-receive\",\n",
      "     \"version\": \"4.0.0\"\n",
      "    },\n",
      "    \"parameters\": {\n",
      "     \"channels_per_port\": 20,\n",
      "     \"queue_connector_configuration\": {\n",
      "      \"exchanges\": [\n",
      "       {\n",
      "        \"dtype\": \"object\",\n",
      "        \"shape\": [],\n",
      "        \"source\": {\n",
      "         \"type\": \"KafkaConsumerSource\",\n",
      "         \"servers\": \"ska-sdp-kafka.ci-ska-mid-psi-1365379550-alexschell.svc.cluster.local:9092\",\n",
      "         \"topic\": \"metrics-receive_state-1\",\n",
      "         \"encoding\": \"json\"\n",
      "        },\n",
      "        \"sink\": {\n",
      "         \"type\": \"TangoObjectScatterAttributeSink\",\n",
      "         \"attributes\": [\n",
      "          {\n",
      "           \"attribute_name\": \"receiver_state\",\n",
      "           \"filter\": \"type=='visibility_receive'\",\n",
      "           \"path\": \"state\",\n",
      "           \"dtype\": \"str\",\n",
      "           \"default_value\": \"unknown\"\n",
      "          },\n",
      "          {\n",
      "           \"attribute_name\": \"last_update\",\n",
      "           \"filter\": \"type=='visibility_receive'\",\n",
      "           \"path\": \"time\",\n",
      "           \"dtype\": \"float\",\n",
      "           \"default_value\": 0.0\n",
      "          },\n",
      "          {\n",
      "           \"attribute_name\": \"processing_block_id\",\n",
      "           \"filter\": \"type=='visibility_receive'\",\n",
      "           \"path\": \"processing_block_id\",\n",
      "           \"dtype\": \"str\",\n",
      "           \"default_value\": \"\"\n",
      "          },\n",
      "          {\n",
      "           \"attribute_name\": \"execution_block_id\",\n",
      "           \"filter\": \"type=='visibility_receive'\",\n",
      "           \"path\": \"execution_block_id\",\n",
      "           \"dtype\": \"str\",\n",
      "           \"default_value\": \"\"\n",
      "          },\n",
      "          {\n",
      "           \"attribute_name\": \"subarray_id\",\n",
      "           \"filter\": \"type=='visibility_receive'\",\n",
      "           \"path\": \"subarray_id\",\n",
      "           \"dtype\": \"str\",\n",
      "           \"default_value\": \"-1\"\n",
      "          },\n",
      "          {\n",
      "           \"attribute_name\": \"scan_id\",\n",
      "           \"filter\": \"type=='visibility_receive'\",\n",
      "           \"path\": \"scan_id\",\n",
      "           \"dtype\": \"int\",\n",
      "           \"default_value\": 0\n",
      "          },\n",
      "          {\n",
      "           \"attribute_name\": \"payloads_received\",\n",
      "           \"filter\": \"type=='visibility_receive'\",\n",
      "           \"path\": \"payloads_received\",\n",
      "           \"dtype\": \"int\",\n",
      "           \"default_value\": 0\n",
      "          },\n",
      "          {\n",
      "           \"attribute_name\": \"time_slices_received\",\n",
      "           \"filter\": \"type=='visibility_receive'\",\n",
      "           \"path\": \"time_slices\",\n",
      "           \"dtype\": \"int\",\n",
      "           \"default_value\": 0\n",
      "          },\n",
      "          {\n",
      "           \"attribute_name\": \"time_since_last_payload\",\n",
      "           \"filter\": \"type=='visibility_receive'\",\n",
      "           \"path\": \"time_since_last_payload\",\n",
      "           \"dtype\": \"float\",\n",
      "           \"default_value\": 0.0\n",
      "          }\n",
      "         ]\n",
      "        }\n",
      "       }\n",
      "      ]\n",
      "     },\n",
      "     \"transport_protocol\": \"udp\",\n",
      "     \"use_network_definition\": true,\n",
      "     \"extra_helm_values\": {\n",
      "      \"receiver\": {\n",
      "       \"options\": {\n",
      "        \"reception\": {\n",
      "         \"reset_time_indexing_after_each_scan\": true\n",
      "        },\n",
      "        \"telescope_model\": {\n",
      "         \"telmodel_key\": \"instrument/ska1_mid/layout/mid-layout.json\"\n",
      "        }\n",
      "       }\n",
      "      }\n",
      "     },\n",
      "     \"processors\": {\n",
      "      \"signal-display-metrics-amplitude\": {},\n",
      "      \"signal-display-metrics-basic\": {},\n",
      "      \"signal-display-metrics-phase\": {},\n",
      "      \"mswriter\": {}\n",
      "     },\n",
      "     \"pod_settings\": [\n",
      "      {\n",
      "       \"securityContext\": {\n",
      "        \"runAsUser\": 0,\n",
      "        \"fsGroup\": 0\n",
      "       }\n",
      "      }\n",
      "     ]\n",
      "    }\n",
      "   }\n",
      "  ]\n",
      " }\n",
      "}\n",
      "===================\n",
      "{\n",
      " \"interface\": \"https://schema.skao.int/ska-tmc-configure/2.0\",\n",
      " \"pointing\": {\n",
      "  \"target\": {\n",
      "   \"reference_frame\": \"ICRS\",\n",
      "   \"target_name\": \"Polaris Australis\",\n",
      "   \"ra\": \"21:08:47.92\",\n",
      "   \"dec\": \"-88:57:22.9\"\n",
      "  }\n",
      " },\n",
      " \"sdp\": {\n",
      "  \"interface\": \"https://schema.skao.int/ska-sdp-configure/0.4\",\n",
      "  \"scan_type\": \"science\"\n",
      " },\n",
      " \"csp\": {\n",
      "  \"interface\": \"https://schema.skao.int/ska-csp-configure/2.4\",\n",
      "  \"subarray\": {\n",
      "   \"subarray_name\": \"1 receptor\"\n",
      "  },\n",
      "  \"common\": {\n",
      "   \"config_id\": \"1 receptor, band 1, 1 FSP, no options\",\n",
      "   \"subarray_id\": 1,\n",
      "   \"frequency_band\": \"1\"\n",
      "  },\n",
      "  \"cbf\": {\n",
      "   \"fsp\": [\n",
      "    {\n",
      "     \"fsp_id\": 2,\n",
      "     \"function_mode\": \"CORR\",\n",
      "     \"frequency_slice_id\": 2,\n",
      "     \"zoom_factor\": 0,\n",
      "     \"integration_factor\": 10,\n",
      "     \"output_link_map\": [\n",
      "      [\n",
      "       0,\n",
      "       1\n",
      "      ]\n",
      "     ],\n",
      "     \"channel_offset\": 0,\n",
      "     \"zoom_window_tuning\": 450000\n",
      "    }\n",
      "   ]\n",
      "  }\n",
      " },\n",
      " \"tmc\": {\n",
      "  \"scan_duration\": 920.0\n",
      " },\n",
      " \"dish\": {\n",
      "  \"receiver_band\": \"1\"\n",
      " }\n",
      "}\n",
      "===================\n"
     ]
    }
   ],
   "source": [
    "today = date.today().strftime(\"%Y%m%d\")\n",
    "random_id = random.randint(0, 99999)\n",
    "beams = [\n",
    "    {\"beam_id\": \"vis0\", \"function\": \"visibilities\"},\n",
    "    {\"beam_id\": \"pss1\", \"search_beam_id\": 1, \"function\": \"pulsar search\"},\n",
    "    {\"beam_id\": \"pss2\", \"search_beam_id\": 2, \"function\": \"pulsar search\"},\n",
    "    {\"beam_id\": \"pst1\", \"timing_beam_id\": 1, \"function\": \"pulsar timing\"},\n",
    "    {\"beam_id\": \"pst2\", \"timing_beam_id\": 2, \"function\": \"pulsar timing\"},\n",
    "    {\"beam_id\": \"vlbi1\", \"vlbi_beam_id\": 1, \"function\": \"vlbi\"},\n",
    "]\n",
    "\n",
    "port_list = []\n",
    "run = 0\n",
    "while run * 20 + START_CHANNEL <= END_CHANNEL:\n",
    "    port_list.append([run * 20 + START_CHANNEL, START_PORT + run])\n",
    "    run += 1\n",
    "\n",
    "EB_ID = f\"eb-testtmc-{today}-{random_id:05d}\"\n",
    "PB_ID = f\"pb-testrealtime-{today}-{random_id:05d}\"\n",
    "\n",
    "# Configure the assign resources JSON for TMC\n",
    "basic_assign_json[\"sdp\"][\"processing_blocks\"][0][\"parameters\"][\"queue_connector_configuration\"][\n",
    "    \"exchanges\"\n",
    "][0][\"source\"][\"servers\"] = server\n",
    "basic_assign_json[\"dish\"][\"receptor_ids\"] = list(\n",
    "    map(lambda x: RECEPTOR_MAP[x - 1], target_boards_list)\n",
    ")\n",
    "basic_assign_json[\"sdp\"][\"execution_block\"][\"beams\"] = beams\n",
    "basic_assign_json[\"sdp\"][\"processing_blocks\"][0][\"pb_id\"] = PB_ID\n",
    "basic_assign_json[\"sdp\"][\"execution_block\"][\"eb_id\"] = EB_ID\n",
    "basic_assign_json[\"sdp\"][\"resources\"][\"receptors\"] = list(\n",
    "    map(lambda x: RECEPTOR_MAP[x - 1], target_boards_list)\n",
    ")\n",
    "\n",
    "# Configure the configuration JSON for TMC\n",
    "basic_configure_json[\"csp\"][\"common\"][\"config_id\"] = \"1 receptor, band 1, 1 FSP, no options\"\n",
    "basic_configure_json[\"csp\"][\"subarray\"][\"subarray_name\"] = \"1 receptor\"\n",
    "\n",
    "# Set the FSP ID to match the board and set networking\n",
    "basic_configure_json[\"csp\"][\"cbf\"][\"fsp\"][0][\"fsp_id\"] = target_boards_list[0]\n",
    "basic_configure_json[\"csp\"][\"cbf\"][\"fsp\"][0][\"frequency_slice_id\"] = target_boards_list[0]\n",
    "\n",
    "print(\"Modified assign json:\")\n",
    "print(json.dumps(basic_assign_json, indent=1))\n",
    "print(\"===================\")\n",
    "print(json.dumps(basic_configure_json, indent=1))\n",
    "print(\"===================\")"
   ]
  },
  {
   "cell_type": "markdown",
   "metadata": {},
   "source": [
    "### 3.2 Assign Resources to the Telescope and Configure Subarray"
   ]
  },
  {
   "cell_type": "markdown",
   "metadata": {},
   "source": [
    "Now, we can use TMC to pass the configurations down to the devices used (SDP,CSP...)"
   ]
  },
  {
   "cell_type": "code",
   "execution_count": 33,
   "metadata": {},
   "outputs": [
    {
     "name": "stdout",
     "output_type": "stream",
     "text": [
      " ⣯ Poll# 6: Current state is IDLE, waiting for 2...r 2...\n",
      "Finished with: IDLE\n"
     ]
    }
   ],
   "source": [
    "tmc_subarray.AssignResources(json.dumps(basic_assign_json))\n",
    "wait_for_state(tmc_subarray, 2)"
   ]
  },
  {
   "cell_type": "markdown",
   "metadata": {},
   "source": [
    "After this step, check the -sdp namespace to ensure the vis pod is spun up:"
   ]
  },
  {
   "cell_type": "code",
   "execution_count": 34,
   "metadata": {},
   "outputs": [
    {
     "name": "stdout",
     "output_type": "stream",
     "text": [
      "proc-pb-testrealtime-20240709-45507-vis-receive-00-0   6/6     Running   0          47s\n"
     ]
    }
   ],
   "source": [
    "# Grab the pod name\n",
    "!kubectl -n $namespace-sdp get pods | grep vis-receive"
   ]
  },
  {
   "cell_type": "markdown",
   "metadata": {},
   "source": [
    "Now, we can send the configuration to TMC:"
   ]
  },
  {
   "cell_type": "code",
   "execution_count": 44,
   "metadata": {},
   "outputs": [
    {
     "name": "stdout",
     "output_type": "stream",
     "text": [
      " ⣯ Poll# 702: Current state is IDLE, waiting for 4..."
     ]
    },
    {
     "ename": "KeyboardInterrupt",
     "evalue": "",
     "output_type": "error",
     "traceback": [
      "\u001b[0;31m---------------------------------------------------------------------------\u001b[0m",
      "\u001b[0;31mKeyboardInterrupt\u001b[0m                         Traceback (most recent call last)",
      "Cell \u001b[0;32mIn[44], line 2\u001b[0m\n\u001b[1;32m      1\u001b[0m tmc_subarray\u001b[38;5;241m.\u001b[39mConfigure(json\u001b[38;5;241m.\u001b[39mdumps(basic_configure_json))\n\u001b[0;32m----> 2\u001b[0m \u001b[43mwait_for_state\u001b[49m\u001b[43m(\u001b[49m\u001b[43mtmc_subarray\u001b[49m\u001b[43m,\u001b[49m\u001b[43m \u001b[49m\u001b[38;5;241;43m4\u001b[39;49m\u001b[43m)\u001b[49m\n",
      "Cell \u001b[0;32mIn[2], line 18\u001b[0m, in \u001b[0;36mwait_for_state\u001b[0;34m(device, desired_state, break_on_error)\u001b[0m\n\u001b[1;32m     16\u001b[0m \u001b[38;5;28;01melse\u001b[39;00m:\n\u001b[1;32m     17\u001b[0m     spinL \u001b[38;5;241m=\u001b[39m \u001b[38;5;241m0\u001b[39m\n\u001b[0;32m---> 18\u001b[0m \u001b[43msleep\u001b[49m\u001b[43m(\u001b[49m\u001b[38;5;241;43m0.5\u001b[39;49m\u001b[43m)\u001b[49m\n\u001b[1;32m     19\u001b[0m \u001b[38;5;28mprint\u001b[39m(\n\u001b[1;32m     20\u001b[0m     \u001b[38;5;124m\"\u001b[39m\u001b[38;5;130;01m\\r\u001b[39;00m\u001b[38;5;124m\"\u001b[39m,\n\u001b[1;32m     21\u001b[0m     \u001b[38;5;124mf\u001b[39m\u001b[38;5;124m\"\u001b[39m\u001b[38;5;132;01m{\u001b[39;00mspinner[spinL]\u001b[38;5;132;01m}\u001b[39;00m\u001b[38;5;124m Poll# \u001b[39m\u001b[38;5;132;01m{\u001b[39;00mpoll\u001b[38;5;132;01m}\u001b[39;00m\u001b[38;5;124m: Current state is \u001b[39m\u001b[38;5;132;01m{\u001b[39;00mdevice\u001b[38;5;241m.\u001b[39mobsState\u001b[38;5;241m.\u001b[39mname\u001b[38;5;132;01m}\u001b[39;00m\u001b[38;5;124m, waiting for \u001b[39m\u001b[38;5;132;01m{\u001b[39;00mdesired_state\u001b[38;5;132;01m}\u001b[39;00m\u001b[38;5;124m...\u001b[39m\u001b[38;5;124m\"\u001b[39m,\n\u001b[1;32m     22\u001b[0m     end\u001b[38;5;241m=\u001b[39m\u001b[38;5;124m\"\u001b[39m\u001b[38;5;124m\"\u001b[39m,\n\u001b[1;32m     23\u001b[0m )\n\u001b[1;32m     24\u001b[0m \u001b[38;5;28;01mif\u001b[39;00m device\u001b[38;5;241m.\u001b[39mobsState \u001b[38;5;241m==\u001b[39m \u001b[38;5;241m9\u001b[39m \u001b[38;5;129;01mand\u001b[39;00m break_on_error:\n",
      "\u001b[0;31mKeyboardInterrupt\u001b[0m: "
     ]
    }
   ],
   "source": [
    "tmc_subarray.Configure(json.dumps(basic_configure_json))\n",
    "wait_for_state(tmc_subarray, 4)"
   ]
  },
  {
   "cell_type": "markdown",
   "metadata": {},
   "source": [
    "### 3.3 Setup BITE Data and Generate"
   ]
  },
  {
   "cell_type": "markdown",
   "metadata": {},
   "source": [
    "For this version of the notebook, BITE is used to generate the data for mocking a scan."
   ]
  },
  {
   "cell_type": "markdown",
   "metadata": {},
   "source": [
    "First, load in all the data configs:"
   ]
  },
  {
   "cell_type": "code",
   "execution_count": 36,
   "metadata": {},
   "outputs": [
    {
     "name": "stdout",
     "output_type": "stream",
     "text": [
      "BITE configs:\n",
      "\n",
      "{\"bite_configs\": {\"basic gaussian noise 1\": {\"description\": \"4 seconds of basic gaussian noise with no filtering, using the default mean (0) and standard deviation (0.5).\", \"sources\": [{\"description\": \"Noise input, independent between X and Y pols; unique filter shapes for X and Y pols.\", \"gaussian\": {\"pol_x\": {\"seed\": 1234, \"filter\": \"filter_all_pass\"}, \"pol_y\": {\"seed\": 9876, \"filter\": \"filter_all_pass\"}}, \"pol_coupling_rho\": 0.0, \"pol_Y_1_sample_delay\": false}], \"tone_gens\": [], \"lstv_seconds\": 4}, \"basic gaussian noise 2\": {\"description\": \"4 seconds of basic gaussian noise with no filtering, using the default mean (0) and standard deviation (0.5).\", \"sources\": [{\"description\": \"Noise input, independent between X and Y pols; unique filter shapes for X and Y pols.\", \"gaussian\": {\"pol_x\": {\"seed\": 1234, \"filter\": \"filter_all_pass\"}, \"pol_y\": {\"seed\": 9876, \"filter\": \"filter_all_pass\"}}, \"pol_coupling_rho\": 0.0, \"pol_Y_1_sample_delay\": false}], \"tone_gens\": [], \"lstv_seconds\": 4}, \"basic gaussian noise 3\": {\"description\": \"4 seconds of basic gaussian noise with no filtering, using the default mean (0) and standard deviation (0.5).\", \"sources\": [{\"description\": \"Noise input, independent between X and Y pols; unique filter shapes for X and Y pols.\", \"gaussian\": {\"pol_x\": {\"seed\": 1234, \"filter\": \"filter_all_pass\"}, \"pol_y\": {\"seed\": 9876, \"filter\": \"filter_all_pass\"}}, \"pol_coupling_rho\": 0.0, \"pol_Y_1_sample_delay\": false}], \"tone_gens\": [], \"lstv_seconds\": 4}, \"basic gaussian noise 4\": {\"description\": \"4 seconds of basic gaussian noise with no filtering, using the default mean (0) and standard deviation (0.5).\", \"sources\": [{\"description\": \"Noise input, independent between X and Y pols; unique filter shapes for X and Y pols.\", \"gaussian\": {\"pol_x\": {\"seed\": 1234, \"filter\": \"filter_all_pass\"}, \"pol_y\": {\"seed\": 9876, \"filter\": \"filter_all_pass\"}}, \"pol_coupling_rho\": 0.0, \"pol_Y_1_sample_delay\": false}], \"tone_gens\": [], \"lstv_seconds\": 4}, \"gaussian noise 1\": {\"description\": \"4 seconds of gaussian noise with no filtering, exercising non-default mean and standard deviation on both polarizations.\", \"sources\": [{\"description\": \"Noise input, independent between X and Y pols; unique filter shapes for X and Y pols; unique mean and standard deviation for X and Y pols.\", \"gaussian\": {\"pol_x\": {\"seed\": 1234, \"filter\": \"filter_all_pass\", \"noise_mean\": -0.15, \"noise_std\": 0.35}, \"pol_y\": {\"seed\": 9876, \"filter\": \"filter_all_pass\", \"noise_mean\": 0.15, \"noise_std\": 0.65}}, \"pol_coupling_rho\": 0.0, \"pol_Y_1_sample_delay\": false}], \"tone_gens\": [], \"lstv_seconds\": 4}, \"gaussian noise 2\": {\"description\": \"4 seconds of gaussian noise with no filtering, exercising non-default mean and standard deviation on both polarizations.\", \"sources\": [{\"description\": \"Noise input, independent between X and Y pols; unique filter shapes for X and Y pols; unique mean and standard deviation for X and Y pols.\", \"gaussian\": {\"pol_x\": {\"seed\": 1234, \"filter\": \"filter_all_pass\", \"noise_mean\": -0.2, \"noise_std\": 0.25}, \"pol_y\": {\"seed\": 9876, \"filter\": \"filter_all_pass\", \"noise_mean\": 0.3, \"noise_std\": 0.75}}, \"pol_coupling_rho\": 0.0, \"pol_Y_1_sample_delay\": false}], \"tone_gens\": [], \"lstv_seconds\": 4}, \"gaussian noise 3\": {\"description\": \"4 seconds of gaussian noise with no filtering, exercising non-default mean and standard deviation on both polarizations.\", \"sources\": [{\"description\": \"Noise input, independent between X and Y pols; unique filter shapes for X and Y pols; unique mean and standard deviation for X and Y pols.\", \"gaussian\": {\"pol_x\": {\"seed\": 1234, \"filter\": \"filter_all_pass\", \"noise_mean\": 0, \"noise_std\": 0.8}, \"pol_y\": {\"seed\": 9876, \"filter\": \"filter_all_pass\", \"noise_mean\": 0, \"noise_std\": 0.2}}, \"pol_coupling_rho\": 0.0, \"pol_Y_1_sample_delay\": false}], \"tone_gens\": [], \"lstv_seconds\": 4}, \"gaussian noise 4\": {\"description\": \"4 seconds of gaussian noise with no filtering, exercising non-default mean and standard deviation on both polarizations.\", \"sources\": [{\"description\": \"Noise input, independent between X and Y pols; unique filter shapes for X and Y pols; unique mean and standard deviation for X and Y pols.\", \"gaussian\": {\"pol_x\": {\"seed\": 1234, \"filter\": \"filter_all_pass\", \"noise_mean\": 0.15, \"noise_std\": 0.65}, \"pol_y\": {\"seed\": 9876, \"filter\": \"filter_all_pass\", \"noise_mean\": 0.65, \"noise_std\": 0.15}}, \"pol_coupling_rho\": 0.0, \"pol_Y_1_sample_delay\": false}], \"tone_gens\": [], \"lstv_seconds\": 4}, \"band-pass, all-pass filtered gaussian noise\": {\"description\": \"4 seconds of basic gaussian noise, band-pass filtered on pol X and all-pass filtered on pol Y, with 100% polarization coupling.\", \"sources\": [{\"description\": \"Noise input, independent between X and Y pols; unique filter shapes for X and Y pols.\", \"gaussian\": {\"pol_x\": {\"seed\": 3456, \"filter\": \"filter_band_pass\"}, \"pol_y\": {\"seed\": 7654, \"filter\": \"filter_all_pass\"}}, \"pol_coupling_rho\": 1.0, \"pol_Y_1_sample_delay\": false}], \"tone_gens\": [], \"lstv_seconds\": 4}, \"ramp filtered gaussian noise and tone\": {\"description\": \"4 seconds of gaussian noise, filtered by ramp up and ramp down filters, with a basic 100MHz tone.\", \"sources\": [{\"description\": \"Noise input, independent between X and Y pols; unique filter shapes for X and Y pols.\", \"gaussian\": {\"pol_x\": {\"seed\": 6543, \"filter\": \"filter_ramp_up\"}, \"pol_y\": {\"seed\": 1234, \"filter\": \"filter_ramp_down\"}}, \"pol_coupling_rho\": 0.5, \"pol_Y_1_sample_delay\": false}], \"tone_gens\": [{\"description\": \"100 MHz tone (# 0.005 is full scale out of 16k channeliser with gain of 1.0.)\", \"pol_x\": {\"frequency\": 100000000.0, \"scale\": 0.0025}, \"pol_y\": {\"frequency\": 333333333.3, \"scale\": 0.0025}}], \"lstv_seconds\": 4}, \"high pass, low pass filtered gaussian noise and tone\": {\"description\": \"4 seconds of gaussian noise, filtered by ramp up and ramp down filters, with a basic 100MHz tone.\", \"sources\": [{\"description\": \"Noise input, independent between X and Y pols; unique filter shapes for X and Y pols.\", \"gaussian\": {\"pol_x\": {\"seed\": 3456, \"filter\": \"filter_high_pass\"}, \"pol_y\": {\"seed\": 7654, \"filter\": \"filter_low_pass\"}}, \"pol_coupling_rho\": -0.5, \"pol_Y_1_sample_delay\": true}], \"tone_gens\": [{\"description\": \"100 MHz tone on pol X and 333.333 MHz tone on pol Y, both with amplitude 0.0025 (0.005 is full scale out of 16k channeliser with gain of 1.0.)\", \"pol_x\": {\"frequency\": 100000000.0, \"scale\": 0.0025}, \"pol_y\": {\"frequency\": 333333333.3, \"scale\": 0.0025}}], \"lstv_seconds\": 4}, \"basic tone\": {\"description\": \"4 seconds of basic 100MHz tone on pol X and 333.333 MHz tone on pol Y, both with amplitude 0.0025. No noise.\", \"sources\": [{\"description\": \"Noise input, independent between X and Y pols; zero-pass filter to filter out all noise\", \"gaussian\": {\"pol_x\": {\"seed\": 9876, \"filter\": \"filter_zero_pass\"}, \"pol_y\": {\"seed\": 1234, \"filter\": \"filter_zero_pass\"}}, \"pol_coupling_rho\": 0.0, \"pol_Y_1_sample_delay\": false}], \"tone_gens\": [{\"description\": \"100 MHz tone on pol X and 333.333 MHz tone on pol Y, both with amplitude 0.0025 (0.005 is full scale out of 16k channeliser with gain of 1.0.)\", \"pol_x\": {\"frequency\": 100000000.0, \"scale\": 0.0025}, \"pol_y\": {\"frequency\": 333333333.3, \"scale\": 0.0025}}], \"lstv_seconds\": 4}}}\n",
      "Filters:\n",
      "\n",
      "{\"num_coeffs\": 1024, \"fxp_frac_bits\": 16, \"filters\": {\"filter_all_pass\": {\"description\": \"All pass filter ^^^^^^^^^^\", \"band_edges\": [0.0, 1.0], \"band_gains\": [1.0, 1.0], \"window\": {\"kaiser\": {\"beta\": 14}}}, \"filter_zero_pass\": {\"description\": \"Zero pass filter ___________\", \"band_edges\": [0.0, 1.0], \"band_gains\": [0.0, 0.0], \"window\": \"hann\"}, \"filter_ramp_up\": {\"description\": \"Ascending ramp shaping filter\", \"band_edges\": [0.0, 1.0], \"band_gains\": [0.0001, 1.0], \"window\": \"hamming\"}, \"filter_ramp_down\": {\"description\": \"Descending ramp shaping filter\", \"band_edges\": [0.0, 1.0], \"band_gains\": [1.0, 0.0001], \"window\": \"hamming\"}, \"filter_band_pass\": {\"description\": \"band pass filter _______/^^^^^^^^\\\\________\", \"band_edges\": [0.0, 0.15, 0.15, 0.18, 0.18, 1.0], \"band_gains\": [0.0, 0.0, 1.0, 1.0, 0.0, 0.0], \"window\": {\"kaiser\": {\"beta\": 14}}}, \"filter_low_pass\": {\"description\": \"low pass filter 1.0 ^^^^^^^^^\\\\________ 0.2\", \"band_edges\": [0.0, 0.5, 0.5, 1.0], \"band_gains\": [1.0, 1.0, 0.2, 0.2], \"window\": {\"kaiser\": {\"beta\": 14}}}, \"filter_high_pass\": {\"description\": \"high pass filter 0.2 _________/^^^^^^^^^ 1.0\", \"band_edges\": [0.0, 0.5, 0.5, 1.0], \"band_gains\": [0.2, 0.2, 1.0, 1.0], \"window\": {\"kaiser\": {\"beta\": 14}}}}}\n",
      "CBF Input Data used to generate BITE data:\n",
      "\n",
      "{\"receptors\": [{\"talon\": \"2\", \"dish_id\": \"SKA036\", \"sample_rate_k\": 618, \"bite_config_id\": \"basic gaussian noise 2\", \"bite_initial_timestamp_time_offset\": 60.0}]}\n"
     ]
    },
    {
     "data": {
      "text/plain": [
       "[array([0], dtype=int32), ['Successfully loaded CBF input data.']]"
      ]
     },
     "execution_count": 36,
     "metadata": {},
     "output_type": "execute_result"
    }
   ],
   "source": [
    "with open(BITE_CONFIG_FILE, encoding=\"utf-8\") as f:\n",
    "    bite_config_data = json.dumps(json.load(f))\n",
    "    print(\"BITE configs:\\n\")\n",
    "    print(bite_config_data)\n",
    "bite.load_bite_config_data(bite_config_data)\n",
    "sleep(1)\n",
    "\n",
    "with open(FILTERS_FILE, encoding=\"utf-8\") as f:\n",
    "    filter_data = json.dumps(json.load(f))\n",
    "    print(\"Filters:\\n\")\n",
    "    print(filter_data)\n",
    "bite.load_filter_data(filter_data)\n",
    "sleep(1)\n",
    "\n",
    "with open(CBF_INPUT_FILE, encoding=\"utf-8\") as f:\n",
    "    cbf_input_json = json.load(f)[\"cbf_input_data\"][test_id]\n",
    "    cbf_input_data = json.dumps(cbf_input_json)\n",
    "    print(\"CBF Input Data used to generate BITE data:\\n\")\n",
    "    print(cbf_input_data)\n",
    "bite.load_cbf_input_data(cbf_input_data)"
   ]
  },
  {
   "cell_type": "markdown",
   "metadata": {},
   "source": [
    "With these loaded, the BITE data can be generated:"
   ]
  },
  {
   "cell_type": "code",
   "execution_count": 37,
   "metadata": {},
   "outputs": [],
   "source": [
    "# kubectl logs -n $NS ds-bite-bite-0 -f\n",
    "\n",
    "bite.set_timeout_millis(240000)\n",
    "bite.generate_bite_data()\n",
    "bite.set_timeout_millis(3000)"
   ]
  },
  {
   "cell_type": "markdown",
   "metadata": {},
   "source": [
    "The BITE pod can be monitored during this to ensure it correctly produces the data."
   ]
  },
  {
   "cell_type": "markdown",
   "metadata": {},
   "source": [
    "## 4 Running the 5-Point Scan"
   ]
  },
  {
   "cell_type": "markdown",
   "metadata": {},
   "source": [
    "Now we can actually run the scans:"
   ]
  },
  {
   "cell_type": "markdown",
   "metadata": {},
   "source": [
    "### 4.1 Start Replay"
   ]
  },
  {
   "cell_type": "markdown",
   "metadata": {},
   "source": [
    "Load in the scan file and augment it to match our needs, then use the configure command to pass it in to the CSP."
   ]
  },
  {
   "cell_type": "markdown",
   "metadata": {},
   "source": [
    "Once this is done, we can start the LSTV replay, making sure to record the epoch value provided by it"
   ]
  },
  {
   "cell_type": "code",
   "execution_count": 38,
   "metadata": {},
   "outputs": [
    {
     "data": {
      "text/plain": [
       "[array([0], dtype=int32), ['Successfully started LSTV replay.']]"
      ]
     },
     "execution_count": 38,
     "metadata": {},
     "output_type": "execute_result"
    }
   ],
   "source": [
    "bite.start_lstv_replay()"
   ]
  },
  {
   "cell_type": "markdown",
   "metadata": {},
   "source": [
    "After this command has been sent, the start time can be extracted from the logs:"
   ]
  },
  {
   "cell_type": "code",
   "execution_count": 39,
   "metadata": {},
   "outputs": [
    {
     "name": "stdout",
     "output_type": "stream",
     "text": [
      "1|2024-07-09T23:28:18.042Z|INFO|Dummy-1|config_lstv_replay|bite_client.py#533|tango-device:mid_csp_cbf/ec/bite|start_utc_time_offset = start_utc_time.unix_tai - ska_epoch_tai = 773882935.0402379\n"
     ]
    }
   ],
   "source": [
    "!kubectl logs -n $namespace ds-bite-bite-0 | grep 'start_utc_time.unix_tai - ska_epoch_tai ='"
   ]
  },
  {
   "cell_type": "code",
   "execution_count": 40,
   "metadata": {},
   "outputs": [],
   "source": [
    "target_epoch = 773882935.0"
   ]
  },
  {
   "cell_type": "markdown",
   "metadata": {},
   "source": [
    "With the target epoch ready, we can load it into CSP's delay model."
   ]
  },
  {
   "cell_type": "code",
   "execution_count": 41,
   "metadata": {},
   "outputs": [
    {
     "name": "stdout",
     "output_type": "stream",
     "text": [
      "Delay model JSON:\n",
      "{\n",
      " \"interface\": \"https://schema.skao.int/ska-csp-delaymodel/3.0\",\n",
      " \"start_validity_sec\": 773882935.0,\n",
      " \"cadence_sec\": 400.0,\n",
      " \"validity_period_sec\": 400.0,\n",
      " \"config_id\": \"sbi-mvp01-20200325-00001-science_A\",\n",
      " \"subarray\": 1,\n",
      " \"receptor_delays\": [\n",
      "  {\n",
      "   \"receptor\": \"SKA001\",\n",
      "   \"xypol_coeffs_ns\": [\n",
      "    0.0,\n",
      "    0.0,\n",
      "    0.0,\n",
      "    0.0,\n",
      "    0.0,\n",
      "    0.0\n",
      "   ],\n",
      "   \"ypol_offset_ns\": 0.0\n",
      "  }\n",
      " ]\n",
      "}\n",
      "========================\n"
     ]
    }
   ],
   "source": [
    "with open(CSP_DELAY_MODEL_FILE, encoding=\"utf-8\") as f:\n",
    "    delay_model = json.load(f)\n",
    "delay_model[\"start_validity_sec\"] = target_epoch\n",
    "print(\"Delay model JSON:\")\n",
    "print(json.dumps(delay_model, indent=1))\n",
    "print(\"========================\")"
   ]
  },
  {
   "cell_type": "code",
   "execution_count": 42,
   "metadata": {},
   "outputs": [],
   "source": [
    "delayModelProxy.write_attribute(\"delayModel\", json.dumps(delay_model))"
   ]
  },
  {
   "cell_type": "markdown",
   "metadata": {},
   "source": [
    "### 4.2 Run Scan 1: No Offset"
   ]
  },
  {
   "cell_type": "markdown",
   "metadata": {},
   "source": [
    "First, set up the vis pod to monitor for packets, running this output on the dev server."
   ]
  },
  {
   "cell_type": "code",
   "execution_count": null,
   "metadata": {},
   "outputs": [],
   "source": [
    "!echo kubectl exec -n $namespace-sdp -ti $vis_pod -- bash"
   ]
  },
  {
   "cell_type": "markdown",
   "metadata": {},
   "source": [
    "Once in, install `tcpdump` and run it by copying this command to the bash:"
   ]
  },
  {
   "cell_type": "raw",
   "metadata": {
    "vscode": {
     "languageId": "raw"
    }
   },
   "source": [
    "apt update && apt install -y iproute2 tcpdump && tcpdump -i net1"
   ]
  },
  {
   "cell_type": "markdown",
   "metadata": {},
   "source": [
    "Then have the subarray scan without setting an offset, such that it scans at [0,0]."
   ]
  },
  {
   "cell_type": "code",
   "execution_count": null,
   "metadata": {},
   "outputs": [],
   "source": [
    "long_basic_scan_json = {\n",
    "    \"interface\": \"https://schema.skao.int/ska-tmc-scan/2.1\",\n",
    "    \"transaction_id\": \"txn-....-00003\",\n",
    "    \"scan_id\": 1,\n",
    "}"
   ]
  },
  {
   "cell_type": "code",
   "execution_count": null,
   "metadata": {},
   "outputs": [],
   "source": [
    "tmc_subarray.Scan(json.dumps(long_basic_scan_json))\n",
    "wait_for_state(cbf_subarray, 5)\n",
    "print(\"Central Scan has started, giving it some time to run...\")\n",
    "sleep(100)\n",
    "tmc_subarray.EndScan()\n",
    "wait_for_state(cbf_subarray, 4)"
   ]
  },
  {
   "cell_type": "markdown",
   "metadata": {},
   "source": [
    "Watch the logs to ensure the proper packet lengths, Once this passes, the offset scans can be run."
   ]
  },
  {
   "cell_type": "markdown",
   "metadata": {},
   "source": [
    "### 4.3 Run Offset Scans 2-5"
   ]
  },
  {
   "cell_type": "markdown",
   "metadata": {},
   "source": [
    "**This is currently blocked as reconfiguration causes low-level TANGO memory allocation issues**"
   ]
  },
  {
   "cell_type": "markdown",
   "metadata": {},
   "source": [
    "Now, loop through the offset scans, using the combos to set the scan json. For each, we configure by passing in JSON, then scan again, letting it run before stopping."
   ]
  },
  {
   "cell_type": "code",
   "execution_count": null,
   "metadata": {},
   "outputs": [],
   "source": [
    "count = 4\n",
    "for offset in SCAN_COMBOS:\n",
    "    print(f\"setting offset to: {offset}\")\n",
    "\n",
    "    # Configure for this offset scan\n",
    "    partial_configure_json = {\n",
    "        \"interface\": \"https://schema.skao.int/ska-tmc-configure/2.2\",\n",
    "        \"transaction_id\": f\"txn-....-0000{count}\",\n",
    "        \"scan_id\": count,\n",
    "        \"pointing\": {\"target\": {\"ca_offset_arcsec\": offset[0], \"ie_offset_arcsec\": offset[1]}},\n",
    "        \"tmc\": {\"partial_configuration\": True},\n",
    "    }\n",
    "    print(\"Partial Config to load:\")\n",
    "    print(json.dumps(partial_configure_json, indent=1))\n",
    "    print(\".......\")\n",
    "    leaf_node_subarray.Configure(json.dumps(partial_configure_json))\n",
    "    wait_for_state(cbf_subarray, 4)\n",
    "    sleep(10)\n",
    "    # Send the Scan command along with relevant JSON,incrementing the scan ID and transaction ID\n",
    "    partial_scan_json = {\n",
    "        \"interface\": \"https://schema.skao.int/ska-tmc-scan/2.1\",\n",
    "        \"transaction_id\": f\"txn-....-0000{count+4}\",\n",
    "        \"scan_id\": 2 + count,\n",
    "    }\n",
    "    leaf_node_subarray.Scan(json.dumps(partial_scan_json))\n",
    "    wait_for_state(cbf_subarray, 5)\n",
    "    # let the scan run for a bit...\n",
    "    sleep(200)\n",
    "    leaf_node_subarray.EndScan()\n",
    "    wait_for_state(cbf_subarray, 4)\n",
    "\n",
    "    count += 1\n",
    "    print(\"============================\")\n",
    "print(\"Done offsets!\")"
   ]
  },
  {
   "cell_type": "markdown",
   "metadata": {},
   "source": [
    "## 5 Cleanup:"
   ]
  },
  {
   "cell_type": "code",
   "execution_count": null,
   "metadata": {},
   "outputs": [],
   "source": [
    "tmc_subarray.GoToIdle()"
   ]
  },
  {
   "cell_type": "code",
   "execution_count": null,
   "metadata": {},
   "outputs": [],
   "source": [
    "tmc_subarray.ReleaseAllResources()"
   ]
  },
  {
   "cell_type": "code",
   "execution_count": null,
   "metadata": {},
   "outputs": [],
   "source": [
    "tmc_subarray.ObsReset()"
   ]
  }
 ],
 "metadata": {
  "kernelspec": {
   "display_name": "al_venv2",
   "language": "python",
   "name": "python3"
  },
  "language_info": {
   "codemirror_mode": {
    "name": "ipython",
    "version": 3
   },
   "file_extension": ".py",
   "mimetype": "text/x-python",
   "name": "python",
   "nbconvert_exporter": "python",
   "pygments_lexer": "ipython3",
   "version": "3.10.14"
  }
 },
 "nbformat": 4,
 "nbformat_minor": 2
}
