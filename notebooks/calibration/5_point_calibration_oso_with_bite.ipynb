{
 "cells": [
  {
   "cell_type": "markdown",
   "metadata": {},
   "source": [
    "# Running a 5-Point Calibration Scan With OSO and BITE"
   ]
  },
  {
   "cell_type": "markdown",
   "metadata": {},
   "source": [
    "This notebook adapts the Five Point Calibration Scan notebook to work with PSI. Running this notebook requires that a PSI namespace be spun up with `DISH_LMC_ENABLED` set to true."
   ]
  },
  {
   "cell_type": "markdown",
   "metadata": {},
   "source": [
    "## 1 Setup "
   ]
  },
  {
   "cell_type": "markdown",
   "metadata": {},
   "source": [
    "### 1.1 Environment Setup"
   ]
  },
  {
   "cell_type": "code",
   "execution_count": 1,
   "metadata": {},
   "outputs": [],
   "source": [
    "import json\n",
    "import os\n",
    "from time import sleep\n",
    "\n",
    "from ska_oso_scripting import oda_helper\n",
    "from ska_oso_scripting.functions import pdm_transforms\n",
    "from ska_oso_scripting.functions.sb import create_sbi, load_sbd\n",
    "from ska_oso_scripting.objects import SubArray, Telescope\n",
    "from tango import DevFailed, DeviceProxy"
   ]
  },
  {
   "cell_type": "markdown",
   "metadata": {},
   "source": [
    "Until notebook clean up is merged need to use this for waiting for state "
   ]
  },
  {
   "cell_type": "code",
   "execution_count": 2,
   "metadata": {},
   "outputs": [],
   "source": [
    "spinner = [\"⣾\", \"⣽\", \"⣻\", \"⢿\", \"⡿\", \"⣟\", \"⣯\", \"⣷\"]\n",
    "\n",
    "\n",
    "def wait_for_state(device: DeviceProxy, desired_state, break_on_error=True) -> None:\n",
    "    \"\"\"Poll a tango device until either the given observation state is reached, or it throws an error.\n",
    "    Arguments:\n",
    "    device -- Tango Device to check\n",
    "    desired_state -- The state which to break upon getting (number or state)\n",
    "    break_on_error -- If set to False, will keeping running when getting an error status.\n",
    "    \"\"\"\n",
    "    spinL = 0\n",
    "    poll = 1\n",
    "    while device.obsState != desired_state:\n",
    "        if spinL < len(spinner) - 1:\n",
    "            spinL += 1\n",
    "        else:\n",
    "            spinL = 0\n",
    "        sleep(0.5)\n",
    "        print(\n",
    "            \"\\r\",\n",
    "            f\"{spinner[spinL]} Poll# {poll}: Current state is {device.obsState.name}, waiting for {desired_state}...\",\n",
    "            end=\"\",\n",
    "        )\n",
    "        if device.obsState == 9 and break_on_error:\n",
    "            break\n",
    "        poll += 1\n",
    "    print(f\"\\nFinished with: {device.obsState.name}\")"
   ]
  },
  {
   "cell_type": "markdown",
   "metadata": {},
   "source": [
    "### 1.2 Set Variables"
   ]
  },
  {
   "cell_type": "markdown",
   "metadata": {},
   "source": [
    "First, grab the namespace launched from the pipeline:"
   ]
  },
  {
   "cell_type": "code",
   "execution_count": 3,
   "metadata": {},
   "outputs": [
    {
     "name": "stdout",
     "output_type": "stream",
     "text": [
      "ci-ska-mid-psi-1383672017-amjoshi                        Active   16h\n",
      "ci-ska-mid-psi-1383672017-amjoshi-sdp                    Active   16h\n",
      "ci-ska-mid-psi-1385069500-alexschell                     Active   13m\n",
      "ci-ska-mid-psi-1385069500-alexschell-sdp                 Active   13m\n"
     ]
    }
   ],
   "source": [
    "!kubectl get ns | grep ska-mid-psi "
   ]
  },
  {
   "cell_type": "markdown",
   "metadata": {},
   "source": [
    "And load it into the variables for the notebook:"
   ]
  },
  {
   "cell_type": "code",
   "execution_count": 4,
   "metadata": {},
   "outputs": [],
   "source": [
    "namespace = \"ci-ska-mid-psi-1385069500-alexschell\"  # set to desired NS\n",
    "simulation_mode = 0  # set to 1 to run in sim mode\n",
    "target_boards_list = [2]  # assign boards\n",
    "test_id = \"talon2 basic gaussian noise\"  # Test to send config from\n",
    "server = \"ska-sdp-kafka.\" + namespace + \".svc.cluster.local:9092\"\n",
    "subarray_id = 1"
   ]
  },
  {
   "cell_type": "markdown",
   "metadata": {},
   "source": [
    "Next, load all the other vars the notebook will use. These should not need to be changed for this run."
   ]
  },
  {
   "cell_type": "code",
   "execution_count": 5,
   "metadata": {},
   "outputs": [],
   "source": [
    "# Fully Qualified Domain Names for the devices to set up proxies\n",
    "CSP_CONTROLLER_FQDN = \"mid-csp/control/0\"\n",
    "CSP_SUBARRAY_FQDN = \"mid-csp/subarray/01\"\n",
    "\n",
    "CENTRAL_NODE_FQDN = \"ska_mid/tm_central/central_node\"\n",
    "LEAF_NODE_SUBARRAY_FQDN = \"ska_mid/tm_leaf_node/csp_subarray01\"\n",
    "TMC_SUBARRAY_FQDN = \"ska_mid/tm_subarray_node/1\"\n",
    "\n",
    "CBF_SUBARRAY_FQDN = \"mid_csp_cbf/sub_elt/subarray_01\"\n",
    "\n",
    "BITE_FQDN = \"mid_csp_cbf/ec/bite\"\n",
    "DEPLOYER_FQDN = \"mid_csp_cbf/ec/deployer\"\n",
    "\n",
    "# Tango host environment variable\n",
    "TANGO_HOST = \"databaseds-tango-base.\" + namespace + \".svc.cluster.local:10000\"\n",
    "\n",
    "# Parent directory to use to grab config files.\n",
    "DATA_DIR = os.path.join(os.path.dirname(os.path.dirname(os.getcwd())), \"data\")\n",
    "# Config file directories\n",
    "COMMON_CONFIG = os.path.join(DATA_DIR, \"mid_telescope/cbf\")\n",
    "CSP_CONFIG = os.path.join(DATA_DIR, \"mid_telescope/csp\")\n",
    "TMC_CONFIG = os.path.join(DATA_DIR, \"mid_telescope/tmc\")\n",
    "HW_CONFIG = os.path.join(COMMON_CONFIG, \"hw_config\")\n",
    "SLIM_CONFIG = os.path.join(COMMON_CONFIG, \"slim_config\")\n",
    "CBF_INPUT_DIR = os.path.join(COMMON_CONFIG, \"cbf_input_data\")\n",
    "# For mapping the talon boards to receptor\n",
    "RECEPTOR_MAP = [\"SKA001\", \"SKA036\", \"SKA063\", \"SKA100\"]"
   ]
  },
  {
   "cell_type": "markdown",
   "metadata": {},
   "source": [
    "Next, set the environment arg for TANGO HOST:"
   ]
  },
  {
   "cell_type": "code",
   "execution_count": 6,
   "metadata": {},
   "outputs": [
    {
     "name": "stdout",
     "output_type": "stream",
     "text": [
      "Will be using HOST:  databaseds-tango-base.ci-ska-mid-psi-1385069500-alexschell.svc.cluster.local:10000\n"
     ]
    }
   ],
   "source": [
    "print(\"Will be using HOST: \", TANGO_HOST)\n",
    "os.environ[\"TANGO_HOST\"] = TANGO_HOST\n",
    "os.environ[\"SKUID_URL\"] = (\n",
    "    \"ska-ser-skuid-test-1385069500-5c6d7bcd9b-njs29.ci-ska-mid-psi-1379504815-alexschell.svc.cluster.local:9870\"\n",
    ")"
   ]
  },
  {
   "cell_type": "markdown",
   "metadata": {},
   "source": [
    "Also set the URL for ODA"
   ]
  },
  {
   "cell_type": "code",
   "execution_count": 18,
   "metadata": {},
   "outputs": [
    {
     "name": "stdout",
     "output_type": "stream",
     "text": [
      "ODA endpoint set to:http://142.73.34.170/ci-ska-mid-psi-1385069500-alexschell/oda/api/v5/\n",
      "This can be checked via http://142.73.34.170/ci-ska-mid-psi-1385069500-alexschell/oda/api/v5/ui\n"
     ]
    }
   ],
   "source": [
    "os.environ[\"ODA_URL\"] = f\"http://142.73.34.170/{namespace}/oda/api/v5/\"\n",
    "print(\"ODA endpoint set to:{}\".format(os.environ[\"ODA_URL\"]))\n",
    "print(\"This can be checked via {}ui\".format(os.environ[\"ODA_URL\"]))"
   ]
  },
  {
   "cell_type": "code",
   "execution_count": 8,
   "metadata": {},
   "outputs": [],
   "source": [
    "os.environ[\"telescope\"] = \"mid\""
   ]
  },
  {
   "cell_type": "markdown",
   "metadata": {},
   "source": [
    "With all the file paths defined the JSON files can be loaded in and checked."
   ]
  },
  {
   "cell_type": "code",
   "execution_count": 9,
   "metadata": {},
   "outputs": [
    {
     "name": "stdout",
     "output_type": "stream",
     "text": [
      "Getting files...\n",
      "/home/al097049_p/SKAcode/ska-mid-jupyter-notebooks/data/mid_telescope/cbf/sys_params/initial_system_param.json exists: ✔️\n",
      "/home/al097049_p/SKAcode/ska-mid-jupyter-notebooks/data/mid_telescope/tmc/assign_resources.json exists: ✔️\n",
      "/home/al097049_p/SKAcode/ska-mid-jupyter-notebooks/data/mid_telescope/tmc/configure_scan.json exists: ✔️\n",
      "/home/al097049_p/SKAcode/ska-mid-jupyter-notebooks/data/mid_telescope/tmc/scan.json exists: ✔️\n",
      "/home/al097049_p/SKAcode/ska-mid-jupyter-notebooks/data/mid_telescope/cbf/cbf_input_data/cbf_input_data.json exists: ✔️\n",
      "/home/al097049_p/SKAcode/ska-mid-jupyter-notebooks/data/mid_telescope/cbf/cbf_input_data/bite_config_parameters/bite_configs.json exists: ✔️\n",
      "/home/al097049_p/SKAcode/ska-mid-jupyter-notebooks/data/mid_telescope/cbf/cbf_input_data/bite_config_parameters/filters.json exists: ✔️\n",
      "/home/al097049_p/SKAcode/ska-mid-jupyter-notebooks/data/mid_telescope/cbf/sys_params/load_dish_config.json exists: ✔️\n"
     ]
    }
   ],
   "source": [
    "print(\"Getting files...\")\n",
    "\n",
    "INIT_SYS_PARAM_FILE = os.path.join(COMMON_CONFIG, \"sys_params/initial_system_param.json\")\n",
    "ASSIGN_RESOURCES_FILE = os.path.join(TMC_CONFIG, \"assign_resources.json\")\n",
    "CONFIGURE_SCAN_FILE = os.path.join(TMC_CONFIG, \"configure_scan.json\")\n",
    "SCAN_FILE = os.path.join(TMC_CONFIG, \"scan.json\")\n",
    "\n",
    "CBF_INPUT_FILE = f\"{CBF_INPUT_DIR}/cbf_input_data.json\"\n",
    "BITE_CONFIG_FILE = f\"{CBF_INPUT_DIR}/bite_config_parameters/bite_configs.json\"\n",
    "FILTERS_FILE = f\"{CBF_INPUT_DIR}/bite_config_parameters/filters.json\"\n",
    "\n",
    "DISH_CONFIG_FILE = f\"{COMMON_CONFIG}/sys_params/load_dish_config.json\"\n",
    "\n",
    "START_CHANNEL = 0\n",
    "END_CHANNEL = 14860\n",
    "START_PORT = 21000\n",
    "\n",
    "SCAN_COMBOS = [[0.0, 5.0], [0.0, -5.0], [5.0, 0.0], [-5.0, 0.0]]\n",
    "\n",
    "files = [\n",
    "    INIT_SYS_PARAM_FILE,\n",
    "    ASSIGN_RESOURCES_FILE,\n",
    "    CONFIGURE_SCAN_FILE,\n",
    "    SCAN_FILE,\n",
    "    CBF_INPUT_FILE,\n",
    "    BITE_CONFIG_FILE,\n",
    "    FILTERS_FILE,\n",
    "    DISH_CONFIG_FILE,\n",
    "]\n",
    "\n",
    "for file in files:\n",
    "    if os.path.isfile(file):\n",
    "        print(f\"{file} exists: ✔️\")\n",
    "    else:\n",
    "        print(f\"{file} does not exist ❌\")"
   ]
  },
  {
   "cell_type": "markdown",
   "metadata": {},
   "source": [
    "Next, set up the hw config to match the boards in use:"
   ]
  },
  {
   "cell_type": "code",
   "execution_count": 10,
   "metadata": {},
   "outputs": [
    {
     "name": "stdout",
     "output_type": "stream",
     "text": [
      "Using standard HW config\n",
      "HW config: ✔️\n"
     ]
    }
   ],
   "source": [
    "if any(i > 4 for i in target_boards_list):\n",
    "    print(\"Using swap for higher number talons\")\n",
    "    config = \"hw_config_swap_psi.yaml\"\n",
    "    print(\"Modifying target to use lower nums to match swap file\")\n",
    "    target_boards_list = list(map(lambda x: x - 4, target_boards_list))\n",
    "\n",
    "else:\n",
    "    print(\"Using standard HW config\")\n",
    "    config = \"hw_config_psi.yaml\"\n",
    "\n",
    "HW_CONFIG_FILE = os.path.join(HW_CONFIG, config)\n",
    "if os.path.isfile(HW_CONFIG_FILE):\n",
    "    print(\"HW config: ✔️\")\n",
    "else:\n",
    "    print(\"hw config: ❌\")\n",
    "\n",
    "receptor_ids = list(map(lambda x: RECEPTOR_MAP[x - 1], target_boards_list))"
   ]
  },
  {
   "cell_type": "markdown",
   "metadata": {},
   "source": [
    "If the HW config file exists, it is loaded into the pod:"
   ]
  },
  {
   "cell_type": "code",
   "execution_count": 11,
   "metadata": {},
   "outputs": [],
   "source": [
    "!kubectl cp $HW_CONFIG_FILE $namespace/ds-cbfcontroller-controller-0:/app/mnt/hw_config/hw_config.yaml "
   ]
  },
  {
   "cell_type": "markdown",
   "metadata": {},
   "source": [
    "### 1.3 Create Device Proxies"
   ]
  },
  {
   "cell_type": "markdown",
   "metadata": {},
   "source": [
    "Using the FQDNs set earlier, and with the pod spun up, create device proxies to the devices used and check the connection to them."
   ]
  },
  {
   "cell_type": "code",
   "execution_count": 12,
   "metadata": {},
   "outputs": [
    {
     "name": "stdout",
     "output_type": "stream",
     "text": [
      "CSP Controller: The device is in DISABLE state.\n",
      "CSP Subarray: The device is in DISABLE state.\n",
      "Central Node: The device is in ON state.\n",
      "Leaf Subarray Node: The device is in ON state.\n",
      "TMC subarray Node: The device is in ON state.\n",
      "CBF subarray: The device is in DISABLE state.\n"
     ]
    }
   ],
   "source": [
    "# CSP Devices\n",
    "csp_controller = DeviceProxy(CSP_CONTROLLER_FQDN)\n",
    "print(f\"CSP Controller: {csp_controller.Status()}\")\n",
    "csp_subarray = DeviceProxy(CSP_SUBARRAY_FQDN)\n",
    "print(f\"CSP Subarray: {csp_subarray.Status()}\")\n",
    "\n",
    "# TMC Devices\n",
    "tmc_central_node = DeviceProxy(CENTRAL_NODE_FQDN)\n",
    "print(f\"Central Node: {tmc_central_node.Status()}\")\n",
    "leaf_node_subarray = DeviceProxy(LEAF_NODE_SUBARRAY_FQDN)\n",
    "print(f\"Leaf Subarray Node: {leaf_node_subarray.Status()}\")\n",
    "tmc_subarray = DeviceProxy(TMC_SUBARRAY_FQDN)\n",
    "print(f\"TMC subarray Node: {tmc_subarray.Status()}\")\n",
    "\n",
    "# Deployer for setup and BITE for data mocking\n",
    "bite = DeviceProxy(BITE_FQDN)\n",
    "deployer = DeviceProxy(DEPLOYER_FQDN)\n",
    "\n",
    "# CBF Device\n",
    "cbf_subarray = DeviceProxy(CBF_SUBARRAY_FQDN)\n",
    "print(f\"CBF subarray: {cbf_subarray.Status()}\")"
   ]
  },
  {
   "cell_type": "markdown",
   "metadata": {},
   "source": [
    "### 1.4 Downloading Requirements via the Deployer"
   ]
  },
  {
   "cell_type": "markdown",
   "metadata": {},
   "source": [
    "First, set the board to deploy to and turn on the deployer device."
   ]
  },
  {
   "cell_type": "code",
   "execution_count": 13,
   "metadata": {},
   "outputs": [
    {
     "name": "stdout",
     "output_type": "stream",
     "text": [
      "[2]\n"
     ]
    }
   ],
   "source": [
    "deployer.On()\n",
    "deployer.targetTalons = target_boards_list\n",
    "print(deployer.targetTalons)\n",
    "deployer.generate_config_jsons()"
   ]
  },
  {
   "cell_type": "markdown",
   "metadata": {},
   "source": [
    "Once started and configured, the required devices can then be downloaded."
   ]
  },
  {
   "cell_type": "code",
   "execution_count": 14,
   "metadata": {},
   "outputs": [],
   "source": [
    "deployer.set_timeout_millis(400000)\n",
    "try:\n",
    "    deployer.download_artifacts()\n",
    "except DevFailed as e:\n",
    "    print(e)\n",
    "    print(\n",
    "        \"Timed out, this is likely due to the download taking some time. Check the logs with the code space below after some time to see if it passes.\"\n",
    "    )\n",
    "deployer.set_timeout_millis(3000)"
   ]
  },
  {
   "cell_type": "markdown",
   "metadata": {},
   "source": [
    "Now configure the device database with the downloaded devices:"
   ]
  },
  {
   "cell_type": "code",
   "execution_count": 15,
   "metadata": {},
   "outputs": [],
   "source": [
    "deployer.configure_db()"
   ]
  },
  {
   "cell_type": "markdown",
   "metadata": {},
   "source": [
    "### 1.5 Set up Execution Block"
   ]
  },
  {
   "cell_type": "markdown",
   "metadata": {},
   "source": [
    "The first step is to generate an empty Execution Block, using the help to work with the API endpoint:"
   ]
  },
  {
   "cell_type": "code",
   "execution_count": 19,
   "metadata": {},
   "outputs": [],
   "source": [
    "exec_block_id = oda_helper.create_eb(telescope=\"ska_mid\")\n",
    "print(exec_block_id)"
   ]
  },
  {
   "cell_type": "markdown",
   "metadata": {},
   "source": [
    "### 2 Preparing Telescope"
   ]
  },
  {
   "cell_type": "code",
   "execution_count": 21,
   "metadata": {},
   "outputs": [],
   "source": [
    "sub = SubArray(subarray_id)\n",
    "tel = Telescope()"
   ]
  }
 ],
 "metadata": {
  "kernelspec": {
   "display_name": "notebook_env",
   "language": "python",
   "name": "python3"
  },
  "language_info": {
   "codemirror_mode": {
    "name": "ipython",
    "version": 3
   },
   "file_extension": ".py",
   "mimetype": "text/x-python",
   "name": "python",
   "nbconvert_exporter": "python",
   "pygments_lexer": "ipython3",
   "version": "3.10.14"
  }
 },
 "nbformat": 4,
 "nbformat_minor": 2
}
