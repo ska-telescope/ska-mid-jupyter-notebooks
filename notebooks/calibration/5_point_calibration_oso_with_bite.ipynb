{
 "cells": [
  {
   "cell_type": "markdown",
   "metadata": {},
   "source": [
    "# Running a 5-Point Calibration Scan With OSO and BITE"
   ]
  },
  {
   "cell_type": "markdown",
   "metadata": {},
   "source": [
    "This notebook adapts the Five Point Calibration Scan notebook to work with PSI. Running this notebook requires that a PSI namespace be spun up with `DISH_LMC_ENABLED` set to true."
   ]
  },
  {
   "cell_type": "markdown",
   "metadata": {},
   "source": [
    "## 1 Setup "
   ]
  },
  {
   "cell_type": "markdown",
   "metadata": {},
   "source": [
    "### 1.1 Environment Setup"
   ]
  },
  {
   "cell_type": "code",
   "execution_count": null,
   "metadata": {},
   "outputs": [],
   "source": [
    "import json\n",
    "import os\n",
    "from time import sleep\n",
    "\n",
    "from ska_oso_scripting import oda_helper\n",
    "from ska_oso_scripting.functions import pdm_transforms\n",
    "from ska_oso_scripting.functions.sb import create_sbi, load_sbd\n",
    "from ska_oso_scripting.objects import SubArray, Telescope\n",
    "from tango import DevFailed, DeviceProxy"
   ]
  },
  {
   "cell_type": "markdown",
   "metadata": {},
   "source": [
    "Until notebook clean up is merged need to use this for waiting for state "
   ]
  },
  {
   "cell_type": "code",
   "execution_count": null,
   "metadata": {},
   "outputs": [],
   "source": [
    "spinner = [\"⣾\", \"⣽\", \"⣻\", \"⢿\", \"⡿\", \"⣟\", \"⣯\", \"⣷\"]\n",
    "\n",
    "\n",
    "def wait_for_state(device: DeviceProxy, desired_state, break_on_error=True) -> None:\n",
    "    \"\"\"Poll a tango device until either the given observation state is reached, or it throws an error.\n",
    "    Arguments:\n",
    "    device -- Tango Device to check\n",
    "    desired_state -- The state which to break upon getting (number or state)\n",
    "    break_on_error -- If set to False, will keeping running when getting an error status.\n",
    "    \"\"\"\n",
    "    spinL = 0\n",
    "    poll = 1\n",
    "    while device.obsState != desired_state:\n",
    "        if spinL < len(spinner) - 1:\n",
    "            spinL += 1\n",
    "        else:\n",
    "            spinL = 0\n",
    "        sleep(0.5)\n",
    "        print(\n",
    "            \"\\r\",\n",
    "            f\"{spinner[spinL]} Poll# {poll}: Current state is {device.obsState.name}, waiting for {desired_state}...\",\n",
    "            end=\"\",\n",
    "        )\n",
    "        if device.obsState == 9 and break_on_error:\n",
    "            break\n",
    "        poll += 1\n",
    "    print(f\"\\nFinished with: {device.obsState.name}\")"
   ]
  }
 ],
 "metadata": {
  "kernelspec": {
   "display_name": "notebook_env",
   "language": "python",
   "name": "python3"
  },
  "language_info": {
   "name": "python",
   "version": "3.10.14"
  }
 },
 "nbformat": 4,
 "nbformat_minor": 2
}
