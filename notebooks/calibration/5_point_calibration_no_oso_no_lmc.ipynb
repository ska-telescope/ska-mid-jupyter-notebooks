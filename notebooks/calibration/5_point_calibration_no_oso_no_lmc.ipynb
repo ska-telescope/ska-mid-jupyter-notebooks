{
 "cells": [
  {
   "cell_type": "markdown",
   "metadata": {},
   "source": [
    "# Running a 5-Point Calibration Scan Without OSO Using BITE"
   ]
  },
  {
   "cell_type": "markdown",
   "metadata": {},
   "source": [
    "This notebook adapts the [Five Point Calibration Scan Controls](https://gitlab.com/ska-telescope/ska-jupyter-scripting/-/blob/main/notebooks/observing/MID_five_point_calibration_scan_controls.ipynb?ref_type=heads) notebook to work with PSI. Running this notebook requires a PSI namespace to be spun up with the CI argument `TMC_ENABLED` set to `true`."
   ]
  },
  {
   "cell_type": "markdown",
   "metadata": {},
   "source": [
    "## 1 Setup"
   ]
  },
  {
   "cell_type": "markdown",
   "metadata": {},
   "source": [
    "## 1.1 Environment Setup"
   ]
  },
  {
   "cell_type": "markdown",
   "metadata": {},
   "source": [
    "Start by importing all the libraries we'll be using for this notebook."
   ]
  },
  {
   "cell_type": "code",
   "execution_count": 1,
   "metadata": {},
   "outputs": [],
   "source": [
    "import json\n",
    "import os\n",
    "import random\n",
    "import sys\n",
    "import time\n",
    "from datetime import date\n",
    "from time import sleep\n",
    "\n",
    "from tango import DevFailed, DeviceProxy"
   ]
  },
  {
   "cell_type": "markdown",
   "metadata": {},
   "source": [
    "Until notebook clean up is merged need to use this for waiting for state"
   ]
  },
  {
   "cell_type": "code",
   "execution_count": 2,
   "metadata": {},
   "outputs": [],
   "source": [
    "spinner = [\"⣾\", \"⣽\", \"⣻\", \"⢿\", \"⡿\", \"⣟\", \"⣯\", \"⣷\"]\n",
    "\n",
    "\n",
    "def wait_for_state(device: DeviceProxy, desired_state, break_on_error=True) -> None:\n",
    "    \"\"\"Poll a tango device until either the given observation state is reached, or it throws an error.\n",
    "    Arguments:\n",
    "    device -- Tango Device to check\n",
    "    desired_state -- The state which to break upon getting (number or state)\n",
    "    break_on_error -- If set to False, will keeping running when getting an error status.\n",
    "    \"\"\"\n",
    "    spinL = 0\n",
    "    poll = 1\n",
    "    while device.obsState != desired_state:\n",
    "        if spinL < len(spinner) - 1:\n",
    "            spinL += 1\n",
    "        else:\n",
    "            spinL = 0\n",
    "        sleep(0.5)\n",
    "        print(\n",
    "            \"\\r\",\n",
    "            f\"{spinner[spinL]} Poll# {poll}: Current state is {device.obsState.name}, waiting for {desired_state}...\",\n",
    "            end=\"\",\n",
    "        )\n",
    "        if device.obsState == 9 and break_on_error:\n",
    "            break\n",
    "        poll += 1\n",
    "    print(f\"\\nFinished with: {device.obsState.name}\")"
   ]
  },
  {
   "cell_type": "markdown",
   "metadata": {},
   "source": [
    "## 1.2 Set Variables"
   ]
  },
  {
   "cell_type": "markdown",
   "metadata": {},
   "source": [
    "First, grab the namespace launched from the pipeline:"
   ]
  },
  {
   "cell_type": "code",
   "execution_count": 3,
   "metadata": {},
   "outputs": [
    {
     "name": "stdout",
     "output_type": "stream",
     "text": [
      "ci-ska-mid-psi-1357947816-alexschell                    Active   7m52s\n",
      "ci-ska-mid-psi-1357947816-alexschell-sdp                Active   8m33s\n"
     ]
    }
   ],
   "source": [
    "!kubectl get ns | grep ska-mid-psi"
   ]
  },
  {
   "cell_type": "markdown",
   "metadata": {},
   "source": [
    "And load it into the variables for the notebook:"
   ]
  },
  {
   "cell_type": "code",
   "execution_count": 4,
   "metadata": {},
   "outputs": [],
   "source": [
    "namespace = \"ci-ska-mid-psi-1357947816-alexschell\"  # set to desired NS\n",
    "simulation_mode = 0  # set to 1 to run in sim mode\n",
    "target_boards_list = [2]  # assign boards\n",
    "delay_model_filename = \"delay_model.json\"  # delay model file to use\n",
    "test_id = \"talon2 basic gaussian noise\"  # Test to send config from"
   ]
  },
  {
   "cell_type": "markdown",
   "metadata": {},
   "source": [
    "Next, we load all the other vars the notebook will use. These should not need to be changed for this run."
   ]
  },
  {
   "cell_type": "code",
   "execution_count": 5,
   "metadata": {},
   "outputs": [],
   "source": [
    "# Fully Qualified Domain Names for the devices to set up proxies\n",
    "CSP_CONTROLLER_FQDN = \"mid-csp/control/0\"\n",
    "CSP_SUBARRAY_FQDN = \"mid-csp/subarray/01\"\n",
    "\n",
    "CENTRAL_NODE_FQDN = \"ska_mid/tm_central/central_node\"\n",
    "LEAF_NODE_FQDN = \"ska_mid/tm_leaf_node/csp_master\"\n",
    "TMC_SUBARRAY_FQDN = \"ska_mid/tm_subarray_node/1\"\n",
    "\n",
    "CBF_CONTROLLER_FQDN = \"mid_csp_cbf/sub_elt/controller\"\n",
    "CBF_SUBARRAY_FQDN = \"mid_csp_cbf/sub_elt/subarray_01\"\n",
    "\n",
    "BITE_FQDN = \"mid_csp_cbf/ec/bite\"\n",
    "DEPLOYER_FQDN = \"mid_csp_cbf/ec/deployer\"\n",
    "\n",
    "# Tango host environment variable\n",
    "TANGO_HOST = \"databaseds-tango-base.\" + namespace + \".svc.cluster.local:10000\"\n",
    "\n",
    "# Parent directory to use to grab config files.\n",
    "DATA_DIR = os.path.join(os.path.dirname(os.path.dirname(os.getcwd())), \"data\")\n",
    "# Config file directories\n",
    "COMMON_CONFIG = os.path.join(DATA_DIR, \"mid_telescope/cbf\")\n",
    "CSP_CONFIG = os.path.join(DATA_DIR, \"mid_telescope/csp\")\n",
    "TMC_CONFIG = os.path.join(DATA_DIR, \"mid_telescope/tmc\")\n",
    "HW_CONFIG = os.path.join(COMMON_CONFIG, \"hw_config\")\n",
    "SLIM_CONFIG = os.path.join(COMMON_CONFIG, \"slim_config\")\n",
    "CBF_INPUT_DIR = os.path.join(COMMON_CONFIG, \"cbf_input_data\")\n",
    "# For mapping the talon boards to receptor\n",
    "RECEPTOR_MAP = [\"SKA001\", \"SKA036\", \"SKA063\", \"SKA100\"]\n",
    "TARGET_BOARDS_STR = \",\".join(str(x) for x in target_boards_list)\n",
    "receptor_ids = list(map(lambda x: RECEPTOR_MAP[x - 1], target_boards_list))"
   ]
  },
  {
   "cell_type": "markdown",
   "metadata": {},
   "source": [
    "Next, set the environment arg for TANGO HOST:"
   ]
  },
  {
   "cell_type": "code",
   "execution_count": 6,
   "metadata": {},
   "outputs": [
    {
     "name": "stdout",
     "output_type": "stream",
     "text": [
      "Will be using HOST:  databaseds-tango-base.ci-ska-mid-psi-1357947816-alexschell.svc.cluster.local:10000\n"
     ]
    }
   ],
   "source": [
    "print(\"Will be using HOST: \", TANGO_HOST)\n",
    "os.environ[\"TANGO_HOST\"] = TANGO_HOST"
   ]
  },
  {
   "cell_type": "markdown",
   "metadata": {},
   "source": [
    "With all the file paths defined we can load in the JSON files and ensure they exist."
   ]
  },
  {
   "cell_type": "code",
   "execution_count": 7,
   "metadata": {},
   "outputs": [
    {
     "name": "stdout",
     "output_type": "stream",
     "text": [
      "Getting files...\n",
      "/home/al097049_p/SKAcode/ska-mid-jupyter-notebooks/data/mid_telescope/cbf/sys_params/initial_system_param.json exists: ✔️\n",
      "/home/al097049_p/SKAcode/ska-mid-jupyter-notebooks/data/mid_telescope/tmc/assign_resources.json exists: ✔️\n",
      "/home/al097049_p/SKAcode/ska-mid-jupyter-notebooks/data/mid_telescope/csp/assign_resources.json exists: ✔️\n",
      "/home/al097049_p/SKAcode/ska-mid-jupyter-notebooks/data/mid_telescope/csp/assign_resources.json exists: ✔️\n",
      "/home/al097049_p/SKAcode/ska-mid-jupyter-notebooks/data/mid_telescope/tmc/configure_scan.json exists: ✔️\n",
      "/home/al097049_p/SKAcode/ska-mid-jupyter-notebooks/data/mid_telescope/tmc/scan.json exists: ✔️\n",
      "/home/al097049_p/SKAcode/ska-mid-jupyter-notebooks/data/mid_telescope/tmc/delay_model.json exists: ✔️\n",
      "/home/al097049_p/SKAcode/ska-mid-jupyter-notebooks/data/mid_telescope/cbf/cbf_input_data/cbf_input_data.json exists: ✔️\n",
      "/home/al097049_p/SKAcode/ska-mid-jupyter-notebooks/data/mid_telescope/cbf/cbf_input_data/bite_config_parameters/bite_configs.json exists: ✔️\n",
      "/home/al097049_p/SKAcode/ska-mid-jupyter-notebooks/data/mid_telescope/cbf/cbf_input_data/bite_config_parameters/filters.json exists: ✔️\n",
      "/home/al097049_p/SKAcode/ska-mid-jupyter-notebooks/data/mid_telescope/cbf/sys_params/load_dish_config.json exists: ✔️\n",
      "Done\n"
     ]
    }
   ],
   "source": [
    "print(\"Getting files...\")\n",
    "\n",
    "INIT_SYS_PARAM_FILE = os.path.join(\n",
    "    COMMON_CONFIG, \"sys_params/initial_system_param.json\"\n",
    ")\n",
    "ASSIGN_RESOURCES_FILE = os.path.join(TMC_CONFIG, \"assign_resources.json\")\n",
    "ASSIGN_CSP_RESOURCES_FILE = os.path.join(CSP_CONFIG, \"assign_resources.json\")\n",
    "CONFIGURE_SCAN_FILE = os.path.join(TMC_CONFIG, \"configure_scan.json\")\n",
    "SCAN_FILE = os.path.join(TMC_CONFIG, \"scan.json\")\n",
    "CSP_DELAY_MODEL_FILE = os.path.join(TMC_CONFIG, delay_model_filename)\n",
    "\n",
    "CBF_INPUT_FILE = f\"{CBF_INPUT_DIR}/cbf_input_data.json\"\n",
    "BITE_CONFIG_FILE = f\"{CBF_INPUT_DIR}/bite_config_parameters/bite_configs.json\"\n",
    "FILTERS_FILE = f\"{CBF_INPUT_DIR}/bite_config_parameters/filters.json\"\n",
    "\n",
    "DISH_CONFIG_FILE = f\"{COMMON_CONFIG}/sys_params/load_dish_config.json\"\n",
    "\n",
    "START_CHANNEL = 0\n",
    "END_CHANNEL = 14860\n",
    "START_PORT = 21000\n",
    "\n",
    "SCAN_COMBOS = [[0.0, 5.0], [0.0, -5.0], [5.0, 0.0], [-5.0, 0.0]]\n",
    "\n",
    "files = [\n",
    "    INIT_SYS_PARAM_FILE,\n",
    "    ASSIGN_RESOURCES_FILE,\n",
    "    ASSIGN_CSP_RESOURCES_FILE,\n",
    "    ASSIGN_CSP_RESOURCES_FILE,\n",
    "    CONFIGURE_SCAN_FILE,\n",
    "    SCAN_FILE,\n",
    "    CSP_DELAY_MODEL_FILE,\n",
    "    CBF_INPUT_FILE,\n",
    "    BITE_CONFIG_FILE,\n",
    "    FILTERS_FILE,\n",
    "    DISH_CONFIG_FILE,\n",
    "]\n",
    "\n",
    "for file in files:\n",
    "    if os.path.isfile(file):\n",
    "        print(f\"{file} exists: ✔️\")\n",
    "    else:\n",
    "        print(f\"{file} does not exist ❌\")\n",
    "\n",
    "print(\"Done\")"
   ]
  },
  {
   "cell_type": "markdown",
   "metadata": {},
   "source": [
    "Next, set up the hw config to match the boards in use:"
   ]
  },
  {
   "cell_type": "code",
   "execution_count": 8,
   "metadata": {},
   "outputs": [
    {
     "name": "stdout",
     "output_type": "stream",
     "text": [
      "Using standard HW config\n",
      "HW config: ✔️\n"
     ]
    }
   ],
   "source": [
    "if any(i > 4 for i in target_boards_list):\n",
    "    print(\"Using swap for higher number talons\")\n",
    "    config = \"hw_config_swap_psi.yaml\"\n",
    "    print(\"Modifying target to use lower nums to match swap file\")\n",
    "    target_boards_list = list(map(lambda x: x - 4, target_boards_list))\n",
    "\n",
    "else:\n",
    "    print(\"Using standard HW config\")\n",
    "    config = \"hw_config_psi.yaml\"\n",
    "\n",
    "HW_CONFIG_FILE = os.path.join(HW_CONFIG, config)\n",
    "if os.path.isfile(HW_CONFIG_FILE):\n",
    "    print(\"HW config: ✔️\")\n",
    "else:\n",
    "    print(\"hw config: ❌\")\n",
    "TARGET_BOARDS_STR = \",\".join(str(x) for x in target_boards_list)"
   ]
  },
  {
   "cell_type": "markdown",
   "metadata": {},
   "source": [
    "If the HW config file exists, we can load it into the pod:"
   ]
  },
  {
   "cell_type": "code",
   "execution_count": 9,
   "metadata": {},
   "outputs": [],
   "source": [
    "!kubectl cp $HW_CONFIG_FILE $namespace/ds-cbfcontroller-controller-0:/app/mnt/hw_config/hw_config.yaml"
   ]
  },
  {
   "cell_type": "markdown",
   "metadata": {},
   "source": [
    "Next we can run the deployer to get everything needed for this run"
   ]
  },
  {
   "cell_type": "markdown",
   "metadata": {},
   "source": [
    "### 1.3 Create Device Proxies"
   ]
  },
  {
   "cell_type": "markdown",
   "metadata": {},
   "source": [
    "Using the FQDNs we set earlier, and with the pod spun up, we can create device proxies to the devices we'll be using and check the connection to them."
   ]
  },
  {
   "cell_type": "code",
   "execution_count": 10,
   "metadata": {},
   "outputs": [
    {
     "name": "stdout",
     "output_type": "stream",
     "text": [
      "CSP Controller: The device is in DISABLE state.\n",
      "CSP Subarray: The device is in DISABLE state.\n",
      "Central Node: The device is in ON state.\n",
      "Leaf Node: The device is in ON state.\n",
      "TMC subarray Node: The device is in ON state.\n",
      "CBF controller: The device is in DISABLE state.\n",
      "CBF subarray: The device is in DISABLE state.\n"
     ]
    }
   ],
   "source": [
    "csp_controller = DeviceProxy(CSP_CONTROLLER_FQDN)\n",
    "print(f\"CSP Controller: {csp_controller.Status()}\")\n",
    "csp_subarray = DeviceProxy(CSP_SUBARRAY_FQDN)\n",
    "print(f\"CSP Subarray: {csp_subarray.Status()}\")\n",
    "\n",
    "tmc_central_node = DeviceProxy(CENTRAL_NODE_FQDN)\n",
    "print(f\"Central Node: {tmc_central_node.Status()}\")\n",
    "leaf_node = DeviceProxy(LEAF_NODE_FQDN)\n",
    "print(f\"Leaf Node: {leaf_node.Status()}\")\n",
    "tmc_subarray = DeviceProxy(TMC_SUBARRAY_FQDN)\n",
    "print(f\"TMC subarray Node: {tmc_subarray.Status()}\")\n",
    "\n",
    "bite = DeviceProxy(BITE_FQDN)\n",
    "deployer = DeviceProxy(DEPLOYER_FQDN)\n",
    "\n",
    "cbf_controller = DeviceProxy(CBF_CONTROLLER_FQDN)\n",
    "print(f\"CBF controller: {cbf_controller.Status()}\")\n",
    "cbf_subarray = DeviceProxy(CBF_SUBARRAY_FQDN)\n",
    "print(f\"CBF subarray: {cbf_subarray.Status()}\")"
   ]
  },
  {
   "cell_type": "markdown",
   "metadata": {},
   "source": [
    "### 1.4 Downloading Requirements via the Deployer"
   ]
  },
  {
   "cell_type": "markdown",
   "metadata": {},
   "source": [
    "First, set the board we'll be deploying to and turn on the deployer device."
   ]
  },
  {
   "cell_type": "code",
   "execution_count": 11,
   "metadata": {},
   "outputs": [
    {
     "name": "stdout",
     "output_type": "stream",
     "text": [
      "[2]\n"
     ]
    }
   ],
   "source": [
    "deployer.On()\n",
    "deployer.targetTalons = target_boards_list\n",
    "print(deployer.targetTalons)\n",
    "deployer.generate_config_jsons()"
   ]
  },
  {
   "cell_type": "markdown",
   "metadata": {},
   "source": [
    "Once started and configured, the required devices can then be downloaded."
   ]
  },
  {
   "cell_type": "code",
   "execution_count": 12,
   "metadata": {},
   "outputs": [],
   "source": [
    "deployer.set_timeout_millis(400000)\n",
    "try:\n",
    "    deployer.download_artifacts()\n",
    "except DevFailed as e:\n",
    "    print(e)\n",
    "    print(\n",
    "        \"Timed out, this is likely due to the download taking some time. Check the logs with the code space below after some time to see if it passes.\"\n",
    "    )\n",
    "deployer.set_timeout_millis(3000)"
   ]
  },
  {
   "cell_type": "markdown",
   "metadata": {},
   "source": [
    "Now configure the device database with the downloaded devices:"
   ]
  },
  {
   "cell_type": "code",
   "execution_count": 13,
   "metadata": {},
   "outputs": [],
   "source": [
    "deployer.configure_db()"
   ]
  },
  {
   "cell_type": "markdown",
   "metadata": {},
   "source": [
    "## 2 Setting up the Devices"
   ]
  },
  {
   "cell_type": "markdown",
   "metadata": {},
   "source": [
    "### 2.1 Start up CSP Controller"
   ]
  },
  {
   "cell_type": "markdown",
   "metadata": {},
   "source": [
    "Now setup the CSP proxy, and load in the relevant values:"
   ]
  },
  {
   "cell_type": "code",
   "execution_count": 28,
   "metadata": {},
   "outputs": [
    {
     "name": "stdout",
     "output_type": "stream",
     "text": [
      "Set to simulation mode on.\n"
     ]
    }
   ],
   "source": [
    "# Set relevant values on the mid-csp controller\n",
    "csp_controller.adminMode = 0\n",
    "csp_subarray.adminMode = 0\n",
    "sleep(1)\n",
    "csp_controller.cbfSimulationMode = simulation_mode\n",
    "csp_subarray.SimulationMode = simulation_mode\n",
    "sleep(1)\n",
    "if (\n",
    "    csp_controller.read_attribute(\"adminMode\").value == 0\n",
    "    and csp_controller.read_attribute(\"cbfSimulationMode\").value == 0\n",
    "):\n",
    "    print(\"Set to simulation mode off.\")\n",
    "elif (\n",
    "    csp_controller.read_attribute(\"adminMode\").value == 0\n",
    "    and csp_controller.read_attribute(\"cbfSimulationMode\").value == 1\n",
    "):\n",
    "    print(\"Set to simulation mode on.\")\n",
    "else:\n",
    "    print(\"Error, couldn't set values!\")"
   ]
  },
  {
   "cell_type": "markdown",
   "metadata": {},
   "source": [
    "Next we can load in the dish config file to the central node:"
   ]
  },
  {
   "cell_type": "code",
   "execution_count": 15,
   "metadata": {},
   "outputs": [
    {
     "data": {
      "text/plain": [
       "[array([2], dtype=int32), ['1719953381.9908297_104212624019405_LoadDishCfg']]"
      ]
     },
     "execution_count": 15,
     "metadata": {},
     "output_type": "execute_result"
    }
   ],
   "source": [
    "with open(DISH_CONFIG_FILE, encoding=\"utf-8\") as f:\n",
    "    dish_config_json = f.read()\n",
    "tmc_central_node.LoadDishCfg(dish_config_json)"
   ]
  },
  {
   "cell_type": "markdown",
   "metadata": {},
   "source": [
    "Now, load in the initial parameters file:"
   ]
  },
  {
   "cell_type": "code",
   "execution_count": 16,
   "metadata": {},
   "outputs": [
    {
     "name": "stdout",
     "output_type": "stream",
     "text": [
      "Initial system parameter file:\n",
      "{\n",
      " \"interface\": \"https://schema.skao.int/ska-mid-cbf-initsysparam/1.0\",\n",
      " \"dish_parameters\": {\n",
      "  \"SKA001\": {\n",
      "   \"vcc\": 1,\n",
      "   \"k\": 1108\n",
      "  },\n",
      "  \"SKA036\": {\n",
      "   \"vcc\": 2,\n",
      "   \"k\": 1108\n",
      "  },\n",
      "  \"SKA063\": {\n",
      "   \"vcc\": 3,\n",
      "   \"k\": 1100\n",
      "  },\n",
      "  \"SKA100\": {\n",
      "   \"vcc\": 4,\n",
      "   \"k\": 1101\n",
      "  }\n",
      " }\n",
      "}\n"
     ]
    }
   ],
   "source": [
    "with open(INIT_SYS_PARAM_FILE, encoding=\"utf-8\") as init_file:\n",
    "    data = json.load(init_file)\n",
    "print(\"Initial system parameter file:\")\n",
    "print(json.dumps(data, indent=1))"
   ]
  },
  {
   "cell_type": "code",
   "execution_count": 17,
   "metadata": {},
   "outputs": [],
   "source": [
    "# After confirming the file is correct load into the CBF\n",
    "upload_result = cbf_controller.InitSysParam(json.dumps(data))"
   ]
  },
  {
   "cell_type": "code",
   "execution_count": 18,
   "metadata": {},
   "outputs": [
    {
     "name": "stdout",
     "output_type": "stream",
     "text": [
      "The device is in OFF state.\n"
     ]
    }
   ],
   "source": [
    "print(csp_controller.status())"
   ]
  },
  {
   "cell_type": "markdown",
   "metadata": {},
   "source": [
    "With the required files loaded, the command to spin up the actual controller can be run:"
   ]
  },
  {
   "cell_type": "code",
   "execution_count": 19,
   "metadata": {},
   "outputs": [
    {
     "name": "stdout",
     "output_type": "stream",
     "text": [
      "CSP Controller State:  ON\n"
     ]
    }
   ],
   "source": [
    "controller_target = [\"mid_csp_cbf/sub_elt/controller\"]\n",
    "csp_controller.set_timeout_millis(100000)\n",
    "csp_controller.On(controller_target)\n",
    "time.sleep(100)\n",
    "print(\"CSP Controller State: \", csp_controller.State())\n",
    "# csp_controller.set_timeout_millis(3000)"
   ]
  },
  {
   "cell_type": "markdown",
   "metadata": {},
   "source": [
    "### 2.2 Assign Resources to CSP"
   ]
  },
  {
   "cell_type": "code",
   "execution_count": 20,
   "metadata": {},
   "outputs": [
    {
     "name": "stdout",
     "output_type": "stream",
     "text": [
      "{\n",
      " \"interface\": \"https://schema.skao.int/ska-csp-assignresources/2.2\",\n",
      " \"subarray_id\": 1,\n",
      " \"dish\": {\n",
      "  \"receptor_ids\": [\n",
      "   \"SKA036\"\n",
      "  ]\n",
      " }\n",
      "}\n"
     ]
    }
   ],
   "source": [
    "with open(ASSIGN_CSP_RESOURCES_FILE, encoding=\"utf-8\") as init_file:\n",
    "    config_dict = json.load(init_file)\n",
    "config_dict[\"dish\"][\"receptor_ids\"] = receptor_ids\n",
    "print(json.dumps(config_dict, indent=1))"
   ]
  },
  {
   "cell_type": "code",
   "execution_count": 21,
   "metadata": {},
   "outputs": [
    {
     "name": "stdout",
     "output_type": "stream",
     "text": [
      " ⣽ Poll# 1: Current state is IDLE, waiting for 2...\n",
      "Finished with: IDLE\n"
     ]
    }
   ],
   "source": [
    "csp_subarray.AssignResources(json.dumps(config_dict))\n",
    "wait_for_state(csp_subarray, 2)"
   ]
  },
  {
   "cell_type": "markdown",
   "metadata": {},
   "source": [
    "### 2.3 Turning on the Telescope"
   ]
  },
  {
   "cell_type": "markdown",
   "metadata": {},
   "source": [
    "TODO: Check if VCC mapping required here..."
   ]
  },
  {
   "cell_type": "markdown",
   "metadata": {},
   "source": [
    "We can now check if the VCC mapping was loaded"
   ]
  },
  {
   "cell_type": "code",
   "execution_count": null,
   "metadata": {},
   "outputs": [],
   "source": [
    "print(leaf_node.sourceDishVccConfig)"
   ]
  },
  {
   "cell_type": "markdown",
   "metadata": {},
   "source": [
    "Now, turn the telescope itself on:"
   ]
  },
  {
   "cell_type": "code",
   "execution_count": null,
   "metadata": {},
   "outputs": [],
   "source": [
    "tmc_central_node.TelescopeOn()\n",
    "\n",
    "print(tmc_central_node.status())\n",
    "print(csp_controller.status())"
   ]
  },
  {
   "cell_type": "code",
   "execution_count": 22,
   "metadata": {},
   "outputs": [
    {
     "name": "stdout",
     "output_type": "stream",
     "text": [
      "Verify device states:\n",
      "\tTMC central node: ON\n",
      "\tTMC subarray node: ON\n",
      "\tCSP controller node: ON\n",
      "\tCSP subarray node: ON\n",
      "\tCBF subarray node: ON\n"
     ]
    }
   ],
   "source": [
    "print(\"Verify device states:\")\n",
    "print(f\"\\tTMC central node: {tmc_central_node.State()}\")\n",
    "print(f\"\\tTMC subarray node: {tmc_subarray.State()}\")\n",
    "print(f\"\\tCSP controller node: {csp_controller.State()}\")\n",
    "print(f\"\\tCSP subarray node: {csp_subarray.State()}\")\n",
    "print(f\"\\tCBF subarray node: {cbf_subarray.State()}\")"
   ]
  },
  {
   "cell_type": "markdown",
   "metadata": {},
   "source": [
    "## 3 Controlling the 5-Point Scan from TMC"
   ]
  },
  {
   "cell_type": "markdown",
   "metadata": {},
   "source": [
    "### 3.1 Set up JSON Files"
   ]
  },
  {
   "cell_type": "markdown",
   "metadata": {},
   "source": [
    "TODO: Grab these from files, replace beams and anything else."
   ]
  },
  {
   "cell_type": "code",
   "execution_count": 23,
   "metadata": {},
   "outputs": [],
   "source": [
    "today = date.today().strftime(\"%Y%m%d\")\n",
    "random_id = random.randint(0, 99999)\n",
    "\n",
    "beams = [\n",
    "    {\"beam_id\": \"vis0\", \"function\": \"visibilities\"},\n",
    "    {\"beam_id\": \"pss1\", \"search_beam_id\": 1, \"function\": \"pulsar search\"},\n",
    "    {\"beam_id\": \"pss2\", \"search_beam_id\": 2, \"function\": \"pulsar search\"},\n",
    "    {\"beam_id\": \"pst1\", \"timing_beam_id\": 1, \"function\": \"pulsar timing\"},\n",
    "    {\"beam_id\": \"pst2\", \"timing_beam_id\": 2, \"function\": \"pulsar timing\"},\n",
    "    {\"beam_id\": \"vlbi1\", \"vlbi_beam_id\": 1, \"function\": \"vlbi\"},\n",
    "]\n",
    "\n",
    "EXECUTION_BLOCK_ID = f\"eb-testtmc-{today}-{random_id:05d}\"\n",
    "PROCESSING_BLOCK_ID_REALTIME = f\"pb-testrealtime-{today}-{random_id:05d}\"\n",
    "\n",
    "long_basic_assign_json = {\n",
    "    \"interface\": \"https://schema.skao.int/ska-tmc-assignresources/2.1\",\n",
    "    \"transaction_id\": \"txn-....-00001\",\n",
    "    \"subarray_id\": 1,\n",
    "    \"dish\": {\"receptor_ids\": receptor_ids},\n",
    "    \"sdp\": {\n",
    "        \"interface\": \"https://schema.skao.int/ska-sdp-assignres/0.4\",\n",
    "        \"execution_block\": {\n",
    "            \"eb_id\": EXECUTION_BLOCK_ID,\n",
    "            \"max_length\": 100.0,\n",
    "            \"context\": {},\n",
    "            \"beams\": beams,\n",
    "            \"scan_types\": [\n",
    "                {\n",
    "                    \"scan_type_id\": \".default\",\n",
    "                    \"beams\": {\n",
    "                        \"vis0\": {\n",
    "                            \"channels_id\": \"vis_channels\",\n",
    "                            \"polarisations_id\": \"all\",\n",
    "                        },\n",
    "                        \"pss1\": {\n",
    "                            \"field_id\": \"pss_field_0\",\n",
    "                            \"channels_id\": \"pulsar_channels\",\n",
    "                            \"polarisations_id\": \"all\",\n",
    "                        },\n",
    "                        \"pss2\": {\n",
    "                            \"field_id\": \"pss_field_1\",\n",
    "                            \"channels_id\": \"pulsar_channels\",\n",
    "                            \"polarisations_id\": \"all\",\n",
    "                        },\n",
    "                        \"pst1\": {\n",
    "                            \"field_id\": \"pst_field_0\",\n",
    "                            \"channels_id\": \"pulsar_channels\",\n",
    "                            \"polarisations_id\": \"all\",\n",
    "                        },\n",
    "                        \"pst2\": {\n",
    "                            \"field_id\": \"pst_field_1\",\n",
    "                            \"channels_id\": \"pulsar_channels\",\n",
    "                            \"polarisations_id\": \"all\",\n",
    "                        },\n",
    "                        \"vlbi\": {\n",
    "                            \"field_id\": \"vlbi_field\",\n",
    "                            \"channels_id\": \"vlbi_channels\",\n",
    "                            \"polarisations_id\": \"all\",\n",
    "                        },\n",
    "                    },\n",
    "                },\n",
    "                {\n",
    "                    \"scan_type_id\": \"science\",\n",
    "                    \"derive_from\": \".default\",\n",
    "                    \"beams\": {\"vis0\": {\"field_id\": \"field_a\"}},\n",
    "                },\n",
    "            ],\n",
    "            \"channels\": [\n",
    "                {\n",
    "                    \"channels_id\": \"vis_channels\",\n",
    "                    \"spectral_windows\": [\n",
    "                        {\n",
    "                            \"spectral_window_id\": \"fsp_1_channels\",\n",
    "                            \"count\": 744,\n",
    "                            \"start\": 0,\n",
    "                            \"stride\": 2,\n",
    "                            \"freq_min\": 350000000.0,\n",
    "                            \"freq_max\": 368000000.0,\n",
    "                            \"link_map\": [[0, 0], [200, 1], [744, 2], [944, 3]],\n",
    "                        },\n",
    "                        {\n",
    "                            \"spectral_window_id\": \"fsp_2_channels\",\n",
    "                            \"count\": 744,\n",
    "                            \"start\": 2000,\n",
    "                            \"stride\": 1,\n",
    "                            \"freq_min\": 360000000.0,\n",
    "                            \"freq_max\": 368000000.0,\n",
    "                            \"link_map\": [[2000, 4], [2200, 5]],\n",
    "                        },\n",
    "                        {\n",
    "                            \"spectral_window_id\": \"zoom_window_1\",\n",
    "                            \"count\": 744,\n",
    "                            \"start\": 4000,\n",
    "                            \"stride\": 1,\n",
    "                            \"freq_min\": 360000000.0,\n",
    "                            \"freq_max\": 361000000.0,\n",
    "                            \"link_map\": [[4000, 6], [4200, 7]],\n",
    "                        },\n",
    "                    ],\n",
    "                },\n",
    "                {\n",
    "                    \"channels_id\": \"pulsar_channels\",\n",
    "                    \"spectral_windows\": [\n",
    "                        {\n",
    "                            \"spectral_window_id\": \"pulsar_fsp_channels\",\n",
    "                            \"count\": 744,\n",
    "                            \"start\": 0,\n",
    "                            \"freq_min\": 350000000.0,\n",
    "                            \"freq_max\": 368000000.0,\n",
    "                        }\n",
    "                    ],\n",
    "                },\n",
    "            ],\n",
    "            \"polarisations\": [\n",
    "                {\"polarisations_id\": \"all\", \"corr_type\": [\"XX\", \"XY\", \"YY\", \"YX\"]}\n",
    "            ],\n",
    "            \"fields\": [\n",
    "                {\n",
    "                    \"field_id\": \"field_a\",\n",
    "                    \"phase_dir\": {\n",
    "                        \"ra\": [123, 0.1],\n",
    "                        \"dec\": [80, 0.1],\n",
    "                        \"reference_time\": \"...\",\n",
    "                        \"reference_frame\": \"ICRF3\",\n",
    "                    },\n",
    "                    \"pointing_fqdn\": \"low-tmc/telstate/0/pointing\",\n",
    "                }\n",
    "            ],\n",
    "        },\n",
    "        \"processing_blocks\": [\n",
    "            {\n",
    "                \"pb_id\": PROCESSING_BLOCK_ID_REALTIME,\n",
    "                \"sbi_ids\": [\"sbi-mvp01-20200325-00001\"],\n",
    "                \"script\": {\n",
    "                    \"kind\": \"realtime\",\n",
    "                    \"name\": \"test-receive-addresses\",  # \"vis-receive\",\n",
    "                    \"version\": \"0.7.1\",  # \"2.2.0\"\n",
    "                },\n",
    "                \"parameters\": {},\n",
    "            }\n",
    "        ],\n",
    "        \"resources\": {\n",
    "            \"csp_links\": [1, 2, 3, 4],\n",
    "            \"receptors\": [\"SKA001\", \"SKA036\", \"SKA063\", \"SKA100\"],\n",
    "            \"receive_nodes\": 10,\n",
    "        },\n",
    "    },\n",
    "}"
   ]
  },
  {
   "cell_type": "code",
   "execution_count": 24,
   "metadata": {},
   "outputs": [],
   "source": [
    "long_basic_configure_json = {\n",
    "    \"interface\": \"https://schema.skao.int/ska-tmc-configure/2.2\",\n",
    "    \"transaction_id\": \"txn-....-00002\",\n",
    "    \"pointing\": {\n",
    "        \"target\": {\n",
    "            \"reference_frame\": \"ICRS\",\n",
    "            \"target_name\": \"Polaris Australis\",\n",
    "            \"ra\": \"21:08:47.92\",\n",
    "            \"dec\": \"-88:57:22.9\",  # ,\n",
    "            # \"ca_offset_arcsec\": 0.0,\n",
    "            # \"ie_offset_arcsec\": 0.0\n",
    "        }\n",
    "    },\n",
    "    \"dish\": {\"receiver_band\": \"1\"},\n",
    "    \"csp\": {\n",
    "        \"interface\": \"https://schema.skao.int/ska-csp-configure/2.0\",\n",
    "        \"subarray\": {\"subarray_name\": \"science period 23\"},\n",
    "        \"common\": {\n",
    "            \"config_id\": \"sbi-mvp01-20200325-00001-science\",\n",
    "            \"frequency_band\": \"1\",\n",
    "            \"subarray_id\": 1,\n",
    "        },\n",
    "        \"cbf\": {\n",
    "            \"fsp\": [\n",
    "                {\n",
    "                    \"fsp_id\": 1,\n",
    "                    \"function_mode\": \"CORR\",\n",
    "                    \"frequency_slice_id\": 1,\n",
    "                    \"integration_factor\": 1,\n",
    "                    \"zoom_factor\": 0,\n",
    "                    \"channel_averaging_map\": [[0, 2], [744, 0]],\n",
    "                    \"channel_offset\": 0,\n",
    "                    \"output_link_map\": [[0, 0], [200, 1]],\n",
    "                },\n",
    "                {\n",
    "                    \"fsp_id\": 2,\n",
    "                    \"function_mode\": \"CORR\",\n",
    "                    \"frequency_slice_id\": 2,\n",
    "                    \"integration_factor\": 1,\n",
    "                    \"zoom_factor\": 1,\n",
    "                    \"channel_averaging_map\": [[0, 2], [744, 0]],\n",
    "                    \"channel_offset\": 744,\n",
    "                    \"output_link_map\": [[0, 4], [200, 5]],\n",
    "                    \"zoom_window_tuning\": 650000,\n",
    "                },\n",
    "            ],\n",
    "            \"vlbi\": {},\n",
    "        },\n",
    "        \"pss\": {},\n",
    "        \"pst\": {},\n",
    "    },\n",
    "    \"sdp\": {\n",
    "        \"interface\": \"https://schema.skao.int/ska-sdp-configure/0.4\",\n",
    "        \"scan_type\": \"science\",\n",
    "    },\n",
    "    \"tmc\": {\n",
    "        \"scan_duration\": 10.0,\n",
    "        # \"partial_configuration\": False\n",
    "    },\n",
    "}"
   ]
  },
  {
   "cell_type": "markdown",
   "metadata": {},
   "source": [
    "### 3.2 Assign Resources to the Telescope and Configure Subarray"
   ]
  },
  {
   "cell_type": "code",
   "execution_count": 25,
   "metadata": {},
   "outputs": [
    {
     "name": "stdout",
     "output_type": "stream",
     "text": [
      " ⣟ Poll# 5: Current state is IDLE, waiting for 2...r 2...\n",
      "Finished with: IDLE\n"
     ]
    }
   ],
   "source": [
    "tmc_subarray.AssignResources(json.dumps(long_basic_assign_json))\n",
    "wait_for_state(tmc_subarray, 2)"
   ]
  },
  {
   "cell_type": "code",
   "execution_count": 26,
   "metadata": {},
   "outputs": [
    {
     "name": "stdout",
     "output_type": "stream",
     "text": [
      " ⣽ Poll# 1: Current state is IDLE, waiting for 2...\n",
      "Finished with: IDLE\n"
     ]
    }
   ],
   "source": [
    "tmc_subarray.Configure(json.dumps(long_basic_configure_json))\n",
    "wait_for_state(tmc_subarray, 2)"
   ]
  },
  {
   "cell_type": "markdown",
   "metadata": {},
   "source": [
    "### 3.3 Setup BITE Data"
   ]
  },
  {
   "cell_type": "markdown",
   "metadata": {},
   "source": [
    "TODO: Investigate LSTV_gen going to unkown state during setup"
   ]
  },
  {
   "cell_type": "markdown",
   "metadata": {},
   "source": [
    "For this version of the notebook, we look to BITE to generate the data we'll use for scanning."
   ]
  },
  {
   "cell_type": "markdown",
   "metadata": {},
   "source": [
    "First, load in all the data we'll use"
   ]
  },
  {
   "cell_type": "code",
   "execution_count": null,
   "metadata": {},
   "outputs": [],
   "source": [
    "with open(CBF_INPUT_FILE, encoding=\"utf-8\") as f:\n",
    "    cbf_input_json = json.load(f)[\"cbf_input_data\"][test_id]\n",
    "    cbf_input_data = json.dumps(cbf_input_json)\n",
    "    print(\"CBF Input Data used to generate BITE data:\\n\")\n",
    "    print(cbf_input_data)\n",
    "\n",
    "bite.load_cbf_input_data(cbf_input_data)"
   ]
  },
  {
   "cell_type": "code",
   "execution_count": null,
   "metadata": {},
   "outputs": [],
   "source": [
    "with open(BITE_CONFIG_FILE, encoding=\"utf-8\") as f:\n",
    "    bite_config_data = json.dumps(json.load(f))\n",
    "    print(\"BITE configs:\\n\")\n",
    "    print(bite_config_data)\n",
    "\n",
    "bite.load_bite_config_data(bite_config_data)"
   ]
  },
  {
   "cell_type": "code",
   "execution_count": null,
   "metadata": {},
   "outputs": [],
   "source": [
    "with open(FILTERS_FILE, encoding=\"utf-8\") as f:\n",
    "    filter_data = json.dumps(json.load(f))\n",
    "    print(\"Filters:\\n\")\n",
    "    print(filter_data)\n",
    "\n",
    "bite.load_filter_data(filter_data)"
   ]
  },
  {
   "cell_type": "markdown",
   "metadata": {},
   "source": [
    "With these loaded, we can actually generate the BITE data:"
   ]
  },
  {
   "cell_type": "code",
   "execution_count": null,
   "metadata": {},
   "outputs": [],
   "source": [
    "# kubectl logs -n $NS ds-bite-bite-0 -f\n",
    "\n",
    "bite.set_timeout_millis(240000)\n",
    "bite.generate_bite_data()\n",
    "bite.set_timeout_millis(3000)"
   ]
  },
  {
   "cell_type": "markdown",
   "metadata": {},
   "source": [
    "## 4 Running the 5-Point Scan"
   ]
  },
  {
   "cell_type": "markdown",
   "metadata": {},
   "source": [
    "Now we can actually run the scans:"
   ]
  },
  {
   "cell_type": "markdown",
   "metadata": {},
   "source": [
    "### 4.1 Run Scan 1: No Offset"
   ]
  },
  {
   "cell_type": "code",
   "execution_count": null,
   "metadata": {},
   "outputs": [],
   "source": [
    "long_basic_scan_json = {\n",
    "    \"interface\": \"https://schema.skao.int/ska-tmc-scan/2.1\",\n",
    "    \"transaction_id\": \"txn-....-00003\",\n",
    "    \"scan_id\": 1,\n",
    "}"
   ]
  },
  {
   "cell_type": "code",
   "execution_count": null,
   "metadata": {},
   "outputs": [],
   "source": [
    "tmc_subarray.Scan(json.dumps(long_basic_scan_json))"
   ]
  },
  {
   "cell_type": "code",
   "execution_count": null,
   "metadata": {},
   "outputs": [],
   "source": [
    "wait_for_state(tmc_subarray, 5)\n",
    "wait_for_state(tmc_subarray, 4)"
   ]
  },
  {
   "cell_type": "markdown",
   "metadata": {},
   "source": [
    "Once this passes, we can then run the scans for offsets"
   ]
  },
  {
   "cell_type": "markdown",
   "metadata": {},
   "source": [
    "### 4.2 Run Offset Scans 2-5"
   ]
  },
  {
   "cell_type": "markdown",
   "metadata": {},
   "source": [
    "Now, loop through the offset scans, using the combos to set the scan json"
   ]
  },
  {
   "cell_type": "code",
   "execution_count": null,
   "metadata": {},
   "outputs": [],
   "source": [
    "count = 4\n",
    "for offset in SCAN_COMBOS:\n",
    "    print(f\"setting offset to: {offset}\")\n",
    "    # configure the JSON to use this offset\n",
    "    partial_configure_json = {\n",
    "        \"interface\": \"https://schema.skao.int/ska-tmc-configure/2.2\",\n",
    "        \"transaction_id\": f\"txn-....-0000{count}\",\n",
    "        \"pointing\": {\n",
    "            \"target\": {\"ca_offset_arcsec\": offset[0], \"ie_offset_arcsec\": offset[1]}\n",
    "        },\n",
    "        \"tmc\": {\"partial_configuration\": True},\n",
    "    }\n",
    "    print(json.dumps(partial_configure_json, indent=1))\n",
    "    tmc_subarray.Scan(json.dumps(partial_configure_json))\n",
    "    wait_for_state(tmc_subarray, 5)\n",
    "    wait_for_state(tmc_subarray, 4)\n",
    "\n",
    "    count += 1\n",
    "    print(\"============================\")\n",
    "print(\"done offsets)\")"
   ]
  },
  {
   "cell_type": "markdown",
   "metadata": {},
   "source": [
    "## 5 Cleanup:"
   ]
  },
  {
   "cell_type": "code",
   "execution_count": null,
   "metadata": {},
   "outputs": [],
   "source": [
    "tmc_subarray.GoToIdle()\n",
    "tmc_subarray.ReleaseAllResources()"
   ]
  }
 ],
 "metadata": {
  "kernelspec": {
   "display_name": "al_venv2",
   "language": "python",
   "name": "python3"
  },
  "language_info": {
   "codemirror_mode": {
    "name": "ipython",
    "version": 3
   },
   "file_extension": ".py",
   "mimetype": "text/x-python",
   "name": "python",
   "nbconvert_exporter": "python",
   "pygments_lexer": "ipython3",
   "version": "3.10.14"
  }
 },
 "nbformat": 4,
 "nbformat_minor": 2
}
