{
 "cells": [
  {
   "cell_type": "markdown",
   "id": "9ea536d6",
   "metadata": {},
   "source": [
    "# Configure Scan & System Health Displays Test"
   ]
  },
  {
   "cell_type": "markdown",
   "id": "524f1991",
   "metadata": {},
   "source": [
    "## Table of Contents\n",
    "#### [1 - Global Configuration](#1-global-configuration)\n",
    "#### [2 - Telescope Setup](#2-test-equipment-setup)\n",
    "#### [3 - Observation Definition](#3-configure-scan-tests)\n",
    "#### [4 - Configure System for Scan Commissioning Test ](#4-configure-for-scan)\n",
    "#### [5 - Hyperlinks and SUT config](#5-hyperlinks-and-sut-config)"
   ]
  },
  {
   "cell_type": "markdown",
   "id": "9534ae98",
   "metadata": {},
   "source": [
    "## 1 Global Configuration"
   ]
  },
  {
   "cell_type": "markdown",
   "id": "1d9885e1",
   "metadata": {},
   "source": [
    "### 1.1 Import dependencies\n",
    "##### Importing all libraries that will be used throughout this notebook"
   ]
  },
  {
   "cell_type": "code",
   "execution_count": 4,
   "id": "ecc53d5d",
   "metadata": {},
   "outputs": [],
   "source": [
    "import sys\n",
    "\n",
    "sys.path.append(\"../../src\")\n",
    "\n",
    "import json\n",
    "import logging\n",
    "import os\n",
    "import pathlib\n",
    "import time\n",
    "import tango\n",
    "from typing import List\n",
    "\n",
    "import ska_ser_logging\n",
    "from bokeh.io import output_notebook\n",
    "from ska_oso_pdm.entities.common.target import (\n",
    "    CrossScanParameters,\n",
    "    FivePointParameters,\n",
    "    RasterParameters,\n",
    "    SinglePointParameters,\n",
    "    StarRasterParameters,\n",
    ")\n",
    "from ska_oso_pdm.entities.sdp import BeamMapping\n",
    "from ska_oso_scripting import oda_helper\n",
    "from ska_oso_scripting.functions.devicecontrol.resource_control import get_request_json\n",
    "from ska_oso_scripting.objects import SubArray, Telescope\n",
    "from ska_tmc_cdm.messages.central_node.assign_resources import AssignResourcesRequest\n",
    "from ska_tmc_cdm.messages.central_node.sdp import Channel\n",
    "from ska_tmc_cdm.messages.subarray_node.configure import ConfigureRequest\n",
    "from ska_tmc_cdm.messages.subarray_node.configure.core import ReceiverBand\n",
    "\n",
    "from ska_mid_jupyter_notebooks.cluster.cluster import Environment, TangoDeployment\n",
    "from ska_mid_jupyter_notebooks.dish.dish import TangoDishDeployment\n",
    "from ska_mid_jupyter_notebooks.helpers.path import project_root\n",
    "from ska_mid_jupyter_notebooks.obsconfig.config import ObservationSB\n",
    "from ska_mid_jupyter_notebooks.obsconfig.target_spec import TargetSpec, get_default_target_specs_sb\n",
    "from ska_mid_jupyter_notebooks.sut.rendering import TelescopeMononitorPlot\n",
    "from ska_mid_jupyter_notebooks.sut.state import TelescopeDeviceModel, get_telescope_state\n",
    "from ska_mid_jupyter_notebooks.sut.sut import TangoSUTDeployment, disable_qa\n",
    "from ska_mid_jupyter_notebooks.test_equipment.rendering import get_test_equipment_monitor_plot\n",
    "from ska_mid_jupyter_notebooks.test_equipment.state import get_equipment_model\n",
    "from ska_mid_jupyter_notebooks.test_equipment.test_equipment import TangoTestEquipment\n"
   ]
  },
  {
   "cell_type": "code",
   "execution_count": 5,
   "id": "b746652b",
   "metadata": {},
   "outputs": [
    {
     "data": {
      "application/vnd.jupyter.widget-view+json": {
       "model_id": "368b7f37702e4d71bc5e281c45acd901",
       "version_major": 2,
       "version_minor": 0
      },
      "text/plain": [
       "Valid(value=True, description='Namespaces', layout=Layout(width='60%'), style=DescriptionStyle(description_wid…"
      ]
     },
     "metadata": {},
     "output_type": "display_data"
    },
    {
     "data": {
      "application/vnd.jupyter.widget-view+json": {
       "model_id": "450fe3b1928f43c2aecafe3ab9dee19d",
       "version_major": 2,
       "version_minor": 0
      },
      "text/plain": [
       "Dropdown(description='SUT ns', layout=Layout(width='50%'), options=('binderhub', 'calico-apiserver', 'calico-o…"
      ]
     },
     "metadata": {},
     "output_type": "display_data"
    }
   ],
   "source": [
    "# OPTIONAL - this can be skipped if the libraries are not available\n",
    "import kubernetes\n",
    "import ipywidgets as widgets\n",
    "from IPython.display import display, JSON\n",
    "\n",
    "ns_list = []\n",
    "kubernetes.config.load_kube_config()\n",
    "k8s_client = kubernetes.client.CoreV1Api()\n",
    "try:\n",
    "    namespaces = k8s_client.list_namespace(_request_timeout=(1, 5))\n",
    "    for namespace in namespaces.items:\n",
    "        ns_name = namespace.metadata.name\n",
    "        ns_list.append(ns_name)\n",
    "except Exception:\n",
    "    pass\n",
    "\n",
    "ns_valid_w = widgets.Valid(\n",
    "    value=len(ns_list) > 0,\n",
    "    description=\"Namespaces\",\n",
    "    layout=widgets.Layout(width='60%'),\n",
    "    style = {'description_width': 'initial'}\n",
    ")\n",
    "display(ns_valid_w)\n",
    "\n",
    "if len(ns_list) > 0:\n",
    "    ns_w = widgets.Dropdown(\n",
    "        options=ns_list,\n",
    "        description='SUT ns',\n",
    "        disabled=False,\n",
    "        layout=widgets.Layout(width='50%')\n",
    "    )\n",
    "    display(ns_w)"
   ]
  },
  {
   "cell_type": "markdown",
   "id": "c9e6cc6d",
   "metadata": {},
   "source": [
    "### 1.2 Setup Global Variables and Configuration\n",
    "##### Defining the configuration of the notebook, like git branch and logging leves"
   ]
  },
  {
   "cell_type": "code",
   "execution_count": 6,
   "id": "b6d89c2d",
   "metadata": {},
   "outputs": [
    {
     "name": "stdout",
     "output_type": "stream",
     "text": [
      "Using SUT namespace ci-ska-mid-itf-at-2146-consolidate-jupyter-notebooks\n"
     ]
    }
   ],
   "source": [
    "try:\n",
    "    SUT_NAMESPACE = ns_w.value\n",
    "    print(f\"Using SUT namespace {SUT_NAMESPACE}\")\n",
    "    branch_name = SUT_NAMESPACE.replace(\"ci-ska-mid-itf-\", \"\")\n",
    "except Exception:\n",
    "    branch_name = \"at-2141-human-read-nb\""
   ]
  },
  {
   "cell_type": "code",
   "execution_count": 7,
   "id": "0b0c3b4c",
   "metadata": {},
   "outputs": [
    {
     "name": "stdout",
     "output_type": "stream",
     "text": [
      "Test Equipment Configured\n",
      "SUT configured\n",
      "Dish 001 configured\n",
      "Dish 036 configured\n"
     ]
    }
   ],
   "source": [
    "debug_mode = False  # This setting enables printing of diagnostics\n",
    "enable_logging = False  # This enables logging and sets the global log_level to debug\n",
    "dishlmc_enabled = True  # Set this to true if you have a dish LMC deployment\n",
    "executon_environment = Environment.CI\n",
    "\n",
    "# Set this if you are using an on-demand deployment (i.e. Environment.CI)\n",
    "# branch_name = \"at-2141-human-read-nb\"  \n",
    "\n",
    "if enable_logging:\n",
    "    # ska_ser_logging.configure_logging(logging.DEBUG)\n",
    "    ska_ser_logging.configure_logging(logging.INFO)\n",
    "test_equipment = TangoTestEquipment()\n",
    "print(f\"Test Equipment Configured\")\n",
    "# namespace_override parameter can be used to override auto-configured SUT namespace\n",
    "sut_namespace_override = \"\"\n",
    "subarray_count = 1\n",
    "subarray_id = 1\n",
    "sut = TangoSUTDeployment(\n",
    "    branch_name,\n",
    "    executon_environment,\n",
    "    namespace_override=sut_namespace_override,\n",
    "    subarray_index=subarray_id,\n",
    ")\n",
    "print(f\"SUT configured\")\n",
    "dish_ids = [\"001\", \"036\"]\n",
    "# namespace_override parameter can be used to override auto-configured dish namespace\n",
    "dish_namespace_overrides = [\"\", \"\"]\n",
    "dish_deployments: List[TangoDishDeployment] = []\n",
    "if dishlmc_enabled:\n",
    "    for i, d in enumerate(dish_ids):\n",
    "        dish = TangoDishDeployment(\n",
    "            f\"ska{d}\",\n",
    "            branch_name=branch_name,\n",
    "            environment=executon_environment,\n",
    "            namespace_override=dish_namespace_overrides[i],\n",
    "        )\n",
    "        print(f\"Dish {d} configured\")\n",
    "        dish_deployments.append(dish)\n",
    "\n",
    "timestr = time.strftime(\"%Y%m%d-%H%M\")\n",
    "notebook_output_dir = pathlib.Path(\n",
    "    project_root(), f\"notebook-execution-data/configure_scan_for_commissioning/execution-{timestr}\"\n",
    ")\n",
    "os.makedirs(notebook_output_dir, exist_ok=True)\n",
    "# we disable qa as it is not been properly verified\n",
    "disable_qa()"
   ]
  },
  {
   "cell_type": "markdown",
   "id": "4b7fa8f6",
   "metadata": {},
   "source": [
    "### 1.3 Test Connections to Namespaces\n",
    "##### Runs smoke tests on all relevant namespaces of the system under test"
   ]
  },
  {
   "cell_type": "code",
   "execution_count": 8,
   "id": "31882e18",
   "metadata": {},
   "outputs": [
    {
     "name": "stdout",
     "output_type": "stream",
     "text": [
      "CIA PingResponse (ci-ska-mid-itf-at-2146-consolidate-jupyter-notebooks): {\"result\":\"ok\",\"time\":\"2024-07-18T10:59:07.991027\"}\n",
      "CIA PingResponse (test-equipment): {\"result\":\"ok\",\"time\":\"2024-07-18T10:59:08.447528\"}\n",
      "mid-itf/siggen/1 is reachable\n",
      "mid-itf/progattenuator/1 is reachable\n",
      "mid-itf/spectana/1 is reachable\n",
      "mid-itf/skysimctl/4 is reachable\n",
      "CIA PingResponse (ci-dish-lmc-ska001-at-2146-consolidate-jupyter-notebooks): {\"result\":\"ok\",\"time\":\"2024-07-18T10:59:09.900942\"}\n",
      "CIA PingResponse (ci-dish-lmc-ska036-at-2146-consolidate-jupyter-notebooks): {\"result\":\"ok\",\"time\":\"2024-07-18T10:59:12.996432\"}\n",
      "Done\n"
     ]
    }
   ],
   "source": [
    "sut.smoke_test()\n",
    "test_equipment.smoke_test()\n",
    "for dish_deployment in dish_deployments:\n",
    "    dish_deployment.smoke_test()\n",
    "print(\"Done\")"
   ]
  },
  {
   "cell_type": "markdown",
   "id": "52120d53",
   "metadata": {},
   "source": [
    "### 1.4 Export System Configuration\n",
    "##### Prints the helm chart versions of all telescope components in json format"
   ]
  },
  {
   "cell_type": "code",
   "execution_count": 9,
   "id": "8fdb3717",
   "metadata": {},
   "outputs": [
    {
     "name": "stdout",
     "output_type": "stream",
     "text": [
      "Exporting configuration using http://config-inspector.ci-ska-mid-itf-at-2146-consolidate-jupyter-notebooks.svc.miditf.internal.skao.int:8765\n",
      "ReleaseResponse (ci-ska-mid-itf-at-2146-consolidate-jupyter-notebooks): {\n",
      "    \"chart\": \"ska-mid-itf-sut\",\n",
      "    \"version\": \"23.3.0\",\n",
      "    \"sub_charts\": [\n",
      "        {\n",
      "            \"chart\": \"ska-tango-base\",\n",
      "            \"version\": \"0.4.10\"\n",
      "        },\n",
      "        {\n",
      "            \"chart\": \"ska-tango-util\",\n",
      "            \"version\": \"0.4.11\"\n",
      "        },\n",
      "        {\n",
      "            \"chart\": \"ska-tmc-mid\",\n",
      "            \"version\": \"0.21.0\"\n",
      "        },\n",
      "        {\n",
      "            \"chart\": \"ska-csp-lmc-mid\",\n",
      "            \"version\": \"0.20.1\"\n",
      "        },\n",
      "        {\n",
      "            \"chart\": \"ska-mid-cbf-mcs\",\n",
      "            \"version\": \"0.15.2\"\n",
      "        },\n",
      "        {\n",
      "            \"chart\": \"ska-sdp\",\n",
      "            \"version\": \"0.21.0\"\n",
      "        },\n",
      "        {\n",
      "            \"chart\": \"ska-ser-config-inspector\",\n",
      "            \"version\": \"0.2.3\"\n",
      "        },\n",
      "        {\n",
      "            \"chart\": \"ska-tango-taranta\",\n",
      "            \"version\": \"2.10.2\"\n",
      "        },\n",
      "        {\n",
      "            \"chart\": \"ska-tango-tangogql\",\n",
      "            \"version\": \"1.4.3\"\n",
      "        },\n",
      "        {\n",
      "            \"chart\": \"ska-tango-alarmhandler\",\n",
      "            \"version\": \"0.4.0\"\n",
      "        },\n",
      "        {\n",
      "            \"chart\": \"ska-tango-archiver\",\n",
      "            \"version\": \"2.7.1\"\n",
      "        }\n",
      "    ]\n",
      "}\n",
      "Exported chart from ci-ska-mid-itf-at-2146-consolidate-jupyter-notebooks configuration to /usr/local/lib/skao/ska_mid_jupyter_notebooks/helpers/../../../notebook-execution-data/configure_scan_for_commissioning/execution-20240718-1259/config-ci-ska-mid-itf-at-2146-consolidate-jupyter-notebooks.json\n",
      "/usr/local/lib/skao/ska_mid_jupyter_notebooks/helpers/../../../notebook-execution-data/configure_scan_for_commissioning/execution-20240718-1259\n",
      "Exporting configuration using http://config-inspector.test-equipment.svc.miditf.internal.skao.int:8765\n",
      "ReleaseResponse (test-equipment): {\n",
      "    \"chart\": \"ska-mid-itf-environments-test-equipment\",\n",
      "    \"version\": \"22.0.1\",\n",
      "    \"sub_charts\": [\n",
      "        {\n",
      "            \"chart\": \"ska-tango-base\",\n",
      "            \"version\": \"0.4.10\"\n",
      "        },\n",
      "        {\n",
      "            \"chart\": \"ska-tango-util\",\n",
      "            \"version\": \"0.4.11\"\n",
      "        },\n",
      "        {\n",
      "            \"chart\": \"ska-ser-test-equipment\",\n",
      "            \"version\": \"0.9.1\"\n",
      "        },\n",
      "        {\n",
      "            \"chart\": \"ska-tango-taranta\",\n",
      "            \"version\": \"2.10.1\"\n",
      "        },\n",
      "        {\n",
      "            \"chart\": \"ska-tango-tangogql\",\n",
      "            \"version\": \"1.4.1\"\n",
      "        },\n",
      "        {\n",
      "            \"chart\": \"ska-ser-config-inspector\",\n",
      "            \"version\": \"0.2.3\"\n",
      "        }\n",
      "    ]\n",
      "}\n",
      "Exported chart from test-equipment configuration to /usr/local/lib/skao/ska_mid_jupyter_notebooks/helpers/../../../notebook-execution-data/configure_scan_for_commissioning/execution-20240718-1259/config-test-equipment.json\n",
      "/usr/local/lib/skao/ska_mid_jupyter_notebooks/helpers/../../../notebook-execution-data/configure_scan_for_commissioning/execution-20240718-1259\n",
      "Exporting configuration using http://config-inspector.ci-dish-lmc-ska001-at-2146-consolidate-jupyter-notebooks.svc.miditf.internal.skao.int:8765\n",
      "ReleaseResponse (ci-dish-lmc-ska001-at-2146-consolidate-jupyter-notebooks): {\n",
      "    \"chart\": \"ska-mid-itf-dish-lmc\",\n",
      "    \"version\": \"23.3.0\",\n",
      "    \"sub_charts\": [\n",
      "        {\n",
      "            \"chart\": \"ska-tango-base\",\n",
      "            \"version\": \"0.4.10\"\n",
      "        },\n",
      "        {\n",
      "            \"chart\": \"ska-tango-util\",\n",
      "            \"version\": \"0.4.11\"\n",
      "        },\n",
      "        {\n",
      "            \"chart\": \"ska-tango-taranta\",\n",
      "            \"version\": \"2.10.2\"\n",
      "        },\n",
      "        {\n",
      "            \"chart\": \"ska-tango-tangogql\",\n",
      "            \"version\": \"1.4.3\"\n",
      "        },\n",
      "        {\n",
      "            \"chart\": \"ska-dish-lmc\",\n",
      "            \"version\": \"3.4.0\"\n",
      "        },\n",
      "        {\n",
      "            \"chart\": \"ska-ser-config-inspector\",\n",
      "            \"version\": \"0.2.3\"\n",
      "        }\n",
      "    ]\n",
      "}\n",
      "Exported chart from ci-dish-lmc-ska001-at-2146-consolidate-jupyter-notebooks configuration to /usr/local/lib/skao/ska_mid_jupyter_notebooks/helpers/../../../notebook-execution-data/configure_scan_for_commissioning/execution-20240718-1259/config-ci-dish-lmc-ska001-at-2146-consolidate-jupyter-notebooks.json\n",
      "/usr/local/lib/skao/ska_mid_jupyter_notebooks/helpers/../../../notebook-execution-data/configure_scan_for_commissioning/execution-20240718-1259\n",
      "Exporting configuration using http://config-inspector.ci-dish-lmc-ska036-at-2146-consolidate-jupyter-notebooks.svc.miditf.internal.skao.int:8765\n",
      "ReleaseResponse (ci-dish-lmc-ska036-at-2146-consolidate-jupyter-notebooks): {\n",
      "    \"chart\": \"ska-mid-itf-dish-lmc\",\n",
      "    \"version\": \"23.3.0\",\n",
      "    \"sub_charts\": [\n",
      "        {\n",
      "            \"chart\": \"ska-tango-base\",\n",
      "            \"version\": \"0.4.10\"\n",
      "        },\n",
      "        {\n",
      "            \"chart\": \"ska-tango-util\",\n",
      "            \"version\": \"0.4.11\"\n",
      "        },\n",
      "        {\n",
      "            \"chart\": \"ska-tango-taranta\",\n",
      "            \"version\": \"2.10.2\"\n",
      "        },\n",
      "        {\n",
      "            \"chart\": \"ska-tango-tangogql\",\n",
      "            \"version\": \"1.4.3\"\n",
      "        },\n",
      "        {\n",
      "            \"chart\": \"ska-dish-lmc\",\n",
      "            \"version\": \"3.4.0\"\n",
      "        },\n",
      "        {\n",
      "            \"chart\": \"ska-ser-config-inspector\",\n",
      "            \"version\": \"0.2.3\"\n",
      "        }\n",
      "    ]\n",
      "}\n",
      "Exported chart from ci-dish-lmc-ska036-at-2146-consolidate-jupyter-notebooks configuration to /usr/local/lib/skao/ska_mid_jupyter_notebooks/helpers/../../../notebook-execution-data/configure_scan_for_commissioning/execution-20240718-1259/config-ci-dish-lmc-ska036-at-2146-consolidate-jupyter-notebooks.json\n",
      "/usr/local/lib/skao/ska_mid_jupyter_notebooks/helpers/../../../notebook-execution-data/configure_scan_for_commissioning/execution-20240718-1259\n",
      "Done\n"
     ]
    }
   ],
   "source": [
    "deployment: TangoDeployment\n",
    "for deployment in [sut, test_equipment, *dish_deployments]:\n",
    "    try:\n",
    "        deployment.export_chart_configuration(output_dir=notebook_output_dir)\n",
    "        print(notebook_output_dir)\n",
    "    except Exception as err:\n",
    "        print(f\"ERROR: {str(err)}\")\n",
    "print(\"Done\")"
   ]
  },
  {
   "cell_type": "markdown",
   "id": "0f6d2326",
   "metadata": {},
   "source": [
    "## 2 Telescope Setup"
   ]
  },
  {
   "cell_type": "markdown",
   "id": "361cd18e",
   "metadata": {},
   "source": [
    "#### 2.1 Configure Telescope Monitoring\n",
    "##### Setup how the telescope will subscribe to events"
   ]
  },
  {
   "cell_type": "code",
   "execution_count": 10,
   "id": "bff1ef18",
   "metadata": {},
   "outputs": [
    {
     "data": {
      "text/html": [
       "    <style>\n",
       "        .bk-notebook-logo {\n",
       "            display: block;\n",
       "            width: 20px;\n",
       "            height: 20px;\n",
       "            background-image: url(data:image/png;base64,iVBORw0KGgoAAAANSUhEUgAAABQAAAAUCAYAAACNiR0NAAAABHNCSVQICAgIfAhkiAAAAAlwSFlzAAALEgAACxIB0t1+/AAAABx0RVh0U29mdHdhcmUAQWRvYmUgRmlyZXdvcmtzIENTNui8sowAAAOkSURBVDiNjZRtaJVlGMd/1/08zzln5zjP1LWcU9N0NkN8m2CYjpgQYQXqSs0I84OLIC0hkEKoPtiH3gmKoiJDU7QpLgoLjLIQCpEsNJ1vqUOdO7ppbuec5+V+rj4ctwzd8IIbbi6u+8f1539dt3A78eXC7QizUF7gyV1fD1Yqg4JWz84yffhm0qkFqBogB9rM8tZdtwVsPUhWhGcFJngGeWrPzHm5oaMmkfEg1usvLFyc8jLRqDOMru7AyC8saQr7GG7f5fvDeH7Ej8CM66nIF+8yngt6HWaKh7k49Soy9nXurCi1o3qUbS3zWfrYeQDTB/Qj6kX6Ybhw4B+bOYoLKCC9H3Nu/leUTZ1JdRWkkn2ldcCamzrcf47KKXdAJllSlxAOkRgyHsGC/zRday5Qld9DyoM4/q/rUoy/CXh3jzOu3bHUVZeU+DEn8FInkPBFlu3+nW3Nw0mk6vCDiWg8CeJaxEwuHS3+z5RgY+YBR6V1Z1nxSOfoaPa4LASWxxdNp+VWTk7+4vzaou8v8PN+xo+KY2xsw6une2frhw05CTYOmQvsEhjhWjn0bmXPjpE1+kplmmkP3suftwTubK9Vq22qKmrBhpY4jvd5afdRA3wGjFAgcnTK2s4hY0/GPNIb0nErGMCRxWOOX64Z8RAC4oCXdklmEvcL8o0BfkNK4lUg9HTl+oPlQxdNo3Mg4Nv175e/1LDGzZen30MEjRUtmXSfiTVu1kK8W4txyV6BMKlbgk3lMwYCiusNy9fVfvvwMxv8Ynl6vxoByANLTWplvuj/nF9m2+PDtt1eiHPBr1oIfhCChQMBw6Aw0UulqTKZdfVvfG7VcfIqLG9bcldL/+pdWTLxLUy8Qq38heUIjh4XlzZxzQm19lLFlr8vdQ97rjZVOLf8nclzckbcD4wxXMidpX30sFd37Fv/GtwwhzhxGVAprjbg0gCAEeIgwCZyTV2Z1REEW8O4py0wsjeloKoMr6iCY6dP92H6Vw/oTyICIthibxjm/DfN9lVz8IqtqKYLUXfoKVMVQVVJOElGjrnnUt9T9wbgp8AyYKaGlqingHZU/uG2NTZSVqwHQTWkx9hxjkpWDaCg6Ckj5qebgBVbT3V3NNXMSiWSDdGV3hrtzla7J+duwPOToIg42ChPQOQjspnSlp1V+Gjdged7+8UN5CRAV7a5EdFNwCjEaBR27b3W890TE7g24NAP/mMDXRWrGoFPQI9ls/MWO2dWFAar/xcOIImbbpA3zgAAAABJRU5ErkJggg==);\n",
       "        }\n",
       "    </style>\n",
       "    <div>\n",
       "        <a href=\"https://bokeh.org\" target=\"_blank\" class=\"bk-notebook-logo\"></a>\n",
       "        <span id=\"e92531d4-a242-442c-b7e3-0c14a6b7702c\">Loading BokehJS ...</span>\n",
       "    </div>\n"
      ]
     },
     "metadata": {},
     "output_type": "display_data"
    },
    {
     "data": {
      "application/javascript": [
       "'use strict';\n",
       "(function(root) {\n",
       "  function now() {\n",
       "    return new Date();\n",
       "  }\n",
       "\n",
       "  const force = true;\n",
       "\n",
       "  if (typeof root._bokeh_onload_callbacks === \"undefined\" || force === true) {\n",
       "    root._bokeh_onload_callbacks = [];\n",
       "    root._bokeh_is_loading = undefined;\n",
       "  }\n",
       "\n",
       "const JS_MIME_TYPE = 'application/javascript';\n",
       "  const HTML_MIME_TYPE = 'text/html';\n",
       "  const EXEC_MIME_TYPE = 'application/vnd.bokehjs_exec.v0+json';\n",
       "  const CLASS_NAME = 'output_bokeh rendered_html';\n",
       "\n",
       "  /**\n",
       "   * Render data to the DOM node\n",
       "   */\n",
       "  function render(props, node) {\n",
       "    const script = document.createElement(\"script\");\n",
       "    node.appendChild(script);\n",
       "  }\n",
       "\n",
       "  /**\n",
       "   * Handle when an output is cleared or removed\n",
       "   */\n",
       "  function handleClearOutput(event, handle) {\n",
       "    function drop(id) {\n",
       "      const view = Bokeh.index.get_by_id(id)\n",
       "      if (view != null) {\n",
       "        view.model.document.clear()\n",
       "        Bokeh.index.delete(view)\n",
       "      }\n",
       "    }\n",
       "\n",
       "    const cell = handle.cell;\n",
       "\n",
       "    const id = cell.output_area._bokeh_element_id;\n",
       "    const server_id = cell.output_area._bokeh_server_id;\n",
       "\n",
       "    // Clean up Bokeh references\n",
       "    if (id != null) {\n",
       "      drop(id)\n",
       "    }\n",
       "\n",
       "    if (server_id !== undefined) {\n",
       "      // Clean up Bokeh references\n",
       "      const cmd_clean = \"from bokeh.io.state import curstate; print(curstate().uuid_to_server['\" + server_id + \"'].get_sessions()[0].document.roots[0]._id)\";\n",
       "      cell.notebook.kernel.execute(cmd_clean, {\n",
       "        iopub: {\n",
       "          output: function(msg) {\n",
       "            const id = msg.content.text.trim()\n",
       "            drop(id)\n",
       "          }\n",
       "        }\n",
       "      });\n",
       "      // Destroy server and session\n",
       "      const cmd_destroy = \"import bokeh.io.notebook as ion; ion.destroy_server('\" + server_id + \"')\";\n",
       "      cell.notebook.kernel.execute(cmd_destroy);\n",
       "    }\n",
       "  }\n",
       "\n",
       "  /**\n",
       "   * Handle when a new output is added\n",
       "   */\n",
       "  function handleAddOutput(event, handle) {\n",
       "    const output_area = handle.output_area;\n",
       "    const output = handle.output;\n",
       "\n",
       "    // limit handleAddOutput to display_data with EXEC_MIME_TYPE content only\n",
       "    if ((output.output_type != \"display_data\") || (!Object.prototype.hasOwnProperty.call(output.data, EXEC_MIME_TYPE))) {\n",
       "      return\n",
       "    }\n",
       "\n",
       "    const toinsert = output_area.element.find(\".\" + CLASS_NAME.split(' ')[0]);\n",
       "\n",
       "    if (output.metadata[EXEC_MIME_TYPE][\"id\"] !== undefined) {\n",
       "      toinsert[toinsert.length - 1].firstChild.textContent = output.data[JS_MIME_TYPE];\n",
       "      // store reference to embed id on output_area\n",
       "      output_area._bokeh_element_id = output.metadata[EXEC_MIME_TYPE][\"id\"];\n",
       "    }\n",
       "    if (output.metadata[EXEC_MIME_TYPE][\"server_id\"] !== undefined) {\n",
       "      const bk_div = document.createElement(\"div\");\n",
       "      bk_div.innerHTML = output.data[HTML_MIME_TYPE];\n",
       "      const script_attrs = bk_div.children[0].attributes;\n",
       "      for (let i = 0; i < script_attrs.length; i++) {\n",
       "        toinsert[toinsert.length - 1].firstChild.setAttribute(script_attrs[i].name, script_attrs[i].value);\n",
       "        toinsert[toinsert.length - 1].firstChild.textContent = bk_div.children[0].textContent\n",
       "      }\n",
       "      // store reference to server id on output_area\n",
       "      output_area._bokeh_server_id = output.metadata[EXEC_MIME_TYPE][\"server_id\"];\n",
       "    }\n",
       "  }\n",
       "\n",
       "  function register_renderer(events, OutputArea) {\n",
       "\n",
       "    function append_mime(data, metadata, element) {\n",
       "      // create a DOM node to render to\n",
       "      const toinsert = this.create_output_subarea(\n",
       "        metadata,\n",
       "        CLASS_NAME,\n",
       "        EXEC_MIME_TYPE\n",
       "      );\n",
       "      this.keyboard_manager.register_events(toinsert);\n",
       "      // Render to node\n",
       "      const props = {data: data, metadata: metadata[EXEC_MIME_TYPE]};\n",
       "      render(props, toinsert[toinsert.length - 1]);\n",
       "      element.append(toinsert);\n",
       "      return toinsert\n",
       "    }\n",
       "\n",
       "    /* Handle when an output is cleared or removed */\n",
       "    events.on('clear_output.CodeCell', handleClearOutput);\n",
       "    events.on('delete.Cell', handleClearOutput);\n",
       "\n",
       "    /* Handle when a new output is added */\n",
       "    events.on('output_added.OutputArea', handleAddOutput);\n",
       "\n",
       "    /**\n",
       "     * Register the mime type and append_mime function with output_area\n",
       "     */\n",
       "    OutputArea.prototype.register_mime_type(EXEC_MIME_TYPE, append_mime, {\n",
       "      /* Is output safe? */\n",
       "      safe: true,\n",
       "      /* Index of renderer in `output_area.display_order` */\n",
       "      index: 0\n",
       "    });\n",
       "  }\n",
       "\n",
       "  // register the mime type if in Jupyter Notebook environment and previously unregistered\n",
       "  if (root.Jupyter !== undefined) {\n",
       "    const events = require('base/js/events');\n",
       "    const OutputArea = require('notebook/js/outputarea').OutputArea;\n",
       "\n",
       "    if (OutputArea.prototype.mime_types().indexOf(EXEC_MIME_TYPE) == -1) {\n",
       "      register_renderer(events, OutputArea);\n",
       "    }\n",
       "  }\n",
       "  if (typeof (root._bokeh_timeout) === \"undefined\" || force === true) {\n",
       "    root._bokeh_timeout = Date.now() + 5000;\n",
       "    root._bokeh_failed_load = false;\n",
       "  }\n",
       "\n",
       "  const NB_LOAD_WARNING = {'data': {'text/html':\n",
       "     \"<div style='background-color: #fdd'>\\n\"+\n",
       "     \"<p>\\n\"+\n",
       "     \"BokehJS does not appear to have successfully loaded. If loading BokehJS from CDN, this \\n\"+\n",
       "     \"may be due to a slow or bad network connection. Possible fixes:\\n\"+\n",
       "     \"</p>\\n\"+\n",
       "     \"<ul>\\n\"+\n",
       "     \"<li>re-rerun `output_notebook()` to attempt to load from CDN again, or</li>\\n\"+\n",
       "     \"<li>use INLINE resources instead, as so:</li>\\n\"+\n",
       "     \"</ul>\\n\"+\n",
       "     \"<code>\\n\"+\n",
       "     \"from bokeh.resources import INLINE\\n\"+\n",
       "     \"output_notebook(resources=INLINE)\\n\"+\n",
       "     \"</code>\\n\"+\n",
       "     \"</div>\"}};\n",
       "\n",
       "  function display_loaded(error = null) {\n",
       "    const el = document.getElementById(\"e92531d4-a242-442c-b7e3-0c14a6b7702c\");\n",
       "    if (el != null) {\n",
       "      const html = (() => {\n",
       "        if (typeof root.Bokeh === \"undefined\") {\n",
       "          if (error == null) {\n",
       "            return \"BokehJS is loading ...\";\n",
       "          } else {\n",
       "            return \"BokehJS failed to load.\";\n",
       "          }\n",
       "        } else {\n",
       "          const prefix = `BokehJS ${root.Bokeh.version}`;\n",
       "          if (error == null) {\n",
       "            return `${prefix} successfully loaded.`;\n",
       "          } else {\n",
       "            return `${prefix} <b>encountered errors</b> while loading and may not function as expected.`;\n",
       "          }\n",
       "        }\n",
       "      })();\n",
       "      el.innerHTML = html;\n",
       "\n",
       "      if (error != null) {\n",
       "        const wrapper = document.createElement(\"div\");\n",
       "        wrapper.style.overflow = \"auto\";\n",
       "        wrapper.style.height = \"5em\";\n",
       "        wrapper.style.resize = \"vertical\";\n",
       "        const content = document.createElement(\"div\");\n",
       "        content.style.fontFamily = \"monospace\";\n",
       "        content.style.whiteSpace = \"pre-wrap\";\n",
       "        content.style.backgroundColor = \"rgb(255, 221, 221)\";\n",
       "        content.textContent = error.stack ?? error.toString();\n",
       "        wrapper.append(content);\n",
       "        el.append(wrapper);\n",
       "      }\n",
       "    } else if (Date.now() < root._bokeh_timeout) {\n",
       "      setTimeout(() => display_loaded(error), 100);\n",
       "    }\n",
       "  }\n",
       "\n",
       "  function run_callbacks() {\n",
       "    try {\n",
       "      root._bokeh_onload_callbacks.forEach(function(callback) {\n",
       "        if (callback != null)\n",
       "          callback();\n",
       "      });\n",
       "    } finally {\n",
       "      delete root._bokeh_onload_callbacks\n",
       "    }\n",
       "    console.debug(\"Bokeh: all callbacks have finished\");\n",
       "  }\n",
       "\n",
       "  function load_libs(css_urls, js_urls, callback) {\n",
       "    if (css_urls == null) css_urls = [];\n",
       "    if (js_urls == null) js_urls = [];\n",
       "\n",
       "    root._bokeh_onload_callbacks.push(callback);\n",
       "    if (root._bokeh_is_loading > 0) {\n",
       "      console.debug(\"Bokeh: BokehJS is being loaded, scheduling callback at\", now());\n",
       "      return null;\n",
       "    }\n",
       "    if (js_urls == null || js_urls.length === 0) {\n",
       "      run_callbacks();\n",
       "      return null;\n",
       "    }\n",
       "    console.debug(\"Bokeh: BokehJS not loaded, scheduling load and callback at\", now());\n",
       "    root._bokeh_is_loading = css_urls.length + js_urls.length;\n",
       "\n",
       "    function on_load() {\n",
       "      root._bokeh_is_loading--;\n",
       "      if (root._bokeh_is_loading === 0) {\n",
       "        console.debug(\"Bokeh: all BokehJS libraries/stylesheets loaded\");\n",
       "        run_callbacks()\n",
       "      }\n",
       "    }\n",
       "\n",
       "    function on_error(url) {\n",
       "      console.error(\"failed to load \" + url);\n",
       "    }\n",
       "\n",
       "    for (let i = 0; i < css_urls.length; i++) {\n",
       "      const url = css_urls[i];\n",
       "      const element = document.createElement(\"link\");\n",
       "      element.onload = on_load;\n",
       "      element.onerror = on_error.bind(null, url);\n",
       "      element.rel = \"stylesheet\";\n",
       "      element.type = \"text/css\";\n",
       "      element.href = url;\n",
       "      console.debug(\"Bokeh: injecting link tag for BokehJS stylesheet: \", url);\n",
       "      document.body.appendChild(element);\n",
       "    }\n",
       "\n",
       "    for (let i = 0; i < js_urls.length; i++) {\n",
       "      const url = js_urls[i];\n",
       "      const element = document.createElement('script');\n",
       "      element.onload = on_load;\n",
       "      element.onerror = on_error.bind(null, url);\n",
       "      element.async = false;\n",
       "      element.src = url;\n",
       "      console.debug(\"Bokeh: injecting script tag for BokehJS library: \", url);\n",
       "      document.head.appendChild(element);\n",
       "    }\n",
       "  };\n",
       "\n",
       "  function inject_raw_css(css) {\n",
       "    const element = document.createElement(\"style\");\n",
       "    element.appendChild(document.createTextNode(css));\n",
       "    document.body.appendChild(element);\n",
       "  }\n",
       "\n",
       "  const js_urls = [\"https://cdn.bokeh.org/bokeh/release/bokeh-3.4.1.min.js\", \"https://cdn.bokeh.org/bokeh/release/bokeh-gl-3.4.1.min.js\", \"https://cdn.bokeh.org/bokeh/release/bokeh-widgets-3.4.1.min.js\", \"https://cdn.bokeh.org/bokeh/release/bokeh-tables-3.4.1.min.js\", \"https://cdn.bokeh.org/bokeh/release/bokeh-mathjax-3.4.1.min.js\"];\n",
       "  const css_urls = [];\n",
       "\n",
       "  const inline_js = [    function(Bokeh) {\n",
       "      Bokeh.set_log_level(\"info\");\n",
       "    },\n",
       "function(Bokeh) {\n",
       "    }\n",
       "  ];\n",
       "\n",
       "  function run_inline_js() {\n",
       "    if (root.Bokeh !== undefined || force === true) {\n",
       "      try {\n",
       "            for (let i = 0; i < inline_js.length; i++) {\n",
       "      inline_js[i].call(root, root.Bokeh);\n",
       "    }\n",
       "\n",
       "      } catch (error) {display_loaded(error);throw error;\n",
       "      }if (force === true) {\n",
       "        display_loaded();\n",
       "      }} else if (Date.now() < root._bokeh_timeout) {\n",
       "      setTimeout(run_inline_js, 100);\n",
       "    } else if (!root._bokeh_failed_load) {\n",
       "      console.log(\"Bokeh: BokehJS failed to load within specified timeout.\");\n",
       "      root._bokeh_failed_load = true;\n",
       "    } else if (force !== true) {\n",
       "      const cell = $(document.getElementById(\"e92531d4-a242-442c-b7e3-0c14a6b7702c\")).parents('.cell').data().cell;\n",
       "      cell.output_area.append_execute_result(NB_LOAD_WARNING)\n",
       "    }\n",
       "  }\n",
       "\n",
       "  if (root._bokeh_is_loading === 0) {\n",
       "    console.debug(\"Bokeh: BokehJS loaded, going straight to plotting\");\n",
       "    run_inline_js();\n",
       "  } else {\n",
       "    load_libs(css_urls, js_urls, function() {\n",
       "      console.debug(\"Bokeh: BokehJS plotting callback run at\", now());\n",
       "      run_inline_js();\n",
       "    });\n",
       "  }\n",
       "}(window));"
      ],
      "application/vnd.bokehjs_load.v0+json": "'use strict';\n(function(root) {\n  function now() {\n    return new Date();\n  }\n\n  const force = true;\n\n  if (typeof root._bokeh_onload_callbacks === \"undefined\" || force === true) {\n    root._bokeh_onload_callbacks = [];\n    root._bokeh_is_loading = undefined;\n  }\n\n\n  if (typeof (root._bokeh_timeout) === \"undefined\" || force === true) {\n    root._bokeh_timeout = Date.now() + 5000;\n    root._bokeh_failed_load = false;\n  }\n\n  const NB_LOAD_WARNING = {'data': {'text/html':\n     \"<div style='background-color: #fdd'>\\n\"+\n     \"<p>\\n\"+\n     \"BokehJS does not appear to have successfully loaded. If loading BokehJS from CDN, this \\n\"+\n     \"may be due to a slow or bad network connection. Possible fixes:\\n\"+\n     \"</p>\\n\"+\n     \"<ul>\\n\"+\n     \"<li>re-rerun `output_notebook()` to attempt to load from CDN again, or</li>\\n\"+\n     \"<li>use INLINE resources instead, as so:</li>\\n\"+\n     \"</ul>\\n\"+\n     \"<code>\\n\"+\n     \"from bokeh.resources import INLINE\\n\"+\n     \"output_notebook(resources=INLINE)\\n\"+\n     \"</code>\\n\"+\n     \"</div>\"}};\n\n  function display_loaded(error = null) {\n    const el = document.getElementById(\"e92531d4-a242-442c-b7e3-0c14a6b7702c\");\n    if (el != null) {\n      const html = (() => {\n        if (typeof root.Bokeh === \"undefined\") {\n          if (error == null) {\n            return \"BokehJS is loading ...\";\n          } else {\n            return \"BokehJS failed to load.\";\n          }\n        } else {\n          const prefix = `BokehJS ${root.Bokeh.version}`;\n          if (error == null) {\n            return `${prefix} successfully loaded.`;\n          } else {\n            return `${prefix} <b>encountered errors</b> while loading and may not function as expected.`;\n          }\n        }\n      })();\n      el.innerHTML = html;\n\n      if (error != null) {\n        const wrapper = document.createElement(\"div\");\n        wrapper.style.overflow = \"auto\";\n        wrapper.style.height = \"5em\";\n        wrapper.style.resize = \"vertical\";\n        const content = document.createElement(\"div\");\n        content.style.fontFamily = \"monospace\";\n        content.style.whiteSpace = \"pre-wrap\";\n        content.style.backgroundColor = \"rgb(255, 221, 221)\";\n        content.textContent = error.stack ?? error.toString();\n        wrapper.append(content);\n        el.append(wrapper);\n      }\n    } else if (Date.now() < root._bokeh_timeout) {\n      setTimeout(() => display_loaded(error), 100);\n    }\n  }\n\n  function run_callbacks() {\n    try {\n      root._bokeh_onload_callbacks.forEach(function(callback) {\n        if (callback != null)\n          callback();\n      });\n    } finally {\n      delete root._bokeh_onload_callbacks\n    }\n    console.debug(\"Bokeh: all callbacks have finished\");\n  }\n\n  function load_libs(css_urls, js_urls, callback) {\n    if (css_urls == null) css_urls = [];\n    if (js_urls == null) js_urls = [];\n\n    root._bokeh_onload_callbacks.push(callback);\n    if (root._bokeh_is_loading > 0) {\n      console.debug(\"Bokeh: BokehJS is being loaded, scheduling callback at\", now());\n      return null;\n    }\n    if (js_urls == null || js_urls.length === 0) {\n      run_callbacks();\n      return null;\n    }\n    console.debug(\"Bokeh: BokehJS not loaded, scheduling load and callback at\", now());\n    root._bokeh_is_loading = css_urls.length + js_urls.length;\n\n    function on_load() {\n      root._bokeh_is_loading--;\n      if (root._bokeh_is_loading === 0) {\n        console.debug(\"Bokeh: all BokehJS libraries/stylesheets loaded\");\n        run_callbacks()\n      }\n    }\n\n    function on_error(url) {\n      console.error(\"failed to load \" + url);\n    }\n\n    for (let i = 0; i < css_urls.length; i++) {\n      const url = css_urls[i];\n      const element = document.createElement(\"link\");\n      element.onload = on_load;\n      element.onerror = on_error.bind(null, url);\n      element.rel = \"stylesheet\";\n      element.type = \"text/css\";\n      element.href = url;\n      console.debug(\"Bokeh: injecting link tag for BokehJS stylesheet: \", url);\n      document.body.appendChild(element);\n    }\n\n    for (let i = 0; i < js_urls.length; i++) {\n      const url = js_urls[i];\n      const element = document.createElement('script');\n      element.onload = on_load;\n      element.onerror = on_error.bind(null, url);\n      element.async = false;\n      element.src = url;\n      console.debug(\"Bokeh: injecting script tag for BokehJS library: \", url);\n      document.head.appendChild(element);\n    }\n  };\n\n  function inject_raw_css(css) {\n    const element = document.createElement(\"style\");\n    element.appendChild(document.createTextNode(css));\n    document.body.appendChild(element);\n  }\n\n  const js_urls = [\"https://cdn.bokeh.org/bokeh/release/bokeh-3.4.1.min.js\", \"https://cdn.bokeh.org/bokeh/release/bokeh-gl-3.4.1.min.js\", \"https://cdn.bokeh.org/bokeh/release/bokeh-widgets-3.4.1.min.js\", \"https://cdn.bokeh.org/bokeh/release/bokeh-tables-3.4.1.min.js\", \"https://cdn.bokeh.org/bokeh/release/bokeh-mathjax-3.4.1.min.js\"];\n  const css_urls = [];\n\n  const inline_js = [    function(Bokeh) {\n      Bokeh.set_log_level(\"info\");\n    },\nfunction(Bokeh) {\n    }\n  ];\n\n  function run_inline_js() {\n    if (root.Bokeh !== undefined || force === true) {\n      try {\n            for (let i = 0; i < inline_js.length; i++) {\n      inline_js[i].call(root, root.Bokeh);\n    }\n\n      } catch (error) {display_loaded(error);throw error;\n      }if (force === true) {\n        display_loaded();\n      }} else if (Date.now() < root._bokeh_timeout) {\n      setTimeout(run_inline_js, 100);\n    } else if (!root._bokeh_failed_load) {\n      console.log(\"Bokeh: BokehJS failed to load within specified timeout.\");\n      root._bokeh_failed_load = true;\n    } else if (force !== true) {\n      const cell = $(document.getElementById(\"e92531d4-a242-442c-b7e3-0c14a6b7702c\")).parents('.cell').data().cell;\n      cell.output_area.append_execute_result(NB_LOAD_WARNING)\n    }\n  }\n\n  if (root._bokeh_is_loading === 0) {\n    console.debug(\"Bokeh: BokehJS loaded, going straight to plotting\");\n    run_inline_js();\n  } else {\n    load_libs(css_urls, js_urls, function() {\n      console.debug(\"Bokeh: BokehJS plotting callback run at\", now());\n      run_inline_js();\n    });\n  }\n}(window));"
     },
     "metadata": {},
     "output_type": "display_data"
    }
   ],
   "source": [
    "# setup monitoring\n",
    "# use telescope state object for state monitoring\n",
    "device_model = TelescopeDeviceModel(dish_ids, subarray_count)\n",
    "telescope_state = get_telescope_state(device_model, sut)\n",
    "# use monitor plot as a dashboard\n",
    "telescope_monitor_plot = TelescopeMononitorPlot(plot_width=900, plot_height=200)\n",
    "# set up events to monitor\n",
    "telescope_state.subscribe_to_on_off(telescope_monitor_plot.observe_telescope_on_off)\n",
    "telescope_state.subscribe_to_subarray_resource_state(\n",
    "    telescope_monitor_plot.observe_subarray_resources_state\n",
    ")\n",
    "telescope_state.subscribe_to_subarray_configurational_state(\n",
    "    telescope_monitor_plot.observe_subarray_configuration_state\n",
    ")\n",
    "telescope_state.subscribe_to_subarray_scanning_state(\n",
    "    telescope_monitor_plot.observe_subarray_scanning_state\n",
    ")\n",
    "output_notebook()"
   ]
  },
  {
   "cell_type": "markdown",
   "id": "5e1a83fa",
   "metadata": {},
   "source": [
    "#### 2.2 Open the inline dashboard\n",
    "Start the simple inline dashboard showing current state of the Telescope and resource assignment and configuration status."
   ]
  },
  {
   "cell_type": "code",
   "execution_count": 11,
   "id": "ba90fbe5",
   "metadata": {},
   "outputs": [
    {
     "name": "stderr",
     "output_type": "stream",
     "text": [
      "BokehDeprecationWarning: 'square() method' was deprecated in Bokeh 3.4.0 and will be removed, use \"scatter(marker='square', ...) instead\" instead.\n"
     ]
    },
    {
     "data": {
      "text/html": [
       "\n",
       "  <div id=\"f40a9f0e-1966-4c62-aa75-38cf6d8bd17a\" data-root-id=\"p1001\" style=\"display: contents;\"></div>\n"
      ]
     },
     "metadata": {},
     "output_type": "display_data"
    },
    {
     "data": {
      "application/javascript": [
       "(function(root) {\n",
       "  function embed_document(root) {\n",
       "  const docs_json = {\"115be01e-cf0e-46a7-87b7-b7296ebd22ec\":{\"version\":\"3.4.1\",\"title\":\"Bokeh Application\",\"roots\":[{\"type\":\"object\",\"name\":\"Figure\",\"id\":\"p1001\",\"attributes\":{\"width\":900,\"height\":200,\"x_range\":{\"type\":\"object\",\"name\":\"Range1d\",\"id\":\"p1010\",\"attributes\":{\"start\":-0.5,\"end\":1.5}},\"y_range\":{\"type\":\"object\",\"name\":\"Range1d\",\"id\":\"p1011\",\"attributes\":{\"start\":-0.5,\"end\":1.5}},\"x_scale\":{\"type\":\"object\",\"name\":\"LinearScale\",\"id\":\"p1012\"},\"y_scale\":{\"type\":\"object\",\"name\":\"LinearScale\",\"id\":\"p1013\"},\"title\":{\"type\":\"object\",\"name\":\"Title\",\"id\":\"p1008\"},\"renderers\":[{\"type\":\"object\",\"name\":\"GlyphRenderer\",\"id\":\"p1048\",\"attributes\":{\"data_source\":{\"type\":\"object\",\"name\":\"ColumnDataSource\",\"id\":\"p1035\",\"attributes\":{\"selected\":{\"type\":\"object\",\"name\":\"Selection\",\"id\":\"p1036\",\"attributes\":{\"indices\":[],\"line_indices\":[]}},\"selection_policy\":{\"type\":\"object\",\"name\":\"UnionRenderers\",\"id\":\"p1037\"},\"data\":{\"type\":\"map\",\"entries\":[[\"x_position\",[0.5,0.5,0.5,0.5]],[\"y_position\",[0,0.33,0.67,1]],[\"square_labels\",[\"On/Off\",\"Resources Assigned?\",\"Subarray Configured?\",\"Subarray Scanning?\"]],[\"square_colours\",[\"darkmagenta\",\"darkmagenta\",\"darkmagenta\",\"darkmagenta\"]]]}}},\"view\":{\"type\":\"object\",\"name\":\"CDSView\",\"id\":\"p1049\",\"attributes\":{\"filter\":{\"type\":\"object\",\"name\":\"AllIndices\",\"id\":\"p1050\"}}},\"glyph\":{\"type\":\"object\",\"name\":\"Scatter\",\"id\":\"p1045\",\"attributes\":{\"x\":{\"type\":\"field\",\"field\":\"x_position\"},\"y\":{\"type\":\"field\",\"field\":\"y_position\"},\"size\":{\"type\":\"value\",\"value\":20},\"line_color\":{\"type\":\"field\",\"field\":\"square_colours\"},\"fill_color\":{\"type\":\"field\",\"field\":\"square_colours\"},\"hatch_color\":{\"type\":\"field\",\"field\":\"square_colours\"},\"marker\":{\"type\":\"value\",\"value\":\"square\"}}},\"nonselection_glyph\":{\"type\":\"object\",\"name\":\"Scatter\",\"id\":\"p1046\",\"attributes\":{\"x\":{\"type\":\"field\",\"field\":\"x_position\"},\"y\":{\"type\":\"field\",\"field\":\"y_position\"},\"size\":{\"type\":\"value\",\"value\":20},\"line_color\":{\"type\":\"field\",\"field\":\"square_colours\"},\"line_alpha\":{\"type\":\"value\",\"value\":0.1},\"fill_color\":{\"type\":\"field\",\"field\":\"square_colours\"},\"fill_alpha\":{\"type\":\"value\",\"value\":0.1},\"hatch_color\":{\"type\":\"field\",\"field\":\"square_colours\"},\"hatch_alpha\":{\"type\":\"value\",\"value\":0.1},\"marker\":{\"type\":\"value\",\"value\":\"square\"}}},\"muted_glyph\":{\"type\":\"object\",\"name\":\"Scatter\",\"id\":\"p1047\",\"attributes\":{\"x\":{\"type\":\"field\",\"field\":\"x_position\"},\"y\":{\"type\":\"field\",\"field\":\"y_position\"},\"size\":{\"type\":\"value\",\"value\":20},\"line_color\":{\"type\":\"field\",\"field\":\"square_colours\"},\"line_alpha\":{\"type\":\"value\",\"value\":0.2},\"fill_color\":{\"type\":\"field\",\"field\":\"square_colours\"},\"fill_alpha\":{\"type\":\"value\",\"value\":0.2},\"hatch_color\":{\"type\":\"field\",\"field\":\"square_colours\"},\"hatch_alpha\":{\"type\":\"value\",\"value\":0.2},\"marker\":{\"type\":\"value\",\"value\":\"square\"}}}}}],\"toolbar\":{\"type\":\"object\",\"name\":\"Toolbar\",\"id\":\"p1009\",\"attributes\":{\"tools\":[{\"type\":\"object\",\"name\":\"PanTool\",\"id\":\"p1024\"},{\"type\":\"object\",\"name\":\"WheelZoomTool\",\"id\":\"p1025\",\"attributes\":{\"renderers\":\"auto\"}},{\"type\":\"object\",\"name\":\"BoxZoomTool\",\"id\":\"p1026\",\"attributes\":{\"overlay\":{\"type\":\"object\",\"name\":\"BoxAnnotation\",\"id\":\"p1027\",\"attributes\":{\"syncable\":false,\"level\":\"overlay\",\"visible\":false,\"left\":{\"type\":\"number\",\"value\":\"nan\"},\"right\":{\"type\":\"number\",\"value\":\"nan\"},\"top\":{\"type\":\"number\",\"value\":\"nan\"},\"bottom\":{\"type\":\"number\",\"value\":\"nan\"},\"left_units\":\"canvas\",\"right_units\":\"canvas\",\"top_units\":\"canvas\",\"bottom_units\":\"canvas\",\"line_color\":\"black\",\"line_alpha\":1.0,\"line_width\":2,\"line_dash\":[4,4],\"fill_color\":\"lightgrey\",\"fill_alpha\":0.5}}}},{\"type\":\"object\",\"name\":\"SaveTool\",\"id\":\"p1032\"},{\"type\":\"object\",\"name\":\"ResetTool\",\"id\":\"p1033\"},{\"type\":\"object\",\"name\":\"HelpTool\",\"id\":\"p1034\"}]}},\"toolbar_location\":null,\"left\":[{\"type\":\"object\",\"name\":\"LinearAxis\",\"id\":\"p1019\",\"attributes\":{\"visible\":false,\"ticker\":{\"type\":\"object\",\"name\":\"BasicTicker\",\"id\":\"p1020\",\"attributes\":{\"mantissas\":[1,2,5]}},\"formatter\":{\"type\":\"object\",\"name\":\"BasicTickFormatter\",\"id\":\"p1021\"},\"major_label_policy\":{\"type\":\"object\",\"name\":\"AllLabels\",\"id\":\"p1022\"}}}],\"below\":[{\"type\":\"object\",\"name\":\"LinearAxis\",\"id\":\"p1014\",\"attributes\":{\"visible\":false,\"ticker\":{\"type\":\"object\",\"name\":\"BasicTicker\",\"id\":\"p1015\",\"attributes\":{\"mantissas\":[1,2,5]}},\"formatter\":{\"type\":\"object\",\"name\":\"BasicTickFormatter\",\"id\":\"p1016\"},\"major_label_policy\":{\"type\":\"object\",\"name\":\"AllLabels\",\"id\":\"p1017\"}}}],\"center\":[{\"type\":\"object\",\"name\":\"Grid\",\"id\":\"p1018\",\"attributes\":{\"visible\":false,\"axis\":{\"id\":\"p1014\"}}},{\"type\":\"object\",\"name\":\"Grid\",\"id\":\"p1023\",\"attributes\":{\"visible\":false,\"dimension\":1,\"axis\":{\"id\":\"p1019\"}}},{\"type\":\"object\",\"name\":\"LabelSet\",\"id\":\"p1038\",\"attributes\":{\"source\":{\"id\":\"p1035\"},\"x\":{\"type\":\"field\",\"field\":\"x_position\"},\"y\":{\"type\":\"field\",\"field\":\"y_position\"},\"text\":{\"type\":\"field\",\"field\":\"square_labels\"},\"x_offset\":{\"type\":\"value\",\"value\":-200},\"y_offset\":{\"type\":\"value\",\"value\":-10},\"text_color\":{\"type\":\"value\",\"value\":\"black\"},\"background_fill_color\":{\"type\":\"field\",\"field\":\"canvas\"}}}]}}]}};\n",
       "  const render_items = [{\"docid\":\"115be01e-cf0e-46a7-87b7-b7296ebd22ec\",\"roots\":{\"p1001\":\"f40a9f0e-1966-4c62-aa75-38cf6d8bd17a\"},\"root_ids\":[\"p1001\"],\"notebook_comms_target\":\"p1051\"}];\n",
       "  void root.Bokeh.embed.embed_items_notebook(docs_json, render_items);\n",
       "  }\n",
       "  if (root.Bokeh !== undefined) {\n",
       "    embed_document(root);\n",
       "  } else {\n",
       "    let attempts = 0;\n",
       "    const timer = setInterval(function(root) {\n",
       "      if (root.Bokeh !== undefined) {\n",
       "        clearInterval(timer);\n",
       "        embed_document(root);\n",
       "      } else {\n",
       "        attempts++;\n",
       "        if (attempts > 100) {\n",
       "          clearInterval(timer);\n",
       "          console.log(\"Bokeh: ERROR: Unable to run BokehJS code because BokehJS library is missing\");\n",
       "        }\n",
       "      }\n",
       "    }, 10, root)\n",
       "  }\n",
       "})(window);"
      ],
      "application/vnd.bokehjs_exec.v0+json": ""
     },
     "metadata": {
      "application/vnd.bokehjs_exec.v0+json": {
       "id": "p1001"
      }
     },
     "output_type": "display_data"
    },
    {
     "name": "stdout",
     "output_type": "stream",
     "text": [
      "Done\n"
     ]
    },
    {
     "name": "stderr",
     "output_type": "stream",
     "text": [
      "BokehDeprecationWarning: 'square() method' was deprecated in Bokeh 3.4.0 and will be removed, use \"scatter(marker='square', ...) instead\" instead.\n",
      "BokehDeprecationWarning: 'square() method' was deprecated in Bokeh 3.4.0 and will be removed, use \"scatter(marker='square', ...) instead\" instead.\n",
      "BokehDeprecationWarning: 'square() method' was deprecated in Bokeh 3.4.0 and will be removed, use \"scatter(marker='square', ...) instead\" instead.\n",
      "BokehDeprecationWarning: 'square() method' was deprecated in Bokeh 3.4.0 and will be removed, use \"scatter(marker='square', ...) instead\" instead.\n",
      "BokehDeprecationWarning: 'square() method' was deprecated in Bokeh 3.4.0 and will be removed, use \"scatter(marker='square', ...) instead\" instead.\n",
      "BokehDeprecationWarning: 'square() method' was deprecated in Bokeh 3.4.0 and will be removed, use \"scatter(marker='square', ...) instead\" instead.\n",
      "BokehDeprecationWarning: 'square() method' was deprecated in Bokeh 3.4.0 and will be removed, use \"scatter(marker='square', ...) instead\" instead.\n"
     ]
    }
   ],
   "source": [
    "telescope_monitor_plot.show()\n",
    "telescope_state.activate()\n",
    "telescope_state.wait_til_ready(2)\n",
    "print(\"Done\")"
   ]
  },
  {
   "cell_type": "markdown",
   "id": "8c243732",
   "metadata": {},
   "source": [
    "### 2.3 Print System Diagnostics"
   ]
  },
  {
   "cell_type": "markdown",
   "id": "1650210a",
   "metadata": {},
   "source": [
    "#### 2.3.1 Print TMC Diagnostics"
   ]
  },
  {
   "cell_type": "code",
   "execution_count": 12,
   "id": "1fe1b28a",
   "metadata": {},
   "outputs": [
    {
     "name": "stdout",
     "output_type": "stream",
     "text": [
      "TMC Central Node state: ON\n",
      "TMC Central Node adminMode: AdminMode.OFFLINE\n",
      "TMC Central Node healthState: HealthState.OK\n",
      "TMC Central Node telescopeHealthState: HealthState.UNKNOWN\n",
      "TMC Central Node isDishVccConfig: False\n",
      "TMC Central Node dishvccvalidationstatus: {\"dish\": \"ALL DISH OK\", \"ska_mid/tm_leaf_node/csp_master\": \"TMC and CSP Master Dish Vcc Version is Same\"}\n",
      "TMC Subarray Node state: ON\n",
      "TMC Subarray adminMode: AdminMode.OFFLINE\n",
      "TMC Subarray Node obsState: ObsState.EMPTY\n",
      "Done\n"
     ]
    }
   ],
   "source": [
    "try:\n",
    "    sut.print_tmc_diagnostics()\n",
    "except Exception as err:\n",
    "    print(f\"ERROR: {str(err)}\")\n",
    "print(\"Done\")"
   ]
  },
  {
   "cell_type": "markdown",
   "id": "7490e49f",
   "metadata": {},
   "source": [
    "#### 2.3.2 Print CSP-LMC Diagnostics"
   ]
  },
  {
   "cell_type": "code",
   "execution_count": 13,
   "id": "2d977dbb",
   "metadata": {},
   "outputs": [
    {
     "name": "stdout",
     "output_type": "stream",
     "text": [
      "CSP-LMC Controller adminMode: AdminMode.ONLINE\n",
      "CSP-LMC Controller State: OFF\n",
      "CSP-LMC Controller dishVccConfig: {\"interface\": \"https://schema.skao.int/ska-mid-cbf-initsysparam/1.0\", \"dish_parameters\": {\"SKA001\": {\"vcc\": 1, \"k\": 1}, \"SKA036\": {\"vcc\": 2, \"k\": 1}, \"SKA063\": {\"vcc\": 3, \"k\": 1}, \"SKA100\": {\"vcc\": 4, \"k\": 1}}}\n",
      "CSP-LMC Controller CBFSimulationMode: False\n",
      "CSP-LMC Subarray adminMode: AdminMode.ONLINE\n",
      "CSP-LMC Subarray State: OFF\n",
      "CSP-LMC Subarray obsState: ObsState.EMPTY\n",
      "CSP-LMC Subarray dishVccConfig: {\"interface\": \"https://schema.skao.int/ska-mid-cbf-initsysparam/1.0\", \"dish_parameters\": {\"SKA001\": {\"vcc\": 1, \"k\": 1}, \"SKA036\": {\"vcc\": 2, \"k\": 1}, \"SKA063\": {\"vcc\": 3, \"k\": 1}, \"SKA100\": {\"vcc\": 4, \"k\": 1}}}\n",
      "Done\n"
     ]
    }
   ],
   "source": [
    "try:\n",
    "    sut.print_csp_diagnostics()\n",
    "except Exception as err:\n",
    "    print(f\"ERROR: {str(err)}\")\n",
    "print(\"Done\")"
   ]
  },
  {
   "cell_type": "markdown",
   "id": "20c32d89",
   "metadata": {},
   "source": [
    "#### 2.3.3 Print CBF Diagnostics"
   ]
  },
  {
   "cell_type": "code",
   "execution_count": 14,
   "id": "2c4b84f4",
   "metadata": {},
   "outputs": [
    {
     "name": "stdout",
     "output_type": "stream",
     "text": [
      "CBF Controller adminMode: AdminMode.ONLINE\n",
      "CBF Controller State: OFF\n",
      "CBF Subarray adminMode: AdminMode.ONLINE\n",
      "CBF Subarray State: OFF\n",
      "CBF Subarray obsState: ObsState.EMPTY\n",
      "Done\n"
     ]
    }
   ],
   "source": [
    "try:\n",
    "    sut.print_cbf_diagnostics()\n",
    "except Exception as err:\n",
    "    print(f\"ERROR: {str(err)}\")\n",
    "print(\"Done\")"
   ]
  },
  {
   "cell_type": "markdown",
   "id": "2d94ccf7",
   "metadata": {},
   "source": [
    "#### 2.3.4 Print SDP Diagnostics"
   ]
  },
  {
   "cell_type": "code",
   "execution_count": 15,
   "id": "45d18b6f",
   "metadata": {},
   "outputs": [
    {
     "name": "stdout",
     "output_type": "stream",
     "text": [
      "SDP Controller state: ON\n",
      "SDP Controller adminMode: AdminMode.ONLINE\n",
      "SDP Subarray state: ON\n",
      "SDP Subarray adminMode: AdminMode.ONLINE\n",
      "SDP Subarray obsState: ObsState.EMPTY\n",
      "Done\n"
     ]
    }
   ],
   "source": [
    "try:\n",
    "    sut.print_sdp_diagnostics()\n",
    "except Exception as err:\n",
    "    print(f\"ERROR: {str(err)}\")\n",
    "print(\"Done\")"
   ]
  },
  {
   "cell_type": "markdown",
   "id": "b8685670",
   "metadata": {},
   "source": [
    "#### 2.3.5 Print Dish-LMC Diagnostics"
   ]
  },
  {
   "cell_type": "code",
   "execution_count": 16,
   "id": "00e2964a",
   "metadata": {},
   "outputs": [
    {
     "name": "stdout",
     "output_type": "stream",
     "text": [
      "Dish ska001 - ci-dish-lmc-ska001-at-2146-consolidate-jupyter-notebooks: Diagnostics\n",
      "ska001: PowerState: PowerState.LOW\n",
      "ska001: HealthState: HealthState.UNKNOWN\n",
      "ska001: PointingState: PointingState.READY\n",
      "ska001: K-Value: 1\n",
      "ska001: Capturing: False\n",
      "ska001: SimulationMode: 0\n",
      "ska001: SPFC OperatingMode: SPFOperatingMode.OPERATE\n",
      "ska001: SPFRx OperatingMode: SPFRxOperatingMode.STANDBY\n",
      "ska001: DS Manager OperatingMode: DSOperatingMode.STANDBY_FP\n",
      "ska001: DS Manager IndexerPosition: 2\n",
      "\n",
      "Dish ska036 - ci-dish-lmc-ska036-at-2146-consolidate-jupyter-notebooks: Diagnostics\n",
      "ska036: PowerState: PowerState.LOW\n",
      "ska036: HealthState: HealthState.UNKNOWN\n",
      "ska036: PointingState: PointingState.READY\n",
      "ska036: K-Value: 1\n",
      "ska036: Capturing: False\n",
      "ska036: SimulationMode: 0\n",
      "ska036: SPFC OperatingMode: SPFOperatingMode.STANDBY_LP\n",
      "ska036: SPFRx OperatingMode: SPFRxOperatingMode.STANDBY\n",
      "ska036: DS Manager OperatingMode: DSOperatingMode.STANDBY_LP\n",
      "ska036: DS Manager IndexerPosition: 2\n",
      "\n",
      "Done\n"
     ]
    }
   ],
   "source": [
    "for dish_deployment in dish_deployments:\n",
    "    # dish_deployment.print_diagnostics()\n",
    "    print(f\"Dish {dish_deployment.dish_id} - {dish_deployment.namespace}: Diagnostics\")\n",
    "    dish_id = dish_deployment.dish_id\n",
    "    dm = dish_deployment.dish_manager\n",
    "    print(f\"{dish_id}: PowerState: {str(dm.power_state)}\")\n",
    "    print(f\"{dish_id}: HealthState: {str(dm.health_state)}\")\n",
    "    print(f\"{dish_id}: PointingState: {str(dm.pointing_state)}\")\n",
    "    print(f\"{dish_id}: K-Value: {dm.kValue}\")\n",
    "    print(f\"{dish_id}: Capturing: {dm.capturing}\")\n",
    "    print(f\"{dish_id}: SimulationMode: {dm.simulationMode}\")\n",
    "    spfc = dish_deployment.spfc_simulator\n",
    "    print(f\"{dish_id}: SPFC OperatingMode: {str(spfc.operating_mode)}\")\n",
    "    spfrx = dish_deployment.spfrx\n",
    "    print(f\"{dish_id}: SPFRx OperatingMode: {str(spfrx.operating_mode)}\")\n",
    "    ds_manager = dish_deployment.ds_manager\n",
    "    print(f\"{dish_id}: DS Manager OperatingMode: {str(ds_manager.operating_mode)}\")\n",
    "    print(f\"{dish_id}: DS Manager IndexerPosition: {ds_manager.indexerPosition}\")\n",
    "    print()\n",
    "print(\"Done\")"
   ]
  },
  {
   "cell_type": "markdown",
   "id": "93130f3b",
   "metadata": {},
   "source": [
    "#### 2.3.6 Print Full System Diagnostics"
   ]
  },
  {
   "cell_type": "code",
   "execution_count": 17,
   "id": "5f5513d7",
   "metadata": {},
   "outputs": [
    {
     "name": "stdout",
     "output_type": "stream",
     "text": [
      "SUT: Diagnostics\n",
      "ska-tango-base: sys/tg_test/1 : Running\n",
      "ska-tmc-mid: ska_mid/tm_leaf_node/csp_subarray01 : Unknown\n",
      "ska-tmc-mid: ska_mid/tm_leaf_node/d0001 : Unknown\n",
      "ska-tmc-mid: ska_mid/tm_central/central_node : Unknown\n",
      "ska-tmc-mid: ska_mid/tm_leaf_node/csp_master : Unknown\n",
      "ska-tmc-mid: ska_mid/tm_leaf_node/sdp_master : Unknown\n",
      "ska-tmc-mid: ska_mid/tm_leaf_node/sdp_subarray02 : Unknown\n",
      "ska-tmc-mid: ska_mid/tm_subarray_node/2 : Unknown\n",
      "ska-tmc-mid: ska_mid/tm_subarray_node/1 : Unknown\n",
      "ska-tmc-mid: ska_mid/tm_leaf_node/sdp_subarray01 : Unknown\n",
      "ska-tmc-mid: ska_mid/tm_leaf_node/csp_subarray02 : Unknown\n",
      "ska-tmc-mid: ska_mid/tm_leaf_node/d0036 : Unknown\n",
      "ska-csp-lmc-mid: mid-csp/capability-vcc/0 : Running\n",
      "ska-csp-lmc-mid: mid-csp/subarray/01 : Running\n",
      "ska-csp-lmc-mid: mid-csp/subarray/03 : Running\n",
      "ska-csp-lmc-mid: mid-csp/subarray/02 : Running\n",
      "ska-csp-lmc-mid: sys/tg_test/1 : Unknown\n",
      "ska-csp-lmc-mid: mid-csp/capability-fsp/0 : Running\n",
      "ska-csp-lmc-mid: mid-csp/control/0 : Running\n",
      "ska-mid-cbf-mcs: mid_csp_cbf/fs_links/012 : Running\n",
      "ska-mid-cbf-mcs: mid_csp_cbf/vcc_sw2/006 : Running\n",
      "ska-mid-cbf-mcs: mid_csp_cbf/fs_links/000 : Running\n",
      "ska-mid-cbf-mcs: mid_csp_cbf/fspCorrSubarray/02_03 : Unknown\n",
      "ska-mid-cbf-mcs: mid_csp_cbf/vcc/006 : Running\n",
      "ska-mid-cbf-mcs: mid_csp_cbf/vcc_sw1/008 : Running\n",
      "ska-mid-cbf-mcs: mid_csp_cbf/fspPstSubarray/03_02 : Unknown\n",
      "ska-mid-cbf-mcs: mid_csp_cbf/fsp/04 : Unknown\n",
      "ska-mid-cbf-mcs: mid_csp_cbf/fspCorrSubarray/03_03 : Unknown\n",
      "ska-mid-cbf-mcs: mid_csp_cbf/fs_links/005 : Running\n",
      "ska-mid-cbf-mcs: mid_csp_cbf/fspPstSubarray/01_03 : Unknown\n",
      "ska-mid-cbf-mcs: mid_csp_cbf/fsp/02 : Unknown\n",
      "ska-mid-cbf-mcs: mid_csp_cbf/fspPstSubarray/04_01 : Unknown\n",
      "ska-mid-cbf-mcs: mid_csp_cbf/fspPstSubarray/04_03 : Unknown\n",
      "ska-mid-cbf-mcs: mid_csp_cbf/vcc_sw2/005 : Running\n",
      "ska-mid-cbf-mcs: mid_csp_cbf/vis_links/003 : Running\n",
      "ska-mid-cbf-mcs: mid_csp_cbf/fspPssSubarray/03_01 : Unknown\n",
      "ska-mid-cbf-mcs: mid_csp_cbf/sub_elt/controller : Running\n",
      "ska-mid-cbf-mcs: mid_csp_cbf/talon_board/005 : Unknown\n",
      "ska-mid-cbf-mcs: mid_csp_cbf/vcc_sw2/004 : Running\n",
      "ska-mid-cbf-mcs: mid_csp_cbf/fspPstSubarray/02_02 : Unknown\n",
      "ska-mid-cbf-mcs: mid_csp_cbf/fspPstSubarray/03_03 : Unknown\n",
      "ska-mid-cbf-mcs: mid_csp_cbf/talon_board/004 : Unknown\n",
      "ska-mid-cbf-mcs: mid_csp_cbf/vcc/008 : Running\n",
      "ska-mid-cbf-mcs: mid_csp_cbf/fspPssSubarray/01_01 : Unknown\n",
      "ska-mid-cbf-mcs: mid_csp_cbf/sub_elt/subarray_02 : Running\n",
      "ska-mid-cbf-mcs: mid_csp_cbf/fspPssSubarray/01_03 : Unknown\n",
      "ska-mid-cbf-mcs: mid_csp_cbf/talon_lru/004 : Unknown\n",
      "ska-mid-cbf-mcs: mid_csp_cbf/fs_links/001 : Running\n",
      "ska-mid-cbf-mcs: mid_csp_cbf/vcc_sw2/003 : Running\n",
      "ska-mid-cbf-mcs: mid_csp_cbf/vcc/004 : Running\n",
      "ska-mid-cbf-mcs: mid_csp_cbf/fspPssSubarray/02_02 : Unknown\n",
      "ska-mid-cbf-mcs: mid_csp_cbf/fspCorrSubarray/04_02 : Unknown\n",
      "ska-mid-cbf-mcs: mid_csp_cbf/fs_links/003 : Running\n",
      "ska-mid-cbf-mcs: mid_csp_cbf/fs_links/015 : Running\n",
      "ska-mid-cbf-mcs: mid_csp_cbf/vcc_sw1/003 : Running\n",
      "ska-mid-cbf-mcs: mid_csp_cbf/vcc_sw2/001 : Running\n",
      "ska-mid-cbf-mcs: mid_csp_cbf/vcc/007 : Running\n",
      "ska-mid-cbf-mcs: mid_csp_cbf/vcc_sw1/002 : Running\n",
      "ska-mid-cbf-mcs: mid_csp_cbf/power_switch/003 : Running\n",
      "ska-mid-cbf-mcs: mid_csp_cbf/fs_links/008 : Running\n",
      "ska-mid-cbf-mcs: mid_csp_cbf/fspPssSubarray/02_03 : Unknown\n",
      "ska-mid-cbf-mcs: mid_csp_cbf/sub_elt/subarray_03 : Running\n",
      "ska-mid-cbf-mcs: mid_csp_cbf/vcc_sw1/004 : Running\n",
      "ska-mid-cbf-mcs: mid_csp_cbf/talon_board/006 : Unknown\n",
      "ska-mid-cbf-mcs: mid_csp_cbf/vcc/005 : Running\n",
      "ska-mid-cbf-mcs: mid_csp_cbf/fspCorrSubarray/01_03 : Unknown\n",
      "ska-mid-cbf-mcs: mid_csp_cbf/fspPssSubarray/04_01 : Unknown\n",
      "ska-mid-cbf-mcs: mid_csp_cbf/fspPssSubarray/01_02 : Unknown\n",
      "ska-mid-cbf-mcs: mid_csp_cbf/talon_board/007 : Unknown\n",
      "ska-mid-cbf-mcs: mid_csp_cbf/slim/slim-vis : Running\n",
      "ska-mid-cbf-mcs: mid_csp_cbf/vcc_sw1/001 : Running\n",
      "ska-mid-cbf-mcs: mid_csp_cbf/fsp/03 : Unknown\n",
      "ska-mid-cbf-mcs: mid_csp_cbf/fs_links/004 : Running\n",
      "ska-mid-cbf-mcs: mid_csp_cbf/vcc/003 : Running\n",
      "ska-mid-cbf-mcs: mid_csp_cbf/fspCorrSubarray/02_01 : Unknown\n",
      "ska-mid-cbf-mcs: mid_csp_cbf/talon_board/003 : Unknown\n",
      "ska-mid-cbf-mcs: mid_csp_cbf/fspCorrSubarray/03_01 : Unknown\n",
      "ska-mid-cbf-mcs: mid_csp_cbf/fspPstSubarray/02_01 : Unknown\n",
      "ska-mid-cbf-mcs: mid_csp_cbf/vcc/001 : Running\n",
      "ska-mid-cbf-mcs: mid_csp_cbf/vcc/002 : Running\n",
      "ska-mid-cbf-mcs: mid_csp_cbf/fs_links/007 : Running\n",
      "ska-mid-cbf-mcs: mid_csp_cbf/fspPstSubarray/04_02 : Unknown\n",
      "ska-mid-cbf-mcs: mid_csp_cbf/vcc_sw2/002 : Running\n",
      "ska-mid-cbf-mcs: mid_csp_cbf/fs_links/006 : Running\n",
      "ska-mid-cbf-mcs: mid_csp_cbf/fspCorrSubarray/02_02 : Unknown\n",
      "ska-mid-cbf-mcs: mid_csp_cbf/vcc_sw1/007 : Running\n",
      "ska-mid-cbf-mcs: mid_csp_cbf/fs_links/014 : Running\n",
      "ska-mid-cbf-mcs: mid_csp_cbf/slim/slim-fs : Running\n",
      "ska-mid-cbf-mcs: mid_csp_cbf/fspPssSubarray/04_03 : Unknown\n",
      "ska-mid-cbf-mcs: mid_csp_cbf/sub_elt/subarray_01 : Running\n",
      "ska-mid-cbf-mcs: mid_csp_cbf/fspPssSubarray/03_03 : Unknown\n",
      "ska-mid-cbf-mcs: mid_csp_cbf/fs_links/010 : Running\n",
      "ska-mid-cbf-mcs: mid_csp_cbf/power_switch/001 : Running\n",
      "ska-mid-cbf-mcs: mid_csp_cbf/fs_links/011 : Running\n",
      "ska-mid-cbf-mcs: mid_csp_cbf/fspPssSubarray/03_02 : Unknown\n",
      "ska-mid-cbf-mcs: mid_csp_cbf/fs_links/013 : Running\n",
      "ska-mid-cbf-mcs: mid_csp_cbf/vis_links/001 : Running\n",
      "ska-mid-cbf-mcs: mid_csp_cbf/vis_links/000 : Running\n",
      "ska-mid-cbf-mcs: mid_csp_cbf/fs_links/009 : Running\n",
      "ska-mid-cbf-mcs: mid_csp_cbf/talon_lru/002 : Unknown\n",
      "ska-mid-cbf-mcs: mid_csp_cbf/vis_links/002 : Running\n",
      "ska-mid-cbf-mcs: mid_csp_cbf/vcc_sw2/007 : Running\n",
      "ska-mid-cbf-mcs: mid_csp_cbf/fspCorrSubarray/04_03 : Unknown\n",
      "ska-mid-cbf-mcs: mid_csp_cbf/fspCorrSubarray/04_01 : Unknown\n",
      "ska-mid-cbf-mcs: mid_csp_cbf/fsp/01 : Unknown\n",
      "ska-mid-cbf-mcs: mid_csp_cbf/fspPstSubarray/03_01 : Unknown\n",
      "ska-mid-cbf-mcs: mid_csp_cbf/talon_board/001 : Unknown\n",
      "ska-mid-cbf-mcs: mid_csp_cbf/fs_links/002 : Running\n",
      "ska-mid-cbf-mcs: mid_csp_cbf/fspCorrSubarray/01_02 : Unknown\n",
      "ska-mid-cbf-mcs: mid_csp_cbf/power_switch/002 : Running\n",
      "ska-mid-cbf-mcs: mid_csp_cbf/vcc_sw1/005 : Running\n",
      "ska-mid-cbf-mcs: mid_csp_cbf/talondx_log_consumer/001 : Unknown\n",
      "ska-mid-cbf-mcs: mid_csp_cbf/talon_board/008 : Unknown\n",
      "ska-mid-cbf-mcs: mid_csp_cbf/fspPstSubarray/01_01 : Unknown\n",
      "ska-mid-cbf-mcs: mid_csp_cbf/talon_board/002 : Unknown\n",
      "ska-mid-cbf-mcs: mid_csp_cbf/vcc_sw2/008 : Running\n",
      "ska-mid-cbf-mcs: mid_csp_cbf/fspPssSubarray/04_02 : Unknown\n",
      "ska-mid-cbf-mcs: mid_csp_cbf/power_switch/004 : Running\n",
      "ska-mid-cbf-mcs: mid_csp_cbf/fspCorrSubarray/03_02 : Unknown\n",
      "ska-mid-cbf-mcs: mid_csp_cbf/talon_lru/003 : Unknown\n",
      "ska-mid-cbf-mcs: mid_csp_cbf/fspPstSubarray/01_02 : Unknown\n",
      "ska-mid-cbf-mcs: mid_csp_cbf/fspPssSubarray/02_01 : Unknown\n",
      "ska-mid-cbf-mcs: mid_csp_cbf/fspCorrSubarray/01_01 : Unknown\n",
      "ska-mid-cbf-mcs: mid_csp_cbf/fspPstSubarray/02_03 : Unknown\n",
      "ska-mid-cbf-mcs: mid_csp_cbf/vcc_sw1/006 : Running\n",
      "ska-mid-cbf-mcs: mid_csp_cbf/talon_lru/001 : Unknown\n",
      "ska-tango-alarmhandler: alarm/handler/01 : Unknown\n",
      "ska-tango-archiver: mid-eda/cm/01 : Unknown\n",
      "ska-tango-archiver: mid-eda/es/01 : Unknown\n",
      "\n",
      "Dish ska001: Diagnostics\n",
      "ska-tango-base: sys/tg_test/1 : Running\n",
      "ska-dish-lmc: mid-dish/simulator-spfrx/SKA001 : Unknown\n",
      "ska-dish-lmc: mid-dish/simulator-spfc/SKA001 : Unknown\n",
      "ska-dish-lmc: mid-dish/dish-logger/SKA001 : Unknown\n",
      "ska-dish-lmc: mid-dish/ds-manager/SKA001 : Unknown\n",
      "ska-dish-lmc: mid-dish/dish-manager/SKA001 : Unknown\n",
      "\n",
      "Dish ska036: Diagnostics\n",
      "ska-tango-base: sys/tg_test/1 : Running\n",
      "ska-dish-lmc: mid-dish/simulator-spfrx/SKA036 : Unknown\n",
      "ska-dish-lmc: mid-dish/dish-logger/SKA036 : Unknown\n",
      "ska-dish-lmc: mid-dish/ds-manager/SKA036 : Unknown\n",
      "ska-dish-lmc: mid-dish/simulator-spfc/SKA036 : Unknown\n",
      "ska-dish-lmc: mid-dish/dish-manager/SKA036 : Unknown\n",
      "Done\n"
     ]
    }
   ],
   "source": [
    "print(\"SUT: Diagnostics\")\n",
    "# sut.print_full_diagnostics()\n",
    "\n",
    "for chart in sut.release.sub_charts:\n",
    "    devices = sut.chart_devices(chart.chart)\n",
    "    for device in devices:\n",
    "        print(f\"{chart.chart}: {device.name} : {device.deployment_status}\")\n",
    "\n",
    "for dish_deployment in dish_deployments:\n",
    "    # dish_deployment.print_full_diagnostics()\n",
    "    print(f\"\\nDish {dish_deployment.dish_id}: Diagnostics\")\n",
    "    for chart in dish_deployment.release.sub_charts:\n",
    "        devices = dish_deployment.chart_devices(chart.chart)\n",
    "        for device in devices:\n",
    "            print(f\"{chart.chart}: {device.name} : {device.deployment_status}\")\n",
    "print(\"Done\")"
   ]
  },
  {
   "cell_type": "markdown",
   "id": "dcc952f9",
   "metadata": {},
   "source": [
    "### 2.4 Setup ODA"
   ]
  },
  {
   "cell_type": "code",
   "execution_count": 18,
   "id": "750e478d",
   "metadata": {},
   "outputs": [
    {
     "ename": "TypeError",
     "evalue": "create_eb() missing 1 required positional argument: 'telescope'",
     "output_type": "error",
     "traceback": [
      "\u001b[0;31m---------------------------------------------------------------------------\u001b[0m",
      "\u001b[0;31mTypeError\u001b[0m                                 Traceback (most recent call last)",
      "Cell \u001b[0;32mIn[18], line 4\u001b[0m\n\u001b[1;32m      1\u001b[0m os\u001b[38;5;241m.\u001b[39menviron[\u001b[38;5;124m\"\u001b[39m\u001b[38;5;124mODA_URI\u001b[39m\u001b[38;5;124m\"\u001b[39m] \u001b[38;5;241m=\u001b[39m (\n\u001b[1;32m      2\u001b[0m     \u001b[38;5;124m\"\u001b[39m\u001b[38;5;124mhttp://ingress-nginx-controller-lb-default.ingress-nginx.svc.miditf.internal.skao.int/ska-db-oda/api/v1/\u001b[39m\u001b[38;5;124m\"\u001b[39m\n\u001b[1;32m      3\u001b[0m )\n\u001b[0;32m----> 4\u001b[0m eb_id \u001b[38;5;241m=\u001b[39m \u001b[43moda_helper\u001b[49m\u001b[38;5;241;43m.\u001b[39;49m\u001b[43mcreate_eb\u001b[49m\u001b[43m(\u001b[49m\u001b[43m)\u001b[49m\n\u001b[1;32m      5\u001b[0m \u001b[38;5;28mprint\u001b[39m(\u001b[38;5;124mf\u001b[39m\u001b[38;5;124m\"\u001b[39m\u001b[38;5;124mExecution Block ID: \u001b[39m\u001b[38;5;132;01m{\u001b[39;00meb_id\u001b[38;5;132;01m}\u001b[39;00m\u001b[38;5;124m\"\u001b[39m)\n\u001b[1;32m      6\u001b[0m \u001b[38;5;28mprint\u001b[39m(\u001b[38;5;124m\"\u001b[39m\u001b[38;5;124mDone\u001b[39m\u001b[38;5;124m\"\u001b[39m)\n",
      "\u001b[0;31mTypeError\u001b[0m: create_eb() missing 1 required positional argument: 'telescope'"
     ]
    },
    {
     "name": "stderr",
     "output_type": "stream",
     "text": [
      "Thu Jul 18 13:01:08 2024: Tango::ZmqEventConsumer::push_heartbeat_event() timeout on channel monitor of tango://tango-databaseds.ci-ska-mid-itf-at-2146-consolidate-jupyter-notebooks.svc.miditf.internal.skao.int:10000/dserver/central_node_mid/01\n"
     ]
    }
   ],
   "source": [
    "os.environ[\"ODA_URI\"] = (\n",
    "    \"http://ingress-nginx-controller-lb-default.ingress-nginx.svc.miditf.internal.skao.int/ska-db-oda/api/v1/\"\n",
    ")\n",
    "eb_id = oda_helper.create_eb()\n",
    "print(f\"Execution Block ID: {eb_id}\")\n",
    "print(\"Done\")"
   ]
  },
  {
   "cell_type": "markdown",
   "id": "2b598fc9",
   "metadata": {},
   "source": [
    "### 2.5 Initialise Telescope and Subarray\n",
    "Create Subarray and Telescope instances."
   ]
  },
  {
   "cell_type": "code",
   "execution_count": 19,
   "id": "1b2e9941",
   "metadata": {},
   "outputs": [
    {
     "name": "stdout",
     "output_type": "stream",
     "text": [
      "Done\n"
     ]
    }
   ],
   "source": [
    "sub = SubArray(subarray_id)\n",
    "tel = Telescope()\n",
    "print(\"Done\")"
   ]
  },
  {
   "cell_type": "markdown",
   "id": "3db487bd",
   "metadata": {},
   "source": [
    "### 2.6 Load VCC Configuration in TMC"
   ]
  },
  {
   "cell_type": "code",
   "execution_count": 20,
   "id": "37bc04ca",
   "metadata": {},
   "outputs": [
    {
     "name": "stdout",
     "output_type": "stream",
     "text": [
      "CSP Controller: adminMode=0; State=OFF\n",
      "CSP Controller: adminMode=0; State=OFF after 0s.\n",
      "CSP Controller: adminMode=0; State=OFF\n",
      "TMC Central Node isDishVccConfigSet=False after 0s\n",
      "TMC Central Node isDishVccConfigSet=False after 1s\n",
      "TMC Central Node isDishVccConfigSet=False after 3s\n",
      "TMC Central Node isDishVccConfigSet=False after 7s\n",
      "TMC Central Node isDishVccConfigSet=False after 15s\n",
      "TMC Central Node isDishVccConfigSet=False after 31s\n"
     ]
    },
    {
     "name": "stderr",
     "output_type": "stream",
     "text": [
      "Thu Jul 18 13:03:41 2024: Tango::ZmqEventConsumer::push_heartbeat_event() timeout on channel monitor of tango://tango-databaseds.ci-ska-mid-itf-at-2146-consolidate-jupyter-notebooks.svc.miditf.internal.skao.int:10000/dserver/central_node_mid/01\n"
     ]
    },
    {
     "name": "stdout",
     "output_type": "stream",
     "text": [
      "TMC Central Node isDishVccConfigSet=False after 63s\n",
      "TMC Central Node isDishVccConfigSet=False after 127s\n"
     ]
    },
    {
     "ename": "KeyboardInterrupt",
     "evalue": "",
     "output_type": "error",
     "traceback": [
      "\u001b[0;31m---------------------------------------------------------------------------\u001b[0m",
      "\u001b[0;31mKeyboardInterrupt\u001b[0m                         Traceback (most recent call last)",
      "Cell \u001b[0;32mIn[20], line 3\u001b[0m\n\u001b[1;32m      1\u001b[0m \u001b[38;5;66;03m# This should only be executed for a fresh deployment (i.e. Telescope is OFF.\u001b[39;00m\n\u001b[1;32m      2\u001b[0m \u001b[38;5;66;03m# If you have restarted the subarray, you should not run this command\u001b[39;00m\n\u001b[0;32m----> 3\u001b[0m \u001b[43msut\u001b[49m\u001b[38;5;241;43m.\u001b[39;49m\u001b[43mload_dish_vcc_config\u001b[49m\u001b[43m(\u001b[49m\u001b[43m)\u001b[49m\n\u001b[1;32m      4\u001b[0m \u001b[38;5;28mprint\u001b[39m(\u001b[38;5;124m\"\u001b[39m\u001b[38;5;124mDone\u001b[39m\u001b[38;5;124m\"\u001b[39m)\n",
      "File \u001b[0;32m/usr/local/lib/skao/ska_mid_jupyter_notebooks/sut/sut.py:279\u001b[0m, in \u001b[0;36mTangoSUTDeployment.load_dish_vcc_config\u001b[0;34m(self)\u001b[0m\n\u001b[1;32m    273\u001b[0m     \u001b[38;5;28mprint\u001b[39m(\n\u001b[1;32m    274\u001b[0m         \u001b[38;5;124mf\u001b[39m\u001b[38;5;124m\"\u001b[39m\u001b[38;5;124mTMC Central Node isDishVccConfigSet=\u001b[39m\u001b[38;5;132;01m{\u001b[39;00mcentral_node\u001b[38;5;241m.\u001b[39misDishVccConfigSet\u001b[38;5;132;01m}\u001b[39;00m\u001b[38;5;124m\"\u001b[39m\n\u001b[1;32m    275\u001b[0m         \u001b[38;5;124mf\u001b[39m\u001b[38;5;124m\"\u001b[39m\u001b[38;5;124m after \u001b[39m\u001b[38;5;132;01m{\u001b[39;00msleep_time\u001b[38;5;132;01m}\u001b[39;00m\u001b[38;5;124ms\u001b[39m\u001b[38;5;124m\"\u001b[39m\n\u001b[1;32m    276\u001b[0m     )\n\u001b[1;32m    277\u001b[0m     \u001b[38;5;28;01mreturn\u001b[39;00m \u001b[38;5;28mbool\u001b[39m(central_node\u001b[38;5;241m.\u001b[39misDishVccConfigSet)\n\u001b[0;32m--> 279\u001b[0m \u001b[43mwait_for_state\u001b[49m\u001b[43m(\u001b[49m\u001b[43mis_dish_vcc_config_set\u001b[49m\u001b[43m,\u001b[49m\u001b[43m \u001b[49m\u001b[43mmax_sleep\u001b[49m\u001b[38;5;241;43m=\u001b[39;49m\u001b[38;5;241;43m360\u001b[39;49m\u001b[43m)\u001b[49m\n\u001b[1;32m    280\u001b[0m dish_cfg_json \u001b[38;5;241m=\u001b[39m json\u001b[38;5;241m.\u001b[39mdumps(\n\u001b[1;32m    281\u001b[0m     {\n\u001b[1;32m    282\u001b[0m         \u001b[38;5;124m\"\u001b[39m\u001b[38;5;124minterface\u001b[39m\u001b[38;5;124m\"\u001b[39m: \u001b[38;5;124m\"\u001b[39m\u001b[38;5;124mhttps://schema.skao.int/ska-mid-cbf-initsysparam/1.0\u001b[39m\u001b[38;5;124m\"\u001b[39m,\n\u001b[0;32m   (...)\u001b[0m\n\u001b[1;32m    288\u001b[0m     }\n\u001b[1;32m    289\u001b[0m )\n\u001b[1;32m    290\u001b[0m central_node\u001b[38;5;241m.\u001b[39mLoadDishCfg(dish_cfg_json)\n",
      "File \u001b[0;32m/usr/local/lib/skao/ska_mid_jupyter_notebooks/sut/sut.py:431\u001b[0m, in \u001b[0;36mwait_for_state\u001b[0;34m(is_ready, max_sleep)\u001b[0m\n\u001b[1;32m    429\u001b[0m total_sleep \u001b[38;5;241m=\u001b[39m \u001b[38;5;241m0\u001b[39m\n\u001b[1;32m    430\u001b[0m \u001b[38;5;28;01mwhile\u001b[39;00m \u001b[38;5;129;01mnot\u001b[39;00m is_ready(total_sleep):\n\u001b[0;32m--> 431\u001b[0m     \u001b[43mtime\u001b[49m\u001b[38;5;241;43m.\u001b[39;49m\u001b[43msleep\u001b[49m\u001b[43m(\u001b[49m\u001b[43msleep_interval\u001b[49m\u001b[43m)\u001b[49m\n\u001b[1;32m    432\u001b[0m     total_sleep \u001b[38;5;241m+\u001b[39m\u001b[38;5;241m=\u001b[39m sleep_interval\n\u001b[1;32m    433\u001b[0m     \u001b[38;5;28;01mif\u001b[39;00m total_sleep \u001b[38;5;241m>\u001b[39m\u001b[38;5;241m=\u001b[39m max_sleep:\n",
      "\u001b[0;31mKeyboardInterrupt\u001b[0m: "
     ]
    }
   ],
   "source": [
    "# This should only be executed for a fresh deployment (i.e. Telescope is OFF.\n",
    "# If you have restarted the subarray, you should not run this command\n",
    "sut.load_dish_vcc_config()\n",
    "print(\"Done\")"
   ]
  },
  {
   "cell_type": "markdown",
   "id": "a533faaa",
   "metadata": {},
   "source": [
    "### 2.7 Turn telescope ON"
   ]
  },
  {
   "cell_type": "code",
   "execution_count": 23,
   "id": "1b2b2a0f",
   "metadata": {},
   "outputs": [
    {
     "name": "stdout",
     "output_type": "stream",
     "text": [
      "Telescope is OFF\n",
      "1|2024-07-18T11:05:22.190Z|ERROR|MainThread|wrapper|oda_helper.py#245||The ODA_URL not set, meaning Execution Block updates will not be sent to the ODA. Please set this variable to the URL for an instance of the ODA, eg ODA_URL=http://k8s.stfc.skao.int/staging-ska-db-oda/\n",
      "1|2024-07-18T11:05:22.191Z|INFO|MainThread|_call_and_wait_for_transition|common.py#147||Using pub/sub to track telescopeState of ska_mid/tm_central/central_node\n",
      "1|2024-07-18T11:05:22.191Z|INFO|MainThread|execute|tango_executor.py#243||Executing command: <Command('ska_mid/tm_central/central_node', 'TelescopeOn', )>\n"
     ]
    },
    {
     "ename": "DevFailed",
     "evalue": "DevFailed[\nDevError[\n    desc = ska_tmc_common.exceptions.CommandNotAllowed: Dish Vcc Config not Set. Please set using LoadDishCfg command. Current Telescope State is :ON\n           \n  origin = Traceback (most recent call last):\n  File \"/usr/local/lib/python3.10/dist-packages/tango/device_server.py\", line 85, in wrapper\n    return get_worker().execute(fn, *args, **kwargs)\n  File \"/usr/local/lib/python3.10/dist-packages/tango/green.py\", line 101, in execute\n    return fn(*args, **kwargs)\n  File \"/app/src/ska_tmc_centralnode/central_node.py\", line 299, in is_TelescopeOn_allowed\n    return self.component_manager.is_command_allowed(\"TelescopeOn\")\n  File \"/app/src/ska_tmc_centralnode/manager/component_manager_mid.py\", line 508, in is_command_allowed\n    raise CommandNotAllowed(\nska_tmc_common.exceptions.CommandNotAllowed: Dish Vcc Config not Set. Please set using LoadDishCfg command. Current Telescope State is :ON\n\n  reason = PyDs_PythonError\nseverity = ERR]\n\nDevError[\n    desc = Failed to execute command_inout on device ska_mid/tm_central/central_node, command TelescopeOn\n  origin = virtual Tango::DeviceData Tango::Connection::command_inout(const string&, const Tango::DeviceData&) at (/src/cppTango/src/client/devapi_base.cpp:1334)\n  reason = API_CommandFailed\nseverity = ERR]\n]",
     "output_type": "error",
     "traceback": [
      "\u001b[0;31m---------------------------------------------------------------------------\u001b[0m",
      "\u001b[0;31mDevFailed\u001b[0m                                 Traceback (most recent call last)",
      "Cell \u001b[0;32mIn[23], line 7\u001b[0m\n\u001b[1;32m      5\u001b[0m \u001b[38;5;28mprint\u001b[39m(\u001b[38;5;124mf\u001b[39m\u001b[38;5;124m\"\u001b[39m\u001b[38;5;124mTelescope is \u001b[39m\u001b[38;5;132;01m{\u001b[39;00mtelescope_monitor_plot\u001b[38;5;241m.\u001b[39mon_off_state\u001b[38;5;132;01m}\u001b[39;00m\u001b[38;5;124m\"\u001b[39m)\n\u001b[1;32m      6\u001b[0m \u001b[38;5;28;01mif\u001b[39;00m telescope_monitor_plot\u001b[38;5;241m.\u001b[39mon_off_state \u001b[38;5;241m==\u001b[39m \u001b[38;5;124m\"\u001b[39m\u001b[38;5;124mOFF\u001b[39m\u001b[38;5;124m\"\u001b[39m:  \u001b[38;5;66;03m# e.g. purple\u001b[39;00m\n\u001b[0;32m----> 7\u001b[0m     \u001b[43mtel\u001b[49m\u001b[38;5;241;43m.\u001b[39;49m\u001b[43mon\u001b[49m\u001b[43m(\u001b[49m\u001b[43m)\u001b[49m\n\u001b[1;32m      8\u001b[0m \u001b[38;5;28;01melse\u001b[39;00m:\n\u001b[1;32m      9\u001b[0m     \u001b[38;5;28;01massert\u001b[39;00m (\n\u001b[1;32m     10\u001b[0m         telescope_monitor_plot\u001b[38;5;241m.\u001b[39mon_off_state \u001b[38;5;241m==\u001b[39m \u001b[38;5;124m\"\u001b[39m\u001b[38;5;124mON\u001b[39m\u001b[38;5;124m\"\u001b[39m\n\u001b[1;32m     11\u001b[0m     ), \u001b[38;5;124mf\u001b[39m\u001b[38;5;124m\"\u001b[39m\u001b[38;5;124mCant continue with telescope in \u001b[39m\u001b[38;5;132;01m{\u001b[39;00mtelescope_monitor_plot\u001b[38;5;241m.\u001b[39mon_off_state\u001b[38;5;132;01m}\u001b[39;00m\u001b[38;5;124m\"\u001b[39m\n",
      "File \u001b[0;32m~/.local/lib/python3.10/site-packages/ska_oso_scripting/objects.py:42\u001b[0m, in \u001b[0;36mTelescope.on\u001b[0;34m()\u001b[0m\n\u001b[1;32m     37\u001b[0m \u001b[38;5;129m@staticmethod\u001b[39m\n\u001b[1;32m     38\u001b[0m \u001b[38;5;28;01mdef\u001b[39;00m \u001b[38;5;21mon\u001b[39m() \u001b[38;5;241m-\u001b[39m\u001b[38;5;241m>\u001b[39m \u001b[38;5;28;01mNone\u001b[39;00m:\n\u001b[1;32m     39\u001b[0m \u001b[38;5;250m    \u001b[39m\u001b[38;5;124;03m\"\"\"\u001b[39;00m\n\u001b[1;32m     40\u001b[0m \u001b[38;5;124;03m    Power up all telescope devices.\u001b[39;00m\n\u001b[1;32m     41\u001b[0m \u001b[38;5;124;03m    \"\"\"\u001b[39;00m\n\u001b[0;32m---> 42\u001b[0m     \u001b[43mdevicecontrol\u001b[49m\u001b[38;5;241;43m.\u001b[39;49m\u001b[43mtelescope_on\u001b[49m\u001b[43m(\u001b[49m\u001b[43m)\u001b[49m\n",
      "File \u001b[0;32m~/.local/lib/python3.10/site-packages/ska_db_oda/client/oda_helper.py:250\u001b[0m, in \u001b[0;36mcapture_request_response.<locals>.wrapper\u001b[0;34m(*args, **kwargs)\u001b[0m\n\u001b[1;32m    244\u001b[0m \u001b[38;5;28;01mif\u001b[39;00m ODA_URL \u001b[38;5;129;01mis\u001b[39;00m \u001b[38;5;28;01mNone\u001b[39;00m:\n\u001b[1;32m    245\u001b[0m     LOGGER\u001b[38;5;241m.\u001b[39merror(\n\u001b[1;32m    246\u001b[0m         \u001b[38;5;124m\"\u001b[39m\u001b[38;5;124mThe ODA_URL not set, meaning Execution Block updates will not be sent\u001b[39m\u001b[38;5;124m\"\u001b[39m\n\u001b[1;32m    247\u001b[0m         \u001b[38;5;124m\"\u001b[39m\u001b[38;5;124m to the ODA. Please set this variable to the URL for an instance of\u001b[39m\u001b[38;5;124m\"\u001b[39m\n\u001b[1;32m    248\u001b[0m         \u001b[38;5;124m\"\u001b[39m\u001b[38;5;124m the ODA, eg ODA_URL=http://k8s.stfc.skao.int/staging-ska-db-oda/\u001b[39m\u001b[38;5;124m\"\u001b[39m\n\u001b[1;32m    249\u001b[0m     )\n\u001b[0;32m--> 250\u001b[0m     \u001b[38;5;28;01mreturn\u001b[39;00m \u001b[43mfn\u001b[49m\u001b[43m(\u001b[49m\u001b[38;5;241;43m*\u001b[39;49m\u001b[43margs\u001b[49m\u001b[43m,\u001b[49m\u001b[43m \u001b[49m\u001b[38;5;241;43m*\u001b[39;49m\u001b[38;5;241;43m*\u001b[39;49m\u001b[43mkwargs\u001b[49m\u001b[43m)\u001b[49m\n\u001b[1;32m    252\u001b[0m EB_ID \u001b[38;5;241m=\u001b[39m getenv(\u001b[38;5;124m\"\u001b[39m\u001b[38;5;124mEB_ID\u001b[39m\u001b[38;5;124m\"\u001b[39m)\n\u001b[1;32m    253\u001b[0m \u001b[38;5;28;01mif\u001b[39;00m EB_ID \u001b[38;5;129;01mis\u001b[39;00m \u001b[38;5;28;01mNone\u001b[39;00m:\n",
      "File \u001b[0;32m~/.local/lib/python3.10/site-packages/ska_oso_scripting/functions/devicecontrol/__init__.py:242\u001b[0m, in \u001b[0;36mtelescope_on\u001b[0;34m()\u001b[0m\n\u001b[1;32m    233\u001b[0m \u001b[38;5;129m@oda_helper\u001b[39m\u001b[38;5;241m.\u001b[39mcapture_request_response\n\u001b[1;32m    234\u001b[0m \u001b[38;5;28;01mdef\u001b[39;00m \u001b[38;5;21mtelescope_on\u001b[39m():\n\u001b[1;32m    235\u001b[0m \u001b[38;5;250m    \u001b[39m\u001b[38;5;124;03m\"\"\"\u001b[39;00m\n\u001b[1;32m    236\u001b[0m \u001b[38;5;124;03m    Start up the telescope.\u001b[39;00m\n\u001b[1;32m    237\u001b[0m \n\u001b[0;32m   (...)\u001b[0m\n\u001b[1;32m    240\u001b[0m \u001b[38;5;124;03m    :return:\u001b[39;00m\n\u001b[1;32m    241\u001b[0m \u001b[38;5;124;03m    \"\"\"\u001b[39;00m\n\u001b[0;32m--> 242\u001b[0m     \u001b[43mtelescope_control\u001b[49m\u001b[38;5;241;43m.\u001b[39;49m\u001b[43mtelescope_on\u001b[49m\u001b[43m(\u001b[49m\u001b[43m)\u001b[49m\n",
      "File \u001b[0;32m~/.local/lib/python3.10/site-packages/ska_oso_scripting/functions/devicecontrol/telescope_control.py:18\u001b[0m, in \u001b[0;36mtelescope_on\u001b[0;34m()\u001b[0m\n\u001b[1;32m     11\u001b[0m \u001b[38;5;250m\u001b[39m\u001b[38;5;124;03m\"\"\"\u001b[39;00m\n\u001b[1;32m     12\u001b[0m \u001b[38;5;124;03mStart up the telescope.\u001b[39;00m\n\u001b[1;32m     13\u001b[0m \n\u001b[1;32m     14\u001b[0m \u001b[38;5;124;03mThis command powers up Dishes that are currently in standby.\u001b[39;00m\n\u001b[1;32m     15\u001b[0m \u001b[38;5;124;03m\"\"\"\u001b[39;00m\n\u001b[1;32m     16\u001b[0m state_attribute \u001b[38;5;241m=\u001b[39m \u001b[38;5;124m\"\u001b[39m\u001b[38;5;124mtelescopeState\u001b[39m\u001b[38;5;124m\"\u001b[39m\n\u001b[0;32m---> 18\u001b[0m \u001b[43m_call_and_wait_for_transition\u001b[49m\u001b[43m(\u001b[49m\n\u001b[1;32m     19\u001b[0m \u001b[43m    \u001b[49m\u001b[43mget_telescope_start_up_command\u001b[49m\u001b[43m(\u001b[49m\u001b[43m)\u001b[49m\u001b[43m,\u001b[49m\n\u001b[1;32m     20\u001b[0m \u001b[43m    \u001b[49m\u001b[43m[\u001b[49m\u001b[43mtango\u001b[49m\u001b[38;5;241;43m.\u001b[39;49m\u001b[43mDevState\u001b[49m\u001b[38;5;241;43m.\u001b[39;49m\u001b[43mON\u001b[49m\u001b[43m]\u001b[49m\u001b[43m,\u001b[49m\n\u001b[1;32m     21\u001b[0m \u001b[43m    \u001b[49m\u001b[43mstate_attribute\u001b[49m\u001b[43m,\u001b[49m\n\u001b[1;32m     22\u001b[0m \u001b[43m    \u001b[49m\u001b[43moptional_transitions\u001b[49m\u001b[38;5;241;43m=\u001b[39;49m\u001b[43m[\u001b[49m\u001b[43mtango\u001b[49m\u001b[38;5;241;43m.\u001b[39;49m\u001b[43mDevState\u001b[49m\u001b[38;5;241;43m.\u001b[39;49m\u001b[43mUNKNOWN\u001b[49m\u001b[43m]\u001b[49m\u001b[43m,\u001b[49m\n\u001b[1;32m     23\u001b[0m \u001b[43m\u001b[49m\u001b[43m)\u001b[49m\n",
      "File \u001b[0;32m~/.local/lib/python3.10/site-packages/ska_oso_scripting/functions/devicecontrol/common.py:191\u001b[0m, in \u001b[0;36m_call_and_wait_for_transition\u001b[0;34m(command, target_transitions, attribute_name, device_to_monitor, optional_transitions, timeout)\u001b[0m\n\u001b[1;32m    186\u001b[0m     \u001b[38;5;28;01melse\u001b[39;00m:\n\u001b[1;32m    187\u001b[0m \u001b[38;5;250m        \u001b[39m\u001b[38;5;124;03m\"\"\"\u001b[39;00m\n\u001b[1;32m    188\u001b[0m \u001b[38;5;124;03m        else block will execute for the commands ( restart, abort, telescopeOn, telescopeOff)\u001b[39;00m\n\u001b[1;32m    189\u001b[0m \u001b[38;5;124;03m        where request payload input is not needed.\u001b[39;00m\n\u001b[1;32m    190\u001b[0m \u001b[38;5;124;03m        \"\"\"\u001b[39;00m\n\u001b[0;32m--> 191\u001b[0m         response \u001b[38;5;241m=\u001b[39m \u001b[43mexecute_command_and_wait_for_transition\u001b[49m\u001b[43m(\u001b[49m\n\u001b[1;32m    192\u001b[0m \u001b[43m            \u001b[49m\u001b[43mcommand\u001b[49m\u001b[38;5;241;43m=\u001b[39;49m\u001b[43mcommand\u001b[49m\u001b[43m,\u001b[49m\n\u001b[1;32m    193\u001b[0m \u001b[43m            \u001b[49m\u001b[43mtarget_transitions\u001b[49m\u001b[38;5;241;43m=\u001b[39;49m\u001b[43mtarget_transitions\u001b[49m\u001b[43m,\u001b[49m\n\u001b[1;32m    194\u001b[0m \u001b[43m            \u001b[49m\u001b[43mattribute\u001b[49m\u001b[38;5;241;43m=\u001b[39;49m\u001b[43mattribute\u001b[49m\u001b[43m,\u001b[49m\n\u001b[1;32m    195\u001b[0m \u001b[43m            \u001b[49m\u001b[43moptional_transitions\u001b[49m\u001b[38;5;241;43m=\u001b[39;49m\u001b[43moptional_transitions\u001b[49m\u001b[43m,\u001b[49m\n\u001b[1;32m    196\u001b[0m \u001b[43m            \u001b[49m\u001b[43mtimeout\u001b[49m\u001b[38;5;241;43m=\u001b[39;49m\u001b[43mtimeout\u001b[49m\u001b[43m,\u001b[49m\n\u001b[1;32m    197\u001b[0m \u001b[43m        \u001b[49m\u001b[43m)\u001b[49m\n\u001b[1;32m    198\u001b[0m \u001b[38;5;28;01mfinally\u001b[39;00m:\n\u001b[1;32m    199\u001b[0m     EXECUTOR\u001b[38;5;241m.\u001b[39munsubscribe_event(attribute, event_id)\n",
      "File \u001b[0;32m~/.local/lib/python3.10/site-packages/ska_oso_scripting/functions/devicecontrol/common.py:224\u001b[0m, in \u001b[0;36mexecute_command_and_wait_for_transition\u001b[0;34m(command, target_transitions, attribute, optional_transitions, timeout)\u001b[0m\n\u001b[1;32m    204\u001b[0m \u001b[38;5;28;01mdef\u001b[39;00m \u001b[38;5;21mexecute_command_and_wait_for_transition\u001b[39m(\n\u001b[1;32m    205\u001b[0m     command: Command,\n\u001b[1;32m    206\u001b[0m     target_transitions: Iterable[DeviceStateTypes],\n\u001b[0;32m   (...)\u001b[0m\n\u001b[1;32m    209\u001b[0m     timeout: \u001b[38;5;28mfloat\u001b[39m \u001b[38;5;241m=\u001b[39m \u001b[38;5;28;01mNone\u001b[39;00m,\n\u001b[1;32m    210\u001b[0m ):\n\u001b[1;32m    211\u001b[0m \u001b[38;5;250m    \u001b[39m\u001b[38;5;124;03m\"\"\"\u001b[39;00m\n\u001b[1;32m    212\u001b[0m \u001b[38;5;124;03m    Send a command and block until attribute value has transitioned to/through the\u001b[39;00m\n\u001b[1;32m    213\u001b[0m \u001b[38;5;124;03m    requested target state(s).\u001b[39;00m\n\u001b[0;32m   (...)\u001b[0m\n\u001b[1;32m    222\u001b[0m \u001b[38;5;124;03m    :return: Command response\u001b[39;00m\n\u001b[1;32m    223\u001b[0m \u001b[38;5;124;03m    \"\"\"\u001b[39;00m\n\u001b[0;32m--> 224\u001b[0m     response \u001b[38;5;241m=\u001b[39m \u001b[43mEXECUTOR\u001b[49m\u001b[38;5;241;43m.\u001b[39;49m\u001b[43mexecute\u001b[49m\u001b[43m(\u001b[49m\u001b[43mcommand\u001b[49m\u001b[43m)\u001b[49m\n\u001b[1;32m    225\u001b[0m     \u001b[38;5;28;01mfor\u001b[39;00m target_value \u001b[38;5;129;01min\u001b[39;00m target_transitions:\n\u001b[1;32m    226\u001b[0m         value_response \u001b[38;5;241m=\u001b[39m wait_for_transition(\n\u001b[1;32m    227\u001b[0m             attribute\u001b[38;5;241m=\u001b[39mattribute,\n\u001b[1;32m    228\u001b[0m             target_transition\u001b[38;5;241m=\u001b[39mtarget_value,\n\u001b[1;32m    229\u001b[0m             optional_transitions\u001b[38;5;241m=\u001b[39moptional_transitions,\n\u001b[1;32m    230\u001b[0m             timeout\u001b[38;5;241m=\u001b[39mtimeout,\n\u001b[1;32m    231\u001b[0m         )\n",
      "File \u001b[0;32m~/.local/lib/python3.10/site-packages/ska_oso_scripting/functions/devicecontrol/tango_executor.py:244\u001b[0m, in \u001b[0;36mTangoExecutor.execute\u001b[0;34m(self, command, **kwargs)\u001b[0m\n\u001b[1;32m    242\u001b[0m     param \u001b[38;5;241m=\u001b[39m command\u001b[38;5;241m.\u001b[39margs\n\u001b[1;32m    243\u001b[0m LOGGER\u001b[38;5;241m.\u001b[39minfo(\u001b[38;5;124m\"\u001b[39m\u001b[38;5;124mExecuting command: \u001b[39m\u001b[38;5;132;01m%r\u001b[39;00m\u001b[38;5;124m\"\u001b[39m, command)\n\u001b[0;32m--> 244\u001b[0m \u001b[38;5;28;01mreturn\u001b[39;00m \u001b[43mproxy\u001b[49m\u001b[38;5;241;43m.\u001b[39;49m\u001b[43mcommand_inout\u001b[49m\u001b[43m(\u001b[49m\u001b[43mcommand\u001b[49m\u001b[38;5;241;43m.\u001b[39;49m\u001b[43mcommand_name\u001b[49m\u001b[43m,\u001b[49m\u001b[43m \u001b[49m\u001b[43mcmd_param\u001b[49m\u001b[38;5;241;43m=\u001b[39;49m\u001b[43mparam\u001b[49m\u001b[43m,\u001b[49m\u001b[43m \u001b[49m\u001b[38;5;241;43m*\u001b[39;49m\u001b[38;5;241;43m*\u001b[39;49m\u001b[43mkwargs\u001b[49m\u001b[43m)\u001b[49m\n",
      "File \u001b[0;32m~/.local/lib/python3.10/site-packages/tango/green.py:234\u001b[0m, in \u001b[0;36mgreen.<locals>.decorator.<locals>.greener\u001b[0;34m(obj, *args, **kwargs)\u001b[0m\n\u001b[1;32m    232\u001b[0m green_mode \u001b[38;5;241m=\u001b[39m access(\u001b[38;5;124m\"\u001b[39m\u001b[38;5;124mgreen_mode\u001b[39m\u001b[38;5;124m\"\u001b[39m, \u001b[38;5;28;01mNone\u001b[39;00m)\n\u001b[1;32m    233\u001b[0m executor \u001b[38;5;241m=\u001b[39m get_object_executor(obj, green_mode)\n\u001b[0;32m--> 234\u001b[0m \u001b[38;5;28;01mreturn\u001b[39;00m \u001b[43mexecutor\u001b[49m\u001b[38;5;241;43m.\u001b[39;49m\u001b[43mrun\u001b[49m\u001b[43m(\u001b[49m\u001b[43mfn\u001b[49m\u001b[43m,\u001b[49m\u001b[43m \u001b[49m\u001b[43margs\u001b[49m\u001b[43m,\u001b[49m\u001b[43m \u001b[49m\u001b[43mkwargs\u001b[49m\u001b[43m,\u001b[49m\u001b[43m \u001b[49m\u001b[43mwait\u001b[49m\u001b[38;5;241;43m=\u001b[39;49m\u001b[43mwait\u001b[49m\u001b[43m,\u001b[49m\u001b[43m \u001b[49m\u001b[43mtimeout\u001b[49m\u001b[38;5;241;43m=\u001b[39;49m\u001b[43mtimeout\u001b[49m\u001b[43m)\u001b[49m\n",
      "File \u001b[0;32m~/.local/lib/python3.10/site-packages/tango/green.py:124\u001b[0m, in \u001b[0;36mAbstractExecutor.run\u001b[0;34m(self, fn, args, kwargs, wait, timeout)\u001b[0m\n\u001b[1;32m    122\u001b[0m \u001b[38;5;66;03m# Synchronous (no delegation)\u001b[39;00m\n\u001b[1;32m    123\u001b[0m \u001b[38;5;28;01mif\u001b[39;00m \u001b[38;5;129;01mnot\u001b[39;00m \u001b[38;5;28mself\u001b[39m\u001b[38;5;241m.\u001b[39masynchronous \u001b[38;5;129;01mor\u001b[39;00m \u001b[38;5;129;01mnot\u001b[39;00m \u001b[38;5;28mself\u001b[39m\u001b[38;5;241m.\u001b[39min_executor_context():\n\u001b[0;32m--> 124\u001b[0m     \u001b[38;5;28;01mreturn\u001b[39;00m \u001b[43mfn\u001b[49m\u001b[43m(\u001b[49m\u001b[38;5;241;43m*\u001b[39;49m\u001b[43margs\u001b[49m\u001b[43m,\u001b[49m\u001b[43m \u001b[49m\u001b[38;5;241;43m*\u001b[39;49m\u001b[38;5;241;43m*\u001b[39;49m\u001b[43mkwargs\u001b[49m\u001b[43m)\u001b[49m\n\u001b[1;32m    125\u001b[0m \u001b[38;5;66;03m# Asynchronous delegation\u001b[39;00m\n\u001b[1;32m    126\u001b[0m accessor \u001b[38;5;241m=\u001b[39m \u001b[38;5;28mself\u001b[39m\u001b[38;5;241m.\u001b[39mdelegate(fn, \u001b[38;5;241m*\u001b[39margs, \u001b[38;5;241m*\u001b[39m\u001b[38;5;241m*\u001b[39mkwargs)\n",
      "File \u001b[0;32m~/.local/lib/python3.10/site-packages/tango/connection.py:116\u001b[0m, in \u001b[0;36m__Connection__command_inout\u001b[0;34m(self, name, *args, **kwds)\u001b[0m\n\u001b[1;32m     84\u001b[0m \u001b[38;5;28;01mdef\u001b[39;00m \u001b[38;5;21m__Connection__command_inout\u001b[39m(\u001b[38;5;28mself\u001b[39m, name, \u001b[38;5;241m*\u001b[39margs, \u001b[38;5;241m*\u001b[39m\u001b[38;5;241m*\u001b[39mkwds):\n\u001b[1;32m     85\u001b[0m \u001b[38;5;250m    \u001b[39m\u001b[38;5;124;03m\"\"\"\u001b[39;00m\n\u001b[1;32m     86\u001b[0m \u001b[38;5;124;03m    command_inout( self, cmd_name, cmd_param=None, green_mode=None, wait=True, timeout=None) -> any\u001b[39;00m\n\u001b[1;32m     87\u001b[0m \n\u001b[0;32m   (...)\u001b[0m\n\u001b[1;32m    114\u001b[0m \u001b[38;5;124;03m        *timeout* parameter.\u001b[39;00m\n\u001b[1;32m    115\u001b[0m \u001b[38;5;124;03m    \"\"\"\u001b[39;00m\n\u001b[0;32m--> 116\u001b[0m     r \u001b[38;5;241m=\u001b[39m \u001b[43mConnection\u001b[49m\u001b[38;5;241;43m.\u001b[39;49m\u001b[43mcommand_inout_raw\u001b[49m\u001b[43m(\u001b[49m\u001b[38;5;28;43mself\u001b[39;49m\u001b[43m,\u001b[49m\u001b[43m \u001b[49m\u001b[43mname\u001b[49m\u001b[43m,\u001b[49m\u001b[43m \u001b[49m\u001b[38;5;241;43m*\u001b[39;49m\u001b[43margs\u001b[49m\u001b[43m,\u001b[49m\u001b[43m \u001b[49m\u001b[38;5;241;43m*\u001b[39;49m\u001b[38;5;241;43m*\u001b[39;49m\u001b[43mkwds\u001b[49m\u001b[43m)\u001b[49m\n\u001b[1;32m    117\u001b[0m     \u001b[38;5;28;01mif\u001b[39;00m \u001b[38;5;28misinstance\u001b[39m(r, DeviceData):\n\u001b[1;32m    118\u001b[0m         \u001b[38;5;28;01mtry\u001b[39;00m:\n",
      "File \u001b[0;32m~/.local/lib/python3.10/site-packages/tango/connection.py:145\u001b[0m, in \u001b[0;36m__Connection__command_inout_raw\u001b[0;34m(self, cmd_name, cmd_param)\u001b[0m\n\u001b[1;32m    130\u001b[0m \u001b[38;5;250m\u001b[39m\u001b[38;5;124;03m\"\"\"\u001b[39;00m\n\u001b[1;32m    131\u001b[0m \u001b[38;5;124;03mcommand_inout_raw( self, cmd_name, cmd_param=None) -> DeviceData\u001b[39;00m\n\u001b[1;32m    132\u001b[0m \n\u001b[0;32m   (...)\u001b[0m\n\u001b[1;32m    142\u001b[0m \u001b[38;5;124;03m    Throws     : ConnectionFailed, CommunicationFailed, DeviceUnlocked, DevFailed from device\u001b[39;00m\n\u001b[1;32m    143\u001b[0m \u001b[38;5;124;03m\"\"\"\u001b[39;00m\n\u001b[1;32m    144\u001b[0m param \u001b[38;5;241m=\u001b[39m __get_command_inout_param(\u001b[38;5;28mself\u001b[39m, cmd_name, cmd_param)\n\u001b[0;32m--> 145\u001b[0m \u001b[38;5;28;01mreturn\u001b[39;00m \u001b[38;5;28;43mself\u001b[39;49m\u001b[38;5;241;43m.\u001b[39;49m\u001b[43m__command_inout\u001b[49m\u001b[43m(\u001b[49m\u001b[43mcmd_name\u001b[49m\u001b[43m,\u001b[49m\u001b[43m \u001b[49m\u001b[43mparam\u001b[49m\u001b[43m)\u001b[49m\n",
      "\u001b[0;31mDevFailed\u001b[0m: DevFailed[\nDevError[\n    desc = ska_tmc_common.exceptions.CommandNotAllowed: Dish Vcc Config not Set. Please set using LoadDishCfg command. Current Telescope State is :ON\n           \n  origin = Traceback (most recent call last):\n  File \"/usr/local/lib/python3.10/dist-packages/tango/device_server.py\", line 85, in wrapper\n    return get_worker().execute(fn, *args, **kwargs)\n  File \"/usr/local/lib/python3.10/dist-packages/tango/green.py\", line 101, in execute\n    return fn(*args, **kwargs)\n  File \"/app/src/ska_tmc_centralnode/central_node.py\", line 299, in is_TelescopeOn_allowed\n    return self.component_manager.is_command_allowed(\"TelescopeOn\")\n  File \"/app/src/ska_tmc_centralnode/manager/component_manager_mid.py\", line 508, in is_command_allowed\n    raise CommandNotAllowed(\nska_tmc_common.exceptions.CommandNotAllowed: Dish Vcc Config not Set. Please set using LoadDishCfg command. Current Telescope State is :ON\n\n  reason = PyDs_PythonError\nseverity = ERR]\n\nDevError[\n    desc = Failed to execute command_inout on device ska_mid/tm_central/central_node, command TelescopeOn\n  origin = virtual Tango::DeviceData Tango::Connection::command_inout(const string&, const Tango::DeviceData&) at (/src/cppTango/src/client/devapi_base.cpp:1334)\n  reason = API_CommandFailed\nseverity = ERR]\n]"
     ]
    },
    {
     "name": "stderr",
     "output_type": "stream",
     "text": [
      "Thu Jul 18 13:06:15 2024: Tango::ZmqEventConsumer::push_heartbeat_event() timeout on channel monitor of tango://tango-databaseds.ci-ska-mid-itf-at-2146-consolidate-jupyter-notebooks.svc.miditf.internal.skao.int:10000/dserver/csp_master_leaf_node/01\n",
      "Thu Jul 18 13:18:23 2024: Tango::ZmqEventConsumer::push_heartbeat_event() timeout on channel monitor of tango://tango-databaseds.ci-ska-mid-itf-at-2146-consolidate-jupyter-notebooks.svc.miditf.internal.skao.int:10000/dserver/central_node_mid/01\n",
      "Thu Jul 18 13:20:56 2024: Tango::ZmqEventConsumer::push_heartbeat_event() timeout on channel monitor of tango://tango-databaseds.ci-ska-mid-itf-at-2146-consolidate-jupyter-notebooks.svc.miditf.internal.skao.int:10000/dserver/csp_master_leaf_node/01\n",
      "Thu Jul 18 13:23:29 2024: Tango::ZmqEventConsumer::push_heartbeat_event() timeout on channel monitor of tango://tango-databaseds.ci-ska-mid-itf-at-2146-consolidate-jupyter-notebooks.svc.miditf.internal.skao.int:10000/dserver/central_node_mid/01\n",
      "Thu Jul 18 13:26:03 2024: Tango::ZmqEventConsumer::push_heartbeat_event() timeout on channel monitor of tango://tango-databaseds.ci-ska-mid-itf-at-2146-consolidate-jupyter-notebooks.svc.miditf.internal.skao.int:10000/dserver/csp_master_leaf_node/01\n",
      "Thu Jul 18 13:31:48 2024: Tango::ZmqEventConsumer::push_heartbeat_event() timeout on channel monitor of tango://tango-databaseds.ci-ska-mid-itf-at-2146-consolidate-jupyter-notebooks.svc.miditf.internal.skao.int:10000/dserver/csp_subarray_leaf_node_mid/01\n",
      "Thu Jul 18 13:36:54 2024: Tango::ZmqEventConsumer::push_heartbeat_event() timeout on channel monitor of tango://tango-databaseds.ci-ska-mid-itf-at-2146-consolidate-jupyter-notebooks.svc.miditf.internal.skao.int:10000/dserver/dish_leaf_node/001\n",
      "Thu Jul 18 13:45:51 2024: Tango::ZmqEventConsumer::push_heartbeat_event() timeout on channel monitor of tango://tango-databaseds.ci-ska-mid-itf-at-2146-consolidate-jupyter-notebooks.svc.miditf.internal.skao.int:10000/dserver/sdpcontroller/0\n",
      "Thu Jul 18 13:57:59 2024: Tango::ZmqEventConsumer::push_heartbeat_event() timeout on channel monitor of tango://tango-databaseds.ci-ska-mid-itf-at-2146-consolidate-jupyter-notebooks.svc.miditf.internal.skao.int:10000/dserver/central_node_mid/01\n",
      "Thu Jul 18 14:00:32 2024: Tango::ZmqEventConsumer::push_heartbeat_event() timeout on channel monitor of tango://tango-databaseds.ci-ska-mid-itf-at-2146-consolidate-jupyter-notebooks.svc.miditf.internal.skao.int:10000/dserver/csp_master_leaf_node/01\n",
      "Thu Jul 18 14:05:39 2024: Tango::ZmqEventConsumer::push_heartbeat_event() timeout on channel monitor of tango://tango-databaseds.ci-ska-mid-itf-at-2146-consolidate-jupyter-notebooks.svc.miditf.internal.skao.int:10000/dserver/csp_master_leaf_node/01\n",
      "Thu Jul 18 14:17:46 2024: Tango::ZmqEventConsumer::push_heartbeat_event() timeout on channel monitor of tango://tango-databaseds.ci-ska-mid-itf-at-2146-consolidate-jupyter-notebooks.svc.miditf.internal.skao.int:10000/dserver/central_node_mid/01\n",
      "Thu Jul 18 14:26:29 2024: Tango::ZmqEventConsumer::push_heartbeat_event() timeout on channel monitor of tango://tango-databaseds.ci-ska-mid-itf-at-2146-consolidate-jupyter-notebooks.svc.miditf.internal.skao.int:10000/dserver/central_node_mid/01\n",
      "Thu Jul 18 14:37:34 2024: Tango::ZmqEventConsumer::push_heartbeat_event() timeout on channel monitor of tango://tango-databaseds.ci-ska-mid-itf-at-2146-consolidate-jupyter-notebooks.svc.miditf.internal.skao.int:10000/dserver/central_node_mid/01\n",
      "Thu Jul 18 15:05:03 2024: Tango::ZmqEventConsumer::push_heartbeat_event() timeout on channel monitor of tango://tango-databaseds.ci-ska-mid-itf-at-2146-consolidate-jupyter-notebooks.svc.miditf.internal.skao.int:10000/dserver/sdpcontroller/0\n",
      "Thu Jul 18 15:10:48 2024: Tango::ZmqEventConsumer::push_heartbeat_event() timeout on channel monitor of tango://tango-databaseds.ci-ska-mid-itf-at-2146-consolidate-jupyter-notebooks.svc.miditf.internal.skao.int:10000/dserver/dish_leaf_node/001\n"
     ]
    }
   ],
   "source": [
    "# set to ON only if OFF\n",
    "# If you have restarted the subarray, you should not run this command (Telescope is already ON)\n",
    "# dish_lmc mode must be in LP_standby and before trying to turn the telescope ON\n",
    "# Takes about 1m20s\n",
    "print(f\"Telescope is {telescope_monitor_plot.on_off_state}\")\n",
    "if telescope_monitor_plot.on_off_state == \"OFF\":  # e.g. purple\n",
    "    tel.on()\n",
    "else:\n",
    "    assert (\n",
    "        telescope_monitor_plot.on_off_state == \"ON\"\n",
    "    ), f\"Cant continue with telescope in {telescope_monitor_plot.on_off_state}\"\n",
    "print(f\"Telescope is {telescope_monitor_plot.on_off_state}\")"
   ]
  },
  {
   "cell_type": "code",
   "execution_count": 22,
   "id": "aad0944a",
   "metadata": {},
   "outputs": [
    {
     "name": "stdout",
     "output_type": "stream",
     "text": [
      "Telescope is OFF\n"
     ]
    }
   ],
   "source": [
    "print(f\"Telescope is {telescope_monitor_plot.on_off_state}\")"
   ]
  },
  {
   "cell_type": "markdown",
   "id": "7ca4967f-5420-4a54-97e7-7605753aeb00",
   "metadata": {},
   "source": [
    "## 3. Observation Definition"
   ]
  },
  {
   "cell_type": "markdown",
   "id": "d2e666a2-7d56-4b8e-81bf-e31a98f7efaa",
   "metadata": {},
   "source": [
    "#### 3.1 Create the high level observation specifications in terms of target specs"
   ]
  },
  {
   "cell_type": "markdown",
   "id": "f867036b-6723-4244-918d-7553e5076890",
   "metadata": {},
   "source": [
    "Note :- Users may currently modify the values by replacing the example values as given for each field within Target specification section."
   ]
  },
  {
   "cell_type": "code",
   "execution_count": null,
   "id": "25d2c936-8078-4f2e-9bf2-0d7e2fb08134",
   "metadata": {
    "tags": []
   },
   "outputs": [],
   "source": [
    "dish_ids = [d.dish_id.upper() for d in dish_deployments]\n",
    "default_target_specs = get_default_target_specs_sb(dish_ids)\n",
    "observation = ObservationSB(target_specs=default_target_specs)\n",
    "\n",
    "target_specs = {\n",
    "    \"flux calibrator\": TargetSpec(\n",
    "        target_sb_detail={\n",
    "            \"co_ordinate_type\": \"Equatorial\",\n",
    "            \"ra\": \"19:24:51.05 degrees\",\n",
    "            \"dec\": \"-29:14:30.12 degrees\",\n",
    "            \"reference_frame\": \"ICRS\",\n",
    "            \"unit\": (\"hourangle\", \"deg\"),\n",
    "            \"pointing_pattern_type\": {\n",
    "                \"single_pointing_parameters\": SinglePointParameters(\n",
    "                    offset_x_arcsec=0.0, offset_y_arcsec=0.0\n",
    "                ),\n",
    "                \"raster_parameters\": RasterParameters(\n",
    "                    row_length_arcsec=0.0,\n",
    "                    row_offset_arcsec=0.0,\n",
    "                    n_rows=1,\n",
    "                    pa=0.0,\n",
    "                    unidirectional=False,\n",
    "                ),\n",
    "                \"star_raster_parameters\": StarRasterParameters(\n",
    "                    row_length_arcsec=0.0,\n",
    "                    n_rows=1,\n",
    "                    row_offset_angle=0.0,\n",
    "                    unidirectional=False,\n",
    "                ),\n",
    "                \"five_point_parameters\": FivePointParameters(offset_arcsec=0.0),\n",
    "                \"cross_scan_parameters\": CrossScanParameters(offset_arcsec=0.0),\n",
    "                \"active_pointing_pattern_type\": \"single_pointing_parameters\",\n",
    "            },\n",
    "        },\n",
    "        scan_type=\"flux calibrator\",\n",
    "        band=ReceiverBand.BAND_2,\n",
    "        channelisation=\"vis_channels9\",\n",
    "        polarisation=\"all\",\n",
    "        processing=\"test-receive-addresses\",\n",
    "        dish_ids=dish_ids,\n",
    "        target=None,\n",
    "    ),\n",
    "    \"M87\": TargetSpec(\n",
    "        target_sb_detail={\n",
    "            \"co_ordinate_type\": \"Equatorial\",\n",
    "            \"ra\": \"19:24:51.05 degrees\",\n",
    "            \"dec\": \"-29:14:30.12 degrees\",\n",
    "            \"reference_frame\": \"ICRS\",\n",
    "            \"unit\": (\"hourangle\", \"deg\"),\n",
    "            \"pointing_pattern_type\": {\n",
    "                \"single_pointing_parameters\": SinglePointParameters(\n",
    "                    offset_x_arcsec=0.0, offset_y_arcsec=0.0\n",
    "                ),\n",
    "                \"raster_parameters\": RasterParameters(\n",
    "                    row_length_arcsec=0.0,\n",
    "                    row_offset_arcsec=0.0,\n",
    "                    n_rows=1,\n",
    "                    pa=0.0,\n",
    "                    unidirectional=False,\n",
    "                ),\n",
    "                \"star_raster_parameters\": StarRasterParameters(\n",
    "                    row_length_arcsec=0.0,\n",
    "                    n_rows=1,\n",
    "                    row_offset_angle=0.0,\n",
    "                    unidirectional=False,\n",
    "                ),\n",
    "                \"five_point_parameters\": FivePointParameters(offset_arcsec=0.0),\n",
    "                \"cross_scan_parameters\": CrossScanParameters(offset_arcsec=0.0),\n",
    "                \"active_pointing_pattern_type\": \"single_pointing_parameters\",\n",
    "            },\n",
    "        },\n",
    "        scan_type=\"M87\",\n",
    "        band=ReceiverBand.BAND_2,\n",
    "        channelisation=\"vis_channels10\",\n",
    "        polarisation=\"all\",\n",
    "        processing=\"test-receive-addresses\",\n",
    "        dish_ids=dish_ids,\n",
    "        target=None,\n",
    "    ),\n",
    "}\n",
    "\n",
    "\n",
    "channel_configuration = [\n",
    "    Channel(\n",
    "        spectral_window_id=\"fsp_1_channels\",\n",
    "        count=14880,\n",
    "        start=0,\n",
    "        stride=2,\n",
    "        freq_min=0.35e9,\n",
    "        freq_max=0.368e9,\n",
    "        link_map=[[0, 0], [200, 1], [744, 2], [944, 3]],\n",
    "    )\n",
    "]\n",
    "\n",
    "for key, value in target_specs.items():\n",
    "    observation.add_channel_configuration(value.channelisation, channel_configuration)\n",
    "\n",
    "observation.add_target_specs(target_specs)\n",
    "\n",
    "for target_id, target in target_specs.items():\n",
    "    observation.add_scan_type_configuration(\n",
    "        config_name=target_id,\n",
    "        beams={\"vis0\": BeamMapping(beam_id=\"vis0\", field_id=\"M83\")},\n",
    "        derive_from=\".default\",\n",
    "    )\n",
    "scan_def_id = \"flux calibrator\"\n",
    "observation.add_scan_sequence([scan_def_id])\n",
    "print(\"Done\")"
   ]
  },
  {
   "cell_type": "markdown",
   "id": "c59a8bc2-5e50-4717-9cc2-57a71509591a",
   "metadata": {},
   "source": [
    "#### 3.2 Mid configuration schema input used by observing commands"
   ]
  },
  {
   "cell_type": "markdown",
   "id": "727e53ca-0480-42b9-bbd5-a71900b57de9",
   "metadata": {},
   "source": [
    "[Configuration Schemas-OET→TMC(Mid)](https://developer.skao.int/projects/ska-telmodel/en/latest/)"
   ]
  },
  {
   "cell_type": "code",
   "execution_count": null,
   "id": "1d2e7764-2bf3-4240-ad85-3df54361e6a1",
   "metadata": {
    "tags": []
   },
   "outputs": [],
   "source": [
    "telescope_monitor_plot.show()"
   ]
  },
  {
   "cell_type": "markdown",
   "id": "308b4669-4d24-4583-9b10-8135a96d70b6",
   "metadata": {},
   "source": [
    "#### 3.3 Create Scheduling Block Definition(SBD) Instance and save it into the ODA"
   ]
  },
  {
   "cell_type": "code",
   "execution_count": null,
   "id": "88f276d9-90c5-4ded-ac22-de876bf2ef88",
   "metadata": {
    "tags": []
   },
   "outputs": [],
   "source": [
    "observation.eb_id = eb_id\n",
    "try:\n",
    "    pdm_allocation = observation.generate_pdm_object_for_sbd_save(target_specs)\n",
    "    sbd = oda_helper.save(pdm_allocation)\n",
    "    sbd_id = sbd.sbd_id\n",
    "    pdm_allocation.sbd_id = sbd_id\n",
    "    print(f\"Saved Scheduling Block Definition Instance in ODA: SBD_ID={sbd_id}\")\n",
    "except Exception as err:\n",
    "    pdm_allocation = None\n",
    "    print(f\"ERROR: {str(err)}\")"
   ]
  },
  {
   "cell_type": "markdown",
   "id": "f1806aa4-2f8a-43db-84ce-e8643dd1a0dc",
   "metadata": {},
   "source": [
    "### 3.4 Assign Resources\n",
    "Assign the requested resources to a Subarray"
   ]
  },
  {
   "cell_type": "code",
   "execution_count": null,
   "id": "4541f02b",
   "metadata": {},
   "outputs": [],
   "source": [
    "if pdm_allocation is not None:\n",
    "    assign_request = observation.generate_allocate_config_sb(pdm_allocation).as_object\n",
    "\n",
    "    if debug_mode:\n",
    "        request_json = get_request_json(assign_request, AssignResourcesRequest, True)\n",
    "        print(\"AssignResourcesRequest:\", json.dumps(json.loads(request_json), indent=2))\n",
    "\n",
    "    sub.assign_from_cdm(assign_request, timeout=120)\n",
    "else:\n",
    "    print(\"ERROR: PDM not allocated\")\n",
    "print(\"Done\")"
   ]
  },
  {
   "cell_type": "markdown",
   "id": "18e80200",
   "metadata": {},
   "source": [
    "### 3.5  Show telescope status"
   ]
  },
  {
   "cell_type": "code",
   "execution_count": null,
   "id": "62aeea96-d3b1-44ba-9a80-a85bde4236e3",
   "metadata": {
    "tags": []
   },
   "outputs": [],
   "source": [
    "telescope_monitor_plot.show()"
   ]
  },
  {
   "cell_type": "markdown",
   "id": "cf6947ca-7e8b-4a1a-8a83-94c4b3647f38",
   "metadata": {},
   "source": [
    "### 3.7 Configure Scan\n",
    "Configure the telescope  on first target in sequence - may be modified to configure and run multiple targets at a later time."
   ]
  },
  {
   "cell_type": "code",
   "execution_count": null,
   "id": "b8df9783-06c0-4ab4-b9f6-4864c269a616",
   "metadata": {
    "tags": []
   },
   "outputs": [],
   "source": [
    "if pdm_allocation is not None:\n",
    "    configure_object = observation.generate_scan_config_sb(\n",
    "        pdm_observation_request=pdm_allocation,\n",
    "        scan_definition_id=scan_def_id,\n",
    "        scan_duration=10.0,\n",
    "    ).as_object\n",
    "\n",
    "    if debug_mode:\n",
    "        cfg_json = get_request_json(configure_object, ConfigureRequest)\n",
    "        print(f\"ConfigureRequest={cfg_json}\")\n",
    "\n",
    "    try:\n",
    "        sub.configure_from_cdm(configure_object, timeout=120)\n",
    "    except tango.DevFailed as terr:\n",
    "        print(f\"ERROR: {terr.args[0].desc.strip()}\")\n",
    "    except Exception as evt_err:\n",
    "        print(\"ERROR: {str(evt_err)}\")\n",
    "    time.sleep(2)\n",
    "else:\n",
    "    print(\"ERROR: PDM not allocated\")\n",
    "print(\"Done\")"
   ]
  },
  {
   "cell_type": "markdown",
   "id": "e24ecf17-27f7-4b39-97e0-35c604847beb",
   "metadata": {},
   "source": [
    "### 3.8 Post Observation teardown\n",
    "If the observation executed successfully, you can use the following commands to reset the telescope."
   ]
  },
  {
   "cell_type": "markdown",
   "id": "a6fdaf9d-745d-42af-979d-56df00be451f",
   "metadata": {},
   "source": [
    "#### 3.8.1 Clear scan configuration "
   ]
  },
  {
   "cell_type": "code",
   "execution_count": null,
   "id": "5283c8ce-aff0-4624-aee9-c256a9292e9a",
   "metadata": {
    "tags": []
   },
   "outputs": [],
   "source": [
    "try:\n",
    "    sub.end()\n",
    "except tango.DevFailed as derr:\n",
    "    err_msg = derr.args[0].desc.strip()\n",
    "    print(f\"ERROR: {err_msg}\")\n",
    "telescope_monitor_plot.show()"
   ]
  },
  {
   "cell_type": "markdown",
   "id": "2018060f-b252-4636-8ae3-1de450a8e84e",
   "metadata": {},
   "source": [
    "#### 3.8.2 Release Subarray resources"
   ]
  },
  {
   "cell_type": "code",
   "execution_count": null,
   "id": "82b3382b-c3b0-44c8-959b-2f7889e894fc",
   "metadata": {
    "tags": []
   },
   "outputs": [],
   "source": [
    "try:\n",
    "    sub.release()\n",
    "except tango.DevFailed as derr:\n",
    "    err_msg = derr.args[0].desc.strip()\n",
    "    print(f\"ERROR: {err_msg}\")\n",
    "telescope_monitor_plot.show()"
   ]
  },
  {
   "cell_type": "markdown",
   "id": "2271a3b8",
   "metadata": {},
   "source": [
    "## 4. Turn off or reset the telescope"
   ]
  },
  {
   "cell_type": "markdown",
   "id": "7b040e87",
   "metadata": {},
   "source": [
    "## 4.1 Reset the telescope"
   ]
  },
  {
   "cell_type": "markdown",
   "id": "3714b617",
   "metadata": {},
   "source": [
    "### 4.1.1 Reset the Subarray (On Failure)\n",
    "Set booleans to True to reset the system after a failed execution."
   ]
  },
  {
   "cell_type": "code",
   "execution_count": null,
   "id": "c854b11d",
   "metadata": {},
   "outputs": [],
   "source": [
    "try:\n",
    "    sub.abort()\n",
    "    time.sleep(3)\n",
    "    sub.restart()\n",
    "except tango.DevFailed as derr:\n",
    "    err_msg = derr.args[0].desc.strip()\n",
    "    print(f\"ERROR: {err_msg}\")\n",
    "print(\"Done\")"
   ]
  },
  {
   "cell_type": "markdown",
   "id": "edb396a1",
   "metadata": {},
   "source": [
    "## 4.2 Turn off telescope"
   ]
  },
  {
   "cell_type": "markdown",
   "id": "aab67f3b",
   "metadata": {},
   "source": [
    "### 4.2.1 Send off command"
   ]
  },
  {
   "cell_type": "code",
   "execution_count": null,
   "id": "fb992080",
   "metadata": {},
   "outputs": [],
   "source": [
    "print(f\"Telescope is {telescope_monitor_plot.on_off_state}\")\n",
    "if telescope_monitor_plot.on_off_state != \"OFF\":  # e.g. purple\n",
    "    tel.off()\n",
    "    sleep(3)\n",
    "    print(f\"Telescope is {telescope_monitor_plot.on_off_state}\")\n",
    "else:\n",
    "    print(\"ERROR: telescope is already off\")"
   ]
  },
  {
   "cell_type": "code",
   "execution_count": null,
   "id": "5d057403",
   "metadata": {},
   "outputs": [],
   "source": [
    "print(f\"Telescope is {telescope_monitor_plot.on_off_state}\")"
   ]
  },
  {
   "cell_type": "markdown",
   "id": "265c8030",
   "metadata": {},
   "source": [
    "## 5. Configure System for Scan Commissioning Test\n",
    "\n",
    "### Copied from Jama 2024-04-15"
   ]
  },
  {
   "cell_type": "markdown",
   "id": "e8ccea1f",
   "metadata": {},
   "source": [
    "### 4.1 Bring the sub-systems to STANDBY mode using Telescope ON script or command from TMC as applicable.\n",
    "\n",
    "Running steps 1-3.3 should get the telescope into a standby state which can be checked by running 2.3"
   ]
  },
  {
   "cell_type": "markdown",
   "id": "d4bd5723",
   "metadata": {},
   "source": [
    "### 4.2 Inspect the TMC API or dashboard to view the indication of connectivity status and mode of operation of the sub-systems."
   ]
  },
  {
   "cell_type": "markdown",
   "id": "8d68830b",
   "metadata": {},
   "source": [
    "### 4.3 Change the telescope state to operational\n",
    "Running steps 3.4. - 3.5 should get the telescope to operational mode which can be checked by running steps 2.3"
   ]
  },
  {
   "cell_type": "markdown",
   "id": "37b63795",
   "metadata": {},
   "source": [
    "## 5. Hyperlinks and SUT config\n",
    "\n",
    "\n",
    "### 5.1 Gitlab pipeline used for the test: \n",
    "https://gitlab.com/ska-telescope/ska-mid-itf/-/pipelines/1361824989\n",
    "\n",
    "### 5.2 SUT config:\n",
    "\n",
    "{\n",
    "  \"chart\": \"ska-mid-itf\",\n",
    "  \"version\": \"23.2.0\",\n",
    "  \"sub_charts\": [\n",
    "    {\n",
    "      \"chart\": \"ska-tango-base\",\n",
    "      \"version\": \"0.4.10\"\n",
    "    },\n",
    "    {\n",
    "      \"chart\": \"ska-tango-util\",\n",
    "      \"version\": \"0.4.11\"\n",
    "    },\n",
    "    {\n",
    "      \"chart\": \"ska-tmc-mid\",\n",
    "      \"version\": \"0.20.0\"\n",
    "    },\n",
    "    {\n",
    "      \"chart\": \"ska-csp-lmc-mid\",\n",
    "      \"version\": \"0.20.1\"\n",
    "    },\n",
    "    {\n",
    "      \"chart\": \"ska-mid-cbf-mcs\",\n",
    "      \"version\": \"0.15.1\"\n",
    "    },\n",
    "    {\n",
    "      \"chart\": \"ska-sdp\",\n",
    "      \"version\": \"0.21.0\"\n",
    "    },\n",
    "    {\n",
    "      \"chart\": \"ska-ser-config-inspector\",\n",
    "      \"version\": \"0.2.3\"\n",
    "    },\n",
    "    {\n",
    "      \"chart\": \"ska-tango-taranta\",\n",
    "      \"version\": \"2.10.2\"\n",
    "    },\n",
    "    {\n",
    "      \"chart\": \"ska-tango-tangogql\",\n",
    "      \"version\": \"1.4.3\"\n",
    "    },\n",
    "    {\n",
    "      \"chart\": \"ska-tango-alarmhandler\",\n",
    "      \"version\": \"0.4.0\"\n",
    "    },\n",
    "    {\n",
    "      \"chart\": \"ska-tango-archiver\",\n",
    "      \"version\": \"2.7.1\"\n",
    "    }\n",
    "  ]\n",
    "}"
   ]
  }
 ],
 "metadata": {
  "hide_input": false,
  "kernelspec": {
   "display_name": "Python 3 (ipykernel)",
   "language": "python",
   "name": "python3"
  },
  "language_info": {
   "codemirror_mode": {
    "name": "ipython",
    "version": 3
   },
   "file_extension": ".py",
   "mimetype": "text/x-python",
   "name": "python",
   "nbconvert_exporter": "python",
   "pygments_lexer": "ipython3",
   "version": "3.10.12"
  }
 },
 "nbformat": 4,
 "nbformat_minor": 5
}
