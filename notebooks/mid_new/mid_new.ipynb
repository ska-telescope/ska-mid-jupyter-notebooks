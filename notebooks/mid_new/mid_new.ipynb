{
 "cells": [
  {
   "cell_type": "markdown",
   "id": "15c1506e",
   "metadata": {},
   "source": [
    "## Read namespaces"
   ]
  },
  {
   "cell_type": "code",
   "execution_count": 1,
   "id": "c730d3ec",
   "metadata": {
    "scrolled": true
   },
   "outputs": [
    {
     "data": {
      "application/vnd.jupyter.widget-view+json": {
       "model_id": "d18979dea3d44dfb957935418d25640e",
       "version_major": 2,
       "version_minor": 0
      },
      "text/plain": [
       "Valid(value=True, description='Namespaces', layout=Layout(width='60%'), style=DescriptionStyle(description_wid…"
      ]
     },
     "metadata": {},
     "output_type": "display_data"
    },
    {
     "data": {
      "application/vnd.jupyter.widget-view+json": {
       "model_id": "918d90dfe273445e9c14c4b79151c5d3",
       "version_major": 2,
       "version_minor": 0
      },
      "text/plain": [
       "Dropdown(description='SUT ns', layout=Layout(width='50%'), options=('binderhub', 'calico-apiserver', 'calico-o…"
      ]
     },
     "metadata": {},
     "output_type": "display_data"
    }
   ],
   "source": [
    "# Read namespaces\n",
    "import os\n",
    "import kubernetes\n",
    "import ipywidgets as widgets\n",
    "from IPython.display import display, JSON\n",
    "\n",
    "ns_list = []\n",
    "kubernetes.config.load_kube_config()\n",
    "k8s_client = kubernetes.client.CoreV1Api()\n",
    "try:\n",
    "    namespaces = k8s_client.list_namespace(_request_timeout=(1, 5))\n",
    "    for namespace in namespaces.items:\n",
    "        ns_name = namespace.metadata.name\n",
    "        ns_list.append(ns_name)\n",
    "except Exception:\n",
    "    pass\n",
    "\n",
    "ns_valid_w = widgets.Valid(\n",
    "    value=len(ns_list) > 0,\n",
    "    description=\"Namespaces\",\n",
    "    layout=widgets.Layout(width='60%'),\n",
    "    style = {'description_width': 'initial'}\n",
    ")\n",
    "display(ns_valid_w)\n",
    "\n",
    "if len(ns_list) > 0:\n",
    "    ns_w = widgets.Dropdown(\n",
    "        options=ns_list,\n",
    "        description='SUT ns',\n",
    "        disabled=False,\n",
    "        layout=widgets.Layout(width='50%')\n",
    "    )\n",
    "    display(ns_w)"
   ]
  },
  {
   "cell_type": "markdown",
   "id": "4a810c5d",
   "metadata": {},
   "source": [
    "## Set namespaces"
   ]
  },
  {
   "cell_type": "code",
   "execution_count": 2,
   "id": "a1926496",
   "metadata": {
    "scrolled": true
   },
   "outputs": [
    {
     "data": {
      "application/vnd.jupyter.widget-view+json": {
       "model_id": "4512f2d6ad8343e18d78d3917d1ba27d",
       "version_major": 2,
       "version_minor": 0
      },
      "text/plain": [
       "Text(value='ci-dish-lmc-ska001-at-2146-consolidate-jupyter-notebooks', description='SKA001 ns', disabled=True,…"
      ]
     },
     "metadata": {},
     "output_type": "display_data"
    },
    {
     "data": {
      "application/vnd.jupyter.widget-view+json": {
       "model_id": "e30c28244389449995faa60a6b400908",
       "version_major": 2,
       "version_minor": 0
      },
      "text/plain": [
       "Text(value='ci-dish-lmc-ska036-at-2146-consolidate-jupyter-notebooks', description='SKA036 ns', disabled=True,…"
      ]
     },
     "metadata": {},
     "output_type": "display_data"
    },
    {
     "data": {
      "application/vnd.jupyter.widget-view+json": {
       "model_id": "8b94711442174db9a831c4d2010bc529",
       "version_major": 2,
       "version_minor": 0
      },
      "text/plain": [
       "Text(value='tango-databaseds.ci-ska-mid-itf-at-2146-consolidate-jupyter-notebooks.svc.miditf.internal.skao.int…"
      ]
     },
     "metadata": {},
     "output_type": "display_data"
    }
   ],
   "source": [
    "def show_textbox(box_value, box_desc):\n",
    "    textbox_w = widgets.Text(\n",
    "        value=box_value,\n",
    "        description=box_desc,\n",
    "        disabled=True,\n",
    "        layout=widgets.Layout(width='60%')\n",
    "    )\n",
    "    display(textbox_w)\n",
    "    \n",
    "def show_errorbox(box_value):\n",
    "    errorbox_w = widgets.Textarea(\n",
    "        value=box_value,\n",
    "        placeholder='Error message',\n",
    "        description='Error',\n",
    "        disabled=False,\n",
    "        layout=widgets.Layout(width='75%', height='200px')\n",
    "    )\n",
    "    display(errorbox_w)\n",
    "    \n",
    "CLUSTER_DOMAIN = \"miditf.internal.skao.int\"\n",
    "\n",
    "# Set namespaces\n",
    "SUT_NAMESPACE = ns_w.value\n",
    "# print(f\"Using SUT namespace {SUT_NAMESPACE}\")\n",
    "BRANCH_NAME = SUT_NAMESPACE.replace(\"ci-ska-mid-itf-\", \"\")\n",
    "# print(f\"Using SUT branch {BRANCH_NAME}\")\n",
    "SKA001_NAMESPACE = f\"ci-dish-lmc-ska001-{BRANCH_NAME}\"\n",
    "SKA001_TANGO_HOST = f\"tango-databaseds.{SKA001_NAMESPACE}.svc.{CLUSTER_DOMAIN}:10000\"\n",
    "\n",
    "show_textbox(SKA001_NAMESPACE, 'SKA001 ns')\n",
    "\n",
    "SKA036_NAMESPACE = f\"ci-dish-lmc-ska036-{BRANCH_NAME}\"\n",
    "SKA036_TANGO_HOST = f\"tango-databaseds.{SKA036_NAMESPACE}.svc.{CLUSTER_DOMAIN}:10000\"\n",
    "\n",
    "show_textbox(SKA036_NAMESPACE, 'SKA036 ns')\n",
    "\n",
    "# print(f\"Setting up parameters for SUT namespace {SUT_NAMESPACE}\\n\")\n",
    "\n",
    "TANGO_HOST = f\"tango-databaseds.{SUT_NAMESPACE}.svc.{CLUSTER_DOMAIN}:10000\"\n",
    "os.environ[\"TANGO_HOST\"] = TANGO_HOST\n",
    "\n",
    "show_textbox(os.getenv(\"TANGO_HOST\"), 'Tango host')"
   ]
  },
  {
   "cell_type": "markdown",
   "id": "576d6c18",
   "metadata": {},
   "source": [
    "## Device Proxies"
   ]
  },
  {
   "cell_type": "markdown",
   "id": "9dc57748",
   "metadata": {},
   "source": [
    "### Device Proxy Names\n",
    "\n",
    "| Class     | Description             | Name                                |\n",
    "|---------- | ----------------------- | ----------------------------------- |\n",
    "| TMC       | tmc central node        | ska_mid/tm_central/central_node     |\n",
    "|           | tmc csp master          | ska_mid/tm_leaf_node/csp_master     |\n",
    "|           | tmc csp subarray        | ska_mid/tm_leaf_node/csp_subarray01 |\n",
    "|           | tmc subarray            | ska_mid/tm_subarray_node/1          |\n",
    "| CSP LMC   | csp control             | mid-csp/control/0                   |\n",
    "|           | csp subarray            | mid-csp/subarray/01                 |\n",
    "| CBF       | cbf controller          | mid_csp_cbf/sub_elt/controller      |\n",
    "|           | cbf subarray            | mid_csp_cbf/sub_elt/subarray_01     |\n",
    "| Dish Leaf | dish leaf node ska001   | ska_mid/tm_leaf_node/d0001          |\n",
    "|           | dish leaf node ska036   | ska_mid/tm_leaf_node/d0036          |\n",
    "| SDP       | sdp subarray            | mid-sdp/subarray/01                 |\n",
    "|           | sdp_subarray_leaf_node  | ska_mid/tm_leaf_node/sdp_subarray01 |\n",
    "| CSP       | csp_subarray_leaf_node  | ska_mid/tm_leaf_node/csp_subarray01 |\n",
    "|           | csp_master_leaf_node    | ska_mid/tm_leaf_node/csp_master     |\n",
    "| CBF FSP   | cbf_fspcorrsubarray     | mid_csp_cbf/fspcorrsubarray/01_01   |\n"
   ]
  },
  {
   "cell_type": "markdown",
   "id": "974061ee",
   "metadata": {},
   "source": [
    "### Configure Device Proxies"
   ]
  },
  {
   "cell_type": "code",
   "execution_count": 3,
   "id": "4ca0f279",
   "metadata": {
    "scrolled": true
   },
   "outputs": [
    {
     "name": "stdout",
     "output_type": "stream",
     "text": [
      "SUT Links\n",
      "https://k8s.miditf.internal.skao.int/ci-ska-mid-itf-at-2146-consolidate-jupyter-notebooks/signal/display/\n",
      "https://k8s.miditf.internal.skao.int/ci-ska-mid-itf-at-2146-consolidate-jupyter-notebooks/taranta/devices\n",
      "\n",
      "\n",
      "Dish LMC links\n",
      "https://k8s.miditf.internal.skao.int/ci-dish-lmc-ska001-at-2146-consolidate-jupyter-notebooks/taranta/devices\n",
      "https://k8s.miditf.internal.skao.int/ci-dish-lmc-ska036-at-2146-consolidate-jupyter-notebooks/taranta/devices\n",
      "\n",
      "\n",
      "Kafka endpoint\n",
      "ska-sdp-kafka.ci-ska-mid-itf-at-2146-consolidate-jupyter-notebooks.svc.miditf.internal.skao.int:9092\n"
     ]
    }
   ],
   "source": [
    "# Set Up and Configure Device Proxies\n",
    "\n",
    "RECEPTORS = [\"SKA001\", \"SKA036\"]\n",
    "\n",
    "# Config files set up\n",
    "DATA_DIR = \"../../data\"\n",
    "TMC_CONFIGS = f\"{DATA_DIR}/mid_telescope/tmc\"\n",
    "SCAN_FILE = f\"{TMC_CONFIGS}/scan.json\"\n",
    "RELEASE_RESOURCES_FILE = f\"{DATA_DIR}/release_resources.json\"\n",
    "\n",
    "ASSIGN_RESOURCES_FILE = f\"{TMC_CONFIGS}/assign_resources.json\"\n",
    "CONFIGURE_SCAN_FILE = f\"{TMC_CONFIGS}/configure_scan.json\"\n",
    "\n",
    "CBF_CONFIGS = f\"{DATA_DIR}/mid_telescope/cbf\"\n",
    "DISH_CONFIG_FILE = f\"{CBF_CONFIGS}/sys_params/load_dish_config.json\"\n",
    "\n",
    "KAFKA_PORT = 9092\n",
    "KAFKA_SERVICE_NAME = \"ska-sdp-kafka\"\n",
    "KAFKA_ENDPOINT = f\"{KAFKA_SERVICE_NAME}.{SUT_NAMESPACE}.svc.{CLUSTER_DOMAIN}:{KAFKA_PORT}\"\n",
    "\n",
    "# print(\"Links for Taranta and QA Display\\n\")\n",
    "print(\"SUT Links\")\n",
    "print(f\"https://k8s.miditf.internal.skao.int/{SUT_NAMESPACE}/signal/display/\")\n",
    "print(f\"https://k8s.miditf.internal.skao.int/{SUT_NAMESPACE}/taranta/devices\")\n",
    "print(\"\\n\")\n",
    "print(\"Dish LMC links\")\n",
    "print(f\"https://k8s.miditf.internal.skao.int/{SKA001_NAMESPACE}/taranta/devices\")\n",
    "print(f\"https://k8s.miditf.internal.skao.int/{SKA036_NAMESPACE}/taranta/devices\")\n",
    "print(\"\\n\")\n",
    "print(\"Kafka endpoint\")\n",
    "print(f\"{KAFKA_ENDPOINT}\")"
   ]
  },
  {
   "cell_type": "markdown",
   "id": "9ad72e8f",
   "metadata": {},
   "source": [
    "### Set Up Device Proxies"
   ]
  },
  {
   "cell_type": "code",
   "execution_count": 5,
   "id": "19c756ec",
   "metadata": {},
   "outputs": [
    {
     "data": {
      "application/vnd.jupyter.widget-view+json": {
       "model_id": "b0a1fe6841e8457f8228acc1a4570bb8",
       "version_major": 2,
       "version_minor": 0
      },
      "text/plain": [
       "IntProgress(value=0, description='Proxies', max=14, style=ProgressStyle(bar_color='maroon'))"
      ]
     },
     "metadata": {},
     "output_type": "display_data"
    },
    {
     "data": {
      "application/vnd.jupyter.widget-view+json": {
       "model_id": "a2b2328645e7484d83205d2637c637e3",
       "version_major": 2,
       "version_minor": 0
      },
      "text/plain": [
       "Valid(value=True, description='Proxies OK', layout=Layout(width='60%'), style=DescriptionStyle(description_wid…"
      ]
     },
     "metadata": {},
     "output_type": "display_data"
    }
   ],
   "source": [
    "import json\n",
    "import time\n",
    "import tango\n",
    "\n",
    "from tango import DeviceProxy\n",
    "\n",
    "proxy_w = widgets.IntProgress(\n",
    "    value=0,\n",
    "    min=0,\n",
    "    max=14,\n",
    "    description='Proxies',\n",
    "    bar_style='', # 'success', 'info', 'warning', 'danger' or ''\n",
    "    style={'bar_color': 'maroon'},\n",
    "    orientation='horizontal'\n",
    ")\n",
    "display(proxy_w)\n",
    "proxy_ok = True\n",
    "try:\n",
    "    # TMC proxies\n",
    "    proxy_w.value = 1\n",
    "    tmc_central_node = DeviceProxy(\"ska_mid/tm_central/central_node\")\n",
    "    proxy_w.value = 2\n",
    "    tmc_csp_master = DeviceProxy(\"ska_mid/tm_leaf_node/csp_master\")\n",
    "    proxy_w.value = 3\n",
    "    tmc_csp_subarray = DeviceProxy(\"ska_mid/tm_leaf_node/csp_subarray01\")\n",
    "    proxy_w.value = 4\n",
    "    tmc_subarray = DeviceProxy(\"ska_mid/tm_subarray_node/1\")\n",
    "    # CSP.LMC proxies\n",
    "    proxy_w.value = 5\n",
    "    csp_control = DeviceProxy(\"mid-csp/control/0\")\n",
    "    proxy_w.value = 6\n",
    "    csp_subarray = DeviceProxy(\"mid-csp/subarray/01\")\n",
    "    # CBF proxies\n",
    "    proxy_w.value = 7\n",
    "    cbf_controller = DeviceProxy(\"mid_csp_cbf/sub_elt/controller\")\n",
    "    proxy_w.value = 8\n",
    "    cbf_subarray = DeviceProxy(\"mid_csp_cbf/sub_elt/subarray_01\")\n",
    "    # Dish Leaf Proxies\n",
    "    proxy_w.value = 9\n",
    "    dish_leaf_node_ska001 = DeviceProxy(\"ska_mid/tm_leaf_node/d0001\")\n",
    "    proxy_w.value = 10\n",
    "    dish_leaf_node_ska036 = DeviceProxy(\"ska_mid/tm_leaf_node/d0036\")\n",
    "    # SDP Proxies\n",
    "    proxy_w.value = 11\n",
    "    sdp_subarray = DeviceProxy(\"mid-sdp/subarray/01\")\n",
    "    proxy_w.value = 12\n",
    "    cbf_fspcorrsubarray = DeviceProxy(\"mid_csp_cbf/fspcorrsubarray/01_01\")\n",
    "    proxy_w.value = 13\n",
    "    dish_manager_ska001 = DeviceProxy(f\"tango://{SKA001_TANGO_HOST}/mid-dish/dish-manager/ska001\")\n",
    "    proxy_w.value = 14\n",
    "    dish_manager_ska036 = DeviceProxy(f\"tango://{SKA036_TANGO_HOST}/mid-dish/dish-manager/ska036\")\n",
    "except tango.DevFailed as terr:\n",
    "    # print(f\"ERROR: {terr.args[0].desc.strip()}\")\n",
    "    show_errorbox(terr.args[0].desc.strip())\n",
    "    tmc_central_node = None\n",
    "    tmc_csp_master = None\n",
    "    proxy_ok = False\n",
    "        \n",
    "proxy_ok_w = widgets.Valid(\n",
    "    value=proxy_ok,\n",
    "    description=\"Proxies OK\",\n",
    "    layout=widgets.Layout(width='60%'),\n",
    "    style = {'description_width': 'initial'}\n",
    ")\n",
    "display(proxy_ok_w)"
   ]
  },
  {
   "cell_type": "markdown",
   "id": "c2afe675",
   "metadata": {},
   "source": [
    "## Diagnostics"
   ]
  },
  {
   "cell_type": "markdown",
   "id": "592c09f2",
   "metadata": {},
   "source": [
    "### Smoke test"
   ]
  },
  {
   "cell_type": "code",
   "execution_count": 6,
   "id": "053b6ca8",
   "metadata": {},
   "outputs": [
    {
     "data": {
      "application/vnd.jupyter.widget-view+json": {
       "model_id": "3a76f447ef2e4c8ebd2407b53cdd9bac",
       "version_major": 2,
       "version_minor": 0
      },
      "text/plain": [
       "Valid(value=True, description='TMC Central Node online', layout=Layout(width='60%'), style=DescriptionStyle(de…"
      ]
     },
     "metadata": {},
     "output_type": "display_data"
    },
    {
     "data": {
      "application/vnd.jupyter.widget-view+json": {
       "model_id": "64bcd99aad794ad992c6201acfdcda58",
       "version_major": 2,
       "version_minor": 0
      },
      "text/plain": [
       "Valid(value=True, description='TMC CSP master online', layout=Layout(width='60%'), style=DescriptionStyle(desc…"
      ]
     },
     "metadata": {},
     "output_type": "display_data"
    },
    {
     "data": {
      "application/vnd.jupyter.widget-view+json": {
       "model_id": "c393a363b71d4bed890e42747f3257bf",
       "version_major": 2,
       "version_minor": 0
      },
      "text/plain": [
       "Valid(value=True, description='TMC CSP subarray online', layout=Layout(width='60%'), style=DescriptionStyle(de…"
      ]
     },
     "metadata": {},
     "output_type": "display_data"
    },
    {
     "data": {
      "application/vnd.jupyter.widget-view+json": {
       "model_id": "52a7471485644d63a020b290e71b3b61",
       "version_major": 2,
       "version_minor": 0
      },
      "text/plain": [
       "Valid(value=True, description='TMC subarray online', layout=Layout(width='60%'), style=DescriptionStyle(descri…"
      ]
     },
     "metadata": {},
     "output_type": "display_data"
    },
    {
     "data": {
      "application/vnd.jupyter.widget-view+json": {
       "model_id": "635aa0ba0ab34ff2ba66eb24f6cd7d24",
       "version_major": 2,
       "version_minor": 0
      },
      "text/plain": [
       "Valid(value=True, description='CSP control online', layout=Layout(width='60%'), style=DescriptionStyle(descrip…"
      ]
     },
     "metadata": {},
     "output_type": "display_data"
    },
    {
     "data": {
      "application/vnd.jupyter.widget-view+json": {
       "model_id": "d761b466b8fa40f3956bc02d2fd8b5e5",
       "version_major": 2,
       "version_minor": 0
      },
      "text/plain": [
       "Valid(value=True, description='CSP subarray online', layout=Layout(width='60%'), style=DescriptionStyle(descri…"
      ]
     },
     "metadata": {},
     "output_type": "display_data"
    },
    {
     "data": {
      "application/vnd.jupyter.widget-view+json": {
       "model_id": "c752ac7467b04ab088e8386ec95b1e1a",
       "version_major": 2,
       "version_minor": 0
      },
      "text/plain": [
       "Valid(value=True, description='CBF controller online', layout=Layout(width='60%'), style=DescriptionStyle(desc…"
      ]
     },
     "metadata": {},
     "output_type": "display_data"
    },
    {
     "data": {
      "application/vnd.jupyter.widget-view+json": {
       "model_id": "5410f6864e4c4c838a6d940f5bbe06bb",
       "version_major": 2,
       "version_minor": 0
      },
      "text/plain": [
       "Valid(value=True, description='CBF subarray online', layout=Layout(width='60%'), style=DescriptionStyle(descri…"
      ]
     },
     "metadata": {},
     "output_type": "display_data"
    },
    {
     "data": {
      "application/vnd.jupyter.widget-view+json": {
       "model_id": "d426de5f3de546348ee553892ce07deb",
       "version_major": 2,
       "version_minor": 0
      },
      "text/plain": [
       "Valid(value=True, description='Dish leaf 001 online', layout=Layout(width='60%'), style=DescriptionStyle(descr…"
      ]
     },
     "metadata": {},
     "output_type": "display_data"
    },
    {
     "data": {
      "application/vnd.jupyter.widget-view+json": {
       "model_id": "566eacdf2897483d9ebc011395007d80",
       "version_major": 2,
       "version_minor": 0
      },
      "text/plain": [
       "Valid(value=True, description='Dish leaf 036 online', layout=Layout(width='60%'), style=DescriptionStyle(descr…"
      ]
     },
     "metadata": {},
     "output_type": "display_data"
    },
    {
     "data": {
      "application/vnd.jupyter.widget-view+json": {
       "model_id": "47ce50a0b9374701809289e52a916236",
       "version_major": 2,
       "version_minor": 0
      },
      "text/plain": [
       "Valid(value=True, description='SDP subarray online', layout=Layout(width='60%'), style=DescriptionStyle(descri…"
      ]
     },
     "metadata": {},
     "output_type": "display_data"
    },
    {
     "data": {
      "application/vnd.jupyter.widget-view+json": {
       "model_id": "de11748d8e0c4191acd59fa062f48877",
       "version_major": 2,
       "version_minor": 0
      },
      "text/plain": [
       "Valid(value=True, description='CBF FSP correlator subarray online', layout=Layout(width='60%'), style=Descript…"
      ]
     },
     "metadata": {},
     "output_type": "display_data"
    },
    {
     "data": {
      "application/vnd.jupyter.widget-view+json": {
       "model_id": "feed60ef1f954ff0b1e13d78ca83847d",
       "version_major": 2,
       "version_minor": 0
      },
      "text/plain": [
       "Valid(value=True, description='Dish manager SKA001 online', layout=Layout(width='60%'), style=DescriptionStyle…"
      ]
     },
     "metadata": {},
     "output_type": "display_data"
    },
    {
     "data": {
      "application/vnd.jupyter.widget-view+json": {
       "model_id": "12a535740d7740f29deffc0a16e32203",
       "version_major": 2,
       "version_minor": 0
      },
      "text/plain": [
       "Valid(value=True, description='Dish manager SKA036 online', layout=Layout(width='60%'), style=DescriptionStyle…"
      ]
     },
     "metadata": {},
     "output_type": "display_data"
    }
   ],
   "source": [
    "# Smoke test\n",
    "def smoke_test(tango_dev, tango_desc):\n",
    "    smoke = False\n",
    "    if tango_dev is None:\n",
    "        smoke = False\n",
    "    else:\n",
    "        try:\n",
    "            tping = tango_dev.ping()\n",
    "            # print(f\"Ping TMC central node: {tping}\")\n",
    "            smoke = True\n",
    "        except tango.ConnectionFailed as terr:\n",
    "            err_msg = terr.args[0].desc.strip()\n",
    "            # print(f\"Tango connection failed: {err_msg}\")\n",
    "            show_errorbox(err_msg)\n",
    "            smoke = False\n",
    "    smoke_w = widgets.Valid(\n",
    "        value=smoke,\n",
    "        description=f\"{tango_desc} online\",\n",
    "        layout=widgets.Layout(width='60%'),\n",
    "        style = {'description_width': 'initial'}\n",
    "    )\n",
    "    display(smoke_w)\n",
    "\n",
    "\n",
    "#    if tping:\n",
    "#        tmc_admin = tmc_central_node.adminMode\n",
    "#    else:\n",
    "#        tmc_admin = -1\n",
    "    \n",
    " \n",
    "smoke_test(tmc_central_node, \"TMC Central Node\")\n",
    "smoke_test(tmc_csp_master, \"TMC CSP master\")\n",
    "smoke_test(tmc_csp_subarray, \"TMC CSP subarray\"),\n",
    "smoke_test(tmc_subarray, \"TMC subarray\"),\n",
    "smoke_test(csp_control, \"CSP control\"),\n",
    "smoke_test(csp_subarray, \"CSP subarray\"),\n",
    "smoke_test(cbf_controller, \"CBF controller\"),\n",
    "smoke_test(cbf_subarray, \"CBF subarray\")\n",
    "smoke_test(dish_leaf_node_ska001, \"Dish leaf 001\")\n",
    "smoke_test(dish_leaf_node_ska036, \"Dish leaf 036\")\n",
    "smoke_test(sdp_subarray, \"SDP subarray\")\n",
    "smoke_test(cbf_fspcorrsubarray, \"CBF FSP correlator subarray\")\n",
    "smoke_test(dish_manager_ska001, \"Dish manager SKA001\")\n",
    "smoke_test(dish_manager_ska036, \"Dish manager SKA036\")"
   ]
  },
  {
   "cell_type": "markdown",
   "id": "846e32ff",
   "metadata": {},
   "source": [
    "### Admin mode test"
   ]
  },
  {
   "cell_type": "code",
   "execution_count": 7,
   "id": "c6354ddf",
   "metadata": {},
   "outputs": [
    {
     "data": {
      "application/vnd.jupyter.widget-view+json": {
       "model_id": "53c895da1a0647c4afee6998defe49bb",
       "version_major": 2,
       "version_minor": 0
      },
      "text/plain": [
       "Checkbox(value=False, description='TMC Central Node admin', indent=False)"
      ]
     },
     "metadata": {},
     "output_type": "display_data"
    },
    {
     "data": {
      "application/vnd.jupyter.widget-view+json": {
       "model_id": "4777d3662c3145d28609da84e6b4a57b",
       "version_major": 2,
       "version_minor": 0
      },
      "text/plain": [
       "Checkbox(value=False, description='TMC CSP master admin', indent=False)"
      ]
     },
     "metadata": {},
     "output_type": "display_data"
    },
    {
     "data": {
      "application/vnd.jupyter.widget-view+json": {
       "model_id": "e7da9980ac9148b4bede4952116cbc83",
       "version_major": 2,
       "version_minor": 0
      },
      "text/plain": [
       "Checkbox(value=False, description='TMC CSP subarray admin', indent=False)"
      ]
     },
     "metadata": {},
     "output_type": "display_data"
    },
    {
     "data": {
      "application/vnd.jupyter.widget-view+json": {
       "model_id": "926bdcd8683e44eaa14ad32261662f51",
       "version_major": 2,
       "version_minor": 0
      },
      "text/plain": [
       "Checkbox(value=False, description='TMC subarray admin', indent=False)"
      ]
     },
     "metadata": {},
     "output_type": "display_data"
    },
    {
     "data": {
      "application/vnd.jupyter.widget-view+json": {
       "model_id": "575a31fac345401089016ecf0b15d155",
       "version_major": 2,
       "version_minor": 0
      },
      "text/plain": [
       "Checkbox(value=False, description='CSP control admin', indent=False)"
      ]
     },
     "metadata": {},
     "output_type": "display_data"
    },
    {
     "data": {
      "application/vnd.jupyter.widget-view+json": {
       "model_id": "12f4bc56653f45a08bf71782847c1665",
       "version_major": 2,
       "version_minor": 0
      },
      "text/plain": [
       "Checkbox(value=False, description='CSP subarray admin', indent=False)"
      ]
     },
     "metadata": {},
     "output_type": "display_data"
    },
    {
     "data": {
      "application/vnd.jupyter.widget-view+json": {
       "model_id": "2c023620882a40eebfccbba621985064",
       "version_major": 2,
       "version_minor": 0
      },
      "text/plain": [
       "Checkbox(value=False, description='CBF controller admin', indent=False)"
      ]
     },
     "metadata": {},
     "output_type": "display_data"
    },
    {
     "data": {
      "application/vnd.jupyter.widget-view+json": {
       "model_id": "befbb08f41234b3f8265fc2be75fda7e",
       "version_major": 2,
       "version_minor": 0
      },
      "text/plain": [
       "Checkbox(value=False, description='CBF subarray admin', indent=False)"
      ]
     },
     "metadata": {},
     "output_type": "display_data"
    },
    {
     "data": {
      "application/vnd.jupyter.widget-view+json": {
       "model_id": "4d0c31a8435d4301ba2776c15da88b7f",
       "version_major": 2,
       "version_minor": 0
      },
      "text/plain": [
       "Checkbox(value=False, description='Dish leaf 001 admin', indent=False)"
      ]
     },
     "metadata": {},
     "output_type": "display_data"
    },
    {
     "data": {
      "application/vnd.jupyter.widget-view+json": {
       "model_id": "8f048cd164324e9eac909cf9d1490904",
       "version_major": 2,
       "version_minor": 0
      },
      "text/plain": [
       "Checkbox(value=False, description='Dish leaf 036 admin', indent=False)"
      ]
     },
     "metadata": {},
     "output_type": "display_data"
    },
    {
     "data": {
      "application/vnd.jupyter.widget-view+json": {
       "model_id": "d5f1cfa227c340cbbdf363cbe599e664",
       "version_major": 2,
       "version_minor": 0
      },
      "text/plain": [
       "Checkbox(value=True, description='SDP subarray admin', indent=False)"
      ]
     },
     "metadata": {},
     "output_type": "display_data"
    },
    {
     "data": {
      "application/vnd.jupyter.widget-view+json": {
       "model_id": "b696dc1ad4b9414f9c996d72fb778b20",
       "version_major": 2,
       "version_minor": 0
      },
      "text/plain": [
       "Checkbox(value=False, description='CBF FSP correlator subarray admin', indent=False)"
      ]
     },
     "metadata": {},
     "output_type": "display_data"
    },
    {
     "data": {
      "application/vnd.jupyter.widget-view+json": {
       "model_id": "a6eb53ca1d944c48911d878c92803ade",
       "version_major": 2,
       "version_minor": 0
      },
      "text/plain": [
       "Checkbox(value=False, description='Dish manager SKA001 admin', indent=False)"
      ]
     },
     "metadata": {},
     "output_type": "display_data"
    },
    {
     "data": {
      "application/vnd.jupyter.widget-view+json": {
       "model_id": "0802df1570884a4fa6115589fda29b53",
       "version_major": 2,
       "version_minor": 0
      },
      "text/plain": [
       "Checkbox(value=False, description='Dish manager SKA036 admin', indent=False)"
      ]
     },
     "metadata": {},
     "output_type": "display_data"
    }
   ],
   "source": [
    "def admin_test(tango_dev, tango_desc):\n",
    "    dev_admin = tango_dev.adminMode\n",
    "        admin_w = widgets.Checkbox(\n",
    "        value=not dev_admin,\n",
    "        description=f\"{tango_desc} admin\",\n",
    "        disabled=False,\n",
    "        indent=False\n",
    "    )\n",
    "    display(admin_w)\n",
    "    \n",
    "admin_test(tmc_central_node, \"TMC Central Node\")\n",
    "admin_test(tmc_csp_master, \"TMC CSP master\")\n",
    "admin_test(tmc_csp_subarray, \"TMC CSP subarray\"),\n",
    "admin_test(tmc_subarray, \"TMC subarray\"),\n",
    "admin_test(csp_control, \"CSP control\"),\n",
    "admin_test(csp_subarray, \"CSP subarray\"),\n",
    "admin_test(cbf_controller, \"CBF controller\"),\n",
    "admin_test(cbf_subarray, \"CBF subarray\")\n",
    "admin_test(dish_leaf_node_ska001, \"Dish leaf 001\")\n",
    "admin_test(dish_leaf_node_ska036, \"Dish leaf 036\")\n",
    "admin_test(sdp_subarray, \"SDP subarray\")\n",
    "admin_test(cbf_fspcorrsubarray, \"CBF FSP correlator subarray\")\n",
    "admin_test(dish_manager_ska001, \"Dish manager SKA001\")\n",
    "admin_test(dish_manager_ska036, \"Dish manager SKA036\")"
   ]
  },
  {
   "cell_type": "markdown",
   "id": "d6dfe7e1",
   "metadata": {},
   "source": [
    "### Print TMC diagnostics"
   ]
  },
  {
   "cell_type": "code",
   "execution_count": 8,
   "id": "cc1c5869",
   "metadata": {},
   "outputs": [
    {
     "data": {
      "application/vnd.jupyter.widget-view+json": {
       "model_id": "5f52ce62e1bf4ade9e7869c0228bbfa4",
       "version_major": 2,
       "version_minor": 0
      },
      "text/plain": [
       "HTML(value='<style>td {border: thin blue ridge; padding: 2px}</style><table><tr><td>Central Node</td><td>ska_m…"
      ]
     },
     "metadata": {},
     "output_type": "display_data"
    }
   ],
   "source": [
    "# Print TMC diagnostics\n",
    "tmc_table: str = '<style>td {border: thin blue ridge; padding: 2px}</style><table>'\n",
    "try:\n",
    "    tmc_table += f\"<tr><td>Central Node</td><td>{tmc_central_node.name()}</td></tr>\"\n",
    "    tmc_table += f\"<tr><td>Central Node state</td><td>{str(tmc_central_node.State())}</td></tr>\"\n",
    "    tmc_table += f\"<tr><td>Central Node adminMode</td><td>{str(tmc_central_node.adminmode)}</td></tr>\"\n",
    "    tmc_table += f\"<tr><td>Central Node healthState</td><td>{str(tmc_central_node.healthState)}</td></tr>\"\n",
    "    tmc_table += f\"<tr><td>Central Node telescopeHealthState</td><td> {str(tmc_central_node.telescopeHealthState)}</td></tr>\"\n",
    "    tmc_table += f\"<tr><td>Central Node isDishVccConfig</td><td>{str(tmc_central_node.isDishVccConfigSet)}</td></tr>\"\n",
    "    tmc_table += f\"<tr><td>Central Node DishVccValidationStatus</td><td>{str(tmc_central_node.DishVccValidationStatus)}</td></tr>\"\n",
    "    tmc_table += f\"<tr><td>Subarray Node state</td><td>{tmc_csp_subarray.State()}</td></tr>\"\n",
    "    tmc_table += f\"<tr><td>Subarray adminMode</td><td>{str(tmc_csp_subarray.adminMode)}</td></tr>\"\n",
    "    # print(f\"TMC Subarray Node obsState: {str(tmc_csp_subarray.obsState)}\")\n",
    "except tango.ConnectionFailed as terr:\n",
    "    print(f\"Tango connection failed: {terr.args[0].desc.strip()}\")\n",
    "# table(tmc_rows, frame=True)\n",
    "tmc_table += \"</table>\"\n",
    "tmc_table_w = widgets.HTML(\n",
    "    value=tmc_table,\n",
    "    placeholder='TMC status',\n",
    "    description='TMC',\n",
    ")\n",
    "display(tmc_table_w)"
   ]
  },
  {
   "cell_type": "markdown",
   "id": "42cacb72",
   "metadata": {},
   "source": [
    "### Print CSP-LMC Diagnostics"
   ]
  },
  {
   "cell_type": "code",
   "execution_count": 9,
   "id": "7885ec03",
   "metadata": {},
   "outputs": [
    {
     "data": {
      "application/vnd.jupyter.widget-view+json": {
       "model_id": "185930c8cb6a45bdae9f184f69759c72",
       "version_major": 2,
       "version_minor": 0
      },
      "text/plain": [
       "HTML(value='<table><tr><td>Controller</td><td>mid-csp/control/0</td></tr><tr><td> Controller admin mode</td><t…"
      ]
     },
     "metadata": {},
     "output_type": "display_data"
    }
   ],
   "source": [
    "# Print CSP-LMC Diagnostics\n",
    "csplmc_table: str = \"<table>\"\n",
    "try:\n",
    "    # Controller\n",
    "    csplmc_table += f\"<tr><td>Controller</td><td>{csp_control.name()}</td></tr>\"\n",
    "    csplmc_table += f\"<tr><td> Controller admin mode</td><td>{str(csp_control.adminMode)}</td></tr>\"\n",
    "    csplmc_table += f\"<tr><td>Controller State</td><td>{csp_control.State()}</td></tr>\"\n",
    "    csplmc_table += f\"<tr><td>Controller dish Vcc Config</td><td>{csp_control.dishVccConfig}</td></tr>\"\n",
    "    csplmc_table += f\"<tr><td>Controller CBF Simulation Mode</td><td>{csp_control.cbfSimulationMode:}</td></tr>\"\n",
    "    # Subarray\n",
    "    csplmc_table += f\"<tr><td>Subarray</td><td>{csp_subarray.name()}</td></tr>\"\n",
    "    csplmc_table += f\"<tr><td>Subarray admin mode</td><td>{str(csp_subarray.adminMode)}</td></tr>\"\n",
    "    csplmc_table += f\"<tr><td>Subarray State</td><td>{csp_subarray.State()}</td></tr>\"\n",
    "    csplmc_table += f\"<tr><td>Subarray observation state</td><td>{str(csp_subarray.obsState)}</td></tr>\"\n",
    "    csplmc_table += f\"<tr><td>Subarray dish Vcc Config</td><td>{csp_subarray.dishVccConfig}</td></tr>\"\n",
    "    csplmc_table += f\"<tr><td>FSP correlator subarray</td><td>{cbf_fspcorrsubarray.obsstate}</td></tr>\"\n",
    "except tango.ConnectionFailed as terr:\n",
    "    # print(f\"Tango connection failed: {terr.args[0].desc.strip()}\")\n",
    "    show_errorbox(terr.args[0].desc.strip())\n",
    "csplmc_table += \"</table>\"\n",
    "csplmc_table_w = widgets.HTML(\n",
    "    value=csplmc_table,\n",
    "    placeholder='CSP-LMC status',\n",
    "    description='CSP-LMC',\n",
    ")\n",
    "display(csplmc_table_w)"
   ]
  },
  {
   "cell_type": "markdown",
   "id": "603df89e",
   "metadata": {},
   "source": [
    "### Print CBF Diagnostics"
   ]
  },
  {
   "cell_type": "code",
   "execution_count": 10,
   "id": "95ddbb19",
   "metadata": {},
   "outputs": [
    {
     "data": {
      "application/vnd.jupyter.widget-view+json": {
       "model_id": "185930c8cb6a45bdae9f184f69759c72",
       "version_major": 2,
       "version_minor": 0
      },
      "text/plain": [
       "HTML(value='<table><tr><td>Controller</td><td>mid-csp/control/0</td></tr><tr><td> Controller admin mode</td><t…"
      ]
     },
     "metadata": {},
     "output_type": "display_data"
    }
   ],
   "source": [
    "# Print CBF Diagnostics\n",
    "cbf_table: str = \"<table>\"\n",
    "try:\n",
    "    # CBF Controller\n",
    "    cbf_table += f\"<tr><td>Controller admin mode</td><td>{str(cbf_controller.adminMode)}</td></tr>\"\n",
    "    cbf_table += f\"<tr><td>Controller State</td><td>{str(cbf_controller.State())}</td></tr>\"\n",
    "    # CBF Subarray\n",
    "    cbf_table += f\"<tr><td>Subarray admin mode</td><td>{str(cbf_subarray.adminMode)}</td></tr>\"\n",
    "    cbf_table += f\"<tr><td>Subarray State</td><td>{str(cbf_subarray.State())}</td></tr>\"\n",
    "    cbf_table += f\"<tr><td>Subarray observation state</td><td>{str(cbf_subarray.obsState)}</td></tr>\"\n",
    "except tango.ConnectionFailed as terr:\n",
    "    err_msg = terr.args[0].desc.strip()\n",
    "    # print(\"Tango connection failed: %s\", err_msg)\n",
    "    show_errorbox(err_msg)\n",
    "cbf_table += \"</table>\"\n",
    "cbf_table_w = widgets.HTML(\n",
    "    value=cbf_table,\n",
    "    placeholder='CBF status',\n",
    "    description='CBF',\n",
    ")\n",
    "display(csplmc_table_w)"
   ]
  },
  {
   "cell_type": "markdown",
   "id": "8d2b4524",
   "metadata": {},
   "source": [
    "### Print SDP Diagnostics"
   ]
  },
  {
   "cell_type": "code",
   "execution_count": 11,
   "id": "095db001",
   "metadata": {
    "scrolled": true
   },
   "outputs": [
    {
     "data": {
      "application/vnd.jupyter.widget-view+json": {
       "model_id": "e0e8a28522404cd2bb220368da14b5a5",
       "version_major": 2,
       "version_minor": 0
      },
      "text/plain": [
       "HTML(value='<table><tr><td>Controller admin mode</td><td>adminMode.OFFLINE</td></tr><tr><td>Controller State</…"
      ]
     },
     "metadata": {},
     "output_type": "display_data"
    }
   ],
   "source": [
    "# Print SDP Diagnostics\n",
    "sdp_table: str = \"<table>\"\n",
    "try:\n",
    "    # SDP Subarray\n",
    "    sdp_table += f\"<tr><td>Subarray state</td><td>{str(sdp_subarray.State())}</td></tr>\"\n",
    "    sdp_table += f\"<tr><td>Subarray admin mode</td><td>{str(sdp_subarray.adminMode)}</td></tr>\"\n",
    "    sdp_table += f\"<tr><td>Subarray observation state</td><td>{str(sdp_subarray.obsState)}</td></tr>\"\n",
    "except tango.ConnectionFailed as terr:\n",
    "    err_msg = terr.args[0].desc.strip()\n",
    "    # print(\"Tango connection failed: %s\", err_msg)\n",
    "    show_errorbox(err_msg)\n",
    "sdp_table += \"</table>\"\n",
    "sdp_table_w = widgets.HTML(\n",
    "    value=cbf_table,\n",
    "    placeholder='SDP status',\n",
    "    description='SDP',\n",
    ")\n",
    "display(sdp_table_w)"
   ]
  },
  {
   "cell_type": "markdown",
   "id": "e8da34fb",
   "metadata": {},
   "source": [
    "## Set devices to ONLINE"
   ]
  },
  {
   "cell_type": "code",
   "execution_count": 12,
   "id": "d24614ea",
   "metadata": {},
   "outputs": [
    {
     "name": "stdout",
     "output_type": "stream",
     "text": [
      "Admin mode after setting to ONLINE\n"
     ]
    },
    {
     "data": {
      "application/vnd.jupyter.widget-view+json": {
       "model_id": "bf4b11a777624229b17e40c0c679614b",
       "version_major": 2,
       "version_minor": 0
      },
      "text/plain": [
       "Valid(value=True, description='CSP Control online', layout=Layout(width='60%'), style=DescriptionStyle(descrip…"
      ]
     },
     "metadata": {},
     "output_type": "display_data"
    },
    {
     "data": {
      "application/vnd.jupyter.widget-view+json": {
       "model_id": "87854abe8fd94403856866b985cbc308",
       "version_major": 2,
       "version_minor": 0
      },
      "text/plain": [
       "Valid(value=True, description='CSP Subarray online', layout=Layout(width='60%'), style=DescriptionStyle(descri…"
      ]
     },
     "metadata": {},
     "output_type": "display_data"
    },
    {
     "data": {
      "application/vnd.jupyter.widget-view+json": {
       "model_id": "1070e8698d574e21b38a79f54af2bd05",
       "version_major": 2,
       "version_minor": 0
      },
      "text/plain": [
       "Valid(value=True, description='CBF Controller online', layout=Layout(width='60%'), style=DescriptionStyle(desc…"
      ]
     },
     "metadata": {},
     "output_type": "display_data"
    },
    {
     "data": {
      "application/vnd.jupyter.widget-view+json": {
       "model_id": "3400cb6b21d3435581986b6f0833cdac",
       "version_major": 2,
       "version_minor": 0
      },
      "text/plain": [
       "Valid(value=True, description='CBF Subarray online', layout=Layout(width='60%'), style=DescriptionStyle(descri…"
      ]
     },
     "metadata": {},
     "output_type": "display_data"
    },
    {
     "data": {
      "application/vnd.jupyter.widget-view+json": {
       "model_id": "86f43f6b3c5a46639c09960fb9a6cbdd",
       "version_major": 2,
       "version_minor": 0
      },
      "text/plain": [
       "Checkbox(value=True, description='CBF Simulation Mode', indent=False)"
      ]
     },
     "metadata": {},
     "output_type": "display_data"
    },
    {
     "data": {
      "application/vnd.jupyter.widget-view+json": {
       "model_id": "740cf3f1e4424bc1a8781ffeb63b0491",
       "version_major": 2,
       "version_minor": 0
      },
      "text/plain": [
       "IntSlider(value=99, continuous_update=False, description='CBF Timeout', max=180)"
      ]
     },
     "metadata": {},
     "output_type": "display_data"
    }
   ],
   "source": [
    "# Set devices to adminMode = ONLINE\n",
    "\n",
    "def set_admin_mode(tango_dev, tango_desc):\n",
    "    set_admin_w = widgets.Valid(\n",
    "        value=not tango_dev.adminMode,\n",
    "        description=f\"{tango_desc} online\",\n",
    "        layout=widgets.Layout(width='60%'),\n",
    "        style = {'description_width': 'initial'}\n",
    "    )\n",
    "    display(set_admin_w)\n",
    "\n",
    "csp_control.adminMode = 0\n",
    "csp_subarray.adminMode = 0\n",
    "\n",
    "# Leaf Nodes\n",
    "csp_subarray_leaf_node_dp = DeviceProxy(\"ska_mid/tm_leaf_node/csp_subarray01\")\n",
    "sdp_subarray_leaf_node_dp = DeviceProxy(\"ska_mid/tm_leaf_node/sdp_subarray01\")\n",
    "csp_master_leaf_node_dp = DeviceProxy(\"ska_mid/tm_leaf_node/csp_master\")\n",
    "\n",
    "time.sleep(2)\n",
    "print(\"Admin mode after setting to ONLINE\")\n",
    "\n",
    "set_admin_mode(csp_control, \"CSP Control\")\n",
    "set_admin_mode(csp_subarray, \"CSP Subarray\")\n",
    "set_admin_mode(cbf_controller, \"CBF Controller\")\n",
    "set_admin_mode(cbf_subarray, \"CBF Subarray\")\n",
    "\n",
    "# Set CBF Simulation mode to false and CBF timeout to 99s\n",
    "csp_control.cbfSimulationMode = 1\n",
    "csp_control.commandTimeout = 99\n",
    "\n",
    "time.sleep(2)\n",
    "# print(\"\\nChecking CBF Simulation Mode and CBF Timeout:\")\n",
    "\n",
    "# CBF Simulation Mode\n",
    "# print(f\"  CBF Simulation Mode: {bool(csp_control.cbfSimulationMode)}\")\n",
    "\n",
    "cbf_sim_w = widgets.Checkbox(\n",
    "    value=bool(csp_control.cbfSimulationMode),\n",
    "    description='CBF Simulation Mode',\n",
    "    disabled=False,\n",
    "    indent=False\n",
    ")\n",
    "display(cbf_sim_w)\n",
    "\n",
    "# CBF Timeout\n",
    "# print(f\"  CBF Timeout: {csp_control.commandTimeout} sec\")\n",
    "cbf_tim_w = widgets.IntSlider(\n",
    "    value=csp_control.commandTimeout,\n",
    "    min=0,\n",
    "    max=180,\n",
    "    step=1,\n",
    "    description='CBF Timeout',\n",
    "    disabled=False,\n",
    "    continuous_update=False,\n",
    "    orientation='horizontal',\n",
    "    readout=True,\n",
    "    readout_format='d'\n",
    ")\n",
    "display(cbf_tim_w)"
   ]
  },
  {
   "cell_type": "markdown",
   "id": "53219267",
   "metadata": {},
   "source": [
    "## Load the Dish Vcc Config / Init Sys Params"
   ]
  },
  {
   "cell_type": "code",
   "execution_count": 13,
   "id": "83b03826",
   "metadata": {
    "scrolled": true
   },
   "outputs": [
    {
     "data": {
      "application/vnd.jupyter.widget-view+json": {
       "model_id": "60a246c8b2ab42779d5350c0e92ad029",
       "version_major": 2,
       "version_minor": 0
      },
      "text/plain": [
       "IntProgress(value=0, description='Loading:', max=2, style=ProgressStyle(bar_color='maroon'))"
      ]
     },
     "metadata": {},
     "output_type": "display_data"
    },
    {
     "name": "stdout",
     "output_type": "stream",
     "text": [
      "Dish config loaded\n"
     ]
    },
    {
     "data": {
      "application/vnd.jupyter.widget-view+json": {
       "model_id": "3905fa31cf2e463c9d69b3c96a293820",
       "version_major": 2,
       "version_minor": 0
      },
      "text/plain": [
       "Textarea(value='\\nTRANSIENT CORBA system exception: TRANSIENT_CallTimedout', description='Error', layout=Layou…"
      ]
     },
     "metadata": {},
     "output_type": "display_data"
    },
    {
     "data": {
      "application/vnd.jupyter.widget-view+json": {
       "model_id": "8e0a0312921f4756aa3576d07a3e4c63",
       "version_major": 2,
       "version_minor": 0
      },
      "text/plain": [
       "Valid(value=True, description='Config loaded', layout=Layout(width='60%'), style=DescriptionStyle(description_…"
      ]
     },
     "metadata": {},
     "output_type": "display_data"
    },
    {
     "ename": "JSONDecodeError",
     "evalue": "Expecting value: line 1 column 1 (char 0)",
     "output_type": "error",
     "traceback": [
      "\u001b[0;31m---------------------------------------------------------------------------\u001b[0m",
      "\u001b[0;31mJSONDecodeError\u001b[0m                           Traceback (most recent call last)",
      "Cell \u001b[0;32mIn[13], line 64\u001b[0m\n\u001b[1;32m     56\u001b[0m load_cfg_w \u001b[38;5;241m=\u001b[39m widgets\u001b[38;5;241m.\u001b[39mValid(\n\u001b[1;32m     57\u001b[0m     value\u001b[38;5;241m=\u001b[39m(err_count \u001b[38;5;241m<\u001b[39m\u001b[38;5;241m=\u001b[39m \u001b[38;5;241m1\u001b[39m),\n\u001b[1;32m     58\u001b[0m     description\u001b[38;5;241m=\u001b[39m\u001b[38;5;124m\"\u001b[39m\u001b[38;5;124mConfig loaded\u001b[39m\u001b[38;5;124m\"\u001b[39m,\n\u001b[1;32m     59\u001b[0m     layout\u001b[38;5;241m=\u001b[39mwidgets\u001b[38;5;241m.\u001b[39mLayout(width\u001b[38;5;241m=\u001b[39m\u001b[38;5;124m'\u001b[39m\u001b[38;5;124m60\u001b[39m\u001b[38;5;124m%\u001b[39m\u001b[38;5;124m'\u001b[39m),\n\u001b[1;32m     60\u001b[0m     style \u001b[38;5;241m=\u001b[39m {\u001b[38;5;124m'\u001b[39m\u001b[38;5;124mdescription_width\u001b[39m\u001b[38;5;124m'\u001b[39m: \u001b[38;5;124m'\u001b[39m\u001b[38;5;124minitial\u001b[39m\u001b[38;5;124m'\u001b[39m}\n\u001b[1;32m     61\u001b[0m )\n\u001b[1;32m     62\u001b[0m display(load_cfg_w)\n\u001b[0;32m---> 64\u001b[0m tmc_csp_dish_vcc \u001b[38;5;241m=\u001b[39m \u001b[43mjson\u001b[49m\u001b[38;5;241;43m.\u001b[39;49m\u001b[43mloads\u001b[49m\u001b[43m(\u001b[49m\u001b[43mtmc_csp_master\u001b[49m\u001b[38;5;241;43m.\u001b[39;49m\u001b[43mdishVccConfig\u001b[49m\u001b[43m)\u001b[49m\n\u001b[1;32m     65\u001b[0m \u001b[38;5;66;03m# print(f\"TMC CSP Master's Dish Vcc Config attribute value: \\n\"\u001b[39;00m\n\u001b[1;32m     66\u001b[0m \u001b[38;5;66;03m# \"{json.dumps(tmc_csp_master.dishVccConfig, indent=4)}\")\u001b[39;00m\n\u001b[1;32m     68\u001b[0m \u001b[38;5;28mprint\u001b[39m(\u001b[38;5;124mf\u001b[39m\u001b[38;5;124m'\u001b[39m\u001b[38;5;130;01m\\n\u001b[39;00m\u001b[38;5;124mTMC CSP Master Dish Vcc Config interface\u001b[39m\u001b[38;5;130;01m\\n\u001b[39;00m\u001b[38;5;132;01m{\u001b[39;00mtmc_csp_dish_vcc[\u001b[38;5;124m\"\u001b[39m\u001b[38;5;124minterface\u001b[39m\u001b[38;5;124m\"\u001b[39m]\u001b[38;5;132;01m}\u001b[39;00m\u001b[38;5;124m'\u001b[39m)\n",
      "File \u001b[0;32m/usr/lib/python3.10/json/__init__.py:346\u001b[0m, in \u001b[0;36mloads\u001b[0;34m(s, cls, object_hook, parse_float, parse_int, parse_constant, object_pairs_hook, **kw)\u001b[0m\n\u001b[1;32m    341\u001b[0m     s \u001b[38;5;241m=\u001b[39m s\u001b[38;5;241m.\u001b[39mdecode(detect_encoding(s), \u001b[38;5;124m'\u001b[39m\u001b[38;5;124msurrogatepass\u001b[39m\u001b[38;5;124m'\u001b[39m)\n\u001b[1;32m    343\u001b[0m \u001b[38;5;28;01mif\u001b[39;00m (\u001b[38;5;28mcls\u001b[39m \u001b[38;5;129;01mis\u001b[39;00m \u001b[38;5;28;01mNone\u001b[39;00m \u001b[38;5;129;01mand\u001b[39;00m object_hook \u001b[38;5;129;01mis\u001b[39;00m \u001b[38;5;28;01mNone\u001b[39;00m \u001b[38;5;129;01mand\u001b[39;00m\n\u001b[1;32m    344\u001b[0m         parse_int \u001b[38;5;129;01mis\u001b[39;00m \u001b[38;5;28;01mNone\u001b[39;00m \u001b[38;5;129;01mand\u001b[39;00m parse_float \u001b[38;5;129;01mis\u001b[39;00m \u001b[38;5;28;01mNone\u001b[39;00m \u001b[38;5;129;01mand\u001b[39;00m\n\u001b[1;32m    345\u001b[0m         parse_constant \u001b[38;5;129;01mis\u001b[39;00m \u001b[38;5;28;01mNone\u001b[39;00m \u001b[38;5;129;01mand\u001b[39;00m object_pairs_hook \u001b[38;5;129;01mis\u001b[39;00m \u001b[38;5;28;01mNone\u001b[39;00m \u001b[38;5;129;01mand\u001b[39;00m \u001b[38;5;129;01mnot\u001b[39;00m kw):\n\u001b[0;32m--> 346\u001b[0m     \u001b[38;5;28;01mreturn\u001b[39;00m \u001b[43m_default_decoder\u001b[49m\u001b[38;5;241;43m.\u001b[39;49m\u001b[43mdecode\u001b[49m\u001b[43m(\u001b[49m\u001b[43ms\u001b[49m\u001b[43m)\u001b[49m\n\u001b[1;32m    347\u001b[0m \u001b[38;5;28;01mif\u001b[39;00m \u001b[38;5;28mcls\u001b[39m \u001b[38;5;129;01mis\u001b[39;00m \u001b[38;5;28;01mNone\u001b[39;00m:\n\u001b[1;32m    348\u001b[0m     \u001b[38;5;28mcls\u001b[39m \u001b[38;5;241m=\u001b[39m JSONDecoder\n",
      "File \u001b[0;32m/usr/lib/python3.10/json/decoder.py:337\u001b[0m, in \u001b[0;36mJSONDecoder.decode\u001b[0;34m(self, s, _w)\u001b[0m\n\u001b[1;32m    332\u001b[0m \u001b[38;5;28;01mdef\u001b[39;00m \u001b[38;5;21mdecode\u001b[39m(\u001b[38;5;28mself\u001b[39m, s, _w\u001b[38;5;241m=\u001b[39mWHITESPACE\u001b[38;5;241m.\u001b[39mmatch):\n\u001b[1;32m    333\u001b[0m \u001b[38;5;250m    \u001b[39m\u001b[38;5;124;03m\"\"\"Return the Python representation of ``s`` (a ``str`` instance\u001b[39;00m\n\u001b[1;32m    334\u001b[0m \u001b[38;5;124;03m    containing a JSON document).\u001b[39;00m\n\u001b[1;32m    335\u001b[0m \n\u001b[1;32m    336\u001b[0m \u001b[38;5;124;03m    \"\"\"\u001b[39;00m\n\u001b[0;32m--> 337\u001b[0m     obj, end \u001b[38;5;241m=\u001b[39m \u001b[38;5;28;43mself\u001b[39;49m\u001b[38;5;241;43m.\u001b[39;49m\u001b[43mraw_decode\u001b[49m\u001b[43m(\u001b[49m\u001b[43ms\u001b[49m\u001b[43m,\u001b[49m\u001b[43m \u001b[49m\u001b[43midx\u001b[49m\u001b[38;5;241;43m=\u001b[39;49m\u001b[43m_w\u001b[49m\u001b[43m(\u001b[49m\u001b[43ms\u001b[49m\u001b[43m,\u001b[49m\u001b[43m \u001b[49m\u001b[38;5;241;43m0\u001b[39;49m\u001b[43m)\u001b[49m\u001b[38;5;241;43m.\u001b[39;49m\u001b[43mend\u001b[49m\u001b[43m(\u001b[49m\u001b[43m)\u001b[49m\u001b[43m)\u001b[49m\n\u001b[1;32m    338\u001b[0m     end \u001b[38;5;241m=\u001b[39m _w(s, end)\u001b[38;5;241m.\u001b[39mend()\n\u001b[1;32m    339\u001b[0m     \u001b[38;5;28;01mif\u001b[39;00m end \u001b[38;5;241m!=\u001b[39m \u001b[38;5;28mlen\u001b[39m(s):\n",
      "File \u001b[0;32m/usr/lib/python3.10/json/decoder.py:355\u001b[0m, in \u001b[0;36mJSONDecoder.raw_decode\u001b[0;34m(self, s, idx)\u001b[0m\n\u001b[1;32m    353\u001b[0m     obj, end \u001b[38;5;241m=\u001b[39m \u001b[38;5;28mself\u001b[39m\u001b[38;5;241m.\u001b[39mscan_once(s, idx)\n\u001b[1;32m    354\u001b[0m \u001b[38;5;28;01mexcept\u001b[39;00m \u001b[38;5;167;01mStopIteration\u001b[39;00m \u001b[38;5;28;01mas\u001b[39;00m err:\n\u001b[0;32m--> 355\u001b[0m     \u001b[38;5;28;01mraise\u001b[39;00m JSONDecodeError(\u001b[38;5;124m\"\u001b[39m\u001b[38;5;124mExpecting value\u001b[39m\u001b[38;5;124m\"\u001b[39m, s, err\u001b[38;5;241m.\u001b[39mvalue) \u001b[38;5;28;01mfrom\u001b[39;00m \u001b[38;5;28;01mNone\u001b[39;00m\n\u001b[1;32m    356\u001b[0m \u001b[38;5;28;01mreturn\u001b[39;00m obj, end\n",
      "\u001b[0;31mJSONDecodeError\u001b[0m: Expecting value: line 1 column 1 (char 0)"
     ]
    }
   ],
   "source": [
    "# Load the Dish Vcc Config / Init Sys Params\n",
    "from IPython.display import JSON\n",
    "# csp_control.commandTimeout = cbf_tim_w.value\n",
    "\n",
    "csp_control.cbfSimulationMode = cbf_sim_w.value\n",
    "\n",
    "with open(DISH_CONFIG_FILE, encoding=\"utf-8\") as f:\n",
    "    dish_config_json = json.load(f)\n",
    "\n",
    "dish_config_json[\"tm_data_sources\"][0] = \"car://gitlab.com/ska-telescope/ska-telmodel-data?0.1.0-rc-mid-itf#tmdata\"\n",
    "dish_config_json[\"tm_data_filepath\"] = \"instrument/ska1_mid_itf/ska-mid-cbf-system-parameters.json\"\n",
    "# print(f\"Dish config json file contents: \\n{dish_config_json}\")\n",
    "\n",
    "nmax = 2\n",
    "cfgp_w = widgets.IntProgress(\n",
    "    value=0,\n",
    "    min=0,\n",
    "    max=nmax,\n",
    "    description='Loading:',\n",
    "    bar_style='', # 'success', 'info', 'warning', 'danger' or ''\n",
    "    style={'bar_color': 'maroon'},\n",
    "    orientation='horizontal'\n",
    ")\n",
    "display(cfgp_w)\n",
    "\n",
    "errorbox_cfg = widgets.Textarea(\n",
    "    value=\"\",\n",
    "    placeholder='Error message',\n",
    "    description='Error',\n",
    "    disabled=False,\n",
    "    layout=widgets.Layout(width='75%', height='200px')\n",
    ")\n",
    "\n",
    "# NOTE: RUN TWICE\n",
    "err_count = 0\n",
    "err_msg = \"No error\"\n",
    "for n in range(1, nmax+1):\n",
    "    cfgp_w.value = n\n",
    "    # print(f\"\\nLoad dish configuration {n}\")\n",
    "    try:\n",
    "        tmc_central_node.LoadDishCfg(json.dumps(dish_config_json))\n",
    "        print(\"Dish config loaded\")\n",
    "    except tango.DevFailed as derr:\n",
    "        err_msg = derr.args[0].desc.strip()\n",
    "        errorbox_cfg.value += f\"\\n{err_msg}\"\n",
    "        err_count += 1\n",
    "    except tango.ConnectionFailed as terr:\n",
    "        err_msg = terr.args[0].desc.strip()\n",
    "        errorbox_cfg.value += f\"\\n{err_msg}\"\n",
    "        err_count += 1\n",
    "    time.sleep(2)\n",
    "    \n",
    "if err_count:\n",
    "    display(errorbox_cfg)\n",
    "    \n",
    "load_cfg_w = widgets.Valid(\n",
    "    value=(err_count <= 1),\n",
    "    description=\"Config loaded\",\n",
    "    layout=widgets.Layout(width='60%'),\n",
    "    style = {'description_width': 'initial'}\n",
    ")\n",
    "display(load_cfg_w)\n",
    "\n",
    "tmc_csp_dish_vcc = json.loads(tmc_csp_master.dishVccConfig)\n",
    "# print(f\"TMC CSP Master's Dish Vcc Config attribute value: \\n\"\n",
    "# \"{json.dumps(tmc_csp_master.dishVccConfig, indent=4)}\")\n",
    "\n",
    "print(f'\\nTMC CSP Master Dish Vcc Config interface\\n{tmc_csp_dish_vcc[\"interface\"]}')\n",
    "# json.dumps(tmc_csp_master.dishVccConfig, indent=4)\n",
    "# cfgj = JSON(json.loads(tmc_csp_master.dishVccConfig), expanded=True)\n",
    "# display(cfgj)\n",
    "\n",
    "tmc_csp_src_vcc = json.loads(tmc_csp_master.sourceDishVccConfig)\n",
    "# print(f\"TMC CSP Master's Source Dish Vcc Config attribute value: \\n\"\n",
    "# \"{tmc_csp_master.sourceDishVccConfig}\")\n",
    "print(f'\\nTMC CSP Master Source Dish Vcc Config interface\\n{tmc_csp_src_vcc[\"interface\"]}')\n"
   ]
  },
  {
   "cell_type": "markdown",
   "id": "696fd41a",
   "metadata": {},
   "source": [
    "## Turn the Telescope On"
   ]
  },
  {
   "cell_type": "markdown",
   "id": "e7841f8e",
   "metadata": {},
   "source": [
    "### Run the Telescope On command"
   ]
  },
  {
   "cell_type": "code",
   "execution_count": 14,
   "id": "a0183361",
   "metadata": {},
   "outputs": [
    {
     "data": {
      "application/vnd.jupyter.widget-view+json": {
       "model_id": "928f89db85464d51970bb886f659c056",
       "version_major": 2,
       "version_minor": 0
      },
      "text/plain": [
       "Textarea(value='ska_tmc_common.exceptions.CommandNotAllowed: Dish Vcc Config not Set. Please set using LoadDis…"
      ]
     },
     "metadata": {},
     "output_type": "display_data"
    },
    {
     "data": {
      "application/vnd.jupyter.widget-view+json": {
       "model_id": "50f67491ffd44f4e8186870717b4cc50",
       "version_major": 2,
       "version_minor": 0
      },
      "text/plain": [
       "Valid(value=False, description='Ready', layout=Layout(width='60%'), style=DescriptionStyle(description_width='…"
      ]
     },
     "metadata": {},
     "output_type": "display_data"
    }
   ],
   "source": [
    "# Turn the Telescope On\n",
    "import tango\n",
    "\n",
    "on_err = False\n",
    "try:\n",
    "    tmc_central_node.TelescopeOn()\n",
    "except tango.DevFailed as t_err:\n",
    "    err_msg: str = t_err.args[0].desc.strip()\n",
    "    # print(f\"Could not run command: {err_msg}\")\n",
    "    show_errorbox(err_msg)\n",
    "    on_err = True\n",
    "    \n",
    "tel_ready_w = widgets.Valid(\n",
    "    value=not on_err,\n",
    "    description=\"Ready\",\n",
    "    layout=widgets.Layout(width='60%'),\n",
    "    style = {'description_width': 'initial'}\n",
    ")\n",
    "display(tel_ready_w)"
   ]
  },
  {
   "cell_type": "code",
   "execution_count": 15,
   "id": "4cfa6e8a",
   "metadata": {},
   "outputs": [
    {
     "data": {
      "application/vnd.jupyter.widget-view+json": {
       "model_id": "a8cfdf9a14e04968b64d614379c1d511",
       "version_major": 2,
       "version_minor": 0
      },
      "text/plain": [
       "IntSlider(value=20, continuous_update=False, description='Retry')"
      ]
     },
     "metadata": {},
     "output_type": "display_data"
    },
    {
     "data": {
      "application/vnd.jupyter.widget-view+json": {
       "model_id": "3426c9b00d154edea48c2174470d1d52",
       "version_major": 2,
       "version_minor": 0
      },
      "text/plain": [
       "IntSlider(value=5, continuous_update=False, description='Sleep', max=30)"
      ]
     },
     "metadata": {},
     "output_type": "display_data"
    }
   ],
   "source": [
    "tel_on_retry = widgets.IntSlider(\n",
    "    value=20,\n",
    "    min=0,\n",
    "    max=100,\n",
    "    step=1,\n",
    "    description='Retry',\n",
    "    disabled=False,\n",
    "    continuous_update=False,\n",
    "    orientation='horizontal',\n",
    "    readout=True,\n",
    "    readout_format='d'\n",
    ")\n",
    "display(tel_on_retry)\n",
    "tel_on_wait = widgets.IntSlider(\n",
    "    value=5,\n",
    "    min=0,\n",
    "    max=30,\n",
    "    step=1,\n",
    "    description='Sleep',\n",
    "    disabled=False,\n",
    "    continuous_update=False,\n",
    "    orientation='horizontal',\n",
    "    readout=True,\n",
    "    readout_format='d'\n",
    ")\n",
    "display(tel_on_wait)"
   ]
  },
  {
   "cell_type": "markdown",
   "id": "a1d36405",
   "metadata": {},
   "source": [
    "### Check if telescope is on"
   ]
  },
  {
   "cell_type": "code",
   "execution_count": 16,
   "id": "5c8b83e7",
   "metadata": {
    "scrolled": true
   },
   "outputs": [
    {
     "data": {
      "application/vnd.jupyter.widget-view+json": {
       "model_id": "2006c7c120ab48929bff727a1f3d068f",
       "version_major": 2,
       "version_minor": 0
      },
      "text/plain": [
       "IntProgress(value=0, description='Loading:', max=20, style=ProgressStyle(bar_color='maroon'))"
      ]
     },
     "metadata": {},
     "output_type": "display_data"
    },
    {
     "data": {
      "application/vnd.jupyter.widget-view+json": {
       "model_id": "4f2c75de83ff413391b82e665bb0804d",
       "version_major": 2,
       "version_minor": 0
      },
      "text/plain": [
       "Valid(value=False, description='Telescope ON', layout=Layout(width='60%'), style=DescriptionStyle(description_…"
      ]
     },
     "metadata": {},
     "output_type": "display_data"
    }
   ],
   "source": [
    "# Check if telescope is on\n",
    "nmax = tel_on_retry.value\n",
    "sleep_time = tel_on_wait.value\n",
    "p = widgets.IntProgress(\n",
    "    value=0,\n",
    "    min=0,\n",
    "    max=nmax,\n",
    "    description='Loading:',\n",
    "    bar_style='', # 'success', 'info', 'warning', 'danger' or ''\n",
    "    style={'bar_color': 'maroon'},\n",
    "    orientation='horizontal'\n",
    ")\n",
    "display(p)\n",
    "n = 0\n",
    "tel_state = -1\n",
    "errorbox_on = widgets.Textarea(\n",
    "    value=\"\",\n",
    "    placeholder='Error message',\n",
    "    description='State error',\n",
    "    disabled=False,\n",
    "    layout=widgets.Layout(width='75%', height='200px')\n",
    ")\n",
    "\n",
    "while tel_state != 0:\n",
    "    try:\n",
    "        tel_state = int(tmc_central_node.telescopeState)\n",
    "    except tango.DevFailed as t_err:\n",
    "        err_msg: str = t_err.args[0].desc.strip()\n",
    "        # print(f\"Could not read telescope state: {err_msg}\")\n",
    "        errorbox_on.value = err_msg\n",
    "        display(errorbox_on)\n",
    "    n += 1\n",
    "    p.value = n\n",
    "    if n >= nmax:\n",
    "        break\n",
    "    try:\n",
    "        time.sleep(sleep_time)\n",
    "    except KeyboardInterrupt:\n",
    "        print(\"Abort\")\n",
    "        break\n",
    "    \n",
    "tel_on = widgets.Valid(\n",
    "    value=not tmc_central_node.telescopeState,\n",
    "    description=\"Telescope ON\",\n",
    "    layout=widgets.Layout(width='60%'),\n",
    "    style = {'description_width': 'initial'}\n",
    ")\n",
    "display(tel_on)"
   ]
  },
  {
   "cell_type": "markdown",
   "id": "acf29c6b",
   "metadata": {},
   "source": [
    "# Assign Resources"
   ]
  },
  {
   "cell_type": "code",
   "execution_count": null,
   "id": "17f0e85e",
   "metadata": {},
   "outputs": [],
   "source": [
    "# Assign Resources\n",
    "\n",
    "print(f\"SDP subarray is {sdp_subarray.state()}\")\n",
    "sdp_sub_w = widgets.Valid(\n",
    "    value=sdp_subarray.state(),\n",
    "    description=\"SDP subarray\",\n",
    "    layout=widgets.Layout(width='60%'),\n",
    "    style = {'description_width': 'initial'}\n",
    ")\n",
    "display(sdp_sub_w)\n",
    "\n",
    "time.sleep(3)\n",
    "\n",
    "print(\n",
    "    \"Running the AssignResources command: subarray obsstate should go to Idle and receptor IDs should be assigned\"\n",
    ")\n",
    "\n",
    "with open(ASSIGN_RESOURCES_FILE, encoding=\"utf-8\") as f:\n",
    "    assign_resources_json = json.load(f)\n",
    "    assign_resources_json[\"dish\"][\"receptor_ids\"] = RECEPTORS\n",
    "    assign_resources_json[\"sdp\"][\"resources\"][\"receptors\"] = RECEPTORS\n",
    "    assign_resources_json['sdp']['processing_blocks'][0]['parameters'][\n",
    "        'queue_connector_configuration'\n",
    "    ]['exchanges'][0]['source']['servers'] = KAFKA_ENDPOINT\n",
    "    assign_resources_json['sdp']['processing_blocks'][0]['parameters'][\n",
    "        'extra_helm_values'\n",
    "    ]['receiver']['options']['reception']['stats_receiver_kafka_config'] = \\\n",
    "        f\"{KAFKA_ENDPOINT}:json_workflow_state\"  \n",
    "\n",
    "# print(f\"\\nAssign_resources_json file contents: \\n{assign_resources_json}\")\n",
    "\n",
    "try:\n",
    "    tmc_subarray.AssignResources(json.dumps(assign_resources_json))\n",
    "    res_ok = True\n",
    "except tango.DevFailed as t_err:\n",
    "    err_msg: str = t_err.args[0].desc.strip()\n",
    "    # print(f\"Could not assign resources: {err_msg}\")\n",
    "    show_errorbox(err_msg)\n",
    "    res_ok = False\n",
    "\n",
    "time.sleep(2)\n",
    "tmc_sub_table = \"<table>\"\n",
    "tmc_sub_table += f\"<tr><td>Subarray Observation State</td><td>{tmc_subarray.obsState}</td></tr>\"\n",
    "tmc_sub_table += f\"<tr><td>Subarray Receptors</td><td>{cbf_subarray.receptors}</td></tr>\"\n",
    "tmc_sub_table += \"</table>\"\n",
    "tmc_sub_table_w = widgets.HTML(\n",
    "    value=tmc_sub_table,\n",
    "    placeholder='CBF status',\n",
    "    description='CBF',\n",
    ")\n",
    "display(tmc_sub_table_w)\n",
    "\n",
    "res_ok_w = widgets.Valid(\n",
    "    value=res_ok,\n",
    "    description=\"Resources\",\n",
    "    layout=widgets.Layout(width='60%'),\n",
    "    style = {'description_width': 'initial'}\n",
    ")\n",
    "display(res_ok_w)"
   ]
  },
  {
   "cell_type": "markdown",
   "id": "de3991bf",
   "metadata": {},
   "source": [
    "## Deploy dishes"
   ]
  },
  {
   "cell_type": "code",
   "execution_count": null,
   "id": "0546542b",
   "metadata": {},
   "outputs": [],
   "source": [
    "from astropy.time import Time\n",
    "from tango import DeviceProxy\n",
    "\n",
    "dish_deployments = [f\"tango://tango-databaseds.{SKA001_NAMESPACE}.svc.miditf.internal.skao.int:10000/mid-dish/dish-manager/SKA001\", \n",
    "                    f\"tango://tango-databaseds.{SKA036_NAMESPACE}.svc.miditf.internal.skao.int:10000/mid-dish/dish-manager/SKA036\"]\n",
    "\n",
    "\n",
    "def get_tai_from_unix_s(unix_s: float) -> float:\n",
    "    \"\"\"\n",
    "    Calculate atomic time in seconds from unix time in seconds.\n",
    "\n",
    "    :param unix_s: Unix time in seconds\n",
    "\n",
    "    :return: atomic time (tai) in seconds\n",
    "    \"\"\"\n",
    "    astropy_time_utc = Time(unix_s, format=\"unix\")\n",
    "    return astropy_time_utc.unix_tai\n",
    "\n",
    "dish_w = widgets.IntProgress(\n",
    "    value=0,\n",
    "    min=0,\n",
    "    max=len(dish_deployments),\n",
    "    description='Dish deploy',\n",
    "    bar_style='', # 'success', 'info', 'warning', 'danger' or ''\n",
    "    style={'bar_color': 'maroon'},\n",
    "    orientation='horizontal'\n",
    ")\n",
    "display(dish_w)\n",
    "\n",
    "n = 0\n",
    "for dish in dish_deployments:\n",
    "    n += 1\n",
    "    dish_w.value = n\n",
    "    dish_manager_proxy = DeviceProxy(dish)\n",
    "    current_pointing = dish_manager_proxy.achievedPointing\n",
    "    current_az = current_pointing[1]\n",
    "    current_el = current_pointing[2]\n",
    "\n",
    "    current_time_tai_s = get_tai_from_unix_s(time.time() + 120)\n",
    "\n",
    "    # Directions to move values\n",
    "    az_dir = 1 if current_az < 350 else -1\n",
    "    el_dir = 1 if current_el < 80 else -1\n",
    "\n",
    "    track_table = [\n",
    "        current_time_tai_s + 3,\n",
    "        current_az + 1 * az_dir,\n",
    "        current_el + 1 * el_dir,\n",
    "        current_time_tai_s + 5,\n",
    "        current_az + 2 * az_dir,\n",
    "        current_el + 2 * el_dir,\n",
    "        current_time_tai_s + 7,\n",
    "        current_az + 3 * az_dir,\n",
    "        current_el + 3 * el_dir,\n",
    "        current_time_tai_s + 9,\n",
    "        current_az + 4 * az_dir,\n",
    "        current_el + 4 * el_dir,\n",
    "        current_time_tai_s + 11,\n",
    "        current_az + 5 * az_dir,\n",
    "        current_el + 5 * el_dir,\n",
    "    ]\n",
    "\n",
    "    dish_manager_proxy.programTrackTable = track_table\n",
    "    dish_ok_w = widgets.Valid(\n",
    "        value=res_ok,\n",
    "        description=f\"Dish {str(dish)}\",\n",
    "        layout=widgets.Layout(width='60%'),\n",
    "        style = {'description_width': 'initial'}\n",
    "    )\n",
    "    display(dish_ok_w)\n"
   ]
  },
  {
   "cell_type": "markdown",
   "id": "17160faf",
   "metadata": {},
   "source": [
    "### Slew the dishes to near the start of track to avoid tracking timing errors"
   ]
  },
  {
   "cell_type": "code",
   "execution_count": null,
   "id": "2c4cbd39",
   "metadata": {},
   "outputs": [],
   "source": [
    "dish_manager_ska001.slew([181.0,31.0])\n",
    "dish_manager_ska036.slew([181.0,31.0])\n",
    "\n",
    "slew_max = 30\n",
    "\n",
    "slew001_w = widgets.IntProgress(\n",
    "    value=0,\n",
    "    min=0,\n",
    "    max=slew_max,\n",
    "    description='Slew 001',\n",
    "    bar_style='', # 'success', 'info', 'warning', 'danger' or ''\n",
    "    style={'bar_color': 'maroon'},\n",
    "    orientation='horizontal'\n",
    ")\n",
    "display(slew001_w)\n",
    "\n",
    "slew001_ok = False\n",
    "for n in range(0, slew_max):\n",
    "    slew001_w.value = n\n",
    "    if dish_manager_ska001.achievedpointing[1] != 181.0 or dish_manager_ska001.achievedpointing[2] != 31.0:\n",
    "        slew001_ok = True\n",
    "        break\n",
    "    time.sleep(1)\n",
    "\n",
    "slew001_ok_w = widgets.Valid(\n",
    "    value=slew001_ok,\n",
    "    description=\"Slew 001 OK\",\n",
    "    layout=widgets.Layout(width='60%'),\n",
    "    style = {'description_width': 'initial'}\n",
    ")\n",
    "display(slew001_ok_w)\n",
    "\n",
    "slew036_w = widgets.IntProgress(\n",
    "    value=0,\n",
    "    min=0,\n",
    "    max=slew_max,\n",
    "    description='Slew 036',\n",
    "    bar_style='', # 'success', 'info', 'warning', 'danger' or ''\n",
    "    style={'bar_color': 'maroon'},\n",
    "    orientation='horizontal'\n",
    ")\n",
    "display(slew036_w)\n",
    "\n",
    "slew036_ok = False\n",
    "for n in range(0, slew_max):\n",
    "    slew036_w.value = n \n",
    "    if dish_manager_ska036.achievedpointing[1] != 181.0 or dish_manager_ska036.achievedpointing[2] != 31.0:\n",
    "        slew036_ok = True    \n",
    "    time.sleep(1)\n",
    "\n",
    "slew036_ok_w = widgets.Valid(\n",
    "    value=slew036_ok,\n",
    "    description=\"Slew 036 OK\",\n",
    "    layout=widgets.Layout(width='60%'),\n",
    "    style = {'description_width': 'initial'}\n",
    ")\n",
    "display(slew036_ok_w)\n",
    "# print(\"Done slewing\")"
   ]
  },
  {
   "cell_type": "markdown",
   "id": "4ec206a1",
   "metadata": {},
   "source": [
    "## Start Scan"
   ]
  },
  {
   "cell_type": "markdown",
   "id": "0e04d6ac",
   "metadata": {},
   "source": [
    "### Configure Scan"
   ]
  },
  {
   "cell_type": "code",
   "execution_count": null,
   "id": "fd32216c",
   "metadata": {},
   "outputs": [],
   "source": [
    "# Configure Scan\n",
    "# print(\"Running the Configure command: subarray obsstate should go to Ready\")\n",
    "\n",
    "with open(CONFIGURE_SCAN_FILE, encoding=\"utf-8\") as f:\n",
    "    configure_scan_json = json.load(f)\n",
    "\n",
    "# for key in configure_scan_json:\n",
    "#     print(f\"{key} {configure_scan_json[key]}\")\n",
    "\n",
    "# print(json.dumps(configure_scan_json))\n",
    "\n",
    "show_textbox(configure_scan_json[\"pointing\"][\"target\"][\"target_name\"], \"Target\")\n",
    "show_textbox(str(configure_scan_json[\"tmc\"][\"scan_duration\"]), \"Duration\")\n",
    "\n",
    "try:\n",
    "    tmc_subarray.Configure(json.dumps(configure_scan_json))\n",
    "except tango.DevFailed as t_err:\n",
    "    err_msg: str = t_err.args[0].desc.strip()\n",
    "    # print(f\"Could not configure scan: {err_msg}\")\n",
    "    show_errorbox(err_msg)\n",
    "    res_ok = False\n",
    "    \n",
    "time.sleep(12)\n",
    "try:\n",
    "    obs_state = str(sdp_subarray_leaf_node_dp.sdpSubarrayObsState)\n",
    "except AttributeError:\n",
    "    obs_state = \"ERROR\"\n",
    "except tango.DevFailed as t_err:\n",
    "    err_msg: str = t_err.args[0].desc.strip()\n",
    "    # print(f\"Could not read SDP Leaf obs state: {err_msg}\")\n",
    "    show_errorbox(err_msg)\n",
    "    obs_state = \"ERROR\"\n",
    "show_textbox(obs_state, \"SDP Leaf\")\n",
    "\n",
    "try:\n",
    "    obs_state = str(csp_subarray_leaf_node_dp.cspSubarrayObsState)\n",
    "except AttributeError:\n",
    "    obs_state = \"ERROR\"\n",
    "except tango.DevFailed as t_err:\n",
    "    err_msg: str = t_err.args[0].desc.strip()\n",
    "    # print(f\"Could not read CSP Leaf obs state: {err_msg}\")\n",
    "    show_errorbox(err_msg)\n",
    "    obs_state = \"ERROR\"\n",
    "show_textbox(obs_state, \"CSP Leaf\")\n"
   ]
  },
  {
   "cell_type": "markdown",
   "id": "01442e4a",
   "metadata": {},
   "source": [
    "### Start scan"
   ]
  },
  {
   "cell_type": "code",
   "execution_count": null,
   "id": "f8e83361",
   "metadata": {},
   "outputs": [],
   "source": [
    "# TMC LEAF NODE HACK TO GET AROUND TMC SUBARRAY STUCK IN CONFIGURING\n",
    "with open(\"../../data/mid_telescope/tmc/scan.json\", \"r\", encoding=\"utf-8\") as json_data:\n",
    "    d = json.load(json_data)\n",
    "    try:\n",
    "        sdp_scan = d[\"sdp\"]\n",
    "        print(f'SDP interface {sdp_scan[\"interface\"]}')\n",
    "        sdp_subarray_leaf_node_dp.scan(json.dumps(sdp_scan))\n",
    "    except KeyError:\n",
    "        # print(\"Could not read SDP data\")\n",
    "        show_errorbox(\"Could not read SDP data\")\n",
    "        res_ok = False\n",
    "    except tango.DevFailed as t_err:\n",
    "        err_msg: str = t_err.args[0].desc.strip()\n",
    "        # print(f\"Could not do SDP scan: {err_msg}\\n\")\n",
    "        show_errorbox(err_msg)\n",
    "        res_ok = False\n",
    "\n",
    "time.sleep(10)\n",
    "show_textbox(str(sdp_subarray_leaf_node_dp.sdpSubarrayObsState), \"SDP Leaf\")\n",
    "\n",
    "with open(\"../../data/mid_telescope/tmc/scan.json\", \"r\", encoding=\"utf-8\") as json_data:\n",
    "    d = json.load(json_data)\n",
    "    try:\n",
    "        csp_scan = d[\"csp\"]\n",
    "        print(f'CSP interface {csp_scan[\"interface\"]}')\n",
    "        csp_subarray_leaf_node_dp.scan(json.dumps(csp_scan))\n",
    "    except KeyError:\n",
    "        # print(\"Could not read CSP data\")\n",
    "        show_errorbox(\"Could not read csp data\")\n",
    "        res_ok = False\n",
    "    except tango.DevFailed as t_err:\n",
    "        err_msg: str = t_err.args[0].desc.strip()\n",
    "        # print(f\"Could not do CSP scan: {err_msg}\\n\")\n",
    "        show_errorbox(err_msg)\n",
    "        res_ok = False\n",
    "\n",
    "time.sleep(2)\n",
    "show_textbox(str(csp_subarray_leaf_node_dp.cspSubarrayObsState), \"CSP Leaf\")"
   ]
  },
  {
   "cell_type": "markdown",
   "id": "00c76390",
   "metadata": {},
   "source": [
    "### Check subarrays"
   ]
  },
  {
   "cell_type": "code",
   "execution_count": null,
   "id": "ec81ed4c",
   "metadata": {},
   "outputs": [],
   "source": [
    "# Wait about 5 seconds and show subarrays\n",
    "cbf_prog_w = widgets.IntProgress(\n",
    "    value=0,\n",
    "    min=0,\n",
    "    max=5,\n",
    "    description='Subarrays',\n",
    "    bar_style='', # 'success', 'info', 'warning', 'danger' or ''\n",
    "    style={'bar_color': 'maroon'},\n",
    "    orientation='horizontal'\n",
    ")\n",
    "display(dish_w)\n",
    "\n",
    "for n in range(1,6):\n",
    "    cbf_prog_w.value = n\n",
    "    time.sleep(1)\n",
    "\n",
    "show_textbox(str(cbf_subarray.obsState), \"CBF Subarray Observation\")\n",
    "show_textbox(str(sdp_subarray_leaf_node_dp.sdpSubarrayObsState), \"SDP Subarray Observation\")\n",
    "show_textbox(str(csp_subarray_leaf_node_dp.cspSubarrayObsState), \"CSP Subarray Observation\")\n",
    "cbf_sub_valid = (cbf_subarray.obsState == 4) and (sdp_subarray_leaf_node_dp.sdpSubarrayObsState == 4) and (csp_subarray_leaf_node_dp.cspSubarrayObsState == 4)\n",
    "cbf_sub_w = widgets.Valid(\n",
    "    value=cbf_sub_valid,\n",
    "    description=\"CSP Subarray\",\n",
    "    layout=widgets.Layout(width='60%'),\n",
    "    style = {'description_width': 'initial'}\n",
    ")\n",
    "display(cbf_sub_w)"
   ]
  },
  {
   "cell_type": "markdown",
   "id": "4df244eb",
   "metadata": {},
   "source": [
    "### End scan"
   ]
  },
  {
   "cell_type": "code",
   "execution_count": null,
   "id": "45bbcda4",
   "metadata": {},
   "outputs": [],
   "source": [
    "# TMC LEAF NODE HACK TO GET AROUND TMC SUBARRAY STUCK IN CONFIGURING\n",
    "# print(\"Running the End Scan command: subarray obsstate should go to Ready state\")\n",
    "\n",
    "try:\n",
    "    sdp_subarray_leaf_node_dp.EndScan()\n",
    "except tango.DevFailed as t_err:\n",
    "    err_msg: str = t_err.args[0].desc.strip()\n",
    "    # print(f\"Could not end SDP scan: {err_msg}\\n\")\n",
    "    show_errorbox(err_msg)\n",
    "time.sleep(2)\n",
    "try:\n",
    "    csp_subarray_leaf_node_dp.EndScan()\n",
    "except tango.DevFailed as t_err:\n",
    "    err_msg: str = t_err.args[0].desc.strip()\n",
    "    # print(f\"Could not end CSP scan: {err_msg}\\n\")\n",
    "    show_errorbox(err_msg)\n",
    "    \n",
    "show_textbox(str(sdp_subarray_leaf_node_dp.sdpSubarrayObsState), \"SDP Leaf ObsState\")\n",
    "show_textbox(str(csp_subarray_leaf_node_dp.cspSubarrayObsState), \"CSP Leaf ObsState\")\n"
   ]
  },
  {
   "cell_type": "markdown",
   "id": "d7d8a784",
   "metadata": {},
   "source": [
    "## End"
   ]
  },
  {
   "cell_type": "markdown",
   "id": "8642c4a0",
   "metadata": {},
   "source": [
    "### Run the End command"
   ]
  },
  {
   "cell_type": "code",
   "execution_count": null,
   "id": "218fe54a",
   "metadata": {},
   "outputs": [],
   "source": [
    "# TMC LEAF NODE HACK TO GET AROUND TMC SUBARRAY STUCK IN CONFIGURING\n",
    "print(\"Running the End command: subarray obsstate should go to Idle state\")\n",
    "\n",
    "try:\n",
    "    sdp_subarray_leaf_node_dp.End()\n",
    "except tango.DevFailed as t_err:\n",
    "    err_msg: str = t_err.args[0].desc.strip()\n",
    "    # print(f\"Could not end SDP: {err_msg}\")\n",
    "    show_errorbox(err_msg)\n",
    "time.sleep(2)\n",
    "try:\n",
    "    csp_subarray_leaf_node_dp.End()\n",
    "except tango.DevFailed as t_err:\n",
    "    err_msg: str = t_err.args[0].desc.strip()\n",
    "    # print(f\"Could not end CSP: {err_msg}\")\n",
    "    show_errorbox(err_msg)\n",
    "\n",
    "time.sleep(2)\n",
    "show_textbox(str(sdp_subarray_leaf_node_dp.sdpSubarrayObsState), \"SDP Sub ObsState\")\n",
    "show_textbox(str(csp_subarray_leaf_node_dp.cspSubarrayObsState), \"CSP Sub ObsState\")\n"
   ]
  },
  {
   "cell_type": "markdown",
   "id": "1cf32345",
   "metadata": {},
   "source": [
    "### Release All Resources"
   ]
  },
  {
   "cell_type": "code",
   "execution_count": null,
   "id": "497836e3",
   "metadata": {},
   "outputs": [],
   "source": [
    "# TMC LEAF NODE HACK TO GET AROUND TMC SUBARRAY STUCK IN CONFIGURING\n",
    "print(\n",
    "    \"Running the Release All Resources command: subarray obsstate should go to Empty state and receptor IDs should be empty\"\n",
    ")\n",
    "\n",
    "try:\n",
    "    sdp_subarray_leaf_node_dp.ReleaseAllResources()\n",
    "except tango.DevFailed as t_err:\n",
    "    err_msg: str = t_err.args[0].desc.strip()\n",
    "    print(f\"Could not relase SDP: {err_msg}\")\n",
    "time.sleep(2)\n",
    "try:\n",
    "    csp_subarray_leaf_node_dp.ReleaseAllResources()\n",
    "except tango.DevFailed as t_err:\n",
    "    err_msg: str = t_err.args[0].desc.strip()\n",
    "    # print(f\"Could not relase CSP: {err_msg}\")\n",
    "    show_errorbox(err_msg)\n",
    "\n",
    "time.sleep(2)\n",
    "\n",
    "show_textbox(str(sdp_subarray_leaf_node_dp.sdpSubarrayObsState), \"SDP Sub ObsState\")\n",
    "show_textbox(str(csp_subarray_leaf_node_dp.cspSubarrayObsState), \"CSP Sub ObsState\")"
   ]
  },
  {
   "cell_type": "markdown",
   "id": "e17d83b6",
   "metadata": {},
   "source": [
    "### Run the Telescope Off command"
   ]
  },
  {
   "cell_type": "code",
   "execution_count": null,
   "id": "4427e798",
   "metadata": {},
   "outputs": [],
   "source": [
    "# Telescope Off\n",
    "# print(\"Running the TelescopeOff command\")\n",
    "\n",
    "tel_off = False\n",
    "try:\n",
    "    tmc_central_node.TelescopeOff()\n",
    "    tel_off = True\n",
    "except tango.DevFailed as t_err:\n",
    "    err_msg: str = t_err.args[0].desc.strip()\n",
    "    # print(f\"Could not turn telescope off: {err_msg}\")\n",
    "    show_errorbox(err_msg)\n",
    "    \n",
    "tel_off_w = widgets.Valid(\n",
    "    value=tel_off,\n",
    "    description=\"Telescope OFF\",\n",
    "    layout=widgets.Layout(width='60%'),\n",
    "    style = {'description_width': 'initial'}\n",
    ")\n",
    "display(tel_off_w)\n",
    "\n",
    "time.sleep(5)\n",
    "show_textbox(tmc_central_node.Status(), \"TMC Central Node\")\n",
    "show_textbox(csp_control.Status(), \"CSP Control\")\n",
    "show_textbox(cbf_controller.Status(), \"CBF Controller\")"
   ]
  },
  {
   "cell_type": "code",
   "execution_count": null,
   "id": "9606eb74",
   "metadata": {},
   "outputs": [],
   "source": []
  }
 ],
 "metadata": {
  "celltoolbar": "Edit Metadata",
  "hide_input": false,
  "kernelspec": {
   "display_name": "Python 3 (ipykernel)",
   "language": "python",
   "name": "python3"
  },
  "language_info": {
   "codemirror_mode": {
    "name": "ipython",
    "version": 3
   },
   "file_extension": ".py",
   "mimetype": "text/x-python",
   "name": "python",
   "nbconvert_exporter": "python",
   "pygments_lexer": "ipython3",
   "version": "3.10.12"
  },
  "widgets": {
   "application/vnd.jupyter.widget-state+json": {
    "state": {
     "009c39240a8b469d8ebf5b359de0cd30": {
      "model_module": "@jupyter-widgets/controls",
      "model_module_version": "2.0.0",
      "model_name": "DescriptionStyleModel",
      "state": {
       "description_width": "initial"
      }
     },
     "00e707233ab34d89b811d7c49cd415d5": {
      "model_module": "@jupyter-widgets/controls",
      "model_module_version": "2.0.0",
      "model_name": "DescriptionStyleModel",
      "state": {
       "description_width": "initial"
      }
     },
     "01af336614ed40a4a9f64050c6ee3c78": {
      "model_module": "@jupyter-widgets/controls",
      "model_module_version": "2.0.0",
      "model_name": "TextModel",
      "state": {
       "description": "CSP Leaf ObsState",
       "disabled": true,
       "layout": "IPY_MODEL_fbef360b8dd34dd9ad1bc417febb2356",
       "style": "IPY_MODEL_410aa97370dd446e8eb870312d7fd3e9",
       "value": "cspSubarrayObsState.EMPTY"
      }
     },
     "01d951645cab4321997495ddba2aeb15": {
      "model_module": "@jupyter-widgets/base",
      "model_module_version": "2.0.0",
      "model_name": "LayoutModel",
      "state": {}
     },
     "03257d1eca664d6d8b94b26e13d3a83c": {
      "model_module": "@jupyter-widgets/controls",
      "model_module_version": "2.0.0",
      "model_name": "ValidModel",
      "state": {
       "description": "TMC CSP master online",
       "layout": "IPY_MODEL_6a81d5b1fd314dcc854219f8f040ceef",
       "style": "IPY_MODEL_17fed70312824036bceaef127dcb97e2",
       "value": true
      }
     },
     "036ab99822b048e89253d9273f269531": {
      "model_module": "@jupyter-widgets/controls",
      "model_module_version": "2.0.0",
      "model_name": "HTMLStyleModel",
      "state": {
       "description_width": "",
       "font_size": null,
       "text_color": null
      }
     },
     "0456927e989a4753b2575496c2e494b2": {
      "model_module": "@jupyter-widgets/controls",
      "model_module_version": "2.0.0",
      "model_name": "TextStyleModel",
      "state": {
       "description_width": "",
       "font_size": null,
       "text_color": null
      }
     },
     "0534eef6ba1f4777bae12e31384914f5": {
      "model_module": "@jupyter-widgets/base",
      "model_module_version": "2.0.0",
      "model_name": "LayoutModel",
      "state": {
       "height": "200px",
       "width": "75%"
      }
     },
     "0547a50c046340909d9647e31f38a327": {
      "model_module": "@jupyter-widgets/controls",
      "model_module_version": "2.0.0",
      "model_name": "ValidModel",
      "state": {
       "description": "CSP subarray admin",
       "layout": "IPY_MODEL_aaae6819c8994254823549d1b3113be8",
       "style": "IPY_MODEL_66c7394b78984d419351a8f888a58a4f"
      }
     },
     "05bc0d3d9f374d3480c43631cc41e45a": {
      "model_module": "@jupyter-widgets/controls",
      "model_module_version": "2.0.0",
      "model_name": "CheckboxStyleModel",
      "state": {
       "description_width": ""
      }
     },
     "0604e5b1623e430bbf6d0b77f4345ba4": {
      "model_module": "@jupyter-widgets/controls",
      "model_module_version": "2.0.0",
      "model_name": "TextModel",
      "state": {
       "description": "SDP Sub ObsState",
       "disabled": true,
       "layout": "IPY_MODEL_e5e9b6ec6296421fa7a4c0119f1c7b50",
       "style": "IPY_MODEL_af59198590b04807aee2f2a0ff810de6",
       "value": "sdpSubarrayObsState.EMPTY"
      }
     },
     "071a32721ab14b9ebbd4b2f2af2fe42f": {
      "model_module": "@jupyter-widgets/controls",
      "model_module_version": "2.0.0",
      "model_name": "IntProgressModel",
      "state": {
       "description": "Loading:",
       "layout": "IPY_MODEL_2b064f7078c347b297ce82370a299509",
       "max": 2,
       "style": "IPY_MODEL_71330f0e69f744018d16e59bdfe1396c",
       "value": 2
      }
     },
     "073121a839274d629e1cfecafe16d82a": {
      "model_module": "@jupyter-widgets/base",
      "model_module_version": "2.0.0",
      "model_name": "LayoutModel",
      "state": {}
     },
     "07b3c30974f94fcd8b85622dcd60c4f4": {
      "model_module": "@jupyter-widgets/controls",
      "model_module_version": "2.0.0",
      "model_name": "CheckboxStyleModel",
      "state": {
       "description_width": ""
      }
     },
     "09e2a6efbc0a41a8ad84d7a306d5ace4": {
      "model_module": "@jupyter-widgets/controls",
      "model_module_version": "2.0.0",
      "model_name": "IntProgressModel",
      "state": {
       "description": "Loading:",
       "layout": "IPY_MODEL_7c30ec601cbb4ee2aaa67ea38658f5c0",
       "max": 2,
       "style": "IPY_MODEL_1a10dc82d178441ebc4222c38d5ce84e",
       "value": 2
      }
     },
     "0a6a6b87470546a6884190b1f6050767": {
      "model_module": "@jupyter-widgets/base",
      "model_module_version": "2.0.0",
      "model_name": "LayoutModel",
      "state": {}
     },
     "0ae5ac6def3f42c8808df77d7486179e": {
      "model_module": "@jupyter-widgets/controls",
      "model_module_version": "2.0.0",
      "model_name": "DescriptionStyleModel",
      "state": {
       "description_width": "initial"
      }
     },
     "0b683e6c30dc4ba9a03fe0a4f189789b": {
      "model_module": "@jupyter-widgets/base",
      "model_module_version": "2.0.0",
      "model_name": "LayoutModel",
      "state": {
       "width": "60%"
      }
     },
     "0cb2529eaa384d3b9cc2f174ad7ea1ba": {
      "model_module": "@jupyter-widgets/base",
      "model_module_version": "2.0.0",
      "model_name": "LayoutModel",
      "state": {}
     },
     "0cd5b40839994658ace03177c9697b12": {
      "model_module": "@jupyter-widgets/controls",
      "model_module_version": "2.0.0",
      "model_name": "TextModel",
      "state": {
       "description": "SDP Leaf",
       "disabled": true,
       "layout": "IPY_MODEL_11f39369283e40b8b3217475e7b9556f",
       "style": "IPY_MODEL_4637455a4fb4489abca25133fbab621e",
       "value": "sdpSubarrayObsState.IDLE"
      }
     },
     "0e86a94b143a4748b1c431b64879d51a": {
      "model_module": "@jupyter-widgets/controls",
      "model_module_version": "2.0.0",
      "model_name": "TextStyleModel",
      "state": {
       "description_width": "",
       "font_size": null,
       "text_color": null
      }
     },
     "0f211b94dd4f4610b08a4df7f25b4123": {
      "model_module": "@jupyter-widgets/controls",
      "model_module_version": "2.0.0",
      "model_name": "ProgressStyleModel",
      "state": {
       "bar_color": "maroon",
       "description_width": ""
      }
     },
     "0f5d54919f2d46e4acfa35db825b5987": {
      "model_module": "@jupyter-widgets/controls",
      "model_module_version": "2.0.0",
      "model_name": "DescriptionStyleModel",
      "state": {
       "description_width": "initial"
      }
     },
     "102915866f50441ba56e44880fbc1be3": {
      "model_module": "@jupyter-widgets/base",
      "model_module_version": "2.0.0",
      "model_name": "LayoutModel",
      "state": {
       "width": "60%"
      }
     },
     "108c188889264213bf9e6ac93b447f44": {
      "model_module": "@jupyter-widgets/base",
      "model_module_version": "2.0.0",
      "model_name": "LayoutModel",
      "state": {
       "width": "60%"
      }
     },
     "109b5a4b036d46fea52870c6769d18e4": {
      "model_module": "@jupyter-widgets/controls",
      "model_module_version": "2.0.0",
      "model_name": "CheckboxStyleModel",
      "state": {
       "description_width": ""
      }
     },
     "10f39768312a4f668432c848851998a5": {
      "model_module": "@jupyter-widgets/controls",
      "model_module_version": "2.0.0",
      "model_name": "TextModel",
      "state": {
       "description": "CSP Sub ObsState",
       "disabled": true,
       "layout": "IPY_MODEL_29b269f1f85745ed9aa802663ff35ea6",
       "style": "IPY_MODEL_329db09d635348508c1cf3d4d60aaf24",
       "value": "cspSubarrayObsState.EMPTY"
      }
     },
     "11f39369283e40b8b3217475e7b9556f": {
      "model_module": "@jupyter-widgets/base",
      "model_module_version": "2.0.0",
      "model_name": "LayoutModel",
      "state": {
       "width": "60%"
      }
     },
     "11fa87641d1641618d54e637617538a7": {
      "model_module": "@jupyter-widgets/base",
      "model_module_version": "2.0.0",
      "model_name": "LayoutModel",
      "state": {
       "width": "60%"
      }
     },
     "11ff19491c6941ecad9266d73a33455f": {
      "model_module": "@jupyter-widgets/controls",
      "model_module_version": "2.0.0",
      "model_name": "CheckboxModel",
      "state": {
       "description": "TMC subarray admin",
       "disabled": false,
       "indent": false,
       "layout": "IPY_MODEL_0a6a6b87470546a6884190b1f6050767",
       "style": "IPY_MODEL_53d3b2f6793641f08bc6fd447bb15632",
       "value": false
      }
     },
     "1224827e5b434cfd8579592198f4e84b": {
      "model_module": "@jupyter-widgets/controls",
      "model_module_version": "2.0.0",
      "model_name": "ValidModel",
      "state": {
       "description": "CBF subarray online",
       "layout": "IPY_MODEL_3d7797331d3b4eb0a155b5837cdc3f62",
       "style": "IPY_MODEL_eb354b2af7a648aabdb8c310366c032e",
       "value": true
      }
     },
     "12fb0ba75c8b407f914b41d73ff01463": {
      "model_module": "@jupyter-widgets/controls",
      "model_module_version": "2.0.0",
      "model_name": "IntProgressModel",
      "state": {
       "description": "Subarrays",
       "layout": "IPY_MODEL_9493580a176c496487b7f8d0bbad1e1b",
       "max": 5,
       "style": "IPY_MODEL_29642a9aed0642a9ae3091b5ad793ed9",
       "value": 5
      }
     },
     "135f5ce47a574a01a0d9eeec02034350": {
      "model_module": "@jupyter-widgets/controls",
      "model_module_version": "2.0.0",
      "model_name": "CheckboxStyleModel",
      "state": {
       "description_width": ""
      }
     },
     "13804f7107744d66933cc6332a14b6e5": {
      "model_module": "@jupyter-widgets/base",
      "model_module_version": "2.0.0",
      "model_name": "LayoutModel",
      "state": {
       "width": "60%"
      }
     },
     "1380a422173d4201911d6ddd4e7ad588": {
      "model_module": "@jupyter-widgets/base",
      "model_module_version": "2.0.0",
      "model_name": "LayoutModel",
      "state": {
       "width": "60%"
      }
     },
     "13e772db81eb49f991e5fbb0785188ee": {
      "model_module": "@jupyter-widgets/controls",
      "model_module_version": "2.0.0",
      "model_name": "CheckboxStyleModel",
      "state": {
       "description_width": ""
      }
     },
     "13fbc8e024a24bef951ebf91567cdfdd": {
      "model_module": "@jupyter-widgets/controls",
      "model_module_version": "2.0.0",
      "model_name": "DescriptionStyleModel",
      "state": {
       "description_width": "initial"
      }
     },
     "14c9ee081fae46adaa0d10f054d9dff1": {
      "model_module": "@jupyter-widgets/base",
      "model_module_version": "2.0.0",
      "model_name": "LayoutModel",
      "state": {}
     },
     "1529288f3e09459b80d1435dcda5f2b2": {
      "model_module": "@jupyter-widgets/controls",
      "model_module_version": "2.0.0",
      "model_name": "ValidModel",
      "state": {
       "description": "SDP subarray",
       "layout": "IPY_MODEL_463a19dd01ea4c12b026ef65049edae1",
       "style": "IPY_MODEL_1f42dddb7eba4e58bdc6b0f5851f685f"
      }
     },
     "15385dfeb3b242c2b3a132db07fd70d8": {
      "model_module": "@jupyter-widgets/base",
      "model_module_version": "2.0.0",
      "model_name": "LayoutModel",
      "state": {
       "width": "60%"
      }
     },
     "155c92e0d4414ee4bbcc3d099ff5570f": {
      "model_module": "@jupyter-widgets/base",
      "model_module_version": "2.0.0",
      "model_name": "LayoutModel",
      "state": {
       "width": "60%"
      }
     },
     "1584b4084d4f4e9f87909816b42854c9": {
      "model_module": "@jupyter-widgets/controls",
      "model_module_version": "2.0.0",
      "model_name": "IntProgressModel",
      "state": {
       "description": "Loading:",
       "layout": "IPY_MODEL_6f028b61cb2d406a8f36a6c9144acdec",
       "max": 2,
       "style": "IPY_MODEL_c1d47935cbb1476fa56013c49d09835a",
       "value": 2
      }
     },
     "16268f1d854a4fd0a280d1fca213e1a4": {
      "model_module": "@jupyter-widgets/base",
      "model_module_version": "2.0.0",
      "model_name": "LayoutModel",
      "state": {
       "width": "60%"
      }
     },
     "163073e043cb4bb982aeae23b57bbf32": {
      "model_module": "@jupyter-widgets/controls",
      "model_module_version": "2.0.0",
      "model_name": "TextStyleModel",
      "state": {
       "description_width": "",
       "font_size": null,
       "text_color": null
      }
     },
     "1747c898ebb54f9eb6b40ed21bd05dd0": {
      "model_module": "@jupyter-widgets/controls",
      "model_module_version": "2.0.0",
      "model_name": "CheckboxModel",
      "state": {
       "description": "Dish manager SKA001 admin",
       "disabled": false,
       "indent": false,
       "layout": "IPY_MODEL_73fce36a1060476ca9119348377eea3f",
       "style": "IPY_MODEL_ab5db0bfa6d647f780acb7c4bcf6a346",
       "value": false
      }
     },
     "17fed70312824036bceaef127dcb97e2": {
      "model_module": "@jupyter-widgets/controls",
      "model_module_version": "2.0.0",
      "model_name": "DescriptionStyleModel",
      "state": {
       "description_width": "initial"
      }
     },
     "1977ed61a4b142e19d7d623198a901c5": {
      "model_module": "@jupyter-widgets/controls",
      "model_module_version": "2.0.0",
      "model_name": "DescriptionStyleModel",
      "state": {
       "description_width": "initial"
      }
     },
     "1a00c74f1d1443b9afee8870b5ab33ba": {
      "model_module": "@jupyter-widgets/base",
      "model_module_version": "2.0.0",
      "model_name": "LayoutModel",
      "state": {
       "height": "200px",
       "width": "75%"
      }
     },
     "1a10dc82d178441ebc4222c38d5ce84e": {
      "model_module": "@jupyter-widgets/controls",
      "model_module_version": "2.0.0",
      "model_name": "ProgressStyleModel",
      "state": {
       "bar_color": "maroon",
       "description_width": ""
      }
     },
     "1b2fd6004959469ba3d5292736122beb": {
      "model_module": "@jupyter-widgets/controls",
      "model_module_version": "2.0.0",
      "model_name": "TextareaModel",
      "state": {
       "description": "Error",
       "layout": "IPY_MODEL_f595cfa40c7b489eac58a9714d879714",
       "placeholder": "Error message",
       "style": "IPY_MODEL_0456927e989a4753b2575496c2e494b2",
       "value": "TRANSIENT CORBA system exception: TRANSIENT_CallTimedout"
      }
     },
     "1b874fa5b81a4db9833e730d55d73b65": {
      "model_module": "@jupyter-widgets/base",
      "model_module_version": "2.0.0",
      "model_name": "LayoutModel",
      "state": {
       "width": "60%"
      }
     },
     "1caa4d74fcc5436b931af7d862972ca5": {
      "model_module": "@jupyter-widgets/controls",
      "model_module_version": "2.0.0",
      "model_name": "TextareaModel",
      "state": {
       "description": "Error",
       "layout": "IPY_MODEL_466e26533bd6482ea5cb29cf3aa3c52d",
       "placeholder": "Error message",
       "style": "IPY_MODEL_ab975d4dc2d44231a61ca53bab93dfc0",
       "value": "ska_tmc_common.exceptions.CommandNotAllowed: Dish Vcc Config not Set. Please set using LoadDishCfg command. Current Telescope State is :ON"
      }
     },
     "1d6ea098002f4da59da700a5263cc6af": {
      "model_module": "@jupyter-widgets/controls",
      "model_module_version": "2.0.0",
      "model_name": "CheckboxModel",
      "state": {
       "description": "Dish leaf 001 admin",
       "disabled": false,
       "indent": false,
       "layout": "IPY_MODEL_14c9ee081fae46adaa0d10f054d9dff1",
       "style": "IPY_MODEL_6e43ba348c5a4fa09a056cbcba3ebb59",
       "value": false
      }
     },
     "1e050b67d01449f689af1c4a764ec7b7": {
      "model_module": "@jupyter-widgets/controls",
      "model_module_version": "2.0.0",
      "model_name": "DescriptionStyleModel",
      "state": {
       "description_width": "initial"
      }
     },
     "1e22199e37264e8a9682bf428a53b79e": {
      "model_module": "@jupyter-widgets/controls",
      "model_module_version": "2.0.0",
      "model_name": "ValidModel",
      "state": {
       "description": "CBF Controller online",
       "layout": "IPY_MODEL_340f7ea6c3b14a3b8290a1078c97053a",
       "style": "IPY_MODEL_13fbc8e024a24bef951ebf91567cdfdd",
       "value": true
      }
     },
     "1ed25f79ff2648ccb90fa0973c3501ce": {
      "model_module": "@jupyter-widgets/controls",
      "model_module_version": "2.0.0",
      "model_name": "HTMLModel",
      "state": {
       "description": "CSP-LMC",
       "layout": "IPY_MODEL_40a580a641084abfa43bf21d803c3f4a",
       "placeholder": "CSP-LMC status",
       "style": "IPY_MODEL_8166bc34561d48a88b03d865669e2b5b",
       "value": "<table><tr><td>Controller</td><td>mid-csp/control/0</td></tr><tr><td> Controller admin mode</td><td>adminMode.OFFLINE</td></tr><tr><td>Controller State</td><td>DISABLE</td></tr><tr><td>Controller dish Vcc Config</td><td></td></tr><tr><td>Controller CBF Simulation Mode</td><td>True</td></tr><tr><td>Subarray</td><td>mid-csp/subarray/01</td></tr><tr><td>Subarray admin mode</td><td>adminMode.OFFLINE</td></tr><tr><td>Subarray State</td><td>DISABLE</td></tr><tr><td>Subarray observation state</td><td>obsState.EMPTY</td></tr><tr><td>Subarray dish Vcc Config</td><td></td></tr><tr><td>FSP correlator subarray</td><td>2</td></tr></table>"
      }
     },
     "1f42dddb7eba4e58bdc6b0f5851f685f": {
      "model_module": "@jupyter-widgets/controls",
      "model_module_version": "2.0.0",
      "model_name": "DescriptionStyleModel",
      "state": {
       "description_width": "initial"
      }
     },
     "215079e6764240e69bfcffdc30fa0acd": {
      "model_module": "@jupyter-widgets/controls",
      "model_module_version": "2.0.0",
      "model_name": "CheckboxModel",
      "state": {
       "description": "CSP subarray admin",
       "disabled": false,
       "indent": false,
       "layout": "IPY_MODEL_2257dc14564a46bba9704b68c7eb88bf",
       "style": "IPY_MODEL_05bc0d3d9f374d3480c43631cc41e45a",
       "value": false
      }
     },
     "219f18aa9b9e4534a8db2c984d179be0": {
      "model_module": "@jupyter-widgets/base",
      "model_module_version": "2.0.0",
      "model_name": "LayoutModel",
      "state": {
       "width": "60%"
      }
     },
     "21c817c896454235accadf001222e8c8": {
      "model_module": "@jupyter-widgets/base",
      "model_module_version": "2.0.0",
      "model_name": "LayoutModel",
      "state": {}
     },
     "21dcc5d6933a4e9ba97fe7d72c15e78f": {
      "model_module": "@jupyter-widgets/controls",
      "model_module_version": "2.0.0",
      "model_name": "ValidModel",
      "state": {
       "description": "CBF Controller online",
       "layout": "IPY_MODEL_fab130adbc614756b812cddae44015af",
       "style": "IPY_MODEL_83baba4099564689a74f3705e0239c2c",
       "value": true
      }
     },
     "221331a532064f16a5032ec6c8ea050c": {
      "model_module": "@jupyter-widgets/controls",
      "model_module_version": "2.0.0",
      "model_name": "DescriptionStyleModel",
      "state": {
       "description_width": "initial"
      }
     },
     "2257dc14564a46bba9704b68c7eb88bf": {
      "model_module": "@jupyter-widgets/base",
      "model_module_version": "2.0.0",
      "model_name": "LayoutModel",
      "state": {}
     },
     "23f0d8a459ec4222863246c19b8d1e0d": {
      "model_module": "@jupyter-widgets/controls",
      "model_module_version": "2.0.0",
      "model_name": "DescriptionStyleModel",
      "state": {
       "description_width": "initial"
      }
     },
     "2403559806b84429a23167c8fc85808b": {
      "model_module": "@jupyter-widgets/controls",
      "model_module_version": "2.0.0",
      "model_name": "TextStyleModel",
      "state": {
       "description_width": "",
       "font_size": null,
       "text_color": null
      }
     },
     "259121ab948f42689390518405fe774b": {
      "model_module": "@jupyter-widgets/controls",
      "model_module_version": "2.0.0",
      "model_name": "CheckboxStyleModel",
      "state": {
       "description_width": ""
      }
     },
     "25a2105d9f1c485c942f2788c0023da8": {
      "model_module": "@jupyter-widgets/base",
      "model_module_version": "2.0.0",
      "model_name": "LayoutModel",
      "state": {
       "width": "60%"
      }
     },
     "25b4c0435b8b4bd0b25556de90314c3e": {
      "model_module": "@jupyter-widgets/base",
      "model_module_version": "2.0.0",
      "model_name": "LayoutModel",
      "state": {}
     },
     "26db519bb6174557aa22d971222c984d": {
      "model_module": "@jupyter-widgets/base",
      "model_module_version": "2.0.0",
      "model_name": "LayoutModel",
      "state": {}
     },
     "2883773a5abb4b98ac3623951cf83a2b": {
      "model_module": "@jupyter-widgets/base",
      "model_module_version": "2.0.0",
      "model_name": "LayoutModel",
      "state": {
       "width": "60%"
      }
     },
     "2894608ce4de4b33917f7a6021a75957": {
      "model_module": "@jupyter-widgets/controls",
      "model_module_version": "2.0.0",
      "model_name": "ValidModel",
      "state": {
       "description": "Config loaded",
       "layout": "IPY_MODEL_87749639aff94e9daf3246cdf7b7cc33",
       "style": "IPY_MODEL_e1b37aa664de445e817c0b9cf542f875",
       "value": true
      }
     },
     "28f10ac925f94ae9859e4efced4357b0": {
      "model_module": "@jupyter-widgets/base",
      "model_module_version": "2.0.0",
      "model_name": "LayoutModel",
      "state": {}
     },
     "290683d07498453ca55763c58dc6d858": {
      "model_module": "@jupyter-widgets/base",
      "model_module_version": "2.0.0",
      "model_name": "LayoutModel",
      "state": {
       "height": "200px",
       "width": "75%"
      }
     },
     "29642a9aed0642a9ae3091b5ad793ed9": {
      "model_module": "@jupyter-widgets/controls",
      "model_module_version": "2.0.0",
      "model_name": "ProgressStyleModel",
      "state": {
       "bar_color": "maroon",
       "description_width": ""
      }
     },
     "29b269f1f85745ed9aa802663ff35ea6": {
      "model_module": "@jupyter-widgets/base",
      "model_module_version": "2.0.0",
      "model_name": "LayoutModel",
      "state": {
       "width": "60%"
      }
     },
     "2b064f7078c347b297ce82370a299509": {
      "model_module": "@jupyter-widgets/base",
      "model_module_version": "2.0.0",
      "model_name": "LayoutModel",
      "state": {}
     },
     "2b341b037fdb45378dd790628388cc2c": {
      "model_module": "@jupyter-widgets/controls",
      "model_module_version": "2.0.0",
      "model_name": "ProgressStyleModel",
      "state": {
       "bar_color": "maroon",
       "description_width": ""
      }
     },
     "2b819bc4a50a457884f5a54a9d600b2a": {
      "model_module": "@jupyter-widgets/controls",
      "model_module_version": "2.0.0",
      "model_name": "ValidModel",
      "state": {
       "description": "Config loaded",
       "layout": "IPY_MODEL_9cedcb4199074a90815df8bf235db679",
       "style": "IPY_MODEL_0ae5ac6def3f42c8808df77d7486179e",
       "value": true
      }
     },
     "2cc88557c7644314a693253dd0180d9a": {
      "model_module": "@jupyter-widgets/controls",
      "model_module_version": "2.0.0",
      "model_name": "DescriptionStyleModel",
      "state": {
       "description_width": "initial"
      }
     },
     "2d2a3b83b5f641c7a760a7926733e5e2": {
      "model_module": "@jupyter-widgets/controls",
      "model_module_version": "2.0.0",
      "model_name": "CheckboxModel",
      "state": {
       "description": "SDP subarray admin",
       "disabled": false,
       "indent": false,
       "layout": "IPY_MODEL_75dfdabb4fa841579a092bb21b79006f",
       "style": "IPY_MODEL_51893d08249d4c3a92512562b852b945",
       "value": true
      }
     },
     "2d795d22df484135878f45c2c13ffae0": {
      "model_module": "@jupyter-widgets/controls",
      "model_module_version": "2.0.0",
      "model_name": "CheckboxStyleModel",
      "state": {
       "description_width": ""
      }
     },
     "2e24192671aa4b649482152de4e1e77c": {
      "model_module": "@jupyter-widgets/controls",
      "model_module_version": "2.0.0",
      "model_name": "TextStyleModel",
      "state": {
       "description_width": "",
       "font_size": null,
       "text_color": null
      }
     },
     "2ebf3adc7fd440388786464e6db74244": {
      "model_module": "@jupyter-widgets/base",
      "model_module_version": "2.0.0",
      "model_name": "LayoutModel",
      "state": {
       "width": "60%"
      }
     },
     "2ed1204720bb471b89ece3cb99d3370a": {
      "model_module": "@jupyter-widgets/controls",
      "model_module_version": "2.0.0",
      "model_name": "SliderStyleModel",
      "state": {
       "description_width": ""
      }
     },
     "3076e09d4edc463c8677937d8d17d079": {
      "model_module": "@jupyter-widgets/controls",
      "model_module_version": "2.0.0",
      "model_name": "TextModel",
      "state": {
       "description": "CSP Control",
       "disabled": true,
       "layout": "IPY_MODEL_11fa87641d1641618d54e637617538a7",
       "style": "IPY_MODEL_163073e043cb4bb982aeae23b57bbf32",
       "value": "The device is in OFF state."
      }
     },
     "30b6a6a59436452288f15a5024d27a83": {
      "model_module": "@jupyter-widgets/base",
      "model_module_version": "2.0.0",
      "model_name": "LayoutModel",
      "state": {}
     },
     "30f2e03ece204da5bba1a00a083edae4": {
      "model_module": "@jupyter-widgets/controls",
      "model_module_version": "2.0.0",
      "model_name": "ValidModel",
      "state": {
       "description": "Telescope ON",
       "layout": "IPY_MODEL_7613a72cdaa044e9a0687793dedd88e2",
       "style": "IPY_MODEL_db5e5ef4f91749d39864954d47d311df"
      }
     },
     "31d2fefa47154202ba641636a3413626": {
      "model_module": "@jupyter-widgets/controls",
      "model_module_version": "2.0.0",
      "model_name": "TextModel",
      "state": {
       "description": "Duration",
       "disabled": true,
       "layout": "IPY_MODEL_90fa80b1e6fe4645b5ecd67baaa29559",
       "style": "IPY_MODEL_4b5e842ac2e84b4e9a67a18d38dee436",
       "value": "920.0"
      }
     },
     "326a3b28448347d6b90c2401b7449a7b": {
      "model_module": "@jupyter-widgets/controls",
      "model_module_version": "2.0.0",
      "model_name": "IntSliderModel",
      "state": {
       "behavior": "drag-tap",
       "continuous_update": false,
       "description": "Retry",
       "layout": "IPY_MODEL_8c1be2d82b3a47db81927b3829881dee",
       "style": "IPY_MODEL_eb93c0bf64a6451abc841e59ba208614",
       "value": 20
      }
     },
     "329db09d635348508c1cf3d4d60aaf24": {
      "model_module": "@jupyter-widgets/controls",
      "model_module_version": "2.0.0",
      "model_name": "TextStyleModel",
      "state": {
       "description_width": "",
       "font_size": null,
       "text_color": null
      }
     },
     "32cd414b64164052a8ff752e86185e5d": {
      "model_module": "@jupyter-widgets/controls",
      "model_module_version": "2.0.0",
      "model_name": "DescriptionStyleModel",
      "state": {
       "description_width": "initial"
      }
     },
     "32d2541119ef477d9bbba6417eb383e8": {
      "model_module": "@jupyter-widgets/base",
      "model_module_version": "2.0.0",
      "model_name": "LayoutModel",
      "state": {
       "width": "60%"
      }
     },
     "340f7ea6c3b14a3b8290a1078c97053a": {
      "model_module": "@jupyter-widgets/base",
      "model_module_version": "2.0.0",
      "model_name": "LayoutModel",
      "state": {
       "width": "60%"
      }
     },
     "3500661b2bf940f8a5b07e0c8ccb72f3": {
      "model_module": "@jupyter-widgets/base",
      "model_module_version": "2.0.0",
      "model_name": "LayoutModel",
      "state": {}
     },
     "35347f34e609487cab8d9effbc405f50": {
      "model_module": "@jupyter-widgets/base",
      "model_module_version": "2.0.0",
      "model_name": "LayoutModel",
      "state": {
       "width": "60%"
      }
     },
     "36012e60d43347c297e6321527a9e913": {
      "model_module": "@jupyter-widgets/controls",
      "model_module_version": "2.0.0",
      "model_name": "TextModel",
      "state": {
       "description": "CBF Controller",
       "disabled": true,
       "layout": "IPY_MODEL_13804f7107744d66933cc6332a14b6e5",
       "style": "IPY_MODEL_b0521ee7fd5d4cc1847dd928e6d618ae",
       "value": "The device is in OFF state."
      }
     },
     "3665da1326de4252a1d5833f9bc003da": {
      "model_module": "@jupyter-widgets/controls",
      "model_module_version": "2.0.0",
      "model_name": "ValidModel",
      "state": {
       "description": "Dish manager SKA001 admin",
       "layout": "IPY_MODEL_3d0524d265e64ce7ad8ae4cfa1b6a327",
       "style": "IPY_MODEL_f5c7daaf7248451c8c3321f8e5bbc264"
      }
     },
     "36c2bc7db7994d5fadc3678c605f285d": {
      "model_module": "@jupyter-widgets/controls",
      "model_module_version": "2.0.0",
      "model_name": "TextStyleModel",
      "state": {
       "description_width": "",
       "font_size": null,
       "text_color": null
      }
     },
     "378d334e7ff34456ba51dd031b570ee7": {
      "model_module": "@jupyter-widgets/controls",
      "model_module_version": "2.0.0",
      "model_name": "ProgressStyleModel",
      "state": {
       "bar_color": "maroon",
       "description_width": ""
      }
     },
     "38457585d5b044279106c9e8c8f6db7e": {
      "model_module": "@jupyter-widgets/base",
      "model_module_version": "2.0.0",
      "model_name": "LayoutModel",
      "state": {
       "width": "60%"
      }
     },
     "386596854c3a4ead85b18cb7af3af44b": {
      "model_module": "@jupyter-widgets/controls",
      "model_module_version": "2.0.0",
      "model_name": "ValidModel",
      "state": {
       "description": "CSP Subarray online",
       "layout": "IPY_MODEL_ec1332a13c1d45179f526360c3138b61",
       "style": "IPY_MODEL_e2684a7b81284bf6b4ad94ff8a067661",
       "value": true
      }
     },
     "399d1ba8cced4f10afff5c49ee2b2b01": {
      "model_module": "@jupyter-widgets/base",
      "model_module_version": "2.0.0",
      "model_name": "LayoutModel",
      "state": {
       "width": "60%"
      }
     },
     "3a364fbbe626402eaef975813e94643d": {
      "model_module": "@jupyter-widgets/base",
      "model_module_version": "2.0.0",
      "model_name": "LayoutModel",
      "state": {
       "width": "60%"
      }
     },
     "3c51d47dbc78454d9dabb63fefc1ee2b": {
      "model_module": "@jupyter-widgets/controls",
      "model_module_version": "2.0.0",
      "model_name": "ValidModel",
      "state": {
       "description": "CSP Control online",
       "layout": "IPY_MODEL_6d7624de0670483e8a417041a693b66b",
       "style": "IPY_MODEL_6cbb2a6538344717888e871a0b4aa619",
       "value": true
      }
     },
     "3cdbd603995a4aeaa44220bf3f2112c0": {
      "model_module": "@jupyter-widgets/controls",
      "model_module_version": "2.0.0",
      "model_name": "TextareaModel",
      "state": {
       "description": "Error",
       "layout": "IPY_MODEL_593a9aeebadb455abf6b5f706436a6d1",
       "placeholder": "Error message",
       "style": "IPY_MODEL_36c2bc7db7994d5fadc3678c605f285d",
       "value": "ska_tmc_common.exceptions.InvalidObsStateError: EndScan command is not allowed in current observation state on device.Reason: The current observation state of mid-sdp/subarray/01 for observation is 2\nThe EndScan command has NOT been executed. This device will continue with normal operation."
      }
     },
     "3d0524d265e64ce7ad8ae4cfa1b6a327": {
      "model_module": "@jupyter-widgets/base",
      "model_module_version": "2.0.0",
      "model_name": "LayoutModel",
      "state": {
       "width": "60%"
      }
     },
     "3d55a20283b2497780d37c7a0dc4929b": {
      "model_module": "@jupyter-widgets/controls",
      "model_module_version": "2.0.0",
      "model_name": "HTMLModel",
      "state": {
       "description": "SDP",
       "layout": "IPY_MODEL_30b6a6a59436452288f15a5024d27a83",
       "placeholder": "SDP status",
       "style": "IPY_MODEL_036ab99822b048e89253d9273f269531",
       "value": "<table><tr><td>Controller admin mode</td><td>adminMode.OFFLINE</td></tr><tr><td>Controller State</td><td>DISABLE</td></tr><tr><td>Subarray admin mode</td><td>adminMode.OFFLINE</td></tr><tr><td>Subarray State</td><td>DISABLE</td></tr><tr><td>Subarray observation state</td><td>obsState.EMPTY</td></tr></table>"
      }
     },
     "3d65dafbcb4a415f919b472dee60207a": {
      "model_module": "@jupyter-widgets/controls",
      "model_module_version": "2.0.0",
      "model_name": "TextModel",
      "state": {
       "description": "SDP Leaf",
       "disabled": true,
       "layout": "IPY_MODEL_92ca63f245b946ad8952e0ff761be46a",
       "style": "IPY_MODEL_f79b14dbcd3f4c17b6a3a1b8e8d2023b",
       "value": "sdpSubarrayObsState.IDLE"
      }
     },
     "3d7797331d3b4eb0a155b5837cdc3f62": {
      "model_module": "@jupyter-widgets/base",
      "model_module_version": "2.0.0",
      "model_name": "LayoutModel",
      "state": {
       "width": "60%"
      }
     },
     "3e07c07cd8d1468a8dc183114015a672": {
      "model_module": "@jupyter-widgets/base",
      "model_module_version": "2.0.0",
      "model_name": "LayoutModel",
      "state": {
       "width": "60%"
      }
     },
     "3f0423c1cda7487a8961e3abe97d486c": {
      "model_module": "@jupyter-widgets/controls",
      "model_module_version": "2.0.0",
      "model_name": "CheckboxModel",
      "state": {
       "description": "TMC CSP subarray admin",
       "disabled": false,
       "indent": false,
       "layout": "IPY_MODEL_b013eed861b848799dd3cbded2f5b8e6",
       "style": "IPY_MODEL_fc4cfa6cf2aa44a2b72bb509a743acc3",
       "value": false
      }
     },
     "3f5041a5524746a6b42d316f74379f7b": {
      "model_module": "@jupyter-widgets/controls",
      "model_module_version": "2.0.0",
      "model_name": "ValidModel",
      "state": {
       "description": "TMC subarray admin",
       "layout": "IPY_MODEL_35347f34e609487cab8d9effbc405f50",
       "style": "IPY_MODEL_6820a5a4124a4242b065693ca89b9d81"
      }
     },
     "3f920bce14ae4d7e8ec6ec3c9affe647": {
      "model_module": "@jupyter-widgets/base",
      "model_module_version": "2.0.0",
      "model_name": "LayoutModel",
      "state": {
       "width": "60%"
      }
     },
     "3faf2e8221f9473a857658ad24844e3d": {
      "model_module": "@jupyter-widgets/base",
      "model_module_version": "2.0.0",
      "model_name": "LayoutModel",
      "state": {
       "width": "60%"
      }
     },
     "405183ab67c24c55a4b5dac07e905b2b": {
      "model_module": "@jupyter-widgets/controls",
      "model_module_version": "2.0.0",
      "model_name": "TextModel",
      "state": {
       "description": "SDP Leaf ObsState",
       "disabled": true,
       "layout": "IPY_MODEL_e1d2eba88b0e4597b2e6ed4a77e198b7",
       "style": "IPY_MODEL_572789f07175477dac20a36e30723f53",
       "value": "sdpSubarrayObsState.IDLE"
      }
     },
     "40545719f4374348a04b8e60db096394": {
      "model_module": "@jupyter-widgets/base",
      "model_module_version": "2.0.0",
      "model_name": "LayoutModel",
      "state": {}
     },
     "406e4530daab4514a01ae4c37026d01e": {
      "model_module": "@jupyter-widgets/controls",
      "model_module_version": "2.0.0",
      "model_name": "TextModel",
      "state": {
       "description": "Tango host",
       "disabled": true,
       "layout": "IPY_MODEL_32d2541119ef477d9bbba6417eb383e8",
       "style": "IPY_MODEL_c88a546dafed43d9b3955d685e038173",
       "value": "tango-databaseds.ci-ska-mid-itf-at-2146-consolidate-jupyter-notebooks.svc.miditf.internal.skao.int:10000"
      }
     },
     "40a580a641084abfa43bf21d803c3f4a": {
      "model_module": "@jupyter-widgets/base",
      "model_module_version": "2.0.0",
      "model_name": "LayoutModel",
      "state": {}
     },
     "410aa97370dd446e8eb870312d7fd3e9": {
      "model_module": "@jupyter-widgets/controls",
      "model_module_version": "2.0.0",
      "model_name": "TextStyleModel",
      "state": {
       "description_width": "",
       "font_size": null,
       "text_color": null
      }
     },
     "4232c5bda9c3439ea803cff773e67054": {
      "model_module": "@jupyter-widgets/controls",
      "model_module_version": "2.0.0",
      "model_name": "DescriptionStyleModel",
      "state": {
       "description_width": "initial"
      }
     },
     "427da94cda7c41059a3ed40d932fe5eb": {
      "model_module": "@jupyter-widgets/base",
      "model_module_version": "2.0.0",
      "model_name": "LayoutModel",
      "state": {
       "width": "60%"
      }
     },
     "430725df4e0e4317923d7fac408617ac": {
      "model_module": "@jupyter-widgets/base",
      "model_module_version": "2.0.0",
      "model_name": "LayoutModel",
      "state": {
       "width": "60%"
      }
     },
     "4356d5e7f61e4f34bf0029e7eca87f73": {
      "model_module": "@jupyter-widgets/base",
      "model_module_version": "2.0.0",
      "model_name": "LayoutModel",
      "state": {}
     },
     "45348fdacd2b45fba38781fddc876d81": {
      "model_module": "@jupyter-widgets/base",
      "model_module_version": "2.0.0",
      "model_name": "LayoutModel",
      "state": {
       "height": "200px",
       "width": "75%"
      }
     },
     "45817751db724567ae964702d432a91a": {
      "model_module": "@jupyter-widgets/controls",
      "model_module_version": "2.0.0",
      "model_name": "TextareaModel",
      "state": {
       "description": "Error",
       "layout": "IPY_MODEL_f560cc0a1d6b419e915250c8a1e19e43",
       "placeholder": "Error message",
       "style": "IPY_MODEL_0e86a94b143a4748b1c431b64879d51a",
       "value": "ska_tmc_common.exceptions.InvalidObsStateError: Scan command is not allowed in current observation state on device mid-csp/subarray/01\nReason: The current observation state of mid-csp/subarray/01 for observation is 0\nThe Scan command has NOT been executed. This device will continue with normal operation."
      }
     },
     "458d2f9c8bcf466c9c72c51c47b94771": {
      "model_module": "@jupyter-widgets/base",
      "model_module_version": "2.0.0",
      "model_name": "LayoutModel",
      "state": {}
     },
     "4637455a4fb4489abca25133fbab621e": {
      "model_module": "@jupyter-widgets/controls",
      "model_module_version": "2.0.0",
      "model_name": "TextStyleModel",
      "state": {
       "description_width": "",
       "font_size": null,
       "text_color": null
      }
     },
     "463a19dd01ea4c12b026ef65049edae1": {
      "model_module": "@jupyter-widgets/base",
      "model_module_version": "2.0.0",
      "model_name": "LayoutModel",
      "state": {
       "width": "60%"
      }
     },
     "466e26533bd6482ea5cb29cf3aa3c52d": {
      "model_module": "@jupyter-widgets/base",
      "model_module_version": "2.0.0",
      "model_name": "LayoutModel",
      "state": {
       "height": "200px",
       "width": "75%"
      }
     },
     "471aac8d1ff340bbb96b72bdd6c5f0f7": {
      "model_module": "@jupyter-widgets/controls",
      "model_module_version": "2.0.0",
      "model_name": "TextareaModel",
      "state": {
       "description": "Error",
       "layout": "IPY_MODEL_b4d8b9f39aa54412b178d29ffcb6d07e",
       "placeholder": "Error message",
       "style": "IPY_MODEL_969a1d23e1004ad5a3ab25ea3dbd550d",
       "value": "TRANSIENT CORBA system exception: TRANSIENT_CallTimedout"
      }
     },
     "47e639d245f445faa0a44d923e7ce085": {
      "model_module": "@jupyter-widgets/controls",
      "model_module_version": "2.0.0",
      "model_name": "CheckboxStyleModel",
      "state": {
       "description_width": ""
      }
     },
     "4896f14840b34cd087ed7947ab0b68c8": {
      "model_module": "@jupyter-widgets/controls",
      "model_module_version": "2.0.0",
      "model_name": "DescriptionStyleModel",
      "state": {
       "description_width": "initial"
      }
     },
     "49bc92d9e5e543828a92f437fc779387": {
      "model_module": "@jupyter-widgets/base",
      "model_module_version": "2.0.0",
      "model_name": "LayoutModel",
      "state": {}
     },
     "49dbfdea401343dca31b620c036c1a8e": {
      "model_module": "@jupyter-widgets/controls",
      "model_module_version": "2.0.0",
      "model_name": "CheckboxModel",
      "state": {
       "description": "Dish leaf 001 admin",
       "disabled": false,
       "indent": false,
       "layout": "IPY_MODEL_779f9d101c6746d69cb103f82e239ad6",
       "style": "IPY_MODEL_259121ab948f42689390518405fe774b",
       "value": false
      }
     },
     "49f056c40f8a42a7a559c4d8bdd9219c": {
      "model_module": "@jupyter-widgets/controls",
      "model_module_version": "2.0.0",
      "model_name": "ValidModel",
      "state": {
       "description": "CSP Subarray online",
       "layout": "IPY_MODEL_a30a0dba852941198cdb3e7836b0d11e",
       "style": "IPY_MODEL_cd2051ced519421fae5faf52c70720eb",
       "value": true
      }
     },
     "4a52130c79974680a1d0c4ca0795818c": {
      "model_module": "@jupyter-widgets/controls",
      "model_module_version": "2.0.0",
      "model_name": "CheckboxModel",
      "state": {
       "description": "TMC Central Node admin",
       "disabled": false,
       "indent": false,
       "layout": "IPY_MODEL_b2fceb03f7ef4dd68414a21f07d6229e",
       "style": "IPY_MODEL_135f5ce47a574a01a0d9eeec02034350",
       "value": false
      }
     },
     "4aea08fa7d0f4c7ea9f84c18726ddc60": {
      "model_module": "@jupyter-widgets/controls",
      "model_module_version": "2.0.0",
      "model_name": "IntSliderModel",
      "state": {
       "behavior": "drag-tap",
       "continuous_update": false,
       "description": "CBF Timeout",
       "layout": "IPY_MODEL_8c061fbee2114771992d08264c592249",
       "max": 180,
       "style": "IPY_MODEL_515483cfebc74d7ea0f98a3b196caad1",
       "value": 99
      }
     },
     "4b5e842ac2e84b4e9a67a18d38dee436": {
      "model_module": "@jupyter-widgets/controls",
      "model_module_version": "2.0.0",
      "model_name": "TextStyleModel",
      "state": {
       "description_width": "",
       "font_size": null,
       "text_color": null
      }
     },
     "4b76d67722e34844bcbe9324d4a3aa40": {
      "model_module": "@jupyter-widgets/controls",
      "model_module_version": "2.0.0",
      "model_name": "CheckboxModel",
      "state": {
       "description": "CBF controller admin",
       "disabled": false,
       "indent": false,
       "layout": "IPY_MODEL_b1e4ee02c6e44bd4b2e3b8e203575763",
       "style": "IPY_MODEL_82965fa2d7904b4fb2b4a47606bd262f",
       "value": false
      }
     },
     "4ccfde701a44401b805c45a8c90479cb": {
      "model_module": "@jupyter-widgets/controls",
      "model_module_version": "2.0.0",
      "model_name": "ValidModel",
      "state": {
       "description": "Dish tango://tango-databaseds.ci-dish-lmc-ska001-at-2146-consolidate-jupyter-notebooks.svc.miditf.internal.skao.int:10000/mid-dish/dish-manager/SKA001",
       "layout": "IPY_MODEL_102915866f50441ba56e44880fbc1be3",
       "style": "IPY_MODEL_565a88404f414918b5fcd5d84fb81135",
       "value": true
      }
     },
     "4ce7a85ca8f541778901a24a6e94184a": {
      "model_module": "@jupyter-widgets/controls",
      "model_module_version": "2.0.0",
      "model_name": "ValidModel",
      "state": {
       "description": "Namespaces",
       "layout": "IPY_MODEL_3faf2e8221f9473a857658ad24844e3d",
       "style": "IPY_MODEL_32cd414b64164052a8ff752e86185e5d",
       "value": true
      }
     },
     "4cfe3c70ee614c4bbd8225f83da1f4bf": {
      "model_module": "@jupyter-widgets/base",
      "model_module_version": "2.0.0",
      "model_name": "LayoutModel",
      "state": {
       "height": "200px",
       "width": "75%"
      }
     },
     "4d71e34538e845ba8d3c1646b1abe44f": {
      "model_module": "@jupyter-widgets/base",
      "model_module_version": "2.0.0",
      "model_name": "LayoutModel",
      "state": {
       "width": "60%"
      }
     },
     "4da3ced86ec64b37a6b72cac0ce5793a": {
      "model_module": "@jupyter-widgets/controls",
      "model_module_version": "2.0.0",
      "model_name": "ValidModel",
      "state": {
       "description": "SDP subarray online",
       "layout": "IPY_MODEL_219f18aa9b9e4534a8db2c984d179be0",
       "style": "IPY_MODEL_7c1cde39f58c4a3a932fe8a77eab212f",
       "value": true
      }
     },
     "4db24b3896294d469a1fda88331e09fd": {
      "model_module": "@jupyter-widgets/controls",
      "model_module_version": "2.0.0",
      "model_name": "ValidModel",
      "state": {
       "description": "CBF subarray admin",
       "layout": "IPY_MODEL_16268f1d854a4fd0a280d1fca213e1a4",
       "style": "IPY_MODEL_79204f92a23a40969395e54ab52e4959"
      }
     },
     "4df075a9b38d4b58923cd178d2e02e16": {
      "model_module": "@jupyter-widgets/base",
      "model_module_version": "2.0.0",
      "model_name": "LayoutModel",
      "state": {}
     },
     "4e2e8ed5168f4ddd9461e6cf492de2fb": {
      "model_module": "@jupyter-widgets/base",
      "model_module_version": "2.0.0",
      "model_name": "LayoutModel",
      "state": {}
     },
     "4e8a0231ff334c16a3b0f79239b38c3b": {
      "model_module": "@jupyter-widgets/base",
      "model_module_version": "2.0.0",
      "model_name": "LayoutModel",
      "state": {
       "width": "60%"
      }
     },
     "4e907738f6684d24a166f48ebbb70b49": {
      "model_module": "@jupyter-widgets/controls",
      "model_module_version": "2.0.0",
      "model_name": "ValidModel",
      "state": {
       "description": "Dish leaf 001 online",
       "layout": "IPY_MODEL_2883773a5abb4b98ac3623951cf83a2b",
       "style": "IPY_MODEL_4896f14840b34cd087ed7947ab0b68c8",
       "value": true
      }
     },
     "4eadcd62a3784927b4603212274dbc0e": {
      "model_module": "@jupyter-widgets/controls",
      "model_module_version": "2.0.0",
      "model_name": "ValidModel",
      "state": {
       "description": "CSP control admin",
       "layout": "IPY_MODEL_51c7ccbe686e42c8b1ed31a753b3fcf6",
       "style": "IPY_MODEL_e459b68d7df64cf1b733d57ad56820e0"
      }
     },
     "4ed1a1e22323459d9ff00a912d6f19d2": {
      "model_module": "@jupyter-widgets/base",
      "model_module_version": "2.0.0",
      "model_name": "LayoutModel",
      "state": {}
     },
     "4f918bee40e642b3b92184216e581e8e": {
      "model_module": "@jupyter-widgets/controls",
      "model_module_version": "2.0.0",
      "model_name": "ProgressStyleModel",
      "state": {
       "bar_color": "maroon",
       "description_width": ""
      }
     },
     "4fdde667ae974643aa5257ffe5b02f02": {
      "model_module": "@jupyter-widgets/base",
      "model_module_version": "2.0.0",
      "model_name": "LayoutModel",
      "state": {
       "width": "60%"
      }
     },
     "511ccc0e31184ee08ea02cfb15da57a6": {
      "model_module": "@jupyter-widgets/controls",
      "model_module_version": "2.0.0",
      "model_name": "HTMLStyleModel",
      "state": {
       "description_width": "",
       "font_size": null,
       "text_color": null
      }
     },
     "515483cfebc74d7ea0f98a3b196caad1": {
      "model_module": "@jupyter-widgets/controls",
      "model_module_version": "2.0.0",
      "model_name": "SliderStyleModel",
      "state": {
       "description_width": ""
      }
     },
     "51893d08249d4c3a92512562b852b945": {
      "model_module": "@jupyter-widgets/controls",
      "model_module_version": "2.0.0",
      "model_name": "CheckboxStyleModel",
      "state": {
       "description_width": ""
      }
     },
     "51c7ccbe686e42c8b1ed31a753b3fcf6": {
      "model_module": "@jupyter-widgets/base",
      "model_module_version": "2.0.0",
      "model_name": "LayoutModel",
      "state": {
       "width": "60%"
      }
     },
     "52e22b79e7f84f3089fc8b9f93e1273d": {
      "model_module": "@jupyter-widgets/controls",
      "model_module_version": "2.0.0",
      "model_name": "TextModel",
      "state": {
       "description": "CSP Sub ObsState",
       "disabled": true,
       "layout": "IPY_MODEL_1380a422173d4201911d6ddd4e7ad588",
       "style": "IPY_MODEL_78f868f024114c01af88ebb95a5eb932",
       "value": "cspSubarrayObsState.EMPTY"
      }
     },
     "530b7048fcb74f6e933f949dbab849e2": {
      "model_module": "@jupyter-widgets/base",
      "model_module_version": "2.0.0",
      "model_name": "LayoutModel",
      "state": {
       "width": "60%"
      }
     },
     "5312e9eab892444f874afffd29ea8299": {
      "model_module": "@jupyter-widgets/base",
      "model_module_version": "2.0.0",
      "model_name": "LayoutModel",
      "state": {}
     },
     "53d3b2f6793641f08bc6fd447bb15632": {
      "model_module": "@jupyter-widgets/controls",
      "model_module_version": "2.0.0",
      "model_name": "CheckboxStyleModel",
      "state": {
       "description_width": ""
      }
     },
     "549174f8568f4d73a9dcae6637e822f8": {
      "model_module": "@jupyter-widgets/base",
      "model_module_version": "2.0.0",
      "model_name": "LayoutModel",
      "state": {}
     },
     "55c1ff951b904b3280b83cad5ef6400e": {
      "model_module": "@jupyter-widgets/controls",
      "model_module_version": "2.0.0",
      "model_name": "DescriptionStyleModel",
      "state": {
       "description_width": "initial"
      }
     },
     "565a88404f414918b5fcd5d84fb81135": {
      "model_module": "@jupyter-widgets/controls",
      "model_module_version": "2.0.0",
      "model_name": "DescriptionStyleModel",
      "state": {
       "description_width": "initial"
      }
     },
     "56edb5e32c3047b683044d2c2cbdd65e": {
      "model_module": "@jupyter-widgets/controls",
      "model_module_version": "2.0.0",
      "model_name": "CheckboxModel",
      "state": {
       "description": "TMC CSP subarray admin",
       "disabled": false,
       "indent": false,
       "layout": "IPY_MODEL_25b4c0435b8b4bd0b25556de90314c3e",
       "style": "IPY_MODEL_ed741e5e9190401d8b5d005bfa864dab",
       "value": false
      }
     },
     "572789f07175477dac20a36e30723f53": {
      "model_module": "@jupyter-widgets/controls",
      "model_module_version": "2.0.0",
      "model_name": "TextStyleModel",
      "state": {
       "description_width": "",
       "font_size": null,
       "text_color": null
      }
     },
     "574021da016e40beb28e627f4e50fdc9": {
      "model_module": "@jupyter-widgets/controls",
      "model_module_version": "2.0.0",
      "model_name": "CheckboxStyleModel",
      "state": {
       "description_width": ""
      }
     },
     "579c1fbb6eae4dcbb112e0858f5e9e6e": {
      "model_module": "@jupyter-widgets/base",
      "model_module_version": "2.0.0",
      "model_name": "LayoutModel",
      "state": {
       "width": "60%"
      }
     },
     "582d4adf54e542ae9e5ca47dc7feecf8": {
      "model_module": "@jupyter-widgets/base",
      "model_module_version": "2.0.0",
      "model_name": "LayoutModel",
      "state": {}
     },
     "585d0529d728410d8bc82e4d181afb56": {
      "model_module": "@jupyter-widgets/controls",
      "model_module_version": "2.0.0",
      "model_name": "CheckboxModel",
      "state": {
       "description": "CBF Simulation Mode",
       "disabled": false,
       "indent": false,
       "layout": "IPY_MODEL_0cb2529eaa384d3b9cc2f174ad7ea1ba",
       "style": "IPY_MODEL_afffd0d68836478c8646977d4c18d952",
       "value": true
      }
     },
     "58d3c8e9c03548369f9e78294186cca3": {
      "model_module": "@jupyter-widgets/base",
      "model_module_version": "2.0.0",
      "model_name": "LayoutModel",
      "state": {
       "height": "200px",
       "width": "75%"
      }
     },
     "58e518394298414f804c7b7649e25e56": {
      "model_module": "@jupyter-widgets/base",
      "model_module_version": "2.0.0",
      "model_name": "LayoutModel",
      "state": {
       "width": "60%"
      }
     },
     "593a9aeebadb455abf6b5f706436a6d1": {
      "model_module": "@jupyter-widgets/base",
      "model_module_version": "2.0.0",
      "model_name": "LayoutModel",
      "state": {
       "height": "200px",
       "width": "75%"
      }
     },
     "597971d0e65546af8f13853a681c1179": {
      "model_module": "@jupyter-widgets/controls",
      "model_module_version": "2.0.0",
      "model_name": "SliderStyleModel",
      "state": {
       "description_width": ""
      }
     },
     "5b9c32af5a99417082604d968b8c93a9": {
      "model_module": "@jupyter-widgets/controls",
      "model_module_version": "2.0.0",
      "model_name": "TextareaModel",
      "state": {
       "description": "Error",
       "layout": "IPY_MODEL_80ba2308685a460ea23e9c6dd4f0c197",
       "placeholder": "Error message",
       "style": "IPY_MODEL_d7f5c8301d5e417da34e26c42dd0024c",
       "value": "\nTRANSIENT CORBA system exception: TRANSIENT_CallTimedout\nTRANSIENT CORBA system exception: TRANSIENT_CallTimedout"
      }
     },
     "5d1051e0ae0d4fa094521efd356e5dd7": {
      "model_module": "@jupyter-widgets/controls",
      "model_module_version": "2.0.0",
      "model_name": "TextModel",
      "state": {
       "description": "CSP Leaf",
       "disabled": true,
       "layout": "IPY_MODEL_75d994181f714f0e8a8b5f16b05d1d85",
       "style": "IPY_MODEL_a05e6834e6f4445c970ef7c6f50174d4",
       "value": "cspSubarrayObsState.EMPTY"
      }
     },
     "5ef531821a534b248282168a5dbeb23d": {
      "model_module": "@jupyter-widgets/base",
      "model_module_version": "2.0.0",
      "model_name": "LayoutModel",
      "state": {}
     },
     "5f171e773c7744c7af7a28c7738e1a8d": {
      "model_module": "@jupyter-widgets/controls",
      "model_module_version": "2.0.0",
      "model_name": "TextModel",
      "state": {
       "description": "CSP Subarray Observation",
       "disabled": true,
       "layout": "IPY_MODEL_25a2105d9f1c485c942f2788c0023da8",
       "style": "IPY_MODEL_7545bdd5c81f468d9c1ebcc97fcee72c",
       "value": "cspSubarrayObsState.EMPTY"
      }
     },
     "5f3bedd2cc7749c29ee5b54abf098c4c": {
      "model_module": "@jupyter-widgets/controls",
      "model_module_version": "2.0.0",
      "model_name": "ValidModel",
      "state": {
       "description": "Dish manager SKA001 online",
       "layout": "IPY_MODEL_a79a5e73c1344543a4b95c21cd7fb075",
       "style": "IPY_MODEL_73c629c4b7d74e0baeb41a69bf82d475",
       "value": true
      }
     },
     "6110fd32175047649fa63eeb80d27fcc": {
      "model_module": "@jupyter-widgets/controls",
      "model_module_version": "2.0.0",
      "model_name": "TextModel",
      "state": {
       "description": "CBF Subarray Observation",
       "disabled": true,
       "layout": "IPY_MODEL_155c92e0d4414ee4bbcc3d099ff5570f",
       "style": "IPY_MODEL_bc79c62fe096481a978d462307b38cbf",
       "value": "obsState.EMPTY"
      }
     },
     "612f0ef25b0b476a85b12badf860e216": {
      "model_module": "@jupyter-widgets/controls",
      "model_module_version": "2.0.0",
      "model_name": "DescriptionStyleModel",
      "state": {
       "description_width": "initial"
      }
     },
     "6182ecc617ae48f69390eb5b197208d4": {
      "model_module": "@jupyter-widgets/controls",
      "model_module_version": "2.0.0",
      "model_name": "IntProgressModel",
      "state": {
       "description": "Loading:",
       "layout": "IPY_MODEL_458d2f9c8bcf466c9c72c51c47b94771",
       "max": 20,
       "style": "IPY_MODEL_c035544a2dba4f5488640d16a1898477",
       "value": 20
      }
     },
     "651cf9ac3869437f85d7a2fcff561811": {
      "model_module": "@jupyter-widgets/controls",
      "model_module_version": "2.0.0",
      "model_name": "IntSliderModel",
      "state": {
       "behavior": "drag-tap",
       "continuous_update": false,
       "description": "CBF Timeout",
       "layout": "IPY_MODEL_96a6ba7769eb468dafee863bdb6f648e",
       "max": 180,
       "style": "IPY_MODEL_96ef46b4d26b4fa287837fb433e3e1b3",
       "value": 99
      }
     },
     "661fba0694604257896770afcf4e2b52": {
      "model_module": "@jupyter-widgets/controls",
      "model_module_version": "2.0.0",
      "model_name": "CheckboxModel",
      "state": {
       "description": "CSP subarray admin",
       "disabled": false,
       "indent": false,
       "layout": "IPY_MODEL_e394c176fdd44973aada6e384624e49d",
       "style": "IPY_MODEL_9b2e47c62b924887a3f8e38c39235563",
       "value": false
      }
     },
     "667670fe5c034c349814abea68051593": {
      "model_module": "@jupyter-widgets/controls",
      "model_module_version": "2.0.0",
      "model_name": "CheckboxStyleModel",
      "state": {
       "description_width": ""
      }
     },
     "66c7394b78984d419351a8f888a58a4f": {
      "model_module": "@jupyter-widgets/controls",
      "model_module_version": "2.0.0",
      "model_name": "DescriptionStyleModel",
      "state": {
       "description_width": "initial"
      }
     },
     "66dafd44852841aebf6d6650531c4a7e": {
      "model_module": "@jupyter-widgets/controls",
      "model_module_version": "2.0.0",
      "model_name": "CheckboxModel",
      "state": {
       "description": "CSP control admin",
       "disabled": false,
       "indent": false,
       "layout": "IPY_MODEL_49bc92d9e5e543828a92f437fc779387",
       "style": "IPY_MODEL_f0b7960f582840e4bec95736deba1880",
       "value": false
      }
     },
     "6746e56dd5f3450bbf1194b3f4324a51": {
      "model_module": "@jupyter-widgets/controls",
      "model_module_version": "2.0.0",
      "model_name": "CheckboxModel",
      "state": {
       "description": "CSP control admin",
       "disabled": false,
       "indent": false,
       "layout": "IPY_MODEL_6e16ea147d434471b4e08c0675c1f68a",
       "style": "IPY_MODEL_95ea6909ab55441d86616d4615226a27",
       "value": false
      }
     },
     "675a804913734d6f96fc907f16efc80b": {
      "model_module": "@jupyter-widgets/controls",
      "model_module_version": "2.0.0",
      "model_name": "CheckboxModel",
      "state": {
       "description": "TMC subarray admin",
       "disabled": false,
       "indent": false,
       "layout": "IPY_MODEL_6ba96181aa864673881d0e13cebd7f93",
       "style": "IPY_MODEL_6a91411f1cc04b7c9657e226c75e86cb",
       "value": false
      }
     },
     "6820a5a4124a4242b065693ca89b9d81": {
      "model_module": "@jupyter-widgets/controls",
      "model_module_version": "2.0.0",
      "model_name": "DescriptionStyleModel",
      "state": {
       "description_width": "initial"
      }
     },
     "68295f53eef247ab8a55a1edfd045d5f": {
      "model_module": "@jupyter-widgets/controls",
      "model_module_version": "2.0.0",
      "model_name": "ValidModel",
      "state": {
       "description": "Namespaces",
       "layout": "IPY_MODEL_8569528ee1b54e89bbbdb97aa11cfef8",
       "style": "IPY_MODEL_23f0d8a459ec4222863246c19b8d1e0d",
       "value": true
      }
     },
     "684cfbc50dd5496ab0c10adbf3f633d4": {
      "model_module": "@jupyter-widgets/controls",
      "model_module_version": "2.0.0",
      "model_name": "DescriptionStyleModel",
      "state": {
       "description_width": "initial"
      }
     },
     "69addf09679c42ea8d6837d030bf672e": {
      "model_module": "@jupyter-widgets/controls",
      "model_module_version": "2.0.0",
      "model_name": "ProgressStyleModel",
      "state": {
       "bar_color": "maroon",
       "description_width": ""
      }
     },
     "69dffa0601864548b3bfa5ac944cc38c": {
      "model_module": "@jupyter-widgets/controls",
      "model_module_version": "2.0.0",
      "model_name": "CheckboxStyleModel",
      "state": {
       "description_width": ""
      }
     },
     "6a12d7cfff9b436c865b2dc3ab800731": {
      "model_module": "@jupyter-widgets/controls",
      "model_module_version": "2.0.0",
      "model_name": "DescriptionStyleModel",
      "state": {
       "description_width": ""
      }
     },
     "6a1f6de380b84c79b5247a87a1bdd370": {
      "model_module": "@jupyter-widgets/base",
      "model_module_version": "2.0.0",
      "model_name": "LayoutModel",
      "state": {
       "width": "60%"
      }
     },
     "6a4a90ce8d3f49a9b6a797c5980fad4e": {
      "model_module": "@jupyter-widgets/controls",
      "model_module_version": "2.0.0",
      "model_name": "IntProgressModel",
      "state": {
       "description": "Loading:",
       "layout": "IPY_MODEL_b6e5650f54d44f1faa8aab0886deb307",
       "max": 20,
       "style": "IPY_MODEL_b6fed3affd714ebfbaf4e1ec7c5dd73c",
       "value": 20
      }
     },
     "6a81d5b1fd314dcc854219f8f040ceef": {
      "model_module": "@jupyter-widgets/base",
      "model_module_version": "2.0.0",
      "model_name": "LayoutModel",
      "state": {
       "width": "60%"
      }
     },
     "6a91411f1cc04b7c9657e226c75e86cb": {
      "model_module": "@jupyter-widgets/controls",
      "model_module_version": "2.0.0",
      "model_name": "CheckboxStyleModel",
      "state": {
       "description_width": ""
      }
     },
     "6a91ded500ac490f9cb35665653ff435": {
      "model_module": "@jupyter-widgets/controls",
      "model_module_version": "2.0.0",
      "model_name": "TextStyleModel",
      "state": {
       "description_width": "",
       "font_size": null,
       "text_color": null
      }
     },
     "6a91e2a1374c478faa6fb39e4860ce39": {
      "model_module": "@jupyter-widgets/controls",
      "model_module_version": "2.0.0",
      "model_name": "ValidModel",
      "state": {
       "description": "CSP Subarray",
       "layout": "IPY_MODEL_8351f81ff5454e28ad2afa98457d8654",
       "style": "IPY_MODEL_1e050b67d01449f689af1c4a764ec7b7"
      }
     },
     "6aae75dcabae49b693bebbb6c8637c2f": {
      "model_module": "@jupyter-widgets/controls",
      "model_module_version": "2.0.0",
      "model_name": "ValidModel",
      "state": {
       "description": "Proxies OK",
       "layout": "IPY_MODEL_b72bd9bc5ce9467682b357d905b93c8a",
       "style": "IPY_MODEL_6eff405a2b214713b0c47c44af849e11",
       "value": true
      }
     },
     "6af17e7b8db046998dd0dc9c6e871bf7": {
      "model_module": "@jupyter-widgets/controls",
      "model_module_version": "2.0.0",
      "model_name": "CheckboxModel",
      "state": {
       "description": "CBF subarray admin",
       "disabled": false,
       "indent": false,
       "layout": "IPY_MODEL_21c817c896454235accadf001222e8c8",
       "style": "IPY_MODEL_07b3c30974f94fcd8b85622dcd60c4f4",
       "value": false
      }
     },
     "6ba96181aa864673881d0e13cebd7f93": {
      "model_module": "@jupyter-widgets/base",
      "model_module_version": "2.0.0",
      "model_name": "LayoutModel",
      "state": {}
     },
     "6c476a0e44ef4c9488e2c7289c14b4aa": {
      "model_module": "@jupyter-widgets/controls",
      "model_module_version": "2.0.0",
      "model_name": "ValidModel",
      "state": {
       "description": "Config loaded",
       "layout": "IPY_MODEL_1b874fa5b81a4db9833e730d55d73b65",
       "style": "IPY_MODEL_612f0ef25b0b476a85b12badf860e216"
      }
     },
     "6cbb2a6538344717888e871a0b4aa619": {
      "model_module": "@jupyter-widgets/controls",
      "model_module_version": "2.0.0",
      "model_name": "DescriptionStyleModel",
      "state": {
       "description_width": "initial"
      }
     },
     "6d7624de0670483e8a417041a693b66b": {
      "model_module": "@jupyter-widgets/base",
      "model_module_version": "2.0.0",
      "model_name": "LayoutModel",
      "state": {
       "width": "60%"
      }
     },
     "6de3ea2543f64a0e9758416accc7b41a": {
      "model_module": "@jupyter-widgets/controls",
      "model_module_version": "2.0.0",
      "model_name": "ValidModel",
      "state": {
       "description": "Dish manager SKA036 admin",
       "layout": "IPY_MODEL_38457585d5b044279106c9e8c8f6db7e",
       "style": "IPY_MODEL_97dc3b22cce249f1a6c182ec94ee5916"
      }
     },
     "6e16ea147d434471b4e08c0675c1f68a": {
      "model_module": "@jupyter-widgets/base",
      "model_module_version": "2.0.0",
      "model_name": "LayoutModel",
      "state": {}
     },
     "6e43ba348c5a4fa09a056cbcba3ebb59": {
      "model_module": "@jupyter-widgets/controls",
      "model_module_version": "2.0.0",
      "model_name": "CheckboxStyleModel",
      "state": {
       "description_width": ""
      }
     },
     "6e7c161cfff84aa78ad8434677d8a62d": {
      "model_module": "@jupyter-widgets/base",
      "model_module_version": "2.0.0",
      "model_name": "LayoutModel",
      "state": {
       "width": "60%"
      }
     },
     "6eb5cfccfa994186a93638a8d1ac4368": {
      "model_module": "@jupyter-widgets/controls",
      "model_module_version": "2.0.0",
      "model_name": "DescriptionStyleModel",
      "state": {
       "description_width": "initial"
      }
     },
     "6eff405a2b214713b0c47c44af849e11": {
      "model_module": "@jupyter-widgets/controls",
      "model_module_version": "2.0.0",
      "model_name": "DescriptionStyleModel",
      "state": {
       "description_width": "initial"
      }
     },
     "6f028b61cb2d406a8f36a6c9144acdec": {
      "model_module": "@jupyter-widgets/base",
      "model_module_version": "2.0.0",
      "model_name": "LayoutModel",
      "state": {}
     },
     "6fb4099df0404fa096fd92b79fe5f26b": {
      "model_module": "@jupyter-widgets/controls",
      "model_module_version": "2.0.0",
      "model_name": "ValidModel",
      "state": {
       "description": "Dish leaf 036 admin",
       "layout": "IPY_MODEL_399d1ba8cced4f10afff5c49ee2b2b01",
       "style": "IPY_MODEL_aac29f593ffb4c1ca210a0427ddf0dfd"
      }
     },
     "70b157dd91074877a71a3690baab5ff3": {
      "model_module": "@jupyter-widgets/controls",
      "model_module_version": "2.0.0",
      "model_name": "DescriptionStyleModel",
      "state": {
       "description_width": "initial"
      }
     },
     "70cc8ef1ad2d4f8eb1d526413708205a": {
      "model_module": "@jupyter-widgets/controls",
      "model_module_version": "2.0.0",
      "model_name": "TextStyleModel",
      "state": {
       "description_width": "",
       "font_size": null,
       "text_color": null
      }
     },
     "71330f0e69f744018d16e59bdfe1396c": {
      "model_module": "@jupyter-widgets/controls",
      "model_module_version": "2.0.0",
      "model_name": "ProgressStyleModel",
      "state": {
       "bar_color": "maroon",
       "description_width": ""
      }
     },
     "73c629c4b7d74e0baeb41a69bf82d475": {
      "model_module": "@jupyter-widgets/controls",
      "model_module_version": "2.0.0",
      "model_name": "DescriptionStyleModel",
      "state": {
       "description_width": "initial"
      }
     },
     "73fce36a1060476ca9119348377eea3f": {
      "model_module": "@jupyter-widgets/base",
      "model_module_version": "2.0.0",
      "model_name": "LayoutModel",
      "state": {}
     },
     "74bf849dbef34357908f7c44adf7259a": {
      "model_module": "@jupyter-widgets/controls",
      "model_module_version": "2.0.0",
      "model_name": "TextStyleModel",
      "state": {
       "description_width": "",
       "font_size": null,
       "text_color": null
      }
     },
     "7545bdd5c81f468d9c1ebcc97fcee72c": {
      "model_module": "@jupyter-widgets/controls",
      "model_module_version": "2.0.0",
      "model_name": "TextStyleModel",
      "state": {
       "description_width": "",
       "font_size": null,
       "text_color": null
      }
     },
     "75d994181f714f0e8a8b5f16b05d1d85": {
      "model_module": "@jupyter-widgets/base",
      "model_module_version": "2.0.0",
      "model_name": "LayoutModel",
      "state": {
       "width": "60%"
      }
     },
     "75dfdabb4fa841579a092bb21b79006f": {
      "model_module": "@jupyter-widgets/base",
      "model_module_version": "2.0.0",
      "model_name": "LayoutModel",
      "state": {}
     },
     "7613a72cdaa044e9a0687793dedd88e2": {
      "model_module": "@jupyter-widgets/base",
      "model_module_version": "2.0.0",
      "model_name": "LayoutModel",
      "state": {
       "width": "60%"
      }
     },
     "76413965f6734f9c92dafa5769ebc23c": {
      "model_module": "@jupyter-widgets/controls",
      "model_module_version": "2.0.0",
      "model_name": "HTMLStyleModel",
      "state": {
       "description_width": "",
       "font_size": null,
       "text_color": null
      }
     },
     "779f9d101c6746d69cb103f82e239ad6": {
      "model_module": "@jupyter-widgets/base",
      "model_module_version": "2.0.0",
      "model_name": "LayoutModel",
      "state": {}
     },
     "7808def2e0a2415784aacf2e36d2e095": {
      "model_module": "@jupyter-widgets/controls",
      "model_module_version": "2.0.0",
      "model_name": "TextStyleModel",
      "state": {
       "description_width": "",
       "font_size": null,
       "text_color": null
      }
     },
     "78f868f024114c01af88ebb95a5eb932": {
      "model_module": "@jupyter-widgets/controls",
      "model_module_version": "2.0.0",
      "model_name": "TextStyleModel",
      "state": {
       "description_width": "",
       "font_size": null,
       "text_color": null
      }
     },
     "79204f92a23a40969395e54ab52e4959": {
      "model_module": "@jupyter-widgets/controls",
      "model_module_version": "2.0.0",
      "model_name": "DescriptionStyleModel",
      "state": {
       "description_width": "initial"
      }
     },
     "7b6d46308069404f8227b5ea5ac25923": {
      "model_module": "@jupyter-widgets/controls",
      "model_module_version": "2.0.0",
      "model_name": "TextareaModel",
      "state": {
       "description": "Error",
       "layout": "IPY_MODEL_4cfe3c70ee614c4bbd8225f83da1f4bf",
       "placeholder": "Error message",
       "style": "IPY_MODEL_ff8e98866a624d59991e7892b6006f0a",
       "value": "TRANSIENT CORBA system exception: TRANSIENT_CallTimedout"
      }
     },
     "7b8315b521254af7b27704205299ddb2": {
      "model_module": "@jupyter-widgets/controls",
      "model_module_version": "2.0.0",
      "model_name": "TextareaModel",
      "state": {
       "description": "Error",
       "layout": "IPY_MODEL_58d3c8e9c03548369f9e78294186cca3",
       "placeholder": "Error message",
       "style": "IPY_MODEL_70cc8ef1ad2d4f8eb1d526413708205a",
       "value": "TRANSIENT CORBA system exception: TRANSIENT_CallTimedout"
      }
     },
     "7b90c0c2539e4b5296f74f813719531c": {
      "model_module": "@jupyter-widgets/controls",
      "model_module_version": "2.0.0",
      "model_name": "TextareaModel",
      "state": {
       "description": "Error",
       "layout": "IPY_MODEL_290683d07498453ca55763c58dc6d858",
       "placeholder": "Error message",
       "style": "IPY_MODEL_74bf849dbef34357908f7c44adf7259a",
       "value": "TRANSIENT CORBA system exception: TRANSIENT_CallTimedout"
      }
     },
     "7bc14af553ba4cc59db1844524f8eeeb": {
      "model_module": "@jupyter-widgets/controls",
      "model_module_version": "2.0.0",
      "model_name": "ValidModel",
      "state": {
       "description": "CBF Subarray online",
       "layout": "IPY_MODEL_3f920bce14ae4d7e8ec6ec3c9affe647",
       "style": "IPY_MODEL_9f8d73207e0946f982a0c8c90e61a939",
       "value": true
      }
     },
     "7c1cde39f58c4a3a932fe8a77eab212f": {
      "model_module": "@jupyter-widgets/controls",
      "model_module_version": "2.0.0",
      "model_name": "DescriptionStyleModel",
      "state": {
       "description_width": "initial"
      }
     },
     "7c2bc7e2d3584b51bd3e579b84de3f8a": {
      "model_module": "@jupyter-widgets/controls",
      "model_module_version": "2.0.0",
      "model_name": "ValidModel",
      "state": {
       "description": "Dish leaf 001 admin",
       "layout": "IPY_MODEL_e6f6697997a64f04991193c1545619ee",
       "style": "IPY_MODEL_c1955af9755044ebbbf99f8b2893ccb9"
      }
     },
     "7c30ec601cbb4ee2aaa67ea38658f5c0": {
      "model_module": "@jupyter-widgets/base",
      "model_module_version": "2.0.0",
      "model_name": "LayoutModel",
      "state": {}
     },
     "7c3697d769404bfebb00ffc628724ccd": {
      "model_module": "@jupyter-widgets/controls",
      "model_module_version": "2.0.0",
      "model_name": "DescriptionStyleModel",
      "state": {
       "description_width": "initial"
      }
     },
     "7e5ac7b6848e4835bfab2264bd1b40db": {
      "model_module": "@jupyter-widgets/controls",
      "model_module_version": "2.0.0",
      "model_name": "DescriptionStyleModel",
      "state": {
       "description_width": "initial"
      }
     },
     "7e6057bfb9f144569d94433a1c3165be": {
      "model_module": "@jupyter-widgets/controls",
      "model_module_version": "2.0.0",
      "model_name": "IntProgressModel",
      "state": {
       "description": "Proxies",
       "layout": "IPY_MODEL_5312e9eab892444f874afffd29ea8299",
       "max": 14,
       "style": "IPY_MODEL_378d334e7ff34456ba51dd031b570ee7",
       "value": 14
      }
     },
     "7efcc7fe402a47dfa632f1634d35a922": {
      "model_module": "@jupyter-widgets/controls",
      "model_module_version": "2.0.0",
      "model_name": "ValidModel",
      "state": {
       "description": "Resources",
       "layout": "IPY_MODEL_a9fb3da2ea3b4000be6f4df50ba99294",
       "style": "IPY_MODEL_bd71caac5c2948f2a30404c1c07991a8",
       "value": true
      }
     },
     "7fe2d027b1394980afa4945250c9685d": {
      "model_module": "@jupyter-widgets/base",
      "model_module_version": "2.0.0",
      "model_name": "LayoutModel",
      "state": {
       "height": "200px",
       "width": "75%"
      }
     },
     "8030fd74e01d4ae2850d2e837fb129a9": {
      "model_module": "@jupyter-widgets/controls",
      "model_module_version": "2.0.0",
      "model_name": "ValidModel",
      "state": {
       "description": "CBF Subarray online",
       "layout": "IPY_MODEL_6e7c161cfff84aa78ad8434677d8a62d",
       "style": "IPY_MODEL_b2558779f57b4c72a1c6b98a775bd806",
       "value": true
      }
     },
     "806c7e8cbddb45428d555dc34c0a2844": {
      "model_module": "@jupyter-widgets/controls",
      "model_module_version": "2.0.0",
      "model_name": "CheckboxStyleModel",
      "state": {
       "description_width": ""
      }
     },
     "80ba2308685a460ea23e9c6dd4f0c197": {
      "model_module": "@jupyter-widgets/base",
      "model_module_version": "2.0.0",
      "model_name": "LayoutModel",
      "state": {
       "height": "200px",
       "width": "75%"
      }
     },
     "8125dc939cd74683aa1d2209a9ca2856": {
      "model_module": "@jupyter-widgets/controls",
      "model_module_version": "2.0.0",
      "model_name": "DescriptionStyleModel",
      "state": {
       "description_width": "initial"
      }
     },
     "8143c7f4a5ad41ee91926a2674890620": {
      "model_module": "@jupyter-widgets/base",
      "model_module_version": "2.0.0",
      "model_name": "LayoutModel",
      "state": {}
     },
     "814fac514c244a7bbf1a3e8addcd0b85": {
      "model_module": "@jupyter-widgets/controls",
      "model_module_version": "2.0.0",
      "model_name": "TextStyleModel",
      "state": {
       "description_width": "",
       "font_size": null,
       "text_color": null
      }
     },
     "8166bc34561d48a88b03d865669e2b5b": {
      "model_module": "@jupyter-widgets/controls",
      "model_module_version": "2.0.0",
      "model_name": "HTMLStyleModel",
      "state": {
       "description_width": "",
       "font_size": null,
       "text_color": null
      }
     },
     "81c275eeacc743a9baa59d6c5e96c8d1": {
      "model_module": "@jupyter-widgets/controls",
      "model_module_version": "2.0.0",
      "model_name": "ValidModel",
      "state": {
       "description": "CSP Subarray online",
       "layout": "IPY_MODEL_3e07c07cd8d1468a8dc183114015a672",
       "style": "IPY_MODEL_830003bcf5e5434f847ea27d7e65c6d8",
       "value": true
      }
     },
     "81ea0e472e0047c497f56d7193521bf7": {
      "model_module": "@jupyter-widgets/controls",
      "model_module_version": "2.0.0",
      "model_name": "IntProgressModel",
      "state": {
       "description": "Dish deploy",
       "layout": "IPY_MODEL_4ed1a1e22323459d9ff00a912d6f19d2",
       "max": 2,
       "style": "IPY_MODEL_d90fc9e5215e471fab29f2d9efb4e1e0",
       "value": 2
      }
     },
     "8263164935164d5d8c7f90ec717ae2d6": {
      "model_module": "@jupyter-widgets/controls",
      "model_module_version": "2.0.0",
      "model_name": "ValidModel",
      "state": {
       "description": "Dish manager SKA036 online",
       "layout": "IPY_MODEL_f25ea63f38c548179fc1b01e7db865ec",
       "style": "IPY_MODEL_ebc37ee3dbac4b53ba2b8f62a24539fa",
       "value": true
      }
     },
     "82965fa2d7904b4fb2b4a47606bd262f": {
      "model_module": "@jupyter-widgets/controls",
      "model_module_version": "2.0.0",
      "model_name": "CheckboxStyleModel",
      "state": {
       "description_width": ""
      }
     },
     "830003bcf5e5434f847ea27d7e65c6d8": {
      "model_module": "@jupyter-widgets/controls",
      "model_module_version": "2.0.0",
      "model_name": "DescriptionStyleModel",
      "state": {
       "description_width": "initial"
      }
     },
     "831ddec70eb042f5a58815c13f88eb6a": {
      "model_module": "@jupyter-widgets/controls",
      "model_module_version": "2.0.0",
      "model_name": "CheckboxModel",
      "state": {
       "description": "TMC CSP master admin",
       "disabled": false,
       "indent": false,
       "layout": "IPY_MODEL_fb5fe161e10745b2a43196130928fb35",
       "style": "IPY_MODEL_47e639d245f445faa0a44d923e7ce085",
       "value": false
      }
     },
     "8351f81ff5454e28ad2afa98457d8654": {
      "model_module": "@jupyter-widgets/base",
      "model_module_version": "2.0.0",
      "model_name": "LayoutModel",
      "state": {
       "width": "60%"
      }
     },
     "83baba4099564689a74f3705e0239c2c": {
      "model_module": "@jupyter-widgets/controls",
      "model_module_version": "2.0.0",
      "model_name": "DescriptionStyleModel",
      "state": {
       "description_width": "initial"
      }
     },
     "8507e65c984649c9a208f6f4b87b5c0f": {
      "model_module": "@jupyter-widgets/controls",
      "model_module_version": "2.0.0",
      "model_name": "TextStyleModel",
      "state": {
       "description_width": "",
       "font_size": null,
       "text_color": null
      }
     },
     "85679b6054fc4497893ae698b9fc441d": {
      "model_module": "@jupyter-widgets/base",
      "model_module_version": "2.0.0",
      "model_name": "LayoutModel",
      "state": {
       "width": "60%"
      }
     },
     "8569528ee1b54e89bbbdb97aa11cfef8": {
      "model_module": "@jupyter-widgets/base",
      "model_module_version": "2.0.0",
      "model_name": "LayoutModel",
      "state": {
       "width": "60%"
      }
     },
     "87566e2bc4a84217bd7eb8bba22726f6": {
      "model_module": "@jupyter-widgets/controls",
      "model_module_version": "2.0.0",
      "model_name": "CheckboxModel",
      "state": {
       "description": "CBF Simulation Mode",
       "disabled": false,
       "indent": false,
       "layout": "IPY_MODEL_5ef531821a534b248282168a5dbeb23d",
       "style": "IPY_MODEL_ca196c8079d64428932bd8c410afc971",
       "value": true
      }
     },
     "87749639aff94e9daf3246cdf7b7cc33": {
      "model_module": "@jupyter-widgets/base",
      "model_module_version": "2.0.0",
      "model_name": "LayoutModel",
      "state": {
       "width": "60%"
      }
     },
     "87e698ad822d45658e27575d62f35452": {
      "model_module": "@jupyter-widgets/base",
      "model_module_version": "2.0.0",
      "model_name": "LayoutModel",
      "state": {
       "width": "60%"
      }
     },
     "8877c7e6cc3f4097bc9662d82e94a20e": {
      "model_module": "@jupyter-widgets/base",
      "model_module_version": "2.0.0",
      "model_name": "LayoutModel",
      "state": {
       "width": "60%"
      }
     },
     "8882e41a274842cf93f70fbbf7621f37": {
      "model_module": "@jupyter-widgets/controls",
      "model_module_version": "2.0.0",
      "model_name": "DescriptionStyleModel",
      "state": {
       "description_width": "initial"
      }
     },
     "88a0ec67108d4e41ab816a83a540fcd6": {
      "model_module": "@jupyter-widgets/controls",
      "model_module_version": "2.0.0",
      "model_name": "CheckboxModel",
      "state": {
       "description": "CBF subarray admin",
       "disabled": false,
       "indent": false,
       "layout": "IPY_MODEL_ddfbb5c0d4d34e26946862832cbfd008",
       "style": "IPY_MODEL_574021da016e40beb28e627f4e50fdc9",
       "value": false
      }
     },
     "88f35e1677aa4c4ca72e77695963a2ca": {
      "model_module": "@jupyter-widgets/controls",
      "model_module_version": "2.0.0",
      "model_name": "TextModel",
      "state": {
       "description": "SDP Subarray Observation",
       "disabled": true,
       "layout": "IPY_MODEL_c9937e039a3f44f0b0864ad3b88cbb4a",
       "style": "IPY_MODEL_c847bd8a1f184d77b9e4e7c01986c329",
       "value": "sdpSubarrayObsState.IDLE"
      }
     },
     "89e5de27b3a64d34b15b158ac7cef937": {
      "model_module": "@jupyter-widgets/controls",
      "model_module_version": "2.0.0",
      "model_name": "CheckboxModel",
      "state": {
       "description": "Dish manager SKA036 admin",
       "disabled": false,
       "indent": false,
       "layout": "IPY_MODEL_549174f8568f4d73a9dcae6637e822f8",
       "style": "IPY_MODEL_b690e850b74746239e8ede4b02537a08",
       "value": false
      }
     },
     "8a4d4fa1453547f880cea9070a63088c": {
      "model_module": "@jupyter-widgets/controls",
      "model_module_version": "2.0.0",
      "model_name": "ValidModel",
      "state": {
       "description": "Dish tango://tango-databaseds.ci-dish-lmc-ska036-at-2146-consolidate-jupyter-notebooks.svc.miditf.internal.skao.int:10000/mid-dish/dish-manager/SKA036",
       "layout": "IPY_MODEL_0b683e6c30dc4ba9a03fe0a4f189789b",
       "style": "IPY_MODEL_9fcfbe60bed843b2b7c3515a643e96f5",
       "value": true
      }
     },
     "8b42acf5439a4e4a96513c21adfdf495": {
      "model_module": "@jupyter-widgets/controls",
      "model_module_version": "2.0.0",
      "model_name": "ValidModel",
      "state": {
       "description": "Telescope OFF",
       "layout": "IPY_MODEL_a00dda9366e8427382f8a324da961c82",
       "style": "IPY_MODEL_90048fb6b04446e190b500d76991b27d"
      }
     },
     "8c061fbee2114771992d08264c592249": {
      "model_module": "@jupyter-widgets/base",
      "model_module_version": "2.0.0",
      "model_name": "LayoutModel",
      "state": {}
     },
     "8c1be2d82b3a47db81927b3829881dee": {
      "model_module": "@jupyter-widgets/base",
      "model_module_version": "2.0.0",
      "model_name": "LayoutModel",
      "state": {}
     },
     "90048fb6b04446e190b500d76991b27d": {
      "model_module": "@jupyter-widgets/controls",
      "model_module_version": "2.0.0",
      "model_name": "DescriptionStyleModel",
      "state": {
       "description_width": "initial"
      }
     },
     "90ad46c4c3d246b99055f846d56174b4": {
      "model_module": "@jupyter-widgets/controls",
      "model_module_version": "2.0.0",
      "model_name": "ValidModel",
      "state": {
       "description": "Slew 036 OK",
       "layout": "IPY_MODEL_15385dfeb3b242c2b3a132db07fd70d8",
       "style": "IPY_MODEL_afdf12cf43db444699ab98453c2065e0",
       "value": true
      }
     },
     "90fa80b1e6fe4645b5ecd67baaa29559": {
      "model_module": "@jupyter-widgets/base",
      "model_module_version": "2.0.0",
      "model_name": "LayoutModel",
      "state": {
       "width": "60%"
      }
     },
     "91089b688e9340baad37a3d25dd6a998": {
      "model_module": "@jupyter-widgets/controls",
      "model_module_version": "2.0.0",
      "model_name": "DropdownModel",
      "state": {
       "_options_labels": [
        "binderhub",
        "calico-apiserver",
        "calico-operator",
        "calico-system",
        "ci-dish-lmc-ska001-at-2146-consolidate-jupyter-notebooks",
        "ci-dish-lmc-ska036-at-2146-consolidate-jupyter-notebooks",
        "ci-ska-mid-itf-at-2146-consolidate-jupyter-notebooks",
        "ci-ska-mid-itf-at-2146-consolidate-jupyter-notebooks-sdp",
        "cnpg-system",
        "cnpgdev",
        "default",
        "extdns",
        "file-browser",
        "flux-system",
        "gitlab",
        "infra",
        "ingress-nginx",
        "integration",
        "integration-dish-lmc-ska001",
        "integration-dish-lmc-ska036",
        "integration-sdp",
        "kube-node-lease",
        "kube-public",
        "kube-system",
        "kyverno",
        "metallb-system",
        "miditf-lmc-002-ds",
        "miditf-lmc-003-karoo-sims",
        "miditf-lmc-004-spf",
        "miditf-lmc-005-spfrx",
        "playground",
        "register-spfc",
        "rook-ceph",
        "secrets-store-csi-driver",
        "shared-ska-dataproducts",
        "ska-db-oda",
        "ska-tango-archiver",
        "ska-tango-operator",
        "sonobuoy",
        "spookd",
        "staging",
        "staging-dish-lmc-ska001",
        "staging-dish-lmc-ska036",
        "staging-sdp",
        "tango-tar-pvc",
        "tango-util",
        "taranta",
        "test-equipment",
        "vault"
       ],
       "description": "SUT ns",
       "index": 6,
       "layout": "IPY_MODEL_df991048500c4a26bdebd67a4c5ac4d3",
       "style": "IPY_MODEL_6a12d7cfff9b436c865b2dc3ab800731"
      }
     },
     "912941444e8d450cafc5d74944a27111": {
      "model_module": "@jupyter-widgets/base",
      "model_module_version": "2.0.0",
      "model_name": "LayoutModel",
      "state": {
       "height": "200px",
       "width": "75%"
      }
     },
     "91e6e91d0b784301875bdb5292b656f3": {
      "model_module": "@jupyter-widgets/controls",
      "model_module_version": "2.0.0",
      "model_name": "TextareaModel",
      "state": {
       "description": "ON error",
       "layout": "IPY_MODEL_912941444e8d450cafc5d74944a27111",
       "placeholder": "Error message",
       "style": "IPY_MODEL_bbef40b061234b4a95332034caa89e8d"
      }
     },
     "92ca63f245b946ad8952e0ff761be46a": {
      "model_module": "@jupyter-widgets/base",
      "model_module_version": "2.0.0",
      "model_name": "LayoutModel",
      "state": {
       "width": "60%"
      }
     },
     "935326e973a549509b619a9b3ad0f3a5": {
      "model_module": "@jupyter-widgets/base",
      "model_module_version": "2.0.0",
      "model_name": "LayoutModel",
      "state": {
       "width": "60%"
      }
     },
     "93d38bbf7db04fa3bd3bd6239f9e0521": {
      "model_module": "@jupyter-widgets/controls",
      "model_module_version": "2.0.0",
      "model_name": "IntProgressModel",
      "state": {
       "description": "Dish deploy",
       "layout": "IPY_MODEL_a9a2204f85144700a58c43160ca21b1f",
       "max": 2,
       "style": "IPY_MODEL_2b341b037fdb45378dd790628388cc2c",
       "value": 2
      }
     },
     "9493580a176c496487b7f8d0bbad1e1b": {
      "model_module": "@jupyter-widgets/base",
      "model_module_version": "2.0.0",
      "model_name": "LayoutModel",
      "state": {}
     },
     "95c33ee497374f6483b886db9a6becb9": {
      "model_module": "@jupyter-widgets/controls",
      "model_module_version": "2.0.0",
      "model_name": "CheckboxModel",
      "state": {
       "description": "CBF controller admin",
       "disabled": false,
       "indent": false,
       "layout": "IPY_MODEL_ce34882daacc4ef68abf76ae0f71c5d7",
       "style": "IPY_MODEL_806c7e8cbddb45428d555dc34c0a2844",
       "value": false
      }
     },
     "95ea6909ab55441d86616d4615226a27": {
      "model_module": "@jupyter-widgets/controls",
      "model_module_version": "2.0.0",
      "model_name": "CheckboxStyleModel",
      "state": {
       "description_width": ""
      }
     },
     "9613765ce55d40a780b2a0ae4f179068": {
      "model_module": "@jupyter-widgets/controls",
      "model_module_version": "2.0.0",
      "model_name": "ValidModel",
      "state": {
       "description": "Ready",
       "layout": "IPY_MODEL_2ebf3adc7fd440388786464e6db74244",
       "style": "IPY_MODEL_c8a9c182a6ec49b1845a483986e15551"
      }
     },
     "961733e07006453ab75d225e37a3a0f7": {
      "model_module": "@jupyter-widgets/controls",
      "model_module_version": "2.0.0",
      "model_name": "CheckboxModel",
      "state": {
       "description": "CBF FSP correlator subarray admin",
       "disabled": false,
       "indent": false,
       "layout": "IPY_MODEL_fe1cad592e4a457f9c31054d96764ecd",
       "style": "IPY_MODEL_13e772db81eb49f991e5fbb0785188ee",
       "value": false
      }
     },
     "966843243bbf4063bf4d5ad5dde6b5fb": {
      "model_module": "@jupyter-widgets/controls",
      "model_module_version": "2.0.0",
      "model_name": "ValidModel",
      "state": {
       "description": "SDP subarray admin",
       "layout": "IPY_MODEL_4d71e34538e845ba8d3c1646b1abe44f",
       "style": "IPY_MODEL_8882e41a274842cf93f70fbbf7621f37",
       "value": true
      }
     },
     "969a1d23e1004ad5a3ab25ea3dbd550d": {
      "model_module": "@jupyter-widgets/controls",
      "model_module_version": "2.0.0",
      "model_name": "TextStyleModel",
      "state": {
       "description_width": "",
       "font_size": null,
       "text_color": null
      }
     },
     "96a6ba7769eb468dafee863bdb6f648e": {
      "model_module": "@jupyter-widgets/base",
      "model_module_version": "2.0.0",
      "model_name": "LayoutModel",
      "state": {}
     },
     "96ef46b4d26b4fa287837fb433e3e1b3": {
      "model_module": "@jupyter-widgets/controls",
      "model_module_version": "2.0.0",
      "model_name": "SliderStyleModel",
      "state": {
       "description_width": ""
      }
     },
     "97dc3b22cce249f1a6c182ec94ee5916": {
      "model_module": "@jupyter-widgets/controls",
      "model_module_version": "2.0.0",
      "model_name": "DescriptionStyleModel",
      "state": {
       "description_width": "initial"
      }
     },
     "98af5d6e7b004aa9b76e3c1ef475838e": {
      "model_module": "@jupyter-widgets/controls",
      "model_module_version": "2.0.0",
      "model_name": "ValidModel",
      "state": {
       "description": "CBF FSP correlator subarray online",
       "layout": "IPY_MODEL_579c1fbb6eae4dcbb112e0858f5e9e6e",
       "style": "IPY_MODEL_b269f17ba57449d18181cefd1aeb3aec",
       "value": true
      }
     },
     "99272d5512fc4891ab568969702025dd": {
      "model_module": "@jupyter-widgets/base",
      "model_module_version": "2.0.0",
      "model_name": "LayoutModel",
      "state": {
       "width": "60%"
      }
     },
     "9a1b038e1e564f9e9ab9015bb56a5601": {
      "model_module": "@jupyter-widgets/controls",
      "model_module_version": "2.0.0",
      "model_name": "TextareaModel",
      "state": {
       "description": "Error",
       "layout": "IPY_MODEL_45348fdacd2b45fba38781fddc876d81",
       "placeholder": "Error message",
       "style": "IPY_MODEL_ad3ef0ea36b647afa12ccab80b95940a",
       "value": "TRANSIENT CORBA system exception: TRANSIENT_CallTimedout"
      }
     },
     "9a3c97b4d78a48518f58affa30a2024e": {
      "model_module": "@jupyter-widgets/controls",
      "model_module_version": "2.0.0",
      "model_name": "IntProgressModel",
      "state": {
       "description": "Loading:",
       "layout": "IPY_MODEL_28f10ac925f94ae9859e4efced4357b0",
       "max": 20,
       "style": "IPY_MODEL_0f211b94dd4f4610b08a4df7f25b4123",
       "value": 7
      }
     },
     "9b2e47c62b924887a3f8e38c39235563": {
      "model_module": "@jupyter-widgets/controls",
      "model_module_version": "2.0.0",
      "model_name": "CheckboxStyleModel",
      "state": {
       "description_width": ""
      }
     },
     "9c0ca85cac034f92b57bcf55368bdbf6": {
      "model_module": "@jupyter-widgets/controls",
      "model_module_version": "2.0.0",
      "model_name": "ValidModel",
      "state": {
       "description": "CBF controller admin",
       "layout": "IPY_MODEL_4e8a0231ff334c16a3b0f79239b38c3b",
       "style": "IPY_MODEL_221331a532064f16a5032ec6c8ea050c"
      }
     },
     "9ccf4b1096c44edb9df4b369c9097ba4": {
      "model_module": "@jupyter-widgets/base",
      "model_module_version": "2.0.0",
      "model_name": "LayoutModel",
      "state": {}
     },
     "9cedcb4199074a90815df8bf235db679": {
      "model_module": "@jupyter-widgets/base",
      "model_module_version": "2.0.0",
      "model_name": "LayoutModel",
      "state": {
       "width": "60%"
      }
     },
     "9cefd5857ed6453ba4b9d2e4c2825994": {
      "model_module": "@jupyter-widgets/controls",
      "model_module_version": "2.0.0",
      "model_name": "ValidModel",
      "state": {
       "description": "TMC CSP master admin",
       "layout": "IPY_MODEL_b757ca6ae25643db92f8ef4046bc61cb",
       "style": "IPY_MODEL_009c39240a8b469d8ebf5b359de0cd30"
      }
     },
     "9e412e51384044e8aada7cdefec5eada": {
      "model_module": "@jupyter-widgets/base",
      "model_module_version": "2.0.0",
      "model_name": "LayoutModel",
      "state": {
       "width": "60%"
      }
     },
     "9f8d73207e0946f982a0c8c90e61a939": {
      "model_module": "@jupyter-widgets/controls",
      "model_module_version": "2.0.0",
      "model_name": "DescriptionStyleModel",
      "state": {
       "description_width": "initial"
      }
     },
     "9fcfbe60bed843b2b7c3515a643e96f5": {
      "model_module": "@jupyter-widgets/controls",
      "model_module_version": "2.0.0",
      "model_name": "DescriptionStyleModel",
      "state": {
       "description_width": "initial"
      }
     },
     "a00dda9366e8427382f8a324da961c82": {
      "model_module": "@jupyter-widgets/base",
      "model_module_version": "2.0.0",
      "model_name": "LayoutModel",
      "state": {
       "width": "60%"
      }
     },
     "a05a0d3bc9e14dcfbb68c9a73bfef784": {
      "model_module": "@jupyter-widgets/controls",
      "model_module_version": "2.0.0",
      "model_name": "DescriptionStyleModel",
      "state": {
       "description_width": "initial"
      }
     },
     "a05e6834e6f4445c970ef7c6f50174d4": {
      "model_module": "@jupyter-widgets/controls",
      "model_module_version": "2.0.0",
      "model_name": "TextStyleModel",
      "state": {
       "description_width": "",
       "font_size": null,
       "text_color": null
      }
     },
     "a19f0a7b19864900a69420e820fab3fd": {
      "model_module": "@jupyter-widgets/controls",
      "model_module_version": "2.0.0",
      "model_name": "TextStyleModel",
      "state": {
       "description_width": "",
       "font_size": null,
       "text_color": null
      }
     },
     "a1b1b9faa8ab4e4fbfb08bd8e112b9e7": {
      "model_module": "@jupyter-widgets/controls",
      "model_module_version": "2.0.0",
      "model_name": "TextModel",
      "state": {
       "description": "SDP Sub ObsState",
       "disabled": true,
       "layout": "IPY_MODEL_b7c13e155f1548cd93033b8035eff408",
       "style": "IPY_MODEL_814fac514c244a7bbf1a3e8addcd0b85",
       "value": "sdpSubarrayObsState.IDLE"
      }
     },
     "a30a0dba852941198cdb3e7836b0d11e": {
      "model_module": "@jupyter-widgets/base",
      "model_module_version": "2.0.0",
      "model_name": "LayoutModel",
      "state": {
       "width": "60%"
      }
     },
     "a316864e889c45248be81b7d24770e6e": {
      "model_module": "@jupyter-widgets/controls",
      "model_module_version": "2.0.0",
      "model_name": "DescriptionStyleModel",
      "state": {
       "description_width": "initial"
      }
     },
     "a3f2d5686b704657a7c02e90cf9a6d98": {
      "model_module": "@jupyter-widgets/controls",
      "model_module_version": "2.0.0",
      "model_name": "TextareaModel",
      "state": {
       "description": "Error",
       "layout": "IPY_MODEL_fa2f68e50fbd4783abc5b869a164704b",
       "placeholder": "Error message",
       "style": "IPY_MODEL_dbceb95212bc496e9759e90f17b9e200",
       "value": "ska_tmc_common.exceptions.InvalidObsStateError: End command is not allowed in current observation state on device mid-csp/subarray/01\nReason: The current observation state of mid-csp/subarray/01 for observation is 0\nThe End command has NOT been executed. This device will continue with normal operation."
      }
     },
     "a5460229937049fbb28436bdc959f355": {
      "model_module": "@jupyter-widgets/controls",
      "model_module_version": "2.0.0",
      "model_name": "ValidModel",
      "state": {
       "description": "CBF Controller online",
       "layout": "IPY_MODEL_d4360f74406f4d01aa961639c9da70d1",
       "style": "IPY_MODEL_70b157dd91074877a71a3690baab5ff3",
       "value": true
      }
     },
     "a7563a1e2360420292d534642176a96b": {
      "model_module": "@jupyter-widgets/base",
      "model_module_version": "2.0.0",
      "model_name": "LayoutModel",
      "state": {}
     },
     "a79a5e73c1344543a4b95c21cd7fb075": {
      "model_module": "@jupyter-widgets/base",
      "model_module_version": "2.0.0",
      "model_name": "LayoutModel",
      "state": {
       "width": "60%"
      }
     },
     "a861a70d59ce421fabbbc4864b9f0776": {
      "model_module": "@jupyter-widgets/controls",
      "model_module_version": "2.0.0",
      "model_name": "CheckboxModel",
      "state": {
       "description": "SDP subarray admin",
       "disabled": false,
       "indent": false,
       "layout": "IPY_MODEL_40545719f4374348a04b8e60db096394",
       "style": "IPY_MODEL_69dffa0601864548b3bfa5ac944cc38c",
       "value": true
      }
     },
     "a8f814422ec44061b804694305f35db8": {
      "model_module": "@jupyter-widgets/base",
      "model_module_version": "2.0.0",
      "model_name": "LayoutModel",
      "state": {}
     },
     "a94feb0f0d8349c09a807f07fce8e059": {
      "model_module": "@jupyter-widgets/base",
      "model_module_version": "2.0.0",
      "model_name": "LayoutModel",
      "state": {
       "width": "60%"
      }
     },
     "a9a2204f85144700a58c43160ca21b1f": {
      "model_module": "@jupyter-widgets/base",
      "model_module_version": "2.0.0",
      "model_name": "LayoutModel",
      "state": {}
     },
     "a9fb3da2ea3b4000be6f4df50ba99294": {
      "model_module": "@jupyter-widgets/base",
      "model_module_version": "2.0.0",
      "model_name": "LayoutModel",
      "state": {
       "width": "60%"
      }
     },
     "aaae6819c8994254823549d1b3113be8": {
      "model_module": "@jupyter-widgets/base",
      "model_module_version": "2.0.0",
      "model_name": "LayoutModel",
      "state": {
       "width": "60%"
      }
     },
     "aac29f593ffb4c1ca210a0427ddf0dfd": {
      "model_module": "@jupyter-widgets/controls",
      "model_module_version": "2.0.0",
      "model_name": "DescriptionStyleModel",
      "state": {
       "description_width": "initial"
      }
     },
     "aae38553541a4aaf84265b4e9b79af35": {
      "model_module": "@jupyter-widgets/controls",
      "model_module_version": "2.0.0",
      "model_name": "IntProgressModel",
      "state": {
       "description": "Loading:",
       "layout": "IPY_MODEL_b0cf2fd20c7f44cda8e5aa051ca5347a",
       "max": 20,
       "style": "IPY_MODEL_69addf09679c42ea8d6837d030bf672e",
       "value": 7
      }
     },
     "ab3c611ce8324d23ae0c496b4ca851b6": {
      "model_module": "@jupyter-widgets/controls",
      "model_module_version": "2.0.0",
      "model_name": "DescriptionStyleModel",
      "state": {
       "description_width": "initial"
      }
     },
     "ab5db0bfa6d647f780acb7c4bcf6a346": {
      "model_module": "@jupyter-widgets/controls",
      "model_module_version": "2.0.0",
      "model_name": "CheckboxStyleModel",
      "state": {
       "description_width": ""
      }
     },
     "ab975d4dc2d44231a61ca53bab93dfc0": {
      "model_module": "@jupyter-widgets/controls",
      "model_module_version": "2.0.0",
      "model_name": "TextStyleModel",
      "state": {
       "description_width": "",
       "font_size": null,
       "text_color": null
      }
     },
     "aba5c360c66649749347961628f16876": {
      "model_module": "@jupyter-widgets/controls",
      "model_module_version": "2.0.0",
      "model_name": "DropdownModel",
      "state": {
       "_options_labels": [
        "binderhub",
        "calico-apiserver",
        "calico-operator",
        "calico-system",
        "ci-dish-lmc-ska001-at-2146-consolidate-jupyter-notebooks",
        "ci-dish-lmc-ska036-at-2146-consolidate-jupyter-notebooks",
        "ci-ska-mid-itf-at-2146-consolidate-jupyter-notebooks",
        "ci-ska-mid-itf-at-2146-consolidate-jupyter-notebooks-sdp",
        "cnpg-system",
        "cnpgdev",
        "default",
        "extdns",
        "file-browser",
        "flux-system",
        "gitlab",
        "infra",
        "ingress-nginx",
        "integration",
        "integration-dish-lmc-ska001",
        "integration-dish-lmc-ska036",
        "integration-sdp",
        "kube-node-lease",
        "kube-public",
        "kube-system",
        "kyverno",
        "metallb-system",
        "miditf-lmc-002-ds",
        "miditf-lmc-003-karoo-sims",
        "miditf-lmc-004-spf",
        "miditf-lmc-005-spfrx",
        "playground",
        "register-spfc",
        "rook-ceph",
        "secrets-store-csi-driver",
        "shared-ska-dataproducts",
        "ska-db-oda",
        "ska-tango-archiver",
        "ska-tango-operator",
        "sonobuoy",
        "spookd",
        "staging",
        "staging-dish-lmc-ska001",
        "staging-dish-lmc-ska036",
        "staging-sdp",
        "tango-tar-pvc",
        "tango-util",
        "taranta",
        "test-equipment",
        "vault"
       ],
       "description": "SUT ns",
       "index": 0,
       "layout": "IPY_MODEL_debaa9a5a93247b89959b7c25351d2a1",
       "style": "IPY_MODEL_e262a54da7024c1d834414fdf8f13ad4"
      }
     },
     "ad3ef0ea36b647afa12ccab80b95940a": {
      "model_module": "@jupyter-widgets/controls",
      "model_module_version": "2.0.0",
      "model_name": "TextStyleModel",
      "state": {
       "description_width": "",
       "font_size": null,
       "text_color": null
      }
     },
     "ad73385453294db4b9586c0de5d59459": {
      "model_module": "@jupyter-widgets/controls",
      "model_module_version": "2.0.0",
      "model_name": "ValidModel",
      "state": {
       "description": "Config loaded",
       "layout": "IPY_MODEL_427da94cda7c41059a3ed40d932fe5eb",
       "style": "IPY_MODEL_7e5ac7b6848e4835bfab2264bd1b40db"
      }
     },
     "ad78d5c7ed26486d973ff18c3527374c": {
      "model_module": "@jupyter-widgets/controls",
      "model_module_version": "2.0.0",
      "model_name": "TextModel",
      "state": {
       "description": "TMC Central Node",
       "disabled": true,
       "layout": "IPY_MODEL_6a1f6de380b84c79b5247a87a1bdd370",
       "style": "IPY_MODEL_db707165b81d44308f9d40f2615e1a05",
       "value": "The device is in ON state."
      }
     },
     "af4cfcfe9f174e86b00f065fb5b87ea0": {
      "model_module": "@jupyter-widgets/controls",
      "model_module_version": "2.0.0",
      "model_name": "CheckboxStyleModel",
      "state": {
       "description_width": ""
      }
     },
     "af59198590b04807aee2f2a0ff810de6": {
      "model_module": "@jupyter-widgets/controls",
      "model_module_version": "2.0.0",
      "model_name": "TextStyleModel",
      "state": {
       "description_width": "",
       "font_size": null,
       "text_color": null
      }
     },
     "afdf12cf43db444699ab98453c2065e0": {
      "model_module": "@jupyter-widgets/controls",
      "model_module_version": "2.0.0",
      "model_name": "DescriptionStyleModel",
      "state": {
       "description_width": "initial"
      }
     },
     "afffd0d68836478c8646977d4c18d952": {
      "model_module": "@jupyter-widgets/controls",
      "model_module_version": "2.0.0",
      "model_name": "CheckboxStyleModel",
      "state": {
       "description_width": ""
      }
     },
     "b013eed861b848799dd3cbded2f5b8e6": {
      "model_module": "@jupyter-widgets/base",
      "model_module_version": "2.0.0",
      "model_name": "LayoutModel",
      "state": {}
     },
     "b0521ee7fd5d4cc1847dd928e6d618ae": {
      "model_module": "@jupyter-widgets/controls",
      "model_module_version": "2.0.0",
      "model_name": "TextStyleModel",
      "state": {
       "description_width": "",
       "font_size": null,
       "text_color": null
      }
     },
     "b0cf2fd20c7f44cda8e5aa051ca5347a": {
      "model_module": "@jupyter-widgets/base",
      "model_module_version": "2.0.0",
      "model_name": "LayoutModel",
      "state": {}
     },
     "b1e4ee02c6e44bd4b2e3b8e203575763": {
      "model_module": "@jupyter-widgets/base",
      "model_module_version": "2.0.0",
      "model_name": "LayoutModel",
      "state": {}
     },
     "b24fa11629d845dc9129323506276008": {
      "model_module": "@jupyter-widgets/controls",
      "model_module_version": "2.0.0",
      "model_name": "ValidModel",
      "state": {
       "description": "Ready",
       "layout": "IPY_MODEL_4fdde667ae974643aa5257ffe5b02f02",
       "style": "IPY_MODEL_c05c504faeaf471282a3533dc8020956"
      }
     },
     "b2558779f57b4c72a1c6b98a775bd806": {
      "model_module": "@jupyter-widgets/controls",
      "model_module_version": "2.0.0",
      "model_name": "DescriptionStyleModel",
      "state": {
       "description_width": "initial"
      }
     },
     "b269f17ba57449d18181cefd1aeb3aec": {
      "model_module": "@jupyter-widgets/controls",
      "model_module_version": "2.0.0",
      "model_name": "DescriptionStyleModel",
      "state": {
       "description_width": "initial"
      }
     },
     "b29a9a9ba25f4a44b74a3422afe776a2": {
      "model_module": "@jupyter-widgets/controls",
      "model_module_version": "2.0.0",
      "model_name": "TextModel",
      "state": {
       "description": "SKA036 ns",
       "disabled": true,
       "layout": "IPY_MODEL_87e698ad822d45658e27575d62f35452",
       "style": "IPY_MODEL_dafbf2d9eb964d1fa2688b06241a43e5",
       "value": "ci-dish-lmc-ska036-at-2146-consolidate-jupyter-notebooks"
      }
     },
     "b2fceb03f7ef4dd68414a21f07d6229e": {
      "model_module": "@jupyter-widgets/base",
      "model_module_version": "2.0.0",
      "model_name": "LayoutModel",
      "state": {}
     },
     "b338de0d3bd14e518e12469fc70b45f1": {
      "model_module": "@jupyter-widgets/controls",
      "model_module_version": "2.0.0",
      "model_name": "ValidModel",
      "state": {
       "description": "Telescope ON",
       "layout": "IPY_MODEL_9e412e51384044e8aada7cdefec5eada",
       "style": "IPY_MODEL_2cc88557c7644314a693253dd0180d9a"
      }
     },
     "b486499900a64f7b975fc39e1b9b00dc": {
      "model_module": "@jupyter-widgets/controls",
      "model_module_version": "2.0.0",
      "model_name": "ValidModel",
      "state": {
       "description": "Telescope ON",
       "layout": "IPY_MODEL_a94feb0f0d8349c09a807f07fce8e059",
       "style": "IPY_MODEL_a05a0d3bc9e14dcfbb68c9a73bfef784"
      }
     },
     "b4d8b9f39aa54412b178d29ffcb6d07e": {
      "model_module": "@jupyter-widgets/base",
      "model_module_version": "2.0.0",
      "model_name": "LayoutModel",
      "state": {
       "height": "200px",
       "width": "75%"
      }
     },
     "b53b1d5154984351b006465dbfd44d69": {
      "model_module": "@jupyter-widgets/base",
      "model_module_version": "2.0.0",
      "model_name": "LayoutModel",
      "state": {}
     },
     "b5dde2bc18544d0083f0defd5af3c3b2": {
      "model_module": "@jupyter-widgets/controls",
      "model_module_version": "2.0.0",
      "model_name": "HTMLStyleModel",
      "state": {
       "description_width": "",
       "font_size": null,
       "text_color": null
      }
     },
     "b64f3c7e482a4b41ae546bce50d6411d": {
      "model_module": "@jupyter-widgets/controls",
      "model_module_version": "2.0.0",
      "model_name": "ValidModel",
      "state": {
       "description": "CSP subarray online",
       "layout": "IPY_MODEL_8877c7e6cc3f4097bc9662d82e94a20e",
       "style": "IPY_MODEL_55c1ff951b904b3280b83cad5ef6400e",
       "value": true
      }
     },
     "b690e850b74746239e8ede4b02537a08": {
      "model_module": "@jupyter-widgets/controls",
      "model_module_version": "2.0.0",
      "model_name": "CheckboxStyleModel",
      "state": {
       "description_width": ""
      }
     },
     "b6cf26a476f242178ff40ea77659d7be": {
      "model_module": "@jupyter-widgets/controls",
      "model_module_version": "2.0.0",
      "model_name": "DescriptionStyleModel",
      "state": {
       "description_width": "initial"
      }
     },
     "b6e5650f54d44f1faa8aab0886deb307": {
      "model_module": "@jupyter-widgets/base",
      "model_module_version": "2.0.0",
      "model_name": "LayoutModel",
      "state": {}
     },
     "b6fed3affd714ebfbaf4e1ec7c5dd73c": {
      "model_module": "@jupyter-widgets/controls",
      "model_module_version": "2.0.0",
      "model_name": "ProgressStyleModel",
      "state": {
       "bar_color": "maroon",
       "description_width": ""
      }
     },
     "b72bd9bc5ce9467682b357d905b93c8a": {
      "model_module": "@jupyter-widgets/base",
      "model_module_version": "2.0.0",
      "model_name": "LayoutModel",
      "state": {
       "width": "60%"
      }
     },
     "b757ca6ae25643db92f8ef4046bc61cb": {
      "model_module": "@jupyter-widgets/base",
      "model_module_version": "2.0.0",
      "model_name": "LayoutModel",
      "state": {
       "width": "60%"
      }
     },
     "b7c13e155f1548cd93033b8035eff408": {
      "model_module": "@jupyter-widgets/base",
      "model_module_version": "2.0.0",
      "model_name": "LayoutModel",
      "state": {
       "width": "60%"
      }
     },
     "b9ea656121cd42e3a5d12242812cbf57": {
      "model_module": "@jupyter-widgets/controls",
      "model_module_version": "2.0.0",
      "model_name": "TextareaModel",
      "state": {
       "description": "Error",
       "layout": "IPY_MODEL_1a00c74f1d1443b9afee8870b5ab33ba",
       "placeholder": "Error message",
       "style": "IPY_MODEL_2403559806b84429a23167c8fc85808b",
       "value": "TRANSIENT CORBA system exception: TRANSIENT_CallTimedout"
      }
     },
     "bac30d9b1b3e4a279b0cb6d81d07b34b": {
      "model_module": "@jupyter-widgets/controls",
      "model_module_version": "2.0.0",
      "model_name": "CheckboxStyleModel",
      "state": {
       "description_width": ""
      }
     },
     "bb22601af58046a98a54dcbaa3b0f15a": {
      "model_module": "@jupyter-widgets/controls",
      "model_module_version": "2.0.0",
      "model_name": "IntSliderModel",
      "state": {
       "behavior": "drag-tap",
       "continuous_update": false,
       "description": "Sleep",
       "layout": "IPY_MODEL_4e2e8ed5168f4ddd9461e6cf492de2fb",
       "max": 30,
       "style": "IPY_MODEL_2ed1204720bb471b89ece3cb99d3370a",
       "value": 5
      }
     },
     "bb8e1c79c2dd411689133f4cd52fb88d": {
      "model_module": "@jupyter-widgets/controls",
      "model_module_version": "2.0.0",
      "model_name": "CheckboxModel",
      "state": {
       "description": "Dish manager SKA036 admin",
       "disabled": false,
       "indent": false,
       "layout": "IPY_MODEL_4df075a9b38d4b58923cd178d2e02e16",
       "style": "IPY_MODEL_bac30d9b1b3e4a279b0cb6d81d07b34b",
       "value": false
      }
     },
     "bbef40b061234b4a95332034caa89e8d": {
      "model_module": "@jupyter-widgets/controls",
      "model_module_version": "2.0.0",
      "model_name": "TextStyleModel",
      "state": {
       "description_width": "",
       "font_size": null,
       "text_color": null
      }
     },
     "bc79c62fe096481a978d462307b38cbf": {
      "model_module": "@jupyter-widgets/controls",
      "model_module_version": "2.0.0",
      "model_name": "TextStyleModel",
      "state": {
       "description_width": "",
       "font_size": null,
       "text_color": null
      }
     },
     "bcc6e95da8d44ff0982ce96e2cd5a001": {
      "model_module": "@jupyter-widgets/controls",
      "model_module_version": "2.0.0",
      "model_name": "ValidModel",
      "state": {
       "description": "CBF Subarray online",
       "layout": "IPY_MODEL_3a364fbbe626402eaef975813e94643d",
       "style": "IPY_MODEL_ab3c611ce8324d23ae0c496b4ca851b6",
       "value": true
      }
     },
     "bd08504a59eb433db1740b52a8094cf0": {
      "model_module": "@jupyter-widgets/base",
      "model_module_version": "2.0.0",
      "model_name": "LayoutModel",
      "state": {
       "height": "200px",
       "width": "75%"
      }
     },
     "bd71caac5c2948f2a30404c1c07991a8": {
      "model_module": "@jupyter-widgets/controls",
      "model_module_version": "2.0.0",
      "model_name": "DescriptionStyleModel",
      "state": {
       "description_width": "initial"
      }
     },
     "bdecc5d2c1ba4734b9e360924a0cbf0b": {
      "model_module": "@jupyter-widgets/base",
      "model_module_version": "2.0.0",
      "model_name": "LayoutModel",
      "state": {}
     },
     "c0065652bce2415a96274ed030725455": {
      "model_module": "@jupyter-widgets/controls",
      "model_module_version": "2.0.0",
      "model_name": "CheckboxModel",
      "state": {
       "description": "Dish leaf 036 admin",
       "disabled": false,
       "indent": false,
       "layout": "IPY_MODEL_073121a839274d629e1cfecafe16d82a",
       "style": "IPY_MODEL_667670fe5c034c349814abea68051593",
       "value": false
      }
     },
     "c035544a2dba4f5488640d16a1898477": {
      "model_module": "@jupyter-widgets/controls",
      "model_module_version": "2.0.0",
      "model_name": "ProgressStyleModel",
      "state": {
       "bar_color": "maroon",
       "description_width": ""
      }
     },
     "c05c504faeaf471282a3533dc8020956": {
      "model_module": "@jupyter-widgets/controls",
      "model_module_version": "2.0.0",
      "model_name": "DescriptionStyleModel",
      "state": {
       "description_width": "initial"
      }
     },
     "c175926770364a55a5ea565f120ada84": {
      "model_module": "@jupyter-widgets/controls",
      "model_module_version": "2.0.0",
      "model_name": "ValidModel",
      "state": {
       "description": "TMC Central Node admin",
       "layout": "IPY_MODEL_85679b6054fc4497893ae698b9fc441d",
       "style": "IPY_MODEL_684cfbc50dd5496ab0c10adbf3f633d4"
      }
     },
     "c1955af9755044ebbbf99f8b2893ccb9": {
      "model_module": "@jupyter-widgets/controls",
      "model_module_version": "2.0.0",
      "model_name": "DescriptionStyleModel",
      "state": {
       "description_width": "initial"
      }
     },
     "c1d47935cbb1476fa56013c49d09835a": {
      "model_module": "@jupyter-widgets/controls",
      "model_module_version": "2.0.0",
      "model_name": "ProgressStyleModel",
      "state": {
       "bar_color": "maroon",
       "description_width": ""
      }
     },
     "c20285e57b00499b813694ee286974eb": {
      "model_module": "@jupyter-widgets/controls",
      "model_module_version": "2.0.0",
      "model_name": "TextStyleModel",
      "state": {
       "description_width": "",
       "font_size": null,
       "text_color": null
      }
     },
     "c3ef4b891b134603b134719360a0d80f": {
      "model_module": "@jupyter-widgets/base",
      "model_module_version": "2.0.0",
      "model_name": "LayoutModel",
      "state": {
       "width": "60%"
      }
     },
     "c460c6eca8314dc8b2845012b032e710": {
      "model_module": "@jupyter-widgets/controls",
      "model_module_version": "2.0.0",
      "model_name": "ValidModel",
      "state": {
       "description": "CSP Control online",
       "layout": "IPY_MODEL_d48f3c830f3a408da21e3afa294506b7",
       "style": "IPY_MODEL_8125dc939cd74683aa1d2209a9ca2856",
       "value": true
      }
     },
     "c471e26d24634536b60a6da67345eea9": {
      "model_module": "@jupyter-widgets/controls",
      "model_module_version": "2.0.0",
      "model_name": "ValidModel",
      "state": {
       "description": "TMC CSP subarray online",
       "layout": "IPY_MODEL_e2640e3ed181413a9aa4a53f8fc4bd9f",
       "style": "IPY_MODEL_d53d2a3466e74460b7be9cc4a62607c2",
       "value": true
      }
     },
     "c4cdce1db2054fe989f6eae40ce4cd2d": {
      "model_module": "@jupyter-widgets/controls",
      "model_module_version": "2.0.0",
      "model_name": "ValidModel",
      "state": {
       "description": "Ready",
       "layout": "IPY_MODEL_cc75cf24f50647419ad8b684d13cc6bf",
       "style": "IPY_MODEL_0f5d54919f2d46e4acfa35db825b5987"
      }
     },
     "c5a1b16a33394b2882d00219cc6b62f0": {
      "model_module": "@jupyter-widgets/controls",
      "model_module_version": "2.0.0",
      "model_name": "ValidModel",
      "state": {
       "description": "TMC Central Node online",
       "layout": "IPY_MODEL_e15d23e51345463586af7cc937a7ecae",
       "style": "IPY_MODEL_6eb5cfccfa994186a93638a8d1ac4368",
       "value": true
      }
     },
     "c5cfa826f4444124a0aa0a6fac875a71": {
      "model_module": "@jupyter-widgets/controls",
      "model_module_version": "2.0.0",
      "model_name": "HTMLModel",
      "state": {
       "description": "TMC",
       "layout": "IPY_MODEL_a8f814422ec44061b804694305f35db8",
       "placeholder": "TMC status",
       "style": "IPY_MODEL_b5dde2bc18544d0083f0defd5af3c3b2",
       "value": "<style>td {border: thin blue ridge; padding: 2px}</style><table><tr><td>Central Node</td><td>ska_mid/tm_central/central_node</td></tr><tr><td>Central Node state</td><td>ON</td></tr><tr><td>Central Node adminMode</td><td>adminMode.OFFLINE</td></tr><tr><td>Central Node healthState</td><td>healthState.OK</td></tr><tr><td>Central Node telescopeHealthState</td><td> telescopeHealthState.UNKNOWN</td></tr><tr><td>Central Node isDishVccConfig</td><td>False</td></tr><tr><td>Central Node DishVccValidationStatus</td><td>{\"d0036\": \"k-value not set\", \"d0001\": \"k-value not set\", \"ska_mid/tm_leaf_node/csp_master\": \"CSP Master device is unavailable\"}</td></tr><tr><td>Subarray Node state</td><td>ON</td></tr><tr><td>Subarray adminMode</td><td>adminMode.OFFLINE</td></tr></table>"
      }
     },
     "c63afd1195b541fa9dcf69db53327531": {
      "model_module": "@jupyter-widgets/controls",
      "model_module_version": "2.0.0",
      "model_name": "CheckboxModel",
      "state": {
       "description": "Dish leaf 036 admin",
       "disabled": false,
       "indent": false,
       "layout": "IPY_MODEL_582d4adf54e542ae9e5ca47dc7feecf8",
       "style": "IPY_MODEL_f93d77bf13cb4641a308b8e7aadc1f05",
       "value": false
      }
     },
     "c7e6982fc6954605872d34f33c140d24": {
      "model_module": "@jupyter-widgets/base",
      "model_module_version": "2.0.0",
      "model_name": "LayoutModel",
      "state": {
       "height": "200px",
       "width": "75%"
      }
     },
     "c83f118671a941838a69c8a95563f009": {
      "model_module": "@jupyter-widgets/controls",
      "model_module_version": "2.0.0",
      "model_name": "TextareaModel",
      "state": {
       "description": "Error",
       "layout": "IPY_MODEL_7fe2d027b1394980afa4945250c9685d",
       "placeholder": "Error message",
       "style": "IPY_MODEL_6a91ded500ac490f9cb35665653ff435",
       "value": "ska_tango_base.faults.StateModelError: Configure command not permitted in observation state RESOURCING"
      }
     },
     "c847bd8a1f184d77b9e4e7c01986c329": {
      "model_module": "@jupyter-widgets/controls",
      "model_module_version": "2.0.0",
      "model_name": "TextStyleModel",
      "state": {
       "description_width": "",
       "font_size": null,
       "text_color": null
      }
     },
     "c88a546dafed43d9b3955d685e038173": {
      "model_module": "@jupyter-widgets/controls",
      "model_module_version": "2.0.0",
      "model_name": "TextStyleModel",
      "state": {
       "description_width": "",
       "font_size": null,
       "text_color": null
      }
     },
     "c8a9c182a6ec49b1845a483986e15551": {
      "model_module": "@jupyter-widgets/controls",
      "model_module_version": "2.0.0",
      "model_name": "DescriptionStyleModel",
      "state": {
       "description_width": "initial"
      }
     },
     "c9937e039a3f44f0b0864ad3b88cbb4a": {
      "model_module": "@jupyter-widgets/base",
      "model_module_version": "2.0.0",
      "model_name": "LayoutModel",
      "state": {
       "width": "60%"
      }
     },
     "ca196c8079d64428932bd8c410afc971": {
      "model_module": "@jupyter-widgets/controls",
      "model_module_version": "2.0.0",
      "model_name": "CheckboxStyleModel",
      "state": {
       "description_width": ""
      }
     },
     "cae1c750f9c84b4592d3efa5725ae07a": {
      "model_module": "@jupyter-widgets/base",
      "model_module_version": "2.0.0",
      "model_name": "LayoutModel",
      "state": {
       "width": "60%"
      }
     },
     "cc69935f9ce342aa95fd738936e2cc41": {
      "model_module": "@jupyter-widgets/controls",
      "model_module_version": "2.0.0",
      "model_name": "ValidModel",
      "state": {
       "description": "CSP control online",
       "layout": "IPY_MODEL_108c188889264213bf9e6ac93b447f44",
       "style": "IPY_MODEL_df03244496cd4e26937413c8003d8d25",
       "value": true
      }
     },
     "cc75cf24f50647419ad8b684d13cc6bf": {
      "model_module": "@jupyter-widgets/base",
      "model_module_version": "2.0.0",
      "model_name": "LayoutModel",
      "state": {
       "width": "60%"
      }
     },
     "ccfed044de9f49f48adc54c7747ef859": {
      "model_module": "@jupyter-widgets/controls",
      "model_module_version": "2.0.0",
      "model_name": "HTMLModel",
      "state": {
       "description": "CBF",
       "layout": "IPY_MODEL_a7563a1e2360420292d534642176a96b",
       "placeholder": "CBF status",
       "style": "IPY_MODEL_511ccc0e31184ee08ea02cfb15da57a6",
       "value": "<table><tr><td>Controller admin mode</td><td>adminMode.OFFLINE</td></tr><tr><td>Controller State</td><td>DISABLE</td></tr><tr><td>Subarray admin mode</td><td>adminMode.OFFLINE</td></tr><tr><td>Subarray State</td><td>DISABLE</td></tr><tr><td>Subarray observation state</td><td>obsState.EMPTY</td></tr></table>"
      }
     },
     "cd2051ced519421fae5faf52c70720eb": {
      "model_module": "@jupyter-widgets/controls",
      "model_module_version": "2.0.0",
      "model_name": "DescriptionStyleModel",
      "state": {
       "description_width": "initial"
      }
     },
     "ce34882daacc4ef68abf76ae0f71c5d7": {
      "model_module": "@jupyter-widgets/base",
      "model_module_version": "2.0.0",
      "model_name": "LayoutModel",
      "state": {}
     },
     "ce64f3a203bf4d7bbbedfa1cd1c63502": {
      "model_module": "@jupyter-widgets/controls",
      "model_module_version": "2.0.0",
      "model_name": "IntSliderModel",
      "state": {
       "behavior": "drag-tap",
       "continuous_update": false,
       "description": "CBF Timeout",
       "layout": "IPY_MODEL_e67efccc69624acd80e07e2d12a1a8e1",
       "max": 180,
       "style": "IPY_MODEL_597971d0e65546af8f13853a681c1179",
       "value": 74
      }
     },
     "cf60ac4683fa4502aa9b8e3bbce460a0": {
      "model_module": "@jupyter-widgets/controls",
      "model_module_version": "2.0.0",
      "model_name": "ValidModel",
      "state": {
       "description": "CSP Control online",
       "layout": "IPY_MODEL_58e518394298414f804c7b7649e25e56",
       "style": "IPY_MODEL_b6cf26a476f242178ff40ea77659d7be",
       "value": true
      }
     },
     "d18dd90dec28401a985609e8734b0319": {
      "model_module": "@jupyter-widgets/controls",
      "model_module_version": "2.0.0",
      "model_name": "TextareaModel",
      "state": {
       "description": "Error",
       "layout": "IPY_MODEL_0534eef6ba1f4777bae12e31384914f5",
       "placeholder": "Error message",
       "style": "IPY_MODEL_2e24192671aa4b649482152de4e1e77c",
       "value": "TRANSIENT CORBA system exception: TRANSIENT_CallTimedout"
      }
     },
     "d22ddf7f591f416cb2ba74911ed8f68e": {
      "model_module": "@jupyter-widgets/controls",
      "model_module_version": "2.0.0",
      "model_name": "CheckboxModel",
      "state": {
       "description": "TMC CSP master admin",
       "disabled": false,
       "indent": false,
       "layout": "IPY_MODEL_b53b1d5154984351b006465dbfd44d69",
       "style": "IPY_MODEL_d324d35fa7e8491c871538646e4ce34e",
       "value": false
      }
     },
     "d324d35fa7e8491c871538646e4ce34e": {
      "model_module": "@jupyter-widgets/controls",
      "model_module_version": "2.0.0",
      "model_name": "CheckboxStyleModel",
      "state": {
       "description_width": ""
      }
     },
     "d36e14f51c4d4d4e9ba2cea23ebd09a4": {
      "model_module": "@jupyter-widgets/controls",
      "model_module_version": "2.0.0",
      "model_name": "DescriptionStyleModel",
      "state": {
       "description_width": "initial"
      }
     },
     "d4360f74406f4d01aa961639c9da70d1": {
      "model_module": "@jupyter-widgets/base",
      "model_module_version": "2.0.0",
      "model_name": "LayoutModel",
      "state": {
       "width": "60%"
      }
     },
     "d48f3c830f3a408da21e3afa294506b7": {
      "model_module": "@jupyter-widgets/base",
      "model_module_version": "2.0.0",
      "model_name": "LayoutModel",
      "state": {
       "width": "60%"
      }
     },
     "d53d2a3466e74460b7be9cc4a62607c2": {
      "model_module": "@jupyter-widgets/controls",
      "model_module_version": "2.0.0",
      "model_name": "DescriptionStyleModel",
      "state": {
       "description_width": "initial"
      }
     },
     "d7f5c8301d5e417da34e26c42dd0024c": {
      "model_module": "@jupyter-widgets/controls",
      "model_module_version": "2.0.0",
      "model_name": "TextStyleModel",
      "state": {
       "description_width": "",
       "font_size": null,
       "text_color": null
      }
     },
     "d82d82d1cdce4a3db8cc96a1f7e55518": {
      "model_module": "@jupyter-widgets/controls",
      "model_module_version": "2.0.0",
      "model_name": "CheckboxModel",
      "state": {
       "description": "Dish manager SKA001 admin",
       "disabled": false,
       "indent": false,
       "layout": "IPY_MODEL_4356d5e7f61e4f34bf0029e7eca87f73",
       "style": "IPY_MODEL_109b5a4b036d46fea52870c6769d18e4",
       "value": false
      }
     },
     "d86a9a13612d4140b7c9577f31b50102": {
      "model_module": "@jupyter-widgets/controls",
      "model_module_version": "2.0.0",
      "model_name": "IntProgressModel",
      "state": {
       "description": "Loading:",
       "layout": "IPY_MODEL_26db519bb6174557aa22d971222c984d",
       "max": 2,
       "style": "IPY_MODEL_4f918bee40e642b3b92184216e581e8e",
       "value": 2
      }
     },
     "d888310f27034dcfbfe19f5c095f7886": {
      "model_module": "@jupyter-widgets/controls",
      "model_module_version": "2.0.0",
      "model_name": "CheckboxModel",
      "state": {
       "description": "TMC Central Node admin",
       "disabled": false,
       "indent": false,
       "layout": "IPY_MODEL_3500661b2bf940f8a5b07e0c8ccb72f3",
       "style": "IPY_MODEL_af4cfcfe9f174e86b00f065fb5b87ea0",
       "value": false
      }
     },
     "d90fc9e5215e471fab29f2d9efb4e1e0": {
      "model_module": "@jupyter-widgets/controls",
      "model_module_version": "2.0.0",
      "model_name": "ProgressStyleModel",
      "state": {
       "bar_color": "maroon",
       "description_width": ""
      }
     },
     "d965baf02ff84ffdb05a7fbaf76b5a89": {
      "model_module": "@jupyter-widgets/controls",
      "model_module_version": "2.0.0",
      "model_name": "TextareaModel",
      "state": {
       "description": "Error",
       "layout": "IPY_MODEL_bd08504a59eb433db1740b52a8094cf0",
       "placeholder": "Error message",
       "style": "IPY_MODEL_f6b1ef735e334b92a86a03f466c754bb",
       "value": "ska_tmc_common.exceptions.InvalidObsStateError: Scan command is not allowed in current observation state on device.Reason: The current observation state of mid-sdp/subarray/01 for observation is 2\nThe Scan command has NOT been executed. This device will continue with normal operation."
      }
     },
     "dafbf2d9eb964d1fa2688b06241a43e5": {
      "model_module": "@jupyter-widgets/controls",
      "model_module_version": "2.0.0",
      "model_name": "TextStyleModel",
      "state": {
       "description_width": "",
       "font_size": null,
       "text_color": null
      }
     },
     "db04a235912d4aae9d7b7797fcffc8b4": {
      "model_module": "@jupyter-widgets/controls",
      "model_module_version": "2.0.0",
      "model_name": "ValidModel",
      "state": {
       "description": "TMC subarray online",
       "layout": "IPY_MODEL_c3ef4b891b134603b134719360a0d80f",
       "style": "IPY_MODEL_d36e14f51c4d4d4e9ba2cea23ebd09a4",
       "value": true
      }
     },
     "db2ae934e5ab4b18bd47a43950491b8f": {
      "model_module": "@jupyter-widgets/controls",
      "model_module_version": "2.0.0",
      "model_name": "TextModel",
      "state": {
       "description": "CSP Leaf",
       "disabled": true,
       "layout": "IPY_MODEL_e6a048bd19cd420d919bd55a7302cb97",
       "style": "IPY_MODEL_c20285e57b00499b813694ee286974eb",
       "value": "cspSubarrayObsState.EMPTY"
      }
     },
     "db5e5ef4f91749d39864954d47d311df": {
      "model_module": "@jupyter-widgets/controls",
      "model_module_version": "2.0.0",
      "model_name": "DescriptionStyleModel",
      "state": {
       "description_width": "initial"
      }
     },
     "db707165b81d44308f9d40f2615e1a05": {
      "model_module": "@jupyter-widgets/controls",
      "model_module_version": "2.0.0",
      "model_name": "TextStyleModel",
      "state": {
       "description_width": "",
       "font_size": null,
       "text_color": null
      }
     },
     "dbceb95212bc496e9759e90f17b9e200": {
      "model_module": "@jupyter-widgets/controls",
      "model_module_version": "2.0.0",
      "model_name": "TextStyleModel",
      "state": {
       "description_width": "",
       "font_size": null,
       "text_color": null
      }
     },
     "dc049825e45b4f3da9701fada3b782e1": {
      "model_module": "@jupyter-widgets/base",
      "model_module_version": "2.0.0",
      "model_name": "LayoutModel",
      "state": {
       "width": "60%"
      }
     },
     "dc7357a5eacf4eb58e822b6d4897a7fd": {
      "model_module": "@jupyter-widgets/controls",
      "model_module_version": "2.0.0",
      "model_name": "ValidModel",
      "state": {
       "description": "Telescope ON",
       "layout": "IPY_MODEL_530b7048fcb74f6e933f949dbab849e2",
       "style": "IPY_MODEL_00e707233ab34d89b811d7c49cd415d5"
      }
     },
     "dc94e85012254da085b9c5d43662ad86": {
      "model_module": "@jupyter-widgets/controls",
      "model_module_version": "2.0.0",
      "model_name": "TextStyleModel",
      "state": {
       "description_width": "",
       "font_size": null,
       "text_color": null
      }
     },
     "dddd140b67c54b029d502f09d5548bab": {
      "model_module": "@jupyter-widgets/controls",
      "model_module_version": "2.0.0",
      "model_name": "HTMLModel",
      "state": {
       "description": "CBF",
       "layout": "IPY_MODEL_01d951645cab4321997495ddba2aeb15",
       "placeholder": "CBF status",
       "style": "IPY_MODEL_76413965f6734f9c92dafa5769ebc23c",
       "value": "<table><tr><td>Subarray Observation State</td><td>1</td></tr><tr><td>Subarray Receptors</td><td>()</td></tr></table>"
      }
     },
     "ddfbb5c0d4d34e26946862832cbfd008": {
      "model_module": "@jupyter-widgets/base",
      "model_module_version": "2.0.0",
      "model_name": "LayoutModel",
      "state": {}
     },
     "deae82b25e684be0b7231cc1a6ac080c": {
      "model_module": "@jupyter-widgets/controls",
      "model_module_version": "2.0.0",
      "model_name": "IntProgressModel",
      "state": {
       "description": "Slew 036",
       "layout": "IPY_MODEL_8143c7f4a5ad41ee91926a2674890620",
       "max": 30,
       "style": "IPY_MODEL_f24e9a15ef1c4760b677ce62d133de8c",
       "value": 29
      }
     },
     "debaa9a5a93247b89959b7c25351d2a1": {
      "model_module": "@jupyter-widgets/base",
      "model_module_version": "2.0.0",
      "model_name": "LayoutModel",
      "state": {
       "width": "50%"
      }
     },
     "df03244496cd4e26937413c8003d8d25": {
      "model_module": "@jupyter-widgets/controls",
      "model_module_version": "2.0.0",
      "model_name": "DescriptionStyleModel",
      "state": {
       "description_width": "initial"
      }
     },
     "df991048500c4a26bdebd67a4c5ac4d3": {
      "model_module": "@jupyter-widgets/base",
      "model_module_version": "2.0.0",
      "model_name": "LayoutModel",
      "state": {
       "width": "50%"
      }
     },
     "dfef55d0fecd4cd895d519890fb243df": {
      "model_module": "@jupyter-widgets/controls",
      "model_module_version": "2.0.0",
      "model_name": "ValidModel",
      "state": {
       "description": "CBF controller online",
       "layout": "IPY_MODEL_ec5bc8de27234c8f83323ae32d482192",
       "style": "IPY_MODEL_4232c5bda9c3439ea803cff773e67054",
       "value": true
      }
     },
     "e15d23e51345463586af7cc937a7ecae": {
      "model_module": "@jupyter-widgets/base",
      "model_module_version": "2.0.0",
      "model_name": "LayoutModel",
      "state": {
       "width": "60%"
      }
     },
     "e1b37aa664de445e817c0b9cf542f875": {
      "model_module": "@jupyter-widgets/controls",
      "model_module_version": "2.0.0",
      "model_name": "DescriptionStyleModel",
      "state": {
       "description_width": "initial"
      }
     },
     "e1d2eba88b0e4597b2e6ed4a77e198b7": {
      "model_module": "@jupyter-widgets/base",
      "model_module_version": "2.0.0",
      "model_name": "LayoutModel",
      "state": {
       "width": "60%"
      }
     },
     "e1e649e1e772499e8562633127622b6d": {
      "model_module": "@jupyter-widgets/controls",
      "model_module_version": "2.0.0",
      "model_name": "TextModel",
      "state": {
       "description": "Target",
       "disabled": true,
       "layout": "IPY_MODEL_dc049825e45b4f3da9701fada3b782e1",
       "style": "IPY_MODEL_7808def2e0a2415784aacf2e36d2e095",
       "value": "Polaris Australis"
      }
     },
     "e234de80348c46849ae390cd2d91cb8e": {
      "model_module": "@jupyter-widgets/controls",
      "model_module_version": "2.0.0",
      "model_name": "TextModel",
      "state": {
       "description": "SKA001 ns",
       "disabled": true,
       "layout": "IPY_MODEL_99272d5512fc4891ab568969702025dd",
       "style": "IPY_MODEL_dc94e85012254da085b9c5d43662ad86",
       "value": "ci-dish-lmc-ska001-at-2146-consolidate-jupyter-notebooks"
      }
     },
     "e262a54da7024c1d834414fdf8f13ad4": {
      "model_module": "@jupyter-widgets/controls",
      "model_module_version": "2.0.0",
      "model_name": "DescriptionStyleModel",
      "state": {
       "description_width": ""
      }
     },
     "e2640e3ed181413a9aa4a53f8fc4bd9f": {
      "model_module": "@jupyter-widgets/base",
      "model_module_version": "2.0.0",
      "model_name": "LayoutModel",
      "state": {
       "width": "60%"
      }
     },
     "e2684a7b81284bf6b4ad94ff8a067661": {
      "model_module": "@jupyter-widgets/controls",
      "model_module_version": "2.0.0",
      "model_name": "DescriptionStyleModel",
      "state": {
       "description_width": "initial"
      }
     },
     "e2bd4461cac34d74bfea6c2ff2003a46": {
      "model_module": "@jupyter-widgets/controls",
      "model_module_version": "2.0.0",
      "model_name": "CheckboxStyleModel",
      "state": {
       "description_width": ""
      }
     },
     "e394c176fdd44973aada6e384624e49d": {
      "model_module": "@jupyter-widgets/base",
      "model_module_version": "2.0.0",
      "model_name": "LayoutModel",
      "state": {}
     },
     "e459b68d7df64cf1b733d57ad56820e0": {
      "model_module": "@jupyter-widgets/controls",
      "model_module_version": "2.0.0",
      "model_name": "DescriptionStyleModel",
      "state": {
       "description_width": "initial"
      }
     },
     "e5e9b6ec6296421fa7a4c0119f1c7b50": {
      "model_module": "@jupyter-widgets/base",
      "model_module_version": "2.0.0",
      "model_name": "LayoutModel",
      "state": {
       "width": "60%"
      }
     },
     "e6083c99fb7b49b69446be2e54de2413": {
      "model_module": "@jupyter-widgets/controls",
      "model_module_version": "2.0.0",
      "model_name": "ProgressStyleModel",
      "state": {
       "bar_color": "maroon",
       "description_width": ""
      }
     },
     "e67efccc69624acd80e07e2d12a1a8e1": {
      "model_module": "@jupyter-widgets/base",
      "model_module_version": "2.0.0",
      "model_name": "LayoutModel",
      "state": {}
     },
     "e6a048bd19cd420d919bd55a7302cb97": {
      "model_module": "@jupyter-widgets/base",
      "model_module_version": "2.0.0",
      "model_name": "LayoutModel",
      "state": {
       "width": "60%"
      }
     },
     "e6c48b15435c4a7eb9aaf87c00548cec": {
      "model_module": "@jupyter-widgets/controls",
      "model_module_version": "2.0.0",
      "model_name": "DescriptionStyleModel",
      "state": {
       "description_width": "initial"
      }
     },
     "e6f6697997a64f04991193c1545619ee": {
      "model_module": "@jupyter-widgets/base",
      "model_module_version": "2.0.0",
      "model_name": "LayoutModel",
      "state": {
       "width": "60%"
      }
     },
     "e72e8157d0834ed399796983469258ab": {
      "model_module": "@jupyter-widgets/controls",
      "model_module_version": "2.0.0",
      "model_name": "ProgressStyleModel",
      "state": {
       "bar_color": "maroon",
       "description_width": ""
      }
     },
     "e85d486d083245349397f6078d3d087e": {
      "model_module": "@jupyter-widgets/controls",
      "model_module_version": "2.0.0",
      "model_name": "IntProgressModel",
      "state": {
       "description": "Slew 001",
       "layout": "IPY_MODEL_ea687ca2044b4d55b5c41eae97487d28",
       "max": 30,
       "style": "IPY_MODEL_e6083c99fb7b49b69446be2e54de2413"
      }
     },
     "ea687ca2044b4d55b5c41eae97487d28": {
      "model_module": "@jupyter-widgets/base",
      "model_module_version": "2.0.0",
      "model_name": "LayoutModel",
      "state": {}
     },
     "eb0072e322d84a7ba1e16525d0e34d1a": {
      "model_module": "@jupyter-widgets/controls",
      "model_module_version": "2.0.0",
      "model_name": "ValidModel",
      "state": {
       "description": "CBF FSP correlator subarray admin",
       "layout": "IPY_MODEL_cae1c750f9c84b4592d3efa5725ae07a",
       "style": "IPY_MODEL_e6c48b15435c4a7eb9aaf87c00548cec"
      }
     },
     "eb354b2af7a648aabdb8c310366c032e": {
      "model_module": "@jupyter-widgets/controls",
      "model_module_version": "2.0.0",
      "model_name": "DescriptionStyleModel",
      "state": {
       "description_width": "initial"
      }
     },
     "eb93c0bf64a6451abc841e59ba208614": {
      "model_module": "@jupyter-widgets/controls",
      "model_module_version": "2.0.0",
      "model_name": "SliderStyleModel",
      "state": {
       "description_width": ""
      }
     },
     "ebc37ee3dbac4b53ba2b8f62a24539fa": {
      "model_module": "@jupyter-widgets/controls",
      "model_module_version": "2.0.0",
      "model_name": "DescriptionStyleModel",
      "state": {
       "description_width": "initial"
      }
     },
     "ebf034c8a3f44db9bd0639427b09e3d3": {
      "model_module": "@jupyter-widgets/controls",
      "model_module_version": "2.0.0",
      "model_name": "CheckboxModel",
      "state": {
       "description": "CBF FSP correlator subarray admin",
       "disabled": false,
       "indent": false,
       "layout": "IPY_MODEL_9ccf4b1096c44edb9df4b369c9097ba4",
       "style": "IPY_MODEL_2d795d22df484135878f45c2c13ffae0",
       "value": false
      }
     },
     "ec1332a13c1d45179f526360c3138b61": {
      "model_module": "@jupyter-widgets/base",
      "model_module_version": "2.0.0",
      "model_name": "LayoutModel",
      "state": {
       "width": "60%"
      }
     },
     "ec5bc8de27234c8f83323ae32d482192": {
      "model_module": "@jupyter-widgets/base",
      "model_module_version": "2.0.0",
      "model_name": "LayoutModel",
      "state": {
       "width": "60%"
      }
     },
     "ed741e5e9190401d8b5d005bfa864dab": {
      "model_module": "@jupyter-widgets/controls",
      "model_module_version": "2.0.0",
      "model_name": "CheckboxStyleModel",
      "state": {
       "description_width": ""
      }
     },
     "ee1d39fad7da437a9500a35d24062c1a": {
      "model_module": "@jupyter-widgets/controls",
      "model_module_version": "2.0.0",
      "model_name": "ValidModel",
      "state": {
       "description": "Slew 001 OK",
       "layout": "IPY_MODEL_935326e973a549509b619a9b3ad0f3a5",
       "style": "IPY_MODEL_a316864e889c45248be81b7d24770e6e",
       "value": true
      }
     },
     "ee33955b561b49b99c208f4078830f55": {
      "model_module": "@jupyter-widgets/controls",
      "model_module_version": "2.0.0",
      "model_name": "TextareaModel",
      "state": {
       "description": "Error",
       "layout": "IPY_MODEL_c7e6982fc6954605872d34f33c140d24",
       "placeholder": "Error message",
       "style": "IPY_MODEL_8507e65c984649c9a208f6f4b87b5c0f",
       "value": "TRANSIENT CORBA system exception: TRANSIENT_CallTimedout"
      }
     },
     "f0b7960f582840e4bec95736deba1880": {
      "model_module": "@jupyter-widgets/controls",
      "model_module_version": "2.0.0",
      "model_name": "CheckboxStyleModel",
      "state": {
       "description_width": ""
      }
     },
     "f24e9a15ef1c4760b677ce62d133de8c": {
      "model_module": "@jupyter-widgets/controls",
      "model_module_version": "2.0.0",
      "model_name": "ProgressStyleModel",
      "state": {
       "bar_color": "maroon",
       "description_width": ""
      }
     },
     "f25ea63f38c548179fc1b01e7db865ec": {
      "model_module": "@jupyter-widgets/base",
      "model_module_version": "2.0.0",
      "model_name": "LayoutModel",
      "state": {
       "width": "60%"
      }
     },
     "f39ece8b8d1742eea0b347048d42306e": {
      "model_module": "@jupyter-widgets/controls",
      "model_module_version": "2.0.0",
      "model_name": "ValidModel",
      "state": {
       "description": "TMC CSP subarray admin",
       "layout": "IPY_MODEL_430725df4e0e4317923d7fac408617ac",
       "style": "IPY_MODEL_7c3697d769404bfebb00ffc628724ccd"
      }
     },
     "f46d41b5e5724fef840d2d55f58ac279": {
      "model_module": "@jupyter-widgets/base",
      "model_module_version": "2.0.0",
      "model_name": "LayoutModel",
      "state": {
       "width": "60%"
      }
     },
     "f560cc0a1d6b419e915250c8a1e19e43": {
      "model_module": "@jupyter-widgets/base",
      "model_module_version": "2.0.0",
      "model_name": "LayoutModel",
      "state": {
       "height": "200px",
       "width": "75%"
      }
     },
     "f595cfa40c7b489eac58a9714d879714": {
      "model_module": "@jupyter-widgets/base",
      "model_module_version": "2.0.0",
      "model_name": "LayoutModel",
      "state": {
       "height": "200px",
       "width": "75%"
      }
     },
     "f5c7daaf7248451c8c3321f8e5bbc264": {
      "model_module": "@jupyter-widgets/controls",
      "model_module_version": "2.0.0",
      "model_name": "DescriptionStyleModel",
      "state": {
       "description_width": "initial"
      }
     },
     "f6b1ef735e334b92a86a03f466c754bb": {
      "model_module": "@jupyter-widgets/controls",
      "model_module_version": "2.0.0",
      "model_name": "TextStyleModel",
      "state": {
       "description_width": "",
       "font_size": null,
       "text_color": null
      }
     },
     "f79b14dbcd3f4c17b6a3a1b8e8d2023b": {
      "model_module": "@jupyter-widgets/controls",
      "model_module_version": "2.0.0",
      "model_name": "TextStyleModel",
      "state": {
       "description_width": "",
       "font_size": null,
       "text_color": null
      }
     },
     "f85b08a6d04548ea9e62d38a20ff8bd2": {
      "model_module": "@jupyter-widgets/controls",
      "model_module_version": "2.0.0",
      "model_name": "TextareaModel",
      "state": {
       "description": "Error",
       "layout": "IPY_MODEL_fd95942a3c3548f1b4bbc43cebac09c6",
       "placeholder": "Error message",
       "style": "IPY_MODEL_a19f0a7b19864900a69420e820fab3fd",
       "value": "ska_tmc_common.exceptions.InvalidObsStateError: EndScan command is not allowed in current observation state on device mid-csp/subarray/01\nReason: The current observation state of mid-csp/subarray/01 for observation is 0\nThe EndScan command has NOT been executed. This device will continue with normal operation."
      }
     },
     "f93d77bf13cb4641a308b8e7aadc1f05": {
      "model_module": "@jupyter-widgets/controls",
      "model_module_version": "2.0.0",
      "model_name": "CheckboxStyleModel",
      "state": {
       "description_width": ""
      }
     },
     "fa2f68e50fbd4783abc5b869a164704b": {
      "model_module": "@jupyter-widgets/base",
      "model_module_version": "2.0.0",
      "model_name": "LayoutModel",
      "state": {
       "height": "200px",
       "width": "75%"
      }
     },
     "fab130adbc614756b812cddae44015af": {
      "model_module": "@jupyter-widgets/base",
      "model_module_version": "2.0.0",
      "model_name": "LayoutModel",
      "state": {
       "width": "60%"
      }
     },
     "fb5fe161e10745b2a43196130928fb35": {
      "model_module": "@jupyter-widgets/base",
      "model_module_version": "2.0.0",
      "model_name": "LayoutModel",
      "state": {}
     },
     "fbef360b8dd34dd9ad1bc417febb2356": {
      "model_module": "@jupyter-widgets/base",
      "model_module_version": "2.0.0",
      "model_name": "LayoutModel",
      "state": {
       "width": "60%"
      }
     },
     "fc4cfa6cf2aa44a2b72bb509a743acc3": {
      "model_module": "@jupyter-widgets/controls",
      "model_module_version": "2.0.0",
      "model_name": "CheckboxStyleModel",
      "state": {
       "description_width": ""
      }
     },
     "fcc4df73145747b6a4f48e69ad29d412": {
      "model_module": "@jupyter-widgets/controls",
      "model_module_version": "2.0.0",
      "model_name": "CheckboxModel",
      "state": {
       "description": "CBF Simulation Mode",
       "disabled": false,
       "indent": false,
       "layout": "IPY_MODEL_bdecc5d2c1ba4734b9e360924a0cbf0b",
       "style": "IPY_MODEL_e2bd4461cac34d74bfea6c2ff2003a46",
       "value": false
      }
     },
     "fcedb08b514642af999693ddbb85c3fe": {
      "model_module": "@jupyter-widgets/controls",
      "model_module_version": "2.0.0",
      "model_name": "ValidModel",
      "state": {
       "description": "Dish leaf 036 online",
       "layout": "IPY_MODEL_f46d41b5e5724fef840d2d55f58ac279",
       "style": "IPY_MODEL_1977ed61a4b142e19d7d623198a901c5",
       "value": true
      }
     },
     "fd95942a3c3548f1b4bbc43cebac09c6": {
      "model_module": "@jupyter-widgets/base",
      "model_module_version": "2.0.0",
      "model_name": "LayoutModel",
      "state": {
       "height": "200px",
       "width": "75%"
      }
     },
     "fe1cad592e4a457f9c31054d96764ecd": {
      "model_module": "@jupyter-widgets/base",
      "model_module_version": "2.0.0",
      "model_name": "LayoutModel",
      "state": {}
     },
     "ff8e98866a624d59991e7892b6006f0a": {
      "model_module": "@jupyter-widgets/controls",
      "model_module_version": "2.0.0",
      "model_name": "TextStyleModel",
      "state": {
       "description_width": "",
       "font_size": null,
       "text_color": null
      }
     }
    },
    "version_major": 2,
    "version_minor": 0
   }
  }
 },
 "nbformat": 4,
 "nbformat_minor": 5
}
