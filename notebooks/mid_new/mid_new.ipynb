{
 "cells": [
  {
   "cell_type": "markdown",
   "id": "15c1506e",
   "metadata": {},
   "source": [
    "## Read namespaces"
   ]
  },
  {
   "cell_type": "code",
   "execution_count": 1,
   "id": "c730d3ec",
   "metadata": {},
   "outputs": [
    {
     "data": {
      "application/vnd.jupyter.widget-view+json": {
       "model_id": "7272a6a439344b37bf7149d4b0fdf1fb",
       "version_major": 2,
       "version_minor": 0
      },
      "text/plain": [
       "Dropdown(description='SUT ns', layout=Layout(width='50%'), options=('binderhub', 'calico-apiserver', 'calico-o…"
      ]
     },
     "metadata": {},
     "output_type": "display_data"
    }
   ],
   "source": [
    "# Read namespaces\n",
    "import os\n",
    "import kubernetes\n",
    "import ipywidgets as widgets\n",
    "from IPython.display import display, JSON\n",
    "\n",
    "ns_list = []\n",
    "kubernetes.config.load_kube_config()\n",
    "k8s_client = kubernetes.client.CoreV1Api()\n",
    "namespaces = k8s_client.list_namespace(_request_timeout=(1, 5))\n",
    "for namespace in namespaces.items:\n",
    "    ns_name = namespace.metadata.name\n",
    "    ns_list.append(ns_name)\n",
    "w = widgets.Dropdown(\n",
    "    options=ns_list,\n",
    "    description='SUT ns',\n",
    "    disabled=False,\n",
    "    layout=widgets.Layout(width='50%')\n",
    ")\n",
    "display(w)"
   ]
  },
  {
   "cell_type": "markdown",
   "id": "4a810c5d",
   "metadata": {},
   "source": [
    "## Set namespaces"
   ]
  },
  {
   "cell_type": "code",
   "execution_count": 2,
   "id": "a1926496",
   "metadata": {
    "scrolled": true
   },
   "outputs": [
    {
     "data": {
      "application/vnd.jupyter.widget-view+json": {
       "model_id": "76c5e8f83be04591bb4ff7966e9ff18e",
       "version_major": 2,
       "version_minor": 0
      },
      "text/plain": [
       "Text(value='ci-dish-lmc-ska001-at-2146-consolidate-jupyter-notebooks', description='SKA001 ns', disabled=True,…"
      ]
     },
     "metadata": {},
     "output_type": "display_data"
    },
    {
     "data": {
      "application/vnd.jupyter.widget-view+json": {
       "model_id": "ef9b01f94e474e54b252e89269c65029",
       "version_major": 2,
       "version_minor": 0
      },
      "text/plain": [
       "Text(value='ci-dish-lmc-ska036-at-2146-consolidate-jupyter-notebooks', description='SKA036 ns', disabled=True,…"
      ]
     },
     "metadata": {},
     "output_type": "display_data"
    },
    {
     "data": {
      "application/vnd.jupyter.widget-view+json": {
       "model_id": "17f36b9bd0f04ffcbc6e4b3d101477c0",
       "version_major": 2,
       "version_minor": 0
      },
      "text/plain": [
       "Text(value='tango-databaseds.ci-ska-mid-itf-at-2146-consolidate-jupyter-notebooks.svc.miditf.internal.skao.int…"
      ]
     },
     "metadata": {},
     "output_type": "display_data"
    }
   ],
   "source": [
    "# Set namespaces\n",
    "SUT_NAMESPACE = w.value\n",
    "# print(f\"Using SUT namespace {SUT_NAMESPACE}\")\n",
    "BRANCH_NAME = SUT_NAMESPACE.replace(\"ci-ska-mid-itf-\", \"\")\n",
    "# print(f\"Using SUT branch {BRANCH_NAME}\")\n",
    "SKA001_NAMESPACE = f\"ci-dish-lmc-ska001-{BRANCH_NAME}\"\n",
    "# print(f\"Using SKA 001 namespace {SKA001_NAMESPACE}\")\n",
    "ska001 = widgets.Text(\n",
    "    value=SKA001_NAMESPACE,\n",
    "    description='SKA001 ns',\n",
    "    disabled=True,\n",
    "    layout=widgets.Layout(width='60%')\n",
    ")\n",
    "display(ska001)\n",
    "SKA036_NAMESPACE = f\"ci-dish-lmc-ska036-{BRANCH_NAME}\"\n",
    "ska036 = widgets.Text(\n",
    "    value=SKA036_NAMESPACE,\n",
    "    description='SKA036 ns',\n",
    "    disabled=True,\n",
    "    layout=widgets.Layout(width='60%')\n",
    ")\n",
    "display(ska036)\n",
    "# print(f\"Using SKA 036 namespace {SKA036_NAMESPACE}\")\n",
    "\n",
    "# print(f\"Setting up parameters for SUT namespace {SUT_NAMESPACE}\\n\")\n",
    "\n",
    "TANGO_HOST = f\"tango-databaseds.{SUT_NAMESPACE}.svc.miditf.internal.skao.int:10000\"\n",
    "os.environ[\"TANGO_HOST\"] = TANGO_HOST\n",
    "\n",
    "th = widgets.Text(\n",
    "    value=os.getenv(\"TANGO_HOST\"),\n",
    "    description='Tango host',\n",
    "    disabled=True,\n",
    "    layout=widgets.Layout(width='80%')\n",
    ")\n",
    "display(th)"
   ]
  },
  {
   "cell_type": "markdown",
   "id": "974061ee",
   "metadata": {},
   "source": [
    "## Configure Device Proxies"
   ]
  },
  {
   "cell_type": "code",
   "execution_count": 3,
   "id": "4ca0f279",
   "metadata": {
    "scrolled": true
   },
   "outputs": [
    {
     "name": "stdout",
     "output_type": "stream",
     "text": [
      "SUT Links\n",
      "https://k8s.miditf.internal.skao.int/ci-ska-mid-itf-at-2146-consolidate-jupyter-notebooks/signal/display/\n",
      "https://k8s.miditf.internal.skao.int/ci-ska-mid-itf-at-2146-consolidate-jupyter-notebooks/taranta/devices\n",
      "\n",
      "\n",
      "Dish LMC links\n",
      "https://k8s.miditf.internal.skao.int/ci-dish-lmc-ska001-at-2146-consolidate-jupyter-notebooks/taranta/devices\n",
      "https://k8s.miditf.internal.skao.int/ci-dish-lmc-ska036-at-2146-consolidate-jupyter-notebooks/taranta/devices\n"
     ]
    }
   ],
   "source": [
    "# Set Up and Configure Device Proxies\n",
    "\n",
    "RECEPTORS = [\"SKA001\", \"SKA036\"]\n",
    "\n",
    "# Config files set up\n",
    "DATA_DIR = \"../../data\"\n",
    "TMC_CONFIGS = f\"{DATA_DIR}/mid_telescope/tmc\"\n",
    "SCAN_FILE = f\"{TMC_CONFIGS}/scan.json\"\n",
    "RELEASE_RESOURCES_FILE = f\"{DATA_DIR}/release_resources.json\"\n",
    "\n",
    "ASSIGN_RESOURCES_FILE = f\"{TMC_CONFIGS}/assign_resources.json\"\n",
    "CONFIGURE_SCAN_FILE = f\"{TMC_CONFIGS}/configure_scan.json\"\n",
    "\n",
    "CBF_CONFIGS = f\"{DATA_DIR}/mid_telescope/cbf\"\n",
    "DISH_CONFIG_FILE = f\"{CBF_CONFIGS}/sys_params/load_dish_config.json\"\n",
    "\n",
    "# print(\"Links for Taranta and QA Display\\n\")\n",
    "print(\"SUT Links\")\n",
    "print(f\"https://k8s.miditf.internal.skao.int/{SUT_NAMESPACE}/signal/display/\")\n",
    "print(f\"https://k8s.miditf.internal.skao.int/{SUT_NAMESPACE}/taranta/devices\")\n",
    "print(\"\\n\")\n",
    "print(\"Dish LMC links\")\n",
    "print(f\"https://k8s.miditf.internal.skao.int/{SKA001_NAMESPACE}/taranta/devices\")\n",
    "print(f\"https://k8s.miditf.internal.skao.int/{SKA036_NAMESPACE}/taranta/devices\")"
   ]
  },
  {
   "cell_type": "markdown",
   "id": "9ad72e8f",
   "metadata": {},
   "source": [
    "## Set Up Device Proxies"
   ]
  },
  {
   "cell_type": "code",
   "execution_count": 43,
   "id": "19c756ec",
   "metadata": {},
   "outputs": [
    {
     "data": {
      "application/vnd.jupyter.widget-view+json": {
       "model_id": "8bfb9a4684774098a57cf4931e959cb7",
       "version_major": 2,
       "version_minor": 0
      },
      "text/plain": [
       "IntProgress(value=0, description='Proxies', max=10, style=ProgressStyle(bar_color='maroon'))"
      ]
     },
     "metadata": {},
     "output_type": "display_data"
    },
    {
     "name": "stdout",
     "output_type": "stream",
     "text": [
      "Set up 11 device proxies\n"
     ]
    }
   ],
   "source": [
    "import json\n",
    "import time\n",
    "import tango\n",
    "\n",
    "from tango import DeviceProxy\n",
    "\n",
    "proxy_w = widgets.IntProgress(\n",
    "    value=0,\n",
    "    min=0,\n",
    "    max=10,\n",
    "    description='Proxies',\n",
    "    bar_style='', # 'success', 'info', 'warning', 'danger' or ''\n",
    "    style={'bar_color': 'maroon'},\n",
    "    orientation='horizontal'\n",
    ")\n",
    "display(proxy_w)\n",
    "proxy_ok = True\n",
    "for n in range(1, 12):\n",
    "    try:\n",
    "        # TMC proxies\n",
    "        if n == 1:\n",
    "            tmc_central_node = DeviceProxy(\"ska_mid/tm_central/central_node\")\n",
    "        elif n == 2:\n",
    "            tmc_csp_master = DeviceProxy(\"ska_mid/tm_leaf_node/csp_master\")\n",
    "        elif n == 3:\n",
    "            tmc_csp_subarray = DeviceProxy(\"ska_mid/tm_leaf_node/csp_subarray01\")\n",
    "        elif n == 4:\n",
    "            tmc_subarray = DeviceProxy(\"ska_mid/tm_subarray_node/1\")\n",
    "        # CSP.LMC proxies\n",
    "        elif n == 5:\n",
    "            csp_control = DeviceProxy(\"mid-csp/control/0\")\n",
    "        elif n == 6:\n",
    "            csp_subarray = DeviceProxy(\"mid-csp/subarray/01\")\n",
    "        # CBF proxies\n",
    "        elif n == 7:\n",
    "            cbf_controller = DeviceProxy(\"mid_csp_cbf/sub_elt/controller\")\n",
    "        elif n == 8:\n",
    "            cbf_subarray = DeviceProxy(\"mid_csp_cbf/sub_elt/subarray_01\")\n",
    "        # Dish Leaf Proxies\n",
    "        elif n == 9:\n",
    "            dish_leaf_node_ska001 = DeviceProxy(\"ska_mid/tm_leaf_node/d0001\")\n",
    "        elif n == 10:\n",
    "            dish_leaf_node_ska036 = DeviceProxy(\"ska_mid/tm_leaf_node/d0036\")\n",
    "        # SDP Proxies\n",
    "        elif n == 11:\n",
    "            sdp_subarray = DeviceProxy(\"mid-sdp/subarray/01\")\n",
    "        else:\n",
    "            pass\n",
    "    except tango.DevFailed as terr:\n",
    "        print(f\"ERROR: {terr.args[0].desc.strip()}\")\n",
    "        tmc_central_node = None\n",
    "        tmc_csp_master = None\n",
    "        proxy_ok = False\n",
    "        break\n",
    "    proxy_w.value = n\n",
    "        \n",
    "if proxy_ok:\n",
    "    print(f'Set up {n} device proxies')\n",
    "\n",
    "\n"
   ]
  },
  {
   "cell_type": "markdown",
   "id": "c2afe675",
   "metadata": {},
   "source": [
    "## Diagnostics"
   ]
  },
  {
   "cell_type": "markdown",
   "id": "592c09f2",
   "metadata": {},
   "source": [
    "### Smoke test"
   ]
  },
  {
   "cell_type": "code",
   "execution_count": 48,
   "id": "053b6ca8",
   "metadata": {},
   "outputs": [
    {
     "name": "stdout",
     "output_type": "stream",
     "text": [
      "Tango connection failed: TRANSIENT CORBA system exception: TRANSIENT_NoUsableProfile\n"
     ]
    },
    {
     "data": {
      "application/vnd.jupyter.widget-view+json": {
       "model_id": "2dadbbf34ef34a32b4c7ee11f4664eed",
       "version_major": 2,
       "version_minor": 0
      },
      "text/plain": [
       "Valid(value=False, description='TMC Central Node online', layout=Layout(width='60%'), style=DescriptionStyle(d…"
      ]
     },
     "metadata": {},
     "output_type": "display_data"
    }
   ],
   "source": [
    "# Smoke test\n",
    "if tmc_central_node is None:\n",
    "    print(f\"ERROR: No TMC central none\")\n",
    "else:\n",
    "    try:\n",
    "        tping = tmc_central_node.ping()\n",
    "        print(f\"Ping TMC central node: {tping}\")\n",
    "    except tango.ConnectionFailed as terr:\n",
    "        err_msg = terr.args[0].desc.strip()\n",
    "        print(f\"Tango connection failed: {err_msg}\")\n",
    "        tping = 0\n",
    "if tping:\n",
    "    tmc_admin = tmc_central_node.adminMode\n",
    "else:\n",
    "    tmc_admin = -1\n",
    "    \n",
    "tmc_cent_w = widgets.Valid(\n",
    "    value=not tmc_admin,\n",
    "    description=\"TMC Central Node online\",\n",
    "    layout=widgets.Layout(width='60%'),\n",
    "    style = {'description_width': 'initial'}\n",
    ")\n",
    "display(tmc_cent_w)"
   ]
  },
  {
   "cell_type": "markdown",
   "id": "d6dfe7e1",
   "metadata": {},
   "source": [
    "### Print TMC diagnostics"
   ]
  },
  {
   "cell_type": "code",
   "execution_count": 49,
   "id": "cc1c5869",
   "metadata": {},
   "outputs": [
    {
     "name": "stdout",
     "output_type": "stream",
     "text": [
      "Tango connection failed: TRANSIENT CORBA system exception: TRANSIENT_NoUsableProfile\n"
     ]
    }
   ],
   "source": [
    "# Print TMC diagnostics\n",
    "try:\n",
    "    print(f\"| TMC Central Node           | {tmc_central_node.name():40} |\")\n",
    "    print(f\"| TMC Central Node state     | {str(tmc_central_node.State()):40} |\")\n",
    "    print(f\"| TMC Central Node adminMode | {str(tmc_central_node.adminmode):40} |\")\n",
    "    # print(f\"TMC Central Node healthState: {str(tmc_central_node.health_state)}\")\n",
    "    # print(f\"TMC Central Node telescopeHealthState: {str(tmc_central_node.telescope_health_state)}\")\n",
    "    # print(f\"TMC Central Node isDishVccConfig: {str(tmc_central_node.isDishVccConfigSet)}\")\n",
    "    # print(f\"TMC Central Node dishvccvalidationstatus: {str(tmc_central_node.dishvccvalidationstatus)}\")\n",
    "    # print(f\"TMC Subarray Node state: {tmc_csp_subarray.State()}\")\n",
    "    # print(f\"TMC Subarray adminMode: {str(tmc_csp_subarray.admin_mode)}\")\n",
    "    # print(f\"TMC Subarray Node obsState: {str(tmc_csp_subarray.obs_state)}\")\n",
    "except tango.ConnectionFailed as terr:\n",
    "    print(f\"Tango connection failed: {terr.args[0].desc.strip()}\")\n",
    "# table(tmc_rows, frame=True)"
   ]
  },
  {
   "cell_type": "markdown",
   "id": "42cacb72",
   "metadata": {},
   "source": [
    "### Print CSP-LMC Diagnostics"
   ]
  },
  {
   "cell_type": "code",
   "execution_count": 7,
   "id": "7885ec03",
   "metadata": {},
   "outputs": [
    {
     "name": "stdout",
     "output_type": "stream",
     "text": [
      "| CSP-LMC Controller                     | mid-csp/control/0                        |\n",
      "| CSP-LMC Controller admin mode          | adminMode.ONLINE                         |\n",
      "| CSP-LMC Controller State               |                                        1 |\n",
      "| CSP-LMC Controller dish Vcc Config     | {\"interface\": \"https://schema.skao.int/ska-mid-cbf-initsysparam/1.0\", \"dish_parameters\": {\"SKA001\": {\"vcc\": 1, \"k\": 1}, \"SKA036\": {\"vcc\": 2, \"k\": 1}, \"SKA063\": {\"vcc\": 3, \"k\": 1}, \"SKA100\": {\"vcc\": 4, \"k\": 1}}} |\n",
      "| CSP-LMC Controller CBF Simulation Mode |                                        0 |\n",
      "| CSP-LMC Subarray                       | mid-csp/subarray/01                      |\n",
      "| CSP-LMC Subarray admin mode            | adminMode.ONLINE                         |\n",
      "| CSP-LMC Subarray State                 |                                        1 |\n",
      "| CSP-LMC Subarray observation state     | obsState.EMPTY                           |\n",
      "| CSP-LMC Subarray dish Vcc Config       | {\"interface\": \"https://schema.skao.int/ska-mid-cbf-initsysparam/1.0\", \"dish_parameters\": {\"SKA001\": {\"vcc\": 1, \"k\": 1}, \"SKA036\": {\"vcc\": 2, \"k\": 1}, \"SKA063\": {\"vcc\": 3, \"k\": 1}, \"SKA100\": {\"vcc\": 4, \"k\": 1}}} |\n"
     ]
    }
   ],
   "source": [
    "# Print CSP-LMC Diagnostics\n",
    "try:\n",
    "    # Controller\n",
    "    print(f\"| CSP-LMC Controller                     | {csp_control.name():40} |\")\n",
    "    print(f\"| CSP-LMC Controller admin mode          | {str(csp_control.adminMode):40} |\")\n",
    "    print(f\"| CSP-LMC Controller State               | {csp_control.State():40} |\")\n",
    "    print(f\"| CSP-LMC Controller dish Vcc Config     | {csp_control.dishVccConfig:40} |\")\n",
    "    print(f\"| CSP-LMC Controller CBF Simulation Mode | {csp_control.cbfSimulationMode:40} |\")\n",
    "    # Subarray\n",
    "    print(f\"| CSP-LMC Subarray                       | {csp_subarray.name():40} |\")\n",
    "    print(f\"| CSP-LMC Subarray admin mode            | {str(csp_subarray.adminMode):40} |\")\n",
    "    print(f\"| CSP-LMC Subarray State                 | {csp_subarray.State():40} |\")\n",
    "    print(f\"| CSP-LMC Subarray observation state     | {str(csp_subarray.obsState):40} |\")\n",
    "    print(f\"| CSP-LMC Subarray dish Vcc Config       | {csp_subarray.dishVccConfig:40} |\")\n",
    "except tango.ConnectionFailed as terr:\n",
    "    print(f\"Tango connection failed: {terr.args[0].desc.strip()}\")\n"
   ]
  },
  {
   "cell_type": "markdown",
   "id": "603df89e",
   "metadata": {},
   "source": [
    "### Print CBF Diagnostics"
   ]
  },
  {
   "cell_type": "code",
   "execution_count": 9,
   "id": "95ddbb19",
   "metadata": {},
   "outputs": [
    {
     "name": "stdout",
     "output_type": "stream",
     "text": [
      "| CBF Controller admin mode      | adminMode.ONLINE                         |\n",
      "| CBF Controller State           | OFF                                      |\n",
      "| CBF Subarray admin mode        | adminMode.ONLINE                         |\n",
      "| CBF Subarray State             | OFF                                      |\n",
      "| CBF Subarray observation state | obsState.EMPTY                           |\n"
     ]
    }
   ],
   "source": [
    "# Print CBF Diagnostics\n",
    "try:\n",
    "    # CBF Controller\n",
    "    print(f\"| CBF Controller admin mode      | {str(cbf_controller.adminMode):40} |\")\n",
    "    print(f\"| CBF Controller State           | {str(cbf_controller.State()):40} |\")\n",
    "    # CBF Subarray\n",
    "    print(f\"| CBF Subarray admin mode        | {str(cbf_subarray.adminMode):40} |\")\n",
    "    print(f\"| CBF Subarray State             | {str(cbf_subarray.State()):40} |\")\n",
    "    print(f\"| CBF Subarray observation state | {str(cbf_subarray.obsState):40} |\")\n",
    "except tango.ConnectionFailed as terr:\n",
    "    err_msg = terr.args[0].desc.strip()\n",
    "    print(\"Tango connection failed: %s\", err_msg)"
   ]
  },
  {
   "cell_type": "markdown",
   "id": "8d2b4524",
   "metadata": {},
   "source": [
    "### Print SDP Diagnostics"
   ]
  },
  {
   "cell_type": "code",
   "execution_count": 10,
   "id": "095db001",
   "metadata": {
    "scrolled": true
   },
   "outputs": [
    {
     "name": "stdout",
     "output_type": "stream",
     "text": [
      "SDP Subarray state             | OFF                                      |\n",
      "SDP Subarray admin mode        | adminMode.ONLINE                         |\n",
      "SDP Subarray observation state | obsState.EMPTY                           |\n"
     ]
    }
   ],
   "source": [
    "# Print SDP Diagnostics\n",
    "try:\n",
    "    # print(f\"SDP Controller state: {sdp_controller.State()}\")\n",
    "    # print(f\"SDP Controller admin mode: {str(sdp_controller.admin_mode)}\")\n",
    "    # SDP Subarray\n",
    "    print(f\"SDP Subarray state             | {str(sdp_subarray.State()):40} |\")\n",
    "    print(f\"SDP Subarray admin mode        | {str(sdp_subarray.adminMode):40} |\")\n",
    "    print(f\"SDP Subarray observation state | {str(sdp_subarray.obsState):40} |\")\n",
    "except tango.ConnectionFailed as terr:\n",
    "    err_msg = terr.args[0].desc.strip()\n",
    "    print(\"Tango connection failed: %s\", err_msg)"
   ]
  },
  {
   "cell_type": "markdown",
   "id": "e8da34fb",
   "metadata": {},
   "source": [
    "## Set devices to ONLINE"
   ]
  },
  {
   "cell_type": "code",
   "execution_count": 11,
   "id": "d24614ea",
   "metadata": {},
   "outputs": [
    {
     "name": "stdout",
     "output_type": "stream",
     "text": [
      "Admin mode after setting to ONLINE\n"
     ]
    },
    {
     "data": {
      "application/vnd.jupyter.widget-view+json": {
       "model_id": "a597cbc7a8d94dfdbe7e87919c39788e",
       "version_major": 2,
       "version_minor": 0
      },
      "text/plain": [
       "Valid(value=True, description='CSP Control online', layout=Layout(width='60%'), style=DescriptionStyle(descrip…"
      ]
     },
     "metadata": {},
     "output_type": "display_data"
    },
    {
     "data": {
      "application/vnd.jupyter.widget-view+json": {
       "model_id": "e0853924d300458686008819b06d8141",
       "version_major": 2,
       "version_minor": 0
      },
      "text/plain": [
       "Valid(value=True, description='CSP Subarray online', layout=Layout(width='60%'), style=DescriptionStyle(descri…"
      ]
     },
     "metadata": {},
     "output_type": "display_data"
    },
    {
     "data": {
      "application/vnd.jupyter.widget-view+json": {
       "model_id": "95c335bf771e4b81867e468262c3776a",
       "version_major": 2,
       "version_minor": 0
      },
      "text/plain": [
       "Valid(value=True, description='CBF Controller online', layout=Layout(width='60%'), style=DescriptionStyle(desc…"
      ]
     },
     "metadata": {},
     "output_type": "display_data"
    },
    {
     "data": {
      "application/vnd.jupyter.widget-view+json": {
       "model_id": "27c7ac6457334a939994797682b1f0fb",
       "version_major": 2,
       "version_minor": 0
      },
      "text/plain": [
       "Valid(value=True, description='CBF Subarray online', layout=Layout(width='60%'), style=DescriptionStyle(descri…"
      ]
     },
     "metadata": {},
     "output_type": "display_data"
    },
    {
     "data": {
      "application/vnd.jupyter.widget-view+json": {
       "model_id": "85819b1823d646b1a9c05928eb5e4d36",
       "version_major": 2,
       "version_minor": 0
      },
      "text/plain": [
       "Valid(value=False, description='CBF Simulation Mode', layout=Layout(width='60%'), style=DescriptionStyle(descr…"
      ]
     },
     "metadata": {},
     "output_type": "display_data"
    },
    {
     "data": {
      "application/vnd.jupyter.widget-view+json": {
       "model_id": "bb0b66ea53da4d2696da1cdea1d0874f",
       "version_major": 2,
       "version_minor": 0
      },
      "text/plain": [
       "IntSlider(value=99, continuous_update=False, description='CBF Timeout', max=180)"
      ]
     },
     "metadata": {},
     "output_type": "display_data"
    }
   ],
   "source": [
    "# Set devices to adminMode = ONLINE\n",
    "csp_control.adminMode = 0\n",
    "csp_subarray.adminMode = 0\n",
    "\n",
    "# Leaf Nodes\n",
    "csp_subarray_leaf_node = \"ska_mid/tm_leaf_node/csp_subarray01\"\n",
    "sdp_subarray_leaf_node = \"ska_mid/tm_leaf_node/sdp_subarray01\"\n",
    "csp_master_leaf_node = \"ska_mid/tm_leaf_node/csp_master\"\n",
    "csp_subarray_leaf_node_dp = DeviceProxy(csp_subarray_leaf_node)\n",
    "sdp_subarray_leaf_node_dp = DeviceProxy(sdp_subarray_leaf_node)\n",
    "csp_master_leaf_node_dp = DeviceProxy(csp_master_leaf_node)\n",
    "\n",
    "time.sleep(2)\n",
    "print(\"Admin mode after setting to ONLINE\")\n",
    "\n",
    "# CSP Control admin mode\n",
    "#print(f\"  CSP Control: {csp_control.adminMode}\")\n",
    "csp_ctl = widgets.Valid(\n",
    "    value=not csp_control.adminMode,\n",
    "    description=\"CSP Control online\",\n",
    "    layout=widgets.Layout(width='60%'),\n",
    "    style = {'description_width': 'initial'}\n",
    ")\n",
    "display(csp_ctl)\n",
    "\n",
    "# CSP Subarray admin mode\n",
    "# print(f\"  CSP Subarray: {csp_subarray.adminMode}\")\n",
    "csp_sub = widgets.Valid(\n",
    "    value=not csp_subarray.adminMode,\n",
    "    description=\"CSP Subarray online\",\n",
    "    layout=widgets.Layout(width='60%'),\n",
    "    style = {'description_width': 'initial'}\n",
    ")\n",
    "display(csp_sub)\n",
    "\n",
    "# CBF Controller admin mode\n",
    "# print(f\"  CBF Controller: {cbf_controller.adminMode}\")\n",
    "cbf_ctl = widgets.Valid(\n",
    "    value=not cbf_controller.adminMode,\n",
    "    description=\"CBF Controller online\",\n",
    "    layout=widgets.Layout(width='60%'),\n",
    "    style = {'description_width': 'initial'}\n",
    ")\n",
    "display(cbf_ctl)\n",
    "\n",
    "# CBF Subarray\n",
    "# print(f\"  CBF Subarray: {cbf_subarray.adminMode}\")\n",
    "cbf_sub = widgets.Valid(\n",
    "    value=not cbf_subarray.adminMode,\n",
    "    description=\"CBF Subarray online\",\n",
    "    layout=widgets.Layout(width='60%'),\n",
    "    style = {'description_width': 'initial'}\n",
    ")\n",
    "display(cbf_sub)\n",
    "\n",
    "# Set CBF Simulation mode to false and CBF timeout to 99s\n",
    "csp_control.cbfSimulationMode = 0\n",
    "csp_control.commandTimeout = 99\n",
    "\n",
    "time.sleep(2)\n",
    "# print(\"\\nChecking CBF Simulation Mode and CBF Timeout:\")\n",
    "\n",
    "# CBF Simulation Mode\n",
    "# print(f\"  CBF Simulation Mode: {bool(csp_control.cbfSimulationMode)}\")\n",
    "cbf_sim = widgets.Valid(\n",
    "    value=bool(csp_control.cbfSimulationMode),\n",
    "    description=\"CBF Simulation Mode\",\n",
    "    layout=widgets.Layout(width='60%'),\n",
    "    style = {'description_width': 'initial'}\n",
    ")\n",
    "display(cbf_sim)\n",
    "\n",
    "# CBF Timeout\n",
    "# print(f\"  CBF Timeout: {csp_control.commandTimeout} sec\")\n",
    "cbf_tim = widgets.IntSlider(\n",
    "    value=csp_control.commandTimeout,\n",
    "    min=0,\n",
    "    max=180,\n",
    "    step=1,\n",
    "    description='CBF Timeout',\n",
    "    disabled=False,\n",
    "    continuous_update=False,\n",
    "    orientation='horizontal',\n",
    "    readout=True,\n",
    "    readout_format='d'\n",
    ")\n",
    "display(cbf_tim)"
   ]
  },
  {
   "cell_type": "markdown",
   "id": "53219267",
   "metadata": {},
   "source": [
    "## Load the Dish Vcc Config / Init Sys Params"
   ]
  },
  {
   "cell_type": "code",
   "execution_count": 50,
   "id": "83b03826",
   "metadata": {
    "scrolled": true
   },
   "outputs": [
    {
     "data": {
      "application/vnd.jupyter.widget-view+json": {
       "model_id": "44bcb9e02f2b414e8bf4c892ae1c2a4f",
       "version_major": 2,
       "version_minor": 0
      },
      "text/plain": [
       "IntProgress(value=0, description='Loading:', max=2, style=ProgressStyle(bar_color='maroon'))"
      ]
     },
     "metadata": {},
     "output_type": "display_data"
    },
    {
     "ename": "AttributeError",
     "evalue": "LoadDishCfg",
     "output_type": "error",
     "traceback": [
      "\u001b[0;31m---------------------------------------------------------------------------\u001b[0m",
      "\u001b[0;31mConnectionFailed\u001b[0m                          Traceback (most recent call last)",
      "File \u001b[0;32m~/.local/lib/python3.10/site-packages/tango/device_proxy.py:468\u001b[0m, in \u001b[0;36m__DeviceProxy__getattr\u001b[0;34m(self, name)\u001b[0m\n\u001b[1;32m    467\u001b[0m \u001b[38;5;28;01mtry\u001b[39;00m:\n\u001b[0;32m--> 468\u001b[0m     \u001b[38;5;28;43mself\u001b[39;49m\u001b[38;5;241;43m.\u001b[39;49m\u001b[43m__refresh_cmd_cache\u001b[49m\u001b[43m(\u001b[49m\u001b[43m)\u001b[49m\n\u001b[1;32m    469\u001b[0m \u001b[38;5;28;01mexcept\u001b[39;00m \u001b[38;5;167;01mException\u001b[39;00m \u001b[38;5;28;01mas\u001b[39;00m e:\n",
      "File \u001b[0;32m~/.local/lib/python3.10/site-packages/tango/device_proxy.py:276\u001b[0m, in \u001b[0;36m__DeviceProxy__refresh_cmd_cache\u001b[0;34m(self)\u001b[0m\n\u001b[1;32m    275\u001b[0m \u001b[38;5;28;01mdef\u001b[39;00m \u001b[38;5;21m__DeviceProxy__refresh_cmd_cache\u001b[39m(\u001b[38;5;28mself\u001b[39m):\n\u001b[0;32m--> 276\u001b[0m     cmd_list \u001b[38;5;241m=\u001b[39m \u001b[38;5;28;43mself\u001b[39;49m\u001b[38;5;241;43m.\u001b[39;49m\u001b[43mcommand_list_query\u001b[49m\u001b[43m(\u001b[49m\u001b[43m)\u001b[49m\n\u001b[1;32m    277\u001b[0m     cmd_cache \u001b[38;5;241m=\u001b[39m {}\n",
      "\u001b[0;31mConnectionFailed\u001b[0m: DevFailed[\nDevError[\n    desc = TRANSIENT CORBA system exception: TRANSIENT_NoUsableProfile\n  origin = void Tango::Connection::connect(const string&) at (/src/cppTango/src/client/devapi_base.cpp:609)\n  reason = API_CorbaException\nseverity = ERR]\n\nDevError[\n    desc = Failed to connect to database on host tango-databaseds.ci-ska-mid-itf-at-2146-consolidate-jupyter-notebooks.svc.miditf.internal.skao.int with port 10000\n  origin = void Tango::Connection::connect(const string&) at (/src/cppTango/src/client/devapi_base.cpp:609)\n  reason = API_CantConnectToDatabase\nseverity = ERR]\n\nDevError[\n    desc = Failed to execute command_inout on device sys/database/2, command DbImportDevice\n  origin = virtual Tango::DeviceData Tango::Connection::command_inout(const string&, const Tango::DeviceData&) at (/src/cppTango/src/client/devapi_base.cpp:1320)\n  reason = API_CommandFailed\nseverity = ERR]\n]",
      "\nThe above exception was the direct cause of the following exception:\n",
      "\u001b[0;31mAttributeError\u001b[0m                            Traceback (most recent call last)",
      "Cell \u001b[0;32mIn [50], line 29\u001b[0m\n\u001b[1;32m     27\u001b[0m \u001b[38;5;66;03m# print(f\"\\nLoad dish configuration {n}\")\u001b[39;00m\n\u001b[1;32m     28\u001b[0m \u001b[38;5;28;01mtry\u001b[39;00m:\n\u001b[0;32m---> 29\u001b[0m     \u001b[43mtmc_central_node\u001b[49m\u001b[38;5;241;43m.\u001b[39;49m\u001b[43mLoadDishCfg\u001b[49m(json\u001b[38;5;241m.\u001b[39mdumps(dish_config_json))\n\u001b[1;32m     30\u001b[0m \u001b[38;5;28;01mexcept\u001b[39;00m tango\u001b[38;5;241m.\u001b[39mConnectionFailed \u001b[38;5;28;01mas\u001b[39;00m terr:\n\u001b[1;32m     31\u001b[0m     err_msg \u001b[38;5;241m=\u001b[39m terr\u001b[38;5;241m.\u001b[39margs[\u001b[38;5;241m0\u001b[39m]\u001b[38;5;241m.\u001b[39mdesc\u001b[38;5;241m.\u001b[39mstrip()\n",
      "File \u001b[0;32m~/.local/lib/python3.10/site-packages/tango/device_proxy.py:496\u001b[0m, in \u001b[0;36m__DeviceProxy__getattr\u001b[0;34m(self, name)\u001b[0m\n\u001b[1;32m    493\u001b[0m     \u001b[38;5;28;01mif\u001b[39;00m name_l \u001b[38;5;129;01min\u001b[39;00m \u001b[38;5;28mself\u001b[39m\u001b[38;5;241m.\u001b[39m__get_pipe_cache():\n\u001b[1;32m    494\u001b[0m         \u001b[38;5;28;01mreturn\u001b[39;00m \u001b[38;5;28mself\u001b[39m\u001b[38;5;241m.\u001b[39mread_pipe(name)\n\u001b[0;32m--> 496\u001b[0m     \u001b[38;5;28;01mraise\u001b[39;00m \u001b[38;5;167;01mAttributeError\u001b[39;00m(name) \u001b[38;5;28;01mfrom\u001b[39;00m \u001b[38;5;21;01mcause\u001b[39;00m\n\u001b[1;32m    497\u001b[0m \u001b[38;5;28;01mfinally\u001b[39;00m:\n\u001b[1;32m    498\u001b[0m     \u001b[38;5;28;01mdel\u001b[39;00m cause\n",
      "\u001b[0;31mAttributeError\u001b[0m: LoadDishCfg"
     ]
    }
   ],
   "source": [
    "# Load the Dish Vcc Config / Init Sys Params\n",
    "from IPython.display import JSON\n",
    "# csp_control.commandTimeout = cbf_tim.value\n",
    "\n",
    "with open(DISH_CONFIG_FILE, encoding=\"utf-8\") as f:\n",
    "    dish_config_json = json.load(f)\n",
    "\n",
    "dish_config_json[\"tm_data_sources\"][0] = \"car://gitlab.com/ska-telescope/ska-telmodel-data?0.1.0-rc-mid-itf#tmdata\"\n",
    "dish_config_json[\"tm_data_filepath\"] = \"instrument/ska1_mid_itf/ska-mid-cbf-system-parameters.json\"\n",
    "# print(f\"Dish config json file contents: \\n{dish_config_json}\")\n",
    "\n",
    "nmax = 2\n",
    "cfgp_w = widgets.IntProgress(\n",
    "    value=0,\n",
    "    min=0,\n",
    "    max=nmax,\n",
    "    description='Loading:',\n",
    "    bar_style='', # 'success', 'info', 'warning', 'danger' or ''\n",
    "    style={'bar_color': 'maroon'},\n",
    "    orientation='horizontal'\n",
    ")\n",
    "display(cfgp_w)\n",
    "\n",
    "# NOTE: RUN TWICE\n",
    "for n in range(1, nmax+1):\n",
    "    cfgp.value = n\n",
    "    # print(f\"\\nLoad dish configuration {n}\")\n",
    "    try:\n",
    "        tmc_central_node.LoadDishCfg(json.dumps(dish_config_json))\n",
    "    except tango.ConnectionFailed as terr:\n",
    "        err_msg = terr.args[0].desc.strip()\n",
    "        print(f\"Error: {err_msg}\")\n",
    "    time.sleep(2)\n",
    "\n",
    "tmc_csp_dish_vcc = json.loads(tmc_csp_master.dishVccConfig)\n",
    "# print(f\"TMC CSP Master's Dish Vcc Config attribute value: \\n\"\n",
    "# \"{json.dumps(tmc_csp_master.dishVccConfig, indent=4)}\")\n",
    "print(f'TMC CSP Master Dish Vcc Config interface\\n{tmc_csp_dish_vcc[\"interface\"]}')\n",
    "# json.dumps(tmc_csp_master.dishVccConfig, indent=4)\n",
    "# cfgj = JSON(json.loads(tmc_csp_master.dishVccConfig), expanded=True)\n",
    "# display(cfgj)\n",
    "\n",
    "tmc_csp_src_vcc = json.loads(tmc_csp_master.sourceDishVccConfig)\n",
    "# print(f\"TMC CSP Master's Source Dish Vcc Config attribute value: \\n\"\n",
    "# \"{tmc_csp_master.sourceDishVccConfig}\")\n",
    "print(f'TMC CSP Master Source Dish Vcc Config interface\\n{tmc_csp_src_vcc[\"interface\"]}')\n"
   ]
  },
  {
   "cell_type": "markdown",
   "id": "696fd41a",
   "metadata": {},
   "source": [
    "## Turn the Telescope On"
   ]
  },
  {
   "cell_type": "markdown",
   "id": "e7841f8e",
   "metadata": {},
   "source": [
    "### Run the Telescope On command"
   ]
  },
  {
   "cell_type": "code",
   "execution_count": null,
   "id": "a0183361",
   "metadata": {},
   "outputs": [],
   "source": [
    "# Turn the Telescope On\n",
    "import tango\n",
    "\n",
    "print(\"Running the TelescopeOn command\")\n",
    "try:\n",
    "    tmc_central_node.TelescopeOn()\n",
    "except tango.DevFailed as t_err:\n",
    "    err_msg: str = t_err.args[0].desc.strip()\n",
    "    print(f\"Could not run command: {err_msg}\")\n",
    "print(\"Ready\")"
   ]
  },
  {
   "cell_type": "code",
   "execution_count": 27,
   "id": "4cfa6e8a",
   "metadata": {},
   "outputs": [
    {
     "data": {
      "application/vnd.jupyter.widget-view+json": {
       "model_id": "0c450664c7c448aeb64c046506cf10dd",
       "version_major": 2,
       "version_minor": 0
      },
      "text/plain": [
       "IntSlider(value=20, continuous_update=False, description='Retry')"
      ]
     },
     "metadata": {},
     "output_type": "display_data"
    },
    {
     "data": {
      "application/vnd.jupyter.widget-view+json": {
       "model_id": "4ab3c0ec211f48afa7cf8295816e34ab",
       "version_major": 2,
       "version_minor": 0
      },
      "text/plain": [
       "IntSlider(value=5, continuous_update=False, description='Sleep', max=30)"
      ]
     },
     "metadata": {},
     "output_type": "display_data"
    }
   ],
   "source": [
    "tel_on_retry = widgets.IntSlider(\n",
    "    value=20,\n",
    "    min=0,\n",
    "    max=100,\n",
    "    step=1,\n",
    "    description='Retry',\n",
    "    disabled=False,\n",
    "    continuous_update=False,\n",
    "    orientation='horizontal',\n",
    "    readout=True,\n",
    "    readout_format='d'\n",
    ")\n",
    "display(tel_on_retry)\n",
    "tel_on_wait = widgets.IntSlider(\n",
    "    value=5,\n",
    "    min=0,\n",
    "    max=30,\n",
    "    step=1,\n",
    "    description='Sleep',\n",
    "    disabled=False,\n",
    "    continuous_update=False,\n",
    "    orientation='horizontal',\n",
    "    readout=True,\n",
    "    readout_format='d'\n",
    ")\n",
    "display(tel_on_wait)"
   ]
  },
  {
   "cell_type": "markdown",
   "id": "a1d36405",
   "metadata": {},
   "source": [
    "### Check if telescope is on"
   ]
  },
  {
   "cell_type": "code",
   "execution_count": 30,
   "id": "5c8b83e7",
   "metadata": {
    "scrolled": true
   },
   "outputs": [
    {
     "data": {
      "application/vnd.jupyter.widget-view+json": {
       "model_id": "fb6c92509f76418f99c9130641ebc935",
       "version_major": 2,
       "version_minor": 0
      },
      "text/plain": [
       "IntProgress(value=0, description='Loading:', max=5, style=ProgressStyle(bar_color='maroon'))"
      ]
     },
     "metadata": {},
     "output_type": "display_data"
    },
    {
     "data": {
      "application/vnd.jupyter.widget-view+json": {
       "model_id": "bca8daba55864e37982cb1934b2e4a2e",
       "version_major": 2,
       "version_minor": 0
      },
      "text/plain": [
       "Valid(value=False, description='Telescope ON', layout=Layout(width='60%'), style=DescriptionStyle(description_…"
      ]
     },
     "metadata": {},
     "output_type": "display_data"
    }
   ],
   "source": [
    "# Check if telescope is on\n",
    "nmax = tel_on_retry.value\n",
    "sleep_time = tel_on_wait.value\n",
    "p = widgets.IntProgress(\n",
    "    value=0,\n",
    "    min=0,\n",
    "    max=nmax,\n",
    "    description='Loading:',\n",
    "    bar_style='', # 'success', 'info', 'warning', 'danger' or ''\n",
    "    style={'bar_color': 'maroon'},\n",
    "    orientation='horizontal'\n",
    ")\n",
    "display(p)\n",
    "n = 0\n",
    "while int(tmc_central_node.telescopeState) != 0:\n",
    "    # print(\"Waiting for Telescope to come ON\")\n",
    "    n += 1\n",
    "    p.value = n\n",
    "    if n >= nmax:\n",
    "        break\n",
    "    try:\n",
    "        time.sleep(sleep_time)\n",
    "    except KeyboardInterrupt:\n",
    "        print(\"Abort\")\n",
    "        break\n",
    "    \n",
    "tel_on = widgets.Valid(\n",
    "    value=not tmc_central_node.telescopeState,\n",
    "    description=\"Telescope ON\",\n",
    "    layout=widgets.Layout(width='60%'),\n",
    "    style = {'description_width': 'initial'}\n",
    ")\n",
    "display(tel_on)\n",
    "# if int(tmc_central_node.telescopeState) == 0:\n",
    "#     print(\"Telescope is ON\")\n",
    "# else:\n",
    "#    print(\"Telescope is not ON\")"
   ]
  },
  {
   "cell_type": "markdown",
   "id": "acf29c6b",
   "metadata": {},
   "source": [
    "# Assign Resources"
   ]
  },
  {
   "cell_type": "code",
   "execution_count": 34,
   "id": "17f0e85e",
   "metadata": {},
   "outputs": [
    {
     "ename": "ConnectionFailed",
     "evalue": "DevFailed[\nDevError[\n    desc = TRANSIENT CORBA system exception: TRANSIENT_NoUsableProfile\n  origin = void Tango::Connection::connect(const string&) at (/src/cppTango/src/client/devapi_base.cpp:609)\n  reason = API_CorbaException\nseverity = ERR]\n\nDevError[\n    desc = Failed to connect to database on host tango-databaseds.ci-ska-mid-itf-at-2146-consolidate-jupyter-notebooks.svc.miditf.internal.skao.int with port 10000\n  origin = void Tango::Connection::connect(const string&) at (/src/cppTango/src/client/devapi_base.cpp:609)\n  reason = API_CantConnectToDatabase\nseverity = ERR]\n\nDevError[\n    desc = Failed to execute command_inout on device sys/database/2, command DbImportDevice\n  origin = virtual Tango::DeviceData Tango::Connection::command_inout(const string&, const Tango::DeviceData&) at (/src/cppTango/src/client/devapi_base.cpp:1320)\n  reason = API_CommandFailed\nseverity = ERR]\n]",
     "output_type": "error",
     "traceback": [
      "\u001b[0;31m---------------------------------------------------------------------------\u001b[0m",
      "\u001b[0;31mConnectionFailed\u001b[0m                          Traceback (most recent call last)",
      "Cell \u001b[0;32mIn [34], line 3\u001b[0m\n\u001b[1;32m      1\u001b[0m \u001b[38;5;66;03m# Assign Resources\u001b[39;00m\n\u001b[0;32m----> 3\u001b[0m \u001b[38;5;28mprint\u001b[39m(\u001b[38;5;124mf\u001b[39m\u001b[38;5;124m\"\u001b[39m\u001b[38;5;124mSDP subarray is \u001b[39m\u001b[38;5;132;01m{\u001b[39;00m\u001b[43msdp_subarray\u001b[49m\u001b[38;5;241;43m.\u001b[39;49m\u001b[43mstate\u001b[49m\u001b[43m(\u001b[49m\u001b[43m)\u001b[49m\u001b[38;5;132;01m}\u001b[39;00m\u001b[38;5;124m\"\u001b[39m)\n\u001b[1;32m      4\u001b[0m sdp_sub_w \u001b[38;5;241m=\u001b[39m widgets\u001b[38;5;241m.\u001b[39mValid(\n\u001b[1;32m      5\u001b[0m     value\u001b[38;5;241m=\u001b[39msdp_subarray\u001b[38;5;241m.\u001b[39mstate(),\n\u001b[1;32m      6\u001b[0m     description\u001b[38;5;241m=\u001b[39m\u001b[38;5;124m\"\u001b[39m\u001b[38;5;124mSDP subarray\u001b[39m\u001b[38;5;124m\"\u001b[39m,\n\u001b[1;32m      7\u001b[0m     layout\u001b[38;5;241m=\u001b[39mwidgets\u001b[38;5;241m.\u001b[39mLayout(width\u001b[38;5;241m=\u001b[39m\u001b[38;5;124m'\u001b[39m\u001b[38;5;124m60\u001b[39m\u001b[38;5;124m%\u001b[39m\u001b[38;5;124m'\u001b[39m),\n\u001b[1;32m      8\u001b[0m     style \u001b[38;5;241m=\u001b[39m {\u001b[38;5;124m'\u001b[39m\u001b[38;5;124mdescription_width\u001b[39m\u001b[38;5;124m'\u001b[39m: \u001b[38;5;124m'\u001b[39m\u001b[38;5;124minitial\u001b[39m\u001b[38;5;124m'\u001b[39m}\n\u001b[1;32m      9\u001b[0m )\n\u001b[1;32m     10\u001b[0m display(sdp_sub_w)\n",
      "File \u001b[0;32m~/.local/lib/python3.10/site-packages/tango/green.py:234\u001b[0m, in \u001b[0;36mgreen.<locals>.decorator.<locals>.greener\u001b[0;34m(obj, *args, **kwargs)\u001b[0m\n\u001b[1;32m    232\u001b[0m green_mode \u001b[38;5;241m=\u001b[39m access(\u001b[38;5;124m\"\u001b[39m\u001b[38;5;124mgreen_mode\u001b[39m\u001b[38;5;124m\"\u001b[39m, \u001b[38;5;28;01mNone\u001b[39;00m)\n\u001b[1;32m    233\u001b[0m executor \u001b[38;5;241m=\u001b[39m get_object_executor(obj, green_mode)\n\u001b[0;32m--> 234\u001b[0m \u001b[38;5;28;01mreturn\u001b[39;00m \u001b[43mexecutor\u001b[49m\u001b[38;5;241;43m.\u001b[39;49m\u001b[43mrun\u001b[49m\u001b[43m(\u001b[49m\u001b[43mfn\u001b[49m\u001b[43m,\u001b[49m\u001b[43m \u001b[49m\u001b[43margs\u001b[49m\u001b[43m,\u001b[49m\u001b[43m \u001b[49m\u001b[43mkwargs\u001b[49m\u001b[43m,\u001b[49m\u001b[43m \u001b[49m\u001b[43mwait\u001b[49m\u001b[38;5;241;43m=\u001b[39;49m\u001b[43mwait\u001b[49m\u001b[43m,\u001b[49m\u001b[43m \u001b[49m\u001b[43mtimeout\u001b[49m\u001b[38;5;241;43m=\u001b[39;49m\u001b[43mtimeout\u001b[49m\u001b[43m)\u001b[49m\n",
      "File \u001b[0;32m~/.local/lib/python3.10/site-packages/tango/green.py:124\u001b[0m, in \u001b[0;36mAbstractExecutor.run\u001b[0;34m(self, fn, args, kwargs, wait, timeout)\u001b[0m\n\u001b[1;32m    122\u001b[0m \u001b[38;5;66;03m# Synchronous (no delegation)\u001b[39;00m\n\u001b[1;32m    123\u001b[0m \u001b[38;5;28;01mif\u001b[39;00m \u001b[38;5;129;01mnot\u001b[39;00m \u001b[38;5;28mself\u001b[39m\u001b[38;5;241m.\u001b[39masynchronous \u001b[38;5;129;01mor\u001b[39;00m \u001b[38;5;129;01mnot\u001b[39;00m \u001b[38;5;28mself\u001b[39m\u001b[38;5;241m.\u001b[39min_executor_context():\n\u001b[0;32m--> 124\u001b[0m     \u001b[38;5;28;01mreturn\u001b[39;00m \u001b[43mfn\u001b[49m\u001b[43m(\u001b[49m\u001b[38;5;241;43m*\u001b[39;49m\u001b[43margs\u001b[49m\u001b[43m,\u001b[49m\u001b[43m \u001b[49m\u001b[38;5;241;43m*\u001b[39;49m\u001b[38;5;241;43m*\u001b[39;49m\u001b[43mkwargs\u001b[49m\u001b[43m)\u001b[49m\n\u001b[1;32m    125\u001b[0m \u001b[38;5;66;03m# Asynchronous delegation\u001b[39;00m\n\u001b[1;32m    126\u001b[0m accessor \u001b[38;5;241m=\u001b[39m \u001b[38;5;28mself\u001b[39m\u001b[38;5;241m.\u001b[39mdelegate(fn, \u001b[38;5;241m*\u001b[39margs, \u001b[38;5;241m*\u001b[39m\u001b[38;5;241m*\u001b[39mkwargs)\n",
      "File \u001b[0;32m~/.local/lib/python3.10/site-packages/tango/device_proxy.py:1725\u001b[0m, in \u001b[0;36m__DeviceProxy__state\u001b[0;34m(self, *args, **kwargs)\u001b[0m\n\u001b[1;32m   1714\u001b[0m \u001b[38;5;28;01mdef\u001b[39;00m \u001b[38;5;21m__DeviceProxy__state\u001b[39m(\u001b[38;5;28mself\u001b[39m, \u001b[38;5;241m*\u001b[39margs, \u001b[38;5;241m*\u001b[39m\u001b[38;5;241m*\u001b[39mkwargs):\n\u001b[1;32m   1715\u001b[0m \u001b[38;5;250m    \u001b[39m\u001b[38;5;124;03m\"\"\"state(self) -> DevState\u001b[39;00m\n\u001b[1;32m   1716\u001b[0m \n\u001b[1;32m   1717\u001b[0m \u001b[38;5;124;03m        A method which returns the state of the device.\u001b[39;00m\n\u001b[0;32m   (...)\u001b[0m\n\u001b[1;32m   1723\u001b[0m \u001b[38;5;124;03m            if dev_st == DevState.ON : ...\u001b[39;00m\n\u001b[1;32m   1724\u001b[0m \u001b[38;5;124;03m    \"\"\"\u001b[39;00m\n\u001b[0;32m-> 1725\u001b[0m     \u001b[38;5;28;01mreturn\u001b[39;00m \u001b[38;5;28;43mself\u001b[39;49m\u001b[38;5;241;43m.\u001b[39;49m\u001b[43m_state\u001b[49m\u001b[43m(\u001b[49m\u001b[38;5;241;43m*\u001b[39;49m\u001b[43margs\u001b[49m\u001b[43m,\u001b[49m\u001b[43m \u001b[49m\u001b[38;5;241;43m*\u001b[39;49m\u001b[38;5;241;43m*\u001b[39;49m\u001b[43mkwargs\u001b[49m\u001b[43m)\u001b[49m\n",
      "\u001b[0;31mConnectionFailed\u001b[0m: DevFailed[\nDevError[\n    desc = TRANSIENT CORBA system exception: TRANSIENT_NoUsableProfile\n  origin = void Tango::Connection::connect(const string&) at (/src/cppTango/src/client/devapi_base.cpp:609)\n  reason = API_CorbaException\nseverity = ERR]\n\nDevError[\n    desc = Failed to connect to database on host tango-databaseds.ci-ska-mid-itf-at-2146-consolidate-jupyter-notebooks.svc.miditf.internal.skao.int with port 10000\n  origin = void Tango::Connection::connect(const string&) at (/src/cppTango/src/client/devapi_base.cpp:609)\n  reason = API_CantConnectToDatabase\nseverity = ERR]\n\nDevError[\n    desc = Failed to execute command_inout on device sys/database/2, command DbImportDevice\n  origin = virtual Tango::DeviceData Tango::Connection::command_inout(const string&, const Tango::DeviceData&) at (/src/cppTango/src/client/devapi_base.cpp:1320)\n  reason = API_CommandFailed\nseverity = ERR]\n]"
     ]
    }
   ],
   "source": [
    "# Assign Resources\n",
    "\n",
    "print(f\"SDP subarray is {sdp_subarray.state()}\")\n",
    "sdp_sub_w = widgets.Valid(\n",
    "    value=sdp_subarray.state(),\n",
    "    description=\"SDP subarray\",\n",
    "    layout=widgets.Layout(width='60%'),\n",
    "    style = {'description_width': 'initial'}\n",
    ")\n",
    "display(sdp_sub_w)\n",
    "\n",
    "time.sleep(3)\n",
    "\n",
    "print(\n",
    "    \"Running the AssignResources command: subarray obsstate should go to Idle and receptor IDs should be assigned\"\n",
    ")\n",
    "\n",
    "with open(ASSIGN_RESOURCES_FILE, encoding=\"utf-8\") as f:\n",
    "    assign_resources_json = json.load(f)\n",
    "    assign_resources_json[\"dish\"][\"receptor_ids\"] = RECEPTORS\n",
    "    assign_resources_json[\"sdp\"][\"resources\"][\"receptors\"] = RECEPTORS\n",
    "\n",
    "\n",
    "# print(f\"\\nAssign_resources_json file contents: \\n{assign_resources_json}\")\n",
    "\n",
    "try:\n",
    "    tmc_subarray.AssignResources(json.dumps(assign_resources_json))\n",
    "    res_ok = True\n",
    "except tango.DevFailed as t_err:\n",
    "    err_msg: str = t_err.args[0].desc.strip()\n",
    "    print(f\"Could not assign resources: {err_msg}\")\n",
    "    res_ok = False\n",
    "\n",
    "time.sleep(2)\n",
    "print(f\"\\nCBF Subarray Observation State: {tmc_subarray.obsState}\")\n",
    "print(f\"CBF Subarray Receptors : {cbf_subarray.receptors}\")\n",
    "\n",
    "res_ok_w = widgets.Valid(\n",
    "    value=res_ok,\n",
    "    description=\"Resources\",\n",
    "    layout=widgets.Layout(width='60%'),\n",
    "    style = {'description_width': 'initial'}\n",
    ")\n",
    "display(res_ok_w)"
   ]
  },
  {
   "cell_type": "markdown",
   "id": "de3991bf",
   "metadata": {},
   "source": [
    "## Deploy dishes"
   ]
  },
  {
   "cell_type": "code",
   "execution_count": null,
   "id": "0546542b",
   "metadata": {},
   "outputs": [],
   "source": [
    "from astropy.time import Time\n",
    "from tango import DeviceProxy\n",
    "\n",
    "dish_deployments = [f\"tango://tango-databaseds.{SKA001_NAMESPACE}.svc.miditf.internal.skao.int:10000/mid-dish/dish-manager/SKA001\", \n",
    "                    f\"tango://tango-databaseds.{SKA036_NAMESPACE}.svc.miditf.internal.skao.int:10000/mid-dish/dish-manager/SKA036\"]\n",
    "\n",
    "\n",
    "def get_tai_from_unix_s(unix_s: float) -> float:\n",
    "    \"\"\"\n",
    "    Calculate atomic time in seconds from unix time in seconds.\n",
    "\n",
    "    :param unix_s: Unix time in seconds\n",
    "\n",
    "    :return: atomic time (tai) in seconds\n",
    "    \"\"\"\n",
    "    astropy_time_utc = Time(unix_s, format=\"unix\")\n",
    "    return astropy_time_utc.unix_tai\n",
    "\n",
    "\n",
    "for dish in dish_deployments:\n",
    "    dish_manager_proxy = DeviceProxy(dish)\n",
    "    current_pointing = dish_manager_proxy.achievedPointing\n",
    "    current_az = current_pointing[1]\n",
    "    current_el = current_pointing[2]\n",
    "\n",
    "    current_time_tai_s = get_tai_from_unix_s(time.time() + 120)\n",
    "\n",
    "    # Directions to move values\n",
    "    az_dir = 1 if current_az < 350 else -1\n",
    "    el_dir = 1 if current_el < 80 else -1\n",
    "\n",
    "    track_table = [\n",
    "        current_time_tai_s + 3,\n",
    "        current_az + 1 * az_dir,\n",
    "        current_el + 1 * el_dir,\n",
    "        current_time_tai_s + 5,\n",
    "        current_az + 2 * az_dir,\n",
    "        current_el + 2 * el_dir,\n",
    "        current_time_tai_s + 7,\n",
    "        current_az + 3 * az_dir,\n",
    "        current_el + 3 * el_dir,\n",
    "        current_time_tai_s + 9,\n",
    "        current_az + 4 * az_dir,\n",
    "        current_el + 4 * el_dir,\n",
    "        current_time_tai_s + 11,\n",
    "        current_az + 5 * az_dir,\n",
    "        current_el + 5 * el_dir,\n",
    "    ]\n",
    "\n",
    "    dish_manager_proxy.programTrackTable = track_table"
   ]
  },
  {
   "cell_type": "markdown",
   "id": "4ec206a1",
   "metadata": {},
   "source": [
    "## Start Scan"
   ]
  },
  {
   "cell_type": "markdown",
   "id": "0e04d6ac",
   "metadata": {},
   "source": [
    "### Configure Scan"
   ]
  },
  {
   "cell_type": "code",
   "execution_count": null,
   "id": "fd32216c",
   "metadata": {},
   "outputs": [],
   "source": [
    "# Configure Scan\n",
    "print(\"Running the Configure command: subarray obsstate should go to Ready\")\n",
    "\n",
    "with open(CONFIGURE_SCAN_FILE, encoding=\"utf-8\") as f:\n",
    "    configure_scan_json = json.load(f)\n",
    "\n",
    "print(f\"\\nconfigure_scan_json file contents: \\n{configure_scan_json}\")\n",
    "\n",
    "print(json.dumps(configure_scan_json))\n",
    "\n",
    "tmc_subarray.Configure(json.dumps(configure_scan_json))\n",
    "    \n",
    "time.sleep(12)\n",
    "print(f\"SDP Subarray Observation State: {sdp_subarray_leaf_node_dp.sdpSubarrayObsState}\")\n",
    "print(f\"CSP Subarray Observation State: {csp_subarray_leaf_node_dp.cspSubarrayObsState}\")"
   ]
  },
  {
   "cell_type": "markdown",
   "id": "01442e4a",
   "metadata": {},
   "source": [
    "### Start scan"
   ]
  },
  {
   "cell_type": "code",
   "execution_count": null,
   "id": "f8e83361",
   "metadata": {},
   "outputs": [],
   "source": [
    "# TMC LEAF NODE HACK TO GET AROUND TMC SUBARRAY STUCK IN CONFIGURING\n",
    "with open(\"../../data/mid_telescope/tmc/scan.json\", \"r\", encoding=\"utf-8\") as json_data:\n",
    "    d = json.load(json_data)\n",
    "    sdp_scan = d[\"sdp\"]\n",
    "    print(sdp_scan)\n",
    "    sdp_subarray_leaf_node_dp.scan(json.dumps(sdp_scan))\n",
    "\n",
    "sleep(10)\n",
    "print(sdp_subarray_leaf_node_dp.sdpSubarrayObsState)\n",
    "\n",
    "with open(\"../../data/mid_telescope/tmc/scan.json\", \"r\", encoding=\"utf-8\") as json_data:\n",
    "    d = json.load(json_data)\n",
    "    csp_scan = d[\"csp\"]\n",
    "    print(csp_scan)\n",
    "    csp_subarray_leaf_node_dp.scan(json.dumps(csp_scan))\n",
    "\n",
    "sleep(2)\n",
    "print(csp_subarray_leaf_node_dp.cspSubarrayObsState)"
   ]
  },
  {
   "cell_type": "markdown",
   "id": "4df244eb",
   "metadata": {},
   "source": [
    "### End scan"
   ]
  },
  {
   "cell_type": "code",
   "execution_count": null,
   "id": "45bbcda4",
   "metadata": {},
   "outputs": [],
   "source": [
    "# TMC LEAF NODE HACK TO GET AROUND TMC SUBARRAY STUCK IN CONFIGURING\n",
    "print(\"Running the End Scan command: subarray obsstate should go to Ready state\")\n",
    "\n",
    "sdp_subarray_leaf_node_dp.EndScan()\n",
    "sleep(2)\n",
    "csp_subarray_leaf_node_dp.EndScan()\n",
    "print(f\"SDP Subarray Observation State: {sdp_subarray_leaf_node_dp.sdpSubarrayObsState}\")\n",
    "print(f\"CSP Subarray Observation State: {csp_subarray_leaf_node_dp.cspSubarrayObsState}\")"
   ]
  },
  {
   "cell_type": "markdown",
   "id": "d7d8a784",
   "metadata": {},
   "source": [
    "## End"
   ]
  },
  {
   "cell_type": "markdown",
   "id": "8642c4a0",
   "metadata": {},
   "source": [
    "### Run the End command"
   ]
  },
  {
   "cell_type": "code",
   "execution_count": null,
   "id": "218fe54a",
   "metadata": {},
   "outputs": [],
   "source": [
    "# TMC LEAF NODE HACK TO GET AROUND TMC SUBARRAY STUCK IN CONFIGURING\n",
    "print(\"Running the End command: subarray obsstate should go to Idle state\")\n",
    "\n",
    "sdp_subarray_leaf_node_dp.End()\n",
    "sleep(2)\n",
    "csp_subarray_leaf_node_dp.End()\n",
    "\n",
    "sleep(2)\n",
    "print(f\"SDP Subarray Observation State: {sdp_subarray_leaf_node_dp.sdpSubarrayObsState}\")\n",
    "print(f\"CSP Subarray Observation State: {csp_subarray_leaf_node_dp.cspSubarrayObsState}\")"
   ]
  },
  {
   "cell_type": "markdown",
   "id": "1cf32345",
   "metadata": {},
   "source": [
    "### Release All Resources"
   ]
  },
  {
   "cell_type": "code",
   "execution_count": null,
   "id": "497836e3",
   "metadata": {},
   "outputs": [],
   "source": [
    "# TMC LEAF NODE HACK TO GET AROUND TMC SUBARRAY STUCK IN CONFIGURING\n",
    "print(\n",
    "    \"Running the Release All Resources command: subarray obsstate should go to Empty state and receptor IDs should be empty\"\n",
    ")\n",
    "\n",
    "sdp_subarray_leaf_node_dp.ReleaseAllResources()\n",
    "sleep(2)\n",
    "csp_subarray_leaf_node_dp.ReleaseAllResources()\n",
    "\n",
    "sleep(2)\n",
    "print(f\"SDP Subarray Observation State: {sdp_subarray_leaf_node_dp.sdpSubarrayObsState}\")\n",
    "print(f\"CSP Subarray Observation State: {csp_subarray_leaf_node_dp.cspSubarrayObsState}\")"
   ]
  },
  {
   "cell_type": "markdown",
   "id": "e17d83b6",
   "metadata": {},
   "source": [
    "### Run the Telescope Off command"
   ]
  },
  {
   "cell_type": "code",
   "execution_count": null,
   "id": "4427e798",
   "metadata": {},
   "outputs": [],
   "source": [
    "# Telescope Off\n",
    "print(\"Running the TelescopeOff command\")\n",
    "\n",
    "tmc_central_node.TelescopeOff()\n",
    "\n",
    "sleep(5)\n",
    "print(f\"TMC Central Node State: {tmc_central_node.State()}\")\n",
    "print(f\"CSP Control State: {csp_control.State()}\")\n",
    "print(f\"CBF Controller State: {cbf_controller.State()}\")"
   ]
  }
 ],
 "metadata": {
  "celltoolbar": "Edit Metadata",
  "hide_input": false,
  "kernelspec": {
   "display_name": "Python 3 (ipykernel)",
   "language": "python",
   "name": "python3"
  },
  "language_info": {
   "codemirror_mode": {
    "name": "ipython",
    "version": 3
   },
   "file_extension": ".py",
   "mimetype": "text/x-python",
   "name": "python",
   "nbconvert_exporter": "python",
   "pygments_lexer": "ipython3",
   "version": "3.10.12"
  }
 },
 "nbformat": 4,
 "nbformat_minor": 5
}
