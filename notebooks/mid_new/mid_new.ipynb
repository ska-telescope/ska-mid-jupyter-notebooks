{
 "cells": [
  {
   "cell_type": "markdown",
   "id": "15c1506e",
   "metadata": {},
   "source": [
    "## Read namespaces"
   ]
  },
  {
   "cell_type": "code",
   "execution_count": null,
   "id": "c730d3ec",
   "metadata": {
    "scrolled": true
   },
   "outputs": [
    {
     "ename": "",
     "evalue": "",
     "output_type": "error",
     "traceback": [
      "\u001b[1;31mRunning cells with 'Python 3.10.12' requires the ipykernel package.\n",
      "\u001b[1;31mRun the following command to install 'ipykernel' into the Python environment. \n",
      "\u001b[1;31mCommand: '/bin/python -m pip install ipykernel -U --user --force-reinstall'"
     ]
    }
   ],
   "source": [
    "# Read namespaces\n",
    "import os\n",
    "import kubernetes\n",
    "import ipywidgets as widgets\n",
    "from IPython.display import display, JSON\n",
    "\n",
    "ns_list = []\n",
    "kubernetes.config.load_kube_config()\n",
    "k8s_client = kubernetes.client.CoreV1Api()\n",
    "try:\n",
    "    namespaces = k8s_client.list_namespace(_request_timeout=(1, 5))\n",
    "    for namespace in namespaces.items:\n",
    "        ns_name = namespace.metadata.name\n",
    "        ns_list.append(ns_name)\n",
    "except Exception:\n",
    "    pass\n",
    "\n",
    "ns_valid_w = widgets.Valid(\n",
    "    value=len(ns_list) > 0,\n",
    "    description=\"Namespaces\",\n",
    "    layout=widgets.Layout(width='60%'),\n",
    "    style = {'description_width': 'initial'}\n",
    ")\n",
    "display(ns_valid_w)\n",
    "\n",
    "if len(ns_list) > 0:\n",
    "    ns_w = widgets.Dropdown(\n",
    "        options=ns_list,\n",
    "        description='SUT ns',\n",
    "        disabled=False,\n",
    "        layout=widgets.Layout(width='50%')\n",
    "    )\n",
    "    display(ns_w)"
   ]
  },
  {
   "cell_type": "markdown",
   "id": "4a810c5d",
   "metadata": {},
   "source": [
    "## Set namespaces"
   ]
  },
  {
   "cell_type": "code",
   "execution_count": 3,
   "id": "a1926496",
   "metadata": {
    "scrolled": true
   },
   "outputs": [
    {
     "data": {
      "application/vnd.jupyter.widget-view+json": {
       "model_id": "ad8bd999c74d44888683d1330ee2d9a4",
       "version_major": 2,
       "version_minor": 0
      },
      "text/plain": [
       "Text(value='ci-dish-lmc-ska001-at-2146-consolidate-jupyter-notebooks', description='SKA001 ns', disabled=True,…"
      ]
     },
     "metadata": {},
     "output_type": "display_data"
    },
    {
     "data": {
      "application/vnd.jupyter.widget-view+json": {
       "model_id": "29cd1945ade04f72b8f3e29b04cd4d28",
       "version_major": 2,
       "version_minor": 0
      },
      "text/plain": [
       "Text(value='ci-dish-lmc-ska036-at-2146-consolidate-jupyter-notebooks', description='SKA036 ns', disabled=True,…"
      ]
     },
     "metadata": {},
     "output_type": "display_data"
    },
    {
     "data": {
      "application/vnd.jupyter.widget-view+json": {
       "model_id": "27f8867687fe48048cd76b08f37943fb",
       "version_major": 2,
       "version_minor": 0
      },
      "text/plain": [
       "Text(value='tango-databaseds.ci-ska-mid-itf-at-2146-consolidate-jupyter-notebooks.svc.miditf.internal.skao.int…"
      ]
     },
     "metadata": {},
     "output_type": "display_data"
    }
   ],
   "source": [
    "def show_textbox(box_value, box_desc):\n",
    "    textbox_w = widgets.Text(\n",
    "        value=box_value,\n",
    "        description=box_desc,\n",
    "        disabled=True,\n",
    "        layout=widgets.Layout(width='60%')\n",
    "    )\n",
    "    display(textbox_w)\n",
    "    \n",
    "def show_errorbox(box_value):\n",
    "    errorbox_w = widgets.Textarea(\n",
    "        value=box_value,\n",
    "        placeholder='Error message',\n",
    "        description='Error',\n",
    "        disabled=False,\n",
    "        layout=widgets.Layout(width='75%', height='200px')\n",
    "    )\n",
    "    display(errorbox_w)\n",
    "    \n",
    "CLUSTER_DOMAIN = \"miditf.internal.skao.int\"\n",
    "\n",
    "# Set namespaces\n",
    "SUT_NAMESPACE = ns_w.value\n",
    "# print(f\"Using SUT namespace {SUT_NAMESPACE}\")\n",
    "BRANCH_NAME = SUT_NAMESPACE.replace(\"ci-ska-mid-itf-\", \"\")\n",
    "# print(f\"Using SUT branch {BRANCH_NAME}\")\n",
    "SKA001_NAMESPACE = f\"ci-dish-lmc-ska001-{BRANCH_NAME}\"\n",
    "SKA001_TANGO_HOST = f\"tango-databaseds.{SKA001_NAMESPACE}.svc.{CLUSTER_DOMAIN}:10000\"\n",
    "\n",
    "show_textbox(SKA001_NAMESPACE, 'SKA001 ns')\n",
    "\n",
    "SKA036_NAMESPACE = f\"ci-dish-lmc-ska036-{BRANCH_NAME}\"\n",
    "SKA036_TANGO_HOST = f\"tango-databaseds.{SKA036_NAMESPACE}.svc.{CLUSTER_DOMAIN}:10000\"\n",
    "\n",
    "show_textbox(SKA036_NAMESPACE, 'SKA036 ns')\n",
    "\n",
    "# print(f\"Setting up parameters for SUT namespace {SUT_NAMESPACE}\\n\")\n",
    "\n",
    "TANGO_HOST = f\"tango-databaseds.{SUT_NAMESPACE}.svc.{CLUSTER_DOMAIN}:10000\"\n",
    "os.environ[\"TANGO_HOST\"] = TANGO_HOST\n",
    "\n",
    "show_textbox(os.getenv(\"TANGO_HOST\"), 'Tango host')"
   ]
  },
  {
   "cell_type": "markdown",
   "id": "576d6c18",
   "metadata": {},
   "source": [
    "## Device Proxies"
   ]
  },
  {
   "cell_type": "markdown",
   "id": "9dc57748",
   "metadata": {},
   "source": [
    "### Device Proxy Names\n",
    "\n",
    "| Class     | Description             | Name                                |\n",
    "|---------- | ----------------------- | ----------------------------------- |\n",
    "| TMC       | tmc central node        | ska_mid/tm_central/central_node     |\n",
    "|           | tmc csp master          | ska_mid/tm_leaf_node/csp_master     |\n",
    "|           | tmc csp subarray        | ska_mid/tm_leaf_node/csp_subarray01 |\n",
    "|           | tmc subarray            | ska_mid/tm_subarray_node/1          |\n",
    "| CSP LMC   | csp control             | mid-csp/control/0                   |\n",
    "|           | csp subarray            | mid-csp/subarray/01                 |\n",
    "| CBF       | cbf controller          | mid_csp_cbf/sub_elt/controller      |\n",
    "|           | cbf subarray            | mid_csp_cbf/sub_elt/subarray_01     |\n",
    "| Dish Leaf | dish leaf node ska001   | ska_mid/tm_leaf_node/d0001          |\n",
    "|           | dish leaf node ska036   | ska_mid/tm_leaf_node/d0036          |\n",
    "| SDP       | sdp subarray            | mid-sdp/subarray/01                 |\n",
    "|           | sdp_subarray_leaf_node  | ska_mid/tm_leaf_node/sdp_subarray01 |\n",
    "| CSP       | csp_subarray_leaf_node  | ska_mid/tm_leaf_node/csp_subarray01 |\n",
    "|           | csp_master_leaf_node    | ska_mid/tm_leaf_node/csp_master     |\n",
    "| CBF FSP   | cbf_fspcorrsubarray     | mid_csp_cbf/fspcorrsubarray/01_01   |\n"
   ]
  },
  {
   "cell_type": "markdown",
   "id": "974061ee",
   "metadata": {},
   "source": [
    "### Configure Device Proxies"
   ]
  },
  {
   "cell_type": "code",
   "execution_count": 4,
   "id": "4ca0f279",
   "metadata": {
    "scrolled": true
   },
   "outputs": [
    {
     "name": "stdout",
     "output_type": "stream",
     "text": [
      "SUT Links\n",
      "https://k8s.miditf.internal.skao.int/ci-ska-mid-itf-at-2146-consolidate-jupyter-notebooks/signal/display/\n",
      "https://k8s.miditf.internal.skao.int/ci-ska-mid-itf-at-2146-consolidate-jupyter-notebooks/taranta/devices\n",
      "\n",
      "\n",
      "Dish LMC links\n",
      "https://k8s.miditf.internal.skao.int/ci-dish-lmc-ska001-at-2146-consolidate-jupyter-notebooks/taranta/devices\n",
      "https://k8s.miditf.internal.skao.int/ci-dish-lmc-ska036-at-2146-consolidate-jupyter-notebooks/taranta/devices\n",
      "\n",
      "\n",
      "Kafka endpoint\n",
      "ska-sdp-kafka.ci-ska-mid-itf-at-2146-consolidate-jupyter-notebooks.svc.miditf.internal.skao.int:9092\n"
     ]
    }
   ],
   "source": [
    "# Set Up and Configure Device Proxies\n",
    "\n",
    "RECEPTORS = [\"SKA001\", \"SKA036\"]\n",
    "\n",
    "# Config files set up\n",
    "DATA_DIR = \"../../data\"\n",
    "TMC_CONFIGS = f\"{DATA_DIR}/mid_telescope/tmc\"\n",
    "SCAN_FILE = f\"{TMC_CONFIGS}/scan.json\"\n",
    "RELEASE_RESOURCES_FILE = f\"{DATA_DIR}/release_resources.json\"\n",
    "\n",
    "ASSIGN_RESOURCES_FILE = f\"{TMC_CONFIGS}/assign_resources.json\"\n",
    "CONFIGURE_SCAN_FILE = f\"{TMC_CONFIGS}/configure_scan.json\"\n",
    "\n",
    "CBF_CONFIGS = f\"{DATA_DIR}/mid_telescope/cbf\"\n",
    "DISH_CONFIG_FILE = f\"{CBF_CONFIGS}/sys_params/load_dish_config.json\"\n",
    "\n",
    "KAFKA_PORT = 9092\n",
    "KAFKA_SERVICE_NAME = \"ska-sdp-kafka\"\n",
    "KAFKA_ENDPOINT = f\"{KAFKA_SERVICE_NAME}.{SUT_NAMESPACE}.svc.{CLUSTER_DOMAIN}:{KAFKA_PORT}\"\n",
    "\n",
    "# print(\"Links for Taranta and QA Display\\n\")\n",
    "print(\"SUT Links\")\n",
    "print(f\"https://k8s.miditf.internal.skao.int/{SUT_NAMESPACE}/signal/display/\")\n",
    "print(f\"https://k8s.miditf.internal.skao.int/{SUT_NAMESPACE}/taranta/devices\")\n",
    "print(\"\\n\")\n",
    "print(\"Dish LMC links\")\n",
    "print(f\"https://k8s.miditf.internal.skao.int/{SKA001_NAMESPACE}/taranta/devices\")\n",
    "print(f\"https://k8s.miditf.internal.skao.int/{SKA036_NAMESPACE}/taranta/devices\")\n",
    "print(\"\\n\")\n",
    "print(\"Kafka endpoint\")\n",
    "print(f\"{KAFKA_ENDPOINT}\")"
   ]
  },
  {
   "cell_type": "markdown",
   "id": "9ad72e8f",
   "metadata": {},
   "source": [
    "### Set Up Device Proxies"
   ]
  },
  {
   "cell_type": "code",
   "execution_count": 5,
   "id": "19c756ec",
   "metadata": {},
   "outputs": [
    {
     "data": {
      "application/vnd.jupyter.widget-view+json": {
       "model_id": "1d8e342d65974cb5b8d9246d79eec079",
       "version_major": 2,
       "version_minor": 0
      },
      "text/plain": [
       "IntProgress(value=0, description='Proxies', max=14, style=ProgressStyle(bar_color='maroon'))"
      ]
     },
     "metadata": {},
     "output_type": "display_data"
    },
    {
     "data": {
      "application/vnd.jupyter.widget-view+json": {
       "model_id": "a707a8dc9dbf4d72b60a25f81e9f59bd",
       "version_major": 2,
       "version_minor": 0
      },
      "text/plain": [
       "Valid(value=True, description='Proxies OK', layout=Layout(width='60%'), style=DescriptionStyle(description_wid…"
      ]
     },
     "metadata": {},
     "output_type": "display_data"
    }
   ],
   "source": [
    "import json\n",
    "import time\n",
    "import tango\n",
    "\n",
    "from tango import DeviceProxy\n",
    "\n",
    "proxy_w = widgets.IntProgress(\n",
    "    value=0,\n",
    "    min=0,\n",
    "    max=14,\n",
    "    description='Proxies',\n",
    "    bar_style='', # 'success', 'info', 'warning', 'danger' or ''\n",
    "    style={'bar_color': 'maroon'},\n",
    "    orientation='horizontal'\n",
    ")\n",
    "display(proxy_w)\n",
    "proxy_ok = True\n",
    "try:\n",
    "    # TMC proxies\n",
    "    proxy_w.value = 1\n",
    "    tmc_central_node = DeviceProxy(\"ska_mid/tm_central/central_node\")\n",
    "    proxy_w.value = 2\n",
    "    tmc_csp_master = DeviceProxy(\"ska_mid/tm_leaf_node/csp_master\")\n",
    "    proxy_w.value = 3\n",
    "    tmc_csp_subarray = DeviceProxy(\"ska_mid/tm_leaf_node/csp_subarray01\")\n",
    "    proxy_w.value = 4\n",
    "    tmc_subarray = DeviceProxy(\"ska_mid/tm_subarray_node/1\")\n",
    "    # CSP.LMC proxies\n",
    "    proxy_w.value = 5\n",
    "    csp_control = DeviceProxy(\"mid-csp/control/0\")\n",
    "    proxy_w.value = 6\n",
    "    csp_subarray = DeviceProxy(\"mid-csp/subarray/01\")\n",
    "    # CBF proxies\n",
    "    proxy_w.value = 7\n",
    "    cbf_controller = DeviceProxy(\"mid_csp_cbf/sub_elt/controller\")\n",
    "    proxy_w.value = 8\n",
    "    cbf_subarray = DeviceProxy(\"mid_csp_cbf/sub_elt/subarray_01\")\n",
    "    # Dish Leaf Proxies\n",
    "    proxy_w.value = 9\n",
    "    dish_leaf_node_ska001 = DeviceProxy(\"ska_mid/tm_leaf_node/d0001\")\n",
    "    proxy_w.value = 10\n",
    "    dish_leaf_node_ska036 = DeviceProxy(\"ska_mid/tm_leaf_node/d0036\")\n",
    "    # SDP Proxies\n",
    "    proxy_w.value = 11\n",
    "    sdp_subarray = DeviceProxy(\"mid-sdp/subarray/01\")\n",
    "    proxy_w.value = 12\n",
    "    cbf_fspcorrsubarray = DeviceProxy(\"mid_csp_cbf/fspcorrsubarray/01_01\")\n",
    "    proxy_w.value = 13\n",
    "    dish_manager_ska001 = DeviceProxy(f\"tango://{SKA001_TANGO_HOST}/mid-dish/dish-manager/ska001\")\n",
    "    proxy_w.value = 14\n",
    "    dish_manager_ska036 = DeviceProxy(f\"tango://{SKA036_TANGO_HOST}/mid-dish/dish-manager/ska036\")\n",
    "except tango.DevFailed as terr:\n",
    "    # print(f\"ERROR: {terr.args[0].desc.strip()}\")\n",
    "    show_errorbox(terr.args[0].desc.strip())\n",
    "    tmc_central_node = None\n",
    "    tmc_csp_master = None\n",
    "    proxy_ok = False\n",
    "        \n",
    "proxy_ok_w = widgets.Valid(\n",
    "    value=proxy_ok,\n",
    "    description=\"Proxies OK\",\n",
    "    layout=widgets.Layout(width='60%'),\n",
    "    style = {'description_width': 'initial'}\n",
    ")\n",
    "display(proxy_ok_w)"
   ]
  },
  {
   "cell_type": "markdown",
   "id": "c2afe675",
   "metadata": {},
   "source": [
    "## Diagnostics"
   ]
  },
  {
   "cell_type": "markdown",
   "id": "592c09f2",
   "metadata": {},
   "source": [
    "### Smoke test"
   ]
  },
  {
   "cell_type": "code",
   "execution_count": 6,
   "id": "053b6ca8",
   "metadata": {},
   "outputs": [
    {
     "data": {
      "application/vnd.jupyter.widget-view+json": {
       "model_id": "35278c6ebab546e98badce179723c2a1",
       "version_major": 2,
       "version_minor": 0
      },
      "text/plain": [
       "Valid(value=True, description='TMC Central Node online', layout=Layout(width='60%'), style=DescriptionStyle(de…"
      ]
     },
     "metadata": {},
     "output_type": "display_data"
    },
    {
     "data": {
      "application/vnd.jupyter.widget-view+json": {
       "model_id": "91417412c469490aa107d43543086899",
       "version_major": 2,
       "version_minor": 0
      },
      "text/plain": [
       "Valid(value=True, description='TMC CSP master online', layout=Layout(width='60%'), style=DescriptionStyle(desc…"
      ]
     },
     "metadata": {},
     "output_type": "display_data"
    },
    {
     "data": {
      "application/vnd.jupyter.widget-view+json": {
       "model_id": "5576a21f2c56470782b8dc2bd29422b7",
       "version_major": 2,
       "version_minor": 0
      },
      "text/plain": [
       "Valid(value=True, description='TMC CSP subarray online', layout=Layout(width='60%'), style=DescriptionStyle(de…"
      ]
     },
     "metadata": {},
     "output_type": "display_data"
    },
    {
     "data": {
      "application/vnd.jupyter.widget-view+json": {
       "model_id": "23f66bb541c84ba6b0d9917a9fcfda19",
       "version_major": 2,
       "version_minor": 0
      },
      "text/plain": [
       "Valid(value=True, description='TMC subarray online', layout=Layout(width='60%'), style=DescriptionStyle(descri…"
      ]
     },
     "metadata": {},
     "output_type": "display_data"
    },
    {
     "data": {
      "application/vnd.jupyter.widget-view+json": {
       "model_id": "0c0af2f49fef4d48a25c2aace829d16c",
       "version_major": 2,
       "version_minor": 0
      },
      "text/plain": [
       "Valid(value=True, description='CSP control online', layout=Layout(width='60%'), style=DescriptionStyle(descrip…"
      ]
     },
     "metadata": {},
     "output_type": "display_data"
    },
    {
     "data": {
      "application/vnd.jupyter.widget-view+json": {
       "model_id": "de651f1994694b00a0084796109dc8d3",
       "version_major": 2,
       "version_minor": 0
      },
      "text/plain": [
       "Valid(value=True, description='CSP subarray online', layout=Layout(width='60%'), style=DescriptionStyle(descri…"
      ]
     },
     "metadata": {},
     "output_type": "display_data"
    },
    {
     "data": {
      "application/vnd.jupyter.widget-view+json": {
       "model_id": "c55df8a729394396b91eb247f77ad47e",
       "version_major": 2,
       "version_minor": 0
      },
      "text/plain": [
       "Valid(value=True, description='CBF controller online', layout=Layout(width='60%'), style=DescriptionStyle(desc…"
      ]
     },
     "metadata": {},
     "output_type": "display_data"
    },
    {
     "data": {
      "application/vnd.jupyter.widget-view+json": {
       "model_id": "ee1a65101628464cbd1083cd26e1480d",
       "version_major": 2,
       "version_minor": 0
      },
      "text/plain": [
       "Valid(value=True, description='CBF subarray online', layout=Layout(width='60%'), style=DescriptionStyle(descri…"
      ]
     },
     "metadata": {},
     "output_type": "display_data"
    },
    {
     "data": {
      "application/vnd.jupyter.widget-view+json": {
       "model_id": "82a2ae6475d44a3a8df2a7e4b252de74",
       "version_major": 2,
       "version_minor": 0
      },
      "text/plain": [
       "Valid(value=True, description='Dish leaf 001 online', layout=Layout(width='60%'), style=DescriptionStyle(descr…"
      ]
     },
     "metadata": {},
     "output_type": "display_data"
    },
    {
     "data": {
      "application/vnd.jupyter.widget-view+json": {
       "model_id": "afead294ec094d07b38ecddbacabbfbc",
       "version_major": 2,
       "version_minor": 0
      },
      "text/plain": [
       "Valid(value=True, description='Dish leaf 036 online', layout=Layout(width='60%'), style=DescriptionStyle(descr…"
      ]
     },
     "metadata": {},
     "output_type": "display_data"
    },
    {
     "data": {
      "application/vnd.jupyter.widget-view+json": {
       "model_id": "8dbd965106db499891f609ca81729a91",
       "version_major": 2,
       "version_minor": 0
      },
      "text/plain": [
       "Valid(value=True, description='SDP subarray online', layout=Layout(width='60%'), style=DescriptionStyle(descri…"
      ]
     },
     "metadata": {},
     "output_type": "display_data"
    },
    {
     "data": {
      "application/vnd.jupyter.widget-view+json": {
       "model_id": "439699ad56b9489baf5174c6ae4dbeae",
       "version_major": 2,
       "version_minor": 0
      },
      "text/plain": [
       "Valid(value=True, description='CBF FSP correlator subarray online', layout=Layout(width='60%'), style=Descript…"
      ]
     },
     "metadata": {},
     "output_type": "display_data"
    },
    {
     "data": {
      "application/vnd.jupyter.widget-view+json": {
       "model_id": "34761eba36fd4ae197804931939c92c4",
       "version_major": 2,
       "version_minor": 0
      },
      "text/plain": [
       "Valid(value=True, description='Dish manager SKA001 online', layout=Layout(width='60%'), style=DescriptionStyle…"
      ]
     },
     "metadata": {},
     "output_type": "display_data"
    },
    {
     "data": {
      "application/vnd.jupyter.widget-view+json": {
       "model_id": "d46d63b615b3465e8f0f002f9357444d",
       "version_major": 2,
       "version_minor": 0
      },
      "text/plain": [
       "Valid(value=True, description='Dish manager SKA036 online', layout=Layout(width='60%'), style=DescriptionStyle…"
      ]
     },
     "metadata": {},
     "output_type": "display_data"
    }
   ],
   "source": [
    "# Smoke test\n",
    "def smoke_test(tango_dev, tango_desc):\n",
    "    smoke = False\n",
    "    if tango_dev is None:\n",
    "        smoke = False\n",
    "    else:\n",
    "        try:\n",
    "            tping = tango_dev.ping()\n",
    "            # print(f\"Ping TMC central node: {tping}\")\n",
    "            smoke = True\n",
    "        except tango.ConnectionFailed as terr:\n",
    "            err_msg = terr.args[0].desc.strip()\n",
    "            # print(f\"Tango connection failed: {err_msg}\")\n",
    "            show_errorbox(err_msg)\n",
    "            smoke = False\n",
    "    smoke_w = widgets.Valid(\n",
    "        value=smoke,\n",
    "        description=f\"{tango_desc} online\",\n",
    "        layout=widgets.Layout(width='60%'),\n",
    "        style = {'description_width': 'initial'}\n",
    "    )\n",
    "    display(smoke_w)\n",
    "\n",
    "\n",
    "#    if tping:\n",
    "#        tmc_admin = tmc_central_node.adminMode\n",
    "#    else:\n",
    "#        tmc_admin = -1\n",
    "    \n",
    " \n",
    "smoke_test(tmc_central_node, \"TMC Central Node\")\n",
    "smoke_test(tmc_csp_master, \"TMC CSP master\")\n",
    "smoke_test(tmc_csp_subarray, \"TMC CSP subarray\"),\n",
    "smoke_test(tmc_subarray, \"TMC subarray\"),\n",
    "smoke_test(csp_control, \"CSP control\"),\n",
    "smoke_test(csp_subarray, \"CSP subarray\"),\n",
    "smoke_test(cbf_controller, \"CBF controller\"),\n",
    "smoke_test(cbf_subarray, \"CBF subarray\")\n",
    "smoke_test(dish_leaf_node_ska001, \"Dish leaf 001\")\n",
    "smoke_test(dish_leaf_node_ska036, \"Dish leaf 036\")\n",
    "smoke_test(sdp_subarray, \"SDP subarray\")\n",
    "smoke_test(cbf_fspcorrsubarray, \"CBF FSP correlator subarray\")\n",
    "smoke_test(dish_manager_ska001, \"Dish manager SKA001\")\n",
    "smoke_test(dish_manager_ska036, \"Dish manager SKA036\")"
   ]
  },
  {
   "cell_type": "markdown",
   "id": "846e32ff",
   "metadata": {},
   "source": [
    "### Admin mode test"
   ]
  },
  {
   "cell_type": "code",
   "execution_count": 7,
   "id": "c6354ddf",
   "metadata": {},
   "outputs": [
    {
     "data": {
      "application/vnd.jupyter.widget-view+json": {
       "model_id": "98795d7e4d464510ab29ac5060cab8cf",
       "version_major": 2,
       "version_minor": 0
      },
      "text/plain": [
       "Valid(value=False, description='TMC Central Node admin', layout=Layout(width='60%'), style=DescriptionStyle(de…"
      ]
     },
     "metadata": {},
     "output_type": "display_data"
    },
    {
     "data": {
      "application/vnd.jupyter.widget-view+json": {
       "model_id": "9f158b91565e40ff93c0919d8c73c685",
       "version_major": 2,
       "version_minor": 0
      },
      "text/plain": [
       "Valid(value=False, description='TMC CSP master admin', layout=Layout(width='60%'), style=DescriptionStyle(desc…"
      ]
     },
     "metadata": {},
     "output_type": "display_data"
    },
    {
     "data": {
      "application/vnd.jupyter.widget-view+json": {
       "model_id": "c6059b6491cd4c3f8527fa5f1c59faf2",
       "version_major": 2,
       "version_minor": 0
      },
      "text/plain": [
       "Valid(value=False, description='TMC CSP subarray admin', layout=Layout(width='60%'), style=DescriptionStyle(de…"
      ]
     },
     "metadata": {},
     "output_type": "display_data"
    },
    {
     "data": {
      "application/vnd.jupyter.widget-view+json": {
       "model_id": "d1fec19a777b4c7abd79dceb97e502d2",
       "version_major": 2,
       "version_minor": 0
      },
      "text/plain": [
       "Valid(value=False, description='TMC subarray admin', layout=Layout(width='60%'), style=DescriptionStyle(descri…"
      ]
     },
     "metadata": {},
     "output_type": "display_data"
    },
    {
     "data": {
      "application/vnd.jupyter.widget-view+json": {
       "model_id": "8d74b1e332584737b524e8ce0212e624",
       "version_major": 2,
       "version_minor": 0
      },
      "text/plain": [
       "Valid(value=False, description='CSP control admin', layout=Layout(width='60%'), style=DescriptionStyle(descrip…"
      ]
     },
     "metadata": {},
     "output_type": "display_data"
    },
    {
     "data": {
      "application/vnd.jupyter.widget-view+json": {
       "model_id": "e092ff2b43f24944b878d43b077548d1",
       "version_major": 2,
       "version_minor": 0
      },
      "text/plain": [
       "Valid(value=False, description='CSP subarray admin', layout=Layout(width='60%'), style=DescriptionStyle(descri…"
      ]
     },
     "metadata": {},
     "output_type": "display_data"
    },
    {
     "data": {
      "application/vnd.jupyter.widget-view+json": {
       "model_id": "b8b191664fb6405592d102b1c97e7e0b",
       "version_major": 2,
       "version_minor": 0
      },
      "text/plain": [
       "Valid(value=False, description='CBF controller admin', layout=Layout(width='60%'), style=DescriptionStyle(desc…"
      ]
     },
     "metadata": {},
     "output_type": "display_data"
    },
    {
     "data": {
      "application/vnd.jupyter.widget-view+json": {
       "model_id": "7ec26a1e0efb4b3c931d442f0f2d737a",
       "version_major": 2,
       "version_minor": 0
      },
      "text/plain": [
       "Valid(value=False, description='CBF subarray admin', layout=Layout(width='60%'), style=DescriptionStyle(descri…"
      ]
     },
     "metadata": {},
     "output_type": "display_data"
    },
    {
     "data": {
      "application/vnd.jupyter.widget-view+json": {
       "model_id": "a257adadbcaf43a7a728a44b2f0520fc",
       "version_major": 2,
       "version_minor": 0
      },
      "text/plain": [
       "Valid(value=False, description='Dish leaf 001 admin', layout=Layout(width='60%'), style=DescriptionStyle(descr…"
      ]
     },
     "metadata": {},
     "output_type": "display_data"
    },
    {
     "data": {
      "application/vnd.jupyter.widget-view+json": {
       "model_id": "871124959c8b4aae9d1d791d525332e5",
       "version_major": 2,
       "version_minor": 0
      },
      "text/plain": [
       "Valid(value=False, description='Dish leaf 036 admin', layout=Layout(width='60%'), style=DescriptionStyle(descr…"
      ]
     },
     "metadata": {},
     "output_type": "display_data"
    },
    {
     "data": {
      "application/vnd.jupyter.widget-view+json": {
       "model_id": "a53a9215d7e643d289da02ed83512dd8",
       "version_major": 2,
       "version_minor": 0
      },
      "text/plain": [
       "Valid(value=True, description='SDP subarray admin', layout=Layout(width='60%'), style=DescriptionStyle(descrip…"
      ]
     },
     "metadata": {},
     "output_type": "display_data"
    },
    {
     "data": {
      "application/vnd.jupyter.widget-view+json": {
       "model_id": "e2c5b955bfca4b6bbd3a35add42848d6",
       "version_major": 2,
       "version_minor": 0
      },
      "text/plain": [
       "Valid(value=False, description='CBF FSP correlator subarray admin', layout=Layout(width='60%'), style=Descript…"
      ]
     },
     "metadata": {},
     "output_type": "display_data"
    },
    {
     "data": {
      "application/vnd.jupyter.widget-view+json": {
       "model_id": "c78d0a759388403dac423886724bebef",
       "version_major": 2,
       "version_minor": 0
      },
      "text/plain": [
       "Valid(value=False, description='Dish manager SKA001 admin', layout=Layout(width='60%'), style=DescriptionStyle…"
      ]
     },
     "metadata": {},
     "output_type": "display_data"
    },
    {
     "data": {
      "application/vnd.jupyter.widget-view+json": {
       "model_id": "5d4f4d78b726438b9a338820efb57c24",
       "version_major": 2,
       "version_minor": 0
      },
      "text/plain": [
       "Valid(value=False, description='Dish manager SKA036 admin', layout=Layout(width='60%'), style=DescriptionStyle…"
      ]
     },
     "metadata": {},
     "output_type": "display_data"
    }
   ],
   "source": [
    "def admin_test(tango_dev, tango_desc):\n",
    "    dev_admin = tango_dev.adminMode\n",
    "    admin_w = widgets.Valid(\n",
    "        value=not dev_admin,\n",
    "        description=f\"{tango_desc} admin\",\n",
    "        layout=widgets.Layout(width='60%'),\n",
    "        style = {'description_width': 'initial'}\n",
    "    )\n",
    "    display(admin_w)\n",
    "    \n",
    "admin_test(tmc_central_node, \"TMC Central Node\")\n",
    "admin_test(tmc_csp_master, \"TMC CSP master\")\n",
    "admin_test(tmc_csp_subarray, \"TMC CSP subarray\"),\n",
    "admin_test(tmc_subarray, \"TMC subarray\"),\n",
    "admin_test(csp_control, \"CSP control\"),\n",
    "admin_test(csp_subarray, \"CSP subarray\"),\n",
    "admin_test(cbf_controller, \"CBF controller\"),\n",
    "admin_test(cbf_subarray, \"CBF subarray\")\n",
    "admin_test(dish_leaf_node_ska001, \"Dish leaf 001\")\n",
    "admin_test(dish_leaf_node_ska036, \"Dish leaf 036\")\n",
    "admin_test(sdp_subarray, \"SDP subarray\")\n",
    "admin_test(cbf_fspcorrsubarray, \"CBF FSP correlator subarray\")\n",
    "admin_test(dish_manager_ska001, \"Dish manager SKA001\")\n",
    "admin_test(dish_manager_ska036, \"Dish manager SKA036\")"
   ]
  },
  {
   "cell_type": "markdown",
   "id": "d6dfe7e1",
   "metadata": {},
   "source": [
    "### Print TMC diagnostics"
   ]
  },
  {
   "cell_type": "code",
   "execution_count": 19,
   "id": "cc1c5869",
   "metadata": {},
   "outputs": [
    {
     "data": {
      "application/vnd.jupyter.widget-view+json": {
       "model_id": "3338c07680094e96a44d163ceb633546",
       "version_major": 2,
       "version_minor": 0
      },
      "text/plain": [
       "HTML(value='<style>td {border: thin blue ridge; padding: 2px}</style><table><tr><td>Central Node</td><td>ska_m…"
      ]
     },
     "metadata": {},
     "output_type": "display_data"
    }
   ],
   "source": [
    "# Print TMC diagnostics\n",
    "tmc_table: str = '<style>td {border: thin blue ridge; padding: 2px}</style><table>'\n",
    "try:\n",
    "    tmc_table += f\"<tr><td>Central Node</td><td>{tmc_central_node.name()}</td></tr>\"\n",
    "    tmc_table += f\"<tr><td>Central Node state</td><td>{str(tmc_central_node.State())}</td></tr>\"\n",
    "    tmc_table += f\"<tr><td>Central Node adminMode</td><td>{str(tmc_central_node.adminmode)}</td></tr>\"\n",
    "    tmc_table += f\"<tr><td>Central Node healthState</td><td>{str(tmc_central_node.healthState)}</td></tr>\"\n",
    "    tmc_table += f\"<tr><td>Central Node telescopeHealthState</td><td> {str(tmc_central_node.telescopeHealthState)}</td></tr>\"\n",
    "    tmc_table += f\"<tr><td>Central Node isDishVccConfig</td><td>{str(tmc_central_node.isDishVccConfigSet)}</td></tr>\"\n",
    "    tmc_table += f\"<tr><td>Central Node DishVccValidationStatus</td><td>{str(tmc_central_node.DishVccValidationStatus)}</td></tr>\"\n",
    "    tmc_table += f\"<tr><td>Subarray Node state</td><td>{tmc_csp_subarray.State()}</td></tr>\"\n",
    "    tmc_table += f\"<tr><td>Subarray adminMode</td><td>{str(tmc_csp_subarray.adminMode)}</td></tr>\"\n",
    "    # print(f\"TMC Subarray Node obsState: {str(tmc_csp_subarray.obsState)}\")\n",
    "except tango.ConnectionFailed as terr:\n",
    "    print(f\"Tango connection failed: {terr.args[0].desc.strip()}\")\n",
    "# table(tmc_rows, frame=True)\n",
    "tmc_table += \"</table>\"\n",
    "tmc_table_w = widgets.HTML(\n",
    "    value=tmc_table,\n",
    "    placeholder='TMC status',\n",
    "    description='TMC',\n",
    ")\n",
    "display(tmc_table_w)"
   ]
  },
  {
   "cell_type": "markdown",
   "id": "42cacb72",
   "metadata": {},
   "source": [
    "### Print CSP-LMC Diagnostics"
   ]
  },
  {
   "cell_type": "code",
   "execution_count": 20,
   "id": "7885ec03",
   "metadata": {},
   "outputs": [
    {
     "data": {
      "application/vnd.jupyter.widget-view+json": {
       "model_id": "3152a02a3cc14957a48f545b5fe2e4c7",
       "version_major": 2,
       "version_minor": 0
      },
      "text/plain": [
       "HTML(value='<table><tr><td>Controller</td><td>mid-csp/control/0</td></tr><tr><td> Controller admin mode</td><t…"
      ]
     },
     "metadata": {},
     "output_type": "display_data"
    }
   ],
   "source": [
    "# Print CSP-LMC Diagnostics\n",
    "csplmc_table: str = \"<table>\"\n",
    "try:\n",
    "    # Controller\n",
    "    csplmc_table += f\"<tr><td>Controller</td><td>{csp_control.name()}</td></tr>\"\n",
    "    csplmc_table += f\"<tr><td> Controller admin mode</td><td>{str(csp_control.adminMode)}</td></tr>\"\n",
    "    csplmc_table += f\"<tr><td>Controller State</td><td>{csp_control.State()}</td></tr>\"\n",
    "    csplmc_table += f\"<tr><td>Controller dish Vcc Config</td><td>{csp_control.dishVccConfig}</td></tr>\"\n",
    "    csplmc_table += f\"<tr><td>Controller CBF Simulation Mode</td><td>{csp_control.cbfSimulationMode:}</td></tr>\"\n",
    "    # Subarray\n",
    "    csplmc_table += f\"<tr><td>Subarray</td><td>{csp_subarray.name()}</td></tr>\"\n",
    "    csplmc_table += f\"<tr><td>Subarray admin mode</td><td>{str(csp_subarray.adminMode)}</td></tr>\"\n",
    "    csplmc_table += f\"<tr><td>Subarray State</td><td>{csp_subarray.State()}</td></tr>\"\n",
    "    csplmc_table += f\"<tr><td>Subarray observation state</td><td>{str(csp_subarray.obsState)}</td></tr>\"\n",
    "    csplmc_table += f\"<tr><td>Subarray dish Vcc Config</td><td>{csp_subarray.dishVccConfig}</td></tr>\"\n",
    "    csplmc_table += f\"<tr><td>FSP correlator subarray</td><td>{cbf_fspcorrsubarray.obsstate}</td></tr>\"\n",
    "except tango.ConnectionFailed as terr:\n",
    "    # print(f\"Tango connection failed: {terr.args[0].desc.strip()}\")\n",
    "    show_errorbox(terr.args[0].desc.strip())\n",
    "csplmc_table += \"</table>\"\n",
    "csplmc_table_w = widgets.HTML(\n",
    "    value=csplmc_table,\n",
    "    placeholder='CSP-LMC status',\n",
    "    description='CSP-LMC',\n",
    ")\n",
    "display(csplmc_table_w)"
   ]
  },
  {
   "cell_type": "markdown",
   "id": "603df89e",
   "metadata": {},
   "source": [
    "### Print CBF Diagnostics"
   ]
  },
  {
   "cell_type": "code",
   "execution_count": 21,
   "id": "95ddbb19",
   "metadata": {},
   "outputs": [
    {
     "data": {
      "application/vnd.jupyter.widget-view+json": {
       "model_id": "3152a02a3cc14957a48f545b5fe2e4c7",
       "version_major": 2,
       "version_minor": 0
      },
      "text/plain": [
       "HTML(value='<table><tr><td>Controller</td><td>mid-csp/control/0</td></tr><tr><td> Controller admin mode</td><t…"
      ]
     },
     "metadata": {},
     "output_type": "display_data"
    }
   ],
   "source": [
    "# Print CBF Diagnostics\n",
    "cbf_table: str = \"<table>\"\n",
    "try:\n",
    "    # CBF Controller\n",
    "    cbf_table += f\"<tr><td>Controller admin mode</td><td>{str(cbf_controller.adminMode)}</td></tr>\"\n",
    "    cbf_table += f\"<tr><td>Controller State</td><td>{str(cbf_controller.State())}</td></tr>\"\n",
    "    # CBF Subarray\n",
    "    cbf_table += f\"<tr><td>Subarray admin mode</td><td>{str(cbf_subarray.adminMode)}</td></tr>\"\n",
    "    cbf_table += f\"<tr><td>Subarray State</td><td>{str(cbf_subarray.State())}</td></tr>\"\n",
    "    cbf_table += f\"<tr><td>Subarray observation state</td><td>{str(cbf_subarray.obsState)}</td></tr>\"\n",
    "except tango.ConnectionFailed as terr:\n",
    "    err_msg = terr.args[0].desc.strip()\n",
    "    # print(\"Tango connection failed: %s\", err_msg)\n",
    "    show_errorbox(err_msg)\n",
    "cbf_table += \"</table>\"\n",
    "cbf_table_w = widgets.HTML(\n",
    "    value=cbf_table,\n",
    "    placeholder='CBF status',\n",
    "    description='CBF',\n",
    ")\n",
    "display(csplmc_table_w)"
   ]
  },
  {
   "cell_type": "markdown",
   "id": "8d2b4524",
   "metadata": {},
   "source": [
    "### Print SDP Diagnostics"
   ]
  },
  {
   "cell_type": "code",
   "execution_count": 22,
   "id": "095db001",
   "metadata": {
    "scrolled": true
   },
   "outputs": [
    {
     "data": {
      "application/vnd.jupyter.widget-view+json": {
       "model_id": "5a003227566040da97860ec78f124c80",
       "version_major": 2,
       "version_minor": 0
      },
      "text/plain": [
       "HTML(value='<table><tr><td>Controller admin mode</td><td>adminMode.ONLINE</td></tr><tr><td>Controller State</t…"
      ]
     },
     "metadata": {},
     "output_type": "display_data"
    }
   ],
   "source": [
    "# Print SDP Diagnostics\n",
    "sdp_table: str = \"<table>\"\n",
    "try:\n",
    "    # SDP Subarray\n",
    "    sdp_table += f\"<tr><td>Subarray state</td><td>{str(sdp_subarray.State())}</td></tr>\"\n",
    "    sdp_table += f\"<tr><td>Subarray admin mode</td><td>{str(sdp_subarray.adminMode)}</td></tr>\"\n",
    "    sdp_table += f\"<tr><td>Subarray observation state</td><td>{str(sdp_subarray.obsState)}</td></tr>\"\n",
    "except tango.ConnectionFailed as terr:\n",
    "    err_msg = terr.args[0].desc.strip()\n",
    "    # print(\"Tango connection failed: %s\", err_msg)\n",
    "    show_errorbox(err_msg)\n",
    "sdp_table += \"</table>\"\n",
    "sdp_table_w = widgets.HTML(\n",
    "    value=cbf_table,\n",
    "    placeholder='SDP status',\n",
    "    description='SDP',\n",
    ")\n",
    "display(sdp_table_w)"
   ]
  },
  {
   "cell_type": "markdown",
   "id": "e8da34fb",
   "metadata": {},
   "source": [
    "## Set devices to ONLINE"
   ]
  },
  {
   "cell_type": "code",
   "execution_count": 23,
   "id": "d24614ea",
   "metadata": {},
   "outputs": [
    {
     "name": "stdout",
     "output_type": "stream",
     "text": [
      "Admin mode after setting to ONLINE\n"
     ]
    },
    {
     "data": {
      "application/vnd.jupyter.widget-view+json": {
       "model_id": "6b543a7da8104e24ad9df2098454000d",
       "version_major": 2,
       "version_minor": 0
      },
      "text/plain": [
       "Valid(value=True, description='CSP Control online', layout=Layout(width='60%'), style=DescriptionStyle(descrip…"
      ]
     },
     "metadata": {},
     "output_type": "display_data"
    },
    {
     "data": {
      "application/vnd.jupyter.widget-view+json": {
       "model_id": "69401f2c65f940939a95903e76c41fba",
       "version_major": 2,
       "version_minor": 0
      },
      "text/plain": [
       "Valid(value=True, description='CSP Subarray online', layout=Layout(width='60%'), style=DescriptionStyle(descri…"
      ]
     },
     "metadata": {},
     "output_type": "display_data"
    },
    {
     "data": {
      "application/vnd.jupyter.widget-view+json": {
       "model_id": "31c21b8e3a2d420ead92ca583ea69d97",
       "version_major": 2,
       "version_minor": 0
      },
      "text/plain": [
       "Valid(value=True, description='CBF Controller online', layout=Layout(width='60%'), style=DescriptionStyle(desc…"
      ]
     },
     "metadata": {},
     "output_type": "display_data"
    },
    {
     "data": {
      "application/vnd.jupyter.widget-view+json": {
       "model_id": "cc9acf68dce84582a53d86250d38093b",
       "version_major": 2,
       "version_minor": 0
      },
      "text/plain": [
       "Valid(value=True, description='CBF Subarray online', layout=Layout(width='60%'), style=DescriptionStyle(descri…"
      ]
     },
     "metadata": {},
     "output_type": "display_data"
    },
    {
     "data": {
      "application/vnd.jupyter.widget-view+json": {
       "model_id": "379f6b89b84440699a83ed397aaaf56f",
       "version_major": 2,
       "version_minor": 0
      },
      "text/plain": [
       "Checkbox(value=False, description='CBF Simulation Mode', indent=False)"
      ]
     },
     "metadata": {},
     "output_type": "display_data"
    },
    {
     "data": {
      "application/vnd.jupyter.widget-view+json": {
       "model_id": "5369db3e1c1646e28b46b3d9f5e81c3e",
       "version_major": 2,
       "version_minor": 0
      },
      "text/plain": [
       "IntSlider(value=99, continuous_update=False, description='CBF Timeout', max=180)"
      ]
     },
     "metadata": {},
     "output_type": "display_data"
    }
   ],
   "source": [
    "# Set devices to adminMode = ONLINE\n",
    "\n",
    "def set_admin_mode(tango_dev, tango_desc):\n",
    "    set_admin_w = widgets.Valid(\n",
    "        value=not tango_dev.adminMode,\n",
    "        description=f\"{tango_desc} online\",\n",
    "        layout=widgets.Layout(width='60%'),\n",
    "        style = {'description_width': 'initial'}\n",
    "    )\n",
    "    display(set_admin_w)\n",
    "\n",
    "csp_control.adminMode = 0\n",
    "csp_subarray.adminMode = 0\n",
    "\n",
    "# Leaf Nodes\n",
    "csp_subarray_leaf_node_dp = DeviceProxy(\"ska_mid/tm_leaf_node/csp_subarray01\")\n",
    "sdp_subarray_leaf_node_dp = DeviceProxy(\"ska_mid/tm_leaf_node/sdp_subarray01\")\n",
    "csp_master_leaf_node_dp = DeviceProxy(\"ska_mid/tm_leaf_node/csp_master\")\n",
    "\n",
    "time.sleep(2)\n",
    "print(\"Admin mode after setting to ONLINE\")\n",
    "\n",
    "set_admin_mode(csp_control, \"CSP Control\")\n",
    "set_admin_mode(csp_subarray, \"CSP Subarray\")\n",
    "set_admin_mode(cbf_controller, \"CBF Controller\")\n",
    "set_admin_mode(cbf_subarray, \"CBF Subarray\")\n",
    "\n",
    "# Set CBF Simulation mode to false and CBF timeout to 99s\n",
    "csp_control.cbfSimulationMode = 0\n",
    "csp_control.commandTimeout = 99\n",
    "\n",
    "time.sleep(2)\n",
    "# print(\"\\nChecking CBF Simulation Mode and CBF Timeout:\")\n",
    "\n",
    "# CBF Simulation Mode\n",
    "# print(f\"  CBF Simulation Mode: {bool(csp_control.cbfSimulationMode)}\")\n",
    "\n",
    "cbf_sim_w = widgets.Checkbox(\n",
    "    value=bool(csp_control.cbfSimulationMode),\n",
    "    description='CBF Simulation Mode',\n",
    "    disabled=False,\n",
    "    indent=False\n",
    ")\n",
    "display(cbf_sim_w)\n",
    "\n",
    "# CBF Timeout\n",
    "# print(f\"  CBF Timeout: {csp_control.commandTimeout} sec\")\n",
    "cbf_tim_w = widgets.IntSlider(\n",
    "    value=csp_control.commandTimeout,\n",
    "    min=0,\n",
    "    max=180,\n",
    "    step=1,\n",
    "    description='CBF Timeout',\n",
    "    disabled=False,\n",
    "    continuous_update=False,\n",
    "    orientation='horizontal',\n",
    "    readout=True,\n",
    "    readout_format='d'\n",
    ")\n",
    "display(cbf_tim_w)"
   ]
  },
  {
   "cell_type": "markdown",
   "id": "53219267",
   "metadata": {},
   "source": [
    "## Load the Dish Vcc Config / Init Sys Params"
   ]
  },
  {
   "cell_type": "code",
   "execution_count": 24,
   "id": "83b03826",
   "metadata": {
    "scrolled": true
   },
   "outputs": [
    {
     "data": {
      "application/vnd.jupyter.widget-view+json": {
       "model_id": "de97d33b43304625bd98ad7cb56132ea",
       "version_major": 2,
       "version_minor": 0
      },
      "text/plain": [
       "IntProgress(value=0, description='Loading:', max=2, style=ProgressStyle(bar_color='maroon'))"
      ]
     },
     "metadata": {},
     "output_type": "display_data"
    },
    {
     "name": "stdout",
     "output_type": "stream",
     "text": [
      "Dish config loaded\n",
      "Dish config loaded\n"
     ]
    },
    {
     "data": {
      "application/vnd.jupyter.widget-view+json": {
       "model_id": "c798d82a1831472595e77d9fa14c1729",
       "version_major": 2,
       "version_minor": 0
      },
      "text/plain": [
       "Valid(value=True, description='Config loaded', layout=Layout(width='60%'), style=DescriptionStyle(description_…"
      ]
     },
     "metadata": {},
     "output_type": "display_data"
    },
    {
     "name": "stdout",
     "output_type": "stream",
     "text": [
      "\n",
      "TMC CSP Master Dish Vcc Config interface\n",
      "https://schema.skao.int/ska-mid-cbf-initsysparam/1.0\n",
      "\n",
      "TMC CSP Master Source Dish Vcc Config interface\n",
      "https://schema.skao.int/ska-mid-cbf-initsysparam/1.0\n"
     ]
    }
   ],
   "source": [
    "# Load the Dish Vcc Config / Init Sys Params\n",
    "from IPython.display import JSON\n",
    "# csp_control.commandTimeout = cbf_tim_w.value\n",
    "\n",
    "csp_control.cbfSimulationMode = cbf_sim_w.value\n",
    "\n",
    "with open(DISH_CONFIG_FILE, encoding=\"utf-8\") as f:\n",
    "    dish_config_json = json.load(f)\n",
    "\n",
    "dish_config_json[\"tm_data_sources\"][0] = \"car://gitlab.com/ska-telescope/ska-telmodel-data?0.1.0-rc-mid-itf#tmdata\"\n",
    "dish_config_json[\"tm_data_filepath\"] = \"instrument/ska1_mid_itf/ska-mid-cbf-system-parameters.json\"\n",
    "# print(f\"Dish config json file contents: \\n{dish_config_json}\")\n",
    "\n",
    "nmax = 2\n",
    "cfgp_w = widgets.IntProgress(\n",
    "    value=0,\n",
    "    min=0,\n",
    "    max=nmax,\n",
    "    description='Loading:',\n",
    "    bar_style='', # 'success', 'info', 'warning', 'danger' or ''\n",
    "    style={'bar_color': 'maroon'},\n",
    "    orientation='horizontal'\n",
    ")\n",
    "display(cfgp_w)\n",
    "\n",
    "# NOTE: RUN TWICE\n",
    "err_count = 0\n",
    "err_msg = \"No error\"\n",
    "for n in range(1, nmax+1):\n",
    "    cfgp_w.value = n\n",
    "    # print(f\"\\nLoad dish configuration {n}\")\n",
    "    try:\n",
    "        tmc_central_node.LoadDishCfg(json.dumps(dish_config_json))\n",
    "        print(\"Dish config loaded\")\n",
    "    except tango.DevFailed as derr:\n",
    "        err_msg = derr.args[0].desc.strip()\n",
    "        # print(f\"Error: {err_msg}\")\n",
    "        show_errorbox(err_msg)\n",
    "        err_count += 1\n",
    "    except tango.ConnectionFailed as terr:\n",
    "        err_msg = terr.args[0].desc.strip()\n",
    "        # print(f\"Error: {err_msg}\")\n",
    "        show_errorbox(err_msg)\n",
    "        err_count += 1\n",
    "    time.sleep(2)\n",
    "    \n",
    "load_cfg_w = widgets.Valid(\n",
    "    value=(err_count <= 1),\n",
    "    description=\"Config loaded\",\n",
    "    layout=widgets.Layout(width='60%'),\n",
    "    style = {'description_width': 'initial'}\n",
    ")\n",
    "display(load_cfg_w)\n",
    "\n",
    "tmc_csp_dish_vcc = json.loads(tmc_csp_master.dishVccConfig)\n",
    "# print(f\"TMC CSP Master's Dish Vcc Config attribute value: \\n\"\n",
    "# \"{json.dumps(tmc_csp_master.dishVccConfig, indent=4)}\")\n",
    "\n",
    "print(f'\\nTMC CSP Master Dish Vcc Config interface\\n{tmc_csp_dish_vcc[\"interface\"]}')\n",
    "# json.dumps(tmc_csp_master.dishVccConfig, indent=4)\n",
    "# cfgj = JSON(json.loads(tmc_csp_master.dishVccConfig), expanded=True)\n",
    "# display(cfgj)\n",
    "\n",
    "tmc_csp_src_vcc = json.loads(tmc_csp_master.sourceDishVccConfig)\n",
    "# print(f\"TMC CSP Master's Source Dish Vcc Config attribute value: \\n\"\n",
    "# \"{tmc_csp_master.sourceDishVccConfig}\")\n",
    "print(f'\\nTMC CSP Master Source Dish Vcc Config interface\\n{tmc_csp_src_vcc[\"interface\"]}')\n"
   ]
  },
  {
   "cell_type": "markdown",
   "id": "696fd41a",
   "metadata": {},
   "source": [
    "## Turn the Telescope On"
   ]
  },
  {
   "cell_type": "markdown",
   "id": "e7841f8e",
   "metadata": {},
   "source": [
    "### Run the Telescope On command"
   ]
  },
  {
   "cell_type": "code",
   "execution_count": 25,
   "id": "a0183361",
   "metadata": {},
   "outputs": [
    {
     "data": {
      "application/vnd.jupyter.widget-view+json": {
       "model_id": "73533db0907047089a85433007663271",
       "version_major": 2,
       "version_minor": 0
      },
      "text/plain": [
       "Textarea(value='TRANSIENT CORBA system exception: TRANSIENT_CallTimedout', description='Error', layout=Layout(…"
      ]
     },
     "metadata": {},
     "output_type": "display_data"
    },
    {
     "data": {
      "application/vnd.jupyter.widget-view+json": {
       "model_id": "ad56dafb56544d218beb6fb7c8713d21",
       "version_major": 2,
       "version_minor": 0
      },
      "text/plain": [
       "Valid(value=False, description='Ready', layout=Layout(width='60%'), style=DescriptionStyle(description_width='…"
      ]
     },
     "metadata": {},
     "output_type": "display_data"
    }
   ],
   "source": [
    "# Turn the Telescope On\n",
    "import tango\n",
    "\n",
    "on_err = False\n",
    "try:\n",
    "    tmc_central_node.TelescopeOn()\n",
    "except tango.DevFailed as t_err:\n",
    "    err_msg: str = t_err.args[0].desc.strip()\n",
    "    # print(f\"Could not run command: {err_msg}\")\n",
    "    show_errorbox(err_msg)\n",
    "    on_err = True\n",
    "    \n",
    "tel_ready_w = widgets.Valid(\n",
    "    value=not on_err,\n",
    "    description=\"Ready\",\n",
    "    layout=widgets.Layout(width='60%'),\n",
    "    style = {'description_width': 'initial'}\n",
    ")\n",
    "display(tel_ready_w)"
   ]
  },
  {
   "cell_type": "code",
   "execution_count": 26,
   "id": "4cfa6e8a",
   "metadata": {},
   "outputs": [
    {
     "data": {
      "application/vnd.jupyter.widget-view+json": {
       "model_id": "0e9342b87d0e4ae686999cd06bb4a4f5",
       "version_major": 2,
       "version_minor": 0
      },
      "text/plain": [
       "IntSlider(value=20, continuous_update=False, description='Retry')"
      ]
     },
     "metadata": {},
     "output_type": "display_data"
    },
    {
     "data": {
      "application/vnd.jupyter.widget-view+json": {
       "model_id": "b9c0372b24524082b25ecdc9c538b5f5",
       "version_major": 2,
       "version_minor": 0
      },
      "text/plain": [
       "IntSlider(value=5, continuous_update=False, description='Sleep', max=30)"
      ]
     },
     "metadata": {},
     "output_type": "display_data"
    }
   ],
   "source": [
    "tel_on_retry = widgets.IntSlider(\n",
    "    value=20,\n",
    "    min=0,\n",
    "    max=100,\n",
    "    step=1,\n",
    "    description='Retry',\n",
    "    disabled=False,\n",
    "    continuous_update=False,\n",
    "    orientation='horizontal',\n",
    "    readout=True,\n",
    "    readout_format='d'\n",
    ")\n",
    "display(tel_on_retry)\n",
    "tel_on_wait = widgets.IntSlider(\n",
    "    value=5,\n",
    "    min=0,\n",
    "    max=30,\n",
    "    step=1,\n",
    "    description='Sleep',\n",
    "    disabled=False,\n",
    "    continuous_update=False,\n",
    "    orientation='horizontal',\n",
    "    readout=True,\n",
    "    readout_format='d'\n",
    ")\n",
    "display(tel_on_wait)"
   ]
  },
  {
   "cell_type": "markdown",
   "id": "a1d36405",
   "metadata": {},
   "source": [
    "### Check if telescope is on"
   ]
  },
  {
   "cell_type": "code",
   "execution_count": 27,
   "id": "5c8b83e7",
   "metadata": {
    "scrolled": true
   },
   "outputs": [
    {
     "data": {
      "application/vnd.jupyter.widget-view+json": {
       "model_id": "4d58581f83d3495a8369c8be33012f17",
       "version_major": 2,
       "version_minor": 0
      },
      "text/plain": [
       "IntProgress(value=0, description='Loading:', max=10, style=ProgressStyle(bar_color='maroon'))"
      ]
     },
     "metadata": {},
     "output_type": "display_data"
    },
    {
     "data": {
      "application/vnd.jupyter.widget-view+json": {
       "model_id": "5b95706e2c1e4ef190750272dfdfbad0",
       "version_major": 2,
       "version_minor": 0
      },
      "text/plain": [
       "Valid(value=False, description='Telescope ON', layout=Layout(width='60%'), style=DescriptionStyle(description_…"
      ]
     },
     "metadata": {},
     "output_type": "display_data"
    }
   ],
   "source": [
    "# Check if telescope is on\n",
    "nmax = tel_on_retry.value\n",
    "sleep_time = tel_on_wait.value\n",
    "p = widgets.IntProgress(\n",
    "    value=0,\n",
    "    min=0,\n",
    "    max=nmax,\n",
    "    description='Loading:',\n",
    "    bar_style='', # 'success', 'info', 'warning', 'danger' or ''\n",
    "    style={'bar_color': 'maroon'},\n",
    "    orientation='horizontal'\n",
    ")\n",
    "display(p)\n",
    "n = 0\n",
    "tel_state = -1\n",
    "while tel_state != 0:\n",
    "    try:\n",
    "        tel_state = int(tmc_central_node.telescopeState)\n",
    "    except tango.DevFailed as t_err:\n",
    "        err_msg: str = t_err.args[0].desc.strip()\n",
    "        # print(f\"Could not read telescope state: {err_msg}\")\n",
    "        show_errorbox(err_msg)\n",
    "    n += 1\n",
    "    p.value = n\n",
    "    if n >= nmax:\n",
    "        break\n",
    "    try:\n",
    "        time.sleep(sleep_time)\n",
    "    except KeyboardInterrupt:\n",
    "        print(\"Abort\")\n",
    "        break\n",
    "    \n",
    "tel_on = widgets.Valid(\n",
    "    value=not tmc_central_node.telescopeState,\n",
    "    description=\"Telescope ON\",\n",
    "    layout=widgets.Layout(width='60%'),\n",
    "    style = {'description_width': 'initial'}\n",
    ")\n",
    "display(tel_on)"
   ]
  },
  {
   "cell_type": "markdown",
   "id": "acf29c6b",
   "metadata": {},
   "source": [
    "# Assign Resources"
   ]
  },
  {
   "cell_type": "code",
   "execution_count": 28,
   "id": "17f0e85e",
   "metadata": {},
   "outputs": [
    {
     "name": "stdout",
     "output_type": "stream",
     "text": [
      "SDP subarray is ON\n"
     ]
    },
    {
     "data": {
      "application/vnd.jupyter.widget-view+json": {
       "model_id": "3985c054c9124c8dbaafc25a3c2af743",
       "version_major": 2,
       "version_minor": 0
      },
      "text/plain": [
       "Valid(value=False, description='SDP subarray', layout=Layout(width='60%'), style=DescriptionStyle(description_…"
      ]
     },
     "metadata": {},
     "output_type": "display_data"
    },
    {
     "name": "stdout",
     "output_type": "stream",
     "text": [
      "Running the AssignResources command: subarray obsstate should go to Idle and receptor IDs should be assigned\n"
     ]
    },
    {
     "data": {
      "application/vnd.jupyter.widget-view+json": {
       "model_id": "bcc70e0bfcf54bccac6ecfebe188e4ca",
       "version_major": 2,
       "version_minor": 0
      },
      "text/plain": [
       "HTML(value=\"<table><tr><td>Subarray Observation State</td><td>1</td></tr><tr><td>Subarray Receptors</td><td>('…"
      ]
     },
     "metadata": {},
     "output_type": "display_data"
    },
    {
     "data": {
      "application/vnd.jupyter.widget-view+json": {
       "model_id": "e2a1eebf11744887a42ccc13a8416d4d",
       "version_major": 2,
       "version_minor": 0
      },
      "text/plain": [
       "Valid(value=True, description='Resources', layout=Layout(width='60%'), style=DescriptionStyle(description_widt…"
      ]
     },
     "metadata": {},
     "output_type": "display_data"
    }
   ],
   "source": [
    "# Assign Resources\n",
    "\n",
    "print(f\"SDP subarray is {sdp_subarray.state()}\")\n",
    "sdp_sub_w = widgets.Valid(\n",
    "    value=sdp_subarray.state(),\n",
    "    description=\"SDP subarray\",\n",
    "    layout=widgets.Layout(width='60%'),\n",
    "    style = {'description_width': 'initial'}\n",
    ")\n",
    "display(sdp_sub_w)\n",
    "\n",
    "time.sleep(3)\n",
    "\n",
    "print(\n",
    "    \"Running the AssignResources command: subarray obsstate should go to Idle and receptor IDs should be assigned\"\n",
    ")\n",
    "\n",
    "with open(ASSIGN_RESOURCES_FILE, encoding=\"utf-8\") as f:\n",
    "    assign_resources_json = json.load(f)\n",
    "    assign_resources_json[\"dish\"][\"receptor_ids\"] = RECEPTORS\n",
    "    assign_resources_json[\"sdp\"][\"resources\"][\"receptors\"] = RECEPTORS\n",
    "    assign_resources_json['sdp']['processing_blocks'][0]['parameters'][\n",
    "        'queue_connector_configuration'\n",
    "    ]['exchanges'][0]['source']['servers'] = KAFKA_ENDPOINT\n",
    "    assign_resources_json['sdp']['processing_blocks'][0]['parameters'][\n",
    "        'extra_helm_values'\n",
    "    ]['receiver']['options']['reception']['stats_receiver_kafka_config'] = \\\n",
    "        f\"{KAFKA_ENDPOINT}:json_workflow_state\"  \n",
    "\n",
    "# print(f\"\\nAssign_resources_json file contents: \\n{assign_resources_json}\")\n",
    "\n",
    "try:\n",
    "    tmc_subarray.AssignResources(json.dumps(assign_resources_json))\n",
    "    res_ok = True\n",
    "except tango.DevFailed as t_err:\n",
    "    err_msg: str = t_err.args[0].desc.strip()\n",
    "    # print(f\"Could not assign resources: {err_msg}\")\n",
    "    show_errorbox(err_msg)\n",
    "    res_ok = False\n",
    "\n",
    "time.sleep(2)\n",
    "tmc_sub_table = \"<table>\"\n",
    "tmc_sub_table += f\"<tr><td>Subarray Observation State</td><td>{tmc_subarray.obsState}</td></tr>\"\n",
    "tmc_sub_table += f\"<tr><td>Subarray Receptors</td><td>{cbf_subarray.receptors}</td></tr>\"\n",
    "tmc_sub_table += \"</table>\"\n",
    "tmc_sub_table_w = widgets.HTML(\n",
    "    value=tmc_sub_table,\n",
    "    placeholder='CBF status',\n",
    "    description='CBF',\n",
    ")\n",
    "display(tmc_sub_table_w)\n",
    "\n",
    "res_ok_w = widgets.Valid(\n",
    "    value=res_ok,\n",
    "    description=\"Resources\",\n",
    "    layout=widgets.Layout(width='60%'),\n",
    "    style = {'description_width': 'initial'}\n",
    ")\n",
    "display(res_ok_w)"
   ]
  },
  {
   "cell_type": "markdown",
   "id": "de3991bf",
   "metadata": {},
   "source": [
    "## Deploy dishes"
   ]
  },
  {
   "cell_type": "code",
   "execution_count": 29,
   "id": "0546542b",
   "metadata": {},
   "outputs": [
    {
     "data": {
      "application/vnd.jupyter.widget-view+json": {
       "model_id": "524e803d0e744791b218e1e80d32fe5e",
       "version_major": 2,
       "version_minor": 0
      },
      "text/plain": [
       "IntProgress(value=0, description='Dish deploy', max=2, style=ProgressStyle(bar_color='maroon'))"
      ]
     },
     "metadata": {},
     "output_type": "display_data"
    }
   ],
   "source": [
    "from astropy.time import Time\n",
    "from tango import DeviceProxy\n",
    "\n",
    "dish_deployments = [f\"tango://tango-databaseds.{SKA001_NAMESPACE}.svc.miditf.internal.skao.int:10000/mid-dish/dish-manager/SKA001\", \n",
    "                    f\"tango://tango-databaseds.{SKA036_NAMESPACE}.svc.miditf.internal.skao.int:10000/mid-dish/dish-manager/SKA036\"]\n",
    "\n",
    "\n",
    "def get_tai_from_unix_s(unix_s: float) -> float:\n",
    "    \"\"\"\n",
    "    Calculate atomic time in seconds from unix time in seconds.\n",
    "\n",
    "    :param unix_s: Unix time in seconds\n",
    "\n",
    "    :return: atomic time (tai) in seconds\n",
    "    \"\"\"\n",
    "    astropy_time_utc = Time(unix_s, format=\"unix\")\n",
    "    return astropy_time_utc.unix_tai\n",
    "\n",
    "dish_w = widgets.IntProgress(\n",
    "    value=0,\n",
    "    min=0,\n",
    "    max=len(dish_deployments),\n",
    "    description='Dish deploy',\n",
    "    bar_style='', # 'success', 'info', 'warning', 'danger' or ''\n",
    "    style={'bar_color': 'maroon'},\n",
    "    orientation='horizontal'\n",
    ")\n",
    "display(dish_w)\n",
    "\n",
    "n = 0\n",
    "for dish in dish_deployments:\n",
    "    n += 1\n",
    "    dish_w.value = n\n",
    "    dish_manager_proxy = DeviceProxy(dish)\n",
    "    current_pointing = dish_manager_proxy.achievedPointing\n",
    "    current_az = current_pointing[1]\n",
    "    current_el = current_pointing[2]\n",
    "\n",
    "    current_time_tai_s = get_tai_from_unix_s(time.time() + 120)\n",
    "\n",
    "    # Directions to move values\n",
    "    az_dir = 1 if current_az < 350 else -1\n",
    "    el_dir = 1 if current_el < 80 else -1\n",
    "\n",
    "    track_table = [\n",
    "        current_time_tai_s + 3,\n",
    "        current_az + 1 * az_dir,\n",
    "        current_el + 1 * el_dir,\n",
    "        current_time_tai_s + 5,\n",
    "        current_az + 2 * az_dir,\n",
    "        current_el + 2 * el_dir,\n",
    "        current_time_tai_s + 7,\n",
    "        current_az + 3 * az_dir,\n",
    "        current_el + 3 * el_dir,\n",
    "        current_time_tai_s + 9,\n",
    "        current_az + 4 * az_dir,\n",
    "        current_el + 4 * el_dir,\n",
    "        current_time_tai_s + 11,\n",
    "        current_az + 5 * az_dir,\n",
    "        current_el + 5 * el_dir,\n",
    "    ]\n",
    "\n",
    "    dish_manager_proxy.programTrackTable = track_table\n"
   ]
  },
  {
   "cell_type": "markdown",
   "id": "17160faf",
   "metadata": {},
   "source": [
    "### Slew the dishes to near the start of track to avoid tracking timing errors"
   ]
  },
  {
   "cell_type": "code",
   "execution_count": 30,
   "id": "2c4cbd39",
   "metadata": {},
   "outputs": [
    {
     "data": {
      "application/vnd.jupyter.widget-view+json": {
       "model_id": "efefe3bee83141b692c1f61794f2e5b5",
       "version_major": 2,
       "version_minor": 0
      },
      "text/plain": [
       "IntProgress(value=0, description='Slew 001', max=30, style=ProgressStyle(bar_color='maroon'))"
      ]
     },
     "metadata": {},
     "output_type": "display_data"
    },
    {
     "data": {
      "application/vnd.jupyter.widget-view+json": {
       "model_id": "6095f01405894922bd54cdc8ced4f364",
       "version_major": 2,
       "version_minor": 0
      },
      "text/plain": [
       "Valid(value=True, description='Slew 001 OK', layout=Layout(width='60%'), style=DescriptionStyle(description_wi…"
      ]
     },
     "metadata": {},
     "output_type": "display_data"
    },
    {
     "data": {
      "application/vnd.jupyter.widget-view+json": {
       "model_id": "8e60c36c8f454f28b0acf891b295f867",
       "version_major": 2,
       "version_minor": 0
      },
      "text/plain": [
       "IntProgress(value=0, description='Slew 036', max=30, style=ProgressStyle(bar_color='maroon'))"
      ]
     },
     "metadata": {},
     "output_type": "display_data"
    },
    {
     "data": {
      "application/vnd.jupyter.widget-view+json": {
       "model_id": "501eddf64a1d479c947ea19fb914edda",
       "version_major": 2,
       "version_minor": 0
      },
      "text/plain": [
       "Valid(value=True, description='Slew 036 OK', layout=Layout(width='60%'), style=DescriptionStyle(description_wi…"
      ]
     },
     "metadata": {},
     "output_type": "display_data"
    }
   ],
   "source": [
    "dish_manager_ska001.slew([181.0,31.0])\n",
    "dish_manager_ska036.slew([181.0,31.0])\n",
    "\n",
    "slew_max = 30\n",
    "\n",
    "slew001_w = widgets.IntProgress(\n",
    "    value=0,\n",
    "    min=0,\n",
    "    max=slew_max,\n",
    "    description='Slew 001',\n",
    "    bar_style='', # 'success', 'info', 'warning', 'danger' or ''\n",
    "    style={'bar_color': 'maroon'},\n",
    "    orientation='horizontal'\n",
    ")\n",
    "display(slew001_w)\n",
    "\n",
    "slew001_ok = False\n",
    "for n in range(0, slew_max):\n",
    "    slew001_w.value = n\n",
    "    if dish_manager_ska001.achievedpointing[1] != 181.0 or dish_manager_ska001.achievedpointing[2] != 31.0:\n",
    "        slew001_ok = True\n",
    "        break\n",
    "    time.sleep(1)\n",
    "\n",
    "slew001_ok_w = widgets.Valid(\n",
    "    value=slew001_ok,\n",
    "    description=\"Slew 001 OK\",\n",
    "    layout=widgets.Layout(width='60%'),\n",
    "    style = {'description_width': 'initial'}\n",
    ")\n",
    "display(slew001_ok_w)\n",
    "\n",
    "slew036_w = widgets.IntProgress(\n",
    "    value=0,\n",
    "    min=0,\n",
    "    max=slew_max,\n",
    "    description='Slew 036',\n",
    "    bar_style='', # 'success', 'info', 'warning', 'danger' or ''\n",
    "    style={'bar_color': 'maroon'},\n",
    "    orientation='horizontal'\n",
    ")\n",
    "display(slew036_w)\n",
    "\n",
    "slew036_ok = False\n",
    "for n in range(0, slew_max):\n",
    "    slew036_w.value = n \n",
    "    if dish_manager_ska036.achievedpointing[1] != 181.0 or dish_manager_ska036.achievedpointing[2] != 31.0:\n",
    "        slew036_ok = True    \n",
    "    time.sleep(1)\n",
    "\n",
    "slew036_ok_w = widgets.Valid(\n",
    "    value=slew036_ok,\n",
    "    description=\"Slew 036 OK\",\n",
    "    layout=widgets.Layout(width='60%'),\n",
    "    style = {'description_width': 'initial'}\n",
    ")\n",
    "display(slew036_ok_w)\n",
    "# print(\"Done slewing\")"
   ]
  },
  {
   "cell_type": "markdown",
   "id": "4ec206a1",
   "metadata": {},
   "source": [
    "## Start Scan"
   ]
  },
  {
   "cell_type": "markdown",
   "id": "0e04d6ac",
   "metadata": {},
   "source": [
    "### Configure Scan"
   ]
  },
  {
   "cell_type": "code",
   "execution_count": 31,
   "id": "fd32216c",
   "metadata": {},
   "outputs": [
    {
     "data": {
      "application/vnd.jupyter.widget-view+json": {
       "model_id": "4ffd5a55df3047b7ba68351fe3d52f6e",
       "version_major": 2,
       "version_minor": 0
      },
      "text/plain": [
       "Text(value='Polaris Australis', description='Target', disabled=True, layout=Layout(width='60%'))"
      ]
     },
     "metadata": {},
     "output_type": "display_data"
    },
    {
     "data": {
      "application/vnd.jupyter.widget-view+json": {
       "model_id": "7692fb07e1a64594a049b146ab2bf495",
       "version_major": 2,
       "version_minor": 0
      },
      "text/plain": [
       "Text(value='920.0', description='Duration', disabled=True, layout=Layout(width='60%'))"
      ]
     },
     "metadata": {},
     "output_type": "display_data"
    },
    {
     "data": {
      "application/vnd.jupyter.widget-view+json": {
       "model_id": "8d5a5f32c0124ebc943dea1c5ff2ce7d",
       "version_major": 2,
       "version_minor": 0
      },
      "text/plain": [
       "Text(value='sdpSubarrayObsState.READY', description='SDP Leaf', disabled=True, layout=Layout(width='60%'))"
      ]
     },
     "metadata": {},
     "output_type": "display_data"
    },
    {
     "data": {
      "application/vnd.jupyter.widget-view+json": {
       "model_id": "39de0f3df2ca4b9e85d534ee1358684b",
       "version_major": 2,
       "version_minor": 0
      },
      "text/plain": [
       "Text(value='cspSubarrayObsState.IDLE', description='CSP Leaf', disabled=True, layout=Layout(width='60%'))"
      ]
     },
     "metadata": {},
     "output_type": "display_data"
    }
   ],
   "source": [
    "# Configure Scan\n",
    "# print(\"Running the Configure command: subarray obsstate should go to Ready\")\n",
    "\n",
    "with open(CONFIGURE_SCAN_FILE, encoding=\"utf-8\") as f:\n",
    "    configure_scan_json = json.load(f)\n",
    "\n",
    "# for key in configure_scan_json:\n",
    "#     print(f\"{key} {configure_scan_json[key]}\")\n",
    "\n",
    "# print(json.dumps(configure_scan_json))\n",
    "\n",
    "show_textbox(configure_scan_json[\"pointing\"][\"target\"][\"target_name\"], \"Target\")\n",
    "show_textbox(str(configure_scan_json[\"tmc\"][\"scan_duration\"]), \"Duration\")\n",
    "\n",
    "try:\n",
    "    tmc_subarray.Configure(json.dumps(configure_scan_json))\n",
    "except tango.DevFailed as t_err:\n",
    "    err_msg: str = t_err.args[0].desc.strip()\n",
    "    # print(f\"Could not configure scan: {err_msg}\")\n",
    "    show_errorbox(err_msg)\n",
    "    res_ok = False\n",
    "    \n",
    "time.sleep(12)\n",
    "try:\n",
    "    obs_state = str(sdp_subarray_leaf_node_dp.sdpSubarrayObsState)\n",
    "except AttributeError:\n",
    "    obs_state = \"ERROR\"\n",
    "except tango.DevFailed as t_err:\n",
    "    err_msg: str = t_err.args[0].desc.strip()\n",
    "    # print(f\"Could not read SDP Leaf obs state: {err_msg}\")\n",
    "    show_errorbox(err_msg)\n",
    "    obs_state = \"ERROR\"\n",
    "show_textbox(obs_state, \"SDP Leaf\")\n",
    "\n",
    "try:\n",
    "    obs_state = str(csp_subarray_leaf_node_dp.cspSubarrayObsState)\n",
    "except AttributeError:\n",
    "    obs_state = \"ERROR\"\n",
    "except tango.DevFailed as t_err:\n",
    "    err_msg: str = t_err.args[0].desc.strip()\n",
    "    # print(f\"Could not read CSP Leaf obs state: {err_msg}\")\n",
    "    show_errorbox(err_msg)\n",
    "    obs_state = \"ERROR\"\n",
    "show_textbox(obs_state, \"CSP Leaf\")\n"
   ]
  },
  {
   "cell_type": "markdown",
   "id": "01442e4a",
   "metadata": {},
   "source": [
    "### Start scan"
   ]
  },
  {
   "cell_type": "code",
   "execution_count": 32,
   "id": "f8e83361",
   "metadata": {},
   "outputs": [
    {
     "data": {
      "application/vnd.jupyter.widget-view+json": {
       "model_id": "0492ba7da15745dfae7f4ac6b7f4ed57",
       "version_major": 2,
       "version_minor": 0
      },
      "text/plain": [
       "Textarea(value='Could not read SDP data', description='Error', layout=Layout(height='200px', width='75%'), pla…"
      ]
     },
     "metadata": {},
     "output_type": "display_data"
    },
    {
     "data": {
      "application/vnd.jupyter.widget-view+json": {
       "model_id": "ba8766d8c7824291abd45e19b65cfbbb",
       "version_major": 2,
       "version_minor": 0
      },
      "text/plain": [
       "Text(value='sdpSubarrayObsState.READY', description='SDP Leaf', disabled=True, layout=Layout(width='60%'))"
      ]
     },
     "metadata": {},
     "output_type": "display_data"
    },
    {
     "data": {
      "application/vnd.jupyter.widget-view+json": {
       "model_id": "2734139446544f9894cc267123fc27eb",
       "version_major": 2,
       "version_minor": 0
      },
      "text/plain": [
       "Textarea(value='Could not read csp data', description='Error', layout=Layout(height='200px', width='75%'), pla…"
      ]
     },
     "metadata": {},
     "output_type": "display_data"
    },
    {
     "data": {
      "application/vnd.jupyter.widget-view+json": {
       "model_id": "5473f534b7c74c9e9dd0242dd10b59ed",
       "version_major": 2,
       "version_minor": 0
      },
      "text/plain": [
       "Text(value='cspSubarrayObsState.IDLE', description='CSP Leaf', disabled=True, layout=Layout(width='60%'))"
      ]
     },
     "metadata": {},
     "output_type": "display_data"
    }
   ],
   "source": [
    "# TMC LEAF NODE HACK TO GET AROUND TMC SUBARRAY STUCK IN CONFIGURING\n",
    "with open(\"../../data/mid_telescope/tmc/scan.json\", \"r\", encoding=\"utf-8\") as json_data:\n",
    "    d = json.load(json_data)\n",
    "    try:\n",
    "        sdp_scan = d[\"sdp\"]\n",
    "        print(f'SDP interface {sdp_scan[\"interface\"]}')\n",
    "        sdp_subarray_leaf_node_dp.scan(json.dumps(sdp_scan))\n",
    "    except KeyError:\n",
    "        # print(\"Could not read SDP data\")\n",
    "        show_errorbox(\"Could not read SDP data\")\n",
    "        res_ok = False\n",
    "    except tango.DevFailed as t_err:\n",
    "        err_msg: str = t_err.args[0].desc.strip()\n",
    "        # print(f\"Could not do SDP scan: {err_msg}\\n\")\n",
    "        show_errorbox(err_msg)\n",
    "        res_ok = False\n",
    "\n",
    "time.sleep(10)\n",
    "show_textbox(str(sdp_subarray_leaf_node_dp.sdpSubarrayObsState), \"SDP Leaf\")\n",
    "\n",
    "with open(\"../../data/mid_telescope/tmc/scan.json\", \"r\", encoding=\"utf-8\") as json_data:\n",
    "    d = json.load(json_data)\n",
    "    try:\n",
    "        csp_scan = d[\"csp\"]\n",
    "        print(f'CSP interface {csp_scan[\"interface\"]}')\n",
    "        csp_subarray_leaf_node_dp.scan(json.dumps(csp_scan))\n",
    "    except KeyError:\n",
    "        # print(\"Could not read CSP data\")\n",
    "        show_errorbox(\"Could not read csp data\")\n",
    "        res_ok = False\n",
    "    except tango.DevFailed as t_err:\n",
    "        err_msg: str = t_err.args[0].desc.strip()\n",
    "        # print(f\"Could not do CSP scan: {err_msg}\\n\")\n",
    "        show_errorbox(err_msg)\n",
    "        res_ok = False\n",
    "\n",
    "time.sleep(2)\n",
    "show_textbox(str(csp_subarray_leaf_node_dp.cspSubarrayObsState), \"CSP Leaf\")"
   ]
  },
  {
   "cell_type": "markdown",
   "id": "00c76390",
   "metadata": {},
   "source": [
    "### Check subarrays"
   ]
  },
  {
   "cell_type": "code",
   "execution_count": 33,
   "id": "ec81ed4c",
   "metadata": {},
   "outputs": [
    {
     "data": {
      "application/vnd.jupyter.widget-view+json": {
       "model_id": "524e803d0e744791b218e1e80d32fe5e",
       "version_major": 2,
       "version_minor": 0
      },
      "text/plain": [
       "IntProgress(value=2, description='Dish deploy', max=2, style=ProgressStyle(bar_color='maroon'))"
      ]
     },
     "metadata": {},
     "output_type": "display_data"
    },
    {
     "data": {
      "application/vnd.jupyter.widget-view+json": {
       "model_id": "8b63e25ef07c4f9f98da8de1b6cd07e0",
       "version_major": 2,
       "version_minor": 0
      },
      "text/plain": [
       "Text(value='obsState.READY', description='CBF Subarray Observation', disabled=True, layout=Layout(width='60%')…"
      ]
     },
     "metadata": {},
     "output_type": "display_data"
    },
    {
     "data": {
      "application/vnd.jupyter.widget-view+json": {
       "model_id": "82abac45a7f84abba9cb81457485216c",
       "version_major": 2,
       "version_minor": 0
      },
      "text/plain": [
       "Text(value='sdpSubarrayObsState.READY', description='SDP Subarray Observation', disabled=True, layout=Layout(w…"
      ]
     },
     "metadata": {},
     "output_type": "display_data"
    },
    {
     "data": {
      "application/vnd.jupyter.widget-view+json": {
       "model_id": "50258eb348b648d98ba4eef393b5dacc",
       "version_major": 2,
       "version_minor": 0
      },
      "text/plain": [
       "Text(value='cspSubarrayObsState.READY', description='CSP Subarray Observation', disabled=True, layout=Layout(w…"
      ]
     },
     "metadata": {},
     "output_type": "display_data"
    },
    {
     "data": {
      "application/vnd.jupyter.widget-view+json": {
       "model_id": "727d926f4c3b4e589c34c9d37382bf4f",
       "version_major": 2,
       "version_minor": 0
      },
      "text/plain": [
       "Valid(value=True, description='CSP Subarray', layout=Layout(width='60%'), style=DescriptionStyle(description_w…"
      ]
     },
     "metadata": {},
     "output_type": "display_data"
    }
   ],
   "source": [
    "# Wait about 5 seconds and show subarrays\n",
    "cbf_prog_w = widgets.IntProgress(\n",
    "    value=0,\n",
    "    min=0,\n",
    "    max=5,\n",
    "    description='Subarrays',\n",
    "    bar_style='', # 'success', 'info', 'warning', 'danger' or ''\n",
    "    style={'bar_color': 'maroon'},\n",
    "    orientation='horizontal'\n",
    ")\n",
    "display(dish_w)\n",
    "\n",
    "for n in range(1,6):\n",
    "    cbf_prog_w.value = n\n",
    "    time.sleep(1)\n",
    "\n",
    "show_textbox(str(cbf_subarray.obsState), \"CBF Subarray Observation\")\n",
    "show_textbox(str(sdp_subarray_leaf_node_dp.sdpSubarrayObsState), \"SDP Subarray Observation\")\n",
    "show_textbox(str(csp_subarray_leaf_node_dp.cspSubarrayObsState), \"CSP Subarray Observation\")\n",
    "cbf_sub_valid = (cbf_subarray.obsState == 4) and (sdp_subarray_leaf_node_dp.sdpSubarrayObsState == 4) and (csp_subarray_leaf_node_dp.cspSubarrayObsState == 4)\n",
    "cbf_sub_w = widgets.Valid(\n",
    "    value=cbf_sub_valid,\n",
    "    description=\"CSP Subarray\",\n",
    "    layout=widgets.Layout(width='60%'),\n",
    "    style = {'description_width': 'initial'}\n",
    ")\n",
    "display(cbf_sub_w)"
   ]
  },
  {
   "cell_type": "markdown",
   "id": "4df244eb",
   "metadata": {},
   "source": [
    "### End scan"
   ]
  },
  {
   "cell_type": "code",
   "execution_count": 34,
   "id": "45bbcda4",
   "metadata": {},
   "outputs": [
    {
     "data": {
      "application/vnd.jupyter.widget-view+json": {
       "model_id": "763c7d1508c44fe0b2a16a8a9a67d03e",
       "version_major": 2,
       "version_minor": 0
      },
      "text/plain": [
       "Textarea(value='ska_tmc_common.exceptions.InvalidObsStateError: EndScan command is not allowed in current obse…"
      ]
     },
     "metadata": {},
     "output_type": "display_data"
    },
    {
     "data": {
      "application/vnd.jupyter.widget-view+json": {
       "model_id": "c0101f8e1d1f4652a378cf2f60cdd342",
       "version_major": 2,
       "version_minor": 0
      },
      "text/plain": [
       "Textarea(value='ska_tmc_common.exceptions.InvalidObsStateError: EndScan command is not allowed in current obse…"
      ]
     },
     "metadata": {},
     "output_type": "display_data"
    },
    {
     "data": {
      "application/vnd.jupyter.widget-view+json": {
       "model_id": "a09d151f01824094a9bfee407eab097c",
       "version_major": 2,
       "version_minor": 0
      },
      "text/plain": [
       "Text(value='sdpSubarrayObsState.READY', description='SDP Leaf ObsState', disabled=True, layout=Layout(width='6…"
      ]
     },
     "metadata": {},
     "output_type": "display_data"
    },
    {
     "data": {
      "application/vnd.jupyter.widget-view+json": {
       "model_id": "1b4a2bcbea8b465a84ff804e2c10d1e4",
       "version_major": 2,
       "version_minor": 0
      },
      "text/plain": [
       "Text(value='cspSubarrayObsState.READY', description='CSP Leaf ObsState', disabled=True, layout=Layout(width='6…"
      ]
     },
     "metadata": {},
     "output_type": "display_data"
    }
   ],
   "source": [
    "# TMC LEAF NODE HACK TO GET AROUND TMC SUBARRAY STUCK IN CONFIGURING\n",
    "# print(\"Running the End Scan command: subarray obsstate should go to Ready state\")\n",
    "\n",
    "try:\n",
    "    sdp_subarray_leaf_node_dp.EndScan()\n",
    "except tango.DevFailed as t_err:\n",
    "    err_msg: str = t_err.args[0].desc.strip()\n",
    "    # print(f\"Could not end SDP scan: {err_msg}\\n\")\n",
    "    show_errorbox(err_msg)\n",
    "time.sleep(2)\n",
    "try:\n",
    "    csp_subarray_leaf_node_dp.EndScan()\n",
    "except tango.DevFailed as t_err:\n",
    "    err_msg: str = t_err.args[0].desc.strip()\n",
    "    # print(f\"Could not end CSP scan: {err_msg}\\n\")\n",
    "    show_errorbox(err_msg)\n",
    "    \n",
    "show_textbox(str(sdp_subarray_leaf_node_dp.sdpSubarrayObsState), \"SDP Leaf ObsState\")\n",
    "show_textbox(str(csp_subarray_leaf_node_dp.cspSubarrayObsState), \"CSP Leaf ObsState\")\n"
   ]
  },
  {
   "cell_type": "markdown",
   "id": "d7d8a784",
   "metadata": {},
   "source": [
    "## End"
   ]
  },
  {
   "cell_type": "markdown",
   "id": "8642c4a0",
   "metadata": {},
   "source": [
    "### Run the End command"
   ]
  },
  {
   "cell_type": "code",
   "execution_count": 35,
   "id": "218fe54a",
   "metadata": {},
   "outputs": [
    {
     "name": "stdout",
     "output_type": "stream",
     "text": [
      "Running the End command: subarray obsstate should go to Idle state\n"
     ]
    },
    {
     "data": {
      "application/vnd.jupyter.widget-view+json": {
       "model_id": "4156033e937c490494db88c0d680005a",
       "version_major": 2,
       "version_minor": 0
      },
      "text/plain": [
       "Text(value='sdpSubarrayObsState.IDLE', description='SDP Sub ObsState', disabled=True, layout=Layout(width='60%…"
      ]
     },
     "metadata": {},
     "output_type": "display_data"
    },
    {
     "data": {
      "application/vnd.jupyter.widget-view+json": {
       "model_id": "336407552b83446a8adfd46d16266448",
       "version_major": 2,
       "version_minor": 0
      },
      "text/plain": [
       "Text(value='cspSubarrayObsState.FAULT', description='CSP Sub ObsState', disabled=True, layout=Layout(width='60…"
      ]
     },
     "metadata": {},
     "output_type": "display_data"
    }
   ],
   "source": [
    "# TMC LEAF NODE HACK TO GET AROUND TMC SUBARRAY STUCK IN CONFIGURING\n",
    "print(\"Running the End command: subarray obsstate should go to Idle state\")\n",
    "\n",
    "try:\n",
    "    sdp_subarray_leaf_node_dp.End()\n",
    "except tango.DevFailed as t_err:\n",
    "    err_msg: str = t_err.args[0].desc.strip()\n",
    "    # print(f\"Could not end SDP: {err_msg}\")\n",
    "    show_errorbox(err_msg)\n",
    "time.sleep(2)\n",
    "try:\n",
    "    csp_subarray_leaf_node_dp.End()\n",
    "except tango.DevFailed as t_err:\n",
    "    err_msg: str = t_err.args[0].desc.strip()\n",
    "    # print(f\"Could not end CSP: {err_msg}\")\n",
    "    show_errorbox(err_msg)\n",
    "\n",
    "time.sleep(2)\n",
    "show_textbox(str(sdp_subarray_leaf_node_dp.sdpSubarrayObsState), \"SDP Sub ObsState\")\n",
    "show_textbox(str(csp_subarray_leaf_node_dp.cspSubarrayObsState), \"CSP Sub ObsState\")\n"
   ]
  },
  {
   "cell_type": "markdown",
   "id": "1cf32345",
   "metadata": {},
   "source": [
    "### Release All Resources"
   ]
  },
  {
   "cell_type": "code",
   "execution_count": 36,
   "id": "497836e3",
   "metadata": {},
   "outputs": [
    {
     "name": "stdout",
     "output_type": "stream",
     "text": [
      "Running the Release All Resources command: subarray obsstate should go to Empty state and receptor IDs should be empty\n"
     ]
    },
    {
     "data": {
      "application/vnd.jupyter.widget-view+json": {
       "model_id": "e7e6d5b20cb64f26964997bca419bb31",
       "version_major": 2,
       "version_minor": 0
      },
      "text/plain": [
       "Textarea(value='ska_tmc_common.exceptions.InvalidObsStateError: ReleaseAllResources command is not allowed in …"
      ]
     },
     "metadata": {},
     "output_type": "display_data"
    },
    {
     "data": {
      "application/vnd.jupyter.widget-view+json": {
       "model_id": "94e3c41265024c7180ce56e8000013d4",
       "version_major": 2,
       "version_minor": 0
      },
      "text/plain": [
       "Text(value='sdpSubarrayObsState.EMPTY', description='SDP Sub ObsState', disabled=True, layout=Layout(width='60…"
      ]
     },
     "metadata": {},
     "output_type": "display_data"
    },
    {
     "data": {
      "application/vnd.jupyter.widget-view+json": {
       "model_id": "6b960c25e03d495593b877ba064714d2",
       "version_major": 2,
       "version_minor": 0
      },
      "text/plain": [
       "Text(value='cspSubarrayObsState.FAULT', description='CSP Sub ObsState', disabled=True, layout=Layout(width='60…"
      ]
     },
     "metadata": {},
     "output_type": "display_data"
    }
   ],
   "source": [
    "# TMC LEAF NODE HACK TO GET AROUND TMC SUBARRAY STUCK IN CONFIGURING\n",
    "print(\n",
    "    \"Running the Release All Resources command: subarray obsstate should go to Empty state and receptor IDs should be empty\"\n",
    ")\n",
    "\n",
    "try:\n",
    "    sdp_subarray_leaf_node_dp.ReleaseAllResources()\n",
    "except tango.DevFailed as t_err:\n",
    "    err_msg: str = t_err.args[0].desc.strip()\n",
    "    print(f\"Could not relase SDP: {err_msg}\")\n",
    "time.sleep(2)\n",
    "try:\n",
    "    csp_subarray_leaf_node_dp.ReleaseAllResources()\n",
    "except tango.DevFailed as t_err:\n",
    "    err_msg: str = t_err.args[0].desc.strip()\n",
    "    # print(f\"Could not relase CSP: {err_msg}\")\n",
    "    show_errorbox(err_msg)\n",
    "\n",
    "time.sleep(2)\n",
    "\n",
    "show_textbox(str(sdp_subarray_leaf_node_dp.sdpSubarrayObsState), \"SDP Sub ObsState\")\n",
    "show_textbox(str(csp_subarray_leaf_node_dp.cspSubarrayObsState), \"CSP Sub ObsState\")"
   ]
  },
  {
   "cell_type": "markdown",
   "id": "e17d83b6",
   "metadata": {},
   "source": [
    "### Run the Telescope Off command"
   ]
  },
  {
   "cell_type": "code",
   "execution_count": 37,
   "id": "4427e798",
   "metadata": {},
   "outputs": [
    {
     "data": {
      "application/vnd.jupyter.widget-view+json": {
       "model_id": "f1904c772d8b40589ab7046c51b06cc3",
       "version_major": 2,
       "version_minor": 0
      },
      "text/plain": [
       "Valid(value=True, description='Telescope OFF', layout=Layout(width='60%'), style=DescriptionStyle(description_…"
      ]
     },
     "metadata": {},
     "output_type": "display_data"
    },
    {
     "data": {
      "application/vnd.jupyter.widget-view+json": {
       "model_id": "ad99fe44125047aabb5e5388924b8aea",
       "version_major": 2,
       "version_minor": 0
      },
      "text/plain": [
       "Text(value='The device is in ON state.', description='TMC Central Node', disabled=True, layout=Layout(width='6…"
      ]
     },
     "metadata": {},
     "output_type": "display_data"
    },
    {
     "data": {
      "application/vnd.jupyter.widget-view+json": {
       "model_id": "8fc74ce65510447ea4df3a7f7b9bccf6",
       "version_major": 2,
       "version_minor": 0
      },
      "text/plain": [
       "Text(value='The device is in ON state.', description='CSP Control', disabled=True, layout=Layout(width='60%'))"
      ]
     },
     "metadata": {},
     "output_type": "display_data"
    },
    {
     "data": {
      "application/vnd.jupyter.widget-view+json": {
       "model_id": "af8eef01e23346edaeec9db0f0479794",
       "version_major": 2,
       "version_minor": 0
      },
      "text/plain": [
       "Text(value='The device is in ON state.', description='CBF Controller', disabled=True, layout=Layout(width='60%…"
      ]
     },
     "metadata": {},
     "output_type": "display_data"
    }
   ],
   "source": [
    "# Telescope Off\n",
    "# print(\"Running the TelescopeOff command\")\n",
    "\n",
    "tel_off = False\n",
    "try:\n",
    "    tmc_central_node.TelescopeOff()\n",
    "    tel_off = True\n",
    "except tango.DevFailed as t_err:\n",
    "    err_msg: str = t_err.args[0].desc.strip()\n",
    "    # print(f\"Could not turn telescope off: {err_msg}\")\n",
    "    show_errorbox(err_msg)\n",
    "    \n",
    "tel_off_w = widgets.Valid(\n",
    "    value=tel_off,\n",
    "    description=\"Telescope OFF\",\n",
    "    layout=widgets.Layout(width='60%'),\n",
    "    style = {'description_width': 'initial'}\n",
    ")\n",
    "display(tel_off_w)\n",
    "\n",
    "time.sleep(5)\n",
    "show_textbox(tmc_central_node.Status(), \"TMC Central Node\")\n",
    "show_textbox(csp_control.Status(), \"CSP Control\")\n",
    "show_textbox(cbf_controller.Status(), \"CBF Controller\")"
   ]
  },
  {
   "cell_type": "code",
   "execution_count": null,
   "id": "9606eb74",
   "metadata": {},
   "outputs": [],
   "source": []
  }
 ],
 "metadata": {
  "celltoolbar": "Edit Metadata",
  "hide_input": true,
  "kernelspec": {
   "display_name": "Python 3 (ipykernel)",
   "language": "python",
   "name": "python3"
  },
  "language_info": {
   "codemirror_mode": {
    "name": "ipython",
    "version": 3
   },
   "file_extension": ".py",
   "mimetype": "text/x-python",
   "name": "python",
   "nbconvert_exporter": "python",
   "pygments_lexer": "ipython3",
   "version": "3.10.12"
  }
 },
 "nbformat": 4,
 "nbformat_minor": 5
}
