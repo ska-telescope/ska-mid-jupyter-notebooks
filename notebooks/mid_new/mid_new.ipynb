{
 "cells": [
  {
   "cell_type": "markdown",
   "id": "15c1506e",
   "metadata": {},
   "source": [
    "## Read namespaces"
   ]
  },
  {
   "cell_type": "code",
   "execution_count": null,
   "id": "c730d3ec",
   "metadata": {},
   "outputs": [],
   "source": [
    "# Read namespaces\n",
    "import os\n",
    "import kubernetes\n",
    "import ipywidgets as widgets\n",
    "from IPython.display import display, JSON\n",
    "\n",
    "ns_list = []\n",
    "kubernetes.config.load_kube_config()\n",
    "k8s_client = kubernetes.client.CoreV1Api()\n",
    "namespaces = k8s_client.list_namespace(_request_timeout=(1, 5))\n",
    "for namespace in namespaces.items:\n",
    "    ns_name = namespace.metadata.name\n",
    "    ns_list.append(ns_name)\n",
    "w = widgets.Dropdown(\n",
    "    options=ns_list,\n",
    "    description='SUT ns',\n",
    "    disabled=False,\n",
    "    layout=widgets.Layout(width='50%')\n",
    ")\n",
    "display(w)"
   ]
  },
  {
   "cell_type": "markdown",
   "id": "4a810c5d",
   "metadata": {},
   "source": [
    "## Set namespaces"
   ]
  },
  {
   "cell_type": "code",
   "execution_count": null,
   "id": "a1926496",
   "metadata": {
    "scrolled": true
   },
   "outputs": [],
   "source": [
    "# Set namespaces\n",
    "SUT_NAMESPACE = w.value\n",
    "# print(f\"Using SUT namespace {SUT_NAMESPACE}\")\n",
    "BRANCH_NAME = SUT_NAMESPACE.replace(\"ci-ska-mid-itf-\", \"\")\n",
    "# print(f\"Using SUT branch {BRANCH_NAME}\")\n",
    "SKA001_NAMESPACE = f\"ci-dish-lmc-ska001-{BRANCH_NAME}\"\n",
    "# print(f\"Using SKA 001 namespace {SKA001_NAMESPACE}\")\n",
    "ska001 = widgets.Text(\n",
    "    value=SKA001_NAMESPACE,\n",
    "    description='SKA001 ns',\n",
    "    disabled=True,\n",
    "    layout=widgets.Layout(width='60%')\n",
    ")\n",
    "display(ska001)\n",
    "SKA036_NAMESPACE = f\"ci-dish-lmc-ska036-{BRANCH_NAME}\"\n",
    "ska036 = widgets.Text(\n",
    "    value=SKA036_NAMESPACE,\n",
    "    description='SKA036 ns',\n",
    "    disabled=True,\n",
    "    layout=widgets.Layout(width='60%')\n",
    ")\n",
    "display(ska036)\n",
    "# print(f\"Using SKA 036 namespace {SKA036_NAMESPACE}\")\n",
    "\n",
    "# print(f\"Setting up parameters for SUT namespace {SUT_NAMESPACE}\\n\")\n",
    "\n",
    "TANGO_HOST = f\"tango-databaseds.{SUT_NAMESPACE}.svc.miditf.internal.skao.int:10000\"\n",
    "os.environ[\"TANGO_HOST\"] = TANGO_HOST\n",
    "\n",
    "th = widgets.Text(\n",
    "    value=os.getenv(\"TANGO_HOST\"),\n",
    "    description='Tango host',\n",
    "    disabled=True,\n",
    "    layout=widgets.Layout(width='80%')\n",
    ")\n",
    "display(th)"
   ]
  },
  {
   "cell_type": "markdown",
   "id": "974061ee",
   "metadata": {},
   "source": [
    "## Configure Device Proxies"
   ]
  },
  {
   "cell_type": "code",
   "execution_count": null,
   "id": "4ca0f279",
   "metadata": {
    "scrolled": true
   },
   "outputs": [],
   "source": [
    "# Set Up and Configure Device Proxies\n",
    "\n",
    "RECEPTORS = [\"SKA001\", \"SKA036\"]\n",
    "\n",
    "# Config files set up\n",
    "DATA_DIR = \"../../data\"\n",
    "TMC_CONFIGS = f\"{DATA_DIR}/mid_telescope/tmc\"\n",
    "SCAN_FILE = f\"{TMC_CONFIGS}/scan.json\"\n",
    "RELEASE_RESOURCES_FILE = f\"{DATA_DIR}/release_resources.json\"\n",
    "\n",
    "ASSIGN_RESOURCES_FILE = f\"{TMC_CONFIGS}/assign_resources.json\"\n",
    "CONFIGURE_SCAN_FILE = f\"{TMC_CONFIGS}/configure_scan.json\"\n",
    "\n",
    "CBF_CONFIGS = f\"{DATA_DIR}/mid_telescope/cbf\"\n",
    "DISH_CONFIG_FILE = f\"{CBF_CONFIGS}/sys_params/load_dish_config.json\"\n",
    "\n",
    "# print(\"Links for Taranta and QA Display\\n\")\n",
    "print(\"SUT Links\")\n",
    "print(f\"https://k8s.miditf.internal.skao.int/{SUT_NAMESPACE}/signal/display/\")\n",
    "print(f\"https://k8s.miditf.internal.skao.int/{SUT_NAMESPACE}/taranta/devices\")\n",
    "print(\"\\n\")\n",
    "print(\"Dish LMC links\")\n",
    "print(f\"https://k8s.miditf.internal.skao.int/{SKA001_NAMESPACE}/taranta/devices\")\n",
    "print(f\"https://k8s.miditf.internal.skao.int/{SKA036_NAMESPACE}/taranta/devices\")"
   ]
  },
  {
   "cell_type": "markdown",
   "id": "9ad72e8f",
   "metadata": {},
   "source": [
    "## Set Up Device Proxies"
   ]
  },
  {
   "cell_type": "code",
   "execution_count": null,
   "id": "19c756ec",
   "metadata": {},
   "outputs": [],
   "source": [
    "import json\n",
    "import time\n",
    "import tango\n",
    "\n",
    "from tango import DeviceProxy\n",
    "\n",
    "# print(f'Setting up device proxies for {}')\n",
    "\n",
    "try:\n",
    "    # TMC proxies\n",
    "    tmc_central_node = DeviceProxy(\"ska_mid/tm_central/central_node\")\n",
    "    tmc_csp_master = DeviceProxy(\"ska_mid/tm_leaf_node/csp_master\")\n",
    "    tmc_csp_subarray = DeviceProxy(\"ska_mid/tm_leaf_node/csp_subarray01\")\n",
    "    tmc_subarray = DeviceProxy(\"ska_mid/tm_subarray_node/1\")\n",
    "\n",
    "    # CSP.LMC proxies\n",
    "    csp_control = DeviceProxy(\"mid-csp/control/0\")\n",
    "    csp_subarray = DeviceProxy(\"mid-csp/subarray/01\")\n",
    "\n",
    "    # CBF proxies\n",
    "    cbf_controller = DeviceProxy(\"mid_csp_cbf/sub_elt/controller\")\n",
    "    cbf_subarray = DeviceProxy(\"mid_csp_cbf/sub_elt/subarray_01\")\n",
    "\n",
    "    # Dish Leaf Proxies\n",
    "    dish_leaf_node_ska001 = DeviceProxy(\"ska_mid/tm_leaf_node/d0001\")\n",
    "    dish_leaf_node_ska036 = DeviceProxy(\"ska_mid/tm_leaf_node/d0036\")\n",
    "\n",
    "    # SDP Proxies\n",
    "    sdp_subarray = DeviceProxy(\"mid-sdp/subarray/01\")\n",
    "    \n",
    "\n",
    "except tango.DevFailed as terr:\n",
    "    print(f\"ERROR: {terr.args[0].desc.strip()}\")\n",
    "    tmc_central_node = None\n",
    "    tmc_csp_master = None\n",
    "finally:\n",
    "    print('Set up device proxies')\n",
    "\n",
    "\n"
   ]
  },
  {
   "cell_type": "markdown",
   "id": "c2afe675",
   "metadata": {},
   "source": [
    "## Diagnostics"
   ]
  },
  {
   "cell_type": "markdown",
   "id": "592c09f2",
   "metadata": {},
   "source": [
    "### Smoke test"
   ]
  },
  {
   "cell_type": "code",
   "execution_count": null,
   "id": "053b6ca8",
   "metadata": {},
   "outputs": [],
   "source": [
    "# Smoke test\n",
    "if tmc_central_node is None:\n",
    "    print(f\"ERROR: No TMC central none\")\n",
    "else:\n",
    "    tping = tmc_central_node.ping()\n",
    "    print(f\"Ping TMC central node: {tping}\")\n",
    "    tmc_central_node.adminMode = 0\n",
    "    tmc_cent = widgets.Valid(\n",
    "        value=not tmc_central_node.adminMode,\n",
    "        description=\"TMC Central Node online\",\n",
    "        layout=widgets.Layout(width='60%'),\n",
    "        style = {'description_width': 'initial'}\n",
    "    )\n",
    "    display(tmc_cent)"
   ]
  },
  {
   "cell_type": "markdown",
   "id": "d6dfe7e1",
   "metadata": {},
   "source": [
    "### Print TMC diagnostics"
   ]
  },
  {
   "cell_type": "code",
   "execution_count": null,
   "id": "cc1c5869",
   "metadata": {},
   "outputs": [],
   "source": [
    "# Print TMC diagnostics\n",
    "try:\n",
    "    print(f\"| TMC Central Node           | {tmc_central_node.name():40} |\")\n",
    "    print(f\"| TMC Central Node state     | {str(tmc_central_node.State()):40} |\")\n",
    "    print(f\"| TMC Central Node adminMode | {str(tmc_central_node.adminmode):40} |\")\n",
    "    # print(f\"TMC Central Node healthState: {str(tmc_central_node.health_state)}\")\n",
    "    # print(f\"TMC Central Node telescopeHealthState: {str(tmc_central_node.telescope_health_state)}\")\n",
    "    # print(f\"TMC Central Node isDishVccConfig: {str(tmc_central_node.isDishVccConfigSet)}\")\n",
    "    # print(f\"TMC Central Node dishvccvalidationstatus: {str(tmc_central_node.dishvccvalidationstatus)}\")\n",
    "    # print(f\"TMC Subarray Node state: {tmc_csp_subarray.State()}\")\n",
    "    # print(f\"TMC Subarray adminMode: {str(tmc_csp_subarray.admin_mode)}\")\n",
    "    # print(f\"TMC Subarray Node obsState: {str(tmc_csp_subarray.obs_state)}\")\n",
    "except tango.ConnectionFailed as terr:\n",
    "    print(f\"Tango connection failed: {terr.args[0].desc.strip()}\")\n",
    "# table(tmc_rows, frame=True)"
   ]
  },
  {
   "cell_type": "markdown",
   "id": "42cacb72",
   "metadata": {},
   "source": [
    "### Print CSP-LMC Diagnostics"
   ]
  },
  {
   "cell_type": "code",
   "execution_count": null,
   "id": "7885ec03",
   "metadata": {},
   "outputs": [],
   "source": [
    "# Print CSP-LMC Diagnostics\n",
    "try:\n",
    "    # Controller\n",
    "    print(f\"| CSP-LMC Controller                     | {csp_control.name():40} |\")\n",
    "    print(f\"| CSP-LMC Controller admin mode          | {str(csp_control.adminMode):40} |\")\n",
    "    print(f\"| CSP-LMC Controller State               | {csp_control.State():40} |\")\n",
    "    print(f\"| CSP-LMC Controller dish Vcc Config     | {csp_control.dishVccConfig:40} |\")\n",
    "    print(f\"| CSP-LMC Controller CBF Simulation Mode | {csp_control.cbfSimulationMode:40} |\")\n",
    "    # Subarray\n",
    "    print(f\"| CSP-LMC Subarray                       | {csp_subarray.name():40} |\")\n",
    "    print(f\"| CSP-LMC Subarray admin mode            | {str(csp_subarray.adminMode):40} |\")\n",
    "    print(f\"| CSP-LMC Subarray State                 | {csp_subarray.State():40} |\")\n",
    "    print(f\"| CSP-LMC Subarray observation state     | {str(csp_subarray.obsState):40} |\")\n",
    "    print(f\"| CSP-LMC Subarray dish Vcc Config       | {csp_subarray.dishVccConfig:40} |\")\n",
    "except tango.ConnectionFailed as terr:\n",
    "    print(f\"Tango connection failed: {terr.args[0].desc.strip()}\")\n"
   ]
  },
  {
   "cell_type": "markdown",
   "id": "603df89e",
   "metadata": {},
   "source": [
    "### Print CBF Diagnostics"
   ]
  },
  {
   "cell_type": "code",
   "execution_count": null,
   "id": "95ddbb19",
   "metadata": {},
   "outputs": [],
   "source": [
    "# Print CBF Diagnostics\n",
    "try:print\n",
    "    # CBF Controller\n",
    "    print(f\"| CBF Controller admin mode      | {str(cbf_controller.adminMode):40} |\")\n",
    "    print(f\"| CBF Controller State           | {str(cbf_controller.State()):40} |\")\n",
    "    # CBF Subarray\n",
    "    print(f\"| CBF Subarray admin mode        | {str(cbf_subarray.adminMode):40} |\")\n",
    "    print(f\"| CBF Subarray State             | {str(cbf_subarray.State()):40} |\")\n",
    "    print(f\"| CBF Subarray observation state | {str(cbf_subarray.obsState):40} |\")\n",
    "except tango.ConnectionFailed as terr:\n",
    "    err_msg = terr.args[0].desc.strip()\n",
    "    print(\"Tango connection failed: %s\", err_msg)"
   ]
  },
  {
   "cell_type": "markdown",
   "id": "8d2b4524",
   "metadata": {},
   "source": [
    "### Print SDP Diagnostics"
   ]
  },
  {
   "cell_type": "code",
   "execution_count": null,
   "id": "095db001",
   "metadata": {
    "scrolled": true
   },
   "outputs": [],
   "source": [
    "# Print SDP Diagnostics\n",
    "try:\n",
    "    # print(f\"SDP Controller state: {sdp_controller.State()}\")\n",
    "    # print(f\"SDP Controller admin mode: {str(sdp_controller.admin_mode)}\")\n",
    "    # SDP Subarray\n",
    "    print(f\"SDP Subarray state             | {str(sdp_subarray.State()):40} |\")\n",
    "    print(f\"SDP Subarray admin mode        | {str(sdp_subarray.adminMode):40} |\")\n",
    "    print(f\"SDP Subarray observation state | {str(sdp_subarray.obsState):40} |\")\n",
    "except tango.ConnectionFailed as terr:\n",
    "    err_msg = terr.args[0].desc.strip()\n",
    "    print(\"Tango connection failed: %s\", err_msg)"
   ]
  },
  {
   "cell_type": "markdown",
   "id": "e8da34fb",
   "metadata": {},
   "source": [
    "## Set devices to ONLINE"
   ]
  },
  {
   "cell_type": "code",
   "execution_count": null,
   "id": "d24614ea",
   "metadata": {},
   "outputs": [],
   "source": [
    "# Set devices to adminMode = ONLINE\n",
    "csp_control.adminMode = 0\n",
    "csp_subarray.adminMode = 0\n",
    "\n",
    "# Leaf Nodes\n",
    "csp_subarray_leaf_node = \"ska_mid/tm_leaf_node/csp_subarray01\"\n",
    "sdp_subarray_leaf_node = \"ska_mid/tm_leaf_node/sdp_subarray01\"\n",
    "csp_master_leaf_node = \"ska_mid/tm_leaf_node/csp_master\"\n",
    "csp_subarray_leaf_node_dp = DeviceProxy(csp_subarray_leaf_node)\n",
    "sdp_subarray_leaf_node_dp = DeviceProxy(sdp_subarray_leaf_node)\n",
    "csp_master_leaf_node_dp = DeviceProxy(csp_master_leaf_node)\n",
    "\n",
    "time.sleep(2)\n",
    "print(\"Admin mode after setting to ONLINE\")\n",
    "\n",
    "# CSP Control admin mode\n",
    "#print(f\"  CSP Control: {csp_control.adminMode}\")\n",
    "csp_ctl = widgets.Valid(\n",
    "    value=not csp_control.adminMode,\n",
    "    description=\"CSP Control online\",\n",
    "    layout=widgets.Layout(width='60%'),\n",
    "    style = {'description_width': 'initial'}\n",
    ")\n",
    "display(csp_ctl)\n",
    "\n",
    "# CSP Subarray admin mode\n",
    "# print(f\"  CSP Subarray: {csp_subarray.adminMode}\")\n",
    "csp_sub = widgets.Valid(\n",
    "    value=not csp_subarray.adminMode,\n",
    "    description=\"CSP Subarray online\",\n",
    "    layout=widgets.Layout(width='60%'),\n",
    "    style = {'description_width': 'initial'}\n",
    ")\n",
    "display(csp_sub)\n",
    "\n",
    "# CBF Controller admin mode\n",
    "# print(f\"  CBF Controller: {cbf_controller.adminMode}\")\n",
    "cbf_ctl = widgets.Valid(\n",
    "    value=not cbf_controller.adminMode,\n",
    "    description=\"CBF Controller online\",\n",
    "    layout=widgets.Layout(width='60%'),\n",
    "    style = {'description_width': 'initial'}\n",
    ")\n",
    "display(cbf_ctl)\n",
    "\n",
    "# CBF Subarray\n",
    "# print(f\"  CBF Subarray: {cbf_subarray.adminMode}\")\n",
    "cbf_sub = widgets.Valid(\n",
    "    value=not cbf_subarray.adminMode,\n",
    "    description=\"CBF Subarray online\",\n",
    "    layout=widgets.Layout(width='60%'),\n",
    "    style = {'description_width': 'initial'}\n",
    ")\n",
    "display(cbf_sub)\n",
    "\n",
    "# Set CBF Simulation mode to false and CBF timeout to 99s\n",
    "csp_control.cbfSimulationMode = 0\n",
    "csp_control.commandTimeout = 99\n",
    "\n",
    "time.sleep(2)\n",
    "# print(\"\\nChecking CBF Simulation Mode and CBF Timeout:\")\n",
    "\n",
    "# CBF Simulation Mode\n",
    "# print(f\"  CBF Simulation Mode: {bool(csp_control.cbfSimulationMode)}\")\n",
    "cbf_sim = widgets.Valid(\n",
    "    value=bool(csp_control.cbfSimulationMode),\n",
    "    description=\"CBF Simulation Mode\",\n",
    "    layout=widgets.Layout(width='60%'),\n",
    "    style = {'description_width': 'initial'}\n",
    ")\n",
    "display(cbf_sim)\n",
    "\n",
    "# CBF Timeout\n",
    "# print(f\"  CBF Timeout: {csp_control.commandTimeout} sec\")\n",
    "cbf_tim = widgets.IntSlider(\n",
    "    value=csp_control.commandTimeout,\n",
    "    min=0,\n",
    "    max=180,\n",
    "    step=1,\n",
    "    description='CBF Timeout',\n",
    "    disabled=False,\n",
    "    continuous_update=False,\n",
    "    orientation='horizontal',\n",
    "    readout=True,\n",
    "    readout_format='d'\n",
    ")\n",
    "display(cbf_tim)"
   ]
  },
  {
   "cell_type": "markdown",
   "id": "53219267",
   "metadata": {},
   "source": [
    "## Load the Dish Vcc Config / Init Sys Params"
   ]
  },
  {
   "cell_type": "code",
   "execution_count": null,
   "id": "83b03826",
   "metadata": {
    "scrolled": true
   },
   "outputs": [],
   "source": [
    "# Load the Dish Vcc Config / Init Sys Params\n",
    "from IPython.display import JSON\n",
    "csp_control.commandTimeout = cbf_tim.value\n",
    "\n",
    "with open(DISH_CONFIG_FILE, encoding=\"utf-8\") as f:\n",
    "    dish_config_json = json.load(f)\n",
    "\n",
    "dish_config_json[\"tm_data_sources\"][0] = \"car://gitlab.com/ska-telescope/ska-telmodel-data?0.1.0-rc-mid-itf#tmdata\"\n",
    "dish_config_json[\"tm_data_filepath\"] = \"instrument/ska1_mid_itf/ska-mid-cbf-system-parameters.json\"\n",
    "print(f\"Dish config json file contents: \\n{dish_config_json}\")\n",
    "\n",
    "nmax = 2\n",
    "cfgp = widgets.IntProgress(\n",
    "    value=0,\n",
    "    min=0,\n",
    "    max=nmax,\n",
    "    description='Loading:',\n",
    "    bar_style='', # 'success', 'info', 'warning', 'danger' or ''\n",
    "    style={'bar_color': 'maroon'},\n",
    "    orientation='horizontal'\n",
    ")\n",
    "display(cfgp)\n",
    "\n",
    "# NOTE: RUN TWICE\n",
    "for n in range(1, nmax+1):\n",
    "    cfgp.value = n\n",
    "    # print(f\"\\nLoad dish configuration {n}\")\n",
    "    tmc_central_node.LoadDishCfg(json.dumps(dish_config_json))\n",
    "    time.sleep(2)\n",
    "\n",
    "tmc_csp_dish_vcc = json.loads(tmc_csp_master.dishVccConfig)\n",
    "# print(f\"TMC CSP Master's Dish Vcc Config attribute value: \\n\"\n",
    "# \"{json.dumps(tmc_csp_master.dishVccConfig, indent=4)}\")\n",
    "print(f'TMC CSP Master Dish Vcc Config interface\\n{tmc_csp_dish_vcc[\"interface\"]}')\n",
    "# json.dumps(tmc_csp_master.dishVccConfig, indent=4)\n",
    "# cfgj = JSON(json.loads(tmc_csp_master.dishVccConfig), expanded=True)\n",
    "# display(cfgj)\n",
    "\n",
    "tmc_csp_src_vcc = json.loads(tmc_csp_master.sourceDishVccConfig)\n",
    "# print(f\"TMC CSP Master's Source Dish Vcc Config attribute value: \\n\"\n",
    "# \"{tmc_csp_master.sourceDishVccConfig}\")\n",
    "print(f\"TMC CSP Master's Source Dish Vcc Config interface\\n{tmc_csp_src_vcc[\"interface\"]}')\n"
   ]
  },
  {
   "cell_type": "markdown",
   "id": "696fd41a",
   "metadata": {},
   "source": [
    "## Turn the Telescope On"
   ]
  },
  {
   "cell_type": "markdown",
   "id": "e7841f8e",
   "metadata": {},
   "source": [
    "### Run the Telescope On command"
   ]
  },
  {
   "cell_type": "code",
   "execution_count": null,
   "id": "4cfa6e8a",
   "metadata": {},
   "outputs": [],
   "source": [
    "# Turn the Telescope On\n",
    "import tango\n",
    "\n",
    "print(\"Running the TelescopeOn command\")\n",
    "try:\n",
    "    tmc_central_node.TelescopeOn()\n",
    "except tango.DevFailed as t_err:\n",
    "    err_msg: str = t_err.args[0].desc.strip()\n",
    "    print(f\"Could not run command: {err_msg}\")\n",
    "print(\"Ready\")"
   ]
  },
  {
   "cell_type": "markdown",
   "id": "a1d36405",
   "metadata": {},
   "source": [
    "### Check if telescope is on"
   ]
  },
  {
   "cell_type": "code",
   "execution_count": null,
   "id": "5c8b83e7",
   "metadata": {
    "scrolled": true
   },
   "outputs": [],
   "source": [
    "# Check if telescope is on\n",
    "p = widgets.IntProgress(\n",
    "    value=0,\n",
    "    min=0,\n",
    "    max=100,\n",
    "    description='Loading:',\n",
    "    bar_style='', # 'success', 'info', 'warning', 'danger' or ''\n",
    "    style={'bar_color': 'maroon'},\n",
    "    orientation='horizontal'\n",
    ")\n",
    "display(p)\n",
    "n = 0\n",
    "while int(tmc_central_node.telescopeState) != 0:\n",
    "    # print(\"Waiting for Telescope to come ON\")\n",
    "    n += 1\n",
    "    p.value = n\n",
    "    if n >= 100:\n",
    "        break\n",
    "    try:\n",
    "        time.sleep(3)\n",
    "    except KeyboardInterrupt:\n",
    "        print(\"Abort\")\n",
    "        break\n",
    "    \n",
    "if int(tmc_central_node.telescopeState) == 0:\n",
    "    print(\"Telecope is ON\")\n",
    "else:\n",
    "    print(\"Telecope is not ON\")"
   ]
  },
  {
   "cell_type": "markdown",
   "id": "acf29c6b",
   "metadata": {},
   "source": [
    "## Assign Resources"
   ]
  },
  {
   "cell_type": "code",
   "execution_count": null,
   "id": "17f0e85e",
   "metadata": {},
   "outputs": [],
   "source": [
    "# Assign Resources\n",
    "if int(tmc_central_node.telescopeState) == 0:\n",
    "    print(\"Telecope is ON\")\n",
    "else:\n",
    "    print(\"Telecope is not ON\")\n",
    "\n",
    "print(f\"SDP subarray is {sdp_subarray.state()}\")\n",
    "\n",
    "time.sleep(3)\n",
    "\n",
    "print(\n",
    "    \"Running the AssignResources command: subarray obsstate should go to Idle and receptor IDs should be assigned\"\n",
    ")\n",
    "\n",
    "with open(ASSIGN_RESOURCES_FILE, encoding=\"utf-8\") as f:\n",
    "    assign_resources_json = json.load(f)\n",
    "    assign_resources_json[\"dish\"][\"receptor_ids\"] = RECEPTORS\n",
    "    assign_resources_json[\"sdp\"][\"resources\"][\"receptors\"] = RECEPTORS\n",
    "\n",
    "\n",
    "print(f\"\\nassign_resources_json file contents: \\n{assign_resources_json}\")\n",
    "\n",
    "tmc_subarray.AssignResources(json.dumps(assign_resources_json))\n",
    "\n",
    "time.sleep(2)\n",
    "print(f\"\\nCBF Subarray Observation State: {tmc_subarray.obsState}\")\n",
    "print(f\"CBF Subarray Receptors : {cbf_subarray.receptors}\")"
   ]
  },
  {
   "cell_type": "markdown",
   "id": "de3991bf",
   "metadata": {},
   "source": [
    "## Deploy dishes"
   ]
  },
  {
   "cell_type": "code",
   "execution_count": null,
   "id": "0546542b",
   "metadata": {},
   "outputs": [],
   "source": [
    "from astropy.time import Time\n",
    "from tango import DeviceProxy\n",
    "\n",
    "dish_deployments = [f\"tango://tango-databaseds.{SKA001_NAMESPACE}.svc.miditf.internal.skao.int:10000/mid-dish/dish-manager/SKA001\", \n",
    "                    f\"tango://tango-databaseds.{SKA036_NAMESPACE}.svc.miditf.internal.skao.int:10000/mid-dish/dish-manager/SKA036\"]\n",
    "\n",
    "\n",
    "def get_tai_from_unix_s(unix_s: float) -> float:\n",
    "    \"\"\"\n",
    "    Calculate atomic time in seconds from unix time in seconds.\n",
    "\n",
    "    :param unix_s: Unix time in seconds\n",
    "\n",
    "    :return: atomic time (tai) in seconds\n",
    "    \"\"\"\n",
    "    astropy_time_utc = Time(unix_s, format=\"unix\")\n",
    "    return astropy_time_utc.unix_tai\n",
    "\n",
    "\n",
    "for dish in dish_deployments:\n",
    "    dish_manager_proxy = DeviceProxy(dish)\n",
    "    current_pointing = dish_manager_proxy.achievedPointing\n",
    "    current_az = current_pointing[1]\n",
    "    current_el = current_pointing[2]\n",
    "\n",
    "    current_time_tai_s = get_tai_from_unix_s(time.time() + 120)\n",
    "\n",
    "    # Directions to move values\n",
    "    az_dir = 1 if current_az < 350 else -1\n",
    "    el_dir = 1 if current_el < 80 else -1\n",
    "\n",
    "    track_table = [\n",
    "        current_time_tai_s + 3,\n",
    "        current_az + 1 * az_dir,\n",
    "        current_el + 1 * el_dir,\n",
    "        current_time_tai_s + 5,\n",
    "        current_az + 2 * az_dir,\n",
    "        current_el + 2 * el_dir,\n",
    "        current_time_tai_s + 7,\n",
    "        current_az + 3 * az_dir,\n",
    "        current_el + 3 * el_dir,\n",
    "        current_time_tai_s + 9,\n",
    "        current_az + 4 * az_dir,\n",
    "        current_el + 4 * el_dir,\n",
    "        current_time_tai_s + 11,\n",
    "        current_az + 5 * az_dir,\n",
    "        current_el + 5 * el_dir,\n",
    "    ]\n",
    "\n",
    "    dish_manager_proxy.programTrackTable = track_table"
   ]
  },
  {
   "cell_type": "markdown",
   "id": "4ec206a1",
   "metadata": {},
   "source": [
    "## Start Scan"
   ]
  },
  {
   "cell_type": "markdown",
   "id": "0e04d6ac",
   "metadata": {},
   "source": [
    "### Configure Scan"
   ]
  },
  {
   "cell_type": "code",
   "execution_count": null,
   "id": "fd32216c",
   "metadata": {},
   "outputs": [],
   "source": [
    "# Configure Scan\n",
    "print(\"Running the Configure command: subarray obsstate should go to Ready\")\n",
    "\n",
    "with open(CONFIGURE_SCAN_FILE, encoding=\"utf-8\") as f:\n",
    "    configure_scan_json = json.load(f)\n",
    "\n",
    "print(f\"\\nconfigure_scan_json file contents: \\n{configure_scan_json}\")\n",
    "\n",
    "print(json.dumps(configure_scan_json))\n",
    "\n",
    "tmc_subarray.Configure(json.dumps(configure_scan_json))\n",
    "    \n",
    "time.sleep(12)\n",
    "print(f\"SDP Subarray Observation State: {sdp_subarray_leaf_node_dp.sdpSubarrayObsState}\")\n",
    "print(f\"CSP Subarray Observation State: {csp_subarray_leaf_node_dp.cspSubarrayObsState}\")"
   ]
  },
  {
   "cell_type": "markdown",
   "id": "01442e4a",
   "metadata": {},
   "source": [
    "### Start scan"
   ]
  },
  {
   "cell_type": "code",
   "execution_count": null,
   "id": "f8e83361",
   "metadata": {},
   "outputs": [],
   "source": [
    "# TMC LEAF NODE HACK TO GET AROUND TMC SUBARRAY STUCK IN CONFIGURING\n",
    "with open(\"../../data/mid_telescope/tmc/scan.json\", \"r\", encoding=\"utf-8\") as json_data:\n",
    "    d = json.load(json_data)\n",
    "    sdp_scan = d[\"sdp\"]\n",
    "    print(sdp_scan)\n",
    "    sdp_subarray_leaf_node_dp.scan(json.dumps(sdp_scan))\n",
    "\n",
    "sleep(10)\n",
    "print(sdp_subarray_leaf_node_dp.sdpSubarrayObsState)\n",
    "\n",
    "with open(\"../../data/mid_telescope/tmc/scan.json\", \"r\", encoding=\"utf-8\") as json_data:\n",
    "    d = json.load(json_data)\n",
    "    csp_scan = d[\"csp\"]\n",
    "    print(csp_scan)\n",
    "    csp_subarray_leaf_node_dp.scan(json.dumps(csp_scan))\n",
    "\n",
    "sleep(2)\n",
    "print(csp_subarray_leaf_node_dp.cspSubarrayObsState)"
   ]
  },
  {
   "cell_type": "markdown",
   "id": "4df244eb",
   "metadata": {},
   "source": [
    "### End scan"
   ]
  },
  {
   "cell_type": "code",
   "execution_count": null,
   "id": "45bbcda4",
   "metadata": {},
   "outputs": [],
   "source": [
    "# TMC LEAF NODE HACK TO GET AROUND TMC SUBARRAY STUCK IN CONFIGURING\n",
    "print(\"Running the End Scan command: subarray obsstate should go to Ready state\")\n",
    "\n",
    "sdp_subarray_leaf_node_dp.EndScan()\n",
    "sleep(2)\n",
    "csp_subarray_leaf_node_dp.EndScan()\n",
    "print(f\"SDP Subarray Observation State: {sdp_subarray_leaf_node_dp.sdpSubarrayObsState}\")\n",
    "print(f\"CSP Subarray Observation State: {csp_subarray_leaf_node_dp.cspSubarrayObsState}\")"
   ]
  },
  {
   "cell_type": "markdown",
   "id": "d7d8a784",
   "metadata": {},
   "source": [
    "## End"
   ]
  },
  {
   "cell_type": "markdown",
   "id": "8642c4a0",
   "metadata": {},
   "source": [
    "### Run the End command"
   ]
  },
  {
   "cell_type": "code",
   "execution_count": null,
   "id": "218fe54a",
   "metadata": {},
   "outputs": [],
   "source": [
    "# TMC LEAF NODE HACK TO GET AROUND TMC SUBARRAY STUCK IN CONFIGURING\n",
    "print(\"Running the End command: subarray obsstate should go to Idle state\")\n",
    "\n",
    "sdp_subarray_leaf_node_dp.End()\n",
    "sleep(2)\n",
    "csp_subarray_leaf_node_dp.End()\n",
    "\n",
    "sleep(2)\n",
    "print(f\"SDP Subarray Observation State: {sdp_subarray_leaf_node_dp.sdpSubarrayObsState}\")\n",
    "print(f\"CSP Subarray Observation State: {csp_subarray_leaf_node_dp.cspSubarrayObsState}\")"
   ]
  },
  {
   "cell_type": "markdown",
   "id": "1cf32345",
   "metadata": {},
   "source": [
    "### Release All Resources"
   ]
  },
  {
   "cell_type": "code",
   "execution_count": null,
   "id": "497836e3",
   "metadata": {},
   "outputs": [],
   "source": [
    "# TMC LEAF NODE HACK TO GET AROUND TMC SUBARRAY STUCK IN CONFIGURING\n",
    "print(\n",
    "    \"Running the Release All Resources command: subarray obsstate should go to Empty state and receptor IDs should be empty\"\n",
    ")\n",
    "\n",
    "sdp_subarray_leaf_node_dp.ReleaseAllResources()\n",
    "sleep(2)\n",
    "csp_subarray_leaf_node_dp.ReleaseAllResources()\n",
    "\n",
    "sleep(2)\n",
    "print(f\"SDP Subarray Observation State: {sdp_subarray_leaf_node_dp.sdpSubarrayObsState}\")\n",
    "print(f\"CSP Subarray Observation State: {csp_subarray_leaf_node_dp.cspSubarrayObsState}\")"
   ]
  },
  {
   "cell_type": "markdown",
   "id": "e17d83b6",
   "metadata": {},
   "source": [
    "### Run the Telescope Off command"
   ]
  },
  {
   "cell_type": "code",
   "execution_count": null,
   "id": "4427e798",
   "metadata": {},
   "outputs": [],
   "source": [
    "# Telescope Off\n",
    "print(\"Running the TelescopeOff command\")\n",
    "\n",
    "tmc_central_node.TelescopeOff()\n",
    "\n",
    "sleep(5)\n",
    "print(f\"TMC Central Node State: {tmc_central_node.State()}\")\n",
    "print(f\"CSP Control State: {csp_control.State()}\")\n",
    "print(f\"CBF Controller State: {cbf_controller.State()}\")"
   ]
  }
 ],
 "metadata": {
  "celltoolbar": "Edit Metadata",
  "kernelspec": {
   "display_name": "Python 3 (ipykernel)",
   "language": "python",
   "name": "python3"
  },
  "language_info": {
   "codemirror_mode": {
    "name": "ipython",
    "version": 3
   },
   "file_extension": ".py",
   "mimetype": "text/x-python",
   "name": "python",
   "nbconvert_exporter": "python",
   "pygments_lexer": "ipython3",
   "version": "3.10.12"
  }
 },
 "nbformat": 4,
 "nbformat_minor": 5
}
