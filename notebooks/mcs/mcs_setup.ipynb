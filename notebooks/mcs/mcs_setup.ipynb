{
 "cells": [
  {
   "cell_type": "markdown",
   "metadata": {},
   "source": [
    "# Notebook for Manual MCS Setup\n",
    "- Note: NAMESPACE and target_board variables must be updated before proceeding with your work."
   ]
  },
  {
   "cell_type": "code",
   "execution_count": 2,
   "metadata": {},
   "outputs": [
    {
     "name": "stdout",
     "output_type": "stream",
     "text": [
      "Setting up parameters\n",
      "\n",
      "You can monitor board status using: https://142.73.34.170/ci-ska-mid-cbf-system-tests-1349266288-ackyzrxu/taranta/dashboard?id=65e7b6f7b72ec70018cdb16a&mode=run\n"
     ]
    }
   ],
   "source": [
    "import os\n",
    "import json\n",
    "from time import sleep\n",
    "import tango\n",
    "from PyTango import Database, DeviceProxy\n",
    "\n",
    "print(\"Setting up parameters\\n\")\n",
    "\n",
    "NAMESPACE = \"ci-ska-mid-cbf-system-tests-1349266288-ackyzrxu\"\n",
    "\n",
    "TANGO_HOST = f\"databaseds-tango-base.{NAMESPACE}.svc.cluster.local:10000\"\n",
    "os.environ[\"TANGO_HOST\"] = TANGO_HOST\n",
    "\n",
    "# Config files set up\n",
    "DATA_DIR = \"../../data\"\n",
    "\n",
    "# MCS/Talon setup\n",
    "target_board = [1,2,3,4,5,6,7,8]\n",
    "COMMON_CONFIG_FOLDER = os.path.join(DATA_DIR, \"mid_telescope/cbf\")\n",
    "HW_CONFIG_FOLDER = os.path.join(COMMON_CONFIG_FOLDER, \"hw_config\")\n",
    "INIT_SYS_PARAM_FILE = os.path.join(COMMON_CONFIG_FOLDER, \"sys_params/initial_system_param.json\")\n",
    "TARGET_MAC_ADDRESS = \"08:c0:eb:9d:47:78\"\n",
    "url = \"https://142.73.34.170/\" + NAMESPACE + \"/taranta/dashboard?id=65e7b6f7b72ec70018cdb16a&mode=run\"\n",
    "print(\n",
    "    \"You can monitor board status using: https://142.73.34.170/{}/taranta/dashboard?id=65e7b6f7b72ec70018cdb16a&mode=run\".format(\n",
    "        NAMESPACE\n",
    "    )\n",
    ")"
   ]
  },
  {
   "cell_type": "markdown",
   "metadata": {},
   "source": [
    "### MCS Deployer Setup"
   ]
  },
  {
   "cell_type": "code",
   "execution_count": null,
   "metadata": {},
   "outputs": [],
   "source": [
    "db = Database()\n",
    "\n",
    "deployer_tango = DeviceProxy(\"mid_csp_cbf/ec/deployer\")\n",
    "# Check the devices initially deployed to the database\n",
    "print(*db.get_device_exported(\"*\").value_string, sep=\"\\n\")\n",
    "# Make sure the deployer device is set to ON\n",
    "deployer_tango.On()\n",
    "print(deployer_tango.state())\n",
    "\n",
    "if any(i > 4 for i in target_board):\n",
    "    print(\"Using swap for higher number talons\")\n",
    "    config = \"hw_config_swap_psi.yaml\"\n",
    "    print(\"Modifying target to use lower nums to match swap file\")\n",
    "    target_board = list(map(lambda x: x - 4, target_board))\n",
    "else:\n",
    "    print(\"Using standard HW config\")\n",
    "    config = \"hw_config_psi.yaml\"\n",
    "\n",
    "HW_CONFIG_FILE = os.path.join(HW_CONFIG_FOLDER, config)\n",
    "if os.path.isfile(HW_CONFIG_FILE):\n",
    "    print(\"HW config: ✔️\")\n",
    "else:\n",
    "    print(\"hw config: ❌\")"
   ]
  },
  {
   "cell_type": "code",
   "execution_count": null,
   "metadata": {},
   "outputs": [],
   "source": [
    "!kubectl cp $HW_CONFIG_FILE $NAMESPACE/ds-cbfcontroller-controller-0:/app/mnt/hw_config/hw_config.yaml"
   ]
  },
  {
   "cell_type": "code",
   "execution_count": null,
   "metadata": {},
   "outputs": [],
   "source": [
    "deployer_tango.targetTalons = target_board\n",
    "print(deployer_tango.targetTalons)"
   ]
  },
  {
   "cell_type": "code",
   "execution_count": null,
   "metadata": {},
   "outputs": [],
   "source": [
    "deployer_tango.generate_config_jsons()"
   ]
  },
  {
   "cell_type": "code",
   "execution_count": null,
   "metadata": {},
   "outputs": [],
   "source": [
    "deployer_tango.set_timeout_millis(200000)\n",
    "try:\n",
    "    deployer_tango.download_artifacts()\n",
    "except tango.DevFailed as e:\n",
    "    print(e)\n",
    "    print(\n",
    "        \"Timed out, this is likely due to the download taking some time. Check the logs with the code space below after some time to see if it passes.\"\n",
    "    )\n",
    "deployer_tango.set_timeout_millis(4500)"
   ]
  },
  {
   "cell_type": "code",
   "execution_count": null,
   "metadata": {},
   "outputs": [],
   "source": [
    "deployer_tango.configure_db()"
   ]
  },
  {
   "cell_type": "markdown",
   "metadata": {},
   "source": [
    "## Turning MCS On"
   ]
  },
  {
   "cell_type": "code",
   "execution_count": null,
   "metadata": {},
   "outputs": [],
   "source": [
    "control_tango = DeviceProxy(\"mid-csp/control/0\")\n",
    "print(control_tango.status())\n",
    "subarray_tango = DeviceProxy(\"mid-csp/subarray/01\")\n",
    "print(subarray_tango.status())\n",
    "CBF_tango = DeviceProxy(\"mid_csp_cbf/sub_elt/controller\")\n",
    "print(CBF_tango.status())"
   ]
  },
  {
   "cell_type": "code",
   "execution_count": null,
   "metadata": {},
   "outputs": [],
   "source": [
    "# Set relevant values on the mid-csp controller\n",
    "control_tango.adminMode = 0\n",
    "sleep(1)\n",
    "control_tango.write_attribute(\"cbfSimulationMode\", 0)\n",
    "control_tango.cbfSimulationMode = 0\n",
    "\n",
    "if (\n",
    "    control_tango.read_attribute(\"adminMode\").value == 0\n",
    "    and control_tango.read_attribute(\"cbfSimulationMode\").value == 0\n",
    "):\n",
    "    print(\"Set values successfully!\")\n",
    "elif (\n",
    "    control_tango.read_attribute(\"adminMode\").value == 0\n",
    "    and control_tango.read_attribute(\"cbfSimulationMode\").value == 1\n",
    "):\n",
    "    print(\"Set to simulation mode on.\")\n",
    "else:\n",
    "    print(\"Error, couldn't set values!\")"
   ]
  },
  {
   "cell_type": "code",
   "execution_count": null,
   "metadata": {},
   "outputs": [],
   "source": [
    "with open(INIT_SYS_PARAM_FILE, encoding=\"utf-8\") as init_file:\n",
    "    data = json.load(init_file)\n",
    "print(json.dumps(data))"
   ]
  },
  {
   "cell_type": "code",
   "execution_count": null,
   "metadata": {},
   "outputs": [],
   "source": [
    "upload_result = CBF_tango.InitSysParam(json.dumps(data))\n",
    "print(upload_result[1])\n",
    "print(CBF_tango.sysParam)"
   ]
  },
  {
   "cell_type": "code",
   "execution_count": null,
   "metadata": {},
   "outputs": [],
   "source": [
    "print(control_tango.status())\n",
    "control_tango.set_timeout_millis(50000)\n",
    "target = [\"mid_csp_cbf/sub_elt/controller\"]\n",
    "control_tango.On(target)\n",
    "sleep(55)\n",
    "print(control_tango.status())"
   ]
  },
  {
   "cell_type": "code",
   "execution_count": null,
   "metadata": {},
   "outputs": [],
   "source": [
    "print(control_tango.status())"
   ]
  },
  {
   "cell_type": "markdown",
   "metadata": {},
   "source": [
    "## Bite"
   ]
  },
  {
   "cell_type": "code",
   "execution_count": null,
   "metadata": {},
   "outputs": [],
   "source": [
    "bite_tango = DeviceProxy(\"mid_csp_cbf/ec/bite\")\n",
    "# Running this should return RUNNING\n",
    "print(bite_tango.State())"
   ]
  },
  {
   "cell_type": "code",
   "execution_count": null,
   "metadata": {},
   "outputs": [],
   "source": [
    "bite_tango.boards = target_board\n",
    "bite_tango.bite_mac_address = TARGET_MAC_ADDRESS"
   ]
  },
  {
   "cell_type": "code",
   "execution_count": null,
   "metadata": {},
   "outputs": [],
   "source": [
    "standin_board = target_board[0]\n",
    "print(standin_board)\n",
    "!kubectl exec -ti -n $NAMESPACE ec-bite -- python3 midcbf_bite.py --talon-bite-config --boards=$standin_board --bite_mac_address=$TARGET_MAC_ADDRESS"
   ]
  },
  {
   "cell_type": "code",
   "execution_count": null,
   "metadata": {},
   "outputs": [],
   "source": [
    "!kubectl -n $NAMESPACE logs ds-bite-bite-0 | grep generate_bite_data"
   ]
  },
  {
   "cell_type": "code",
   "execution_count": null,
   "metadata": {},
   "outputs": [],
   "source": [
    "bite_tango.start_lstv_replay()"
   ]
  },
  {
   "cell_type": "code",
   "execution_count": null,
   "metadata": {},
   "outputs": [],
   "source": [
    "!kubectl -n $NAMESPACE logs ds-bite-bite-0 | grep start_lstv_replay"
   ]
  }
 ],
 "metadata": {
  "kernelspec": {
   "display_name": "Python 3",
   "language": "python",
   "name": "python3"
  },
  "language_info": {
   "codemirror_mode": {
    "name": "ipython",
    "version": 3
   },
   "file_extension": ".py",
   "mimetype": "text/x-python",
   "name": "python",
   "nbconvert_exporter": "python",
   "pygments_lexer": "ipython3",
   "version": "3.10.14"
  }
 },
 "nbformat": 4,
 "nbformat_minor": 2
}
